{
 "cells": [
  {
   "cell_type": "code",
   "execution_count": 45,
   "metadata": {
    "collapsed": true
   },
   "outputs": [],
   "source": [
    "--Torch Playground"
   ]
  },
  {
   "cell_type": "code",
   "execution_count": 56,
   "metadata": {
    "collapsed": true
   },
   "outputs": [],
   "source": [
    "require 'torch'\n",
    "require 'paths'\n",
    "require 'math'\n",
    "require 'nn'\n",
    "require 'optim'\n",
    "require 'gnuplot'"
   ]
  },
  {
   "cell_type": "code",
   "execution_count": 57,
   "metadata": {
    "collapsed": true
   },
   "outputs": [],
   "source": [
    "--Load the datasets"
   ]
  },
  {
   "cell_type": "code",
   "execution_count": 121,
   "metadata": {
    "collapsed": true
   },
   "outputs": [],
   "source": [
    "mnist = {}\n",
    "mnist.path_remote = 'https://s3.amazonaws.com/torch7/data/mnist.t7.tgz'\n",
    "mnist.path_dataset = 'mnist.t7'\n",
    "--mnist.path_trainset = paths.concat(mnist.path_dataset,'train_32x32.t7')\n",
    "--mnist.path_testset = paths.concat(mnist.path_dataset,'test_32x32.t7')\n",
    "mnist.path_trainset = 'train_32x32.t7'\n",
    "mnist.path_testset  = 'test_32x32.t7'"
   ]
  },
  {
   "cell_type": "code",
   "execution_count": 122,
   "metadata": {
    "collapsed": false
   },
   "outputs": [
    {
     "data": {
      "text/plain": [
       "{\n",
       "  path_dataset : mnist.t7\n",
       "  path_remote : https://s3.amazonaws.com/torch7/data/mnist.t7.tgz\n",
       "  path_trainset : train_32x32.t7\n",
       "  path_testset : test_32x32.t7\n",
       "}\n"
      ]
     },
     "execution_count": 122,
     "metadata": {},
     "output_type": "execute_result"
    }
   ],
   "source": [
    "print(mnist)"
   ]
  },
  {
   "cell_type": "code",
   "execution_count": 123,
   "metadata": {
    "collapsed": true
   },
   "outputs": [],
   "source": [
    "function mnist.download()\n",
    "    if not paths.filep(mnist.path_trainset) or not paths.filep(mnist.path_testset) then\n",
    "        local remote = mnist.path_remote\n",
    "        local tar = paths.basename(remote)\n",
    "        os.execute('wget '..remote..';'..'tar xvf'..tar..';rm '..tar)\n",
    "    end\n",
    "end"
   ]
  },
  {
   "cell_type": "code",
   "execution_count": 129,
   "metadata": {
    "collapsed": true
   },
   "outputs": [],
   "source": [
    "function mnist.loadTrainSet(maxLoad, geometry)\n",
    "    return mnist.loadDataset(mnist.path_trainset, maxLoad, geometry)\n",
    "end"
   ]
  },
  {
   "cell_type": "code",
   "execution_count": 130,
   "metadata": {
    "collapsed": true
   },
   "outputs": [],
   "source": [
    "function mnist.loadTestSet(maxLoad, geometry)\n",
    "    return mnist.loadDataset(mnist.path_testset, maxLoad, geometry)\n",
    "end"
   ]
  },
  {
   "cell_type": "code",
   "execution_count": 131,
   "metadata": {
    "collapsed": false
   },
   "outputs": [
    {
     "data": {
      "text/plain": [
       "mnist.t7\t\n",
       "train_32x32.t7\t\n"
      ]
     },
     "execution_count": 131,
     "metadata": {},
     "output_type": "execute_result"
    },
    {
     "data": {
      "text/plain": [
       "<mnist> loading only8000examples\t\n",
       "<mnist> done\t\n"
      ]
     },
     "execution_count": 131,
     "metadata": {},
     "output_type": "execute_result"
    }
   ],
   "source": [
    "print(mnist.path_dataset)\n",
    "--local f = torch.load(fileName, 'ascii')\n",
    "--mnist.download()\n",
    "data = mnist.loadTrainSet(opt.train_size, {32,32})"
   ]
  },
  {
   "cell_type": "code",
   "execution_count": 143,
   "metadata": {
    "collapsed": false
   },
   "outputs": [
    {
     "data": {
      "text/plain": [
       "{\n",
       "  data : DoubleTensor - size: 8000x1x32x32\n",
       "  normalize : function: 0x4114d238\n",
       "  labels : ByteTensor - size: 8000\n",
       "  normalizeGlobal : function: 0x4114d2e0\n",
       "  size : function: 0x4114d300\n",
       "}\n"
      ]
     },
     "execution_count": 143,
     "metadata": {},
     "output_type": "execute_result"
    }
   ],
   "source": [
    "print(data)"
   ]
  },
  {
   "cell_type": "code",
   "execution_count": 132,
   "metadata": {
    "collapsed": false
   },
   "outputs": [],
   "source": [
    "function mnist.loadDataset(fileName, maxLoad)\n",
    "    --mnist.download()\n",
    "    \n",
    "    print(fileName)\n",
    "    local f = torch.load(fileName, 'ascii')\n",
    "    local data = f.data:type(torch.getdefaulttensortype())\n",
    "    local labels = f.labels\n",
    "    \n",
    "    local nExample = f.data:size(1)\n",
    "    if maxLoad and maxLoad > 0 and maxLoad < nExample then\n",
    "        nExample = maxLoad\n",
    "        print('<mnist> loading only' .. nExample .. 'examples')\n",
    "    end\n",
    "    data = data[{{1,nExample},{},{},{}}]\n",
    "    labels = labels[{{1,nExample}}]\n",
    "    print('<mnist> done')\n",
    "    \n",
    "    local dataset = {}\n",
    "    dataset.data = data\n",
    "    dataset.labels = labels\n",
    "    \n",
    "    function dataset:normalize(mean_, std_)\n",
    "        local mean = mean_ or data:view(data:size(1),-1):mean(1)\n",
    "        local std = std_ or data:view(data:size(1),-1):std(1,true)\n",
    "        for i=1,data:size(1) do\n",
    "            data[i]:add(-mean[1][i])\n",
    "            if std[1][i]>0 then\n",
    "                tensor:select(2,i):mul(1/std[1][i])\n",
    "            end\n",
    "        end\n",
    "        return mean, std\n",
    "    end\n",
    "    \n",
    "    function dataset:normalizeGlobal(mean_,std_)\n",
    "        local std = std_ or data:std()\n",
    "        local mean = mean_ or data:mean()\n",
    "        data:add(-mean)\n",
    "        data:mul(1/std)\n",
    "        return mean, std\n",
    "    end\n",
    "    \n",
    "    function dataset:size()\n",
    "        return nExample\n",
    "    end\n",
    "    \n",
    "    local labelvector = torch.zeros(10)\n",
    "    \n",
    "    setmetatable(dataset, {__index = function(self, index)\n",
    "                            local input = self.data[index]\n",
    "                            local class = self.labels[index]\n",
    "                            local label = labelvector:zero()\n",
    "                            label[class] = 1\n",
    "                            local example = {input, label}\n",
    "                                    return example\n",
    "            \n",
    "        end})\n",
    "    \n",
    "    return dataset\n",
    "end"
   ]
  },
  {
   "cell_type": "code",
   "execution_count": 133,
   "metadata": {
    "collapsed": true
   },
   "outputs": [],
   "source": [
    "opt = {}  -- these options are used throughout\n",
    "opt.train_size = 8000 -- set to 0 or 60000 to use all 60000 training data\n",
    "opt.test_size = 0  --0 means load all data\n",
    "torch.manualSeed(1) -- fix random seed so program runs the same every time\n",
    "-- NOTE: see below for optimState, storing optimiser settings\n",
    "\n",
    "--mnist.download() --download dataset if not ready then"
   ]
  },
  {
   "cell_type": "code",
   "execution_count": 134,
   "metadata": {
    "collapsed": false
   },
   "outputs": [],
   "source": [
    "--loading and saving the binary and ascii files...\n",
    "\n",
    "--[[\n",
    "t = torch.Tensor(10)\n",
    "torch.save('test-binary.t7', t)\n",
    "t2 = torch.load('test-binary.t7')\n",
    "torch.save('test-ascii.t7', t, 'ascii')\n",
    "t3 = torch.load('test-ascii.t7', 'ascii')\n",
    "print(t:eq(t2):all())\n",
    "print(t:eq(t3):all())\n",
    "]]--"
   ]
  },
  {
   "cell_type": "code",
   "execution_count": 135,
   "metadata": {
    "collapsed": false
   },
   "outputs": [
    {
     "data": {
      "text/plain": [
       "8000\t\n"
      ]
     },
     "execution_count": 135,
     "metadata": {},
     "output_type": "execute_result"
    }
   ],
   "source": [
    "opt.train_size"
   ]
  },
  {
   "cell_type": "code",
   "execution_count": 136,
   "metadata": {
    "collapsed": false
   },
   "outputs": [
    {
     "data": {
      "text/plain": [
       "train_32x32.t7\t\n"
      ]
     },
     "execution_count": 136,
     "metadata": {},
     "output_type": "execute_result"
    },
    {
     "data": {
      "text/plain": [
       "<mnist> loading only8000examples\t\n",
       "<mnist> done\t\n"
      ]
     },
     "execution_count": 136,
     "metadata": {},
     "output_type": "execute_result"
    }
   ],
   "source": [
    "data = mnist.loadTrainSet(opt.train_size, {32,32})"
   ]
  },
  {
   "cell_type": "code",
   "execution_count": null,
   "metadata": {
    "collapsed": true
   },
   "outputs": [],
   "source": []
  },
  {
   "cell_type": "code",
   "execution_count": 137,
   "metadata": {
    "collapsed": false
   },
   "outputs": [
    {
     "data": {
      "text/plain": [
       "train_32x32.t7\t\n"
      ]
     },
     "execution_count": 137,
     "metadata": {},
     "output_type": "execute_result"
    },
    {
     "data": {
      "text/plain": [
       "<mnist> loading only8000examples\t\n",
       "<mnist> done\t\n"
      ]
     },
     "execution_count": 137,
     "metadata": {},
     "output_type": "execute_result"
    },
    {
     "data": {
      "text/plain": [
       "--------------------------------\t\n",
       " loaded dataset \"train\"\t\n",
       "inputs\t\n",
       " 8000\n",
       " 1024\n",
       "[torch.LongStorage of size 2]\n",
       "\n",
       "targets\t\n",
       " 8000\n",
       "[torch.LongStorage of size 1]\n",
       "\n",
       "--------------------------------\t\n",
       "test_32x32.t7\t\n"
      ]
     },
     "execution_count": 137,
     "metadata": {},
     "output_type": "execute_result"
    },
    {
     "data": {
      "text/plain": [
       "<mnist> done\t\n"
      ]
     },
     "execution_count": 137,
     "metadata": {},
     "output_type": "execute_result"
    },
    {
     "data": {
      "text/plain": [
       "--------------------------------\t\n",
       " loaded dataset \"test\"\t\n",
       "inputs\t\n",
       " 10000\n",
       "  1024\n",
       "[torch.LongStorage of size 2]\n",
       "\n",
       "targets\t\n",
       " 10000\n",
       "[torch.LongStorage of size 1]\n",
       "\n",
       "--------------------------------\t\n"
      ]
     },
     "execution_count": 137,
     "metadata": {},
     "output_type": "execute_result"
    }
   ],
   "source": [
    "--load dataset using dataset-mnist.lua into tensors(first dim of data/labels range over data)\n",
    "function load_dataset(train_or_test, count)\n",
    "    --load\n",
    "    local data\n",
    "    if train_or_test == 'train' then\n",
    "        data = mnist.loadTrainSet(count, {32,32})\n",
    "    else\n",
    "        data = mnist.loadTestSet(count,{32,32})\n",
    "    end\n",
    "    \n",
    "    --shuffle the dataset\n",
    "    local shuffled_indices = torch.randperm(data.data:size(1)):long()\n",
    "    --creates a shuffled *copy* with a new storage\n",
    "    data.data = data.data:index(1, shuffled_indices):squeeze()\n",
    "    data.labels = data.labels:index(1, shuffled_indices):squeeze()\n",
    "    -- TODO: (optional) UNCOMMENT to display a training example\n",
    "    -- for more, see torch gnuplot package documentation:\n",
    "    -- https://github.com/torch/gnuplot#plotting-package-manual-with-gnuplot\n",
    "    --gnuplot.imagesc(data.data[10])\n",
    "    \n",
    "    --vectorize each 2D data point into 1D\n",
    "    data.data = data.data:reshape(data.data:size(1),32*32)\n",
    "    \n",
    "    print('--------------------------------')\n",
    "    print(' loaded dataset \"' .. train_or_test .. '\"')\n",
    "    print('inputs', data.data:size())\n",
    "    print('targets', data.labels:size())\n",
    "    print('--------------------------------')\n",
    "    \n",
    "    return data\n",
    "end\n",
    "\n",
    "train = load_dataset('train', opt.train_size)\n",
    "test = load_dataset('test',opt.test_size)\n"
   ]
  },
  {
   "cell_type": "code",
   "execution_count": 144,
   "metadata": {
    "collapsed": false
   },
   "outputs": [
    {
     "data": {
      "text/plain": [
       "train_32x32.t7\t\n"
      ]
     },
     "execution_count": 144,
     "metadata": {},
     "output_type": "execute_result"
    },
    {
     "data": {
      "text/plain": [
       "<mnist> loading only8000examples\t\n",
       "<mnist> done\t\n"
      ]
     },
     "execution_count": 144,
     "metadata": {},
     "output_type": "execute_result"
    },
    {
     "data": {
      "text/plain": [
       "--------------------------------\t\n",
       " loaded dataset \"train\"\t\n",
       "inputs\t\n",
       " 8000\n",
       " 1024\n",
       "[torch.LongStorage of size 2]\n",
       "\n",
       "targets\t\n",
       " 8000\n",
       "[torch.LongStorage of size 1]\n",
       "\n",
       "--------------------------------\t\n",
       "test_32x32.t7\t\n"
      ]
     },
     "execution_count": 144,
     "metadata": {},
     "output_type": "execute_result"
    },
    {
     "data": {
      "text/plain": [
       "<mnist> done\t\n"
      ]
     },
     "execution_count": 144,
     "metadata": {},
     "output_type": "execute_result"
    },
    {
     "data": {
      "text/plain": [
       "--------------------------------\t\n",
       " loaded dataset \"test\"\t\n",
       "inputs\t\n",
       " 10000\n",
       "  1024\n",
       "[torch.LongStorage of size 2]\n",
       "\n",
       "targets\t\n",
       " 10000\n",
       "[torch.LongStorage of size 1]\n",
       "\n",
       "--------------------------------\t\n",
       "10\t\n",
       "1\t\n"
      ]
     },
     "execution_count": 144,
     "metadata": {},
     "output_type": "execute_result"
    },
    {
     "data": {
      "text/plain": [
       "minibatches processed:     10, loss = 57609.656127\t\n"
      ]
     },
     "execution_count": 144,
     "metadata": {},
     "output_type": "execute_result"
    },
    {
     "data": {
      "text/plain": [
       "minibatches processed:     20, loss = 55702.803815\t\n"
      ]
     },
     "execution_count": 144,
     "metadata": {},
     "output_type": "execute_result"
    },
    {
     "data": {
      "text/plain": [
       "minibatches processed:     30, loss = 0.000000\t\n"
      ]
     },
     "execution_count": 144,
     "metadata": {},
     "output_type": "execute_result"
    },
    {
     "data": {
      "text/plain": [
       "minibatches processed:     40, loss = 25026.281457\t\n"
      ]
     },
     "execution_count": 144,
     "metadata": {},
     "output_type": "execute_result"
    },
    {
     "data": {
      "text/plain": [
       "minibatches processed:     50, loss = 42458.275082\t\n"
      ]
     },
     "execution_count": 144,
     "metadata": {},
     "output_type": "execute_result"
    },
    {
     "data": {
      "text/plain": [
       "minibatches processed:     60, loss = 0.000000\t\n"
      ]
     },
     "execution_count": 144,
     "metadata": {},
     "output_type": "execute_result"
    },
    {
     "data": {
      "text/plain": [
       "minibatches processed:     70, loss = 0.000000\t\n"
      ]
     },
     "execution_count": 144,
     "metadata": {},
     "output_type": "execute_result"
    },
    {
     "data": {
      "text/plain": [
       "minibatches processed:     80, loss = 24558.815298\t\n"
      ]
     },
     "execution_count": 144,
     "metadata": {},
     "output_type": "execute_result"
    },
    {
     "data": {
      "text/plain": [
       "minibatches processed:     90, loss = 0.000000\t\n"
      ]
     },
     "execution_count": 144,
     "metadata": {},
     "output_type": "execute_result"
    },
    {
     "data": {
      "text/plain": [
       "minibatches processed:    100, loss = 0.000000\t\n"
      ]
     },
     "execution_count": 144,
     "metadata": {},
     "output_type": "execute_result"
    },
    {
     "data": {
      "text/plain": [
       "minibatches processed:    110, loss = 0.000000\t\n"
      ]
     },
     "execution_count": 144,
     "metadata": {},
     "output_type": "execute_result"
    },
    {
     "data": {
      "text/plain": [
       "minibatches processed:    120, loss = 0.000000\t\n"
      ]
     },
     "execution_count": 144,
     "metadata": {},
     "output_type": "execute_result"
    },
    {
     "data": {
      "text/plain": [
       "minibatches processed:    130, loss = 25348.896790\t\n"
      ]
     },
     "execution_count": 144,
     "metadata": {},
     "output_type": "execute_result"
    },
    {
     "data": {
      "text/plain": [
       "minibatches processed:    140, loss = 31095.743584\t\n"
      ]
     },
     "execution_count": 144,
     "metadata": {},
     "output_type": "execute_result"
    },
    {
     "data": {
      "text/plain": [
       "minibatches processed:    150, loss = 0.000000\t"
      ]
     },
     "execution_count": 144,
     "metadata": {},
     "output_type": "execute_result"
    },
    {
     "data": {
      "text/plain": [
       "\n"
      ]
     },
     "execution_count": 144,
     "metadata": {},
     "output_type": "execute_result"
    },
    {
     "data": {
      "text/plain": [
       "minibatches processed:    160, loss = 12942.254270\t\n"
      ]
     },
     "execution_count": 144,
     "metadata": {},
     "output_type": "execute_result"
    },
    {
     "data": {
      "text/plain": [
       "minibatches processed:    170, loss = 8921.078176\t\n"
      ]
     },
     "execution_count": 144,
     "metadata": {},
     "output_type": "execute_result"
    },
    {
     "data": {
      "text/plain": [
       "minibatches processed:    180, loss = 0.000000\t\n"
      ]
     },
     "execution_count": 144,
     "metadata": {},
     "output_type": "execute_result"
    },
    {
     "data": {
      "text/plain": [
       "minibatches processed:    190, loss = 0.000000\t\n"
      ]
     },
     "execution_count": 144,
     "metadata": {},
     "output_type": "execute_result"
    },
    {
     "data": {
      "text/plain": [
       "minibatches processed:    200, loss = 0.000000\t\n"
      ]
     },
     "execution_count": 144,
     "metadata": {},
     "output_type": "execute_result"
    },
    {
     "data": {
      "text/plain": [
       "minibatches processed:    210, loss = 32124.371742\t\n"
      ]
     },
     "execution_count": 144,
     "metadata": {},
     "output_type": "execute_result"
    },
    {
     "data": {
      "text/plain": [
       "minibatches processed:    220, loss = 19600.054754\t\n"
      ]
     },
     "execution_count": 144,
     "metadata": {},
     "output_type": "execute_result"
    },
    {
     "data": {
      "text/plain": [
       "minibatches processed:    230, loss = 20876.571383\t\n"
      ]
     },
     "execution_count": 144,
     "metadata": {},
     "output_type": "execute_result"
    },
    {
     "data": {
      "text/plain": [
       "minibatches processed:    240, loss = 19987.414842\t\n"
      ]
     },
     "execution_count": 144,
     "metadata": {},
     "output_type": "execute_result"
    },
    {
     "data": {
      "text/plain": [
       "minibatches processed:    250, loss = 0.000000\t\n"
      ]
     },
     "execution_count": 144,
     "metadata": {},
     "output_type": "execute_result"
    },
    {
     "data": {
      "text/plain": [
       "minibatches processed:    260, loss = 0.000000\t\n"
      ]
     },
     "execution_count": 144,
     "metadata": {},
     "output_type": "execute_result"
    },
    {
     "data": {
      "text/plain": [
       "minibatches processed:    270, loss = 0.000000\t\n"
      ]
     },
     "execution_count": 144,
     "metadata": {},
     "output_type": "execute_result"
    },
    {
     "data": {
      "text/plain": [
       "minibatches processed:    280, loss = 0.000000\t\n"
      ]
     },
     "execution_count": 144,
     "metadata": {},
     "output_type": "execute_result"
    },
    {
     "data": {
      "text/plain": [
       "minibatches processed:    290, loss = 0.000000\t\n"
      ]
     },
     "execution_count": 144,
     "metadata": {},
     "output_type": "execute_result"
    },
    {
     "data": {
      "text/plain": [
       "minibatches processed:    300, loss = 0.000000\t\n"
      ]
     },
     "execution_count": 144,
     "metadata": {},
     "output_type": "execute_result"
    },
    {
     "data": {
      "text/plain": [
       "minibatches processed:    310, loss = 11491.137054\t\n"
      ]
     },
     "execution_count": 144,
     "metadata": {},
     "output_type": "execute_result"
    },
    {
     "data": {
      "text/plain": [
       "minibatches processed:    320, loss = 0.000000\t\n"
      ]
     },
     "execution_count": 144,
     "metadata": {},
     "output_type": "execute_result"
    },
    {
     "data": {
      "text/plain": [
       "minibatches processed:    330, loss = 0.000000\t\n"
      ]
     },
     "execution_count": 144,
     "metadata": {},
     "output_type": "execute_result"
    },
    {
     "data": {
      "text/plain": [
       "minibatches processed:    340, loss = 15462.166236\t\n"
      ]
     },
     "execution_count": 144,
     "metadata": {},
     "output_type": "execute_result"
    },
    {
     "data": {
      "text/plain": [
       "minibatches processed:    350, loss = 39286.387939\t\n"
      ]
     },
     "execution_count": 144,
     "metadata": {},
     "output_type": "execute_result"
    },
    {
     "data": {
      "text/plain": [
       "minibatches processed:    360, loss = 45597.080953\t\n"
      ]
     },
     "execution_count": 144,
     "metadata": {},
     "output_type": "execute_result"
    },
    {
     "data": {
      "text/plain": [
       "minibatches processed:    370, loss = 6118.302586\t\n"
      ]
     },
     "execution_count": 144,
     "metadata": {},
     "output_type": "execute_result"
    },
    {
     "data": {
      "text/plain": [
       "minibatches processed:    380, loss = 17352.930569\t\n"
      ]
     },
     "execution_count": 144,
     "metadata": {},
     "output_type": "execute_result"
    },
    {
     "data": {
      "text/plain": [
       "minibatches processed:    390, loss = 0.000000\t\n"
      ]
     },
     "execution_count": 144,
     "metadata": {},
     "output_type": "execute_result"
    },
    {
     "data": {
      "text/plain": [
       "minibatches processed:    400, loss = 76428.665930\t\n"
      ]
     },
     "execution_count": 144,
     "metadata": {},
     "output_type": "execute_result"
    },
    {
     "data": {
      "text/plain": [
       "minibatches processed:    410, loss = 0.000000\t\n"
      ]
     },
     "execution_count": 144,
     "metadata": {},
     "output_type": "execute_result"
    },
    {
     "data": {
      "text/plain": [
       "minibatches processed:    420, loss = 566.188566\t\n"
      ]
     },
     "execution_count": 144,
     "metadata": {},
     "output_type": "execute_result"
    },
    {
     "data": {
      "text/plain": [
       "minibatches processed:    430, loss = 37185.178642\t\n"
      ]
     },
     "execution_count": 144,
     "metadata": {},
     "output_type": "execute_result"
    },
    {
     "data": {
      "text/plain": [
       "minibatches processed:    440, loss = 0.000000\t\n"
      ]
     },
     "execution_count": 144,
     "metadata": {},
     "output_type": "execute_result"
    },
    {
     "data": {
      "text/plain": [
       "minibatches processed:    450, loss = 24616.622998\t\n"
      ]
     },
     "execution_count": 144,
     "metadata": {},
     "output_type": "execute_result"
    },
    {
     "data": {
      "text/plain": [
       "minibatches processed:    460, loss = 0.000000\t\n"
      ]
     },
     "execution_count": 144,
     "metadata": {},
     "output_type": "execute_result"
    },
    {
     "data": {
      "text/plain": [
       "minibatches processed:    470, loss = 0.000000\t\n"
      ]
     },
     "execution_count": 144,
     "metadata": {},
     "output_type": "execute_result"
    },
    {
     "data": {
      "text/plain": [
       "minibatches processed:    480, loss = 0.000000\t\n"
      ]
     },
     "execution_count": 144,
     "metadata": {},
     "output_type": "execute_result"
    },
    {
     "data": {
      "text/plain": [
       "minibatches processed:    490, loss = 6258.552895\t\n"
      ]
     },
     "execution_count": 144,
     "metadata": {},
     "output_type": "execute_result"
    },
    {
     "data": {
      "text/plain": [
       "minibatches processed:    500, loss = 33346.640904\t\n"
      ]
     },
     "execution_count": 144,
     "metadata": {},
     "output_type": "execute_result"
    },
    {
     "data": {
      "text/plain": [
       "minibatches processed:    510, loss = 36286.794608\t\n"
      ]
     },
     "execution_count": 144,
     "metadata": {},
     "output_type": "execute_result"
    },
    {
     "data": {
      "text/plain": [
       "minibatches processed:    520, loss = 0.000000\t\n"
      ]
     },
     "execution_count": 144,
     "metadata": {},
     "output_type": "execute_result"
    },
    {
     "data": {
      "text/plain": [
       "minibatches processed:    530, loss = 4568.886333\t\n"
      ]
     },
     "execution_count": 144,
     "metadata": {},
     "output_type": "execute_result"
    },
    {
     "data": {
      "text/plain": [
       "minibatches processed:    540, loss = 0.000000\t\n"
      ]
     },
     "execution_count": 144,
     "metadata": {},
     "output_type": "execute_result"
    },
    {
     "data": {
      "text/plain": [
       "minibatches processed:    550, loss = 0.000000\t\n"
      ]
     },
     "execution_count": 144,
     "metadata": {},
     "output_type": "execute_result"
    },
    {
     "data": {
      "text/plain": [
       "minibatches processed:    560, loss = 15176.753626\t\n"
      ]
     },
     "execution_count": 144,
     "metadata": {},
     "output_type": "execute_result"
    },
    {
     "data": {
      "text/plain": [
       "minibatches processed:    570, loss = 15891.298715\t\n"
      ]
     },
     "execution_count": 144,
     "metadata": {},
     "output_type": "execute_result"
    },
    {
     "data": {
      "text/plain": [
       "minibatches processed:    580, loss = 0.000000\t\n"
      ]
     },
     "execution_count": 144,
     "metadata": {},
     "output_type": "execute_result"
    },
    {
     "data": {
      "text/plain": [
       "minibatches processed:    590, loss = 0.000000\t\n"
      ]
     },
     "execution_count": 144,
     "metadata": {},
     "output_type": "execute_result"
    },
    {
     "data": {
      "text/plain": [
       "minibatches processed:    600, loss = 23103.125479\t\n"
      ]
     },
     "execution_count": 144,
     "metadata": {},
     "output_type": "execute_result"
    },
    {
     "data": {
      "text/plain": [
       "minibatches processed:    610, loss = 0.000000\t\n"
      ]
     },
     "execution_count": 144,
     "metadata": {},
     "output_type": "execute_result"
    },
    {
     "data": {
      "text/plain": [
       "minibatches processed:    620, loss = 20807.418541\t\n"
      ]
     },
     "execution_count": 144,
     "metadata": {},
     "output_type": "execute_result"
    },
    {
     "data": {
      "text/plain": [
       "minibatches processed:    630, loss = 0.000000\t\n"
      ]
     },
     "execution_count": 144,
     "metadata": {},
     "output_type": "execute_result"
    },
    {
     "data": {
      "text/plain": [
       "minibatches processed:    640, loss = 14692.986171\t\n"
      ]
     },
     "execution_count": 144,
     "metadata": {},
     "output_type": "execute_result"
    },
    {
     "data": {
      "text/plain": [
       "minibatches processed:    650, loss = 0.000000\t\n"
      ]
     },
     "execution_count": 144,
     "metadata": {},
     "output_type": "execute_result"
    },
    {
     "data": {
      "text/plain": [
       "minibatches processed:    660, loss = 0.000000\t\n"
      ]
     },
     "execution_count": 144,
     "metadata": {},
     "output_type": "execute_result"
    },
    {
     "data": {
      "text/plain": [
       "minibatches processed:    670, loss = 12544.481058\t\n"
      ]
     },
     "execution_count": 144,
     "metadata": {},
     "output_type": "execute_result"
    },
    {
     "data": {
      "text/plain": [
       "minibatches processed:    680, loss = 0.000000\t\n"
      ]
     },
     "execution_count": 144,
     "metadata": {},
     "output_type": "execute_result"
    },
    {
     "data": {
      "text/plain": [
       "minibatches processed:    690, loss = 0.000000\t\n"
      ]
     },
     "execution_count": 144,
     "metadata": {},
     "output_type": "execute_result"
    },
    {
     "data": {
      "text/plain": [
       "minibatches processed:    700, loss = 33727.542757\t\n"
      ]
     },
     "execution_count": 144,
     "metadata": {},
     "output_type": "execute_result"
    },
    {
     "data": {
      "text/plain": [
       "minibatches processed:    710, loss = 33718.240726\t\n"
      ]
     },
     "execution_count": 144,
     "metadata": {},
     "output_type": "execute_result"
    },
    {
     "data": {
      "text/plain": [
       "minibatches processed:    720, loss = 0.000000\t\n"
      ]
     },
     "execution_count": 144,
     "metadata": {},
     "output_type": "execute_result"
    },
    {
     "data": {
      "text/plain": [
       "minibatches processed:    730, loss = 42458.226851\t\n"
      ]
     },
     "execution_count": 144,
     "metadata": {},
     "output_type": "execute_result"
    },
    {
     "data": {
      "text/plain": [
       "minibatches processed:    740, loss = 0.000000\t\n"
      ]
     },
     "execution_count": 144,
     "metadata": {},
     "output_type": "execute_result"
    },
    {
     "data": {
      "text/plain": [
       "minibatches processed:    750, loss = 23093.726211\t\n"
      ]
     },
     "execution_count": 144,
     "metadata": {},
     "output_type": "execute_result"
    },
    {
     "data": {
      "text/plain": [
       "minibatches processed:    760, loss = 0.000000\t\n"
      ]
     },
     "execution_count": 144,
     "metadata": {},
     "output_type": "execute_result"
    },
    {
     "data": {
      "text/plain": [
       "minibatches processed:    770, loss = 8049.546492\t\n"
      ]
     },
     "execution_count": 144,
     "metadata": {},
     "output_type": "execute_result"
    },
    {
     "data": {
      "text/plain": [
       "minibatches processed:    780, loss = 0.000000\t\n"
      ]
     },
     "execution_count": 144,
     "metadata": {},
     "output_type": "execute_result"
    },
    {
     "data": {
      "text/plain": [
       "minibatches processed:    790, loss = 0.000000\t\n"
      ]
     },
     "execution_count": 144,
     "metadata": {},
     "output_type": "execute_result"
    },
    {
     "data": {
      "text/plain": [
       "minibatches processed:    800, loss = 0.000000\t\n"
      ]
     },
     "execution_count": 144,
     "metadata": {},
     "output_type": "execute_result"
    },
    {
     "data": {
      "text/plain": [
       "minibatches processed:    810, loss = 0.000000\t\n"
      ]
     },
     "execution_count": 144,
     "metadata": {},
     "output_type": "execute_result"
    },
    {
     "data": {
      "text/plain": [
       "minibatches processed:    820, loss = 74674.507525\t\n"
      ]
     },
     "execution_count": 144,
     "metadata": {},
     "output_type": "execute_result"
    },
    {
     "data": {
      "text/plain": [
       "minibatches processed:    830, loss = 0.000000\t\n"
      ]
     },
     "execution_count": 144,
     "metadata": {},
     "output_type": "execute_result"
    },
    {
     "data": {
      "text/plain": [
       "minibatches processed:    840, loss = 0.000000\t\n"
      ]
     },
     "execution_count": 144,
     "metadata": {},
     "output_type": "execute_result"
    },
    {
     "data": {
      "text/plain": [
       "minibatches processed:    850, loss = 0.000000\t\n"
      ]
     },
     "execution_count": 144,
     "metadata": {},
     "output_type": "execute_result"
    },
    {
     "data": {
      "text/plain": [
       "minibatches processed:    860, loss = 0.000000\t\n"
      ]
     },
     "execution_count": 144,
     "metadata": {},
     "output_type": "execute_result"
    },
    {
     "data": {
      "text/plain": [
       "minibatches processed:    870, loss = 0.000000\t\n"
      ]
     },
     "execution_count": 144,
     "metadata": {},
     "output_type": "execute_result"
    },
    {
     "data": {
      "text/plain": [
       "minibatches processed:    880, loss = 0.000000\t\n"
      ]
     },
     "execution_count": 144,
     "metadata": {},
     "output_type": "execute_result"
    },
    {
     "data": {
      "text/plain": [
       "minibatches processed:    890, loss = 0.000000\t\n"
      ]
     },
     "execution_count": 144,
     "metadata": {},
     "output_type": "execute_result"
    },
    {
     "data": {
      "text/plain": [
       "minibatches processed:    900, loss = 12147.079115\t\n"
      ]
     },
     "execution_count": 144,
     "metadata": {},
     "output_type": "execute_result"
    },
    {
     "data": {
      "text/plain": [
       "minibatches processed:    910, loss = 0.000000\t\n"
      ]
     },
     "execution_count": 144,
     "metadata": {},
     "output_type": "execute_result"
    },
    {
     "data": {
      "text/plain": [
       "minibatches processed:    920, loss = 14005.389660\t\n"
      ]
     },
     "execution_count": 144,
     "metadata": {},
     "output_type": "execute_result"
    },
    {
     "data": {
      "text/plain": [
       "minibatches processed:    930, loss = 0.000000\t\n"
      ]
     },
     "execution_count": 144,
     "metadata": {},
     "output_type": "execute_result"
    },
    {
     "data": {
      "text/plain": [
       "minibatches processed:    940, loss = 0.000000\t\n"
      ]
     },
     "execution_count": 144,
     "metadata": {},
     "output_type": "execute_result"
    },
    {
     "data": {
      "text/plain": [
       "minibatches processed:    950, loss = 0.000000\t\n"
      ]
     },
     "execution_count": 144,
     "metadata": {},
     "output_type": "execute_result"
    },
    {
     "data": {
      "text/plain": [
       "minibatches processed:    960, loss = 7237.147755\t\n"
      ]
     },
     "execution_count": 144,
     "metadata": {},
     "output_type": "execute_result"
    },
    {
     "data": {
      "text/plain": [
       "minibatches processed:    970, loss = 0.000000\t\n"
      ]
     },
     "execution_count": 144,
     "metadata": {},
     "output_type": "execute_result"
    },
    {
     "data": {
      "text/plain": [
       "minibatches processed:    980, loss = 25343.181512\t\n"
      ]
     },
     "execution_count": 144,
     "metadata": {},
     "output_type": "execute_result"
    },
    {
     "data": {
      "text/plain": [
       "minibatches processed:    990, loss = 0.000000\t\n"
      ]
     },
     "execution_count": 144,
     "metadata": {},
     "output_type": "execute_result"
    },
    {
     "data": {
      "text/plain": [
       "minibatches processed:   1000, loss = 0.000000\t\n"
      ]
     },
     "execution_count": 144,
     "metadata": {},
     "output_type": "execute_result"
    },
    {
     "data": {
      "text/plain": [
       "minibatches processed:   1010, loss = 69842.875483\t\n"
      ]
     },
     "execution_count": 144,
     "metadata": {},
     "output_type": "execute_result"
    },
    {
     "data": {
      "text/plain": [
       "minibatches processed:   1020, loss = 41593.885563\t\n"
      ]
     },
     "execution_count": 144,
     "metadata": {},
     "output_type": "execute_result"
    },
    {
     "data": {
      "text/plain": [
       "minibatches processed:   1030, loss = 26530.334267\t\n"
      ]
     },
     "execution_count": 144,
     "metadata": {},
     "output_type": "execute_result"
    },
    {
     "data": {
      "text/plain": [
       "minibatches processed:   1040, loss = 7203.352332\t\n"
      ]
     },
     "execution_count": 144,
     "metadata": {},
     "output_type": "execute_result"
    },
    {
     "data": {
      "text/plain": [
       "minibatches processed:   1050, loss = 0.000000\t\n"
      ]
     },
     "execution_count": 144,
     "metadata": {},
     "output_type": "execute_result"
    },
    {
     "data": {
      "text/plain": [
       "minibatches processed:   1060, loss = 0.000000\t\n"
      ]
     },
     "execution_count": 144,
     "metadata": {},
     "output_type": "execute_result"
    },
    {
     "data": {
      "text/plain": [
       "minibatches processed:   1070, loss = 0.000000\t\n"
      ]
     },
     "execution_count": 144,
     "metadata": {},
     "output_type": "execute_result"
    },
    {
     "data": {
      "text/plain": [
       "minibatches processed:   1080, loss = 81598.837077\t\n"
      ]
     },
     "execution_count": 144,
     "metadata": {},
     "output_type": "execute_result"
    },
    {
     "data": {
      "text/plain": [
       "minibatches processed:   1090, loss = 0.000000\t\n"
      ]
     },
     "execution_count": 144,
     "metadata": {},
     "output_type": "execute_result"
    },
    {
     "data": {
      "text/plain": [
       "minibatches processed:   1100, loss = 59141.491318\t\n"
      ]
     },
     "execution_count": 144,
     "metadata": {},
     "output_type": "execute_result"
    },
    {
     "data": {
      "text/plain": [
       "minibatches processed:   1110, loss = 71678.318957\t\n"
      ]
     },
     "execution_count": 144,
     "metadata": {},
     "output_type": "execute_result"
    },
    {
     "data": {
      "text/plain": [
       "minibatches processed:   1120, loss = 0.000000\t\n"
      ]
     },
     "execution_count": 144,
     "metadata": {},
     "output_type": "execute_result"
    },
    {
     "data": {
      "text/plain": [
       "minibatches processed:   1130, loss = 35006.539949\t"
      ]
     },
     "execution_count": 144,
     "metadata": {},
     "output_type": "execute_result"
    },
    {
     "data": {
      "text/plain": [
       "\n"
      ]
     },
     "execution_count": 144,
     "metadata": {},
     "output_type": "execute_result"
    },
    {
     "data": {
      "text/plain": [
       "minibatches processed:   1140, loss = 0.000000\t\n"
      ]
     },
     "execution_count": 144,
     "metadata": {},
     "output_type": "execute_result"
    },
    {
     "data": {
      "text/plain": [
       "minibatches processed:   1150, loss = 0.000000\t\n"
      ]
     },
     "execution_count": 144,
     "metadata": {},
     "output_type": "execute_result"
    },
    {
     "data": {
      "text/plain": [
       "minibatches processed:   1160, loss = 15510.642644\t\n"
      ]
     },
     "execution_count": 144,
     "metadata": {},
     "output_type": "execute_result"
    },
    {
     "data": {
      "text/plain": [
       "minibatches processed:   1170, loss = 0.000000\t\n"
      ]
     },
     "execution_count": 144,
     "metadata": {},
     "output_type": "execute_result"
    },
    {
     "data": {
      "text/plain": [
       "minibatches processed:   1180, loss = 0.000000\t\n"
      ]
     },
     "execution_count": 144,
     "metadata": {},
     "output_type": "execute_result"
    },
    {
     "data": {
      "text/plain": [
       "minibatches processed:   1190, loss = 8413.911247\t\n"
      ]
     },
     "execution_count": 144,
     "metadata": {},
     "output_type": "execute_result"
    },
    {
     "data": {
      "text/plain": [
       "minibatches processed:   1200, loss = 0.000000\t\n"
      ]
     },
     "execution_count": 144,
     "metadata": {},
     "output_type": "execute_result"
    },
    {
     "data": {
      "text/plain": [
       "minibatches processed:   1210, loss = 63330.056656\t\n"
      ]
     },
     "execution_count": 144,
     "metadata": {},
     "output_type": "execute_result"
    },
    {
     "data": {
      "text/plain": [
       "minibatches processed:   1220, loss = 14317.580072\t\n"
      ]
     },
     "execution_count": 144,
     "metadata": {},
     "output_type": "execute_result"
    },
    {
     "data": {
      "text/plain": [
       "minibatches processed:   1230, loss = 0.000000\t\n"
      ]
     },
     "execution_count": 144,
     "metadata": {},
     "output_type": "execute_result"
    },
    {
     "data": {
      "text/plain": [
       "minibatches processed:   1240, loss = 24895.306234\t\n"
      ]
     },
     "execution_count": 144,
     "metadata": {},
     "output_type": "execute_result"
    },
    {
     "data": {
      "text/plain": [
       "minibatches processed:   1250, loss = 0.000000\t\n"
      ]
     },
     "execution_count": 144,
     "metadata": {},
     "output_type": "execute_result"
    },
    {
     "data": {
      "text/plain": [
       "minibatches processed:   1260, loss = 40769.427378\t\n"
      ]
     },
     "execution_count": 144,
     "metadata": {},
     "output_type": "execute_result"
    },
    {
     "data": {
      "text/plain": [
       "minibatches processed:   1270, loss = 0.000000\t\n"
      ]
     },
     "execution_count": 144,
     "metadata": {},
     "output_type": "execute_result"
    },
    {
     "data": {
      "text/plain": [
       "minibatches processed:   1280, loss = 9069.417888\t\n"
      ]
     },
     "execution_count": 144,
     "metadata": {},
     "output_type": "execute_result"
    },
    {
     "data": {
      "text/plain": [
       "minibatches processed:   1290, loss = 9624.811426\t\n"
      ]
     },
     "execution_count": 144,
     "metadata": {},
     "output_type": "execute_result"
    },
    {
     "data": {
      "text/plain": [
       "minibatches processed:   1300, loss = 5060.575786\t\n"
      ]
     },
     "execution_count": 144,
     "metadata": {},
     "output_type": "execute_result"
    },
    {
     "data": {
      "text/plain": [
       "minibatches processed:   1310, loss = 87942.763798\t\n"
      ]
     },
     "execution_count": 144,
     "metadata": {},
     "output_type": "execute_result"
    },
    {
     "data": {
      "text/plain": [
       "minibatches processed:   1320, loss = 0.000000\t\n"
      ]
     },
     "execution_count": 144,
     "metadata": {},
     "output_type": "execute_result"
    },
    {
     "data": {
      "text/plain": [
       "minibatches processed:   1330, loss = 43738.795403\t\n"
      ]
     },
     "execution_count": 144,
     "metadata": {},
     "output_type": "execute_result"
    },
    {
     "data": {
      "text/plain": [
       "minibatches processed:   1340, loss = 69381.606642\t\n"
      ]
     },
     "execution_count": 144,
     "metadata": {},
     "output_type": "execute_result"
    },
    {
     "data": {
      "text/plain": [
       "minibatches processed:   1350, loss = 0.000000\t\n"
      ]
     },
     "execution_count": 144,
     "metadata": {},
     "output_type": "execute_result"
    },
    {
     "data": {
      "text/plain": [
       "minibatches processed:   1360, loss = 0.000000\t\n"
      ]
     },
     "execution_count": 144,
     "metadata": {},
     "output_type": "execute_result"
    },
    {
     "data": {
      "text/plain": [
       "minibatches processed:   1370, loss = 0.000000\t\n"
      ]
     },
     "execution_count": 144,
     "metadata": {},
     "output_type": "execute_result"
    },
    {
     "data": {
      "text/plain": [
       "minibatches processed:   1380, loss = 7677.424607\t\n"
      ]
     },
     "execution_count": 144,
     "metadata": {},
     "output_type": "execute_result"
    },
    {
     "data": {
      "text/plain": [
       "minibatches processed:   1390, loss = 0.000000\t\n"
      ]
     },
     "execution_count": 144,
     "metadata": {},
     "output_type": "execute_result"
    },
    {
     "data": {
      "text/plain": [
       "minibatches processed:   1400, loss = 0.000000\t\n"
      ]
     },
     "execution_count": 144,
     "metadata": {},
     "output_type": "execute_result"
    },
    {
     "data": {
      "text/plain": [
       "minibatches processed:   1410, loss = 0.000000\t\n"
      ]
     },
     "execution_count": 144,
     "metadata": {},
     "output_type": "execute_result"
    },
    {
     "data": {
      "text/plain": [
       "minibatches processed:   1420, loss = 19431.371361\t\n"
      ]
     },
     "execution_count": 144,
     "metadata": {},
     "output_type": "execute_result"
    },
    {
     "data": {
      "text/plain": [
       "minibatches processed:   1430, loss = 0.000000\t\n"
      ]
     },
     "execution_count": 144,
     "metadata": {},
     "output_type": "execute_result"
    },
    {
     "data": {
      "text/plain": [
       "minibatches processed:   1440, loss = 91481.210008\t\n"
      ]
     },
     "execution_count": 144,
     "metadata": {},
     "output_type": "execute_result"
    },
    {
     "data": {
      "text/plain": [
       "minibatches processed:   1450, loss = 0.000000\t\n"
      ]
     },
     "execution_count": 144,
     "metadata": {},
     "output_type": "execute_result"
    },
    {
     "data": {
      "text/plain": [
       "minibatches processed:   1460, loss = 0.000000\t\n"
      ]
     },
     "execution_count": 144,
     "metadata": {},
     "output_type": "execute_result"
    },
    {
     "data": {
      "text/plain": [
       "minibatches processed:   1470, loss = 8436.928535\t\n"
      ]
     },
     "execution_count": 144,
     "metadata": {},
     "output_type": "execute_result"
    },
    {
     "data": {
      "text/plain": [
       "minibatches processed:   1480, loss = 9637.270092\t\n"
      ]
     },
     "execution_count": 144,
     "metadata": {},
     "output_type": "execute_result"
    },
    {
     "data": {
      "text/plain": [
       "minibatches processed:   1490, loss = 16157.767376\t\n"
      ]
     },
     "execution_count": 144,
     "metadata": {},
     "output_type": "execute_result"
    },
    {
     "data": {
      "text/plain": [
       "minibatches processed:   1500, loss = 0.000000\t\n"
      ]
     },
     "execution_count": 144,
     "metadata": {},
     "output_type": "execute_result"
    },
    {
     "data": {
      "text/plain": [
       "minibatches processed:   1510, loss = 0.000000\t\n"
      ]
     },
     "execution_count": 144,
     "metadata": {},
     "output_type": "execute_result"
    },
    {
     "data": {
      "text/plain": [
       "minibatches processed:   1520, loss = 142824.265167\t\n"
      ]
     },
     "execution_count": 144,
     "metadata": {},
     "output_type": "execute_result"
    },
    {
     "data": {
      "text/plain": [
       "minibatches processed:   1530, loss = 11283.922148\t\n"
      ]
     },
     "execution_count": 144,
     "metadata": {},
     "output_type": "execute_result"
    },
    {
     "data": {
      "text/plain": [
       "minibatches processed:   1540, loss = 103790.629697\t\n"
      ]
     },
     "execution_count": 144,
     "metadata": {},
     "output_type": "execute_result"
    },
    {
     "data": {
      "text/plain": [
       "minibatches processed:   1550, loss = 0.000000\t\n"
      ]
     },
     "execution_count": 144,
     "metadata": {},
     "output_type": "execute_result"
    },
    {
     "data": {
      "text/plain": [
       "minibatches processed:   1560, loss = 46759.938723\t\n"
      ]
     },
     "execution_count": 144,
     "metadata": {},
     "output_type": "execute_result"
    },
    {
     "data": {
      "text/plain": [
       "minibatches processed:   1570, loss = 3267.011897\t\n"
      ]
     },
     "execution_count": 144,
     "metadata": {},
     "output_type": "execute_result"
    },
    {
     "data": {
      "text/plain": [
       "minibatches processed:   1580, loss = 0.000000\t\n"
      ]
     },
     "execution_count": 144,
     "metadata": {},
     "output_type": "execute_result"
    },
    {
     "data": {
      "text/plain": [
       "minibatches processed:   1590, loss = 50419.523906\t\n"
      ]
     },
     "execution_count": 144,
     "metadata": {},
     "output_type": "execute_result"
    },
    {
     "data": {
      "text/plain": [
       "minibatches processed:   1600, loss = 9763.333595\t\n"
      ]
     },
     "execution_count": 144,
     "metadata": {},
     "output_type": "execute_result"
    },
    {
     "data": {
      "text/plain": [
       "minibatches processed:   1610, loss = 0.000000\t\n"
      ]
     },
     "execution_count": 144,
     "metadata": {},
     "output_type": "execute_result"
    },
    {
     "data": {
      "text/plain": [
       "minibatches processed:   1620, loss = 0.000000\t\n"
      ]
     },
     "execution_count": 144,
     "metadata": {},
     "output_type": "execute_result"
    },
    {
     "data": {
      "text/plain": [
       "minibatches processed:   1630, loss = 42805.996469\t\n"
      ]
     },
     "execution_count": 144,
     "metadata": {},
     "output_type": "execute_result"
    },
    {
     "data": {
      "text/plain": [
       "minibatches processed:   1640, loss = 10406.927970\t\n"
      ]
     },
     "execution_count": 144,
     "metadata": {},
     "output_type": "execute_result"
    },
    {
     "data": {
      "text/plain": [
       "minibatches processed:   1650, loss = 20706.401067\t\n"
      ]
     },
     "execution_count": 144,
     "metadata": {},
     "output_type": "execute_result"
    },
    {
     "data": {
      "text/plain": [
       "minibatches processed:   1660, loss = 0.000000\t\n"
      ]
     },
     "execution_count": 144,
     "metadata": {},
     "output_type": "execute_result"
    },
    {
     "data": {
      "text/plain": [
       "minibatches processed:   1670, loss = 105220.983546\t\n"
      ]
     },
     "execution_count": 144,
     "metadata": {},
     "output_type": "execute_result"
    },
    {
     "data": {
      "text/plain": [
       "minibatches processed:   1680, loss = 12845.349556\t\n"
      ]
     },
     "execution_count": 144,
     "metadata": {},
     "output_type": "execute_result"
    },
    {
     "data": {
      "text/plain": [
       "minibatches processed:   1690, loss = 3204.234772\t\n"
      ]
     },
     "execution_count": 144,
     "metadata": {},
     "output_type": "execute_result"
    },
    {
     "data": {
      "text/plain": [
       "minibatches processed:   1700, loss = 9996.490328\t\n"
      ]
     },
     "execution_count": 144,
     "metadata": {},
     "output_type": "execute_result"
    },
    {
     "data": {
      "text/plain": [
       "minibatches processed:   1710, loss = 0.000000\t\n"
      ]
     },
     "execution_count": 144,
     "metadata": {},
     "output_type": "execute_result"
    },
    {
     "data": {
      "text/plain": [
       "minibatches processed:   1720, loss = 0.000000\t\n"
      ]
     },
     "execution_count": 144,
     "metadata": {},
     "output_type": "execute_result"
    },
    {
     "data": {
      "text/plain": [
       "minibatches processed:   1730, loss = 0.000000\t\n"
      ]
     },
     "execution_count": 144,
     "metadata": {},
     "output_type": "execute_result"
    },
    {
     "data": {
      "text/plain": [
       "minibatches processed:   1740, loss = 79498.370547\t\n"
      ]
     },
     "execution_count": 144,
     "metadata": {},
     "output_type": "execute_result"
    },
    {
     "data": {
      "text/plain": [
       "minibatches processed:   1750, loss = 0.000000\t\n"
      ]
     },
     "execution_count": 144,
     "metadata": {},
     "output_type": "execute_result"
    },
    {
     "data": {
      "text/plain": [
       "minibatches processed:   1760, loss = 0.000000\t\n"
      ]
     },
     "execution_count": 144,
     "metadata": {},
     "output_type": "execute_result"
    },
    {
     "data": {
      "text/plain": [
       "minibatches processed:   1770, loss = 0.000000\t\n"
      ]
     },
     "execution_count": 144,
     "metadata": {},
     "output_type": "execute_result"
    },
    {
     "data": {
      "text/plain": [
       "minibatches processed:   1780, loss = 0.000000\t\n"
      ]
     },
     "execution_count": 144,
     "metadata": {},
     "output_type": "execute_result"
    },
    {
     "data": {
      "text/plain": [
       "minibatches processed:   1790, loss = 0.000000\t\n"
      ]
     },
     "execution_count": 144,
     "metadata": {},
     "output_type": "execute_result"
    },
    {
     "data": {
      "text/plain": [
       "minibatches processed:   1800, loss = 0.000000\t\n"
      ]
     },
     "execution_count": 144,
     "metadata": {},
     "output_type": "execute_result"
    },
    {
     "data": {
      "text/plain": [
       "minibatches processed:   1810, loss = 0.000000\t\n"
      ]
     },
     "execution_count": 144,
     "metadata": {},
     "output_type": "execute_result"
    },
    {
     "data": {
      "text/plain": [
       "minibatches processed:   1820, loss = 10999.672312\t\n"
      ]
     },
     "execution_count": 144,
     "metadata": {},
     "output_type": "execute_result"
    },
    {
     "data": {
      "text/plain": [
       "minibatches processed:   1830, loss = 53206.013295\t\n"
      ]
     },
     "execution_count": 144,
     "metadata": {},
     "output_type": "execute_result"
    },
    {
     "data": {
      "text/plain": [
       "minibatches processed:   1840, loss = 20049.626054\t\n"
      ]
     },
     "execution_count": 144,
     "metadata": {},
     "output_type": "execute_result"
    },
    {
     "data": {
      "text/plain": [
       "minibatches processed:   1850, loss = 0.000000\t\n"
      ]
     },
     "execution_count": 144,
     "metadata": {},
     "output_type": "execute_result"
    },
    {
     "data": {
      "text/plain": [
       "minibatches processed:   1860, loss = 0.000000\t\n"
      ]
     },
     "execution_count": 144,
     "metadata": {},
     "output_type": "execute_result"
    },
    {
     "data": {
      "text/plain": [
       "minibatches processed:   1870, loss = 0.000000\t\n"
      ]
     },
     "execution_count": 144,
     "metadata": {},
     "output_type": "execute_result"
    },
    {
     "data": {
      "text/plain": [
       "minibatches processed:   1880, loss = 0.000000\t\n"
      ]
     },
     "execution_count": 144,
     "metadata": {},
     "output_type": "execute_result"
    },
    {
     "data": {
      "text/plain": [
       "minibatches processed:   1890, loss = 18304.969638\t\n"
      ]
     },
     "execution_count": 144,
     "metadata": {},
     "output_type": "execute_result"
    },
    {
     "data": {
      "text/plain": [
       "minibatches processed:   1900, loss = 0.000000\t\n"
      ]
     },
     "execution_count": 144,
     "metadata": {},
     "output_type": "execute_result"
    },
    {
     "data": {
      "text/plain": [
       "minibatches processed:   1910, loss = 133023.268618\t\n"
      ]
     },
     "execution_count": 144,
     "metadata": {},
     "output_type": "execute_result"
    },
    {
     "data": {
      "text/plain": [
       "minibatches processed:   1920, loss = 0.000000\t\n"
      ]
     },
     "execution_count": 144,
     "metadata": {},
     "output_type": "execute_result"
    },
    {
     "data": {
      "text/plain": [
       "minibatches processed:   1930, loss = 187376.474304\t\n"
      ]
     },
     "execution_count": 144,
     "metadata": {},
     "output_type": "execute_result"
    },
    {
     "data": {
      "text/plain": [
       "minibatches processed:   1940, loss = 0.000000\t\n"
      ]
     },
     "execution_count": 144,
     "metadata": {},
     "output_type": "execute_result"
    },
    {
     "data": {
      "text/plain": [
       "minibatches processed:   1950, loss = 0.000000\t\n"
      ]
     },
     "execution_count": 144,
     "metadata": {},
     "output_type": "execute_result"
    },
    {
     "data": {
      "text/plain": [
       "minibatches processed:   1960, loss = 0.000000\t\n"
      ]
     },
     "execution_count": 144,
     "metadata": {},
     "output_type": "execute_result"
    },
    {
     "data": {
      "text/plain": [
       "minibatches processed:   1970, loss = 40949.843776\t\n"
      ]
     },
     "execution_count": 144,
     "metadata": {},
     "output_type": "execute_result"
    },
    {
     "data": {
      "text/plain": [
       "minibatches processed:   1980, loss = 43068.684843\t\n"
      ]
     },
     "execution_count": 144,
     "metadata": {},
     "output_type": "execute_result"
    },
    {
     "data": {
      "text/plain": [
       "minibatches processed:   1990, loss = 0.000000\t\n"
      ]
     },
     "execution_count": 144,
     "metadata": {},
     "output_type": "execute_result"
    },
    {
     "data": {
      "text/plain": [
       "minibatches processed:   2000, loss = 0.000000\t\n"
      ]
     },
     "execution_count": 144,
     "metadata": {},
     "output_type": "execute_result"
    },
    {
     "data": {
      "text/plain": [
       "minibatches processed:   2010, loss = 39381.191686\t\n"
      ]
     },
     "execution_count": 144,
     "metadata": {},
     "output_type": "execute_result"
    },
    {
     "data": {
      "text/plain": [
       "minibatches processed:   2020, loss = 6720.248910\t\n"
      ]
     },
     "execution_count": 144,
     "metadata": {},
     "output_type": "execute_result"
    },
    {
     "data": {
      "text/plain": [
       "minibatches processed:   2030, loss = 0.000000\t\n"
      ]
     },
     "execution_count": 144,
     "metadata": {},
     "output_type": "execute_result"
    },
    {
     "data": {
      "text/plain": [
       "minibatches processed:   2040, loss = 59797.521368\t\n"
      ]
     },
     "execution_count": 144,
     "metadata": {},
     "output_type": "execute_result"
    },
    {
     "data": {
      "text/plain": [
       "minibatches processed:   2050, loss = 0.000000\t\n"
      ]
     },
     "execution_count": 144,
     "metadata": {},
     "output_type": "execute_result"
    },
    {
     "data": {
      "text/plain": [
       "minibatches processed:   2060, loss = 0.000000\t\n"
      ]
     },
     "execution_count": 144,
     "metadata": {},
     "output_type": "execute_result"
    },
    {
     "data": {
      "text/plain": [
       "minibatches processed:   2070, loss = 108326.039956\t\n"
      ]
     },
     "execution_count": 144,
     "metadata": {},
     "output_type": "execute_result"
    },
    {
     "data": {
      "text/plain": [
       "minibatches processed:   2080, loss = 15105.730587\t\n"
      ]
     },
     "execution_count": 144,
     "metadata": {},
     "output_type": "execute_result"
    },
    {
     "data": {
      "text/plain": [
       "minibatches processed:   2090, loss = 0.000000\t\n"
      ]
     },
     "execution_count": 144,
     "metadata": {},
     "output_type": "execute_result"
    },
    {
     "data": {
      "text/plain": [
       "minibatches processed:   2100, loss = 53187.228991\t\n"
      ]
     },
     "execution_count": 144,
     "metadata": {},
     "output_type": "execute_result"
    },
    {
     "data": {
      "text/plain": [
       "minibatches processed:   2110, loss = 0.000000\t\n"
      ]
     },
     "execution_count": 144,
     "metadata": {},
     "output_type": "execute_result"
    },
    {
     "data": {
      "text/plain": [
       "minibatches processed:   2120, loss = 23316.893906\t\n"
      ]
     },
     "execution_count": 144,
     "metadata": {},
     "output_type": "execute_result"
    },
    {
     "data": {
      "text/plain": [
       "minibatches processed:   2130, loss = 0.000000\t\n"
      ]
     },
     "execution_count": 144,
     "metadata": {},
     "output_type": "execute_result"
    },
    {
     "data": {
      "text/plain": [
       "minibatches processed:   2140, loss = 55523.398710\t\n"
      ]
     },
     "execution_count": 144,
     "metadata": {},
     "output_type": "execute_result"
    },
    {
     "data": {
      "text/plain": [
       "minibatches processed:   2150, loss = 29774.785967\t\n"
      ]
     },
     "execution_count": 144,
     "metadata": {},
     "output_type": "execute_result"
    },
    {
     "data": {
      "text/plain": [
       "minibatches processed:   2160, loss = 0.000000\t\n"
      ]
     },
     "execution_count": 144,
     "metadata": {},
     "output_type": "execute_result"
    },
    {
     "data": {
      "text/plain": [
       "minibatches processed:   2170, loss = 0.000000\t\n"
      ]
     },
     "execution_count": 144,
     "metadata": {},
     "output_type": "execute_result"
    },
    {
     "data": {
      "text/plain": [
       "minibatches processed:   2180, loss = 2149.300060\t\n"
      ]
     },
     "execution_count": 144,
     "metadata": {},
     "output_type": "execute_result"
    },
    {
     "data": {
      "text/plain": [
       "minibatches processed:   2190, loss = 46601.735908\t\n"
      ]
     },
     "execution_count": 144,
     "metadata": {},
     "output_type": "execute_result"
    },
    {
     "data": {
      "text/plain": [
       "minibatches processed:   2200, loss = 0.000000\t\n"
      ]
     },
     "execution_count": 144,
     "metadata": {},
     "output_type": "execute_result"
    },
    {
     "data": {
      "text/plain": [
       "minibatches processed:   2210, loss = 0.000000\t\n"
      ]
     },
     "execution_count": 144,
     "metadata": {},
     "output_type": "execute_result"
    },
    {
     "data": {
      "text/plain": [
       "minibatches processed:   2220, loss = 19572.934286\t\n"
      ]
     },
     "execution_count": 144,
     "metadata": {},
     "output_type": "execute_result"
    },
    {
     "data": {
      "text/plain": [
       "minibatches processed:   2230, loss = 0.000000\t\n"
      ]
     },
     "execution_count": 144,
     "metadata": {},
     "output_type": "execute_result"
    },
    {
     "data": {
      "text/plain": [
       "minibatches processed:   2240, loss = 0.000000\t\n"
      ]
     },
     "execution_count": 144,
     "metadata": {},
     "output_type": "execute_result"
    },
    {
     "data": {
      "text/plain": [
       "minibatches processed:   2250, loss = 2478.440106\t\n"
      ]
     },
     "execution_count": 144,
     "metadata": {},
     "output_type": "execute_result"
    },
    {
     "data": {
      "text/plain": [
       "minibatches processed:   2260, loss = 0.000000\t\n"
      ]
     },
     "execution_count": 144,
     "metadata": {},
     "output_type": "execute_result"
    },
    {
     "data": {
      "text/plain": [
       "minibatches processed:   2270, loss = 0.000000\t\n"
      ]
     },
     "execution_count": 144,
     "metadata": {},
     "output_type": "execute_result"
    },
    {
     "data": {
      "text/plain": [
       "minibatches processed:   2280, loss = 0.000000\t\n"
      ]
     },
     "execution_count": 144,
     "metadata": {},
     "output_type": "execute_result"
    },
    {
     "data": {
      "text/plain": [
       "minibatches processed:   2290, loss = 0.000000\t\n"
      ]
     },
     "execution_count": 144,
     "metadata": {},
     "output_type": "execute_result"
    },
    {
     "data": {
      "text/plain": [
       "minibatches processed:   2300, loss = 0.000000\t\n"
      ]
     },
     "execution_count": 144,
     "metadata": {},
     "output_type": "execute_result"
    },
    {
     "data": {
      "text/plain": [
       "minibatches processed:   2310, loss = 0.000000\t\n"
      ]
     },
     "execution_count": 144,
     "metadata": {},
     "output_type": "execute_result"
    },
    {
     "data": {
      "text/plain": [
       "minibatches processed:   2320, loss = 42207.539850\t\n"
      ]
     },
     "execution_count": 144,
     "metadata": {},
     "output_type": "execute_result"
    },
    {
     "data": {
      "text/plain": [
       "minibatches processed:   2330, loss = 2802.660310\t\n"
      ]
     },
     "execution_count": 144,
     "metadata": {},
     "output_type": "execute_result"
    },
    {
     "data": {
      "text/plain": [
       "minibatches processed:   2340, loss = 74335.765843\t\n"
      ]
     },
     "execution_count": 144,
     "metadata": {},
     "output_type": "execute_result"
    },
    {
     "data": {
      "text/plain": [
       "minibatches processed:   2350, loss = 58659.798459\t\n"
      ]
     },
     "execution_count": 144,
     "metadata": {},
     "output_type": "execute_result"
    },
    {
     "data": {
      "text/plain": [
       "minibatches processed:   2360, loss = 0.000000\t\n"
      ]
     },
     "execution_count": 144,
     "metadata": {},
     "output_type": "execute_result"
    },
    {
     "data": {
      "text/plain": [
       "minibatches processed:   2370, loss = 19544.314993\t\n"
      ]
     },
     "execution_count": 144,
     "metadata": {},
     "output_type": "execute_result"
    },
    {
     "data": {
      "text/plain": [
       "minibatches processed:   2380, loss = 11137.390769\t\n"
      ]
     },
     "execution_count": 144,
     "metadata": {},
     "output_type": "execute_result"
    },
    {
     "data": {
      "text/plain": [
       "minibatches processed:   2390, loss = 17201.464680\t\n"
      ]
     },
     "execution_count": 144,
     "metadata": {},
     "output_type": "execute_result"
    },
    {
     "data": {
      "text/plain": [
       "minibatches processed:   2400, loss = 0.000000\t\n"
      ]
     },
     "execution_count": 144,
     "metadata": {},
     "output_type": "execute_result"
    },
    {
     "data": {
      "text/plain": [
       "minibatches processed:   2410, loss = 0.000000\t\n"
      ]
     },
     "execution_count": 144,
     "metadata": {},
     "output_type": "execute_result"
    },
    {
     "data": {
      "text/plain": [
       "minibatches processed:   2420, loss = 0.000000\t\n"
      ]
     },
     "execution_count": 144,
     "metadata": {},
     "output_type": "execute_result"
    },
    {
     "data": {
      "text/plain": [
       "minibatches processed:   2430, loss = 0.000000\t\n"
      ]
     },
     "execution_count": 144,
     "metadata": {},
     "output_type": "execute_result"
    },
    {
     "data": {
      "text/plain": [
       "minibatches processed:   2440, loss = 0.000000\t\n"
      ]
     },
     "execution_count": 144,
     "metadata": {},
     "output_type": "execute_result"
    },
    {
     "data": {
      "text/plain": [
       "minibatches processed:   2450, loss = 56247.636226\t\n"
      ]
     },
     "execution_count": 144,
     "metadata": {},
     "output_type": "execute_result"
    },
    {
     "data": {
      "text/plain": [
       "minibatches processed:   2460, loss = 39843.291083\t\n"
      ]
     },
     "execution_count": 144,
     "metadata": {},
     "output_type": "execute_result"
    },
    {
     "data": {
      "text/plain": [
       "minibatches processed:   2470, loss = 0.000000\t\n"
      ]
     },
     "execution_count": 144,
     "metadata": {},
     "output_type": "execute_result"
    },
    {
     "data": {
      "text/plain": [
       "minibatches processed:   2480, loss = 0.000000\t\n"
      ]
     },
     "execution_count": 144,
     "metadata": {},
     "output_type": "execute_result"
    },
    {
     "data": {
      "text/plain": [
       "minibatches processed:   2490, loss = 0.000000\t\n"
      ]
     },
     "execution_count": 144,
     "metadata": {},
     "output_type": "execute_result"
    },
    {
     "data": {
      "text/plain": [
       "minibatches processed:   2500, loss = 0.000000\t\n"
      ]
     },
     "execution_count": 144,
     "metadata": {},
     "output_type": "execute_result"
    },
    {
     "data": {
      "text/plain": [
       "minibatches processed:   2510, loss = 0.000000\t\n"
      ]
     },
     "execution_count": 144,
     "metadata": {},
     "output_type": "execute_result"
    },
    {
     "data": {
      "text/plain": [
       "minibatches processed:   2520, loss = 0.000000\t\n"
      ]
     },
     "execution_count": 144,
     "metadata": {},
     "output_type": "execute_result"
    },
    {
     "data": {
      "text/plain": [
       "minibatches processed:   2530, loss = 29154.648374\t\n"
      ]
     },
     "execution_count": 144,
     "metadata": {},
     "output_type": "execute_result"
    },
    {
     "data": {
      "text/plain": [
       "minibatches processed:   2540, loss = 0.000000\t\n"
      ]
     },
     "execution_count": 144,
     "metadata": {},
     "output_type": "execute_result"
    },
    {
     "data": {
      "text/plain": [
       "minibatches processed:   2550, loss = 0.000000\t\n"
      ]
     },
     "execution_count": 144,
     "metadata": {},
     "output_type": "execute_result"
    },
    {
     "data": {
      "text/plain": [
       "minibatches processed:   2560, loss = 0.000000\t"
      ]
     },
     "execution_count": 144,
     "metadata": {},
     "output_type": "execute_result"
    },
    {
     "data": {
      "text/plain": [
       "\n"
      ]
     },
     "execution_count": 144,
     "metadata": {},
     "output_type": "execute_result"
    },
    {
     "data": {
      "text/plain": [
       "minibatches processed:   2570, loss = 0.000000\t\n"
      ]
     },
     "execution_count": 144,
     "metadata": {},
     "output_type": "execute_result"
    },
    {
     "data": {
      "text/plain": [
       "minibatches processed:   2580, loss = 3731.832578\t\n"
      ]
     },
     "execution_count": 144,
     "metadata": {},
     "output_type": "execute_result"
    },
    {
     "data": {
      "text/plain": [
       "minibatches processed:   2590, loss = 0.000000\t\n"
      ]
     },
     "execution_count": 144,
     "metadata": {},
     "output_type": "execute_result"
    },
    {
     "data": {
      "text/plain": [
       "minibatches processed:   2600, loss = 0.000000\t\n"
      ]
     },
     "execution_count": 144,
     "metadata": {},
     "output_type": "execute_result"
    },
    {
     "data": {
      "text/plain": [
       "minibatches processed:   2610, loss = 46142.144475\t\n"
      ]
     },
     "execution_count": 144,
     "metadata": {},
     "output_type": "execute_result"
    },
    {
     "data": {
      "text/plain": [
       "minibatches processed:   2620, loss = 4481.673766\t\n"
      ]
     },
     "execution_count": 144,
     "metadata": {},
     "output_type": "execute_result"
    },
    {
     "data": {
      "text/plain": [
       "minibatches processed:   2630, loss = 23069.519628\t\n"
      ]
     },
     "execution_count": 144,
     "metadata": {},
     "output_type": "execute_result"
    },
    {
     "data": {
      "text/plain": [
       "minibatches processed:   2640, loss = 0.000000\t\n"
      ]
     },
     "execution_count": 144,
     "metadata": {},
     "output_type": "execute_result"
    },
    {
     "data": {
      "text/plain": [
       "minibatches processed:   2650, loss = 0.000000\t\n"
      ]
     },
     "execution_count": 144,
     "metadata": {},
     "output_type": "execute_result"
    },
    {
     "data": {
      "text/plain": [
       "minibatches processed:   2660, loss = 0.000000\t\n"
      ]
     },
     "execution_count": 144,
     "metadata": {},
     "output_type": "execute_result"
    },
    {
     "data": {
      "text/plain": [
       "minibatches processed:   2670, loss = 340.655887\t\n"
      ]
     },
     "execution_count": 144,
     "metadata": {},
     "output_type": "execute_result"
    },
    {
     "data": {
      "text/plain": [
       "minibatches processed:   2680, loss = 15799.187505\t\n"
      ]
     },
     "execution_count": 144,
     "metadata": {},
     "output_type": "execute_result"
    },
    {
     "data": {
      "text/plain": [
       "minibatches processed:   2690, loss = 0.000000\t\n"
      ]
     },
     "execution_count": 144,
     "metadata": {},
     "output_type": "execute_result"
    },
    {
     "data": {
      "text/plain": [
       "minibatches processed:   2700, loss = 0.000000\t\n"
      ]
     },
     "execution_count": 144,
     "metadata": {},
     "output_type": "execute_result"
    },
    {
     "data": {
      "text/plain": [
       "minibatches processed:   2710, loss = 0.000000\t\n"
      ]
     },
     "execution_count": 144,
     "metadata": {},
     "output_type": "execute_result"
    },
    {
     "data": {
      "text/plain": [
       "minibatches processed:   2720, loss = 0.000000\t\n"
      ]
     },
     "execution_count": 144,
     "metadata": {},
     "output_type": "execute_result"
    },
    {
     "data": {
      "text/plain": [
       "minibatches processed:   2730, loss = 0.000000\t\n"
      ]
     },
     "execution_count": 144,
     "metadata": {},
     "output_type": "execute_result"
    },
    {
     "data": {
      "text/plain": [
       "minibatches processed:   2740, loss = 6952.692314\t\n"
      ]
     },
     "execution_count": 144,
     "metadata": {},
     "output_type": "execute_result"
    },
    {
     "data": {
      "text/plain": [
       "minibatches processed:   2750, loss = 46297.059707\t\n"
      ]
     },
     "execution_count": 144,
     "metadata": {},
     "output_type": "execute_result"
    },
    {
     "data": {
      "text/plain": [
       "minibatches processed:   2760, loss = 16673.086544\t\n"
      ]
     },
     "execution_count": 144,
     "metadata": {},
     "output_type": "execute_result"
    },
    {
     "data": {
      "text/plain": [
       "minibatches processed:   2770, loss = 0.000000\t\n"
      ]
     },
     "execution_count": 144,
     "metadata": {},
     "output_type": "execute_result"
    },
    {
     "data": {
      "text/plain": [
       "minibatches processed:   2780, loss = 0.000000\t\n"
      ]
     },
     "execution_count": 144,
     "metadata": {},
     "output_type": "execute_result"
    },
    {
     "data": {
      "text/plain": [
       "minibatches processed:   2790, loss = 45674.348013\t\n"
      ]
     },
     "execution_count": 144,
     "metadata": {},
     "output_type": "execute_result"
    },
    {
     "data": {
      "text/plain": [
       "minibatches processed:   2800, loss = 0.000000\t\n"
      ]
     },
     "execution_count": 144,
     "metadata": {},
     "output_type": "execute_result"
    },
    {
     "data": {
      "text/plain": [
       "minibatches processed:   2810, loss = 54509.085801\t\n"
      ]
     },
     "execution_count": 144,
     "metadata": {},
     "output_type": "execute_result"
    },
    {
     "data": {
      "text/plain": [
       "minibatches processed:   2820, loss = 0.000000\t\n"
      ]
     },
     "execution_count": 144,
     "metadata": {},
     "output_type": "execute_result"
    },
    {
     "data": {
      "text/plain": [
       "minibatches processed:   2830, loss = 0.000000\t\n"
      ]
     },
     "execution_count": 144,
     "metadata": {},
     "output_type": "execute_result"
    },
    {
     "data": {
      "text/plain": [
       "minibatches processed:   2840, loss = 0.000000\t\n"
      ]
     },
     "execution_count": 144,
     "metadata": {},
     "output_type": "execute_result"
    },
    {
     "data": {
      "text/plain": [
       "minibatches processed:   2850, loss = 6249.060806\t\n"
      ]
     },
     "execution_count": 144,
     "metadata": {},
     "output_type": "execute_result"
    },
    {
     "data": {
      "text/plain": [
       "minibatches processed:   2860, loss = 0.000000\t\n"
      ]
     },
     "execution_count": 144,
     "metadata": {},
     "output_type": "execute_result"
    },
    {
     "data": {
      "text/plain": [
       "minibatches processed:   2870, loss = 0.000000\t\n"
      ]
     },
     "execution_count": 144,
     "metadata": {},
     "output_type": "execute_result"
    },
    {
     "data": {
      "text/plain": [
       "minibatches processed:   2880, loss = 0.000000\t\n"
      ]
     },
     "execution_count": 144,
     "metadata": {},
     "output_type": "execute_result"
    },
    {
     "data": {
      "text/plain": [
       "minibatches processed:   2890, loss = 0.000000\t\n"
      ]
     },
     "execution_count": 144,
     "metadata": {},
     "output_type": "execute_result"
    },
    {
     "data": {
      "text/plain": [
       "minibatches processed:   2900, loss = 0.000000\t\n"
      ]
     },
     "execution_count": 144,
     "metadata": {},
     "output_type": "execute_result"
    },
    {
     "data": {
      "text/plain": [
       "minibatches processed:   2910, loss = 0.000000\t\n"
      ]
     },
     "execution_count": 144,
     "metadata": {},
     "output_type": "execute_result"
    },
    {
     "data": {
      "text/plain": [
       "minibatches processed:   2920, loss = 45815.535054\t\n"
      ]
     },
     "execution_count": 144,
     "metadata": {},
     "output_type": "execute_result"
    },
    {
     "data": {
      "text/plain": [
       "minibatches processed:   2930, loss = 20513.703657\t\n"
      ]
     },
     "execution_count": 144,
     "metadata": {},
     "output_type": "execute_result"
    },
    {
     "data": {
      "text/plain": [
       "minibatches processed:   2940, loss = 0.000000\t\n"
      ]
     },
     "execution_count": 144,
     "metadata": {},
     "output_type": "execute_result"
    },
    {
     "data": {
      "text/plain": [
       "minibatches processed:   2950, loss = 0.000000\t\n"
      ]
     },
     "execution_count": 144,
     "metadata": {},
     "output_type": "execute_result"
    },
    {
     "data": {
      "text/plain": [
       "minibatches processed:   2960, loss = 34000.733178\t\n"
      ]
     },
     "execution_count": 144,
     "metadata": {},
     "output_type": "execute_result"
    },
    {
     "data": {
      "text/plain": [
       "minibatches processed:   2970, loss = 0.000000\t\n"
      ]
     },
     "execution_count": 144,
     "metadata": {},
     "output_type": "execute_result"
    },
    {
     "data": {
      "text/plain": [
       "minibatches processed:   2980, loss = 2304.613686\t\n"
      ]
     },
     "execution_count": 144,
     "metadata": {},
     "output_type": "execute_result"
    },
    {
     "data": {
      "text/plain": [
       "minibatches processed:   2990, loss = 7711.482188\t\n"
      ]
     },
     "execution_count": 144,
     "metadata": {},
     "output_type": "execute_result"
    },
    {
     "data": {
      "text/plain": [
       "minibatches processed:   3000, loss = 0.000000\t\n"
      ]
     },
     "execution_count": 144,
     "metadata": {},
     "output_type": "execute_result"
    },
    {
     "data": {
      "text/plain": [
       "minibatches processed:   3010, loss = 19101.111156\t\n"
      ]
     },
     "execution_count": 144,
     "metadata": {},
     "output_type": "execute_result"
    },
    {
     "data": {
      "text/plain": [
       "minibatches processed:   3020, loss = 0.000000\t\n"
      ]
     },
     "execution_count": 144,
     "metadata": {},
     "output_type": "execute_result"
    },
    {
     "data": {
      "text/plain": [
       "minibatches processed:   3030, loss = 0.000000\t\n"
      ]
     },
     "execution_count": 144,
     "metadata": {},
     "output_type": "execute_result"
    },
    {
     "data": {
      "text/plain": [
       "minibatches processed:   3040, loss = 0.000000\t\n"
      ]
     },
     "execution_count": 144,
     "metadata": {},
     "output_type": "execute_result"
    },
    {
     "data": {
      "text/plain": [
       "minibatches processed:   3050, loss = 0.000000\t\n"
      ]
     },
     "execution_count": 144,
     "metadata": {},
     "output_type": "execute_result"
    },
    {
     "data": {
      "text/plain": [
       "minibatches processed:   3060, loss = 22274.917962\t\n"
      ]
     },
     "execution_count": 144,
     "metadata": {},
     "output_type": "execute_result"
    },
    {
     "data": {
      "text/plain": [
       "minibatches processed:   3070, loss = 24273.169351\t\n"
      ]
     },
     "execution_count": 144,
     "metadata": {},
     "output_type": "execute_result"
    },
    {
     "data": {
      "text/plain": [
       "minibatches processed:   3080, loss = 0.000000\t\n"
      ]
     },
     "execution_count": 144,
     "metadata": {},
     "output_type": "execute_result"
    },
    {
     "data": {
      "text/plain": [
       "minibatches processed:   3090, loss = 0.000000\t\n"
      ]
     },
     "execution_count": 144,
     "metadata": {},
     "output_type": "execute_result"
    },
    {
     "data": {
      "text/plain": [
       "minibatches processed:   3100, loss = 0.000000\t\n"
      ]
     },
     "execution_count": 144,
     "metadata": {},
     "output_type": "execute_result"
    },
    {
     "data": {
      "text/plain": [
       "minibatches processed:   3110, loss = 0.000000\t\n"
      ]
     },
     "execution_count": 144,
     "metadata": {},
     "output_type": "execute_result"
    },
    {
     "data": {
      "text/plain": [
       "minibatches processed:   3120, loss = 25610.239939\t\n"
      ]
     },
     "execution_count": 144,
     "metadata": {},
     "output_type": "execute_result"
    },
    {
     "data": {
      "text/plain": [
       "minibatches processed:   3130, loss = 10605.983480\t\n"
      ]
     },
     "execution_count": 144,
     "metadata": {},
     "output_type": "execute_result"
    },
    {
     "data": {
      "text/plain": [
       "minibatches processed:   3140, loss = 7104.020442\t\n"
      ]
     },
     "execution_count": 144,
     "metadata": {},
     "output_type": "execute_result"
    },
    {
     "data": {
      "text/plain": [
       "minibatches processed:   3150, loss = 0.000000\t\n"
      ]
     },
     "execution_count": 144,
     "metadata": {},
     "output_type": "execute_result"
    },
    {
     "data": {
      "text/plain": [
       "minibatches processed:   3160, loss = 0.000000\t\n"
      ]
     },
     "execution_count": 144,
     "metadata": {},
     "output_type": "execute_result"
    },
    {
     "data": {
      "text/plain": [
       "minibatches processed:   3170, loss = 0.000000\t\n"
      ]
     },
     "execution_count": 144,
     "metadata": {},
     "output_type": "execute_result"
    },
    {
     "data": {
      "text/plain": [
       "minibatches processed:   3180, loss = 16419.885754\t\n"
      ]
     },
     "execution_count": 144,
     "metadata": {},
     "output_type": "execute_result"
    },
    {
     "data": {
      "text/plain": [
       "minibatches processed:   3190, loss = 23312.466727\t\n"
      ]
     },
     "execution_count": 144,
     "metadata": {},
     "output_type": "execute_result"
    },
    {
     "data": {
      "text/plain": [
       "minibatches processed:   3200, loss = 0.000000\t\n"
      ]
     },
     "execution_count": 144,
     "metadata": {},
     "output_type": "execute_result"
    },
    {
     "data": {
      "text/plain": [
       "minibatches processed:   3210, loss = 0.000000\t\n"
      ]
     },
     "execution_count": 144,
     "metadata": {},
     "output_type": "execute_result"
    },
    {
     "data": {
      "text/plain": [
       "minibatches processed:   3220, loss = 0.000000\t\n"
      ]
     },
     "execution_count": 144,
     "metadata": {},
     "output_type": "execute_result"
    },
    {
     "data": {
      "text/plain": [
       "minibatches processed:   3230, loss = 28425.631097\t\n"
      ]
     },
     "execution_count": 144,
     "metadata": {},
     "output_type": "execute_result"
    },
    {
     "data": {
      "text/plain": [
       "minibatches processed:   3240, loss = 146336.030741\t\n"
      ]
     },
     "execution_count": 144,
     "metadata": {},
     "output_type": "execute_result"
    },
    {
     "data": {
      "text/plain": [
       "minibatches processed:   3250, loss = 25766.735064\t\n"
      ]
     },
     "execution_count": 144,
     "metadata": {},
     "output_type": "execute_result"
    },
    {
     "data": {
      "text/plain": [
       "minibatches processed:   3260, loss = 0.000000\t\n"
      ]
     },
     "execution_count": 144,
     "metadata": {},
     "output_type": "execute_result"
    },
    {
     "data": {
      "text/plain": [
       "minibatches processed:   3270, loss = 0.000000\t\n"
      ]
     },
     "execution_count": 144,
     "metadata": {},
     "output_type": "execute_result"
    },
    {
     "data": {
      "text/plain": [
       "minibatches processed:   3280, loss = 0.000000\t\n"
      ]
     },
     "execution_count": 144,
     "metadata": {},
     "output_type": "execute_result"
    },
    {
     "data": {
      "text/plain": [
       "minibatches processed:   3290, loss = 0.000000\t\n"
      ]
     },
     "execution_count": 144,
     "metadata": {},
     "output_type": "execute_result"
    },
    {
     "data": {
      "text/plain": [
       "minibatches processed:   3300, loss = 0.000000\t\n"
      ]
     },
     "execution_count": 144,
     "metadata": {},
     "output_type": "execute_result"
    },
    {
     "data": {
      "text/plain": [
       "minibatches processed:   3310, loss = 0.000000\t\n"
      ]
     },
     "execution_count": 144,
     "metadata": {},
     "output_type": "execute_result"
    },
    {
     "data": {
      "text/plain": [
       "minibatches processed:   3320, loss = 0.000000\t\n"
      ]
     },
     "execution_count": 144,
     "metadata": {},
     "output_type": "execute_result"
    },
    {
     "data": {
      "text/plain": [
       "minibatches processed:   3330, loss = 57273.868813\t\n"
      ]
     },
     "execution_count": 144,
     "metadata": {},
     "output_type": "execute_result"
    },
    {
     "data": {
      "text/plain": [
       "minibatches processed:   3340, loss = 9143.780042\t\n"
      ]
     },
     "execution_count": 144,
     "metadata": {},
     "output_type": "execute_result"
    },
    {
     "data": {
      "text/plain": [
       "minibatches processed:   3350, loss = 0.000000\t\n"
      ]
     },
     "execution_count": 144,
     "metadata": {},
     "output_type": "execute_result"
    },
    {
     "data": {
      "text/plain": [
       "minibatches processed:   3360, loss = 0.000000\t\n"
      ]
     },
     "execution_count": 144,
     "metadata": {},
     "output_type": "execute_result"
    },
    {
     "data": {
      "text/plain": [
       "minibatches processed:   3370, loss = 36237.599679\t\n"
      ]
     },
     "execution_count": 144,
     "metadata": {},
     "output_type": "execute_result"
    },
    {
     "data": {
      "text/plain": [
       "minibatches processed:   3380, loss = 33930.365091\t\n"
      ]
     },
     "execution_count": 144,
     "metadata": {},
     "output_type": "execute_result"
    },
    {
     "data": {
      "text/plain": [
       "minibatches processed:   3390, loss = 2430.515110\t\n"
      ]
     },
     "execution_count": 144,
     "metadata": {},
     "output_type": "execute_result"
    },
    {
     "data": {
      "text/plain": [
       "minibatches processed:   3400, loss = 0.000000\t\n"
      ]
     },
     "execution_count": 144,
     "metadata": {},
     "output_type": "execute_result"
    },
    {
     "data": {
      "text/plain": [
       "minibatches processed:   3410, loss = 0.000000\t\n"
      ]
     },
     "execution_count": 144,
     "metadata": {},
     "output_type": "execute_result"
    },
    {
     "data": {
      "text/plain": [
       "minibatches processed:   3420, loss = 28127.926355\t\n"
      ]
     },
     "execution_count": 144,
     "metadata": {},
     "output_type": "execute_result"
    },
    {
     "data": {
      "text/plain": [
       "minibatches processed:   3430, loss = 0.000000\t\n"
      ]
     },
     "execution_count": 144,
     "metadata": {},
     "output_type": "execute_result"
    },
    {
     "data": {
      "text/plain": [
       "minibatches processed:   3440, loss = 0.000000\t\n"
      ]
     },
     "execution_count": 144,
     "metadata": {},
     "output_type": "execute_result"
    },
    {
     "data": {
      "text/plain": [
       "minibatches processed:   3450, loss = 0.000000\t\n"
      ]
     },
     "execution_count": 144,
     "metadata": {},
     "output_type": "execute_result"
    },
    {
     "data": {
      "text/plain": [
       "minibatches processed:   3460, loss = 0.000000\t\n"
      ]
     },
     "execution_count": 144,
     "metadata": {},
     "output_type": "execute_result"
    },
    {
     "data": {
      "text/plain": [
       "minibatches processed:   3470, loss = 22301.523141\t\n"
      ]
     },
     "execution_count": 144,
     "metadata": {},
     "output_type": "execute_result"
    },
    {
     "data": {
      "text/plain": [
       "minibatches processed:   3480, loss = 0.000000\t\n"
      ]
     },
     "execution_count": 144,
     "metadata": {},
     "output_type": "execute_result"
    },
    {
     "data": {
      "text/plain": [
       "minibatches processed:   3490, loss = 36017.857777\t\n"
      ]
     },
     "execution_count": 144,
     "metadata": {},
     "output_type": "execute_result"
    },
    {
     "data": {
      "text/plain": [
       "minibatches processed:   3500, loss = 0.000000\t\n"
      ]
     },
     "execution_count": 144,
     "metadata": {},
     "output_type": "execute_result"
    },
    {
     "data": {
      "text/plain": [
       "minibatches processed:   3510, loss = 9924.826751\t\n"
      ]
     },
     "execution_count": 144,
     "metadata": {},
     "output_type": "execute_result"
    },
    {
     "data": {
      "text/plain": [
       "minibatches processed:   3520, loss = 0.000000\t\n"
      ]
     },
     "execution_count": 144,
     "metadata": {},
     "output_type": "execute_result"
    },
    {
     "data": {
      "text/plain": [
       "minibatches processed:   3530, loss = 5755.659923\t\n"
      ]
     },
     "execution_count": 144,
     "metadata": {},
     "output_type": "execute_result"
    },
    {
     "data": {
      "text/plain": [
       "minibatches processed:   3540, loss = 0.000000\t\n"
      ]
     },
     "execution_count": 144,
     "metadata": {},
     "output_type": "execute_result"
    },
    {
     "data": {
      "text/plain": [
       "minibatches processed:   3550, loss = 0.000000\t\n"
      ]
     },
     "execution_count": 144,
     "metadata": {},
     "output_type": "execute_result"
    },
    {
     "data": {
      "text/plain": [
       "minibatches processed:   3560, loss = 0.000000\t\n"
      ]
     },
     "execution_count": 144,
     "metadata": {},
     "output_type": "execute_result"
    },
    {
     "data": {
      "text/plain": [
       "minibatches processed:   3570, loss = 61942.062693\t\n"
      ]
     },
     "execution_count": 144,
     "metadata": {},
     "output_type": "execute_result"
    },
    {
     "data": {
      "text/plain": [
       "minibatches processed:   3580, loss = 0.000000\t\n"
      ]
     },
     "execution_count": 144,
     "metadata": {},
     "output_type": "execute_result"
    },
    {
     "data": {
      "text/plain": [
       "minibatches processed:   3590, loss = 0.000000\t\n"
      ]
     },
     "execution_count": 144,
     "metadata": {},
     "output_type": "execute_result"
    },
    {
     "data": {
      "text/plain": [
       "minibatches processed:   3600, loss = 29460.799419\t\n"
      ]
     },
     "execution_count": 144,
     "metadata": {},
     "output_type": "execute_result"
    },
    {
     "data": {
      "text/plain": [
       "minibatches processed:   3610, loss = 85981.303001\t\n"
      ]
     },
     "execution_count": 144,
     "metadata": {},
     "output_type": "execute_result"
    },
    {
     "data": {
      "text/plain": [
       "minibatches processed:   3620, loss = 0.000000\t\n"
      ]
     },
     "execution_count": 144,
     "metadata": {},
     "output_type": "execute_result"
    },
    {
     "data": {
      "text/plain": [
       "minibatches processed:   3630, loss = 0.000000\t\n"
      ]
     },
     "execution_count": 144,
     "metadata": {},
     "output_type": "execute_result"
    },
    {
     "data": {
      "text/plain": [
       "minibatches processed:   3640, loss = 0.000000\t\n"
      ]
     },
     "execution_count": 144,
     "metadata": {},
     "output_type": "execute_result"
    },
    {
     "data": {
      "text/plain": [
       "minibatches processed:   3650, loss = 0.000000\t\n"
      ]
     },
     "execution_count": 144,
     "metadata": {},
     "output_type": "execute_result"
    },
    {
     "data": {
      "text/plain": [
       "minibatches processed:   3660, loss = 0.000000\t\n"
      ]
     },
     "execution_count": 144,
     "metadata": {},
     "output_type": "execute_result"
    },
    {
     "data": {
      "text/plain": [
       "minibatches processed:   3670, loss = 0.000000\t\n"
      ]
     },
     "execution_count": 144,
     "metadata": {},
     "output_type": "execute_result"
    },
    {
     "data": {
      "text/plain": [
       "minibatches processed:   3680, loss = 101687.510509\t\n"
      ]
     },
     "execution_count": 144,
     "metadata": {},
     "output_type": "execute_result"
    },
    {
     "data": {
      "text/plain": [
       "minibatches processed:   3690, loss = 0.000000\t\n"
      ]
     },
     "execution_count": 144,
     "metadata": {},
     "output_type": "execute_result"
    },
    {
     "data": {
      "text/plain": [
       "minibatches processed:   3700, loss = 0.000000\t\n"
      ]
     },
     "execution_count": 144,
     "metadata": {},
     "output_type": "execute_result"
    },
    {
     "data": {
      "text/plain": [
       "minibatches processed:   3710, loss = 23737.321248\t\n"
      ]
     },
     "execution_count": 144,
     "metadata": {},
     "output_type": "execute_result"
    },
    {
     "data": {
      "text/plain": [
       "minibatches processed:   3720, loss = 0.000000\t\n"
      ]
     },
     "execution_count": 144,
     "metadata": {},
     "output_type": "execute_result"
    },
    {
     "data": {
      "text/plain": [
       "minibatches processed:   3730, loss = 25481.799634\t\n"
      ]
     },
     "execution_count": 144,
     "metadata": {},
     "output_type": "execute_result"
    },
    {
     "data": {
      "text/plain": [
       "minibatches processed:   3740, loss = 0.000000\t\n"
      ]
     },
     "execution_count": 144,
     "metadata": {},
     "output_type": "execute_result"
    },
    {
     "data": {
      "text/plain": [
       "minibatches processed:   3750, loss = 0.000000\t\n"
      ]
     },
     "execution_count": 144,
     "metadata": {},
     "output_type": "execute_result"
    },
    {
     "data": {
      "text/plain": [
       "minibatches processed:   3760, loss = 0.000000\t\n"
      ]
     },
     "execution_count": 144,
     "metadata": {},
     "output_type": "execute_result"
    },
    {
     "data": {
      "text/plain": [
       "minibatches processed:   3770, loss = 0.000000\t\n"
      ]
     },
     "execution_count": 144,
     "metadata": {},
     "output_type": "execute_result"
    },
    {
     "data": {
      "text/plain": [
       "minibatches processed:   3780, loss = 0.000000\t\n"
      ]
     },
     "execution_count": 144,
     "metadata": {},
     "output_type": "execute_result"
    },
    {
     "data": {
      "text/plain": [
       "minibatches processed:   3790, loss = 0.000000\t\n"
      ]
     },
     "execution_count": 144,
     "metadata": {},
     "output_type": "execute_result"
    },
    {
     "data": {
      "text/plain": [
       "minibatches processed:   3800, loss = 0.000000\t\n"
      ]
     },
     "execution_count": 144,
     "metadata": {},
     "output_type": "execute_result"
    },
    {
     "data": {
      "text/plain": [
       "minibatches processed:   3810, loss = 10992.400500\t\n"
      ]
     },
     "execution_count": 144,
     "metadata": {},
     "output_type": "execute_result"
    },
    {
     "data": {
      "text/plain": [
       "minibatches processed:   3820, loss = 0.000000\t\n"
      ]
     },
     "execution_count": 144,
     "metadata": {},
     "output_type": "execute_result"
    },
    {
     "data": {
      "text/plain": [
       "minibatches processed:   3830, loss = 0.000000\t\n"
      ]
     },
     "execution_count": 144,
     "metadata": {},
     "output_type": "execute_result"
    },
    {
     "data": {
      "text/plain": [
       "minibatches processed:   3840, loss = 0.000000\t\n"
      ]
     },
     "execution_count": 144,
     "metadata": {},
     "output_type": "execute_result"
    },
    {
     "data": {
      "text/plain": [
       "minibatches processed:   3850, loss = 0.000000\t\n"
      ]
     },
     "execution_count": 144,
     "metadata": {},
     "output_type": "execute_result"
    },
    {
     "data": {
      "text/plain": [
       "minibatches processed:   3860, loss = 101276.798237\t\n"
      ]
     },
     "execution_count": 144,
     "metadata": {},
     "output_type": "execute_result"
    },
    {
     "data": {
      "text/plain": [
       "minibatches processed:   3870, loss = 0.000000\t\n"
      ]
     },
     "execution_count": 144,
     "metadata": {},
     "output_type": "execute_result"
    },
    {
     "data": {
      "text/plain": [
       "minibatches processed:   3880, loss = 75144.622080\t\n"
      ]
     },
     "execution_count": 144,
     "metadata": {},
     "output_type": "execute_result"
    },
    {
     "data": {
      "text/plain": [
       "minibatches processed:   3890, loss = 49457.378601\t\n"
      ]
     },
     "execution_count": 144,
     "metadata": {},
     "output_type": "execute_result"
    },
    {
     "data": {
      "text/plain": [
       "minibatches processed:   3900, loss = 0.000000\t\n"
      ]
     },
     "execution_count": 144,
     "metadata": {},
     "output_type": "execute_result"
    },
    {
     "data": {
      "text/plain": [
       "minibatches processed:   3910, loss = 58365.950152\t\n"
      ]
     },
     "execution_count": 144,
     "metadata": {},
     "output_type": "execute_result"
    },
    {
     "data": {
      "text/plain": [
       "minibatches processed:   3920, loss = 22322.545543\t"
      ]
     },
     "execution_count": 144,
     "metadata": {},
     "output_type": "execute_result"
    },
    {
     "data": {
      "text/plain": [
       "\n"
      ]
     },
     "execution_count": 144,
     "metadata": {},
     "output_type": "execute_result"
    },
    {
     "data": {
      "text/plain": [
       "minibatches processed:   3930, loss = 22012.460085\t\n"
      ]
     },
     "execution_count": 144,
     "metadata": {},
     "output_type": "execute_result"
    },
    {
     "data": {
      "text/plain": [
       "minibatches processed:   3940, loss = 0.000000\t\n"
      ]
     },
     "execution_count": 144,
     "metadata": {},
     "output_type": "execute_result"
    },
    {
     "data": {
      "text/plain": [
       "minibatches processed:   3950, loss = 39320.299278\t\n"
      ]
     },
     "execution_count": 144,
     "metadata": {},
     "output_type": "execute_result"
    },
    {
     "data": {
      "text/plain": [
       "minibatches processed:   3960, loss = 0.000000\t\n"
      ]
     },
     "execution_count": 144,
     "metadata": {},
     "output_type": "execute_result"
    },
    {
     "data": {
      "text/plain": [
       "minibatches processed:   3970, loss = 0.000000\t\n"
      ]
     },
     "execution_count": 144,
     "metadata": {},
     "output_type": "execute_result"
    },
    {
     "data": {
      "text/plain": [
       "minibatches processed:   3980, loss = 0.000000\t\n"
      ]
     },
     "execution_count": 144,
     "metadata": {},
     "output_type": "execute_result"
    },
    {
     "data": {
      "text/plain": [
       "minibatches processed:   3990, loss = 52018.218571\t\n"
      ]
     },
     "execution_count": 144,
     "metadata": {},
     "output_type": "execute_result"
    },
    {
     "data": {
      "text/plain": [
       "minibatches processed:   4000, loss = 0.000000\t\n"
      ]
     },
     "execution_count": 144,
     "metadata": {},
     "output_type": "execute_result"
    },
    {
     "data": {
      "text/plain": [
       "minibatches processed:   4010, loss = 0.000000\t\n"
      ]
     },
     "execution_count": 144,
     "metadata": {},
     "output_type": "execute_result"
    },
    {
     "data": {
      "text/plain": [
       "minibatches processed:   4020, loss = 0.000000\t\n"
      ]
     },
     "execution_count": 144,
     "metadata": {},
     "output_type": "execute_result"
    },
    {
     "data": {
      "text/plain": [
       "minibatches processed:   4030, loss = 46613.186460\t\n"
      ]
     },
     "execution_count": 144,
     "metadata": {},
     "output_type": "execute_result"
    },
    {
     "data": {
      "text/plain": [
       "minibatches processed:   4040, loss = 0.000000\t\n"
      ]
     },
     "execution_count": 144,
     "metadata": {},
     "output_type": "execute_result"
    },
    {
     "data": {
      "text/plain": [
       "minibatches processed:   4050, loss = 0.000000\t\n"
      ]
     },
     "execution_count": 144,
     "metadata": {},
     "output_type": "execute_result"
    },
    {
     "data": {
      "text/plain": [
       "minibatches processed:   4060, loss = 2548.945450\t\n"
      ]
     },
     "execution_count": 144,
     "metadata": {},
     "output_type": "execute_result"
    },
    {
     "data": {
      "text/plain": [
       "minibatches processed:   4070, loss = 0.000000\t\n"
      ]
     },
     "execution_count": 144,
     "metadata": {},
     "output_type": "execute_result"
    },
    {
     "data": {
      "text/plain": [
       "minibatches processed:   4080, loss = 0.000000\t\n"
      ]
     },
     "execution_count": 144,
     "metadata": {},
     "output_type": "execute_result"
    },
    {
     "data": {
      "text/plain": [
       "minibatches processed:   4090, loss = 0.000000\t\n"
      ]
     },
     "execution_count": 144,
     "metadata": {},
     "output_type": "execute_result"
    },
    {
     "data": {
      "text/plain": [
       "minibatches processed:   4100, loss = 29283.916524\t\n"
      ]
     },
     "execution_count": 144,
     "metadata": {},
     "output_type": "execute_result"
    },
    {
     "data": {
      "text/plain": [
       "minibatches processed:   4110, loss = 11098.346043\t\n"
      ]
     },
     "execution_count": 144,
     "metadata": {},
     "output_type": "execute_result"
    },
    {
     "data": {
      "text/plain": [
       "minibatches processed:   4120, loss = 0.000000\t\n"
      ]
     },
     "execution_count": 144,
     "metadata": {},
     "output_type": "execute_result"
    },
    {
     "data": {
      "text/plain": [
       "minibatches processed:   4130, loss = 0.000000\t\n"
      ]
     },
     "execution_count": 144,
     "metadata": {},
     "output_type": "execute_result"
    },
    {
     "data": {
      "text/plain": [
       "minibatches processed:   4140, loss = 5239.243959\t\n"
      ]
     },
     "execution_count": 144,
     "metadata": {},
     "output_type": "execute_result"
    },
    {
     "data": {
      "text/plain": [
       "minibatches processed:   4150, loss = 154.899748\t\n"
      ]
     },
     "execution_count": 144,
     "metadata": {},
     "output_type": "execute_result"
    },
    {
     "data": {
      "text/plain": [
       "minibatches processed:   4160, loss = 0.000000\t\n"
      ]
     },
     "execution_count": 144,
     "metadata": {},
     "output_type": "execute_result"
    },
    {
     "data": {
      "text/plain": [
       "minibatches processed:   4170, loss = 0.000000\t\n"
      ]
     },
     "execution_count": 144,
     "metadata": {},
     "output_type": "execute_result"
    },
    {
     "data": {
      "text/plain": [
       "minibatches processed:   4180, loss = 49986.599086\t\n"
      ]
     },
     "execution_count": 144,
     "metadata": {},
     "output_type": "execute_result"
    },
    {
     "data": {
      "text/plain": [
       "minibatches processed:   4190, loss = 6606.604633\t\n"
      ]
     },
     "execution_count": 144,
     "metadata": {},
     "output_type": "execute_result"
    },
    {
     "data": {
      "text/plain": [
       "minibatches processed:   4200, loss = 0.000000\t\n"
      ]
     },
     "execution_count": 144,
     "metadata": {},
     "output_type": "execute_result"
    },
    {
     "data": {
      "text/plain": [
       "minibatches processed:   4210, loss = 0.000000\t\n"
      ]
     },
     "execution_count": 144,
     "metadata": {},
     "output_type": "execute_result"
    },
    {
     "data": {
      "text/plain": [
       "minibatches processed:   4220, loss = 0.000000\t\n"
      ]
     },
     "execution_count": 144,
     "metadata": {},
     "output_type": "execute_result"
    },
    {
     "data": {
      "text/plain": [
       "minibatches processed:   4230, loss = 40215.262623\t\n"
      ]
     },
     "execution_count": 144,
     "metadata": {},
     "output_type": "execute_result"
    },
    {
     "data": {
      "text/plain": [
       "minibatches processed:   4240, loss = 3364.463894\t\n"
      ]
     },
     "execution_count": 144,
     "metadata": {},
     "output_type": "execute_result"
    },
    {
     "data": {
      "text/plain": [
       "minibatches processed:   4250, loss = 1640.851877\t\n"
      ]
     },
     "execution_count": 144,
     "metadata": {},
     "output_type": "execute_result"
    },
    {
     "data": {
      "text/plain": [
       "minibatches processed:   4260, loss = 4041.826959\t\n"
      ]
     },
     "execution_count": 144,
     "metadata": {},
     "output_type": "execute_result"
    },
    {
     "data": {
      "text/plain": [
       "minibatches processed:   4270, loss = 0.000000\t\n"
      ]
     },
     "execution_count": 144,
     "metadata": {},
     "output_type": "execute_result"
    },
    {
     "data": {
      "text/plain": [
       "minibatches processed:   4280, loss = 18638.551995\t\n"
      ]
     },
     "execution_count": 144,
     "metadata": {},
     "output_type": "execute_result"
    },
    {
     "data": {
      "text/plain": [
       "minibatches processed:   4290, loss = 4415.361959\t\n"
      ]
     },
     "execution_count": 144,
     "metadata": {},
     "output_type": "execute_result"
    },
    {
     "data": {
      "text/plain": [
       "minibatches processed:   4300, loss = 0.000000\t\n"
      ]
     },
     "execution_count": 144,
     "metadata": {},
     "output_type": "execute_result"
    },
    {
     "data": {
      "text/plain": [
       "minibatches processed:   4310, loss = 43604.620412\t\n"
      ]
     },
     "execution_count": 144,
     "metadata": {},
     "output_type": "execute_result"
    },
    {
     "data": {
      "text/plain": [
       "minibatches processed:   4320, loss = 0.000000\t\n"
      ]
     },
     "execution_count": 144,
     "metadata": {},
     "output_type": "execute_result"
    },
    {
     "data": {
      "text/plain": [
       "minibatches processed:   4330, loss = 0.000000\t\n"
      ]
     },
     "execution_count": 144,
     "metadata": {},
     "output_type": "execute_result"
    },
    {
     "data": {
      "text/plain": [
       "minibatches processed:   4340, loss = 0.000000\t\n"
      ]
     },
     "execution_count": 144,
     "metadata": {},
     "output_type": "execute_result"
    },
    {
     "data": {
      "text/plain": [
       "minibatches processed:   4350, loss = 0.000000\t\n"
      ]
     },
     "execution_count": 144,
     "metadata": {},
     "output_type": "execute_result"
    },
    {
     "data": {
      "text/plain": [
       "minibatches processed:   4360, loss = 0.000000\t\n"
      ]
     },
     "execution_count": 144,
     "metadata": {},
     "output_type": "execute_result"
    },
    {
     "data": {
      "text/plain": [
       "minibatches processed:   4370, loss = 22634.632592\t\n"
      ]
     },
     "execution_count": 144,
     "metadata": {},
     "output_type": "execute_result"
    },
    {
     "data": {
      "text/plain": [
       "minibatches processed:   4380, loss = 5844.581956\t\n"
      ]
     },
     "execution_count": 144,
     "metadata": {},
     "output_type": "execute_result"
    },
    {
     "data": {
      "text/plain": [
       "minibatches processed:   4390, loss = 0.000000\t\n"
      ]
     },
     "execution_count": 144,
     "metadata": {},
     "output_type": "execute_result"
    },
    {
     "data": {
      "text/plain": [
       "minibatches processed:   4400, loss = 158460.935524\t\n"
      ]
     },
     "execution_count": 144,
     "metadata": {},
     "output_type": "execute_result"
    },
    {
     "data": {
      "text/plain": [
       "minibatches processed:   4410, loss = 42118.879017\t\n"
      ]
     },
     "execution_count": 144,
     "metadata": {},
     "output_type": "execute_result"
    },
    {
     "data": {
      "text/plain": [
       "minibatches processed:   4420, loss = 0.000000\t\n"
      ]
     },
     "execution_count": 144,
     "metadata": {},
     "output_type": "execute_result"
    },
    {
     "data": {
      "text/plain": [
       "minibatches processed:   4430, loss = 0.000000\t\n"
      ]
     },
     "execution_count": 144,
     "metadata": {},
     "output_type": "execute_result"
    },
    {
     "data": {
      "text/plain": [
       "minibatches processed:   4440, loss = 0.000000\t\n"
      ]
     },
     "execution_count": 144,
     "metadata": {},
     "output_type": "execute_result"
    },
    {
     "data": {
      "text/plain": [
       "minibatches processed:   4450, loss = 0.000000\t\n"
      ]
     },
     "execution_count": 144,
     "metadata": {},
     "output_type": "execute_result"
    },
    {
     "data": {
      "text/plain": [
       "minibatches processed:   4460, loss = 0.000000\t\n"
      ]
     },
     "execution_count": 144,
     "metadata": {},
     "output_type": "execute_result"
    },
    {
     "data": {
      "text/plain": [
       "minibatches processed:   4470, loss = 0.000000\t\n"
      ]
     },
     "execution_count": 144,
     "metadata": {},
     "output_type": "execute_result"
    },
    {
     "data": {
      "text/plain": [
       "minibatches processed:   4480, loss = 4910.355088\t\n"
      ]
     },
     "execution_count": 144,
     "metadata": {},
     "output_type": "execute_result"
    },
    {
     "data": {
      "text/plain": [
       "minibatches processed:   4490, loss = 0.000000\t\n"
      ]
     },
     "execution_count": 144,
     "metadata": {},
     "output_type": "execute_result"
    },
    {
     "data": {
      "text/plain": [
       "minibatches processed:   4500, loss = 0.000000\t\n"
      ]
     },
     "execution_count": 144,
     "metadata": {},
     "output_type": "execute_result"
    },
    {
     "data": {
      "text/plain": [
       "minibatches processed:   4510, loss = 54852.415836\t\n"
      ]
     },
     "execution_count": 144,
     "metadata": {},
     "output_type": "execute_result"
    },
    {
     "data": {
      "text/plain": [
       "minibatches processed:   4520, loss = 0.000000\t\n"
      ]
     },
     "execution_count": 144,
     "metadata": {},
     "output_type": "execute_result"
    },
    {
     "data": {
      "text/plain": [
       "minibatches processed:   4530, loss = 0.000000\t\n"
      ]
     },
     "execution_count": 144,
     "metadata": {},
     "output_type": "execute_result"
    },
    {
     "data": {
      "text/plain": [
       "minibatches processed:   4540, loss = 0.000000\t\n"
      ]
     },
     "execution_count": 144,
     "metadata": {},
     "output_type": "execute_result"
    },
    {
     "data": {
      "text/plain": [
       "minibatches processed:   4550, loss = 0.000000\t\n"
      ]
     },
     "execution_count": 144,
     "metadata": {},
     "output_type": "execute_result"
    },
    {
     "data": {
      "text/plain": [
       "minibatches processed:   4560, loss = 18291.060832\t\n"
      ]
     },
     "execution_count": 144,
     "metadata": {},
     "output_type": "execute_result"
    },
    {
     "data": {
      "text/plain": [
       "minibatches processed:   4570, loss = 0.000000\t\n"
      ]
     },
     "execution_count": 144,
     "metadata": {},
     "output_type": "execute_result"
    },
    {
     "data": {
      "text/plain": [
       "minibatches processed:   4580, loss = 24391.384127\t\n"
      ]
     },
     "execution_count": 144,
     "metadata": {},
     "output_type": "execute_result"
    },
    {
     "data": {
      "text/plain": [
       "minibatches processed:   4590, loss = 0.000000\t\n"
      ]
     },
     "execution_count": 144,
     "metadata": {},
     "output_type": "execute_result"
    },
    {
     "data": {
      "text/plain": [
       "minibatches processed:   4600, loss = 0.000000\t\n"
      ]
     },
     "execution_count": 144,
     "metadata": {},
     "output_type": "execute_result"
    },
    {
     "data": {
      "text/plain": [
       "minibatches processed:   4610, loss = 0.000000\t\n"
      ]
     },
     "execution_count": 144,
     "metadata": {},
     "output_type": "execute_result"
    },
    {
     "data": {
      "text/plain": [
       "minibatches processed:   4620, loss = 34703.249306\t\n"
      ]
     },
     "execution_count": 144,
     "metadata": {},
     "output_type": "execute_result"
    },
    {
     "data": {
      "text/plain": [
       "minibatches processed:   4630, loss = 0.000000\t\n"
      ]
     },
     "execution_count": 144,
     "metadata": {},
     "output_type": "execute_result"
    },
    {
     "data": {
      "text/plain": [
       "minibatches processed:   4640, loss = 0.000000\t\n"
      ]
     },
     "execution_count": 144,
     "metadata": {},
     "output_type": "execute_result"
    },
    {
     "data": {
      "text/plain": [
       "minibatches processed:   4650, loss = 149828.136252\t\n"
      ]
     },
     "execution_count": 144,
     "metadata": {},
     "output_type": "execute_result"
    },
    {
     "data": {
      "text/plain": [
       "minibatches processed:   4660, loss = 81786.287591\t\n"
      ]
     },
     "execution_count": 144,
     "metadata": {},
     "output_type": "execute_result"
    },
    {
     "data": {
      "text/plain": [
       "minibatches processed:   4670, loss = 0.000000\t\n"
      ]
     },
     "execution_count": 144,
     "metadata": {},
     "output_type": "execute_result"
    },
    {
     "data": {
      "text/plain": [
       "minibatches processed:   4680, loss = 75744.037436\t\n"
      ]
     },
     "execution_count": 144,
     "metadata": {},
     "output_type": "execute_result"
    },
    {
     "data": {
      "text/plain": [
       "minibatches processed:   4690, loss = 53458.140096\t\n"
      ]
     },
     "execution_count": 144,
     "metadata": {},
     "output_type": "execute_result"
    },
    {
     "data": {
      "text/plain": [
       "minibatches processed:   4700, loss = 0.000000\t\n"
      ]
     },
     "execution_count": 144,
     "metadata": {},
     "output_type": "execute_result"
    },
    {
     "data": {
      "text/plain": [
       "minibatches processed:   4710, loss = 0.000000\t\n"
      ]
     },
     "execution_count": 144,
     "metadata": {},
     "output_type": "execute_result"
    },
    {
     "data": {
      "text/plain": [
       "minibatches processed:   4720, loss = 0.000000\t\n"
      ]
     },
     "execution_count": 144,
     "metadata": {},
     "output_type": "execute_result"
    },
    {
     "data": {
      "text/plain": [
       "minibatches processed:   4730, loss = 0.000000\t\n"
      ]
     },
     "execution_count": 144,
     "metadata": {},
     "output_type": "execute_result"
    },
    {
     "data": {
      "text/plain": [
       "minibatches processed:   4740, loss = 0.000000\t\n"
      ]
     },
     "execution_count": 144,
     "metadata": {},
     "output_type": "execute_result"
    },
    {
     "data": {
      "text/plain": [
       "minibatches processed:   4750, loss = 0.000000\t\n"
      ]
     },
     "execution_count": 144,
     "metadata": {},
     "output_type": "execute_result"
    },
    {
     "data": {
      "text/plain": [
       "minibatches processed:   4760, loss = 0.000000\t\n"
      ]
     },
     "execution_count": 144,
     "metadata": {},
     "output_type": "execute_result"
    },
    {
     "data": {
      "text/plain": [
       "minibatches processed:   4770, loss = 19934.588036\t\n"
      ]
     },
     "execution_count": 144,
     "metadata": {},
     "output_type": "execute_result"
    },
    {
     "data": {
      "text/plain": [
       "minibatches processed:   4780, loss = 0.000000\t\n"
      ]
     },
     "execution_count": 144,
     "metadata": {},
     "output_type": "execute_result"
    },
    {
     "data": {
      "text/plain": [
       "minibatches processed:   4790, loss = 61122.519813\t\n"
      ]
     },
     "execution_count": 144,
     "metadata": {},
     "output_type": "execute_result"
    },
    {
     "data": {
      "text/plain": [
       "minibatches processed:   4800, loss = 0.000000\t\n"
      ]
     },
     "execution_count": 144,
     "metadata": {},
     "output_type": "execute_result"
    },
    {
     "data": {
      "text/plain": [
       "minibatches processed:   4810, loss = 0.000000\t\n"
      ]
     },
     "execution_count": 144,
     "metadata": {},
     "output_type": "execute_result"
    },
    {
     "data": {
      "text/plain": [
       "minibatches processed:   4820, loss = 0.000000\t\n"
      ]
     },
     "execution_count": 144,
     "metadata": {},
     "output_type": "execute_result"
    },
    {
     "data": {
      "text/plain": [
       "minibatches processed:   4830, loss = 74081.180459\t\n"
      ]
     },
     "execution_count": 144,
     "metadata": {},
     "output_type": "execute_result"
    },
    {
     "data": {
      "text/plain": [
       "minibatches processed:   4840, loss = 21611.318574\t\n"
      ]
     },
     "execution_count": 144,
     "metadata": {},
     "output_type": "execute_result"
    },
    {
     "data": {
      "text/plain": [
       "minibatches processed:   4850, loss = 0.000000\t\n"
      ]
     },
     "execution_count": 144,
     "metadata": {},
     "output_type": "execute_result"
    },
    {
     "data": {
      "text/plain": [
       "minibatches processed:   4860, loss = 0.000000\t\n"
      ]
     },
     "execution_count": 144,
     "metadata": {},
     "output_type": "execute_result"
    },
    {
     "data": {
      "text/plain": [
       "minibatches processed:   4870, loss = 0.000000\t\n"
      ]
     },
     "execution_count": 144,
     "metadata": {},
     "output_type": "execute_result"
    },
    {
     "data": {
      "text/plain": [
       "minibatches processed:   4880, loss = 0.000000\t\n"
      ]
     },
     "execution_count": 144,
     "metadata": {},
     "output_type": "execute_result"
    },
    {
     "data": {
      "text/plain": [
       "minibatches processed:   4890, loss = 0.000000\t\n"
      ]
     },
     "execution_count": 144,
     "metadata": {},
     "output_type": "execute_result"
    },
    {
     "data": {
      "text/plain": [
       "minibatches processed:   4900, loss = 0.000000\t\n"
      ]
     },
     "execution_count": 144,
     "metadata": {},
     "output_type": "execute_result"
    },
    {
     "data": {
      "text/plain": [
       "minibatches processed:   4910, loss = 0.000000\t\n"
      ]
     },
     "execution_count": 144,
     "metadata": {},
     "output_type": "execute_result"
    },
    {
     "data": {
      "text/plain": [
       "minibatches processed:   4920, loss = 78043.770246\t\n"
      ]
     },
     "execution_count": 144,
     "metadata": {},
     "output_type": "execute_result"
    },
    {
     "data": {
      "text/plain": [
       "minibatches processed:   4930, loss = 0.000000\t\n"
      ]
     },
     "execution_count": 144,
     "metadata": {},
     "output_type": "execute_result"
    },
    {
     "data": {
      "text/plain": [
       "minibatches processed:   4940, loss = 0.000000\t\n"
      ]
     },
     "execution_count": 144,
     "metadata": {},
     "output_type": "execute_result"
    },
    {
     "data": {
      "text/plain": [
       "minibatches processed:   4950, loss = 3022.405882\t\n"
      ]
     },
     "execution_count": 144,
     "metadata": {},
     "output_type": "execute_result"
    },
    {
     "data": {
      "text/plain": [
       "minibatches processed:   4960, loss = 0.000000\t\n"
      ]
     },
     "execution_count": 144,
     "metadata": {},
     "output_type": "execute_result"
    },
    {
     "data": {
      "text/plain": [
       "minibatches processed:   4970, loss = 21244.269929\t\n"
      ]
     },
     "execution_count": 144,
     "metadata": {},
     "output_type": "execute_result"
    },
    {
     "data": {
      "text/plain": [
       "minibatches processed:   4980, loss = 0.000000\t\n"
      ]
     },
     "execution_count": 144,
     "metadata": {},
     "output_type": "execute_result"
    },
    {
     "data": {
      "text/plain": [
       "minibatches processed:   4990, loss = 115053.789369\t\n"
      ]
     },
     "execution_count": 144,
     "metadata": {},
     "output_type": "execute_result"
    },
    {
     "data": {
      "text/plain": [
       "minibatches processed:   5000, loss = 43310.115508\t\n"
      ]
     },
     "execution_count": 144,
     "metadata": {},
     "output_type": "execute_result"
    },
    {
     "data": {
      "text/plain": [
       "minibatches processed:   5010, loss = 87879.724792\t\n"
      ]
     },
     "execution_count": 144,
     "metadata": {},
     "output_type": "execute_result"
    },
    {
     "data": {
      "text/plain": [
       "minibatches processed:   5020, loss = 0.000000\t\n"
      ]
     },
     "execution_count": 144,
     "metadata": {},
     "output_type": "execute_result"
    },
    {
     "data": {
      "text/plain": [
       "minibatches processed:   5030, loss = 34646.893755\t\n"
      ]
     },
     "execution_count": 144,
     "metadata": {},
     "output_type": "execute_result"
    },
    {
     "data": {
      "text/plain": [
       "minibatches processed:   5040, loss = 46678.581113\t\n"
      ]
     },
     "execution_count": 144,
     "metadata": {},
     "output_type": "execute_result"
    },
    {
     "data": {
      "text/plain": [
       "minibatches processed:   5050, loss = 0.000000\t\n"
      ]
     },
     "execution_count": 144,
     "metadata": {},
     "output_type": "execute_result"
    },
    {
     "data": {
      "text/plain": [
       "minibatches processed:   5060, loss = 61296.581981\t\n"
      ]
     },
     "execution_count": 144,
     "metadata": {},
     "output_type": "execute_result"
    },
    {
     "data": {
      "text/plain": [
       "minibatches processed:   5070, loss = 43775.967704\t\n"
      ]
     },
     "execution_count": 144,
     "metadata": {},
     "output_type": "execute_result"
    },
    {
     "data": {
      "text/plain": [
       "minibatches processed:   5080, loss = 7111.299999\t\n"
      ]
     },
     "execution_count": 144,
     "metadata": {},
     "output_type": "execute_result"
    },
    {
     "data": {
      "text/plain": [
       "minibatches processed:   5090, loss = 0.000000\t\n"
      ]
     },
     "execution_count": 144,
     "metadata": {},
     "output_type": "execute_result"
    },
    {
     "data": {
      "text/plain": [
       "minibatches processed:   5100, loss = 0.000000\t\n"
      ]
     },
     "execution_count": 144,
     "metadata": {},
     "output_type": "execute_result"
    },
    {
     "data": {
      "text/plain": [
       "minibatches processed:   5110, loss = 0.000000\t\n"
      ]
     },
     "execution_count": 144,
     "metadata": {},
     "output_type": "execute_result"
    },
    {
     "data": {
      "text/plain": [
       "minibatches processed:   5120, loss = 0.000000\t\n"
      ]
     },
     "execution_count": 144,
     "metadata": {},
     "output_type": "execute_result"
    },
    {
     "data": {
      "text/plain": [
       "minibatches processed:   5130, loss = 1628.297665\t\n"
      ]
     },
     "execution_count": 144,
     "metadata": {},
     "output_type": "execute_result"
    },
    {
     "data": {
      "text/plain": [
       "minibatches processed:   5140, loss = 32792.733884\t\n"
      ]
     },
     "execution_count": 144,
     "metadata": {},
     "output_type": "execute_result"
    },
    {
     "data": {
      "text/plain": [
       "minibatches processed:   5150, loss = 0.000000\t\n"
      ]
     },
     "execution_count": 144,
     "metadata": {},
     "output_type": "execute_result"
    },
    {
     "data": {
      "text/plain": [
       "minibatches processed:   5160, loss = 0.000000\t\n"
      ]
     },
     "execution_count": 144,
     "metadata": {},
     "output_type": "execute_result"
    },
    {
     "data": {
      "text/plain": [
       "minibatches processed:   5170, loss = 0.000000\t\n"
      ]
     },
     "execution_count": 144,
     "metadata": {},
     "output_type": "execute_result"
    },
    {
     "data": {
      "text/plain": [
       "minibatches processed:   5180, loss = 0.000000\t\n"
      ]
     },
     "execution_count": 144,
     "metadata": {},
     "output_type": "execute_result"
    },
    {
     "data": {
      "text/plain": [
       "minibatches processed:   5190, loss = 0.000000\t\n"
      ]
     },
     "execution_count": 144,
     "metadata": {},
     "output_type": "execute_result"
    },
    {
     "data": {
      "text/plain": [
       "minibatches processed:   5200, loss = 36511.392407\t\n"
      ]
     },
     "execution_count": 144,
     "metadata": {},
     "output_type": "execute_result"
    },
    {
     "data": {
      "text/plain": [
       "minibatches processed:   5210, loss = 0.000000\t\n"
      ]
     },
     "execution_count": 144,
     "metadata": {},
     "output_type": "execute_result"
    },
    {
     "data": {
      "text/plain": [
       "minibatches processed:   5220, loss = 16799.937690\t\n"
      ]
     },
     "execution_count": 144,
     "metadata": {},
     "output_type": "execute_result"
    },
    {
     "data": {
      "text/plain": [
       "minibatches processed:   5230, loss = 73865.912968\t\n"
      ]
     },
     "execution_count": 144,
     "metadata": {},
     "output_type": "execute_result"
    },
    {
     "data": {
      "text/plain": [
       "minibatches processed:   5240, loss = 23532.433618\t\n"
      ]
     },
     "execution_count": 144,
     "metadata": {},
     "output_type": "execute_result"
    },
    {
     "data": {
      "text/plain": [
       "minibatches processed:   5250, loss = 0.000000\t\n"
      ]
     },
     "execution_count": 144,
     "metadata": {},
     "output_type": "execute_result"
    },
    {
     "data": {
      "text/plain": [
       "minibatches processed:   5260, loss = 0.000000\t\n"
      ]
     },
     "execution_count": 144,
     "metadata": {},
     "output_type": "execute_result"
    },
    {
     "data": {
      "text/plain": [
       "minibatches processed:   5270, loss = 25108.311553\t\n"
      ]
     },
     "execution_count": 144,
     "metadata": {},
     "output_type": "execute_result"
    },
    {
     "data": {
      "text/plain": [
       "minibatches processed:   5280, loss = 793.613547\t\n"
      ]
     },
     "execution_count": 144,
     "metadata": {},
     "output_type": "execute_result"
    },
    {
     "data": {
      "text/plain": [
       "minibatches processed:   5290, loss = 32491.961522\t\n"
      ]
     },
     "execution_count": 144,
     "metadata": {},
     "output_type": "execute_result"
    },
    {
     "data": {
      "text/plain": [
       "minibatches processed:   5300, loss = 0.000000\t\n"
      ]
     },
     "execution_count": 144,
     "metadata": {},
     "output_type": "execute_result"
    },
    {
     "data": {
      "text/plain": [
       "minibatches processed:   5310, loss = 0.000000\t\n"
      ]
     },
     "execution_count": 144,
     "metadata": {},
     "output_type": "execute_result"
    },
    {
     "data": {
      "text/plain": [
       "minibatches processed:   5320, loss = 0.000000\t\n"
      ]
     },
     "execution_count": 144,
     "metadata": {},
     "output_type": "execute_result"
    },
    {
     "data": {
      "text/plain": [
       "minibatches processed:   5330, loss = 18459.117386\t\n"
      ]
     },
     "execution_count": 144,
     "metadata": {},
     "output_type": "execute_result"
    },
    {
     "data": {
      "text/plain": [
       "\n",
       " 10000\n",
       "     1\n",
       "[torch.LongStorage of size 2]\n",
       "\n",
       "\n",
       " 10000\n",
       "[torch.LongStorage of size 1]\n",
       "\n"
      ]
     },
     "execution_count": 144,
     "metadata": {},
     "output_type": "execute_result"
    },
    {
     "data": {
      "text/plain": [
       "classification error=\t0.1764\t\n"
      ]
     },
     "execution_count": 144,
     "metadata": {},
     "output_type": "execute_result"
    }
   ],
   "source": [
    "---------------------------------------------------------------------------------------\n",
    "-- Practical 3 - Learning to use different optimizers with logistic regression\n",
    "--\n",
    "-- to run: th -i practical3.lua\n",
    "-- or:     luajit -i practical3.lua\n",
    "---------------------------------------------------------------------------------------\n",
    "\n",
    "require 'torch'\n",
    "require 'math'\n",
    "require 'nn'\n",
    "require 'optim'\n",
    "require 'gnuplot'\n",
    "\n",
    "------------------------------------------------------------------------------\n",
    "-- INITIALIZATION AND DATA\n",
    "------------------------------------------------------------------------------\n",
    "\n",
    "torch.manualSeed(1)    -- fix random seed so program runs the same every time\n",
    "\n",
    "-- TODO: play with these optimizer options for the second handin item, as described in the writeup\n",
    "-- NOTE: see below for optimState, storing optimiser settings\n",
    "local opt = {}         -- these options are used throughout\n",
    "opt.optimization = 'sgd'\n",
    "opt.batch_size = 3\n",
    "opt.train_size = 8000  -- set to 0 or 60000 to use all 60000 training data\n",
    "opt.test_size = 0      -- 0 means load all data\n",
    "opt.epochs = 2         -- **approximate** number of passes through the training data (see below for \n",
    "                       --the `iterations` variable, which is calculated from this)\n",
    "\n",
    "-- NOTE: the code below changes the optimization algorithm used, and its settings\n",
    "local optimState       -- stores a lua table with the optimization algorithm's settings, \n",
    "                       --and state during iterations\n",
    "\n",
    "local optimMethod      -- stores a function corresponding to the optimization routine\n",
    "-- remember, the defaults below are not necessarily good\n",
    "if opt.optimization == 'lbfgs' then\n",
    "  optimState = {\n",
    "    learningRate = 1e-1,\n",
    "    maxIter = 2,\n",
    "    nCorrection = 10\n",
    "  }\n",
    "  optimMethod = optim.lbfgs\n",
    "elseif opt.optimization == 'sgd' then\n",
    "  optimState = {\n",
    "    learningRate = 1e-1,\n",
    "    weightDecay = 0,\n",
    "    momentum = 0,\n",
    "    learningRateDecay = 1e-7\n",
    "  }\n",
    "  optimMethod = optim.sgd\n",
    "elseif opt.optimization == 'adagrad' then\n",
    "  optimState = {\n",
    "    learningRate = 1e-1,\n",
    "  }\n",
    "  optimMethod = optim.adagrad\n",
    "else\n",
    "  error('Unknown optimizer')\n",
    "end\n",
    "\n",
    "mnist.download()       -- download dataset if not already there\n",
    "\n",
    "-- load dataset using dataset-mnist.lua into tensors (first dim of data/labels ranges over data)\n",
    "local function load_dataset(train_or_test, count)\n",
    "    -- load\n",
    "    local data\n",
    "    if train_or_test == 'train' then\n",
    "        data = mnist.loadTrainSet(count, {32, 32})\n",
    "    else\n",
    "        data = mnist.loadTestSet(count, {32, 32})\n",
    "    end\n",
    "\n",
    "    -- shuffle the dataset\n",
    "    local shuffled_indices = torch.randperm(data.data:size(1)):long()\n",
    "    -- creates a shuffled *copy*, with a new storage\n",
    "    data.data = data.data:index(1, shuffled_indices):squeeze()\n",
    "    data.labels = data.labels:index(1, shuffled_indices):squeeze()\n",
    "\n",
    "    -- TODO: (optional) UNCOMMENT to display a training example\n",
    "    -- for more, see torch gnuplot package documentation:\n",
    "    -- https://github.com/torch/gnuplot#plotting-package-manual-with-gnuplot\n",
    "    --gnuplot.imagesc(data.data[10])\n",
    "\n",
    "    -- vectorize each 2D data point into 1D\n",
    "    data.data = data.data:reshape(data.data:size(1), 32*32)\n",
    "\n",
    "    print('--------------------------------')\n",
    "    print(' loaded dataset \"' .. train_or_test .. '\"')\n",
    "    print('inputs', data.data:size())\n",
    "    print('targets', data.labels:size())\n",
    "    print('--------------------------------')\n",
    "\n",
    "    return data\n",
    "end\n",
    "\n",
    "local train = load_dataset('train', opt.train_size)\n",
    "local test = load_dataset('test', opt.test_size)\n",
    "\n",
    "------------------------------------------------------------------------------\n",
    "-- MODEL\n",
    "------------------------------------------------------------------------------\n",
    "\n",
    "local n_train_data = train.data:size(1) -- number of training data\n",
    "local n_inputs = train.data:size(2)     -- number of cols = number of dims of input\n",
    "local n_outputs = train.labels:max()    -- highest label = # of classes\n",
    "\n",
    "print(train.labels:max())\n",
    "print(train.labels:min())\n",
    "\n",
    "local lin_layer = nn.Linear(n_inputs, n_outputs)\n",
    "local softmax = nn.LogSoftMax() \n",
    "local model = nn.Sequential()\n",
    "model:add(lin_layer)\n",
    "model:add(softmax)\n",
    "\n",
    "------------------------------------------------------------------------------\n",
    "-- LOSS FUNCTION\n",
    "------------------------------------------------------------------------------\n",
    "\n",
    "local criterion = nn.ClassNLLCriterion()\n",
    "\n",
    "------------------------------------------------------------------------------\n",
    "-- TRAINING\n",
    "------------------------------------------------------------------------------\n",
    "\n",
    "local parameters, gradParameters = model:getParameters()\n",
    "\n",
    "------------------------------------------------------------------------\n",
    "-- Define closure with mini-batches \n",
    "------------------------------------------------------------------------\n",
    "\n",
    "local counter = 0\n",
    "local feval = function(x)\n",
    "  if x ~= parameters then\n",
    "    parameters:copy(x)\n",
    "  end\n",
    "\n",
    "  -- get start/end indices for our minibatch (in this code we'll call a minibatch a \"batch\")\n",
    "  --           ------- \n",
    "  --          |  ...  |\n",
    "  --        ^ ---------<- start index = i * batchsize + 1\n",
    "  --  batch | |       |\n",
    "  --   size | | batch |       \n",
    "  --        v |   i   |<- end index (inclusive) = start index + batchsize\n",
    "  --          ---------                         = (i + 1) * batchsize + 1\n",
    "  --          |  ...  |                 (except possibly for the last minibatch, we can't \n",
    "  --          --------                   let that one go past the end of the data, so we take a min())\n",
    "  local start_index = counter * opt.batch_size + 1\n",
    "  local end_index = math.min(n_train_data, (counter + 1) * opt.batch_size + 1)\n",
    "  if end_index == n_train_data then\n",
    "    counter = 0\n",
    "  else\n",
    "    counter = counter + 1\n",
    "  end\n",
    "\n",
    "  local batch_inputs = train.data[{{start_index, end_index}, {}}]\n",
    "  local batch_targets = train.labels[{{start_index, end_index}}]\n",
    "  gradParameters:zero()\n",
    "\n",
    "  -- In order, these lines compute:\n",
    "  -- 1. compute outputs (log probabilities) for each data point\n",
    "  local batch_outputs = model:forward(batch_inputs)\n",
    "  -- 2. compute the loss of these outputs, measured against the true labels in batch_target\n",
    "  local batch_loss = criterion:forward(batch_outputs, batch_targets)\n",
    "  -- 3. compute the derivative of the loss wrt the outputs of the model\n",
    "  local dloss_doutput = criterion:backward(batch_outputs, batch_targets) \n",
    "  -- 4. use gradients to update weights, we'll understand this step more next week\n",
    "  model:backward(batch_inputs, dloss_doutput)\n",
    "\n",
    "  -- optim expects us to return\n",
    "  --     loss, (gradient of loss with respect to the weights that we're optimizing)\n",
    "  return batch_loss, gradParameters\n",
    "end\n",
    "  \n",
    "------------------------------------------------------------------------\n",
    "-- OPTIMIZE: FIRST HANDIN ITEM\n",
    "------------------------------------------------------------------------\n",
    "local losses = {}          -- training losses for each iteration/minibatch\n",
    "local epochs = opt.epochs  -- number of full passes over all the training data\n",
    "local iterations = epochs * math.ceil(n_train_data / opt.batch_size) -- integer number of minibatches to process\n",
    "-- (note: number of training data might not be divisible by the batch size, so we round up)\n",
    "\n",
    "-- In each iteration, we:\n",
    "--    1. call the optimization routine, which\n",
    "--      a. calls feval(parameters), which\n",
    "--          i. grabs the next minibatch\n",
    "--         ii. returns the loss value and the gradient of the loss wrt the parameters, evaluated on the minibatch\n",
    "--      b. the optimization routine uses this gradient to adjust the parameters so as to reduce the loss.\n",
    "--    3. then we append the loss to a table (list) and print it\n",
    "for i = 1, iterations do\n",
    "  -- optimMethod is a variable storing a function, either optim.sgd or optim.adagrad or ...\n",
    "  -- see documentation for more information on what these functions do and return:\n",
    "  --   https://github.com/torch/optim\n",
    "  -- it returns (new_parameters, table), where table[0] is the value of the function being optimized\n",
    "  -- and we can ignore new_parameters because `parameters` is updated in-place every time we call \n",
    "  -- the optim module's function. It uses optimState to hide away its bookkeeping that it needs to do\n",
    "  -- between iterations.\n",
    "  local _, minibatch_loss = optimMethod(feval, parameters, optimState)\n",
    "\n",
    "  -- Our loss function is cross-entropy, divided by the number of data points,\n",
    "  -- therefore the units (units in the physics sense) of the loss is \"loss per data sample\".\n",
    "  -- Since we evaluate the loss on a different minibatch each time, the loss will sometimes \n",
    "  -- fluctuate upwards slightly (i.e. the loss estimate is noisy).\n",
    "  if i % 10 == 0 then -- don't print *every* iteration, this is enough to get the gist\n",
    "      print(string.format(\"minibatches processed: %6s, loss = %6.6f\", i, minibatch_loss[1]))\n",
    "  end\n",
    "  -- TIP: use this same idea of not saving the test loss in every iteration if you want to increase speed.\n",
    "  -- Then you can get, 10 (for example) times fewer values than the training loss. If you do this,\n",
    "  -- you just have to be careful to give the correct x-values to the plotting function, rather than\n",
    "  -- Tensor{1,2,...,#losses}. HINT: look up the torch.linspace function, and note that torch.range(1, #losses)\n",
    "  -- is the same as torch.linspace(1, #losses, #losses).\n",
    "\n",
    "  losses[#losses + 1] = minibatch_loss[1] -- append the new loss\n",
    "end\n",
    "\n",
    "-- TODO: for the first handin item, evaluate test loss above, and add to the plot below\n",
    "--       see TIP/HINT above if you want to make the optimization loop faster\n",
    "\n",
    "-- Turn table of losses into a torch Tensor, and plot it\n",
    "gnuplot.plot({\n",
    "  torch.range(1, #losses),        -- x-coordinates for data to plot, creates a tensor holding {1,2,3,...,#losses}\n",
    "  torch.Tensor(losses),           -- y-coordinates (the training losses)\n",
    "  '-'})\n",
    "\n",
    "------------------------------------------------------------------------------\n",
    "-- TESTING THE LEARNED MODEL: 2ND HANDIN ITEM\n",
    "------------------------------------------------------------------------------\n",
    "\n",
    "local logProbs = model:forward(test.data)\n",
    "classProbabilities = torch.exp(logProbs)\n",
    "_, classPredictions = torch.max(classProbabilities, 2)\n",
    "-- classPredictions holds predicted classes from 1-10\n",
    "\n",
    "-- TODO: compute test classification error here for the second handin item\n",
    "-- classPredictions holds predicted classes from 1-10\n",
    "print(#classPredictions)\n",
    "print(#test.labels)\n",
    "local correctCount = 0\n",
    "for i = 1, classPredictions:size(1) do\n",
    "  if(classPredictions[i][1] == test.labels[i]) then  correctCount = correctCount + 1 end\n",
    "end\n",
    "-- TODO: compute test classification error here for the second handin item\n",
    "--print('correctCount=',correctCount)--\n",
    "print('classification error=',(1-correctCount/classPredictions:size(1)))"
   ]
  },
  {
   "cell_type": "code",
   "execution_count": 149,
   "metadata": {
    "collapsed": false
   },
   "outputs": [],
   "source": [
    "--classPredictions"
   ]
  },
  {
   "cell_type": "code",
   "execution_count": null,
   "metadata": {
    "collapsed": true
   },
   "outputs": [],
   "source": []
  },
  {
   "cell_type": "code",
   "execution_count": null,
   "metadata": {
    "collapsed": true
   },
   "outputs": [],
   "source": []
  },
  {
   "cell_type": "code",
   "execution_count": 16,
   "metadata": {
    "collapsed": true
   },
   "outputs": [],
   "source": [
    "--Simple Example derrivative"
   ]
  },
  {
   "cell_type": "code",
   "execution_count": 29,
   "metadata": {
    "collapsed": true
   },
   "outputs": [],
   "source": [
    "require 'torch'\n",
    "require 'optim'"
   ]
  },
  {
   "cell_type": "code",
   "execution_count": 24,
   "metadata": {
    "collapsed": true
   },
   "outputs": [],
   "source": [
    "--------------------------------------------------------------------------------\n",
    "-- Simple example of minimizing a function,\n",
    "--    f(x) = 1/2 x^2 + x sin(x)\n",
    "-- with derivative\n",
    "--    f'(x) = x + x cos(x) + sin(x).\n",
    "--\n",
    "-- Here's a plot:\n",
    "-- http://www.wolframalpha.com/input/?i=plot+0.5*x%5E2+%2B+x+sin%28x%29+from+-2+to+4\n",
    "--\n",
    "--------------------------------------------------------------------------------"
   ]
  },
  {
   "cell_type": "code",
   "execution_count": 35,
   "metadata": {
    "collapsed": false
   },
   "outputs": [
    {
     "data": {
      "text/plain": [
       " 0\n",
       "[torch.DoubleTensor of size 1]\n",
       "\n"
      ]
     },
     "execution_count": 35,
     "metadata": {},
     "output_type": "execute_result"
    }
   ],
   "source": [
    "-- preallocate space for gradient, which is 1-dim and 1 element\n",
    "-- (since f is univariate)\n",
    "grad = torch.Tensor{0}\n",
    "print(grad)"
   ]
  },
  {
   "cell_type": "code",
   "execution_count": 36,
   "metadata": {
    "collapsed": true
   },
   "outputs": [],
   "source": [
    "-- return function's value and the gradient, at a given point x_vec\n",
    "function feval(x_vec)\n",
    "    --note: x_vec is a Tensor of 1-dim and size 1, so\n",
    "    --we get its one and only element:\n",
    "    local x = x_vec[1]\n",
    "    --compute and return func val(scalar) and gradient (Tensor)\n",
    "    f = 0.5*x^2 + x*torch.sin(x)\n",
    "    grad[1] = x+torch.sin(x) + x*torch.cos(x)\n",
    "    return f, grad\n",
    "end"
   ]
  },
  {
   "cell_type": "code",
   "execution_count": 37,
   "metadata": {
    "collapsed": true
   },
   "outputs": [],
   "source": [
    "--where to start the algorithm(usually random but here we wont since its demo)\n",
    "--Note: Try a few starting points, using the plot for pointers\n",
    "x = torch.Tensor{5}\n",
    "\n",
    "--optim functions use this table for bookkeeping and for reading options\n",
    "state = {learningRate = 1e-2}\n"
   ]
  },
  {
   "cell_type": "code",
   "execution_count": 40,
   "metadata": {
    "collapsed": false
   },
   "outputs": [
    {
     "data": {
      "text/plain": [
       "iter=4285\t\n",
       "3.677549\t\n"
      ]
     },
     "execution_count": 40,
     "metadata": {},
     "output_type": "execute_result"
    }
   ],
   "source": [
    "--stop when the gradient is close to 0 or after many iteration\n",
    "local iter = 0\n",
    "while true do\n",
    "    -- optim has multiple functions, such as adagrad, sgd, lbfgs, and others\n",
    "    -- see documentation for more details\n",
    "    optim.adagrad(feval, x, state)\n",
    "    \n",
    "    -- gradient norm is SOMETIMES a good measure of how close we are to the optimum, but often not.\n",
    "    -- the issue is that we'd stop at points like x=0 for x^3\n",
    "    if grad:norm() < 0.005 or iter > 50000 then\n",
    "        break\n",
    "    end\n",
    "    iter = iter + 1\n",
    "end\n",
    "\n",
    "print('iter='..iter)\n",
    "print(string.format(\"%.6f\",x[1]))"
   ]
  },
  {
   "cell_type": "code",
   "execution_count": 39,
   "metadata": {
    "collapsed": false
   },
   "outputs": [
    {
     "data": {
      "text/plain": [
       "nil\t\n"
      ]
     },
     "execution_count": 39,
     "metadata": {},
     "output_type": "execute_result"
    }
   ],
   "source": []
  },
  {
   "cell_type": "code",
   "execution_count": null,
   "metadata": {
    "collapsed": true
   },
   "outputs": [],
   "source": []
  },
  {
   "cell_type": "code",
   "execution_count": null,
   "metadata": {
    "collapsed": true
   },
   "outputs": [],
   "source": []
  },
  {
   "cell_type": "code",
   "execution_count": 150,
   "metadata": {
    "collapsed": true
   },
   "outputs": [],
   "source": [
    "-- iris data sets "
   ]
  },
  {
   "cell_type": "code",
   "execution_count": 153,
   "metadata": {
    "collapsed": false
   },
   "outputs": [],
   "source": [
    "require 'csv'\n",
    "require 'nn'"
   ]
  },
  {
   "cell_type": "code",
   "execution_count": 154,
   "metadata": {
    "collapsed": true
   },
   "outputs": [],
   "source": [
    "--prepare data set\n",
    "dataset = {}\n",
    "size = 0"
   ]
  },
  {
   "cell_type": "code",
   "execution_count": 155,
   "metadata": {
    "collapsed": true
   },
   "outputs": [],
   "source": [
    "ans = {setosa=1,versicolor=2,virginica=3}"
   ]
  },
  {
   "cell_type": "code",
   "execution_count": 156,
   "metadata": {
    "collapsed": false
   },
   "outputs": [
    {
     "data": {
      "text/plain": [
       "1e-310 *\n",
       " 6.9202\n",
       " 6.9202\n",
       " 0.0004\n",
       " 0.0000\n",
       "[torch.DoubleTensor of size 4]\n",
       "\n"
      ]
     },
     "execution_count": 156,
     "metadata": {},
     "output_type": "execute_result"
    },
    {
     "data": {
      "text/plain": [
       "1e-310 *\n",
       " 6.9202\n",
       " 6.9202\n",
       " 0.0000\n",
       "[torch.DoubleTensor of size 3]\n",
       "\n",
       " 5.1000\n",
       " 0.0000\n",
       " 0.0000\n",
       " 0.0000\n",
       "[torch.DoubleTensor of size 4]\n",
       "\n",
       "1e-310 *\n",
       " 6.9202\n",
       " 6.9202\n",
       " 0.0000\n",
       "[torch.DoubleTensor of size 3]\n",
       "\n",
       " 5.1000\n",
       " 3.5000\n",
       " 0.0000\n",
       " 0.0000\n",
       "[torch.DoubleTensor of size 4]\n",
       "\n",
       "1e-310 *\n",
       " 6.9202\n",
       " 6.9202\n",
       " 0.0000\n",
       "[torch.DoubleTensor of size 3]\n",
       "\n",
       " 5.1000\n",
       " 3.5000\n",
       " 1.4000\n",
       " 0.0000\n",
       "[torch.DoubleTensor of size 4]\n",
       "\n",
       "1e-310 *\n",
       " 6.9202\n",
       " 6.9202\n",
       " 0.0000\n",
       "[torch.DoubleTensor of size 3]\n",
       "\n"
      ]
     },
     "execution_count": 156,
     "metadata": {},
     "output_type": "execute_result"
    },
    {
     "data": {
      "text/plain": [
       " 5.1000\n",
       " 3.5000\n",
       " 1.4000\n",
       " 0.2000\n",
       "[torch.DoubleTensor of size 4]\n",
       "\n",
       "1e-310 *\n",
       " 6.9202\n",
       " 6.9202\n",
       " 0.0000\n",
       "[torch.DoubleTensor of size 3]\n",
       "\n",
       " 5.1000\n",
       " 3.5000\n",
       " 1.4000\n",
       " 0.2000\n",
       "[torch.DoubleTensor of size 4]\n",
       "\n",
       " 1\n",
       " 0\n",
       " 0\n",
       "[torch.DoubleTensor of size 3]\n",
       "\n",
       "1e-310 *\n",
       " 6.9202\n",
       " 6.9202\n",
       " 0.0000\n",
       " 0.0000\n",
       "[torch.DoubleTensor of size 4]\n",
       "\n",
       "1e-310 *\n",
       " 6.9202\n",
       " 6.9202\n",
       " 0.0000\n",
       "[torch.DoubleTensor of size 3]\n",
       "\n",
       " 4.9000\n",
       " 0.0000\n",
       " 0.0000\n",
       " 0.0000\n",
       "[torch.DoubleTensor of size 4]\n",
       "\n",
       "1e-310 *\n",
       " 6.9202\n",
       " 6.9202\n",
       " 0.0000\n",
       "[torch.DoubleTensor of size 3]\n",
       "\n",
       " 4.9000\n",
       " 3.0000\n",
       " 0.0000\n",
       " 0.0000\n",
       "[torch.DoubleTensor of size 4]\n",
       "\n"
      ]
     },
     "execution_count": 156,
     "metadata": {},
     "output_type": "execute_result"
    },
    {
     "data": {
      "text/plain": [
       "1e-310 *\n",
       " 6.9202\n",
       " 6.9202\n",
       " 0.0000\n",
       "[torch.DoubleTensor of size 3]\n",
       "\n",
       " 4.9000\n",
       " 3.0000\n",
       " 1.4000\n",
       " 0.0000\n",
       "[torch.DoubleTensor of size 4]\n",
       "\n",
       "1e-310 *\n",
       " 6.9202\n",
       " 6.9202\n",
       " 0.0000\n",
       "[torch.DoubleTensor of size 3]\n",
       "\n",
       " 4.9000\n",
       " 3.0000\n",
       " 1.4000\n",
       " 0.2000\n",
       "[torch.DoubleTensor of size 4]\n",
       "\n",
       "1e-310 *\n",
       " 6.9202\n",
       " 6.9202\n",
       " 0.0000\n",
       "[torch.DoubleTensor of size 3]\n",
       "\n",
       " 4.9000\n",
       " 3.0000\n",
       " 1.4000\n",
       " 0.2000\n",
       "[torch.DoubleTensor of size 4]\n",
       "\n",
       " 1\n",
       " 0\n",
       " 0\n",
       "[torch.DoubleTensor of size 3]\n",
       "\n",
       "1e-310 *\n",
       " 6.9202\n",
       " 6.9202\n",
       " 0.0000\n",
       " 0.0000\n",
       "[torch.DoubleTensor of size 4]\n",
       "\n",
       "1e-310 *\n",
       " 6.9202\n",
       " 6.9202\n",
       " 0.0000\n",
       "[torch.DoubleTensor of size 3]\n",
       "\n"
      ]
     },
     "execution_count": 156,
     "metadata": {},
     "output_type": "execute_result"
    },
    {
     "data": {
      "text/plain": [
       " 4.7000\n",
       " 0.0000\n",
       " 0.0000\n",
       " 0.0000\n",
       "[torch.DoubleTensor of size 4]\n",
       "\n",
       "1e-310 *\n",
       " 6.9202\n",
       " 6.9202\n",
       " 0.0000\n",
       "[torch.DoubleTensor of size 3]\n",
       "\n",
       " 4.7000\n",
       " 3.2000\n",
       " 0.0000\n",
       " 0.0000\n",
       "[torch.DoubleTensor of size 4]\n",
       "\n",
       "1e-310 *\n",
       " 6.9202\n",
       " 6.9202\n",
       " 0.0000\n",
       "[torch.DoubleTensor of size 3]\n",
       "\n",
       " 4.7000\n",
       " 3.2000\n",
       " 1.3000\n",
       " 0.0000\n",
       "[torch.DoubleTensor of size 4]\n",
       "\n",
       "1e-310 *\n",
       " 6.9202\n",
       " 6.9202\n",
       " 0.0000\n",
       "[torch.DoubleTensor of size 3]\n",
       "\n",
       " 4.7000\n",
       " 3.2000\n",
       " 1.3000\n",
       " 0.2000\n",
       "[torch.DoubleTensor of size 4]\n",
       "\n",
       "1e-310 *\n",
       " 6.9202\n",
       " 6.9202\n",
       " 0.0000\n",
       "[torch.DoubleTensor of size 3]\n",
       "\n",
       " 4.7000\n",
       " 3.2000\n",
       " 1.3000\n",
       " 0.2000\n",
       "[torch.DoubleTensor of size 4]\n",
       "\n",
       " 1\n",
       " 0\n",
       " 0\n",
       "[torch.DoubleTensor of size 3]\n",
       "\n"
      ]
     },
     "execution_count": 156,
     "metadata": {},
     "output_type": "execute_result"
    },
    {
     "data": {
      "text/plain": [
       "1e-310 *\n",
       " 6.9202\n",
       " 6.9202\n",
       " 0.0000\n",
       " 0.0000\n",
       "[torch.DoubleTensor of size 4]\n",
       "\n",
       "1e-310 *\n",
       " 6.9202\n",
       " 6.9202\n",
       " 0.0000\n",
       "[torch.DoubleTensor of size 3]\n",
       "\n",
       " 4.6000\n",
       " 0.0000\n",
       " 0.0000\n",
       " 0.0000\n",
       "[torch.DoubleTensor of size 4]\n",
       "\n",
       "1e-310 *\n",
       " 6.9202\n",
       " 6.9202\n",
       " 0.0000\n",
       "[torch.DoubleTensor of size 3]\n",
       "\n",
       " 4.6000\n",
       " 3.1000\n",
       " 0.0000\n",
       " 0.0000\n",
       "[torch.DoubleTensor of size 4]\n",
       "\n",
       "1e-310 *\n",
       " 6.9202\n",
       " 6.9202\n",
       " 0.0000\n",
       "[torch.DoubleTensor of size 3]\n",
       "\n",
       " 4.6000\n",
       " 3.1000\n",
       " 1.5000\n",
       " 0.0000\n",
       "[torch.DoubleTensor of size 4]\n",
       "\n",
       "1e-310 *\n",
       " 6.9202\n",
       " 6.9202\n",
       " 0.0000\n",
       "[torch.DoubleTensor of size 3]\n",
       "\n",
       " 4.6000\n",
       " 3.1000\n",
       " 1.5000\n",
       " 0.2000\n",
       "[torch.DoubleTensor of size 4]\n",
       "\n",
       "1e-310 *\n",
       " 6.9202\n",
       " 6.9202\n",
       " 0.0000\n",
       "[torch.DoubleTensor of size 3]\n",
       "\n",
       " 4.6000\n",
       " 3.1000\n",
       " 1.5000\n",
       " 0.2000\n",
       "[torch.DoubleTensor of size 4]\n",
       "\n",
       " 1\n",
       " 0\n",
       " 0\n",
       "[torch.DoubleTensor of size 3]\n",
       "\n",
       "1e-310 *\n",
       " 6.9202\n",
       " 6.9202\n",
       " 0.0000\n",
       " 0.0000\n",
       "[torch.DoubleTensor of size 4]\n",
       "\n",
       "1e-310 *\n",
       " 6.9202\n",
       " 6.9202\n",
       " 0.0000\n",
       "[torch.DoubleTensor of size 3]\n",
       "\n",
       " 5.0000\n",
       " 0.0000\n",
       " 0.0000\n",
       " 0.0000\n",
       "[torch.DoubleTensor of size 4]\n",
       "\n",
       "1e-310 *\n",
       " 6.9202\n",
       " 6.9202\n",
       " 0.0000\n",
       "[torch.DoubleTensor of size 3]\n",
       "\n",
       " 5.0000\n",
       " 3.6000\n",
       " 0.0000\n",
       " 0.0000\n",
       "[torch.DoubleTensor of size 4]\n",
       "\n",
       "1e-310 *\n",
       " 6.9202\n",
       " 6.9202\n",
       " 0.0000\n",
       "[torch.DoubleTensor of size 3]\n",
       "\n",
       " 5.0000\n",
       " 3.6000\n",
       " 1.4000\n",
       " 0.0000\n",
       "[torch.DoubleTensor of size 4]\n",
       "\n",
       "1e-310 *\n",
       " 6.9202\n",
       " 6.9202\n",
       " 0.0000\n",
       "[torch.DoubleTensor of size 3]\n",
       "\n",
       " 5.0000\n",
       " 3.6000\n",
       " 1.4000\n",
       " 0.2000\n",
       "[torch.DoubleTensor of size 4]\n",
       "\n",
       "1e-310 *\n",
       " 6.9202\n",
       " 6.9202\n",
       " 0.0000\n",
       "[torch.DoubleTensor of size 3]\n",
       "\n",
       " 5.0000\n",
       " 3.6000\n",
       " 1.4000\n",
       " 0.2000\n",
       "[torch.DoubleTensor of size 4]\n",
       "\n",
       " 1\n",
       " 0\n",
       " 0\n",
       "[torch.DoubleTensor of size 3]\n",
       "\n",
       "1e-310 *\n",
       " 6.9202\n",
       " 6.9202\n",
       " 0.0000\n",
       " 0.0000\n",
       "[torch.DoubleTensor of size 4]\n",
       "\n",
       "1e-310 *\n",
       " 6.9202\n",
       " 6.9202\n",
       " 0.0000\n",
       "[torch.DoubleTensor of size 3]\n",
       "\n",
       " 5.4000\n",
       " 0.0000\n",
       " 0.0000\n",
       " 0.0000\n",
       "[torch.DoubleTensor of size 4]\n",
       "\n",
       "1e-310 *\n",
       " 6.9202\n",
       " 6.9202\n",
       " 0.0000\n",
       "[torch.DoubleTensor of size 3]\n",
       "\n",
       " 5.4000\n",
       " 3.9000\n",
       " 0.0000\n",
       " 0.0000\n",
       "[torch.DoubleTensor of size 4]\n",
       "\n",
       "1e-310 *\n",
       " 6.9202\n",
       " 6.9202\n",
       " 0.0000\n",
       "[torch.DoubleTensor of size 3]\n",
       "\n",
       " 5.4000\n",
       " 3.9000\n",
       " 1.7000\n",
       " 0.0000\n",
       "[torch.DoubleTensor of size 4]\n",
       "\n",
       "1e-310 *\n",
       " 6.9202\n",
       " 6.9202\n",
       " 0.0000\n",
       "[torch.DoubleTensor of size 3]\n",
       "\n",
       " 5.4000\n",
       " 3.9000\n",
       " 1.7000\n",
       " 0.4000\n",
       "[torch.DoubleTensor of size 4]\n",
       "\n",
       "1e-310 *\n",
       " 6.9202\n",
       " 6.9202\n",
       " 0.0000\n",
       "[torch.DoubleTensor of size 3]\n",
       "\n",
       " 5.4000\n",
       " 3.9000\n",
       " 1.7000\n",
       " 0.4000\n",
       "[torch.DoubleTensor of size 4]\n",
       "\n",
       " 1\n",
       " 0\n",
       " 0\n",
       "[torch.DoubleTensor of size 3]\n",
       "\n",
       "1e-310 *\n",
       " 6.9202\n",
       " 6.9202\n",
       " 0.0000\n",
       " 0.0000\n",
       "[torch.DoubleTensor of size 4]\n",
       "\n",
       "1e-310 *\n",
       " 6.9202\n",
       " 6.9202\n",
       " 0.0000\n",
       "[torch.DoubleTensor of size 3]\n",
       "\n",
       " 4.6000\n",
       " 0.0000\n",
       " 0.0000\n",
       " 0.0000\n",
       "[torch.DoubleTensor of size 4]\n",
       "\n",
       "1e-310 *\n",
       " 6.9202\n",
       " 6.9202\n",
       " 0.0000\n",
       "[torch.DoubleTensor of size 3]\n",
       "\n",
       " 4.6000\n",
       " 3.4000\n",
       " 0.0000\n",
       " 0.0000\n",
       "[torch.DoubleTensor of size 4]\n",
       "\n",
       "1e-310 *\n",
       " 6.9202\n",
       " 6.9202\n",
       " 0.0000\n",
       "[torch.DoubleTensor of size 3]\n",
       "\n",
       " 4.6000\n",
       " 3.4000\n",
       " 1.4000\n",
       " 0.0000\n",
       "[torch.DoubleTensor of size 4]\n",
       "\n",
       "1e-310 *\n",
       " 6.9202\n",
       " 6.9202\n",
       " 0.0000\n",
       "[torch.DoubleTensor of size 3]\n",
       "\n",
       " 4.6000\n",
       " 3.4000\n",
       " 1.4000\n",
       " 0.3000\n",
       "[torch.DoubleTensor of size 4]\n",
       "\n",
       "1e-310 *\n",
       " 6.9202\n",
       " 6.9202\n",
       " 0.0000\n",
       "[torch.DoubleTensor of size 3]\n",
       "\n",
       " 4.6000\n",
       " 3.4000\n",
       " 1.4000\n",
       " 0.3000\n",
       "[torch.DoubleTensor of size 4]\n",
       "\n",
       " 1\n",
       " 0\n",
       " 0\n",
       "[torch.DoubleTensor of size 3]\n",
       "\n",
       "1e-310 *\n",
       " 6.9202\n",
       " 6.9202\n",
       " 0.0000\n",
       " 0.0000\n",
       "[torch.DoubleTensor of size 4]\n",
       "\n",
       "1e-310 *\n",
       " 6.9202\n",
       " 6.9202\n",
       " 0.0000\n",
       "[torch.DoubleTensor of size 3]\n",
       "\n",
       " 5.0000\n",
       " 0.0000\n",
       " 0.0000\n",
       " 0.0000\n",
       "[torch.DoubleTensor of size 4]\n",
       "\n",
       "1e-310 *\n",
       " 6.9202\n",
       " 6.9202\n",
       " 0.0000\n",
       "[torch.DoubleTensor of size 3]\n",
       "\n",
       " 5.0000\n",
       " 3.4000\n",
       " 0.0000\n",
       " 0.0000\n",
       "[torch.DoubleTensor of size 4]\n",
       "\n",
       "1e-310 *\n",
       " 6.9202\n",
       " 6.9202\n",
       " 0.0000\n",
       "[torch.DoubleTensor of size 3]\n",
       "\n",
       " 5.0000\n",
       " 3.4000\n",
       " 1.5000\n",
       " 0.0000\n",
       "[torch.DoubleTensor of size 4]\n",
       "\n",
       "1e-310 *\n",
       " 6.9202\n",
       " 6.9202\n",
       " 0.0000\n",
       "[torch.DoubleTensor of size 3]\n",
       "\n",
       " 5.0000\n",
       " 3.4000\n",
       " 1.5000\n",
       " 0.2000\n",
       "[torch.DoubleTensor of size 4]\n",
       "\n",
       "1e-310 *\n",
       " 6.9202\n",
       " 6.9202\n",
       " 0.0000\n",
       "[torch.DoubleTensor of size 3]\n",
       "\n",
       " 5.0000\n",
       " 3.4000\n",
       " 1.5000\n",
       " 0.2000\n",
       "[torch.DoubleTensor of size 4]\n",
       "\n",
       " 1\n",
       " 0\n",
       " 0\n",
       "[torch.DoubleTensor of size 3]\n",
       "\n",
       "1e-310 *\n",
       " 6.9202\n",
       " 6.9202\n",
       " 0.0000\n",
       " 0.0000\n",
       "[torch.DoubleTensor of size 4]\n",
       "\n",
       "1e-310 *\n",
       " 6.9202\n",
       " 6.9202\n",
       " 0.0000\n",
       "[torch.DoubleTensor of size 3]\n",
       "\n",
       " 4.4000\n",
       " 0.0000\n",
       " 0.0000\n",
       " 0.0000\n",
       "[torch.DoubleTensor of size 4]\n",
       "\n",
       "1e-310 *\n",
       " 6.9202\n",
       " 6.9202\n",
       " 0.0000\n",
       "[torch.DoubleTensor of size 3]\n",
       "\n",
       " 4.4000\n",
       " 2.9000\n",
       " 0.0000\n",
       " 0.0000\n",
       "[t"
      ]
     },
     "execution_count": 156,
     "metadata": {},
     "output_type": "execute_result"
    },
    {
     "data": {
      "text/plain": [
       "orch.DoubleTensor of size 4]\n",
       "\n",
       "1e-310 *\n",
       " 6.9202\n",
       " 6.9202\n",
       " 0.0000\n",
       "[torch.DoubleTensor of size 3]\n",
       "\n",
       " 4.4000\n",
       " 2.9000\n",
       " 1.4000\n",
       " 0.0000\n",
       "[torch.DoubleTensor of size 4]\n",
       "\n",
       "1e-310 *\n",
       " 6.9202\n",
       " 6.9202\n",
       " 0.0000\n",
       "[torch.DoubleTensor of size 3]\n",
       "\n",
       " 4.4000\n",
       " 2.9000\n",
       " 1.4000\n",
       " 0.2000\n",
       "[torch.DoubleTensor of size 4]\n",
       "\n",
       "1e-310 *\n",
       " 6.9202\n",
       " 6.9202\n",
       " 0.0000\n",
       "[torch.DoubleTensor of size 3]\n",
       "\n",
       " 4.4000\n",
       " 2.9000\n",
       " 1.4000\n",
       " 0.2000\n",
       "[torch.DoubleTensor of size 4]\n",
       "\n",
       " 1\n",
       " 0\n",
       " 0\n",
       "[torch.DoubleTensor of size 3]\n",
       "\n",
       "1e-310 *\n",
       " 6.9202\n",
       " 6.9202\n",
       " 0.0000\n",
       " 0.0000\n",
       "[torch.DoubleTensor of size 4]\n",
       "\n",
       "1e-310 *\n",
       " 6.9202\n",
       " 6.9202\n",
       " 0.0000\n",
       "[torch.DoubleTensor of size 3]\n",
       "\n",
       " 4.9000\n",
       " 0.0000\n",
       " 0.0000\n",
       " 0.0000\n",
       "[torch.DoubleTensor of size 4]\n",
       "\n",
       "1e-310 *\n",
       " 6.9202\n",
       " 6.9202\n",
       " 0.0000\n",
       "[torch.DoubleTensor of size 3]\n",
       "\n",
       " 4.9000\n",
       " 3.1000\n",
       " 0.0000\n",
       " 0.0000\n",
       "[torch.DoubleTensor of size 4]\n",
       "\n",
       "1e-310 *\n",
       " 6.9202\n",
       " 6.9202\n",
       " 0.0000\n",
       "[torch.DoubleTensor of size 3]\n",
       "\n",
       " 4.9000\n",
       " 3.1000\n",
       " 1.5000\n",
       " 0.0000\n",
       "[torch.DoubleTensor of size 4]\n",
       "\n",
       "1e-310 *\n",
       " 6.9202\n",
       " 6.9202\n",
       " 0.0000\n",
       "[torch.DoubleTensor of size 3]\n",
       "\n",
       " 4.9000\n",
       " 3.1000\n",
       " 1.5000\n",
       " 0.1000\n",
       "[torch.DoubleTensor of size 4]\n",
       "\n",
       "1e-310 *\n",
       " 6.9202\n",
       " 6.9202\n",
       " 0.0000\n",
       "[torch.DoubleTensor of size 3]\n",
       "\n",
       " 4.9000\n",
       " 3.1000\n",
       " 1.5000\n",
       " 0.1000\n",
       "[torch.DoubleTensor of size 4]\n",
       "\n",
       " 1\n",
       " 0\n",
       " 0\n",
       "[torch.DoubleTensor of size 3]\n",
       "\n",
       "1e-310 *\n",
       " 6.9202\n",
       " 6.9202\n",
       " 0.0000\n",
       " 0.0000\n",
       "[torch.DoubleTensor of size 4]\n",
       "\n",
       "1e-310 *\n",
       " 6.9202\n",
       " 6.9202\n",
       " 0.0000\n",
       "[torch.DoubleTensor of size 3]\n",
       "\n",
       " 5.4000\n",
       " 0.0000\n",
       " 0.0000\n",
       " 0.0000\n",
       "[torch.DoubleTensor of size 4]\n",
       "\n",
       "1e-310 *\n",
       " 6.9202\n",
       " 6.9202\n",
       " 0.0000\n",
       "[torch.DoubleTensor of size 3]\n",
       "\n",
       " 5.4000\n",
       " 3.7000\n",
       " 0.0000\n",
       " 0.0000\n",
       "[torch.DoubleTensor of size 4]\n",
       "\n",
       "1e-310 *\n",
       " 6.9202\n",
       " 6.9202\n",
       " 0.0000\n",
       "[torch.DoubleTensor of size 3]\n",
       "\n",
       " 5.4000\n",
       " 3.7000\n",
       " 1.5000\n",
       " 0.0000\n",
       "[torch.DoubleTensor of size 4]\n",
       "\n",
       "1e-310 *\n",
       " 6.9202\n",
       " 6.9202\n",
       " 0.0000\n",
       "[torch.DoubleTensor of size 3]\n",
       "\n",
       " 5.4000\n",
       " 3.7000\n",
       " 1.5000\n",
       " 0.2000\n",
       "[torch.DoubleTensor of size 4]\n",
       "\n",
       "1e-310 *\n",
       " 6.9202\n",
       " 6.9202\n",
       " 0.0000\n",
       "[torch.DoubleTensor of size 3]\n",
       "\n",
       " 5.4000\n",
       " 3.7000\n",
       " 1.5000\n",
       " 0.2000\n",
       "[torch.DoubleTensor of size 4]\n",
       "\n",
       " 1\n",
       " 0\n",
       " 0\n",
       "[torch.DoubleTensor of size 3]\n",
       "\n",
       "1e-310 *\n",
       " 6.9202\n",
       " 6.9202\n",
       " 0.0000\n",
       " 0.0000\n",
       "[torch.DoubleTensor of size 4]\n",
       "\n",
       "1e-310 *\n",
       " 6.9202\n",
       " 6.9202\n",
       " 0.0000\n",
       "[torch.DoubleTensor of size 3]\n",
       "\n",
       " 4.8000\n",
       " 0.0000\n",
       " 0.0000\n",
       " 0.0000\n",
       "[torch.DoubleTensor of size 4]\n",
       "\n",
       "1e-310 *\n",
       " 6.9202\n",
       " 6.9202\n",
       " 0.0000\n",
       "[torch.DoubleTensor of size 3]\n",
       "\n"
      ]
     },
     "execution_count": 156,
     "metadata": {},
     "output_type": "execute_result"
    },
    {
     "data": {
      "text/plain": [
       " 4.8000\n",
       " 3.4000\n",
       " 0.0000\n",
       " 0.0000\n",
       "[torch.DoubleTensor of size 4]\n",
       "\n",
       "1e-310 *\n",
       " 6.9202\n",
       " 6.9202\n",
       " 0.0000\n",
       "[torch.DoubleTensor of size 3]\n",
       "\n",
       " 4.8000\n",
       " 3.4000\n",
       " 1.6000\n",
       " 0.0000\n",
       "[torch.DoubleTensor of size 4]\n",
       "\n",
       "1e-310 *\n",
       " 6.9202\n",
       " 6.9202\n",
       " 0.0000\n",
       "[torch.DoubleTensor of size 3]\n",
       "\n",
       " 4.8000\n",
       " 3.4000\n",
       " 1.6000\n",
       " 0.2000\n",
       "[torch.DoubleTensor of size 4]\n",
       "\n",
       "1e-310 *\n",
       " 6.9202\n",
       " 6.9202\n",
       " 0.0000\n",
       "[torch.DoubleTensor of size 3]\n",
       "\n",
       " 4.8000\n",
       " 3.4000\n",
       " 1.6000\n",
       " 0.2000\n",
       "[torch.DoubleTensor of size 4]\n",
       "\n",
       " 1\n",
       " 0\n",
       " 0\n",
       "[torch.DoubleTensor of size 3]\n",
       "\n",
       "1e-310 *\n",
       " 6.9202\n",
       " 6.9202\n",
       " 0.0000\n",
       " 0.0000\n",
       "[torch.DoubleTensor of size 4]\n",
       "\n",
       "1e-310 *\n",
       " 6.9202\n",
       " 6.9202\n",
       " 0.0000\n",
       "[torch.DoubleTensor of size 3]\n",
       "\n",
       " 4.8000\n",
       " 0.0000\n",
       " 0.0000\n",
       " 0.0000\n",
       "[torch.DoubleTensor of size 4]\n",
       "\n"
      ]
     },
     "execution_count": 156,
     "metadata": {},
     "output_type": "execute_result"
    },
    {
     "data": {
      "text/plain": [
       "1e-310 *\n",
       " 6.9202\n",
       " 6.9202\n",
       " 0.0000\n",
       "[torch.DoubleTensor of size 3]\n",
       "\n",
       " 4.8000\n",
       " 3.0000\n",
       " 0.0000\n",
       " 0.0000\n",
       "[torch.DoubleTensor of size 4]\n",
       "\n",
       "1e-310 *\n",
       " 6.9202\n",
       " 6.9202\n",
       " 0.0000\n",
       "[torch.DoubleTensor of size 3]\n",
       "\n",
       " 4.8000\n",
       " 3.0000\n",
       " 1.4000\n",
       " 0.0000\n",
       "[torch.DoubleTensor of size 4]\n",
       "\n",
       "1e-310 *\n",
       " 6.9202\n",
       " 6.9202\n",
       " 0.0000\n",
       "[torch.DoubleTensor of size 3]\n",
       "\n",
       " 4.8000\n",
       " 3.0000\n",
       " 1.4000\n",
       " 0.1000\n",
       "[torch.DoubleTensor of size 4]\n",
       "\n",
       "1e-310 *\n",
       " 6.9202\n",
       " 6.9202\n",
       " 0.0000\n",
       "[torch.DoubleTensor of size 3]\n",
       "\n",
       " 4.8000\n",
       " 3.0000\n",
       " 1.4000\n",
       " 0.1000\n",
       "[torch.DoubleTensor of size 4]\n",
       "\n",
       " 1\n",
       " 0\n",
       " 0\n",
       "[torch.DoubleTensor of size 3]\n",
       "\n"
      ]
     },
     "execution_count": 156,
     "metadata": {},
     "output_type": "execute_result"
    },
    {
     "data": {
      "text/plain": [
       "1e-310 *\n",
       " 6.9202\n",
       " 6.9202\n",
       " 0.0000\n",
       " 0.0000\n",
       "[torch.DoubleTensor of size 4]\n",
       "\n",
       "1e-310 *\n",
       " 6.9202\n",
       " 6.9202\n",
       " 0.0000\n",
       "[torch.DoubleTensor of size 3]\n",
       "\n",
       " 4.3000\n",
       " 0.0000\n",
       " 0.0000\n",
       " 0.0000\n",
       "[torch.DoubleTensor of size 4]\n",
       "\n",
       "1e-310 *\n",
       " 6.9202\n",
       " 6.9202\n",
       " 0.0000\n",
       "[torch.DoubleTensor of size 3]\n",
       "\n",
       " 4.3000\n",
       " 3.0000\n",
       " 0.0000\n",
       " 0.0000\n",
       "[torch.DoubleTensor of size 4]\n",
       "\n",
       "1e-310 *\n",
       " 6.9202\n",
       " 6.9202\n",
       " 0.0000\n",
       "[torch.DoubleTensor of size 3]\n",
       "\n"
      ]
     },
     "execution_count": 156,
     "metadata": {},
     "output_type": "execute_result"
    },
    {
     "data": {
      "text/plain": [
       " 4.3000\n",
       " 3.0000\n",
       " 1.1000\n",
       " 0.0000\n",
       "[torch.DoubleTensor of size 4]\n",
       "\n",
       "1e-310 *\n",
       " 6.9202\n",
       " 6.9202\n",
       " 0.0000\n",
       "[torch.DoubleTensor of size 3]\n",
       "\n",
       " 4.3000\n",
       " 3.0000\n",
       " 1.1000\n",
       " 0.1000\n",
       "[torch.DoubleTensor of size 4]\n",
       "\n",
       "1e-310 *\n",
       " 6.9202\n",
       " 6.9202\n",
       " 0.0000\n",
       "[torch.DoubleTensor of size 3]\n",
       "\n",
       " 4.3000\n",
       " 3.0000\n",
       " 1.1000\n",
       " 0.1000\n",
       "[torch.DoubleTensor of size 4]\n",
       "\n",
       " 1\n",
       " 0\n",
       " 0\n",
       "[torch.DoubleTensor of size 3]\n",
       "\n",
       "1e-310 *\n",
       " 6.9202\n",
       " 6.9202\n",
       " 0.0000\n",
       " 0.0000\n",
       "[torch.DoubleTensor of size 4]\n",
       "\n",
       "1e-310 *\n",
       " 6.9202\n",
       " 6.9202\n",
       " 0.0000\n",
       "[torch.DoubleTensor of size 3]\n",
       "\n",
       " 5.8000\n",
       " 0.0000\n",
       " 0.0000\n",
       " 0.0000\n",
       "[torch.DoubleTensor of size 4]\n",
       "\n",
       "1e-310 *\n",
       " 6.9202\n",
       " 6.9202\n",
       " 0.0000\n",
       "[torch.DoubleTensor of size 3]\n",
       "\n"
      ]
     },
     "execution_count": 156,
     "metadata": {},
     "output_type": "execute_result"
    },
    {
     "data": {
      "text/plain": [
       " 5.8000\n",
       " 4.0000\n",
       " 0.0000\n",
       " 0.0000\n",
       "[torch.DoubleTensor of size 4]\n",
       "\n",
       "1e-310 *\n",
       " 6.9202\n",
       " 6.9202\n",
       " 0.0000\n",
       "[torch.DoubleTensor of size 3]\n",
       "\n",
       " 5.8000\n",
       " 4.0000\n",
       " 1.2000\n",
       " 0.0000\n",
       "[torch.DoubleTensor of size 4]\n",
       "\n",
       "1e-310 *\n",
       " 6.9202\n",
       " 6.9202\n",
       " 0.0000\n",
       "[torch.DoubleTensor of size 3]\n",
       "\n",
       " 5.8000\n",
       " 4.0000\n",
       " 1.2000\n",
       " 0.2000\n",
       "[torch.DoubleTensor of size 4]\n",
       "\n",
       "1e-310 *\n",
       " 6.9202\n",
       " 6.9202\n",
       " 0.0000\n",
       "[torch.DoubleTensor of size 3]\n",
       "\n",
       " 5.8000\n",
       " 4.0000\n",
       " 1.2000\n",
       " 0.2000\n",
       "[torch.DoubleTensor of size 4]\n",
       "\n",
       " 1\n",
       " 0\n",
       " 0\n",
       "[torch.DoubleTensor of size 3]\n",
       "\n"
      ]
     },
     "execution_count": 156,
     "metadata": {},
     "output_type": "execute_result"
    },
    {
     "data": {
      "text/plain": [
       "1e-310 *\n",
       " 6.9202\n",
       " 6.9202\n",
       " 0.0000\n",
       " 0.0000\n",
       "[torch.DoubleTensor of size 4]\n",
       "\n",
       "1e-310 *\n",
       " 6.9202\n",
       " 6.9202\n",
       " 0.0000\n",
       "[torch.DoubleTensor of size 3]\n",
       "\n",
       " 5.7000\n",
       " 0.0000\n",
       " 0.0000\n",
       " 0.0000\n",
       "[torch.DoubleTensor of size 4]\n",
       "\n",
       "1e-310 *\n",
       " 6.9202\n",
       " 6.9202\n",
       " 0.0000\n",
       "[torch.DoubleTensor of size 3]\n",
       "\n",
       " 5.7000\n",
       " 4.4000\n",
       " 0.0000\n",
       " 0.0000\n",
       "[torch.DoubleTensor of size 4]\n",
       "\n",
       "1e-310 *\n",
       " 6.9202\n",
       " 6.9202\n",
       " 0.0000\n",
       "[torch.DoubleTensor of size 3]\n",
       "\n",
       " 5.7000\n",
       " 4.4000\n",
       " 1.5000\n",
       " 0.0000\n",
       "[torch.DoubleTensor of size 4]\n",
       "\n",
       "1e-310 *\n",
       " 6.9202\n",
       " 6.9202\n",
       " 0.0000\n",
       "[torch.DoubleTensor of size 3]\n",
       "\n",
       " 5.7000\n",
       " 4.4000\n",
       " 1.5000\n",
       " 0.4000\n",
       "[torch.DoubleTensor of size 4]\n",
       "\n",
       "1e-310 *\n",
       " 6.9202\n",
       " 6.9202\n",
       " 0.0000\n",
       "[torch.DoubleTensor of size 3]\n",
       "\n",
       " 5.7000\n",
       " 4.4000\n",
       " 1.5000\n",
       " 0.4000\n",
       "[torch.DoubleTensor of size 4]\n",
       "\n"
      ]
     },
     "execution_count": 156,
     "metadata": {},
     "output_type": "execute_result"
    },
    {
     "data": {
      "text/plain": [
       " 1\n",
       " 0\n",
       " 0\n",
       "[torch.DoubleTensor of size 3]\n",
       "\n",
       "1e-310 *\n",
       " 6.9202\n",
       " 6.9202\n",
       " 0.0000\n",
       " 0.0000\n",
       "[torch.DoubleTensor of size 4]\n",
       "\n",
       "1e-310 *\n",
       " 6.9202\n",
       " 6.9202\n",
       " 0.0000\n",
       "[torch.DoubleTensor of size 3]\n",
       "\n",
       " 5.4000\n",
       " 0.0000\n",
       " 0.0000\n",
       " 0.0000\n",
       "[torch.DoubleTensor of size 4]\n",
       "\n",
       "1e-310 *\n",
       " 6.9202\n",
       " 6.9202\n",
       " 0.0000\n",
       "[torch.DoubleTensor of size 3]\n",
       "\n",
       " 5.4000\n",
       " 3.9000\n",
       " 0.0000\n",
       " 0.0000\n",
       "[torch.DoubleTensor of size 4]\n",
       "\n",
       "1e-310 *\n",
       " 6.9202\n",
       " 6.9202\n",
       " 0.0000\n",
       "[torch.DoubleTensor of size 3]\n",
       "\n",
       " 5.4000\n",
       " 3.9000\n",
       " 1.3000\n",
       " 0.0000\n",
       "[torch.DoubleTensor of size 4]\n",
       "\n",
       "1e-310 *\n",
       " 6.9202\n",
       " 6.9202\n",
       " 0.0000\n",
       "[torch.DoubleTensor of size 3]\n",
       "\n",
       " 5.4000\n",
       " 3.9000\n",
       " 1.3000\n",
       " 0.4000\n",
       "[torch.DoubleTensor of size 4]\n",
       "\n",
       "1e-310 *\n",
       " 6.9202\n",
       " 6.9202\n",
       " 0.0000\n",
       "[torch.DoubleTensor of size 3]\n",
       "\n"
      ]
     },
     "execution_count": 156,
     "metadata": {},
     "output_type": "execute_result"
    },
    {
     "data": {
      "text/plain": [
       " 5.4000\n",
       " 3.9000\n",
       " 1.3000\n",
       " 0.4000\n",
       "[torch.DoubleTensor of size 4]\n",
       "\n",
       " 1\n",
       " 0\n",
       " 0\n",
       "[torch.DoubleTensor of size 3]\n",
       "\n",
       "1e-310 *\n",
       " 6.9202\n",
       " 6.9202\n",
       " 0.0000\n",
       " 0.0000\n",
       "[torch.DoubleTensor of size 4]\n",
       "\n",
       "1e-310 *\n",
       " 6.9202\n",
       " 6.9202\n",
       " 0.0000\n",
       "[torch.DoubleTensor of size 3]\n",
       "\n",
       " 5.1000\n",
       " 0.0000\n",
       " 0.0000\n",
       " 0.0000\n",
       "[torch.DoubleTensor of size 4]\n",
       "\n",
       "1e-310 *\n",
       " 6.9202\n",
       " 6.9202\n",
       " 0.0000\n",
       "[torch.DoubleTensor of size 3]\n",
       "\n",
       " 5.1000\n",
       " 3.5000\n",
       " 0.0000\n",
       " 0.0000\n",
       "[torch.DoubleTensor of size 4]\n",
       "\n",
       "1e-310 *\n",
       " 6.9202\n",
       " 6.9202\n",
       " 0.0000\n",
       "[torch.DoubleTensor of size 3]\n",
       "\n",
       " 5.1000\n",
       " 3.5000\n",
       " 1.4000\n",
       " 0.0000\n",
       "[torch.DoubleTensor of size 4]\n",
       "\n",
       "1e-310 *\n",
       " 6.9202\n",
       " 6.9202\n",
       " 0.0000\n",
       "[torch.DoubleTensor of size 3]\n",
       "\n"
      ]
     },
     "execution_count": 156,
     "metadata": {},
     "output_type": "execute_result"
    },
    {
     "data": {
      "text/plain": [
       " 5.1000\n",
       " 3.5000\n",
       " 1.4000\n",
       " 0.3000\n",
       "[torch.DoubleTensor of size 4]\n",
       "\n",
       "1e-310 *\n",
       " 6.9202\n",
       " 6.9202\n",
       " 0.0000\n",
       "[torch.DoubleTensor of size 3]\n",
       "\n",
       " 5.1000\n",
       " 3.5000\n",
       " 1.4000\n",
       " 0.3000\n",
       "[torch.DoubleTensor of size 4]\n",
       "\n",
       " 1\n",
       " 0\n",
       " 0\n",
       "[torch.DoubleTensor of size 3]\n",
       "\n",
       "1e-310 *\n",
       " 6.9202\n",
       " 6.9202\n",
       " 0.0000\n",
       " 0.0000\n",
       "[torch.DoubleTensor of size 4]\n",
       "\n",
       "1e-310 *\n",
       " 6.9202\n",
       " 6.9202\n",
       " 0.0000\n",
       "[torch.DoubleTensor of size 3]\n",
       "\n",
       " 5.7000\n",
       " 0.0000\n",
       " 0.0000\n",
       " 0.0000\n",
       "[torch.DoubleTensor of size 4]\n",
       "\n",
       "1e-310 *\n",
       " 6.9202\n",
       " 6.9202\n",
       " 0.0000\n",
       "[torch.DoubleTensor of size 3]\n",
       "\n",
       " 5.7000\n",
       " 3.8000\n",
       " 0.0000\n",
       " 0.0000\n",
       "[torch.DoubleTensor of size 4]\n",
       "\n"
      ]
     },
     "execution_count": 156,
     "metadata": {},
     "output_type": "execute_result"
    },
    {
     "data": {
      "text/plain": [
       "1e-310 *\n",
       " 6.9202\n",
       " 6.9202\n",
       " 0.0000\n",
       "[torch.DoubleTensor of size 3]\n",
       "\n",
       " 5.7000\n",
       " 3.8000\n",
       " 1.7000\n",
       " 0.0000\n",
       "[torch.DoubleTensor of size 4]\n",
       "\n",
       "1e-310 *\n",
       " 6.9202\n",
       " 6.9202\n",
       " 0.0000\n",
       "[torch.DoubleTensor of size 3]\n",
       "\n",
       " 5.7000\n",
       " 3.8000\n",
       " 1.7000\n",
       " 0.3000\n",
       "[torch.DoubleTensor of size 4]\n",
       "\n",
       "1e-310 *\n",
       " 6.9202\n",
       " 6.9202\n",
       " 0.0000\n",
       "[torch.DoubleTensor of size 3]\n",
       "\n",
       " 5.7000\n",
       " 3.8000\n",
       " 1.7000\n",
       " 0.3000\n",
       "[torch.DoubleTensor of size 4]\n",
       "\n",
       " 1\n",
       " 0\n",
       " 0\n",
       "[torch.DoubleTensor of size 3]\n",
       "\n",
       "1e-310 *\n",
       " 6.9202\n",
       " 6.9202\n",
       " 0.0000\n",
       " 0.0000\n",
       "[torch.DoubleTensor of size 4]\n",
       "\n",
       "1e-310 *\n",
       " 6.9202\n",
       " 6.9202\n",
       " 0.0000\n",
       "[torch.DoubleTensor of size 3]\n",
       "\n",
       " 5.1000\n",
       " 0.0000\n",
       " 0.0000\n",
       " 0.0000\n",
       "[torch.DoubleTensor of size 4]\n",
       "\n"
      ]
     },
     "execution_count": 156,
     "metadata": {},
     "output_type": "execute_result"
    },
    {
     "data": {
      "text/plain": [
       "1e-310 *\n",
       " 6.9202\n",
       " 6.9202\n",
       " 0.0000\n",
       "[torch.DoubleTensor of size 3]\n",
       "\n",
       " 5.1000\n",
       " 3.8000\n",
       " 0.0000\n",
       " 0.0000\n",
       "[torch.DoubleTensor of size 4]\n",
       "\n",
       "1e-310 *\n",
       " 6.9202\n",
       " 6.9202\n",
       " 0.0000\n",
       "[torch.DoubleTensor of size 3]\n",
       "\n",
       " 5.1000\n",
       " 3.8000\n",
       " 1.5000\n",
       " 0.0000\n",
       "[torch.DoubleTensor of size 4]\n",
       "\n",
       "1e-310 *\n",
       " 6.9202\n",
       " 6.9202\n",
       " 0.0000\n",
       "[torch.DoubleTensor of size 3]\n",
       "\n",
       " 5.1000\n",
       " 3.8000\n",
       " 1.5000\n",
       " 0.3000\n",
       "[torch.DoubleTensor of size 4]\n",
       "\n",
       "1e-310 *\n",
       " 6.9202\n",
       " 6.9202\n",
       " 0.0000\n",
       "[torch.DoubleTensor of size 3]\n",
       "\n",
       " 5.1000\n",
       " 3.8000\n",
       " 1.5000\n",
       " 0.3000\n",
       "[torch.DoubleTensor of size 4]\n",
       "\n",
       " 1\n",
       " 0\n",
       " 0\n",
       "[torch.DoubleTensor of size 3]\n",
       "\n",
       "1e-310 *\n",
       " 6.9202\n",
       " 6.9202\n",
       " 0.0000\n",
       " 0.0000\n",
       "[torch.DoubleTensor of size 4]\n",
       "\n",
       "1e-310 *\n",
       " 6.9202\n",
       " 6.9202\n",
       " 0.0000\n",
       "[torch.DoubleTensor of size 3]\n",
       "\n"
      ]
     },
     "execution_count": 156,
     "metadata": {},
     "output_type": "execute_result"
    },
    {
     "data": {
      "text/plain": [
       " 5.4000\n",
       " 0.0000\n",
       " 0.0000\n",
       " 0.0000\n",
       "[torch.DoubleTensor of size 4]\n",
       "\n",
       "1e-310 *\n",
       " 6.9202\n",
       " 6.9202\n",
       " 0.0000\n",
       "[torch.DoubleTensor of size 3]\n",
       "\n",
       " 5.4000\n",
       " 3.4000\n",
       " 0.0000\n",
       " 0.0000\n",
       "[torch.DoubleTensor of size 4]\n",
       "\n",
       "1e-310 *\n",
       " 6.9202\n",
       " 6.9202\n",
       " 0.0000\n",
       "[torch.DoubleTensor of size 3]\n",
       "\n",
       " 5.4000\n",
       " 3.4000\n",
       " 1.7000\n",
       " 0.0000\n",
       "[torch.DoubleTensor of size 4]\n",
       "\n",
       "1e-310 *\n",
       " 6.9202\n",
       " 6.9202\n",
       " 0.0000\n",
       "[torch.DoubleTensor of size 3]\n",
       "\n",
       " 5.4000\n",
       " 3.4000\n",
       " 1.7000\n",
       " 0.2000\n",
       "[torch.DoubleTensor of size 4]\n",
       "\n",
       "1e-310 *\n",
       " 6.9202\n",
       " 6.9202\n",
       " 0.0000\n",
       "[torch.DoubleTensor of size 3]\n",
       "\n",
       " 5.4000\n",
       " 3.4000\n",
       " 1.7000\n",
       " 0.2000\n",
       "[torch.DoubleTensor of size 4]\n",
       "\n",
       " 1\n",
       " 0\n",
       " 0\n",
       "[torch.DoubleTensor of size 3]\n",
       "\n",
       "1e-310 *\n",
       " 6.9202\n",
       " 6.9202\n",
       " 0.0000\n",
       " 0.0000\n",
       "[torch.DoubleTensor of size 4]\n"
      ]
     },
     "execution_count": 156,
     "metadata": {},
     "output_type": "execute_result"
    },
    {
     "data": {
      "text/plain": [
       "\n",
       "1e-310 *\n",
       " 6.9202\n",
       " 6.9202\n",
       " 0.0000\n",
       "[torch.DoubleTensor of size 3]\n",
       "\n",
       " 5.1000\n",
       " 0.0000\n",
       " 0.0000\n",
       " 0.0000\n",
       "[torch.DoubleTensor of size 4]\n",
       "\n",
       "1e-310 *\n",
       " 6.9202\n",
       " 6.9202\n",
       " 0.0000\n",
       "[torch.DoubleTensor of size 3]\n",
       "\n",
       " 5.1000\n",
       " 3.7000\n",
       " 0.0000\n",
       " 0.0000\n",
       "[torch.DoubleTensor of size 4]\n",
       "\n",
       "1e-310 *\n",
       " 6.9202\n",
       " 6.9202\n",
       " 0.0000\n",
       "[torch.DoubleTensor of size 3]\n",
       "\n",
       " 5.1000\n",
       " 3.7000\n",
       " 1.5000\n",
       " 0.0000\n",
       "[torch.DoubleTensor of size 4]\n",
       "\n",
       "1e-310 *\n",
       " 6.9202\n",
       " 6.9202\n",
       " 0.0000\n",
       "[torch.DoubleTensor of size 3]\n",
       "\n",
       " 5.1000\n",
       " 3.7000\n",
       " 1.5000\n",
       " 0.4000\n",
       "[torch.DoubleTensor of size 4]\n",
       "\n",
       "1e-310 *\n",
       " 6.9202\n",
       " 6.9202\n",
       " 0.0000\n",
       "[torch.DoubleTensor of size 3]\n",
       "\n",
       " 5.1000\n",
       " 3.7000\n",
       " 1.5000\n",
       " 0.4000\n",
       "[torch.DoubleTensor of size 4]\n",
       "\n",
       " 1\n",
       " 0\n",
       " 0\n",
       "[torch.DoubleTensor of size 3]\n",
       "\n",
       "1e-310 *\n",
       " 6.9202\n",
       " 6.9202\n",
       " 0.0000\n",
       " 0.0000\n",
       "[torch.DoubleTensor of size 4]\n",
       "\n",
       "1e-310 *\n",
       " 6.9202\n",
       " 6.9202\n",
       " 0.0000\n",
       "[torch.DoubleTensor of size 3]\n",
       "\n"
      ]
     },
     "execution_count": 156,
     "metadata": {},
     "output_type": "execute_result"
    },
    {
     "data": {
      "text/plain": [
       " 4.6000\n",
       " 0.0000\n",
       " 0.0000\n",
       " 0.0000\n",
       "[torch.DoubleTensor of size 4]\n",
       "\n",
       "1e-310 *\n",
       " 6.9202\n",
       " 6.9202\n",
       " 0.0000\n",
       "[torch.DoubleTensor of size 3]\n",
       "\n",
       " 4.6000\n",
       " 3.6000\n",
       " 0.0000\n",
       " 0.0000\n",
       "[torch.DoubleTensor of size 4]\n",
       "\n",
       "1e-310 *\n",
       " 6.9202\n",
       " 6.9202\n",
       " 0.0000\n",
       "[torch.DoubleTensor of size 3]\n",
       "\n",
       " 4.6000\n",
       " 3.6000\n",
       " 1.0000\n",
       " 0.0000\n",
       "[torch.DoubleTensor of size 4]\n",
       "\n",
       "1e-310 *\n",
       " 6.9202\n",
       " 6.9202\n",
       " 0.0000\n",
       "[torch.DoubleTensor of size 3]\n",
       "\n",
       " 4.6000\n",
       " 3.6000\n",
       " 1.0000\n",
       " 0.2000\n",
       "[torch.DoubleTensor of size 4]\n",
       "\n",
       "1e-310 *\n",
       " 6.9202\n",
       " 6.9202\n",
       " 0.0000\n",
       "[torch.DoubleTensor of size 3]\n",
       "\n",
       " 4.6000\n",
       " 3.6000\n",
       " 1.0000\n",
       " 0.2000\n",
       "[torch.DoubleTensor of size 4]\n",
       "\n",
       " 1\n",
       " 0\n",
       " 0\n",
       "[torch.DoubleTensor of size 3]\n",
       "\n"
      ]
     },
     "execution_count": 156,
     "metadata": {},
     "output_type": "execute_result"
    },
    {
     "data": {
      "text/plain": [
       "1e-310 *\n",
       " 6.9202\n",
       " 6.9202\n",
       " 0.0000\n",
       " 0.0000\n",
       "[torch.DoubleTensor of size 4]\n",
       "\n",
       "1e-310 *\n",
       " 6.9202\n",
       " 6.9202\n",
       " 0.0000\n",
       "[torch.DoubleTensor of size 3]\n",
       "\n",
       " 5.1000\n",
       " 0.0000\n",
       " 0.0000\n",
       " 0.0000\n",
       "[torch.DoubleTensor of size 4]\n",
       "\n",
       "1e-310 *\n",
       " 6.9202\n",
       " 6.9202\n",
       " 0.0000\n",
       "[torch.DoubleTensor of size 3]\n",
       "\n",
       " 5.1000\n",
       " 3.3000\n",
       " 0.0000\n",
       " 0.0000\n",
       "[torch.DoubleTensor of size 4]\n",
       "\n",
       "1e-310 *\n",
       " 6.9202\n",
       " 6.9202\n",
       " 0.0000\n",
       "[torch.DoubleTensor of size 3]\n",
       "\n",
       " 5.1000\n",
       " 3.3000\n",
       " 1.7000\n",
       " 0.0000\n",
       "[torch.DoubleTensor of size 4]\n",
       "\n",
       "1e-310 *\n",
       " 6.9202\n",
       " 6.9202\n",
       " 0.0000\n",
       "[torch.DoubleTensor of size 3]\n",
       "\n",
       " 5.1000\n",
       " 3.3000\n",
       " 1.7000\n",
       " 0.5000\n",
       "[torch.DoubleTensor of size 4]\n",
       "\n",
       "1e-310 *\n",
       " 6.9202\n",
       " 6.9202\n",
       " 0.0000\n",
       "[torch.DoubleTensor of size 3]\n",
       "\n",
       " 5.1000\n",
       " 3.3000\n",
       " 1.7000\n",
       " 0.5000\n",
       "[torch.DoubleTensor of size 4]\n",
       "\n",
       " 1\n",
       " 0\n",
       " 0\n",
       "[torch.DoubleTensor of size 3]\n",
       "\n"
      ]
     },
     "execution_count": 156,
     "metadata": {},
     "output_type": "execute_result"
    },
    {
     "data": {
      "text/plain": [
       "1e-310 *\n",
       " 6.9202\n",
       " 6.9202\n",
       " 0.0000\n",
       " 0.0000\n",
       "[torch.DoubleTensor of size 4]\n",
       "\n",
       "1e-310 *\n",
       " 6.9202\n",
       " 6.9202\n",
       " 0.0000\n",
       "[torch.DoubleTensor of size 3]\n",
       "\n",
       " 4.8000\n",
       " 0.0000\n",
       " 0.0000\n",
       " 0.0000\n",
       "[torch.DoubleTensor of size 4]\n",
       "\n",
       "1e-310 *\n",
       " 6.9202\n",
       " 6.9202\n",
       " 0.0000\n",
       "[torch.DoubleTensor of size 3]\n",
       "\n",
       " 4.8000\n",
       " 3.4000\n",
       " 0.0000\n",
       " 0.0000\n",
       "[torch.DoubleTensor of size 4]\n",
       "\n",
       "1e-310 *\n",
       " 6.9202\n",
       " 6.9202\n",
       " 0.0000\n",
       "[torch.DoubleTensor of size 3]\n",
       "\n",
       " 4.8000\n",
       " 3.4000\n",
       " 1.9000\n",
       " 0.0000\n",
       "[torch.DoubleTensor of size 4]\n",
       "\n",
       "1e-310 *\n",
       " 6.9202\n",
       " 6.9202\n",
       " 0.0000\n",
       "[torch.DoubleTensor of size 3]\n",
       "\n",
       " 4.8000\n",
       " 3.4000\n",
       " 1.9000\n",
       " 0.2000\n",
       "[torch.DoubleTensor of size 4]\n",
       "\n",
       "1e-310 *\n",
       " 6.9202\n",
       " 6.9202\n",
       " 0.0000\n",
       "[torch.DoubleTensor of size 3]\n",
       "\n"
      ]
     },
     "execution_count": 156,
     "metadata": {},
     "output_type": "execute_result"
    },
    {
     "data": {
      "text/plain": [
       " 4.8000\n",
       " 3.4000\n",
       " 1.9000\n",
       " 0.2000\n",
       "[torch.DoubleTensor of size 4]\n",
       "\n",
       " 1\n",
       " 0\n",
       " 0\n",
       "[torch.DoubleTensor of size 3]\n",
       "\n",
       "1e-310 *\n",
       " 6.9202\n",
       " 6.9202\n",
       " 0.0000\n",
       " 0.0000\n",
       "[torch.DoubleTensor of size 4]\n",
       "\n",
       "1e-310 *\n",
       " 6.9202\n",
       " 6.9202\n",
       " 0.0000\n",
       "[torch.DoubleTensor of size 3]\n",
       "\n",
       " 5.0000\n",
       " 0.0000\n",
       " 0.0000\n",
       " 0.0000\n",
       "[torch.DoubleTensor of size 4]\n",
       "\n",
       "1e-310 *\n",
       " 6.9202\n",
       " 6.9202\n",
       " 0.0000\n",
       "[torch.DoubleTensor of size 3]\n",
       "\n",
       " 5\n",
       " 3\n",
       " 0\n",
       " 0\n",
       "[torch.DoubleTensor of size 4]\n",
       "\n",
       "1e-310 *\n",
       " 6.9202\n",
       " 6.9202\n",
       " 0.0000\n",
       "[torch.DoubleTensor of size 3]\n",
       "\n",
       " 5.0000\n",
       " 3.0000\n",
       " 1.6000\n",
       " 0.0000\n",
       "[torch.DoubleTensor of size 4]\n",
       "\n"
      ]
     },
     "execution_count": 156,
     "metadata": {},
     "output_type": "execute_result"
    },
    {
     "data": {
      "text/plain": [
       "1e-310 *\n",
       " 6.9202\n",
       " 6.9202\n",
       " 0.0000\n",
       "[torch.DoubleTensor of size 3]\n",
       "\n",
       " 5.0000\n",
       " 3.0000\n",
       " 1.6000\n",
       " 0.2000\n",
       "[torch.DoubleTensor of size 4]\n",
       "\n",
       "1e-310 *\n",
       " 6.9202\n",
       " 6.9202\n",
       " 0.0000\n",
       "[torch.DoubleTensor of size 3]\n",
       "\n",
       " 5.0000\n",
       " 3.0000\n",
       " 1.6000\n",
       " 0.2000\n",
       "[torch.DoubleTensor of size 4]\n",
       "\n",
       " 1\n",
       " 0\n",
       " 0\n",
       "[torch.DoubleTensor of size 3]\n",
       "\n",
       "1e-310 *\n",
       " 6.9202\n",
       " 6.9202\n",
       " 0.0000\n",
       " 0.0000\n",
       "[torch.DoubleTensor of size 4]\n",
       "\n",
       "1e-310 *\n",
       " 6.9202\n",
       " 6.9202\n",
       " 0.0000\n",
       "[torch.DoubleTensor of size 3]\n",
       "\n",
       " 5.0000\n",
       " 0.0000\n",
       " 0.0000\n",
       " 0.0000\n",
       "[torch.DoubleTensor of size 4]\n",
       "\n",
       "1e-310 *\n",
       " 6.9202\n",
       " 6.9202\n",
       " 0.0000\n",
       "[torch.DoubleTensor of size 3]\n",
       "\n",
       " 5.0000\n",
       " 3.4000\n",
       " 0.0000\n",
       " 0.0000\n",
       "[torch.DoubleTensor of size 4]\n",
       "\n",
       "1e-310 *\n",
       " 6.9202\n",
       " 6.9202\n",
       " 0.0000\n",
       "[torch.DoubleTensor of size 3]\n",
       "\n"
      ]
     },
     "execution_count": 156,
     "metadata": {},
     "output_type": "execute_result"
    },
    {
     "data": {
      "text/plain": [
       " 5.0000\n",
       " 3.4000\n",
       " 1.6000\n",
       " 0.0000\n",
       "[torch.DoubleTensor of size 4]\n",
       "\n",
       "1e-310 *\n",
       " 6.9202\n",
       " 6.9202\n",
       " 0.0000\n",
       "[torch.DoubleTensor of size 3]\n",
       "\n",
       " 5.0000\n",
       " 3.4000\n",
       " 1.6000\n",
       " 0.4000\n",
       "[torch.DoubleTensor of size 4]\n",
       "\n",
       "1e-310 *\n",
       " 6.9202\n",
       " 6.9202\n",
       " 0.0000\n",
       "[torch.DoubleTensor of size 3]\n",
       "\n",
       " 5.0000\n",
       " 3.4000\n",
       " 1.6000\n",
       " 0.4000\n",
       "[torch.DoubleTensor of size 4]\n",
       "\n",
       " 1\n",
       " 0\n",
       " 0\n",
       "[torch.DoubleTensor of size 3]\n",
       "\n",
       "1e-310 *\n",
       " 6.9202\n",
       " 6.9202\n",
       " 0.0000\n",
       " 0.0000\n",
       "[torch.DoubleTensor of size 4]\n",
       "\n",
       "1e-310 *\n",
       " 6.9202\n",
       " 6.9202\n",
       " 0.0000\n",
       "[torch.DoubleTensor of size 3]\n",
       "\n",
       " 5.2000\n",
       " 0.0000\n",
       " 0.0000\n",
       " 0.0000\n",
       "[torch.DoubleTensor of size 4]\n",
       "\n",
       "1e-310 *\n",
       " 6.9202\n",
       " 6.9202\n",
       " 0.0000\n",
       "[torch.DoubleTensor of size 3]\n",
       "\n",
       " 5.2000\n",
       " 3.5000\n",
       " 0.0000\n",
       " 0.0000\n",
       "[torch.DoubleTensor of size 4]\n",
       "\n",
       "1e-310 *\n",
       " 6.9202\n",
       " 6.9202\n",
       " 0.0000\n",
       "[torch.DoubleTensor of size 3]\n",
       "\n"
      ]
     },
     "execution_count": 156,
     "metadata": {},
     "output_type": "execute_result"
    },
    {
     "data": {
      "text/plain": [
       " 5.2000\n",
       " 3.5000\n",
       " 1.5000\n",
       " 0.0000\n",
       "[torch.DoubleTensor of size 4]\n",
       "\n",
       "1e-310 *\n",
       " 6.9202\n",
       " 6.9202\n",
       " 0.0000\n",
       "[torch.DoubleTensor of size 3]\n",
       "\n",
       " 5.2000\n",
       " 3.5000\n",
       " 1.5000\n",
       " 0.2000\n",
       "[torch.DoubleTensor of size 4]\n",
       "\n",
       "1e-310 *\n",
       " 6.9202\n",
       " 6.9202\n",
       " 0.0000\n",
       "[torch.DoubleTensor of size 3]\n",
       "\n",
       " 5.2000\n",
       " 3.5000\n",
       " 1.5000\n",
       " 0.2000\n",
       "[torch.DoubleTensor of size 4]\n",
       "\n",
       " 1\n",
       " 0\n",
       " 0\n",
       "[torch.DoubleTensor of size 3]\n",
       "\n",
       "1e-310 *\n",
       " 6.9202\n",
       " 6.9202\n",
       " 0.0000\n",
       " 0.0000\n",
       "[torch.DoubleTensor of size 4]\n",
       "\n",
       "1e-310 *\n",
       " 6.9202\n",
       " 6.9202\n",
       " 0.0000\n",
       "[torch.DoubleTensor of size 3]\n",
       "\n",
       " 5.2000\n",
       " 0.0000\n",
       " 0.0000\n",
       " 0.0000\n",
       "[torch.DoubleTensor of size 4]\n",
       "\n",
       "1e-310 *\n",
       " 6.9202\n",
       " 6.9202\n",
       " 0.0000\n",
       "[torch.DoubleTensor of size 3]\n",
       "\n",
       " 5.2000\n",
       " 3.4000\n",
       " 0.0000\n",
       " 0.0000\n",
       "[torch.DoubleTensor of size 4]\n",
       "\n",
       "1e-310 *\n",
       " 6.9202\n",
       " 6.9202\n",
       " 0.0000\n",
       "[torch.DoubleTensor of size 3]\n",
       "\n"
      ]
     },
     "execution_count": 156,
     "metadata": {},
     "output_type": "execute_result"
    },
    {
     "data": {
      "text/plain": [
       " 5.2000\n",
       " 3.4000\n",
       " 1.4000\n",
       " 0.0000\n",
       "[torch.DoubleTensor of size 4]\n",
       "\n",
       "1e-310 *\n",
       " 6.9202\n",
       " 6.9202\n",
       " 0.0000\n",
       "[torch.DoubleTensor of size 3]\n",
       "\n",
       " 5.2000\n",
       " 3.4000\n",
       " 1.4000\n",
       " 0.2000\n",
       "[torch.DoubleTensor of size 4]\n",
       "\n",
       "1e-310 *\n",
       " 6.9202\n",
       " 6.9202\n",
       " 0.0000\n",
       "[torch.DoubleTensor of size 3]\n",
       "\n",
       " 5.2000\n",
       " 3.4000\n",
       " 1.4000\n",
       " 0.2000\n",
       "[torch.DoubleTensor of size 4]\n",
       "\n",
       " 1\n",
       " 0\n",
       " 0\n",
       "[torch.DoubleTensor of size 3]\n",
       "\n",
       "1e-310 *\n",
       " 6.9202\n",
       " 6.9202\n",
       " 0.0000\n",
       " 0.0000\n",
       "[torch.DoubleTensor of size 4]\n",
       "\n",
       "1e-310 *\n",
       " 6.9202\n",
       " 6.9202\n",
       " 0.0000\n",
       "[torch.DoubleTensor of size 3]\n",
       "\n",
       " 4.7000\n",
       " 0.0000\n",
       " 0.0000\n",
       " 0.0000\n",
       "[torch.DoubleTensor of size 4]\n",
       "\n",
       "1e-310 *\n",
       " 6.9202\n",
       " 6.9202\n",
       " 0.0000\n",
       "[torch.DoubleTensor of size 3]\n",
       "\n",
       " 4.7000\n",
       " 3.2000\n",
       " 0.0000\n",
       " 0.0000\n",
       "[torch.DoubleTensor of size 4]\n",
       "\n"
      ]
     },
     "execution_count": 156,
     "metadata": {},
     "output_type": "execute_result"
    },
    {
     "data": {
      "text/plain": [
       "1e-310 *\n",
       " 6.9202\n",
       " 6.9202\n",
       " 0.0000\n",
       "[torch.DoubleTensor of size 3]\n",
       "\n",
       " 4.7000\n",
       " 3.2000\n",
       " 1.6000\n",
       " 0.0000\n",
       "[torch.DoubleTensor of size 4]\n",
       "\n",
       "1e-310 *\n",
       " 6.9202\n",
       " 6.9202\n",
       " 0.0000\n",
       "[torch.DoubleTensor of size 3]\n",
       "\n",
       " 4.7000\n",
       " 3.2000\n",
       " 1.6000\n",
       " 0.2000\n",
       "[torch.DoubleTensor of size 4]\n",
       "\n",
       "1e-310 *\n",
       " 6.9202\n",
       " 6.9202\n",
       " 0.0000\n",
       "[torch.DoubleTensor of size 3]\n",
       "\n",
       " 4.7000\n",
       " 3.2000\n",
       " 1.6000\n",
       " 0.2000\n",
       "[torch.DoubleTensor of size 4]\n",
       "\n",
       " 1\n",
       " 0\n",
       " 0\n",
       "[torch.DoubleTensor of size 3]\n",
       "\n",
       "1e-310 *\n",
       " 6.9202\n",
       " 6.9202\n",
       " 0.0000\n",
       " 0.0000\n",
       "[torch.DoubleTensor of size 4]\n",
       "\n",
       "1e-310 *\n",
       " 6.9202\n",
       " 6.9202\n",
       " 0.0000\n",
       "[torch.DoubleTensor of size 3]\n",
       "\n",
       " 4.8000\n",
       " 0.0000\n",
       " 0.0000\n",
       " 0.0000\n",
       "[torch.DoubleTensor of size 4]\n",
       "\n",
       "1e-310 *\n",
       " 6.9202\n",
       " 6.9202\n",
       " 0.0000\n",
       "[torch.DoubleTensor of size 3]\n",
       "\n",
       " 4.8000\n",
       " 3.1000\n",
       " 0.0000\n",
       " 0.0000\n",
       "[torch.DoubleTensor of size 4]\n",
       "\n"
      ]
     },
     "execution_count": 156,
     "metadata": {},
     "output_type": "execute_result"
    },
    {
     "data": {
      "text/plain": [
       "1e-310 *\n",
       " 6.9202\n",
       " 6.9202\n",
       " 0.0000\n",
       "[torch.DoubleTensor of size 3]\n",
       "\n",
       " 4.8000\n",
       " 3.1000\n",
       " 1.6000\n",
       " 0.0000\n",
       "[torch.DoubleTensor of size 4]\n",
       "\n",
       "1e-310 *\n",
       " 6.9202\n",
       " 6.9202\n",
       " 0.0000\n",
       "[torch.DoubleTensor of size 3]\n",
       "\n",
       " 4.8000\n",
       " 3.1000\n",
       " 1.6000\n",
       " 0.2000\n",
       "[torch.DoubleTensor of size 4]\n",
       "\n",
       "1e-310 *\n",
       " 6.9202\n",
       " 6.9202\n",
       " 0.0000\n",
       "[torch.DoubleTensor of size 3]\n",
       "\n",
       " 4.8000\n",
       " 3.1000\n",
       " 1.6000\n",
       " 0.2000\n",
       "[torch.DoubleTensor of size 4]\n",
       "\n",
       " 1\n",
       " 0\n",
       " 0\n",
       "[torch.DoubleTensor of size 3]\n",
       "\n",
       "1e-310 *\n",
       " 6.9202\n",
       " 6.9202\n",
       " 0.0000\n",
       " 0.0000\n",
       "[torch.DoubleTensor of size 4]\n",
       "\n",
       "1e-310 *\n",
       " 6.9202\n",
       " 6.9202\n",
       " 0.0000\n",
       "[torch.DoubleTensor of size 3]\n",
       "\n",
       " 5.4000\n",
       " 0.0000\n",
       " 0.0000\n",
       " 0.0000\n",
       "[torch.DoubleTensor of size 4]\n",
       "\n",
       "1e-310 *\n",
       " 6.9202\n",
       " 6.9202\n",
       " 0.0000\n",
       "[torch.DoubleTensor of size 3]\n",
       "\n",
       " 5.4000\n",
       " 3.4000\n",
       " 0.0000\n",
       " 0.0000\n",
       "[torch.DoubleTensor of size 4]\n",
       "\n"
      ]
     },
     "execution_count": 156,
     "metadata": {},
     "output_type": "execute_result"
    },
    {
     "data": {
      "text/plain": [
       "1e-310 *\n",
       " 6.9202\n",
       " 6.9202\n",
       " 0.0000\n",
       "[torch.DoubleTensor of size 3]\n",
       "\n",
       " 5.4000\n",
       " 3.4000\n",
       " 1.5000\n",
       " 0.0000\n",
       "[torch.DoubleTensor of size 4]\n",
       "\n",
       "1e-310 *\n",
       " 6.9202\n",
       " 6.9202\n",
       " 0.0000\n",
       "[torch.DoubleTensor of size 3]\n",
       "\n",
       " 5.4000\n",
       " 3.4000\n",
       " 1.5000\n",
       " 0.4000\n",
       "[torch.DoubleTensor of size 4]\n",
       "\n",
       "1e-310 *\n",
       " 6.9202\n",
       " 6.9202\n",
       " 0.0000\n",
       "[torch.DoubleTensor of size 3]\n",
       "\n",
       " 5.4000\n",
       " 3.4000\n",
       " 1.5000\n",
       " 0.4000\n",
       "[torch.DoubleTensor of size 4]\n",
       "\n",
       " 1\n",
       " 0\n",
       " 0\n",
       "[torch.DoubleTensor of size 3]\n",
       "\n",
       "1e-310 *\n",
       " 6.9202\n",
       " 6.9202\n",
       " 0.0000\n",
       " 0.0000\n",
       "[torch.DoubleTensor of size 4]\n",
       "\n",
       "1e-310 *\n",
       " 6.9202\n",
       " 6.9202\n",
       " 0.0000\n",
       "[torch.DoubleTensor of size 3]\n",
       "\n",
       " 5.2000\n",
       " 0.0000\n",
       " 0.0000\n",
       " 0.0000\n",
       "[torch.DoubleTensor of size 4]\n",
       "\n",
       "1e-310 *\n",
       " 6.9202\n",
       " 6.9202\n",
       " 0.0000\n",
       "[torch.DoubleTensor of size 3]\n",
       "\n",
       " 5.2000\n",
       " 4.1000\n",
       " 0.0000\n",
       " 0.0000\n",
       "[torch.DoubleTensor of size 4]\n",
       "\n"
      ]
     },
     "execution_count": 156,
     "metadata": {},
     "output_type": "execute_result"
    },
    {
     "data": {
      "text/plain": [
       "1e-310 *\n",
       " 6.9202\n",
       " 6.9202\n",
       " 0.0000\n",
       "[torch.DoubleTensor of size 3]\n",
       "\n",
       " 5.2000\n",
       " 4.1000\n",
       " 1.5000\n",
       " 0.0000\n",
       "[torch.DoubleTensor of size 4]\n",
       "\n",
       "1e-310 *\n",
       " 6.9202\n",
       " 6.9202\n",
       " 0.0000\n",
       "[torch.DoubleTensor of size 3]\n",
       "\n",
       " 5.2000\n",
       " 4.1000\n",
       " 1.5000\n",
       " 0.1000\n",
       "[torch.DoubleTensor of size 4]\n",
       "\n",
       "1e-310 *\n",
       " 6.9202\n",
       " 6.9202\n",
       " 0.0000\n",
       "[torch.DoubleTensor of size 3]\n",
       "\n",
       " 5.2000\n",
       " 4.1000\n",
       " 1.5000\n",
       " 0.1000\n",
       "[torch.DoubleTensor of size 4]\n",
       "\n",
       " 1\n",
       " 0\n",
       " 0\n",
       "[torch.DoubleTensor of size 3]\n",
       "\n",
       " 6.9202e-310\n",
       " 6.9202e-310\n",
       " 4.7430e-322\n",
       " 3.2114e-322\n",
       "[torch.DoubleTensor of size 4]\n",
       "\n",
       "1e-310 *\n",
       " 6.9202\n",
       " 6.9202\n",
       " 0.0000\n",
       "[torch.DoubleTensor of size 3]\n",
       "\n",
       "  5.5000e+00\n",
       " 6.9202e-310\n",
       " 4.7430e-322\n",
       " 3.2114e-322\n",
       "[torch.DoubleTensor of size 4]\n",
       "\n",
       "1e-310 *\n",
       " 6.9202\n",
       " 6.9202\n",
       " 0.0000\n",
       "[torch.DoubleTensor of size 3]\n",
       "\n"
      ]
     },
     "execution_count": 156,
     "metadata": {},
     "output_type": "execute_result"
    },
    {
     "data": {
      "text/plain": [
       "  5.5000e+00\n",
       "  4.2000e+00\n",
       " 4.7430e-322\n",
       " 3.2114e-322\n",
       "[torch.DoubleTensor of size 4]\n",
       "\n",
       "1e-310 *\n",
       " 6.9202\n",
       " 6.9202\n",
       " 0.0000\n",
       "[torch.DoubleTensor of size 3]\n",
       "\n",
       "  5.5000e+00\n",
       "  4.2000e+00\n",
       "  1.4000e+00\n",
       " 3.2114e-322\n",
       "[torch.DoubleTensor of size 4]\n",
       "\n",
       "1e-310 *\n",
       " 6.9202\n",
       " 6.9202\n",
       " 0.0000\n",
       "[torch.DoubleTensor of size 3]\n",
       "\n",
       " 5.5000\n",
       " 4.2000\n",
       " 1.4000\n",
       " 0.2000\n",
       "[torch.DoubleTensor of size 4]\n",
       "\n",
       "1e-310 *\n",
       " 6.9202\n",
       " 6.9202\n",
       " 0.0000\n",
       "[torch.DoubleTensor of size 3]\n",
       "\n",
       " 5.5000\n",
       " 4.2000\n",
       " 1.4000\n",
       " 0.2000\n",
       "[torch.DoubleTensor of size 4]\n",
       "\n",
       " 1\n",
       " 0\n",
       " 0\n",
       "[torch.DoubleTensor of size 3]\n",
       "\n",
       "1e-310 *\n",
       " 6.9202\n",
       " 6.9202\n",
       " 0.0000\n",
       " 0.0000\n",
       "[torch.DoubleTensor of size 4]\n",
       "\n",
       "1e-310 *\n",
       " 6.9202\n",
       " 6.9202\n",
       " 0.0000\n",
       "[torch.DoubleTensor of size 3]\n",
       "\n",
       " 4.9000\n",
       " 0.0000\n",
       " 0.0000\n",
       " 0.0000\n",
       "[torch.DoubleTensor of size 4]\n",
       "\n",
       "1e-310 *\n",
       " 6.9202\n",
       " 6.9202\n",
       " 0.0000\n",
       "[torch.DoubleTensor of size 3]\n",
       "\n"
      ]
     },
     "execution_count": 156,
     "metadata": {},
     "output_type": "execute_result"
    },
    {
     "data": {
      "text/plain": [
       " 4.9000\n",
       " 3.1000\n",
       " 0.0000\n",
       " 0.0000\n",
       "[torch.DoubleTensor of size 4]\n",
       "\n",
       "1e-310 *\n",
       " 6.9202\n",
       " 6.9202\n",
       " 0.0000\n",
       "[torch.DoubleTensor of size 3]\n",
       "\n",
       " 4.9000\n",
       " 3.1000\n",
       " 1.5000\n",
       " 0.0000\n",
       "[torch.DoubleTensor of size 4]\n",
       "\n",
       "1e-310 *\n",
       " 6.9202\n",
       " 6.9202\n",
       " 0.0000\n",
       "[torch.DoubleTensor of size 3]\n",
       "\n",
       " 4.9000\n",
       " 3.1000\n",
       " 1.5000\n",
       " 0.2000\n",
       "[torch.DoubleTensor of size 4]\n",
       "\n",
       "1e-310 *\n",
       " 6.9202\n",
       " 6.9202\n",
       " 0.0000\n",
       "[torch.DoubleTensor of size 3]\n",
       "\n",
       " 4.9000\n",
       " 3.1000\n",
       " 1.5000\n",
       " 0.2000\n",
       "[torch.DoubleTensor of size 4]\n",
       "\n",
       " 1\n",
       " 0\n",
       " 0\n",
       "[torch.DoubleTensor of size 3]\n",
       "\n",
       "1e-310 *\n",
       " 6.9202\n",
       " 6.9202\n",
       " 0.0000\n",
       " 0.0000\n",
       "[torch.DoubleTensor of size 4]\n",
       "\n",
       "1e-310 *\n",
       " 6.9202\n",
       " 6.9202\n",
       " 0.0000\n",
       "[torch.DoubleTensor of size 3]\n",
       "\n"
      ]
     },
     "execution_count": 156,
     "metadata": {},
     "output_type": "execute_result"
    },
    {
     "data": {
      "text/plain": [
       " 5.0000\n",
       " 0.0000\n",
       " 0.0000\n",
       " 0.0000\n",
       "[torch.DoubleTensor of size 4]\n",
       "\n",
       "1e-310 *\n",
       " 6.9202\n",
       " 6.9202\n",
       " 0.0000\n",
       "[torch.DoubleTensor of size 3]\n",
       "\n",
       " 5.0000\n",
       " 3.2000\n",
       " 0.0000\n",
       " 0.0000\n",
       "[torch.DoubleTensor of size 4]\n",
       "\n",
       "1e-310 *\n",
       " 6.9202\n",
       " 6.9202\n",
       " 0.0000\n",
       "[torch.DoubleTensor of size 3]\n",
       "\n",
       " 5.0000\n",
       " 3.2000\n",
       " 1.2000\n",
       " 0.0000\n",
       "[torch.DoubleTensor of size 4]\n",
       "\n",
       "1e-310 *\n",
       " 6.9202\n",
       " 6.9202\n",
       " 0.0000\n",
       "[torch.DoubleTensor of size 3]\n",
       "\n",
       " 5.0000\n",
       " 3.2000\n",
       " 1.2000\n",
       " 0.2000\n",
       "[torch.DoubleTensor of size 4]\n",
       "\n",
       "1e-310 *\n",
       " 6.9202\n",
       " 6.9202\n",
       " 0.0000\n",
       "[torch.DoubleTensor of size 3]\n",
       "\n",
       " 5.0000\n",
       " 3.2000\n",
       " 1.2000\n",
       " 0.2000\n",
       "[torch.DoubleTensor of size 4]\n",
       "\n",
       " 1\n",
       " 0\n",
       " 0\n",
       "[torch.DoubleTensor of size 3]\n",
       "\n",
       "1e-310 *\n",
       " 6.9202\n",
       " 6.9202\n",
       " 0.0000\n",
       " 0.0000\n",
       "[torch.DoubleTensor of size 4]\n",
       "\n",
       "1e-310 *\n",
       " 6.9202\n",
       " 6.9202\n",
       " 0.0000\n",
       "[torch.DoubleTensor of size 3]\n",
       "\n"
      ]
     },
     "execution_count": 156,
     "metadata": {},
     "output_type": "execute_result"
    },
    {
     "data": {
      "text/plain": [
       " 5.5000\n",
       " 0.0000\n",
       " 0.0000\n",
       " 0.0000\n",
       "[torch.DoubleTensor of size 4]\n",
       "\n",
       "1e-310 *\n",
       " 6.9202\n",
       " 6.9202\n",
       " 0.0000\n",
       "[torch.DoubleTensor of size 3]\n",
       "\n",
       " 5.5000\n",
       " 3.5000\n",
       " 0.0000\n",
       " 0.0000\n",
       "[torch.DoubleTensor of size 4]\n",
       "\n",
       "1e-310 *\n",
       " 6.9202\n",
       " 6.9202\n",
       " 0.0000\n",
       "[torch.DoubleTensor of size 3]\n",
       "\n",
       " 5.5000\n",
       " 3.5000\n",
       " 1.3000\n",
       " 0.0000\n",
       "[torch.DoubleTensor of size 4]\n",
       "\n",
       "1e-310 *\n",
       " 6.9202\n",
       " 6.9202\n",
       " 0.0000\n",
       "[torch.DoubleTensor of size 3]\n",
       "\n",
       " 5.5000\n",
       " 3.5000\n",
       " 1.3000\n",
       " 0.2000\n",
       "[torch.DoubleTensor of size 4]\n",
       "\n",
       "1e-310 *\n",
       " 6.9202\n",
       " 6.9202\n",
       " 0.0000\n",
       "[torch.DoubleTensor of size 3]\n",
       "\n",
       " 5.5000\n",
       " 3.5000\n",
       " 1.3000\n",
       " 0.2000\n",
       "[torch.DoubleTensor of size 4]\n",
       "\n",
       " 1\n",
       " 0\n",
       " 0\n",
       "[torch.DoubleTensor of size 3]\n",
       "\n",
       "1e-310 *\n",
       " 6.9202\n",
       " 6.9202\n",
       " 0.0000\n",
       " 0.0000\n",
       "[torch.DoubleTensor of size 4]\n",
       "\n",
       "1e-310 *\n",
       " 6.9202\n",
       " 6.9202\n",
       " 0.0000\n",
       "[torch.DoubleTensor of size 3]\n",
       "\n"
      ]
     },
     "execution_count": 156,
     "metadata": {},
     "output_type": "execute_result"
    },
    {
     "data": {
      "text/plain": [
       " 4.9000\n",
       " 0.0000\n",
       " 0.0000\n",
       " 0.0000\n",
       "[torch.DoubleTensor of size 4]\n",
       "\n",
       "1e-310 *\n",
       " 6.9202\n",
       " 6.9202\n",
       " 0.0000\n",
       "[torch.DoubleTensor of size 3]\n",
       "\n",
       " 4.9000\n",
       " 3.6000\n",
       " 0.0000\n",
       " 0.0000\n",
       "[torch.DoubleTensor of size 4]\n",
       "\n",
       "1e-310 *\n",
       " 6.9202\n",
       " 6.9202\n",
       " 0.0000\n",
       "[torch.DoubleTensor of size 3]\n",
       "\n",
       " 4.9000\n",
       " 3.6000\n",
       " 1.4000\n",
       " 0.0000\n",
       "[torch.DoubleTensor of size 4]\n",
       "\n",
       "1e-310 *\n",
       " 6.9202\n",
       " 6.9202\n",
       " 0.0000\n",
       "[torch.DoubleTensor of size 3]\n",
       "\n",
       " 4.9000\n",
       " 3.6000\n",
       " 1.4000\n",
       " 0.1000\n",
       "[torch.DoubleTensor of size 4]\n",
       "\n",
       "1e-310 *\n",
       " 6.9202\n",
       " 6.9202\n",
       " 0.0000\n",
       "[torch.DoubleTensor of size 3]\n",
       "\n",
       " 4.9000\n",
       " 3.6000\n",
       " 1.4000\n",
       " 0.1000\n",
       "[torch.DoubleTensor of size 4]\n",
       "\n",
       " 1\n",
       " 0\n",
       " 0\n",
       "[torch.DoubleTensor of size 3]\n",
       "\n",
       "1e-310 *\n",
       " 6.9202\n",
       " 6.9202\n",
       " 0.0000\n",
       " 0.0000\n",
       "[torch.DoubleTensor of size 4]\n",
       "\n",
       "1e-310 *\n",
       " 6.9202\n",
       " 6.9202\n",
       " 0.0000\n",
       "[torch.DoubleTensor of size 3]\n",
       "\n"
      ]
     },
     "execution_count": 156,
     "metadata": {},
     "output_type": "execute_result"
    },
    {
     "data": {
      "text/plain": [
       " 4.4000\n",
       " 0.0000\n",
       " 0.0000\n",
       " 0.0000\n",
       "[torch.DoubleTensor of size 4]\n",
       "\n",
       "1e-310 *\n",
       " 6.9202\n",
       " 6.9202\n",
       " 0.0000\n",
       "[torch.DoubleTensor of size 3]\n",
       "\n",
       " 4.4000\n",
       " 3.0000\n",
       " 0.0000\n",
       " 0.0000\n",
       "[torch.DoubleTensor of size 4]\n",
       "\n",
       "1e-310 *\n",
       " 6.9202\n",
       " 6.9202\n",
       " 0.0000\n",
       "[torch.DoubleTensor of size 3]\n",
       "\n",
       " 4.4000\n",
       " 3.0000\n",
       " 1.3000\n",
       " 0.0000\n",
       "[torch.DoubleTensor of size 4]\n",
       "\n",
       "1e-310 *\n",
       " 6.9202\n",
       " 6.9202\n",
       " 0.0000\n",
       "[torch.DoubleTensor of size 3]\n",
       "\n",
       " 4.4000\n",
       " 3.0000\n",
       " 1.3000\n",
       " 0.2000\n",
       "[torch.DoubleTensor of size 4]\n",
       "\n",
       "1e-310 *\n",
       " 6.9202\n",
       " 6.9202\n",
       " 0.0000\n",
       "[torch.DoubleTensor of size 3]\n",
       "\n",
       " 4.4000\n",
       " 3.0000\n",
       " 1.3000\n",
       " 0.2000\n",
       "[torch.DoubleTensor of size 4]\n",
       "\n",
       " 1\n",
       " 0\n",
       " 0\n",
       "[torch.DoubleTensor of size 3]\n",
       "\n",
       "1e-310 *\n",
       " 6.9202\n",
       " 6.9202\n",
       " 0.0000\n",
       " 0.0000\n",
       "[torch.DoubleTensor of size 4]\n",
       "\n",
       "1e-310 *\n",
       " 6.9202\n",
       " 6.9202\n",
       " 0.0000\n",
       "[torch.DoubleTensor of size 3]\n",
       "\n",
       " 5.1000\n",
       " 0.0000\n",
       " 0.0000\n",
       " 0.0000\n",
       "[torch.DoubleTensor of size 4]\n",
       "\n"
      ]
     },
     "execution_count": 156,
     "metadata": {},
     "output_type": "execute_result"
    },
    {
     "data": {
      "text/plain": [
       "1e-310 *\n",
       " 6.9202\n",
       " 6.9202\n",
       " 0.0000\n",
       "[torch.DoubleTensor of size 3]\n",
       "\n",
       " 5.1000\n",
       " 3.4000\n",
       " 0.0000\n",
       " 0.0000\n",
       "[torch.DoubleTensor of size 4]\n",
       "\n",
       "1e-310 *\n",
       " 6.9202\n",
       " 6.9202\n",
       " 0.0000\n",
       "[torch.DoubleTensor of size 3]\n",
       "\n",
       " 5.1000\n",
       " 3.4000\n",
       " 1.5000\n",
       " 0.0000\n",
       "[torch.DoubleTensor of size 4]\n",
       "\n",
       "1e-310 *\n",
       " 6.9202\n",
       " 6.9202\n",
       " 0.0000\n",
       "[torch.DoubleTensor of size 3]\n",
       "\n",
       " 5.1000\n",
       " 3.4000\n",
       " 1.5000\n",
       " 0.2000\n",
       "[torch.DoubleTensor of size 4]\n",
       "\n",
       "1e-310 *\n",
       " 6.9202\n",
       " 6.9202\n",
       " 0.0000\n",
       "[torch.DoubleTensor of size 3]\n",
       "\n",
       " 5.1000\n",
       " 3.4000\n",
       " 1.5000\n",
       " 0.2000\n",
       "[torch.DoubleTensor of size 4]\n",
       "\n",
       " 1\n",
       " 0\n",
       " 0\n",
       "[torch.DoubleTensor of size 3]\n",
       "\n",
       "1e-310 *\n",
       " 6.9202\n",
       " 6.9202\n",
       " 0.0000\n",
       " 0.0000\n",
       "[torch.DoubleTensor of size 4]\n",
       "\n",
       "1e-310 *\n",
       " 6.9202\n",
       " 6.9202\n",
       " 0.0000\n",
       "[torch.DoubleTensor of size 3]\n",
       "\n",
       " 5.0000\n",
       " 0.0000\n",
       " 0.0000\n",
       " 0.0000\n",
       "[torch.DoubleTensor of size 4]\n",
       "\n"
      ]
     },
     "execution_count": 156,
     "metadata": {},
     "output_type": "execute_result"
    },
    {
     "data": {
      "text/plain": [
       "1e-310 *\n",
       " 6.9202\n",
       " 6.9202\n",
       " 0.0000\n",
       "[torch.DoubleTensor of size 3]\n",
       "\n",
       " 5.0000\n",
       " 3.5000\n",
       " 0.0000\n",
       " 0.0000\n",
       "[torch.DoubleTensor of size 4]\n",
       "\n",
       "1e-310 *\n",
       " 6.9202\n",
       " 6.9202\n",
       " 0.0000\n",
       "[torch.DoubleTensor of size 3]\n",
       "\n",
       " 5.0000\n",
       " 3.5000\n",
       " 1.3000\n",
       " 0.0000\n",
       "[torch.DoubleTensor of size 4]\n",
       "\n",
       "1e-310 *\n",
       " 6.9202\n",
       " 6.9202\n",
       " 0.0000\n",
       "[torch.DoubleTensor of size 3]\n",
       "\n",
       " 5.0000\n",
       " 3.5000\n",
       " 1.3000\n",
       " 0.3000\n",
       "[torch.DoubleTensor of size 4]\n",
       "\n",
       "1e-310 *\n",
       " 6.9202\n",
       " 6.9202\n",
       " 0.0000\n",
       "[torch.DoubleTensor of size 3]\n",
       "\n",
       " 5.0000\n",
       " 3.5000\n",
       " 1.3000\n",
       " 0.3000\n",
       "[torch.DoubleTensor of size 4]\n",
       "\n",
       " 1\n",
       " 0\n",
       " 0\n",
       "[torch.DoubleTensor of size 3]\n",
       "\n",
       "1e-310 *\n",
       " 6.9202\n",
       " 6.9202\n",
       " 0.0000\n",
       " 0.0000\n",
       "[torch.DoubleTensor of size 4]\n",
       "\n",
       "1e-310 *\n",
       " 6.9202\n",
       " 6.9202\n",
       " 0.0000\n",
       "[torch.DoubleTensor of size 3]\n",
       "\n",
       " 4.5000\n",
       " 0.0000\n",
       " 0.0000\n",
       " 0.0000\n",
       "[torch.DoubleTensor of size 4]\n",
       "\n"
      ]
     },
     "execution_count": 156,
     "metadata": {},
     "output_type": "execute_result"
    },
    {
     "data": {
      "text/plain": [
       "1e-310 *\n",
       " 6.9202\n",
       " 6.9202\n",
       " 0.0000\n",
       "[torch.DoubleTensor of size 3]\n",
       "\n",
       " 4.5000\n",
       " 2.3000\n",
       " 0.0000\n",
       " 0.0000\n",
       "[torch.DoubleTensor of size 4]\n",
       "\n",
       "1e-310 *\n",
       " 6.9202\n",
       " 6.9202\n",
       " 0.0000\n",
       "[torch.DoubleTensor of size 3]\n",
       "\n",
       " 4.5000\n",
       " 2.3000\n",
       " 1.3000\n",
       " 0.0000\n",
       "[torch.DoubleTensor of size 4]\n",
       "\n",
       "1e-310 *\n",
       " 6.9202\n",
       " 6.9202\n",
       " 0.0000\n",
       "[torch.DoubleTensor of size 3]\n",
       "\n",
       " 4.5000\n",
       " 2.3000\n",
       " 1.3000\n",
       " 0.3000\n",
       "[torch.DoubleTensor of size 4]\n",
       "\n",
       "1e-310 *\n",
       " 6.9202\n",
       " 6.9202\n",
       " 0.0000\n",
       "[torch.DoubleTensor of size 3]\n",
       "\n",
       " 4.5000\n",
       " 2.3000\n",
       " 1.3000\n",
       " 0.3000\n",
       "[torch.DoubleTensor of size 4]\n",
       "\n",
       " 1\n",
       " 0\n",
       " 0\n",
       "[torch.DoubleTensor of size 3]\n",
       "\n",
       "1e-310 *\n",
       " 6.9202\n",
       " 6.9202\n",
       " 0.0000\n",
       " 0.0000\n",
       "[torch.DoubleTensor of size 4]\n",
       "\n",
       "1e-310 *\n",
       " 6.9202\n",
       " 6.9202\n",
       " 0.0000\n",
       "[torch.DoubleTensor of size 3]\n",
       "\n",
       " 4.4000\n",
       " 0.0000\n",
       " 0.0000\n",
       " 0.0000\n",
       "[torch.DoubleTensor of size 4]\n",
       "\n"
      ]
     },
     "execution_count": 156,
     "metadata": {},
     "output_type": "execute_result"
    },
    {
     "data": {
      "text/plain": [
       "1e-310 *\n",
       " 6.9202\n",
       " 6.9202\n",
       " 0.0000\n",
       "[torch.DoubleTensor of size 3]\n",
       "\n",
       " 4.4000\n",
       " 3.2000\n",
       " 0.0000\n",
       " 0.0000\n",
       "[torch.DoubleTensor of size 4]\n",
       "\n",
       "1e-310 *\n",
       " 6.9202\n",
       " 6.9202\n",
       " 0.0000\n",
       "[torch.DoubleTensor of size 3]\n",
       "\n",
       " 4.4000\n",
       " 3.2000\n",
       " 1.3000\n",
       " 0.0000\n",
       "[torch.DoubleTensor of size 4]\n",
       "\n",
       "1e-310 *\n",
       " 6.9202\n",
       " 6.9202\n",
       " 0.0000\n",
       "[torch.DoubleTensor of size 3]\n",
       "\n",
       " 4.4000\n",
       " 3.2000\n",
       " 1.3000\n",
       " 0.2000\n",
       "[torch.DoubleTensor of size 4]\n",
       "\n",
       "1e-310 *\n",
       " 6.9202\n",
       " 6.9202\n",
       " 0.0000\n",
       "[torch.DoubleTensor of size 3]\n",
       "\n",
       " 4.4000\n",
       " 3.2000\n",
       " 1.3000\n",
       " 0.2000\n",
       "[torch.DoubleTensor of size 4]\n",
       "\n",
       " 1\n",
       " 0\n",
       " 0\n",
       "[torch.DoubleTensor of size 3]\n",
       "\n",
       "1e-310 *\n",
       " 6.9202\n",
       " 6.9202\n",
       " 0.0000\n",
       " 0.0000\n",
       "[torch.DoubleTensor of size 4]\n",
       "\n",
       "1e-310 *\n",
       " 6.9202\n",
       " 6.9202\n",
       " 0.0000\n",
       "[torch.DoubleTensor of size 3]\n",
       "\n",
       " 5.0000\n",
       " 0.0000\n",
       " 0.0000\n",
       " 0.0000\n",
       "[torch.DoubleTensor of size 4]\n",
       "\n"
      ]
     },
     "execution_count": 156,
     "metadata": {},
     "output_type": "execute_result"
    },
    {
     "data": {
      "text/plain": [
       "1e-310 *\n",
       " 6.9202\n",
       " 6.9202\n",
       " 0.0000\n",
       "[torch.DoubleTensor of size 3]\n",
       "\n",
       " 5.0000\n",
       " 3.5000\n",
       " 0.0000\n",
       " 0.0000\n",
       "[torch.DoubleTensor of size 4]\n",
       "\n",
       "1e-310 *\n",
       " 6.9202\n",
       " 6.9202\n",
       " 0.0000\n",
       "[torch.DoubleTensor of size 3]\n",
       "\n",
       " 5.0000\n",
       " 3.5000\n",
       " 1.6000\n",
       " 0.0000\n",
       "[torch.DoubleTensor of size 4]\n",
       "\n",
       "1e-310 *\n",
       " 6.9202\n",
       " 6.9202\n",
       " 0.0000\n",
       "[torch.DoubleTensor of size 3]\n",
       "\n",
       " 5.0000\n",
       " 3.5000\n",
       " 1.6000\n",
       " 0.6000\n",
       "[torch.DoubleTensor of size 4]\n",
       "\n",
       "1e-310 *\n",
       " 6.9202\n",
       " 6.9202\n",
       " 0.0000\n",
       "[torch.DoubleTensor of size 3]\n",
       "\n",
       " 5.0000\n",
       " 3.5000\n",
       " 1.6000\n",
       " 0.6000\n",
       "[torch.DoubleTensor of size 4]\n",
       "\n",
       " 1\n",
       " 0\n",
       " 0\n",
       "[torch.DoubleTensor of size 3]\n",
       "\n",
       "1e-310 *\n",
       " 6.9202\n",
       " 6.9202\n",
       " 0.0000\n",
       " 0.0000\n",
       "[torch.DoubleTensor of size 4]\n",
       "\n",
       "1e-310 *\n",
       " 6.9202\n",
       " 6.9202\n",
       " 0.0000\n",
       "[torch.DoubleTensor of size 3]\n",
       "\n",
       " 5.1000\n",
       " 0.0000\n",
       " 0.0000\n",
       " 0.0000\n",
       "[torch.DoubleTensor of size 4]\n",
       "\n"
      ]
     },
     "execution_count": 156,
     "metadata": {},
     "output_type": "execute_result"
    },
    {
     "data": {
      "text/plain": [
       "1e-310 *\n",
       " 6.9202\n",
       " 6.9202\n",
       " 0.0000\n",
       "[torch.DoubleTensor of size 3]\n",
       "\n",
       " 5.1000\n",
       " 3.8000\n",
       " 0.0000\n",
       " 0.0000\n",
       "[torch.DoubleTensor of size 4]\n",
       "\n",
       "1e-310 *\n",
       " 6.9202\n",
       " 6.9202\n",
       " 0.0000\n",
       "[torch.DoubleTensor of size 3]\n",
       "\n",
       " 5.1000\n",
       " 3.8000\n",
       " 1.9000\n",
       " 0.0000\n",
       "[torch.DoubleTensor of size 4]\n",
       "\n",
       "1e-310 *\n",
       " 6.9202\n",
       " 6.9202\n",
       " 0.0000\n",
       "[torch.DoubleTensor of size 3]\n",
       "\n",
       " 5.1000\n",
       " 3.8000\n",
       " 1.9000\n",
       " 0.4000\n",
       "[torch.DoubleTensor of size 4]\n",
       "\n",
       "1e-310 *\n",
       " 6.9202\n",
       " 6.9202\n",
       " 0.0000\n",
       "[torch.DoubleTensor of size 3]\n",
       "\n",
       " 5.1000\n",
       " 3.8000\n",
       " 1.9000\n",
       " 0.4000\n",
       "[torch.DoubleTensor of size 4]\n",
       "\n",
       " 1\n",
       " 0\n",
       " 0\n",
       "[torch.DoubleTensor of size 3]\n",
       "\n",
       "1e-310 *\n",
       " 6.9202\n",
       " 6.9202\n",
       " 0.0000\n",
       " 0.0000\n",
       "[torch.DoubleTensor of size 4]\n",
       "\n",
       "1e-310 *\n",
       " 6.9202\n",
       " 6.9202\n",
       " 0.0000\n",
       "[torch.DoubleTensor of size 3]\n",
       "\n",
       " 4.8000\n",
       " 0.0000\n",
       " 0.0000\n",
       " 0.0000\n",
       "[torch.DoubleTensor of size 4]\n",
       "\n"
      ]
     },
     "execution_count": 156,
     "metadata": {},
     "output_type": "execute_result"
    },
    {
     "data": {
      "text/plain": [
       "1e-310 *\n",
       " 6.9202\n",
       " 6.9202\n",
       " 0.0000\n",
       "[torch.DoubleTensor of size 3]\n",
       "\n",
       " 4.8000\n",
       " 3.0000\n",
       " 0.0000\n",
       " 0.0000\n",
       "[torch.DoubleTensor of size 4]\n",
       "\n",
       "1e-310 *\n",
       " 6.9202\n",
       " 6.9202\n",
       " 0.0000\n",
       "[torch.DoubleTensor of size 3]\n",
       "\n",
       " 4.8000\n",
       " 3.0000\n",
       " 1.4000\n",
       " 0.0000\n",
       "[torch.DoubleTensor of size 4]\n",
       "\n",
       "1e-310 *\n",
       " 6.9202\n",
       " 6.9202\n",
       " 0.0000\n",
       "[torch.DoubleTensor of size 3]\n",
       "\n",
       " 4.8000\n",
       " 3.0000\n",
       " 1.4000\n",
       " 0.3000\n",
       "[torch.DoubleTensor of size 4]\n",
       "\n",
       "1e-310 *\n",
       " 6.9202\n",
       " 6.9202\n",
       " 0.0000\n",
       "[torch.DoubleTensor of size 3]\n",
       "\n",
       " 4.8000\n",
       " 3.0000\n",
       " 1.4000\n",
       " 0.3000\n",
       "[torch.DoubleTensor of size 4]\n",
       "\n",
       " 1\n",
       " 0\n",
       " 0\n",
       "[torch.DoubleTensor of size 3]\n",
       "\n",
       "1e-310 *\n",
       " 6.9202\n",
       " 6.9202\n",
       " 0.0000\n",
       " 0.0000\n",
       "[torch.DoubleTensor of size 4]\n",
       "\n",
       "1e-310 *\n",
       " 6.9202\n",
       " 6.9202\n",
       " 0.0000\n",
       "[torch.DoubleTensor of size 3]\n",
       "\n",
       " 5.1000\n",
       " 0.0000\n",
       " 0.0000\n",
       " 0.0000\n",
       "[torch.DoubleTensor of size 4]\n",
       "\n"
      ]
     },
     "execution_count": 156,
     "metadata": {},
     "output_type": "execute_result"
    },
    {
     "data": {
      "text/plain": [
       "1e-310 *\n",
       " 6.9202\n",
       " 6.9202\n",
       " 0.0000\n",
       "[torch.DoubleTensor of size 3]\n",
       "\n",
       " 5.1000\n",
       " 3.8000\n",
       " 0.0000\n",
       " 0.0000\n",
       "[torch.DoubleTensor of size 4]\n",
       "\n",
       "1e-310 *\n",
       " 6.9202\n",
       " 6.9202\n",
       " 0.0000\n",
       "[torch.DoubleTensor of size 3]\n",
       "\n",
       " 5.1000\n",
       " 3.8000\n",
       " 1.6000\n",
       " 0.0000\n",
       "[torch.DoubleTensor of size 4]\n",
       "\n",
       "1e-310 *\n",
       " 6.9202\n",
       " 6.9202\n",
       " 0.0000\n",
       "[torch.DoubleTensor of size 3]\n",
       "\n",
       " 5.1000\n",
       " 3.8000\n",
       " 1.6000\n",
       " 0.2000\n",
       "[torch.DoubleTensor of size 4]\n",
       "\n",
       "1e-310 *\n",
       " 6.9202\n",
       " 6.9202\n",
       " 0.0000\n",
       "[torch.DoubleTensor of size 3]\n",
       "\n",
       " 5.1000\n",
       " 3.8000\n",
       " 1.6000\n",
       " 0.2000\n",
       "[torch.DoubleTensor of size 4]\n",
       "\n",
       " 1\n",
       " 0\n",
       " 0\n",
       "[torch.DoubleTensor of size 3]\n",
       "\n",
       "1e-310 *\n",
       " 6.9202\n",
       " 6.9202\n",
       " 0.0000\n",
       " 0.0000\n",
       "[torch.DoubleTensor of size 4]\n",
       "\n",
       "1e-310 *\n",
       " 6.9202\n",
       " 6.9202\n",
       " 0.0000\n",
       "[torch.DoubleTensor of size 3]\n",
       "\n",
       " 4.6000\n",
       " 0.0000\n",
       " 0.0000\n",
       " 0.0000\n",
       "[torch.DoubleTensor of size 4]\n",
       "\n",
       "1e-310 *\n",
       " 6.9202\n",
       " 6.9202\n",
       " 0.0000\n",
       "[torch.DoubleTensor of size 3]\n",
       "\n",
       " 4.6000\n",
       " 3.2000\n",
       " 0.0000\n",
       " 0.0000\n",
       "[torch.DoubleTensor of size 4]\n",
       "\n",
       "1e-310 *\n",
       " 6.9202\n",
       " 6.9202\n",
       " 0.0000\n",
       "[torch.DoubleTensor of size 3]\n",
       "\n"
      ]
     },
     "execution_count": 156,
     "metadata": {},
     "output_type": "execute_result"
    },
    {
     "data": {
      "text/plain": [
       " 4.6000\n",
       " 3.2000\n",
       " 1.4000\n",
       " 0.0000\n",
       "[torch.DoubleTensor of size 4]\n",
       "\n",
       "1e-310 *\n",
       " 6.9202\n",
       " 6.9202\n",
       " 0.0000\n",
       "[torch.DoubleTensor of size 3]\n",
       "\n",
       " 4.6000\n",
       " 3.2000\n",
       " 1.4000\n",
       " 0.2000\n",
       "[torch.DoubleTensor of size 4]\n",
       "\n",
       "1e-310 *\n",
       " 6.9202\n",
       " 6.9202\n",
       " 0.0000\n",
       "[torch.DoubleTensor of size 3]\n",
       "\n",
       " 4.6000\n",
       " 3.2000\n",
       " 1.4000\n",
       " 0.2000\n",
       "[torch.DoubleTensor of size 4]\n",
       "\n",
       " 1\n",
       " 0\n",
       " 0\n",
       "[torch.DoubleTensor of size 3]\n",
       "\n",
       "1e-310 *\n",
       " 6.9202\n",
       " 6.9202\n",
       " 0.0000\n",
       " 0.0000\n",
       "[torch.DoubleTensor of size 4]\n",
       "\n",
       "1e-310 *\n",
       " 6.9202\n",
       " 6.9202\n",
       " 0.0000\n",
       "[torch.DoubleTensor of size 3]\n",
       "\n",
       " 5.3000\n",
       " 0.0000\n",
       " 0.0000\n",
       " 0.0000\n",
       "[torch.DoubleTensor of size 4]\n",
       "\n",
       "1e-310 *\n",
       " 6.9202\n",
       " 6.9202\n",
       " 0.0000\n",
       "[torch.DoubleTensor of size 3]\n",
       "\n",
       " 5.3000\n",
       " 3.7000\n",
       " 0.0000\n",
       " 0.0000\n",
       "[torch.DoubleTensor of size 4]\n",
       "\n",
       "1e-310 *\n",
       " 6.9202\n",
       " 6.9202\n",
       " 0.0000\n",
       "[torch.DoubleTensor of size 3]\n",
       "\n"
      ]
     },
     "execution_count": 156,
     "metadata": {},
     "output_type": "execute_result"
    },
    {
     "data": {
      "text/plain": [
       " 5.3000\n",
       " 3.7000\n",
       " 1.5000\n",
       " 0.0000\n",
       "[torch.DoubleTensor of size 4]\n",
       "\n",
       "1e-310 *\n",
       " 6.9202\n",
       " 6.9202\n",
       " 0.0000\n",
       "[torch.DoubleTensor of size 3]\n",
       "\n",
       " 5.3000\n",
       " 3.7000\n",
       " 1.5000\n",
       " 0.2000\n",
       "[torch.DoubleTensor of size 4]\n",
       "\n",
       "1e-310 *\n",
       " 6.9202\n",
       " 6.9202\n",
       " 0.0000\n",
       "[torch.DoubleTensor of size 3]\n",
       "\n",
       " 5.3000\n",
       " 3.7000\n",
       " 1.5000\n",
       " 0.2000\n",
       "[torch.DoubleTensor of size 4]\n",
       "\n",
       " 1\n",
       " 0\n",
       " 0\n",
       "[torch.DoubleTensor of size 3]\n",
       "\n",
       "1e-310 *\n",
       " 6.9202\n",
       " 6.9202\n",
       " 0.0000\n",
       " 0.0000\n",
       "[torch.DoubleTensor of size 4]\n",
       "\n",
       "1e-310 *\n",
       " 6.9202\n",
       " 6.9202\n",
       " 0.0000\n",
       "[torch.DoubleTensor of size 3]\n",
       "\n",
       " 5.0000\n",
       " 0.0000\n",
       " 0.0000\n",
       " 0.0000\n",
       "[torch.DoubleTensor of size 4]\n",
       "\n",
       "1e-310 *\n",
       " 6.9202\n",
       " 6.9202\n",
       " 0.0000\n",
       "[torch.DoubleTensor of size 3]\n",
       "\n",
       " 5.0000\n",
       " 3.3000\n",
       " 0.0000\n",
       " 0.0000\n",
       "[torch.DoubleTensor of size 4]\n",
       "\n",
       "1e-310 *\n",
       " 6.9202\n",
       " 6.9202\n",
       " 0.0000\n",
       "[torch.DoubleTensor of size 3]\n",
       "\n"
      ]
     },
     "execution_count": 156,
     "metadata": {},
     "output_type": "execute_result"
    },
    {
     "data": {
      "text/plain": [
       " 5.0000\n",
       " 3.3000\n",
       " 1.4000\n",
       " 0.0000\n",
       "[torch.DoubleTensor of size 4]\n",
       "\n",
       "1e-310 *\n",
       " 6.9202\n",
       " 6.9202\n",
       " 0.0000\n",
       "[torch.DoubleTensor of size 3]\n",
       "\n",
       " 5.0000\n",
       " 3.3000\n",
       " 1.4000\n",
       " 0.2000\n",
       "[torch.DoubleTensor of size 4]\n",
       "\n",
       "1e-310 *\n",
       " 6.9202\n",
       " 6.9202\n",
       " 0.0000\n",
       "[torch.DoubleTensor of size 3]\n",
       "\n",
       " 5.0000\n",
       " 3.3000\n",
       " 1.4000\n",
       " 0.2000\n",
       "[torch.DoubleTensor of size 4]\n",
       "\n",
       " 1\n",
       " 0\n",
       " 0\n",
       "[torch.DoubleTensor of size 3]\n",
       "\n",
       "1e-310 *\n",
       " 6.9202\n",
       " 6.9202\n",
       " 0.0000\n",
       " 0.0000\n",
       "[torch.DoubleTensor of size 4]\n",
       "\n",
       "1e-310 *\n",
       " 6.9202\n",
       " 6.9202\n",
       " 0.0000\n",
       "[torch.DoubleTensor of size 3]\n",
       "\n",
       " 7.0000\n",
       " 0.0000\n",
       " 0.0000\n",
       " 0.0000\n",
       "[torch.DoubleTensor of size 4]\n",
       "\n",
       "1e-310 *\n",
       " 6.9202\n",
       " 6.9202\n",
       " 0.0000\n",
       "[torch.DoubleTensor of size 3]\n",
       "\n",
       " 7.0000\n",
       " 3.2000\n",
       " 0.0000\n",
       " 0.0000\n",
       "[torch.DoubleTensor of size 4]\n",
       "\n",
       "1e-310 *\n",
       " 6.9202\n",
       " 6.9202\n",
       " 0.0000\n",
       "[torch.DoubleTensor of size 3]\n",
       "\n"
      ]
     },
     "execution_count": 156,
     "metadata": {},
     "output_type": "execute_result"
    },
    {
     "data": {
      "text/plain": [
       " 7.0000\n",
       " 3.2000\n",
       " 4.7000\n",
       " 0.0000\n",
       "[torch.DoubleTensor of size 4]\n",
       "\n",
       "1e-310 *\n",
       " 6.9202\n",
       " 6.9202\n",
       " 0.0000\n",
       "[torch.DoubleTensor of size 3]\n",
       "\n",
       " 7.0000\n",
       " 3.2000\n",
       " 4.7000\n",
       " 1.4000\n",
       "[torch.DoubleTensor of size 4]\n",
       "\n",
       "1e-310 *\n",
       " 6.9202\n",
       " 6.9202\n",
       " 0.0000\n",
       "[torch.DoubleTensor of size 3]\n",
       "\n",
       " 7.0000\n",
       " 3.2000\n",
       " 4.7000\n",
       " 1.4000\n",
       "[torch.DoubleTensor of size 4]\n",
       "\n",
       " 0\n",
       " 1\n",
       " 0\n",
       "[torch.DoubleTensor of size 3]\n",
       "\n",
       "1e-310 *\n",
       " 6.9202\n",
       " 6.9202\n",
       " 0.0000\n",
       " 0.0000\n",
       "[torch.DoubleTensor of size 4]\n",
       "\n",
       "1e-310 *\n",
       " 6.9202\n",
       " 6.9202\n",
       " 0.0000\n",
       "[torch.DoubleTensor of size 3]\n",
       "\n",
       " 6.4000\n",
       " 0.0000\n",
       " 0.0000\n",
       " 0.0000\n",
       "[torch.DoubleTensor of size 4]\n",
       "\n",
       "1e-310 *\n",
       " 6.9202\n",
       " 6.9202\n",
       " 0.0000\n",
       "[torch.DoubleTensor of size 3]\n",
       "\n",
       " 6.4000\n",
       " 3.2000\n",
       " 0.0000\n",
       " 0.0000\n",
       "[torch.DoubleTensor of size 4]\n",
       "\n",
       "1e-310 *\n",
       " 6.9202\n",
       " 6.9202\n",
       " 0.0000\n",
       "[torch.DoubleTensor of size 3]\n",
       "\n"
      ]
     },
     "execution_count": 156,
     "metadata": {},
     "output_type": "execute_result"
    },
    {
     "data": {
      "text/plain": [
       " 6.4000\n",
       " 3.2000\n",
       " 4.5000\n",
       " 0.0000\n",
       "[torch.DoubleTensor of size 4]\n",
       "\n",
       "1e-310 *\n",
       " 6.9202\n",
       " 6.9202\n",
       " 0.0000\n",
       "[torch.DoubleTensor of size 3]\n",
       "\n",
       " 6.4000\n",
       " 3.2000\n",
       " 4.5000\n",
       " 1.5000\n",
       "[torch.DoubleTensor of size 4]\n",
       "\n",
       "1e-310 *\n",
       " 6.9202\n",
       " 6.9202\n",
       " 0.0000\n",
       "[torch.DoubleTensor of size 3]\n",
       "\n",
       " 6.4000\n",
       " 3.2000\n",
       " 4.5000\n",
       " 1.5000\n",
       "[torch.DoubleTensor of size 4]\n",
       "\n",
       " 0\n",
       " 1\n",
       " 0\n",
       "[torch.DoubleTensor of size 3]\n",
       "\n",
       "1e-310 *\n",
       " 6.9202\n",
       " 6.9202\n",
       " 0.0000\n",
       " 0.0000\n",
       "[torch.DoubleTensor of size 4]\n",
       "\n",
       "1e-310 *\n",
       " 6.9202\n",
       " 6.9202\n",
       " 0.0000\n",
       "[torch.DoubleTensor of size 3]\n",
       "\n",
       " 6.9000\n",
       " 0.0000\n",
       " 0.0000\n",
       " 0.0000\n",
       "[torch.DoubleTensor of size 4]\n",
       "\n",
       "1e-310 *\n",
       " 6.9202\n",
       " 6.9202\n",
       " 0.0000\n",
       "[torch.DoubleTensor of size 3]\n",
       "\n",
       " 6.9000\n",
       " 3.1000\n",
       " 0.0000\n",
       " 0.0000\n",
       "[torch.DoubleTensor of size 4]\n",
       "\n",
       "1e-310 *\n",
       " 6.9202\n",
       " 6.9202\n",
       " 0.0000\n",
       "[torch.DoubleTensor of size 3]\n",
       "\n"
      ]
     },
     "execution_count": 156,
     "metadata": {},
     "output_type": "execute_result"
    },
    {
     "data": {
      "text/plain": [
       " 6.9000\n",
       " 3.1000\n",
       " 4.9000\n",
       " 0.0000\n",
       "[torch.DoubleTensor of size 4]\n",
       "\n",
       "1e-310 *\n",
       " 6.9202\n",
       " 6.9202\n",
       " 0.0000\n",
       "[torch.DoubleTensor of size 3]\n",
       "\n",
       " 6.9000\n",
       " 3.1000\n",
       " 4.9000\n",
       " 1.5000\n",
       "[torch.DoubleTensor of size 4]\n",
       "\n",
       "1e-310 *\n",
       " 6.9202\n",
       " 6.9202\n",
       " 0.0000\n",
       "[torch.DoubleTensor of size 3]\n",
       "\n",
       " 6.9000\n",
       " 3.1000\n",
       " 4.9000\n",
       " 1.5000\n",
       "[torch.DoubleTensor of size 4]\n",
       "\n",
       " 0\n",
       " 1\n",
       " 0\n",
       "[torch.DoubleTensor of size 3]\n",
       "\n",
       "1e-310 *\n",
       " 6.9202\n",
       " 6.9202\n",
       " 0.0000\n",
       " 0.0000\n",
       "[torch.DoubleTensor of size 4]\n",
       "\n",
       "1e-310 *\n",
       " 6.9202\n",
       " 6.9202\n",
       " 0.0000\n",
       "[torch.DoubleTensor of size 3]\n",
       "\n",
       " 5.5000\n",
       " 0.0000\n",
       " 0.0000\n",
       " 0.0000\n",
       "[torch.DoubleTensor of size 4]\n",
       "\n",
       "1e-310 *\n",
       " 6.9202\n",
       " 6.9202\n",
       " 0.0000\n",
       "[torch.DoubleTensor of size 3]\n",
       "\n",
       " 5.5000\n",
       " 2.3000\n",
       " 0.0000\n",
       " 0.0000\n",
       "[torch.DoubleTensor of size 4]\n",
       "\n",
       "1e-310 *\n",
       " 6.9202\n",
       " 6.9202\n",
       " 0.0000\n",
       "[torch.DoubleTensor of size 3]\n",
       "\n",
       " 5.5000\n",
       " 2.3000\n",
       " 4.0000\n",
       " 0.0000\n",
       "[torch.DoubleTensor of size 4]\n",
       "\n"
      ]
     },
     "execution_count": 156,
     "metadata": {},
     "output_type": "execute_result"
    },
    {
     "data": {
      "text/plain": [
       "1e-310 *\n",
       " 6.9202\n",
       " 6.9202\n",
       " 0.0000\n",
       "[torch.DoubleTensor of size 3]\n",
       "\n",
       " 5.5000\n",
       " 2.3000\n",
       " 4.0000\n",
       " 1.3000\n",
       "[torch.DoubleTensor of size 4]\n",
       "\n",
       "1e-310 *\n",
       " 6.9202\n",
       " 6.9202\n",
       " 0.0000\n",
       "[torch.DoubleTensor of size 3]\n",
       "\n",
       " 5.5000\n",
       " 2.3000\n",
       " 4.0000\n",
       " 1.3000\n",
       "[torch.DoubleTensor of size 4]\n",
       "\n",
       " 0\n",
       " 1\n",
       " 0\n",
       "[torch.DoubleTensor of size 3]\n",
       "\n",
       "1e-310 *\n",
       " 6.9202\n",
       " 6.9202\n",
       " 0.0000\n",
       " 0.0000\n",
       "[torch.DoubleTensor of size 4]\n",
       "\n",
       "1e-310 *\n",
       " 6.9202\n",
       " 6.9202\n",
       " 0.0000\n",
       "[torch.DoubleTensor of size 3]\n",
       "\n",
       " 6.5000\n",
       " 0.0000\n",
       " 0.0000\n",
       " 0.0000\n",
       "[torch.DoubleTensor of size 4]\n",
       "\n",
       "1e-310 *\n",
       " 6.9202\n",
       " 6.9202\n",
       " 0.0000\n",
       "[torch.DoubleTensor of size 3]\n",
       "\n",
       " 6.5000\n",
       " 2.8000\n",
       " 0.0000\n",
       " 0.0000\n",
       "[torch.DoubleTensor of size 4]\n",
       "\n",
       "1e-310 *\n",
       " 6.9202\n",
       " 6.9202\n",
       " 0.0000\n",
       "[torch.DoubleTensor of size 3]\n",
       "\n",
       " 6.5000\n",
       " 2.8000\n",
       " 4.6000\n",
       " 0.0000\n",
       "[torch.DoubleTensor of size 4]\n",
       "\n"
      ]
     },
     "execution_count": 156,
     "metadata": {},
     "output_type": "execute_result"
    },
    {
     "data": {
      "text/plain": [
       "1e-310 *\n",
       " 6.9202\n",
       " 6.9202\n",
       " 0.0000\n",
       "[torch.DoubleTensor of size 3]\n",
       "\n",
       " 6.5000\n",
       " 2.8000\n",
       " 4.6000\n",
       " 1.5000\n",
       "[torch.DoubleTensor of size 4]\n",
       "\n",
       "1e-310 *\n",
       " 6.9202\n",
       " 6.9202\n",
       " 0.0000\n",
       "[torch.DoubleTensor of size 3]\n",
       "\n",
       " 6.5000\n",
       " 2.8000\n",
       " 4.6000\n",
       " 1.5000\n",
       "[torch.DoubleTensor of size 4]\n",
       "\n",
       " 0\n",
       " 1\n",
       " 0\n",
       "[torch.DoubleTensor of size 3]\n",
       "\n",
       "1e-310 *\n",
       " 6.9202\n",
       " 6.9202\n",
       " 0.0000\n",
       " 0.0000\n",
       "[torch.DoubleTensor of size 4]\n",
       "\n",
       "1e-310 *\n",
       " 6.9202\n",
       " 6.9202\n",
       " 0.0000\n",
       "[torch.DoubleTensor of size 3]\n",
       "\n",
       " 5.7000\n",
       " 0.0000\n",
       " 0.0000\n",
       " 0.0000\n",
       "[torch.DoubleTensor of size 4]\n",
       "\n",
       "1e-310 *\n",
       " 6.9202\n",
       " 6.9202\n",
       " 0.0000\n",
       "[torch.DoubleTensor of size 3]\n",
       "\n",
       " 5.7000\n",
       " 2.8000\n",
       " 0.0000\n",
       " 0.0000\n",
       "[torch.DoubleTensor of size 4]\n",
       "\n",
       "1e-310 *\n",
       " 6.9202\n",
       " 6.9202\n",
       " 0.0000\n",
       "[torch.DoubleTensor of size 3]\n",
       "\n",
       " 5.7000\n",
       " 2.8000\n",
       " 4.5000\n",
       " 0.0000\n",
       "[torch.DoubleTensor of size 4]\n",
       "\n",
       "1e-310 *\n",
       " 6.9202\n",
       " 6.9202\n",
       " 0.0000\n",
       "[torch.DoubleTensor of size 3]\n",
       "\n"
      ]
     },
     "execution_count": 156,
     "metadata": {},
     "output_type": "execute_result"
    },
    {
     "data": {
      "text/plain": [
       " 5.7000\n",
       " 2.8000\n",
       " 4.5000\n",
       " 1.3000\n",
       "[torch.DoubleTensor of size 4]\n",
       "\n",
       "1e-310 *\n",
       " 6.9202\n",
       " 6.9202\n",
       " 0.0000\n",
       "[torch.DoubleTensor of size 3]\n",
       "\n",
       " 5.7000\n",
       " 2.8000\n",
       " 4.5000\n",
       " 1.3000\n",
       "[torch.DoubleTensor of size 4]\n",
       "\n",
       " 0\n",
       " 1\n",
       " 0\n",
       "[torch.DoubleTensor of size 3]\n",
       "\n",
       "1e-310 *\n",
       " 6.9202\n",
       " 6.9202\n",
       " 0.0000\n",
       " 0.0000\n",
       "[torch.DoubleTensor of size 4]\n",
       "\n",
       "1e-310 *\n",
       " 6.9202\n",
       " 6.9202\n",
       " 0.0000\n",
       "[torch.DoubleTensor of size 3]\n",
       "\n",
       " 6.3000\n",
       " 0.0000\n",
       " 0.0000\n",
       " 0.0000\n",
       "[torch.DoubleTensor of size 4]\n",
       "\n",
       "1e-310 *\n",
       " 6.9202\n",
       " 6.9202\n",
       " 0.0000\n",
       "[torch.DoubleTensor of size 3]\n",
       "\n",
       " 6.3000\n",
       " 3.3000\n",
       " 0.0000\n",
       " 0.0000\n",
       "[torch.DoubleTensor of size 4]\n",
       "\n",
       "1e-310 *\n",
       " 6.9202\n",
       " 6.9202\n",
       " 0.0000\n",
       "[torch.DoubleTensor of size 3]\n",
       "\n",
       " 6.3000\n",
       " 3.3000\n",
       " 4.7000\n",
       " 0.0000\n",
       "[torch.DoubleTensor of size 4]\n",
       "\n",
       "1e-310 *\n",
       " 6.9202\n",
       " 6.9202\n",
       " 0.0000\n",
       "[torch.DoubleTensor of size 3]\n",
       "\n",
       " 6.3000\n",
       " 3.3000\n",
       " 4.7000\n",
       " 1.6000\n",
       "[torch.DoubleTensor of size 4]\n",
       "\n"
      ]
     },
     "execution_count": 156,
     "metadata": {},
     "output_type": "execute_result"
    },
    {
     "data": {
      "text/plain": [
       "1e-310 *\n",
       " 6.9202\n",
       " 6.9202\n",
       " 0.0000\n",
       "[torch.DoubleTensor of size 3]\n",
       "\n",
       " 6.3000\n",
       " 3.3000\n",
       " 4.7000\n",
       " 1.6000\n",
       "[torch.DoubleTensor of size 4]\n",
       "\n",
       " 0\n",
       " 1\n",
       " 0\n",
       "[torch.DoubleTensor of size 3]\n",
       "\n",
       "1e-310 *\n",
       " 6.9202\n",
       " 6.9202\n",
       " 0.0000\n",
       " 0.0000\n",
       "[torch.DoubleTensor of size 4]\n",
       "\n",
       "1e-310 *\n",
       " 6.9202\n",
       " 6.9202\n",
       " 0.0000\n",
       "[torch.DoubleTensor of size 3]\n",
       "\n",
       " 4.9000\n",
       " 0.0000\n",
       " 0.0000\n",
       " 0.0000\n",
       "[torch.DoubleTensor of size 4]\n",
       "\n",
       "1e-310 *\n",
       " 6.9202\n",
       " 6.9202\n",
       " 0.0000\n",
       "[torch.DoubleTensor of size 3]\n",
       "\n",
       " 4.9000\n",
       " 2.4000\n",
       " 0.0000\n",
       " 0.0000\n",
       "[torch.DoubleTensor of size 4]\n",
       "\n",
       "1e-310 *\n",
       " 6.9202\n",
       " 6.9202\n",
       " 0.0000\n",
       "[torch.DoubleTensor of size 3]\n",
       "\n",
       " 4.9000\n",
       " 2.4000\n",
       " 3.3000\n",
       " 0.0000\n",
       "[torch.DoubleTensor of size 4]\n",
       "\n",
       "1e-310 *\n",
       " 6.9202\n",
       " 6.9202\n",
       " 0.0000\n",
       "[torch.DoubleTensor of size 3]\n",
       "\n",
       " 4.9000\n",
       " 2.4000\n",
       " 3.3000\n",
       " 1.0000\n",
       "[torch.DoubleTensor of size 4]\n",
       "\n",
       "1e-310 *\n",
       " 6.9202\n",
       " 6.9202\n",
       " 0.0000\n",
       "[torch.DoubleTensor of size 3]\n",
       "\n"
      ]
     },
     "execution_count": 156,
     "metadata": {},
     "output_type": "execute_result"
    },
    {
     "data": {
      "text/plain": [
       " 4.9000\n",
       " 2.4000\n",
       " 3.3000\n",
       " 1.0000\n",
       "[torch.DoubleTensor of size 4]\n",
       "\n",
       " 0\n",
       " 1\n",
       " 0\n",
       "[torch.DoubleTensor of size 3]\n",
       "\n",
       "1e-310 *\n",
       " 6.9202\n",
       " 6.9202\n",
       " 0.0000\n",
       " 0.0000\n",
       "[torch.DoubleTensor of size 4]\n",
       "\n",
       "1e-310 *\n",
       " 6.9202\n",
       " 6.9202\n",
       " 0.0000\n",
       "[torch.DoubleTensor of size 3]\n",
       "\n",
       " 6.6000\n",
       " 0.0000\n",
       " 0.0000\n",
       " 0.0000\n",
       "[torch.DoubleTensor of size 4]\n",
       "\n",
       "1e-310 *\n",
       " 6.9202\n",
       " 6.9202\n",
       " 0.0000\n",
       "[torch.DoubleTensor of size 3]\n",
       "\n",
       " 6.6000\n",
       " 2.9000\n",
       " 0.0000\n",
       " 0.0000\n",
       "[torch.DoubleTensor of size 4]\n",
       "\n",
       "1e-310 *\n",
       " 6.9202\n",
       " 6.9202\n",
       " 0.0000\n",
       "[torch.DoubleTensor of size 3]\n",
       "\n",
       " 6.6000\n",
       " 2.9000\n",
       " 4.6000\n",
       " 0.0000\n",
       "[torch.DoubleTensor of size 4]\n",
       "\n",
       "1e-310 *\n",
       " 6.9202\n",
       " 6.9202\n",
       " 0.0000\n",
       "[torch.DoubleTensor of size 3]\n",
       "\n"
      ]
     },
     "execution_count": 156,
     "metadata": {},
     "output_type": "execute_result"
    },
    {
     "data": {
      "text/plain": [
       " 6.6000\n",
       " 2.9000\n",
       " 4.6000\n",
       " 1.3000\n",
       "[torch.DoubleTensor of size 4]\n",
       "\n",
       "1e-310 *\n",
       " 6.9202\n",
       " 6.9202\n",
       " 0.0000\n",
       "[torch.DoubleTensor of size 3]\n",
       "\n",
       " 6.6000\n",
       " 2.9000\n",
       " 4.6000\n",
       " 1.3000\n",
       "[torch.DoubleTensor of size 4]\n",
       "\n",
       " 0\n",
       " 1\n",
       " 0\n",
       "[torch.DoubleTensor of size 3]\n",
       "\n",
       "1e-310 *\n",
       " 6.9202\n",
       " 6.9202\n",
       " 0.0000\n",
       " 0.0000\n",
       "[torch.DoubleTensor of size 4]\n",
       "\n",
       "1e-310 *\n",
       " 6.9202\n",
       " 6.9202\n",
       " 0.0000\n",
       "[torch.DoubleTensor of size 3]\n",
       "\n",
       " 5.2000\n",
       " 0.0000\n",
       " 0.0000\n",
       " 0.0000\n",
       "[torch.DoubleTensor of size 4]\n",
       "\n",
       "1e-310 *\n",
       " 6.9202\n",
       " 6.9202\n",
       " 0.0000\n",
       "[torch.DoubleTensor of size 3]\n",
       "\n",
       " 5.2000\n",
       " 2.7000\n",
       " 0.0000\n",
       " 0.0000\n",
       "[torch.DoubleTensor of size 4]\n",
       "\n",
       "1e-310 *\n",
       " 6.9202\n",
       " 6.9202\n",
       " 0.0000\n",
       "[torch.DoubleTensor of size 3]\n",
       "\n",
       " 5.2000\n",
       " 2.7000\n",
       " 3.9000\n",
       " 0.0000\n",
       "[torch.DoubleTensor of size 4]\n",
       "\n",
       "1e-310 *\n",
       " 6.9202\n",
       " 6.9202\n",
       " 0.0000\n",
       "[torch.DoubleTensor of size 3]\n",
       "\n"
      ]
     },
     "execution_count": 156,
     "metadata": {},
     "output_type": "execute_result"
    },
    {
     "data": {
      "text/plain": [
       " 5.2000\n",
       " 2.7000\n",
       " 3.9000\n",
       " 1.4000\n",
       "[torch.DoubleTensor of size 4]\n",
       "\n",
       "1e-310 *\n",
       " 6.9202\n",
       " 6.9202\n",
       " 0.0000\n",
       "[torch.DoubleTensor of size 3]\n",
       "\n",
       " 5.2000\n",
       " 2.7000\n",
       " 3.9000\n",
       " 1.4000\n",
       "[torch.DoubleTensor of size 4]\n",
       "\n",
       " 0\n",
       " 1\n",
       " 0\n",
       "[torch.DoubleTensor of size 3]\n",
       "\n",
       "1e-310 *\n",
       " 6.9202\n",
       " 6.9202\n",
       " 0.0000\n",
       " 0.0000\n",
       "[torch.DoubleTensor of size 4]\n",
       "\n",
       "1e-310 *\n",
       " 6.9202\n",
       " 6.9202\n",
       " 0.0000\n",
       "[torch.DoubleTensor of size 3]\n",
       "\n",
       " 5.0000\n",
       " 0.0000\n",
       " 0.0000\n",
       " 0.0000\n",
       "[torch.DoubleTensor of size 4]\n",
       "\n",
       "1e-310 *\n",
       " 6.9202\n",
       " 6.9202\n",
       " 0.0000\n",
       "[torch.DoubleTensor of size 3]\n",
       "\n",
       " 5\n",
       " 2\n",
       " 0\n",
       " 0\n",
       "[torch.DoubleTensor of size 4]\n",
       "\n",
       "1e-310 *\n",
       " 6.9202\n",
       " 6.9202\n",
       " 0.0000\n",
       "[torch.DoubleTensor of size 3]\n",
       "\n",
       " 5.0000\n",
       " 2.0000\n",
       " 3.5000\n",
       " 0.0000\n",
       "[torch.DoubleTensor of size 4]\n",
       "\n",
       "1e-310 *\n",
       " 6.9202\n",
       " 6.9202\n",
       " 0.0000\n",
       "[torch.DoubleTensor of size 3]\n",
       "\n"
      ]
     },
     "execution_count": 156,
     "metadata": {},
     "output_type": "execute_result"
    },
    {
     "data": {
      "text/plain": [
       " 5.0000\n",
       " 2.0000\n",
       " 3.5000\n",
       " 1.0000\n",
       "[torch.DoubleTensor of size 4]\n",
       "\n",
       "1e-310 *\n",
       " 6.9202\n",
       " 6.9202\n",
       " 0.0000\n",
       "[torch.DoubleTensor of size 3]\n",
       "\n",
       " 5.0000\n",
       " 2.0000\n",
       " 3.5000\n",
       " 1.0000\n",
       "[torch.DoubleTensor of size 4]\n",
       "\n",
       " 0\n",
       " 1\n",
       " 0\n",
       "[torch.DoubleTensor of size 3]\n",
       "\n",
       "1e-310 *\n",
       " 6.9202\n",
       " 6.9202\n",
       " 0.0000\n",
       " 0.0000\n",
       "[torch.DoubleTensor of size 4]\n",
       "\n",
       "1e-310 *\n",
       " 6.9202\n",
       " 6.9202\n",
       " 0.0000\n",
       "[torch.DoubleTensor of size 3]\n",
       "\n",
       " 5.9000\n",
       " 0.0000\n",
       " 0.0000\n",
       " 0.0000\n",
       "[torch.DoubleTensor of size 4]\n",
       "\n",
       "1e-310 *\n",
       " 6.9202\n",
       " 6.9202\n",
       " 0.0000\n",
       "[torch.DoubleTensor of size 3]\n",
       "\n",
       " 5.9000\n",
       " 3.0000\n",
       " 0.0000\n",
       " 0.0000\n",
       "[torch.DoubleTensor of size 4]\n",
       "\n",
       "1e-310 *\n",
       " 6.9202\n",
       " 6.9202\n",
       " 0.0000\n",
       "[torch.DoubleTensor of size 3]\n",
       "\n",
       " 5.9000\n",
       " 3.0000\n",
       " 4.2000\n",
       " 0.0000\n",
       "[torch.DoubleTensor of size 4]\n",
       "\n",
       "1e-310 *\n",
       " 6.9202\n",
       " 6.9202\n",
       " 0.0000\n",
       "[torch.DoubleTensor of size 3]\n",
       "\n",
       " 5.9000\n",
       " 3.0000\n",
       " 4.2000\n",
       " 1.5000\n",
       "[torch.DoubleTensor of size 4]\n",
       "\n",
       "1e-310 *\n",
       " 6.9202\n",
       " 6.9202\n",
       " 0.0000\n",
       "[torch.DoubleTensor of size 3]\n",
       "\n"
      ]
     },
     "execution_count": 156,
     "metadata": {},
     "output_type": "execute_result"
    },
    {
     "data": {
      "text/plain": [
       " 5.9000\n",
       " 3.0000\n",
       " 4.2000\n",
       " 1.5000\n",
       "[torch.DoubleTensor of size 4]\n",
       "\n",
       " 0\n",
       " 1\n",
       " 0\n",
       "[torch.DoubleTensor of size 3]\n",
       "\n",
       "1e-310 *\n",
       " 6.9202\n",
       " 6.9202\n",
       " 0.0000\n",
       " 0.0000\n",
       "[torch.DoubleTensor of size 4]\n",
       "\n",
       "1e-310 *\n",
       " 6.9202\n",
       " 6.9202\n",
       " 0.0000\n",
       "[torch.DoubleTensor of size 3]\n",
       "\n",
       " 6.0000\n",
       " 0.0000\n",
       " 0.0000\n",
       " 0.0000\n",
       "[torch.DoubleTensor of size 4]\n",
       "\n",
       "1e-310 *\n",
       " 6.9202\n",
       " 6.9202\n",
       " 0.0000\n",
       "[torch.DoubleTensor of size 3]\n",
       "\n",
       " 6.0000\n",
       " 2.2000\n",
       " 0.0000\n",
       " 0.0000\n",
       "[torch.DoubleTensor of size 4]\n",
       "\n",
       "1e-310 *\n",
       " 6.9202\n",
       " 6.9202\n",
       " 0.0000\n",
       "[torch.DoubleTensor of size 3]\n",
       "\n",
       " 6.0000\n",
       " 2.2000\n",
       " 4.0000\n",
       " 0.0000\n",
       "[torch.DoubleTensor of size 4]\n",
       "\n",
       "1e-310 *\n",
       " 6.9202\n",
       " 6.9202\n",
       " 0.0000\n",
       "[torch.DoubleTensor of size 3]\n",
       "\n",
       " 6.0000\n",
       " 2.2000\n",
       " 4.0000\n",
       " 1.0000\n",
       "[torch.DoubleTensor of size 4]\n",
       "\n",
       "1e-310 *\n",
       " 6.9202\n",
       " 6.9202\n",
       " 0.0000\n",
       "[torch.DoubleTensor of size 3]\n",
       "\n",
       " 6.0000\n",
       " 2.2000\n",
       " 4.0000\n",
       " 1.0000\n",
       "[torch.DoubleTensor of size 4]\n",
       "\n"
      ]
     },
     "execution_count": 156,
     "metadata": {},
     "output_type": "execute_result"
    },
    {
     "data": {
      "text/plain": [
       " 0\n",
       " 1\n",
       " 0\n",
       "[torch.DoubleTensor of size 3]\n",
       "\n",
       "1e-310 *\n",
       " 6.9202\n",
       " 6.9202\n",
       " 0.0000\n",
       " 0.0000\n",
       "[torch.DoubleTensor of size 4]\n",
       "\n",
       "1e-310 *\n",
       " 6.9202\n",
       " 6.9202\n",
       " 0.0000\n",
       "[torch.DoubleTensor of size 3]\n",
       "\n",
       " 6.1000\n",
       " 0.0000\n",
       " 0.0000\n",
       " 0.0000\n",
       "[torch.DoubleTensor of size 4]\n",
       "\n",
       "1e-310 *\n",
       " 6.9202\n",
       " 6.9202\n",
       " 0.0000\n",
       "[torch.DoubleTensor of size 3]\n",
       "\n",
       " 6.1000\n",
       " 2.9000\n",
       " 0.0000\n",
       " 0.0000\n",
       "[torch.DoubleTensor of size 4]\n",
       "\n",
       "1e-310 *\n",
       " 6.9202\n",
       " 6.9202\n",
       " 0.0000\n",
       "[torch.DoubleTensor of size 3]\n",
       "\n",
       " 6.1000\n",
       " 2.9000\n",
       " 4.7000\n",
       " 0.0000\n",
       "[torch.DoubleTensor of size 4]\n",
       "\n",
       "1e-310 *\n",
       " 6.9202\n",
       " 6.9202\n",
       " 0.0000\n",
       "[torch.DoubleTensor of size 3]\n",
       "\n",
       " 6.1000\n",
       " 2.9000\n",
       " 4.7000\n",
       " 1.4000\n",
       "[torch.DoubleTensor of size 4]\n",
       "\n",
       "1e-310 *\n",
       " 6.9202\n",
       " 6.9202\n",
       " 0.0000\n",
       "[torch.DoubleTensor of size 3]\n",
       "\n",
       " 6.1000\n",
       " 2.9000\n",
       " 4.7000\n",
       " 1.4000\n",
       "[torch.DoubleTensor of size 4]\n",
       "\n",
       " 0\n",
       " 1\n",
       " 0\n",
       "[torch.DoubleTensor of size 3]\n",
       "\n"
      ]
     },
     "execution_count": 156,
     "metadata": {},
     "output_type": "execute_result"
    },
    {
     "data": {
      "text/plain": [
       "1e-310 *\n",
       " 6.9202\n",
       " 6.9202\n",
       " 0.0000\n",
       " 0.0000\n",
       "[torch.DoubleTensor of size 4]\n",
       "\n",
       "1e-310 *\n",
       " 6.9202\n",
       " 6.9202\n",
       " 0.0000\n",
       "[torch.DoubleTensor of size 3]\n",
       "\n",
       " 5.6000\n",
       " 0.0000\n",
       " 0.0000\n",
       " 0.0000\n",
       "[torch.DoubleTensor of size 4]\n",
       "\n",
       "1e-310 *\n",
       " 6.9202\n",
       " 6.9202\n",
       " 0.0000\n",
       "[torch.DoubleTensor of size 3]\n",
       "\n",
       " 5.6000\n",
       " 2.9000\n",
       " 0.0000\n",
       " 0.0000\n",
       "[torch.DoubleTensor of size 4]\n",
       "\n",
       "1e-310 *\n",
       " 6.9202\n",
       " 6.9202\n",
       " 0.0000\n",
       "[torch.DoubleTensor of size 3]\n",
       "\n",
       " 5.6000\n",
       " 2.9000\n",
       " 3.6000\n",
       " 0.0000\n",
       "[torch.DoubleTensor of size 4]\n",
       "\n",
       "1e-310 *\n",
       " 6.9202\n",
       " 6.9202\n",
       " 0.0000\n",
       "[torch.DoubleTensor of size 3]\n",
       "\n",
       " 5.6000\n",
       " 2.9000\n",
       " 3.6000\n",
       " 1.3000\n",
       "[torch.DoubleTensor of size 4]\n",
       "\n",
       "1e-310 *\n",
       " 6.9202\n",
       " 6.9202\n",
       " 0.0000\n",
       "[torch.DoubleTensor of size 3]\n",
       "\n",
       " 5.6000\n",
       " 2.9000\n",
       " 3.6000\n",
       " 1.3000\n",
       "[torch.DoubleTensor of size 4]\n",
       "\n",
       " 0\n",
       " 1\n",
       " 0\n",
       "[torch.DoubleTensor of size 3]\n",
       "\n",
       "1e-310 *\n",
       " 6.9202\n",
       " 6.9202\n",
       " 0.0000\n",
       " 0.0000\n",
       "[torch.DoubleTensor of size 4]\n",
       "\n",
       "1e-310 *\n",
       " 6.9202\n",
       " 6.9202\n",
       " 0.0000\n",
       "[torch.DoubleTensor of size 3]\n",
       "\n"
      ]
     },
     "execution_count": 156,
     "metadata": {},
     "output_type": "execute_result"
    },
    {
     "data": {
      "text/plain": [
       " 6.7000\n",
       " 0.0000\n",
       " 0.0000\n",
       " 0.0000\n",
       "[torch.DoubleTensor of size 4]\n",
       "\n",
       "1e-310 *\n",
       " 6.9202\n",
       " 6.9202\n",
       " 0.0000\n",
       "[torch.DoubleTensor of size 3]\n",
       "\n",
       " 6.7000\n",
       " 3.1000\n",
       " 0.0000\n",
       " 0.0000\n",
       "[torch.DoubleTensor of size 4]\n",
       "\n",
       "1e-310 *\n",
       " 6.9202\n",
       " 6.9202\n",
       " 0.0000\n",
       "[torch.DoubleTensor of size 3]\n",
       "\n",
       " 6.7000\n",
       " 3.1000\n",
       " 4.4000\n",
       " 0.0000\n",
       "[torch.DoubleTensor of size 4]\n",
       "\n",
       "1e-310 *\n",
       " 6.9202\n",
       " 6.9202\n",
       " 0.0000\n",
       "[torch.DoubleTensor of size 3]\n",
       "\n",
       " 6.7000\n",
       " 3.1000\n",
       " 4.4000\n",
       " 1.4000\n",
       "[torch.DoubleTensor of size 4]\n",
       "\n",
       "1e-310 *\n",
       " 6.9202\n",
       " 6.9202\n",
       " 0.0000\n",
       "[torch.DoubleTensor of size 3]\n",
       "\n",
       " 6.7000\n",
       " 3.1000\n",
       " 4.4000\n",
       " 1.4000\n",
       "[torch.DoubleTensor of size 4]\n",
       "\n",
       " 0\n",
       " 1\n",
       " 0\n",
       "[torch.DoubleTensor of size 3]\n",
       "\n",
       "1e-310 *\n",
       " 6.9202\n",
       " 6.9202\n",
       " 0.0000\n",
       " 0.0000\n",
       "[torch.DoubleTensor of size 4]\n",
       "\n",
       "1e-310 *\n",
       " 6.9202\n",
       " 6.9202\n",
       " 0.0000\n",
       "[torch.DoubleTensor of size 3]\n",
       "\n",
       " 5.6000\n",
       " 0.0000\n",
       " 0.0000\n",
       " 0.0000\n",
       "[torch.DoubleTensor of size 4]\n",
       "\n",
       "1e-310 *\n",
       " 6.9202\n",
       " 6.9202\n",
       " 0.0000\n",
       "[torch.DoubleTensor of size 3]\n",
       "\n"
      ]
     },
     "execution_count": 156,
     "metadata": {},
     "output_type": "execute_result"
    },
    {
     "data": {
      "text/plain": [
       " 5.6000\n",
       " 3.0000\n",
       " 0.0000\n",
       " 0.0000\n",
       "[torch.DoubleTensor of size 4]\n",
       "\n",
       "1e-310 *\n",
       " 6.9202\n",
       " 6.9202\n",
       " 0.0000\n",
       "[torch.DoubleTensor of size 3]\n",
       "\n",
       " 5.6000\n",
       " 3.0000\n",
       " 4.5000\n",
       " 0.0000\n",
       "[torch.DoubleTensor of size 4]\n",
       "\n",
       "1e-310 *\n",
       " 6.9202\n",
       " 6.9202\n",
       " 0.0000\n",
       "[torch.DoubleTensor of size 3]\n",
       "\n",
       " 5.6000\n",
       " 3.0000\n",
       " 4.5000\n",
       " 1.5000\n",
       "[torch.DoubleTensor of size 4]\n",
       "\n",
       "1e-310 *\n",
       " 6.9202\n",
       " 6.9202\n",
       " 0.0000\n",
       "[torch.DoubleTensor of size 3]\n",
       "\n",
       " 5.6000\n",
       " 3.0000\n",
       " 4.5000\n",
       " 1.5000\n",
       "[torch.DoubleTensor of size 4]\n",
       "\n",
       " 0\n",
       " 1\n",
       " 0\n",
       "[torch.DoubleTensor of size 3]\n",
       "\n",
       "1e-310 *\n",
       " 6.9202\n",
       " 6.9202\n",
       " 0.0000\n",
       " 0.0000\n",
       "[torch.DoubleTensor of size 4]\n",
       "\n",
       "1e-310 *\n",
       " 6.9202\n",
       " 6.9202\n",
       " 0.0000\n",
       "[torch.DoubleTensor of size 3]\n",
       "\n",
       " 5.8000\n",
       " 0.0000\n",
       " 0.0000\n",
       " 0.0000\n",
       "[torch.DoubleTensor of size 4]\n",
       "\n",
       "1e-310 *\n",
       " 6.9202\n",
       " 6.9202\n",
       " 0.0000\n",
       "[torch.DoubleTensor of size 3]\n",
       "\n",
       " 5.8000\n",
       " 2.7000\n",
       " 0.0000\n",
       " 0.0000\n",
       "[torch.DoubleTensor of size 4]\n",
       "\n",
       "1e-310 *\n",
       " 6.9202\n",
       " 6.9202\n",
       " 0.0000\n",
       "[torch.DoubleTensor of size 3]\n",
       "\n",
       " 5.8000\n",
       " 2.7000\n",
       " 4.1000\n",
       " 0.0000\n",
       "[torch.DoubleTensor of size 4]\n",
       "\n"
      ]
     },
     "execution_count": 156,
     "metadata": {},
     "output_type": "execute_result"
    },
    {
     "data": {
      "text/plain": [
       "1e-310 *\n",
       " 6.9202\n",
       " 6.9202\n",
       " 0.0000\n",
       "[torch.DoubleTensor of size 3]\n",
       "\n",
       " 5.8000\n",
       " 2.7000\n",
       " 4.1000\n",
       " 1.0000\n",
       "[torch.DoubleTensor of size 4]\n",
       "\n",
       "1e-310 *\n",
       " 6.9202\n",
       " 6.9202\n",
       " 0.0000\n",
       "[torch.DoubleTensor of size 3]\n",
       "\n",
       " 5.8000\n",
       " 2.7000\n",
       " 4.1000\n",
       " 1.0000\n",
       "[torch.DoubleTensor of size 4]\n",
       "\n",
       " 0\n",
       " 1\n",
       " 0\n",
       "[torch.DoubleTensor of size 3]\n",
       "\n",
       "1e-310 *\n",
       " 6.9202\n",
       " 6.9202\n",
       " 0.0000\n",
       " 0.0000\n",
       "[torch.DoubleTensor of size 4]\n",
       "\n",
       "1e-310 *\n",
       " 6.9202\n",
       " 6.9202\n",
       " 0.0000\n",
       "[torch.DoubleTensor of size 3]\n",
       "\n",
       " 6.2000\n",
       " 0.0000\n",
       " 0.0000\n",
       " 0.0000\n",
       "[torch.DoubleTensor of size 4]\n",
       "\n",
       "1e-310 *\n",
       " 6.9202\n",
       " 6.9202\n",
       " 0.0000\n",
       "[torch.DoubleTensor of size 3]\n",
       "\n",
       " 6.2000\n",
       " 2.2000\n",
       " 0.0000\n",
       " 0.0000\n",
       "[torch.DoubleTensor of size 4]\n",
       "\n",
       "1e-310 *\n",
       " 6.9202\n",
       " 6.9202\n",
       " 0.0000\n",
       "[torch.DoubleTensor of size 3]\n",
       "\n",
       " 6.2000\n",
       " 2.2000\n",
       " 4.5000\n",
       " 0.0000\n",
       "[torch.DoubleTensor of size 4]\n",
       "\n",
       "1e-310 *\n",
       " 6.9202\n",
       " 6.9202\n",
       " 0.0000\n",
       "[torch.DoubleTensor of size 3]\n",
       "\n",
       " 6.2000\n",
       " 2.2000\n",
       " 4.5000\n",
       " 1.5000\n",
       "[torch.DoubleTensor of size 4]\n"
      ]
     },
     "execution_count": 156,
     "metadata": {},
     "output_type": "execute_result"
    },
    {
     "data": {
      "text/plain": [
       "\n",
       "1e-310 *\n",
       " 6.9202\n",
       " 6.9202\n",
       " 0.0000\n",
       "[torch.DoubleTensor of size 3]\n",
       "\n",
       " 6.2000\n",
       " 2.2000\n",
       " 4.5000\n",
       " 1.5000\n",
       "[torch.DoubleTensor of size 4]\n",
       "\n",
       " 0\n",
       " 1\n",
       " 0\n",
       "[torch.DoubleTensor of size 3]\n",
       "\n",
       "1e-310 *\n",
       " 6.9202\n",
       " 6.9202\n",
       " 0.0000\n",
       " 0.0000\n",
       "[torch.DoubleTensor of size 4]\n",
       "\n",
       "1e-310 *\n",
       " 6.9202\n",
       " 6.9202\n",
       " 0.0000\n",
       "[torch.DoubleTensor of size 3]\n",
       "\n",
       " 5.6000\n",
       " 0.0000\n",
       " 0.0000\n",
       " 0.0000\n",
       "[torch.DoubleTensor of size 4]\n",
       "\n",
       "1e-310 *\n",
       " 6.9202\n",
       " 6.9202\n",
       " 0.0000\n",
       "[torch.DoubleTensor of size 3]\n",
       "\n",
       " 5.6000\n",
       " 2.5000\n",
       " 0.0000\n",
       " 0.0000\n",
       "[torch.DoubleTensor of size 4]\n",
       "\n",
       "1e-310 *\n",
       " 6.9202\n",
       " 6.9202\n",
       " 0.0000\n",
       "[torch.DoubleTensor of size 3]\n",
       "\n",
       " 5.6000\n",
       " 2.5000\n",
       " 3.9000\n",
       " 0.0000\n",
       "[torch.DoubleTensor of size 4]\n",
       "\n",
       "1e-310 *\n",
       " 6.9202\n",
       " 6.9202\n",
       " 0.0000\n",
       "[torch.DoubleTensor of size 3]\n",
       "\n",
       " 5.6000\n",
       " 2.5000\n",
       " 3.9000\n",
       " 1.1000\n",
       "[torch.DoubleTensor of size 4]\n",
       "\n",
       "1e-310 *\n",
       " 6.9202\n",
       " 6.9202\n",
       " 0.0000\n",
       "[torch.DoubleTensor of size 3]\n",
       "\n"
      ]
     },
     "execution_count": 156,
     "metadata": {},
     "output_type": "execute_result"
    },
    {
     "data": {
      "text/plain": [
       " 5.6000\n",
       " 2.5000\n",
       " 3.9000\n",
       " 1.1000\n",
       "[torch.DoubleTensor of size 4]\n",
       "\n",
       " 0\n",
       " 1\n",
       " 0\n",
       "[torch.DoubleTensor of size 3]\n",
       "\n",
       "1e-310 *\n",
       " 6.9202\n",
       " 6.9202\n",
       " 0.0000\n",
       " 0.0000\n",
       "[torch.DoubleTensor of size 4]\n",
       "\n",
       "1e-310 *\n",
       " 6.9202\n",
       " 6.9202\n",
       " 0.0000\n",
       "[torch.DoubleTensor of size 3]\n",
       "\n",
       " 5.9000\n",
       " 0.0000\n",
       " 0.0000\n",
       " 0.0000\n",
       "[torch.DoubleTensor of size 4]\n",
       "\n",
       "1e-310 *\n",
       " 6.9202\n",
       " 6.9202\n",
       " 0.0000\n",
       "[torch.DoubleTensor of size 3]\n",
       "\n",
       " 5.9000\n",
       " 3.2000\n",
       " 0.0000\n",
       " 0.0000\n",
       "[torch.DoubleTensor of size 4]\n",
       "\n",
       "1e-310 *\n",
       " 6.9202\n",
       " 6.9202\n",
       " 0.0000\n",
       "[torch.DoubleTensor of size 3]\n",
       "\n",
       " 5.9000\n",
       " 3.2000\n",
       " 4.8000\n",
       " 0.0000\n",
       "[torch.DoubleTensor of size 4]\n",
       "\n",
       "1e-310 *\n",
       " 6.9202\n",
       " 6.9202\n",
       " 0.0000\n",
       "[torch.DoubleTensor of size 3]\n",
       "\n",
       " 5.9000\n",
       " 3.2000\n",
       " 4.8000\n",
       " 1.8000\n",
       "[torch.DoubleTensor of size 4]\n",
       "\n",
       "1e-310 *\n",
       " 6.9202\n",
       " 6.9202\n",
       " 0.0000\n",
       "[torch.DoubleTensor of size 3]\n",
       "\n",
       " 5.9000\n",
       " 3.2000\n",
       " 4.8000\n",
       " 1.8000\n",
       "[torch.DoubleTensor of size 4]\n",
       "\n",
       " 0\n",
       " 1\n",
       " 0\n",
       "[torch.DoubleTensor of size 3]\n",
       "\n"
      ]
     },
     "execution_count": 156,
     "metadata": {},
     "output_type": "execute_result"
    },
    {
     "data": {
      "text/plain": [
       "1e-310 *\n",
       " 6.9202\n",
       " 6.9202\n",
       " 0.0000\n",
       " 0.0000\n",
       "[torch.DoubleTensor of size 4]\n",
       "\n",
       "1e-310 *\n",
       " 6.9202\n",
       " 6.9202\n",
       " 0.0000\n",
       "[torch.DoubleTensor of size 3]\n",
       "\n",
       " 6.1000\n",
       " 0.0000\n",
       " 0.0000\n",
       " 0.0000\n",
       "[torch.DoubleTensor of size 4]\n",
       "\n",
       "1e-310 *\n",
       " 6.9202\n",
       " 6.9202\n",
       " 0.0000\n",
       "[torch.DoubleTensor of size 3]\n",
       "\n",
       " 6.1000\n",
       " 2.8000\n",
       " 0.0000\n",
       " 0.0000\n",
       "[torch.DoubleTensor of size 4]\n",
       "\n",
       "1e-310 *\n",
       " 6.9202\n",
       " 6.9202\n",
       " 0.0000\n",
       "[torch.DoubleTensor of size 3]\n",
       "\n",
       " 6.1000\n",
       " 2.8000\n",
       " 4.0000\n",
       " 0.0000\n",
       "[torch.DoubleTensor of size 4]\n",
       "\n",
       "1e-310 *\n",
       " 6.9202\n",
       " 6.9202\n",
       " 0.0000\n",
       "[torch.DoubleTensor of size 3]\n",
       "\n",
       " 6.1000\n",
       " 2.8000\n",
       " 4.0000\n",
       " 1.3000\n",
       "[torch.DoubleTensor of size 4]\n",
       "\n",
       "1e-310 *\n",
       " 6.9202\n",
       " 6.9202\n",
       " 0.0000\n",
       "[torch.DoubleTensor of size 3]\n",
       "\n",
       " 6.1000\n",
       " 2.8000\n",
       " 4.0000\n",
       " 1.3000\n",
       "[torch.DoubleTensor of size 4]\n",
       "\n",
       " 0\n",
       " 1\n",
       " 0\n",
       "[torch.DoubleTensor of size 3]\n",
       "\n",
       "1e-310 *\n",
       " 6.9202\n",
       " 6.9202\n",
       " 0.0000\n",
       " 0.0000\n",
       "[torch.DoubleTensor of size 4]\n",
       "\n",
       "1e-310 *\n",
       " 6.9202\n",
       " 6.9202\n",
       " 0.0000\n",
       "[torch.DoubleTensor of size 3]\n",
       "\n"
      ]
     },
     "execution_count": 156,
     "metadata": {},
     "output_type": "execute_result"
    },
    {
     "data": {
      "text/plain": [
       " 6.3000\n",
       " 0.0000\n",
       " 0.0000\n",
       " 0.0000\n",
       "[torch.DoubleTensor of size 4]\n",
       "\n",
       "1e-310 *\n",
       " 6.9202\n",
       " 6.9202\n",
       " 0.0000\n",
       "[torch.DoubleTensor of size 3]\n",
       "\n",
       " 6.3000\n",
       " 2.5000\n",
       " 0.0000\n",
       " 0.0000\n",
       "[torch.DoubleTensor of size 4]\n",
       "\n",
       "1e-310 *\n",
       " 6.9202\n",
       " 6.9202\n",
       " 0.0000\n",
       "[torch.DoubleTensor of size 3]\n",
       "\n",
       " 6.3000\n",
       " 2.5000\n",
       " 4.9000\n",
       " 0.0000\n",
       "[torch.DoubleTensor of size 4]\n",
       "\n",
       "1e-310 *\n",
       " 6.9202\n",
       " 6.9202\n",
       " 0.0000\n",
       "[torch.DoubleTensor of size 3]\n",
       "\n",
       " 6.3000\n",
       " 2.5000\n",
       " 4.9000\n",
       " 1.5000\n",
       "[torch.DoubleTensor of size 4]\n",
       "\n",
       "1e-310 *\n",
       " 6.9202\n",
       " 6.9202\n",
       " 0.0000\n",
       "[torch.DoubleTensor of size 3]\n",
       "\n",
       " 6.3000\n",
       " 2.5000\n",
       " 4.9000\n",
       " 1.5000\n",
       "[torch.DoubleTensor of size 4]\n",
       "\n",
       " 0\n",
       " 1\n",
       " 0\n",
       "[torch.DoubleTensor of size 3]\n",
       "\n",
       "1e-310 *\n",
       " 6.9202\n",
       " 6.9202\n",
       " 0.0000\n",
       " 0.0000\n",
       "[torch.DoubleTensor of size 4]\n",
       "\n",
       "1e-310 *\n",
       " 6.9202\n",
       " 6.9202\n",
       " 0.0000\n",
       "[torch.DoubleTensor of size 3]\n",
       "\n",
       " 6.1000\n",
       " 0.0000\n",
       " 0.0000\n",
       " 0.0000\n",
       "[torch.DoubleTensor of size 4]\n",
       "\n",
       "1e-310 *\n",
       " 6.9202\n",
       " 6.9202\n",
       " 0.0000\n",
       "[torch.DoubleTensor of size 3]\n",
       "\n"
      ]
     },
     "execution_count": 156,
     "metadata": {},
     "output_type": "execute_result"
    },
    {
     "data": {
      "text/plain": [
       " 6.1000\n",
       " 2.8000\n",
       " 0.0000\n",
       " 0.0000\n",
       "[torch.DoubleTensor of size 4]\n",
       "\n",
       "1e-310 *\n",
       " 6.9202\n",
       " 6.9202\n",
       " 0.0000\n",
       "[torch.DoubleTensor of size 3]\n",
       "\n",
       " 6.1000\n",
       " 2.8000\n",
       " 4.7000\n",
       " 0.0000\n",
       "[torch.DoubleTensor of size 4]\n",
       "\n",
       "1e-310 *\n",
       " 6.9202\n",
       " 6.9202\n",
       " 0.0000\n",
       "[torch.DoubleTensor of size 3]\n",
       "\n",
       " 6.1000\n",
       " 2.8000\n",
       " 4.7000\n",
       " 1.2000\n",
       "[torch.DoubleTensor of size 4]\n",
       "\n",
       "1e-310 *\n",
       " 6.9202\n",
       " 6.9202\n",
       " 0.0000\n",
       "[torch.DoubleTensor of size 3]\n",
       "\n",
       " 6.1000\n",
       " 2.8000\n",
       " 4.7000\n",
       " 1.2000\n",
       "[torch.DoubleTensor of size 4]\n",
       "\n",
       " 0\n",
       " 1\n",
       " 0\n",
       "[torch.DoubleTensor of size 3]\n",
       "\n",
       "1e-310 *\n",
       " 6.9202\n",
       " 6.9202\n",
       " 0.0000\n",
       " 0.0000\n",
       "[torch.DoubleTensor of size 4]\n",
       "\n",
       "1e-310 *\n",
       " 6.9202\n",
       " 6.9202\n",
       " 0.0000\n",
       "[torch.DoubleTensor of size 3]\n",
       "\n",
       " 6.4000\n",
       " 0.0000\n",
       " 0.0000\n",
       " 0.0000\n",
       "[torch.DoubleTensor of size 4]\n",
       "\n",
       "1e-310 *\n",
       " 6.9202\n",
       " 6.9202\n",
       " 0.0000\n",
       "[torch.DoubleTensor of size 3]\n",
       "\n",
       " 6.4000\n",
       " 2.9000\n",
       " 0.0000\n",
       " 0.0000\n",
       "[torch.DoubleTensor of size 4]\n",
       "\n"
      ]
     },
     "execution_count": 156,
     "metadata": {},
     "output_type": "execute_result"
    },
    {
     "data": {
      "text/plain": [
       "1e-310 *\n",
       " 6.9202\n",
       " 6.9202\n",
       " 0.0000\n",
       "[torch.DoubleTensor of size 3]\n",
       "\n",
       " 6.4000\n",
       " 2.9000\n",
       " 4.3000\n",
       " 0.0000\n",
       "[torch.DoubleTensor of size 4]\n",
       "\n",
       "1e-310 *\n",
       " 6.9202\n",
       " 6.9202\n",
       " 0.0000\n",
       "[torch.DoubleTensor of size 3]\n",
       "\n",
       " 6.4000\n",
       " 2.9000\n",
       " 4.3000\n",
       " 1.3000\n",
       "[torch.DoubleTensor of size 4]\n",
       "\n",
       "1e-310 *\n",
       " 6.9202\n",
       " 6.9202\n",
       " 0.0000\n",
       "[torch.DoubleTensor of size 3]\n",
       "\n",
       " 6.4000\n",
       " 2.9000\n",
       " 4.3000\n",
       " 1.3000\n",
       "[torch.DoubleTensor of size 4]\n",
       "\n",
       " 0\n",
       " 1\n",
       " 0\n",
       "[torch.DoubleTensor of size 3]\n",
       "\n",
       "1e-310 *\n",
       " 6.9202\n",
       " 6.9202\n",
       " 0.0000\n",
       " 0.0000\n",
       "[torch.DoubleTensor of size 4]\n",
       "\n",
       "1e-310 *\n",
       " 6.9202\n",
       " 6.9202\n",
       " 0.0000\n",
       "[torch.DoubleTensor of size 3]\n",
       "\n",
       " 6.6000\n",
       " 0.0000\n",
       " 0.0000\n",
       " 0.0000\n",
       "[torch.DoubleTensor of size 4]\n",
       "\n",
       "1e-310 *\n",
       " 6.9202\n",
       " 6.9202\n",
       " 0.0000\n",
       "[torch.DoubleTensor of size 3]\n",
       "\n",
       " 6.6000\n",
       " 3.0000\n",
       " 0.0000\n",
       " 0.0000\n",
       "[torch.DoubleTensor of size 4]\n",
       "\n",
       "1e-310 *\n",
       " 6.9202\n",
       " 6.9202\n",
       " 0.0000\n",
       "[torch.DoubleTensor of size 3]\n",
       "\n"
      ]
     },
     "execution_count": 156,
     "metadata": {},
     "output_type": "execute_result"
    },
    {
     "data": {
      "text/plain": [
       " 6.6000\n",
       " 3.0000\n",
       " 4.4000\n",
       " 0.0000\n",
       "[torch.DoubleTensor of size 4]\n",
       "\n",
       "1e-310 *\n",
       " 6.9202\n",
       " 6.9202\n",
       " 0.0000\n",
       "[torch.DoubleTensor of size 3]\n",
       "\n",
       " 6.6000\n",
       " 3.0000\n",
       " 4.4000\n",
       " 1.4000\n",
       "[torch.DoubleTensor of size 4]\n",
       "\n",
       "1e-310 *\n",
       " 6.9202\n",
       " 6.9202\n",
       " 0.0000\n",
       "[torch.DoubleTensor of size 3]\n",
       "\n",
       " 6.6000\n",
       " 3.0000\n",
       " 4.4000\n",
       " 1.4000\n",
       "[torch.DoubleTensor of size 4]\n",
       "\n",
       " 0\n",
       " 1\n",
       " 0\n",
       "[torch.DoubleTensor of size 3]\n",
       "\n",
       "1e-310 *\n",
       " 6.9202\n",
       " 6.9202\n",
       " 0.0000\n",
       " 0.0000\n",
       "[torch.DoubleTensor of size 4]\n",
       "\n",
       "1e-310 *\n",
       " 6.9202\n",
       " 6.9202\n",
       " 0.0000\n",
       "[torch.DoubleTensor of size 3]\n",
       "\n",
       " 6.8000\n",
       " 0.0000\n",
       " 0.0000\n",
       " 0.0000\n",
       "[torch.DoubleTensor of size 4]\n",
       "\n",
       "1e-310 *\n",
       " 6.9202\n",
       " 6.9202\n",
       " 0.0000\n",
       "[torch.DoubleTensor of size 3]\n",
       "\n",
       " 6.8000\n",
       " 2.8000\n",
       " 0.0000\n",
       " 0.0000\n",
       "[torch.DoubleTensor of size 4]\n",
       "\n",
       "1e-310 *\n",
       " 6.9202\n",
       " 6.9202\n",
       " 0.0000\n",
       "[torch.DoubleTensor of size 3]\n",
       "\n",
       " 6.8000\n",
       " 2.8000\n",
       " 4.8000\n",
       " 0.0000\n",
       "[torch.DoubleTensor of size 4]\n",
       "\n",
       "1e-310 *\n",
       " 6.9202\n",
       " 6.9202\n",
       " 0.0000\n",
       "[torch.DoubleTensor of size 3]\n",
       "\n",
       " 6.8000\n",
       " 2.8000\n",
       " 4.8000\n",
       " 1.4000\n",
       "[torch.DoubleTensor of size 4]\n",
       "\n"
      ]
     },
     "execution_count": 156,
     "metadata": {},
     "output_type": "execute_result"
    },
    {
     "data": {
      "text/plain": [
       "1e-310 *\n",
       " 6.9202\n",
       " 6.9202\n",
       " 0.0000\n",
       "[torch.DoubleTensor of size 3]\n",
       "\n",
       " 6.8000\n",
       " 2.8000\n",
       " 4.8000\n",
       " 1.4000\n",
       "[torch.DoubleTensor of size 4]\n",
       "\n",
       " 0\n",
       " 1\n",
       " 0\n",
       "[torch.DoubleTensor of size 3]\n",
       "\n",
       "1e-310 *\n",
       " 6.9202\n",
       " 6.9202\n",
       " 0.0000\n",
       " 0.0000\n",
       "[torch.DoubleTensor of size 4]\n",
       "\n",
       "1e-310 *\n",
       " 6.9202\n",
       " 6.9202\n",
       " 0.0000\n",
       "[torch.DoubleTensor of size 3]\n",
       "\n",
       " 6.7000\n",
       " 0.0000\n",
       " 0.0000\n",
       " 0.0000\n",
       "[torch.DoubleTensor of size 4]\n",
       "\n",
       "1e-310 *\n",
       " 6.9202\n",
       " 6.9202\n",
       " 0.0000\n",
       "[torch.DoubleTensor of size 3]\n",
       "\n",
       " 6.7000\n",
       " 3.0000\n",
       " 0.0000\n",
       " 0.0000\n",
       "[torch.DoubleTensor of size 4]\n",
       "\n",
       "1e-310 *\n",
       " 6.9202\n",
       " 6.9202\n",
       " 0.0000\n",
       "[torch.DoubleTensor of size 3]\n",
       "\n",
       " 6.7000\n",
       " 3.0000\n",
       " 5.0000\n",
       " 0.0000\n",
       "[torch.DoubleTensor of size 4]\n",
       "\n",
       "1e-310 *\n",
       " 6.9202\n",
       " 6.9202\n",
       " 0.0000\n",
       "[torch.DoubleTensor of size 3]\n",
       "\n",
       " 6.7000\n",
       " 3.0000\n",
       " 5.0000\n",
       " 1.7000\n",
       "[torch.DoubleTensor of size 4]\n",
       "\n",
       "1e-310 *\n",
       " 6.9202\n",
       " 6.9202\n",
       " 0.0000\n",
       "[torch.DoubleTensor of size 3]\n",
       "\n",
       " 6.7000\n",
       " 3.0000\n",
       " 5.0000\n",
       " 1.7000\n",
       "[torch.DoubleTensor of size 4]\n",
       "\n"
      ]
     },
     "execution_count": 156,
     "metadata": {},
     "output_type": "execute_result"
    },
    {
     "data": {
      "text/plain": [
       " 0\n",
       " 1\n",
       " 0\n",
       "[torch.DoubleTensor of size 3]\n",
       "\n",
       "1e-310 *\n",
       " 6.9202\n",
       " 6.9202\n",
       " 0.0000\n",
       " 0.0000\n",
       "[torch.DoubleTensor of size 4]\n",
       "\n",
       "1e-310 *\n",
       " 6.9202\n",
       " 6.9202\n",
       " 0.0000\n",
       "[torch.DoubleTensor of size 3]\n",
       "\n",
       " 6.0000\n",
       " 0.0000\n",
       " 0.0000\n",
       " 0.0000\n",
       "[torch.DoubleTensor of size 4]\n",
       "\n",
       "1e-310 *\n",
       " 6.9202\n",
       " 6.9202\n",
       " 0.0000\n",
       "[torch.DoubleTensor of size 3]\n",
       "\n",
       " 6.0000\n",
       " 2.9000\n",
       " 0.0000\n",
       " 0.0000\n",
       "[torch.DoubleTensor of size 4]\n",
       "\n",
       "1e-310 *\n",
       " 6.9202\n",
       " 6.9202\n",
       " 0.0000\n",
       "[torch.DoubleTensor of size 3]\n",
       "\n",
       " 6.0000\n",
       " 2.9000\n",
       " 4.5000\n",
       " 0.0000\n",
       "[torch.DoubleTensor of size 4]\n",
       "\n",
       "1e-310 *\n",
       " 6.9202\n",
       " 6.9202\n",
       " 0.0000\n",
       "[torch.DoubleTensor of size 3]\n",
       "\n",
       " 6.0000\n",
       " 2.9000\n",
       " 4.5000\n",
       " 1.5000\n",
       "[torch.DoubleTensor of size 4]\n",
       "\n",
       "1e-310 *\n",
       " 6.9202\n",
       " 6.9202\n",
       " 0.0000\n",
       "[torch.DoubleTensor of size 3]\n",
       "\n",
       " 6.0000\n",
       " 2.9000\n",
       " 4.5000\n",
       " 1.5000\n",
       "[torch.DoubleTensor of size 4]\n",
       "\n",
       " 0\n",
       " 1\n",
       " 0\n",
       "[torch.DoubleTensor of size 3]\n",
       "\n",
       "1e-310 *\n",
       " 6.9202\n",
       " 6.9202\n",
       " 0.0000\n",
       " 0.0000\n",
       "[torch.DoubleTensor of size 4]\n",
       "\n"
      ]
     },
     "execution_count": 156,
     "metadata": {},
     "output_type": "execute_result"
    },
    {
     "data": {
      "text/plain": [
       "1e-310 *\n",
       " 6.9202\n",
       " 6.9202\n",
       " 0.0000\n",
       "[torch.DoubleTensor of size 3]\n",
       "\n",
       " 5.7000\n",
       " 0.0000\n",
       " 0.0000\n",
       " 0.0000\n",
       "[torch.DoubleTensor of size 4]\n",
       "\n",
       "1e-310 *\n",
       " 6.9202\n",
       " 6.9202\n",
       " 0.0000\n",
       "[torch.DoubleTensor of size 3]\n",
       "\n",
       " 5.7000\n",
       " 2.6000\n",
       " 0.0000\n",
       " 0.0000\n",
       "[torch.DoubleTensor of size 4]\n",
       "\n",
       "1e-310 *\n",
       " 6.9202\n",
       " 6.9202\n",
       " 0.0000\n",
       "[torch.DoubleTensor of size 3]\n",
       "\n",
       " 5.7000\n",
       " 2.6000\n",
       " 3.5000\n",
       " 0.0000\n",
       "[torch.DoubleTensor of size 4]\n",
       "\n",
       "1e-310 *\n",
       " 6.9202\n",
       " 6.9202\n",
       " 0.0000\n",
       "[torch.DoubleTensor of size 3]\n",
       "\n",
       " 5.7000\n",
       " 2.6000\n",
       " 3.5000\n",
       " 1.0000\n",
       "[torch.DoubleTensor of size 4]\n",
       "\n",
       "1e-310 *\n",
       " 6.9202\n",
       " 6.9202\n",
       " 0.0000\n",
       "[torch.DoubleTensor of size 3]\n",
       "\n",
       " 5.7000\n",
       " 2.6000\n",
       " 3.5000\n",
       " 1.0000\n",
       "[torch.DoubleTensor of size 4]\n",
       "\n",
       " 0\n",
       " 1\n",
       " 0\n",
       "[torch.DoubleTensor of size 3]\n",
       "\n",
       "1e-310 *\n",
       " 6.9202\n",
       " 6.9202\n",
       " 0.0000\n",
       " 0.0000\n",
       "[torch.DoubleTensor of size 4]\n",
       "\n",
       "1e-310 *\n",
       " 6.9202\n",
       " 6.9202\n",
       " 0.0000\n",
       "[torch.DoubleTensor of size 3]\n",
       "\n",
       " 5.5000\n",
       " 0.0000\n",
       " 0.0000\n",
       " 0.0000\n",
       "[torch.DoubleTensor of size 4]\n",
       "\n"
      ]
     },
     "execution_count": 156,
     "metadata": {},
     "output_type": "execute_result"
    },
    {
     "data": {
      "text/plain": [
       "1e-310 *\n",
       " 6.9202\n",
       " 6.9202\n",
       " 0.0000\n",
       "[torch.DoubleTensor of size 3]\n",
       "\n",
       " 5.5000\n",
       " 2.4000\n",
       " 0.0000\n",
       " 0.0000\n",
       "[torch.DoubleTensor of size 4]\n",
       "\n",
       "1e-310 *\n",
       " 6.9202\n",
       " 6.9202\n",
       " 0.0000\n",
       "[torch.DoubleTensor of size 3]\n",
       "\n",
       " 5.5000\n",
       " 2.4000\n",
       " 3.8000\n",
       " 0.0000\n",
       "[torch.DoubleTensor of size 4]\n",
       "\n",
       "1e-310 *\n",
       " 6.9202\n",
       " 6.9202\n",
       " 0.0000\n",
       "[torch.DoubleTensor of size 3]\n",
       "\n",
       " 5.5000\n",
       " 2.4000\n",
       " 3.8000\n",
       " 1.1000\n",
       "[torch.DoubleTensor of size 4]\n",
       "\n",
       "1e-310 *\n",
       " 6.9202\n",
       " 6.9202\n",
       " 0.0000\n",
       "[torch.DoubleTensor of size 3]\n",
       "\n",
       " 5.5000\n",
       " 2.4000\n",
       " 3.8000\n",
       " 1.1000\n",
       "[torch.DoubleTensor of size 4]\n",
       "\n",
       " 0\n",
       " 1\n",
       " 0\n",
       "[torch.DoubleTensor of size 3]\n",
       "\n",
       "1e-310 *\n",
       " 6.9202\n",
       " 6.9202\n",
       " 0.0000\n",
       " 0.0000\n",
       "[torch.DoubleTensor of size 4]\n",
       "\n",
       "1e-310 *\n",
       " 6.9202\n",
       " 6.9202\n",
       " 0.0000\n",
       "[torch.DoubleTensor of size 3]\n",
       "\n",
       " 5.5000\n",
       " 0.0000\n",
       " 0.0000\n",
       " 0.0000\n",
       "[torch.DoubleTensor of size 4]\n",
       "\n",
       "1e-310 *\n",
       " 6.9202\n",
       " 6.9202\n",
       " 0.0000\n",
       "[torch.DoubleTensor of size 3]\n",
       "\n",
       " 5.5000\n",
       " 2.4000\n",
       " 0.0000\n",
       " 0.0000\n",
       "[torch.DoubleTensor of size 4]\n",
       "\n",
       "1e-310 *\n",
       " 6.9202\n",
       " 6.9202\n",
       " 0.0000\n",
       "[torch.DoubleTensor of size 3]\n",
       "\n"
      ]
     },
     "execution_count": 156,
     "metadata": {},
     "output_type": "execute_result"
    },
    {
     "data": {
      "text/plain": [
       " 5.5000\n",
       " 2.4000\n",
       " 3.7000\n",
       " 0.0000\n",
       "[torch.DoubleTensor of size 4]\n",
       "\n",
       "1e-310 *\n",
       " 6.9202\n",
       " 6.9202\n",
       " 0.0000\n",
       "[torch.DoubleTensor of size 3]\n",
       "\n",
       " 5.5000\n",
       " 2.4000\n",
       " 3.7000\n",
       " 1.0000\n",
       "[torch.DoubleTensor of size 4]\n",
       "\n",
       "1e-310 *\n",
       " 6.9202\n",
       " 6.9202\n",
       " 0.0000\n",
       "[torch.DoubleTensor of size 3]\n",
       "\n",
       " 5.5000\n",
       " 2.4000\n",
       " 3.7000\n",
       " 1.0000\n",
       "[torch.DoubleTensor of size 4]\n",
       "\n",
       " 0\n",
       " 1\n",
       " 0\n",
       "[torch.DoubleTensor of size 3]\n",
       "\n",
       "1e-310 *\n",
       " 6.9202\n",
       " 6.9202\n",
       " 0.0000\n",
       " 0.0000\n",
       "[torch.DoubleTensor of size 4]\n",
       "\n",
       "1e-310 *\n",
       " 6.9202\n",
       " 6.9202\n",
       " 0.0000\n",
       "[torch.DoubleTensor of size 3]\n",
       "\n",
       " 5.8000\n",
       " 0.0000\n",
       " 0.0000\n",
       " 0.0000\n",
       "[torch.DoubleTensor of size 4]\n",
       "\n",
       "1e-310 *\n",
       " 6.9202\n",
       " 6.9202\n",
       " 0.0000\n",
       "[torch.DoubleTensor of size 3]\n",
       "\n",
       " 5.8000\n",
       " 2.7000\n",
       " 0.0000\n",
       " 0.0000\n",
       "[torch.DoubleTensor of size 4]\n",
       "\n",
       "1e-310 *\n",
       " 6.9202\n",
       " 6.9202\n",
       " 0.0000\n",
       "[torch.DoubleTensor of size 3]\n",
       "\n",
       " 5.8000\n",
       " 2.7000\n",
       " 3.9000\n",
       " 0.0000\n",
       "[torch.DoubleTensor of size 4]\n",
       "\n",
       "1e-310 *\n",
       " 6.9202\n",
       " 6.9202\n",
       " 0.0000\n",
       "[torch.DoubleTensor of size 3]\n",
       "\n"
      ]
     },
     "execution_count": 156,
     "metadata": {},
     "output_type": "execute_result"
    },
    {
     "data": {
      "text/plain": [
       " 5.8000\n",
       " 2.7000\n",
       " 3.9000\n",
       " 1.2000\n",
       "[torch.DoubleTensor of size 4]\n",
       "\n",
       "1e-310 *\n",
       " 6.9202\n",
       " 6.9202\n",
       " 0.0000\n",
       "[torch.DoubleTensor of size 3]\n",
       "\n",
       " 5.8000\n",
       " 2.7000\n",
       " 3.9000\n",
       " 1.2000\n",
       "[torch.DoubleTensor of size 4]\n",
       "\n",
       " 0\n",
       " 1\n",
       " 0\n",
       "[torch.DoubleTensor of size 3]\n",
       "\n",
       "1e-310 *\n",
       " 6.9202\n",
       " 6.9202\n",
       " 0.0000\n",
       " 0.0000\n",
       "[torch.DoubleTensor of size 4]\n",
       "\n",
       "1e-310 *\n",
       " 6.9202\n",
       " 6.9202\n",
       " 0.0000\n",
       "[torch.DoubleTensor of size 3]\n",
       "\n",
       " 6.0000\n",
       " 0.0000\n",
       " 0.0000\n",
       " 0.0000\n",
       "[torch.DoubleTensor of size 4]\n",
       "\n",
       "1e-310 *\n",
       " 6.9202\n",
       " 6.9202\n",
       " 0.0000\n",
       "[torch.DoubleTensor of size 3]\n",
       "\n",
       " 6.0000\n",
       " 2.7000\n",
       " 0.0000\n",
       " 0.0000\n",
       "[torch.DoubleTensor of size 4]\n",
       "\n",
       "1e-310 *\n",
       " 6.9202\n",
       " 6.9202\n",
       " 0.0000\n",
       "[torch.DoubleTensor of size 3]\n",
       "\n",
       " 6.0000\n",
       " 2.7000\n",
       " 5.1000\n",
       " 0.0000\n",
       "[torch.DoubleTensor of size 4]\n",
       "\n",
       "1e-310 *\n",
       " 6.9202\n",
       " 6.9202\n",
       " 0.0000\n",
       "[torch.DoubleTensor of size 3]\n",
       "\n",
       " 6.0000\n",
       " 2.7000\n",
       " 5.1000\n",
       " 1.6000\n",
       "[torch.DoubleTensor of size 4]\n",
       "\n",
       "1e-310 *\n",
       " 6.9202\n",
       " 6.9202\n",
       " 0.0000\n",
       "[torch.DoubleTensor of size 3]\n",
       "\n",
       " 6.0000\n",
       " 2.7000\n",
       " 5.1000\n",
       " 1.6000\n",
       "[torch.DoubleTensor of size 4]\n",
       "\n",
       " 0\n",
       " 1\n",
       " 0\n",
       "[torch.DoubleTensor of size 3]\n",
       "\n"
      ]
     },
     "execution_count": 156,
     "metadata": {},
     "output_type": "execute_result"
    },
    {
     "data": {
      "text/plain": [
       "1e-310 *\n",
       " 6.9202\n",
       " 6.9202\n",
       " 0.0000\n",
       " 0.0000\n",
       "[torch.DoubleTensor of size 4]\n",
       "\n",
       "1e-310 *\n",
       " 6.9202\n",
       " 6.9202\n",
       " 0.0000\n",
       "[torch.DoubleTensor of size 3]\n",
       "\n",
       " 5.4000\n",
       " 0.0000\n",
       " 0.0000\n",
       " 0.0000\n",
       "[torch.DoubleTensor of size 4]\n",
       "\n",
       "1e-310 *\n",
       " 6.9202\n",
       " 6.9202\n",
       " 0.0000\n",
       "[torch.DoubleTensor of size 3]\n",
       "\n",
       " 5.4000\n",
       " 3.0000\n",
       " 0.0000\n",
       " 0.0000\n",
       "[torch.DoubleTensor of size 4]\n",
       "\n",
       "1e-310 *\n",
       " 6.9202\n",
       " 6.9202\n",
       " 0.0000\n",
       "[torch.DoubleTensor of size 3]\n",
       "\n",
       " 5.4000\n",
       " 3.0000\n",
       " 4.5000\n",
       " 0.0000\n",
       "[torch.DoubleTensor of size 4]\n",
       "\n",
       "1e-310 *\n",
       " 6.9202\n",
       " 6.9202\n",
       " 0.0000\n",
       "[torch.DoubleTensor of size 3]\n",
       "\n",
       " 5.4000\n",
       " 3.0000\n",
       " 4.5000\n",
       " 1.5000\n",
       "[torch.DoubleTensor of size 4]\n",
       "\n",
       "1e-310 *\n",
       " 6.9202\n",
       " 6.9202\n",
       " 0.0000\n",
       "[torch.DoubleTensor of size 3]\n",
       "\n",
       " 5.4000\n",
       " 3.0000\n",
       " 4.5000\n",
       " 1.5000\n",
       "[torch.DoubleTensor of size 4]\n",
       "\n",
       " 0\n",
       " 1\n",
       " 0\n",
       "[torch.DoubleTensor of size 3]\n",
       "\n",
       "1e-310 *\n",
       " 6.9202\n",
       " 6.9202\n",
       " 0.0000\n",
       " 0.0000\n",
       "[torch.DoubleTensor of size 4]\n",
       "\n",
       "1e-310 *\n",
       " 6.9202\n",
       " 6.9202\n",
       " 0.0000\n",
       "[torch.DoubleTensor of size 3]\n",
       "\n"
      ]
     },
     "execution_count": 156,
     "metadata": {},
     "output_type": "execute_result"
    },
    {
     "data": {
      "text/plain": [
       " 6.0000\n",
       " 0.0000\n",
       " 0.0000\n",
       " 0.0000\n",
       "[torch.DoubleTensor of size 4]\n",
       "\n",
       "1e-310 *\n",
       " 6.9202\n",
       " 6.9202\n",
       " 0.0000\n",
       "[torch.DoubleTensor of size 3]\n",
       "\n",
       " 6.0000\n",
       " 3.4000\n",
       " 0.0000\n",
       " 0.0000\n",
       "[torch.DoubleTensor of size 4]\n",
       "\n",
       "1e-310 *\n",
       " 6.9202\n",
       " 6.9202\n",
       " 0.0000\n",
       "[torch.DoubleTensor of size 3]\n",
       "\n",
       " 6.0000\n",
       " 3.4000\n",
       " 4.5000\n",
       " 0.0000\n",
       "[torch.DoubleTensor of size 4]\n",
       "\n",
       "1e-310 *\n",
       " 6.9202\n",
       " 6.9202\n",
       " 0.0000\n",
       "[torch.DoubleTensor of size 3]\n",
       "\n",
       " 6.0000\n",
       " 3.4000\n",
       " 4.5000\n",
       " 1.6000\n",
       "[torch.DoubleTensor of size 4]\n",
       "\n",
       "1e-310 *\n",
       " 6.9202\n",
       " 6.9202\n",
       " 0.0000\n",
       "[torch.DoubleTensor of size 3]\n",
       "\n",
       " 6.0000\n",
       " 3.4000\n",
       " 4.5000\n",
       " 1.6000\n",
       "[torch.DoubleTensor of size 4]\n",
       "\n",
       " 0\n",
       " 1\n",
       " 0\n",
       "[torch.DoubleTensor of size 3]\n",
       "\n",
       "1e-310 *\n",
       " 6.9202\n",
       " 6.9202\n",
       " 0.0000\n",
       " 0.0000\n",
       "[torch.DoubleTensor of size 4]\n",
       "\n",
       "1e-310 *\n",
       " 6.9202\n",
       " 6.9202\n",
       " 0.0000\n",
       "[torch.DoubleTensor of size 3]\n",
       "\n",
       " 6.7000\n",
       " 0.0000\n",
       " 0.0000\n",
       " 0.0000\n",
       "[torch.DoubleTensor of size 4]\n",
       "\n",
       "1e-310 *\n",
       " 6.9202\n",
       " 6.9202\n",
       " 0.0000\n",
       "[torch.DoubleTensor of size 3]\n",
       "\n",
       " 6.7000\n",
       " 3.1000\n",
       " 0.0000\n",
       " 0.0000\n",
       "[torch.DoubleTensor of size 4]\n",
       "\n"
      ]
     },
     "execution_count": 156,
     "metadata": {},
     "output_type": "execute_result"
    },
    {
     "data": {
      "text/plain": [
       "1e-310 *\n",
       " 6.9202\n",
       " 6.9202\n",
       " 0.0000\n",
       "[torch.DoubleTensor of size 3]\n",
       "\n",
       " 6.7000\n",
       " 3.1000\n",
       " 4.7000\n",
       " 0.0000\n",
       "[torch.DoubleTensor of size 4]\n",
       "\n",
       "1e-310 *\n",
       " 6.9202\n",
       " 6.9202\n",
       " 0.0000\n",
       "[torch.DoubleTensor of size 3]\n",
       "\n",
       " 6.7000\n",
       " 3.1000\n",
       " 4.7000\n",
       " 1.5000\n",
       "[torch.DoubleTensor of size 4]\n",
       "\n",
       "1e-310 *\n",
       " 6.9202\n",
       " 6.9202\n",
       " 0.0000\n",
       "[torch.DoubleTensor of size 3]\n",
       "\n",
       " 6.7000\n",
       " 3.1000\n",
       " 4.7000\n",
       " 1.5000\n",
       "[torch.DoubleTensor of size 4]\n",
       "\n",
       " 0\n",
       " 1\n",
       " 0\n",
       "[torch.DoubleTensor of size 3]\n",
       "\n",
       "1e-310 *\n",
       " 6.9202\n",
       " 6.9202\n",
       " 0.0000\n",
       " 0.0000\n",
       "[torch.DoubleTensor of size 4]\n",
       "\n",
       "1e-310 *\n",
       " 6.9202\n",
       " 6.9202\n",
       " 0.0000\n",
       "[torch.DoubleTensor of size 3]\n",
       "\n",
       " 6.3000\n",
       " 0.0000\n",
       " 0.0000\n",
       " 0.0000\n",
       "[torch.DoubleTensor of size 4]\n",
       "\n",
       "1e-310 *\n",
       " 6.9202\n",
       " 6.9202\n",
       " 0.0000\n",
       "[torch.DoubleTensor of size 3]\n",
       "\n",
       " 6.3000\n",
       " 2.3000\n",
       " 0.0000\n",
       " 0.0000\n",
       "[torch.DoubleTensor of size 4]\n",
       "\n",
       "1e-310 *\n",
       " 6.9202\n",
       " 6.9202\n",
       " 0.0000\n",
       "[torch.DoubleTensor of size 3]\n",
       "\n",
       " 6.3000\n",
       " 2.3000\n",
       " 4.4000\n",
       " 0.0000\n",
       "[torch.DoubleTensor of size 4]\n",
       "\n",
       "1e-310 *\n",
       " 6.9202\n",
       " 6.9202\n",
       " 0.0000\n",
       "[torch.DoubleTensor of size 3]\n",
       "\n"
      ]
     },
     "execution_count": 156,
     "metadata": {},
     "output_type": "execute_result"
    },
    {
     "data": {
      "text/plain": [
       " 6.3000\n",
       " 2.3000\n",
       " 4.4000\n",
       " 1.3000\n",
       "[torch.DoubleTensor of size 4]\n",
       "\n",
       "1e-310 *\n",
       " 6.9202\n",
       " 6.9202\n",
       " 0.0000\n",
       "[torch.DoubleTensor of size 3]\n",
       "\n",
       " 6.3000\n",
       " 2.3000\n",
       " 4.4000\n",
       " 1.3000\n",
       "[torch.DoubleTensor of size 4]\n",
       "\n",
       " 0\n",
       " 1\n",
       " 0\n",
       "[torch.DoubleTensor of size 3]\n",
       "\n",
       "1e-310 *\n",
       " 6.9202\n",
       " 6.9202\n",
       " 0.0000\n",
       " 0.0000\n",
       "[torch.DoubleTensor of size 4]\n",
       "\n",
       "1e-310 *\n",
       " 6.9202\n",
       " 6.9202\n",
       " 0.0000\n",
       "[torch.DoubleTensor of size 3]\n",
       "\n",
       " 5.6000\n",
       " 0.0000\n",
       " 0.0000\n",
       " 0.0000\n",
       "[torch.DoubleTensor of size 4]\n",
       "\n",
       "1e-310 *\n",
       " 6.9202\n",
       " 6.9202\n",
       " 0.0000\n",
       "[torch.DoubleTensor of size 3]\n",
       "\n",
       " 5.6000\n",
       " 3.0000\n",
       " 0.0000\n",
       " 0.0000\n",
       "[torch.DoubleTensor of size 4]\n",
       "\n",
       "1e-310 *\n",
       " 6.9202\n",
       " 6.9202\n",
       " 0.0000\n",
       "[torch.DoubleTensor of size 3]\n",
       "\n",
       " 5.6000\n",
       " 3.0000\n",
       " 4.1000\n",
       " 0.0000\n",
       "[torch.DoubleTensor of size 4]\n",
       "\n",
       "1e-310 *\n",
       " 6.9202\n",
       " 6.9202\n",
       " 0.0000\n",
       "[torch.DoubleTensor of size 3]\n",
       "\n",
       " 5.6000\n",
       " 3.0000\n",
       " 4.1000\n",
       " 1.3000\n",
       "[torch.DoubleTensor of size 4]\n",
       "\n",
       "1e-310 *\n",
       " 6.9202\n",
       " 6.9202\n",
       " 0.0000\n",
       "[torch.DoubleTensor of size 3]\n",
       "\n",
       " 5.6000\n",
       " 3.0000\n",
       " 4.1000\n",
       " 1.3000\n",
       "[torch.DoubleTensor of size 4]\n",
       "\n"
      ]
     },
     "execution_count": 156,
     "metadata": {},
     "output_type": "execute_result"
    },
    {
     "data": {
      "text/plain": [
       " 0\n",
       " 1\n",
       " 0\n",
       "[torch.DoubleTensor of size 3]\n",
       "\n",
       "1e-310 *\n",
       " 6.9202\n",
       " 6.9202\n",
       " 0.0000\n",
       " 0.0000\n",
       "[torch.DoubleTensor of size 4]\n",
       "\n",
       "1e-310 *\n",
       " 6.9202\n",
       " 6.9202\n",
       " 0.0000\n",
       "[torch.DoubleTensor of size 3]\n",
       "\n",
       " 5.5000\n",
       " 0.0000\n",
       " 0.0000\n",
       " 0.0000\n",
       "[torch.DoubleTensor of size 4]\n",
       "\n",
       "1e-310 *\n",
       " 6.9202\n",
       " 6.9202\n",
       " 0.0000\n",
       "[torch.DoubleTensor of size 3]\n",
       "\n",
       " 5.5000\n",
       " 2.5000\n",
       " 0.0000\n",
       " 0.0000\n",
       "[torch.DoubleTensor of size 4]\n",
       "\n",
       "1e-310 *\n",
       " 6.9202\n",
       " 6.9202\n",
       " 0.0000\n",
       "[torch.DoubleTensor of size 3]\n",
       "\n",
       " 5.5000\n",
       " 2.5000\n",
       " 4.0000\n",
       " 0.0000\n",
       "[torch.DoubleTensor of size 4]\n",
       "\n",
       "1e-310 *\n",
       " 6.9202\n",
       " 6.9202\n",
       " 0.0000\n",
       "[torch.DoubleTensor of size 3]\n",
       "\n",
       " 5.5000\n",
       " 2.5000\n",
       " 4.0000\n",
       " 1.3000\n",
       "[torch.DoubleTensor of size 4]\n",
       "\n",
       "1e-310 *\n",
       " 6.9202\n",
       " 6.9202\n",
       " 0.0000\n",
       "[torch.DoubleTensor of size 3]\n",
       "\n",
       " 5.5000\n",
       " 2.5000\n",
       " 4.0000\n",
       " 1.3000\n",
       "[torch.DoubleTensor of size 4]\n",
       "\n",
       " 0\n",
       " 1\n",
       " 0\n",
       "[torch.DoubleTensor of size 3]\n",
       "\n",
       "1e-310 *\n",
       " 6.9202\n",
       " 6.9202\n",
       " 0.0000\n",
       " 0.0000\n",
       "[torch.DoubleTensor of size 4]\n",
       "\n"
      ]
     },
     "execution_count": 156,
     "metadata": {},
     "output_type": "execute_result"
    },
    {
     "data": {
      "text/plain": [
       "1e-310 *\n",
       " 6.9202\n",
       " 6.9202\n",
       " 0.0000\n",
       "[torch.DoubleTensor of size 3]\n",
       "\n",
       " 5.5000\n",
       " 0.0000\n",
       " 0.0000\n",
       " 0.0000\n",
       "[torch.DoubleTensor of size 4]\n",
       "\n",
       "1e-310 *\n",
       " 6.9202\n",
       " 6.9202\n",
       " 0.0000\n",
       "[torch.DoubleTensor of size 3]\n",
       "\n",
       " 5.5000\n",
       " 2.6000\n",
       " 0.0000\n",
       " 0.0000\n",
       "[torch.DoubleTensor of size 4]\n",
       "\n",
       "1e-310 *\n",
       " 6.9202\n",
       " 6.9202\n",
       " 0.0000\n",
       "[torch.DoubleTensor of size 3]\n",
       "\n",
       " 5.5000\n",
       " 2.6000\n",
       " 4.4000\n",
       " 0.0000\n",
       "[torch.DoubleTensor of size 4]\n",
       "\n",
       "1e-310 *\n",
       " 6.9202\n",
       " 6.9202\n",
       " 0.0000\n",
       "[torch.DoubleTensor of size 3]\n",
       "\n",
       " 5.5000\n",
       " 2.6000\n",
       " 4.4000\n",
       " 1.2000\n",
       "[torch.DoubleTensor of size 4]\n",
       "\n",
       "1e-310 *\n",
       " 6.9202\n",
       " 6.9202\n",
       " 0.0000\n",
       "[torch.DoubleTensor of size 3]\n",
       "\n",
       " 5.5000\n",
       " 2.6000\n",
       " 4.4000\n",
       " 1.2000\n",
       "[torch.DoubleTensor of size 4]\n",
       "\n",
       " 0\n",
       " 1\n",
       " 0\n",
       "[torch.DoubleTensor of size 3]\n",
       "\n",
       "1e-310 *\n",
       " 6.9202\n",
       " 6.9202\n",
       " 0.0000\n",
       " 0.0000\n",
       "[torch.DoubleTensor of size 4]\n",
       "\n",
       "1e-310 *\n",
       " 6.9202\n",
       " 6.9202\n",
       " 0.0000\n",
       "[torch.DoubleTensor of size 3]\n",
       "\n",
       " 6.1000\n",
       " 0.0000\n",
       " 0.0000\n",
       " 0.0000\n",
       "[torch.DoubleTensor of size 4]\n",
       "\n",
       "1e-310 *\n",
       " 6.9202\n",
       " 6.9202\n",
       " 0.0000\n",
       "[torch.DoubleTensor of size 3]\n",
       "\n",
       " 6.1000\n",
       " 3.0000\n",
       " 0.0000\n",
       " 0.0000\n",
       "[torch.DoubleTensor of size 4]\n",
       "\n",
       "1e-310 *\n",
       " 6.9202\n",
       " 6.9202\n",
       " 0.0000\n",
       "[torch.DoubleTensor of size 3]\n",
       "\n"
      ]
     },
     "execution_count": 156,
     "metadata": {},
     "output_type": "execute_result"
    },
    {
     "data": {
      "text/plain": [
       " 6.1000\n",
       " 3.0000\n",
       " 4.6000\n",
       " 0.0000\n",
       "[torch.DoubleTensor of size 4]\n",
       "\n",
       "1e-310 *\n",
       " 6.9202\n",
       " 6.9202\n",
       " 0.0000\n",
       "[torch.DoubleTensor of size 3]\n",
       "\n",
       " 6.1000\n",
       " 3.0000\n",
       " 4.6000\n",
       " 1.4000\n",
       "[torch.DoubleTensor of size 4]\n",
       "\n",
       "1e-310 *\n",
       " 6.9202\n",
       " 6.9202\n",
       " 0.0000\n",
       "[torch.DoubleTensor of size 3]\n",
       "\n",
       " 6.1000\n",
       " 3.0000\n",
       " 4.6000\n",
       " 1.4000\n",
       "[torch.DoubleTensor of size 4]\n",
       "\n",
       " 0\n",
       " 1\n",
       " 0\n",
       "[torch.DoubleTensor of size 3]\n",
       "\n",
       "1e-310 *\n",
       " 6.9202\n",
       " 6.9202\n",
       " 0.0000\n",
       " 0.0000\n",
       "[torch.DoubleTensor of size 4]\n",
       "\n",
       "1e-310 *\n",
       " 6.9202\n",
       " 6.9202\n",
       " 0.0000\n",
       "[torch.DoubleTensor of size 3]\n",
       "\n",
       " 5.8000\n",
       " 0.0000\n",
       " 0.0000\n",
       " 0.0000\n",
       "[torch.DoubleTensor of size 4]\n",
       "\n",
       "1e-310 *\n",
       " 6.9202\n",
       " 6.9202\n",
       " 0.0000\n",
       "[torch.DoubleTensor of size 3]\n",
       "\n",
       " 5.8000\n",
       " 2.6000\n",
       " 0.0000\n",
       " 0.0000\n",
       "[torch.DoubleTensor of size 4]\n",
       "\n",
       "1e-310 *\n",
       " 6.9202\n",
       " 6.9202\n",
       " 0.0000\n",
       "[torch.DoubleTensor of size 3]\n",
       "\n",
       " 5.8000\n",
       " 2.6000\n",
       " 4.0000\n",
       " 0.0000\n",
       "[torch.DoubleTensor of size 4]\n",
       "\n",
       "1e-310 *\n",
       " 6.9202\n",
       " 6.9202\n",
       " 0.0000\n",
       "[torch.DoubleTensor of size 3]\n",
       "\n",
       " 5.8000\n",
       " 2.6000\n",
       " 4.0000\n",
       " 1.2000\n",
       "[torch.DoubleTensor of size 4]\n",
       "\n"
      ]
     },
     "execution_count": 156,
     "metadata": {},
     "output_type": "execute_result"
    },
    {
     "data": {
      "text/plain": [
       "1e-310 *\n",
       " 6.9202\n",
       " 6.9202\n",
       " 0.0000\n",
       "[torch.DoubleTensor of size 3]\n",
       "\n",
       " 5.8000\n",
       " 2.6000\n",
       " 4.0000\n",
       " 1.2000\n",
       "[torch.DoubleTensor of size 4]\n",
       "\n",
       " 0\n",
       " 1\n",
       " 0\n",
       "[torch.DoubleTensor of size 3]\n",
       "\n",
       "1e-310 *\n",
       " 6.9202\n",
       " 6.9202\n",
       " 0.0000\n",
       " 0.0000\n",
       "[torch.DoubleTensor of size 4]\n",
       "\n",
       "1e-310 *\n",
       " 6.9202\n",
       " 6.9202\n",
       " 0.0000\n",
       "[torch.DoubleTensor of size 3]\n",
       "\n",
       " 5.0000\n",
       " 0.0000\n",
       " 0.0000\n",
       " 0.0000\n",
       "[torch.DoubleTensor of size 4]\n",
       "\n",
       "1e-310 *\n",
       " 6.9202\n",
       " 6.9202\n",
       " 0.0000\n",
       "[torch.DoubleTensor of size 3]\n",
       "\n",
       " 5.0000\n",
       " 2.3000\n",
       " 0.0000\n",
       " 0.0000\n",
       "[torch.DoubleTensor of size 4]\n",
       "\n",
       "1e-310 *\n",
       " 6.9202\n",
       " 6.9202\n",
       " 0.0000\n",
       "[torch.DoubleTensor of size 3]\n",
       "\n",
       " 5.0000\n",
       " 2.3000\n",
       " 3.3000\n",
       " 0.0000\n",
       "[torch.DoubleTensor of size 4]\n",
       "\n",
       "1e-310 *\n",
       " 6.9202\n",
       " 6.9202\n",
       " 0.0000\n",
       "[torch.DoubleTensor of size 3]\n",
       "\n",
       " 5.0000\n",
       " 2.3000\n",
       " 3.3000\n",
       " 1.0000\n",
       "[torch.DoubleTensor of size 4]\n",
       "\n",
       "1e-310 *\n",
       " 6.9202\n",
       " 6.9202\n",
       " 0.0000\n",
       "[torch.DoubleTensor of size 3]\n",
       "\n",
       " 5.0000\n",
       " 2.3000\n",
       " 3.3000\n",
       " 1.0000\n",
       "[torch.DoubleTensor of size 4]\n",
       "\n",
       " 0\n",
       " 1\n",
       " 0\n",
       "[torch.DoubleTensor of size 3]\n",
       "\n"
      ]
     },
     "execution_count": 156,
     "metadata": {},
     "output_type": "execute_result"
    },
    {
     "data": {
      "text/plain": [
       "1e-310 *\n",
       " 6.9202\n",
       " 6.9202\n",
       " 0.0000\n",
       " 0.0000\n",
       "[torch.DoubleTensor of size 4]\n",
       "\n",
       "1e-310 *\n",
       " 6.9202\n",
       " 6.9202\n",
       " 0.0000\n",
       "[torch.DoubleTensor of size 3]\n",
       "\n",
       " 5.6000\n",
       " 0.0000\n",
       " 0.0000\n",
       " 0.0000\n",
       "[torch.DoubleTensor of size 4]\n",
       "\n",
       "1e-310 *\n",
       " 6.9202\n",
       " 6.9202\n",
       " 0.0000\n",
       "[torch.DoubleTensor of size 3]\n",
       "\n",
       " 5.6000\n",
       " 2.7000\n",
       " 0.0000\n",
       " 0.0000\n",
       "[torch.DoubleTensor of size 4]\n",
       "\n",
       "1e-310 *\n",
       " 6.9202\n",
       " 6.9202\n",
       " 0.0000\n",
       "[torch.DoubleTensor of size 3]\n",
       "\n",
       " 5.6000\n",
       " 2.7000\n",
       " 4.2000\n",
       " 0.0000\n",
       "[torch.DoubleTensor of size 4]\n",
       "\n",
       "1e-310 *\n",
       " 6.9202\n",
       " 6.9202\n",
       " 0.0000\n",
       "[torch.DoubleTensor of size 3]\n",
       "\n",
       " 5.6000\n",
       " 2.7000\n",
       " 4.2000\n",
       " 1.3000\n",
       "[torch.DoubleTensor of size 4]\n",
       "\n",
       "1e-310 *\n",
       " 6.9202\n",
       " 6.9202\n",
       " 0.0000\n",
       "[torch.DoubleTensor of size 3]\n",
       "\n",
       " 5.6000\n",
       " 2.7000\n",
       " 4.2000\n",
       " 1.3000\n",
       "[torch.DoubleTensor of size 4]\n",
       "\n",
       " 0\n",
       " 1\n",
       " 0\n",
       "[torch.DoubleTensor of size 3]\n",
       "\n",
       "1e-310 *\n",
       " 6.9202\n",
       " 6.9202\n",
       " 0.0000\n",
       " 0.0000\n",
       "[torch.DoubleTensor of size 4]\n",
       "\n",
       "1e-310 *\n",
       " 6.9202\n",
       " 6.9202\n",
       " 0.0000\n",
       "[torch.DoubleTensor of size 3]\n",
       "\n"
      ]
     },
     "execution_count": 156,
     "metadata": {},
     "output_type": "execute_result"
    },
    {
     "data": {
      "text/plain": [
       " 5.7000\n",
       " 0.0000\n",
       " 0.0000\n",
       " 0.0000\n",
       "[torch.DoubleTensor of size 4]\n",
       "\n",
       "1e-310 *\n",
       " 6.9202\n",
       " 6.9202\n",
       " 0.0000\n",
       "[torch.DoubleTensor of size 3]\n",
       "\n",
       " 5.7000\n",
       " 3.0000\n",
       " 0.0000\n",
       " 0.0000\n",
       "[torch.DoubleTensor of size 4]\n",
       "\n",
       "1e-310 *\n",
       " 6.9202\n",
       " 6.9202\n",
       " 0.0000\n",
       "[torch.DoubleTensor of size 3]\n",
       "\n",
       " 5.7000\n",
       " 3.0000\n",
       " 4.2000\n",
       " 0.0000\n",
       "[torch.DoubleTensor of size 4]\n",
       "\n",
       "1e-310 *\n",
       " 6.9202\n",
       " 6.9202\n",
       " 0.0000\n",
       "[torch.DoubleTensor of size 3]\n",
       "\n",
       " 5.7000\n",
       " 3.0000\n",
       " 4.2000\n",
       " 1.2000\n",
       "[torch.DoubleTensor of size 4]\n",
       "\n",
       "1e-310 *\n",
       " 6.9202\n",
       " 6.9202\n",
       " 0.0000\n",
       "[torch.DoubleTensor of size 3]\n",
       "\n",
       " 5.7000\n",
       " 3.0000\n",
       " 4.2000\n",
       " 1.2000\n",
       "[torch.DoubleTensor of size 4]\n",
       "\n",
       " 0\n",
       " 1\n",
       " 0\n",
       "[torch.DoubleTensor of size 3]\n",
       "\n",
       "1e-310 *\n",
       " 6.9202\n",
       " 6.9202\n",
       " 0.0000\n",
       " 0.0000\n",
       "[torch.DoubleTensor of size 4]\n",
       "\n",
       "1e-310 *\n",
       " 6.9202\n",
       " 6.9202\n",
       " 0.0000\n",
       "[torch.DoubleTensor of size 3]\n",
       "\n",
       " 5.7000\n",
       " 0.0000\n",
       " 0.0000\n",
       " 0.0000\n",
       "[torch.DoubleTensor of size 4]\n",
       "\n",
       "1e-310 *\n",
       " 6.9202\n",
       " 6.9202\n",
       " 0.0000\n",
       "[torch.DoubleTensor of size 3]\n",
       "\n",
       " 5.7000\n",
       " 2.9000\n",
       " 0.0000\n",
       " 0.0000\n",
       "[torch.DoubleTensor of size 4]\n",
       "\n",
       "1e-310 *\n",
       " 6.9202\n",
       " 6.9202\n",
       " 0.0000\n",
       "[torch.DoubleTensor of size 3]\n",
       "\n",
       " 5.7000\n",
       " 2.9000\n",
       " 4.2000\n",
       " 0.0000\n",
       "[torch.DoubleTensor of size 4]\n",
       "\n"
      ]
     },
     "execution_count": 156,
     "metadata": {},
     "output_type": "execute_result"
    },
    {
     "data": {
      "text/plain": [
       "1e-310 *\n",
       " 6.9202\n",
       " 6.9202\n",
       " 0.0000\n",
       "[torch.DoubleTensor of size 3]\n",
       "\n",
       " 5.7000\n",
       " 2.9000\n",
       " 4.2000\n",
       " 1.3000\n",
       "[torch.DoubleTensor of size 4]\n",
       "\n",
       "1e-310 *\n",
       " 6.9202\n",
       " 6.9202\n",
       " 0.0000\n",
       "[torch.DoubleTensor of size 3]\n",
       "\n",
       " 5.7000\n",
       " 2.9000\n",
       " 4.2000\n",
       " 1.3000\n",
       "[torch.DoubleTensor of size 4]\n",
       "\n",
       " 0\n",
       " 1\n",
       " 0\n",
       "[torch.DoubleTensor of size 3]\n",
       "\n",
       "1e-310 *\n",
       " 6.9202\n",
       " 6.9202\n",
       " 0.0000\n",
       " 0.0000\n",
       "[torch.DoubleTensor of size 4]\n",
       "\n",
       "1e-310 *\n",
       " 6.9202\n",
       " 6.9202\n",
       " 0.0000\n",
       "[torch.DoubleTensor of size 3]\n",
       "\n",
       " 6.2000\n",
       " 0.0000\n",
       " 0.0000\n",
       " 0.0000\n",
       "[torch.DoubleTensor of size 4]\n",
       "\n",
       "1e-310 *\n",
       " 6.9202\n",
       " 6.9202\n",
       " 0.0000\n",
       "[torch.DoubleTensor of size 3]\n",
       "\n",
       " 6.2000\n",
       " 2.9000\n",
       " 0.0000\n",
       " 0.0000\n",
       "[torch.DoubleTensor of size 4]\n",
       "\n",
       "1e-310 *\n",
       " 6.9202\n",
       " 6.9202\n",
       " 0.0000\n",
       "[torch.DoubleTensor of size 3]\n",
       "\n",
       " 6.2000\n",
       " 2.9000\n",
       " 4.3000\n",
       " 0.0000\n",
       "[torch.DoubleTensor of size 4]\n",
       "\n",
       "1e-310 *\n",
       " 6.9202\n",
       " 6.9202\n",
       " 0.0000\n",
       "[torch.DoubleTensor of size 3]\n",
       "\n",
       " 6.2000\n",
       " 2.9000\n",
       " 4.3000\n",
       " 1.3000\n",
       "[torch.DoubleTensor of size 4]\n",
       "\n",
       "1e-310 *\n",
       " 6.9202\n",
       " 6.9202\n",
       " 0.0000\n",
       "[torch.DoubleTensor of size 3]\n",
       "\n",
       " 6.2000\n",
       " 2.9000\n",
       " 4.3000\n",
       " 1.3000\n",
       "[torch.DoubleTensor of size 4]\n",
       "\n",
       " 0\n",
       " 1\n",
       " 0\n",
       "[torch.DoubleTensor of size 3]\n",
       "\n"
      ]
     },
     "execution_count": 156,
     "metadata": {},
     "output_type": "execute_result"
    },
    {
     "data": {
      "text/plain": [
       "1e-310 *\n",
       " 6.9202\n",
       " 6.9202\n",
       " 0.0000\n",
       " 0.0000\n",
       "[torch.DoubleTensor of size 4]\n",
       "\n",
       "1e-310 *\n",
       " 6.9202\n",
       " 6.9202\n",
       " 0.0000\n",
       "[torch.DoubleTensor of size 3]\n",
       "\n",
       " 5.1000\n",
       " 0.0000\n",
       " 0.0000\n",
       " 0.0000\n",
       "[torch.DoubleTensor of size 4]\n",
       "\n",
       "1e-310 *\n",
       " 6.9202\n",
       " 6.9202\n",
       " 0.0000\n",
       "[torch.DoubleTensor of size 3]\n",
       "\n",
       " 5.1000\n",
       " 2.5000\n",
       " 0.0000\n",
       " 0.0000\n",
       "[torch.DoubleTensor of size 4]\n",
       "\n",
       "1e-310 *\n",
       " 6.9202\n",
       " 6.9202\n",
       " 0.0000\n",
       "[torch.DoubleTensor of size 3]\n",
       "\n",
       " 5.1000\n",
       " 2.5000\n",
       " 3.0000\n",
       " 0.0000\n",
       "[torch.DoubleTensor of size 4]\n",
       "\n",
       "1e-310 *\n",
       " 6.9202\n",
       " 6.9202\n",
       " 0.0000\n",
       "[torch.DoubleTensor of size 3]\n",
       "\n",
       " 5.1000\n",
       " 2.5000\n",
       " 3.0000\n",
       " 1.1000\n",
       "[torch.DoubleTensor of size 4]\n",
       "\n",
       "1e-310 *\n",
       " 6.9202\n",
       " 6.9202\n",
       " 0.0000\n",
       "[torch.DoubleTensor of size 3]\n",
       "\n",
       " 5.1000\n",
       " 2.5000\n",
       " 3.0000\n",
       " 1.1000\n",
       "[torch.DoubleTensor of size 4]\n",
       "\n",
       " 0\n",
       " 1\n",
       " 0\n",
       "[torch.DoubleTensor of size 3]\n",
       "\n",
       "1e-310 *\n",
       " 6.9202\n",
       " 6.9202\n",
       " 0.0000\n",
       " 0.0000\n",
       "[torch.DoubleTensor of size 4]\n",
       "\n",
       "1e-310 *\n",
       " 6.9202\n",
       " 6.9202\n",
       " 0.0000\n",
       "[torch.DoubleTensor of size 3]\n",
       "\n",
       " 5.7000\n",
       " 0.0000\n",
       " 0.0000\n",
       " 0.0000\n",
       "[torch.DoubleTensor of size 4]\n",
       "\n"
      ]
     },
     "execution_count": 156,
     "metadata": {},
     "output_type": "execute_result"
    },
    {
     "data": {
      "text/plain": [
       "1e-310 *\n",
       " 6.9202\n",
       " 6.9202\n",
       " 0.0000\n",
       "[torch.DoubleTensor of size 3]\n",
       "\n",
       " 5.7000\n",
       " 2.8000\n",
       " 0.0000\n",
       " 0.0000\n",
       "[torch.DoubleTensor of size 4]\n",
       "\n",
       "1e-310 *\n",
       " 6.9202\n",
       " 6.9202\n",
       " 0.0000\n",
       "[torch.DoubleTensor of size 3]\n",
       "\n",
       " 5.7000\n",
       " 2.8000\n",
       " 4.1000\n",
       " 0.0000\n",
       "[torch.DoubleTensor of size 4]\n",
       "\n",
       "1e-310 *\n",
       " 6.9202\n",
       " 6.9202\n",
       " 0.0000\n",
       "[torch.DoubleTensor of size 3]\n",
       "\n",
       " 5.7000\n",
       " 2.8000\n",
       " 4.1000\n",
       " 1.3000\n",
       "[torch.DoubleTensor of size 4]\n",
       "\n",
       "1e-310 *\n",
       " 6.9202\n",
       " 6.9202\n",
       " 0.0000\n",
       "[torch.DoubleTensor of size 3]\n",
       "\n",
       " 5.7000\n",
       " 2.8000\n",
       " 4.1000\n",
       " 1.3000\n",
       "[torch.DoubleTensor of size 4]\n",
       "\n",
       " 0\n",
       " 1\n",
       " 0\n",
       "[torch.DoubleTensor of size 3]\n",
       "\n",
       "1e-310 *\n",
       " 6.9202\n",
       " 6.9202\n",
       " 0.0000\n",
       " 0.0000\n",
       "[torch.DoubleTensor of size 4]\n",
       "\n",
       "1e-310 *\n",
       " 6.9202\n",
       " 6.9202\n",
       " 0.0000\n",
       "[torch.DoubleTensor of size 3]\n",
       "\n",
       " 6.3000\n",
       " 0.0000\n",
       " 0.0000\n",
       " 0.0000\n",
       "[torch.DoubleTensor of size 4]\n",
       "\n",
       "1e-310 *\n",
       " 6.9202\n",
       " 6.9202\n",
       " 0.0000\n",
       "[torch.DoubleTensor of size 3]\n",
       "\n",
       " 6.3000\n",
       " 3.3000\n",
       " 0.0000\n",
       " 0.0000\n",
       "[torch.DoubleTensor of size 4]\n",
       "\n",
       "1e-310 *\n",
       " 6.9202\n",
       " 6.9202\n",
       " 0.0000\n",
       "[torch.DoubleTensor of size 3]\n",
       "\n",
       " 6.3000\n",
       " 3.3000\n",
       " 6.0000\n",
       " 0.0000\n",
       "[torch.DoubleTensor of size 4]\n",
       "\n"
      ]
     },
     "execution_count": 156,
     "metadata": {},
     "output_type": "execute_result"
    },
    {
     "data": {
      "text/plain": [
       "1e-310 *\n",
       " 6.9202\n",
       " 6.9202\n",
       " 0.0000\n",
       "[torch.DoubleTensor of size 3]\n",
       "\n",
       " 6.3000\n",
       " 3.3000\n",
       " 6.0000\n",
       " 2.5000\n",
       "[torch.DoubleTensor of size 4]\n",
       "\n",
       "1e-310 *\n",
       " 6.9202\n",
       " 6.9202\n",
       " 0.0000\n",
       "[torch.DoubleTensor of size 3]\n",
       "\n",
       " 6.3000\n",
       " 3.3000\n",
       " 6.0000\n",
       " 2.5000\n",
       "[torch.DoubleTensor of size 4]\n",
       "\n",
       " 0\n",
       " 0\n",
       " 1\n",
       "[torch.DoubleTensor of size 3]\n",
       "\n",
       "1e-310 *\n",
       " 6.9202\n",
       " 6.9202\n",
       " 0.0000\n",
       " 0.0000\n",
       "[torch.DoubleTensor of size 4]\n",
       "\n",
       "1e-310 *\n",
       " 6.9202\n",
       " 6.9202\n",
       " 0.0000\n",
       "[torch.DoubleTensor of size 3]\n",
       "\n",
       " 5.8000\n",
       " 0.0000\n",
       " 0.0000\n",
       " 0.0000\n",
       "[torch.DoubleTensor of size 4]\n",
       "\n",
       "1e-310 *\n",
       " 6.9202\n",
       " 6.9202\n",
       " 0.0000\n",
       "[torch.DoubleTensor of size 3]\n",
       "\n",
       " 5.8000\n",
       " 2.7000\n",
       " 0.0000\n",
       " 0.0000\n",
       "[torch.DoubleTensor of size 4]\n",
       "\n",
       "1e-310 *\n",
       " 6.9202\n",
       " 6.9202\n",
       " 0.0000\n",
       "[torch.DoubleTensor of size 3]\n",
       "\n",
       " 5.8000\n",
       " 2.7000\n",
       " 5.1000\n",
       " 0.0000\n",
       "[torch.DoubleTensor of size 4]\n",
       "\n",
       "1e-310 *\n",
       " 6.9202\n",
       " 6.9202\n",
       " 0.0000\n",
       "[torch.DoubleTensor of size 3]\n",
       "\n",
       " 5.8000\n",
       " 2.7000\n",
       " 5.1000\n",
       " 1.9000\n",
       "[torch.DoubleTensor of size 4]\n",
       "\n",
       "1e-310 *\n",
       " 6.9202\n",
       " 6.9202\n",
       " 0.0000\n",
       "[torch.DoubleTensor of size 3]\n",
       "\n",
       " 5.8000\n",
       " 2.7000\n",
       " 5.1000\n",
       " 1.9000\n",
       "[torch.DoubleTensor of size 4]\n",
       "\n",
       " 0\n",
       " 0\n",
       " 1\n",
       "[torch.DoubleTensor of size 3]\n",
       "\n"
      ]
     },
     "execution_count": 156,
     "metadata": {},
     "output_type": "execute_result"
    },
    {
     "data": {
      "text/plain": [
       "1e-310 *\n",
       " 6.9202\n",
       " 6.9202\n",
       " 0.0000\n",
       " 0.0000\n",
       "[torch.DoubleTensor of size 4]\n",
       "\n",
       "1e-310 *\n",
       " 6.9202\n",
       " 6.9202\n",
       " 0.0000\n",
       "[torch.DoubleTensor of size 3]\n",
       "\n",
       " 7.1000\n",
       " 0.0000\n",
       " 0.0000\n",
       " 0.0000\n",
       "[torch.DoubleTensor of size 4]\n",
       "\n",
       "1e-310 *\n",
       " 6.9202\n",
       " 6.9202\n",
       " 0.0000\n",
       "[torch.DoubleTensor of size 3]\n",
       "\n",
       " 7.1000\n",
       " 3.0000\n",
       " 0.0000\n",
       " 0.0000\n",
       "[torch.DoubleTensor of size 4]\n",
       "\n",
       "1e-310 *\n",
       " 6.9202\n",
       " 6.9202\n",
       " 0.0000\n",
       "[torch.DoubleTensor of size 3]\n",
       "\n",
       " 7.1000\n",
       " 3.0000\n",
       " 5.9000\n",
       " 0.0000\n",
       "[torch.DoubleTensor of size 4]\n",
       "\n",
       "1e-310 *\n",
       " 6.9202\n",
       " 6.9202\n",
       " 0.0000\n",
       "[torch.DoubleTensor of size 3]\n",
       "\n",
       " 7.1000\n",
       " 3.0000\n",
       " 5.9000\n",
       " 2.1000\n",
       "[torch.DoubleTensor of size 4]\n",
       "\n",
       "1e-310 *\n",
       " 6.9202\n",
       " 6.9202\n",
       " 0.0000\n",
       "[torch.DoubleTensor of size 3]\n",
       "\n",
       " 7.1000\n",
       " 3.0000\n",
       " 5.9000\n",
       " 2.1000\n",
       "[torch.DoubleTensor of size 4]\n",
       "\n",
       " 0\n",
       " 0\n",
       " 1\n",
       "[torch.DoubleTensor of size 3]\n",
       "\n",
       "1e-310 *\n",
       " 6.9202\n",
       " 6.9202\n",
       " 0.0000\n",
       " 0.0000\n",
       "[torch.DoubleTensor of size 4]\n",
       "\n",
       "1e-310 *\n",
       " 6.9202\n",
       " 6.9202\n",
       " 0.0000\n",
       "[torch.DoubleTensor of size 3]\n",
       "\n",
       " 6.3000\n",
       " 0.0000\n",
       " 0.0000\n",
       " 0.0000\n",
       "[torch.DoubleTensor of size 4]\n",
       "\n"
      ]
     },
     "execution_count": 156,
     "metadata": {},
     "output_type": "execute_result"
    },
    {
     "data": {
      "text/plain": [
       "1e-310 *\n",
       " 6.9202\n",
       " 6.9202\n",
       " 0.0000\n",
       "[torch.DoubleTensor of size 3]\n",
       "\n",
       " 6.3000\n",
       " 2.9000\n",
       " 0.0000\n",
       " 0.0000\n",
       "[torch.DoubleTensor of size 4]\n",
       "\n",
       "1e-310 *\n",
       " 6.9202\n",
       " 6.9202\n",
       " 0.0000\n",
       "[torch.DoubleTensor of size 3]\n",
       "\n",
       " 6.3000\n",
       " 2.9000\n",
       " 5.6000\n",
       " 0.0000\n",
       "[torch.DoubleTensor of size 4]\n",
       "\n",
       "1e-310 *\n",
       " 6.9202\n",
       " 6.9202\n",
       " 0.0000\n",
       "[torch.DoubleTensor of size 3]\n",
       "\n",
       " 6.3000\n",
       " 2.9000\n",
       " 5.6000\n",
       " 1.8000\n",
       "[torch.DoubleTensor of size 4]\n",
       "\n",
       "1e-310 *\n",
       " 6.9202\n",
       " 6.9202\n",
       " 0.0000\n",
       "[torch.DoubleTensor of size 3]\n",
       "\n",
       " 6.3000\n",
       " 2.9000\n",
       " 5.6000\n",
       " 1.8000\n",
       "[torch.DoubleTensor of size 4]\n",
       "\n",
       " 0\n",
       " 0\n",
       " 1\n",
       "[torch.DoubleTensor of size 3]\n",
       "\n",
       "1e-310 *\n",
       " 6.9202\n",
       " 6.9202\n",
       " 0.0000\n",
       " 0.0000\n",
       "[torch.DoubleTensor of size 4]\n",
       "\n",
       "1e-310 *\n",
       " 6.9202\n",
       " 6.9202\n",
       " 0.0000\n",
       "[torch.DoubleTensor of size 3]\n",
       "\n",
       " 6.5000\n",
       " 0.0000\n",
       " 0.0000\n",
       " 0.0000\n",
       "[torch.DoubleTensor of size 4]\n",
       "\n",
       "1e-310 *\n",
       " 6.9202\n",
       " 6.9202\n",
       " 0.0000\n",
       "[torch.DoubleTensor of size 3]\n",
       "\n",
       " 6.5000\n",
       " 3.0000\n",
       " 0.0000\n",
       " 0.0000\n",
       "[torch.DoubleTensor of size 4]\n",
       "\n",
       "1e-310 *\n",
       " 6.9202\n",
       " 6.9202\n",
       " 0.0000\n",
       "[torch.DoubleTensor of size 3]\n",
       "\n",
       " 6.5000\n",
       " 3.0000\n",
       " 5.8000\n",
       " 0.0000\n",
       "[torch.DoubleTensor of size 4]\n",
       "\n",
       "1e-310 *\n",
       " 6.9202\n",
       " 6.9202\n",
       " 0.0000\n",
       "[torch.DoubleTensor of size 3]\n",
       "\n",
       " 6.5000\n",
       " 3.0000\n",
       " 5.8000\n",
       " 2.2000\n",
       "[torch.DoubleTensor of size 4]\n",
       "\n",
       "1e-310 *\n",
       " 6.9202\n",
       " 6.9202\n",
       " 0.0000\n",
       "[torch.DoubleTensor of size 3]\n",
       "\n"
      ]
     },
     "execution_count": 156,
     "metadata": {},
     "output_type": "execute_result"
    },
    {
     "data": {
      "text/plain": [
       " 6.5000\n",
       " 3.0000\n",
       " 5.8000\n",
       " 2.2000\n",
       "[torch.DoubleTensor of size 4]\n",
       "\n",
       " 0\n",
       " 0\n",
       " 1\n",
       "[torch.DoubleTensor of size 3]\n",
       "\n",
       "1e-310 *\n",
       " 6.9202\n",
       " 6.9202\n",
       " 0.0000\n",
       " 0.0000\n",
       "[torch.DoubleTensor of size 4]\n",
       "\n",
       "1e-310 *\n",
       " 6.9202\n",
       " 6.9202\n",
       " 0.0000\n",
       "[torch.DoubleTensor of size 3]\n",
       "\n",
       " 7.6000\n",
       " 0.0000\n",
       " 0.0000\n",
       " 0.0000\n",
       "[torch.DoubleTensor of size 4]\n",
       "\n",
       "1e-310 *\n",
       " 6.9202\n",
       " 6.9202\n",
       " 0.0000\n",
       "[torch.DoubleTensor of size 3]\n",
       "\n",
       " 7.6000\n",
       " 3.0000\n",
       " 0.0000\n",
       " 0.0000\n",
       "[torch.DoubleTensor of size 4]\n",
       "\n",
       "1e-310 *\n",
       " 6.9202\n",
       " 6.9202\n",
       " 0.0000\n",
       "[torch.DoubleTensor of size 3]\n",
       "\n",
       " 7.6000\n",
       " 3.0000\n",
       " 6.6000\n",
       " 0.0000\n",
       "[torch.DoubleTensor of size 4]\n",
       "\n",
       "1e-310 *\n",
       " 6.9202\n",
       " 6.9202\n",
       " 0.0000\n",
       "[torch.DoubleTensor of size 3]\n",
       "\n",
       " 7.6000\n",
       " 3.0000\n",
       " 6.6000\n",
       " 2.1000\n",
       "[torch.DoubleTensor of size 4]\n",
       "\n",
       "1e-310 *\n",
       " 6.9202\n",
       " 6.9202\n",
       " 0.0000\n",
       "[torch.DoubleTensor of size 3]\n",
       "\n",
       " 7.6000\n",
       " 3.0000\n",
       " 6.6000\n",
       " 2.1000\n",
       "[torch.DoubleTensor of size 4]\n",
       "\n",
       " 0\n",
       " 0\n",
       " 1\n",
       "[torch.DoubleTensor of size 3]\n",
       "\n",
       "1e-310 *\n",
       " 6.9202\n",
       " 6.9202\n",
       " 0.0000\n",
       " 0.0000\n",
       "[torch.DoubleTensor of size 4]\n",
       "\n",
       "1e-310 *\n",
       " 6.9202\n",
       " 6.9202\n",
       " 0.0000\n",
       "[torch.DoubleTensor of size 3]\n",
       "\n"
      ]
     },
     "execution_count": 156,
     "metadata": {},
     "output_type": "execute_result"
    },
    {
     "data": {
      "text/plain": [
       " 4.9000\n",
       " 0.0000\n",
       " 0.0000\n",
       " 0.0000\n",
       "[torch.DoubleTensor of size 4]\n",
       "\n",
       "1e-310 *\n",
       " 6.9202\n",
       " 6.9202\n",
       " 0.0000\n",
       "[torch.DoubleTensor of size 3]\n",
       "\n",
       " 4.9000\n",
       " 2.5000\n",
       " 0.0000\n",
       " 0.0000\n",
       "[torch.DoubleTensor of size 4]\n",
       "\n",
       "1e-310 *\n",
       " 6.9202\n",
       " 6.9202\n",
       " 0.0000\n",
       "[torch.DoubleTensor of size 3]\n",
       "\n",
       " 4.9000\n",
       " 2.5000\n",
       " 4.5000\n",
       " 0.0000\n",
       "[torch.DoubleTensor of size 4]\n",
       "\n",
       "1e-310 *\n",
       " 6.9202\n",
       " 6.9202\n",
       " 0.0000\n",
       "[torch.DoubleTensor of size 3]\n",
       "\n",
       " 4.9000\n",
       " 2.5000\n",
       " 4.5000\n",
       " 1.7000\n",
       "[torch.DoubleTensor of size 4]\n",
       "\n",
       "1e-310 *\n",
       " 6.9202\n",
       " 6.9202\n",
       " 0.0000\n",
       "[torch.DoubleTensor of size 3]\n",
       "\n",
       " 4.9000\n",
       " 2.5000\n",
       " 4.5000\n",
       " 1.7000\n",
       "[torch.DoubleTensor of size 4]\n",
       "\n",
       " 0\n",
       " 0\n",
       " 1\n",
       "[torch.DoubleTensor of size 3]\n",
       "\n",
       "1e-310 *\n",
       " 6.9202\n",
       " 6.9202\n",
       " 0.0000\n",
       " 0.0000\n",
       "[torch.DoubleTensor of size 4]\n",
       "\n",
       "1e-310 *\n",
       " 6.9202\n",
       " 6.9202\n",
       " 0.0000\n",
       "[torch.DoubleTensor of size 3]\n",
       "\n",
       " 7.3000\n",
       " 0.0000\n",
       " 0.0000\n",
       " 0.0000\n",
       "[torch.DoubleTensor of size 4]\n",
       "\n",
       "1e-310 *\n",
       " 6.9202\n",
       " 6.9202\n",
       " 0.0000\n",
       "[torch.DoubleTensor of size 3]\n",
       "\n",
       " 7.3000\n",
       " 2.9000\n",
       " 0.0000\n",
       " 0.0000\n",
       "[torch.DoubleTensor of size 4]\n",
       "\n",
       "1e-310 *\n",
       " 6.9202\n",
       " 6.9202\n",
       " 0.0000\n",
       "[torch.DoubleTensor of size 3]\n",
       "\n",
       " 7.3000\n",
       " 2.9000\n",
       " 6.3000\n",
       " 0.0000\n",
       "[torch.DoubleTensor of size 4]\n",
       "\n"
      ]
     },
     "execution_count": 156,
     "metadata": {},
     "output_type": "execute_result"
    },
    {
     "data": {
      "text/plain": [
       "1e-310 *\n",
       " 6.9202\n",
       " 6.9202\n",
       " 0.0000\n",
       "[torch.DoubleTensor of size 3]\n",
       "\n",
       " 7.3000\n",
       " 2.9000\n",
       " 6.3000\n",
       " 1.8000\n",
       "[torch.DoubleTensor of size 4]\n",
       "\n",
       "1e-310 *\n",
       " 6.9202\n",
       " 6.9202\n",
       " 0.0000\n",
       "[torch.DoubleTensor of size 3]\n",
       "\n",
       " 7.3000\n",
       " 2.9000\n",
       " 6.3000\n",
       " 1.8000\n",
       "[torch.DoubleTensor of size 4]\n",
       "\n",
       " 0\n",
       " 0\n",
       " 1\n",
       "[torch.DoubleTensor of size 3]\n",
       "\n",
       "1e-310 *\n",
       " 6.9202\n",
       " 6.9202\n",
       " 0.0000\n",
       " 0.0000\n",
       "[torch.DoubleTensor of size 4]\n",
       "\n",
       "1e-310 *\n",
       " 6.9202\n",
       " 6.9202\n",
       " 0.0000\n",
       "[torch.DoubleTensor of size 3]\n",
       "\n",
       " 6.7000\n",
       " 0.0000\n",
       " 0.0000\n",
       " 0.0000\n",
       "[torch.DoubleTensor of size 4]\n",
       "\n",
       "1e-310 *\n",
       " 6.9202\n",
       " 6.9202\n",
       " 0.0000\n",
       "[torch.DoubleTensor of size 3]\n",
       "\n",
       " 6.7000\n",
       " 2.5000\n",
       " 0.0000\n",
       " 0.0000\n",
       "[torch.DoubleTensor of size 4]\n",
       "\n",
       "1e-310 *\n",
       " 6.9202\n",
       " 6.9202\n",
       " 0.0000\n",
       "[torch.DoubleTensor of size 3]\n",
       "\n",
       " 6.7000\n",
       " 2.5000\n",
       " 5.8000\n",
       " 0.0000\n",
       "[torch.DoubleTensor of size 4]\n",
       "\n",
       "1e-310 *\n",
       " 6.9202\n",
       " 6.9202\n",
       " 0.0000\n",
       "[torch.DoubleTensor of size 3]\n",
       "\n",
       " 6.7000\n",
       " 2.5000\n",
       " 5.8000\n",
       " 1.8000\n",
       "[torch.DoubleTensor of size 4]\n",
       "\n",
       "1e-310 *\n",
       " 6.9202\n",
       " 6.9202\n",
       " 0.0000\n",
       "[torch.DoubleTensor of size 3]\n",
       "\n",
       " 6.7000\n",
       " 2.5000\n",
       " 5.8000\n",
       " 1.8000\n",
       "[torch.DoubleTensor of size 4]\n",
       "\n",
       " 0\n",
       " 0\n",
       " 1\n",
       "[torch.DoubleTensor of size 3]\n",
       "\n"
      ]
     },
     "execution_count": 156,
     "metadata": {},
     "output_type": "execute_result"
    },
    {
     "data": {
      "text/plain": [
       "1e-310 *\n",
       " 6.9202\n",
       " 6.9202\n",
       " 0.0000\n",
       " 0.0000\n",
       "[torch.DoubleTensor of size 4]\n",
       "\n",
       "1e-310 *\n",
       " 6.9202\n",
       " 6.9202\n",
       " 0.0000\n",
       "[torch.DoubleTensor of size 3]\n",
       "\n",
       " 7.2000\n",
       " 0.0000\n",
       " 0.0000\n",
       " 0.0000\n",
       "[torch.DoubleTensor of size 4]\n",
       "\n",
       "1e-310 *\n",
       " 6.9202\n",
       " 6.9202\n",
       " 0.0000\n",
       "[torch.DoubleTensor of size 3]\n",
       "\n",
       " 7.2000\n",
       " 3.6000\n",
       " 0.0000\n",
       " 0.0000\n",
       "[torch.DoubleTensor of size 4]\n",
       "\n",
       "1e-310 *\n",
       " 6.9202\n",
       " 6.9202\n",
       " 0.0000\n",
       "[torch.DoubleTensor of size 3]\n",
       "\n",
       " 7.2000\n",
       " 3.6000\n",
       " 6.1000\n",
       " 0.0000\n",
       "[torch.DoubleTensor of size 4]\n",
       "\n",
       "1e-310 *\n",
       " 6.9202\n",
       " 6.9202\n",
       " 0.0000\n",
       "[torch.DoubleTensor of size 3]\n",
       "\n",
       " 7.2000\n",
       " 3.6000\n",
       " 6.1000\n",
       " 2.5000\n",
       "[torch.DoubleTensor of size 4]\n",
       "\n",
       "1e-310 *\n",
       " 6.9202\n",
       " 6.9202\n",
       " 0.0000\n",
       "[torch.DoubleTensor of size 3]\n",
       "\n",
       " 7.2000\n",
       " 3.6000\n",
       " 6.1000\n",
       " 2.5000\n",
       "[torch.DoubleTensor of size 4]\n",
       "\n",
       " 0\n",
       " 0\n",
       " 1\n",
       "[torch.DoubleTensor of size 3]\n",
       "\n",
       "1e-310 *\n",
       " 6.9202\n",
       " 6.9202\n",
       " 0.0000\n",
       " 0.0000\n",
       "[torch.DoubleTensor of size 4]\n",
       "\n",
       "1e-310 *\n",
       " 6.9202\n",
       " 6.9202\n",
       " 0.0000\n",
       "[torch.DoubleTensor of size 3]\n",
       "\n",
       " 6.5000\n",
       " 0.0000\n",
       " 0.0000\n",
       " 0.0000\n",
       "[torch.DoubleTensor of size 4]\n",
       "\n",
       "1e-310 *\n",
       " 6.9202\n",
       " 6.9202\n",
       " 0.0000\n",
       "[torch.DoubleTensor of size 3]\n",
       "\n",
       " 6.5000\n",
       " 3.2000\n",
       " 0.0000\n",
       " 0.0000\n",
       "[torch.DoubleTensor of size 4]\n",
       "\n",
       "1e-310 *\n",
       " 6.9202\n",
       " 6.9202\n",
       " 0.0000\n",
       "[torch.DoubleTensor of size 3]\n"
      ]
     },
     "execution_count": 156,
     "metadata": {},
     "output_type": "execute_result"
    },
    {
     "data": {
      "text/plain": [
       "\n",
       " 6.5000\n",
       " 3.2000\n",
       " 5.1000\n",
       " 0.0000\n",
       "[torch.DoubleTensor of size 4]\n",
       "\n",
       "1e-310 *\n",
       " 6.9202\n",
       " 6.9202\n",
       " 0.0000\n",
       "[torch.DoubleTensor of size 3]\n",
       "\n",
       " 6.5000\n",
       " 3.2000\n",
       " 5.1000\n",
       " 2.0000\n",
       "[torch.DoubleTensor of size 4]\n",
       "\n",
       "1e-310 *\n",
       " 6.9202\n",
       " 6.9202\n",
       " 0.0000\n",
       "[torch.DoubleTensor of size 3]\n",
       "\n",
       " 6.5000\n",
       " 3.2000\n",
       " 5.1000\n",
       " 2.0000\n",
       "[torch.DoubleTensor of size 4]\n",
       "\n",
       " 0\n",
       " 0\n",
       " 1\n",
       "[torch.DoubleTensor of size 3]\n",
       "\n",
       "1e-310 *\n",
       " 6.9202\n",
       " 6.9202\n",
       " 0.0000\n",
       " 0.0000\n",
       "[torch.DoubleTensor of size 4]\n",
       "\n",
       "1e-310 *\n",
       " 6.9202\n",
       " 6.9202\n",
       " 0.0000\n",
       "[torch.DoubleTensor of size 3]\n",
       "\n",
       " 6.4000\n",
       " 0.0000\n",
       " 0.0000\n",
       " 0.0000\n",
       "[torch.DoubleTensor of size 4]\n",
       "\n",
       "1e-310 *\n",
       " 6.9202\n",
       " 6.9202\n",
       " 0.0000\n",
       "[torch.DoubleTensor of size 3]\n",
       "\n",
       " 6.4000\n",
       " 2.7000\n",
       " 0.0000\n",
       " 0.0000\n",
       "[torch.DoubleTensor of size 4]\n",
       "\n",
       "1e-310 *\n",
       " 6.9202\n",
       " 6.9202\n",
       " 0.0000\n",
       "[torch.DoubleTensor of size 3]\n",
       "\n",
       " 6.4000\n",
       " 2.7000\n",
       " 5.3000\n",
       " 0.0000\n",
       "[torch.DoubleTensor of size 4]\n",
       "\n",
       "1e-310 *\n",
       " 6.9202\n",
       " 6.9202\n",
       " 0.0000\n",
       "[torch.DoubleTensor of size 3]\n",
       "\n",
       " 6.4000\n",
       " 2.7000\n",
       " 5.3000\n",
       " 1.9000\n",
       "[torch.DoubleTensor of size 4]\n",
       "\n",
       "1e-310 *\n",
       " 6.9202\n",
       " 6.9202\n",
       " 0.0000\n",
       "[torch.DoubleTensor of size 3]\n",
       "\n",
       " 6.4000\n",
       " 2.7000\n",
       " 5.3000\n",
       " 1.9000\n",
       "[torch.DoubleTensor of size 4]\n",
       "\n",
       " 0\n",
       " 0\n",
       " 1\n",
       "[torch.DoubleTensor of size 3]\n",
       "\n"
      ]
     },
     "execution_count": 156,
     "metadata": {},
     "output_type": "execute_result"
    },
    {
     "data": {
      "text/plain": [
       "1e-310 *\n",
       " 6.9202\n",
       " 6.9202\n",
       " 0.0000\n",
       " 0.0000\n",
       "[torch.DoubleTensor of size 4]\n",
       "\n",
       "1e-310 *\n",
       " 6.9202\n",
       " 6.9202\n",
       " 0.0000\n",
       "[torch.DoubleTensor of size 3]\n",
       "\n",
       " 6.8000\n",
       " 0.0000\n",
       " 0.0000\n",
       " 0.0000\n",
       "[torch.DoubleTensor of size 4]\n",
       "\n",
       "1e-310 *\n",
       " 6.9202\n",
       " 6.9202\n",
       " 0.0000\n",
       "[torch.DoubleTensor of size 3]\n",
       "\n",
       " 6.8000\n",
       " 3.0000\n",
       " 0.0000\n",
       " 0.0000\n",
       "[torch.DoubleTensor of size 4]\n",
       "\n",
       "1e-310 *\n",
       " 6.9202\n",
       " 6.9202\n",
       " 0.0000\n",
       "[torch.DoubleTensor of size 3]\n",
       "\n",
       " 6.8000\n",
       " 3.0000\n",
       " 5.5000\n",
       " 0.0000\n",
       "[torch.DoubleTensor of size 4]\n",
       "\n",
       "1e-310 *\n",
       " 6.9202\n",
       " 6.9202\n",
       " 0.0000\n",
       "[torch.DoubleTensor of size 3]\n",
       "\n",
       " 6.8000\n",
       " 3.0000\n",
       " 5.5000\n",
       " 2.1000\n",
       "[torch.DoubleTensor of size 4]\n",
       "\n",
       "1e-310 *\n",
       " 6.9202\n",
       " 6.9202\n",
       " 0.0000\n",
       "[torch.DoubleTensor of size 3]\n",
       "\n",
       " 6.8000\n",
       " 3.0000\n",
       " 5.5000\n",
       " 2.1000\n",
       "[torch.DoubleTensor of size 4]\n",
       "\n",
       " 0\n",
       " 0\n",
       " 1\n",
       "[torch.DoubleTensor of size 3]\n",
       "\n",
       "1e-310 *\n",
       " 6.9202\n",
       " 6.9202\n",
       " 0.0000\n",
       " 0.0000\n",
       "[torch.DoubleTensor of size 4]\n",
       "\n",
       "1e-310 *\n",
       " 6.9202\n",
       " 6.9202\n",
       " 0.0000\n",
       "[torch.DoubleTensor of size 3]\n",
       "\n",
       " 5.7000\n",
       " 0.0000\n",
       " 0.0000\n",
       " 0.0000\n",
       "[torch.DoubleTensor of size 4]\n",
       "\n",
       "1e-310 *\n",
       " 6.9202\n",
       " 6.9202\n",
       " 0.0000\n",
       "[torch.DoubleTensor of size 3]\n",
       "\n"
      ]
     },
     "execution_count": 156,
     "metadata": {},
     "output_type": "execute_result"
    },
    {
     "data": {
      "text/plain": [
       " 5.7000\n",
       " 2.5000\n",
       " 0.0000\n",
       " 0.0000\n",
       "[torch.DoubleTensor of size 4]\n",
       "\n",
       "1e-310 *\n",
       " 6.9202\n",
       " 6.9202\n",
       " 0.0000\n",
       "[torch.DoubleTensor of size 3]\n",
       "\n",
       " 5.7000\n",
       " 2.5000\n",
       " 5.0000\n",
       " 0.0000\n",
       "[torch.DoubleTensor of size 4]\n",
       "\n",
       "1e-310 *\n",
       " 6.9202\n",
       " 6.9202\n",
       " 0.0000\n",
       "[torch.DoubleTensor of size 3]\n",
       "\n",
       " 5.7000\n",
       " 2.5000\n",
       " 5.0000\n",
       " 2.0000\n",
       "[torch.DoubleTensor of size 4]\n",
       "\n",
       "1e-310 *\n",
       " 6.9202\n",
       " 6.9202\n",
       " 0.0000\n",
       "[torch.DoubleTensor of size 3]\n",
       "\n",
       " 5.7000\n",
       " 2.5000\n",
       " 5.0000\n",
       " 2.0000\n",
       "[torch.DoubleTensor of size 4]\n",
       "\n",
       " 0\n",
       " 0\n",
       " 1\n",
       "[torch.DoubleTensor of size 3]\n",
       "\n",
       "1e-310 *\n",
       " 6.9202\n",
       " 6.9202\n",
       " 0.0000\n",
       " 0.0000\n",
       "[torch.DoubleTensor of size 4]\n",
       "\n",
       "1e-310 *\n",
       " 6.9202\n",
       " 6.9202\n",
       " 0.0000\n",
       "[torch.DoubleTensor of size 3]\n",
       "\n",
       " 5.8000\n",
       " 0.0000\n",
       " 0.0000\n",
       " 0.0000\n",
       "[torch.DoubleTensor of size 4]\n",
       "\n",
       "1e-310 *\n",
       " 6.9202\n",
       " 6.9202\n",
       " 0.0000\n",
       "[torch.DoubleTensor of size 3]\n",
       "\n",
       " 5.8000\n",
       " 2.8000\n",
       " 0.0000\n",
       " 0.0000\n",
       "[torch.DoubleTensor of size 4]\n",
       "\n",
       "1e-310 *\n",
       " 6.9202\n",
       " 6.9202\n",
       " 0.0000\n",
       "[torch.DoubleTensor of size 3]\n",
       "\n",
       " 5.8000\n",
       " 2.8000\n",
       " 5.1000\n",
       " 0.0000\n",
       "[torch.DoubleTensor of size 4]\n",
       "\n",
       "1e-310 *\n",
       " 6.9202\n",
       " 6.9202\n",
       " 0.0000\n",
       "[torch.DoubleTensor of size 3]\n",
       "\n",
       " 5.8000\n",
       " 2.8000\n",
       " 5.1000\n",
       " 2.4000\n",
       "[torch.DoubleTensor of size 4]\n",
       "\n"
      ]
     },
     "execution_count": 156,
     "metadata": {},
     "output_type": "execute_result"
    },
    {
     "data": {
      "text/plain": [
       "1e-310 *\n",
       " 6.9202\n",
       " 6.9202\n",
       " 0.0000\n",
       "[torch.DoubleTensor of size 3]\n",
       "\n",
       " 5.8000\n",
       " 2.8000\n",
       " 5.1000\n",
       " 2.4000\n",
       "[torch.DoubleTensor of size 4]\n",
       "\n",
       " 0\n",
       " 0\n",
       " 1\n",
       "[torch.DoubleTensor of size 3]\n",
       "\n",
       "1e-310 *\n",
       " 6.9202\n",
       " 6.9202\n",
       " 0.0000\n",
       " 0.0000\n",
       "[torch.DoubleTensor of size 4]\n",
       "\n",
       "1e-310 *\n",
       " 6.9202\n",
       " 6.9202\n",
       " 0.0000\n",
       "[torch.DoubleTensor of size 3]\n",
       "\n",
       " 6.4000\n",
       " 0.0000\n",
       " 0.0000\n",
       " 0.0000\n",
       "[torch.DoubleTensor of size 4]\n",
       "\n",
       "1e-310 *\n",
       " 6.9202\n",
       " 6.9202\n",
       " 0.0000\n",
       "[torch.DoubleTensor of size 3]\n",
       "\n",
       " 6.4000\n",
       " 3.2000\n",
       " 0.0000\n",
       " 0.0000\n",
       "[torch.DoubleTensor of size 4]\n",
       "\n",
       "1e-310 *\n",
       " 6.9202\n",
       " 6.9202\n",
       " 0.0000\n",
       "[torch.DoubleTensor of size 3]\n",
       "\n",
       " 6.4000\n",
       " 3.2000\n",
       " 5.3000\n",
       " 0.0000\n",
       "[torch.DoubleTensor of size 4]\n",
       "\n",
       "1e-310 *\n",
       " 6.9202\n",
       " 6.9202\n",
       " 0.0000\n",
       "[torch.DoubleTensor of size 3]\n",
       "\n",
       " 6.4000\n",
       " 3.2000\n",
       " 5.3000\n",
       " 2.3000\n",
       "[torch.DoubleTensor of size 4]\n",
       "\n",
       "1e-310 *\n",
       " 6.9202\n",
       " 6.9202\n",
       " 0.0000\n",
       "[torch.DoubleTensor of size 3]\n",
       "\n",
       " 6.4000\n",
       " 3.2000\n",
       " 5.3000\n",
       " 2.3000\n",
       "[torch.DoubleTensor of size 4]\n",
       "\n",
       " 0\n",
       " 0\n",
       " 1\n",
       "[torch.DoubleTensor of size 3]\n",
       "\n",
       "1e-310 *\n",
       " 6.9202\n",
       " 6.9202\n",
       " 0.0000\n",
       " 0.0000\n",
       "[torch.DoubleTensor of size 4]\n",
       "\n",
       "1e-310 *\n",
       " 6.9202\n",
       " 6.9202\n",
       " 0.0000\n",
       "[torch.DoubleTensor of size 3]\n",
       "\n",
       " 6.5000\n",
       " 0.0000\n",
       " 0.0000\n",
       " 0.0000\n",
       "[torch.DoubleTensor of size 4]\n",
       "\n"
      ]
     },
     "execution_count": 156,
     "metadata": {},
     "output_type": "execute_result"
    },
    {
     "data": {
      "text/plain": [
       "1e-310 *\n",
       " 6.9202\n",
       " 6.9202\n",
       " 0.0000\n",
       "[torch.DoubleTensor of size 3]\n",
       "\n",
       " 6.5000\n",
       " 3.0000\n",
       " 0.0000\n",
       " 0.0000\n",
       "[torch.DoubleTensor of size 4]\n",
       "\n",
       "1e-310 *\n",
       " 6.9202\n",
       " 6.9202\n",
       " 0.0000\n",
       "[torch.DoubleTensor of size 3]\n",
       "\n",
       " 6.5000\n",
       " 3.0000\n",
       " 5.5000\n",
       " 0.0000\n",
       "[torch.DoubleTensor of size 4]\n",
       "\n",
       "1e-310 *\n",
       " 6.9202\n",
       " 6.9202\n",
       " 0.0000\n",
       "[torch.DoubleTensor of size 3]\n",
       "\n",
       " 6.5000\n",
       " 3.0000\n",
       " 5.5000\n",
       " 1.8000\n",
       "[torch.DoubleTensor of size 4]\n",
       "\n",
       "1e-310 *\n",
       " 6.9202\n",
       " 6.9202\n",
       " 0.0000\n",
       "[torch.DoubleTensor of size 3]\n",
       "\n",
       " 6.5000\n",
       " 3.0000\n",
       " 5.5000\n",
       " 1.8000\n",
       "[torch.DoubleTensor of size 4]\n",
       "\n",
       " 0\n",
       " 0\n",
       " 1\n",
       "[torch.DoubleTensor of size 3]\n",
       "\n",
       "1e-310 *\n",
       " 6.9202\n",
       " 6.9202\n",
       " 0.0000\n",
       " 0.0000\n",
       "[torch.DoubleTensor of size 4]\n",
       "\n",
       "1e-310 *\n",
       " 6.9202\n",
       " 6.9202\n",
       " 0.0000\n",
       "[torch.DoubleTensor of size 3]\n",
       "\n",
       " 7.7000\n",
       " 0.0000\n",
       " 0.0000\n",
       " 0.0000\n",
       "[torch.DoubleTensor of size 4]\n",
       "\n",
       "1e-310 *\n",
       " 6.9202\n",
       " 6.9202\n",
       " 0.0000\n",
       "[torch.DoubleTensor of size 3]\n",
       "\n",
       " 7.7000\n",
       " 3.8000\n",
       " 0.0000\n",
       " 0.0000\n",
       "[torch.DoubleTensor of size 4]\n",
       "\n",
       "1e-310 *\n",
       " 6.9202\n",
       " 6.9202\n",
       " 0.0000\n",
       "[torch.DoubleTensor of size 3]\n",
       "\n",
       " 7.7000\n",
       " 3.8000\n",
       " 6.7000\n",
       " 0.0000\n",
       "[torch.DoubleTensor of size 4]\n",
       "\n",
       "1e-310 *\n",
       " 6.9202\n",
       " 6.9202\n",
       " 0.0000\n",
       "[torch.DoubleTensor of size 3]\n",
       "\n",
       " 7.7000\n",
       " 3.8000\n",
       " 6.7000\n",
       " 2.2000\n",
       "[torch.DoubleTensor of size 4]\n",
       "\n",
       "1e-310 *\n",
       " 6.9202\n",
       " 6.9202\n",
       " 0.0000\n",
       "[torch.DoubleTensor of size 3]\n",
       "\n"
      ]
     },
     "execution_count": 156,
     "metadata": {},
     "output_type": "execute_result"
    },
    {
     "data": {
      "text/plain": [
       " 7.7000\n",
       " 3.8000\n",
       " 6.7000\n",
       " 2.2000\n",
       "[torch.DoubleTensor of size 4]\n",
       "\n",
       " 0\n",
       " 0\n",
       " 1\n",
       "[torch.DoubleTensor of size 3]\n",
       "\n",
       "1e-310 *\n",
       " 6.9202\n",
       " 6.9202\n",
       " 0.0000\n",
       " 0.0000\n",
       "[torch.DoubleTensor of size 4]\n",
       "\n",
       "1e-310 *\n",
       " 6.9202\n",
       " 6.9202\n",
       " 0.0000\n",
       "[torch.DoubleTensor of size 3]\n",
       "\n",
       " 7.7000\n",
       " 0.0000\n",
       " 0.0000\n",
       " 0.0000\n",
       "[torch.DoubleTensor of size 4]\n",
       "\n",
       "1e-310 *\n",
       " 6.9202\n",
       " 6.9202\n",
       " 0.0000\n",
       "[torch.DoubleTensor of size 3]\n",
       "\n",
       " 7.7000\n",
       " 2.6000\n",
       " 0.0000\n",
       " 0.0000\n",
       "[torch.DoubleTensor of size 4]\n",
       "\n",
       "1e-310 *\n",
       " 6.9202\n",
       " 6.9202\n",
       " 0.0000\n",
       "[torch.DoubleTensor of size 3]\n",
       "\n",
       " 7.7000\n",
       " 2.6000\n",
       " 6.9000\n",
       " 0.0000\n",
       "[torch.DoubleTensor of size 4]\n",
       "\n",
       "1e-310 *\n",
       " 6.9202\n",
       " 6.9202\n",
       " 0.0000\n",
       "[torch.DoubleTensor of size 3]\n",
       "\n",
       " 7.7000\n",
       " 2.6000\n",
       " 6.9000\n",
       " 2.3000\n",
       "[torch.DoubleTensor of size 4]\n",
       "\n",
       "1e-310 *\n",
       " 6.9202\n",
       " 6.9202\n",
       " 0.0000\n",
       "[torch.DoubleTensor of size 3]\n",
       "\n",
       " 7.7000\n",
       " 2.6000\n",
       " 6.9000\n",
       " 2.3000\n",
       "[torch.DoubleTensor of size 4]\n",
       "\n",
       " 0\n",
       " 0\n",
       " 1\n",
       "[torch.DoubleTensor of size 3]\n",
       "\n",
       "1e-310 *\n",
       " 6.9202\n",
       " 6.9202\n",
       " 0.0000\n",
       " 0.0000\n",
       "[torch.DoubleTensor of size 4]\n",
       "\n",
       "1e-310 *\n",
       " 6.9202\n",
       " 6.9202\n",
       " 0.0000\n",
       "[torch.DoubleTensor of size 3]\n",
       "\n",
       " 6.0000\n",
       " 0.0000\n",
       " 0.0000\n",
       " 0.0000\n",
       "[torch.DoubleTensor of size 4]\n",
       "\n"
      ]
     },
     "execution_count": 156,
     "metadata": {},
     "output_type": "execute_result"
    },
    {
     "data": {
      "text/plain": [
       "1e-310 *\n",
       " 6.9202\n",
       " 6.9202\n",
       " 0.0000\n",
       "[torch.DoubleTensor of size 3]\n",
       "\n",
       " 6.0000\n",
       " 2.2000\n",
       " 0.0000\n",
       " 0.0000\n",
       "[torch.DoubleTensor of size 4]\n",
       "\n",
       "1e-310 *\n",
       " 6.9202\n",
       " 6.9202\n",
       " 0.0000\n",
       "[torch.DoubleTensor of size 3]\n",
       "\n",
       " 6.0000\n",
       " 2.2000\n",
       " 5.0000\n",
       " 0.0000\n",
       "[torch.DoubleTensor of size 4]\n",
       "\n",
       "1e-310 *\n",
       " 6.9202\n",
       " 6.9202\n",
       " 0.0000\n",
       "[torch.DoubleTensor of size 3]\n",
       "\n",
       " 6.0000\n",
       " 2.2000\n",
       " 5.0000\n",
       " 1.5000\n",
       "[torch.DoubleTensor of size 4]\n",
       "\n",
       "1e-310 *\n",
       " 6.9202\n",
       " 6.9202\n",
       " 0.0000\n",
       "[torch.DoubleTensor of size 3]\n",
       "\n",
       " 6.0000\n",
       " 2.2000\n",
       " 5.0000\n",
       " 1.5000\n",
       "[torch.DoubleTensor of size 4]\n",
       "\n",
       " 0\n",
       " 0\n",
       " 1\n",
       "[torch.DoubleTensor of size 3]\n",
       "\n",
       "1e-310 *\n",
       " 6.9202\n",
       " 6.9202\n",
       " 0.0000\n",
       " 0.0000\n",
       "[torch.DoubleTensor of size 4]\n",
       "\n",
       "1e-310 *\n",
       " 6.9202\n",
       " 6.9202\n",
       " 0.0000\n",
       "[torch.DoubleTensor of size 3]\n",
       "\n",
       " 6.9000\n",
       " 0.0000\n",
       " 0.0000\n",
       " 0.0000\n",
       "[torch.DoubleTensor of size 4]\n",
       "\n",
       "1e-310 *\n",
       " 6.9202\n",
       " 6.9202\n",
       " 0.0000\n",
       "[torch.DoubleTensor of size 3]\n",
       "\n",
       " 6.9000\n",
       " 3.2000\n",
       " 0.0000\n",
       " 0.0000\n",
       "[torch.DoubleTensor of size 4]\n",
       "\n",
       "1e-310 *\n",
       " 6.9202\n",
       " 6.9202\n",
       " 0.0000\n",
       "[torch.DoubleTensor of size 3]\n",
       "\n",
       " 6.9000\n",
       " 3.2000\n",
       " 5.7000\n",
       " 0.0000\n",
       "[torch.DoubleTensor of size 4]\n",
       "\n",
       "1e-310 *\n",
       " 6.9202\n",
       " 6.9202\n",
       " 0.0000\n",
       "[torch.DoubleTensor of size 3]\n",
       "\n",
       " 6.9000\n",
       " 3.2000\n",
       " 5.7000\n",
       " 2.3000\n",
       "[torch.DoubleTensor of size 4]\n",
       "\n"
      ]
     },
     "execution_count": 156,
     "metadata": {},
     "output_type": "execute_result"
    },
    {
     "data": {
      "text/plain": [
       "1e-310 *\n",
       " 6.9202\n",
       " 6.9202\n",
       " 0.0000\n",
       "[torch.DoubleTensor of size 3]\n",
       "\n",
       " 6.9000\n",
       " 3.2000\n",
       " 5.7000\n",
       " 2.3000\n",
       "[torch.DoubleTensor of size 4]\n",
       "\n",
       " 0\n",
       " 0\n",
       " 1\n",
       "[torch.DoubleTensor of size 3]\n",
       "\n",
       "1e-310 *\n",
       " 6.9202\n",
       " 6.9202\n",
       " 0.0000\n",
       " 0.0000\n",
       "[torch.DoubleTensor of size 4]\n",
       "\n",
       "1e-310 *\n",
       " 6.9202\n",
       " 6.9202\n",
       " 0.0000\n",
       "[torch.DoubleTensor of size 3]\n",
       "\n",
       " 5.6000\n",
       " 0.0000\n",
       " 0.0000\n",
       " 0.0000\n",
       "[torch.DoubleTensor of size 4]\n",
       "\n",
       "1e-310 *\n",
       " 6.9202\n",
       " 6.9202\n",
       " 0.0000\n",
       "[torch.DoubleTensor of size 3]\n",
       "\n",
       " 5.6000\n",
       " 2.8000\n",
       " 0.0000\n",
       " 0.0000\n",
       "[torch.DoubleTensor of size 4]\n",
       "\n",
       "1e-310 *\n",
       " 6.9202\n",
       " 6.9202\n",
       " 0.0000\n",
       "[torch.DoubleTensor of size 3]\n",
       "\n",
       " 5.6000\n",
       " 2.8000\n",
       " 4.9000\n",
       " 0.0000\n",
       "[torch.DoubleTensor of size 4]\n",
       "\n",
       "1e-310 *\n",
       " 6.9202\n",
       " 6.9202\n",
       " 0.0000\n",
       "[torch.DoubleTensor of size 3]\n",
       "\n",
       " 5.6000\n",
       " 2.8000\n",
       " 4.9000\n",
       " 2.0000\n",
       "[torch.DoubleTensor of size 4]\n",
       "\n",
       "1e-310 *\n",
       " 6.9202\n",
       " 6.9202\n",
       " 0.0000\n",
       "[torch.DoubleTensor of size 3]\n",
       "\n",
       " 5.6000\n",
       " 2.8000\n",
       " 4.9000\n",
       " 2.0000\n",
       "[torch.DoubleTensor of size 4]\n",
       "\n",
       " 0\n",
       " 0\n",
       " 1\n",
       "[torch.DoubleTensor of size 3]\n",
       "\n",
       "1e-310 *\n",
       " 6.9202\n",
       " 6.9202\n",
       " 0.0000\n",
       " 0.0000\n",
       "[torch.DoubleTensor of size 4]\n",
       "\n",
       "1e-310 *\n",
       " 6.9202\n",
       " 6.9202\n",
       " 0.0000\n",
       "[torch.DoubleTensor of size 3]\n",
       "\n"
      ]
     },
     "execution_count": 156,
     "metadata": {},
     "output_type": "execute_result"
    },
    {
     "data": {
      "text/plain": [
       " 7.7000\n",
       " 0.0000\n",
       " 0.0000\n",
       " 0.0000\n",
       "[torch.DoubleTensor of size 4]\n",
       "\n",
       "1e-310 *\n",
       " 6.9202\n",
       " 6.9202\n",
       " 0.0000\n",
       "[torch.DoubleTensor of size 3]\n",
       "\n",
       " 7.7000\n",
       " 2.8000\n",
       " 0.0000\n",
       " 0.0000\n",
       "[torch.DoubleTensor of size 4]\n",
       "\n",
       "1e-310 *\n",
       " 6.9202\n",
       " 6.9202\n",
       " 0.0000\n",
       "[torch.DoubleTensor of size 3]\n",
       "\n",
       " 7.7000\n",
       " 2.8000\n",
       " 6.7000\n",
       " 0.0000\n",
       "[torch.DoubleTensor of size 4]\n",
       "\n",
       "1e-310 *\n",
       " 6.9202\n",
       " 6.9202\n",
       " 0.0000\n",
       "[torch.DoubleTensor of size 3]\n",
       "\n",
       " 7.7000\n",
       " 2.8000\n",
       " 6.7000\n",
       " 2.0000\n",
       "[torch.DoubleTensor of size 4]\n",
       "\n",
       "1e-310 *\n",
       " 6.9202\n",
       " 6.9202\n",
       " 0.0000\n",
       "[torch.DoubleTensor of size 3]\n",
       "\n",
       " 7.7000\n",
       " 2.8000\n",
       " 6.7000\n",
       " 2.0000\n",
       "[torch.DoubleTensor of size 4]\n",
       "\n",
       " 0\n",
       " 0\n",
       " 1\n",
       "[torch.DoubleTensor of size 3]\n",
       "\n",
       "1e-310 *\n",
       " 6.9202\n",
       " 6.9202\n",
       " 0.0000\n",
       " 0.0000\n",
       "[torch.DoubleTensor of size 4]\n",
       "\n",
       "1e-310 *\n",
       " 6.9202\n",
       " 6.9202\n",
       " 0.0000\n",
       "[torch.DoubleTensor of size 3]\n",
       "\n",
       " 6.3000\n",
       " 0.0000\n",
       " 0.0000\n",
       " 0.0000\n",
       "[torch.DoubleTensor of size 4]\n",
       "\n",
       "1e-310 *\n",
       " 6.9202\n",
       " 6.9202\n",
       " 0.0000\n",
       "[torch.DoubleTensor of size 3]\n",
       "\n",
       " 6.3000\n",
       " 2.7000\n",
       " 0.0000\n",
       " 0.0000\n",
       "[torch.DoubleTensor of size 4]\n",
       "\n",
       "1e-310 *\n",
       " 6.9202\n",
       " 6.9202\n",
       " 0.0000\n",
       "[torch.DoubleTensor of size 3]\n",
       "\n",
       " 6.3000\n",
       " 2.7000\n",
       " 4.9000\n",
       " 0.0000\n",
       "[torch.DoubleTensor of size 4]\n",
       "\n"
      ]
     },
     "execution_count": 156,
     "metadata": {},
     "output_type": "execute_result"
    },
    {
     "data": {
      "text/plain": [
       "1e-310 *\n",
       " 6.9202\n",
       " 6.9202\n",
       " 0.0000\n",
       "[torch.DoubleTensor of size 3]\n",
       "\n",
       " 6.3000\n",
       " 2.7000\n",
       " 4.9000\n",
       " 1.8000\n",
       "[torch.DoubleTensor of size 4]\n",
       "\n",
       "1e-310 *\n",
       " 6.9202\n",
       " 6.9202\n",
       " 0.0000\n",
       "[torch.DoubleTensor of size 3]\n",
       "\n",
       " 6.3000\n",
       " 2.7000\n",
       " 4.9000\n",
       " 1.8000\n",
       "[torch.DoubleTensor of size 4]\n",
       "\n",
       " 0\n",
       " 0\n",
       " 1\n",
       "[torch.DoubleTensor of size 3]\n",
       "\n",
       "1e-310 *\n",
       " 6.9202\n",
       " 6.9202\n",
       " 0.0000\n",
       " 0.0000\n",
       "[torch.DoubleTensor of size 4]\n",
       "\n",
       "1e-310 *\n",
       " 6.9202\n",
       " 6.9202\n",
       " 0.0000\n",
       "[torch.DoubleTensor of size 3]\n",
       "\n",
       " 6.7000\n",
       " 0.0000\n",
       " 0.0000\n",
       " 0.0000\n",
       "[torch.DoubleTensor of size 4]\n",
       "\n",
       "1e-310 *\n",
       " 6.9202\n",
       " 6.9202\n",
       " 0.0000\n",
       "[torch.DoubleTensor of size 3]\n",
       "\n",
       " 6.7000\n",
       " 3.3000\n",
       " 0.0000\n",
       " 0.0000\n",
       "[torch.DoubleTensor of size 4]\n",
       "\n",
       "1e-310 *\n",
       " 6.9202\n",
       " 6.9202\n",
       " 0.0000\n",
       "[torch.DoubleTensor of size 3]\n",
       "\n",
       " 6.7000\n",
       " 3.3000\n",
       " 5.7000\n",
       " 0.0000\n",
       "[torch.DoubleTensor of size 4]\n",
       "\n",
       "1e-310 *\n",
       " 6.9202\n",
       " 6.9202\n",
       " 0.0000\n",
       "[torch.DoubleTensor of size 3]\n",
       "\n",
       " 6.7000\n",
       " 3.3000\n",
       " 5.7000\n",
       " 2.1000\n",
       "[torch.DoubleTensor of size 4]\n",
       "\n",
       "1e-310 *\n",
       " 6.9202\n",
       " 6.9202\n",
       " 0.0000\n",
       "[torch.DoubleTensor of size 3]\n",
       "\n"
      ]
     },
     "execution_count": 156,
     "metadata": {},
     "output_type": "execute_result"
    },
    {
     "data": {
      "text/plain": [
       " 6.7000\n",
       " 3.3000\n",
       " 5.7000\n",
       " 2.1000\n",
       "[torch.DoubleTensor of size 4]\n",
       "\n",
       " 0\n",
       " 0\n",
       " 1\n",
       "[torch.DoubleTensor of size 3]\n",
       "\n",
       "1e-310 *\n",
       " 6.9202\n",
       " 6.9202\n",
       " 0.0000\n",
       " 0.0000\n",
       "[torch.DoubleTensor of size 4]\n",
       "\n",
       "1e-310 *\n",
       " 6.9202\n",
       " 6.9202\n",
       " 0.0000\n",
       "[torch.DoubleTensor of size 3]\n",
       "\n",
       " 7.2000\n",
       " 0.0000\n",
       " 0.0000\n",
       " 0.0000\n",
       "[torch.DoubleTensor of size 4]\n",
       "\n",
       "1e-310 *\n",
       " 6.9202\n",
       " 6.9202\n",
       " 0.0000\n",
       "[torch.DoubleTensor of size 3]\n",
       "\n",
       " 7.2000\n",
       " 3.2000\n",
       " 0.0000\n",
       " 0.0000\n",
       "[torch.DoubleTensor of size 4]\n",
       "\n",
       "1e-310 *\n",
       " 6.9202\n",
       " 6.9202\n",
       " 0.0000\n",
       "[torch.DoubleTensor of size 3]\n",
       "\n",
       " 7.2000\n",
       " 3.2000\n",
       " 6.0000\n",
       " 0.0000\n",
       "[torch.DoubleTensor of size 4]\n",
       "\n",
       "1e-310 *\n",
       " 6.9202\n",
       " 6.9202\n",
       " 0.0000\n",
       "[torch.DoubleTensor of size 3]\n",
       "\n",
       " 7.2000\n",
       " 3.2000\n",
       " 6.0000\n",
       " 1.8000\n",
       "[torch.DoubleTensor of size 4]\n",
       "\n",
       "1e-310 *\n",
       " 6.9202\n",
       " 6.9202\n",
       " 0.0000\n",
       "[torch.DoubleTensor of size 3]\n",
       "\n",
       " 7.2000\n",
       " 3.2000\n",
       " 6.0000\n",
       " 1.8000\n",
       "[torch.DoubleTensor of size 4]\n",
       "\n",
       " 0\n",
       " 0\n",
       " 1\n",
       "[torch.DoubleTensor of size 3]\n",
       "\n",
       "1e-310 *\n",
       " 6.9202\n",
       " 6.9202\n",
       " 0.0000\n",
       " 0.0000\n",
       "[torch.DoubleTensor of size 4]\n",
       "\n"
      ]
     },
     "execution_count": 156,
     "metadata": {},
     "output_type": "execute_result"
    },
    {
     "data": {
      "text/plain": [
       "1e-310 *\n",
       " 6.9202\n",
       " 6.9202\n",
       " 0.0000\n",
       "[torch.DoubleTensor of size 3]\n",
       "\n",
       " 6.2000\n",
       " 0.0000\n",
       " 0.0000\n",
       " 0.0000\n",
       "[torch.DoubleTensor of size 4]\n",
       "\n",
       "1e-310 *\n",
       " 6.9202\n",
       " 6.9202\n",
       " 0.0000\n",
       "[torch.DoubleTensor of size 3]\n",
       "\n",
       " 6.2000\n",
       " 2.8000\n",
       " 0.0000\n",
       " 0.0000\n",
       "[torch.DoubleTensor of size 4]\n",
       "\n",
       "1e-310 *\n",
       " 6.9202\n",
       " 6.9202\n",
       " 0.0000\n",
       "[torch.DoubleTensor of size 3]\n",
       "\n",
       " 6.2000\n",
       " 2.8000\n",
       " 4.8000\n",
       " 0.0000\n",
       "[torch.DoubleTensor of size 4]\n",
       "\n",
       "1e-310 *\n",
       " 6.9202\n",
       " 6.9202\n",
       " 0.0000\n",
       "[torch.DoubleTensor of size 3]\n",
       "\n",
       " 6.2000\n",
       " 2.8000\n",
       " 4.8000\n",
       " 1.8000\n",
       "[torch.DoubleTensor of size 4]\n",
       "\n",
       "1e-310 *\n",
       " 6.9202\n",
       " 6.9202\n",
       " 0.0000\n",
       "[torch.DoubleTensor of size 3]\n",
       "\n",
       " 6.2000\n",
       " 2.8000\n",
       " 4.8000\n",
       " 1.8000\n",
       "[torch.DoubleTensor of size 4]\n",
       "\n",
       " 0\n",
       " 0\n",
       " 1\n",
       "[torch.DoubleTensor of size 3]\n",
       "\n",
       "1e-310 *\n",
       " 6.9202\n",
       " 6.9202\n",
       " 0.0000\n",
       " 0.0000\n",
       "[torch.DoubleTensor of size 4]\n",
       "\n",
       "1e-310 *\n",
       " 6.9202\n",
       " 6.9202\n",
       " 0.0000\n",
       "[torch.DoubleTensor of size 3]\n",
       "\n",
       " 6.1000\n",
       " 0.0000\n",
       " 0.0000\n",
       " 0.0000\n",
       "[torch.DoubleTensor of size 4]\n",
       "\n",
       "1e-310 *\n",
       " 6.9202\n",
       " 6.9202\n",
       " 0.0000\n",
       "[torch.DoubleTensor of size 3]\n",
       "\n",
       " 6.1000\n",
       " 3.0000\n",
       " 0.0000\n",
       " 0.0000\n",
       "[torch.DoubleTensor of size 4]\n",
       "\n"
      ]
     },
     "execution_count": 156,
     "metadata": {},
     "output_type": "execute_result"
    },
    {
     "data": {
      "text/plain": [
       "1e-310 *\n",
       " 6.9202\n",
       " 6.9202\n",
       " 0.0000\n",
       "[torch.DoubleTensor of size 3]\n",
       "\n",
       " 6.1000\n",
       " 3.0000\n",
       " 4.9000\n",
       " 0.0000\n",
       "[torch.DoubleTensor of size 4]\n",
       "\n",
       "1e-310 *\n",
       " 6.9202\n",
       " 6.9202\n",
       " 0.0000\n",
       "[torch.DoubleTensor of size 3]\n",
       "\n",
       " 6.1000\n",
       " 3.0000\n",
       " 4.9000\n",
       " 1.8000\n",
       "[torch.DoubleTensor of size 4]\n",
       "\n",
       "1e-310 *\n",
       " 6.9202\n",
       " 6.9202\n",
       " 0.0000\n",
       "[torch.DoubleTensor of size 3]\n",
       "\n",
       " 6.1000\n",
       " 3.0000\n",
       " 4.9000\n",
       " 1.8000\n",
       "[torch.DoubleTensor of size 4]\n",
       "\n",
       " 0\n",
       " 0\n",
       " 1\n",
       "[torch.DoubleTensor of size 3]\n",
       "\n",
       "1e-310 *\n",
       " 6.9202\n",
       " 6.9202\n",
       " 0.0000\n",
       " 0.0000\n",
       "[torch.DoubleTensor of size 4]\n",
       "\n",
       "1e-310 *\n",
       " 6.9202\n",
       " 6.9202\n",
       " 0.0000\n",
       "[torch.DoubleTensor of size 3]\n",
       "\n",
       " 6.4000\n",
       " 0.0000\n",
       " 0.0000\n",
       " 0.0000\n",
       "[torch.DoubleTensor of size 4]\n",
       "\n",
       "1e-310 *\n",
       " 6.9202\n",
       " 6.9202\n",
       " 0.0000\n",
       "[torch.DoubleTensor of size 3]\n",
       "\n",
       " 6.4000\n",
       " 2.8000\n",
       " 0.0000\n",
       " 0.0000\n",
       "[torch.DoubleTensor of size 4]\n",
       "\n",
       "1e-310 *\n",
       " 6.9202\n",
       " 6.9202\n",
       " 0.0000\n",
       "[torch.DoubleTensor of size 3]\n",
       "\n",
       " 6.4000\n",
       " 2.8000\n",
       " 5.6000\n",
       " 0.0000\n",
       "[torch.DoubleTensor of size 4]\n",
       "\n",
       "1e-310 *\n",
       " 6.9202\n",
       " 6.9202\n",
       " 0.0000\n",
       "[torch.DoubleTensor of size 3]\n",
       "\n",
       " 6.4000\n",
       " 2.8000\n",
       " 5.6000\n",
       " 2.1000\n",
       "[torch.DoubleTensor of size 4]\n",
       "\n",
       "1e-310 *\n",
       " 6.9202\n",
       " 6.9202\n",
       " 0.0000\n",
       "[torch.DoubleTensor of size 3]\n",
       "\n",
       " 6.4000\n",
       " 2.8000\n",
       " 5.6000\n",
       " 2.1000\n",
       "[torch.DoubleTensor of size 4]\n",
       "\n"
      ]
     },
     "execution_count": 156,
     "metadata": {},
     "output_type": "execute_result"
    },
    {
     "data": {
      "text/plain": [
       " 0\n",
       " 0\n",
       " 1\n",
       "[torch.DoubleTensor of size 3]\n",
       "\n",
       "1e-310 *\n",
       " 6.9202\n",
       " 6.9202\n",
       " 0.0000\n",
       " 0.0000\n",
       "[torch.DoubleTensor of size 4]\n",
       "\n",
       "1e-310 *\n",
       " 6.9202\n",
       " 6.9202\n",
       " 0.0000\n",
       "[torch.DoubleTensor of size 3]\n",
       "\n",
       " 7.2000\n",
       " 0.0000\n",
       " 0.0000\n",
       " 0.0000\n",
       "[torch.DoubleTensor of size 4]\n",
       "\n",
       "1e-310 *\n",
       " 6.9202\n",
       " 6.9202\n",
       " 0.0000\n",
       "[torch.DoubleTensor of size 3]\n",
       "\n",
       " 7.2000\n",
       " 3.0000\n",
       " 0.0000\n",
       " 0.0000\n",
       "[torch.DoubleTensor of size 4]\n",
       "\n",
       "1e-310 *\n",
       " 6.9202\n",
       " 6.9202\n",
       " 0.0000\n",
       "[torch.DoubleTensor of size 3]\n",
       "\n",
       " 7.2000\n",
       " 3.0000\n",
       " 5.8000\n",
       " 0.0000\n",
       "[torch.DoubleTensor of size 4]\n",
       "\n",
       "1e-310 *\n",
       " 6.9202\n",
       " 6.9202\n",
       " 0.0000\n",
       "[torch.DoubleTensor of size 3]\n",
       "\n",
       " 7.2000\n",
       " 3.0000\n",
       " 5.8000\n",
       " 1.6000\n",
       "[torch.DoubleTensor of size 4]\n",
       "\n",
       "1e-310 *\n",
       " 6.9202\n",
       " 6.9202\n",
       " 0.0000\n",
       "[torch.DoubleTensor of size 3]\n",
       "\n",
       " 7.2000\n",
       " 3.0000\n",
       " 5.8000\n",
       " 1.6000\n",
       "[torch.DoubleTensor of size 4]\n",
       "\n",
       " 0\n",
       " 0\n",
       " 1\n",
       "[torch.DoubleTensor of size 3]\n",
       "\n",
       "1e-310 *\n",
       " 6.9202\n",
       " 6.9202\n",
       " 0.0000\n",
       " 0.0000\n",
       "[torch.DoubleTensor of size 4]\n",
       "\n",
       "1e-310 *\n",
       " 6.9202\n",
       " 6.9202\n",
       " 0.0000\n",
       "[torch.DoubleTensor of size 3]\n",
       "\n",
       " 7.4000\n",
       " 0.0000\n",
       " 0.0000\n",
       " 0.0000\n",
       "[torch.DoubleTensor of size 4]\n",
       "\n"
      ]
     },
     "execution_count": 156,
     "metadata": {},
     "output_type": "execute_result"
    },
    {
     "data": {
      "text/plain": [
       "1e-310 *\n",
       " 6.9202\n",
       " 6.9202\n",
       " 0.0000\n",
       "[torch.DoubleTensor of size 3]\n",
       "\n",
       " 7.4000\n",
       " 2.8000\n",
       " 0.0000\n",
       " 0.0000\n",
       "[torch.DoubleTensor of size 4]\n",
       "\n",
       "1e-310 *\n",
       " 6.9202\n",
       " 6.9202\n",
       " 0.0000\n",
       "[torch.DoubleTensor of size 3]\n",
       "\n",
       " 7.4000\n",
       " 2.8000\n",
       " 6.1000\n",
       " 0.0000\n",
       "[torch.DoubleTensor of size 4]\n",
       "\n",
       "1e-310 *\n",
       " 6.9202\n",
       " 6.9202\n",
       " 0.0000\n",
       "[torch.DoubleTensor of size 3]\n",
       "\n",
       " 7.4000\n",
       " 2.8000\n",
       " 6.1000\n",
       " 1.9000\n",
       "[torch.DoubleTensor of size 4]\n",
       "\n",
       "1e-310 *\n",
       " 6.9202\n",
       " 6.9202\n",
       " 0.0000\n",
       "[torch.DoubleTensor of size 3]\n",
       "\n",
       " 7.4000\n",
       " 2.8000\n",
       " 6.1000\n",
       " 1.9000\n",
       "[torch.DoubleTensor of size 4]\n",
       "\n",
       " 0\n",
       " 0\n",
       " 1\n",
       "[torch.DoubleTensor of size 3]\n",
       "\n",
       "1e-310 *\n",
       " 6.9202\n",
       " 6.9202\n",
       " 0.0000\n",
       " 0.0000\n",
       "[torch.DoubleTensor of size 4]\n",
       "\n",
       "1e-310 *\n",
       " 6.9202\n",
       " 6.9202\n",
       " 0.0000\n",
       "[torch.DoubleTensor of size 3]\n",
       "\n",
       " 7.9000\n",
       " 0.0000\n",
       " 0.0000\n",
       " 0.0000\n",
       "[torch.DoubleTensor of size 4]\n",
       "\n",
       "1e-310 *\n",
       " 6.9202\n",
       " 6.9202\n",
       " 0.0000\n",
       "[torch.DoubleTensor of size 3]\n",
       "\n",
       " 7.9000\n",
       " 3.8000\n",
       " 0.0000\n",
       " 0.0000\n",
       "[torch.DoubleTensor of size 4]\n",
       "\n",
       "1e-310 *\n",
       " 6.9202\n",
       " 6.9202\n",
       " 0.0000\n",
       "[torch.DoubleTensor of size 3]\n",
       "\n",
       " 7.9000\n",
       " 3.8000\n",
       " 6.4000\n",
       " 0.0000\n",
       "[torch.DoubleTensor of size 4]\n",
       "\n",
       "1e-310 *\n",
       " 6.9202\n",
       " 6.9202\n",
       " 0.0000\n",
       "[torch.DoubleTensor of size 3]\n",
       "\n",
       " 7.9000\n",
       " 3.8000\n",
       " 6.4000\n",
       " 2.0000\n",
       "[torch.DoubleTensor of size 4]\n",
       "\n"
      ]
     },
     "execution_count": 156,
     "metadata": {},
     "output_type": "execute_result"
    },
    {
     "data": {
      "text/plain": [
       "1e-310 *\n",
       " 6.9202\n",
       " 6.9202\n",
       " 0.0000\n",
       "[torch.DoubleTensor of size 3]\n",
       "\n",
       " 7.9000\n",
       " 3.8000\n",
       " 6.4000\n",
       " 2.0000\n",
       "[torch.DoubleTensor of size 4]\n",
       "\n",
       " 0\n",
       " 0\n",
       " 1\n",
       "[torch.DoubleTensor of size 3]\n",
       "\n",
       "1e-310 *\n",
       " 6.9202\n",
       " 6.9202\n",
       " 0.0000\n",
       " 0.0000\n",
       "[torch.DoubleTensor of size 4]\n",
       "\n",
       "1e-310 *\n",
       " 6.9202\n",
       " 6.9202\n",
       " 0.0000\n",
       "[torch.DoubleTensor of size 3]\n",
       "\n",
       " 6.4000\n",
       " 0.0000\n",
       " 0.0000\n",
       " 0.0000\n",
       "[torch.DoubleTensor of size 4]\n",
       "\n",
       "1e-310 *\n",
       " 6.9202\n",
       " 6.9202\n",
       " 0.0000\n",
       "[torch.DoubleTensor of size 3]\n",
       "\n",
       " 6.4000\n",
       " 2.8000\n",
       " 0.0000\n",
       " 0.0000\n",
       "[torch.DoubleTensor of size 4]\n",
       "\n",
       "1e-310 *\n",
       " 6.9202\n",
       " 6.9202\n",
       " 0.0000\n",
       "[torch.DoubleTensor of size 3]\n",
       "\n",
       " 6.4000\n",
       " 2.8000\n",
       " 5.6000\n",
       " 0.0000\n",
       "[torch.DoubleTensor of size 4]\n",
       "\n",
       "1e-310 *\n",
       " 6.9202\n",
       " 6.9202\n",
       " 0.0000\n",
       "[torch.DoubleTensor of size 3]\n",
       "\n",
       " 6.4000\n",
       " 2.8000\n",
       " 5.6000\n",
       " 2.2000\n",
       "[torch.DoubleTensor of size 4]\n",
       "\n",
       "1e-310 *\n",
       " 6.9202\n",
       " 6.9202\n",
       " 0.0000\n",
       "[torch.DoubleTensor of size 3]\n",
       "\n",
       " 6.4000\n",
       " 2.8000\n",
       " 5.6000\n",
       " 2.2000\n",
       "[torch.DoubleTensor of size 4]\n",
       "\n",
       " 0\n",
       " 0\n",
       " 1\n",
       "[torch.DoubleTensor of size 3]\n",
       "\n",
       "1e-310 *\n",
       " 6.9202\n",
       " 6.9202\n",
       " 0.0000\n",
       " 0.0000\n",
       "[torch.DoubleTensor of size 4]\n",
       "\n",
       "1e-310 *\n",
       " 6.9202\n",
       " 6.9202\n",
       " 0.0000\n",
       "[torch.DoubleTensor of size 3]\n",
       "\n",
       " 6.3000\n",
       " 0.0000\n",
       " 0.0000\n",
       " 0.0000\n",
       "[torch.DoubleTensor of size 4]\n",
       "\n"
      ]
     },
     "execution_count": 156,
     "metadata": {},
     "output_type": "execute_result"
    },
    {
     "data": {
      "text/plain": [
       "1e-310 *\n",
       " 6.9202\n",
       " 6.9202\n",
       " 0.0000\n",
       "[torch.DoubleTensor of size 3]\n",
       "\n",
       " 6.3000\n",
       " 2.8000\n",
       " 0.0000\n",
       " 0.0000\n",
       "[torch.DoubleTensor of size 4]\n",
       "\n",
       "1e-310 *\n",
       " 6.9202\n",
       " 6.9202\n",
       " 0.0000\n",
       "[torch.DoubleTensor of size 3]\n",
       "\n",
       " 6.3000\n",
       " 2.8000\n",
       " 5.1000\n",
       " 0.0000\n",
       "[torch.DoubleTensor of size 4]\n",
       "\n",
       "1e-310 *\n",
       " 6.9202\n",
       " 6.9202\n",
       " 0.0000\n",
       "[torch.DoubleTensor of size 3]\n",
       "\n",
       " 6.3000\n",
       " 2.8000\n",
       " 5.1000\n",
       " 1.5000\n",
       "[torch.DoubleTensor of size 4]\n",
       "\n",
       "1e-310 *\n",
       " 6.9202\n",
       " 6.9202\n",
       " 0.0000\n",
       "[torch.DoubleTensor of size 3]\n",
       "\n",
       " 6.3000\n",
       " 2.8000\n",
       " 5.1000\n",
       " 1.5000\n",
       "[torch.DoubleTensor of size 4]\n",
       "\n",
       " 0\n",
       " 0\n",
       " 1\n",
       "[torch.DoubleTensor of size 3]\n",
       "\n",
       "1e-310 *\n",
       " 6.9202\n",
       " 6.9202\n",
       " 0.0000\n",
       " 0.0000\n",
       "[torch.DoubleTensor of size 4]\n",
       "\n",
       "1e-310 *\n",
       " 6.9202\n",
       " 6.9202\n",
       " 0.0000\n",
       "[torch.DoubleTensor of size 3]\n",
       "\n",
       " 6.1000\n",
       " 0.0000\n",
       " 0.0000\n",
       " 0.0000\n",
       "[torch.DoubleTensor of size 4]\n",
       "\n",
       "1e-310 *\n",
       " 6.9202\n",
       " 6.9202\n",
       " 0.0000\n",
       "[torch.DoubleTensor of size 3]\n",
       "\n",
       " 6.1000\n",
       " 2.6000\n",
       " 0.0000\n",
       " 0.0000\n",
       "[torch.DoubleTensor of size 4]\n",
       "\n",
       "1e-310 *\n",
       " 6.9202\n",
       " 6.9202\n",
       " 0.0000\n",
       "[torch.DoubleTensor of size 3]\n",
       "\n",
       " 6.1000\n",
       " 2.6000\n",
       " 5.6000\n",
       " 0.0000\n",
       "[torch.DoubleTensor of size 4]\n",
       "\n",
       "1e-310 *\n",
       " 6.9202\n",
       " 6.9202\n",
       " 0.0000\n",
       "[torch.DoubleTensor of size 3]\n",
       "\n"
      ]
     },
     "execution_count": 156,
     "metadata": {},
     "output_type": "execute_result"
    },
    {
     "data": {
      "text/plain": [
       " 6.1000\n",
       " 2.6000\n",
       " 5.6000\n",
       " 1.4000\n",
       "[torch.DoubleTensor of size 4]\n",
       "\n",
       "1e-310 *\n",
       " 6.9202\n",
       " 6.9202\n",
       " 0.0000\n",
       "[torch.DoubleTensor of size 3]\n",
       "\n",
       " 6.1000\n",
       " 2.6000\n",
       " 5.6000\n",
       " 1.4000\n",
       "[torch.DoubleTensor of size 4]\n",
       "\n",
       " 0\n",
       " 0\n",
       " 1\n",
       "[torch.DoubleTensor of size 3]\n",
       "\n",
       "1e-310 *\n",
       " 6.9202\n",
       " 6.9202\n",
       " 0.0000\n",
       " 0.0000\n",
       "[torch.DoubleTensor of size 4]\n",
       "\n",
       "1e-310 *\n",
       " 6.9202\n",
       " 6.9202\n",
       " 0.0000\n",
       "[torch.DoubleTensor of size 3]\n",
       "\n",
       " 7.7000\n",
       " 0.0000\n",
       " 0.0000\n",
       " 0.0000\n",
       "[torch.DoubleTensor of size 4]\n",
       "\n",
       "1e-310 *\n",
       " 6.9202\n",
       " 6.9202\n",
       " 0.0000\n",
       "[torch.DoubleTensor of size 3]\n",
       "\n",
       " 7.7000\n",
       " 3.0000\n",
       " 0.0000\n",
       " 0.0000\n",
       "[torch.DoubleTensor of size 4]\n",
       "\n",
       "1e-310 *\n",
       " 6.9202\n",
       " 6.9202\n",
       " 0.0000\n",
       "[torch.DoubleTensor of size 3]\n",
       "\n",
       " 7.7000\n",
       " 3.0000\n",
       " 6.1000\n",
       " 0.0000\n",
       "[torch.DoubleTensor of size 4]\n",
       "\n",
       "1e-310 *\n",
       " 6.9202\n",
       " 6.9202\n",
       " 0.0000\n",
       "[torch.DoubleTensor of size 3]\n",
       "\n",
       " 7.7000\n",
       " 3.0000\n",
       " 6.1000\n",
       " 2.3000\n",
       "[torch.DoubleTensor of size 4]\n",
       "\n",
       "1e-310 *\n",
       " 6.9202\n",
       " 6.9202\n",
       " 0.0000\n",
       "[torch.DoubleTensor of size 3]\n",
       "\n",
       " 7.7000\n",
       " 3.0000\n",
       " 6.1000\n",
       " 2.3000\n",
       "[torch.DoubleTensor of size 4]\n",
       "\n"
      ]
     },
     "execution_count": 156,
     "metadata": {},
     "output_type": "execute_result"
    },
    {
     "data": {
      "text/plain": [
       " 0\n",
       " 0\n",
       " 1\n",
       "[torch.DoubleTensor of size 3]\n",
       "\n",
       "1e-310 *\n",
       " 6.9202\n",
       " 6.9202\n",
       " 0.0000\n",
       " 0.0000\n",
       "[torch.DoubleTensor of size 4]\n",
       "\n",
       "1e-310 *\n",
       " 6.9202\n",
       " 6.9202\n",
       " 0.0000\n",
       "[torch.DoubleTensor of size 3]\n",
       "\n",
       " 6.3000\n",
       " 0.0000\n",
       " 0.0000\n",
       " 0.0000\n",
       "[torch.DoubleTensor of size 4]\n",
       "\n",
       "1e-310 *\n",
       " 6.9202\n",
       " 6.9202\n",
       " 0.0000\n",
       "[torch.DoubleTensor of size 3]\n",
       "\n",
       " 6.3000\n",
       " 3.4000\n",
       " 0.0000\n",
       " 0.0000\n",
       "[torch.DoubleTensor of size 4]\n",
       "\n",
       "1e-310 *\n",
       " 6.9202\n",
       " 6.9202\n",
       " 0.0000\n",
       "[torch.DoubleTensor of size 3]\n",
       "\n",
       " 6.3000\n",
       " 3.4000\n",
       " 5.6000\n",
       " 0.0000\n",
       "[torch.DoubleTensor of size 4]\n",
       "\n",
       "1e-310 *\n",
       " 6.9202\n",
       " 6.9202\n",
       " 0.0000\n",
       "[torch.DoubleTensor of size 3]\n",
       "\n",
       " 6.3000\n",
       " 3.4000\n",
       " 5.6000\n",
       " 2.4000\n",
       "[torch.DoubleTensor of size 4]\n",
       "\n",
       "1e-310 *\n",
       " 6.9202\n",
       " 6.9202\n",
       " 0.0000\n",
       "[torch.DoubleTensor of size 3]\n",
       "\n",
       " 6.3000\n",
       " 3.4000\n",
       " 5.6000\n",
       " 2.4000\n",
       "[torch.DoubleTensor of size 4]\n",
       "\n",
       " 0\n",
       " 0\n",
       " 1\n",
       "[torch.DoubleTensor of size 3]\n",
       "\n",
       "1e-310 *\n",
       " 6.9202\n",
       " 6.9202\n",
       " 0.0000\n",
       " 0.0000\n",
       "[torch.DoubleTensor of size 4]\n",
       "\n",
       "1e-310 *\n",
       " 6.9202\n",
       " 6.9202\n",
       " 0.0000\n",
       "[torch.DoubleTensor of size 3]\n",
       "\n"
      ]
     },
     "execution_count": 156,
     "metadata": {},
     "output_type": "execute_result"
    },
    {
     "data": {
      "text/plain": [
       " 6.4000\n",
       " 0.0000\n",
       " 0.0000\n",
       " 0.0000\n",
       "[torch.DoubleTensor of size 4]\n",
       "\n",
       "1e-310 *\n",
       " 6.9202\n",
       " 6.9202\n",
       " 0.0000\n",
       "[torch.DoubleTensor of size 3]\n",
       "\n",
       " 6.4000\n",
       " 3.1000\n",
       " 0.0000\n",
       " 0.0000\n",
       "[torch.DoubleTensor of size 4]\n",
       "\n",
       "1e-310 *\n",
       " 6.9202\n",
       " 6.9202\n",
       " 0.0000\n",
       "[torch.DoubleTensor of size 3]\n",
       "\n",
       " 6.4000\n",
       " 3.1000\n",
       " 5.5000\n",
       " 0.0000\n",
       "[torch.DoubleTensor of size 4]\n",
       "\n",
       "1e-310 *\n",
       " 6.9202\n",
       " 6.9202\n",
       " 0.0000\n",
       "[torch.DoubleTensor of size 3]\n",
       "\n",
       " 6.4000\n",
       " 3.1000\n",
       " 5.5000\n",
       " 1.8000\n",
       "[torch.DoubleTensor of size 4]\n",
       "\n",
       "1e-310 *\n",
       " 6.9202\n",
       " 6.9202\n",
       " 0.0000\n",
       "[torch.DoubleTensor of size 3]\n",
       "\n",
       " 6.4000\n",
       " 3.1000\n",
       " 5.5000\n",
       " 1.8000\n",
       "[torch.DoubleTensor of size 4]\n",
       "\n",
       " 0\n",
       " 0\n",
       " 1\n",
       "[torch.DoubleTensor of size 3]\n",
       "\n",
       "1e-310 *\n",
       " 6.9202\n",
       " 6.9202\n",
       " 0.0000\n",
       " 0.0000\n",
       "[torch.DoubleTensor of size 4]\n",
       "\n",
       "1e-310 *\n",
       " 6.9202\n",
       " 6.9202\n",
       " 0.0000\n",
       "[torch.DoubleTensor of size 3]\n",
       "\n",
       " 6.0000\n",
       " 0.0000\n",
       " 0.0000\n",
       " 0.0000\n",
       "[torch.DoubleTensor of size 4]\n",
       "\n",
       "1e-310 *\n",
       " 6.9202\n",
       " 6.9202\n",
       " 0.0000\n",
       "[torch.DoubleTensor of size 3]\n",
       "\n",
       " 6\n",
       " 3\n",
       " 0\n",
       " 0\n",
       "[torch.DoubleTensor of size 4]\n",
       "\n",
       "1e-310 *\n",
       " 6.9202\n",
       " 6.9202\n",
       " 0.0000\n",
       "[torch.DoubleTensor of size 3]\n",
       "\n"
      ]
     },
     "execution_count": 156,
     "metadata": {},
     "output_type": "execute_result"
    },
    {
     "data": {
      "text/plain": [
       " 6.0000\n",
       " 3.0000\n",
       " 4.8000\n",
       " 0.0000\n",
       "[torch.DoubleTensor of size 4]\n",
       "\n",
       "1e-310 *\n",
       " 6.9202\n",
       " 6.9202\n",
       " 0.0000\n",
       "[torch.DoubleTensor of size 3]\n",
       "\n",
       " 6.0000\n",
       " 3.0000\n",
       " 4.8000\n",
       " 1.8000\n",
       "[torch.DoubleTensor of size 4]\n",
       "\n",
       "1e-310 *\n",
       " 6.9202\n",
       " 6.9202\n",
       " 0.0000\n",
       "[torch.DoubleTensor of size 3]\n",
       "\n",
       " 6.0000\n",
       " 3.0000\n",
       " 4.8000\n",
       " 1.8000\n",
       "[torch.DoubleTensor of size 4]\n",
       "\n",
       " 0\n",
       " 0\n",
       " 1\n",
       "[torch.DoubleTensor of size 3]\n",
       "\n",
       "1e-310 *\n",
       " 6.9202\n",
       " 6.9202\n",
       " 0.0000\n",
       " 0.0000\n",
       "[torch.DoubleTensor of size 4]\n",
       "\n",
       "1e-310 *\n",
       " 6.9202\n",
       " 6.9202\n",
       " 0.0000\n",
       "[torch.DoubleTensor of size 3]\n",
       "\n",
       " 6.9000\n",
       " 0.0000\n",
       " 0.0000\n",
       " 0.0000\n",
       "[torch.DoubleTensor of size 4]\n",
       "\n",
       "1e-310 *\n",
       " 6.9202\n",
       " 6.9202\n",
       " 0.0000\n",
       "[torch.DoubleTensor of size 3]\n",
       "\n",
       " 6.9000\n",
       " 3.1000\n",
       " 0.0000\n",
       " 0.0000\n",
       "[torch.DoubleTensor of size 4]\n",
       "\n",
       "1e-310 *\n",
       " 6.9202\n",
       " 6.9202\n",
       " 0.0000\n",
       "[torch.DoubleTensor of size 3]\n",
       "\n",
       " 6.9000\n",
       " 3.1000\n",
       " 5.4000\n",
       " 0.0000\n",
       "[torch.DoubleTensor of size 4]\n",
       "\n",
       "1e-310 *\n",
       " 6.9202\n",
       " 6.9202\n",
       " 0.0000\n",
       "[torch.DoubleTensor of size 3]\n",
       "\n",
       " 6.9000\n",
       " 3.1000\n",
       " 5.4000\n",
       " 2.1000\n",
       "[torch.DoubleTensor of size 4]\n",
       "\n"
      ]
     },
     "execution_count": 156,
     "metadata": {},
     "output_type": "execute_result"
    },
    {
     "data": {
      "text/plain": [
       "1e-310 *\n",
       " 6.9202\n",
       " 6.9202\n",
       " 0.0000\n",
       "[torch.DoubleTensor of size 3]\n",
       "\n",
       " 6.9000\n",
       " 3.1000\n",
       " 5.4000\n",
       " 2.1000\n",
       "[torch.DoubleTensor of size 4]\n",
       "\n",
       " 0\n",
       " 0\n",
       " 1\n",
       "[torch.DoubleTensor of size 3]\n",
       "\n",
       "1e-310 *\n",
       " 6.9202\n",
       " 6.9202\n",
       " 0.0000\n",
       " 0.0000\n",
       "[torch.DoubleTensor of size 4]\n",
       "\n",
       "1e-310 *\n",
       " 6.9202\n",
       " 6.9202\n",
       " 0.0000\n",
       "[torch.DoubleTensor of size 3]\n",
       "\n",
       " 6.7000\n",
       " 0.0000\n",
       " 0.0000\n",
       " 0.0000\n",
       "[torch.DoubleTensor of size 4]\n",
       "\n",
       "1e-310 *\n",
       " 6.9202\n",
       " 6.9202\n",
       " 0.0000\n",
       "[torch.DoubleTensor of size 3]\n",
       "\n",
       " 6.7000\n",
       " 3.1000\n",
       " 0.0000\n",
       " 0.0000\n",
       "[torch.DoubleTensor of size 4]\n",
       "\n",
       "1e-310 *\n",
       " 6.9202\n",
       " 6.9202\n",
       " 0.0000\n",
       "[torch.DoubleTensor of size 3]\n",
       "\n",
       " 6.7000\n",
       " 3.1000\n",
       " 5.6000\n",
       " 0.0000\n",
       "[torch.DoubleTensor of size 4]\n",
       "\n",
       "1e-310 *\n",
       " 6.9202\n",
       " 6.9202\n",
       " 0.0000\n",
       "[torch.DoubleTensor of size 3]\n",
       "\n",
       " 6.7000\n",
       " 3.1000\n",
       " 5.6000\n",
       " 2.4000\n",
       "[torch.DoubleTensor of size 4]\n",
       "\n",
       "1e-310 *\n",
       " 6.9202\n",
       " 6.9202\n",
       " 0.0000\n",
       "[torch.DoubleTensor of size 3]\n",
       "\n",
       " 6.7000\n",
       " 3.1000\n",
       " 5.6000\n",
       " 2.4000\n",
       "[torch.DoubleTensor of size 4]\n",
       "\n",
       " 0\n",
       " 0\n",
       " 1\n",
       "[torch.DoubleTensor of size 3]\n",
       "\n"
      ]
     },
     "execution_count": 156,
     "metadata": {},
     "output_type": "execute_result"
    },
    {
     "data": {
      "text/plain": [
       "1e-310 *\n",
       " 6.9202\n",
       " 6.9202\n",
       " 0.0000\n",
       " 0.0000\n",
       "[torch.DoubleTensor of size 4]\n",
       "\n",
       "1e-310 *\n",
       " 6.9202\n",
       " 6.9202\n",
       " 0.0000\n",
       "[torch.DoubleTensor of size 3]\n",
       "\n",
       " 6.9000\n",
       " 0.0000\n",
       " 0.0000\n",
       " 0.0000\n",
       "[torch.DoubleTensor of size 4]\n",
       "\n",
       "1e-310 *\n",
       " 6.9202\n",
       " 6.9202\n",
       " 0.0000\n",
       "[torch.DoubleTensor of size 3]\n",
       "\n",
       " 6.9000\n",
       " 3.1000\n",
       " 0.0000\n",
       " 0.0000\n",
       "[torch.DoubleTensor of size 4]\n",
       "\n",
       "1e-310 *\n",
       " 6.9202\n",
       " 6.9202\n",
       " 0.0000\n",
       "[torch.DoubleTensor of size 3]\n",
       "\n",
       " 6.9000\n",
       " 3.1000\n",
       " 5.1000\n",
       " 0.0000\n",
       "[torch.DoubleTensor of size 4]\n",
       "\n",
       "1e-310 *\n",
       " 6.9202\n",
       " 6.9202\n",
       " 0.0000\n",
       "[torch.DoubleTensor of size 3]\n",
       "\n",
       " 6.9000\n",
       " 3.1000\n",
       " 5.1000\n",
       " 2.3000\n",
       "[torch.DoubleTensor of size 4]\n",
       "\n",
       "1e-310 *\n",
       " 6.9202\n",
       " 6.9202\n",
       " 0.0000\n",
       "[torch.DoubleTensor of size 3]\n",
       "\n",
       " 6.9000\n",
       " 3.1000\n",
       " 5.1000\n",
       " 2.3000\n",
       "[torch.DoubleTensor of size 4]\n",
       "\n",
       " 0\n",
       " 0\n",
       " 1\n",
       "[torch.DoubleTensor of size 3]\n",
       "\n",
       "1e-310 *\n",
       " 6.9202\n",
       " 6.9202\n",
       " 0.0000\n",
       " 0.0000\n",
       "[torch.DoubleTensor of size 4]\n",
       "\n",
       "1e-310 *\n",
       " 6.9202\n",
       " 6.9202\n",
       " 0.0000\n",
       "[torch.DoubleTensor of size 3]\n",
       "\n",
       " 5.8000\n",
       " 0.0000\n",
       " 0.0000\n",
       " 0.0000\n",
       "[torch.DoubleTensor of size 4]\n",
       "\n"
      ]
     },
     "execution_count": 156,
     "metadata": {},
     "output_type": "execute_result"
    },
    {
     "data": {
      "text/plain": [
       "1e-310 *\n",
       " 6.9202\n",
       " 6.9202\n",
       " 0.0000\n",
       "[torch.DoubleTensor of size 3]\n",
       "\n",
       " 5.8000\n",
       " 2.7000\n",
       " 0.0000\n",
       " 0.0000\n",
       "[torch.DoubleTensor of size 4]\n",
       "\n",
       "1e-310 *\n",
       " 6.9202\n",
       " 6.9202\n",
       " 0.0000\n",
       "[torch.DoubleTensor of size 3]\n",
       "\n",
       " 5.8000\n",
       " 2.7000\n",
       " 5.1000\n",
       " 0.0000\n",
       "[torch.DoubleTensor of size 4]\n",
       "\n",
       "1e-310 *\n",
       " 6.9202\n",
       " 6.9202\n",
       " 0.0000\n",
       "[torch.DoubleTensor of size 3]\n",
       "\n",
       " 5.8000\n",
       " 2.7000\n",
       " 5.1000\n",
       " 1.9000\n",
       "[torch.DoubleTensor of size 4]\n",
       "\n",
       "1e-310 *\n",
       " 6.9202\n",
       " 6.9202\n",
       " 0.0000\n",
       "[torch.DoubleTensor of size 3]\n",
       "\n",
       " 5.8000\n",
       " 2.7000\n",
       " 5.1000\n",
       " 1.9000\n",
       "[torch.DoubleTensor of size 4]\n",
       "\n",
       " 0\n",
       " 0\n",
       " 1\n",
       "[torch.DoubleTensor of size 3]\n",
       "\n",
       "1e-310 *\n",
       " 6.9202\n",
       " 6.9202\n",
       " 0.0000\n",
       " 0.0000\n",
       "[torch.DoubleTensor of size 4]\n",
       "\n",
       "1e-310 *\n",
       " 6.9202\n",
       " 6.9202\n",
       " 0.0000\n",
       "[torch.DoubleTensor of size 3]\n",
       "\n",
       " 6.8000\n",
       " 0.0000\n",
       " 0.0000\n",
       " 0.0000\n",
       "[torch.DoubleTensor of size 4]\n",
       "\n",
       "1e-310 *\n",
       " 6.9202\n",
       " 6.9202\n",
       " 0.0000\n",
       "[torch.DoubleTensor of size 3]\n",
       "\n",
       " 6.8000\n",
       " 3.2000\n",
       " 0.0000\n",
       " 0.0000\n",
       "[torch.DoubleTensor of size 4]\n",
       "\n",
       "1e-310 *\n",
       " 6.9202\n",
       " 6.9202\n",
       " 0.0000\n",
       "[torch.DoubleTensor of size 3]\n",
       "\n",
       " 6.8000\n",
       " 3.2000\n",
       " 5.9000\n",
       " 0.0000\n",
       "[torch.DoubleTensor of size 4]\n",
       "\n",
       "1e-310 *\n",
       " 6.9202\n",
       " 6.9202\n",
       " 0.0000\n",
       "[torch.DoubleTensor of size 3]\n",
       "\n",
       " 6.8000\n",
       " 3.2000\n",
       " 5.9000\n",
       " 2.3000\n",
       "[torch.DoubleTensor of size 4]\n",
       "\n"
      ]
     },
     "execution_count": 156,
     "metadata": {},
     "output_type": "execute_result"
    },
    {
     "data": {
      "text/plain": [
       "1e-310 *\n",
       " 6.9202\n",
       " 6.9202\n",
       " 0.0000\n",
       "[torch.DoubleTensor of size 3]\n",
       "\n",
       " 6.8000\n",
       " 3.2000\n",
       " 5.9000\n",
       " 2.3000\n",
       "[torch.DoubleTensor of size 4]\n",
       "\n",
       " 0\n",
       " 0\n",
       " 1\n",
       "[torch.DoubleTensor of size 3]\n",
       "\n",
       "1e-310 *\n",
       " 6.9202\n",
       " 6.9202\n",
       " 0.0000\n",
       " 0.0000\n",
       "[torch.DoubleTensor of size 4]\n",
       "\n",
       "1e-310 *\n",
       " 6.9202\n",
       " 6.9202\n",
       " 0.0000\n",
       "[torch.DoubleTensor of size 3]\n",
       "\n",
       " 6.7000\n",
       " 0.0000\n",
       " 0.0000\n",
       " 0.0000\n",
       "[torch.DoubleTensor of size 4]\n",
       "\n",
       "1e-310 *\n",
       " 6.9202\n",
       " 6.9202\n",
       " 0.0000\n",
       "[torch.DoubleTensor of size 3]\n",
       "\n",
       " 6.7000\n",
       " 3.3000\n",
       " 0.0000\n",
       " 0.0000\n",
       "[torch.DoubleTensor of size 4]\n",
       "\n",
       "1e-310 *\n",
       " 6.9202\n",
       " 6.9202\n",
       " 0.0000\n",
       "[torch.DoubleTensor of size 3]\n",
       "\n",
       " 6.7000\n",
       " 3.3000\n",
       " 5.7000\n",
       " 0.0000\n",
       "[torch.DoubleTensor of size 4]\n",
       "\n",
       "1e-310 *\n",
       " 6.9202\n",
       " 6.9202\n",
       " 0.0000\n",
       "[torch.DoubleTensor of size 3]\n",
       "\n",
       " 6.7000\n",
       " 3.3000\n",
       " 5.7000\n",
       " 2.5000\n",
       "[torch.DoubleTensor of size 4]\n",
       "\n",
       "1e-310 *\n",
       " 6.9202\n",
       " 6.9202\n",
       " 0.0000\n",
       "[torch.DoubleTensor of size 3]\n",
       "\n",
       " 6.7000\n",
       " 3.3000\n",
       " 5.7000\n",
       " 2.5000\n",
       "[torch.DoubleTensor of size 4]\n",
       "\n",
       " 0\n",
       " 0\n",
       " 1\n",
       "[torch.DoubleTensor of size 3]\n",
       "\n",
       "1e-310 *\n",
       " 6.9202\n",
       " 6.9202\n",
       " 0.0000\n",
       " 0.0000\n",
       "[torch.DoubleTensor of size 4]\n",
       "\n",
       "1e-310 *\n",
       " 6.9202\n",
       " 6.9202\n",
       " 0.0000\n",
       "[torch.DoubleTensor of size 3]\n",
       "\n"
      ]
     },
     "execution_count": 156,
     "metadata": {},
     "output_type": "execute_result"
    },
    {
     "data": {
      "text/plain": [
       " 6.7000\n",
       " 0.0000\n",
       " 0.0000\n",
       " 0.0000\n",
       "[torch.DoubleTensor of size 4]\n",
       "\n",
       "1e-310 *\n",
       " 6.9202\n",
       " 6.9202\n",
       " 0.0000\n",
       "[torch.DoubleTensor of size 3]\n",
       "\n",
       " 6.7000\n",
       " 3.0000\n",
       " 0.0000\n",
       " 0.0000\n",
       "[torch.DoubleTensor of size 4]\n",
       "\n",
       "1e-310 *\n",
       " 6.9202\n",
       " 6.9202\n",
       " 0.0000\n",
       "[torch.DoubleTensor of size 3]\n",
       "\n",
       " 6.7000\n",
       " 3.0000\n",
       " 5.2000\n",
       " 0.0000\n",
       "[torch.DoubleTensor of size 4]\n",
       "\n",
       "1e-310 *\n",
       " 6.9202\n",
       " 6.9202\n",
       " 0.0000\n",
       "[torch.DoubleTensor of size 3]\n",
       "\n",
       " 6.7000\n",
       " 3.0000\n",
       " 5.2000\n",
       " 2.3000\n",
       "[torch.DoubleTensor of size 4]\n",
       "\n",
       "1e-310 *\n",
       " 6.9202\n",
       " 6.9202\n",
       " 0.0000\n",
       "[torch.DoubleTensor of size 3]\n",
       "\n",
       " 6.7000\n",
       " 3.0000\n",
       " 5.2000\n",
       " 2.3000\n",
       "[torch.DoubleTensor of size 4]\n",
       "\n",
       " 0\n",
       " 0\n",
       " 1\n",
       "[torch.DoubleTensor of size 3]\n",
       "\n",
       "1e-310 *\n",
       " 6.9202\n",
       " 6.9202\n",
       " 0.0000\n",
       " 0.0000\n",
       "[torch.DoubleTensor of size 4]\n",
       "\n",
       "1e-310 *\n",
       " 6.9202\n",
       " 6.9202\n",
       " 0.0000\n",
       "[torch.DoubleTensor of size 3]\n",
       "\n",
       " 6.3000\n",
       " 0.0000\n",
       " 0.0000\n",
       " 0.0000\n",
       "[torch.DoubleTensor of size 4]\n",
       "\n",
       "1e-310 *\n",
       " 6.9202\n",
       " 6.9202\n",
       " 0.0000\n",
       "[torch.DoubleTensor of size 3]\n",
       "\n",
       " 6.3000\n",
       " 2.5000\n",
       " 0.0000\n",
       " 0.0000\n",
       "[torch.DoubleTensor of size 4]\n",
       "\n",
       "1e-310 *\n",
       " 6.9202\n",
       " 6.9202\n",
       " 0.0000\n",
       "[torch.DoubleTensor of size 3]\n",
       "\n",
       " 6.3000\n",
       " 2.5000\n",
       " 5.0000\n",
       " 0.0000\n",
       "[torch.DoubleTensor of size 4]\n",
       "\n",
       "1e-310 *\n",
       " 6.9202\n",
       " 6.9202\n",
       " 0.0000\n",
       "[torch.DoubleTensor of size 3]\n",
       "\n"
      ]
     },
     "execution_count": 156,
     "metadata": {},
     "output_type": "execute_result"
    },
    {
     "data": {
      "text/plain": [
       " 6.3000\n",
       " 2.5000\n",
       " 5.0000\n",
       " 1.9000\n",
       "[torch.DoubleTensor of size 4]\n",
       "\n",
       "1e-310 *\n",
       " 6.9202\n",
       " 6.9202\n",
       " 0.0000\n",
       "[torch.DoubleTensor of size 3]\n",
       "\n",
       " 6.3000\n",
       " 2.5000\n",
       " 5.0000\n",
       " 1.9000\n",
       "[torch.DoubleTensor of size 4]\n",
       "\n",
       " 0\n",
       " 0\n",
       " 1\n",
       "[torch.DoubleTensor of size 3]\n",
       "\n",
       "1e-310 *\n",
       " 6.9202\n",
       " 6.9202\n",
       " 0.0000\n",
       " 0.0000\n",
       "[torch.DoubleTensor of size 4]\n",
       "\n",
       "1e-310 *\n",
       " 6.9202\n",
       " 6.9202\n",
       " 0.0000\n",
       "[torch.DoubleTensor of size 3]\n",
       "\n",
       " 6.5000\n",
       " 0.0000\n",
       " 0.0000\n",
       " 0.0000\n",
       "[torch.DoubleTensor of size 4]\n",
       "\n",
       "1e-310 *\n",
       " 6.9202\n",
       " 6.9202\n",
       " 0.0000\n",
       "[torch.DoubleTensor of size 3]\n",
       "\n",
       " 6.5000\n",
       " 3.0000\n",
       " 0.0000\n",
       " 0.0000\n",
       "[torch.DoubleTensor of size 4]\n",
       "\n",
       "1e-310 *\n",
       " 6.9202\n",
       " 6.9202\n",
       " 0.0000\n",
       "[torch.DoubleTensor of size 3]\n",
       "\n",
       " 6.5000\n",
       " 3.0000\n",
       " 5.2000\n",
       " 0.0000\n",
       "[torch.DoubleTensor of size 4]\n",
       "\n",
       "1e-310 *\n",
       " 6.9202\n",
       " 6.9202\n",
       " 0.0000\n",
       "[torch.DoubleTensor of size 3]\n",
       "\n",
       " 6.5000\n",
       " 3.0000\n",
       " 5.2000\n",
       " 2.0000\n",
       "[torch.DoubleTensor of size 4]\n",
       "\n",
       "1e-310 *\n",
       " 6.9202\n",
       " 6.9202\n",
       " 0.0000\n",
       "[torch.DoubleTensor of size 3]\n",
       "\n",
       " 6.5000\n",
       " 3.0000\n",
       " 5.2000\n",
       " 2.0000\n",
       "[torch.DoubleTensor of size 4]\n",
       "\n",
       " 0\n",
       " 0\n",
       " 1\n",
       "[torch.DoubleTensor of size 3]\n",
       "\n",
       "1e-310 *\n",
       " 6.9202\n",
       " 6.9202\n",
       " 0.0000\n",
       " 0.0000\n",
       "[torch.DoubleTensor of size 4]\n",
       "\n",
       "1e-310 *\n",
       " 6.9202\n",
       " 6.9202\n",
       " 0.0000\n",
       "[torch.DoubleTensor of size 3]\n",
       "\n",
       " 6.2000\n",
       " 0.0000\n",
       " 0.0000\n",
       " 0.0000\n",
       "[torch.DoubleTensor of size 4]\n",
       "\n",
       "1e-310 *\n",
       " 6.9202\n",
       " 6.9202\n",
       " 0.0000\n",
       "[torch.DoubleTensor of size 3]\n",
       "\n"
      ]
     },
     "execution_count": 156,
     "metadata": {},
     "output_type": "execute_result"
    },
    {
     "data": {
      "text/plain": [
       " 6.2000\n",
       " 3.4000\n",
       " 0.0000\n",
       " 0.0000\n",
       "[torch.DoubleTensor of size 4]\n",
       "\n",
       "1e-310 *\n",
       " 6.9202\n",
       " 6.9202\n",
       " 0.0000\n",
       "[torch.DoubleTensor of size 3]\n",
       "\n",
       " 6.2000\n",
       " 3.4000\n",
       " 5.4000\n",
       " 0.0000\n",
       "[torch.DoubleTensor of size 4]\n",
       "\n",
       "1e-310 *\n",
       " 6.9202\n",
       " 6.9202\n",
       " 0.0000\n",
       "[torch.DoubleTensor of size 3]\n",
       "\n",
       " 6.2000\n",
       " 3.4000\n",
       " 5.4000\n",
       " 2.3000\n",
       "[torch.DoubleTensor of size 4]\n",
       "\n",
       "1e-310 *\n",
       " 6.9202\n",
       " 6.9202\n",
       " 0.0000\n",
       "[torch.DoubleTensor of size 3]\n",
       "\n",
       " 6.2000\n",
       " 3.4000\n",
       " 5.4000\n",
       " 2.3000\n",
       "[torch.DoubleTensor of size 4]\n",
       "\n",
       " 0\n",
       " 0\n",
       " 1\n",
       "[torch.DoubleTensor of size 3]\n",
       "\n",
       "1e-310 *\n",
       " 6.9202\n",
       " 6.9202\n",
       " 0.0000\n",
       " 0.0000\n",
       "[torch.DoubleTensor of size 4]\n",
       "\n",
       "1e-310 *\n",
       " 6.9202\n",
       " 6.9202\n",
       " 0.0000\n",
       "[torch.DoubleTensor of size 3]\n",
       "\n",
       " 5.9000\n",
       " 0.0000\n",
       " 0.0000\n",
       " 0.0000\n",
       "[torch.DoubleTensor of size 4]\n",
       "\n",
       "1e-310 *\n",
       " 6.9202\n",
       " 6.9202\n",
       " 0.0000\n",
       "[torch.DoubleTensor of size 3]\n",
       "\n",
       " 5.9000\n",
       " 3.0000\n",
       " 0.0000\n",
       " 0.0000\n",
       "[torch.DoubleTensor of size 4]\n",
       "\n",
       "1e-310 *\n",
       " 6.9202\n",
       " 6.9202\n",
       " 0.0000\n",
       "[torch.DoubleTensor of size 3]\n",
       "\n",
       " 5.9000\n",
       " 3.0000\n",
       " 5.1000\n",
       " 0.0000\n",
       "[torch.DoubleTensor of size 4]\n",
       "\n",
       "1e-310 *\n",
       " 6.9202\n",
       " 6.9202\n",
       " 0.0000\n",
       "[torch.DoubleTensor of size 3]\n",
       "\n",
       " 5.9000\n",
       " 3.0000\n",
       " 5.1000\n",
       " 1.8000\n",
       "[torch.DoubleTensor of size 4]\n",
       "\n",
       "1e-310 *\n",
       " 6.9202\n",
       " 6.9202\n",
       " 0.0000\n",
       "[torch.DoubleTensor of size 3]\n",
       "\n",
       " 5.9000\n",
       " 3.0000\n",
       " 5.1000\n",
       " 1.8000\n",
       "[torch.DoubleTensor of size 4]\n",
       "\n",
       " 0\n",
       " 0\n",
       " 1\n",
       "[torch.DoubleTensor of size 3]\n",
       "\n"
      ]
     },
     "execution_count": 156,
     "metadata": {},
     "output_type": "execute_result"
    },
    {
     "data": {
      "text/plain": [
       "nn.Sequential {\n",
       "  [input -> (1) -> (2) -> (3) -> (4) -> output]\n",
       "  (1): nn.Linear(4 -> 5)\n",
       "  (2): nn.Tanh\n",
       "  (3): nn.Linear(5 -> 3)\n",
       "  (4): nn.SoftMax\n",
       "}\n",
       "{\n",
       "  gradInput : DoubleTensor - empty\n",
       "  modules : \n",
       "    {\n",
       "      1 : \n",
       "        nn.Linear(4 -> 5)\n",
       "        {\n",
       "          gradBias : DoubleTensor - size: 5\n",
       "          weight : DoubleTensor - size: 5x4\n",
       "          bias : DoubleTensor - size: 5\n",
       "          gradInput : DoubleTensor - empty\n",
       "          gradWeight : DoubleTensor - size: 5x4\n",
       "          output : DoubleTensor - empty\n",
       "        }\n",
       "      2 : \n",
       "        nn.Tanh\n",
       "        {\n",
       "          gradInput : DoubleTensor - empty\n",
       "          output : DoubleTensor - empty\n",
       "        }\n",
       "      3 : \n",
       "        nn.Linear(5 -> 3)\n",
       "        {\n",
       "          gradBias : DoubleTensor - size: 3\n",
       "          "
      ]
     },
     "execution_count": 156,
     "metadata": {},
     "output_type": "execute_result"
    },
    {
     "data": {
      "text/plain": [
       "weight : DoubleTensor - size: 3x5\n",
       "          bias : DoubleTensor - size: 3\n",
       "          gradInput : DoubleTensor - empty\n",
       "          gradWeight : DoubleTensor - size: 3x5\n",
       "          output : DoubleTensor - empty\n",
       "        }\n",
       "      4 : \n",
       "        nn.SoftMax\n",
       "        {\n",
       "          gradInput : DoubleTensor - empty\n",
       "          output : DoubleTensor - empty\n",
       "        }\n",
       "    }\n",
       "  output : DoubleTensor - empty\n",
       "}\n",
       "# StochasticGradient: training\t\n"
      ]
     },
     "execution_count": 156,
     "metadata": {},
     "output_type": "execute_result"
    },
    {
     "data": {
      "text/plain": [
       "# current error = 0.22767758928821\t\n"
      ]
     },
     "execution_count": 156,
     "metadata": {},
     "output_type": "execute_result"
    },
    {
     "data": {
      "text/plain": [
       "# current error = 0.21399406909149\t\n"
      ]
     },
     "execution_count": 156,
     "metadata": {},
     "output_type": "execute_result"
    },
    {
     "data": {
      "text/plain": [
       "# current error = 0.20264786601982\t\n"
      ]
     },
     "execution_count": 156,
     "metadata": {},
     "output_type": "execute_result"
    },
    {
     "data": {
      "text/plain": [
       "# current error = 0.19143958269862\t\n"
      ]
     },
     "execution_count": 156,
     "metadata": {},
     "output_type": "execute_result"
    },
    {
     "data": {
      "text/plain": [
       "# current error = 0.18049627790891\t\n"
      ]
     },
     "execution_count": 156,
     "metadata": {},
     "output_type": "execute_result"
    },
    {
     "data": {
      "text/plain": [
       "# current error = 0.17045625859454\t\n"
      ]
     },
     "execution_count": 156,
     "metadata": {},
     "output_type": "execute_result"
    },
    {
     "data": {
      "text/plain": [
       "# current error = 0.16173342766455\t\n"
      ]
     },
     "execution_count": 156,
     "metadata": {},
     "output_type": "execute_result"
    },
    {
     "data": {
      "text/plain": [
       "# current error = 0.15440877278916\t\n"
      ]
     },
     "execution_count": 156,
     "metadata": {},
     "output_type": "execute_result"
    },
    {
     "data": {
      "text/plain": [
       "# current error = 0.14835787199652\t\n"
      ]
     },
     "execution_count": 156,
     "metadata": {},
     "output_type": "execute_result"
    },
    {
     "data": {
      "text/plain": [
       "# current error = 0.14338192937069\t\n"
      ]
     },
     "execution_count": 156,
     "metadata": {},
     "output_type": "execute_result"
    },
    {
     "data": {
      "text/plain": [
       "# current error = 0.13928028779247\t\n"
      ]
     },
     "execution_count": 156,
     "metadata": {},
     "output_type": "execute_result"
    },
    {
     "data": {
      "text/plain": [
       "# current error = 0.13587817882991\t\n"
      ]
     },
     "execution_count": 156,
     "metadata": {},
     "output_type": "execute_result"
    },
    {
     "data": {
      "text/plain": [
       "# current error = 0.13303245311827\t\n"
      ]
     },
     "execution_count": 156,
     "metadata": {},
     "output_type": "execute_result"
    },
    {
     "data": {
      "text/plain": [
       "# current error = 0.13062896852749\t\n"
      ]
     },
     "execution_count": 156,
     "metadata": {},
     "output_type": "execute_result"
    },
    {
     "data": {
      "text/plain": [
       "# current error = 0.12857769647818\t\n"
      ]
     },
     "execution_count": 156,
     "metadata": {},
     "output_type": "execute_result"
    },
    {
     "data": {
      "text/plain": [
       "# current error = 0.1268078050018\t\n"
      ]
     },
     "execution_count": 156,
     "metadata": {},
     "output_type": "execute_result"
    },
    {
     "data": {
      "text/plain": [
       "# current error = 0.12526342674187\t\n"
      ]
     },
     "execution_count": 156,
     "metadata": {},
     "output_type": "execute_result"
    },
    {
     "data": {
      "text/plain": [
       "# current error = 0.12390024480757\t\n"
      ]
     },
     "execution_count": 156,
     "metadata": {},
     "output_type": "execute_result"
    },
    {
     "data": {
      "text/plain": [
       "# current error = 0.12268282960692\t\n"
      ]
     },
     "execution_count": 156,
     "metadata": {},
     "output_type": "execute_result"
    },
    {
     "data": {
      "text/plain": [
       "# current error = 0.12158260197804\t\n"
      ]
     },
     "execution_count": 156,
     "metadata": {},
     "output_type": "execute_result"
    },
    {
     "data": {
      "text/plain": [
       "# current error = 0.1205762939561\t\n"
      ]
     },
     "execution_count": 156,
     "metadata": {},
     "output_type": "execute_result"
    },
    {
     "data": {
      "text/plain": [
       "# current error = 0.11964479383435\t\n"
      ]
     },
     "execution_count": 156,
     "metadata": {},
     "output_type": "execute_result"
    },
    {
     "data": {
      "text/plain": [
       "# current error = 0.11877228224201\t\n"
      ]
     },
     "execution_count": 156,
     "metadata": {},
     "output_type": "execute_result"
    },
    {
     "data": {
      "text/plain": [
       "# current error = 0.1179455849742\t\n"
      ]
     },
     "execution_count": 156,
     "metadata": {},
     "output_type": "execute_result"
    },
    {
     "data": {
      "text/plain": [
       "# current error = 0.11715368487327\t\n"
      ]
     },
     "execution_count": 156,
     "metadata": {},
     "output_type": "execute_result"
    },
    {
     "data": {
      "text/plain": [
       "# current error = 0.11638734903538\t\n"
      ]
     },
     "execution_count": 156,
     "metadata": {},
     "output_type": "execute_result"
    },
    {
     "data": {
      "text/plain": [
       "# current error = 0.11563883901379\t\n"
      ]
     },
     "execution_count": 156,
     "metadata": {},
     "output_type": "execute_result"
    },
    {
     "data": {
      "text/plain": [
       "# current error = 0.11490168101816\t\n"
      ]
     },
     "execution_count": 156,
     "metadata": {},
     "output_type": "execute_result"
    },
    {
     "data": {
      "text/plain": [
       "# current error = 0.11417048015652\t\n"
      ]
     },
     "execution_count": 156,
     "metadata": {},
     "output_type": "execute_result"
    },
    {
     "data": {
      "text/plain": [
       "# current error = 0.11344076785663\t\n"
      ]
     },
     "execution_count": 156,
     "metadata": {},
     "output_type": "execute_result"
    },
    {
     "data": {
      "text/plain": [
       "# current error = 0.11270887498223\t\n"
      ]
     },
     "execution_count": 156,
     "metadata": {},
     "output_type": "execute_result"
    },
    {
     "data": {
      "text/plain": [
       "# current error = 0.11197182530006\t\n"
      ]
     },
     "execution_count": 156,
     "metadata": {},
     "output_type": "execute_result"
    },
    {
     "data": {
      "text/plain": [
       "# current error = 0.11122724512206\t\n"
      ]
     },
     "execution_count": 156,
     "metadata": {},
     "output_type": "execute_result"
    },
    {
     "data": {
      "text/plain": [
       "# current error = 0.11047328560166\t\n"
      ]
     },
     "execution_count": 156,
     "metadata": {},
     "output_type": "execute_result"
    },
    {
     "data": {
      "text/plain": [
       "# current error = 0.10970855468271\t\n"
      ]
     },
     "execution_count": 156,
     "metadata": {},
     "output_type": "execute_result"
    },
    {
     "data": {
      "text/plain": [
       "# current error = 0.10893205539756\t\n"
      ]
     },
     "execution_count": 156,
     "metadata": {},
     "output_type": "execute_result"
    },
    {
     "data": {
      "text/plain": [
       "# current error = 0.1081431280743\t\n"
      ]
     },
     "execution_count": 156,
     "metadata": {},
     "output_type": "execute_result"
    },
    {
     "data": {
      "text/plain": [
       "# current error = 0.10734139378639\t\n"
      ]
     },
     "execution_count": 156,
     "metadata": {},
     "output_type": "execute_result"
    },
    {
     "data": {
      "text/plain": [
       "# current error = 0.10652669733939\t\n"
      ]
     },
     "execution_count": 156,
     "metadata": {},
     "output_type": "execute_result"
    },
    {
     "data": {
      "text/plain": [
       "# current error = 0.10569904824658\t\n"
      ]
     },
     "execution_count": 156,
     "metadata": {},
     "output_type": "execute_result"
    },
    {
     "data": {
      "text/plain": [
       "# current error = 0.10485855897279\t\n"
      ]
     },
     "execution_count": 156,
     "metadata": {},
     "output_type": "execute_result"
    },
    {
     "data": {
      "text/plain": [
       "# current error = 0.10400537954745\t\n"
      ]
     },
     "execution_count": 156,
     "metadata": {},
     "output_type": "execute_result"
    },
    {
     "data": {
      "text/plain": [
       "# current error = 0.10313962772413\t\n"
      ]
     },
     "execution_count": 156,
     "metadata": {},
     "output_type": "execute_result"
    },
    {
     "data": {
      "text/plain": [
       "# current error = 0.10226131256838\t\n"
      ]
     },
     "execution_count": 156,
     "metadata": {},
     "output_type": "execute_result"
    },
    {
     "data": {
      "text/plain": [
       "# current error = 0.10137024728035\t\n"
      ]
     },
     "execution_count": 156,
     "metadata": {},
     "output_type": "execute_result"
    },
    {
     "data": {
      "text/plain": [
       "# current error = 0.10046594357362\t\n"
      ]
     },
     "execution_count": 156,
     "metadata": {},
     "output_type": "execute_result"
    },
    {
     "data": {
      "text/plain": [
       "# current error = 0.099547474045878\t\n"
      ]
     },
     "execution_count": 156,
     "metadata": {},
     "output_type": "execute_result"
    },
    {
     "data": {
      "text/plain": [
       "# current error = 0.098613280148622\t\n"
      ]
     },
     "execution_count": 156,
     "metadata": {},
     "output_type": "execute_result"
    },
    {
     "data": {
      "text/plain": [
       "# current error = 0.097660889673055\t\n"
      ]
     },
     "execution_count": 156,
     "metadata": {},
     "output_type": "execute_result"
    },
    {
     "data": {
      "text/plain": [
       "# current error = 0.096686488053933\t\n"
      ]
     },
     "execution_count": 156,
     "metadata": {},
     "output_type": "execute_result"
    },
    {
     "data": {
      "text/plain": [
       "# current error = 0.095684264538565\t\n"
      ]
     },
     "execution_count": 156,
     "metadata": {},
     "output_type": "execute_result"
    },
    {
     "data": {
      "text/plain": [
       "# current error = 0.094645447791284\t\n"
      ]
     },
     "execution_count": 156,
     "metadata": {},
     "output_type": "execute_result"
    },
    {
     "data": {
      "text/plain": [
       "# current error = 0.093557042902003\t\n"
      ]
     },
     "execution_count": 156,
     "metadata": {},
     "output_type": "execute_result"
    },
    {
     "data": {
      "text/plain": [
       "# current error = 0.092400762179929\t\n"
      ]
     },
     "execution_count": 156,
     "metadata": {},
     "output_type": "execute_result"
    },
    {
     "data": {
      "text/plain": [
       "# current error = 0.091154149172729\t\n"
      ]
     },
     "execution_count": 156,
     "metadata": {},
     "output_type": "execute_result"
    },
    {
     "data": {
      "text/plain": [
       "# current error = 0.089798556903496\t\n"
      ]
     },
     "execution_count": 156,
     "metadata": {},
     "output_type": "execute_result"
    },
    {
     "data": {
      "text/plain": [
       "# current error = 0.088336600626878\t\n"
      ]
     },
     "execution_count": 156,
     "metadata": {},
     "output_type": "execute_result"
    },
    {
     "data": {
      "text/plain": [
       "# current error = 0.08680145029347\t\n"
      ]
     },
     "execution_count": 156,
     "metadata": {},
     "output_type": "execute_result"
    },
    {
     "data": {
      "text/plain": [
       "# current error = 0.085229569002585\t\n"
      ]
     },
     "execution_count": 156,
     "metadata": {},
     "output_type": "execute_result"
    },
    {
     "data": {
      "text/plain": [
       "# current error = 0.083628476131646\t\n"
      ]
     },
     "execution_count": 156,
     "metadata": {},
     "output_type": "execute_result"
    },
    {
     "data": {
      "text/plain": [
       "# current error = 0.081987377878886\t\n"
      ]
     },
     "execution_count": 156,
     "metadata": {},
     "output_type": "execute_result"
    },
    {
     "data": {
      "text/plain": [
       "# current error = 0.080299173752968\t\n"
      ]
     },
     "execution_count": 156,
     "metadata": {},
     "output_type": "execute_result"
    },
    {
     "data": {
      "text/plain": [
       "# current error = 0.078564686884999\t\n"
      ]
     },
     "execution_count": 156,
     "metadata": {},
     "output_type": "execute_result"
    },
    {
     "data": {
      "text/plain": [
       "# current error = 0.076789053788204\t\n"
      ]
     },
     "execution_count": 156,
     "metadata": {},
     "output_type": "execute_result"
    },
    {
     "data": {
      "text/plain": [
       "# current error = 0.074979096204334\t\n"
      ]
     },
     "execution_count": 156,
     "metadata": {},
     "output_type": "execute_result"
    },
    {
     "data": {
      "text/plain": [
       "# current error = 0.073142271793806\t\n"
      ]
     },
     "execution_count": 156,
     "metadata": {},
     "output_type": "execute_result"
    },
    {
     "data": {
      "text/plain": [
       "# current error = 0.071286285598934\t\n"
      ]
     },
     "execution_count": 156,
     "metadata": {},
     "output_type": "execute_result"
    },
    {
     "data": {
      "text/plain": [
       "# current error = 0.069418902227268\t\n"
      ]
     },
     "execution_count": 156,
     "metadata": {},
     "output_type": "execute_result"
    },
    {
     "data": {
      "text/plain": [
       "# current error = 0.067547815631561\t\n"
      ]
     },
     "execution_count": 156,
     "metadata": {},
     "output_type": "execute_result"
    },
    {
     "data": {
      "text/plain": [
       "# current error = 0.065680536799441\t\n"
      ]
     },
     "execution_count": 156,
     "metadata": {},
     "output_type": "execute_result"
    },
    {
     "data": {
      "text/plain": [
       "# current error = 0.063824288033696\t\n"
      ]
     },
     "execution_count": 156,
     "metadata": {},
     "output_type": "execute_result"
    },
    {
     "data": {
      "text/plain": [
       "# current error = 0.061985904505417\t\n"
      ]
     },
     "execution_count": 156,
     "metadata": {},
     "output_type": "execute_result"
    },
    {
     "data": {
      "text/plain": [
       "# current error = 0.060171747017412\t\n"
      ]
     },
     "execution_count": 156,
     "metadata": {},
     "output_type": "execute_result"
    },
    {
     "data": {
      "text/plain": [
       "# current error = 0.058387632612164\t\n"
      ]
     },
     "execution_count": 156,
     "metadata": {},
     "output_type": "execute_result"
    },
    {
     "data": {
      "text/plain": [
       "# current error = 0.056638786409394\t\n"
      ]
     },
     "execution_count": 156,
     "metadata": {},
     "output_type": "execute_result"
    },
    {
     "data": {
      "text/plain": [
       "# current error = 0.054929816810327\t\n"
      ]
     },
     "execution_count": 156,
     "metadata": {},
     "output_type": "execute_result"
    },
    {
     "data": {
      "text/plain": [
       "# current error = 0.053264709097155\t\n"
      ]
     },
     "execution_count": 156,
     "metadata": {},
     "output_type": "execute_result"
    },
    {
     "data": {
      "text/plain": [
       "# current error = 0.051646832242519\t\n"
      ]
     },
     "execution_count": 156,
     "metadata": {},
     "output_type": "execute_result"
    },
    {
     "data": {
      "text/plain": [
       "# current error = 0.050078955138104\t\n"
      ]
     },
     "execution_count": 156,
     "metadata": {},
     "output_type": "execute_result"
    },
    {
     "data": {
      "text/plain": [
       "# current error = 0.048563267341929\t\n"
      ]
     },
     "execution_count": 156,
     "metadata": {},
     "output_type": "execute_result"
    },
    {
     "data": {
      "text/plain": [
       "# current error = 0.047101403179664\t\n"
      ]
     },
     "execution_count": 156,
     "metadata": {},
     "output_type": "execute_result"
    },
    {
     "data": {
      "text/plain": [
       "# current error = 0.045694468947036\t\n"
      ]
     },
     "execution_count": 156,
     "metadata": {},
     "output_type": "execute_result"
    },
    {
     "data": {
      "text/plain": [
       "# current error = 0.044343073563537\t\n"
      ]
     },
     "execution_count": 156,
     "metadata": {},
     "output_type": "execute_result"
    },
    {
     "data": {
      "text/plain": [
       "# current error = 0.043047363303135\t\n"
      ]
     },
     "execution_count": 156,
     "metadata": {},
     "output_type": "execute_result"
    },
    {
     "data": {
      "text/plain": [
       "# current error = 0.04180706089542\t\n"
      ]
     },
     "execution_count": 156,
     "metadata": {},
     "output_type": "execute_result"
    },
    {
     "data": {
      "text/plain": [
       "# current error = 0.040621508779321\t\n"
      ]
     },
     "execution_count": 156,
     "metadata": {},
     "output_type": "execute_result"
    },
    {
     "data": {
      "text/plain": [
       "# current error = 0.039489715741469\t\n"
      ]
     },
     "execution_count": 156,
     "metadata": {},
     "output_type": "execute_result"
    },
    {
     "data": {
      "text/plain": [
       "# current error = 0.038410405526634\t\n"
      ]
     },
     "execution_count": 156,
     "metadata": {},
     "output_type": "execute_result"
    },
    {
     "data": {
      "text/plain": [
       "# current error = 0.037382066677729\t\n"
      ]
     },
     "execution_count": 156,
     "metadata": {},
     "output_type": "execute_result"
    },
    {
     "data": {
      "text/plain": [
       "# current error = 0.036403000934165\t\n"
      ]
     },
     "execution_count": 156,
     "metadata": {},
     "output_type": "execute_result"
    },
    {
     "data": {
      "text/plain": [
       "# current error = 0.035471369073323\t\n"
      ]
     },
     "execution_count": 156,
     "metadata": {},
     "output_type": "execute_result"
    },
    {
     "data": {
      "text/plain": [
       "# current error = 0.034585233493248\t\n"
      ]
     },
     "execution_count": 156,
     "metadata": {},
     "output_type": "execute_result"
    },
    {
     "data": {
      "text/plain": [
       "# current error = 0.03374259621242\t\n"
      ]
     },
     "execution_count": 156,
     "metadata": {},
     "output_type": "execute_result"
    },
    {
     "data": {
      "text/plain": [
       "# current error = 0.032941431906324\t\n"
      ]
     },
     "execution_count": 156,
     "metadata": {},
     "output_type": "execute_result"
    },
    {
     "data": {
      "text/plain": [
       "# current error = 0.032179715850494\t\n"
      ]
     },
     "execution_count": 156,
     "metadata": {},
     "output_type": "execute_result"
    },
    {
     "data": {
      "text/plain": [
       "# current error = 0.03145544690842\t\n"
      ]
     },
     "execution_count": 156,
     "metadata": {},
     "output_type": "execute_result"
    },
    {
     "data": {
      "text/plain": [
       "# current error = 0.030766665903545\t\n"
      ]
     },
     "execution_count": 156,
     "metadata": {},
     "output_type": "execute_result"
    },
    {
     "data": {
      "text/plain": [
       "# current error = 0.030111469839472\t\n"
      ]
     },
     "execution_count": 156,
     "metadata": {},
     "output_type": "execute_result"
    },
    {
     "data": {
      "text/plain": [
       "# current error = 0.029488022492322\t\n"
      ]
     },
     "execution_count": 156,
     "metadata": {},
     "output_type": "execute_result"
    },
    {
     "data": {
      "text/plain": [
       "# current error = 0.028894561909325\t\n"
      ]
     },
     "execution_count": 156,
     "metadata": {},
     "output_type": "execute_result"
    },
    {
     "data": {
      "text/plain": [
       "# current error = 0.028329405323861\t\n"
      ]
     },
     "execution_count": 156,
     "metadata": {},
     "output_type": "execute_result"
    },
    {
     "data": {
      "text/plain": [
       "# current error = 0.027790951953056\t\n"
      ]
     },
     "execution_count": 156,
     "metadata": {},
     "output_type": "execute_result"
    },
    {
     "data": {
      "text/plain": [
       "# current error = 0.027277684090214\t\n"
      ]
     },
     "execution_count": 156,
     "metadata": {},
     "output_type": "execute_result"
    },
    {
     "data": {
      "text/plain": [
       "# current error = 0.026788166848133\t\n"
      ]
     },
     "execution_count": 156,
     "metadata": {},
     "output_type": "execute_result"
    },
    {
     "data": {
      "text/plain": [
       "# current error = 0.026321046855279\t\n"
      ]
     },
     "execution_count": 156,
     "metadata": {},
     "output_type": "execute_result"
    },
    {
     "data": {
      "text/plain": [
       "# current error = 0.025875050157319\t\n"
      ]
     },
     "execution_count": 156,
     "metadata": {},
     "output_type": "execute_result"
    },
    {
     "data": {
      "text/plain": [
       "# current error = 0.025448979532718\t\n"
      ]
     },
     "execution_count": 156,
     "metadata": {},
     "output_type": "execute_result"
    },
    {
     "data": {
      "text/plain": [
       "# current error = 0.025041711393106\t\n"
      ]
     },
     "execution_count": 156,
     "metadata": {},
     "output_type": "execute_result"
    },
    {
     "data": {
      "text/plain": [
       "# current error = 0.024652192406709\t\n"
      ]
     },
     "execution_count": 156,
     "metadata": {},
     "output_type": "execute_result"
    },
    {
     "data": {
      "text/plain": [
       "# current error = 0.024279435955717\t\n"
      ]
     },
     "execution_count": 156,
     "metadata": {},
     "output_type": "execute_result"
    },
    {
     "data": {
      "text/plain": [
       "# current error = 0.02392251851551\t\n"
      ]
     },
     "execution_count": 156,
     "metadata": {},
     "output_type": "execute_result"
    },
    {
     "data": {
      "text/plain": [
       "# current error = 0.023580576024583\t\n"
      ]
     },
     "execution_count": 156,
     "metadata": {},
     "output_type": "execute_result"
    },
    {
     "data": {
      "text/plain": [
       "# current error = 0.023252800298213\t\n"
      ]
     },
     "execution_count": 156,
     "metadata": {},
     "output_type": "execute_result"
    },
    {
     "data": {
      "text/plain": [
       "# current error = 0.022938435531494\t\n"
      ]
     },
     "execution_count": 156,
     "metadata": {},
     "output_type": "execute_result"
    },
    {
     "data": {
      "text/plain": [
       "# current error = 0.022636774925403\t\n"
      ]
     },
     "execution_count": 156,
     "metadata": {},
     "output_type": "execute_result"
    },
    {
     "data": {
      "text/plain": [
       "# current error = 0.022347157355173\t\n"
      ]
     },
     "execution_count": 156,
     "metadata": {},
     "output_type": "execute_result"
    },
    {
     "data": {
      "text/plain": [
       "# current error = 0.022068964352492\t\n"
      ]
     },
     "execution_count": 156,
     "metadata": {},
     "output_type": "execute_result"
    },
    {
     "data": {
      "text/plain": [
       "# current error = 0.021801617127013\t\n"
      ]
     },
     "execution_count": 156,
     "metadata": {},
     "output_type": "execute_result"
    },
    {
     "data": {
      "text/plain": [
       "# current error = 0.021544573781168\t\n"
      ]
     },
     "execution_count": 156,
     "metadata": {},
     "output_type": "execute_result"
    },
    {
     "data": {
      "text/plain": [
       "# current error = 0.021297326688733\t\n"
      ]
     },
     "execution_count": 156,
     "metadata": {},
     "output_type": "execute_result"
    },
    {
     "data": {
      "text/plain": [
       "# current error = 0.021059400035889\t\n"
      ]
     },
     "execution_count": 156,
     "metadata": {},
     "output_type": "execute_result"
    },
    {
     "data": {
      "text/plain": [
       "# current error = 0.020830347521622\t\n"
      ]
     },
     "execution_count": 156,
     "metadata": {},
     "output_type": "execute_result"
    },
    {
     "data": {
      "text/plain": [
       "# current error = 0.020609750212854\t\n"
      ]
     },
     "execution_count": 156,
     "metadata": {},
     "output_type": "execute_result"
    },
    {
     "data": {
      "text/plain": [
       "# current error = 0.020397214548632\t\n"
      ]
     },
     "execution_count": 156,
     "metadata": {},
     "output_type": "execute_result"
    },
    {
     "data": {
      "text/plain": [
       "# current error = 0.020192370486972\t"
      ]
     },
     "execution_count": 156,
     "metadata": {},
     "output_type": "execute_result"
    },
    {
     "data": {
      "text/plain": [
       "\n"
      ]
     },
     "execution_count": 156,
     "metadata": {},
     "output_type": "execute_result"
    },
    {
     "data": {
      "text/plain": [
       "# current error = 0.019994869787461\t\n"
      ]
     },
     "execution_count": 156,
     "metadata": {},
     "output_type": "execute_result"
    },
    {
     "data": {
      "text/plain": [
       "# current error = 0.019804384422423\t\n"
      ]
     },
     "execution_count": 156,
     "metadata": {},
     "output_type": "execute_result"
    },
    {
     "data": {
      "text/plain": [
       "# current error = 0.019620605109303\t\n"
      ]
     },
     "execution_count": 156,
     "metadata": {},
     "output_type": "execute_result"
    },
    {
     "data": {
      "text/plain": [
       "# current error = 0.019443239956891\t\n"
      ]
     },
     "execution_count": 156,
     "metadata": {},
     "output_type": "execute_result"
    },
    {
     "data": {
      "text/plain": [
       "# current error = 0.019272013218095\t\n"
      ]
     },
     "execution_count": 156,
     "metadata": {},
     "output_type": "execute_result"
    },
    {
     "data": {
      "text/plain": [
       "# current error = 0.019106664142088\t\n"
      ]
     },
     "execution_count": 156,
     "metadata": {},
     "output_type": "execute_result"
    },
    {
     "data": {
      "text/plain": [
       "# current error = 0.018946945918864\t\n"
      ]
     },
     "execution_count": 156,
     "metadata": {},
     "output_type": "execute_result"
    },
    {
     "data": {
      "text/plain": [
       "# current error = 0.018792624709475\t\n"
      ]
     },
     "execution_count": 156,
     "metadata": {},
     "output_type": "execute_result"
    },
    {
     "data": {
      "text/plain": [
       "# current error = 0.018643478755497\t\n"
      ]
     },
     "execution_count": 156,
     "metadata": {},
     "output_type": "execute_result"
    },
    {
     "data": {
      "text/plain": [
       "# current error = 0.018499297561567\t\n"
      ]
     },
     "execution_count": 156,
     "metadata": {},
     "output_type": "execute_result"
    },
    {
     "data": {
      "text/plain": [
       "# current error = 0.018359881145149\t\n"
      ]
     },
     "execution_count": 156,
     "metadata": {},
     "output_type": "execute_result"
    },
    {
     "data": {
      "text/plain": [
       "# current error = 0.018225039348019\t\n"
      ]
     },
     "execution_count": 156,
     "metadata": {},
     "output_type": "execute_result"
    },
    {
     "data": {
      "text/plain": [
       "# current error = 0.018094591204292\t\n"
      ]
     },
     "execution_count": 156,
     "metadata": {},
     "output_type": "execute_result"
    },
    {
     "data": {
      "text/plain": [
       "# current error = 0.017968364360129\t\n"
      ]
     },
     "execution_count": 156,
     "metadata": {},
     "output_type": "execute_result"
    },
    {
     "data": {
      "text/plain": [
       "# current error = 0.017846194540625\t\n"
      ]
     },
     "execution_count": 156,
     "metadata": {},
     "output_type": "execute_result"
    },
    {
     "data": {
      "text/plain": [
       "# current error = 0.017727925059683\t\n"
      ]
     },
     "execution_count": 156,
     "metadata": {},
     "output_type": "execute_result"
    },
    {
     "data": {
      "text/plain": [
       "# current error = 0.017613406368995\t\n"
      ]
     },
     "execution_count": 156,
     "metadata": {},
     "output_type": "execute_result"
    },
    {
     "data": {
      "text/plain": [
       "# current error = 0.017502495642584\t\n"
      ]
     },
     "execution_count": 156,
     "metadata": {},
     "output_type": "execute_result"
    },
    {
     "data": {
      "text/plain": [
       "# current error = 0.017395056393616\t\n"
      ]
     },
     "execution_count": 156,
     "metadata": {},
     "output_type": "execute_result"
    },
    {
     "data": {
      "text/plain": [
       "# current error = 0.01729095812051\t\n"
      ]
     },
     "execution_count": 156,
     "metadata": {},
     "output_type": "execute_result"
    },
    {
     "data": {
      "text/plain": [
       "# current error = 0.017190075979604\t\n"
      ]
     },
     "execution_count": 156,
     "metadata": {},
     "output_type": "execute_result"
    },
    {
     "data": {
      "text/plain": [
       "# current error = 0.017092290481925\t\n"
      ]
     },
     "execution_count": 156,
     "metadata": {},
     "output_type": "execute_result"
    },
    {
     "data": {
      "text/plain": [
       "# current error = 0.01699748721179\t\n"
      ]
     },
     "execution_count": 156,
     "metadata": {},
     "output_type": "execute_result"
    },
    {
     "data": {
      "text/plain": [
       "# current error = 0.016905556565244\t\n"
      ]
     },
     "execution_count": 156,
     "metadata": {},
     "output_type": "execute_result"
    },
    {
     "data": {
      "text/plain": [
       "# current error = 0.016816393506472\t\n"
      ]
     },
     "execution_count": 156,
     "metadata": {},
     "output_type": "execute_result"
    },
    {
     "data": {
      "text/plain": [
       "# current error = 0.016729897340578\t\n"
      ]
     },
     "execution_count": 156,
     "metadata": {},
     "output_type": "execute_result"
    },
    {
     "data": {
      "text/plain": [
       "# current error = 0.016645971501221\t\n"
      ]
     },
     "execution_count": 156,
     "metadata": {},
     "output_type": "execute_result"
    },
    {
     "data": {
      "text/plain": [
       "# current error = 0.016564523351805\t\n"
      ]
     },
     "execution_count": 156,
     "metadata": {},
     "output_type": "execute_result"
    },
    {
     "data": {
      "text/plain": [
       "# current error = 0.016485463999036\t\n"
      ]
     },
     "execution_count": 156,
     "metadata": {},
     "output_type": "execute_result"
    },
    {
     "data": {
      "text/plain": [
       "# current error = 0.016408708117769\t\n"
      ]
     },
     "execution_count": 156,
     "metadata": {},
     "output_type": "execute_result"
    },
    {
     "data": {
      "text/plain": [
       "# current error = 0.016334173786214\t\n"
      ]
     },
     "execution_count": 156,
     "metadata": {},
     "output_type": "execute_result"
    },
    {
     "data": {
      "text/plain": [
       "# current error = 0.016261782330652\t\n"
      ]
     },
     "execution_count": 156,
     "metadata": {},
     "output_type": "execute_result"
    },
    {
     "data": {
      "text/plain": [
       "# current error = 0.016191458178883\t\n"
      ]
     },
     "execution_count": 156,
     "metadata": {},
     "output_type": "execute_result"
    },
    {
     "data": {
      "text/plain": [
       "# current error = 0.016123128721752\t\n"
      ]
     },
     "execution_count": 156,
     "metadata": {},
     "output_type": "execute_result"
    },
    {
     "data": {
      "text/plain": [
       "# current error = 0.016056724182131\t\n"
      ]
     },
     "execution_count": 156,
     "metadata": {},
     "output_type": "execute_result"
    },
    {
     "data": {
      "text/plain": [
       "# current error = 0.015992177490812\t\n"
      ]
     },
     "execution_count": 156,
     "metadata": {},
     "output_type": "execute_result"
    },
    {
     "data": {
      "text/plain": [
       "# current error = 0.015929424168831\t\n"
      ]
     },
     "execution_count": 156,
     "metadata": {},
     "output_type": "execute_result"
    },
    {
     "data": {
      "text/plain": [
       "# current error = 0.015868402215769\t\n"
      ]
     },
     "execution_count": 156,
     "metadata": {},
     "output_type": "execute_result"
    },
    {
     "data": {
      "text/plain": [
       "# current error = 0.015809052003646\t\n"
      ]
     },
     "execution_count": 156,
     "metadata": {},
     "output_type": "execute_result"
    },
    {
     "data": {
      "text/plain": [
       "# current error = 0.015751316176037\t\n"
      ]
     },
     "execution_count": 156,
     "metadata": {},
     "output_type": "execute_result"
    },
    {
     "data": {
      "text/plain": [
       "# current error = 0.015695139552092\t\n"
      ]
     },
     "execution_count": 156,
     "metadata": {},
     "output_type": "execute_result"
    },
    {
     "data": {
      "text/plain": [
       "# current error = 0.01564046903516\t\n"
      ]
     },
     "execution_count": 156,
     "metadata": {},
     "output_type": "execute_result"
    },
    {
     "data": {
      "text/plain": [
       "# current error = 0.015587253525749\t\n"
      ]
     },
     "execution_count": 156,
     "metadata": {},
     "output_type": "execute_result"
    },
    {
     "data": {
      "text/plain": [
       "# current error = 0.015535443838563\t\n"
      ]
     },
     "execution_count": 156,
     "metadata": {},
     "output_type": "execute_result"
    },
    {
     "data": {
      "text/plain": [
       "# current error = 0.015484992623411\t\n"
      ]
     },
     "execution_count": 156,
     "metadata": {},
     "output_type": "execute_result"
    },
    {
     "data": {
      "text/plain": [
       "# current error = 0.01543585428975\t\n"
      ]
     },
     "execution_count": 156,
     "metadata": {},
     "output_type": "execute_result"
    },
    {
     "data": {
      "text/plain": [
       "# current error = 0.015387984934688\t\n"
      ]
     },
     "execution_count": 156,
     "metadata": {},
     "output_type": "execute_result"
    },
    {
     "data": {
      "text/plain": [
       "# current error = 0.015341342274263\t\n"
      ]
     },
     "execution_count": 156,
     "metadata": {},
     "output_type": "execute_result"
    },
    {
     "data": {
      "text/plain": [
       "# current error = 0.015295885577818\t\n"
      ]
     },
     "execution_count": 156,
     "metadata": {},
     "output_type": "execute_result"
    },
    {
     "data": {
      "text/plain": [
       "# current error = 0.015251575605332\t\n"
      ]
     },
     "execution_count": 156,
     "metadata": {},
     "output_type": "execute_result"
    },
    {
     "data": {
      "text/plain": [
       "# current error = 0.015208374547551\t\n"
      ]
     },
     "execution_count": 156,
     "metadata": {},
     "output_type": "execute_result"
    },
    {
     "data": {
      "text/plain": [
       "# current error = 0.015166245968778\t\n"
      ]
     },
     "execution_count": 156,
     "metadata": {},
     "output_type": "execute_result"
    },
    {
     "data": {
      "text/plain": [
       "# current error = 0.015125154752204\t\n"
      ]
     },
     "execution_count": 156,
     "metadata": {},
     "output_type": "execute_result"
    },
    {
     "data": {
      "text/plain": [
       "# current error = 0.015085067047644\t\n"
      ]
     },
     "execution_count": 156,
     "metadata": {},
     "output_type": "execute_result"
    },
    {
     "data": {
      "text/plain": [
       "# current error = 0.015045950221577\t\n"
      ]
     },
     "execution_count": 156,
     "metadata": {},
     "output_type": "execute_result"
    },
    {
     "data": {
      "text/plain": [
       "# current error = 0.015007772809368\t\n"
      ]
     },
     "execution_count": 156,
     "metadata": {},
     "output_type": "execute_result"
    },
    {
     "data": {
      "text/plain": [
       "# current error = 0.014970504469576\t\n"
      ]
     },
     "execution_count": 156,
     "metadata": {},
     "output_type": "execute_result"
    },
    {
     "data": {
      "text/plain": [
       "# current error = 0.014934115940249\t\n"
      ]
     },
     "execution_count": 156,
     "metadata": {},
     "output_type": "execute_result"
    },
    {
     "data": {
      "text/plain": [
       "# current error = 0.014898578997115\t\n"
      ]
     },
     "execution_count": 156,
     "metadata": {},
     "output_type": "execute_result"
    },
    {
     "data": {
      "text/plain": [
       "# current error = 0.014863866413571\t\n"
      ]
     },
     "execution_count": 156,
     "metadata": {},
     "output_type": "execute_result"
    },
    {
     "data": {
      "text/plain": [
       "# current error = 0.014829951922401\t\n"
      ]
     },
     "execution_count": 156,
     "metadata": {},
     "output_type": "execute_result"
    },
    {
     "data": {
      "text/plain": [
       "# current error = 0.014796810179132\t\n"
      ]
     },
     "execution_count": 156,
     "metadata": {},
     "output_type": "execute_result"
    },
    {
     "data": {
      "text/plain": [
       "# current error = 0.014764416726954\t\n"
      ]
     },
     "execution_count": 156,
     "metadata": {},
     "output_type": "execute_result"
    },
    {
     "data": {
      "text/plain": [
       "# current error = 0.01473274796314\t\n"
      ]
     },
     "execution_count": 156,
     "metadata": {},
     "output_type": "execute_result"
    },
    {
     "data": {
      "text/plain": [
       "# current error = 0.014701781106877\t\n"
      ]
     },
     "execution_count": 156,
     "metadata": {},
     "output_type": "execute_result"
    },
    {
     "data": {
      "text/plain": [
       "# current error = 0.014671494168473\t\n"
      ]
     },
     "execution_count": 156,
     "metadata": {},
     "output_type": "execute_result"
    },
    {
     "data": {
      "text/plain": [
       "# current error = 0.014641865919844\t\n"
      ]
     },
     "execution_count": 156,
     "metadata": {},
     "output_type": "execute_result"
    },
    {
     "data": {
      "text/plain": [
       "# current error = 0.014612875866249\t\n"
      ]
     },
     "execution_count": 156,
     "metadata": {},
     "output_type": "execute_result"
    },
    {
     "data": {
      "text/plain": [
       "# current error = 0.014584504219197\t\n"
      ]
     },
     "execution_count": 156,
     "metadata": {},
     "output_type": "execute_result"
    },
    {
     "data": {
      "text/plain": [
       "# current error = 0.014556731870487\t\n"
      ]
     },
     "execution_count": 156,
     "metadata": {},
     "output_type": "execute_result"
    },
    {
     "data": {
      "text/plain": [
       "# current error = 0.014529540367315\t\n"
      ]
     },
     "execution_count": 156,
     "metadata": {},
     "output_type": "execute_result"
    },
    {
     "data": {
      "text/plain": [
       "# current error = 0.014502911888411\t\n"
      ]
     },
     "execution_count": 156,
     "metadata": {},
     "output_type": "execute_result"
    },
    {
     "data": {
      "text/plain": [
       "# current error = 0.014476829221155\t\n"
      ]
     },
     "execution_count": 156,
     "metadata": {},
     "output_type": "execute_result"
    },
    {
     "data": {
      "text/plain": [
       "# current error = 0.014451275739618\t\n"
      ]
     },
     "execution_count": 156,
     "metadata": {},
     "output_type": "execute_result"
    },
    {
     "data": {
      "text/plain": [
       "# current error = 0.01442623538351\t\n"
      ]
     },
     "execution_count": 156,
     "metadata": {},
     "output_type": "execute_result"
    },
    {
     "data": {
      "text/plain": [
       "# current error = 0.014401692637959\t\n"
      ]
     },
     "execution_count": 156,
     "metadata": {},
     "output_type": "execute_result"
    },
    {
     "data": {
      "text/plain": [
       "# current error = 0.014377632514124\t\n"
      ]
     },
     "execution_count": 156,
     "metadata": {},
     "output_type": "execute_result"
    },
    {
     "data": {
      "text/plain": [
       "# current error = 0.014354040530563\t\n"
      ]
     },
     "execution_count": 156,
     "metadata": {},
     "output_type": "execute_result"
    },
    {
     "data": {
      "text/plain": [
       "# current error = 0.014330902695354\t\n"
      ]
     },
     "execution_count": 156,
     "metadata": {},
     "output_type": "execute_result"
    },
    {
     "data": {
      "text/plain": [
       "# current error = 0.014308205488923\t\n"
      ]
     },
     "execution_count": 156,
     "metadata": {},
     "output_type": "execute_result"
    },
    {
     "data": {
      "text/plain": [
       "# current error = 0.014285935847539\t\n"
      ]
     },
     "execution_count": 156,
     "metadata": {},
     "output_type": "execute_result"
    },
    {
     "data": {
      "text/plain": [
       "# current error = 0.014264081147463\t\n"
      ]
     },
     "execution_count": 156,
     "metadata": {},
     "output_type": "execute_result"
    },
    {
     "data": {
      "text/plain": [
       "# current error = 0.014242629189709\t\n"
      ]
     },
     "execution_count": 156,
     "metadata": {},
     "output_type": "execute_result"
    },
    {
     "data": {
      "text/plain": [
       "# current error = 0.014221568185393\t\n"
      ]
     },
     "execution_count": 156,
     "metadata": {},
     "output_type": "execute_result"
    },
    {
     "data": {
      "text/plain": [
       "# current error = 0.01420088674165\t\n"
      ]
     },
     "execution_count": 156,
     "metadata": {},
     "output_type": "execute_result"
    },
    {
     "data": {
      "text/plain": [
       "# current error = 0.01418057384808\t\n"
      ]
     },
     "execution_count": 156,
     "metadata": {},
     "output_type": "execute_result"
    },
    {
     "data": {
      "text/plain": [
       "# current error = 0.014160618863721\t\n"
      ]
     },
     "execution_count": 156,
     "metadata": {},
     "output_type": "execute_result"
    },
    {
     "data": {
      "text/plain": [
       "# current error = 0.014141011504499\t\n"
      ]
     },
     "execution_count": 156,
     "metadata": {},
     "output_type": "execute_result"
    },
    {
     "data": {
      "text/plain": [
       "# current error = 0.014121741831159\t\n"
      ]
     },
     "execution_count": 156,
     "metadata": {},
     "output_type": "execute_result"
    },
    {
     "data": {
      "text/plain": [
       "# current error = 0.014102800237642\t\n"
      ]
     },
     "execution_count": 156,
     "metadata": {},
     "output_type": "execute_result"
    },
    {
     "data": {
      "text/plain": [
       "# current error = 0.014084177439889\t\n"
      ]
     },
     "execution_count": 156,
     "metadata": {},
     "output_type": "execute_result"
    },
    {
     "data": {
      "text/plain": [
       "# current error = 0.014065864465063\t\n"
      ]
     },
     "execution_count": 156,
     "metadata": {},
     "output_type": "execute_result"
    },
    {
     "data": {
      "text/plain": [
       "# current error = 0.014047852641159\t\n"
      ]
     },
     "execution_count": 156,
     "metadata": {},
     "output_type": "execute_result"
    },
    {
     "data": {
      "text/plain": [
       "# current error = 0.014030133586994\t\n"
      ]
     },
     "execution_count": 156,
     "metadata": {},
     "output_type": "execute_result"
    },
    {
     "data": {
      "text/plain": [
       "# current error = 0.014012699202556\t\n"
      ]
     },
     "execution_count": 156,
     "metadata": {},
     "output_type": "execute_result"
    },
    {
     "data": {
      "text/plain": [
       "# current error = 0.013995541659699\t\n"
      ]
     },
     "execution_count": 156,
     "metadata": {},
     "output_type": "execute_result"
    },
    {
     "data": {
      "text/plain": [
       "# current error = 0.013978653393171\t\n"
      ]
     },
     "execution_count": 156,
     "metadata": {},
     "output_type": "execute_result"
    },
    {
     "data": {
      "text/plain": [
       "# current error = 0.013962027091956\t\n"
      ]
     },
     "execution_count": 156,
     "metadata": {},
     "output_type": "execute_result"
    },
    {
     "data": {
      "text/plain": [
       "# current error = 0.013945655690923\t\n"
      ]
     },
     "execution_count": 156,
     "metadata": {},
     "output_type": "execute_result"
    },
    {
     "data": {
      "text/plain": [
       "# current error = 0.013929532362759\t\n"
      ]
     },
     "execution_count": 156,
     "metadata": {},
     "output_type": "execute_result"
    },
    {
     "data": {
      "text/plain": [
       "# current error = 0.013913650510192\t\n"
      ]
     },
     "execution_count": 156,
     "metadata": {},
     "output_type": "execute_result"
    },
    {
     "data": {
      "text/plain": [
       "# current error = 0.013898003758474\t\n"
      ]
     },
     "execution_count": 156,
     "metadata": {},
     "output_type": "execute_result"
    },
    {
     "data": {
      "text/plain": [
       "# current error = 0.013882585948118\t\n"
      ]
     },
     "execution_count": 156,
     "metadata": {},
     "output_type": "execute_result"
    },
    {
     "data": {
      "text/plain": [
       "# current error = 0.013867391127893\t\n"
      ]
     },
     "execution_count": 156,
     "metadata": {},
     "output_type": "execute_result"
    },
    {
     "data": {
      "text/plain": [
       "# current error = 0.013852413548043\t\n"
      ]
     },
     "execution_count": 156,
     "metadata": {},
     "output_type": "execute_result"
    },
    {
     "data": {
      "text/plain": [
       "# current error = 0.013837647653736\t\n"
      ]
     },
     "execution_count": 156,
     "metadata": {},
     "output_type": "execute_result"
    },
    {
     "data": {
      "text/plain": [
       "# current error = 0.013823088078737\t\n"
      ]
     },
     "execution_count": 156,
     "metadata": {},
     "output_type": "execute_result"
    },
    {
     "data": {
      "text/plain": [
       "# current error = 0.013808729639283\t\n"
      ]
     },
     "execution_count": 156,
     "metadata": {},
     "output_type": "execute_result"
    },
    {
     "data": {
      "text/plain": [
       "# current error = 0.013794567328161\t\n"
      ]
     },
     "execution_count": 156,
     "metadata": {},
     "output_type": "execute_result"
    },
    {
     "data": {
      "text/plain": [
       "# current error = 0.013780596308979\t\n"
      ]
     },
     "execution_count": 156,
     "metadata": {},
     "output_type": "execute_result"
    },
    {
     "data": {
      "text/plain": [
       "# current error = 0.013766811910623\t\n"
      ]
     },
     "execution_count": 156,
     "metadata": {},
     "output_type": "execute_result"
    },
    {
     "data": {
      "text/plain": [
       "# current error = 0.013753209621893\t\n"
      ]
     },
     "execution_count": 156,
     "metadata": {},
     "output_type": "execute_result"
    },
    {
     "data": {
      "text/plain": [
       "# current error = 0.013739785086308\t\n"
      ]
     },
     "execution_count": 156,
     "metadata": {},
     "output_type": "execute_result"
    },
    {
     "data": {
      "text/plain": [
       "# current error = 0.013726534097078\t\n"
      ]
     },
     "execution_count": 156,
     "metadata": {},
     "output_type": "execute_result"
    },
    {
     "data": {
      "text/plain": [
       "# current error = 0.013713452592238\t\n"
      ]
     },
     "execution_count": 156,
     "metadata": {},
     "output_type": "execute_result"
    },
    {
     "data": {
      "text/plain": [
       "# current error = 0.013700536649924\t\n"
      ]
     },
     "execution_count": 156,
     "metadata": {},
     "output_type": "execute_result"
    },
    {
     "data": {
      "text/plain": [
       "# current error = 0.01368778248381\t\n"
      ]
     },
     "execution_count": 156,
     "metadata": {},
     "output_type": "execute_result"
    },
    {
     "data": {
      "text/plain": [
       "# current error = 0.01367518643868\t\n"
      ]
     },
     "execution_count": 156,
     "metadata": {},
     "output_type": "execute_result"
    },
    {
     "data": {
      "text/plain": [
       "# current error = 0.013662744986132\t\n"
      ]
     },
     "execution_count": 156,
     "metadata": {},
     "output_type": "execute_result"
    },
    {
     "data": {
      "text/plain": [
       "# current error = 0.013650454720427\t\n"
      ]
     },
     "execution_count": 156,
     "metadata": {},
     "output_type": "execute_result"
    },
    {
     "data": {
      "text/plain": [
       "# current error = 0.013638312354448\t\n"
      ]
     },
     "execution_count": 156,
     "metadata": {},
     "output_type": "execute_result"
    },
    {
     "data": {
      "text/plain": [
       "# current error = 0.013626314715798\t\n"
      ]
     },
     "execution_count": 156,
     "metadata": {},
     "output_type": "execute_result"
    },
    {
     "data": {
      "text/plain": [
       "# current error = 0.013614458743005\t\n"
      ]
     },
     "execution_count": 156,
     "metadata": {},
     "output_type": "execute_result"
    },
    {
     "data": {
      "text/plain": [
       "# current error = 0.013602741481846\t\n"
      ]
     },
     "execution_count": 156,
     "metadata": {},
     "output_type": "execute_result"
    },
    {
     "data": {
      "text/plain": [
       "# current error = 0.013591160081779\t\n"
      ]
     },
     "execution_count": 156,
     "metadata": {},
     "output_type": "execute_result"
    },
    {
     "data": {
      "text/plain": [
       "# current error = 0.013579711792485\t\n"
      ]
     },
     "execution_count": 156,
     "metadata": {},
     "output_type": "execute_result"
    },
    {
     "data": {
      "text/plain": [
       "# current error = 0.01356839396051\t\n"
      ]
     },
     "execution_count": 156,
     "metadata": {},
     "output_type": "execute_result"
    },
    {
     "data": {
      "text/plain": [
       "# current error = 0.013557204026005\t\n"
      ]
     },
     "execution_count": 156,
     "metadata": {},
     "output_type": "execute_result"
    },
    {
     "data": {
      "text/plain": [
       "# current error = 0.013546139519566\t\n"
      ]
     },
     "execution_count": 156,
     "metadata": {},
     "output_type": "execute_result"
    },
    {
     "data": {
      "text/plain": [
       "# current error = 0.013535198059168\t\n"
      ]
     },
     "execution_count": 156,
     "metadata": {},
     "output_type": "execute_result"
    },
    {
     "data": {
      "text/plain": [
       "# current error = 0.01352437734718\t\n"
      ]
     },
     "execution_count": 156,
     "metadata": {},
     "output_type": "execute_result"
    },
    {
     "data": {
      "text/plain": [
       "# current error = 0.013513675167481\t\n"
      ]
     },
     "execution_count": 156,
     "metadata": {},
     "output_type": "execute_result"
    },
    {
     "data": {
      "text/plain": [
       "# current error = 0.013503089382648\t\n"
      ]
     },
     "execution_count": 156,
     "metadata": {},
     "output_type": "execute_result"
    },
    {
     "data": {
      "text/plain": [
       "# current error = 0.013492617931236\t\n"
      ]
     },
     "execution_count": 156,
     "metadata": {},
     "output_type": "execute_result"
    },
    {
     "data": {
      "text/plain": [
       "# current error = 0.013482258825126\t\n"
      ]
     },
     "execution_count": 156,
     "metadata": {},
     "output_type": "execute_result"
    },
    {
     "data": {
      "text/plain": [
       "# current error = 0.013472010146964\t\n"
      ]
     },
     "execution_count": 156,
     "metadata": {},
     "output_type": "execute_result"
    },
    {
     "data": {
      "text/plain": [
       "# current error = 0.013461870047659\t\n"
      ]
     },
     "execution_count": 156,
     "metadata": {},
     "output_type": "execute_result"
    },
    {
     "data": {
      "text/plain": [
       "# current error = 0.013451836743968\t\n"
      ]
     },
     "execution_count": 156,
     "metadata": {},
     "output_type": "execute_result"
    },
    {
     "data": {
      "text/plain": [
       "# current error = 0.013441908516143\t\n"
      ]
     },
     "execution_count": 156,
     "metadata": {},
     "output_type": "execute_result"
    },
    {
     "data": {
      "text/plain": [
       "# current error = 0.013432083705645\t\n"
      ]
     },
     "execution_count": 156,
     "metadata": {},
     "output_type": "execute_result"
    },
    {
     "data": {
      "text/plain": [
       "# current error = 0.013422360712931\t\n"
      ]
     },
     "execution_count": 156,
     "metadata": {},
     "output_type": "execute_result"
    },
    {
     "data": {
      "text/plain": [
       "# current error = 0.013412737995298\t\n"
      ]
     },
     "execution_count": 156,
     "metadata": {},
     "output_type": "execute_result"
    },
    {
     "data": {
      "text/plain": [
       "# current error = 0.013403214064798\t\n"
      ]
     },
     "execution_count": 156,
     "metadata": {},
     "output_type": "execute_result"
    },
    {
     "data": {
      "text/plain": [
       "# current error = 0.013393787486204\t\n"
      ]
     },
     "execution_count": 156,
     "metadata": {},
     "output_type": "execute_result"
    },
    {
     "data": {
      "text/plain": [
       "# current error = 0.013384456875044\t\n"
      ]
     },
     "execution_count": 156,
     "metadata": {},
     "output_type": "execute_result"
    },
    {
     "data": {
      "text/plain": [
       "# current error = 0.013375220895686\t\n"
      ]
     },
     "execution_count": 156,
     "metadata": {},
     "output_type": "execute_result"
    },
    {
     "data": {
      "text/plain": [
       "# current error = 0.013366078259485\t\n"
      ]
     },
     "execution_count": 156,
     "metadata": {},
     "output_type": "execute_result"
    },
    {
     "data": {
      "text/plain": [
       "# current error = 0.013357027722979\t\n"
      ]
     },
     "execution_count": 156,
     "metadata": {},
     "output_type": "execute_result"
    },
    {
     "data": {
      "text/plain": [
       "# current error = 0.01334806808614\t\n"
      ]
     },
     "execution_count": 156,
     "metadata": {},
     "output_type": "execute_result"
    },
    {
     "data": {
      "text/plain": [
       "# current error = 0.013339198190682\t"
      ]
     },
     "execution_count": 156,
     "metadata": {},
     "output_type": "execute_result"
    },
    {
     "data": {
      "text/plain": [
       "\n"
      ]
     },
     "execution_count": 156,
     "metadata": {},
     "output_type": "execute_result"
    },
    {
     "data": {
      "text/plain": [
       "# current error = 0.013330416918408\t\n"
      ]
     },
     "execution_count": 156,
     "metadata": {},
     "output_type": "execute_result"
    },
    {
     "data": {
      "text/plain": [
       "# current error = 0.013321723189618\t\n"
      ]
     },
     "execution_count": 156,
     "metadata": {},
     "output_type": "execute_result"
    },
    {
     "data": {
      "text/plain": [
       "# current error = 0.01331311596156\t\n"
      ]
     },
     "execution_count": 156,
     "metadata": {},
     "output_type": "execute_result"
    },
    {
     "data": {
      "text/plain": [
       "# current error = 0.013304594226921\t\n"
      ]
     },
     "execution_count": 156,
     "metadata": {},
     "output_type": "execute_result"
    },
    {
     "data": {
      "text/plain": [
       "# current error = 0.013296157012377\t\n"
      ]
     },
     "execution_count": 156,
     "metadata": {},
     "output_type": "execute_result"
    },
    {
     "data": {
      "text/plain": [
       "# current error = 0.013287803377179\t\n"
      ]
     },
     "execution_count": 156,
     "metadata": {},
     "output_type": "execute_result"
    },
    {
     "data": {
      "text/plain": [
       "# current error = 0.013279532411779\t\n"
      ]
     },
     "execution_count": 156,
     "metadata": {},
     "output_type": "execute_result"
    },
    {
     "data": {
      "text/plain": [
       "# current error = 0.013271343236508\t\n"
      ]
     },
     "execution_count": 156,
     "metadata": {},
     "output_type": "execute_result"
    },
    {
     "data": {
      "text/plain": [
       "# current error = 0.013263235000288\t\n"
      ]
     },
     "execution_count": 156,
     "metadata": {},
     "output_type": "execute_result"
    },
    {
     "data": {
      "text/plain": [
       "# current error = 0.013255206879385\t\n"
      ]
     },
     "execution_count": 156,
     "metadata": {},
     "output_type": "execute_result"
    },
    {
     "data": {
      "text/plain": [
       "# current error = 0.013247258076205\t\n"
      ]
     },
     "execution_count": 156,
     "metadata": {},
     "output_type": "execute_result"
    },
    {
     "data": {
      "text/plain": [
       "# current error = 0.013239387818122\t\n"
      ]
     },
     "execution_count": 156,
     "metadata": {},
     "output_type": "execute_result"
    },
    {
     "data": {
      "text/plain": [
       "# current error = 0.013231595356353\t\n"
      ]
     },
     "execution_count": 156,
     "metadata": {},
     "output_type": "execute_result"
    },
    {
     "data": {
      "text/plain": [
       "# current error = 0.013223879964858\t\n"
      ]
     },
     "execution_count": 156,
     "metadata": {},
     "output_type": "execute_result"
    },
    {
     "data": {
      "text/plain": [
       "# current error = 0.013216240939282\t\n"
      ]
     },
     "execution_count": 156,
     "metadata": {},
     "output_type": "execute_result"
    },
    {
     "data": {
      "text/plain": [
       "# current error = 0.013208677595934\t\n"
      ]
     },
     "execution_count": 156,
     "metadata": {},
     "output_type": "execute_result"
    },
    {
     "data": {
      "text/plain": [
       "# current error = 0.013201189270795\t\n"
      ]
     },
     "execution_count": 156,
     "metadata": {},
     "output_type": "execute_result"
    },
    {
     "data": {
      "text/plain": [
       "# current error = 0.013193775318561\t\n"
      ]
     },
     "execution_count": 156,
     "metadata": {},
     "output_type": "execute_result"
    },
    {
     "data": {
      "text/plain": [
       "# current error = 0.013186435111717\t\n"
      ]
     },
     "execution_count": 156,
     "metadata": {},
     "output_type": "execute_result"
    },
    {
     "data": {
      "text/plain": [
       "# current error = 0.013179168039649\t\n"
      ]
     },
     "execution_count": 156,
     "metadata": {},
     "output_type": "execute_result"
    },
    {
     "data": {
      "text/plain": [
       "# current error = 0.013171973507775\t\n"
      ]
     },
     "execution_count": 156,
     "metadata": {},
     "output_type": "execute_result"
    },
    {
     "data": {
      "text/plain": [
       "# current error = 0.013164850936717\t\n"
      ]
     },
     "execution_count": 156,
     "metadata": {},
     "output_type": "execute_result"
    },
    {
     "data": {
      "text/plain": [
       "# current error = 0.0131577997615\t\n"
      ]
     },
     "execution_count": 156,
     "metadata": {},
     "output_type": "execute_result"
    },
    {
     "data": {
      "text/plain": [
       "# current error = 0.013150819430771\t\n"
      ]
     },
     "execution_count": 156,
     "metadata": {},
     "output_type": "execute_result"
    },
    {
     "data": {
      "text/plain": [
       "# current error = 0.013143909406062\t\n"
      ]
     },
     "execution_count": 156,
     "metadata": {},
     "output_type": "execute_result"
    },
    {
     "data": {
      "text/plain": [
       "# current error = 0.013137069161064\t\n"
      ]
     },
     "execution_count": 156,
     "metadata": {},
     "output_type": "execute_result"
    },
    {
     "data": {
      "text/plain": [
       "# current error = 0.013130298180938\t\n"
      ]
     },
     "execution_count": 156,
     "metadata": {},
     "output_type": "execute_result"
    },
    {
     "data": {
      "text/plain": [
       "# current error = 0.013123595961648\t\n"
      ]
     },
     "execution_count": 156,
     "metadata": {},
     "output_type": "execute_result"
    },
    {
     "data": {
      "text/plain": [
       "# current error = 0.01311696200932\t\n"
      ]
     },
     "execution_count": 156,
     "metadata": {},
     "output_type": "execute_result"
    },
    {
     "data": {
      "text/plain": [
       "# current error = 0.013110395839629\t\n"
      ]
     },
     "execution_count": 156,
     "metadata": {},
     "output_type": "execute_result"
    },
    {
     "data": {
      "text/plain": [
       "# current error = 0.0131038969772\t\n"
      ]
     },
     "execution_count": 156,
     "metadata": {},
     "output_type": "execute_result"
    },
    {
     "data": {
      "text/plain": [
       "# current error = 0.013097464955048\t\n"
      ]
     },
     "execution_count": 156,
     "metadata": {},
     "output_type": "execute_result"
    },
    {
     "data": {
      "text/plain": [
       "# current error = 0.013091099314024\t\n"
      ]
     },
     "execution_count": 156,
     "metadata": {},
     "output_type": "execute_result"
    },
    {
     "data": {
      "text/plain": [
       "# current error = 0.013084799602301\t\n"
      ]
     },
     "execution_count": 156,
     "metadata": {},
     "output_type": "execute_result"
    },
    {
     "data": {
      "text/plain": [
       "# current error = 0.013078565374862\t\n"
      ]
     },
     "execution_count": 156,
     "metadata": {},
     "output_type": "execute_result"
    },
    {
     "data": {
      "text/plain": [
       "# current error = 0.013072396193028\t\n"
      ]
     },
     "execution_count": 156,
     "metadata": {},
     "output_type": "execute_result"
    },
    {
     "data": {
      "text/plain": [
       "# current error = 0.013066291623994\t\n"
      ]
     },
     "execution_count": 156,
     "metadata": {},
     "output_type": "execute_result"
    },
    {
     "data": {
      "text/plain": [
       "# current error = 0.013060251240391\t\n"
      ]
     },
     "execution_count": 156,
     "metadata": {},
     "output_type": "execute_result"
    },
    {
     "data": {
      "text/plain": [
       "# current error = 0.013054274619867\t\n"
      ]
     },
     "execution_count": 156,
     "metadata": {},
     "output_type": "execute_result"
    },
    {
     "data": {
      "text/plain": [
       "# current error = 0.01304836134468\t\n"
      ]
     },
     "execution_count": 156,
     "metadata": {},
     "output_type": "execute_result"
    },
    {
     "data": {
      "text/plain": [
       "# current error = 0.013042511001324\t\n"
      ]
     },
     "execution_count": 156,
     "metadata": {},
     "output_type": "execute_result"
    },
    {
     "data": {
      "text/plain": [
       "# current error = 0.013036723180157\t\n"
      ]
     },
     "execution_count": 156,
     "metadata": {},
     "output_type": "execute_result"
    },
    {
     "data": {
      "text/plain": [
       "# current error = 0.01303099747506\t\n"
      ]
     },
     "execution_count": 156,
     "metadata": {},
     "output_type": "execute_result"
    },
    {
     "data": {
      "text/plain": [
       "# current error = 0.013025333483102\t\n"
      ]
     },
     "execution_count": 156,
     "metadata": {},
     "output_type": "execute_result"
    },
    {
     "data": {
      "text/plain": [
       "# current error = 0.013019730804228\t\n"
      ]
     },
     "execution_count": 156,
     "metadata": {},
     "output_type": "execute_result"
    },
    {
     "data": {
      "text/plain": [
       "# current error = 0.013014189040963\t\n"
      ]
     },
     "execution_count": 156,
     "metadata": {},
     "output_type": "execute_result"
    },
    {
     "data": {
      "text/plain": [
       "# current error = 0.01300870779813\t\n"
      ]
     },
     "execution_count": 156,
     "metadata": {},
     "output_type": "execute_result"
    },
    {
     "data": {
      "text/plain": [
       "# current error = 0.013003286682579\t\n"
      ]
     },
     "execution_count": 156,
     "metadata": {},
     "output_type": "execute_result"
    },
    {
     "data": {
      "text/plain": [
       "# current error = 0.012997925302943\t\n"
      ]
     },
     "execution_count": 156,
     "metadata": {},
     "output_type": "execute_result"
    },
    {
     "data": {
      "text/plain": [
       "# current error = 0.01299262326939\t\n"
      ]
     },
     "execution_count": 156,
     "metadata": {},
     "output_type": "execute_result"
    },
    {
     "data": {
      "text/plain": [
       "# current error = 0.012987380193409\t\n"
      ]
     },
     "execution_count": 156,
     "metadata": {},
     "output_type": "execute_result"
    },
    {
     "data": {
      "text/plain": [
       "# current error = 0.012982195687591\t\n"
      ]
     },
     "execution_count": 156,
     "metadata": {},
     "output_type": "execute_result"
    },
    {
     "data": {
      "text/plain": [
       "# current error = 0.012977069365439\t\n"
      ]
     },
     "execution_count": 156,
     "metadata": {},
     "output_type": "execute_result"
    },
    {
     "data": {
      "text/plain": [
       "# current error = 0.012972000841174\t\n"
      ]
     },
     "execution_count": 156,
     "metadata": {},
     "output_type": "execute_result"
    },
    {
     "data": {
      "text/plain": [
       "# current error = 0.012966989729571\t\n"
      ]
     },
     "execution_count": 156,
     "metadata": {},
     "output_type": "execute_result"
    },
    {
     "data": {
      "text/plain": [
       "# current error = 0.012962035645793\t\n"
      ]
     },
     "execution_count": 156,
     "metadata": {},
     "output_type": "execute_result"
    },
    {
     "data": {
      "text/plain": [
       "# current error = 0.012957138205239\t\n"
      ]
     },
     "execution_count": 156,
     "metadata": {},
     "output_type": "execute_result"
    },
    {
     "data": {
      "text/plain": [
       "# current error = 0.012952297023412\t\n"
      ]
     },
     "execution_count": 156,
     "metadata": {},
     "output_type": "execute_result"
    },
    {
     "data": {
      "text/plain": [
       "# current error = 0.012947511715785\t\n"
      ]
     },
     "execution_count": 156,
     "metadata": {},
     "output_type": "execute_result"
    },
    {
     "data": {
      "text/plain": [
       "# current error = 0.012942781897685\t\n"
      ]
     },
     "execution_count": 156,
     "metadata": {},
     "output_type": "execute_result"
    },
    {
     "data": {
      "text/plain": [
       "# current error = 0.012938107184184\t\n"
      ]
     },
     "execution_count": 156,
     "metadata": {},
     "output_type": "execute_result"
    },
    {
     "data": {
      "text/plain": [
       "# current error = 0.012933487190004\t\n"
      ]
     },
     "execution_count": 156,
     "metadata": {},
     "output_type": "execute_result"
    },
    {
     "data": {
      "text/plain": [
       "# current error = 0.012928921529422\t\n"
      ]
     },
     "execution_count": 156,
     "metadata": {},
     "output_type": "execute_result"
    },
    {
     "data": {
      "text/plain": [
       "# current error = 0.012924409816194\t\n"
      ]
     },
     "execution_count": 156,
     "metadata": {},
     "output_type": "execute_result"
    },
    {
     "data": {
      "text/plain": [
       "# current error = 0.012919951663482\t\n"
      ]
     },
     "execution_count": 156,
     "metadata": {},
     "output_type": "execute_result"
    },
    {
     "data": {
      "text/plain": [
       "# current error = 0.012915546683791\t\n"
      ]
     },
     "execution_count": 156,
     "metadata": {},
     "output_type": "execute_result"
    },
    {
     "data": {
      "text/plain": [
       "# current error = 0.012911194488909\t\n"
      ]
     },
     "execution_count": 156,
     "metadata": {},
     "output_type": "execute_result"
    },
    {
     "data": {
      "text/plain": [
       "# current error = 0.012906894689866\t\n"
      ]
     },
     "execution_count": 156,
     "metadata": {},
     "output_type": "execute_result"
    },
    {
     "data": {
      "text/plain": [
       "# current error = 0.012902646896887\t\n"
      ]
     },
     "execution_count": 156,
     "metadata": {},
     "output_type": "execute_result"
    },
    {
     "data": {
      "text/plain": [
       "# current error = 0.012898450719361\t\n"
      ]
     },
     "execution_count": 156,
     "metadata": {},
     "output_type": "execute_result"
    },
    {
     "data": {
      "text/plain": [
       "# current error = 0.012894305765813\t\n"
      ]
     },
     "execution_count": 156,
     "metadata": {},
     "output_type": "execute_result"
    },
    {
     "data": {
      "text/plain": [
       "# current error = 0.012890211643885\t\n"
      ]
     },
     "execution_count": 156,
     "metadata": {},
     "output_type": "execute_result"
    },
    {
     "data": {
      "text/plain": [
       "# current error = 0.012886167960316\t\n"
      ]
     },
     "execution_count": 156,
     "metadata": {},
     "output_type": "execute_result"
    },
    {
     "data": {
      "text/plain": [
       "# current error = 0.012882174320942\t\n"
      ]
     },
     "execution_count": 156,
     "metadata": {},
     "output_type": "execute_result"
    },
    {
     "data": {
      "text/plain": [
       "# current error = 0.012878230330686\t\n"
      ]
     },
     "execution_count": 156,
     "metadata": {},
     "output_type": "execute_result"
    },
    {
     "data": {
      "text/plain": [
       "# current error = 0.012874335593561\t\n"
      ]
     },
     "execution_count": 156,
     "metadata": {},
     "output_type": "execute_result"
    },
    {
     "data": {
      "text/plain": [
       "# current error = 0.012870489712682\t\n"
      ]
     },
     "execution_count": 156,
     "metadata": {},
     "output_type": "execute_result"
    },
    {
     "data": {
      "text/plain": [
       "# current error = 0.012866692290272\t\n"
      ]
     },
     "execution_count": 156,
     "metadata": {},
     "output_type": "execute_result"
    },
    {
     "data": {
      "text/plain": [
       "# current error = 0.012862942927684\t\n"
      ]
     },
     "execution_count": 156,
     "metadata": {},
     "output_type": "execute_result"
    },
    {
     "data": {
      "text/plain": [
       "# current error = 0.01285924122542\t\n"
      ]
     },
     "execution_count": 156,
     "metadata": {},
     "output_type": "execute_result"
    },
    {
     "data": {
      "text/plain": [
       "# current error = 0.012855586783156\t\n"
      ]
     },
     "execution_count": 156,
     "metadata": {},
     "output_type": "execute_result"
    },
    {
     "data": {
      "text/plain": [
       "# current error = 0.012851979199773\t\n"
      ]
     },
     "execution_count": 156,
     "metadata": {},
     "output_type": "execute_result"
    },
    {
     "data": {
      "text/plain": [
       "# current error = 0.012848418073388\t\n"
      ]
     },
     "execution_count": 156,
     "metadata": {},
     "output_type": "execute_result"
    },
    {
     "data": {
      "text/plain": [
       "# current error = 0.012844903001395\t\n"
      ]
     },
     "execution_count": 156,
     "metadata": {},
     "output_type": "execute_result"
    },
    {
     "data": {
      "text/plain": [
       "# current error = 0.012841433580498\t\n"
      ]
     },
     "execution_count": 156,
     "metadata": {},
     "output_type": "execute_result"
    },
    {
     "data": {
      "text/plain": [
       "# current error = 0.012838009406762\t\n"
      ]
     },
     "execution_count": 156,
     "metadata": {},
     "output_type": "execute_result"
    },
    {
     "data": {
      "text/plain": [
       "# current error = 0.012834630075653\t\n"
      ]
     },
     "execution_count": 156,
     "metadata": {},
     "output_type": "execute_result"
    },
    {
     "data": {
      "text/plain": [
       "# current error = 0.01283129518209\t\n"
      ]
     },
     "execution_count": 156,
     "metadata": {},
     "output_type": "execute_result"
    },
    {
     "data": {
      "text/plain": [
       "# current error = 0.012828004320495\t\n"
      ]
     },
     "execution_count": 156,
     "metadata": {},
     "output_type": "execute_result"
    },
    {
     "data": {
      "text/plain": [
       "# current error = 0.012824757084846\t\n"
      ]
     },
     "execution_count": 156,
     "metadata": {},
     "output_type": "execute_result"
    },
    {
     "data": {
      "text/plain": [
       "# current error = 0.012821553068737\t\n"
      ]
     },
     "execution_count": 156,
     "metadata": {},
     "output_type": "execute_result"
    },
    {
     "data": {
      "text/plain": [
       "# current error = 0.012818391865432\t\n"
      ]
     },
     "execution_count": 156,
     "metadata": {},
     "output_type": "execute_result"
    },
    {
     "data": {
      "text/plain": [
       "# current error = 0.012815273067924\t\n"
      ]
     },
     "execution_count": 156,
     "metadata": {},
     "output_type": "execute_result"
    },
    {
     "data": {
      "text/plain": [
       "# current error = 0.012812196269\t\n"
      ]
     },
     "execution_count": 156,
     "metadata": {},
     "output_type": "execute_result"
    },
    {
     "data": {
      "text/plain": [
       "# current error = 0.012809161061305\t\n"
      ]
     },
     "execution_count": 156,
     "metadata": {},
     "output_type": "execute_result"
    },
    {
     "data": {
      "text/plain": [
       "# current error = 0.012806167037401\t\n"
      ]
     },
     "execution_count": 156,
     "metadata": {},
     "output_type": "execute_result"
    },
    {
     "data": {
      "text/plain": [
       "# current error = 0.012803213789838\t\n"
      ]
     },
     "execution_count": 156,
     "metadata": {},
     "output_type": "execute_result"
    },
    {
     "data": {
      "text/plain": [
       "# current error = 0.012800300911219\t\n"
      ]
     },
     "execution_count": 156,
     "metadata": {},
     "output_type": "execute_result"
    },
    {
     "data": {
      "text/plain": [
       "# current error = 0.012797427994268\t\n"
      ]
     },
     "execution_count": 156,
     "metadata": {},
     "output_type": "execute_result"
    },
    {
     "data": {
      "text/plain": [
       "# current error = 0.012794594631899\t\n"
      ]
     },
     "execution_count": 156,
     "metadata": {},
     "output_type": "execute_result"
    },
    {
     "data": {
      "text/plain": [
       "# current error = 0.012791800417285\t\n"
      ]
     },
     "execution_count": 156,
     "metadata": {},
     "output_type": "execute_result"
    },
    {
     "data": {
      "text/plain": [
       "# current error = 0.012789044943932\t\n"
      ]
     },
     "execution_count": 156,
     "metadata": {},
     "output_type": "execute_result"
    },
    {
     "data": {
      "text/plain": [
       "# current error = 0.012786327805742\t\n"
      ]
     },
     "execution_count": 156,
     "metadata": {},
     "output_type": "execute_result"
    },
    {
     "data": {
      "text/plain": [
       "# current error = 0.012783648597093\t\n"
      ]
     },
     "execution_count": 156,
     "metadata": {},
     "output_type": "execute_result"
    },
    {
     "data": {
      "text/plain": [
       "# current error = 0.012781006912905\t\n"
      ]
     },
     "execution_count": 156,
     "metadata": {},
     "output_type": "execute_result"
    },
    {
     "data": {
      "text/plain": [
       "# current error = 0.01277840234871\t\n"
      ]
     },
     "execution_count": 156,
     "metadata": {},
     "output_type": "execute_result"
    },
    {
     "data": {
      "text/plain": [
       "# current error = 0.012775834500731\t\n"
      ]
     },
     "execution_count": 156,
     "metadata": {},
     "output_type": "execute_result"
    },
    {
     "data": {
      "text/plain": [
       "# current error = 0.012773302965946\t\n"
      ]
     },
     "execution_count": 156,
     "metadata": {},
     "output_type": "execute_result"
    },
    {
     "data": {
      "text/plain": [
       "# current error = 0.012770807342163\t\n"
      ]
     },
     "execution_count": 156,
     "metadata": {},
     "output_type": "execute_result"
    },
    {
     "data": {
      "text/plain": [
       "# current error = 0.012768347228092\t\n"
      ]
     },
     "execution_count": 156,
     "metadata": {},
     "output_type": "execute_result"
    },
    {
     "data": {
      "text/plain": [
       "# current error = 0.012765922223413\t\n"
      ]
     },
     "execution_count": 156,
     "metadata": {},
     "output_type": "execute_result"
    },
    {
     "data": {
      "text/plain": [
       "# current error = 0.012763531928851\t\n"
      ]
     },
     "execution_count": 156,
     "metadata": {},
     "output_type": "execute_result"
    },
    {
     "data": {
      "text/plain": [
       "# current error = 0.012761175946243\t\n"
      ]
     },
     "execution_count": 156,
     "metadata": {},
     "output_type": "execute_result"
    },
    {
     "data": {
      "text/plain": [
       "# current error = 0.012758853878605\t\n"
      ]
     },
     "execution_count": 156,
     "metadata": {},
     "output_type": "execute_result"
    },
    {
     "data": {
      "text/plain": [
       "# current error = 0.012756565330209\t\n"
      ]
     },
     "execution_count": 156,
     "metadata": {},
     "output_type": "execute_result"
    },
    {
     "data": {
      "text/plain": [
       "# current error = 0.012754309906644\t\n"
      ]
     },
     "execution_count": 156,
     "metadata": {},
     "output_type": "execute_result"
    },
    {
     "data": {
      "text/plain": [
       "# current error = 0.012752087214887\t\n"
      ]
     },
     "execution_count": 156,
     "metadata": {},
     "output_type": "execute_result"
    },
    {
     "data": {
      "text/plain": [
       "# current error = 0.012749896863369\t\n"
      ]
     },
     "execution_count": 156,
     "metadata": {},
     "output_type": "execute_result"
    },
    {
     "data": {
      "text/plain": [
       "# current error = 0.01274773846204\t\n"
      ]
     },
     "execution_count": 156,
     "metadata": {},
     "output_type": "execute_result"
    },
    {
     "data": {
      "text/plain": [
       "# current error = 0.012745611622436\t\n"
      ]
     },
     "execution_count": 156,
     "metadata": {},
     "output_type": "execute_result"
    },
    {
     "data": {
      "text/plain": [
       "# current error = 0.012743515957742\t\n"
      ]
     },
     "execution_count": 156,
     "metadata": {},
     "output_type": "execute_result"
    },
    {
     "data": {
      "text/plain": [
       "# current error = 0.012741451082854\t\n"
      ]
     },
     "execution_count": 156,
     "metadata": {},
     "output_type": "execute_result"
    },
    {
     "data": {
      "text/plain": [
       "# current error = 0.012739416614442\t\n"
      ]
     },
     "execution_count": 156,
     "metadata": {},
     "output_type": "execute_result"
    },
    {
     "data": {
      "text/plain": [
       "# current error = 0.012737412171012\t\n"
      ]
     },
     "execution_count": 156,
     "metadata": {},
     "output_type": "execute_result"
    },
    {
     "data": {
      "text/plain": [
       "# current error = 0.012735437372963\t\n"
      ]
     },
     "execution_count": 156,
     "metadata": {},
     "output_type": "execute_result"
    },
    {
     "data": {
      "text/plain": [
       "# current error = 0.012733491842646\t\n"
      ]
     },
     "execution_count": 156,
     "metadata": {},
     "output_type": "execute_result"
    },
    {
     "data": {
      "text/plain": [
       "# current error = 0.012731575204422\t\n"
      ]
     },
     "execution_count": 156,
     "metadata": {},
     "output_type": "execute_result"
    },
    {
     "data": {
      "text/plain": [
       "# current error = 0.01272968708472\t\n"
      ]
     },
     "execution_count": 156,
     "metadata": {},
     "output_type": "execute_result"
    },
    {
     "data": {
      "text/plain": [
       "# current error = 0.012727827112087\t\n"
      ]
     },
     "execution_count": 156,
     "metadata": {},
     "output_type": "execute_result"
    },
    {
     "data": {
      "text/plain": [
       "# current error = 0.012725994917243\t\n"
      ]
     },
     "execution_count": 156,
     "metadata": {},
     "output_type": "execute_result"
    },
    {
     "data": {
      "text/plain": [
       "# current error = 0.012724190133136\t\n"
      ]
     },
     "execution_count": 156,
     "metadata": {},
     "output_type": "execute_result"
    },
    {
     "data": {
      "text/plain": [
       "# current error = 0.012722412394988\t\n"
      ]
     },
     "execution_count": 156,
     "metadata": {},
     "output_type": "execute_result"
    },
    {
     "data": {
      "text/plain": [
       "# current error = 0.012720661340345\t\n"
      ]
     },
     "execution_count": 156,
     "metadata": {},
     "output_type": "execute_result"
    },
    {
     "data": {
      "text/plain": [
       "# current error = 0.01271893660913\t\n"
      ]
     },
     "execution_count": 156,
     "metadata": {},
     "output_type": "execute_result"
    },
    {
     "data": {
      "text/plain": [
       "# current error = 0.01271723784368\t\n"
      ]
     },
     "execution_count": 156,
     "metadata": {},
     "output_type": "execute_result"
    },
    {
     "data": {
      "text/plain": [
       "# current error = 0.012715564688798\t\n"
      ]
     },
     "execution_count": 156,
     "metadata": {},
     "output_type": "execute_result"
    },
    {
     "data": {
      "text/plain": [
       "# current error = 0.012713916791795\t\n"
      ]
     },
     "execution_count": 156,
     "metadata": {},
     "output_type": "execute_result"
    },
    {
     "data": {
      "text/plain": [
       "# current error = 0.012712293802529\t\n"
      ]
     },
     "execution_count": 156,
     "metadata": {},
     "output_type": "execute_result"
    },
    {
     "data": {
      "text/plain": [
       "# current error = 0.012710695373447\t\n"
      ]
     },
     "execution_count": 156,
     "metadata": {},
     "output_type": "execute_result"
    },
    {
     "data": {
      "text/plain": [
       "# current error = 0.012709121159625\t\n"
      ]
     },
     "execution_count": 156,
     "metadata": {},
     "output_type": "execute_result"
    },
    {
     "data": {
      "text/plain": [
       "# current error = 0.012707570818804\t\n"
      ]
     },
     "execution_count": 156,
     "metadata": {},
     "output_type": "execute_result"
    },
    {
     "data": {
      "text/plain": [
       "# current error = 0.012706044011426\t\n"
      ]
     },
     "execution_count": 156,
     "metadata": {},
     "output_type": "execute_result"
    },
    {
     "data": {
      "text/plain": [
       "# current error = 0.012704540400667\t\n"
      ]
     },
     "execution_count": 156,
     "metadata": {},
     "output_type": "execute_result"
    },
    {
     "data": {
      "text/plain": [
       "# current error = 0.012703059652473\t\n"
      ]
     },
     "execution_count": 156,
     "metadata": {},
     "output_type": "execute_result"
    },
    {
     "data": {
      "text/plain": [
       "# current error = 0.012701601435588\t\n"
      ]
     },
     "execution_count": 156,
     "metadata": {},
     "output_type": "execute_result"
    },
    {
     "data": {
      "text/plain": [
       "# current error = 0.012700165421584\t\n"
      ]
     },
     "execution_count": 156,
     "metadata": {},
     "output_type": "execute_result"
    },
    {
     "data": {
      "text/plain": [
       "# current error = 0.012698751284893\t\n"
      ]
     },
     "execution_count": 156,
     "metadata": {},
     "output_type": "execute_result"
    },
    {
     "data": {
      "text/plain": [
       "# current error = 0.012697358702828\t\n"
      ]
     },
     "execution_count": 156,
     "metadata": {},
     "output_type": "execute_result"
    },
    {
     "data": {
      "text/plain": [
       "# current error = 0.012695987355614\t\n"
      ]
     },
     "execution_count": 156,
     "metadata": {},
     "output_type": "execute_result"
    },
    {
     "data": {
      "text/plain": [
       "# current error = 0.012694636926406\t\n"
      ]
     },
     "execution_count": 156,
     "metadata": {},
     "output_type": "execute_result"
    },
    {
     "data": {
      "text/plain": [
       "# current error = 0.012693307101316\t\n"
      ]
     },
     "execution_count": 156,
     "metadata": {},
     "output_type": "execute_result"
    },
    {
     "data": {
      "text/plain": [
       "# current error = 0.012691997569432\t\n"
      ]
     },
     "execution_count": 156,
     "metadata": {},
     "output_type": "execute_result"
    },
    {
     "data": {
      "text/plain": [
       "# current error = 0.012690708022838\t\n"
      ]
     },
     "execution_count": 156,
     "metadata": {},
     "output_type": "execute_result"
    },
    {
     "data": {
      "text/plain": [
       "# current error = 0.012689438156629\t\n"
      ]
     },
     "execution_count": 156,
     "metadata": {},
     "output_type": "execute_result"
    },
    {
     "data": {
      "text/plain": [
       "# current error = 0.012688187668932\t\n"
      ]
     },
     "execution_count": 156,
     "metadata": {},
     "output_type": "execute_result"
    },
    {
     "data": {
      "text/plain": [
       "# current error = 0.012686956260919\t\n"
      ]
     },
     "execution_count": 156,
     "metadata": {},
     "output_type": "execute_result"
    },
    {
     "data": {
      "text/plain": [
       "# current error = 0.01268574363682\t\n"
      ]
     },
     "execution_count": 156,
     "metadata": {},
     "output_type": "execute_result"
    },
    {
     "data": {
      "text/plain": [
       "# current error = 0.012684549503936\t\n"
      ]
     },
     "execution_count": 156,
     "metadata": {},
     "output_type": "execute_result"
    },
    {
     "data": {
      "text/plain": [
       "# current error = 0.012683373572649\t\n"
      ]
     },
     "execution_count": 156,
     "metadata": {},
     "output_type": "execute_result"
    },
    {
     "data": {
      "text/plain": [
       "# current error = 0.012682215556436\t\n"
      ]
     },
     "execution_count": 156,
     "metadata": {},
     "output_type": "execute_result"
    },
    {
     "data": {
      "text/plain": [
       "# current error = 0.012681075171871\t\n"
      ]
     },
     "execution_count": 156,
     "metadata": {},
     "output_type": "execute_result"
    },
    {
     "data": {
      "text/plain": [
       "# current error = 0.012679952138636\t\n"
      ]
     },
     "execution_count": 156,
     "metadata": {},
     "output_type": "execute_result"
    },
    {
     "data": {
      "text/plain": [
       "# current error = 0.012678846179527\t\n"
      ]
     },
     "execution_count": 156,
     "metadata": {},
     "output_type": "execute_result"
    },
    {
     "data": {
      "text/plain": [
       "# current error = 0.012677757020456\t\n"
      ]
     },
     "execution_count": 156,
     "metadata": {},
     "output_type": "execute_result"
    },
    {
     "data": {
      "text/plain": [
       "# current error = 0.012676684390456\t\n"
      ]
     },
     "execution_count": 156,
     "metadata": {},
     "output_type": "execute_result"
    },
    {
     "data": {
      "text/plain": [
       "# current error = 0.012675628021684\t\n"
      ]
     },
     "execution_count": 156,
     "metadata": {},
     "output_type": "execute_result"
    },
    {
     "data": {
      "text/plain": [
       "# current error = 0.012674587649419\t\n"
      ]
     },
     "execution_count": 156,
     "metadata": {},
     "output_type": "execute_result"
    },
    {
     "data": {
      "text/plain": [
       "# current error = 0.012673563012066\t\n"
      ]
     },
     "execution_count": 156,
     "metadata": {},
     "output_type": "execute_result"
    },
    {
     "data": {
      "text/plain": [
       "# current error = 0.012672553851149\t\n"
      ]
     },
     "execution_count": 156,
     "metadata": {},
     "output_type": "execute_result"
    },
    {
     "data": {
      "text/plain": [
       "# current error = 0.012671559911315\t\n"
      ]
     },
     "execution_count": 156,
     "metadata": {},
     "output_type": "execute_result"
    },
    {
     "data": {
      "text/plain": [
       "# current error = 0.012670580940326\t\n"
      ]
     },
     "execution_count": 156,
     "metadata": {},
     "output_type": "execute_result"
    },
    {
     "data": {
      "text/plain": [
       "# current error = 0.012669616689054\t\n"
      ]
     },
     "execution_count": 156,
     "metadata": {},
     "output_type": "execute_result"
    },
    {
     "data": {
      "text/plain": [
       "# current error = 0.012668666911478\t\n"
      ]
     },
     "execution_count": 156,
     "metadata": {},
     "output_type": "execute_result"
    },
    {
     "data": {
      "text/plain": [
       "# current error = 0.012667731364678\t\n"
      ]
     },
     "execution_count": 156,
     "metadata": {},
     "output_type": "execute_result"
    },
    {
     "data": {
      "text/plain": [
       "# current error = 0.012666809808823\t\n"
      ]
     },
     "execution_count": 156,
     "metadata": {},
     "output_type": "execute_result"
    },
    {
     "data": {
      "text/plain": [
       "# current error = 0.012665902007167\t\n"
      ]
     },
     "execution_count": 156,
     "metadata": {},
     "output_type": "execute_result"
    },
    {
     "data": {
      "text/plain": [
       "# current error = 0.012665007726037\t\n"
      ]
     },
     "execution_count": 156,
     "metadata": {},
     "output_type": "execute_result"
    },
    {
     "data": {
      "text/plain": [
       "# current error = 0.012664126734823\t\n"
      ]
     },
     "execution_count": 156,
     "metadata": {},
     "output_type": "execute_result"
    },
    {
     "data": {
      "text/plain": [
       "# current error = 0.012663258805967\t\n"
      ]
     },
     "execution_count": 156,
     "metadata": {},
     "output_type": "execute_result"
    },
    {
     "data": {
      "text/plain": [
       "# current error = 0.012662403714951\t\n"
      ]
     },
     "execution_count": 156,
     "metadata": {},
     "output_type": "execute_result"
    },
    {
     "data": {
      "text/plain": [
       "# current error = 0.012661561240285\t\n"
      ]
     },
     "execution_count": 156,
     "metadata": {},
     "output_type": "execute_result"
    },
    {
     "data": {
      "text/plain": [
       "# current error = 0.012660731163489\t\n"
      ]
     },
     "execution_count": 156,
     "metadata": {},
     "output_type": "execute_result"
    },
    {
     "data": {
      "text/plain": [
       "# current error = 0.012659913269086\t\n"
      ]
     },
     "execution_count": 156,
     "metadata": {},
     "output_type": "execute_result"
    },
    {
     "data": {
      "text/plain": [
       "# current error = 0.01265910734458\t\n"
      ]
     },
     "execution_count": 156,
     "metadata": {},
     "output_type": "execute_result"
    },
    {
     "data": {
      "text/plain": [
       "# current error = 0.012658313180442\t\n"
      ]
     },
     "execution_count": 156,
     "metadata": {},
     "output_type": "execute_result"
    },
    {
     "data": {
      "text/plain": [
       "# current error = 0.012657530570096\t\n"
      ]
     },
     "execution_count": 156,
     "metadata": {},
     "output_type": "execute_result"
    },
    {
     "data": {
      "text/plain": [
       "# current error = 0.012656759309898\t\n"
      ]
     },
     "execution_count": 156,
     "metadata": {},
     "output_type": "execute_result"
    },
    {
     "data": {
      "text/plain": [
       "# current error = 0.01265599919912\t\n"
      ]
     },
     "execution_count": 156,
     "metadata": {},
     "output_type": "execute_result"
    },
    {
     "data": {
      "text/plain": [
       "# current error = 0.012655250039933\t\n"
      ]
     },
     "execution_count": 156,
     "metadata": {},
     "output_type": "execute_result"
    },
    {
     "data": {
      "text/plain": [
       "# current error = 0.012654511637383\t\n"
      ]
     },
     "execution_count": 156,
     "metadata": {},
     "output_type": "execute_result"
    },
    {
     "data": {
      "text/plain": [
       "# current error = 0.012653783799377\t\n"
      ]
     },
     "execution_count": 156,
     "metadata": {},
     "output_type": "execute_result"
    },
    {
     "data": {
      "text/plain": [
       "# current error = 0.012653066336659\t\n"
      ]
     },
     "execution_count": 156,
     "metadata": {},
     "output_type": "execute_result"
    },
    {
     "data": {
      "text/plain": [
       "# current error = 0.012652359062792\t\n"
      ]
     },
     "execution_count": 156,
     "metadata": {},
     "output_type": "execute_result"
    },
    {
     "data": {
      "text/plain": [
       "# current error = 0.012651661794132\t\n"
      ]
     },
     "execution_count": 156,
     "metadata": {},
     "output_type": "execute_result"
    },
    {
     "data": {
      "text/plain": [
       "# current error = 0.012650974349814\t\n"
      ]
     },
     "execution_count": 156,
     "metadata": {},
     "output_type": "execute_result"
    },
    {
     "data": {
      "text/plain": [
       "# current error = 0.012650296551722\t\n"
      ]
     },
     "execution_count": 156,
     "metadata": {},
     "output_type": "execute_result"
    },
    {
     "data": {
      "text/plain": [
       "# current error = 0.012649628224472\t\n"
      ]
     },
     "execution_count": 156,
     "metadata": {},
     "output_type": "execute_result"
    },
    {
     "data": {
      "text/plain": [
       "# current error = 0.012648969195387\t\n"
      ]
     },
     "execution_count": 156,
     "metadata": {},
     "output_type": "execute_result"
    },
    {
     "data": {
      "text/plain": [
       "# current error = 0.012648319294472\t\n"
      ]
     },
     "execution_count": 156,
     "metadata": {},
     "output_type": "execute_result"
    },
    {
     "data": {
      "text/plain": [
       "# current error = 0.012647678354396\t\n"
      ]
     },
     "execution_count": 156,
     "metadata": {},
     "output_type": "execute_result"
    },
    {
     "data": {
      "text/plain": [
       "# current error = 0.012647046210461\t\n"
      ]
     },
     "execution_count": 156,
     "metadata": {},
     "output_type": "execute_result"
    },
    {
     "data": {
      "text/plain": [
       "# current error = 0.012646422700581\t\n"
      ]
     },
     "execution_count": 156,
     "metadata": {},
     "output_type": "execute_result"
    },
    {
     "data": {
      "text/plain": [
       "# current error = 0.012645807665261\t\n"
      ]
     },
     "execution_count": 156,
     "metadata": {},
     "output_type": "execute_result"
    },
    {
     "data": {
      "text/plain": [
       "# current error = 0.012645200947564\t\n"
      ]
     },
     "execution_count": 156,
     "metadata": {},
     "output_type": "execute_result"
    },
    {
     "data": {
      "text/plain": [
       "# current error = 0.012644602393095\t\n"
      ]
     },
     "execution_count": 156,
     "metadata": {},
     "output_type": "execute_result"
    },
    {
     "data": {
      "text/plain": [
       "# current error = 0.012644011849969\t\n"
      ]
     },
     "execution_count": 156,
     "metadata": {},
     "output_type": "execute_result"
    },
    {
     "data": {
      "text/plain": [
       "# current error = 0.012643429168788\t\n"
      ]
     },
     "execution_count": 156,
     "metadata": {},
     "output_type": "execute_result"
    },
    {
     "data": {
      "text/plain": [
       "# current error = 0.012642854202616\t\n"
      ]
     },
     "execution_count": 156,
     "metadata": {},
     "output_type": "execute_result"
    },
    {
     "data": {
      "text/plain": [
       "# current error = 0.012642286806953\t\n"
      ]
     },
     "execution_count": 156,
     "metadata": {},
     "output_type": "execute_result"
    },
    {
     "data": {
      "text/plain": [
       "# current error = 0.012641726839707\t\n"
      ]
     },
     "execution_count": 156,
     "metadata": {},
     "output_type": "execute_result"
    },
    {
     "data": {
      "text/plain": [
       "# current error = 0.012641174161171\t\n"
      ]
     },
     "execution_count": 156,
     "metadata": {},
     "output_type": "execute_result"
    },
    {
     "data": {
      "text/plain": [
       "# current error = 0.012640628633994\t\n"
      ]
     },
     "execution_count": 156,
     "metadata": {},
     "output_type": "execute_result"
    },
    {
     "data": {
      "text/plain": [
       "# current error = 0.012640090123158\t\n"
      ]
     },
     "execution_count": 156,
     "metadata": {},
     "output_type": "execute_result"
    },
    {
     "data": {
      "text/plain": [
       "# current error = 0.012639558495947\t\n"
      ]
     },
     "execution_count": 156,
     "metadata": {},
     "output_type": "execute_result"
    },
    {
     "data": {
      "text/plain": [
       "# current error = 0.012639033621924\t\n"
      ]
     },
     "execution_count": 156,
     "metadata": {},
     "output_type": "execute_result"
    },
    {
     "data": {
      "text/plain": [
       "# current error = 0.012638515372904\t\n"
      ]
     },
     "execution_count": 156,
     "metadata": {},
     "output_type": "execute_result"
    },
    {
     "data": {
      "text/plain": [
       "# current error = 0.012638003622926\t\n"
      ]
     },
     "execution_count": 156,
     "metadata": {},
     "output_type": "execute_result"
    },
    {
     "data": {
      "text/plain": [
       "# current error = 0.01263749824823\t\n"
      ]
     },
     "execution_count": 156,
     "metadata": {},
     "output_type": "execute_result"
    },
    {
     "data": {
      "text/plain": [
       "# current error = 0.012636999127225\t\n"
      ]
     },
     "execution_count": 156,
     "metadata": {},
     "output_type": "execute_result"
    },
    {
     "data": {
      "text/plain": [
       "# current error = 0.012636506140467\t\n"
      ]
     },
     "execution_count": 156,
     "metadata": {},
     "output_type": "execute_result"
    },
    {
     "data": {
      "text/plain": [
       "# current error = 0.012636019170629\t\n"
      ]
     },
     "execution_count": 156,
     "metadata": {},
     "output_type": "execute_result"
    },
    {
     "data": {
      "text/plain": [
       "# current error = 0.012635538102479\t\n"
      ]
     },
     "execution_count": 156,
     "metadata": {},
     "output_type": "execute_result"
    },
    {
     "data": {
      "text/plain": [
       "# current error = 0.012635062822848\t\n"
      ]
     },
     "execution_count": 156,
     "metadata": {},
     "output_type": "execute_result"
    },
    {
     "data": {
      "text/plain": [
       "# current error = 0.012634593220608\t\n"
      ]
     },
     "execution_count": 156,
     "metadata": {},
     "output_type": "execute_result"
    },
    {
     "data": {
      "text/plain": [
       "# current error = 0.012634129186644\t\n"
      ]
     },
     "execution_count": 156,
     "metadata": {},
     "output_type": "execute_result"
    },
    {
     "data": {
      "text/plain": [
       "# current error = 0.012633670613826\t\n"
      ]
     },
     "execution_count": 156,
     "metadata": {},
     "output_type": "execute_result"
    },
    {
     "data": {
      "text/plain": [
       "# current error = 0.012633217396986\t\n"
      ]
     },
     "execution_count": 156,
     "metadata": {},
     "output_type": "execute_result"
    },
    {
     "data": {
      "text/plain": [
       "# current error = 0.012632769432891\t\n"
      ]
     },
     "execution_count": 156,
     "metadata": {},
     "output_type": "execute_result"
    },
    {
     "data": {
      "text/plain": [
       "# current error = 0.012632326620215\t\n"
      ]
     },
     "execution_count": 156,
     "metadata": {},
     "output_type": "execute_result"
    },
    {
     "data": {
      "text/plain": [
       "# current error = 0.012631888859514\t\n"
      ]
     },
     "execution_count": 156,
     "metadata": {},
     "output_type": "execute_result"
    },
    {
     "data": {
      "text/plain": [
       "# current error = 0.012631456053202\t\n"
      ]
     },
     "execution_count": 156,
     "metadata": {},
     "output_type": "execute_result"
    },
    {
     "data": {
      "text/plain": [
       "# current error = 0.012631028105524\t\n"
      ]
     },
     "execution_count": 156,
     "metadata": {},
     "output_type": "execute_result"
    },
    {
     "data": {
      "text/plain": [
       "# current error = 0.01263060492253\t\n"
      ]
     },
     "execution_count": 156,
     "metadata": {},
     "output_type": "execute_result"
    },
    {
     "data": {
      "text/plain": [
       "# current error = 0.012630186412049\t\n"
      ]
     },
     "execution_count": 156,
     "metadata": {},
     "output_type": "execute_result"
    },
    {
     "data": {
      "text/plain": [
       "# current error = 0.012629772483669\t\n"
      ]
     },
     "execution_count": 156,
     "metadata": {},
     "output_type": "execute_result"
    },
    {
     "data": {
      "text/plain": [
       "# current error = 0.012629363048703\t\n"
      ]
     },
     "execution_count": 156,
     "metadata": {},
     "output_type": "execute_result"
    },
    {
     "data": {
      "text/plain": [
       "# current error = 0.012628958020173\t\n"
      ]
     },
     "execution_count": 156,
     "metadata": {},
     "output_type": "execute_result"
    },
    {
     "data": {
      "text/plain": [
       "# current error = 0.01262855731278\t\n"
      ]
     },
     "execution_count": 156,
     "metadata": {},
     "output_type": "execute_result"
    },
    {
     "data": {
      "text/plain": [
       "# current error = 0.012628160842879\t\n"
      ]
     },
     "execution_count": 156,
     "metadata": {},
     "output_type": "execute_result"
    },
    {
     "data": {
      "text/plain": [
       "# current error = 0.01262776852846\t\n"
      ]
     },
     "execution_count": 156,
     "metadata": {},
     "output_type": "execute_result"
    },
    {
     "data": {
      "text/plain": [
       "# current error = 0.012627380289119\t\n"
      ]
     },
     "execution_count": 156,
     "metadata": {},
     "output_type": "execute_result"
    },
    {
     "data": {
      "text/plain": [
       "# current error = 0.012626996046034\t\n"
      ]
     },
     "execution_count": 156,
     "metadata": {},
     "output_type": "execute_result"
    },
    {
     "data": {
      "text/plain": [
       "# current error = 0.012626615721945\t\n"
      ]
     },
     "execution_count": 156,
     "metadata": {},
     "output_type": "execute_result"
    },
    {
     "data": {
      "text/plain": [
       "# current error = 0.012626239241127\t\n"
      ]
     },
     "execution_count": 156,
     "metadata": {},
     "output_type": "execute_result"
    },
    {
     "data": {
      "text/plain": [
       "# current error = 0.012625866529366\t\n"
      ]
     },
     "execution_count": 156,
     "metadata": {},
     "output_type": "execute_result"
    },
    {
     "data": {
      "text/plain": [
       "# current error = 0.012625497513942\t\n"
      ]
     },
     "execution_count": 156,
     "metadata": {},
     "output_type": "execute_result"
    },
    {
     "data": {
      "text/plain": [
       "# current error = 0.012625132123599\t\n"
      ]
     },
     "execution_count": 156,
     "metadata": {},
     "output_type": "execute_result"
    },
    {
     "data": {
      "text/plain": [
       "# current error = 0.012624770288524\t\n"
      ]
     },
     "execution_count": 156,
     "metadata": {},
     "output_type": "execute_result"
    },
    {
     "data": {
      "text/plain": [
       "# current error = 0.012624411940327\t\n"
      ]
     },
     "execution_count": 156,
     "metadata": {},
     "output_type": "execute_result"
    },
    {
     "data": {
      "text/plain": [
       "# current error = 0.012624057012018\t\n"
      ]
     },
     "execution_count": 156,
     "metadata": {},
     "output_type": "execute_result"
    },
    {
     "data": {
      "text/plain": [
       "# current error = 0.012623705437983\t\n"
      ]
     },
     "execution_count": 156,
     "metadata": {},
     "output_type": "execute_result"
    },
    {
     "data": {
      "text/plain": [
       "# current error = 0.012623357153963\t\n"
      ]
     },
     "execution_count": 156,
     "metadata": {},
     "output_type": "execute_result"
    },
    {
     "data": {
      "text/plain": [
       "# current error = 0.012623012097035\t\n"
      ]
     },
     "execution_count": 156,
     "metadata": {},
     "output_type": "execute_result"
    },
    {
     "data": {
      "text/plain": [
       "# current error = 0.012622670205585\t\n"
      ]
     },
     "execution_count": 156,
     "metadata": {},
     "output_type": "execute_result"
    },
    {
     "data": {
      "text/plain": [
       "# current error = 0.012622331419294\t\n"
      ]
     },
     "execution_count": 156,
     "metadata": {},
     "output_type": "execute_result"
    },
    {
     "data": {
      "text/plain": [
       "# current error = 0.012621995679112\t\n"
      ]
     },
     "execution_count": 156,
     "metadata": {},
     "output_type": "execute_result"
    },
    {
     "data": {
      "text/plain": [
       "# current error = 0.012621662927237\t\n"
      ]
     },
     "execution_count": 156,
     "metadata": {},
     "output_type": "execute_result"
    },
    {
     "data": {
      "text/plain": [
       "# current error = 0.012621333107098\t\n"
      ]
     },
     "execution_count": 156,
     "metadata": {},
     "output_type": "execute_result"
    },
    {
     "data": {
      "text/plain": [
       "# current error = 0.012621006163334\t\n"
      ]
     },
     "execution_count": 156,
     "metadata": {},
     "output_type": "execute_result"
    },
    {
     "data": {
      "text/plain": [
       "# current error = 0.012620682041772\t\n"
      ]
     },
     "execution_count": 156,
     "metadata": {},
     "output_type": "execute_result"
    },
    {
     "data": {
      "text/plain": [
       "# current error = 0.012620360689408\t\n"
      ]
     },
     "execution_count": 156,
     "metadata": {},
     "output_type": "execute_result"
    },
    {
     "data": {
      "text/plain": [
       "# current error = 0.012620042054388\t\n"
      ]
     },
     "execution_count": 156,
     "metadata": {},
     "output_type": "execute_result"
    },
    {
     "data": {
      "text/plain": [
       "# current error = 0.012619726085991\t\n"
      ]
     },
     "execution_count": 156,
     "metadata": {},
     "output_type": "execute_result"
    },
    {
     "data": {
      "text/plain": [
       "# current error = 0.012619412734604\t"
      ]
     },
     "execution_count": 156,
     "metadata": {},
     "output_type": "execute_result"
    },
    {
     "data": {
      "text/plain": [
       "\n"
      ]
     },
     "execution_count": 156,
     "metadata": {},
     "output_type": "execute_result"
    },
    {
     "data": {
      "text/plain": [
       "# current error = 0.012619101951709\t\n"
      ]
     },
     "execution_count": 156,
     "metadata": {},
     "output_type": "execute_result"
    },
    {
     "data": {
      "text/plain": [
       "# current error = 0.012618793689863\t\n"
      ]
     },
     "execution_count": 156,
     "metadata": {},
     "output_type": "execute_result"
    },
    {
     "data": {
      "text/plain": [
       "# current error = 0.012618487902677\t\n"
      ]
     },
     "execution_count": 156,
     "metadata": {},
     "output_type": "execute_result"
    },
    {
     "data": {
      "text/plain": [
       "# current error = 0.012618184544803\t\n"
      ]
     },
     "execution_count": 156,
     "metadata": {},
     "output_type": "execute_result"
    },
    {
     "data": {
      "text/plain": [
       "# current error = 0.012617883571909\t\n"
      ]
     },
     "execution_count": 156,
     "metadata": {},
     "output_type": "execute_result"
    },
    {
     "data": {
      "text/plain": [
       "# current error = 0.012617584940668\t\n"
      ]
     },
     "execution_count": 156,
     "metadata": {},
     "output_type": "execute_result"
    },
    {
     "data": {
      "text/plain": [
       "# current error = 0.012617288608739\t\n"
      ]
     },
     "execution_count": 156,
     "metadata": {},
     "output_type": "execute_result"
    },
    {
     "data": {
      "text/plain": [
       "# current error = 0.012616994534747\t\n"
      ]
     },
     "execution_count": 156,
     "metadata": {},
     "output_type": "execute_result"
    },
    {
     "data": {
      "text/plain": [
       "# current error = 0.012616702678268\t\n"
      ]
     },
     "execution_count": 156,
     "metadata": {},
     "output_type": "execute_result"
    },
    {
     "data": {
      "text/plain": [
       "# current error = 0.012616412999814\t\n"
      ]
     },
     "execution_count": 156,
     "metadata": {},
     "output_type": "execute_result"
    },
    {
     "data": {
      "text/plain": [
       "# current error = 0.012616125460814\t\n"
      ]
     },
     "execution_count": 156,
     "metadata": {},
     "output_type": "execute_result"
    },
    {
     "data": {
      "text/plain": [
       "# current error = 0.012615840023598\t\n"
      ]
     },
     "execution_count": 156,
     "metadata": {},
     "output_type": "execute_result"
    },
    {
     "data": {
      "text/plain": [
       "# current error = 0.012615556651382\t\n"
      ]
     },
     "execution_count": 156,
     "metadata": {},
     "output_type": "execute_result"
    },
    {
     "data": {
      "text/plain": [
       "# current error = 0.012615275308253\t\n"
      ]
     },
     "execution_count": 156,
     "metadata": {},
     "output_type": "execute_result"
    },
    {
     "data": {
      "text/plain": [
       "# current error = 0.012614995959151\t\n"
      ]
     },
     "execution_count": 156,
     "metadata": {},
     "output_type": "execute_result"
    },
    {
     "data": {
      "text/plain": [
       "# current error = 0.012614718569854\t\n"
      ]
     },
     "execution_count": 156,
     "metadata": {},
     "output_type": "execute_result"
    },
    {
     "data": {
      "text/plain": [
       "# current error = 0.012614443106967\t\n"
      ]
     },
     "execution_count": 156,
     "metadata": {},
     "output_type": "execute_result"
    },
    {
     "data": {
      "text/plain": [
       "# current error = 0.0126141695379\t\n"
      ]
     },
     "execution_count": 156,
     "metadata": {},
     "output_type": "execute_result"
    },
    {
     "data": {
      "text/plain": [
       "# current error = 0.01261389783086\t\n"
      ]
     },
     "execution_count": 156,
     "metadata": {},
     "output_type": "execute_result"
    },
    {
     "data": {
      "text/plain": [
       "# current error = 0.012613627954833\t\n"
      ]
     },
     "execution_count": 156,
     "metadata": {},
     "output_type": "execute_result"
    },
    {
     "data": {
      "text/plain": [
       "# current error = 0.01261335987957\t\n"
      ]
     },
     "execution_count": 156,
     "metadata": {},
     "output_type": "execute_result"
    },
    {
     "data": {
      "text/plain": [
       "# current error = 0.012613093575574\t\n"
      ]
     },
     "execution_count": 156,
     "metadata": {},
     "output_type": "execute_result"
    },
    {
     "data": {
      "text/plain": [
       "# current error = 0.012612829014084\t\n"
      ]
     },
     "execution_count": 156,
     "metadata": {},
     "output_type": "execute_result"
    },
    {
     "data": {
      "text/plain": [
       "# current error = 0.012612566167066\t\n"
      ]
     },
     "execution_count": 156,
     "metadata": {},
     "output_type": "execute_result"
    },
    {
     "data": {
      "text/plain": [
       "# current error = 0.012612305007193\t\n"
      ]
     },
     "execution_count": 156,
     "metadata": {},
     "output_type": "execute_result"
    },
    {
     "data": {
      "text/plain": [
       "# current error = 0.012612045507838\t\n"
      ]
     },
     "execution_count": 156,
     "metadata": {},
     "output_type": "execute_result"
    },
    {
     "data": {
      "text/plain": [
       "# current error = 0.012611787643056\t\n"
      ]
     },
     "execution_count": 156,
     "metadata": {},
     "output_type": "execute_result"
    },
    {
     "data": {
      "text/plain": [
       "# current error = 0.012611531387576\t\n"
      ]
     },
     "execution_count": 156,
     "metadata": {},
     "output_type": "execute_result"
    },
    {
     "data": {
      "text/plain": [
       "# current error = 0.012611276716783\t\n"
      ]
     },
     "execution_count": 156,
     "metadata": {},
     "output_type": "execute_result"
    },
    {
     "data": {
      "text/plain": [
       "# current error = 0.012611023606711\t\n"
      ]
     },
     "execution_count": 156,
     "metadata": {},
     "output_type": "execute_result"
    },
    {
     "data": {
      "text/plain": [
       "# current error = 0.012610772034027\t\n"
      ]
     },
     "execution_count": 156,
     "metadata": {},
     "output_type": "execute_result"
    },
    {
     "data": {
      "text/plain": [
       "# current error = 0.012610521976019\t\n"
      ]
     },
     "execution_count": 156,
     "metadata": {},
     "output_type": "execute_result"
    },
    {
     "data": {
      "text/plain": [
       "# current error = 0.012610273410588\t\n"
      ]
     },
     "execution_count": 156,
     "metadata": {},
     "output_type": "execute_result"
    },
    {
     "data": {
      "text/plain": [
       "# current error = 0.012610026316231\t\n"
      ]
     },
     "execution_count": 156,
     "metadata": {},
     "output_type": "execute_result"
    },
    {
     "data": {
      "text/plain": [
       "# current error = 0.012609780672034\t\n"
      ]
     },
     "execution_count": 156,
     "metadata": {},
     "output_type": "execute_result"
    },
    {
     "data": {
      "text/plain": [
       "# current error = 0.012609536457658\t\n"
      ]
     },
     "execution_count": 156,
     "metadata": {},
     "output_type": "execute_result"
    },
    {
     "data": {
      "text/plain": [
       "# current error = 0.012609293653329\t\n"
      ]
     },
     "execution_count": 156,
     "metadata": {},
     "output_type": "execute_result"
    },
    {
     "data": {
      "text/plain": [
       "# current error = 0.012609052239829\t\n"
      ]
     },
     "execution_count": 156,
     "metadata": {},
     "output_type": "execute_result"
    },
    {
     "data": {
      "text/plain": [
       "# current error = 0.012608812198479\t\n"
      ]
     },
     "execution_count": 156,
     "metadata": {},
     "output_type": "execute_result"
    },
    {
     "data": {
      "text/plain": [
       "# current error = 0.012608573511137\t\n"
      ]
     },
     "execution_count": 156,
     "metadata": {},
     "output_type": "execute_result"
    },
    {
     "data": {
      "text/plain": [
       "# current error = 0.012608336160181\t\n"
      ]
     },
     "execution_count": 156,
     "metadata": {},
     "output_type": "execute_result"
    },
    {
     "data": {
      "text/plain": [
       "# current error = 0.012608100128502\t\n"
      ]
     },
     "execution_count": 156,
     "metadata": {},
     "output_type": "execute_result"
    },
    {
     "data": {
      "text/plain": [
       "# current error = 0.012607865399494\t\n"
      ]
     },
     "execution_count": 156,
     "metadata": {},
     "output_type": "execute_result"
    },
    {
     "data": {
      "text/plain": [
       "# current error = 0.012607631957041\t\n"
      ]
     },
     "execution_count": 156,
     "metadata": {},
     "output_type": "execute_result"
    },
    {
     "data": {
      "text/plain": [
       "# current error = 0.012607399785512\t\n"
      ]
     },
     "execution_count": 156,
     "metadata": {},
     "output_type": "execute_result"
    },
    {
     "data": {
      "text/plain": [
       "# current error = 0.01260716886975\t\n"
      ]
     },
     "execution_count": 156,
     "metadata": {},
     "output_type": "execute_result"
    },
    {
     "data": {
      "text/plain": [
       "# current error = 0.012606939195059\t\n"
      ]
     },
     "execution_count": 156,
     "metadata": {},
     "output_type": "execute_result"
    },
    {
     "data": {
      "text/plain": [
       "# current error = 0.0126067107472\t\n"
      ]
     },
     "execution_count": 156,
     "metadata": {},
     "output_type": "execute_result"
    },
    {
     "data": {
      "text/plain": [
       "# current error = 0.01260648351238\t\n"
      ]
     },
     "execution_count": 156,
     "metadata": {},
     "output_type": "execute_result"
    },
    {
     "data": {
      "text/plain": [
       "# current error = 0.012606257477242\t\n"
      ]
     },
     "execution_count": 156,
     "metadata": {},
     "output_type": "execute_result"
    },
    {
     "data": {
      "text/plain": [
       "# current error = 0.012606032628858\t\n"
      ]
     },
     "execution_count": 156,
     "metadata": {},
     "output_type": "execute_result"
    },
    {
     "data": {
      "text/plain": [
       "# current error = 0.012605808954721\t\n"
      ]
     },
     "execution_count": 156,
     "metadata": {},
     "output_type": "execute_result"
    },
    {
     "data": {
      "text/plain": [
       "# current error = 0.012605586442734\t\n"
      ]
     },
     "execution_count": 156,
     "metadata": {},
     "output_type": "execute_result"
    },
    {
     "data": {
      "text/plain": [
       "# current error = 0.012605365081204\t\n"
      ]
     },
     "execution_count": 156,
     "metadata": {},
     "output_type": "execute_result"
    },
    {
     "data": {
      "text/plain": [
       "# current error = 0.012605144858835\t\n"
      ]
     },
     "execution_count": 156,
     "metadata": {},
     "output_type": "execute_result"
    },
    {
     "data": {
      "text/plain": [
       "# current error = 0.012604925764717\t\n"
      ]
     },
     "execution_count": 156,
     "metadata": {},
     "output_type": "execute_result"
    },
    {
     "data": {
      "text/plain": [
       "# current error = 0.012604707788319\t\n"
      ]
     },
     "execution_count": 156,
     "metadata": {},
     "output_type": "execute_result"
    },
    {
     "data": {
      "text/plain": [
       "# current error = 0.012604490919487\t\n"
      ]
     },
     "execution_count": 156,
     "metadata": {},
     "output_type": "execute_result"
    },
    {
     "data": {
      "text/plain": [
       "# current error = 0.012604275148427\t\n"
      ]
     },
     "execution_count": 156,
     "metadata": {},
     "output_type": "execute_result"
    },
    {
     "data": {
      "text/plain": [
       "# current error = 0.012604060465705\t\n"
      ]
     },
     "execution_count": 156,
     "metadata": {},
     "output_type": "execute_result"
    },
    {
     "data": {
      "text/plain": [
       "# current error = 0.012603846862239\t\n"
      ]
     },
     "execution_count": 156,
     "metadata": {},
     "output_type": "execute_result"
    },
    {
     "data": {
      "text/plain": [
       "# current error = 0.01260363432929\t\n"
      ]
     },
     "execution_count": 156,
     "metadata": {},
     "output_type": "execute_result"
    },
    {
     "data": {
      "text/plain": [
       "# current error = 0.012603422858454\t\n"
      ]
     },
     "execution_count": 156,
     "metadata": {},
     "output_type": "execute_result"
    },
    {
     "data": {
      "text/plain": [
       "# current error = 0.012603212441661\t\n"
      ]
     },
     "execution_count": 156,
     "metadata": {},
     "output_type": "execute_result"
    },
    {
     "data": {
      "text/plain": [
       "# current error = 0.012603003071163\t\n"
      ]
     },
     "execution_count": 156,
     "metadata": {},
     "output_type": "execute_result"
    },
    {
     "data": {
      "text/plain": [
       "# current error = 0.012602794739529\t\n"
      ]
     },
     "execution_count": 156,
     "metadata": {},
     "output_type": "execute_result"
    },
    {
     "data": {
      "text/plain": [
       "# current error = 0.01260258743964\t\n"
      ]
     },
     "execution_count": 156,
     "metadata": {},
     "output_type": "execute_result"
    },
    {
     "data": {
      "text/plain": [
       "# current error = 0.012602381164684\t\n"
      ]
     },
     "execution_count": 156,
     "metadata": {},
     "output_type": "execute_result"
    },
    {
     "data": {
      "text/plain": [
       "# current error = 0.012602175908145\t\n"
      ]
     },
     "execution_count": 156,
     "metadata": {},
     "output_type": "execute_result"
    },
    {
     "data": {
      "text/plain": [
       "# current error = 0.012601971663804\t\n"
      ]
     },
     "execution_count": 156,
     "metadata": {},
     "output_type": "execute_result"
    },
    {
     "data": {
      "text/plain": [
       "# current error = 0.012601768425727\t\n"
      ]
     },
     "execution_count": 156,
     "metadata": {},
     "output_type": "execute_result"
    },
    {
     "data": {
      "text/plain": [
       "# current error = 0.012601566188264\t\n"
      ]
     },
     "execution_count": 156,
     "metadata": {},
     "output_type": "execute_result"
    },
    {
     "data": {
      "text/plain": [
       "# current error = 0.01260136494604\t\n"
      ]
     },
     "execution_count": 156,
     "metadata": {},
     "output_type": "execute_result"
    },
    {
     "data": {
      "text/plain": [
       "# current error = 0.012601164693956\t\n"
      ]
     },
     "execution_count": 156,
     "metadata": {},
     "output_type": "execute_result"
    },
    {
     "data": {
      "text/plain": [
       "# current error = 0.012600965427173\t\n"
      ]
     },
     "execution_count": 156,
     "metadata": {},
     "output_type": "execute_result"
    },
    {
     "data": {
      "text/plain": [
       "# current error = 0.012600767141119\t\n"
      ]
     },
     "execution_count": 156,
     "metadata": {},
     "output_type": "execute_result"
    },
    {
     "data": {
      "text/plain": [
       "# current error = 0.012600569831475\t\n"
      ]
     },
     "execution_count": 156,
     "metadata": {},
     "output_type": "execute_result"
    },
    {
     "data": {
      "text/plain": [
       "# current error = 0.012600373494176\t\n"
      ]
     },
     "execution_count": 156,
     "metadata": {},
     "output_type": "execute_result"
    },
    {
     "data": {
      "text/plain": [
       "# current error = 0.012600178125402\t\n"
      ]
     },
     "execution_count": 156,
     "metadata": {},
     "output_type": "execute_result"
    },
    {
     "data": {
      "text/plain": [
       "# current error = 0.012599983721576\t\n"
      ]
     },
     "execution_count": 156,
     "metadata": {},
     "output_type": "execute_result"
    },
    {
     "data": {
      "text/plain": [
       "# current error = 0.01259979027936\t\n"
      ]
     },
     "execution_count": 156,
     "metadata": {},
     "output_type": "execute_result"
    },
    {
     "data": {
      "text/plain": [
       "# current error = 0.012599597795649\t\n"
      ]
     },
     "execution_count": 156,
     "metadata": {},
     "output_type": "execute_result"
    },
    {
     "data": {
      "text/plain": [
       "# current error = 0.012599406267567\t\n"
      ]
     },
     "execution_count": 156,
     "metadata": {},
     "output_type": "execute_result"
    },
    {
     "data": {
      "text/plain": [
       "# current error = 0.012599215692464\t\n"
      ]
     },
     "execution_count": 156,
     "metadata": {},
     "output_type": "execute_result"
    },
    {
     "data": {
      "text/plain": [
       "# current error = 0.012599026067912\t\n"
      ]
     },
     "execution_count": 156,
     "metadata": {},
     "output_type": "execute_result"
    },
    {
     "data": {
      "text/plain": [
       "# current error = 0.012598837391697\t\n"
      ]
     },
     "execution_count": 156,
     "metadata": {},
     "output_type": "execute_result"
    },
    {
     "data": {
      "text/plain": [
       "# current error = 0.012598649661823\t\n"
      ]
     },
     "execution_count": 156,
     "metadata": {},
     "output_type": "execute_result"
    },
    {
     "data": {
      "text/plain": [
       "# current error = 0.012598462876501\t\n"
      ]
     },
     "execution_count": 156,
     "metadata": {},
     "output_type": "execute_result"
    },
    {
     "data": {
      "text/plain": [
       "# current error = 0.01259827703415\t\n"
      ]
     },
     "execution_count": 156,
     "metadata": {},
     "output_type": "execute_result"
    },
    {
     "data": {
      "text/plain": [
       "# current error = 0.012598092133391\t\n"
      ]
     },
     "execution_count": 156,
     "metadata": {},
     "output_type": "execute_result"
    },
    {
     "data": {
      "text/plain": [
       "# current error = 0.012597908173046\t\n"
      ]
     },
     "execution_count": 156,
     "metadata": {},
     "output_type": "execute_result"
    },
    {
     "data": {
      "text/plain": [
       "# current error = 0.01259772515213\t\n"
      ]
     },
     "execution_count": 156,
     "metadata": {},
     "output_type": "execute_result"
    },
    {
     "data": {
      "text/plain": [
       "# current error = 0.012597543069853\t\n"
      ]
     },
     "execution_count": 156,
     "metadata": {},
     "output_type": "execute_result"
    },
    {
     "data": {
      "text/plain": [
       "# current error = 0.012597361925616\t\n"
      ]
     },
     "execution_count": 156,
     "metadata": {},
     "output_type": "execute_result"
    },
    {
     "data": {
      "text/plain": [
       "# current error = 0.012597181719005\t\n"
      ]
     },
     "execution_count": 156,
     "metadata": {},
     "output_type": "execute_result"
    },
    {
     "data": {
      "text/plain": [
       "# current error = 0.012597002449791\t\n"
      ]
     },
     "execution_count": 156,
     "metadata": {},
     "output_type": "execute_result"
    },
    {
     "data": {
      "text/plain": [
       "# current error = 0.012596824117925\t\n"
      ]
     },
     "execution_count": 156,
     "metadata": {},
     "output_type": "execute_result"
    },
    {
     "data": {
      "text/plain": [
       "# current error = 0.012596646723536\t\n"
      ]
     },
     "execution_count": 156,
     "metadata": {},
     "output_type": "execute_result"
    },
    {
     "data": {
      "text/plain": [
       "# current error = 0.012596470266931\t\n"
      ]
     },
     "execution_count": 156,
     "metadata": {},
     "output_type": "execute_result"
    },
    {
     "data": {
      "text/plain": [
       "# current error = 0.012596294748587\t\n"
      ]
     },
     "execution_count": 156,
     "metadata": {},
     "output_type": "execute_result"
    },
    {
     "data": {
      "text/plain": [
       "# current error = 0.012596120169154\t\n"
      ]
     },
     "execution_count": 156,
     "metadata": {},
     "output_type": "execute_result"
    },
    {
     "data": {
      "text/plain": [
       "# current error = 0.012595946529448\t\n"
      ]
     },
     "execution_count": 156,
     "metadata": {},
     "output_type": "execute_result"
    },
    {
     "data": {
      "text/plain": [
       "# current error = 0.012595773830451\t\n"
      ]
     },
     "execution_count": 156,
     "metadata": {},
     "output_type": "execute_result"
    },
    {
     "data": {
      "text/plain": [
       "# current error = 0.012595602073311\t\n"
      ]
     },
     "execution_count": 156,
     "metadata": {},
     "output_type": "execute_result"
    },
    {
     "data": {
      "text/plain": [
       "# current error = 0.012595431259332\t\n"
      ]
     },
     "execution_count": 156,
     "metadata": {},
     "output_type": "execute_result"
    },
    {
     "data": {
      "text/plain": [
       "# current error = 0.012595261389981\t\n"
      ]
     },
     "execution_count": 156,
     "metadata": {},
     "output_type": "execute_result"
    },
    {
     "data": {
      "text/plain": [
       "# current error = 0.012595092466881\t\n"
      ]
     },
     "execution_count": 156,
     "metadata": {},
     "output_type": "execute_result"
    },
    {
     "data": {
      "text/plain": [
       "# current error = 0.012594924491809\t\n"
      ]
     },
     "execution_count": 156,
     "metadata": {},
     "output_type": "execute_result"
    },
    {
     "data": {
      "text/plain": [
       "# current error = 0.012594757466694\t\n"
      ]
     },
     "execution_count": 156,
     "metadata": {},
     "output_type": "execute_result"
    },
    {
     "data": {
      "text/plain": [
       "# current error = 0.012594591393617\t\n"
      ]
     },
     "execution_count": 156,
     "metadata": {},
     "output_type": "execute_result"
    },
    {
     "data": {
      "text/plain": [
       "# current error = 0.012594426274808\t\n"
      ]
     },
     "execution_count": 156,
     "metadata": {},
     "output_type": "execute_result"
    },
    {
     "data": {
      "text/plain": [
       "# current error = 0.012594262112644\t\n"
      ]
     },
     "execution_count": 156,
     "metadata": {},
     "output_type": "execute_result"
    },
    {
     "data": {
      "text/plain": [
       "# current error = 0.012594098909648\t\n"
      ]
     },
     "execution_count": 156,
     "metadata": {},
     "output_type": "execute_result"
    },
    {
     "data": {
      "text/plain": [
       "# current error = 0.012593936668485\t\n"
      ]
     },
     "execution_count": 156,
     "metadata": {},
     "output_type": "execute_result"
    },
    {
     "data": {
      "text/plain": [
       "# current error = 0.012593775391963\t\n"
      ]
     },
     "execution_count": 156,
     "metadata": {},
     "output_type": "execute_result"
    },
    {
     "data": {
      "text/plain": [
       "# current error = 0.012593615083031\t\n"
      ]
     },
     "execution_count": 156,
     "metadata": {},
     "output_type": "execute_result"
    },
    {
     "data": {
      "text/plain": [
       "# current error = 0.012593455744777\t\n"
      ]
     },
     "execution_count": 156,
     "metadata": {},
     "output_type": "execute_result"
    },
    {
     "data": {
      "text/plain": [
       "# current error = 0.012593297380424\t\n"
      ]
     },
     "execution_count": 156,
     "metadata": {},
     "output_type": "execute_result"
    },
    {
     "data": {
      "text/plain": [
       "# current error = 0.012593139993335\t\n"
      ]
     },
     "execution_count": 156,
     "metadata": {},
     "output_type": "execute_result"
    },
    {
     "data": {
      "text/plain": [
       "# current error = 0.012592983587003\t\n"
      ]
     },
     "execution_count": 156,
     "metadata": {},
     "output_type": "execute_result"
    },
    {
     "data": {
      "text/plain": [
       "# current error = 0.012592828165058\t\n"
      ]
     },
     "execution_count": 156,
     "metadata": {},
     "output_type": "execute_result"
    },
    {
     "data": {
      "text/plain": [
       "# current error = 0.012592673731259\t\n"
      ]
     },
     "execution_count": 156,
     "metadata": {},
     "output_type": "execute_result"
    },
    {
     "data": {
      "text/plain": [
       "# current error = 0.012592520289498\t\n"
      ]
     },
     "execution_count": 156,
     "metadata": {},
     "output_type": "execute_result"
    },
    {
     "data": {
      "text/plain": [
       "# current error = 0.012592367843794\t\n"
      ]
     },
     "execution_count": 156,
     "metadata": {},
     "output_type": "execute_result"
    },
    {
     "data": {
      "text/plain": [
       "# current error = 0.012592216398295\t\n"
      ]
     },
     "execution_count": 156,
     "metadata": {},
     "output_type": "execute_result"
    },
    {
     "data": {
      "text/plain": [
       "# current error = 0.012592065957276\t\n"
      ]
     },
     "execution_count": 156,
     "metadata": {},
     "output_type": "execute_result"
    },
    {
     "data": {
      "text/plain": [
       "# current error = 0.012591916525136\t\n"
      ]
     },
     "execution_count": 156,
     "metadata": {},
     "output_type": "execute_result"
    },
    {
     "data": {
      "text/plain": [
       "# current error = 0.012591768106402\t\n"
      ]
     },
     "execution_count": 156,
     "metadata": {},
     "output_type": "execute_result"
    },
    {
     "data": {
      "text/plain": [
       "# current error = 0.012591620705719\t"
      ]
     },
     "execution_count": 156,
     "metadata": {},
     "output_type": "execute_result"
    },
    {
     "data": {
      "text/plain": [
       "\n"
      ]
     },
     "execution_count": 156,
     "metadata": {},
     "output_type": "execute_result"
    },
    {
     "data": {
      "text/plain": [
       "# current error = 0.012591474327861\t\n"
      ]
     },
     "execution_count": 156,
     "metadata": {},
     "output_type": "execute_result"
    },
    {
     "data": {
      "text/plain": [
       "# current error = 0.012591328977716\t\n"
      ]
     },
     "execution_count": 156,
     "metadata": {},
     "output_type": "execute_result"
    },
    {
     "data": {
      "text/plain": [
       "# current error = 0.012591184660299\t\n"
      ]
     },
     "execution_count": 156,
     "metadata": {},
     "output_type": "execute_result"
    },
    {
     "data": {
      "text/plain": [
       "# current error = 0.012591041380739\t\n"
      ]
     },
     "execution_count": 156,
     "metadata": {},
     "output_type": "execute_result"
    },
    {
     "data": {
      "text/plain": [
       "# current error = 0.012590899144286\t\n"
      ]
     },
     "execution_count": 156,
     "metadata": {},
     "output_type": "execute_result"
    },
    {
     "data": {
      "text/plain": [
       "# current error = 0.012590757956307\t\n"
      ]
     },
     "execution_count": 156,
     "metadata": {},
     "output_type": "execute_result"
    },
    {
     "data": {
      "text/plain": [
       "# current error = 0.012590617822283\t\n"
      ]
     },
     "execution_count": 156,
     "metadata": {},
     "output_type": "execute_result"
    },
    {
     "data": {
      "text/plain": [
       "# current error = 0.012590478747814\t\n"
      ]
     },
     "execution_count": 156,
     "metadata": {},
     "output_type": "execute_result"
    },
    {
     "data": {
      "text/plain": [
       "# current error = 0.012590340738612\t\n"
      ]
     },
     "execution_count": 156,
     "metadata": {},
     "output_type": "execute_result"
    },
    {
     "data": {
      "text/plain": [
       "# current error = 0.012590203800504\t\n"
      ]
     },
     "execution_count": 156,
     "metadata": {},
     "output_type": "execute_result"
    },
    {
     "data": {
      "text/plain": [
       "# current error = 0.012590067939427\t\n"
      ]
     },
     "execution_count": 156,
     "metadata": {},
     "output_type": "execute_result"
    },
    {
     "data": {
      "text/plain": [
       "# current error = 0.012589933161433\t\n"
      ]
     },
     "execution_count": 156,
     "metadata": {},
     "output_type": "execute_result"
    },
    {
     "data": {
      "text/plain": [
       "# current error = 0.012589799472684\t\n"
      ]
     },
     "execution_count": 156,
     "metadata": {},
     "output_type": "execute_result"
    },
    {
     "data": {
      "text/plain": [
       "# current error = 0.012589666879452\t\n"
      ]
     },
     "execution_count": 156,
     "metadata": {},
     "output_type": "execute_result"
    },
    {
     "data": {
      "text/plain": [
       "# current error = 0.012589535388118\t\n"
      ]
     },
     "execution_count": 156,
     "metadata": {},
     "output_type": "execute_result"
    },
    {
     "data": {
      "text/plain": [
       "# current error = 0.012589405005172\t\n"
      ]
     },
     "execution_count": 156,
     "metadata": {},
     "output_type": "execute_result"
    },
    {
     "data": {
      "text/plain": [
       "# current error = 0.012589275737211\t\n"
      ]
     },
     "execution_count": 156,
     "metadata": {},
     "output_type": "execute_result"
    },
    {
     "data": {
      "text/plain": [
       "# current error = 0.012589147590941\t\n"
      ]
     },
     "execution_count": 156,
     "metadata": {},
     "output_type": "execute_result"
    },
    {
     "data": {
      "text/plain": [
       "# current error = 0.012589020573172\t\n"
      ]
     },
     "execution_count": 156,
     "metadata": {},
     "output_type": "execute_result"
    },
    {
     "data": {
      "text/plain": [
       "# current error = 0.01258889469082\t\n"
      ]
     },
     "execution_count": 156,
     "metadata": {},
     "output_type": "execute_result"
    },
    {
     "data": {
      "text/plain": [
       "# current error = 0.012588769950907\t\n"
      ]
     },
     "execution_count": 156,
     "metadata": {},
     "output_type": "execute_result"
    },
    {
     "data": {
      "text/plain": [
       "# current error = 0.012588646360556\t\n"
      ]
     },
     "execution_count": 156,
     "metadata": {},
     "output_type": "execute_result"
    },
    {
     "data": {
      "text/plain": [
       "# current error = 0.012588523926997\t\n"
      ]
     },
     "execution_count": 156,
     "metadata": {},
     "output_type": "execute_result"
    },
    {
     "data": {
      "text/plain": [
       "# current error = 0.012588402657559\t\n"
      ]
     },
     "execution_count": 156,
     "metadata": {},
     "output_type": "execute_result"
    },
    {
     "data": {
      "text/plain": [
       "# current error = 0.012588282559674\t\n"
      ]
     },
     "execution_count": 156,
     "metadata": {},
     "output_type": "execute_result"
    },
    {
     "data": {
      "text/plain": [
       "# current error = 0.012588163640876\t\n"
      ]
     },
     "execution_count": 156,
     "metadata": {},
     "output_type": "execute_result"
    },
    {
     "data": {
      "text/plain": [
       "# current error = 0.012588045908798\t\n"
      ]
     },
     "execution_count": 156,
     "metadata": {},
     "output_type": "execute_result"
    },
    {
     "data": {
      "text/plain": [
       "# current error = 0.012587929371173\t\n"
      ]
     },
     "execution_count": 156,
     "metadata": {},
     "output_type": "execute_result"
    },
    {
     "data": {
      "text/plain": [
       "# current error = 0.012587814035832\t\n"
      ]
     },
     "execution_count": 156,
     "metadata": {},
     "output_type": "execute_result"
    },
    {
     "data": {
      "text/plain": [
       "# current error = 0.012587699910705\t\n"
      ]
     },
     "execution_count": 156,
     "metadata": {},
     "output_type": "execute_result"
    },
    {
     "data": {
      "text/plain": [
       "# current error = 0.01258758700382\t\n"
      ]
     },
     "execution_count": 156,
     "metadata": {},
     "output_type": "execute_result"
    },
    {
     "data": {
      "text/plain": [
       "# current error = 0.012587475323299\t\n"
      ]
     },
     "execution_count": 156,
     "metadata": {},
     "output_type": "execute_result"
    },
    {
     "data": {
      "text/plain": [
       "# current error = 0.012587364877363\t\n"
      ]
     },
     "execution_count": 156,
     "metadata": {},
     "output_type": "execute_result"
    },
    {
     "data": {
      "text/plain": [
       "# current error = 0.012587255674327\t\n"
      ]
     },
     "execution_count": 156,
     "metadata": {},
     "output_type": "execute_result"
    },
    {
     "data": {
      "text/plain": [
       "# current error = 0.0125871477226\t\n"
      ]
     },
     "execution_count": 156,
     "metadata": {},
     "output_type": "execute_result"
    },
    {
     "data": {
      "text/plain": [
       "# current error = 0.012587041030686\t\n"
      ]
     },
     "execution_count": 156,
     "metadata": {},
     "output_type": "execute_result"
    },
    {
     "data": {
      "text/plain": [
       "# current error = 0.012586935607181\t\n"
      ]
     },
     "execution_count": 156,
     "metadata": {},
     "output_type": "execute_result"
    },
    {
     "data": {
      "text/plain": [
       "# current error = 0.012586831460775\t\n"
      ]
     },
     "execution_count": 156,
     "metadata": {},
     "output_type": "execute_result"
    },
    {
     "data": {
      "text/plain": [
       "# current error = 0.012586728600248\t\n"
      ]
     },
     "execution_count": 156,
     "metadata": {},
     "output_type": "execute_result"
    },
    {
     "data": {
      "text/plain": [
       "# current error = 0.012586627034473\t\n"
      ]
     },
     "execution_count": 156,
     "metadata": {},
     "output_type": "execute_result"
    },
    {
     "data": {
      "text/plain": [
       "# current error = 0.012586526772411\t\n"
      ]
     },
     "execution_count": 156,
     "metadata": {},
     "output_type": "execute_result"
    },
    {
     "data": {
      "text/plain": [
       "# current error = 0.012586427823115\t\n"
      ]
     },
     "execution_count": 156,
     "metadata": {},
     "output_type": "execute_result"
    },
    {
     "data": {
      "text/plain": [
       "# current error = 0.012586330195725\t\n"
      ]
     },
     "execution_count": 156,
     "metadata": {},
     "output_type": "execute_result"
    },
    {
     "data": {
      "text/plain": [
       "# current error = 0.012586233899472\t\n"
      ]
     },
     "execution_count": 156,
     "metadata": {},
     "output_type": "execute_result"
    },
    {
     "data": {
      "text/plain": [
       "# current error = 0.012586138943672\t\n"
      ]
     },
     "execution_count": 156,
     "metadata": {},
     "output_type": "execute_result"
    },
    {
     "data": {
      "text/plain": [
       "# current error = 0.012586045337729\t\n"
      ]
     },
     "execution_count": 156,
     "metadata": {},
     "output_type": "execute_result"
    },
    {
     "data": {
      "text/plain": [
       "# current error = 0.012585953091133\t\n"
      ]
     },
     "execution_count": 156,
     "metadata": {},
     "output_type": "execute_result"
    },
    {
     "data": {
      "text/plain": [
       "# current error = 0.01258586221346\t\n"
      ]
     },
     "execution_count": 156,
     "metadata": {},
     "output_type": "execute_result"
    },
    {
     "data": {
      "text/plain": [
       "# current error = 0.012585772714371\t\n"
      ]
     },
     "execution_count": 156,
     "metadata": {},
     "output_type": "execute_result"
    },
    {
     "data": {
      "text/plain": [
       "# current error = 0.012585684603609\t\n"
      ]
     },
     "execution_count": 156,
     "metadata": {},
     "output_type": "execute_result"
    },
    {
     "data": {
      "text/plain": [
       "# current error = 0.012585597891004\t\n"
      ]
     },
     "execution_count": 156,
     "metadata": {},
     "output_type": "execute_result"
    },
    {
     "data": {
      "text/plain": [
       "# current error = 0.012585512586466\t\n"
      ]
     },
     "execution_count": 156,
     "metadata": {},
     "output_type": "execute_result"
    },
    {
     "data": {
      "text/plain": [
       "# current error = 0.012585428699988\t\n"
      ]
     },
     "execution_count": 156,
     "metadata": {},
     "output_type": "execute_result"
    },
    {
     "data": {
      "text/plain": [
       "# current error = 0.012585346241645\t\n"
      ]
     },
     "execution_count": 156,
     "metadata": {},
     "output_type": "execute_result"
    },
    {
     "data": {
      "text/plain": [
       "# current error = 0.012585265221592\t\n"
      ]
     },
     "execution_count": 156,
     "metadata": {},
     "output_type": "execute_result"
    },
    {
     "data": {
      "text/plain": [
       "# current error = 0.012585185650062\t\n"
      ]
     },
     "execution_count": 156,
     "metadata": {},
     "output_type": "execute_result"
    },
    {
     "data": {
      "text/plain": [
       "# current error = 0.012585107537372\t\n"
      ]
     },
     "execution_count": 156,
     "metadata": {},
     "output_type": "execute_result"
    },
    {
     "data": {
      "text/plain": [
       "# current error = 0.012585030893914\t\n"
      ]
     },
     "execution_count": 156,
     "metadata": {},
     "output_type": "execute_result"
    },
    {
     "data": {
      "text/plain": [
       "# current error = 0.012584955730157\t\n"
      ]
     },
     "execution_count": 156,
     "metadata": {},
     "output_type": "execute_result"
    },
    {
     "data": {
      "text/plain": [
       "# current error = 0.012584882056652\t\n"
      ]
     },
     "execution_count": 156,
     "metadata": {},
     "output_type": "execute_result"
    },
    {
     "data": {
      "text/plain": [
       "# current error = 0.012584809884021\t\n"
      ]
     },
     "execution_count": 156,
     "metadata": {},
     "output_type": "execute_result"
    },
    {
     "data": {
      "text/plain": [
       "# current error = 0.012584739222965\t\n"
      ]
     },
     "execution_count": 156,
     "metadata": {},
     "output_type": "execute_result"
    },
    {
     "data": {
      "text/plain": [
       "# current error = 0.01258467008426\t\n"
      ]
     },
     "execution_count": 156,
     "metadata": {},
     "output_type": "execute_result"
    },
    {
     "data": {
      "text/plain": [
       "# current error = 0.012584602478754\t\n"
      ]
     },
     "execution_count": 156,
     "metadata": {},
     "output_type": "execute_result"
    },
    {
     "data": {
      "text/plain": [
       "# current error = 0.012584536417372\t\n"
      ]
     },
     "execution_count": 156,
     "metadata": {},
     "output_type": "execute_result"
    },
    {
     "data": {
      "text/plain": [
       "# current error = 0.01258447191111\t\n"
      ]
     },
     "execution_count": 156,
     "metadata": {},
     "output_type": "execute_result"
    },
    {
     "data": {
      "text/plain": [
       "# current error = 0.012584408971036\t\n"
      ]
     },
     "execution_count": 156,
     "metadata": {},
     "output_type": "execute_result"
    },
    {
     "data": {
      "text/plain": [
       "# current error = 0.012584347608291\t\n"
      ]
     },
     "execution_count": 156,
     "metadata": {},
     "output_type": "execute_result"
    },
    {
     "data": {
      "text/plain": [
       "# current error = 0.012584287834085\t\n"
      ]
     },
     "execution_count": 156,
     "metadata": {},
     "output_type": "execute_result"
    },
    {
     "data": {
      "text/plain": [
       "# current error = 0.012584229659701\t"
      ]
     },
     "execution_count": 156,
     "metadata": {},
     "output_type": "execute_result"
    },
    {
     "data": {
      "text/plain": [
       "\n"
      ]
     },
     "execution_count": 156,
     "metadata": {},
     "output_type": "execute_result"
    },
    {
     "data": {
      "text/plain": [
       "# current error = 0.012584173096487\t\n"
      ]
     },
     "execution_count": 156,
     "metadata": {},
     "output_type": "execute_result"
    },
    {
     "data": {
      "text/plain": [
       "# current error = 0.012584118155865\t\n"
      ]
     },
     "execution_count": 156,
     "metadata": {},
     "output_type": "execute_result"
    },
    {
     "data": {
      "text/plain": [
       "# current error = 0.012584064849321\t\n"
      ]
     },
     "execution_count": 156,
     "metadata": {},
     "output_type": "execute_result"
    },
    {
     "data": {
      "text/plain": [
       "# current error = 0.01258401318841\t\n"
      ]
     },
     "execution_count": 156,
     "metadata": {},
     "output_type": "execute_result"
    },
    {
     "data": {
      "text/plain": [
       "# current error = 0.012583963184754\t\n"
      ]
     },
     "execution_count": 156,
     "metadata": {},
     "output_type": "execute_result"
    },
    {
     "data": {
      "text/plain": [
       "# current error = 0.012583914850039\t\n"
      ]
     },
     "execution_count": 156,
     "metadata": {},
     "output_type": "execute_result"
    },
    {
     "data": {
      "text/plain": [
       "# current error = 0.012583868196019\t\n"
      ]
     },
     "execution_count": 156,
     "metadata": {},
     "output_type": "execute_result"
    },
    {
     "data": {
      "text/plain": [
       "# current error = 0.012583823234511\t\n"
      ]
     },
     "execution_count": 156,
     "metadata": {},
     "output_type": "execute_result"
    },
    {
     "data": {
      "text/plain": [
       "# current error = 0.012583779977395\t\n"
      ]
     },
     "execution_count": 156,
     "metadata": {},
     "output_type": "execute_result"
    },
    {
     "data": {
      "text/plain": [
       "# current error = 0.012583738436616\t\n"
      ]
     },
     "execution_count": 156,
     "metadata": {},
     "output_type": "execute_result"
    },
    {
     "data": {
      "text/plain": [
       "# current error = 0.012583698624179\t\n"
      ]
     },
     "execution_count": 156,
     "metadata": {},
     "output_type": "execute_result"
    },
    {
     "data": {
      "text/plain": [
       "# current error = 0.012583660552152\t\n"
      ]
     },
     "execution_count": 156,
     "metadata": {},
     "output_type": "execute_result"
    },
    {
     "data": {
      "text/plain": [
       "# current error = 0.012583624232665\t\n"
      ]
     },
     "execution_count": 156,
     "metadata": {},
     "output_type": "execute_result"
    },
    {
     "data": {
      "text/plain": [
       "# current error = 0.012583589677907\t\n"
      ]
     },
     "execution_count": 156,
     "metadata": {},
     "output_type": "execute_result"
    },
    {
     "data": {
      "text/plain": [
       "# current error = 0.012583556900125\t\n"
      ]
     },
     "execution_count": 156,
     "metadata": {},
     "output_type": "execute_result"
    },
    {
     "data": {
      "text/plain": [
       "# current error = 0.012583525911628\t\n"
      ]
     },
     "execution_count": 156,
     "metadata": {},
     "output_type": "execute_result"
    },
    {
     "data": {
      "text/plain": [
       "# current error = 0.012583496724782\t\n"
      ]
     },
     "execution_count": 156,
     "metadata": {},
     "output_type": "execute_result"
    },
    {
     "data": {
      "text/plain": [
       "# current error = 0.012583469352008\t\n"
      ]
     },
     "execution_count": 156,
     "metadata": {},
     "output_type": "execute_result"
    },
    {
     "data": {
      "text/plain": [
       "# current error = 0.012583443805787\t\n"
      ]
     },
     "execution_count": 156,
     "metadata": {},
     "output_type": "execute_result"
    },
    {
     "data": {
      "text/plain": [
       "# current error = 0.012583420098653\t\n"
      ]
     },
     "execution_count": 156,
     "metadata": {},
     "output_type": "execute_result"
    },
    {
     "data": {
      "text/plain": [
       "# current error = 0.012583398243198\t\n"
      ]
     },
     "execution_count": 156,
     "metadata": {},
     "output_type": "execute_result"
    },
    {
     "data": {
      "text/plain": [
       "# current error = 0.012583378252067\t\n"
      ]
     },
     "execution_count": 156,
     "metadata": {},
     "output_type": "execute_result"
    },
    {
     "data": {
      "text/plain": [
       "# current error = 0.012583360137959\t\n"
      ]
     },
     "execution_count": 156,
     "metadata": {},
     "output_type": "execute_result"
    },
    {
     "data": {
      "text/plain": [
       "# current error = 0.012583343913625\t\n"
      ]
     },
     "execution_count": 156,
     "metadata": {},
     "output_type": "execute_result"
    },
    {
     "data": {
      "text/plain": [
       "# current error = 0.01258332959187\t\n"
      ]
     },
     "execution_count": 156,
     "metadata": {},
     "output_type": "execute_result"
    },
    {
     "data": {
      "text/plain": [
       "# current error = 0.012583317185549\t\n"
      ]
     },
     "execution_count": 156,
     "metadata": {},
     "output_type": "execute_result"
    },
    {
     "data": {
      "text/plain": [
       "# current error = 0.01258330670757\t\n"
      ]
     },
     "execution_count": 156,
     "metadata": {},
     "output_type": "execute_result"
    },
    {
     "data": {
      "text/plain": [
       "# current error = 0.01258329817089\t\n"
      ]
     },
     "execution_count": 156,
     "metadata": {},
     "output_type": "execute_result"
    },
    {
     "data": {
      "text/plain": [
       "# current error = 0.012583291588513\t\n"
      ]
     },
     "execution_count": 156,
     "metadata": {},
     "output_type": "execute_result"
    },
    {
     "data": {
      "text/plain": [
       "# current error = 0.012583286973497\t\n"
      ]
     },
     "execution_count": 156,
     "metadata": {},
     "output_type": "execute_result"
    },
    {
     "data": {
      "text/plain": [
       "# current error = 0.012583284338942\t\n"
      ]
     },
     "execution_count": 156,
     "metadata": {},
     "output_type": "execute_result"
    },
    {
     "data": {
      "text/plain": [
       "# current error = 0.012583283698\t\n"
      ]
     },
     "execution_count": 156,
     "metadata": {},
     "output_type": "execute_result"
    },
    {
     "data": {
      "text/plain": [
       "# current error = 0.012583285063868\t\n"
      ]
     },
     "execution_count": 156,
     "metadata": {},
     "output_type": "execute_result"
    },
    {
     "data": {
      "text/plain": [
       "# current error = 0.012583288449786\t\n"
      ]
     },
     "execution_count": 156,
     "metadata": {},
     "output_type": "execute_result"
    },
    {
     "data": {
      "text/plain": [
       "# current error = 0.012583293869043\t\n"
      ]
     },
     "execution_count": 156,
     "metadata": {},
     "output_type": "execute_result"
    },
    {
     "data": {
      "text/plain": [
       "# current error = 0.01258330133497\t\n"
      ]
     },
     "execution_count": 156,
     "metadata": {},
     "output_type": "execute_result"
    },
    {
     "data": {
      "text/plain": [
       "# current error = 0.012583310860942\t\n"
      ]
     },
     "execution_count": 156,
     "metadata": {},
     "output_type": "execute_result"
    },
    {
     "data": {
      "text/plain": [
       "# current error = 0.012583322460377\t\n"
      ]
     },
     "execution_count": 156,
     "metadata": {},
     "output_type": "execute_result"
    },
    {
     "data": {
      "text/plain": [
       "# current error = 0.012583336146735\t\n"
      ]
     },
     "execution_count": 156,
     "metadata": {},
     "output_type": "execute_result"
    },
    {
     "data": {
      "text/plain": [
       "# current error = 0.012583351933517\t\n"
      ]
     },
     "execution_count": 156,
     "metadata": {},
     "output_type": "execute_result"
    },
    {
     "data": {
      "text/plain": [
       "# current error = 0.012583369834264\t\n"
      ]
     },
     "execution_count": 156,
     "metadata": {},
     "output_type": "execute_result"
    },
    {
     "data": {
      "text/plain": [
       "# current error = 0.012583389862557\t\n"
      ]
     },
     "execution_count": 156,
     "metadata": {},
     "output_type": "execute_result"
    },
    {
     "data": {
      "text/plain": [
       "# current error = 0.012583412032018\t\n"
      ]
     },
     "execution_count": 156,
     "metadata": {},
     "output_type": "execute_result"
    },
    {
     "data": {
      "text/plain": [
       "# current error = 0.012583436356304\t\n"
      ]
     },
     "execution_count": 156,
     "metadata": {},
     "output_type": "execute_result"
    },
    {
     "data": {
      "text/plain": [
       "# current error = 0.012583462849111\t\n"
      ]
     },
     "execution_count": 156,
     "metadata": {},
     "output_type": "execute_result"
    },
    {
     "data": {
      "text/plain": [
       "# current error = 0.012583491524173\t\n"
      ]
     },
     "execution_count": 156,
     "metadata": {},
     "output_type": "execute_result"
    },
    {
     "data": {
      "text/plain": [
       "# current error = 0.012583522395256\t\n"
      ]
     },
     "execution_count": 156,
     "metadata": {},
     "output_type": "execute_result"
    },
    {
     "data": {
      "text/plain": [
       "# current error = 0.012583555476167\t\n"
      ]
     },
     "execution_count": 156,
     "metadata": {},
     "output_type": "execute_result"
    },
    {
     "data": {
      "text/plain": [
       "# current error = 0.012583590780741\t\n"
      ]
     },
     "execution_count": 156,
     "metadata": {},
     "output_type": "execute_result"
    },
    {
     "data": {
      "text/plain": [
       "# current error = 0.012583628322852\t\n"
      ]
     },
     "execution_count": 156,
     "metadata": {},
     "output_type": "execute_result"
    },
    {
     "data": {
      "text/plain": [
       "# current error = 0.012583668116403\t\n"
      ]
     },
     "execution_count": 156,
     "metadata": {},
     "output_type": "execute_result"
    },
    {
     "data": {
      "text/plain": [
       "# current error = 0.012583710175331\t\n"
      ]
     },
     "execution_count": 156,
     "metadata": {},
     "output_type": "execute_result"
    },
    {
     "data": {
      "text/plain": [
       "# current error = 0.012583754513604\t\n"
      ]
     },
     "execution_count": 156,
     "metadata": {},
     "output_type": "execute_result"
    },
    {
     "data": {
      "text/plain": [
       "# current error = 0.01258380114522\t\n"
      ]
     },
     "execution_count": 156,
     "metadata": {},
     "output_type": "execute_result"
    },
    {
     "data": {
      "text/plain": [
       "# current error = 0.012583850084207\t\n"
      ]
     },
     "execution_count": 156,
     "metadata": {},
     "output_type": "execute_result"
    },
    {
     "data": {
      "text/plain": [
       "# current error = 0.01258390134462\t\n"
      ]
     },
     "execution_count": 156,
     "metadata": {},
     "output_type": "execute_result"
    },
    {
     "data": {
      "text/plain": [
       "# current error = 0.012583954940545\t\n"
      ]
     },
     "execution_count": 156,
     "metadata": {},
     "output_type": "execute_result"
    },
    {
     "data": {
      "text/plain": [
       "# current error = 0.012584010886094\t\n"
      ]
     },
     "execution_count": 156,
     "metadata": {},
     "output_type": "execute_result"
    },
    {
     "data": {
      "text/plain": [
       "# current error = 0.012584069195405\t\n"
      ]
     },
     "execution_count": 156,
     "metadata": {},
     "output_type": "execute_result"
    },
    {
     "data": {
      "text/plain": [
       "# current error = 0.012584129882641\t\n"
      ]
     },
     "execution_count": 156,
     "metadata": {},
     "output_type": "execute_result"
    },
    {
     "data": {
      "text/plain": [
       "# current error = 0.012584192961991\t\n"
      ]
     },
     "execution_count": 156,
     "metadata": {},
     "output_type": "execute_result"
    },
    {
     "data": {
      "text/plain": [
       "# current error = 0.012584258447668\t\n"
      ]
     },
     "execution_count": 156,
     "metadata": {},
     "output_type": "execute_result"
    },
    {
     "data": {
      "text/plain": [
       "# current error = 0.012584326353906\t\n"
      ]
     },
     "execution_count": 156,
     "metadata": {},
     "output_type": "execute_result"
    },
    {
     "data": {
      "text/plain": [
       "# current error = 0.012584396694964\t\n"
      ]
     },
     "execution_count": 156,
     "metadata": {},
     "output_type": "execute_result"
    },
    {
     "data": {
      "text/plain": [
       "# current error = 0.012584469485121\t\n"
      ]
     },
     "execution_count": 156,
     "metadata": {},
     "output_type": "execute_result"
    },
    {
     "data": {
      "text/plain": [
       "# current error = 0.012584544738677\t\n"
      ]
     },
     "execution_count": 156,
     "metadata": {},
     "output_type": "execute_result"
    },
    {
     "data": {
      "text/plain": [
       "# current error = 0.012584622469951\t\n"
      ]
     },
     "execution_count": 156,
     "metadata": {},
     "output_type": "execute_result"
    },
    {
     "data": {
      "text/plain": [
       "# current error = 0.01258470269328\t\n"
      ]
     },
     "execution_count": 156,
     "metadata": {},
     "output_type": "execute_result"
    },
    {
     "data": {
      "text/plain": [
       "# current error = 0.012584785423023\t\n"
      ]
     },
     "execution_count": 156,
     "metadata": {},
     "output_type": "execute_result"
    },
    {
     "data": {
      "text/plain": [
       "# current error = 0.012584870673551\t\n"
      ]
     },
     "execution_count": 156,
     "metadata": {},
     "output_type": "execute_result"
    },
    {
     "data": {
      "text/plain": [
       "# current error = 0.012584958459254\t\n"
      ]
     },
     "execution_count": 156,
     "metadata": {},
     "output_type": "execute_result"
    },
    {
     "data": {
      "text/plain": [
       "# current error = 0.012585048794538\t\n"
      ]
     },
     "execution_count": 156,
     "metadata": {},
     "output_type": "execute_result"
    },
    {
     "data": {
      "text/plain": [
       "# current error = 0.012585141693821\t\n"
      ]
     },
     "execution_count": 156,
     "metadata": {},
     "output_type": "execute_result"
    },
    {
     "data": {
      "text/plain": [
       "# current error = 0.012585237171537\t\n"
      ]
     },
     "execution_count": 156,
     "metadata": {},
     "output_type": "execute_result"
    },
    {
     "data": {
      "text/plain": [
       "# current error = 0.012585335242132\t\n"
      ]
     },
     "execution_count": 156,
     "metadata": {},
     "output_type": "execute_result"
    },
    {
     "data": {
      "text/plain": [
       "# current error = 0.012585435920062\t\n"
      ]
     },
     "execution_count": 156,
     "metadata": {},
     "output_type": "execute_result"
    },
    {
     "data": {
      "text/plain": [
       "# current error = 0.012585539219796\t\n"
      ]
     },
     "execution_count": 156,
     "metadata": {},
     "output_type": "execute_result"
    },
    {
     "data": {
      "text/plain": [
       "# current error = 0.012585645155813\t\n"
      ]
     },
     "execution_count": 156,
     "metadata": {},
     "output_type": "execute_result"
    },
    {
     "data": {
      "text/plain": [
       "# current error = 0.0125857537426\t\n"
      ]
     },
     "execution_count": 156,
     "metadata": {},
     "output_type": "execute_result"
    },
    {
     "data": {
      "text/plain": [
       "# current error = 0.012585864994653\t\n"
      ]
     },
     "execution_count": 156,
     "metadata": {},
     "output_type": "execute_result"
    },
    {
     "data": {
      "text/plain": [
       "# current error = 0.012585978926473\t\n"
      ]
     },
     "execution_count": 156,
     "metadata": {},
     "output_type": "execute_result"
    },
    {
     "data": {
      "text/plain": [
       "# current error = 0.01258609555257\t\n"
      ]
     },
     "execution_count": 156,
     "metadata": {},
     "output_type": "execute_result"
    },
    {
     "data": {
      "text/plain": [
       "# current error = 0.012586214887459\t\n"
      ]
     },
     "execution_count": 156,
     "metadata": {},
     "output_type": "execute_result"
    },
    {
     "data": {
      "text/plain": [
       "# current error = 0.012586336945657\t\n"
      ]
     },
     "execution_count": 156,
     "metadata": {},
     "output_type": "execute_result"
    },
    {
     "data": {
      "text/plain": [
       "# current error = 0.012586461741688\t\n"
      ]
     },
     "execution_count": 156,
     "metadata": {},
     "output_type": "execute_result"
    },
    {
     "data": {
      "text/plain": [
       "# current error = 0.012586589290074\t\n"
      ]
     },
     "execution_count": 156,
     "metadata": {},
     "output_type": "execute_result"
    },
    {
     "data": {
      "text/plain": [
       "# current error = 0.012586719605343\t\n"
      ]
     },
     "execution_count": 156,
     "metadata": {},
     "output_type": "execute_result"
    },
    {
     "data": {
      "text/plain": [
       "# current error = 0.01258685270202\t\n"
      ]
     },
     "execution_count": 156,
     "metadata": {},
     "output_type": "execute_result"
    },
    {
     "data": {
      "text/plain": [
       "# current error = 0.012586988594632\t\n"
      ]
     },
     "execution_count": 156,
     "metadata": {},
     "output_type": "execute_result"
    },
    {
     "data": {
      "text/plain": [
       "# current error = 0.012587127297703\t\n"
      ]
     },
     "execution_count": 156,
     "metadata": {},
     "output_type": "execute_result"
    },
    {
     "data": {
      "text/plain": [
       "# current error = 0.012587268825755\t\n"
      ]
     },
     "execution_count": 156,
     "metadata": {},
     "output_type": "execute_result"
    },
    {
     "data": {
      "text/plain": [
       "# current error = 0.012587413193307\t\n"
      ]
     },
     "execution_count": 156,
     "metadata": {},
     "output_type": "execute_result"
    },
    {
     "data": {
      "text/plain": [
       "# current error = 0.012587560414872\t\n"
      ]
     },
     "execution_count": 156,
     "metadata": {},
     "output_type": "execute_result"
    },
    {
     "data": {
      "text/plain": [
       "# current error = 0.012587710504959\t\n"
      ]
     },
     "execution_count": 156,
     "metadata": {},
     "output_type": "execute_result"
    },
    {
     "data": {
      "text/plain": [
       "# current error = 0.01258786347807\t\n"
      ]
     },
     "execution_count": 156,
     "metadata": {},
     "output_type": "execute_result"
    },
    {
     "data": {
      "text/plain": [
       "# current error = 0.0125880193487\t\n"
      ]
     },
     "execution_count": 156,
     "metadata": {},
     "output_type": "execute_result"
    },
    {
     "data": {
      "text/plain": [
       "# current error = 0.012588178131334\t\n"
      ]
     },
     "execution_count": 156,
     "metadata": {},
     "output_type": "execute_result"
    },
    {
     "data": {
      "text/plain": [
       "# current error = 0.01258833984045\t\n"
      ]
     },
     "execution_count": 156,
     "metadata": {},
     "output_type": "execute_result"
    },
    {
     "data": {
      "text/plain": [
       "# current error = 0.012588504490511\t\n"
      ]
     },
     "execution_count": 156,
     "metadata": {},
     "output_type": "execute_result"
    },
    {
     "data": {
      "text/plain": [
       "# current error = 0.012588672095973\t\n"
      ]
     },
     "execution_count": 156,
     "metadata": {},
     "output_type": "execute_result"
    },
    {
     "data": {
      "text/plain": [
       "# current error = 0.012588842671276\t\n"
      ]
     },
     "execution_count": 156,
     "metadata": {},
     "output_type": "execute_result"
    },
    {
     "data": {
      "text/plain": [
       "# current error = 0.012589016230848\t\n"
      ]
     },
     "execution_count": 156,
     "metadata": {},
     "output_type": "execute_result"
    },
    {
     "data": {
      "text/plain": [
       "# current error = 0.0125891927891\t\n"
      ]
     },
     "execution_count": 156,
     "metadata": {},
     "output_type": "execute_result"
    },
    {
     "data": {
      "text/plain": [
       "# current error = 0.012589372360429\t\n"
      ]
     },
     "execution_count": 156,
     "metadata": {},
     "output_type": "execute_result"
    },
    {
     "data": {
      "text/plain": [
       "# current error = 0.012589554959215\t\n"
      ]
     },
     "execution_count": 156,
     "metadata": {},
     "output_type": "execute_result"
    },
    {
     "data": {
      "text/plain": [
       "# current error = 0.012589740599817\t\n"
      ]
     },
     "execution_count": 156,
     "metadata": {},
     "output_type": "execute_result"
    },
    {
     "data": {
      "text/plain": [
       "# current error = 0.012589929296577\t\n"
      ]
     },
     "execution_count": 156,
     "metadata": {},
     "output_type": "execute_result"
    },
    {
     "data": {
      "text/plain": [
       "# current error = 0.012590121063817\t\n"
      ]
     },
     "execution_count": 156,
     "metadata": {},
     "output_type": "execute_result"
    },
    {
     "data": {
      "text/plain": [
       "# current error = 0.012590315915836\t\n"
      ]
     },
     "execution_count": 156,
     "metadata": {},
     "output_type": "execute_result"
    },
    {
     "data": {
      "text/plain": [
       "# current error = 0.012590513866911\t\n"
      ]
     },
     "execution_count": 156,
     "metadata": {},
     "output_type": "execute_result"
    },
    {
     "data": {
      "text/plain": [
       "# current error = 0.012590714931294\t\n"
      ]
     },
     "execution_count": 156,
     "metadata": {},
     "output_type": "execute_result"
    },
    {
     "data": {
      "text/plain": [
       "# current error = 0.012590919123214\t\n"
      ]
     },
     "execution_count": 156,
     "metadata": {},
     "output_type": "execute_result"
    },
    {
     "data": {
      "text/plain": [
       "# current error = 0.012591126456873\t\n"
      ]
     },
     "execution_count": 156,
     "metadata": {},
     "output_type": "execute_result"
    },
    {
     "data": {
      "text/plain": [
       "# current error = 0.012591336946445\t\n"
      ]
     },
     "execution_count": 156,
     "metadata": {},
     "output_type": "execute_result"
    },
    {
     "data": {
      "text/plain": [
       "# current error = 0.012591550606076\t\n"
      ]
     },
     "execution_count": 156,
     "metadata": {},
     "output_type": "execute_result"
    },
    {
     "data": {
      "text/plain": [
       "# current error = 0.012591767449883\t\n"
      ]
     },
     "execution_count": 156,
     "metadata": {},
     "output_type": "execute_result"
    },
    {
     "data": {
      "text/plain": [
       "# current error = 0.012591987491951\t\n"
      ]
     },
     "execution_count": 156,
     "metadata": {},
     "output_type": "execute_result"
    },
    {
     "data": {
      "text/plain": [
       "# current error = 0.012592210746335\t\n"
      ]
     },
     "execution_count": 156,
     "metadata": {},
     "output_type": "execute_result"
    },
    {
     "data": {
      "text/plain": [
       "# current error = 0.012592437227054\t\n"
      ]
     },
     "execution_count": 156,
     "metadata": {},
     "output_type": "execute_result"
    },
    {
     "data": {
      "text/plain": [
       "# current error = 0.012592666948095\t\n"
      ]
     },
     "execution_count": 156,
     "metadata": {},
     "output_type": "execute_result"
    },
    {
     "data": {
      "text/plain": [
       "# current error = 0.012592899923409\t\n"
      ]
     },
     "execution_count": 156,
     "metadata": {},
     "output_type": "execute_result"
    },
    {
     "data": {
      "text/plain": [
       "# current error = 0.012593136166908\t\n"
      ]
     },
     "execution_count": 156,
     "metadata": {},
     "output_type": "execute_result"
    },
    {
     "data": {
      "text/plain": [
       "# current error = 0.01259337569247\t\n"
      ]
     },
     "execution_count": 156,
     "metadata": {},
     "output_type": "execute_result"
    },
    {
     "data": {
      "text/plain": [
       "# current error = 0.012593618513929\t\n"
      ]
     },
     "execution_count": 156,
     "metadata": {},
     "output_type": "execute_result"
    },
    {
     "data": {
      "text/plain": [
       "# current error = 0.012593864645083\t\n"
      ]
     },
     "execution_count": 156,
     "metadata": {},
     "output_type": "execute_result"
    },
    {
     "data": {
      "text/plain": [
       "# current error = 0.012594114099684\t\n"
      ]
     },
     "execution_count": 156,
     "metadata": {},
     "output_type": "execute_result"
    },
    {
     "data": {
      "text/plain": [
       "# current error = 0.012594366891445\t\n"
      ]
     },
     "execution_count": 156,
     "metadata": {},
     "output_type": "execute_result"
    },
    {
     "data": {
      "text/plain": [
       "# current error = 0.012594623034033\t\n"
      ]
     },
     "execution_count": 156,
     "metadata": {},
     "output_type": "execute_result"
    },
    {
     "data": {
      "text/plain": [
       "# current error = 0.012594882541068\t\n"
      ]
     },
     "execution_count": 156,
     "metadata": {},
     "output_type": "execute_result"
    },
    {
     "data": {
      "text/plain": [
       "# current error = 0.012595145426125\t\n"
      ]
     },
     "execution_count": 156,
     "metadata": {},
     "output_type": "execute_result"
    },
    {
     "data": {
      "text/plain": [
       "# current error = 0.01259541170273\t\n"
      ]
     },
     "execution_count": 156,
     "metadata": {},
     "output_type": "execute_result"
    },
    {
     "data": {
      "text/plain": [
       "# current error = 0.012595681384362\t\n"
      ]
     },
     "execution_count": 156,
     "metadata": {},
     "output_type": "execute_result"
    },
    {
     "data": {
      "text/plain": [
       "# current error = 0.012595954484445\t\n"
      ]
     },
     "execution_count": 156,
     "metadata": {},
     "output_type": "execute_result"
    },
    {
     "data": {
      "text/plain": [
       "# current error = 0.012596231016355\t\n"
      ]
     },
     "execution_count": 156,
     "metadata": {},
     "output_type": "execute_result"
    },
    {
     "data": {
      "text/plain": [
       "# current error = 0.012596510993413\t\n"
      ]
     },
     "execution_count": 156,
     "metadata": {},
     "output_type": "execute_result"
    },
    {
     "data": {
      "text/plain": [
       "# current error = 0.012596794428885\t\n"
      ]
     },
     "execution_count": 156,
     "metadata": {},
     "output_type": "execute_result"
    },
    {
     "data": {
      "text/plain": [
       "# current error = 0.012597081335982\t\n"
      ]
     },
     "execution_count": 156,
     "metadata": {},
     "output_type": "execute_result"
    },
    {
     "data": {
      "text/plain": [
       "# current error = 0.012597371727858\t\n"
      ]
     },
     "execution_count": 156,
     "metadata": {},
     "output_type": "execute_result"
    },
    {
     "data": {
      "text/plain": [
       "# current error = 0.012597665617606\t\n"
      ]
     },
     "execution_count": 156,
     "metadata": {},
     "output_type": "execute_result"
    },
    {
     "data": {
      "text/plain": [
       "# current error = 0.012597963018263\t\n"
      ]
     },
     "execution_count": 156,
     "metadata": {},
     "output_type": "execute_result"
    },
    {
     "data": {
      "text/plain": [
       "# current error = 0.012598263942801\t\n"
      ]
     },
     "execution_count": 156,
     "metadata": {},
     "output_type": "execute_result"
    },
    {
     "data": {
      "text/plain": [
       "# current error = 0.012598568404131\t\n"
      ]
     },
     "execution_count": 156,
     "metadata": {},
     "output_type": "execute_result"
    },
    {
     "data": {
      "text/plain": [
       "# current error = 0.012598876415101\t\n"
      ]
     },
     "execution_count": 156,
     "metadata": {},
     "output_type": "execute_result"
    },
    {
     "data": {
      "text/plain": [
       "# current error = 0.012599187988491\t\n"
      ]
     },
     "execution_count": 156,
     "metadata": {},
     "output_type": "execute_result"
    },
    {
     "data": {
      "text/plain": [
       "# current error = 0.012599503137018\t\n"
      ]
     },
     "execution_count": 156,
     "metadata": {},
     "output_type": "execute_result"
    },
    {
     "data": {
      "text/plain": [
       "# current error = 0.012599821873326\t\n"
      ]
     },
     "execution_count": 156,
     "metadata": {},
     "output_type": "execute_result"
    },
    {
     "data": {
      "text/plain": [
       "# current error = 0.012600144209994\t\n"
      ]
     },
     "execution_count": 156,
     "metadata": {},
     "output_type": "execute_result"
    },
    {
     "data": {
      "text/plain": [
       "# current error = 0.012600470159527\t\n"
      ]
     },
     "execution_count": 156,
     "metadata": {},
     "output_type": "execute_result"
    },
    {
     "data": {
      "text/plain": [
       "# current error = 0.01260079973436\t\n"
      ]
     },
     "execution_count": 156,
     "metadata": {},
     "output_type": "execute_result"
    },
    {
     "data": {
      "text/plain": [
       "# current error = 0.012601132946852\t\n"
      ]
     },
     "execution_count": 156,
     "metadata": {},
     "output_type": "execute_result"
    },
    {
     "data": {
      "text/plain": [
       "# current error = 0.012601469809288\t\n"
      ]
     },
     "execution_count": 156,
     "metadata": {},
     "output_type": "execute_result"
    },
    {
     "data": {
      "text/plain": [
       "# current error = 0.012601810333877\t\n"
      ]
     },
     "execution_count": 156,
     "metadata": {},
     "output_type": "execute_result"
    },
    {
     "data": {
      "text/plain": [
       "# current error = 0.012602154532748\t\n"
      ]
     },
     "execution_count": 156,
     "metadata": {},
     "output_type": "execute_result"
    },
    {
     "data": {
      "text/plain": [
       "# current error = 0.012602502417953\t\n"
      ]
     },
     "execution_count": 156,
     "metadata": {},
     "output_type": "execute_result"
    },
    {
     "data": {
      "text/plain": [
       "# current error = 0.012602854001462\t\n"
      ]
     },
     "execution_count": 156,
     "metadata": {},
     "output_type": "execute_result"
    },
    {
     "data": {
      "text/plain": [
       "# current error = 0.012603209295161\t\n"
      ]
     },
     "execution_count": 156,
     "metadata": {},
     "output_type": "execute_result"
    },
    {
     "data": {
      "text/plain": [
       "# current error = 0.012603568310855\t\n"
      ]
     },
     "execution_count": 156,
     "metadata": {},
     "output_type": "execute_result"
    },
    {
     "data": {
      "text/plain": [
       "# current error = 0.012603931060263\t\n"
      ]
     },
     "execution_count": 156,
     "metadata": {},
     "output_type": "execute_result"
    },
    {
     "data": {
      "text/plain": [
       "# current error = 0.012604297555015\t\n"
      ]
     },
     "execution_count": 156,
     "metadata": {},
     "output_type": "execute_result"
    },
    {
     "data": {
      "text/plain": [
       "# current error = 0.012604667806656\t\n"
      ]
     },
     "execution_count": 156,
     "metadata": {},
     "output_type": "execute_result"
    },
    {
     "data": {
      "text/plain": [
       "# current error = 0.012605041826639\t\n"
      ]
     },
     "execution_count": 156,
     "metadata": {},
     "output_type": "execute_result"
    },
    {
     "data": {
      "text/plain": [
       "# current error = 0.012605419626327\t\n"
      ]
     },
     "execution_count": 156,
     "metadata": {},
     "output_type": "execute_result"
    },
    {
     "data": {
      "text/plain": [
       "# current error = 0.01260580121699\t\n"
      ]
     },
     "execution_count": 156,
     "metadata": {},
     "output_type": "execute_result"
    },
    {
     "data": {
      "text/plain": [
       "# current error = 0.012606186609803\t\n"
      ]
     },
     "execution_count": 156,
     "metadata": {},
     "output_type": "execute_result"
    },
    {
     "data": {
      "text/plain": [
       "# current error = 0.012606575815848\t\n"
      ]
     },
     "execution_count": 156,
     "metadata": {},
     "output_type": "execute_result"
    },
    {
     "data": {
      "text/plain": [
       "# current error = 0.012606968846106\t\n"
      ]
     },
     "execution_count": 156,
     "metadata": {},
     "output_type": "execute_result"
    },
    {
     "data": {
      "text/plain": [
       "# current error = 0.012607365711463\t\n"
      ]
     },
     "execution_count": 156,
     "metadata": {},
     "output_type": "execute_result"
    },
    {
     "data": {
      "text/plain": [
       "# current error = 0.012607766422702\t\n"
      ]
     },
     "execution_count": 156,
     "metadata": {},
     "output_type": "execute_result"
    },
    {
     "data": {
      "text/plain": [
       "# current error = 0.012608170990506\t\n"
      ]
     },
     "execution_count": 156,
     "metadata": {},
     "output_type": "execute_result"
    },
    {
     "data": {
      "text/plain": [
       "# current error = 0.012608579425454\t\n"
      ]
     },
     "execution_count": 156,
     "metadata": {},
     "output_type": "execute_result"
    },
    {
     "data": {
      "text/plain": [
       "# current error = 0.012608991738021\t\n"
      ]
     },
     "execution_count": 156,
     "metadata": {},
     "output_type": "execute_result"
    },
    {
     "data": {
      "text/plain": [
       "# current error = 0.012609407938574\t\n"
      ]
     },
     "execution_count": 156,
     "metadata": {},
     "output_type": "execute_result"
    },
    {
     "data": {
      "text/plain": [
       "# current error = 0.012609828037373\t\n"
      ]
     },
     "execution_count": 156,
     "metadata": {},
     "output_type": "execute_result"
    },
    {
     "data": {
      "text/plain": [
       "# current error = 0.012610252044571\t\n"
      ]
     },
     "execution_count": 156,
     "metadata": {},
     "output_type": "execute_result"
    },
    {
     "data": {
      "text/plain": [
       "# current error = 0.012610679970205\t\n"
      ]
     },
     "execution_count": 156,
     "metadata": {},
     "output_type": "execute_result"
    },
    {
     "data": {
      "text/plain": [
       "# current error = 0.012611111824204\t\n"
      ]
     },
     "execution_count": 156,
     "metadata": {},
     "output_type": "execute_result"
    },
    {
     "data": {
      "text/plain": [
       "# current error = 0.012611547616382\t\n"
      ]
     },
     "execution_count": 156,
     "metadata": {},
     "output_type": "execute_result"
    },
    {
     "data": {
      "text/plain": [
       "# current error = 0.012611987356434\t\n"
      ]
     },
     "execution_count": 156,
     "metadata": {},
     "output_type": "execute_result"
    },
    {
     "data": {
      "text/plain": [
       "# current error = 0.012612431053943\t\n"
      ]
     },
     "execution_count": 156,
     "metadata": {},
     "output_type": "execute_result"
    },
    {
     "data": {
      "text/plain": [
       "# current error = 0.012612878718369\t\n"
      ]
     },
     "execution_count": 156,
     "metadata": {},
     "output_type": "execute_result"
    },
    {
     "data": {
      "text/plain": [
       "# current error = 0.012613330359054\t\n"
      ]
     },
     "execution_count": 156,
     "metadata": {},
     "output_type": "execute_result"
    },
    {
     "data": {
      "text/plain": [
       "# current error = 0.012613785985217\t\n"
      ]
     },
     "execution_count": 156,
     "metadata": {},
     "output_type": "execute_result"
    },
    {
     "data": {
      "text/plain": [
       "# current error = 0.012614245605954\t\n"
      ]
     },
     "execution_count": 156,
     "metadata": {},
     "output_type": "execute_result"
    },
    {
     "data": {
      "text/plain": [
       "# current error = 0.012614709230235\t\n"
      ]
     },
     "execution_count": 156,
     "metadata": {},
     "output_type": "execute_result"
    },
    {
     "data": {
      "text/plain": [
       "# current error = 0.012615176866904\t\n"
      ]
     },
     "execution_count": 156,
     "metadata": {},
     "output_type": "execute_result"
    },
    {
     "data": {
      "text/plain": [
       "# current error = 0.012615648524678\t\n"
      ]
     },
     "execution_count": 156,
     "metadata": {},
     "output_type": "execute_result"
    },
    {
     "data": {
      "text/plain": [
       "# current error = 0.012616124212141\t\n"
      ]
     },
     "execution_count": 156,
     "metadata": {},
     "output_type": "execute_result"
    },
    {
     "data": {
      "text/plain": [
       "# current error = 0.012616603937748\t\n"
      ]
     },
     "execution_count": 156,
     "metadata": {},
     "output_type": "execute_result"
    },
    {
     "data": {
      "text/plain": [
       "# current error = 0.012617087709819\t\n"
      ]
     },
     "execution_count": 156,
     "metadata": {},
     "output_type": "execute_result"
    },
    {
     "data": {
      "text/plain": [
       "# current error = 0.012617575536541\t\n"
      ]
     },
     "execution_count": 156,
     "metadata": {},
     "output_type": "execute_result"
    },
    {
     "data": {
      "text/plain": [
       "# current error = 0.012618067425965\t\n"
      ]
     },
     "execution_count": 156,
     "metadata": {},
     "output_type": "execute_result"
    },
    {
     "data": {
      "text/plain": [
       "# current error = 0.012618563386\t\n"
      ]
     },
     "execution_count": 156,
     "metadata": {},
     "output_type": "execute_result"
    },
    {
     "data": {
      "text/plain": [
       "# current error = 0.012619063424421\t\n"
      ]
     },
     "execution_count": 156,
     "metadata": {},
     "output_type": "execute_result"
    },
    {
     "data": {
      "text/plain": [
       "# current error = 0.012619567548859\t\n"
      ]
     },
     "execution_count": 156,
     "metadata": {},
     "output_type": "execute_result"
    },
    {
     "data": {
      "text/plain": [
       "# current error = 0.0126200757668\t\n"
      ]
     },
     "execution_count": 156,
     "metadata": {},
     "output_type": "execute_result"
    },
    {
     "data": {
      "text/plain": [
       "# current error = 0.01262058808559\t\n"
      ]
     },
     "execution_count": 156,
     "metadata": {},
     "output_type": "execute_result"
    },
    {
     "data": {
      "text/plain": [
       "# current error = 0.012621104512426\t\n"
      ]
     },
     "execution_count": 156,
     "metadata": {},
     "output_type": "execute_result"
    },
    {
     "data": {
      "text/plain": [
       "# current error = 0.012621625054358\t\n"
      ]
     },
     "execution_count": 156,
     "metadata": {},
     "output_type": "execute_result"
    },
    {
     "data": {
      "text/plain": [
       "# current error = 0.012622149718287\t\n"
      ]
     },
     "execution_count": 156,
     "metadata": {},
     "output_type": "execute_result"
    },
    {
     "data": {
      "text/plain": [
       "# current error = 0.012622678510961\t\n"
      ]
     },
     "execution_count": 156,
     "metadata": {},
     "output_type": "execute_result"
    },
    {
     "data": {
      "text/plain": [
       "# current error = 0.012623211438979\t\n"
      ]
     },
     "execution_count": 156,
     "metadata": {},
     "output_type": "execute_result"
    },
    {
     "data": {
      "text/plain": [
       "# current error = 0.012623748508782\t\n"
      ]
     },
     "execution_count": 156,
     "metadata": {},
     "output_type": "execute_result"
    },
    {
     "data": {
      "text/plain": [
       "# current error = 0.012624289726658\t\n"
      ]
     },
     "execution_count": 156,
     "metadata": {},
     "output_type": "execute_result"
    },
    {
     "data": {
      "text/plain": [
       "# current error = 0.012624835098736\t\n"
      ]
     },
     "execution_count": 156,
     "metadata": {},
     "output_type": "execute_result"
    },
    {
     "data": {
      "text/plain": [
       "# current error = 0.012625384630985\t\n"
      ]
     },
     "execution_count": 156,
     "metadata": {},
     "output_type": "execute_result"
    },
    {
     "data": {
      "text/plain": [
       "# current error = 0.012625938329216\t\n"
      ]
     },
     "execution_count": 156,
     "metadata": {},
     "output_type": "execute_result"
    },
    {
     "data": {
      "text/plain": [
       "# current error = 0.012626496199074\t\n"
      ]
     },
     "execution_count": 156,
     "metadata": {},
     "output_type": "execute_result"
    },
    {
     "data": {
      "text/plain": [
       "# current error = 0.012627058246043\t\n"
      ]
     },
     "execution_count": 156,
     "metadata": {},
     "output_type": "execute_result"
    },
    {
     "data": {
      "text/plain": [
       "# current error = 0.012627624475439\t\n"
      ]
     },
     "execution_count": 156,
     "metadata": {},
     "output_type": "execute_result"
    },
    {
     "data": {
      "text/plain": [
       "# current error = 0.012628194892411\t\n"
      ]
     },
     "execution_count": 156,
     "metadata": {},
     "output_type": "execute_result"
    },
    {
     "data": {
      "text/plain": [
       "# current error = 0.01262876950194\t\n"
      ]
     },
     "execution_count": 156,
     "metadata": {},
     "output_type": "execute_result"
    },
    {
     "data": {
      "text/plain": [
       "# current error = 0.012629348308835\t\n"
      ]
     },
     "execution_count": 156,
     "metadata": {},
     "output_type": "execute_result"
    },
    {
     "data": {
      "text/plain": [
       "# current error = 0.012629931317734\t\n"
      ]
     },
     "execution_count": 156,
     "metadata": {},
     "output_type": "execute_result"
    },
    {
     "data": {
      "text/plain": [
       "# current error = 0.0126305185331\t\n"
      ]
     },
     "execution_count": 156,
     "metadata": {},
     "output_type": "execute_result"
    },
    {
     "data": {
      "text/plain": [
       "# current error = 0.01263110995922\t\n"
      ]
     },
     "execution_count": 156,
     "metadata": {},
     "output_type": "execute_result"
    },
    {
     "data": {
      "text/plain": [
       "# current error = 0.012631705600205\t\n"
      ]
     },
     "execution_count": 156,
     "metadata": {},
     "output_type": "execute_result"
    },
    {
     "data": {
      "text/plain": [
       "# current error = 0.012632305459987\t\n"
      ]
     },
     "execution_count": 156,
     "metadata": {},
     "output_type": "execute_result"
    },
    {
     "data": {
      "text/plain": [
       "# current error = 0.012632909542315\t\n"
      ]
     },
     "execution_count": 156,
     "metadata": {},
     "output_type": "execute_result"
    },
    {
     "data": {
      "text/plain": [
       "# current error = 0.01263351785076\t\n"
      ]
     },
     "execution_count": 156,
     "metadata": {},
     "output_type": "execute_result"
    },
    {
     "data": {
      "text/plain": [
       "# current error = 0.012634130388705\t\n"
      ]
     },
     "execution_count": 156,
     "metadata": {},
     "output_type": "execute_result"
    },
    {
     "data": {
      "text/plain": [
       "# current error = 0.012634747159349\t\n"
      ]
     },
     "execution_count": 156,
     "metadata": {},
     "output_type": "execute_result"
    },
    {
     "data": {
      "text/plain": [
       "# current error = 0.012635368165706\t\n"
      ]
     },
     "execution_count": 156,
     "metadata": {},
     "output_type": "execute_result"
    },
    {
     "data": {
      "text/plain": [
       "# current error = 0.012635993410598\t\n"
      ]
     },
     "execution_count": 156,
     "metadata": {},
     "output_type": "execute_result"
    },
    {
     "data": {
      "text/plain": [
       "# current error = 0.012636622896659\t\n"
      ]
     },
     "execution_count": 156,
     "metadata": {},
     "output_type": "execute_result"
    },
    {
     "data": {
      "text/plain": [
       "# current error = 0.01263725662633\t\n"
      ]
     },
     "execution_count": 156,
     "metadata": {},
     "output_type": "execute_result"
    },
    {
     "data": {
      "text/plain": [
       "# current error = 0.012637894601858\t\n"
      ]
     },
     "execution_count": 156,
     "metadata": {},
     "output_type": "execute_result"
    },
    {
     "data": {
      "text/plain": [
       "# current error = 0.012638536825296\t\n"
      ]
     },
     "execution_count": 156,
     "metadata": {},
     "output_type": "execute_result"
    },
    {
     "data": {
      "text/plain": [
       "# current error = 0.012639183298498\t\n"
      ]
     },
     "execution_count": 156,
     "metadata": {},
     "output_type": "execute_result"
    },
    {
     "data": {
      "text/plain": [
       "# current error = 0.012639834023122\t\n"
      ]
     },
     "execution_count": 156,
     "metadata": {},
     "output_type": "execute_result"
    },
    {
     "data": {
      "text/plain": [
       "# current error = 0.012640489000625\t\n"
      ]
     },
     "execution_count": 156,
     "metadata": {},
     "output_type": "execute_result"
    },
    {
     "data": {
      "text/plain": [
       "# current error = 0.012641148232261\t\n"
      ]
     },
     "execution_count": 156,
     "metadata": {},
     "output_type": "execute_result"
    },
    {
     "data": {
      "text/plain": [
       "# current error = 0.012641811719083\t\n"
      ]
     },
     "execution_count": 156,
     "metadata": {},
     "output_type": "execute_result"
    },
    {
     "data": {
      "text/plain": [
       "# current error = 0.012642479461938\t\n"
      ]
     },
     "execution_count": 156,
     "metadata": {},
     "output_type": "execute_result"
    },
    {
     "data": {
      "text/plain": [
       "# current error = 0.012643151461466\t\n"
      ]
     },
     "execution_count": 156,
     "metadata": {},
     "output_type": "execute_result"
    },
    {
     "data": {
      "text/plain": [
       "# current error = 0.012643827718099\t\n"
      ]
     },
     "execution_count": 156,
     "metadata": {},
     "output_type": "execute_result"
    },
    {
     "data": {
      "text/plain": [
       "# current error = 0.012644508232061\t\n"
      ]
     },
     "execution_count": 156,
     "metadata": {},
     "output_type": "execute_result"
    },
    {
     "data": {
      "text/plain": [
       "# current error = 0.012645193003363\t\n"
      ]
     },
     "execution_count": 156,
     "metadata": {},
     "output_type": "execute_result"
    },
    {
     "data": {
      "text/plain": [
       "# current error = 0.012645882031804\t\n"
      ]
     },
     "execution_count": 156,
     "metadata": {},
     "output_type": "execute_result"
    },
    {
     "data": {
      "text/plain": [
       "# current error = 0.012646575316967\t\n"
      ]
     },
     "execution_count": 156,
     "metadata": {},
     "output_type": "execute_result"
    },
    {
     "data": {
      "text/plain": [
       "# current error = 0.012647272858223\t\n"
      ]
     },
     "execution_count": 156,
     "metadata": {},
     "output_type": "execute_result"
    },
    {
     "data": {
      "text/plain": [
       "# current error = 0.012647974654722\t\n"
      ]
     },
     "execution_count": 156,
     "metadata": {},
     "output_type": "execute_result"
    },
    {
     "data": {
      "text/plain": [
       "# current error = 0.012648680705395\t\n"
      ]
     },
     "execution_count": 156,
     "metadata": {},
     "output_type": "execute_result"
    },
    {
     "data": {
      "text/plain": [
       "# current error = 0.012649391008955\t\n"
      ]
     },
     "execution_count": 156,
     "metadata": {},
     "output_type": "execute_result"
    },
    {
     "data": {
      "text/plain": [
       "# current error = 0.012650105563891\t\n"
      ]
     },
     "execution_count": 156,
     "metadata": {},
     "output_type": "execute_result"
    },
    {
     "data": {
      "text/plain": [
       "# current error = 0.012650824368469\t\n"
      ]
     },
     "execution_count": 156,
     "metadata": {},
     "output_type": "execute_result"
    },
    {
     "data": {
      "text/plain": [
       "# current error = 0.012651547420729\t\n"
      ]
     },
     "execution_count": 156,
     "metadata": {},
     "output_type": "execute_result"
    },
    {
     "data": {
      "text/plain": [
       "# current error = 0.012652274718486\t\n"
      ]
     },
     "execution_count": 156,
     "metadata": {},
     "output_type": "execute_result"
    },
    {
     "data": {
      "text/plain": [
       "# current error = 0.012653006259325\t\n"
      ]
     },
     "execution_count": 156,
     "metadata": {},
     "output_type": "execute_result"
    },
    {
     "data": {
      "text/plain": [
       "# current error = 0.012653742040604\t\n"
      ]
     },
     "execution_count": 156,
     "metadata": {},
     "output_type": "execute_result"
    },
    {
     "data": {
      "text/plain": [
       "# current error = 0.012654482059447\t\n"
      ]
     },
     "execution_count": 156,
     "metadata": {},
     "output_type": "execute_result"
    },
    {
     "data": {
      "text/plain": [
       "# current error = 0.012655226312747\t\n"
      ]
     },
     "execution_count": 156,
     "metadata": {},
     "output_type": "execute_result"
    },
    {
     "data": {
      "text/plain": [
       "# current error = 0.012655974797164\t\n"
      ]
     },
     "execution_count": 156,
     "metadata": {},
     "output_type": "execute_result"
    },
    {
     "data": {
      "text/plain": [
       "# current error = 0.012656727509119\t\n"
      ]
     },
     "execution_count": 156,
     "metadata": {},
     "output_type": "execute_result"
    },
    {
     "data": {
      "text/plain": [
       "# current error = 0.0126574844448\t\n"
      ]
     },
     "execution_count": 156,
     "metadata": {},
     "output_type": "execute_result"
    },
    {
     "data": {
      "text/plain": [
       "# current error = 0.012658245600155\t\n"
      ]
     },
     "execution_count": 156,
     "metadata": {},
     "output_type": "execute_result"
    },
    {
     "data": {
      "text/plain": [
       "# current error = 0.012659010970892\t\n"
      ]
     },
     "execution_count": 156,
     "metadata": {},
     "output_type": "execute_result"
    },
    {
     "data": {
      "text/plain": [
       "# current error = 0.012659780552479\t\n"
      ]
     },
     "execution_count": 156,
     "metadata": {},
     "output_type": "execute_result"
    },
    {
     "data": {
      "text/plain": [
       "# current error = 0.012660554340139\t\n"
      ]
     },
     "execution_count": 156,
     "metadata": {},
     "output_type": "execute_result"
    },
    {
     "data": {
      "text/plain": [
       "# current error = 0.012661332328854\t\n"
      ]
     },
     "execution_count": 156,
     "metadata": {},
     "output_type": "execute_result"
    },
    {
     "data": {
      "text/plain": [
       "# current error = 0.012662114513358\t\n"
      ]
     },
     "execution_count": 156,
     "metadata": {},
     "output_type": "execute_result"
    },
    {
     "data": {
      "text/plain": [
       "# current error = 0.012662900888141\t\n"
      ]
     },
     "execution_count": 156,
     "metadata": {},
     "output_type": "execute_result"
    },
    {
     "data": {
      "text/plain": [
       "# current error = 0.012663691447444\t\n",
       "# StochasticGradient: you have reached the maximum number of iterations\t\n",
       "# training error = 0.012663691447444\t\n",
       " 0.0001\n",
       " 0.0327\n",
       " 0.9672\n",
       "[torch.DoubleTensor of size 3]\n",
       "\n"
      ]
     },
     "execution_count": 156,
     "metadata": {},
     "output_type": "execute_result"
    }
   ],
   "source": [
    "local f = csv.open('iris.csv')\n",
    "for cols in f:lines() do\n",
    "    local input = torch.Tensor(4)\n",
    "    local output = torch.Tensor(3)\n",
    "    for i,v in ipairs(cols) do\n",
    "        if i>=2 and i<=5 then\n",
    "            input[i-1] = v\n",
    "        end\n",
    "        if i==6 then\n",
    "            for j=1,3 do\n",
    "                output[j] = j==ans[v] and 1 or 0\n",
    "            end\n",
    "        end\n",
    "        print(input,output)\n",
    "    end\n",
    "    size = size+1\n",
    "    dataset[size] = {input,output}\n",
    "end\n",
    "\n",
    "function dataset:size() return size end\n",
    "\n",
    "--make model\n",
    "nhidden = 5\n",
    "\n",
    "model = nn.Sequential();\n",
    "model:add(nn.Linear(4,nhidden))\n",
    "model:add(nn.Tanh())\n",
    "model:add(nn.Linear(nhidden,3))\n",
    "model:add(nn.SoftMax())\n",
    "\n",
    "print(model)\n",
    "\n",
    "criterion = nn.MSECriterion()\n",
    "trainer = nn.StochasticGradient(model,criterion)\n",
    "trainer.learningRate = 0.01\n",
    "trainer.maxIteration = 1000\n",
    "trainer:train(dataset)\n",
    "\n",
    "test1_in = torch.Tensor(4)\n",
    "test1_in[1] = 6.7\n",
    "test1_in[2] = 2.5\n",
    "test1_in[3] = 5.8\n",
    "test1_in[4] = 1.8\n",
    "\n",
    "test1_out = model:forward(test1_in)\n",
    "print(test1_out)"
   ]
  },
  {
   "cell_type": "code",
   "execution_count": null,
   "metadata": {
    "collapsed": true
   },
   "outputs": [],
   "source": []
  },
  {
   "cell_type": "code",
   "execution_count": null,
   "metadata": {
    "collapsed": true
   },
   "outputs": [],
   "source": []
  },
  {
   "cell_type": "code",
   "execution_count": 157,
   "metadata": {
    "collapsed": true
   },
   "outputs": [],
   "source": [
    "------------------------------------------------------------------------------------------------------------"
   ]
  },
  {
   "cell_type": "code",
   "execution_count": 158,
   "metadata": {
    "collapsed": true
   },
   "outputs": [],
   "source": [
    "----Practical 4, Oxford"
   ]
  },
  {
   "cell_type": "code",
   "execution_count": 159,
   "metadata": {
    "collapsed": true
   },
   "outputs": [],
   "source": [
    "--load the csv data file"
   ]
  },
  {
   "cell_type": "code",
   "execution_count": 192,
   "metadata": {
    "collapsed": false
   },
   "outputs": [],
   "source": [
    "require 'torch'\n",
    "require 'nn'\n",
    "require 'math'\n",
    "require 'optim'\n",
    "require 'gnuplot'\n",
    "\n",
    "-- Similar to mnist-loader from last practical, loads IRIS dataset train/test split\n",
    "-- has load_train function that returns table like { inputs = ... , targets = ... }, a tensor for inputs and targets.\n",
    "-- has classname_to_index function that returns a table mapping class number (1, 2, 3) to the 3 flower names\n",
    "\n",
    "local loader = {}\n",
    "\n",
    "local lookup = {\"Iris-setosa\", \"Iris-versicolor\", \"Iris-virginica\"}\n",
    "local classname_to_index = {}\n",
    "for k,v in pairs(lookup) do\n",
    "    classname_to_index[v] = k\n",
    "end\n",
    "function loader.classname_to_index(name)\n",
    "  return classname_to_index[name]\n",
    "end\n",
    "\n",
    "function load_data()\n",
    "  -- load\n",
    "  local data = {}\n",
    "  data.inputs = {}\n",
    "  data.targets = {}\n",
    "  data.targets_by_name = {}\n",
    "\n",
    "  local f = torch.DiskFile(\"iris.data.csv\", \"r\")\n",
    "  f:quiet()\n",
    "\n",
    "  local line =  f:readString(\"*l\")\n",
    "  while line ~= '' do\n",
    "      f1, f2, f3, f4, class_name = string.match(line, '([^,]+),([^,]+),([^,]+),([^,]+),([^,]+)')\n",
    "      data.inputs[#data.inputs + 1] = {tonumber(f1), tonumber(f2), tonumber(f3), tonumber(f4)}\n",
    "      data.targets[#data.targets + 1] = loader.classname_to_index(class_name)\n",
    "      data.targets_by_name[#data.targets_by_name + 1] = class_name\n",
    "      line = f:readString(\"*l\")\n",
    "  end\n",
    "\n",
    "  data.inputs = torch.Tensor(data.inputs)\n",
    "  data.targets = torch.Tensor(data.targets)\n",
    "\n",
    "  -- shuffle the dataset\n",
    "  local shuffled_indices = torch.randperm(data.inputs:size(1)):long()\n",
    "  -- creates a shuffled *copy*, with a new storage\n",
    "  data.inputs = data.inputs:index(1, shuffled_indices):squeeze()\n",
    "  data.targets = data.targets:index(1, shuffled_indices):squeeze()\n",
    "\n",
    "  print('--------------------------------')\n",
    "  print('Loaded. Sizes:')\n",
    "  print('inputs', data.inputs:size())\n",
    "  print('targets', data.targets:size())\n",
    "  print('--------------------------------')\n",
    "\n",
    "  return data\n",
    "end\n",
    "\n",
    "--return loader\n"
   ]
  },
  {
   "cell_type": "code",
   "execution_count": 193,
   "metadata": {
    "collapsed": false
   },
   "outputs": [
    {
     "data": {
      "text/plain": [
       "--------------------------------\t\n",
       "Loaded. Sizes:\t\n",
       "inputs\t\n",
       " 150\n",
       "   4\n",
       "[torch.LongStorage of size 2]\n",
       "\n",
       "targets\t\n",
       " 150\n",
       "[torch.LongStorage of size 1]\n",
       "\n",
       "--------------------------------\t\n"
      ]
     },
     "execution_count": 193,
     "metadata": {},
     "output_type": "execute_result"
    }
   ],
   "source": [
    "data = load_data()"
   ]
  },
  {
   "cell_type": "code",
   "execution_count": 203,
   "metadata": {
    "collapsed": true
   },
   "outputs": [],
   "source": [
    "--create model\n",
    "function create_model(opt)\n",
    "  ------------------------------------------------------------------------------\n",
    "  -- MODEL\n",
    "  ------------------------------------------------------------------------------\n",
    "  local n_inputs = 4\n",
    "  local embedding_dim = 2\n",
    "  local n_classes = 3\n",
    "\n",
    "  -- OUR MODEL:\n",
    "  --     linear -> sigmoid/requ -> linear -> softmax\n",
    "  local model = nn.Sequential()\n",
    "  model:add(nn.Linear(n_inputs, embedding_dim))\n",
    "\n",
    "  if opt.nonlinearity_type == 'requ' then\n",
    "    model:add(nn.ReQU())\n",
    "  elseif opt.nonlinearity_type == 'sigmoid' then\n",
    "    model:add(nn.Sigmoid())\n",
    "  else\n",
    "    error('undefined nonlinearity_type ' .. tostring(opt.nonlinearity_type))\n",
    "  end \n",
    "\n",
    "  model:add(nn.Linear(embedding_dim, n_classes))\n",
    "  model:add(nn.LogSoftMax())\n",
    "\n",
    "  ------------------------------------------------------------------------------\n",
    "  -- LOSS FUNCTION\n",
    "  ------------------------------------------------------------------------------\n",
    "  local criterion = nn.ClassNLLCriterion()\n",
    "\n",
    "  return model, criterion\n",
    "end\n",
    "\n",
    "return create_model\n"
   ]
  },
  {
   "cell_type": "code",
   "execution_count": 207,
   "metadata": {
    "collapsed": false
   },
   "outputs": [
    {
     "ename": "/usr/local/share/lua/5.1/torch/init.lua:75: class nn.ReQU has been already assigned a parent class\n\nstack traceback:\n\t[C]: in function 'newmetatable'\n\t/usr/local/share/lua/5.1/torch/init.lua:75: in function 'class'\n\t[string \"local ReQU = torch.class('nn.ReQU','nn.Module...\"]:1: in main chunk\n\t[C]: in function 'xpcall'\n\t/home/rbhat/torch/install/share/lua/5.1/itorch/main.lua:179: in function </home/rbhat/torch/install/share/lua/5.1/itorch/main.lua:143>\n\t/home/rbhat/torch/install/share/lua/5.1/lzmq/poller.lua:75: in function 'poll'\n\t/home/rbhat/torch/install/share/lua/5.1/lzmq/impl/loop.lua:307: in function 'poll'\n\t/home/rbhat/torch/install/share/lua/5.1/lzmq/impl/loop.lua:325: in function 'sleep_ex'\n\t/home/rbhat/torch/install/share/lua/5.1/lzmq/impl/loop.lua:370: in function 'start'\n\t/home/rbhat/torch/install/share/lua/5.1/itorch/main.lua:350: in main chunk\n\t[C]: in function 'require'\n\t[string \"arg={'/run/user/1000/jupyter/kernel-ff850527-...\"]:1: in main chunk",
     "evalue": "",
     "output_type": "error",
     "traceback": [
      "/usr/local/share/lua/5.1/torch/init.lua:75: class nn.ReQU has been already assigned a parent class\n\nstack traceback:\n\t[C]: in function 'newmetatable'\n\t/usr/local/share/lua/5.1/torch/init.lua:75: in function 'class'\n\t[string \"local ReQU = torch.class('nn.ReQU','nn.Module...\"]:1: in main chunk\n\t[C]: in function 'xpcall'\n\t/home/rbhat/torch/install/share/lua/5.1/itorch/main.lua:179: in function </home/rbhat/torch/install/share/lua/5.1/itorch/main.lua:143>\n\t/home/rbhat/torch/install/share/lua/5.1/lzmq/poller.lua:75: in function 'poll'\n\t/home/rbhat/torch/install/share/lua/5.1/lzmq/impl/loop.lua:307: in function 'poll'\n\t/home/rbhat/torch/install/share/lua/5.1/lzmq/impl/loop.lua:325: in function 'sleep_ex'\n\t/home/rbhat/torch/install/share/lua/5.1/lzmq/impl/loop.lua:370: in function 'start'\n\t/home/rbhat/torch/install/share/lua/5.1/itorch/main.lua:350: in main chunk\n\t[C]: in function 'require'\n\t[string \"arg={'/run/user/1000/jupyter/kernel-ff850527-...\"]:1: in main chunk"
     ]
    }
   ],
   "source": [
    "local ReQU = torch.class('nn.ReQU','nn.Module')\n",
    "\n",
    "function ReQU:updateOutput(input)\n",
    "    self.output:resizeAs(input):copy(input)\n",
    "    return self.output\n",
    "end\n",
    "\n",
    "function ReQU:updateGradInput(input, gradOutput)\n",
    "    self.gradInput:resizeAs(gradOutput):copy(gradOutput)\n",
    "    return self.gradInput\n",
    "end"
   ]
  },
  {
   "cell_type": "code",
   "execution_count": 205,
   "metadata": {
    "collapsed": false
   },
   "outputs": [],
   "source": [
    "function train(opt, data)\n",
    "    \n",
    "    local model, criterion = create_model(opt)\n",
    "    local params, grads    = model:getParameters()\n",
    "    \n",
    "    --re-initialize weights\n",
    "    params:uniform(-0.01,0.01)\n",
    "    if opt.nonlinearity_type == 'requ' then\n",
    "        for _, lin in pairs(model:findModules('nn.Linear')) do\n",
    "            lin.bias:add(0.5)\n",
    "        end\n",
    "    end\n",
    "    \n",
    "    --return loss, grad\n",
    "    local feval = function (x)\n",
    "        if x ~= params then\n",
    "            params:copy(x)\n",
    "        end\n",
    "        grads:zero()\n",
    "        \n",
    "        --forward\n",
    "        local outputs = model:forward(data.inputs)\n",
    "        local loss    = criterion:forward(outputs, data.targets)\n",
    "        \n",
    "        --backward\n",
    "        local dloss_doutput = criterion:backward(outputs, data.targets)\n",
    "        model:backward(data.inputs, dloss_doutput)\n",
    "        \n",
    "        return loss, grads\n",
    "    end\n",
    "    \n",
    "    --optimization loop\n",
    "    local losses = {}\n",
    "    local optim_state = {learningRate = 1e-1}\n",
    "    \n",
    "    for i=1, opt.training_iterations do\n",
    "        local _,loss = optim.adagrad(feval,params,optim_state)\n",
    "        losses[#losses+1] = loss[1] --append the new loss\n",
    "        \n",
    "        if i % opt.print_every == 0 then\n",
    "            print(string.format(\"iteration %4d, loss=%6.6f\", i, loss[1]))\n",
    "        end\n",
    "    end\n",
    "    \n",
    "    return model, losses\n",
    "end"
   ]
  },
  {
   "cell_type": "code",
   "execution_count": 206,
   "metadata": {
    "collapsed": false
   },
   "outputs": [
    {
     "data": {
      "text/plain": [
       "--------------------------------\t\n",
       "Loaded. Sizes:\t\n",
       "inputs\t"
      ]
     },
     "execution_count": 206,
     "metadata": {},
     "output_type": "execute_result"
    },
    {
     "data": {
      "text/plain": [
       "\n",
       " 150\n",
       "   4\n",
       "[torch.LongStorage of size 2]\n",
       "\n",
       "targets\t\n",
       " 150\n",
       "[torch.LongStorage of size 1]\n",
       "\n",
       "--------------------------------\t\n"
      ]
     },
     "execution_count": 206,
     "metadata": {},
     "output_type": "execute_result"
    },
    {
     "data": {
      "text/plain": [
       "iteration   25, loss=0.691419\t\n"
      ]
     },
     "execution_count": 206,
     "metadata": {},
     "output_type": "execute_result"
    },
    {
     "data": {
      "text/plain": [
       "iteration   50, loss=0.575468\t\n"
      ]
     },
     "execution_count": 206,
     "metadata": {},
     "output_type": "execute_result"
    },
    {
     "data": {
      "text/plain": [
       "iteration   75, loss=0.490374\t\n"
      ]
     },
     "execution_count": 206,
     "metadata": {},
     "output_type": "execute_result"
    },
    {
     "data": {
      "text/plain": [
       "iteration  100, loss=0.411512\t\n"
      ]
     },
     "execution_count": 206,
     "metadata": {},
     "output_type": "execute_result"
    },
    {
     "data": {
      "text/plain": [
       "iteration  125, loss=0.353268\t\n"
      ]
     },
     "execution_count": 206,
     "metadata": {},
     "output_type": "execute_result"
    },
    {
     "data": {
      "text/plain": [
       "iteration  150, loss=0.309571\t\n"
      ]
     },
     "execution_count": 206,
     "metadata": {},
     "output_type": "execute_result"
    },
    {
     "data": {
      "text/plain": [
       "# correct for sigmoid:\t\n"
      ]
     },
     "execution_count": 206,
     "metadata": {},
     "output_type": "execute_result"
    },
    {
     "data": {
      "text/plain": [
       "0.97333333333333\t\n"
      ]
     },
     "execution_count": 206,
     "metadata": {},
     "output_type": "execute_result"
    }
   ],
   "source": [
    "torch.manualSeed(1)\n",
    "local data = load_data()\n",
    "\n",
    "local opt = {\n",
    "  nonlinearity_type = 'sigmoid',\n",
    "  training_iterations = 150, -- note: the code uses *batches*, not *minibatches*, now.\n",
    "  print_every = 25,          -- how many iterations to skip between printing the loss\n",
    "}\n",
    "\n",
    "-- train sigmoid and requ versions\n",
    "model_sigmoid, losses_sigmoid = train(opt, data)\n",
    "-- TODO: uncomment once you implement requ\n",
    "--opt.nonlinearity_type = 'requ'\n",
    "--model_requ, losses_requ = train(opt, data)\n",
    "\n",
    "\n",
    "--------------------------------------------------------\n",
    "-- EVALUATION STUFF: YOU CAN IGNORE ALL THIS CODE\n",
    "-- NOTE: though we don't have a test set, but we'll plot the two training loss curves\n",
    "-- We won't know if we overfit, but we can see how flexible our model is.\n",
    "\n",
    "-- plot\n",
    "gnuplot.figure()\n",
    "gnuplot.plot({'sigmoid',\n",
    "  torch.range(1, #losses_sigmoid), -- x-coordinates\n",
    "  torch.Tensor(losses_sigmoid),    -- y-coordinates\n",
    "  '-'}\n",
    "  -- TODO: uncomment when you implement requ\n",
    "  -- , {'requ',\n",
    "  -- torch.range(1, #losses_requ),    -- x-coordinates\n",
    "  -- torch.Tensor(losses_requ),       -- y-coordinates\n",
    "  -- '-'}\n",
    "  )\n",
    "\n",
    "models = { \n",
    "    --requ = model_requ,  -- TODO: uncomment once you implement requ\n",
    "    sigmoid = model_sigmoid \n",
    "}\n",
    "for model_name, model in pairs(models) do\n",
    "  -- classification error on train set\n",
    "  local log_probs = model:forward(data.inputs)\n",
    "  local _, predictions = torch.max(log_probs, 2)\n",
    "  print(string.format('# correct for %s:', model_name))\n",
    "  print(torch.mean(torch.eq(predictions:long(), data.targets:long()):double()))\n",
    "\n",
    "  -- classification region in one slice (cf. Figure 1 scatterplots in writeup)\n",
    "  -- not pretty, but the best we can do without hacking away at gnuplot or using another library\n",
    "  local f1 = 4 -- feature on first axis\n",
    "  local f2 = 3 -- feature on second axis\n",
    "  local size = 60  -- resolution\n",
    "  local f1grid = torch.linspace(data.inputs[{{},f1}]:min(), data.inputs[{{},f1}]:max(), size)\n",
    "  local f2grid = torch.linspace(data.inputs[{{},f2}]:min(), data.inputs[{{},f2}]:max(), size)\n",
    "  local result = torch.Tensor(size, size)\n",
    "  local input = data.inputs[1]:clone()\n",
    "  for i=1,size do\n",
    "    input[f1] = f1grid[i]\n",
    "    for j=1,size do\n",
    "      input[f2] = f2grid[j]\n",
    "      result[{i,j}] = math.exp(model:forward(input)[1])\n",
    "    end\n",
    "  end\n",
    "  result[1][1] = 0 -- ugly hack to get the right scale\n",
    "  result[1][2] = 1 -- ugly hack to get the right scale\n",
    "  gnuplot.figure()\n",
    "  gnuplot.imagesc(result, model_name)\n",
    "end"
   ]
  },
  {
   "cell_type": "code",
   "execution_count": null,
   "metadata": {
    "collapsed": true
   },
   "outputs": [],
   "source": []
  },
  {
   "cell_type": "code",
   "execution_count": null,
   "metadata": {
    "collapsed": true
   },
   "outputs": [],
   "source": []
  },
  {
   "cell_type": "code",
   "execution_count": 1,
   "metadata": {
    "collapsed": true
   },
   "outputs": [],
   "source": [
    "--Torch LSTM"
   ]
  },
  {
   "cell_type": "code",
   "execution_count": null,
   "metadata": {
    "collapsed": true
   },
   "outputs": [],
   "source": []
  },
  {
   "cell_type": "code",
   "execution_count": null,
   "metadata": {
    "collapsed": true
   },
   "outputs": [],
   "source": []
  },
  {
   "cell_type": "code",
   "execution_count": null,
   "metadata": {
    "collapsed": true
   },
   "outputs": [],
   "source": []
  },
  {
   "cell_type": "code",
   "execution_count": null,
   "metadata": {
    "collapsed": true
   },
   "outputs": [],
   "source": []
  },
  {
   "cell_type": "code",
   "execution_count": null,
   "metadata": {
    "collapsed": true
   },
   "outputs": [],
   "source": []
  },
  {
   "cell_type": "code",
   "execution_count": null,
   "metadata": {
    "collapsed": true
   },
   "outputs": [],
   "source": []
  },
  {
   "cell_type": "code",
   "execution_count": null,
   "metadata": {
    "collapsed": true
   },
   "outputs": [],
   "source": []
  },
  {
   "cell_type": "code",
   "execution_count": null,
   "metadata": {
    "collapsed": true
   },
   "outputs": [],
   "source": []
  }
 ],
 "metadata": {
  "kernelspec": {
   "display_name": "iTorch",
   "language": "lua",
   "name": "itorch"
  },
  "language_info": {
   "name": "lua",
   "version": "20100"
  }
 },
 "nbformat": 4,
 "nbformat_minor": 0
}
