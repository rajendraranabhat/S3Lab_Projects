{
 "cells": [
  {
   "cell_type": "code",
   "execution_count": null,
   "metadata": {
    "collapsed": true
   },
   "outputs": [],
   "source": [
    "#Deep-Genomics"
   ]
  },
  {
   "cell_type": "code",
   "execution_count": 3,
   "metadata": {
    "collapsed": false
   },
   "outputs": [],
   "source": [
    "import numpy as np\n",
    "import pandas as pd\n",
    "from sklearn.neighbors import KNeighborsClassifier\n",
    "from sklearn.linear_model import LogisticRegression\n",
    "from sklearn.ensemble import RandomForestClassifier\n",
    "from sklearn.cross_validation import cross_val_score\n",
    "from sklearn import metrics\n",
    "from sklearn.cross_validation import train_test_split\n",
    "from sklearn.metrics import confusion_matrix, roc_curve, auc\n",
    "from sklearn.grid_search import GridSearchCV\n",
    "from sklearn import svm\n",
    "import matplotlib.pyplot as plt\n",
    "import scipy.optimize as opt\n",
    "import glob\n",
    "import os\n",
    "import sys\n",
    "from astropy.io import fits\n",
    "\n",
    "#np.random.seed(1337)  # for reproducibility\n",
    "from keras.datasets import mnist\n",
    "from keras.models import Sequential\n",
    "from keras.layers.core import Dense, Dropout, Activation, Flatten\n",
    "from keras.layers.convolutional import Convolution2D, MaxPooling2D\n",
    "from keras.optimizers import SGD, Adam, RMSprop\n",
    "from keras.utils import np_utils\n",
    "\n",
    "%matplotlib inline"
   ]
  },
  {
   "cell_type": "code",
   "execution_count": 4,
   "metadata": {
    "collapsed": true
   },
   "outputs": [],
   "source": [
    "path = r'/home/rbhat/genome/final_output.txt' #genome\n",
    "#path = r'/home/rbhat/genome/newfileoutput_small.txt' #genome "
   ]
  },
  {
   "cell_type": "code",
   "execution_count": 5,
   "metadata": {
    "collapsed": false
   },
   "outputs": [],
   "source": [
    "genomeData = pd.read_csv(path,sep='~~')"
   ]
  },
  {
   "cell_type": "code",
   "execution_count": 6,
   "metadata": {
    "collapsed": false
   },
   "outputs": [
    {
     "data": {
      "text/plain": [
       "(1008, 496757)"
      ]
     },
     "execution_count": 6,
     "metadata": {},
     "output_type": "execute_result"
    }
   ],
   "source": [
    "genomeData.shape"
   ]
  },
  {
   "cell_type": "code",
   "execution_count": 7,
   "metadata": {
    "collapsed": false
   },
   "outputs": [
    {
     "data": {
      "text/html": [
       "<div style=\"max-height:1000px;max-width:1500px;overflow:auto;\">\n",
       "<table border=\"1\" class=\"dataframe\">\n",
       "  <thead>\n",
       "    <tr style=\"text-align: right;\">\n",
       "      <th></th>\n",
       "      <th>#CHROM</th>\n",
       "      <th>chrM</th>\n",
       "      <th>chrM.1</th>\n",
       "      <th>chrM.2</th>\n",
       "      <th>chrM.3</th>\n",
       "      <th>chrM.4</th>\n",
       "      <th>chrM.5</th>\n",
       "      <th>chr1</th>\n",
       "      <th>chr1.1</th>\n",
       "      <th>chr1.2</th>\n",
       "      <th>chr1.3</th>\n",
       "      <th>chr1.4</th>\n",
       "      <th>chr1.5</th>\n",
       "      <th>chr1.6</th>\n",
       "      <th>chr1.7</th>\n",
       "      <th>chr1.8</th>\n",
       "      <th>chr1.9</th>\n",
       "      <th>chr1.10</th>\n",
       "      <th>chr1.11</th>\n",
       "      <th>chr1.12</th>\n",
       "      <th></th>\n",
       "    </tr>\n",
       "  </thead>\n",
       "  <tbody>\n",
       "    <tr>\n",
       "      <th>8</th>\n",
       "      <td> S1</td>\n",
       "      <td> 0/0:137,0:137:99:0,412,5286</td>\n",
       "      <td> 0/0:135,0:135:99:0,406,5208</td>\n",
       "      <td> 0/0:128,0:128:99:0,385,4938</td>\n",
       "      <td> 0/0:125,0:125:99:0,376,4925</td>\n",
       "      <td> 0/0:124,0:124:99:0,373,4239</td>\n",
       "      <td> 0/0:208,0:208:99:0,626,7956</td>\n",
       "      <td> 0/0:252,0:252:99:0,758,9047</td>\n",
       "      <td> 1/1:0,294:294:99:10449,885,0</td>\n",
       "      <td> 0/0:294,0:294:99:0,885,10952</td>\n",
       "      <td> 0/0:254,0:254:99:0,761,9604</td>\n",
       "      <td> 0/0:215,0:215:99:0,647,7911</td>\n",
       "      <td>  0/0:14,0:14:42:0,42,516</td>\n",
       "      <td>  0/0:27,0:27:81:0,81,1000</td>\n",
       "      <td> 0/0:46,0:46:99:0,138,1791</td>\n",
       "      <td> 0/0:55,0:55:99:0,166,2122</td>\n",
       "      <td> 0/0:45,0:45:99:0,135,1684</td>\n",
       "      <td> 0/0:35,0:35:99:0,105,1356</td>\n",
       "      <td>  0/0:30,0:30:90:0,90,1084</td>\n",
       "      <td> 0/0:28,0:28:84:0,84,1006</td>\n",
       "      <td>...</td>\n",
       "    </tr>\n",
       "    <tr>\n",
       "      <th>9</th>\n",
       "      <td> S2</td>\n",
       "      <td> 0/0:151,0:151:99:0,454,5807</td>\n",
       "      <td> 0/0:149,0:149:99:0,448,5748</td>\n",
       "      <td> 0/0:147,0:147:99:0,442,5652</td>\n",
       "      <td> 0/0:149,0:149:99:0,448,5794</td>\n",
       "      <td> 0/0:127,0:127:99:0,382,4309</td>\n",
       "      <td> 0/0:201,0:201:99:0,605,7649</td>\n",
       "      <td> 0/0:223,0:223:99:0,671,8172</td>\n",
       "      <td>  1/1:4,237:237:99:8278,701,0</td>\n",
       "      <td>  0/0:170,0:170:99:0,502,6128</td>\n",
       "      <td> 0/0:201,6:201:99:0,602,7416</td>\n",
       "      <td> 0/0:181,0:181:99:0,530,6494</td>\n",
       "      <td> 0/0:28,0:28:84:0,84,1034</td>\n",
       "      <td> 0/0:42,0:42:99:0,126,1587</td>\n",
       "      <td> 0/0:41,0:41:99:0,123,1533</td>\n",
       "      <td> 0/0:44,0:44:99:0,132,1708</td>\n",
       "      <td> 0/0:49,0:49:99:0,147,1839</td>\n",
       "      <td> 0/0:36,0:36:99:0,108,1440</td>\n",
       "      <td> 0/0:34,0:34:99:0,102,1199</td>\n",
       "      <td>  0/0:21,0:21:63:0,63,756</td>\n",
       "      <td>...</td>\n",
       "    </tr>\n",
       "  </tbody>\n",
       "</table>\n",
       "<p>2 rows × 496757 columns</p>\n",
       "</div>"
      ],
      "text/plain": [
       "  #CHROM                         chrM                       chrM.1  \\\n",
       "8     S1  0/0:137,0:137:99:0,412,5286  0/0:135,0:135:99:0,406,5208   \n",
       "9     S2  0/0:151,0:151:99:0,454,5807  0/0:149,0:149:99:0,448,5748   \n",
       "\n",
       "                        chrM.2                       chrM.3  \\\n",
       "8  0/0:128,0:128:99:0,385,4938  0/0:125,0:125:99:0,376,4925   \n",
       "9  0/0:147,0:147:99:0,442,5652  0/0:149,0:149:99:0,448,5794   \n",
       "\n",
       "                        chrM.4                       chrM.5  \\\n",
       "8  0/0:124,0:124:99:0,373,4239  0/0:208,0:208:99:0,626,7956   \n",
       "9  0/0:127,0:127:99:0,382,4309  0/0:201,0:201:99:0,605,7649   \n",
       "\n",
       "                          chr1                        chr1.1  \\\n",
       "8  0/0:252,0:252:99:0,758,9047  1/1:0,294:294:99:10449,885,0   \n",
       "9  0/0:223,0:223:99:0,671,8172   1/1:4,237:237:99:8278,701,0   \n",
       "\n",
       "                         chr1.2                       chr1.3  \\\n",
       "8  0/0:294,0:294:99:0,885,10952  0/0:254,0:254:99:0,761,9604   \n",
       "9   0/0:170,0:170:99:0,502,6128  0/0:201,6:201:99:0,602,7416   \n",
       "\n",
       "                        chr1.4                    chr1.5  \\\n",
       "8  0/0:215,0:215:99:0,647,7911   0/0:14,0:14:42:0,42,516   \n",
       "9  0/0:181,0:181:99:0,530,6494  0/0:28,0:28:84:0,84,1034   \n",
       "\n",
       "                      chr1.6                     chr1.7  \\\n",
       "8   0/0:27,0:27:81:0,81,1000  0/0:46,0:46:99:0,138,1791   \n",
       "9  0/0:42,0:42:99:0,126,1587  0/0:41,0:41:99:0,123,1533   \n",
       "\n",
       "                      chr1.8                     chr1.9  \\\n",
       "8  0/0:55,0:55:99:0,166,2122  0/0:45,0:45:99:0,135,1684   \n",
       "9  0/0:44,0:44:99:0,132,1708  0/0:49,0:49:99:0,147,1839   \n",
       "\n",
       "                     chr1.10                    chr1.11  \\\n",
       "8  0/0:35,0:35:99:0,105,1356   0/0:30,0:30:90:0,90,1084   \n",
       "9  0/0:36,0:36:99:0,108,1440  0/0:34,0:34:99:0,102,1199   \n",
       "\n",
       "                    chr1.12      \n",
       "8  0/0:28,0:28:84:0,84,1006 ...  \n",
       "9   0/0:21,0:21:63:0,63,756 ...  \n",
       "\n",
       "[2 rows x 496757 columns]"
      ]
     },
     "execution_count": 7,
     "metadata": {},
     "output_type": "execute_result"
    }
   ],
   "source": [
    "#genomeData.iloc[8,:].shape\n",
    "genomeData.iloc[8:10,:]\n",
    "#genomeData.ix[8:10,:].head()"
   ]
  },
  {
   "cell_type": "code",
   "execution_count": 8,
   "metadata": {
    "collapsed": false
   },
   "outputs": [],
   "source": [
    "label_path = r'/home/rbhat/genome/4-Bipolar_exomes_training.txt' #genome label\n",
    "genomeDataLabel = pd.read_csv(label_path,sep='\\t')"
   ]
  },
  {
   "cell_type": "code",
   "execution_count": 9,
   "metadata": {
    "collapsed": false
   },
   "outputs": [
    {
     "name": "stdout",
     "output_type": "stream",
     "text": [
      "(500, 2)\n",
      "  individual  disease_status\n",
      "0         S1               0\n",
      "1         S2               0\n",
      "2         S3               0\n",
      "3         S4               0\n",
      "4         S5               0\n",
      "\n",
      "[5 rows x 2 columns]\n"
     ]
    }
   ],
   "source": [
    "print(genomeDataLabel.shape)\n",
    "#print(genomeDataLabel.iloc[0,:])\n",
    "print(genomeDataLabel.head())"
   ]
  },
  {
   "cell_type": "code",
   "execution_count": 10,
   "metadata": {
    "collapsed": false
   },
   "outputs": [
    {
     "name": "stdout",
     "output_type": "stream",
     "text": [
      "((400, 496757), (400, 2))\n",
      "((99, 496757), (99, 2))\n"
     ]
    }
   ],
   "source": [
    "X_train = genomeData[8:408]\n",
    "y_train = genomeDataLabel[0:400]\n",
    "print(X_train.shape, y_train.shape)\n",
    "\n",
    "X_test = genomeData[409:508]\n",
    "y_test = genomeDataLabel[401:500]\n",
    "#print(X_train.tail())\n",
    "#print(Y_train.tail())\n",
    "print(X_test.shape, y_test.shape)\n",
    "#print(X_test.tail())\n",
    "#print(Y_test.tail())\n",
    "\n",
    "# the data, shuffled and split between tran and test sets\n",
    "#(X_train, y_train), (X_test, y_test) = mnist.load_data()"
   ]
  },
  {
   "cell_type": "code",
   "execution_count": 11,
   "metadata": {
    "collapsed": true
   },
   "outputs": [],
   "source": [
    "X_train1 = X_train\n",
    "X_test1 = X_test"
   ]
  },
  {
   "cell_type": "code",
   "execution_count": 12,
   "metadata": {
    "collapsed": false
   },
   "outputs": [
    {
     "name": "stdout",
     "output_type": "stream",
     "text": [
      "3.0\n"
     ]
    }
   ],
   "source": [
    "def clean(x):\n",
    "    x=str(x)\n",
    "    if ':' in x:\n",
    "        x=x.split(':')[0]\n",
    "        if x=='0/0':\n",
    "            x = 1\n",
    "            x = float(x)\n",
    "        elif x == '0/1':\n",
    "            x = 2\n",
    "            x = float(x)\n",
    "        elif x == '1/1':\n",
    "            x = 3\n",
    "            x = float(x)\n",
    "        else:\n",
    "            x = float(0)                  \n",
    "    return x\n",
    "\n",
    "\n",
    "print(clean('1/1:137,0:137:99:0,412,5286'))\n",
    "#X_train1 = X_train1.apply(lambda row:)"
   ]
  },
  {
   "cell_type": "code",
   "execution_count": 13,
   "metadata": {
    "collapsed": false
   },
   "outputs": [],
   "source": [
    "#print(X_train1.shape, X_test1.shape)\n",
    "X_train2 = X_train1.applymap(clean)\n",
    "X_test2 = X_test1.applymap(clean)"
   ]
  },
  {
   "cell_type": "code",
   "execution_count": 15,
   "metadata": {
    "collapsed": false
   },
   "outputs": [
    {
     "name": "stdout",
     "output_type": "stream",
     "text": [
      "     chrM  chrM.1  chrM.2  chrM.3  chrM.4  chrM.5  chr1  chr1.1  chr1.2  \\\n",
      "409     1       1       1       1       1       1     1       3       1   \n",
      "410     1       1       1       1       1       1     1       3       1   \n",
      "411     1       1       1       1       1       1     1       3       1   \n",
      "412     1       1       1       1       1       1     1       3       1   \n",
      "413     1       1       1       1       1       1     1       3       1   \n",
      "\n",
      "     chr1.3  chr1.4  chr1.5  chr1.6  chr1.7  chr1.8  chr1.9  chr1.10  chr1.11  \\\n",
      "409       1       1       1       1       1       1       1        1        1   \n",
      "410       1       1       1       1       1       1       1        1        1   \n",
      "411       1       1       1       1       1       1       1        1        1   \n",
      "412       1       1       1       1       1       1       1        1        1   \n",
      "413       1       1       1       1       1       1       1        1        1   \n",
      "\n",
      "     chr1.12  chr1.13      \n",
      "409        1        1 ...  \n",
      "410        1        1 ...  \n",
      "411        1        1 ...  \n",
      "412        1        1 ...  \n",
      "413        1        1 ...  \n",
      "\n",
      "[5 rows x 496756 columns]\n"
     ]
    }
   ],
   "source": [
    "#print(X_train2.head())\n",
    "#print(X_test2.head())\n",
    "X_train3 = X_train2.iloc[:,1:]\n",
    "X_test3 = X_test2.iloc[:,1:]\n",
    "#print(X_train3.shape)\n",
    "print(X_test3.head())"
   ]
  },
  {
   "cell_type": "code",
   "execution_count": 18,
   "metadata": {
    "collapsed": false
   },
   "outputs": [],
   "source": [
    "#X_train3.shape\n",
    "#X_test3"
   ]
  },
  {
   "cell_type": "code",
   "execution_count": 20,
   "metadata": {
    "collapsed": false
   },
   "outputs": [
    {
     "name": "stdout",
     "output_type": "stream",
     "text": [
      "chrM      1\n",
      "chrM.1    1\n",
      "chrM.2    1\n",
      "chrM.3    1\n",
      "chrM.4    1\n",
      "chrM.5    1\n",
      "chr1      1\n",
      "chr1.1    3\n",
      "chr1.2    1\n",
      "chr1.3    1\n",
      "chr1.4    1\n",
      "chr1.5    1\n",
      "chr1.6    1\n",
      "chr1.7    1\n",
      "chr1.8    1\n",
      "...\n",
      "chr10.16612    1\n",
      "chr10.16613    1\n",
      "chr10.16614    1\n",
      "chr10.16615    1\n",
      "chr10.16616    1\n",
      "chr10.16617    1\n",
      "chr10.16618    1\n",
      "chr10.16619    1\n",
      "chr10.16620    1\n",
      "chr10.16621    1\n",
      "chr10.16622    1\n",
      "chr10.16623    1\n",
      "chr10.16624    1\n",
      "chr10.16625    1\n",
      "chr10.16626    1\n",
      "Name: 8, Length: 496756, dtype: float64\n"
     ]
    }
   ],
   "source": [
    "#X_train3.to_csv('/home/rbhat/genome/pca_data_train.csv')\n",
    "#X_test3.to_csv('/home/rbhat/genome/pca_data_test.csv')\n",
    "\n",
    "#print(X_train.shape, y_train.shape)\n",
    "#type(X_train)\n",
    "#print(X_train.iloc[0,:])\n",
    "print(X_train3.iloc[0,:])\n",
    "#print(X_test2.iloc[0,:])"
   ]
  },
  {
   "cell_type": "code",
   "execution_count": 103,
   "metadata": {
    "collapsed": false
   },
   "outputs": [],
   "source": [
    "#X_train = X_train.reshape(60000, 784)\n",
    "#X_test = X_test.reshape(10000, 784)\n",
    "#X_train = X_train.astype(\"float32\")\n",
    "#X_test = X_test.astype(\"float32\")\n",
    "#X_train /= 255\n",
    "#X_test /= 255\n",
    "#print(X_train.shape[0], 'train samples')\n",
    "#print(X_test.shape[0], 'test samples')\n",
    "\n",
    "# convert class vectors to binary class matrices\n",
    "#print(nb_classes)\n",
    "#print(y_train.iloc[:,1])\n",
    "\n",
    "batch_size = 30\n",
    "nb_classes = 2\n",
    "nb_epoch = 2\n",
    "#nb_epoch = 10\n",
    "\n",
    "#np_utils.to_categorical(y_train.iloc[:,1])\n",
    "\n",
    "Y_train = np_utils.to_categorical(y_train.iloc[:,1], nb_classes)\n",
    "Y_test = np_utils.to_categorical(y_test.iloc[:,1], nb_classes)\n",
    "\n",
    "#Y_train = np_utils.to_categorical(y_train.iloc[:,1])\n",
    "#Y_test = np_utils.to_categorical(y_test.iloc[:,1])"
   ]
  },
  {
   "cell_type": "code",
   "execution_count": 88,
   "metadata": {
    "collapsed": false
   },
   "outputs": [
    {
     "name": "stdout",
     "output_type": "stream",
     "text": [
      "<type 'instancemethod'>\n",
      "<type 'numpy.ndarray'>\n",
      "(400, 496756)\n",
      "(400, 2)\n",
      "(99, 496756)\n",
      "(99, 2)\n"
     ]
    }
   ],
   "source": [
    "#print(y_test.head())\n",
    "#print(Y_test)\n",
    "print(type(X_train3.as_matrix))\n",
    "print(type(Y_train))\n",
    "\n",
    "print(X_train3.shape)\n",
    "print(Y_train.shape)\n",
    "\n",
    "print(X_test3.shape)\n",
    "print(Y_test.shape)"
   ]
  },
  {
   "cell_type": "code",
   "execution_count": 89,
   "metadata": {
    "collapsed": false
   },
   "outputs": [
    {
     "name": "stdout",
     "output_type": "stream",
     "text": [
      "((400, 496756), (99, 496756))\n"
     ]
    },
    {
     "data": {
      "text/plain": [
       "124189"
      ]
     },
     "execution_count": 89,
     "metadata": {},
     "output_type": "execute_result"
    }
   ],
   "source": [
    "X_train4 = X_train3\n",
    "X_test4  = X_test3\n",
    "\n",
    "#X_train4 = X_train3.iloc[:,0:124189]\n",
    "#X_test4  = X_test3.iloc[:,0:124189]\n",
    "\n",
    "print(X_train4.shape,X_test4.shape)\n",
    "496756/4"
   ]
  },
  {
   "cell_type": "code",
   "execution_count": 90,
   "metadata": {
    "collapsed": false
   },
   "outputs": [
    {
     "name": "stdout",
     "output_type": "stream",
     "text": [
      "<type 'numpy.ndarray'>\n",
      "[[ 1.  1.  1. ...,  1.  1.  1.]\n",
      " [ 1.  1.  1. ...,  1.  1.  1.]\n",
      " [ 1.  1.  1. ...,  1.  1.  1.]\n",
      " ..., \n",
      " [ 1.  1.  1. ...,  1.  1.  1.]\n",
      " [ 1.  1.  1. ...,  1.  1.  1.]\n",
      " [ 1.  1.  1. ...,  1.  1.  1.]]\n"
     ]
    }
   ],
   "source": [
    "print(type(X_train4.as_matrix()))\n",
    "print(X_train4.as_matrix())"
   ]
  },
  {
   "cell_type": "code",
   "execution_count": 91,
   "metadata": {
    "collapsed": false
   },
   "outputs": [
    {
     "name": "stdout",
     "output_type": "stream",
     "text": [
      "(400, 496756)\n",
      "(400, 2)\n"
     ]
    }
   ],
   "source": [
    "print(X_train4.shape)\n",
    "print(Y_train.shape)"
   ]
  },
  {
   "cell_type": "code",
   "execution_count": 138,
   "metadata": {
    "collapsed": false
   },
   "outputs": [
    {
     "name": "stdout",
     "output_type": "stream",
     "text": [
      "((500, 496757), (500, 2))\n",
      "(500, 496757)\n"
     ]
    }
   ],
   "source": [
    "X_train_log = genomeData[8:508]\n",
    "y_train_log = genomeDataLabel[0:500]\n",
    "print(X_train_log.shape, y_train_log.shape)\n",
    "\n",
    "X_test_log = genomeData[508:]\n",
    "#y_test_log = genomeDataLabel[400:500]\n",
    "print(X_test_log.shape)"
   ]
  },
  {
   "cell_type": "code",
   "execution_count": 139,
   "metadata": {
    "collapsed": false
   },
   "outputs": [],
   "source": [
    "#print(X_train1.shape, X_test1.shape)\n",
    "X_train2_log = X_train_log.applymap(clean)\n",
    "X_test2_log = X_test_log.applymap(clean)"
   ]
  },
  {
   "cell_type": "code",
   "execution_count": 141,
   "metadata": {
    "collapsed": false
   },
   "outputs": [],
   "source": [
    "X_train3_log = X_train2_log.iloc[:,1:]\n",
    "X_test3_log = X_test2_log.iloc[:,1:]\n"
   ]
  },
  {
   "cell_type": "code",
   "execution_count": 143,
   "metadata": {
    "collapsed": false
   },
   "outputs": [
    {
     "data": {
      "text/html": [
       "<div style=\"max-height:1000px;max-width:1500px;overflow:auto;\">\n",
       "<table border=\"1\" class=\"dataframe\">\n",
       "  <thead>\n",
       "    <tr style=\"text-align: right;\">\n",
       "      <th></th>\n",
       "      <th>chrM</th>\n",
       "      <th>chrM.1</th>\n",
       "      <th>chrM.2</th>\n",
       "      <th>chrM.3</th>\n",
       "      <th>chrM.4</th>\n",
       "      <th>chrM.5</th>\n",
       "      <th>chr1</th>\n",
       "      <th>chr1.1</th>\n",
       "      <th>chr1.2</th>\n",
       "      <th>chr1.3</th>\n",
       "      <th>chr1.4</th>\n",
       "      <th>chr1.5</th>\n",
       "      <th>chr1.6</th>\n",
       "      <th>chr1.7</th>\n",
       "      <th>chr1.8</th>\n",
       "      <th>chr1.9</th>\n",
       "      <th>chr1.10</th>\n",
       "      <th>chr1.11</th>\n",
       "      <th>chr1.12</th>\n",
       "      <th>chr1.13</th>\n",
       "      <th></th>\n",
       "    </tr>\n",
       "  </thead>\n",
       "  <tbody>\n",
       "    <tr>\n",
       "      <th>508</th>\n",
       "      <td> 1</td>\n",
       "      <td> 1</td>\n",
       "      <td> 1</td>\n",
       "      <td> 1</td>\n",
       "      <td> 1</td>\n",
       "      <td> 1</td>\n",
       "      <td> 1</td>\n",
       "      <td> 2</td>\n",
       "      <td> 1</td>\n",
       "      <td> 2</td>\n",
       "      <td> 1</td>\n",
       "      <td> 1</td>\n",
       "      <td> 1</td>\n",
       "      <td> 1</td>\n",
       "      <td> 1</td>\n",
       "      <td> 1</td>\n",
       "      <td> 1</td>\n",
       "      <td> 1</td>\n",
       "      <td> 1</td>\n",
       "      <td> 1</td>\n",
       "      <td>...</td>\n",
       "    </tr>\n",
       "    <tr>\n",
       "      <th>509</th>\n",
       "      <td> 1</td>\n",
       "      <td> 1</td>\n",
       "      <td> 1</td>\n",
       "      <td> 1</td>\n",
       "      <td> 1</td>\n",
       "      <td> 1</td>\n",
       "      <td> 1</td>\n",
       "      <td> 2</td>\n",
       "      <td> 1</td>\n",
       "      <td> 2</td>\n",
       "      <td> 1</td>\n",
       "      <td> 1</td>\n",
       "      <td> 1</td>\n",
       "      <td> 1</td>\n",
       "      <td> 1</td>\n",
       "      <td> 1</td>\n",
       "      <td> 1</td>\n",
       "      <td> 1</td>\n",
       "      <td> 1</td>\n",
       "      <td> 1</td>\n",
       "      <td>...</td>\n",
       "    </tr>\n",
       "    <tr>\n",
       "      <th>510</th>\n",
       "      <td> 1</td>\n",
       "      <td> 1</td>\n",
       "      <td> 1</td>\n",
       "      <td> 1</td>\n",
       "      <td> 1</td>\n",
       "      <td> 1</td>\n",
       "      <td> 1</td>\n",
       "      <td> 3</td>\n",
       "      <td> 1</td>\n",
       "      <td> 1</td>\n",
       "      <td> 1</td>\n",
       "      <td> 1</td>\n",
       "      <td> 1</td>\n",
       "      <td> 1</td>\n",
       "      <td> 1</td>\n",
       "      <td> 1</td>\n",
       "      <td> 1</td>\n",
       "      <td> 1</td>\n",
       "      <td> 1</td>\n",
       "      <td> 1</td>\n",
       "      <td>...</td>\n",
       "    </tr>\n",
       "    <tr>\n",
       "      <th>511</th>\n",
       "      <td> 1</td>\n",
       "      <td> 1</td>\n",
       "      <td> 1</td>\n",
       "      <td> 1</td>\n",
       "      <td> 1</td>\n",
       "      <td> 1</td>\n",
       "      <td> 1</td>\n",
       "      <td> 2</td>\n",
       "      <td> 1</td>\n",
       "      <td> 2</td>\n",
       "      <td> 1</td>\n",
       "      <td> 1</td>\n",
       "      <td> 1</td>\n",
       "      <td> 1</td>\n",
       "      <td> 1</td>\n",
       "      <td> 1</td>\n",
       "      <td> 1</td>\n",
       "      <td> 1</td>\n",
       "      <td> 1</td>\n",
       "      <td> 1</td>\n",
       "      <td>...</td>\n",
       "    </tr>\n",
       "    <tr>\n",
       "      <th>512</th>\n",
       "      <td> 1</td>\n",
       "      <td> 1</td>\n",
       "      <td> 1</td>\n",
       "      <td> 1</td>\n",
       "      <td> 1</td>\n",
       "      <td> 1</td>\n",
       "      <td> 1</td>\n",
       "      <td> 3</td>\n",
       "      <td> 1</td>\n",
       "      <td> 1</td>\n",
       "      <td> 1</td>\n",
       "      <td> 1</td>\n",
       "      <td> 1</td>\n",
       "      <td> 1</td>\n",
       "      <td> 1</td>\n",
       "      <td> 1</td>\n",
       "      <td> 1</td>\n",
       "      <td> 1</td>\n",
       "      <td> 1</td>\n",
       "      <td> 1</td>\n",
       "      <td>...</td>\n",
       "    </tr>\n",
       "  </tbody>\n",
       "</table>\n",
       "<p>5 rows × 496756 columns</p>\n",
       "</div>"
      ],
      "text/plain": [
       "     chrM  chrM.1  chrM.2  chrM.3  chrM.4  chrM.5  chr1  chr1.1  chr1.2  \\\n",
       "508     1       1       1       1       1       1     1       2       1   \n",
       "509     1       1       1       1       1       1     1       2       1   \n",
       "510     1       1       1       1       1       1     1       3       1   \n",
       "511     1       1       1       1       1       1     1       2       1   \n",
       "512     1       1       1       1       1       1     1       3       1   \n",
       "\n",
       "     chr1.3  chr1.4  chr1.5  chr1.6  chr1.7  chr1.8  chr1.9  chr1.10  chr1.11  \\\n",
       "508       2       1       1       1       1       1       1        1        1   \n",
       "509       2       1       1       1       1       1       1        1        1   \n",
       "510       1       1       1       1       1       1       1        1        1   \n",
       "511       2       1       1       1       1       1       1        1        1   \n",
       "512       1       1       1       1       1       1       1        1        1   \n",
       "\n",
       "     chr1.12  chr1.13      \n",
       "508        1        1 ...  \n",
       "509        1        1 ...  \n",
       "510        1        1 ...  \n",
       "511        1        1 ...  \n",
       "512        1        1 ...  \n",
       "\n",
       "[5 rows x 496756 columns]"
      ]
     },
     "execution_count": 143,
     "metadata": {},
     "output_type": "execute_result"
    }
   ],
   "source": [
    "X_test3_log.head()"
   ]
  },
  {
   "cell_type": "code",
   "execution_count": 144,
   "metadata": {
    "collapsed": false
   },
   "outputs": [],
   "source": [
    "#Logistic Regression\n",
    "#Logistic Regression-sklearn\n",
    "logReg = LogisticRegression()\n",
    "logReg.fit(X_train3_log.as_matrix(),y_train_log.iloc[:,1])\n",
    "Y_logPred      = logReg.predict(X_test3_log.as_matrix())\n",
    "Y_logPred_prob = logReg.predict_proba(X_test3_log.as_matrix())\n",
    "#print metrics.accuracy_score(y_test_log.iloc[:,1],Y_logPred)"
   ]
  },
  {
   "cell_type": "code",
   "execution_count": 161,
   "metadata": {
    "collapsed": false
   },
   "outputs": [],
   "source": [
    "#(1-np.std(Y_logPred_prob,axis=1))"
   ]
  },
  {
   "cell_type": "code",
   "execution_count": 157,
   "metadata": {
    "collapsed": false
   },
   "outputs": [],
   "source": [
    "Y_logPred.tofile('/home/rbhat/genome/Y_logPred.txt',sep=',')"
   ]
  },
  {
   "cell_type": "code",
   "execution_count": 158,
   "metadata": {
    "collapsed": false
   },
   "outputs": [],
   "source": [
    "#Writing file\n",
    "(1-np.std(Y_logPred_prob,axis=1)).tofile('/home/rbhat/genome/Y_logPred_prob.txt',sep=',')"
   ]
  },
  {
   "cell_type": "code",
   "execution_count": 111,
   "metadata": {
    "collapsed": false
   },
   "outputs": [
    {
     "name": "stdout",
     "output_type": "stream",
     "text": [
      "[[32 20]\n",
      " [13 34]]\n"
     ]
    }
   ],
   "source": [
    "#Confusion matrix of logistic regression\n",
    "conf = metrics.confusion_matrix(y_test.iloc[:,1],Y_logPred)\n",
    "#plt.imshow(conf)\n",
    "print conf"
   ]
  },
  {
   "cell_type": "code",
   "execution_count": 112,
   "metadata": {
    "collapsed": false
   },
   "outputs": [
    {
     "name": "stdout",
     "output_type": "stream",
     "text": [
      "             precision    recall  f1-score   support\n",
      "\n",
      "    class 0       0.71      0.62      0.66        52\n",
      "    class 1       0.63      0.72      0.67        47\n",
      "\n",
      "avg / total       0.67      0.67      0.67        99\n",
      "\n"
     ]
    }
   ],
   "source": [
    "from sklearn.metrics import classification_report\n",
    "\n",
    "target_names = ['class 0', 'class 1']\n",
    "\n",
    "print(classification_report(y_test.iloc[:,1], Y_logPred, target_names=target_names))"
   ]
  },
  {
   "cell_type": "code",
   "execution_count": 116,
   "metadata": {
    "collapsed": true
   },
   "outputs": [],
   "source": [
    "Y_logPred_prob = logReg.predict_proba(X_test4.as_matrix())"
   ]
  },
  {
   "cell_type": "code",
   "execution_count": 125,
   "metadata": {
    "collapsed": false
   },
   "outputs": [
    {
     "name": "stdout",
     "output_type": "stream",
     "text": [
      "[[ 0.59889115  0.40110885]\n",
      " [ 0.80884916  0.19115084]\n",
      " [ 0.75639366  0.24360634]\n",
      " [ 0.32090952  0.67909048]\n",
      " [ 0.87521774  0.12478226]]\n",
      "[0 0 0 1 0]\n",
      "0.743606342082\n"
     ]
    }
   ],
   "source": [
    "print(Y_logPred_prob[0:5])\n",
    "print(Y_logPred[0:5])\n",
    "print(1-np.std(Y_logPred_prob[2]))"
   ]
  },
  {
   "cell_type": "code",
   "execution_count": 113,
   "metadata": {
    "collapsed": false
   },
   "outputs": [],
   "source": [
    "#np.array(y_train.iloc[:,1])\n",
    "#Y_train\n",
    "#Y_test"
   ]
  },
  {
   "cell_type": "code",
   "execution_count": 108,
   "metadata": {
    "collapsed": false
   },
   "outputs": [
    {
     "name": "stdout",
     "output_type": "stream",
     "text": [
      "Train on 400 samples, validate on 99 samples\n",
      "Epoch 1/2\n",
      "133s - loss: 4.4828 - acc: 0.4925 - val_loss: 7.6520 - val_acc: 0.5253\n",
      "Epoch 2/2\n",
      "125s - loss: 8.0993 - acc: 0.4975 - val_loss: 7.6520 - val_acc: 0.5253\n",
      "('Test score:', 7.6520252227783203)\n",
      "('Test accuracy:', 0.5252525252525253)\n"
     ]
    }
   ],
   "source": [
    "\n",
    "model = Sequential()\n",
    "model.add(Dense(1000, input_dim=496756))\n",
    "#model.add(Dense(500, input_dim=124189))\n",
    "model.add(Activation('relu'))\n",
    "model.add(Dropout(0.2))\n",
    "model.add(Dense(500))\n",
    "model.add(Activation('relu'))\n",
    "model.add(Dropout(0.2))\n",
    "model.add(Dense(100))\n",
    "model.add(Activation('relu'))\n",
    "model.add(Dropout(0.2))\n",
    "model.add(Dense(2))\n",
    "model.add(Activation('sigmoid'))\n",
    "#model.add(Activation('softmax'))\n",
    "\n",
    "#model.compile(loss='categorical_crossentropy', optimizer='sgd', class_mode='binary')\n",
    "model.compile(loss='categorical_crossentropy', optimizer='adam', class_mode='categorical')\n",
    "#model.compile(loss='categorical_crossentropy', optimizer='adam', class_mode='categorical')\n",
    "\n",
    "#model.fit(X_train, Y_train, batch_size=batch_size, nb_epoch=nb_epoch, show_accuracy=True, verbose=2, validation_data=(X_test, Y_test))\n",
    "#score = model.evaluate(X_test, Y_test, show_accuracy=True, verbose=0)\n",
    "\n",
    "#model.fit(X_train4.as_matrix(), np.array(y_train.iloc[:,1]), batch_size=batch_size, nb_epoch=nb_epoch, show_accuracy=True, verbose=2, validation_data=(X_test4.as_matrix(), np.array(y_test.iloc[:,1])) )  \n",
    "#score = model.evaluate(X_test4.as_matrix(), np.array(y_test.iloc[:,1]), show_accuracy=True, verbose=0)\n",
    "\n",
    "\n",
    "model.fit(X_train4.as_matrix(), Y_train, batch_size=batch_size, nb_epoch=nb_epoch, show_accuracy=True, verbose=2, validation_data=(X_test4.as_matrix(), Y_test))\n",
    "score = model.evaluate(X_test4.as_matrix(), Y_test, show_accuracy=True, verbose=0)\n",
    "\n",
    "print('Test score:', score[0])\n",
    "print('Test accuracy:', score[1])"
   ]
  },
  {
   "cell_type": "code",
   "execution_count": 109,
   "metadata": {
    "collapsed": false
   },
   "outputs": [
    {
     "name": "stdout",
     "output_type": "stream",
     "text": [
      "(99,)\n",
      "[0 0 0 0 0 0 0 0 0 0 0 0 0 0 0 0 0 0 0 0 0 0 0 0 0 0 0 0 0 0 0 0 0 0 0 0 0\n",
      " 0 0 0 0 0 0 0 0 0 0 0 0 0 0 0 0 0 0 0 0 0 0 0 0 0 0 0 0 0 0 0 0 0 0 0 0 0\n",
      " 0 0 0 0 0 0 0 0 0 0 0 0 0 0 0 0 0 0 0 0 0 0 0 0 0]\n"
     ]
    }
   ],
   "source": [
    "#score\n",
    "preds = model.predict_classes(X_test4.as_matrix(), verbose=0)\n",
    "print(preds.shape)\n",
    "print(preds)"
   ]
  },
  {
   "cell_type": "code",
   "execution_count": 110,
   "metadata": {
    "collapsed": false
   },
   "outputs": [
    {
     "name": "stdout",
     "output_type": "stream",
     "text": [
      "[[ 1.  0.]\n",
      " [ 1.  0.]\n",
      " [ 1.  0.]\n",
      " [ 1.  0.]\n",
      " [ 1.  0.]\n",
      " [ 1.  0.]\n",
      " [ 1.  0.]\n",
      " [ 1.  0.]\n",
      " [ 1.  0.]\n",
      " [ 1.  0.]\n",
      " [ 1.  0.]\n",
      " [ 1.  0.]\n",
      " [ 1.  0.]\n",
      " [ 1.  0.]\n",
      " [ 1.  0.]\n",
      " [ 1.  0.]\n",
      " [ 1.  0.]\n",
      " [ 1.  0.]\n",
      " [ 1.  0.]\n",
      " [ 1.  0.]\n",
      " [ 1.  0.]\n",
      " [ 1.  0.]\n",
      " [ 1.  0.]\n",
      " [ 1.  0.]\n",
      " [ 1.  0.]\n",
      " [ 1.  0.]\n",
      " [ 1.  0.]\n",
      " [ 1.  0.]\n",
      " [ 1.  0.]\n",
      " [ 1.  0.]\n",
      " [ 1.  0.]\n",
      " [ 1.  0.]\n",
      " [ 1.  0.]\n",
      " [ 1.  0.]\n",
      " [ 1.  0.]\n",
      " [ 1.  0.]\n",
      " [ 1.  0.]\n",
      " [ 1.  0.]\n",
      " [ 1.  0.]\n",
      " [ 1.  0.]\n",
      " [ 1.  0.]\n",
      " [ 1.  0.]\n",
      " [ 1.  0.]\n",
      " [ 1.  0.]\n",
      " [ 1.  0.]\n",
      " [ 1.  0.]\n",
      " [ 1.  0.]\n",
      " [ 1.  0.]\n",
      " [ 1.  0.]\n",
      " [ 1.  0.]\n",
      " [ 1.  0.]\n",
      " [ 1.  0.]\n",
      " [ 1.  0.]\n",
      " [ 1.  0.]\n",
      " [ 1.  0.]\n",
      " [ 1.  0.]\n",
      " [ 1.  0.]\n",
      " [ 1.  0.]\n",
      " [ 1.  0.]\n",
      " [ 1.  0.]\n",
      " [ 1.  0.]\n",
      " [ 1.  0.]\n",
      " [ 1.  0.]\n",
      " [ 1.  0.]\n",
      " [ 1.  0.]\n",
      " [ 1.  0.]\n",
      " [ 1.  0.]\n",
      " [ 1.  0.]\n",
      " [ 1.  0.]\n",
      " [ 1.  0.]\n",
      " [ 1.  0.]\n",
      " [ 1.  0.]\n",
      " [ 1.  0.]\n",
      " [ 1.  0.]\n",
      " [ 1.  0.]\n",
      " [ 1.  0.]\n",
      " [ 1.  0.]\n",
      " [ 1.  0.]\n",
      " [ 1.  0.]\n",
      " [ 1.  0.]\n",
      " [ 1.  0.]\n",
      " [ 1.  0.]\n",
      " [ 1.  0.]\n",
      " [ 1.  0.]\n",
      " [ 1.  0.]\n",
      " [ 1.  0.]\n",
      " [ 1.  0.]\n",
      " [ 1.  0.]\n",
      " [ 1.  0.]\n",
      " [ 1.  0.]\n",
      " [ 1.  0.]\n",
      " [ 1.  0.]\n",
      " [ 1.  0.]\n",
      " [ 1.  0.]\n",
      " [ 1.  0.]\n",
      " [ 1.  0.]\n",
      " [ 1.  0.]\n",
      " [ 1.  0.]\n",
      " [ 1.  0.]]\n"
     ]
    }
   ],
   "source": [
    "#print(X_test4.shape)\n",
    "valid_preds = model.predict_proba(X_test4.as_matrix(), verbose=0)\n",
    "print(valid_preds)"
   ]
  },
  {
   "cell_type": "code",
   "execution_count": null,
   "metadata": {
    "collapsed": true
   },
   "outputs": [],
   "source": []
  },
  {
   "cell_type": "code",
   "execution_count": null,
   "metadata": {
    "collapsed": true
   },
   "outputs": [],
   "source": []
  },
  {
   "cell_type": "code",
   "execution_count": null,
   "metadata": {
    "collapsed": true
   },
   "outputs": [],
   "source": []
  },
  {
   "cell_type": "code",
   "execution_count": null,
   "metadata": {
    "collapsed": true
   },
   "outputs": [],
   "source": []
  },
  {
   "cell_type": "code",
   "execution_count": null,
   "metadata": {
    "collapsed": true
   },
   "outputs": [],
   "source": []
  },
  {
   "cell_type": "code",
   "execution_count": null,
   "metadata": {
    "collapsed": true
   },
   "outputs": [],
   "source": [
    "#Calculating ROC\n",
    "'''\n",
    "valid_preds = model.predict_proba(X_valid, verbose=0)\n",
    "valid_preds = valid_preds[:, 1]\t128\t    valid_preds = valid_preds[:, 1]\n",
    "roc = metrics.roc_auc_score(y_valid, valid_preds)\t129\t    roc = metrics.roc_auc_score(y_valid, valid_preds)\n",
    "print(\"ROC:\", roc)\t130\t    print(\"ROC:\", roc)\n",
    "av_roc += roc\t131\t    av_roc += roc\n",
    "print('Average ROC:', av_roc/nb_folds)\t133\tprint('Average ROC:', av_roc/nb_folds)\n",
    "'''"
   ]
  },
  {
   "cell_type": "code",
   "execution_count": null,
   "metadata": {
    "collapsed": true
   },
   "outputs": [],
   "source": []
  },
  {
   "cell_type": "code",
   "execution_count": null,
   "metadata": {
    "collapsed": true
   },
   "outputs": [],
   "source": [
    "'''\n",
    "batch_size = 10\n",
    "nb_classes = 2\n",
    "nb_epoch = 10\n",
    "\n",
    "X_train = genomeData[8:408]\n",
    "y_train = genomeDataLabel[0:400]\n",
    "print(X_train.shape, y_train.shape)\n",
    "\n",
    "X_test = genomeData[409:508]\n",
    "y_test = genomeDataLabel[401:500]\n",
    "#print(X_train.tail())\n",
    "#print(Y_train.tail())\n",
    "print(X_test.shape, y_test.shape)\n",
    "#print(X_test.tail())\n",
    "#print(Y_test.tail())\n",
    "\n",
    "# the data, shuffled and split between tran and test sets\n",
    "#(X_train, y_train), (X_test, y_test) = mnist.load_data()\n",
    "\n",
    "batch_size = 128\n",
    "nb_classes = 10\n",
    "nb_epoch = 12\n",
    "\n",
    "# input image dimensions\n",
    "img_rows, img_cols = 28, 28\n",
    "# number of convolutional filters to use\n",
    "nb_filters = 32\n",
    "# size of pooling area for max pooling\n",
    "nb_pool = 2\n",
    "# convolution kernel size\n",
    "nb_conv = 3\n",
    "\n",
    "# the data, shuffled and split between tran and test sets\n",
    "(X_train, y_train), (X_test, y_test) = mnist.load_data()\n",
    "\n",
    "X_train = X_train.reshape(X_train.shape[0], 1, img_rows, img_cols)\n",
    "X_test = X_test.reshape(X_test.shape[0], 1, img_rows, img_cols)\n",
    "X_train = X_train.astype('float32')\n",
    "X_test = X_test.astype('float32')\n",
    "X_train /= 255\n",
    "X_test /= 255\n",
    "print('X_train shape:', X_train.shape)\n",
    "print(X_train.shape[0], 'train samples')\n",
    "print(X_test.shape[0], 'test samples')\n",
    "\n",
    "# convert class vectors to binary class matrices\n",
    "Y_train = np_utils.to_categorical(y_train, nb_classes)\n",
    "Y_test = np_utils.to_categorical(y_test, nb_classes)\n",
    "\n",
    "model = Sequential()\n",
    "\n",
    "model.add(Convolution2D(nb_filters, nb_conv, nb_conv,\n",
    "                        border_mode='valid',\n",
    "                        input_shape=(1, img_rows, img_cols)))\n",
    "model.add(Activation('relu'))\n",
    "model.add(Convolution2D(nb_filters, nb_conv, nb_conv))\n",
    "model.add(Activation('relu'))\n",
    "model.add(MaxPooling2D(pool_size=(nb_pool, nb_pool)))\n",
    "model.add(Dropout(0.25))\n",
    "\n",
    "model.add(Flatten())\n",
    "model.add(Dense(128))\n",
    "model.add(Activation('relu'))\n",
    "model.add(Dropout(0.5))\n",
    "model.add(Dense(nb_classes))\n",
    "model.add(Activation('softmax'))\n",
    "\n",
    "model.compile(loss='categorical_crossentropy', optimizer='adadelta')\n",
    "\n",
    "model.fit(X_train, Y_train, batch_size=batch_size, nb_epoch=nb_epoch,\n",
    "          show_accuracy=True, verbose=1, validation_data=(X_test, Y_test))\n",
    "score = model.evaluate(X_test, Y_test, show_accuracy=True, verbose=0)\n",
    "print('Test score:', score[0])\n",
    "print('Test accuracy:', score[1])\n",
    "'''"
   ]
  },
  {
   "cell_type": "code",
   "execution_count": null,
   "metadata": {
    "collapsed": true
   },
   "outputs": [],
   "source": []
  },
  {
   "cell_type": "code",
   "execution_count": null,
   "metadata": {
    "collapsed": true
   },
   "outputs": [],
   "source": []
  },
  {
   "cell_type": "code",
   "execution_count": null,
   "metadata": {
    "collapsed": true
   },
   "outputs": [],
   "source": []
  },
  {
   "cell_type": "code",
   "execution_count": null,
   "metadata": {
    "collapsed": true
   },
   "outputs": [],
   "source": []
  },
  {
   "cell_type": "code",
   "execution_count": null,
   "metadata": {
    "collapsed": true
   },
   "outputs": [],
   "source": []
  },
  {
   "cell_type": "code",
   "execution_count": null,
   "metadata": {
    "collapsed": true
   },
   "outputs": [],
   "source": []
  },
  {
   "cell_type": "code",
   "execution_count": null,
   "metadata": {
    "collapsed": true
   },
   "outputs": [],
   "source": []
  }
 ],
 "metadata": {
  "kernelspec": {
   "display_name": "Python 2",
   "language": "python",
   "name": "python2"
  },
  "language_info": {
   "codemirror_mode": {
    "name": "ipython",
    "version": 2
   },
   "file_extension": ".py",
   "mimetype": "text/x-python",
   "name": "python",
   "nbconvert_exporter": "python",
   "pygments_lexer": "ipython2",
   "version": "2.7.6"
  }
 },
 "nbformat": 4,
 "nbformat_minor": 0
}
