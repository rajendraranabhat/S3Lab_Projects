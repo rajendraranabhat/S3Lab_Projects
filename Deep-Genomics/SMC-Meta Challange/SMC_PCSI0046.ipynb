{
 "cells": [
  {
   "cell_type": "code",
   "execution_count": 63,
   "metadata": {
    "collapsed": false
   },
   "outputs": [],
   "source": [
    "import numpy as np\n",
    "import pandas as pd\n",
    "from collections import Counter\n",
    "import math\n",
    "\n",
    "from sklearn.neighbors import KNeighborsClassifier\n",
    "from sklearn.linear_model import LogisticRegression\n",
    "from sklearn.ensemble import RandomForestClassifier\n",
    "from sklearn.cross_validation import cross_val_score\n",
    "from sklearn import metrics\n",
    "from sklearn.cross_validation import train_test_split\n",
    "from sklearn.metrics import confusion_matrix, roc_curve, auc\n",
    "from sklearn.grid_search import GridSearchCV\n",
    "from sklearn import svm\n",
    "from sklearn.decomposition import RandomizedPCA\n",
    "from sklearn.metrics import classification_report\n",
    "from sklearn import preprocessing\n",
    "import matplotlib.pyplot as plt\n",
    "import scipy.optimize as opt\n",
    "import glob\n",
    "import os\n",
    "import sys\n",
    "import pickle\n",
    "import time\n",
    "import timeit\n",
    "\n",
    "from sklearn.decomposition import RandomizedPCA\n",
    "\n",
    "import theano\n",
    "import theano.tensor as T\n",
    "import lasagne\n",
    "\n",
    "#np.random.seed(1337)  # for reproducibility\n",
    "from keras.datasets import mnist\n",
    "from keras.models import Sequential\n",
    "from keras.layers.core import Dense, Dropout, Activation, Flatten, Layer, Reshape, AutoEncoder, Merge\n",
    "from keras.layers.convolutional import Convolution2D,MaxPooling2D,Convolution1D,MaxPooling1D,UpSampling2D, ZeroPadding2D\n",
    "from keras.optimizers import SGD, Adam, RMSprop, Adadelta\n",
    "from keras.layers.normalization import BatchNormalization\n",
    "from keras.utils import np_utils\n",
    "import keras.utils.visualize_util as vutil\n",
    "from keras.layers.recurrent import LSTM, GRU, SimpleRNN\n",
    "from keras.regularizers import l1, l2, l1l2, activity_l2, activity_l1\n",
    "import keras.layers.containers as containers\n",
    "from keras.layers.noise import GaussianNoise\n",
    "from keras.regularizers import ActivityRegularizer\n",
    "from keras import backend as K\n",
    "import keras.utils.visualize_util as vutil\n",
    "from keras.models import model_from_json\n",
    "\n",
    "import seaborn as sns\n",
    "\n",
    "%matplotlib inline\n",
    "\n",
    "from IPython.display import SVG\n",
    "\n",
    "import h5py\n",
    "\n",
    "np.set_printoptions(suppress=True)  #Supress exponent of the number 2e-2 == 0.02\n",
    "\n",
    "%matplotlib inline"
   ]
  },
  {
   "cell_type": "code",
   "execution_count": 64,
   "metadata": {
    "collapsed": true
   },
   "outputs": [],
   "source": [
    "#PCSI0046"
   ]
  },
  {
   "cell_type": "code",
   "execution_count": 65,
   "metadata": {
    "collapsed": false
   },
   "outputs": [],
   "source": [
    "#Read the data\n",
    "\n",
    "GenomicFeatures_PCSI0046 = pd.read_csv(open('data/PCSI0046/GenomicFeatures_PCSI0046.txt','r'),sep='\\t')\n",
    "SNVCalls_PCSI0046    = pd.read_csv(open('data/PCSI0046/SNVCalls_PCSI0046.txt','r'),sep='\\t') "
   ]
  },
  {
   "cell_type": "code",
   "execution_count": 66,
   "metadata": {
    "collapsed": false
   },
   "outputs": [
    {
     "name": "stdout",
     "output_type": "stream",
     "text": [
      "(103207, 15)\n",
      "(103207, 129)\n"
     ]
    }
   ],
   "source": [
    "print GenomicFeatures_PCSI0046.shape\n",
    "print SNVCalls_PCSI0046.shape"
   ]
  },
  {
   "cell_type": "code",
   "execution_count": 67,
   "metadata": {
    "collapsed": false
   },
   "outputs": [
    {
     "data": {
      "text/plain": [
       "CHROM                  0\n",
       "POS                    0\n",
       "RefAllele              0\n",
       "NonRefAllele           0\n",
       "BaseQual               0\n",
       "TumourCoverage         0\n",
       "NormalCoverage         0\n",
       "MapQual                0\n",
       "ReadPosition         145\n",
       "Trinucleotide          0\n",
       "HomopolymerRate        0\n",
       "GCcontent              0\n",
       "GenomicLocation    24849\n",
       "DistanceSNP            0\n",
       "StrandBias           145\n",
       "dtype: int64"
      ]
     },
     "execution_count": 67,
     "metadata": {},
     "output_type": "execute_result"
    }
   ],
   "source": [
    "np.sum(GenomicFeatures_PCSI0046.isnull())"
   ]
  },
  {
   "cell_type": "code",
   "execution_count": 68,
   "metadata": {
    "collapsed": false
   },
   "outputs": [],
   "source": [
    "GenomicFeatures_PCSI0046['ReadPosition'].fillna(0, inplace=True)  #Replace na with 0\n",
    "GenomicFeatures_PCSI0046['StrandBias'].fillna(0, inplace=True)\n",
    "\n",
    "#print np.sum(GenomicFeatures_PCSI0023.isnull())"
   ]
  },
  {
   "cell_type": "code",
   "execution_count": 69,
   "metadata": {
    "collapsed": false
   },
   "outputs": [
    {
     "data": {
      "text/plain": [
       "array(['UTR3', 'UTR5', 'downstream', 'exonic', 'exonic;splicing',\n",
       "       'intergenic', 'intronic', 'nan', 'ncRNA_UTR3', 'ncRNA_UTR5',\n",
       "       'ncRNA_exonic', 'ncRNA_intronic', 'splicing', 'upstream',\n",
       "       'upstream;downstream'], \n",
       "      dtype='|S19')"
      ]
     },
     "execution_count": 69,
     "metadata": {},
     "output_type": "execute_result"
    }
   ],
   "source": [
    "np.unique(GenomicFeatures_PCSI0046['GenomicLocation'])"
   ]
  },
  {
   "cell_type": "code",
   "execution_count": 70,
   "metadata": {
    "collapsed": false
   },
   "outputs": [
    {
     "data": {
      "text/html": [
       "<div style=\"max-height:1000px;max-width:1500px;overflow:auto;\">\n",
       "<table border=\"1\" class=\"dataframe\">\n",
       "  <thead>\n",
       "    <tr style=\"text-align: right;\">\n",
       "      <th></th>\n",
       "      <th>CHROM</th>\n",
       "      <th>POS</th>\n",
       "      <th>RefAllele</th>\n",
       "      <th>NonRefAllele</th>\n",
       "      <th>BaseQual</th>\n",
       "      <th>TumourCoverage</th>\n",
       "      <th>NormalCoverage</th>\n",
       "      <th>MapQual</th>\n",
       "      <th>ReadPosition</th>\n",
       "      <th>Trinucleotide</th>\n",
       "      <th>HomopolymerRate</th>\n",
       "      <th>GCcontent</th>\n",
       "      <th>GenomicLocation</th>\n",
       "      <th>DistanceSNP</th>\n",
       "      <th>StrandBias</th>\n",
       "    </tr>\n",
       "  </thead>\n",
       "  <tbody>\n",
       "    <tr>\n",
       "      <th>0</th>\n",
       "      <td> chr1</td>\n",
       "      <td> 14933</td>\n",
       "      <td> 112</td>\n",
       "      <td> 44</td>\n",
       "      <td> 4747</td>\n",
       "      <td> 156</td>\n",
       "      <td> 128</td>\n",
       "      <td> 23</td>\n",
       "      <td> 55.0</td>\n",
       "      <td> ACC</td>\n",
       "      <td> 3.139535</td>\n",
       "      <td> 0.592040</td>\n",
       "      <td> ncRNA_intronic</td>\n",
       "      <td> 15990</td>\n",
       "      <td> 0.416667</td>\n",
       "    </tr>\n",
       "    <tr>\n",
       "      <th>1</th>\n",
       "      <td> chr1</td>\n",
       "      <td> 14976</td>\n",
       "      <td> 107</td>\n",
       "      <td> 39</td>\n",
       "      <td> 4243</td>\n",
       "      <td> 148</td>\n",
       "      <td> 110</td>\n",
       "      <td> 23</td>\n",
       "      <td> 49.5</td>\n",
       "      <td> GCG</td>\n",
       "      <td> 2.817518</td>\n",
       "      <td> 0.582090</td>\n",
       "      <td>   ncRNA_exonic</td>\n",
       "      <td> 15947</td>\n",
       "      <td> 0.533784</td>\n",
       "    </tr>\n",
       "    <tr>\n",
       "      <th>2</th>\n",
       "      <td> chr1</td>\n",
       "      <td> 28588</td>\n",
       "      <td>  15</td>\n",
       "      <td>  1</td>\n",
       "      <td>  446</td>\n",
       "      <td>  17</td>\n",
       "      <td>  16</td>\n",
       "      <td> 20</td>\n",
       "      <td> 87.0</td>\n",
       "      <td> ACC</td>\n",
       "      <td> 4.192593</td>\n",
       "      <td> 0.313433</td>\n",
       "      <td> ncRNA_intronic</td>\n",
       "      <td>  2335</td>\n",
       "      <td> 0.588235</td>\n",
       "    </tr>\n",
       "    <tr>\n",
       "      <th>3</th>\n",
       "      <td> chr1</td>\n",
       "      <td> 49298</td>\n",
       "      <td>  63</td>\n",
       "      <td>  7</td>\n",
       "      <td> 2258</td>\n",
       "      <td>  70</td>\n",
       "      <td>  71</td>\n",
       "      <td> 23</td>\n",
       "      <td> 39.0</td>\n",
       "      <td> ATA</td>\n",
       "      <td> 2.256757</td>\n",
       "      <td> 0.452736</td>\n",
       "      <td>     intergenic</td>\n",
       "      <td> 12144</td>\n",
       "      <td> 0.485714</td>\n",
       "    </tr>\n",
       "    <tr>\n",
       "      <th>4</th>\n",
       "      <td> chr1</td>\n",
       "      <td> 77462</td>\n",
       "      <td>   6</td>\n",
       "      <td> 20</td>\n",
       "      <td>  799</td>\n",
       "      <td>  26</td>\n",
       "      <td>  29</td>\n",
       "      <td> 15</td>\n",
       "      <td> 47.0</td>\n",
       "      <td> ACG</td>\n",
       "      <td> 3.261538</td>\n",
       "      <td> 0.258706</td>\n",
       "      <td>     intergenic</td>\n",
       "      <td>  5622</td>\n",
       "      <td> 0.730769</td>\n",
       "    </tr>\n",
       "  </tbody>\n",
       "</table>\n",
       "<p>5 rows × 15 columns</p>\n",
       "</div>"
      ],
      "text/plain": [
       "  CHROM    POS  RefAllele  NonRefAllele  BaseQual  TumourCoverage  \\\n",
       "0  chr1  14933        112            44      4747             156   \n",
       "1  chr1  14976        107            39      4243             148   \n",
       "2  chr1  28588         15             1       446              17   \n",
       "3  chr1  49298         63             7      2258              70   \n",
       "4  chr1  77462          6            20       799              26   \n",
       "\n",
       "   NormalCoverage  MapQual  ReadPosition Trinucleotide  HomopolymerRate  \\\n",
       "0             128       23          55.0           ACC         3.139535   \n",
       "1             110       23          49.5           GCG         2.817518   \n",
       "2              16       20          87.0           ACC         4.192593   \n",
       "3              71       23          39.0           ATA         2.256757   \n",
       "4              29       15          47.0           ACG         3.261538   \n",
       "\n",
       "   GCcontent GenomicLocation  DistanceSNP  StrandBias  \n",
       "0   0.592040  ncRNA_intronic        15990    0.416667  \n",
       "1   0.582090    ncRNA_exonic        15947    0.533784  \n",
       "2   0.313433  ncRNA_intronic         2335    0.588235  \n",
       "3   0.452736      intergenic        12144    0.485714  \n",
       "4   0.258706      intergenic         5622    0.730769  \n",
       "\n",
       "[5 rows x 15 columns]"
      ]
     },
     "execution_count": 70,
     "metadata": {},
     "output_type": "execute_result"
    }
   ],
   "source": [
    "GenomicFeatures_PCSI0046.head()"
   ]
  },
  {
   "cell_type": "code",
   "execution_count": 71,
   "metadata": {
    "collapsed": false
   },
   "outputs": [
    {
     "data": {
      "text/html": [
       "<div style=\"max-height:1000px;max-width:1500px;overflow:auto;\">\n",
       "<table border=\"1\" class=\"dataframe\">\n",
       "  <thead>\n",
       "    <tr style=\"text-align: right;\">\n",
       "      <th></th>\n",
       "      <th>CHROM</th>\n",
       "      <th>POS</th>\n",
       "      <th>END</th>\n",
       "      <th>X2399009</th>\n",
       "      <th>X2642559</th>\n",
       "      <th>X2642561</th>\n",
       "      <th>X2673219</th>\n",
       "      <th>X2673233</th>\n",
       "      <th>X2701053</th>\n",
       "      <th>X2701056</th>\n",
       "      <th>X2811094</th>\n",
       "      <th>X2811096</th>\n",
       "      <th>X2811100</th>\n",
       "      <th>X2811102</th>\n",
       "      <th>X2811395</th>\n",
       "      <th>X2812912</th>\n",
       "      <th>X2813251</th>\n",
       "      <th>X2813261</th>\n",
       "      <th>X2813343</th>\n",
       "      <th>X2813383</th>\n",
       "      <th></th>\n",
       "    </tr>\n",
       "  </thead>\n",
       "  <tbody>\n",
       "    <tr>\n",
       "      <th>0</th>\n",
       "      <td> chr1</td>\n",
       "      <td> 14932</td>\n",
       "      <td> 14933</td>\n",
       "      <td> 0</td>\n",
       "      <td> 0</td>\n",
       "      <td> 0</td>\n",
       "      <td> 0</td>\n",
       "      <td> 0</td>\n",
       "      <td> 0</td>\n",
       "      <td> 0</td>\n",
       "      <td> 0</td>\n",
       "      <td> 0</td>\n",
       "      <td> 0</td>\n",
       "      <td> 0</td>\n",
       "      <td> 0</td>\n",
       "      <td> 0</td>\n",
       "      <td> 0</td>\n",
       "      <td> 1</td>\n",
       "      <td> 0</td>\n",
       "      <td> 0</td>\n",
       "      <td>...</td>\n",
       "    </tr>\n",
       "    <tr>\n",
       "      <th>1</th>\n",
       "      <td> chr1</td>\n",
       "      <td> 14975</td>\n",
       "      <td> 14976</td>\n",
       "      <td> 0</td>\n",
       "      <td> 0</td>\n",
       "      <td> 0</td>\n",
       "      <td> 0</td>\n",
       "      <td> 0</td>\n",
       "      <td> 0</td>\n",
       "      <td> 0</td>\n",
       "      <td> 0</td>\n",
       "      <td> 0</td>\n",
       "      <td> 0</td>\n",
       "      <td> 0</td>\n",
       "      <td> 0</td>\n",
       "      <td> 0</td>\n",
       "      <td> 0</td>\n",
       "      <td> 1</td>\n",
       "      <td> 0</td>\n",
       "      <td> 0</td>\n",
       "      <td>...</td>\n",
       "    </tr>\n",
       "    <tr>\n",
       "      <th>2</th>\n",
       "      <td> chr1</td>\n",
       "      <td> 28587</td>\n",
       "      <td> 28588</td>\n",
       "      <td> 0</td>\n",
       "      <td> 0</td>\n",
       "      <td> 0</td>\n",
       "      <td> 0</td>\n",
       "      <td> 0</td>\n",
       "      <td> 0</td>\n",
       "      <td> 0</td>\n",
       "      <td> 0</td>\n",
       "      <td> 0</td>\n",
       "      <td> 0</td>\n",
       "      <td> 0</td>\n",
       "      <td> 0</td>\n",
       "      <td> 0</td>\n",
       "      <td> 0</td>\n",
       "      <td> 0</td>\n",
       "      <td> 0</td>\n",
       "      <td> 0</td>\n",
       "      <td>...</td>\n",
       "    </tr>\n",
       "    <tr>\n",
       "      <th>3</th>\n",
       "      <td> chr1</td>\n",
       "      <td> 49297</td>\n",
       "      <td> 49298</td>\n",
       "      <td> 0</td>\n",
       "      <td> 0</td>\n",
       "      <td> 0</td>\n",
       "      <td> 0</td>\n",
       "      <td> 0</td>\n",
       "      <td> 0</td>\n",
       "      <td> 0</td>\n",
       "      <td> 0</td>\n",
       "      <td> 0</td>\n",
       "      <td> 0</td>\n",
       "      <td> 0</td>\n",
       "      <td> 0</td>\n",
       "      <td> 0</td>\n",
       "      <td> 0</td>\n",
       "      <td> 1</td>\n",
       "      <td> 0</td>\n",
       "      <td> 0</td>\n",
       "      <td>...</td>\n",
       "    </tr>\n",
       "    <tr>\n",
       "      <th>4</th>\n",
       "      <td> chr1</td>\n",
       "      <td> 77461</td>\n",
       "      <td> 77462</td>\n",
       "      <td> 0</td>\n",
       "      <td> 0</td>\n",
       "      <td> 0</td>\n",
       "      <td> 0</td>\n",
       "      <td> 0</td>\n",
       "      <td> 0</td>\n",
       "      <td> 0</td>\n",
       "      <td> 0</td>\n",
       "      <td> 0</td>\n",
       "      <td> 0</td>\n",
       "      <td> 0</td>\n",
       "      <td> 0</td>\n",
       "      <td> 0</td>\n",
       "      <td> 0</td>\n",
       "      <td> 1</td>\n",
       "      <td> 0</td>\n",
       "      <td> 0</td>\n",
       "      <td>...</td>\n",
       "    </tr>\n",
       "  </tbody>\n",
       "</table>\n",
       "<p>5 rows × 129 columns</p>\n",
       "</div>"
      ],
      "text/plain": [
       "  CHROM    POS    END  X2399009  X2642559  X2642561  X2673219  X2673233  \\\n",
       "0  chr1  14932  14933         0         0         0         0         0   \n",
       "1  chr1  14975  14976         0         0         0         0         0   \n",
       "2  chr1  28587  28588         0         0         0         0         0   \n",
       "3  chr1  49297  49298         0         0         0         0         0   \n",
       "4  chr1  77461  77462         0         0         0         0         0   \n",
       "\n",
       "   X2701053  X2701056  X2811094  X2811096  X2811100  X2811102  X2811395  \\\n",
       "0         0         0         0         0         0         0         0   \n",
       "1         0         0         0         0         0         0         0   \n",
       "2         0         0         0         0         0         0         0   \n",
       "3         0         0         0         0         0         0         0   \n",
       "4         0         0         0         0         0         0         0   \n",
       "\n",
       "   X2812912  X2813251  X2813261  X2813343  X2813383      \n",
       "0         0         0         1         0         0 ...  \n",
       "1         0         0         1         0         0 ...  \n",
       "2         0         0         0         0         0 ...  \n",
       "3         0         0         1         0         0 ...  \n",
       "4         0         0         1         0         0 ...  \n",
       "\n",
       "[5 rows x 129 columns]"
      ]
     },
     "execution_count": 71,
     "metadata": {},
     "output_type": "execute_result"
    }
   ],
   "source": [
    "SNVCalls_PCSI0046.head()"
   ]
  },
  {
   "cell_type": "code",
   "execution_count": 72,
   "metadata": {
    "collapsed": false
   },
   "outputs": [
    {
     "data": {
      "text/plain": [
       "array(['ACA', 'ACC', 'ACG', 'ACT', 'ATA', 'ATC', 'ATG', 'ATT', 'CCA',\n",
       "       'CCC', 'CCG', 'CCT', 'CTA', 'CTC', 'CTG', 'CTT', 'GCA', 'GCC',\n",
       "       'GCG', 'GCT', 'GTA', 'GTC', 'GTG', 'GTT', 'TCA', 'TCC', 'TCG',\n",
       "       'TCT', 'TTA', 'TTC', 'TTG', 'TTT'], \n",
       "      dtype='|S3')"
      ]
     },
     "execution_count": 72,
     "metadata": {},
     "output_type": "execute_result"
    }
   ],
   "source": [
    "np.unique(GenomicFeatures_PCSI0046['Trinucleotide'])"
   ]
  },
  {
   "cell_type": "code",
   "execution_count": 73,
   "metadata": {
    "collapsed": true
   },
   "outputs": [],
   "source": [
    "PCSI0046 = pd.merge(GenomicFeatures_PCSI0046, SNVCalls_PCSI0046,left_on=['CHROM', 'POS'], right_on=['CHROM','END'])\n"
   ]
  },
  {
   "cell_type": "code",
   "execution_count": 74,
   "metadata": {
    "collapsed": false
   },
   "outputs": [
    {
     "data": {
      "text/html": [
       "<div style=\"max-height:1000px;max-width:1500px;overflow:auto;\">\n",
       "<table border=\"1\" class=\"dataframe\">\n",
       "  <thead>\n",
       "    <tr style=\"text-align: right;\">\n",
       "      <th></th>\n",
       "      <th>CHROM</th>\n",
       "      <th>POS_x</th>\n",
       "      <th>RefAllele</th>\n",
       "      <th>NonRefAllele</th>\n",
       "      <th>BaseQual</th>\n",
       "      <th>TumourCoverage</th>\n",
       "      <th>NormalCoverage</th>\n",
       "      <th>MapQual</th>\n",
       "      <th>ReadPosition</th>\n",
       "      <th>Trinucleotide</th>\n",
       "      <th>HomopolymerRate</th>\n",
       "      <th>GCcontent</th>\n",
       "      <th>GenomicLocation</th>\n",
       "      <th>DistanceSNP</th>\n",
       "      <th>StrandBias</th>\n",
       "      <th>POS_y</th>\n",
       "      <th>END</th>\n",
       "      <th>X2399009</th>\n",
       "      <th>X2642559</th>\n",
       "      <th>X2642561</th>\n",
       "      <th></th>\n",
       "    </tr>\n",
       "  </thead>\n",
       "  <tbody>\n",
       "    <tr>\n",
       "      <th>0</th>\n",
       "      <td> chr1</td>\n",
       "      <td> 14933</td>\n",
       "      <td> 112</td>\n",
       "      <td> 44</td>\n",
       "      <td> 4747</td>\n",
       "      <td> 156</td>\n",
       "      <td> 128</td>\n",
       "      <td> 23</td>\n",
       "      <td> 55.0</td>\n",
       "      <td> ACC</td>\n",
       "      <td> 3.139535</td>\n",
       "      <td> 0.592040</td>\n",
       "      <td> ncRNA_intronic</td>\n",
       "      <td> 15990</td>\n",
       "      <td> 0.416667</td>\n",
       "      <td> 14932</td>\n",
       "      <td> 14933</td>\n",
       "      <td> 0</td>\n",
       "      <td> 0</td>\n",
       "      <td> 0</td>\n",
       "      <td>...</td>\n",
       "    </tr>\n",
       "    <tr>\n",
       "      <th>1</th>\n",
       "      <td> chr1</td>\n",
       "      <td> 14976</td>\n",
       "      <td> 107</td>\n",
       "      <td> 39</td>\n",
       "      <td> 4243</td>\n",
       "      <td> 148</td>\n",
       "      <td> 110</td>\n",
       "      <td> 23</td>\n",
       "      <td> 49.5</td>\n",
       "      <td> GCG</td>\n",
       "      <td> 2.817518</td>\n",
       "      <td> 0.582090</td>\n",
       "      <td>   ncRNA_exonic</td>\n",
       "      <td> 15947</td>\n",
       "      <td> 0.533784</td>\n",
       "      <td> 14975</td>\n",
       "      <td> 14976</td>\n",
       "      <td> 0</td>\n",
       "      <td> 0</td>\n",
       "      <td> 0</td>\n",
       "      <td>...</td>\n",
       "    </tr>\n",
       "    <tr>\n",
       "      <th>2</th>\n",
       "      <td> chr1</td>\n",
       "      <td> 28588</td>\n",
       "      <td>  15</td>\n",
       "      <td>  1</td>\n",
       "      <td>  446</td>\n",
       "      <td>  17</td>\n",
       "      <td>  16</td>\n",
       "      <td> 20</td>\n",
       "      <td> 87.0</td>\n",
       "      <td> ACC</td>\n",
       "      <td> 4.192593</td>\n",
       "      <td> 0.313433</td>\n",
       "      <td> ncRNA_intronic</td>\n",
       "      <td>  2335</td>\n",
       "      <td> 0.588235</td>\n",
       "      <td> 28587</td>\n",
       "      <td> 28588</td>\n",
       "      <td> 0</td>\n",
       "      <td> 0</td>\n",
       "      <td> 0</td>\n",
       "      <td>...</td>\n",
       "    </tr>\n",
       "    <tr>\n",
       "      <th>3</th>\n",
       "      <td> chr1</td>\n",
       "      <td> 49298</td>\n",
       "      <td>  63</td>\n",
       "      <td>  7</td>\n",
       "      <td> 2258</td>\n",
       "      <td>  70</td>\n",
       "      <td>  71</td>\n",
       "      <td> 23</td>\n",
       "      <td> 39.0</td>\n",
       "      <td> ATA</td>\n",
       "      <td> 2.256757</td>\n",
       "      <td> 0.452736</td>\n",
       "      <td>     intergenic</td>\n",
       "      <td> 12144</td>\n",
       "      <td> 0.485714</td>\n",
       "      <td> 49297</td>\n",
       "      <td> 49298</td>\n",
       "      <td> 0</td>\n",
       "      <td> 0</td>\n",
       "      <td> 0</td>\n",
       "      <td>...</td>\n",
       "    </tr>\n",
       "    <tr>\n",
       "      <th>4</th>\n",
       "      <td> chr1</td>\n",
       "      <td> 77462</td>\n",
       "      <td>   6</td>\n",
       "      <td> 20</td>\n",
       "      <td>  799</td>\n",
       "      <td>  26</td>\n",
       "      <td>  29</td>\n",
       "      <td> 15</td>\n",
       "      <td> 47.0</td>\n",
       "      <td> ACG</td>\n",
       "      <td> 3.261538</td>\n",
       "      <td> 0.258706</td>\n",
       "      <td>     intergenic</td>\n",
       "      <td>  5622</td>\n",
       "      <td> 0.730769</td>\n",
       "      <td> 77461</td>\n",
       "      <td> 77462</td>\n",
       "      <td> 0</td>\n",
       "      <td> 0</td>\n",
       "      <td> 0</td>\n",
       "      <td>...</td>\n",
       "    </tr>\n",
       "  </tbody>\n",
       "</table>\n",
       "<p>5 rows × 143 columns</p>\n",
       "</div>"
      ],
      "text/plain": [
       "  CHROM  POS_x  RefAllele  NonRefAllele  BaseQual  TumourCoverage  \\\n",
       "0  chr1  14933        112            44      4747             156   \n",
       "1  chr1  14976        107            39      4243             148   \n",
       "2  chr1  28588         15             1       446              17   \n",
       "3  chr1  49298         63             7      2258              70   \n",
       "4  chr1  77462          6            20       799              26   \n",
       "\n",
       "   NormalCoverage  MapQual  ReadPosition Trinucleotide  HomopolymerRate  \\\n",
       "0             128       23          55.0           ACC         3.139535   \n",
       "1             110       23          49.5           GCG         2.817518   \n",
       "2              16       20          87.0           ACC         4.192593   \n",
       "3              71       23          39.0           ATA         2.256757   \n",
       "4              29       15          47.0           ACG         3.261538   \n",
       "\n",
       "   GCcontent GenomicLocation  DistanceSNP  StrandBias  POS_y    END  X2399009  \\\n",
       "0   0.592040  ncRNA_intronic        15990    0.416667  14932  14933         0   \n",
       "1   0.582090    ncRNA_exonic        15947    0.533784  14975  14976         0   \n",
       "2   0.313433  ncRNA_intronic         2335    0.588235  28587  28588         0   \n",
       "3   0.452736      intergenic        12144    0.485714  49297  49298         0   \n",
       "4   0.258706      intergenic         5622    0.730769  77461  77462         0   \n",
       "\n",
       "   X2642559  X2642561      \n",
       "0         0         0 ...  \n",
       "1         0         0 ...  \n",
       "2         0         0 ...  \n",
       "3         0         0 ...  \n",
       "4         0         0 ...  \n",
       "\n",
       "[5 rows x 143 columns]"
      ]
     },
     "execution_count": 74,
     "metadata": {},
     "output_type": "execute_result"
    }
   ],
   "source": [
    "PCSI0046.head() #182+15"
   ]
  },
  {
   "cell_type": "code",
   "execution_count": 75,
   "metadata": {
    "collapsed": true
   },
   "outputs": [],
   "source": [
    "PCSI0046_X = PCSI0046.iloc[:,2:15] #Exclude CHROM, POS\n",
    "PCSI0046_Y = PCSI0046.iloc[:,17:]  #Exclude CHROM_y, POS_y, END"
   ]
  },
  {
   "cell_type": "code",
   "execution_count": 76,
   "metadata": {
    "collapsed": false
   },
   "outputs": [
    {
     "name": "stdout",
     "output_type": "stream",
     "text": [
      "(103207, 13)\n",
      "(103207, 126)\n"
     ]
    }
   ],
   "source": [
    "print PCSI0046_X.shape\n",
    "print PCSI0046_Y.shape"
   ]
  },
  {
   "cell_type": "code",
   "execution_count": 77,
   "metadata": {
    "collapsed": false
   },
   "outputs": [
    {
     "data": {
      "text/html": [
       "<div style=\"max-height:1000px;max-width:1500px;overflow:auto;\">\n",
       "<table border=\"1\" class=\"dataframe\">\n",
       "  <thead>\n",
       "    <tr style=\"text-align: right;\">\n",
       "      <th></th>\n",
       "      <th>RefAllele</th>\n",
       "      <th>NonRefAllele</th>\n",
       "      <th>BaseQual</th>\n",
       "      <th>TumourCoverage</th>\n",
       "      <th>NormalCoverage</th>\n",
       "      <th>MapQual</th>\n",
       "      <th>ReadPosition</th>\n",
       "      <th>Trinucleotide</th>\n",
       "      <th>HomopolymerRate</th>\n",
       "      <th>GCcontent</th>\n",
       "      <th>GenomicLocation</th>\n",
       "      <th>DistanceSNP</th>\n",
       "      <th>StrandBias</th>\n",
       "    </tr>\n",
       "  </thead>\n",
       "  <tbody>\n",
       "    <tr>\n",
       "      <th>0</th>\n",
       "      <td> 112</td>\n",
       "      <td> 44</td>\n",
       "      <td> 4747</td>\n",
       "      <td> 156</td>\n",
       "      <td> 128</td>\n",
       "      <td> 23</td>\n",
       "      <td> 55.0</td>\n",
       "      <td> ACC</td>\n",
       "      <td> 3.139535</td>\n",
       "      <td> 0.59204</td>\n",
       "      <td> ncRNA_intronic</td>\n",
       "      <td> 15990</td>\n",
       "      <td> 0.416667</td>\n",
       "    </tr>\n",
       "    <tr>\n",
       "      <th>1</th>\n",
       "      <td> 107</td>\n",
       "      <td> 39</td>\n",
       "      <td> 4243</td>\n",
       "      <td> 148</td>\n",
       "      <td> 110</td>\n",
       "      <td> 23</td>\n",
       "      <td> 49.5</td>\n",
       "      <td> GCG</td>\n",
       "      <td> 2.817518</td>\n",
       "      <td> 0.58209</td>\n",
       "      <td>   ncRNA_exonic</td>\n",
       "      <td> 15947</td>\n",
       "      <td> 0.533784</td>\n",
       "    </tr>\n",
       "  </tbody>\n",
       "</table>\n",
       "<p>2 rows × 13 columns</p>\n",
       "</div>"
      ],
      "text/plain": [
       "   RefAllele  NonRefAllele  BaseQual  TumourCoverage  NormalCoverage  MapQual  \\\n",
       "0        112            44      4747             156             128       23   \n",
       "1        107            39      4243             148             110       23   \n",
       "\n",
       "   ReadPosition Trinucleotide  HomopolymerRate  GCcontent GenomicLocation  \\\n",
       "0          55.0           ACC         3.139535    0.59204  ncRNA_intronic   \n",
       "1          49.5           GCG         2.817518    0.58209    ncRNA_exonic   \n",
       "\n",
       "   DistanceSNP  StrandBias  \n",
       "0        15990    0.416667  \n",
       "1        15947    0.533784  \n",
       "\n",
       "[2 rows x 13 columns]"
      ]
     },
     "execution_count": 77,
     "metadata": {},
     "output_type": "execute_result"
    }
   ],
   "source": [
    "PCSI0046_X[:2]"
   ]
  },
  {
   "cell_type": "code",
   "execution_count": 78,
   "metadata": {
    "collapsed": false
   },
   "outputs": [
    {
     "data": {
      "text/html": [
       "<div style=\"max-height:1000px;max-width:1500px;overflow:auto;\">\n",
       "<table border=\"1\" class=\"dataframe\">\n",
       "  <thead>\n",
       "    <tr style=\"text-align: right;\">\n",
       "      <th></th>\n",
       "      <th>X2399009</th>\n",
       "      <th>X2642559</th>\n",
       "      <th>X2642561</th>\n",
       "      <th>X2673219</th>\n",
       "      <th>X2673233</th>\n",
       "      <th>X2701053</th>\n",
       "      <th>X2701056</th>\n",
       "      <th>X2811094</th>\n",
       "      <th>X2811096</th>\n",
       "      <th>X2811100</th>\n",
       "      <th>X2811102</th>\n",
       "      <th>X2811395</th>\n",
       "      <th>X2812912</th>\n",
       "      <th>X2813251</th>\n",
       "      <th>X2813261</th>\n",
       "      <th>X2813343</th>\n",
       "      <th>X2813383</th>\n",
       "      <th>X2813451</th>\n",
       "      <th>X2813727</th>\n",
       "      <th>X2813730</th>\n",
       "      <th></th>\n",
       "    </tr>\n",
       "  </thead>\n",
       "  <tbody>\n",
       "    <tr>\n",
       "      <th>0</th>\n",
       "      <td> 0</td>\n",
       "      <td> 0</td>\n",
       "      <td> 0</td>\n",
       "      <td> 0</td>\n",
       "      <td> 0</td>\n",
       "      <td> 0</td>\n",
       "      <td> 0</td>\n",
       "      <td> 0</td>\n",
       "      <td> 0</td>\n",
       "      <td> 0</td>\n",
       "      <td> 0</td>\n",
       "      <td> 0</td>\n",
       "      <td> 0</td>\n",
       "      <td> 0</td>\n",
       "      <td> 1</td>\n",
       "      <td> 0</td>\n",
       "      <td> 0</td>\n",
       "      <td> 0</td>\n",
       "      <td> 0</td>\n",
       "      <td> 0</td>\n",
       "      <td>...</td>\n",
       "    </tr>\n",
       "    <tr>\n",
       "      <th>1</th>\n",
       "      <td> 0</td>\n",
       "      <td> 0</td>\n",
       "      <td> 0</td>\n",
       "      <td> 0</td>\n",
       "      <td> 0</td>\n",
       "      <td> 0</td>\n",
       "      <td> 0</td>\n",
       "      <td> 0</td>\n",
       "      <td> 0</td>\n",
       "      <td> 0</td>\n",
       "      <td> 0</td>\n",
       "      <td> 0</td>\n",
       "      <td> 0</td>\n",
       "      <td> 0</td>\n",
       "      <td> 1</td>\n",
       "      <td> 0</td>\n",
       "      <td> 0</td>\n",
       "      <td> 0</td>\n",
       "      <td> 0</td>\n",
       "      <td> 0</td>\n",
       "      <td>...</td>\n",
       "    </tr>\n",
       "  </tbody>\n",
       "</table>\n",
       "<p>2 rows × 126 columns</p>\n",
       "</div>"
      ],
      "text/plain": [
       "   X2399009  X2642559  X2642561  X2673219  X2673233  X2701053  X2701056  \\\n",
       "0         0         0         0         0         0         0         0   \n",
       "1         0         0         0         0         0         0         0   \n",
       "\n",
       "   X2811094  X2811096  X2811100  X2811102  X2811395  X2812912  X2813251  \\\n",
       "0         0         0         0         0         0         0         0   \n",
       "1         0         0         0         0         0         0         0   \n",
       "\n",
       "   X2813261  X2813343  X2813383  X2813451  X2813727  X2813730      \n",
       "0         1         0         0         0         0         0 ...  \n",
       "1         1         0         0         0         0         0 ...  \n",
       "\n",
       "[2 rows x 126 columns]"
      ]
     },
     "execution_count": 78,
     "metadata": {},
     "output_type": "execute_result"
    }
   ],
   "source": [
    "PCSI0046_Y[:2]"
   ]
  },
  {
   "cell_type": "code",
   "execution_count": 79,
   "metadata": {
    "collapsed": false
   },
   "outputs": [
    {
     "name": "stdout",
     "output_type": "stream",
     "text": [
      "103207\n",
      "(103207, 1)\n"
     ]
    }
   ],
   "source": [
    "totalSample = PCSI0046_Y.shape[0]\n",
    "PCSI0046_Y_Val = np.zeros((totalSample,1)) #Will be our label now\n",
    "\n",
    "print totalSample\n",
    "print PCSI0046_Y_Val.shape"
   ]
  },
  {
   "cell_type": "code",
   "execution_count": 80,
   "metadata": {
    "collapsed": false
   },
   "outputs": [
    {
     "data": {
      "text/plain": [
       "(103207, 126)"
      ]
     },
     "execution_count": 80,
     "metadata": {},
     "output_type": "execute_result"
    }
   ],
   "source": [
    "PCSI0046_Y.shape"
   ]
  },
  {
   "cell_type": "code",
   "execution_count": 81,
   "metadata": {
    "collapsed": false
   },
   "outputs": [
    {
     "data": {
      "text/plain": [
       "(126,)"
      ]
     },
     "execution_count": 81,
     "metadata": {},
     "output_type": "execute_result"
    }
   ],
   "source": [
    "PCSI0046_Y.values[0].shape"
   ]
  },
  {
   "cell_type": "code",
   "execution_count": 82,
   "metadata": {
    "collapsed": true
   },
   "outputs": [],
   "source": [
    "for i in range(totalSample):\n",
    "    PCSI0046_Y_Val[i] = np.argmax(np.bincount(PCSI0046_Y.values[i]))"
   ]
  },
  {
   "cell_type": "code",
   "execution_count": 83,
   "metadata": {
    "collapsed": true
   },
   "outputs": [],
   "source": [
    "PCSI0046_Y_Val_1 = pd.DataFrame(PCSI0046_Y_Val)\n",
    "PCSI0046_Y_Val_1.columns = ['Label']"
   ]
  },
  {
   "cell_type": "code",
   "execution_count": 84,
   "metadata": {
    "collapsed": false
   },
   "outputs": [
    {
     "data": {
      "text/html": [
       "<div style=\"max-height:1000px;max-width:1500px;overflow:auto;\">\n",
       "<table border=\"1\" class=\"dataframe\">\n",
       "  <thead>\n",
       "    <tr style=\"text-align: right;\">\n",
       "      <th></th>\n",
       "      <th>Label</th>\n",
       "    </tr>\n",
       "  </thead>\n",
       "  <tbody>\n",
       "    <tr>\n",
       "      <th>0</th>\n",
       "      <td> 0</td>\n",
       "    </tr>\n",
       "    <tr>\n",
       "      <th>1</th>\n",
       "      <td> 0</td>\n",
       "    </tr>\n",
       "    <tr>\n",
       "      <th>2</th>\n",
       "      <td> 0</td>\n",
       "    </tr>\n",
       "  </tbody>\n",
       "</table>\n",
       "<p>3 rows × 1 columns</p>\n",
       "</div>"
      ],
      "text/plain": [
       "   Label\n",
       "0      0\n",
       "1      0\n",
       "2      0\n",
       "\n",
       "[3 rows x 1 columns]"
      ]
     },
     "execution_count": 84,
     "metadata": {},
     "output_type": "execute_result"
    }
   ],
   "source": [
    "PCSI0046_Y_Val_1[:3]"
   ]
  },
  {
   "cell_type": "code",
   "execution_count": 85,
   "metadata": {
    "collapsed": true
   },
   "outputs": [],
   "source": [
    "PCSI0046_dataframe = pd.concat([PCSI0046_X, PCSI0046_Y_Val_1],axis=1)"
   ]
  },
  {
   "cell_type": "code",
   "execution_count": 86,
   "metadata": {
    "collapsed": false
   },
   "outputs": [
    {
     "data": {
      "text/plain": [
       "(103207, 14)"
      ]
     },
     "execution_count": 86,
     "metadata": {},
     "output_type": "execute_result"
    }
   ],
   "source": [
    "PCSI0046_dataframe.shape"
   ]
  },
  {
   "cell_type": "code",
   "execution_count": 87,
   "metadata": {
    "collapsed": false
   },
   "outputs": [
    {
     "data": {
      "text/html": [
       "<div style=\"max-height:1000px;max-width:1500px;overflow:auto;\">\n",
       "<table border=\"1\" class=\"dataframe\">\n",
       "  <thead>\n",
       "    <tr style=\"text-align: right;\">\n",
       "      <th></th>\n",
       "      <th>RefAllele</th>\n",
       "      <th>NonRefAllele</th>\n",
       "      <th>BaseQual</th>\n",
       "      <th>TumourCoverage</th>\n",
       "      <th>NormalCoverage</th>\n",
       "      <th>MapQual</th>\n",
       "      <th>ReadPosition</th>\n",
       "      <th>Trinucleotide</th>\n",
       "      <th>HomopolymerRate</th>\n",
       "      <th>GCcontent</th>\n",
       "      <th>GenomicLocation</th>\n",
       "      <th>DistanceSNP</th>\n",
       "      <th>StrandBias</th>\n",
       "      <th>Label</th>\n",
       "    </tr>\n",
       "  </thead>\n",
       "  <tbody>\n",
       "    <tr>\n",
       "      <th>0</th>\n",
       "      <td> 112</td>\n",
       "      <td> 44</td>\n",
       "      <td> 4747</td>\n",
       "      <td> 156</td>\n",
       "      <td> 128</td>\n",
       "      <td> 23</td>\n",
       "      <td> 55.0</td>\n",
       "      <td> ACC</td>\n",
       "      <td> 3.139535</td>\n",
       "      <td> 0.59204</td>\n",
       "      <td> ncRNA_intronic</td>\n",
       "      <td> 15990</td>\n",
       "      <td> 0.416667</td>\n",
       "      <td> 0</td>\n",
       "    </tr>\n",
       "    <tr>\n",
       "      <th>1</th>\n",
       "      <td> 107</td>\n",
       "      <td> 39</td>\n",
       "      <td> 4243</td>\n",
       "      <td> 148</td>\n",
       "      <td> 110</td>\n",
       "      <td> 23</td>\n",
       "      <td> 49.5</td>\n",
       "      <td> GCG</td>\n",
       "      <td> 2.817518</td>\n",
       "      <td> 0.58209</td>\n",
       "      <td>   ncRNA_exonic</td>\n",
       "      <td> 15947</td>\n",
       "      <td> 0.533784</td>\n",
       "      <td> 0</td>\n",
       "    </tr>\n",
       "  </tbody>\n",
       "</table>\n",
       "<p>2 rows × 14 columns</p>\n",
       "</div>"
      ],
      "text/plain": [
       "   RefAllele  NonRefAllele  BaseQual  TumourCoverage  NormalCoverage  MapQual  \\\n",
       "0        112            44      4747             156             128       23   \n",
       "1        107            39      4243             148             110       23   \n",
       "\n",
       "   ReadPosition Trinucleotide  HomopolymerRate  GCcontent GenomicLocation  \\\n",
       "0          55.0           ACC         3.139535    0.59204  ncRNA_intronic   \n",
       "1          49.5           GCG         2.817518    0.58209    ncRNA_exonic   \n",
       "\n",
       "   DistanceSNP  StrandBias  Label  \n",
       "0        15990    0.416667      0  \n",
       "1        15947    0.533784      0  \n",
       "\n",
       "[2 rows x 14 columns]"
      ]
     },
     "execution_count": 87,
     "metadata": {},
     "output_type": "execute_result"
    }
   ],
   "source": [
    "PCSI0046_dataframe[:2]"
   ]
  },
  {
   "cell_type": "code",
   "execution_count": 88,
   "metadata": {
    "collapsed": true
   },
   "outputs": [],
   "source": [
    "PCSI0046_dataframe.to_csv('PCSI0046.csv')"
   ]
  },
  {
   "cell_type": "code",
   "execution_count": 27,
   "metadata": {
    "collapsed": true
   },
   "outputs": [],
   "source": [
    "#Now we have variable importance ...lets do analysis"
   ]
  },
  {
   "cell_type": "code",
   "execution_count": 28,
   "metadata": {
    "collapsed": false
   },
   "outputs": [],
   "source": [
    "%load_ext rpy2.ipython"
   ]
  },
  {
   "cell_type": "code",
   "execution_count": 29,
   "metadata": {
    "collapsed": false
   },
   "outputs": [
    {
     "data": {
      "text/plain": [
       "'data.frame':\t103207 obs. of  15 variables:\n",
       " $ X              : int  0 1 2 3 4 5 6 7 8 9 ...\n",
       " $ RefAllele      : int  112 107 15 63 6 2 47 83 78 57 ...\n",
       " $ NonRefAllele   : int  44 39 1 7 20 12 12 8 9 10 ...\n",
       " $ BaseQual       : int  4747 4243 446 2258 799 449 1847 2919 2781 1528 ...\n",
       " $ TumourCoverage : int  156 148 17 70 26 14 62 92 88 67 ...\n",
       " $ NormalCoverage : int  128 110 16 71 29 29 49 127 115 69 ...\n",
       " $ MapQual        : num  23 23 20 23 15 19 0 29 0 37 ...\n",
       " $ ReadPosition   : num  55 49.5 87 39 47 60 53 36 48 30 ...\n",
       " $ Trinucleotide  : Factor w/ 32 levels \"ACA\",\"ACC\",\"ACG\",..: 2 19 2 5 3 29 1 13 25 12 ...\n",
       " $ HomopolymerRate: num  3.14 2.82 4.19 2.26 3.26 ...\n",
       " $ GCcontent      : num  0.592 0.582 0.313 0.453 0.259 ...\n",
       " $ GenomicLocation: Factor w/ 15 levels \"\",\"downstream\",..: 8 7 8 5 5 5 5 5 5 5 ...\n",
       " $ DistanceSNP    : int  15990 15947 2335 12144 5622 673 5796 6707 6730 13330 ...\n",
       " $ StrandBias     : num  0.417 0.534 0.588 0.486 0.731 ...\n",
       " $ Label          : num  0 0 0 0 0 0 0 0 0 0 ...\n"
      ]
     },
     "metadata": {},
     "output_type": "display_data"
    }
   ],
   "source": [
    "%%R\n",
    "# Read in the data\n",
    "PCSI0046Frame = read.csv(\"PCSI0046.csv\")\n",
    "str(PCSI0046Frame)"
   ]
  },
  {
   "cell_type": "code",
   "execution_count": 30,
   "metadata": {
    "collapsed": false
   },
   "outputs": [
    {
     "data": {
      "text/plain": [
       "[1] 0\n"
      ]
     },
     "metadata": {},
     "output_type": "display_data"
    }
   ],
   "source": [
    "%%R\n",
    "#sum(is.na(CPCG0183Frame$StrandBias))\n",
    "#sum(is.na(IS1Frame$ReadPosition)) \n",
    "sum(is.na(PCSI0046Frame)) "
   ]
  },
  {
   "cell_type": "code",
   "execution_count": 31,
   "metadata": {
    "collapsed": false
   },
   "outputs": [],
   "source": [
    "#%%R\n",
    "#CPCG0235Frame$ReadPosition[is.na(CPCG0235Frame$ReadPosition)] = mean(CPCG0235Frame$ReadPosition, na.rm=TRUE)\n",
    "#CPCG0235Frame$StrandBias[is.na(CPCG0235Frame$StrandBias)] = mean(CPCG0235Frame$StrandBias, na.rm=TRUE)\n",
    "\n",
    "#print (sum(is.na(CPCG0235Frame$ReadPosition)) )\n",
    "#print (sum(is.na(CPCG0235Frame$StrandBias)) )"
   ]
  },
  {
   "cell_type": "code",
   "execution_count": 32,
   "metadata": {
    "collapsed": false
   },
   "outputs": [
    {
     "data": {
      "text/plain": [
       "[1] 0\n"
      ]
     },
     "metadata": {},
     "output_type": "display_data"
    }
   ],
   "source": [
    "%%R\n",
    "sum(is.na(PCSI0046Frame))  #No NA value now"
   ]
  },
  {
   "cell_type": "code",
   "execution_count": 33,
   "metadata": {
    "collapsed": true
   },
   "outputs": [],
   "source": [
    "%%R\n",
    "write.csv(PCSI0046Frame, file = \"PCSI0046_imputed.csv\")  #Cleaned CSV without NA"
   ]
  },
  {
   "cell_type": "code",
   "execution_count": 34,
   "metadata": {
    "collapsed": false
   },
   "outputs": [
    {
     "name": "stderr",
     "output_type": "stream",
     "text": [
      "/usr/local/lib/python2.7/dist-packages/rpy2/robjects/functions.py:106: UserWarning: Loading required package: statmod\n",
      "\n",
      "  res = super(Function, self).__call__(*new_args, **new_kwargs)\n",
      "/usr/local/lib/python2.7/dist-packages/rpy2/robjects/functions.py:106: UserWarning: \n",
      "----------------------------------------------------------------------\n",
      "\n",
      "Your next step is to start H2O:\n",
      "    > h2o.init()\n",
      "\n",
      "For H2O package documentation, ask for help:\n",
      "    > ??h2o\n",
      "\n",
      "After starting H2O, you can use the Web UI at http://localhost:54321\n",
      "For more information visit http://docs.h2o.ai\n",
      "\n",
      "----------------------------------------------------------------------\n",
      "\n",
      "\n",
      "  res = super(Function, self).__call__(*new_args, **new_kwargs)\n",
      "/usr/local/lib/python2.7/dist-packages/rpy2/robjects/functions.py:106: UserWarning: \n",
      "Attaching package: ‘h2o’\n",
      "\n",
      "\n",
      "  res = super(Function, self).__call__(*new_args, **new_kwargs)\n",
      "/usr/local/lib/python2.7/dist-packages/rpy2/robjects/functions.py:106: UserWarning: The following objects are masked from ‘package:stats’:\n",
      "\n",
      "    sd, var\n",
      "\n",
      "\n",
      "  res = super(Function, self).__call__(*new_args, **new_kwargs)\n",
      "/usr/local/lib/python2.7/dist-packages/rpy2/robjects/functions.py:106: UserWarning: The following objects are masked from ‘package:base’:\n",
      "\n",
      "    ||, &&, %*%, apply, as.factor, as.numeric, colnames, colnames<-,\n",
      "    ifelse, %in%, is.character, is.factor, is.numeric, log, log10,\n",
      "    log1p, log2, round, signif, trunc\n",
      "\n",
      "\n",
      "  res = super(Function, self).__call__(*new_args, **new_kwargs)\n"
     ]
    },
    {
     "data": {
      "text/plain": [
       " Connection successful!\n",
       "\n",
       "R is connected to the H2O cluster: \n",
       "    H2O cluster uptime:         1 hours 12 minutes \n",
       "    H2O cluster version:        3.9.1.3435 \n",
       "    H2O cluster name:           H2O_started_from_R_rbhat_xqb196 \n",
       "    H2O cluster total nodes:    1 \n",
       "    H2O cluster total memory:   26.57 GB \n",
       "    H2O cluster total cores:    56 \n",
       "    H2O cluster allowed cores:  2 \n",
       "    H2O cluster healthy:        TRUE \n",
       "    H2O Connection ip:          localhost \n",
       "    H2O Connection port:        54321 \n",
       "    H2O Connection proxy:       NA \n",
       "    R Version:                  R version 3.3.0 beta (2016-03-30 r70404) \n",
       "\n"
      ]
     },
     "metadata": {},
     "output_type": "display_data"
    }
   ],
   "source": [
    "%%R\n",
    "library(h2o)\n",
    "localH2O = h2o.init(ip = \"localhost\", port = 54321, startH2O = TRUE,min_mem_size = \"3g\")"
   ]
  },
  {
   "cell_type": "code",
   "execution_count": 35,
   "metadata": {
    "collapsed": false
   },
   "outputs": [
    {
     "data": {
      "text/plain": [
       "\r",
       "  |                                                                            \r",
       "  |                                                                      |   0%\r",
       "  |                                                                            \r",
       "  |====                                                                  |   5%\r",
       "  |                                                                            \r",
       "  |======================================================================| 100%\n",
       "'data.frame':\t103207 obs. of  16 variables:\n",
       " $ C1             : int  1 2 3 4 5 6 7 8 9 10 ...\n",
       " $ X              : int  0 1 2 3 4 5 6 7 8 9 ...\n",
       " $ RefAllele      : int  112 107 15 63 6 2 47 83 78 57 ...\n",
       " $ NonRefAllele   : int  44 39 1 7 20 12 12 8 9 10 ...\n",
       " $ BaseQual       : int  4747 4243 446 2258 799 449 1847 2919 2781 1528 ...\n",
       " $ TumourCoverage : int  156 148 17 70 26 14 62 92 88 67 ...\n",
       " $ NormalCoverage : int  128 110 16 71 29 29 49 127 115 69 ...\n",
       " $ MapQual        : num  23 23 20 23 15 19 0 29 0 37 ...\n",
       " $ ReadPosition   : num  55 49.5 87 39 47 60 53 36 48 30 ...\n",
       " $ Trinucleotide  : Factor w/ 32 levels \"ACA\",\"ACC\",\"ACG\",..: 2 19 2 5 3 29 1 13 25 12 ...\n",
       " $ HomopolymerRate: num  3.14 2.82 4.19 2.26 3.26 ...\n",
       " $ GCcontent      : num  0.592 0.582 0.313 0.453 0.259 ...\n",
       " $ GenomicLocation: Factor w/ 14 levels \"downstream\",\"exonic\",..: 7 6 7 4 4 4 4 4 4 4 ...\n",
       " $ DistanceSNP    : int  15990 15947 2335 12144 5622 673 5796 6707 6730 13330 ...\n",
       " $ StrandBias     : num  0.417 0.534 0.588 0.486 0.731 ...\n",
       " $ Label          : int  0 0 0 0 0 0 0 0 0 0 ...\n"
      ]
     },
     "metadata": {},
     "output_type": "display_data"
    }
   ],
   "source": [
    "%%R\n",
    "## Import CSV as H2O:\n",
    "csvPath = \"/home/rbhat/Workspace/S3Lab_Projects/SMC-MetaChallange/PCSI0046_imputed.csv\"\n",
    "PCSI0046.hex          = h2o.importFile(path = csvPath, destination_frame = \"PCSI0046.hex\") \n",
    "train                 = as.data.frame(PCSI0046.hex)\n",
    "\n",
    "str(train)"
   ]
  },
  {
   "cell_type": "code",
   "execution_count": 36,
   "metadata": {
    "collapsed": false
   },
   "outputs": [
    {
     "data": {
      "text/plain": [
       "\r",
       "  |                                                                            \r",
       "  |                                                                      |   0%\r",
       "  |                                                                            \r",
       "  |======================================================================| 100%\n"
      ]
     },
     "metadata": {},
     "output_type": "display_data"
    }
   ],
   "source": [
    "%%R\n",
    "\n",
    "train$Trinucleotide   = as.factor(train$Trinucleotide)\n",
    "train$GenomicLocation = as.factor(train$GenomicLocation)\n",
    "train$Label           = as.factor(train$Label)\n",
    "\n",
    "train_h2o             = as.h2o(train)"
   ]
  },
  {
   "cell_type": "code",
   "execution_count": 37,
   "metadata": {
    "collapsed": false
   },
   "outputs": [
    {
     "data": {
      "text/plain": [
       "\r",
       "  |                                                                            \r",
       "  |                                                                      |   0%\r",
       "  |                                                                            \r",
       "  |=                                                                     |   2%\r",
       "  |                                                                            \r",
       "  |=====                                                                 |   8%\r",
       "  |                                                                            \r",
       "  |============                                                          |  17%\r",
       "  |                                                                            \r",
       "  |================                                                      |  23%\r",
       "  |                                                                            \r",
       "  |=======================                                               |  33%\r",
       "  |                                                                            \r",
       "  |===========================                                           |  39%\r",
       "  |                                                                            \r",
       "  |=================================                                     |  47%\r",
       "  |                                                                            \r",
       "  |======================================                                |  54%\r",
       "  |                                                                            \r",
       "  |=============================================                         |  64%\r",
       "  |                                                                            \r",
       "  |==================================================                    |  72%\r",
       "  |                                                                            \r",
       "  |========================================================              |  79%\r",
       "  |                                                                            \r",
       "  |============================================================          |  85%\r",
       "  |                                                                            \r",
       "  |=================================================================     |  93%\r",
       "  |                                                                            \r",
       "  |======================================================================| 100%\n"
      ]
     },
     "metadata": {},
     "output_type": "display_data"
    }
   ],
   "source": [
    "%%R\n",
    "#Training a deep learning model:---------------------------------------------------------#\n",
    "model <- h2o.deeplearning( x = 3:15, # column numbers for predictors\n",
    "                           y = 16,            # column number for label\n",
    "                           training_frame = train_h2o,\n",
    "                           activation = \"RectifierWithDropout\", \n",
    "                           input_dropout_ratio = 0.2,\n",
    "                           hidden_dropout_ratios = c(0.5,0.5),\n",
    "                           balance_classes = TRUE, \n",
    "                           hidden = c(10,8),  ## two hidden layers\n",
    "                           epochs = 50,\n",
    "                           variable_importances = T)"
   ]
  },
  {
   "cell_type": "code",
   "execution_count": 38,
   "metadata": {
    "collapsed": false
   },
   "outputs": [
    {
     "data": {
      "text/plain": [
       "Variable Importances: \n",
       "        variable relative_importance scaled_importance percentage\n",
       "1   NonRefAllele            1.000000          1.000000   0.091963\n",
       "2      RefAllele            0.595051          0.595051   0.054723\n",
       "3 NormalCoverage            0.516878          0.516878   0.047534\n",
       "4 TumourCoverage            0.324426          0.324426   0.029835\n",
       "5        MapQual            0.319343          0.319343   0.029368\n",
       "\n",
       "---\n",
       "                     variable relative_importance scaled_importance percentage\n",
       "54   GenomicLocation.intronic            0.071297          0.071297   0.006557\n",
       "55               ReadPosition            0.069421          0.069421   0.006384\n",
       "56 GenomicLocation.intergenic            0.059001          0.059001   0.005426\n",
       "57                 StrandBias            0.057090          0.057090   0.005250\n",
       "58                  GCcontent            0.055294          0.055294   0.005085\n",
       "59  Trinucleotide.missing(NA)            0.000000          0.000000   0.000000\n"
      ]
     },
     "metadata": {},
     "output_type": "display_data"
    }
   ],
   "source": [
    "%%R\n",
    "var_importance = h2o.varimp(model)\n",
    "#print(var_importance)\n",
    "h2o.varimp(model)"
   ]
  },
  {
   "cell_type": "code",
   "execution_count": 39,
   "metadata": {
    "collapsed": true
   },
   "outputs": [],
   "source": [
    "%%R\n",
    "write.table(var_importance, file=\"PCSI0046_variable_importance.csv\")"
   ]
  },
  {
   "cell_type": "code",
   "execution_count": 40,
   "metadata": {
    "collapsed": true
   },
   "outputs": [],
   "source": [
    "var_importance = pd.read_csv(open('PCSI0046_variable_importance.csv','r'),sep=' ')\n",
    "#pd.read_csv('CPCG0100_variable_importance.csv')"
   ]
  },
  {
   "cell_type": "code",
   "execution_count": 41,
   "metadata": {
    "collapsed": false
   },
   "outputs": [
    {
     "data": {
      "text/html": [
       "<div style=\"max-height:1000px;max-width:1500px;overflow:auto;\">\n",
       "<table border=\"1\" class=\"dataframe\">\n",
       "  <thead>\n",
       "    <tr style=\"text-align: right;\">\n",
       "      <th></th>\n",
       "      <th>variable</th>\n",
       "      <th>relative_importance</th>\n",
       "      <th>scaled_importance</th>\n",
       "      <th>percentage</th>\n",
       "    </tr>\n",
       "  </thead>\n",
       "  <tbody>\n",
       "    <tr>\n",
       "      <th>1</th>\n",
       "      <td>   NonRefAllele</td>\n",
       "      <td> 1.000000</td>\n",
       "      <td> 1.000000</td>\n",
       "      <td> 0.091963</td>\n",
       "    </tr>\n",
       "    <tr>\n",
       "      <th>2</th>\n",
       "      <td>      RefAllele</td>\n",
       "      <td> 0.595051</td>\n",
       "      <td> 0.595051</td>\n",
       "      <td> 0.054723</td>\n",
       "    </tr>\n",
       "    <tr>\n",
       "      <th>3</th>\n",
       "      <td> NormalCoverage</td>\n",
       "      <td> 0.516878</td>\n",
       "      <td> 0.516878</td>\n",
       "      <td> 0.047534</td>\n",
       "    </tr>\n",
       "    <tr>\n",
       "      <th>4</th>\n",
       "      <td> TumourCoverage</td>\n",
       "      <td> 0.324426</td>\n",
       "      <td> 0.324426</td>\n",
       "      <td> 0.029835</td>\n",
       "    </tr>\n",
       "    <tr>\n",
       "      <th>5</th>\n",
       "      <td>        MapQual</td>\n",
       "      <td> 0.319343</td>\n",
       "      <td> 0.319343</td>\n",
       "      <td> 0.029368</td>\n",
       "    </tr>\n",
       "  </tbody>\n",
       "</table>\n",
       "<p>5 rows × 4 columns</p>\n",
       "</div>"
      ],
      "text/plain": [
       "         variable  relative_importance  scaled_importance  percentage\n",
       "1    NonRefAllele             1.000000           1.000000    0.091963\n",
       "2       RefAllele             0.595051           0.595051    0.054723\n",
       "3  NormalCoverage             0.516878           0.516878    0.047534\n",
       "4  TumourCoverage             0.324426           0.324426    0.029835\n",
       "5         MapQual             0.319343           0.319343    0.029368\n",
       "\n",
       "[5 rows x 4 columns]"
      ]
     },
     "execution_count": 41,
     "metadata": {},
     "output_type": "execute_result"
    }
   ],
   "source": [
    "var_importance[:5]"
   ]
  },
  {
   "cell_type": "code",
   "execution_count": 42,
   "metadata": {
    "collapsed": false
   },
   "outputs": [
    {
     "data": {
      "text/html": [
       "<div style=\"max-height:1000px;max-width:1500px;overflow:auto;\">\n",
       "<table border=\"1\" class=\"dataframe\">\n",
       "  <thead>\n",
       "    <tr style=\"text-align: right;\">\n",
       "      <th></th>\n",
       "      <th>CHROM</th>\n",
       "      <th>POS</th>\n",
       "      <th>RefAllele</th>\n",
       "      <th>NonRefAllele</th>\n",
       "      <th>BaseQual</th>\n",
       "      <th>TumourCoverage</th>\n",
       "      <th>NormalCoverage</th>\n",
       "      <th>MapQual</th>\n",
       "      <th>ReadPosition</th>\n",
       "      <th>Trinucleotide</th>\n",
       "      <th>HomopolymerRate</th>\n",
       "      <th>GCcontent</th>\n",
       "      <th>GenomicLocation</th>\n",
       "      <th>DistanceSNP</th>\n",
       "      <th>StrandBias</th>\n",
       "    </tr>\n",
       "  </thead>\n",
       "  <tbody>\n",
       "    <tr>\n",
       "      <th>0</th>\n",
       "      <td> chr1</td>\n",
       "      <td> 14933</td>\n",
       "      <td> 112</td>\n",
       "      <td> 44</td>\n",
       "      <td> 4747</td>\n",
       "      <td> 156</td>\n",
       "      <td> 128</td>\n",
       "      <td> 23</td>\n",
       "      <td> 55.0</td>\n",
       "      <td> ACC</td>\n",
       "      <td> 3.139535</td>\n",
       "      <td> 0.592040</td>\n",
       "      <td> ncRNA_intronic</td>\n",
       "      <td> 15990</td>\n",
       "      <td> 0.416667</td>\n",
       "    </tr>\n",
       "    <tr>\n",
       "      <th>1</th>\n",
       "      <td> chr1</td>\n",
       "      <td> 14976</td>\n",
       "      <td> 107</td>\n",
       "      <td> 39</td>\n",
       "      <td> 4243</td>\n",
       "      <td> 148</td>\n",
       "      <td> 110</td>\n",
       "      <td> 23</td>\n",
       "      <td> 49.5</td>\n",
       "      <td> GCG</td>\n",
       "      <td> 2.817518</td>\n",
       "      <td> 0.582090</td>\n",
       "      <td>   ncRNA_exonic</td>\n",
       "      <td> 15947</td>\n",
       "      <td> 0.533784</td>\n",
       "    </tr>\n",
       "    <tr>\n",
       "      <th>2</th>\n",
       "      <td> chr1</td>\n",
       "      <td> 28588</td>\n",
       "      <td>  15</td>\n",
       "      <td>  1</td>\n",
       "      <td>  446</td>\n",
       "      <td>  17</td>\n",
       "      <td>  16</td>\n",
       "      <td> 20</td>\n",
       "      <td> 87.0</td>\n",
       "      <td> ACC</td>\n",
       "      <td> 4.192593</td>\n",
       "      <td> 0.313433</td>\n",
       "      <td> ncRNA_intronic</td>\n",
       "      <td>  2335</td>\n",
       "      <td> 0.588235</td>\n",
       "    </tr>\n",
       "    <tr>\n",
       "      <th>3</th>\n",
       "      <td> chr1</td>\n",
       "      <td> 49298</td>\n",
       "      <td>  63</td>\n",
       "      <td>  7</td>\n",
       "      <td> 2258</td>\n",
       "      <td>  70</td>\n",
       "      <td>  71</td>\n",
       "      <td> 23</td>\n",
       "      <td> 39.0</td>\n",
       "      <td> ATA</td>\n",
       "      <td> 2.256757</td>\n",
       "      <td> 0.452736</td>\n",
       "      <td>     intergenic</td>\n",
       "      <td> 12144</td>\n",
       "      <td> 0.485714</td>\n",
       "    </tr>\n",
       "    <tr>\n",
       "      <th>4</th>\n",
       "      <td> chr1</td>\n",
       "      <td> 77462</td>\n",
       "      <td>   6</td>\n",
       "      <td> 20</td>\n",
       "      <td>  799</td>\n",
       "      <td>  26</td>\n",
       "      <td>  29</td>\n",
       "      <td> 15</td>\n",
       "      <td> 47.0</td>\n",
       "      <td> ACG</td>\n",
       "      <td> 3.261538</td>\n",
       "      <td> 0.258706</td>\n",
       "      <td>     intergenic</td>\n",
       "      <td>  5622</td>\n",
       "      <td> 0.730769</td>\n",
       "    </tr>\n",
       "  </tbody>\n",
       "</table>\n",
       "<p>5 rows × 15 columns</p>\n",
       "</div>"
      ],
      "text/plain": [
       "  CHROM    POS  RefAllele  NonRefAllele  BaseQual  TumourCoverage  \\\n",
       "0  chr1  14933        112            44      4747             156   \n",
       "1  chr1  14976        107            39      4243             148   \n",
       "2  chr1  28588         15             1       446              17   \n",
       "3  chr1  49298         63             7      2258              70   \n",
       "4  chr1  77462          6            20       799              26   \n",
       "\n",
       "   NormalCoverage  MapQual  ReadPosition Trinucleotide  HomopolymerRate  \\\n",
       "0             128       23          55.0           ACC         3.139535   \n",
       "1             110       23          49.5           GCG         2.817518   \n",
       "2              16       20          87.0           ACC         4.192593   \n",
       "3              71       23          39.0           ATA         2.256757   \n",
       "4              29       15          47.0           ACG         3.261538   \n",
       "\n",
       "   GCcontent GenomicLocation  DistanceSNP  StrandBias  \n",
       "0   0.592040  ncRNA_intronic        15990    0.416667  \n",
       "1   0.582090    ncRNA_exonic        15947    0.533784  \n",
       "2   0.313433  ncRNA_intronic         2335    0.588235  \n",
       "3   0.452736      intergenic        12144    0.485714  \n",
       "4   0.258706      intergenic         5622    0.730769  \n",
       "\n",
       "[5 rows x 15 columns]"
      ]
     },
     "execution_count": 42,
     "metadata": {},
     "output_type": "execute_result"
    }
   ],
   "source": [
    "GenomicFeatures_PCSI0046[:5]"
   ]
  },
  {
   "cell_type": "code",
   "execution_count": 43,
   "metadata": {
    "collapsed": false
   },
   "outputs": [
    {
     "data": {
      "text/plain": [
       "{'BaseQual': 0.27338093519210799,\n",
       " 'DistanceSNP': 0.27333459258079501,\n",
       " 'GCcontent': 0.055294193327426903,\n",
       " 'GenomicLocation.UTR3': 0.21927419304847698,\n",
       " 'GenomicLocation.UTR5': 0.16523063182830802,\n",
       " 'GenomicLocation.downstream': 0.19278885424137102,\n",
       " 'GenomicLocation.exonic': 0.18935355544090302,\n",
       " 'GenomicLocation.exonic;splicing': 0.16265919804573098,\n",
       " 'GenomicLocation.intergenic': 0.059000521898269702,\n",
       " 'GenomicLocation.intronic': 0.071297012269496904,\n",
       " 'GenomicLocation.missing(NA)': 0.14783723652362804,\n",
       " 'GenomicLocation.ncRNA_UTR3': 0.14071482419967699,\n",
       " 'GenomicLocation.ncRNA_UTR5': 0.19737727940082603,\n",
       " 'GenomicLocation.ncRNA_exonic': 0.19220119714736897,\n",
       " 'GenomicLocation.ncRNA_intronic': 0.19683381915092499,\n",
       " 'GenomicLocation.splicing': 0.165991947054863,\n",
       " 'GenomicLocation.upstream': 0.245448052883148,\n",
       " 'GenomicLocation.upstream;downstream': 0.151036307215691,\n",
       " 'HomopolymerRate': 0.20242008566856398,\n",
       " 'MapQual': 0.31934335827827504,\n",
       " 'NonRefAllele': 1.0,\n",
       " 'NormalCoverage': 0.51687806844711293,\n",
       " 'ReadPosition': 0.069421336054801899,\n",
       " 'RefAllele': 0.595051109790802,\n",
       " 'StrandBias': 0.057090148329734802,\n",
       " 'Trinucleotide.ACA': 0.18239039182663,\n",
       " 'Trinucleotide.ACC': 0.10875830054283099,\n",
       " 'Trinucleotide.ACG': 0.22470626235008198,\n",
       " 'Trinucleotide.ACT': 0.097622640430927304,\n",
       " 'Trinucleotide.ATA': 0.21749886870384197,\n",
       " 'Trinucleotide.ATC': 0.116135410964489,\n",
       " 'Trinucleotide.ATG': 0.11350236088037501,\n",
       " 'Trinucleotide.ATT': 0.13334402441978502,\n",
       " 'Trinucleotide.CCA': 0.109325982630253,\n",
       " 'Trinucleotide.CCC': 0.16013999283313798,\n",
       " 'Trinucleotide.CCG': 0.171696051955223,\n",
       " 'Trinucleotide.CCT': 0.11754008382558802,\n",
       " 'Trinucleotide.CTA': 0.15654453635215801,\n",
       " 'Trinucleotide.CTC': 0.18597419559955605,\n",
       " 'Trinucleotide.CTG': 0.160822823643684,\n",
       " 'Trinucleotide.CTT': 0.10625603795051598,\n",
       " 'Trinucleotide.GCA': 0.092583939433097798,\n",
       " 'Trinucleotide.GCC': 0.0783073455095291,\n",
       " 'Trinucleotide.GCG': 0.15878887474536901,\n",
       " 'Trinucleotide.GCT': 0.13061510026454901,\n",
       " 'Trinucleotide.GTA': 0.127177208662033,\n",
       " 'Trinucleotide.GTC': 0.159942582249641,\n",
       " 'Trinucleotide.GTG': 0.28227597475051897,\n",
       " 'Trinucleotide.GTT': 0.13212558627128598,\n",
       " 'Trinucleotide.TCA': 0.17910823225975001,\n",
       " 'Trinucleotide.TCC': 0.168475866317749,\n",
       " 'Trinucleotide.TCG': 0.18825276196003002,\n",
       " 'Trinucleotide.TCT': 0.089217446744441986,\n",
       " 'Trinucleotide.TTA': 0.152767479419708,\n",
       " 'Trinucleotide.TTC': 0.12615795433521301,\n",
       " 'Trinucleotide.TTG': 0.14207157492637601,\n",
       " 'Trinucleotide.TTT': 0.12008800357580197,\n",
       " 'Trinucleotide.missing(NA)': 0.0,\n",
       " 'TumourCoverage': 0.32442587614059398}"
      ]
     },
     "execution_count": 43,
     "metadata": {},
     "output_type": "execute_result"
    }
   ],
   "source": [
    "var_imp_dict = {}\n",
    "\n",
    "for i in range(var_importance.shape[0]):\n",
    "    var_imp_dict[var_importance.iloc[i,0]] = var_importance.iloc[i,1]\n",
    "\n",
    "var_imp_dict"
   ]
  },
  {
   "cell_type": "code",
   "execution_count": 44,
   "metadata": {
    "collapsed": false
   },
   "outputs": [
    {
     "data": {
      "text/plain": [
       "Index([u'CHROM', u'POS', u'RefAllele', u'NonRefAllele', u'BaseQual', u'TumourCoverage', u'NormalCoverage', u'MapQual', u'ReadPosition', u'Trinucleotide', u'HomopolymerRate', u'GCcontent', u'GenomicLocation', u'DistanceSNP', u'StrandBias'], dtype='object')"
      ]
     },
     "execution_count": 44,
     "metadata": {},
     "output_type": "execute_result"
    }
   ],
   "source": [
    "GenomicFeatures_PCSI0046.columns"
   ]
  },
  {
   "cell_type": "code",
   "execution_count": 45,
   "metadata": {
    "collapsed": false
   },
   "outputs": [
    {
     "data": {
      "text/plain": [
       "CHROM               object\n",
       "POS                  int64\n",
       "RefAllele            int64\n",
       "NonRefAllele         int64\n",
       "BaseQual             int64\n",
       "TumourCoverage       int64\n",
       "NormalCoverage       int64\n",
       "MapQual            float64\n",
       "ReadPosition       float64\n",
       "Trinucleotide       object\n",
       "HomopolymerRate    float64\n",
       "GCcontent          float64\n",
       "GenomicLocation     object\n",
       "DistanceSNP          int64\n",
       "StrandBias         float64\n",
       "dtype: object"
      ]
     },
     "execution_count": 45,
     "metadata": {},
     "output_type": "execute_result"
    }
   ],
   "source": [
    "GenomicFeatures_PCSI0046.dtypes"
   ]
  },
  {
   "cell_type": "code",
   "execution_count": 46,
   "metadata": {
    "collapsed": false
   },
   "outputs": [
    {
     "data": {
      "text/plain": [
       "15990"
      ]
     },
     "execution_count": 46,
     "metadata": {},
     "output_type": "execute_result"
    }
   ],
   "source": [
    "GenomicFeatures_PCSI0046.iloc[0,13]"
   ]
  },
  {
   "cell_type": "code",
   "execution_count": 47,
   "metadata": {
    "collapsed": false
   },
   "outputs": [
    {
     "data": {
      "text/html": [
       "<div style=\"max-height:1000px;max-width:1500px;overflow:auto;\">\n",
       "<table border=\"1\" class=\"dataframe\">\n",
       "  <thead>\n",
       "    <tr style=\"text-align: right;\">\n",
       "      <th></th>\n",
       "      <th>CHROM</th>\n",
       "      <th>POS</th>\n",
       "      <th>RefAllele</th>\n",
       "      <th>NonRefAllele</th>\n",
       "      <th>BaseQual</th>\n",
       "      <th>TumourCoverage</th>\n",
       "      <th>NormalCoverage</th>\n",
       "      <th>MapQual</th>\n",
       "      <th>ReadPosition</th>\n",
       "      <th>Trinucleotide</th>\n",
       "      <th>HomopolymerRate</th>\n",
       "      <th>GCcontent</th>\n",
       "      <th>GenomicLocation</th>\n",
       "      <th>DistanceSNP</th>\n",
       "      <th>StrandBias</th>\n",
       "    </tr>\n",
       "  </thead>\n",
       "  <tbody>\n",
       "    <tr>\n",
       "      <th>0</th>\n",
       "      <td> chr1</td>\n",
       "      <td> 14933</td>\n",
       "      <td> 112</td>\n",
       "      <td> 44</td>\n",
       "      <td> 4747</td>\n",
       "      <td> 156</td>\n",
       "      <td> 128</td>\n",
       "      <td> 23</td>\n",
       "      <td> 55.0</td>\n",
       "      <td> ACC</td>\n",
       "      <td> 3.139535</td>\n",
       "      <td> 0.59204</td>\n",
       "      <td> ncRNA_intronic</td>\n",
       "      <td> 15990</td>\n",
       "      <td> 0.416667</td>\n",
       "    </tr>\n",
       "    <tr>\n",
       "      <th>1</th>\n",
       "      <td> chr1</td>\n",
       "      <td> 14976</td>\n",
       "      <td> 107</td>\n",
       "      <td> 39</td>\n",
       "      <td> 4243</td>\n",
       "      <td> 148</td>\n",
       "      <td> 110</td>\n",
       "      <td> 23</td>\n",
       "      <td> 49.5</td>\n",
       "      <td> GCG</td>\n",
       "      <td> 2.817518</td>\n",
       "      <td> 0.58209</td>\n",
       "      <td>   ncRNA_exonic</td>\n",
       "      <td> 15947</td>\n",
       "      <td> 0.533784</td>\n",
       "    </tr>\n",
       "  </tbody>\n",
       "</table>\n",
       "<p>2 rows × 15 columns</p>\n",
       "</div>"
      ],
      "text/plain": [
       "  CHROM    POS  RefAllele  NonRefAllele  BaseQual  TumourCoverage  \\\n",
       "0  chr1  14933        112            44      4747             156   \n",
       "1  chr1  14976        107            39      4243             148   \n",
       "\n",
       "   NormalCoverage  MapQual  ReadPosition Trinucleotide  HomopolymerRate  \\\n",
       "0             128       23          55.0           ACC         3.139535   \n",
       "1             110       23          49.5           GCG         2.817518   \n",
       "\n",
       "   GCcontent GenomicLocation  DistanceSNP  StrandBias  \n",
       "0    0.59204  ncRNA_intronic        15990    0.416667  \n",
       "1    0.58209    ncRNA_exonic        15947    0.533784  \n",
       "\n",
       "[2 rows x 15 columns]"
      ]
     },
     "execution_count": 47,
     "metadata": {},
     "output_type": "execute_result"
    }
   ],
   "source": [
    "GenomicFeatures_PCSI0046[:2]\n",
    "#print GenomicFeatures_IS1.iloc[0,2]"
   ]
  },
  {
   "cell_type": "code",
   "execution_count": 48,
   "metadata": {
    "collapsed": false
   },
   "outputs": [],
   "source": [
    "noOfSample = GenomicFeatures_PCSI0046.shape[0]\n",
    "\n",
    "PCSI0046_Dict = {}\n",
    "\n",
    "for i in range(noOfSample):\n",
    "    \n",
    "    pos = GenomicFeatures_PCSI0046.iloc[i,1] #gets the pos value\n",
    "    \n",
    "    RefAllele      = GenomicFeatures_PCSI0046.iloc[i,2]*var_imp_dict['RefAllele']\n",
    "    NonRefAllele   = GenomicFeatures_PCSI0046.iloc[i,3]*var_imp_dict['NonRefAllele']\n",
    "    BaseQual       = GenomicFeatures_PCSI0046.iloc[i,4]*var_imp_dict['BaseQual']\n",
    "    TumourCoverage = GenomicFeatures_PCSI0046.iloc[i,5]*var_imp_dict['TumourCoverage']\n",
    "    NormalCoverage = GenomicFeatures_PCSI0046.iloc[i,6]*var_imp_dict['NormalCoverage']\n",
    "    MapQual        = GenomicFeatures_PCSI0046.iloc[i,7]*var_imp_dict['MapQual']\n",
    "    ReadPosition   = GenomicFeatures_PCSI0046.iloc[i,8]*var_imp_dict['ReadPosition']\n",
    "    \n",
    "    Trinucleotide  = 0\n",
    "    if isinstance(GenomicFeatures_PCSI0046.iloc[i,9], str):\n",
    "        Trinucleotide  = var_imp_dict['Trinucleotide.'+str(GenomicFeatures_PCSI0046.iloc[i,9])]\n",
    "    HomopolymerRate= GenomicFeatures_PCSI0046.iloc[i,10]*var_imp_dict['HomopolymerRate']\n",
    "    GCcontent      = GenomicFeatures_PCSI0046.iloc[i,11]*var_imp_dict['GCcontent']\n",
    "    \n",
    "    GenomicLocation = 0\n",
    "    if isinstance(GenomicFeatures_PCSI0046.iloc[i,12], str):\n",
    "        GenomicLocation= var_imp_dict['GenomicLocation.'+str(GenomicFeatures_PCSI0046.iloc[i,12])]\n",
    "    DistanceSNP    = GenomicFeatures_PCSI0046.iloc[i,13]*var_imp_dict['DistanceSNP']\n",
    "    StrandBias     = GenomicFeatures_PCSI0046.iloc[i,14]*var_imp_dict['StrandBias']\n",
    "    \n",
    "    #print 'RefAllele=',RefAllele,' NonRefAllele=',NonRefAllele,' BaseQual=',BaseQual,' TumourCoverage=',TumourCoverage\n",
    "    #print 'NormalCoverage=',NormalCoverage,' MapQual=',MapQual,' ReadPosition=',ReadPosition,' Trinucleotide=',Trinucleotide\n",
    "    #print 'HomopolymerRate=',HomopolymerRate,' GCcontent=',GCcontent,' GenomicLocation=',GenomicLocation,' Distance=',Distance\n",
    "    #print 'StrandBias=',StrandBias\n",
    "    PCSI0046_Dict[pos] = RefAllele+NonRefAllele+BaseQual+TumourCoverage+NormalCoverage+MapQual+ReadPosition+Trinucleotide+ \\\n",
    "                         HomopolymerRate+GCcontent+GenomicLocation+DistanceSNP+StrandBias"
   ]
  },
  {
   "cell_type": "code",
   "execution_count": 56,
   "metadata": {
    "collapsed": true
   },
   "outputs": [],
   "source": [
    "#Sorting dictionary\n",
    "PCSI0046_Dict1 = [(k,v) for v,k in sorted([(v,k) for k,v in PCSI0046_Dict.items()],reverse=True)]"
   ]
  },
  {
   "cell_type": "code",
   "execution_count": 57,
   "metadata": {
    "collapsed": true
   },
   "outputs": [],
   "source": [
    "PCSI0046_Dict_Frame = pd.DataFrame(PCSI0046_Dict1, columns=['POS', 'Value'])"
   ]
  },
  {
   "cell_type": "code",
   "execution_count": 58,
   "metadata": {
    "collapsed": true
   },
   "outputs": [],
   "source": [
    "PCSI0046_Dict_Frame.to_csv(\"PCSI0046_Dict_Frame.csv\")"
   ]
  },
  {
   "cell_type": "code",
   "execution_count": 89,
   "metadata": {
    "collapsed": true
   },
   "outputs": [],
   "source": [
    "PCSI0046_Dict_Frame = pd.read_csv(\"PCSI0046_Dict_Frame.csv\")"
   ]
  },
  {
   "cell_type": "code",
   "execution_count": 90,
   "metadata": {
    "collapsed": false
   },
   "outputs": [
    {
     "data": {
      "text/html": [
       "<div style=\"max-height:1000px;max-width:1500px;overflow:auto;\">\n",
       "<table border=\"1\" class=\"dataframe\">\n",
       "  <thead>\n",
       "    <tr style=\"text-align: right;\">\n",
       "      <th></th>\n",
       "      <th>Unnamed: 0</th>\n",
       "      <th>POS</th>\n",
       "      <th>Value</th>\n",
       "    </tr>\n",
       "  </thead>\n",
       "  <tbody>\n",
       "    <tr>\n",
       "      <th>0</th>\n",
       "      <td> 0</td>\n",
       "      <td> 155565</td>\n",
       "      <td> 696097.877652</td>\n",
       "    </tr>\n",
       "    <tr>\n",
       "      <th>1</th>\n",
       "      <td> 1</td>\n",
       "      <td> 157281</td>\n",
       "      <td> 695855.223338</td>\n",
       "    </tr>\n",
       "    <tr>\n",
       "      <th>2</th>\n",
       "      <td> 2</td>\n",
       "      <td> 155944</td>\n",
       "      <td> 695459.257273</td>\n",
       "    </tr>\n",
       "    <tr>\n",
       "      <th>3</th>\n",
       "      <td> 3</td>\n",
       "      <td> 166699</td>\n",
       "      <td> 692610.243302</td>\n",
       "    </tr>\n",
       "    <tr>\n",
       "      <th>4</th>\n",
       "      <td> 4</td>\n",
       "      <td> 215423</td>\n",
       "      <td> 679751.475047</td>\n",
       "    </tr>\n",
       "    <tr>\n",
       "      <th>5</th>\n",
       "      <td> 5</td>\n",
       "      <td> 369223</td>\n",
       "      <td> 637127.984703</td>\n",
       "    </tr>\n",
       "    <tr>\n",
       "      <th>6</th>\n",
       "      <td> 6</td>\n",
       "      <td> 369247</td>\n",
       "      <td> 637094.253251</td>\n",
       "    </tr>\n",
       "    <tr>\n",
       "      <th>7</th>\n",
       "      <td> 7</td>\n",
       "      <td> 417350</td>\n",
       "      <td> 623975.481281</td>\n",
       "    </tr>\n",
       "    <tr>\n",
       "      <th>8</th>\n",
       "      <td> 8</td>\n",
       "      <td> 477937</td>\n",
       "      <td> 607470.130888</td>\n",
       "    </tr>\n",
       "    <tr>\n",
       "      <th>9</th>\n",
       "      <td> 9</td>\n",
       "      <td> 545609</td>\n",
       "      <td> 588904.932254</td>\n",
       "    </tr>\n",
       "  </tbody>\n",
       "</table>\n",
       "<p>10 rows × 3 columns</p>\n",
       "</div>"
      ],
      "text/plain": [
       "   Unnamed: 0     POS          Value\n",
       "0           0  155565  696097.877652\n",
       "1           1  157281  695855.223338\n",
       "2           2  155944  695459.257273\n",
       "3           3  166699  692610.243302\n",
       "4           4  215423  679751.475047\n",
       "5           5  369223  637127.984703\n",
       "6           6  369247  637094.253251\n",
       "7           7  417350  623975.481281\n",
       "8           8  477937  607470.130888\n",
       "9           9  545609  588904.932254\n",
       "\n",
       "[10 rows x 3 columns]"
      ]
     },
     "execution_count": 90,
     "metadata": {},
     "output_type": "execute_result"
    }
   ],
   "source": [
    "PCSI0046_Dict_Frame[:10]"
   ]
  },
  {
   "cell_type": "code",
   "execution_count": 91,
   "metadata": {
    "collapsed": true
   },
   "outputs": [],
   "source": [
    "GenomicFeatures_PCSI0046_1 = pd.concat([PCSI0046.iloc[:,0:16], PCSI0046_Y_Val_1],axis=1)"
   ]
  },
  {
   "cell_type": "code",
   "execution_count": 92,
   "metadata": {
    "collapsed": false
   },
   "outputs": [
    {
     "name": "stdout",
     "output_type": "stream",
     "text": [
      "[155565 157281 155944 166699 215423 369223 369247 417350 477937 545609\n",
      " 579444 646304 702347 740485 740489 745914 745916 806891 810875 878688]\n"
     ]
    }
   ],
   "source": [
    "rows = PCSI0046_Dict_Frame['POS'][:20].values\n",
    "print rows\n",
    "GenomicFeatures_PCSI0046_Top20 = GenomicFeatures_PCSI0046_1.loc[GenomicFeatures_PCSI0046_1['POS_x'].isin(rows)]"
   ]
  },
  {
   "cell_type": "code",
   "execution_count": 94,
   "metadata": {
    "collapsed": false
   },
   "outputs": [
    {
     "data": {
      "text/html": [
       "<div style=\"max-height:1000px;max-width:1500px;overflow:auto;\">\n",
       "<table border=\"1\" class=\"dataframe\">\n",
       "  <thead>\n",
       "    <tr style=\"text-align: right;\">\n",
       "      <th></th>\n",
       "      <th>CHROM</th>\n",
       "      <th>POS_x</th>\n",
       "      <th>RefAllele</th>\n",
       "      <th>NonRefAllele</th>\n",
       "      <th>BaseQual</th>\n",
       "      <th>TumourCoverage</th>\n",
       "      <th>NormalCoverage</th>\n",
       "      <th>MapQual</th>\n",
       "      <th>ReadPosition</th>\n",
       "      <th>Trinucleotide</th>\n",
       "      <th>HomopolymerRate</th>\n",
       "      <th>GCcontent</th>\n",
       "      <th>GenomicLocation</th>\n",
       "      <th>DistanceSNP</th>\n",
       "      <th>StrandBias</th>\n",
       "      <th>POS_y</th>\n",
       "      <th>Label</th>\n",
       "    </tr>\n",
       "  </thead>\n",
       "  <tbody>\n",
       "    <tr>\n",
       "      <th>94937</th>\n",
       "      <td> chrX</td>\n",
       "      <td> 155565</td>\n",
       "      <td> 54</td>\n",
       "      <td> 4</td>\n",
       "      <td> 1843</td>\n",
       "      <td>  97</td>\n",
       "      <td>  92</td>\n",
       "      <td> 0</td>\n",
       "      <td> 71</td>\n",
       "      <td> TCT</td>\n",
       "      <td> 1.919255</td>\n",
       "      <td> 0.487562</td>\n",
       "      <td> intergenic</td>\n",
       "      <td> 2544403</td>\n",
       "      <td> 0.556701</td>\n",
       "      <td> 155564</td>\n",
       "      <td> 0</td>\n",
       "    </tr>\n",
       "    <tr>\n",
       "      <th>94938</th>\n",
       "      <td> chrX</td>\n",
       "      <td> 155944</td>\n",
       "      <td>  8</td>\n",
       "      <td> 0</td>\n",
       "      <td>  219</td>\n",
       "      <td>   9</td>\n",
       "      <td>  30</td>\n",
       "      <td> 0</td>\n",
       "      <td> 84</td>\n",
       "      <td> ACT</td>\n",
       "      <td> 1.924051</td>\n",
       "      <td> 0.497512</td>\n",
       "      <td> intergenic</td>\n",
       "      <td> 2544024</td>\n",
       "      <td> 0.555556</td>\n",
       "      <td> 155943</td>\n",
       "      <td> 0</td>\n",
       "    </tr>\n",
       "    <tr>\n",
       "      <th>94939</th>\n",
       "      <td> chrX</td>\n",
       "      <td> 157281</td>\n",
       "      <td> 83</td>\n",
       "      <td> 4</td>\n",
       "      <td> 2577</td>\n",
       "      <td> 114</td>\n",
       "      <td> 101</td>\n",
       "      <td> 0</td>\n",
       "      <td> 47</td>\n",
       "      <td> GCT</td>\n",
       "      <td> 1.855346</td>\n",
       "      <td> 0.487562</td>\n",
       "      <td>        NaN</td>\n",
       "      <td> 2542687</td>\n",
       "      <td> 0.543860</td>\n",
       "      <td> 157280</td>\n",
       "      <td> 0</td>\n",
       "    </tr>\n",
       "    <tr>\n",
       "      <th>94940</th>\n",
       "      <td> chrX</td>\n",
       "      <td> 166699</td>\n",
       "      <td> 14</td>\n",
       "      <td> 2</td>\n",
       "      <td>  523</td>\n",
       "      <td>  21</td>\n",
       "      <td>  26</td>\n",
       "      <td> 0</td>\n",
       "      <td> 83</td>\n",
       "      <td> CCT</td>\n",
       "      <td> 3.066667</td>\n",
       "      <td> 0.686567</td>\n",
       "      <td> intergenic</td>\n",
       "      <td> 2533269</td>\n",
       "      <td> 0.619048</td>\n",
       "      <td> 166698</td>\n",
       "      <td> 0</td>\n",
       "    </tr>\n",
       "    <tr>\n",
       "      <th>94941</th>\n",
       "      <td> chrX</td>\n",
       "      <td> 215423</td>\n",
       "      <td> 63</td>\n",
       "      <td> 2</td>\n",
       "      <td> 1997</td>\n",
       "      <td>  67</td>\n",
       "      <td>  58</td>\n",
       "      <td> 0</td>\n",
       "      <td> 21</td>\n",
       "      <td> TTA</td>\n",
       "      <td> 2.493151</td>\n",
       "      <td> 0.462687</td>\n",
       "      <td>   intronic</td>\n",
       "      <td> 2484545</td>\n",
       "      <td> 0.388060</td>\n",
       "      <td> 215422</td>\n",
       "      <td> 0</td>\n",
       "    </tr>\n",
       "    <tr>\n",
       "      <th>94942</th>\n",
       "      <td> chrX</td>\n",
       "      <td> 369223</td>\n",
       "      <td>  3</td>\n",
       "      <td> 2</td>\n",
       "      <td>  119</td>\n",
       "      <td>   8</td>\n",
       "      <td>  18</td>\n",
       "      <td> 0</td>\n",
       "      <td> 84</td>\n",
       "      <td> CCG</td>\n",
       "      <td> 1.955975</td>\n",
       "      <td> 0.582090</td>\n",
       "      <td> intergenic</td>\n",
       "      <td> 2330745</td>\n",
       "      <td> 0.750000</td>\n",
       "      <td> 369222</td>\n",
       "      <td> 0</td>\n",
       "    </tr>\n",
       "    <tr>\n",
       "      <th>94943</th>\n",
       "      <td> chrX</td>\n",
       "      <td> 369247</td>\n",
       "      <td>  2</td>\n",
       "      <td> 0</td>\n",
       "      <td>   56</td>\n",
       "      <td>   4</td>\n",
       "      <td>  11</td>\n",
       "      <td> 0</td>\n",
       "      <td> 48</td>\n",
       "      <td> ACG</td>\n",
       "      <td> 2.000000</td>\n",
       "      <td> 0.577114</td>\n",
       "      <td> intergenic</td>\n",
       "      <td> 2330721</td>\n",
       "      <td> 0.750000</td>\n",
       "      <td> 369246</td>\n",
       "      <td> 0</td>\n",
       "    </tr>\n",
       "    <tr>\n",
       "      <th>94944</th>\n",
       "      <td> chrX</td>\n",
       "      <td> 417350</td>\n",
       "      <td>  2</td>\n",
       "      <td> 5</td>\n",
       "      <td>  107</td>\n",
       "      <td>  20</td>\n",
       "      <td>  24</td>\n",
       "      <td> 0</td>\n",
       "      <td> 30</td>\n",
       "      <td> ATC</td>\n",
       "      <td> 1.824242</td>\n",
       "      <td> 0.373134</td>\n",
       "      <td> intergenic</td>\n",
       "      <td> 2282618</td>\n",
       "      <td> 0.650000</td>\n",
       "      <td> 417349</td>\n",
       "      <td> 0</td>\n",
       "    </tr>\n",
       "    <tr>\n",
       "      <th>94945</th>\n",
       "      <td> chrX</td>\n",
       "      <td> 477937</td>\n",
       "      <td> 10</td>\n",
       "      <td> 0</td>\n",
       "      <td>  317</td>\n",
       "      <td>  11</td>\n",
       "      <td>  18</td>\n",
       "      <td> 0</td>\n",
       "      <td> 80</td>\n",
       "      <td> GCA</td>\n",
       "      <td> 4.661538</td>\n",
       "      <td> 0.412935</td>\n",
       "      <td> intergenic</td>\n",
       "      <td> 2222031</td>\n",
       "      <td> 0.636364</td>\n",
       "      <td> 477936</td>\n",
       "      <td> 0</td>\n",
       "    </tr>\n",
       "    <tr>\n",
       "      <th>94946</th>\n",
       "      <td> chrX</td>\n",
       "      <td> 545609</td>\n",
       "      <td>  3</td>\n",
       "      <td> 0</td>\n",
       "      <td>   99</td>\n",
       "      <td>   6</td>\n",
       "      <td>  14</td>\n",
       "      <td> 0</td>\n",
       "      <td> 74</td>\n",
       "      <td> CTG</td>\n",
       "      <td> 3.181102</td>\n",
       "      <td> 0.552239</td>\n",
       "      <td> intergenic</td>\n",
       "      <td> 2154359</td>\n",
       "      <td> 0.500000</td>\n",
       "      <td> 545608</td>\n",
       "      <td> 0</td>\n",
       "    </tr>\n",
       "  </tbody>\n",
       "</table>\n",
       "<p>10 rows × 17 columns</p>\n",
       "</div>"
      ],
      "text/plain": [
       "      CHROM   POS_x  RefAllele  NonRefAllele  BaseQual  TumourCoverage  \\\n",
       "94937  chrX  155565         54             4      1843              97   \n",
       "94938  chrX  155944          8             0       219               9   \n",
       "94939  chrX  157281         83             4      2577             114   \n",
       "94940  chrX  166699         14             2       523              21   \n",
       "94941  chrX  215423         63             2      1997              67   \n",
       "94942  chrX  369223          3             2       119               8   \n",
       "94943  chrX  369247          2             0        56               4   \n",
       "94944  chrX  417350          2             5       107              20   \n",
       "94945  chrX  477937         10             0       317              11   \n",
       "94946  chrX  545609          3             0        99               6   \n",
       "\n",
       "       NormalCoverage  MapQual  ReadPosition Trinucleotide  HomopolymerRate  \\\n",
       "94937              92        0            71           TCT         1.919255   \n",
       "94938              30        0            84           ACT         1.924051   \n",
       "94939             101        0            47           GCT         1.855346   \n",
       "94940              26        0            83           CCT         3.066667   \n",
       "94941              58        0            21           TTA         2.493151   \n",
       "94942              18        0            84           CCG         1.955975   \n",
       "94943              11        0            48           ACG         2.000000   \n",
       "94944              24        0            30           ATC         1.824242   \n",
       "94945              18        0            80           GCA         4.661538   \n",
       "94946              14        0            74           CTG         3.181102   \n",
       "\n",
       "       GCcontent GenomicLocation  DistanceSNP  StrandBias   POS_y  Label  \n",
       "94937   0.487562      intergenic      2544403    0.556701  155564      0  \n",
       "94938   0.497512      intergenic      2544024    0.555556  155943      0  \n",
       "94939   0.487562             NaN      2542687    0.543860  157280      0  \n",
       "94940   0.686567      intergenic      2533269    0.619048  166698      0  \n",
       "94941   0.462687        intronic      2484545    0.388060  215422      0  \n",
       "94942   0.582090      intergenic      2330745    0.750000  369222      0  \n",
       "94943   0.577114      intergenic      2330721    0.750000  369246      0  \n",
       "94944   0.373134      intergenic      2282618    0.650000  417349      0  \n",
       "94945   0.412935      intergenic      2222031    0.636364  477936      0  \n",
       "94946   0.552239      intergenic      2154359    0.500000  545608      0  \n",
       "\n",
       "[10 rows x 17 columns]"
      ]
     },
     "execution_count": 94,
     "metadata": {},
     "output_type": "execute_result"
    }
   ],
   "source": [
    "GenomicFeatures_PCSI0046_Top20[:10]"
   ]
  },
  {
   "cell_type": "code",
   "execution_count": 62,
   "metadata": {
    "collapsed": false
   },
   "outputs": [],
   "source": [
    "GenomicFeatures_PCSI0046_Top20.to_csv('GenomicFeatures_PCSI0046_Top20.csv')"
   ]
  },
  {
   "cell_type": "code",
   "execution_count": null,
   "metadata": {
    "collapsed": true
   },
   "outputs": [],
   "source": []
  },
  {
   "cell_type": "code",
   "execution_count": null,
   "metadata": {
    "collapsed": true
   },
   "outputs": [],
   "source": []
  }
 ],
 "metadata": {
  "kernelspec": {
   "display_name": "Python 2",
   "language": "python",
   "name": "python2"
  },
  "language_info": {
   "codemirror_mode": {
    "name": "ipython",
    "version": 2
   },
   "file_extension": ".py",
   "mimetype": "text/x-python",
   "name": "python",
   "nbconvert_exporter": "python",
   "pygments_lexer": "ipython2",
   "version": "2.7.6"
  }
 },
 "nbformat": 4,
 "nbformat_minor": 0
}
