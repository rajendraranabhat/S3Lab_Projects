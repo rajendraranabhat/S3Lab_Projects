{
 "cells": [
  {
   "cell_type": "code",
   "execution_count": 1,
   "metadata": {
    "collapsed": false
   },
   "outputs": [
    {
     "name": "stderr",
     "output_type": "stream",
     "text": [
      "WARNING (theano.sandbox.cuda): CUDA is installed, but device gpu is not available  (error: Unable to get the number of gpus available: no CUDA-capable device is detected)\n",
      "WARNING:theano.sandbox.cuda:CUDA is installed, but device gpu is not available  (error: Unable to get the number of gpus available: no CUDA-capable device is detected)\n",
      "/usr/local/lib/python2.7/dist-packages/theano/tensor/signal/downsample.py:6: UserWarning: downsample module has been moved to the theano.tensor.signal.pool module.\n",
      "  \"downsample module has been moved to the theano.tensor.signal.pool module.\")\n",
      "Using Theano backend.\n"
     ]
    }
   ],
   "source": [
    "import numpy as np\n",
    "import pandas as pd\n",
    "from collections import Counter\n",
    "import math\n",
    "\n",
    "from sklearn.neighbors import KNeighborsClassifier\n",
    "from sklearn.linear_model import LogisticRegression\n",
    "from sklearn.ensemble import RandomForestClassifier\n",
    "from sklearn.cross_validation import cross_val_score\n",
    "from sklearn import metrics\n",
    "from sklearn.cross_validation import train_test_split\n",
    "from sklearn.metrics import confusion_matrix, roc_curve, auc\n",
    "from sklearn.grid_search import GridSearchCV\n",
    "from sklearn import svm\n",
    "from sklearn.decomposition import RandomizedPCA\n",
    "from sklearn.metrics import classification_report\n",
    "from sklearn import preprocessing\n",
    "import matplotlib.pyplot as plt\n",
    "import scipy.optimize as opt\n",
    "import glob\n",
    "import os\n",
    "import sys\n",
    "import pickle\n",
    "import time\n",
    "import timeit\n",
    "\n",
    "from sklearn.decomposition import RandomizedPCA\n",
    "\n",
    "import theano\n",
    "import theano.tensor as T\n",
    "import lasagne\n",
    "\n",
    "#np.random.seed(1337)  # for reproducibility\n",
    "from keras.datasets import mnist\n",
    "from keras.models import Sequential\n",
    "from keras.layers.core import Dense, Dropout, Activation, Flatten, Layer, Reshape, AutoEncoder, Merge\n",
    "from keras.layers.convolutional import Convolution2D,MaxPooling2D,Convolution1D,MaxPooling1D,UpSampling2D, ZeroPadding2D\n",
    "from keras.optimizers import SGD, Adam, RMSprop, Adadelta\n",
    "from keras.layers.normalization import BatchNormalization\n",
    "from keras.utils import np_utils\n",
    "import keras.utils.visualize_util as vutil\n",
    "from keras.layers.recurrent import LSTM, GRU, SimpleRNN\n",
    "from keras.regularizers import l1, l2, l1l2, activity_l2, activity_l1\n",
    "import keras.layers.containers as containers\n",
    "from keras.layers.noise import GaussianNoise\n",
    "from keras.regularizers import ActivityRegularizer\n",
    "from keras import backend as K\n",
    "import keras.utils.visualize_util as vutil\n",
    "from keras.models import model_from_json\n",
    "\n",
    "import seaborn as sns\n",
    "\n",
    "%matplotlib inline\n",
    "\n",
    "from IPython.display import SVG\n",
    "\n",
    "import h5py\n",
    "\n",
    "np.set_printoptions(suppress=True)  #Supress exponent of the number 2e-2 == 0.02\n",
    "\n",
    "%matplotlib inline"
   ]
  },
  {
   "cell_type": "code",
   "execution_count": 2,
   "metadata": {
    "collapsed": true
   },
   "outputs": [],
   "source": [
    "#CPCG0184"
   ]
  },
  {
   "cell_type": "code",
   "execution_count": 3,
   "metadata": {
    "collapsed": false
   },
   "outputs": [],
   "source": [
    "#Read the data\n",
    "\n",
    "GenomicFeatures_CPCG0184 = pd.read_csv(open('data/CPCG0184/GenomicFeatures_CPCG0184.txt','r'),sep='\\t')\n",
    "SNVCalls_CPCG0184    = pd.read_csv(open('data/CPCG0184/SNVCalls_CPCG0184.txt','r'),sep='\\t') "
   ]
  },
  {
   "cell_type": "code",
   "execution_count": 4,
   "metadata": {
    "collapsed": false
   },
   "outputs": [
    {
     "name": "stdout",
     "output_type": "stream",
     "text": [
      "(128030, 15)\n",
      "(128030, 111)\n"
     ]
    }
   ],
   "source": [
    "print GenomicFeatures_CPCG0184.shape\n",
    "print SNVCalls_CPCG0184.shape"
   ]
  },
  {
   "cell_type": "code",
   "execution_count": 5,
   "metadata": {
    "collapsed": false
   },
   "outputs": [
    {
     "data": {
      "text/html": [
       "<div style=\"max-height:1000px;max-width:1500px;overflow:auto;\">\n",
       "<table border=\"1\" class=\"dataframe\">\n",
       "  <thead>\n",
       "    <tr style=\"text-align: right;\">\n",
       "      <th></th>\n",
       "      <th>CHROM</th>\n",
       "      <th>POS</th>\n",
       "      <th>RefAllele</th>\n",
       "      <th>NonRefAllele</th>\n",
       "      <th>BaseQual</th>\n",
       "      <th>TumourCoverage</th>\n",
       "      <th>NormalCoverage</th>\n",
       "      <th>MapQual</th>\n",
       "      <th>ReadPosition</th>\n",
       "      <th>Trinucleotide</th>\n",
       "      <th>HomopolymerRate</th>\n",
       "      <th>GCcontent</th>\n",
       "      <th>GenomicLocation</th>\n",
       "      <th>DistanceSNP</th>\n",
       "      <th>StrandBias</th>\n",
       "    </tr>\n",
       "  </thead>\n",
       "  <tbody>\n",
       "    <tr>\n",
       "      <th>0</th>\n",
       "      <td> chr1</td>\n",
       "      <td> 13012</td>\n",
       "      <td> 243</td>\n",
       "      <td> 16</td>\n",
       "      <td> 7230</td>\n",
       "      <td> 286</td>\n",
       "      <td> 176</td>\n",
       "      <td>  9.0</td>\n",
       "      <td> 39.5</td>\n",
       "      <td> CCA</td>\n",
       "      <td> 2.697842</td>\n",
       "      <td> 0.597015</td>\n",
       "      <td>            NaN</td>\n",
       "      <td> 39226</td>\n",
       "      <td> 0.377622</td>\n",
       "    </tr>\n",
       "    <tr>\n",
       "      <th>1</th>\n",
       "      <td> chr1</td>\n",
       "      <td> 13302</td>\n",
       "      <td>  72</td>\n",
       "      <td> 48</td>\n",
       "      <td> 2913</td>\n",
       "      <td> 138</td>\n",
       "      <td>  88</td>\n",
       "      <td> 15.0</td>\n",
       "      <td> 65.0</td>\n",
       "      <td> ACG</td>\n",
       "      <td> 2.453901</td>\n",
       "      <td> 0.577114</td>\n",
       "      <td>     intergenic</td>\n",
       "      <td> 38936</td>\n",
       "      <td> 0.557971</td>\n",
       "    </tr>\n",
       "    <tr>\n",
       "      <th>2</th>\n",
       "      <td> chr1</td>\n",
       "      <td> 16288</td>\n",
       "      <td> 170</td>\n",
       "      <td> 23</td>\n",
       "      <td> 5344</td>\n",
       "      <td> 202</td>\n",
       "      <td> 163</td>\n",
       "      <td> 18.5</td>\n",
       "      <td> 56.0</td>\n",
       "      <td> ACA</td>\n",
       "      <td> 2.468966</td>\n",
       "      <td> 0.492537</td>\n",
       "      <td> ncRNA_intronic</td>\n",
       "      <td> 35950</td>\n",
       "      <td> 0.524752</td>\n",
       "    </tr>\n",
       "    <tr>\n",
       "      <th>3</th>\n",
       "      <td> chr1</td>\n",
       "      <td> 16957</td>\n",
       "      <td> 164</td>\n",
       "      <td> 14</td>\n",
       "      <td> 5070</td>\n",
       "      <td> 224</td>\n",
       "      <td> 146</td>\n",
       "      <td>  0.0</td>\n",
       "      <td> 43.5</td>\n",
       "      <td> TCA</td>\n",
       "      <td> 2.443662</td>\n",
       "      <td> 0.601990</td>\n",
       "      <td>   ncRNA_exonic</td>\n",
       "      <td> 35281</td>\n",
       "      <td> 0.522321</td>\n",
       "    </tr>\n",
       "    <tr>\n",
       "      <th>4</th>\n",
       "      <td> chr1</td>\n",
       "      <td> 17408</td>\n",
       "      <td> 230</td>\n",
       "      <td> 22</td>\n",
       "      <td> 6916</td>\n",
       "      <td> 278</td>\n",
       "      <td> 205</td>\n",
       "      <td>  0.0</td>\n",
       "      <td> 49.5</td>\n",
       "      <td> GCT</td>\n",
       "      <td> 2.568493</td>\n",
       "      <td> 0.621891</td>\n",
       "      <td> ncRNA_intronic</td>\n",
       "      <td> 34830</td>\n",
       "      <td> 0.600719</td>\n",
       "    </tr>\n",
       "  </tbody>\n",
       "</table>\n",
       "<p>5 rows × 15 columns</p>\n",
       "</div>"
      ],
      "text/plain": [
       "  CHROM    POS  RefAllele  NonRefAllele  BaseQual  TumourCoverage  \\\n",
       "0  chr1  13012        243            16      7230             286   \n",
       "1  chr1  13302         72            48      2913             138   \n",
       "2  chr1  16288        170            23      5344             202   \n",
       "3  chr1  16957        164            14      5070             224   \n",
       "4  chr1  17408        230            22      6916             278   \n",
       "\n",
       "   NormalCoverage  MapQual  ReadPosition Trinucleotide  HomopolymerRate  \\\n",
       "0             176      9.0          39.5           CCA         2.697842   \n",
       "1              88     15.0          65.0           ACG         2.453901   \n",
       "2             163     18.5          56.0           ACA         2.468966   \n",
       "3             146      0.0          43.5           TCA         2.443662   \n",
       "4             205      0.0          49.5           GCT         2.568493   \n",
       "\n",
       "   GCcontent GenomicLocation  DistanceSNP  StrandBias  \n",
       "0   0.597015             NaN        39226    0.377622  \n",
       "1   0.577114      intergenic        38936    0.557971  \n",
       "2   0.492537  ncRNA_intronic        35950    0.524752  \n",
       "3   0.601990    ncRNA_exonic        35281    0.522321  \n",
       "4   0.621891  ncRNA_intronic        34830    0.600719  \n",
       "\n",
       "[5 rows x 15 columns]"
      ]
     },
     "execution_count": 5,
     "metadata": {},
     "output_type": "execute_result"
    }
   ],
   "source": [
    "GenomicFeatures_CPCG0184.head()"
   ]
  },
  {
   "cell_type": "code",
   "execution_count": 6,
   "metadata": {
    "collapsed": false
   },
   "outputs": [
    {
     "data": {
      "text/html": [
       "<div style=\"max-height:1000px;max-width:1500px;overflow:auto;\">\n",
       "<table border=\"1\" class=\"dataframe\">\n",
       "  <thead>\n",
       "    <tr style=\"text-align: right;\">\n",
       "      <th></th>\n",
       "      <th>CHROM</th>\n",
       "      <th>POS</th>\n",
       "      <th>END</th>\n",
       "      <th>X2399004</th>\n",
       "      <th>X2642555</th>\n",
       "      <th>X2642557</th>\n",
       "      <th>X2673212</th>\n",
       "      <th>X2673226</th>\n",
       "      <th>X2677236</th>\n",
       "      <th>X2677261</th>\n",
       "      <th>X2677266</th>\n",
       "      <th>X2679050</th>\n",
       "      <th>X2679053</th>\n",
       "      <th>X2706569</th>\n",
       "      <th>X2711266</th>\n",
       "      <th>X2717532</th>\n",
       "      <th>X2717548</th>\n",
       "      <th>X2791041</th>\n",
       "      <th>X2811029</th>\n",
       "      <th>X2811031</th>\n",
       "      <th></th>\n",
       "    </tr>\n",
       "  </thead>\n",
       "  <tbody>\n",
       "    <tr>\n",
       "      <th>0</th>\n",
       "      <td> chr1</td>\n",
       "      <td> 13011</td>\n",
       "      <td> 13012</td>\n",
       "      <td> 1</td>\n",
       "      <td> 0</td>\n",
       "      <td> 0</td>\n",
       "      <td> 0</td>\n",
       "      <td> 0</td>\n",
       "      <td> 1</td>\n",
       "      <td> 1</td>\n",
       "      <td> 1</td>\n",
       "      <td> 1</td>\n",
       "      <td> 1</td>\n",
       "      <td> 0</td>\n",
       "      <td> 0</td>\n",
       "      <td> 0</td>\n",
       "      <td> 0</td>\n",
       "      <td> 0</td>\n",
       "      <td> 0</td>\n",
       "      <td> 0</td>\n",
       "      <td>...</td>\n",
       "    </tr>\n",
       "    <tr>\n",
       "      <th>1</th>\n",
       "      <td> chr1</td>\n",
       "      <td> 13301</td>\n",
       "      <td> 13302</td>\n",
       "      <td> 0</td>\n",
       "      <td> 0</td>\n",
       "      <td> 0</td>\n",
       "      <td> 0</td>\n",
       "      <td> 0</td>\n",
       "      <td> 0</td>\n",
       "      <td> 0</td>\n",
       "      <td> 0</td>\n",
       "      <td> 0</td>\n",
       "      <td> 0</td>\n",
       "      <td> 0</td>\n",
       "      <td> 0</td>\n",
       "      <td> 0</td>\n",
       "      <td> 0</td>\n",
       "      <td> 0</td>\n",
       "      <td> 0</td>\n",
       "      <td> 0</td>\n",
       "      <td>...</td>\n",
       "    </tr>\n",
       "    <tr>\n",
       "      <th>2</th>\n",
       "      <td> chr1</td>\n",
       "      <td> 16287</td>\n",
       "      <td> 16288</td>\n",
       "      <td> 1</td>\n",
       "      <td> 0</td>\n",
       "      <td> 0</td>\n",
       "      <td> 0</td>\n",
       "      <td> 0</td>\n",
       "      <td> 0</td>\n",
       "      <td> 0</td>\n",
       "      <td> 0</td>\n",
       "      <td> 0</td>\n",
       "      <td> 0</td>\n",
       "      <td> 0</td>\n",
       "      <td> 0</td>\n",
       "      <td> 0</td>\n",
       "      <td> 0</td>\n",
       "      <td> 0</td>\n",
       "      <td> 0</td>\n",
       "      <td> 0</td>\n",
       "      <td>...</td>\n",
       "    </tr>\n",
       "    <tr>\n",
       "      <th>3</th>\n",
       "      <td> chr1</td>\n",
       "      <td> 16956</td>\n",
       "      <td> 16957</td>\n",
       "      <td> 0</td>\n",
       "      <td> 0</td>\n",
       "      <td> 0</td>\n",
       "      <td> 0</td>\n",
       "      <td> 0</td>\n",
       "      <td> 0</td>\n",
       "      <td> 0</td>\n",
       "      <td> 0</td>\n",
       "      <td> 0</td>\n",
       "      <td> 0</td>\n",
       "      <td> 0</td>\n",
       "      <td> 0</td>\n",
       "      <td> 0</td>\n",
       "      <td> 0</td>\n",
       "      <td> 0</td>\n",
       "      <td> 0</td>\n",
       "      <td> 0</td>\n",
       "      <td>...</td>\n",
       "    </tr>\n",
       "    <tr>\n",
       "      <th>4</th>\n",
       "      <td> chr1</td>\n",
       "      <td> 17407</td>\n",
       "      <td> 17408</td>\n",
       "      <td> 1</td>\n",
       "      <td> 0</td>\n",
       "      <td> 0</td>\n",
       "      <td> 0</td>\n",
       "      <td> 0</td>\n",
       "      <td> 0</td>\n",
       "      <td> 0</td>\n",
       "      <td> 0</td>\n",
       "      <td> 0</td>\n",
       "      <td> 0</td>\n",
       "      <td> 0</td>\n",
       "      <td> 0</td>\n",
       "      <td> 0</td>\n",
       "      <td> 0</td>\n",
       "      <td> 0</td>\n",
       "      <td> 0</td>\n",
       "      <td> 0</td>\n",
       "      <td>...</td>\n",
       "    </tr>\n",
       "  </tbody>\n",
       "</table>\n",
       "<p>5 rows × 111 columns</p>\n",
       "</div>"
      ],
      "text/plain": [
       "  CHROM    POS    END  X2399004  X2642555  X2642557  X2673212  X2673226  \\\n",
       "0  chr1  13011  13012         1         0         0         0         0   \n",
       "1  chr1  13301  13302         0         0         0         0         0   \n",
       "2  chr1  16287  16288         1         0         0         0         0   \n",
       "3  chr1  16956  16957         0         0         0         0         0   \n",
       "4  chr1  17407  17408         1         0         0         0         0   \n",
       "\n",
       "   X2677236  X2677261  X2677266  X2679050  X2679053  X2706569  X2711266  \\\n",
       "0         1         1         1         1         1         0         0   \n",
       "1         0         0         0         0         0         0         0   \n",
       "2         0         0         0         0         0         0         0   \n",
       "3         0         0         0         0         0         0         0   \n",
       "4         0         0         0         0         0         0         0   \n",
       "\n",
       "   X2717532  X2717548  X2791041  X2811029  X2811031      \n",
       "0         0         0         0         0         0 ...  \n",
       "1         0         0         0         0         0 ...  \n",
       "2         0         0         0         0         0 ...  \n",
       "3         0         0         0         0         0 ...  \n",
       "4         0         0         0         0         0 ...  \n",
       "\n",
       "[5 rows x 111 columns]"
      ]
     },
     "execution_count": 6,
     "metadata": {},
     "output_type": "execute_result"
    }
   ],
   "source": [
    "SNVCalls_CPCG0184.head()"
   ]
  },
  {
   "cell_type": "code",
   "execution_count": 7,
   "metadata": {
    "collapsed": false
   },
   "outputs": [
    {
     "data": {
      "text/plain": [
       "array(['ACA', 'ACC', 'ACG', 'ACT', 'ATA', 'ATC', 'ATG', 'ATT', 'CCA',\n",
       "       'CCC', 'CCG', 'CCT', 'CNN', 'CTA', 'CTC', 'CTG', 'CTT', 'GCA',\n",
       "       'GCC', 'GCG', 'GCT', 'GTA', 'GTC', 'GTG', 'GTT', 'NNG', 'TCA',\n",
       "       'TCC', 'TCG', 'TCT', 'TTA', 'TTC', 'TTG', 'TTT'], \n",
       "      dtype='|S3')"
      ]
     },
     "execution_count": 7,
     "metadata": {},
     "output_type": "execute_result"
    }
   ],
   "source": [
    "np.unique(GenomicFeatures_CPCG0184['Trinucleotide'])"
   ]
  },
  {
   "cell_type": "code",
   "execution_count": 8,
   "metadata": {
    "collapsed": true
   },
   "outputs": [],
   "source": [
    "CPCG0184 = pd.merge(GenomicFeatures_CPCG0184, SNVCalls_CPCG0184,left_on=['CHROM', 'POS'], right_on=['CHROM','END'])\n"
   ]
  },
  {
   "cell_type": "code",
   "execution_count": 9,
   "metadata": {
    "collapsed": false
   },
   "outputs": [
    {
     "data": {
      "text/html": [
       "<div style=\"max-height:1000px;max-width:1500px;overflow:auto;\">\n",
       "<table border=\"1\" class=\"dataframe\">\n",
       "  <thead>\n",
       "    <tr style=\"text-align: right;\">\n",
       "      <th></th>\n",
       "      <th>CHROM</th>\n",
       "      <th>POS_x</th>\n",
       "      <th>RefAllele</th>\n",
       "      <th>NonRefAllele</th>\n",
       "      <th>BaseQual</th>\n",
       "      <th>TumourCoverage</th>\n",
       "      <th>NormalCoverage</th>\n",
       "      <th>MapQual</th>\n",
       "      <th>ReadPosition</th>\n",
       "      <th>Trinucleotide</th>\n",
       "      <th>HomopolymerRate</th>\n",
       "      <th>GCcontent</th>\n",
       "      <th>GenomicLocation</th>\n",
       "      <th>DistanceSNP</th>\n",
       "      <th>StrandBias</th>\n",
       "      <th>POS_y</th>\n",
       "      <th>END</th>\n",
       "      <th>X2399004</th>\n",
       "      <th>X2642555</th>\n",
       "      <th>X2642557</th>\n",
       "      <th></th>\n",
       "    </tr>\n",
       "  </thead>\n",
       "  <tbody>\n",
       "    <tr>\n",
       "      <th>0</th>\n",
       "      <td> chr1</td>\n",
       "      <td> 13012</td>\n",
       "      <td> 243</td>\n",
       "      <td> 16</td>\n",
       "      <td> 7230</td>\n",
       "      <td> 286</td>\n",
       "      <td> 176</td>\n",
       "      <td>  9.0</td>\n",
       "      <td> 39.5</td>\n",
       "      <td> CCA</td>\n",
       "      <td> 2.697842</td>\n",
       "      <td> 0.597015</td>\n",
       "      <td>            NaN</td>\n",
       "      <td> 39226</td>\n",
       "      <td> 0.377622</td>\n",
       "      <td> 13011</td>\n",
       "      <td> 13012</td>\n",
       "      <td> 1</td>\n",
       "      <td> 0</td>\n",
       "      <td> 0</td>\n",
       "      <td>...</td>\n",
       "    </tr>\n",
       "    <tr>\n",
       "      <th>1</th>\n",
       "      <td> chr1</td>\n",
       "      <td> 13302</td>\n",
       "      <td>  72</td>\n",
       "      <td> 48</td>\n",
       "      <td> 2913</td>\n",
       "      <td> 138</td>\n",
       "      <td>  88</td>\n",
       "      <td> 15.0</td>\n",
       "      <td> 65.0</td>\n",
       "      <td> ACG</td>\n",
       "      <td> 2.453901</td>\n",
       "      <td> 0.577114</td>\n",
       "      <td>     intergenic</td>\n",
       "      <td> 38936</td>\n",
       "      <td> 0.557971</td>\n",
       "      <td> 13301</td>\n",
       "      <td> 13302</td>\n",
       "      <td> 0</td>\n",
       "      <td> 0</td>\n",
       "      <td> 0</td>\n",
       "      <td>...</td>\n",
       "    </tr>\n",
       "    <tr>\n",
       "      <th>2</th>\n",
       "      <td> chr1</td>\n",
       "      <td> 16288</td>\n",
       "      <td> 170</td>\n",
       "      <td> 23</td>\n",
       "      <td> 5344</td>\n",
       "      <td> 202</td>\n",
       "      <td> 163</td>\n",
       "      <td> 18.5</td>\n",
       "      <td> 56.0</td>\n",
       "      <td> ACA</td>\n",
       "      <td> 2.468966</td>\n",
       "      <td> 0.492537</td>\n",
       "      <td> ncRNA_intronic</td>\n",
       "      <td> 35950</td>\n",
       "      <td> 0.524752</td>\n",
       "      <td> 16287</td>\n",
       "      <td> 16288</td>\n",
       "      <td> 1</td>\n",
       "      <td> 0</td>\n",
       "      <td> 0</td>\n",
       "      <td>...</td>\n",
       "    </tr>\n",
       "    <tr>\n",
       "      <th>3</th>\n",
       "      <td> chr1</td>\n",
       "      <td> 16957</td>\n",
       "      <td> 164</td>\n",
       "      <td> 14</td>\n",
       "      <td> 5070</td>\n",
       "      <td> 224</td>\n",
       "      <td> 146</td>\n",
       "      <td>  0.0</td>\n",
       "      <td> 43.5</td>\n",
       "      <td> TCA</td>\n",
       "      <td> 2.443662</td>\n",
       "      <td> 0.601990</td>\n",
       "      <td>   ncRNA_exonic</td>\n",
       "      <td> 35281</td>\n",
       "      <td> 0.522321</td>\n",
       "      <td> 16956</td>\n",
       "      <td> 16957</td>\n",
       "      <td> 0</td>\n",
       "      <td> 0</td>\n",
       "      <td> 0</td>\n",
       "      <td>...</td>\n",
       "    </tr>\n",
       "    <tr>\n",
       "      <th>4</th>\n",
       "      <td> chr1</td>\n",
       "      <td> 17408</td>\n",
       "      <td> 230</td>\n",
       "      <td> 22</td>\n",
       "      <td> 6916</td>\n",
       "      <td> 278</td>\n",
       "      <td> 205</td>\n",
       "      <td>  0.0</td>\n",
       "      <td> 49.5</td>\n",
       "      <td> GCT</td>\n",
       "      <td> 2.568493</td>\n",
       "      <td> 0.621891</td>\n",
       "      <td> ncRNA_intronic</td>\n",
       "      <td> 34830</td>\n",
       "      <td> 0.600719</td>\n",
       "      <td> 17407</td>\n",
       "      <td> 17408</td>\n",
       "      <td> 1</td>\n",
       "      <td> 0</td>\n",
       "      <td> 0</td>\n",
       "      <td>...</td>\n",
       "    </tr>\n",
       "  </tbody>\n",
       "</table>\n",
       "<p>5 rows × 125 columns</p>\n",
       "</div>"
      ],
      "text/plain": [
       "  CHROM  POS_x  RefAllele  NonRefAllele  BaseQual  TumourCoverage  \\\n",
       "0  chr1  13012        243            16      7230             286   \n",
       "1  chr1  13302         72            48      2913             138   \n",
       "2  chr1  16288        170            23      5344             202   \n",
       "3  chr1  16957        164            14      5070             224   \n",
       "4  chr1  17408        230            22      6916             278   \n",
       "\n",
       "   NormalCoverage  MapQual  ReadPosition Trinucleotide  HomopolymerRate  \\\n",
       "0             176      9.0          39.5           CCA         2.697842   \n",
       "1              88     15.0          65.0           ACG         2.453901   \n",
       "2             163     18.5          56.0           ACA         2.468966   \n",
       "3             146      0.0          43.5           TCA         2.443662   \n",
       "4             205      0.0          49.5           GCT         2.568493   \n",
       "\n",
       "   GCcontent GenomicLocation  DistanceSNP  StrandBias  POS_y    END  X2399004  \\\n",
       "0   0.597015             NaN        39226    0.377622  13011  13012         1   \n",
       "1   0.577114      intergenic        38936    0.557971  13301  13302         0   \n",
       "2   0.492537  ncRNA_intronic        35950    0.524752  16287  16288         1   \n",
       "3   0.601990    ncRNA_exonic        35281    0.522321  16956  16957         0   \n",
       "4   0.621891  ncRNA_intronic        34830    0.600719  17407  17408         1   \n",
       "\n",
       "   X2642555  X2642557      \n",
       "0         0         0 ...  \n",
       "1         0         0 ...  \n",
       "2         0         0 ...  \n",
       "3         0         0 ...  \n",
       "4         0         0 ...  \n",
       "\n",
       "[5 rows x 125 columns]"
      ]
     },
     "execution_count": 9,
     "metadata": {},
     "output_type": "execute_result"
    }
   ],
   "source": [
    "CPCG0184.head() #182+15"
   ]
  },
  {
   "cell_type": "code",
   "execution_count": 10,
   "metadata": {
    "collapsed": true
   },
   "outputs": [],
   "source": [
    "CPCG0184_X = CPCG0184.iloc[:,2:15] #Exclude CHROM, POS\n",
    "CPCG0184_Y = CPCG0184.iloc[:,17:]  #Exclude CHROM_y, POS_y, END"
   ]
  },
  {
   "cell_type": "code",
   "execution_count": 11,
   "metadata": {
    "collapsed": false
   },
   "outputs": [
    {
     "name": "stdout",
     "output_type": "stream",
     "text": [
      "(128030, 13)\n",
      "(128030, 108)\n"
     ]
    }
   ],
   "source": [
    "print CPCG0184_X.shape\n",
    "print CPCG0184_Y.shape"
   ]
  },
  {
   "cell_type": "code",
   "execution_count": 12,
   "metadata": {
    "collapsed": false
   },
   "outputs": [
    {
     "data": {
      "text/html": [
       "<div style=\"max-height:1000px;max-width:1500px;overflow:auto;\">\n",
       "<table border=\"1\" class=\"dataframe\">\n",
       "  <thead>\n",
       "    <tr style=\"text-align: right;\">\n",
       "      <th></th>\n",
       "      <th>RefAllele</th>\n",
       "      <th>NonRefAllele</th>\n",
       "      <th>BaseQual</th>\n",
       "      <th>TumourCoverage</th>\n",
       "      <th>NormalCoverage</th>\n",
       "      <th>MapQual</th>\n",
       "      <th>ReadPosition</th>\n",
       "      <th>Trinucleotide</th>\n",
       "      <th>HomopolymerRate</th>\n",
       "      <th>GCcontent</th>\n",
       "      <th>GenomicLocation</th>\n",
       "      <th>DistanceSNP</th>\n",
       "      <th>StrandBias</th>\n",
       "    </tr>\n",
       "  </thead>\n",
       "  <tbody>\n",
       "    <tr>\n",
       "      <th>0</th>\n",
       "      <td> 243</td>\n",
       "      <td> 16</td>\n",
       "      <td> 7230</td>\n",
       "      <td> 286</td>\n",
       "      <td> 176</td>\n",
       "      <td>  9</td>\n",
       "      <td> 39.5</td>\n",
       "      <td> CCA</td>\n",
       "      <td> 2.697842</td>\n",
       "      <td> 0.597015</td>\n",
       "      <td>        NaN</td>\n",
       "      <td> 39226</td>\n",
       "      <td> 0.377622</td>\n",
       "    </tr>\n",
       "    <tr>\n",
       "      <th>1</th>\n",
       "      <td>  72</td>\n",
       "      <td> 48</td>\n",
       "      <td> 2913</td>\n",
       "      <td> 138</td>\n",
       "      <td>  88</td>\n",
       "      <td> 15</td>\n",
       "      <td> 65.0</td>\n",
       "      <td> ACG</td>\n",
       "      <td> 2.453901</td>\n",
       "      <td> 0.577114</td>\n",
       "      <td> intergenic</td>\n",
       "      <td> 38936</td>\n",
       "      <td> 0.557971</td>\n",
       "    </tr>\n",
       "  </tbody>\n",
       "</table>\n",
       "<p>2 rows × 13 columns</p>\n",
       "</div>"
      ],
      "text/plain": [
       "   RefAllele  NonRefAllele  BaseQual  TumourCoverage  NormalCoverage  MapQual  \\\n",
       "0        243            16      7230             286             176        9   \n",
       "1         72            48      2913             138              88       15   \n",
       "\n",
       "   ReadPosition Trinucleotide  HomopolymerRate  GCcontent GenomicLocation  \\\n",
       "0          39.5           CCA         2.697842   0.597015             NaN   \n",
       "1          65.0           ACG         2.453901   0.577114      intergenic   \n",
       "\n",
       "   DistanceSNP  StrandBias  \n",
       "0        39226    0.377622  \n",
       "1        38936    0.557971  \n",
       "\n",
       "[2 rows x 13 columns]"
      ]
     },
     "execution_count": 12,
     "metadata": {},
     "output_type": "execute_result"
    }
   ],
   "source": [
    "CPCG0184_X[:2]"
   ]
  },
  {
   "cell_type": "code",
   "execution_count": 13,
   "metadata": {
    "collapsed": false
   },
   "outputs": [
    {
     "data": {
      "text/html": [
       "<div style=\"max-height:1000px;max-width:1500px;overflow:auto;\">\n",
       "<table border=\"1\" class=\"dataframe\">\n",
       "  <thead>\n",
       "    <tr style=\"text-align: right;\">\n",
       "      <th></th>\n",
       "      <th>X2399004</th>\n",
       "      <th>X2642555</th>\n",
       "      <th>X2642557</th>\n",
       "      <th>X2673212</th>\n",
       "      <th>X2673226</th>\n",
       "      <th>X2677236</th>\n",
       "      <th>X2677261</th>\n",
       "      <th>X2677266</th>\n",
       "      <th>X2679050</th>\n",
       "      <th>X2679053</th>\n",
       "      <th>X2706569</th>\n",
       "      <th>X2711266</th>\n",
       "      <th>X2717532</th>\n",
       "      <th>X2717548</th>\n",
       "      <th>X2791041</th>\n",
       "      <th>X2811029</th>\n",
       "      <th>X2811031</th>\n",
       "      <th>X2811034</th>\n",
       "      <th>X2811037</th>\n",
       "      <th>X2811188</th>\n",
       "      <th></th>\n",
       "    </tr>\n",
       "  </thead>\n",
       "  <tbody>\n",
       "    <tr>\n",
       "      <th>0</th>\n",
       "      <td> 1</td>\n",
       "      <td> 0</td>\n",
       "      <td> 0</td>\n",
       "      <td> 0</td>\n",
       "      <td> 0</td>\n",
       "      <td> 1</td>\n",
       "      <td> 1</td>\n",
       "      <td> 1</td>\n",
       "      <td> 1</td>\n",
       "      <td> 1</td>\n",
       "      <td> 0</td>\n",
       "      <td> 0</td>\n",
       "      <td> 0</td>\n",
       "      <td> 0</td>\n",
       "      <td> 0</td>\n",
       "      <td> 0</td>\n",
       "      <td> 0</td>\n",
       "      <td> 0</td>\n",
       "      <td> 0</td>\n",
       "      <td> 0</td>\n",
       "      <td>...</td>\n",
       "    </tr>\n",
       "    <tr>\n",
       "      <th>1</th>\n",
       "      <td> 0</td>\n",
       "      <td> 0</td>\n",
       "      <td> 0</td>\n",
       "      <td> 0</td>\n",
       "      <td> 0</td>\n",
       "      <td> 0</td>\n",
       "      <td> 0</td>\n",
       "      <td> 0</td>\n",
       "      <td> 0</td>\n",
       "      <td> 0</td>\n",
       "      <td> 0</td>\n",
       "      <td> 0</td>\n",
       "      <td> 0</td>\n",
       "      <td> 0</td>\n",
       "      <td> 0</td>\n",
       "      <td> 0</td>\n",
       "      <td> 0</td>\n",
       "      <td> 0</td>\n",
       "      <td> 0</td>\n",
       "      <td> 0</td>\n",
       "      <td>...</td>\n",
       "    </tr>\n",
       "  </tbody>\n",
       "</table>\n",
       "<p>2 rows × 108 columns</p>\n",
       "</div>"
      ],
      "text/plain": [
       "   X2399004  X2642555  X2642557  X2673212  X2673226  X2677236  X2677261  \\\n",
       "0         1         0         0         0         0         1         1   \n",
       "1         0         0         0         0         0         0         0   \n",
       "\n",
       "   X2677266  X2679050  X2679053  X2706569  X2711266  X2717532  X2717548  \\\n",
       "0         1         1         1         0         0         0         0   \n",
       "1         0         0         0         0         0         0         0   \n",
       "\n",
       "   X2791041  X2811029  X2811031  X2811034  X2811037  X2811188      \n",
       "0         0         0         0         0         0         0 ...  \n",
       "1         0         0         0         0         0         0 ...  \n",
       "\n",
       "[2 rows x 108 columns]"
      ]
     },
     "execution_count": 13,
     "metadata": {},
     "output_type": "execute_result"
    }
   ],
   "source": [
    "CPCG0184_Y[:2]"
   ]
  },
  {
   "cell_type": "code",
   "execution_count": 14,
   "metadata": {
    "collapsed": false
   },
   "outputs": [
    {
     "name": "stdout",
     "output_type": "stream",
     "text": [
      "128030\n",
      "(128030, 1)\n"
     ]
    }
   ],
   "source": [
    "totalSample = CPCG0184_Y.shape[0]\n",
    "CPCG0184_Y_Val = np.zeros((totalSample,1)) #Will be our label now\n",
    "\n",
    "print totalSample\n",
    "print CPCG0184_Y_Val.shape"
   ]
  },
  {
   "cell_type": "code",
   "execution_count": 15,
   "metadata": {
    "collapsed": false
   },
   "outputs": [
    {
     "data": {
      "text/plain": [
       "(128030, 108)"
      ]
     },
     "execution_count": 15,
     "metadata": {},
     "output_type": "execute_result"
    }
   ],
   "source": [
    "CPCG0184_Y.shape"
   ]
  },
  {
   "cell_type": "code",
   "execution_count": 16,
   "metadata": {
    "collapsed": false
   },
   "outputs": [
    {
     "data": {
      "text/plain": [
       "(108,)"
      ]
     },
     "execution_count": 16,
     "metadata": {},
     "output_type": "execute_result"
    }
   ],
   "source": [
    "CPCG0184_Y.values[0].shape"
   ]
  },
  {
   "cell_type": "code",
   "execution_count": 17,
   "metadata": {
    "collapsed": true
   },
   "outputs": [],
   "source": [
    "for i in range(totalSample):\n",
    "    CPCG0184_Y_Val[i] = np.argmax(np.bincount(CPCG0184_Y.values[i]))"
   ]
  },
  {
   "cell_type": "code",
   "execution_count": 18,
   "metadata": {
    "collapsed": true
   },
   "outputs": [],
   "source": [
    "CPCG0184_Y_Val_1 = pd.DataFrame(CPCG0184_Y_Val)\n",
    "CPCG0184_Y_Val_1.columns = ['Label']"
   ]
  },
  {
   "cell_type": "code",
   "execution_count": 19,
   "metadata": {
    "collapsed": false
   },
   "outputs": [
    {
     "data": {
      "text/html": [
       "<div style=\"max-height:1000px;max-width:1500px;overflow:auto;\">\n",
       "<table border=\"1\" class=\"dataframe\">\n",
       "  <thead>\n",
       "    <tr style=\"text-align: right;\">\n",
       "      <th></th>\n",
       "      <th>Label</th>\n",
       "    </tr>\n",
       "  </thead>\n",
       "  <tbody>\n",
       "    <tr>\n",
       "      <th>0</th>\n",
       "      <td> 0</td>\n",
       "    </tr>\n",
       "    <tr>\n",
       "      <th>1</th>\n",
       "      <td> 0</td>\n",
       "    </tr>\n",
       "    <tr>\n",
       "      <th>2</th>\n",
       "      <td> 0</td>\n",
       "    </tr>\n",
       "  </tbody>\n",
       "</table>\n",
       "<p>3 rows × 1 columns</p>\n",
       "</div>"
      ],
      "text/plain": [
       "   Label\n",
       "0      0\n",
       "1      0\n",
       "2      0\n",
       "\n",
       "[3 rows x 1 columns]"
      ]
     },
     "execution_count": 19,
     "metadata": {},
     "output_type": "execute_result"
    }
   ],
   "source": [
    "CPCG0184_Y_Val_1[:3]"
   ]
  },
  {
   "cell_type": "code",
   "execution_count": 20,
   "metadata": {
    "collapsed": true
   },
   "outputs": [],
   "source": [
    "CPCG0184_dataframe = pd.concat([CPCG0184_X, CPCG0184_Y_Val_1],axis=1)"
   ]
  },
  {
   "cell_type": "code",
   "execution_count": 21,
   "metadata": {
    "collapsed": false
   },
   "outputs": [
    {
     "data": {
      "text/plain": [
       "(128030, 14)"
      ]
     },
     "execution_count": 21,
     "metadata": {},
     "output_type": "execute_result"
    }
   ],
   "source": [
    "CPCG0184_dataframe.shape"
   ]
  },
  {
   "cell_type": "code",
   "execution_count": 22,
   "metadata": {
    "collapsed": true
   },
   "outputs": [],
   "source": [
    "CPCG0184_dataframe.to_csv('CPCG0184.csv')"
   ]
  },
  {
   "cell_type": "code",
   "execution_count": 23,
   "metadata": {
    "collapsed": true
   },
   "outputs": [],
   "source": [
    "#Now we have variable importance ...lets do analysis"
   ]
  },
  {
   "cell_type": "code",
   "execution_count": 24,
   "metadata": {
    "collapsed": true
   },
   "outputs": [],
   "source": [
    "%load_ext rpy2.ipython"
   ]
  },
  {
   "cell_type": "code",
   "execution_count": 26,
   "metadata": {
    "collapsed": false
   },
   "outputs": [
    {
     "data": {
      "text/plain": [
       "'data.frame':\t128030 obs. of  15 variables:\n",
       " $ X              : int  0 1 2 3 4 5 6 7 8 9 ...\n",
       " $ RefAllele      : int  243 72 170 164 230 199 109 47 71 114 ...\n",
       " $ NonRefAllele   : int  16 48 23 14 22 6 22 25 27 20 ...\n",
       " $ BaseQual       : int  7230 2913 5344 5070 6916 5250 3821 1963 2833 3888 ...\n",
       " $ TumourCoverage : int  286 138 202 224 278 228 147 75 104 146 ...\n",
       " $ NormalCoverage : int  176 88 163 146 205 151 106 45 51 114 ...\n",
       " $ MapQual        : num  9 15 18.5 0 0 0 23 29 46 0 ...\n",
       " $ ReadPosition   : num  39.5 65 56 43.5 49.5 49 66 42 73 52 ...\n",
       " $ Trinucleotide  : Factor w/ 34 levels \"ACA\",\"ACC\",\"ACG\",..: 9 3 1 27 21 28 5 30 34 33 ...\n",
       " $ HomopolymerRate: num  2.7 2.45 2.47 2.44 2.57 ...\n",
       " $ GCcontent      : num  0.597 0.577 0.493 0.602 0.622 ...\n",
       " $ GenomicLocation: Factor w/ 15 levels \"\",\"downstream\",..: 1 5 8 7 8 1 5 5 5 5 ...\n",
       " $ DistanceSNP    : int  39226 38936 35950 35281 34830 34508 1110 45 829 2868 ...\n",
       " $ StrandBias     : num  0.378 0.558 0.525 0.522 0.601 ...\n",
       " $ Label          : num  0 0 0 0 0 0 0 0 0 0 ...\n"
      ]
     },
     "metadata": {},
     "output_type": "display_data"
    }
   ],
   "source": [
    "%%R\n",
    "# Read in the data\n",
    "CPCG0184Frame = read.csv(\"CPCG0184.csv\")\n",
    "str(CPCG0184Frame)"
   ]
  },
  {
   "cell_type": "code",
   "execution_count": 27,
   "metadata": {
    "collapsed": false
   },
   "outputs": [
    {
     "data": {
      "text/plain": [
       "[1] 48\n"
      ]
     },
     "metadata": {},
     "output_type": "display_data"
    }
   ],
   "source": [
    "%%R\n",
    "#sum(is.na(CPCG0183Frame$StrandBias))\n",
    "sum(is.na(CPCG0184Frame$ReadPosition)) "
   ]
  },
  {
   "cell_type": "code",
   "execution_count": 28,
   "metadata": {
    "collapsed": false
   },
   "outputs": [
    {
     "data": {
      "text/plain": [
       "[1] 0\n",
       "[1] 0\n"
      ]
     },
     "metadata": {},
     "output_type": "display_data"
    }
   ],
   "source": [
    "%%R\n",
    "CPCG0184Frame$ReadPosition[is.na(CPCG0184Frame$ReadPosition)] = mean(CPCG0184Frame$ReadPosition, na.rm=TRUE)\n",
    "CPCG0184Frame$StrandBias[is.na(CPCG0184Frame$StrandBias)] = mean(CPCG0184Frame$StrandBias, na.rm=TRUE)\n",
    "\n",
    "print (sum(is.na(CPCG0184Frame$ReadPosition)) )\n",
    "print (sum(is.na(CPCG0184Frame$StrandBias)) )"
   ]
  },
  {
   "cell_type": "code",
   "execution_count": 29,
   "metadata": {
    "collapsed": false
   },
   "outputs": [
    {
     "data": {
      "text/plain": [
       "[1] 0\n"
      ]
     },
     "metadata": {},
     "output_type": "display_data"
    }
   ],
   "source": [
    "%%R\n",
    "sum(is.na(CPCG0184Frame))  #No NA value now"
   ]
  },
  {
   "cell_type": "code",
   "execution_count": 30,
   "metadata": {
    "collapsed": true
   },
   "outputs": [],
   "source": [
    "%%R\n",
    "write.csv(CPCG0184Frame, file = \"CPCG0184_imputed.csv\")  #Cleaned CSV without NA"
   ]
  },
  {
   "cell_type": "code",
   "execution_count": 31,
   "metadata": {
    "collapsed": false
   },
   "outputs": [
    {
     "name": "stderr",
     "output_type": "stream",
     "text": [
      "/usr/local/lib/python2.7/dist-packages/rpy2/robjects/functions.py:106: UserWarning: Loading required package: statmod\n",
      "\n",
      "  res = super(Function, self).__call__(*new_args, **new_kwargs)\n",
      "/usr/local/lib/python2.7/dist-packages/rpy2/robjects/functions.py:106: UserWarning: \n",
      "----------------------------------------------------------------------\n",
      "\n",
      "Your next step is to start H2O:\n",
      "    > h2o.init()\n",
      "\n",
      "For H2O package documentation, ask for help:\n",
      "    > ??h2o\n",
      "\n",
      "After starting H2O, you can use the Web UI at http://localhost:54321\n",
      "For more information visit http://docs.h2o.ai\n",
      "\n",
      "----------------------------------------------------------------------\n",
      "\n",
      "\n",
      "  res = super(Function, self).__call__(*new_args, **new_kwargs)\n",
      "/usr/local/lib/python2.7/dist-packages/rpy2/robjects/functions.py:106: UserWarning: \n",
      "Attaching package: ‘h2o’\n",
      "\n",
      "\n",
      "  res = super(Function, self).__call__(*new_args, **new_kwargs)\n",
      "/usr/local/lib/python2.7/dist-packages/rpy2/robjects/functions.py:106: UserWarning: The following objects are masked from ‘package:stats’:\n",
      "\n",
      "    sd, var\n",
      "\n",
      "\n",
      "  res = super(Function, self).__call__(*new_args, **new_kwargs)\n",
      "/usr/local/lib/python2.7/dist-packages/rpy2/robjects/functions.py:106: UserWarning: The following objects are masked from ‘package:base’:\n",
      "\n",
      "    ||, &&, %*%, apply, as.factor, as.numeric, colnames, colnames<-,\n",
      "    ifelse, %in%, is.character, is.factor, is.numeric, log, log10,\n",
      "    log1p, log2, round, signif, trunc\n",
      "\n",
      "\n",
      "  res = super(Function, self).__call__(*new_args, **new_kwargs)\n"
     ]
    },
    {
     "data": {
      "text/plain": [
       " Connection successful!\n",
       "\n",
       "R is connected to the H2O cluster: \n",
       "    H2O cluster uptime:         27 minutes 28 seconds \n",
       "    H2O cluster version:        3.9.1.3435 \n",
       "    H2O cluster name:           H2O_started_from_R_rbhat_szm488 \n",
       "    H2O cluster total nodes:    1 \n",
       "    H2O cluster total memory:   26.58 GB \n",
       "    H2O cluster total cores:    56 \n",
       "    H2O cluster allowed cores:  2 \n",
       "    H2O cluster healthy:        TRUE \n",
       "    H2O Connection ip:          localhost \n",
       "    H2O Connection port:        54321 \n",
       "    H2O Connection proxy:       NA \n",
       "    R Version:                  R version 3.3.0 beta (2016-03-30 r70404) \n",
       "\n"
      ]
     },
     "metadata": {},
     "output_type": "display_data"
    }
   ],
   "source": [
    "%%R\n",
    "library(h2o)\n",
    "localH2O = h2o.init(ip = \"localhost\", port = 54321, startH2O = TRUE,min_mem_size = \"3g\")"
   ]
  },
  {
   "cell_type": "code",
   "execution_count": 32,
   "metadata": {
    "collapsed": false
   },
   "outputs": [
    {
     "data": {
      "text/plain": [
       "\r",
       "  |                                                                            \r",
       "  |                                                                      |   0%\r",
       "  |                                                                            \r",
       "  |====                                                                  |   5%\r",
       "  |                                                                            \r",
       "  |======================================================================| 100%\n",
       "\r",
       "  |                                                                            \r",
       "  |                                                                      |   0%\r",
       "  |                                                                            \r",
       "  |======================================================================| 100%\n"
      ]
     },
     "metadata": {},
     "output_type": "display_data"
    }
   ],
   "source": [
    "%%R\n",
    "## Import CSV as H2O:\n",
    "csvPath = \"/home/rbhat/Workspace/S3Lab_Projects/SMC-MetaChallange/CPCG0184_imputed.csv\"\n",
    "CPCG0184.hex          = h2o.importFile(path = csvPath, destination_frame = \"CPCG0184.hex\") \n",
    "train                 = as.data.frame(CPCG0184.hex)\n",
    "\n",
    "#train  = subset(train,C1<20000)\n",
    "\n",
    "train$Trinucleotide   = as.factor(train$Trinucleotide)\n",
    "train$GenomicLocation = as.factor(train$GenomicLocation)\n",
    "train$Label           = as.factor(train$Label)\n",
    "\n",
    "train_h2o             = as.h2o(train)"
   ]
  },
  {
   "cell_type": "code",
   "execution_count": 33,
   "metadata": {
    "collapsed": false
   },
   "outputs": [
    {
     "data": {
      "text/plain": [
       "\r",
       "  |                                                                            \r",
       "  |                                                                      |   0%\r",
       "  |                                                                            \r",
       "  |=                                                                     |   2%\r",
       "  |                                                                            \r",
       "  |====                                                                  |   6%\r",
       "  |                                                                            \r",
       "  |=========                                                             |  12%\r",
       "  |                                                                            \r",
       "  |==============                                                        |  20%\r",
       "  |                                                                            \r",
       "  |=================                                                     |  25%\r",
       "  |                                                                            \r",
       "  |=====================                                                 |  30%\r",
       "  |                                                                            \r",
       "  |==========================                                            |  37%\r",
       "  |                                                                            \r",
       "  |===============================                                       |  44%\r",
       "  |                                                                            \r",
       "  |====================================                                  |  52%\r",
       "  |                                                                            \r",
       "  |========================================                              |  58%\r",
       "  |                                                                            \r",
       "  |=============================================                         |  64%\r",
       "  |                                                                            \r",
       "  |==================================================                    |  72%\r",
       "  |                                                                            \r",
       "  |=======================================================               |  78%\r",
       "  |                                                                            \r",
       "  |===========================================================           |  84%\r",
       "  |                                                                            \r",
       "  |=================================================================     |  92%\r",
       "  |                                                                            \r",
       "  |====================================================================  |  97%\r",
       "  |                                                                            \r",
       "  |======================================================================| 100%\n"
      ]
     },
     "metadata": {},
     "output_type": "display_data"
    }
   ],
   "source": [
    "%%R\n",
    "#Training a deep learning model:---------------------------------------------------------#\n",
    "model <- h2o.deeplearning( x = 3:15, # column numbers for predictors\n",
    "                           y = 16,            # column number for label\n",
    "                           training_frame = train_h2o,\n",
    "                           activation = \"RectifierWithDropout\", \n",
    "                           input_dropout_ratio = 0.2,\n",
    "                           hidden_dropout_ratios = c(0.5,0.5),\n",
    "                           balance_classes = TRUE, \n",
    "                           hidden = c(10,8),  ## two hidden layers\n",
    "                           epochs = 50,\n",
    "                           variable_importances = T)"
   ]
  },
  {
   "cell_type": "code",
   "execution_count": 34,
   "metadata": {
    "collapsed": false
   },
   "outputs": [
    {
     "data": {
      "text/plain": [
       "Variable Importances: \n",
       "        variable relative_importance scaled_importance percentage\n",
       "1   NonRefAllele            1.000000          1.000000   0.308595\n",
       "2 NormalCoverage            0.151707          0.151707   0.046816\n",
       "3       BaseQual            0.148658          0.148658   0.045875\n",
       "4      RefAllele            0.133894          0.133894   0.041319\n",
       "5 TumourCoverage            0.111612          0.111612   0.034443\n",
       "\n",
       "---\n",
       "                     variable relative_importance scaled_importance percentage\n",
       "56                  GCcontent            0.009834          0.009834   0.003035\n",
       "57     GenomicLocation.exonic            0.007613          0.007613   0.002349\n",
       "58          Trinucleotide.ATT            0.007398          0.007398   0.002283\n",
       "59                 StrandBias            0.006075          0.006075   0.001875\n",
       "60 GenomicLocation.intergenic            0.005877          0.005877   0.001814\n",
       "61  Trinucleotide.missing(NA)            0.000000          0.000000   0.000000\n"
      ]
     },
     "metadata": {},
     "output_type": "display_data"
    }
   ],
   "source": [
    "%%R\n",
    "var_importance = h2o.varimp(model)\n",
    "#print(var_importance)\n",
    "h2o.varimp(model)"
   ]
  },
  {
   "cell_type": "code",
   "execution_count": 35,
   "metadata": {
    "collapsed": true
   },
   "outputs": [],
   "source": [
    "%%R\n",
    "write.table(var_importance, file=\"CPCG0184_variable_importance.csv\")"
   ]
  },
  {
   "cell_type": "code",
   "execution_count": 36,
   "metadata": {
    "collapsed": true
   },
   "outputs": [],
   "source": [
    "var_importance = pd.read_csv(open('CPCG0184_variable_importance.csv','r'),sep=' ')\n",
    "#pd.read_csv('CPCG0100_variable_importance.csv')"
   ]
  },
  {
   "cell_type": "code",
   "execution_count": 37,
   "metadata": {
    "collapsed": false
   },
   "outputs": [
    {
     "data": {
      "text/html": [
       "<div style=\"max-height:1000px;max-width:1500px;overflow:auto;\">\n",
       "<table border=\"1\" class=\"dataframe\">\n",
       "  <thead>\n",
       "    <tr style=\"text-align: right;\">\n",
       "      <th></th>\n",
       "      <th>variable</th>\n",
       "      <th>relative_importance</th>\n",
       "      <th>scaled_importance</th>\n",
       "      <th>percentage</th>\n",
       "    </tr>\n",
       "  </thead>\n",
       "  <tbody>\n",
       "    <tr>\n",
       "      <th>1</th>\n",
       "      <td>   NonRefAllele</td>\n",
       "      <td> 1.000000</td>\n",
       "      <td> 1.000000</td>\n",
       "      <td> 0.308595</td>\n",
       "    </tr>\n",
       "    <tr>\n",
       "      <th>2</th>\n",
       "      <td> NormalCoverage</td>\n",
       "      <td> 0.151707</td>\n",
       "      <td> 0.151707</td>\n",
       "      <td> 0.046816</td>\n",
       "    </tr>\n",
       "    <tr>\n",
       "      <th>3</th>\n",
       "      <td>       BaseQual</td>\n",
       "      <td> 0.148658</td>\n",
       "      <td> 0.148658</td>\n",
       "      <td> 0.045875</td>\n",
       "    </tr>\n",
       "    <tr>\n",
       "      <th>4</th>\n",
       "      <td>      RefAllele</td>\n",
       "      <td> 0.133894</td>\n",
       "      <td> 0.133894</td>\n",
       "      <td> 0.041319</td>\n",
       "    </tr>\n",
       "    <tr>\n",
       "      <th>5</th>\n",
       "      <td> TumourCoverage</td>\n",
       "      <td> 0.111612</td>\n",
       "      <td> 0.111612</td>\n",
       "      <td> 0.034443</td>\n",
       "    </tr>\n",
       "  </tbody>\n",
       "</table>\n",
       "<p>5 rows × 4 columns</p>\n",
       "</div>"
      ],
      "text/plain": [
       "         variable  relative_importance  scaled_importance  percentage\n",
       "1    NonRefAllele             1.000000           1.000000    0.308595\n",
       "2  NormalCoverage             0.151707           0.151707    0.046816\n",
       "3        BaseQual             0.148658           0.148658    0.045875\n",
       "4       RefAllele             0.133894           0.133894    0.041319\n",
       "5  TumourCoverage             0.111612           0.111612    0.034443\n",
       "\n",
       "[5 rows x 4 columns]"
      ]
     },
     "execution_count": 37,
     "metadata": {},
     "output_type": "execute_result"
    }
   ],
   "source": [
    "var_importance[:5]"
   ]
  },
  {
   "cell_type": "code",
   "execution_count": 38,
   "metadata": {
    "collapsed": false
   },
   "outputs": [
    {
     "data": {
      "text/html": [
       "<div style=\"max-height:1000px;max-width:1500px;overflow:auto;\">\n",
       "<table border=\"1\" class=\"dataframe\">\n",
       "  <thead>\n",
       "    <tr style=\"text-align: right;\">\n",
       "      <th></th>\n",
       "      <th>CHROM</th>\n",
       "      <th>POS</th>\n",
       "      <th>RefAllele</th>\n",
       "      <th>NonRefAllele</th>\n",
       "      <th>BaseQual</th>\n",
       "      <th>TumourCoverage</th>\n",
       "      <th>NormalCoverage</th>\n",
       "      <th>MapQual</th>\n",
       "      <th>ReadPosition</th>\n",
       "      <th>Trinucleotide</th>\n",
       "      <th>HomopolymerRate</th>\n",
       "      <th>GCcontent</th>\n",
       "      <th>GenomicLocation</th>\n",
       "      <th>DistanceSNP</th>\n",
       "      <th>StrandBias</th>\n",
       "    </tr>\n",
       "  </thead>\n",
       "  <tbody>\n",
       "    <tr>\n",
       "      <th>0</th>\n",
       "      <td> chr1</td>\n",
       "      <td> 13012</td>\n",
       "      <td> 243</td>\n",
       "      <td> 16</td>\n",
       "      <td> 7230</td>\n",
       "      <td> 286</td>\n",
       "      <td> 176</td>\n",
       "      <td>  9.0</td>\n",
       "      <td> 39.5</td>\n",
       "      <td> CCA</td>\n",
       "      <td> 2.697842</td>\n",
       "      <td> 0.597015</td>\n",
       "      <td>            NaN</td>\n",
       "      <td> 39226</td>\n",
       "      <td> 0.377622</td>\n",
       "    </tr>\n",
       "    <tr>\n",
       "      <th>1</th>\n",
       "      <td> chr1</td>\n",
       "      <td> 13302</td>\n",
       "      <td>  72</td>\n",
       "      <td> 48</td>\n",
       "      <td> 2913</td>\n",
       "      <td> 138</td>\n",
       "      <td>  88</td>\n",
       "      <td> 15.0</td>\n",
       "      <td> 65.0</td>\n",
       "      <td> ACG</td>\n",
       "      <td> 2.453901</td>\n",
       "      <td> 0.577114</td>\n",
       "      <td>     intergenic</td>\n",
       "      <td> 38936</td>\n",
       "      <td> 0.557971</td>\n",
       "    </tr>\n",
       "    <tr>\n",
       "      <th>2</th>\n",
       "      <td> chr1</td>\n",
       "      <td> 16288</td>\n",
       "      <td> 170</td>\n",
       "      <td> 23</td>\n",
       "      <td> 5344</td>\n",
       "      <td> 202</td>\n",
       "      <td> 163</td>\n",
       "      <td> 18.5</td>\n",
       "      <td> 56.0</td>\n",
       "      <td> ACA</td>\n",
       "      <td> 2.468966</td>\n",
       "      <td> 0.492537</td>\n",
       "      <td> ncRNA_intronic</td>\n",
       "      <td> 35950</td>\n",
       "      <td> 0.524752</td>\n",
       "    </tr>\n",
       "    <tr>\n",
       "      <th>3</th>\n",
       "      <td> chr1</td>\n",
       "      <td> 16957</td>\n",
       "      <td> 164</td>\n",
       "      <td> 14</td>\n",
       "      <td> 5070</td>\n",
       "      <td> 224</td>\n",
       "      <td> 146</td>\n",
       "      <td>  0.0</td>\n",
       "      <td> 43.5</td>\n",
       "      <td> TCA</td>\n",
       "      <td> 2.443662</td>\n",
       "      <td> 0.601990</td>\n",
       "      <td>   ncRNA_exonic</td>\n",
       "      <td> 35281</td>\n",
       "      <td> 0.522321</td>\n",
       "    </tr>\n",
       "    <tr>\n",
       "      <th>4</th>\n",
       "      <td> chr1</td>\n",
       "      <td> 17408</td>\n",
       "      <td> 230</td>\n",
       "      <td> 22</td>\n",
       "      <td> 6916</td>\n",
       "      <td> 278</td>\n",
       "      <td> 205</td>\n",
       "      <td>  0.0</td>\n",
       "      <td> 49.5</td>\n",
       "      <td> GCT</td>\n",
       "      <td> 2.568493</td>\n",
       "      <td> 0.621891</td>\n",
       "      <td> ncRNA_intronic</td>\n",
       "      <td> 34830</td>\n",
       "      <td> 0.600719</td>\n",
       "    </tr>\n",
       "  </tbody>\n",
       "</table>\n",
       "<p>5 rows × 15 columns</p>\n",
       "</div>"
      ],
      "text/plain": [
       "  CHROM    POS  RefAllele  NonRefAllele  BaseQual  TumourCoverage  \\\n",
       "0  chr1  13012        243            16      7230             286   \n",
       "1  chr1  13302         72            48      2913             138   \n",
       "2  chr1  16288        170            23      5344             202   \n",
       "3  chr1  16957        164            14      5070             224   \n",
       "4  chr1  17408        230            22      6916             278   \n",
       "\n",
       "   NormalCoverage  MapQual  ReadPosition Trinucleotide  HomopolymerRate  \\\n",
       "0             176      9.0          39.5           CCA         2.697842   \n",
       "1              88     15.0          65.0           ACG         2.453901   \n",
       "2             163     18.5          56.0           ACA         2.468966   \n",
       "3             146      0.0          43.5           TCA         2.443662   \n",
       "4             205      0.0          49.5           GCT         2.568493   \n",
       "\n",
       "   GCcontent GenomicLocation  DistanceSNP  StrandBias  \n",
       "0   0.597015             NaN        39226    0.377622  \n",
       "1   0.577114      intergenic        38936    0.557971  \n",
       "2   0.492537  ncRNA_intronic        35950    0.524752  \n",
       "3   0.601990    ncRNA_exonic        35281    0.522321  \n",
       "4   0.621891  ncRNA_intronic        34830    0.600719  \n",
       "\n",
       "[5 rows x 15 columns]"
      ]
     },
     "execution_count": 38,
     "metadata": {},
     "output_type": "execute_result"
    }
   ],
   "source": [
    "GenomicFeatures_CPCG0184[:5]"
   ]
  },
  {
   "cell_type": "code",
   "execution_count": 39,
   "metadata": {
    "collapsed": false
   },
   "outputs": [
    {
     "data": {
      "text/plain": [
       "{'BaseQual': 0.148658066987991,\n",
       " 'DistanceSNP': 0.039582252502441399,\n",
       " 'GCcontent': 0.0098344003781676292,\n",
       " 'GenomicLocation.UTR3': 0.050369914621114703,\n",
       " 'GenomicLocation.UTR5': 0.058408152312040301,\n",
       " 'GenomicLocation.downstream': 0.032754763960838297,\n",
       " 'GenomicLocation.exonic': 0.0076126665808260406,\n",
       " 'GenomicLocation.exonic;splicing': 0.056039232760667801,\n",
       " 'GenomicLocation.intergenic': 0.0058770123869180705,\n",
       " 'GenomicLocation.intronic': 0.010472397319972499,\n",
       " 'GenomicLocation.missing(NA)': 0.017932562157511701,\n",
       " 'GenomicLocation.ncRNA_UTR3': 0.038904733955860103,\n",
       " 'GenomicLocation.ncRNA_exonic': 0.079050756990909604,\n",
       " 'GenomicLocation.ncRNA_intronic': 0.022489931434392901,\n",
       " 'GenomicLocation.ncRNA_splicing': 0.078374296426773099,\n",
       " 'GenomicLocation.splicing': 0.0400108098983765,\n",
       " 'GenomicLocation.upstream': 0.0144483223557472,\n",
       " 'GenomicLocation.upstream;downstream': 0.066543936729431194,\n",
       " 'HomopolymerRate': 0.022859552875161199,\n",
       " 'MapQual': 0.085189744830131503,\n",
       " 'NonRefAllele': 1.0,\n",
       " 'NormalCoverage': 0.15170685946941401,\n",
       " 'ReadPosition': 0.020546700805425599,\n",
       " 'RefAllele': 0.13389368355274198,\n",
       " 'StrandBias': 0.0060752788558602298,\n",
       " 'Trinucleotide.ACA': 0.022310309112072001,\n",
       " 'Trinucleotide.ACC': 0.0185285266488791,\n",
       " 'Trinucleotide.ACG': 0.051835898309946102,\n",
       " 'Trinucleotide.ACT': 0.015607089735567599,\n",
       " 'Trinucleotide.ATA': 0.019184267148375501,\n",
       " 'Trinucleotide.ATC': 0.020939612761139901,\n",
       " 'Trinucleotide.ATG': 0.017420260235667201,\n",
       " 'Trinucleotide.ATT': 0.0073981801979243799,\n",
       " 'Trinucleotide.CCA': 0.0223111938685179,\n",
       " 'Trinucleotide.CCC': 0.0110374642536044,\n",
       " 'Trinucleotide.CCG': 0.020375691354274701,\n",
       " 'Trinucleotide.CCT': 0.025276670232415199,\n",
       " 'Trinucleotide.CNN': 0.056561287492513698,\n",
       " 'Trinucleotide.CTA': 0.0107840774580836,\n",
       " 'Trinucleotide.CTC': 0.015575409866869399,\n",
       " 'Trinucleotide.CTG': 0.018604496493935599,\n",
       " 'Trinucleotide.CTT': 0.020209364593028998,\n",
       " 'Trinucleotide.GCA': 0.020745977759361298,\n",
       " 'Trinucleotide.GCC': 0.0221827290952206,\n",
       " 'Trinucleotide.GCG': 0.040737289935350397,\n",
       " 'Trinucleotide.GCT': 0.035196181386709199,\n",
       " 'Trinucleotide.GTA': 0.027333417907357199,\n",
       " 'Trinucleotide.GTC': 0.044600464403629303,\n",
       " 'Trinucleotide.GTG': 0.065309181809425396,\n",
       " 'Trinucleotide.GTT': 0.0145508022978902,\n",
       " 'Trinucleotide.NNG': 0.049293912947177901,\n",
       " 'Trinucleotide.TCA': 0.010265104472637201,\n",
       " 'Trinucleotide.TCC': 0.021944455802440602,\n",
       " 'Trinucleotide.TCG': 0.0460861772298813,\n",
       " 'Trinucleotide.TCT': 0.043543219566345201,\n",
       " 'Trinucleotide.TTA': 0.024094553664326699,\n",
       " 'Trinucleotide.TTC': 0.0120595581829548,\n",
       " 'Trinucleotide.TTG': 0.054843816906213802,\n",
       " 'Trinucleotide.TTT': 0.0244986359030008,\n",
       " 'Trinucleotide.missing(NA)': 0.0,\n",
       " 'TumourCoverage': 0.111611686646938}"
      ]
     },
     "execution_count": 39,
     "metadata": {},
     "output_type": "execute_result"
    }
   ],
   "source": [
    "var_imp_dict = {}\n",
    "\n",
    "for i in range(var_importance.shape[0]):\n",
    "    var_imp_dict[var_importance.iloc[i,0]] = var_importance.iloc[i,1]\n",
    "\n",
    "var_imp_dict"
   ]
  },
  {
   "cell_type": "code",
   "execution_count": 40,
   "metadata": {
    "collapsed": false
   },
   "outputs": [],
   "source": [
    "noOfSample = GenomicFeatures_CPCG0184.shape[0]\n",
    "\n",
    "CPCG0184_Dict = {}\n",
    "\n",
    "for i in range(noOfSample):\n",
    "    \n",
    "    pos = GenomicFeatures_CPCG0184.iloc[i,1] #gets the pos value\n",
    "    \n",
    "    RefAllele      = GenomicFeatures_CPCG0184.iloc[i,2]*var_imp_dict['RefAllele']\n",
    "    NonRefAllele   = GenomicFeatures_CPCG0184.iloc[i,3]*var_imp_dict['NonRefAllele']\n",
    "    BaseQual       = GenomicFeatures_CPCG0184.iloc[i,4]*var_imp_dict['BaseQual']\n",
    "    TumourCoverage = GenomicFeatures_CPCG0184.iloc[i,5]*var_imp_dict['TumourCoverage']\n",
    "    NormalCoverage = GenomicFeatures_CPCG0184.iloc[i,6]*var_imp_dict['NormalCoverage']\n",
    "    MapQual        = GenomicFeatures_CPCG0184.iloc[i,7]*var_imp_dict['MapQual']\n",
    "    ReadPosition   = GenomicFeatures_CPCG0184.iloc[i,8]*var_imp_dict['ReadPosition']\n",
    "    \n",
    "    Trinucleotide  = 0\n",
    "    if isinstance(GenomicFeatures_CPCG0184.iloc[i,9], str):\n",
    "        Trinucleotide  = var_imp_dict['Trinucleotide.'+str(GenomicFeatures_CPCG0184.iloc[i,9])]\n",
    "    HomopolymerRate= GenomicFeatures_CPCG0184.iloc[i,10]*var_imp_dict['HomopolymerRate']\n",
    "    GCcontent      = GenomicFeatures_CPCG0184.iloc[i,11]*var_imp_dict['GCcontent']\n",
    "    \n",
    "    GenomicLocation = 0\n",
    "    if isinstance(GenomicFeatures_CPCG0184.iloc[i,12], str):\n",
    "        GenomicLocation= var_imp_dict['GenomicLocation.'+str(GenomicFeatures_CPCG0184.iloc[i,12])]\n",
    "    DistanceSNP    = GenomicFeatures_CPCG0184.iloc[i,13]*var_imp_dict['DistanceSNP']\n",
    "    StrandBias     = GenomicFeatures_CPCG0184.iloc[i,14]*var_imp_dict['StrandBias']\n",
    "    \n",
    "    #print 'RefAllele=',RefAllele,' NonRefAllele=',NonRefAllele,' BaseQual=',BaseQual,' TumourCoverage=',TumourCoverage\n",
    "    #print 'NormalCoverage=',NormalCoverage,' MapQual=',MapQual,' ReadPosition=',ReadPosition,' Trinucleotide=',Trinucleotide\n",
    "    #print 'HomopolymerRate=',HomopolymerRate,' GCcontent=',GCcontent,' GenomicLocation=',GenomicLocation,' DistanceSNP=',DistanceSNP\n",
    "    #print 'StrandBias=',StrandBias\n",
    "    CPCG0184_Dict[pos] = RefAllele+NonRefAllele+BaseQual+TumourCoverage+NormalCoverage+MapQual+ReadPosition+Trinucleotide+ \\\n",
    "                         HomopolymerRate+GCcontent+GenomicLocation+DistanceSNP+StrandBias"
   ]
  },
  {
   "cell_type": "code",
   "execution_count": 41,
   "metadata": {
    "collapsed": true
   },
   "outputs": [],
   "source": [
    "#Sorting dictionary\n",
    "CPCG0184_Dict1 = [(k,v) for v,k in sorted([(v,k) for k,v in CPCG0184_Dict.items()],reverse=True)]"
   ]
  },
  {
   "cell_type": "code",
   "execution_count": 42,
   "metadata": {
    "collapsed": true
   },
   "outputs": [],
   "source": [
    "CPCG0184_Dict_Frame = pd.DataFrame(CPCG0184_Dict1, columns=['POS', 'Value'])"
   ]
  },
  {
   "cell_type": "code",
   "execution_count": 43,
   "metadata": {
    "collapsed": true
   },
   "outputs": [],
   "source": [
    "CPCG0184_Dict_Frame.to_csv(\"CPCG0184_Dict_Frame.csv\")"
   ]
  },
  {
   "cell_type": "code",
   "execution_count": 23,
   "metadata": {
    "collapsed": true
   },
   "outputs": [],
   "source": [
    "CPCG0184_Dict_Frame = pd.read_csv(\"CPCG0184_Dict_Frame.csv\")"
   ]
  },
  {
   "cell_type": "code",
   "execution_count": 24,
   "metadata": {
    "collapsed": false
   },
   "outputs": [
    {
     "data": {
      "text/html": [
       "<div style=\"max-height:1000px;max-width:1500px;overflow:auto;\">\n",
       "<table border=\"1\" class=\"dataframe\">\n",
       "  <thead>\n",
       "    <tr style=\"text-align: right;\">\n",
       "      <th></th>\n",
       "      <th>Unnamed: 0</th>\n",
       "      <th>POS</th>\n",
       "      <th>Value</th>\n",
       "    </tr>\n",
       "  </thead>\n",
       "  <tbody>\n",
       "    <tr>\n",
       "      <th>0</th>\n",
       "      <td> 0</td>\n",
       "      <td>    63742</td>\n",
       "      <td> 104364.635490</td>\n",
       "    </tr>\n",
       "    <tr>\n",
       "      <th>1</th>\n",
       "      <td> 1</td>\n",
       "      <td>   282067</td>\n",
       "      <td>  95738.000337</td>\n",
       "    </tr>\n",
       "    <tr>\n",
       "      <th>2</th>\n",
       "      <td> 2</td>\n",
       "      <td>   369223</td>\n",
       "      <td>  92298.760862</td>\n",
       "    </tr>\n",
       "    <tr>\n",
       "      <th>3</th>\n",
       "      <td> 3</td>\n",
       "      <td>   393602</td>\n",
       "      <td>  91334.798245</td>\n",
       "    </tr>\n",
       "    <tr>\n",
       "      <th>4</th>\n",
       "      <td> 4</td>\n",
       "      <td>   397722</td>\n",
       "      <td>  91146.633246</td>\n",
       "    </tr>\n",
       "    <tr>\n",
       "      <th>5</th>\n",
       "      <td> 5</td>\n",
       "      <td>   590877</td>\n",
       "      <td>  83513.715736</td>\n",
       "    </tr>\n",
       "    <tr>\n",
       "      <th>6</th>\n",
       "      <td> 6</td>\n",
       "      <td>   617679</td>\n",
       "      <td>  82439.746316</td>\n",
       "    </tr>\n",
       "    <tr>\n",
       "      <th>7</th>\n",
       "      <td> 7</td>\n",
       "      <td>   638533</td>\n",
       "      <td>  81710.718617</td>\n",
       "    </tr>\n",
       "    <tr>\n",
       "      <th>8</th>\n",
       "      <td> 8</td>\n",
       "      <td>   811178</td>\n",
       "      <td>  74782.592182</td>\n",
       "    </tr>\n",
       "    <tr>\n",
       "      <th>9</th>\n",
       "      <td> 9</td>\n",
       "      <td> 42597791</td>\n",
       "      <td>  65432.010300</td>\n",
       "    </tr>\n",
       "  </tbody>\n",
       "</table>\n",
       "<p>10 rows × 3 columns</p>\n",
       "</div>"
      ],
      "text/plain": [
       "   Unnamed: 0       POS          Value\n",
       "0           0     63742  104364.635490\n",
       "1           1    282067   95738.000337\n",
       "2           2    369223   92298.760862\n",
       "3           3    393602   91334.798245\n",
       "4           4    397722   91146.633246\n",
       "5           5    590877   83513.715736\n",
       "6           6    617679   82439.746316\n",
       "7           7    638533   81710.718617\n",
       "8           8    811178   74782.592182\n",
       "9           9  42597791   65432.010300\n",
       "\n",
       "[10 rows x 3 columns]"
      ]
     },
     "execution_count": 24,
     "metadata": {},
     "output_type": "execute_result"
    }
   ],
   "source": [
    "CPCG0184_Dict_Frame[:10]"
   ]
  },
  {
   "cell_type": "code",
   "execution_count": 25,
   "metadata": {
    "collapsed": true
   },
   "outputs": [],
   "source": [
    "GenomicFeatures_CPCG0184_1 = pd.concat([CPCG0184.iloc[:,0:16], CPCG0184_Y_Val_1],axis=1)"
   ]
  },
  {
   "cell_type": "code",
   "execution_count": 26,
   "metadata": {
    "collapsed": false
   },
   "outputs": [
    {
     "name": "stdout",
     "output_type": "stream",
     "text": [
      "[   63742   282067   369223   393602   397722   590877   617679   638533\n",
      "   811178 42597791]\n"
     ]
    }
   ],
   "source": [
    "rows = CPCG0184_Dict_Frame['POS'][:10].values\n",
    "print rows\n",
    "GenomicFeatures_CPCG0184_Top10 = GenomicFeatures_CPCG0184_1.loc[GenomicFeatures_CPCG0184_1['POS_x'].isin(rows)]"
   ]
  },
  {
   "cell_type": "code",
   "execution_count": 28,
   "metadata": {
    "collapsed": false
   },
   "outputs": [
    {
     "data": {
      "text/html": [
       "<div style=\"max-height:1000px;max-width:1500px;overflow:auto;\">\n",
       "<table border=\"1\" class=\"dataframe\">\n",
       "  <thead>\n",
       "    <tr style=\"text-align: right;\">\n",
       "      <th></th>\n",
       "      <th>CHROM</th>\n",
       "      <th>POS_x</th>\n",
       "      <th>RefAllele</th>\n",
       "      <th>NonRefAllele</th>\n",
       "      <th>BaseQual</th>\n",
       "      <th>TumourCoverage</th>\n",
       "      <th>NormalCoverage</th>\n",
       "      <th>MapQual</th>\n",
       "      <th>ReadPosition</th>\n",
       "      <th>Trinucleotide</th>\n",
       "      <th>HomopolymerRate</th>\n",
       "      <th>GCcontent</th>\n",
       "      <th>GenomicLocation</th>\n",
       "      <th>DistanceSNP</th>\n",
       "      <th>StrandBias</th>\n",
       "      <th>POS_y</th>\n",
       "      <th>Label</th>\n",
       "    </tr>\n",
       "  </thead>\n",
       "  <tbody>\n",
       "    <tr>\n",
       "      <th>12856 </th>\n",
       "      <td> chr10</td>\n",
       "      <td> 42597791</td>\n",
       "      <td> 5653</td>\n",
       "      <td> 2360</td>\n",
       "      <td> 236366</td>\n",
       "      <td> 107911</td>\n",
       "      <td> 97464</td>\n",
       "      <td> 15</td>\n",
       "      <td> 26.0</td>\n",
       "      <td> ATT</td>\n",
       "      <td> 2.186207</td>\n",
       "      <td> 0.363184</td>\n",
       "      <td>        NaN</td>\n",
       "      <td>    8727</td>\n",
       "      <td> 0.535339</td>\n",
       "      <td> 42597790</td>\n",
       "      <td> 0</td>\n",
       "    </tr>\n",
       "    <tr>\n",
       "      <th>119895</th>\n",
       "      <td>  chrX</td>\n",
       "      <td>    63742</td>\n",
       "      <td>    3</td>\n",
       "      <td>    0</td>\n",
       "      <td>     96</td>\n",
       "      <td>      5</td>\n",
       "      <td>     1</td>\n",
       "      <td>  0</td>\n",
       "      <td> 66.0</td>\n",
       "      <td> CCT</td>\n",
       "      <td> 3.967213</td>\n",
       "      <td> 0.701493</td>\n",
       "      <td> intergenic</td>\n",
       "      <td> 2636226</td>\n",
       "      <td> 0.800000</td>\n",
       "      <td>    63741</td>\n",
       "      <td> 0</td>\n",
       "    </tr>\n",
       "    <tr>\n",
       "      <th>119904</th>\n",
       "      <td>  chrX</td>\n",
       "      <td>   282067</td>\n",
       "      <td>    9</td>\n",
       "      <td>    4</td>\n",
       "      <td>    143</td>\n",
       "      <td>     26</td>\n",
       "      <td>    13</td>\n",
       "      <td>  0</td>\n",
       "      <td> 24.5</td>\n",
       "      <td> TTT</td>\n",
       "      <td> 5.511811</td>\n",
       "      <td> 0.512438</td>\n",
       "      <td> downstream</td>\n",
       "      <td> 2417901</td>\n",
       "      <td> 0.576923</td>\n",
       "      <td>   282066</td>\n",
       "      <td> 0</td>\n",
       "    </tr>\n",
       "    <tr>\n",
       "      <th>119911</th>\n",
       "      <td>  chrX</td>\n",
       "      <td>   369223</td>\n",
       "      <td>    8</td>\n",
       "      <td>    3</td>\n",
       "      <td>    225</td>\n",
       "      <td>     17</td>\n",
       "      <td>    11</td>\n",
       "      <td>  0</td>\n",
       "      <td> 71.0</td>\n",
       "      <td> CCG</td>\n",
       "      <td> 1.955975</td>\n",
       "      <td> 0.582090</td>\n",
       "      <td> intergenic</td>\n",
       "      <td> 2330745</td>\n",
       "      <td> 0.470588</td>\n",
       "      <td>   369222</td>\n",
       "      <td> 0</td>\n",
       "    </tr>\n",
       "    <tr>\n",
       "      <th>119912</th>\n",
       "      <td>  chrX</td>\n",
       "      <td>   393602</td>\n",
       "      <td>    9</td>\n",
       "      <td>    1</td>\n",
       "      <td>    257</td>\n",
       "      <td>     14</td>\n",
       "      <td>     6</td>\n",
       "      <td>  0</td>\n",
       "      <td> 31.5</td>\n",
       "      <td> GCG</td>\n",
       "      <td> 2.197368</td>\n",
       "      <td> 0.646766</td>\n",
       "      <td> intergenic</td>\n",
       "      <td> 2306366</td>\n",
       "      <td> 0.571429</td>\n",
       "      <td>   393601</td>\n",
       "      <td> 0</td>\n",
       "    </tr>\n",
       "    <tr>\n",
       "      <th>119913</th>\n",
       "      <td>  chrX</td>\n",
       "      <td>   397722</td>\n",
       "      <td>    3</td>\n",
       "      <td>    1</td>\n",
       "      <td>     96</td>\n",
       "      <td>      6</td>\n",
       "      <td>     2</td>\n",
       "      <td>  0</td>\n",
       "      <td> 89.5</td>\n",
       "      <td> ACA</td>\n",
       "      <td> 1.262032</td>\n",
       "      <td> 0.487562</td>\n",
       "      <td> intergenic</td>\n",
       "      <td> 2302246</td>\n",
       "      <td> 0.666667</td>\n",
       "      <td>   397721</td>\n",
       "      <td> 0</td>\n",
       "    </tr>\n",
       "    <tr>\n",
       "      <th>119918</th>\n",
       "      <td>  chrX</td>\n",
       "      <td>   590877</td>\n",
       "      <td>   11</td>\n",
       "      <td>    1</td>\n",
       "      <td>    163</td>\n",
       "      <td>     17</td>\n",
       "      <td>     8</td>\n",
       "      <td>  0</td>\n",
       "      <td> 58.0</td>\n",
       "      <td> GCG</td>\n",
       "      <td> 3.277778</td>\n",
       "      <td> 0.676617</td>\n",
       "      <td>   intronic</td>\n",
       "      <td> 2109091</td>\n",
       "      <td> 0.588235</td>\n",
       "      <td>   590876</td>\n",
       "      <td> 0</td>\n",
       "    </tr>\n",
       "    <tr>\n",
       "      <th>119919</th>\n",
       "      <td>  chrX</td>\n",
       "      <td>   617679</td>\n",
       "      <td>    5</td>\n",
       "      <td>    1</td>\n",
       "      <td>     86</td>\n",
       "      <td>     14</td>\n",
       "      <td>     2</td>\n",
       "      <td>  0</td>\n",
       "      <td> 73.0</td>\n",
       "      <td> GCT</td>\n",
       "      <td> 7.943089</td>\n",
       "      <td> 0.457711</td>\n",
       "      <td>   intronic</td>\n",
       "      <td> 2082289</td>\n",
       "      <td> 0.928571</td>\n",
       "      <td>   617678</td>\n",
       "      <td> 0</td>\n",
       "    </tr>\n",
       "    <tr>\n",
       "      <th>119920</th>\n",
       "      <td>  chrX</td>\n",
       "      <td>   638533</td>\n",
       "      <td>   24</td>\n",
       "      <td>    2</td>\n",
       "      <td>    689</td>\n",
       "      <td>     30</td>\n",
       "      <td>    15</td>\n",
       "      <td>  0</td>\n",
       "      <td> 54.5</td>\n",
       "      <td> CCC</td>\n",
       "      <td> 3.037313</td>\n",
       "      <td> 0.542289</td>\n",
       "      <td> intergenic</td>\n",
       "      <td> 2061435</td>\n",
       "      <td> 0.600000</td>\n",
       "      <td>   638532</td>\n",
       "      <td> 0</td>\n",
       "    </tr>\n",
       "    <tr>\n",
       "      <th>119928</th>\n",
       "      <td>  chrX</td>\n",
       "      <td>   811178</td>\n",
       "      <td>    4</td>\n",
       "      <td>    2</td>\n",
       "      <td>    103</td>\n",
       "      <td>     11</td>\n",
       "      <td>     4</td>\n",
       "      <td>  0</td>\n",
       "      <td> 11.0</td>\n",
       "      <td> TTT</td>\n",
       "      <td> 3.709402</td>\n",
       "      <td> 0.368159</td>\n",
       "      <td> intergenic</td>\n",
       "      <td> 1888790</td>\n",
       "      <td> 0.454545</td>\n",
       "      <td>   811177</td>\n",
       "      <td> 0</td>\n",
       "    </tr>\n",
       "  </tbody>\n",
       "</table>\n",
       "<p>10 rows × 17 columns</p>\n",
       "</div>"
      ],
      "text/plain": [
       "        CHROM     POS_x  RefAllele  NonRefAllele  BaseQual  TumourCoverage  \\\n",
       "12856   chr10  42597791       5653          2360    236366          107911   \n",
       "119895   chrX     63742          3             0        96               5   \n",
       "119904   chrX    282067          9             4       143              26   \n",
       "119911   chrX    369223          8             3       225              17   \n",
       "119912   chrX    393602          9             1       257              14   \n",
       "119913   chrX    397722          3             1        96               6   \n",
       "119918   chrX    590877         11             1       163              17   \n",
       "119919   chrX    617679          5             1        86              14   \n",
       "119920   chrX    638533         24             2       689              30   \n",
       "119928   chrX    811178          4             2       103              11   \n",
       "\n",
       "        NormalCoverage  MapQual  ReadPosition Trinucleotide  HomopolymerRate  \\\n",
       "12856            97464       15          26.0           ATT         2.186207   \n",
       "119895               1        0          66.0           CCT         3.967213   \n",
       "119904              13        0          24.5           TTT         5.511811   \n",
       "119911              11        0          71.0           CCG         1.955975   \n",
       "119912               6        0          31.5           GCG         2.197368   \n",
       "119913               2        0          89.5           ACA         1.262032   \n",
       "119918               8        0          58.0           GCG         3.277778   \n",
       "119919               2        0          73.0           GCT         7.943089   \n",
       "119920              15        0          54.5           CCC         3.037313   \n",
       "119928               4        0          11.0           TTT         3.709402   \n",
       "\n",
       "        GCcontent GenomicLocation  DistanceSNP  StrandBias     POS_y  Label  \n",
       "12856    0.363184             NaN         8727    0.535339  42597790      0  \n",
       "119895   0.701493      intergenic      2636226    0.800000     63741      0  \n",
       "119904   0.512438      downstream      2417901    0.576923    282066      0  \n",
       "119911   0.582090      intergenic      2330745    0.470588    369222      0  \n",
       "119912   0.646766      intergenic      2306366    0.571429    393601      0  \n",
       "119913   0.487562      intergenic      2302246    0.666667    397721      0  \n",
       "119918   0.676617        intronic      2109091    0.588235    590876      0  \n",
       "119919   0.457711        intronic      2082289    0.928571    617678      0  \n",
       "119920   0.542289      intergenic      2061435    0.600000    638532      0  \n",
       "119928   0.368159      intergenic      1888790    0.454545    811177      0  \n",
       "\n",
       "[10 rows x 17 columns]"
      ]
     },
     "execution_count": 28,
     "metadata": {},
     "output_type": "execute_result"
    }
   ],
   "source": [
    "GenomicFeatures_CPCG0184_Top10[:10]"
   ]
  },
  {
   "cell_type": "code",
   "execution_count": null,
   "metadata": {
    "collapsed": false
   },
   "outputs": [],
   "source": []
  },
  {
   "cell_type": "code",
   "execution_count": null,
   "metadata": {
    "collapsed": true
   },
   "outputs": [],
   "source": []
  },
  {
   "cell_type": "code",
   "execution_count": null,
   "metadata": {
    "collapsed": true
   },
   "outputs": [],
   "source": []
  }
 ],
 "metadata": {
  "kernelspec": {
   "display_name": "Python 2",
   "language": "python",
   "name": "python2"
  },
  "language_info": {
   "codemirror_mode": {
    "name": "ipython",
    "version": 2
   },
   "file_extension": ".py",
   "mimetype": "text/x-python",
   "name": "python",
   "nbconvert_exporter": "python",
   "pygments_lexer": "ipython2",
   "version": "2.7.6"
  }
 },
 "nbformat": 4,
 "nbformat_minor": 0
}
