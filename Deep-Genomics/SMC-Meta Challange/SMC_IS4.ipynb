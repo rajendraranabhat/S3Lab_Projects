{
 "cells": [
  {
   "cell_type": "code",
   "execution_count": 1,
   "metadata": {
    "collapsed": false
   },
   "outputs": [
    {
     "name": "stderr",
     "output_type": "stream",
     "text": [
      "WARNING (theano.sandbox.cuda): CUDA is installed, but device gpu is not available  (error: Unable to get the number of gpus available: no CUDA-capable device is detected)\n",
      "WARNING:theano.sandbox.cuda:CUDA is installed, but device gpu is not available  (error: Unable to get the number of gpus available: no CUDA-capable device is detected)\n",
      "/usr/local/lib/python2.7/dist-packages/theano/tensor/signal/downsample.py:6: UserWarning: downsample module has been moved to the theano.tensor.signal.pool module.\n",
      "  \"downsample module has been moved to the theano.tensor.signal.pool module.\")\n",
      "Using Theano backend.\n"
     ]
    }
   ],
   "source": [
    "import numpy as np\n",
    "import pandas as pd\n",
    "from collections import Counter\n",
    "import math\n",
    "\n",
    "from sklearn.neighbors import KNeighborsClassifier\n",
    "from sklearn.linear_model import LogisticRegression\n",
    "from sklearn.ensemble import RandomForestClassifier\n",
    "from sklearn.cross_validation import cross_val_score\n",
    "from sklearn import metrics\n",
    "from sklearn.cross_validation import train_test_split\n",
    "from sklearn.metrics import confusion_matrix, roc_curve, auc\n",
    "from sklearn.grid_search import GridSearchCV\n",
    "from sklearn import svm\n",
    "from sklearn.decomposition import RandomizedPCA\n",
    "from sklearn.metrics import classification_report\n",
    "from sklearn import preprocessing\n",
    "import matplotlib.pyplot as plt\n",
    "import scipy.optimize as opt\n",
    "import glob\n",
    "import os\n",
    "import sys\n",
    "import pickle\n",
    "import time\n",
    "import timeit\n",
    "\n",
    "from sklearn.decomposition import RandomizedPCA\n",
    "\n",
    "import theano\n",
    "import theano.tensor as T\n",
    "import lasagne\n",
    "\n",
    "#np.random.seed(1337)  # for reproducibility\n",
    "from keras.datasets import mnist\n",
    "from keras.models import Sequential\n",
    "from keras.layers.core import Dense, Dropout, Activation, Flatten, Layer, Reshape, AutoEncoder, Merge\n",
    "from keras.layers.convolutional import Convolution2D,MaxPooling2D,Convolution1D,MaxPooling1D,UpSampling2D, ZeroPadding2D\n",
    "from keras.optimizers import SGD, Adam, RMSprop, Adadelta\n",
    "from keras.layers.normalization import BatchNormalization\n",
    "from keras.utils import np_utils\n",
    "import keras.utils.visualize_util as vutil\n",
    "from keras.layers.recurrent import LSTM, GRU, SimpleRNN\n",
    "from keras.regularizers import l1, l2, l1l2, activity_l2, activity_l1\n",
    "import keras.layers.containers as containers\n",
    "from keras.layers.noise import GaussianNoise\n",
    "from keras.regularizers import ActivityRegularizer\n",
    "from keras import backend as K\n",
    "import keras.utils.visualize_util as vutil\n",
    "from keras.models import model_from_json\n",
    "\n",
    "import seaborn as sns\n",
    "\n",
    "%matplotlib inline\n",
    "\n",
    "from IPython.display import SVG\n",
    "\n",
    "import h5py\n",
    "\n",
    "np.set_printoptions(suppress=True)  #Supress exponent of the number 2e-2 == 0.02\n",
    "\n",
    "%matplotlib inline"
   ]
  },
  {
   "cell_type": "code",
   "execution_count": 2,
   "metadata": {
    "collapsed": true
   },
   "outputs": [],
   "source": [
    "#IS4"
   ]
  },
  {
   "cell_type": "code",
   "execution_count": 3,
   "metadata": {
    "collapsed": false
   },
   "outputs": [
    {
     "name": "stderr",
     "output_type": "stream",
     "text": [
      "/usr/lib/python2.7/dist-packages/pandas/io/parsers.py:1070: DtypeWarning: Columns (0) have mixed types. Specify dtype option on import or set low_memory=False.\n",
      "  data = self._reader.read(nrows)\n"
     ]
    }
   ],
   "source": [
    "#Read the data\n",
    "\n",
    "GenomicFeatures_IS4 = pd.read_csv(open('data/IS4/GenomicFeatures_IS4.txt','r'),sep='\\t')\n",
    "SNVCalls_IS4    = pd.read_csv(open('data/IS4/SNVCalls_IS4.txt','r'),sep='\\t') "
   ]
  },
  {
   "cell_type": "code",
   "execution_count": 4,
   "metadata": {
    "collapsed": false
   },
   "outputs": [
    {
     "name": "stdout",
     "output_type": "stream",
     "text": [
      "(129104, 16)\n",
      "(129104, 226)\n"
     ]
    }
   ],
   "source": [
    "print GenomicFeatures_IS4.shape\n",
    "print SNVCalls_IS4.shape"
   ]
  },
  {
   "cell_type": "code",
   "execution_count": 5,
   "metadata": {
    "collapsed": false
   },
   "outputs": [
    {
     "data": {
      "text/plain": [
       "CHROM                  0\n",
       "POS                    0\n",
       "END                    0\n",
       "RefAllele              0\n",
       "NonRefAllele           0\n",
       "BaseQual               0\n",
       "TumourCoverage         0\n",
       "NormalCoverage         0\n",
       "MapQual                0\n",
       "ReadPosition          13\n",
       "Trinucleotide          0\n",
       "HomopolymerRate        0\n",
       "GCcontent              0\n",
       "GenomicLocation    10612\n",
       "Distance               0\n",
       "StrandBias            13\n",
       "dtype: int64"
      ]
     },
     "execution_count": 5,
     "metadata": {},
     "output_type": "execute_result"
    }
   ],
   "source": [
    "np.sum(GenomicFeatures_IS4.isnull())"
   ]
  },
  {
   "cell_type": "code",
   "execution_count": 6,
   "metadata": {
    "collapsed": false
   },
   "outputs": [],
   "source": [
    "GenomicFeatures_IS4['ReadPosition'].fillna(0, inplace=True)  #Replace na with 0\n",
    "GenomicFeatures_IS4['StrandBias'].fillna(0, inplace=True)\n",
    "\n",
    "#print np.sum(GenomicFeatures_IS3.isnull())"
   ]
  },
  {
   "cell_type": "code",
   "execution_count": 7,
   "metadata": {
    "collapsed": false
   },
   "outputs": [
    {
     "data": {
      "text/plain": [
       "array(['UTR3', 'UTR5', 'UTR5;UTR3', 'downstream', 'exonic',\n",
       "       'exonic;splicing', 'intergenic', 'intronic', 'nan', 'ncRNA_UTR3',\n",
       "       'ncRNA_UTR5', 'ncRNA_exonic', 'ncRNA_intronic', 'ncRNA_splicing',\n",
       "       'splicing', 'upstream', 'upstream;downstream'], \n",
       "      dtype='|S19')"
      ]
     },
     "execution_count": 7,
     "metadata": {},
     "output_type": "execute_result"
    }
   ],
   "source": [
    "np.unique(GenomicFeatures_IS4['GenomicLocation'])"
   ]
  },
  {
   "cell_type": "code",
   "execution_count": 8,
   "metadata": {
    "collapsed": false
   },
   "outputs": [
    {
     "data": {
      "text/html": [
       "<div style=\"max-height:1000px;max-width:1500px;overflow:auto;\">\n",
       "<table border=\"1\" class=\"dataframe\">\n",
       "  <thead>\n",
       "    <tr style=\"text-align: right;\">\n",
       "      <th></th>\n",
       "      <th>CHROM</th>\n",
       "      <th>POS</th>\n",
       "      <th>END</th>\n",
       "      <th>RefAllele</th>\n",
       "      <th>NonRefAllele</th>\n",
       "      <th>BaseQual</th>\n",
       "      <th>TumourCoverage</th>\n",
       "      <th>NormalCoverage</th>\n",
       "      <th>MapQual</th>\n",
       "      <th>ReadPosition</th>\n",
       "      <th>Trinucleotide</th>\n",
       "      <th>HomopolymerRate</th>\n",
       "      <th>GCcontent</th>\n",
       "      <th>GenomicLocation</th>\n",
       "      <th>Distance</th>\n",
       "      <th>StrandBias</th>\n",
       "    </tr>\n",
       "  </thead>\n",
       "  <tbody>\n",
       "    <tr>\n",
       "      <th>0</th>\n",
       "      <td> 1</td>\n",
       "      <td> 10392</td>\n",
       "      <td> 10393</td>\n",
       "      <td> 12</td>\n",
       "      <td> 4</td>\n",
       "      <td> 452</td>\n",
       "      <td> 22</td>\n",
       "      <td> 19</td>\n",
       "      <td>  0.0</td>\n",
       "      <td> 34.5</td>\n",
       "      <td> CCT</td>\n",
       "      <td> 5.204082</td>\n",
       "      <td> 0.579208</td>\n",
       "      <td>     intergenic</td>\n",
       "      <td> 41086</td>\n",
       "      <td> 0.636364</td>\n",
       "    </tr>\n",
       "    <tr>\n",
       "      <th>1</th>\n",
       "      <td> 1</td>\n",
       "      <td> 10399</td>\n",
       "      <td> 10400</td>\n",
       "      <td> 11</td>\n",
       "      <td> 4</td>\n",
       "      <td> 473</td>\n",
       "      <td> 21</td>\n",
       "      <td> 19</td>\n",
       "      <td> 34.0</td>\n",
       "      <td> 40.0</td>\n",
       "      <td> CCT</td>\n",
       "      <td> 5.111111</td>\n",
       "      <td> 0.594059</td>\n",
       "      <td>            NaN</td>\n",
       "      <td> 41079</td>\n",
       "      <td> 0.666667</td>\n",
       "    </tr>\n",
       "    <tr>\n",
       "      <th>2</th>\n",
       "      <td> 1</td>\n",
       "      <td> 20466</td>\n",
       "      <td> 20467</td>\n",
       "      <td>  3</td>\n",
       "      <td> 3</td>\n",
       "      <td> 193</td>\n",
       "      <td>  6</td>\n",
       "      <td>  3</td>\n",
       "      <td> 23.5</td>\n",
       "      <td> 63.0</td>\n",
       "      <td> GCT</td>\n",
       "      <td> 2.739130</td>\n",
       "      <td> 0.475248</td>\n",
       "      <td> ncRNA_intronic</td>\n",
       "      <td> 31012</td>\n",
       "      <td> 0.000000</td>\n",
       "    </tr>\n",
       "    <tr>\n",
       "      <th>3</th>\n",
       "      <td> 1</td>\n",
       "      <td> 61498</td>\n",
       "      <td> 61499</td>\n",
       "      <td> 17</td>\n",
       "      <td> 3</td>\n",
       "      <td> 636</td>\n",
       "      <td> 20</td>\n",
       "      <td> 10</td>\n",
       "      <td> 47.5</td>\n",
       "      <td> 39.0</td>\n",
       "      <td> ACC</td>\n",
       "      <td> 2.891304</td>\n",
       "      <td> 0.257426</td>\n",
       "      <td>     intergenic</td>\n",
       "      <td>  4726</td>\n",
       "      <td> 0.450000</td>\n",
       "    </tr>\n",
       "    <tr>\n",
       "      <th>4</th>\n",
       "      <td> 1</td>\n",
       "      <td> 61850</td>\n",
       "      <td> 61851</td>\n",
       "      <td> 12</td>\n",
       "      <td> 6</td>\n",
       "      <td> 511</td>\n",
       "      <td> 18</td>\n",
       "      <td> 11</td>\n",
       "      <td> 47.5</td>\n",
       "      <td> 63.0</td>\n",
       "      <td> ATA</td>\n",
       "      <td> 3.507463</td>\n",
       "      <td> 0.405941</td>\n",
       "      <td>     intergenic</td>\n",
       "      <td>  4374</td>\n",
       "      <td> 0.555556</td>\n",
       "    </tr>\n",
       "  </tbody>\n",
       "</table>\n",
       "<p>5 rows × 16 columns</p>\n",
       "</div>"
      ],
      "text/plain": [
       "  CHROM    POS    END  RefAllele  NonRefAllele  BaseQual  TumourCoverage  \\\n",
       "0     1  10392  10393         12             4       452              22   \n",
       "1     1  10399  10400         11             4       473              21   \n",
       "2     1  20466  20467          3             3       193               6   \n",
       "3     1  61498  61499         17             3       636              20   \n",
       "4     1  61850  61851         12             6       511              18   \n",
       "\n",
       "   NormalCoverage  MapQual  ReadPosition Trinucleotide  HomopolymerRate  \\\n",
       "0              19      0.0          34.5           CCT         5.204082   \n",
       "1              19     34.0          40.0           CCT         5.111111   \n",
       "2               3     23.5          63.0           GCT         2.739130   \n",
       "3              10     47.5          39.0           ACC         2.891304   \n",
       "4              11     47.5          63.0           ATA         3.507463   \n",
       "\n",
       "   GCcontent GenomicLocation  Distance  StrandBias  \n",
       "0   0.579208      intergenic     41086    0.636364  \n",
       "1   0.594059             NaN     41079    0.666667  \n",
       "2   0.475248  ncRNA_intronic     31012    0.000000  \n",
       "3   0.257426      intergenic      4726    0.450000  \n",
       "4   0.405941      intergenic      4374    0.555556  \n",
       "\n",
       "[5 rows x 16 columns]"
      ]
     },
     "execution_count": 8,
     "metadata": {},
     "output_type": "execute_result"
    }
   ],
   "source": [
    "GenomicFeatures_IS4.head()"
   ]
  },
  {
   "cell_type": "code",
   "execution_count": 9,
   "metadata": {
    "collapsed": false
   },
   "outputs": [
    {
     "data": {
      "text/html": [
       "<div style=\"max-height:1000px;max-width:1500px;overflow:auto;\">\n",
       "<table border=\"1\" class=\"dataframe\">\n",
       "  <thead>\n",
       "    <tr style=\"text-align: right;\">\n",
       "      <th></th>\n",
       "      <th>CHROM</th>\n",
       "      <th>POS</th>\n",
       "      <th>END</th>\n",
       "      <th>X2502792</th>\n",
       "      <th>X2502793</th>\n",
       "      <th>X2505745</th>\n",
       "      <th>X2506859</th>\n",
       "      <th>X2506861</th>\n",
       "      <th>X2507098</th>\n",
       "      <th>X2507890</th>\n",
       "      <th>X2508830</th>\n",
       "      <th>X2510262</th>\n",
       "      <th>X2510272</th>\n",
       "      <th>X2510297</th>\n",
       "      <th>X2510567</th>\n",
       "      <th>X2510929</th>\n",
       "      <th>X2511086</th>\n",
       "      <th>X2511088</th>\n",
       "      <th>X2511090</th>\n",
       "      <th>X2511092</th>\n",
       "      <th></th>\n",
       "    </tr>\n",
       "  </thead>\n",
       "  <tbody>\n",
       "    <tr>\n",
       "      <th>0</th>\n",
       "      <td> 1</td>\n",
       "      <td> 10392</td>\n",
       "      <td> 10393</td>\n",
       "      <td> 0</td>\n",
       "      <td> 0</td>\n",
       "      <td> 0</td>\n",
       "      <td> 0</td>\n",
       "      <td> 0</td>\n",
       "      <td> 0</td>\n",
       "      <td> 0</td>\n",
       "      <td> 0</td>\n",
       "      <td> 1</td>\n",
       "      <td> 0</td>\n",
       "      <td> 0</td>\n",
       "      <td> 0</td>\n",
       "      <td> 0</td>\n",
       "      <td> 0</td>\n",
       "      <td> 0</td>\n",
       "      <td> 0</td>\n",
       "      <td> 0</td>\n",
       "      <td>...</td>\n",
       "    </tr>\n",
       "    <tr>\n",
       "      <th>1</th>\n",
       "      <td> 1</td>\n",
       "      <td> 10399</td>\n",
       "      <td> 10400</td>\n",
       "      <td> 0</td>\n",
       "      <td> 0</td>\n",
       "      <td> 0</td>\n",
       "      <td> 0</td>\n",
       "      <td> 0</td>\n",
       "      <td> 0</td>\n",
       "      <td> 0</td>\n",
       "      <td> 0</td>\n",
       "      <td> 0</td>\n",
       "      <td> 0</td>\n",
       "      <td> 0</td>\n",
       "      <td> 0</td>\n",
       "      <td> 0</td>\n",
       "      <td> 0</td>\n",
       "      <td> 0</td>\n",
       "      <td> 0</td>\n",
       "      <td> 0</td>\n",
       "      <td>...</td>\n",
       "    </tr>\n",
       "    <tr>\n",
       "      <th>2</th>\n",
       "      <td> 1</td>\n",
       "      <td> 20466</td>\n",
       "      <td> 20467</td>\n",
       "      <td> 0</td>\n",
       "      <td> 0</td>\n",
       "      <td> 0</td>\n",
       "      <td> 0</td>\n",
       "      <td> 0</td>\n",
       "      <td> 0</td>\n",
       "      <td> 0</td>\n",
       "      <td> 0</td>\n",
       "      <td> 0</td>\n",
       "      <td> 0</td>\n",
       "      <td> 0</td>\n",
       "      <td> 0</td>\n",
       "      <td> 0</td>\n",
       "      <td> 0</td>\n",
       "      <td> 0</td>\n",
       "      <td> 0</td>\n",
       "      <td> 0</td>\n",
       "      <td>...</td>\n",
       "    </tr>\n",
       "    <tr>\n",
       "      <th>3</th>\n",
       "      <td> 1</td>\n",
       "      <td> 61498</td>\n",
       "      <td> 61499</td>\n",
       "      <td> 0</td>\n",
       "      <td> 0</td>\n",
       "      <td> 0</td>\n",
       "      <td> 0</td>\n",
       "      <td> 0</td>\n",
       "      <td> 0</td>\n",
       "      <td> 0</td>\n",
       "      <td> 0</td>\n",
       "      <td> 0</td>\n",
       "      <td> 0</td>\n",
       "      <td> 0</td>\n",
       "      <td> 0</td>\n",
       "      <td> 0</td>\n",
       "      <td> 0</td>\n",
       "      <td> 0</td>\n",
       "      <td> 0</td>\n",
       "      <td> 0</td>\n",
       "      <td>...</td>\n",
       "    </tr>\n",
       "    <tr>\n",
       "      <th>4</th>\n",
       "      <td> 1</td>\n",
       "      <td> 61850</td>\n",
       "      <td> 61851</td>\n",
       "      <td> 0</td>\n",
       "      <td> 0</td>\n",
       "      <td> 0</td>\n",
       "      <td> 0</td>\n",
       "      <td> 0</td>\n",
       "      <td> 0</td>\n",
       "      <td> 0</td>\n",
       "      <td> 0</td>\n",
       "      <td> 1</td>\n",
       "      <td> 0</td>\n",
       "      <td> 1</td>\n",
       "      <td> 0</td>\n",
       "      <td> 0</td>\n",
       "      <td> 0</td>\n",
       "      <td> 0</td>\n",
       "      <td> 0</td>\n",
       "      <td> 0</td>\n",
       "      <td>...</td>\n",
       "    </tr>\n",
       "  </tbody>\n",
       "</table>\n",
       "<p>5 rows × 226 columns</p>\n",
       "</div>"
      ],
      "text/plain": [
       "  CHROM    POS    END  X2502792  X2502793  X2505745  X2506859  X2506861  \\\n",
       "0     1  10392  10393         0         0         0         0         0   \n",
       "1     1  10399  10400         0         0         0         0         0   \n",
       "2     1  20466  20467         0         0         0         0         0   \n",
       "3     1  61498  61499         0         0         0         0         0   \n",
       "4     1  61850  61851         0         0         0         0         0   \n",
       "\n",
       "   X2507098  X2507890  X2508830  X2510262  X2510272  X2510297  X2510567  \\\n",
       "0         0         0         0         1         0         0         0   \n",
       "1         0         0         0         0         0         0         0   \n",
       "2         0         0         0         0         0         0         0   \n",
       "3         0         0         0         0         0         0         0   \n",
       "4         0         0         0         1         0         1         0   \n",
       "\n",
       "   X2510929  X2511086  X2511088  X2511090  X2511092      \n",
       "0         0         0         0         0         0 ...  \n",
       "1         0         0         0         0         0 ...  \n",
       "2         0         0         0         0         0 ...  \n",
       "3         0         0         0         0         0 ...  \n",
       "4         0         0         0         0         0 ...  \n",
       "\n",
       "[5 rows x 226 columns]"
      ]
     },
     "execution_count": 9,
     "metadata": {},
     "output_type": "execute_result"
    }
   ],
   "source": [
    "SNVCalls_IS4.head()"
   ]
  },
  {
   "cell_type": "code",
   "execution_count": 10,
   "metadata": {
    "collapsed": false
   },
   "outputs": [
    {
     "data": {
      "text/plain": [
       "array(['ACA', 'ACC', 'ACG', 'ACT', 'ATA', 'ATC', 'ATG', 'ATT', 'CCA',\n",
       "       'CCC', 'CCG', 'CCT', 'CTA', 'CTC', 'CTG', 'CTT', 'GCA', 'GCC',\n",
       "       'GCG', 'GCT', 'GTA', 'GTC', 'GTG', 'GTT', 'TCA', 'TCC', 'TCG',\n",
       "       'TCT', 'TTA', 'TTC', 'TTG', 'TTT'], \n",
       "      dtype='|S3')"
      ]
     },
     "execution_count": 10,
     "metadata": {},
     "output_type": "execute_result"
    }
   ],
   "source": [
    "np.unique(GenomicFeatures_IS4['Trinucleotide'])"
   ]
  },
  {
   "cell_type": "code",
   "execution_count": 11,
   "metadata": {
    "collapsed": true
   },
   "outputs": [],
   "source": [
    "IS4 = pd.merge(GenomicFeatures_IS4, SNVCalls_IS4,left_on=['CHROM', 'POS'], right_on=['CHROM','POS'])\n"
   ]
  },
  {
   "cell_type": "code",
   "execution_count": 12,
   "metadata": {
    "collapsed": false
   },
   "outputs": [
    {
     "data": {
      "text/html": [
       "<div style=\"max-height:1000px;max-width:1500px;overflow:auto;\">\n",
       "<table border=\"1\" class=\"dataframe\">\n",
       "  <thead>\n",
       "    <tr style=\"text-align: right;\">\n",
       "      <th></th>\n",
       "      <th>CHROM</th>\n",
       "      <th>POS</th>\n",
       "      <th>END_x</th>\n",
       "      <th>RefAllele</th>\n",
       "      <th>NonRefAllele</th>\n",
       "      <th>BaseQual</th>\n",
       "      <th>TumourCoverage</th>\n",
       "      <th>NormalCoverage</th>\n",
       "      <th>MapQual</th>\n",
       "      <th>ReadPosition</th>\n",
       "      <th>Trinucleotide</th>\n",
       "      <th>HomopolymerRate</th>\n",
       "      <th>GCcontent</th>\n",
       "      <th>GenomicLocation</th>\n",
       "      <th>Distance</th>\n",
       "      <th>StrandBias</th>\n",
       "      <th>END_y</th>\n",
       "      <th>X2502792</th>\n",
       "      <th>X2502793</th>\n",
       "      <th>X2505745</th>\n",
       "      <th></th>\n",
       "    </tr>\n",
       "  </thead>\n",
       "  <tbody>\n",
       "    <tr>\n",
       "      <th>0</th>\n",
       "      <td> 1</td>\n",
       "      <td> 10392</td>\n",
       "      <td> 10393</td>\n",
       "      <td> 12</td>\n",
       "      <td> 4</td>\n",
       "      <td> 452</td>\n",
       "      <td> 22</td>\n",
       "      <td> 19</td>\n",
       "      <td>  0.0</td>\n",
       "      <td> 34.5</td>\n",
       "      <td> CCT</td>\n",
       "      <td> 5.204082</td>\n",
       "      <td> 0.579208</td>\n",
       "      <td>     intergenic</td>\n",
       "      <td> 41086</td>\n",
       "      <td> 0.636364</td>\n",
       "      <td> 10393</td>\n",
       "      <td> 0</td>\n",
       "      <td> 0</td>\n",
       "      <td> 0</td>\n",
       "      <td>...</td>\n",
       "    </tr>\n",
       "    <tr>\n",
       "      <th>1</th>\n",
       "      <td> 1</td>\n",
       "      <td> 10399</td>\n",
       "      <td> 10400</td>\n",
       "      <td> 11</td>\n",
       "      <td> 4</td>\n",
       "      <td> 473</td>\n",
       "      <td> 21</td>\n",
       "      <td> 19</td>\n",
       "      <td> 34.0</td>\n",
       "      <td> 40.0</td>\n",
       "      <td> CCT</td>\n",
       "      <td> 5.111111</td>\n",
       "      <td> 0.594059</td>\n",
       "      <td>            NaN</td>\n",
       "      <td> 41079</td>\n",
       "      <td> 0.666667</td>\n",
       "      <td> 10400</td>\n",
       "      <td> 0</td>\n",
       "      <td> 0</td>\n",
       "      <td> 0</td>\n",
       "      <td>...</td>\n",
       "    </tr>\n",
       "    <tr>\n",
       "      <th>2</th>\n",
       "      <td> 1</td>\n",
       "      <td> 20466</td>\n",
       "      <td> 20467</td>\n",
       "      <td>  3</td>\n",
       "      <td> 3</td>\n",
       "      <td> 193</td>\n",
       "      <td>  6</td>\n",
       "      <td>  3</td>\n",
       "      <td> 23.5</td>\n",
       "      <td> 63.0</td>\n",
       "      <td> GCT</td>\n",
       "      <td> 2.739130</td>\n",
       "      <td> 0.475248</td>\n",
       "      <td> ncRNA_intronic</td>\n",
       "      <td> 31012</td>\n",
       "      <td> 0.000000</td>\n",
       "      <td> 20467</td>\n",
       "      <td> 0</td>\n",
       "      <td> 0</td>\n",
       "      <td> 0</td>\n",
       "      <td>...</td>\n",
       "    </tr>\n",
       "    <tr>\n",
       "      <th>3</th>\n",
       "      <td> 1</td>\n",
       "      <td> 61498</td>\n",
       "      <td> 61499</td>\n",
       "      <td> 17</td>\n",
       "      <td> 3</td>\n",
       "      <td> 636</td>\n",
       "      <td> 20</td>\n",
       "      <td> 10</td>\n",
       "      <td> 47.5</td>\n",
       "      <td> 39.0</td>\n",
       "      <td> ACC</td>\n",
       "      <td> 2.891304</td>\n",
       "      <td> 0.257426</td>\n",
       "      <td>     intergenic</td>\n",
       "      <td>  4726</td>\n",
       "      <td> 0.450000</td>\n",
       "      <td> 61499</td>\n",
       "      <td> 0</td>\n",
       "      <td> 0</td>\n",
       "      <td> 0</td>\n",
       "      <td>...</td>\n",
       "    </tr>\n",
       "    <tr>\n",
       "      <th>4</th>\n",
       "      <td> 1</td>\n",
       "      <td> 61850</td>\n",
       "      <td> 61851</td>\n",
       "      <td> 12</td>\n",
       "      <td> 6</td>\n",
       "      <td> 511</td>\n",
       "      <td> 18</td>\n",
       "      <td> 11</td>\n",
       "      <td> 47.5</td>\n",
       "      <td> 63.0</td>\n",
       "      <td> ATA</td>\n",
       "      <td> 3.507463</td>\n",
       "      <td> 0.405941</td>\n",
       "      <td>     intergenic</td>\n",
       "      <td>  4374</td>\n",
       "      <td> 0.555556</td>\n",
       "      <td> 61851</td>\n",
       "      <td> 0</td>\n",
       "      <td> 0</td>\n",
       "      <td> 0</td>\n",
       "      <td>...</td>\n",
       "    </tr>\n",
       "  </tbody>\n",
       "</table>\n",
       "<p>5 rows × 240 columns</p>\n",
       "</div>"
      ],
      "text/plain": [
       "  CHROM    POS  END_x  RefAllele  NonRefAllele  BaseQual  TumourCoverage  \\\n",
       "0     1  10392  10393         12             4       452              22   \n",
       "1     1  10399  10400         11             4       473              21   \n",
       "2     1  20466  20467          3             3       193               6   \n",
       "3     1  61498  61499         17             3       636              20   \n",
       "4     1  61850  61851         12             6       511              18   \n",
       "\n",
       "   NormalCoverage  MapQual  ReadPosition Trinucleotide  HomopolymerRate  \\\n",
       "0              19      0.0          34.5           CCT         5.204082   \n",
       "1              19     34.0          40.0           CCT         5.111111   \n",
       "2               3     23.5          63.0           GCT         2.739130   \n",
       "3              10     47.5          39.0           ACC         2.891304   \n",
       "4              11     47.5          63.0           ATA         3.507463   \n",
       "\n",
       "   GCcontent GenomicLocation  Distance  StrandBias  END_y  X2502792  X2502793  \\\n",
       "0   0.579208      intergenic     41086    0.636364  10393         0         0   \n",
       "1   0.594059             NaN     41079    0.666667  10400         0         0   \n",
       "2   0.475248  ncRNA_intronic     31012    0.000000  20467         0         0   \n",
       "3   0.257426      intergenic      4726    0.450000  61499         0         0   \n",
       "4   0.405941      intergenic      4374    0.555556  61851         0         0   \n",
       "\n",
       "   X2505745      \n",
       "0         0 ...  \n",
       "1         0 ...  \n",
       "2         0 ...  \n",
       "3         0 ...  \n",
       "4         0 ...  \n",
       "\n",
       "[5 rows x 240 columns]"
      ]
     },
     "execution_count": 12,
     "metadata": {},
     "output_type": "execute_result"
    }
   ],
   "source": [
    "IS4.head() #182+15"
   ]
  },
  {
   "cell_type": "code",
   "execution_count": 13,
   "metadata": {
    "collapsed": true
   },
   "outputs": [],
   "source": [
    "IS4_X = IS4.iloc[:,3:16] #Exclude CHROM, POS\n",
    "IS4_Y = IS4.iloc[:,17:]  #Exclude CHROM_y, POS_y, END"
   ]
  },
  {
   "cell_type": "code",
   "execution_count": 14,
   "metadata": {
    "collapsed": false
   },
   "outputs": [
    {
     "name": "stdout",
     "output_type": "stream",
     "text": [
      "(112720, 13)\n",
      "(112720, 223)\n"
     ]
    }
   ],
   "source": [
    "print IS4_X.shape\n",
    "print IS4_Y.shape"
   ]
  },
  {
   "cell_type": "code",
   "execution_count": 15,
   "metadata": {
    "collapsed": false
   },
   "outputs": [
    {
     "data": {
      "text/html": [
       "<div style=\"max-height:1000px;max-width:1500px;overflow:auto;\">\n",
       "<table border=\"1\" class=\"dataframe\">\n",
       "  <thead>\n",
       "    <tr style=\"text-align: right;\">\n",
       "      <th></th>\n",
       "      <th>RefAllele</th>\n",
       "      <th>NonRefAllele</th>\n",
       "      <th>BaseQual</th>\n",
       "      <th>TumourCoverage</th>\n",
       "      <th>NormalCoverage</th>\n",
       "      <th>MapQual</th>\n",
       "      <th>ReadPosition</th>\n",
       "      <th>Trinucleotide</th>\n",
       "      <th>HomopolymerRate</th>\n",
       "      <th>GCcontent</th>\n",
       "      <th>GenomicLocation</th>\n",
       "      <th>Distance</th>\n",
       "      <th>StrandBias</th>\n",
       "    </tr>\n",
       "  </thead>\n",
       "  <tbody>\n",
       "    <tr>\n",
       "      <th>0</th>\n",
       "      <td> 12</td>\n",
       "      <td> 4</td>\n",
       "      <td> 452</td>\n",
       "      <td> 22</td>\n",
       "      <td> 19</td>\n",
       "      <td>  0</td>\n",
       "      <td> 34.5</td>\n",
       "      <td> CCT</td>\n",
       "      <td> 5.204082</td>\n",
       "      <td> 0.579208</td>\n",
       "      <td> intergenic</td>\n",
       "      <td> 41086</td>\n",
       "      <td> 0.636364</td>\n",
       "    </tr>\n",
       "    <tr>\n",
       "      <th>1</th>\n",
       "      <td> 11</td>\n",
       "      <td> 4</td>\n",
       "      <td> 473</td>\n",
       "      <td> 21</td>\n",
       "      <td> 19</td>\n",
       "      <td> 34</td>\n",
       "      <td> 40.0</td>\n",
       "      <td> CCT</td>\n",
       "      <td> 5.111111</td>\n",
       "      <td> 0.594059</td>\n",
       "      <td>        NaN</td>\n",
       "      <td> 41079</td>\n",
       "      <td> 0.666667</td>\n",
       "    </tr>\n",
       "  </tbody>\n",
       "</table>\n",
       "<p>2 rows × 13 columns</p>\n",
       "</div>"
      ],
      "text/plain": [
       "   RefAllele  NonRefAllele  BaseQual  TumourCoverage  NormalCoverage  MapQual  \\\n",
       "0         12             4       452              22              19        0   \n",
       "1         11             4       473              21              19       34   \n",
       "\n",
       "   ReadPosition Trinucleotide  HomopolymerRate  GCcontent GenomicLocation  \\\n",
       "0          34.5           CCT         5.204082   0.579208      intergenic   \n",
       "1          40.0           CCT         5.111111   0.594059             NaN   \n",
       "\n",
       "   Distance  StrandBias  \n",
       "0     41086    0.636364  \n",
       "1     41079    0.666667  \n",
       "\n",
       "[2 rows x 13 columns]"
      ]
     },
     "execution_count": 15,
     "metadata": {},
     "output_type": "execute_result"
    }
   ],
   "source": [
    "IS4_X[:2]"
   ]
  },
  {
   "cell_type": "code",
   "execution_count": 16,
   "metadata": {
    "collapsed": false
   },
   "outputs": [
    {
     "data": {
      "text/html": [
       "<div style=\"max-height:1000px;max-width:1500px;overflow:auto;\">\n",
       "<table border=\"1\" class=\"dataframe\">\n",
       "  <thead>\n",
       "    <tr style=\"text-align: right;\">\n",
       "      <th></th>\n",
       "      <th>X2502792</th>\n",
       "      <th>X2502793</th>\n",
       "      <th>X2505745</th>\n",
       "      <th>X2506859</th>\n",
       "      <th>X2506861</th>\n",
       "      <th>X2507098</th>\n",
       "      <th>X2507890</th>\n",
       "      <th>X2508830</th>\n",
       "      <th>X2510262</th>\n",
       "      <th>X2510272</th>\n",
       "      <th>X2510297</th>\n",
       "      <th>X2510567</th>\n",
       "      <th>X2510929</th>\n",
       "      <th>X2511086</th>\n",
       "      <th>X2511088</th>\n",
       "      <th>X2511090</th>\n",
       "      <th>X2511092</th>\n",
       "      <th>X2511094</th>\n",
       "      <th>X2511096</th>\n",
       "      <th>X2511098</th>\n",
       "      <th></th>\n",
       "    </tr>\n",
       "  </thead>\n",
       "  <tbody>\n",
       "    <tr>\n",
       "      <th>0</th>\n",
       "      <td> 0</td>\n",
       "      <td> 0</td>\n",
       "      <td> 0</td>\n",
       "      <td> 0</td>\n",
       "      <td> 0</td>\n",
       "      <td> 0</td>\n",
       "      <td> 0</td>\n",
       "      <td> 0</td>\n",
       "      <td> 1</td>\n",
       "      <td> 0</td>\n",
       "      <td> 0</td>\n",
       "      <td> 0</td>\n",
       "      <td> 0</td>\n",
       "      <td> 0</td>\n",
       "      <td> 0</td>\n",
       "      <td> 0</td>\n",
       "      <td> 0</td>\n",
       "      <td> 0</td>\n",
       "      <td> 0</td>\n",
       "      <td> 0</td>\n",
       "      <td>...</td>\n",
       "    </tr>\n",
       "    <tr>\n",
       "      <th>1</th>\n",
       "      <td> 0</td>\n",
       "      <td> 0</td>\n",
       "      <td> 0</td>\n",
       "      <td> 0</td>\n",
       "      <td> 0</td>\n",
       "      <td> 0</td>\n",
       "      <td> 0</td>\n",
       "      <td> 0</td>\n",
       "      <td> 0</td>\n",
       "      <td> 0</td>\n",
       "      <td> 0</td>\n",
       "      <td> 0</td>\n",
       "      <td> 0</td>\n",
       "      <td> 0</td>\n",
       "      <td> 0</td>\n",
       "      <td> 0</td>\n",
       "      <td> 0</td>\n",
       "      <td> 0</td>\n",
       "      <td> 0</td>\n",
       "      <td> 0</td>\n",
       "      <td>...</td>\n",
       "    </tr>\n",
       "  </tbody>\n",
       "</table>\n",
       "<p>2 rows × 223 columns</p>\n",
       "</div>"
      ],
      "text/plain": [
       "   X2502792  X2502793  X2505745  X2506859  X2506861  X2507098  X2507890  \\\n",
       "0         0         0         0         0         0         0         0   \n",
       "1         0         0         0         0         0         0         0   \n",
       "\n",
       "   X2508830  X2510262  X2510272  X2510297  X2510567  X2510929  X2511086  \\\n",
       "0         0         1         0         0         0         0         0   \n",
       "1         0         0         0         0         0         0         0   \n",
       "\n",
       "   X2511088  X2511090  X2511092  X2511094  X2511096  X2511098      \n",
       "0         0         0         0         0         0         0 ...  \n",
       "1         0         0         0         0         0         0 ...  \n",
       "\n",
       "[2 rows x 223 columns]"
      ]
     },
     "execution_count": 16,
     "metadata": {},
     "output_type": "execute_result"
    }
   ],
   "source": [
    "IS4_Y[:2]"
   ]
  },
  {
   "cell_type": "code",
   "execution_count": 17,
   "metadata": {
    "collapsed": false
   },
   "outputs": [
    {
     "name": "stdout",
     "output_type": "stream",
     "text": [
      "112720\n",
      "(112720, 1)\n"
     ]
    }
   ],
   "source": [
    "totalSample = IS4_Y.shape[0]\n",
    "IS4_Y_Val = np.zeros((totalSample,1)) #Will be our label now\n",
    "\n",
    "print totalSample\n",
    "print IS4_Y_Val.shape"
   ]
  },
  {
   "cell_type": "code",
   "execution_count": 18,
   "metadata": {
    "collapsed": false
   },
   "outputs": [
    {
     "data": {
      "text/plain": [
       "(112720, 223)"
      ]
     },
     "execution_count": 18,
     "metadata": {},
     "output_type": "execute_result"
    }
   ],
   "source": [
    "IS4_Y.shape"
   ]
  },
  {
   "cell_type": "code",
   "execution_count": 19,
   "metadata": {
    "collapsed": false
   },
   "outputs": [
    {
     "data": {
      "text/plain": [
       "(223,)"
      ]
     },
     "execution_count": 19,
     "metadata": {},
     "output_type": "execute_result"
    }
   ],
   "source": [
    "IS4_Y.values[0].shape"
   ]
  },
  {
   "cell_type": "code",
   "execution_count": 20,
   "metadata": {
    "collapsed": true
   },
   "outputs": [],
   "source": [
    "for i in range(totalSample):\n",
    "    IS4_Y_Val[i] = np.argmax(np.bincount(IS4_Y.values[i]))"
   ]
  },
  {
   "cell_type": "code",
   "execution_count": 21,
   "metadata": {
    "collapsed": true
   },
   "outputs": [],
   "source": [
    "IS4_Y_Val_1 = pd.DataFrame(IS4_Y_Val)\n",
    "IS4_Y_Val_1.columns = ['Label']"
   ]
  },
  {
   "cell_type": "code",
   "execution_count": 22,
   "metadata": {
    "collapsed": false
   },
   "outputs": [
    {
     "data": {
      "text/html": [
       "<div style=\"max-height:1000px;max-width:1500px;overflow:auto;\">\n",
       "<table border=\"1\" class=\"dataframe\">\n",
       "  <thead>\n",
       "    <tr style=\"text-align: right;\">\n",
       "      <th></th>\n",
       "      <th>Label</th>\n",
       "    </tr>\n",
       "  </thead>\n",
       "  <tbody>\n",
       "    <tr>\n",
       "      <th>0</th>\n",
       "      <td> 0</td>\n",
       "    </tr>\n",
       "    <tr>\n",
       "      <th>1</th>\n",
       "      <td> 0</td>\n",
       "    </tr>\n",
       "    <tr>\n",
       "      <th>2</th>\n",
       "      <td> 0</td>\n",
       "    </tr>\n",
       "  </tbody>\n",
       "</table>\n",
       "<p>3 rows × 1 columns</p>\n",
       "</div>"
      ],
      "text/plain": [
       "   Label\n",
       "0      0\n",
       "1      0\n",
       "2      0\n",
       "\n",
       "[3 rows x 1 columns]"
      ]
     },
     "execution_count": 22,
     "metadata": {},
     "output_type": "execute_result"
    }
   ],
   "source": [
    "IS4_Y_Val_1[:3]"
   ]
  },
  {
   "cell_type": "code",
   "execution_count": 23,
   "metadata": {
    "collapsed": true
   },
   "outputs": [],
   "source": [
    "IS4_dataframe = pd.concat([IS4_X, IS4_Y_Val_1],axis=1)"
   ]
  },
  {
   "cell_type": "code",
   "execution_count": 24,
   "metadata": {
    "collapsed": false
   },
   "outputs": [
    {
     "data": {
      "text/plain": [
       "(112720, 14)"
      ]
     },
     "execution_count": 24,
     "metadata": {},
     "output_type": "execute_result"
    }
   ],
   "source": [
    "IS4_dataframe.shape"
   ]
  },
  {
   "cell_type": "code",
   "execution_count": 25,
   "metadata": {
    "collapsed": false
   },
   "outputs": [
    {
     "data": {
      "text/html": [
       "<div style=\"max-height:1000px;max-width:1500px;overflow:auto;\">\n",
       "<table border=\"1\" class=\"dataframe\">\n",
       "  <thead>\n",
       "    <tr style=\"text-align: right;\">\n",
       "      <th></th>\n",
       "      <th>RefAllele</th>\n",
       "      <th>NonRefAllele</th>\n",
       "      <th>BaseQual</th>\n",
       "      <th>TumourCoverage</th>\n",
       "      <th>NormalCoverage</th>\n",
       "      <th>MapQual</th>\n",
       "      <th>ReadPosition</th>\n",
       "      <th>Trinucleotide</th>\n",
       "      <th>HomopolymerRate</th>\n",
       "      <th>GCcontent</th>\n",
       "      <th>GenomicLocation</th>\n",
       "      <th>Distance</th>\n",
       "      <th>StrandBias</th>\n",
       "      <th>Label</th>\n",
       "    </tr>\n",
       "  </thead>\n",
       "  <tbody>\n",
       "    <tr>\n",
       "      <th>0</th>\n",
       "      <td> 12</td>\n",
       "      <td> 4</td>\n",
       "      <td> 452</td>\n",
       "      <td> 22</td>\n",
       "      <td> 19</td>\n",
       "      <td>  0</td>\n",
       "      <td> 34.5</td>\n",
       "      <td> CCT</td>\n",
       "      <td> 5.204082</td>\n",
       "      <td> 0.579208</td>\n",
       "      <td> intergenic</td>\n",
       "      <td> 41086</td>\n",
       "      <td> 0.636364</td>\n",
       "      <td> 0</td>\n",
       "    </tr>\n",
       "    <tr>\n",
       "      <th>1</th>\n",
       "      <td> 11</td>\n",
       "      <td> 4</td>\n",
       "      <td> 473</td>\n",
       "      <td> 21</td>\n",
       "      <td> 19</td>\n",
       "      <td> 34</td>\n",
       "      <td> 40.0</td>\n",
       "      <td> CCT</td>\n",
       "      <td> 5.111111</td>\n",
       "      <td> 0.594059</td>\n",
       "      <td>        NaN</td>\n",
       "      <td> 41079</td>\n",
       "      <td> 0.666667</td>\n",
       "      <td> 0</td>\n",
       "    </tr>\n",
       "  </tbody>\n",
       "</table>\n",
       "<p>2 rows × 14 columns</p>\n",
       "</div>"
      ],
      "text/plain": [
       "   RefAllele  NonRefAllele  BaseQual  TumourCoverage  NormalCoverage  MapQual  \\\n",
       "0         12             4       452              22              19        0   \n",
       "1         11             4       473              21              19       34   \n",
       "\n",
       "   ReadPosition Trinucleotide  HomopolymerRate  GCcontent GenomicLocation  \\\n",
       "0          34.5           CCT         5.204082   0.579208      intergenic   \n",
       "1          40.0           CCT         5.111111   0.594059             NaN   \n",
       "\n",
       "   Distance  StrandBias  Label  \n",
       "0     41086    0.636364      0  \n",
       "1     41079    0.666667      0  \n",
       "\n",
       "[2 rows x 14 columns]"
      ]
     },
     "execution_count": 25,
     "metadata": {},
     "output_type": "execute_result"
    }
   ],
   "source": [
    "IS4_dataframe[:2]"
   ]
  },
  {
   "cell_type": "code",
   "execution_count": 26,
   "metadata": {
    "collapsed": true
   },
   "outputs": [],
   "source": [
    "IS4_dataframe.to_csv('IS4.csv')"
   ]
  },
  {
   "cell_type": "code",
   "execution_count": 29,
   "metadata": {
    "collapsed": true
   },
   "outputs": [],
   "source": [
    "#Now we have variable importance ...lets do analysis"
   ]
  },
  {
   "cell_type": "code",
   "execution_count": 28,
   "metadata": {
    "collapsed": true
   },
   "outputs": [],
   "source": [
    "%load_ext rpy2.ipython"
   ]
  },
  {
   "cell_type": "code",
   "execution_count": 29,
   "metadata": {
    "collapsed": false
   },
   "outputs": [
    {
     "data": {
      "text/plain": [
       "'data.frame':\t112720 obs. of  15 variables:\n",
       " $ X              : int  0 1 2 3 4 5 6 7 8 9 ...\n",
       " $ RefAllele      : int  12 11 3 17 12 30 49 51 15 14 ...\n",
       " $ NonRefAllele   : int  4 4 3 3 6 13 12 10 8 4 ...\n",
       " $ BaseQual       : int  452 473 193 636 511 1190 954 1142 709 562 ...\n",
       " $ TumourCoverage : int  22 21 6 20 18 45 67 66 23 18 ...\n",
       " $ NormalCoverage : int  19 19 3 10 11 40 66 66 16 19 ...\n",
       " $ MapQual        : num  0 34 23.5 47.5 47.5 60 60 60 40 43 ...\n",
       " $ ReadPosition   : num  34.5 40 63 39 63 21 38 40 50 51.5 ...\n",
       " $ Trinucleotide  : Factor w/ 32 levels \"ACA\",\"ACC\",\"ACG\",..: 12 12 20 2 5 32 29 5 26 32 ...\n",
       " $ HomopolymerRate: num  5.2 5.11 2.74 2.89 3.51 ...\n",
       " $ GCcontent      : num  0.579 0.594 0.475 0.257 0.406 ...\n",
       " $ GenomicLocation: Factor w/ 17 levels \"\",\"downstream\",..: 5 1 8 5 5 5 5 5 5 5 ...\n",
       " $ Distance       : int  41086 41079 31012 4726 4374 109 145 147 54 7196 ...\n",
       " $ StrandBias     : num  0.636 0.667 0 0.45 0.556 ...\n",
       " $ Label          : num  0 0 0 0 0 0 0 0 0 0 ...\n"
      ]
     },
     "metadata": {},
     "output_type": "display_data"
    }
   ],
   "source": [
    "%%R\n",
    "# Read in the data\n",
    "IS4Frame = read.csv(\"IS4.csv\")\n",
    "str(IS4Frame)"
   ]
  },
  {
   "cell_type": "code",
   "execution_count": 30,
   "metadata": {
    "collapsed": false
   },
   "outputs": [
    {
     "data": {
      "text/plain": [
       "[1] 0\n"
      ]
     },
     "metadata": {},
     "output_type": "display_data"
    }
   ],
   "source": [
    "%%R\n",
    "#sum(is.na(CPCG0183Frame$StrandBias))\n",
    "#sum(is.na(IS1Frame$ReadPosition)) \n",
    "sum(is.na(IS4Frame)) "
   ]
  },
  {
   "cell_type": "code",
   "execution_count": 33,
   "metadata": {
    "collapsed": false
   },
   "outputs": [],
   "source": [
    "#%%R\n",
    "#CPCG0235Frame$ReadPosition[is.na(CPCG0235Frame$ReadPosition)] = mean(CPCG0235Frame$ReadPosition, na.rm=TRUE)\n",
    "#CPCG0235Frame$StrandBias[is.na(CPCG0235Frame$StrandBias)] = mean(CPCG0235Frame$StrandBias, na.rm=TRUE)\n",
    "\n",
    "#print (sum(is.na(CPCG0235Frame$ReadPosition)) )\n",
    "#print (sum(is.na(CPCG0235Frame$StrandBias)) )"
   ]
  },
  {
   "cell_type": "code",
   "execution_count": 31,
   "metadata": {
    "collapsed": false
   },
   "outputs": [
    {
     "data": {
      "text/plain": [
       "[1] 0\n"
      ]
     },
     "metadata": {},
     "output_type": "display_data"
    }
   ],
   "source": [
    "%%R\n",
    "sum(is.na(IS4Frame))  #No NA value now"
   ]
  },
  {
   "cell_type": "code",
   "execution_count": 32,
   "metadata": {
    "collapsed": true
   },
   "outputs": [],
   "source": [
    "%%R\n",
    "write.csv(IS4Frame, file = \"IS4_imputed.csv\")  #Cleaned CSV without NA"
   ]
  },
  {
   "cell_type": "code",
   "execution_count": 33,
   "metadata": {
    "collapsed": false
   },
   "outputs": [
    {
     "name": "stderr",
     "output_type": "stream",
     "text": [
      "/usr/local/lib/python2.7/dist-packages/rpy2/robjects/functions.py:106: UserWarning: Loading required package: statmod\n",
      "\n",
      "  res = super(Function, self).__call__(*new_args, **new_kwargs)\n",
      "/usr/local/lib/python2.7/dist-packages/rpy2/robjects/functions.py:106: UserWarning: \n",
      "----------------------------------------------------------------------\n",
      "\n",
      "Your next step is to start H2O:\n",
      "    > h2o.init()\n",
      "\n",
      "For H2O package documentation, ask for help:\n",
      "    > ??h2o\n",
      "\n",
      "After starting H2O, you can use the Web UI at http://localhost:54321\n",
      "For more information visit http://docs.h2o.ai\n",
      "\n",
      "----------------------------------------------------------------------\n",
      "\n",
      "\n",
      "  res = super(Function, self).__call__(*new_args, **new_kwargs)\n",
      "/usr/local/lib/python2.7/dist-packages/rpy2/robjects/functions.py:106: UserWarning: \n",
      "Attaching package: ‘h2o’\n",
      "\n",
      "\n",
      "  res = super(Function, self).__call__(*new_args, **new_kwargs)\n",
      "/usr/local/lib/python2.7/dist-packages/rpy2/robjects/functions.py:106: UserWarning: The following objects are masked from ‘package:stats’:\n",
      "\n",
      "    sd, var\n",
      "\n",
      "\n",
      "  res = super(Function, self).__call__(*new_args, **new_kwargs)\n",
      "/usr/local/lib/python2.7/dist-packages/rpy2/robjects/functions.py:106: UserWarning: The following objects are masked from ‘package:base’:\n",
      "\n",
      "    ||, &&, %*%, apply, as.factor, as.numeric, colnames, colnames<-,\n",
      "    ifelse, %in%, is.character, is.factor, is.numeric, log, log10,\n",
      "    log1p, log2, round, signif, trunc\n",
      "\n",
      "\n",
      "  res = super(Function, self).__call__(*new_args, **new_kwargs)\n"
     ]
    },
    {
     "data": {
      "text/plain": [
       " Connection successful!\n",
       "\n",
       "R is connected to the H2O cluster: \n",
       "    H2O cluster uptime:         34 minutes 39 seconds \n",
       "    H2O cluster version:        3.9.1.3435 \n",
       "    H2O cluster name:           H2O_started_from_R_rbhat_xqb196 \n",
       "    H2O cluster total nodes:    1 \n",
       "    H2O cluster total memory:   26.59 GB \n",
       "    H2O cluster total cores:    56 \n",
       "    H2O cluster allowed cores:  2 \n",
       "    H2O cluster healthy:        TRUE \n",
       "    H2O Connection ip:          localhost \n",
       "    H2O Connection port:        54321 \n",
       "    H2O Connection proxy:       NA \n",
       "    R Version:                  R version 3.3.0 beta (2016-03-30 r70404) \n",
       "\n"
      ]
     },
     "metadata": {},
     "output_type": "display_data"
    }
   ],
   "source": [
    "%%R\n",
    "library(h2o)\n",
    "localH2O = h2o.init(ip = \"localhost\", port = 54321, startH2O = TRUE,min_mem_size = \"3g\")"
   ]
  },
  {
   "cell_type": "code",
   "execution_count": 34,
   "metadata": {
    "collapsed": false
   },
   "outputs": [
    {
     "data": {
      "text/plain": [
       "\r",
       "  |                                                                            \r",
       "  |                                                                      |   0%\r",
       "  |                                                                            \r",
       "  |=====                                                                 |   7%\r",
       "  |                                                                            \r",
       "  |======================================================================| 100%\n",
       "'data.frame':\t112720 obs. of  16 variables:\n",
       " $ C1             : int  1 2 3 4 5 6 7 8 9 10 ...\n",
       " $ X              : int  0 1 2 3 4 5 6 7 8 9 ...\n",
       " $ RefAllele      : int  12 11 3 17 12 30 49 51 15 14 ...\n",
       " $ NonRefAllele   : int  4 4 3 3 6 13 12 10 8 4 ...\n",
       " $ BaseQual       : int  452 473 193 636 511 1190 954 1142 709 562 ...\n",
       " $ TumourCoverage : int  22 21 6 20 18 45 67 66 23 18 ...\n",
       " $ NormalCoverage : int  19 19 3 10 11 40 66 66 16 19 ...\n",
       " $ MapQual        : num  0 34 23.5 47.5 47.5 60 60 60 40 43 ...\n",
       " $ ReadPosition   : num  34.5 40 63 39 63 21 38 40 50 51.5 ...\n",
       " $ Trinucleotide  : Factor w/ 32 levels \"ACA\",\"ACC\",\"ACG\",..: 12 12 20 2 5 32 29 5 26 32 ...\n",
       " $ HomopolymerRate: num  5.2 5.11 2.74 2.89 3.51 ...\n",
       " $ GCcontent      : num  0.579 0.594 0.475 0.257 0.406 ...\n",
       " $ GenomicLocation: Factor w/ 16 levels \"downstream\",\"exonic\",..: 4 NA 7 4 4 4 4 4 4 4 ...\n",
       " $ Distance       : int  41086 41079 31012 4726 4374 109 145 147 54 7196 ...\n",
       " $ StrandBias     : num  0.636 0.667 0 0.45 0.556 ...\n",
       " $ Label          : int  0 0 0 0 0 0 0 0 0 0 ...\n"
      ]
     },
     "metadata": {},
     "output_type": "display_data"
    }
   ],
   "source": [
    "%%R\n",
    "## Import CSV as H2O:\n",
    "csvPath = \"/home/rbhat/Workspace/S3Lab_Projects/SMC-MetaChallange/IS4_imputed.csv\"\n",
    "IS4.hex          = h2o.importFile(path = csvPath, destination_frame = \"IS4.hex\") \n",
    "train                 = as.data.frame(IS4.hex)\n",
    "\n",
    "str(train)"
   ]
  },
  {
   "cell_type": "code",
   "execution_count": 35,
   "metadata": {
    "collapsed": false
   },
   "outputs": [
    {
     "data": {
      "text/plain": [
       "\r",
       "  |                                                                            \r",
       "  |                                                                      |   0%\r",
       "  |                                                                            \r",
       "  |======================================================================| 100%\n"
      ]
     },
     "metadata": {},
     "output_type": "display_data"
    }
   ],
   "source": [
    "%%R\n",
    "\n",
    "train$Trinucleotide   = as.factor(train$Trinucleotide)\n",
    "train$GenomicLocation = as.factor(train$GenomicLocation)\n",
    "train$Label           = as.factor(train$Label)\n",
    "\n",
    "train_h2o             = as.h2o(train)"
   ]
  },
  {
   "cell_type": "code",
   "execution_count": 36,
   "metadata": {
    "collapsed": false
   },
   "outputs": [
    {
     "data": {
      "text/plain": [
       "\r",
       "  |                                                                            \r",
       "  |                                                                      |   0%\r",
       "  |                                                                            \r",
       "  |=                                                                     |   2%\r",
       "  |                                                                            \r",
       "  |======                                                                |   9%\r",
       "  |                                                                            \r",
       "  |===========                                                           |  16%\r",
       "  |                                                                            \r",
       "  |================                                                      |  23%\r",
       "  |                                                                            \r",
       "  |======================                                                |  32%\r",
       "  |                                                                            \r",
       "  |==========================                                            |  37%\r",
       "  |                                                                            \r",
       "  |===============================                                       |  44%\r",
       "  |                                                                            \r",
       "  |=====================================                                 |  53%\r",
       "  |                                                                            \r",
       "  |==========================================                            |  60%\r",
       "  |                                                                            \r",
       "  |===============================================                       |  67%\r",
       "  |                                                                            \r",
       "  |=====================================================                 |  76%\r",
       "  |                                                                            \r",
       "  |==========================================================            |  83%\r",
       "  |                                                                            \r",
       "  |=================================================================     |  92%\r",
       "  |                                                                            \r",
       "  |======================================================================|  99%\r",
       "  |                                                                            \r",
       "  |======================================================================| 100%\n"
      ]
     },
     "metadata": {},
     "output_type": "display_data"
    }
   ],
   "source": [
    "%%R\n",
    "#Training a deep learning model:---------------------------------------------------------#\n",
    "model <- h2o.deeplearning( x = 3:15, # column numbers for predictors\n",
    "                           y = 16,            # column number for label\n",
    "                           training_frame = train_h2o,\n",
    "                           activation = \"RectifierWithDropout\", \n",
    "                           input_dropout_ratio = 0.2,\n",
    "                           hidden_dropout_ratios = c(0.5,0.5),\n",
    "                           balance_classes = TRUE, \n",
    "                           hidden = c(10,8),  ## two hidden layers\n",
    "                           epochs = 50,\n",
    "                           variable_importances = T)"
   ]
  },
  {
   "cell_type": "code",
   "execution_count": 37,
   "metadata": {
    "collapsed": false
   },
   "outputs": [
    {
     "data": {
      "text/plain": [
       "Variable Importances: \n",
       "        variable relative_importance scaled_importance percentage\n",
       "1   NonRefAllele            1.000000          1.000000   0.360420\n",
       "2       BaseQual            0.238011          0.238011   0.085784\n",
       "3      RefAllele            0.185920          0.185920   0.067009\n",
       "4 NormalCoverage            0.154091          0.154091   0.055537\n",
       "5 TumourCoverage            0.152289          0.152289   0.054888\n",
       "\n",
       "---\n",
       "                     variable relative_importance scaled_importance percentage\n",
       "56          Trinucleotide.TCC            0.005665          0.005665   0.002042\n",
       "57 GenomicLocation.intergenic            0.005408          0.005408   0.001949\n",
       "58          Trinucleotide.GCT            0.005073          0.005073   0.001828\n",
       "59          Trinucleotide.CCA            0.004997          0.004997   0.001801\n",
       "60                 StrandBias            0.004259          0.004259   0.001535\n",
       "61  Trinucleotide.missing(NA)            0.000000          0.000000   0.000000\n"
      ]
     },
     "metadata": {},
     "output_type": "display_data"
    }
   ],
   "source": [
    "%%R\n",
    "var_importance = h2o.varimp(model)\n",
    "#print(var_importance)\n",
    "h2o.varimp(model)"
   ]
  },
  {
   "cell_type": "code",
   "execution_count": 38,
   "metadata": {
    "collapsed": true
   },
   "outputs": [],
   "source": [
    "%%R\n",
    "write.table(var_importance, file=\"IS4_variable_importance.csv\")"
   ]
  },
  {
   "cell_type": "code",
   "execution_count": 39,
   "metadata": {
    "collapsed": true
   },
   "outputs": [],
   "source": [
    "var_importance = pd.read_csv(open('IS4_variable_importance.csv','r'),sep=' ')\n",
    "#pd.read_csv('CPCG0100_variable_importance.csv')"
   ]
  },
  {
   "cell_type": "code",
   "execution_count": 40,
   "metadata": {
    "collapsed": false
   },
   "outputs": [
    {
     "data": {
      "text/html": [
       "<div style=\"max-height:1000px;max-width:1500px;overflow:auto;\">\n",
       "<table border=\"1\" class=\"dataframe\">\n",
       "  <thead>\n",
       "    <tr style=\"text-align: right;\">\n",
       "      <th></th>\n",
       "      <th>variable</th>\n",
       "      <th>relative_importance</th>\n",
       "      <th>scaled_importance</th>\n",
       "      <th>percentage</th>\n",
       "    </tr>\n",
       "  </thead>\n",
       "  <tbody>\n",
       "    <tr>\n",
       "      <th>1</th>\n",
       "      <td>   NonRefAllele</td>\n",
       "      <td> 1.000000</td>\n",
       "      <td> 1.000000</td>\n",
       "      <td> 0.360420</td>\n",
       "    </tr>\n",
       "    <tr>\n",
       "      <th>2</th>\n",
       "      <td>       BaseQual</td>\n",
       "      <td> 0.238011</td>\n",
       "      <td> 0.238011</td>\n",
       "      <td> 0.085784</td>\n",
       "    </tr>\n",
       "    <tr>\n",
       "      <th>3</th>\n",
       "      <td>      RefAllele</td>\n",
       "      <td> 0.185920</td>\n",
       "      <td> 0.185920</td>\n",
       "      <td> 0.067009</td>\n",
       "    </tr>\n",
       "    <tr>\n",
       "      <th>4</th>\n",
       "      <td> NormalCoverage</td>\n",
       "      <td> 0.154091</td>\n",
       "      <td> 0.154091</td>\n",
       "      <td> 0.055537</td>\n",
       "    </tr>\n",
       "    <tr>\n",
       "      <th>5</th>\n",
       "      <td> TumourCoverage</td>\n",
       "      <td> 0.152289</td>\n",
       "      <td> 0.152289</td>\n",
       "      <td> 0.054888</td>\n",
       "    </tr>\n",
       "  </tbody>\n",
       "</table>\n",
       "<p>5 rows × 4 columns</p>\n",
       "</div>"
      ],
      "text/plain": [
       "         variable  relative_importance  scaled_importance  percentage\n",
       "1    NonRefAllele             1.000000           1.000000    0.360420\n",
       "2        BaseQual             0.238011           0.238011    0.085784\n",
       "3       RefAllele             0.185920           0.185920    0.067009\n",
       "4  NormalCoverage             0.154091           0.154091    0.055537\n",
       "5  TumourCoverage             0.152289           0.152289    0.054888\n",
       "\n",
       "[5 rows x 4 columns]"
      ]
     },
     "execution_count": 40,
     "metadata": {},
     "output_type": "execute_result"
    }
   ],
   "source": [
    "var_importance[:5]"
   ]
  },
  {
   "cell_type": "code",
   "execution_count": 41,
   "metadata": {
    "collapsed": false
   },
   "outputs": [
    {
     "data": {
      "text/html": [
       "<div style=\"max-height:1000px;max-width:1500px;overflow:auto;\">\n",
       "<table border=\"1\" class=\"dataframe\">\n",
       "  <thead>\n",
       "    <tr style=\"text-align: right;\">\n",
       "      <th></th>\n",
       "      <th>CHROM</th>\n",
       "      <th>POS</th>\n",
       "      <th>END</th>\n",
       "      <th>RefAllele</th>\n",
       "      <th>NonRefAllele</th>\n",
       "      <th>BaseQual</th>\n",
       "      <th>TumourCoverage</th>\n",
       "      <th>NormalCoverage</th>\n",
       "      <th>MapQual</th>\n",
       "      <th>ReadPosition</th>\n",
       "      <th>Trinucleotide</th>\n",
       "      <th>HomopolymerRate</th>\n",
       "      <th>GCcontent</th>\n",
       "      <th>GenomicLocation</th>\n",
       "      <th>Distance</th>\n",
       "      <th>StrandBias</th>\n",
       "    </tr>\n",
       "  </thead>\n",
       "  <tbody>\n",
       "    <tr>\n",
       "      <th>0</th>\n",
       "      <td> 1</td>\n",
       "      <td> 10392</td>\n",
       "      <td> 10393</td>\n",
       "      <td> 12</td>\n",
       "      <td> 4</td>\n",
       "      <td> 452</td>\n",
       "      <td> 22</td>\n",
       "      <td> 19</td>\n",
       "      <td>  0.0</td>\n",
       "      <td> 34.5</td>\n",
       "      <td> CCT</td>\n",
       "      <td> 5.204082</td>\n",
       "      <td> 0.579208</td>\n",
       "      <td>     intergenic</td>\n",
       "      <td> 41086</td>\n",
       "      <td> 0.636364</td>\n",
       "    </tr>\n",
       "    <tr>\n",
       "      <th>1</th>\n",
       "      <td> 1</td>\n",
       "      <td> 10399</td>\n",
       "      <td> 10400</td>\n",
       "      <td> 11</td>\n",
       "      <td> 4</td>\n",
       "      <td> 473</td>\n",
       "      <td> 21</td>\n",
       "      <td> 19</td>\n",
       "      <td> 34.0</td>\n",
       "      <td> 40.0</td>\n",
       "      <td> CCT</td>\n",
       "      <td> 5.111111</td>\n",
       "      <td> 0.594059</td>\n",
       "      <td>            NaN</td>\n",
       "      <td> 41079</td>\n",
       "      <td> 0.666667</td>\n",
       "    </tr>\n",
       "    <tr>\n",
       "      <th>2</th>\n",
       "      <td> 1</td>\n",
       "      <td> 20466</td>\n",
       "      <td> 20467</td>\n",
       "      <td>  3</td>\n",
       "      <td> 3</td>\n",
       "      <td> 193</td>\n",
       "      <td>  6</td>\n",
       "      <td>  3</td>\n",
       "      <td> 23.5</td>\n",
       "      <td> 63.0</td>\n",
       "      <td> GCT</td>\n",
       "      <td> 2.739130</td>\n",
       "      <td> 0.475248</td>\n",
       "      <td> ncRNA_intronic</td>\n",
       "      <td> 31012</td>\n",
       "      <td> 0.000000</td>\n",
       "    </tr>\n",
       "    <tr>\n",
       "      <th>3</th>\n",
       "      <td> 1</td>\n",
       "      <td> 61498</td>\n",
       "      <td> 61499</td>\n",
       "      <td> 17</td>\n",
       "      <td> 3</td>\n",
       "      <td> 636</td>\n",
       "      <td> 20</td>\n",
       "      <td> 10</td>\n",
       "      <td> 47.5</td>\n",
       "      <td> 39.0</td>\n",
       "      <td> ACC</td>\n",
       "      <td> 2.891304</td>\n",
       "      <td> 0.257426</td>\n",
       "      <td>     intergenic</td>\n",
       "      <td>  4726</td>\n",
       "      <td> 0.450000</td>\n",
       "    </tr>\n",
       "    <tr>\n",
       "      <th>4</th>\n",
       "      <td> 1</td>\n",
       "      <td> 61850</td>\n",
       "      <td> 61851</td>\n",
       "      <td> 12</td>\n",
       "      <td> 6</td>\n",
       "      <td> 511</td>\n",
       "      <td> 18</td>\n",
       "      <td> 11</td>\n",
       "      <td> 47.5</td>\n",
       "      <td> 63.0</td>\n",
       "      <td> ATA</td>\n",
       "      <td> 3.507463</td>\n",
       "      <td> 0.405941</td>\n",
       "      <td>     intergenic</td>\n",
       "      <td>  4374</td>\n",
       "      <td> 0.555556</td>\n",
       "    </tr>\n",
       "  </tbody>\n",
       "</table>\n",
       "<p>5 rows × 16 columns</p>\n",
       "</div>"
      ],
      "text/plain": [
       "  CHROM    POS    END  RefAllele  NonRefAllele  BaseQual  TumourCoverage  \\\n",
       "0     1  10392  10393         12             4       452              22   \n",
       "1     1  10399  10400         11             4       473              21   \n",
       "2     1  20466  20467          3             3       193               6   \n",
       "3     1  61498  61499         17             3       636              20   \n",
       "4     1  61850  61851         12             6       511              18   \n",
       "\n",
       "   NormalCoverage  MapQual  ReadPosition Trinucleotide  HomopolymerRate  \\\n",
       "0              19      0.0          34.5           CCT         5.204082   \n",
       "1              19     34.0          40.0           CCT         5.111111   \n",
       "2               3     23.5          63.0           GCT         2.739130   \n",
       "3              10     47.5          39.0           ACC         2.891304   \n",
       "4              11     47.5          63.0           ATA         3.507463   \n",
       "\n",
       "   GCcontent GenomicLocation  Distance  StrandBias  \n",
       "0   0.579208      intergenic     41086    0.636364  \n",
       "1   0.594059             NaN     41079    0.666667  \n",
       "2   0.475248  ncRNA_intronic     31012    0.000000  \n",
       "3   0.257426      intergenic      4726    0.450000  \n",
       "4   0.405941      intergenic      4374    0.555556  \n",
       "\n",
       "[5 rows x 16 columns]"
      ]
     },
     "execution_count": 41,
     "metadata": {},
     "output_type": "execute_result"
    }
   ],
   "source": [
    "GenomicFeatures_IS4[:5]"
   ]
  },
  {
   "cell_type": "code",
   "execution_count": 42,
   "metadata": {
    "collapsed": false
   },
   "outputs": [
    {
     "data": {
      "text/plain": [
       "{'BaseQual': 0.23801118135452301,\n",
       " 'Distance': 0.0079919714480638504,\n",
       " 'GCcontent': 0.0194189436733723,\n",
       " 'GenomicLocation.UTR3': 0.0139772212132812,\n",
       " 'GenomicLocation.UTR5': 0.019093381240963901,\n",
       " 'GenomicLocation.UTR5;UTR3': 0.041426029056310702,\n",
       " 'GenomicLocation.downstream': 0.0124378781765699,\n",
       " 'GenomicLocation.exonic': 0.024452332407236099,\n",
       " 'GenomicLocation.exonic;splicing': 0.0413472168147564,\n",
       " 'GenomicLocation.intergenic': 0.0054084528237581296,\n",
       " 'GenomicLocation.intronic': 0.0062452950514853001,\n",
       " 'GenomicLocation.missing(NA)': 0.0652158558368683,\n",
       " 'GenomicLocation.ncRNA_UTR3': 0.037007015198469197,\n",
       " 'GenomicLocation.ncRNA_UTR5': 0.038546890020370497,\n",
       " 'GenomicLocation.ncRNA_exonic': 0.022588627412915199,\n",
       " 'GenomicLocation.ncRNA_intronic': 0.0125372279435396,\n",
       " 'GenomicLocation.ncRNA_splicing': 0.033338088542222998,\n",
       " 'GenomicLocation.splicing': 0.037821322679519702,\n",
       " 'GenomicLocation.upstream': 0.015775028616190002,\n",
       " 'GenomicLocation.upstream;downstream': 0.0336332954466343,\n",
       " 'HomopolymerRate': 0.030080961063504202,\n",
       " 'MapQual': 0.050032343715429299,\n",
       " 'NonRefAllele': 1.0,\n",
       " 'NormalCoverage': 0.154090911149979,\n",
       " 'ReadPosition': 0.0066971248015761401,\n",
       " 'RefAllele': 0.18592047691345201,\n",
       " 'StrandBias': 0.0042592794634401798,\n",
       " 'Trinucleotide.ACA': 0.0093127526342868805,\n",
       " 'Trinucleotide.ACC': 0.0086951535195112211,\n",
       " 'Trinucleotide.ACG': 0.0223667547106743,\n",
       " 'Trinucleotide.ACT': 0.0099285459145903587,\n",
       " 'Trinucleotide.ATA': 0.00610951194539666,\n",
       " 'Trinucleotide.ATC': 0.012991380877792801,\n",
       " 'Trinucleotide.ATG': 0.00661773281171918,\n",
       " 'Trinucleotide.ATT': 0.0119068678468466,\n",
       " 'Trinucleotide.CCA': 0.0049965595826506597,\n",
       " 'Trinucleotide.CCC': 0.011312285438179999,\n",
       " 'Trinucleotide.CCG': 0.035830464214086498,\n",
       " 'Trinucleotide.CCT': 0.0078756939619779587,\n",
       " 'Trinucleotide.CTA': 0.011189340613782401,\n",
       " 'Trinucleotide.CTC': 0.017256908118724799,\n",
       " 'Trinucleotide.CTG': 0.0144750885665417,\n",
       " 'Trinucleotide.CTT': 0.011245510540902601,\n",
       " 'Trinucleotide.GCA': 0.0094510065391659702,\n",
       " 'Trinucleotide.GCC': 0.0056725521571934206,\n",
       " 'Trinucleotide.GCG': 0.085208311676979107,\n",
       " 'Trinucleotide.GCT': 0.0050726756453514099,\n",
       " 'Trinucleotide.GTA': 0.013106475584209,\n",
       " 'Trinucleotide.GTC': 0.0085132606327533705,\n",
       " 'Trinucleotide.GTG': 0.0076815658248960998,\n",
       " 'Trinucleotide.GTT': 0.0125231510028243,\n",
       " 'Trinucleotide.TCA': 0.0062177367508411399,\n",
       " 'Trinucleotide.TCC': 0.0056651323102414599,\n",
       " 'Trinucleotide.TCG': 0.023444537073373801,\n",
       " 'Trinucleotide.TCT': 0.010180062614381299,\n",
       " 'Trinucleotide.TTA': 0.0157234650105238,\n",
       " 'Trinucleotide.TTC': 0.023628687486052499,\n",
       " 'Trinucleotide.TTG': 0.013357124291360401,\n",
       " 'Trinucleotide.TTT': 0.0173410791903734,\n",
       " 'Trinucleotide.missing(NA)': 0.0,\n",
       " 'TumourCoverage': 0.15228854119777699}"
      ]
     },
     "execution_count": 42,
     "metadata": {},
     "output_type": "execute_result"
    }
   ],
   "source": [
    "var_imp_dict = {}\n",
    "\n",
    "for i in range(var_importance.shape[0]):\n",
    "    var_imp_dict[var_importance.iloc[i,0]] = var_importance.iloc[i,1]\n",
    "\n",
    "var_imp_dict"
   ]
  },
  {
   "cell_type": "code",
   "execution_count": 43,
   "metadata": {
    "collapsed": false
   },
   "outputs": [
    {
     "data": {
      "text/plain": [
       "Index([u'CHROM', u'POS', u'END', u'RefAllele', u'NonRefAllele', u'BaseQual', u'TumourCoverage', u'NormalCoverage', u'MapQual', u'ReadPosition', u'Trinucleotide', u'HomopolymerRate', u'GCcontent', u'GenomicLocation', u'Distance', u'StrandBias'], dtype='object')"
      ]
     },
     "execution_count": 43,
     "metadata": {},
     "output_type": "execute_result"
    }
   ],
   "source": [
    "GenomicFeatures_IS4.columns"
   ]
  },
  {
   "cell_type": "code",
   "execution_count": 44,
   "metadata": {
    "collapsed": false
   },
   "outputs": [
    {
     "data": {
      "text/plain": [
       "CHROM               object\n",
       "POS                  int64\n",
       "END                  int64\n",
       "RefAllele            int64\n",
       "NonRefAllele         int64\n",
       "BaseQual             int64\n",
       "TumourCoverage       int64\n",
       "NormalCoverage       int64\n",
       "MapQual            float64\n",
       "ReadPosition       float64\n",
       "Trinucleotide       object\n",
       "HomopolymerRate    float64\n",
       "GCcontent          float64\n",
       "GenomicLocation     object\n",
       "Distance             int64\n",
       "StrandBias         float64\n",
       "dtype: object"
      ]
     },
     "execution_count": 44,
     "metadata": {},
     "output_type": "execute_result"
    }
   ],
   "source": [
    "GenomicFeatures_IS4.dtypes"
   ]
  },
  {
   "cell_type": "code",
   "execution_count": 45,
   "metadata": {
    "collapsed": false
   },
   "outputs": [
    {
     "data": {
      "text/plain": [
       "'intergenic'"
      ]
     },
     "execution_count": 45,
     "metadata": {},
     "output_type": "execute_result"
    }
   ],
   "source": [
    "GenomicFeatures_IS4.iloc[0,13]"
   ]
  },
  {
   "cell_type": "code",
   "execution_count": 46,
   "metadata": {
    "collapsed": false
   },
   "outputs": [
    {
     "data": {
      "text/html": [
       "<div style=\"max-height:1000px;max-width:1500px;overflow:auto;\">\n",
       "<table border=\"1\" class=\"dataframe\">\n",
       "  <thead>\n",
       "    <tr style=\"text-align: right;\">\n",
       "      <th></th>\n",
       "      <th>CHROM</th>\n",
       "      <th>POS</th>\n",
       "      <th>END</th>\n",
       "      <th>RefAllele</th>\n",
       "      <th>NonRefAllele</th>\n",
       "      <th>BaseQual</th>\n",
       "      <th>TumourCoverage</th>\n",
       "      <th>NormalCoverage</th>\n",
       "      <th>MapQual</th>\n",
       "      <th>ReadPosition</th>\n",
       "      <th>Trinucleotide</th>\n",
       "      <th>HomopolymerRate</th>\n",
       "      <th>GCcontent</th>\n",
       "      <th>GenomicLocation</th>\n",
       "      <th>Distance</th>\n",
       "      <th>StrandBias</th>\n",
       "    </tr>\n",
       "  </thead>\n",
       "  <tbody>\n",
       "    <tr>\n",
       "      <th>0</th>\n",
       "      <td> 1</td>\n",
       "      <td> 10392</td>\n",
       "      <td> 10393</td>\n",
       "      <td> 12</td>\n",
       "      <td> 4</td>\n",
       "      <td> 452</td>\n",
       "      <td> 22</td>\n",
       "      <td> 19</td>\n",
       "      <td>  0</td>\n",
       "      <td> 34.5</td>\n",
       "      <td> CCT</td>\n",
       "      <td> 5.204082</td>\n",
       "      <td> 0.579208</td>\n",
       "      <td> intergenic</td>\n",
       "      <td> 41086</td>\n",
       "      <td> 0.636364</td>\n",
       "    </tr>\n",
       "    <tr>\n",
       "      <th>1</th>\n",
       "      <td> 1</td>\n",
       "      <td> 10399</td>\n",
       "      <td> 10400</td>\n",
       "      <td> 11</td>\n",
       "      <td> 4</td>\n",
       "      <td> 473</td>\n",
       "      <td> 21</td>\n",
       "      <td> 19</td>\n",
       "      <td> 34</td>\n",
       "      <td> 40.0</td>\n",
       "      <td> CCT</td>\n",
       "      <td> 5.111111</td>\n",
       "      <td> 0.594059</td>\n",
       "      <td>        NaN</td>\n",
       "      <td> 41079</td>\n",
       "      <td> 0.666667</td>\n",
       "    </tr>\n",
       "  </tbody>\n",
       "</table>\n",
       "<p>2 rows × 16 columns</p>\n",
       "</div>"
      ],
      "text/plain": [
       "  CHROM    POS    END  RefAllele  NonRefAllele  BaseQual  TumourCoverage  \\\n",
       "0     1  10392  10393         12             4       452              22   \n",
       "1     1  10399  10400         11             4       473              21   \n",
       "\n",
       "   NormalCoverage  MapQual  ReadPosition Trinucleotide  HomopolymerRate  \\\n",
       "0              19        0          34.5           CCT         5.204082   \n",
       "1              19       34          40.0           CCT         5.111111   \n",
       "\n",
       "   GCcontent GenomicLocation  Distance  StrandBias  \n",
       "0   0.579208      intergenic     41086    0.636364  \n",
       "1   0.594059             NaN     41079    0.666667  \n",
       "\n",
       "[2 rows x 16 columns]"
      ]
     },
     "execution_count": 46,
     "metadata": {},
     "output_type": "execute_result"
    }
   ],
   "source": [
    "GenomicFeatures_IS4[:2]\n",
    "#print GenomicFeatures_IS1.iloc[0,2]"
   ]
  },
  {
   "cell_type": "code",
   "execution_count": 48,
   "metadata": {
    "collapsed": false
   },
   "outputs": [],
   "source": [
    "noOfSample = GenomicFeatures_IS4.shape[0]\n",
    "\n",
    "IS4_Dict = {}\n",
    "\n",
    "for i in range(noOfSample):\n",
    "    \n",
    "    pos = GenomicFeatures_IS4.iloc[i,1] #gets the pos value\n",
    "    \n",
    "    RefAllele      = GenomicFeatures_IS4.iloc[i,3]*var_imp_dict['RefAllele']\n",
    "    NonRefAllele   = GenomicFeatures_IS4.iloc[i,4]*var_imp_dict['NonRefAllele']\n",
    "    BaseQual       = GenomicFeatures_IS4.iloc[i,5]*var_imp_dict['BaseQual']\n",
    "    TumourCoverage = GenomicFeatures_IS4.iloc[i,6]*var_imp_dict['TumourCoverage']\n",
    "    NormalCoverage = GenomicFeatures_IS4.iloc[i,7]*var_imp_dict['NormalCoverage']\n",
    "    MapQual        = GenomicFeatures_IS4.iloc[i,8]*var_imp_dict['MapQual']\n",
    "    ReadPosition   = GenomicFeatures_IS4.iloc[i,9]*var_imp_dict['ReadPosition']\n",
    "    \n",
    "    Trinucleotide  = 0\n",
    "    if isinstance(GenomicFeatures_IS4.iloc[i,10], str):\n",
    "        Trinucleotide  = var_imp_dict['Trinucleotide.'+str(GenomicFeatures_IS4.iloc[i,10])]\n",
    "    HomopolymerRate= GenomicFeatures_IS4.iloc[i,11]*var_imp_dict['HomopolymerRate']\n",
    "    GCcontent      = GenomicFeatures_IS4.iloc[i,12]*var_imp_dict['GCcontent']\n",
    "    \n",
    "    GenomicLocation = 0\n",
    "    if isinstance(GenomicFeatures_IS4.iloc[i,13], str):\n",
    "        GenomicLocation= var_imp_dict['GenomicLocation.'+str(GenomicFeatures_IS4.iloc[i,13])]\n",
    "    Distance    = GenomicFeatures_IS4.iloc[i,14]*var_imp_dict['Distance']\n",
    "    StrandBias     = GenomicFeatures_IS4.iloc[i,15]*var_imp_dict['StrandBias']\n",
    "    \n",
    "    #print 'RefAllele=',RefAllele,' NonRefAllele=',NonRefAllele,' BaseQual=',BaseQual,' TumourCoverage=',TumourCoverage\n",
    "    #print 'NormalCoverage=',NormalCoverage,' MapQual=',MapQual,' ReadPosition=',ReadPosition,' Trinucleotide=',Trinucleotide\n",
    "    #print 'HomopolymerRate=',HomopolymerRate,' GCcontent=',GCcontent,' GenomicLocation=',GenomicLocation,' Distance=',Distance\n",
    "    #print 'StrandBias=',StrandBias\n",
    "    IS4_Dict[pos] = RefAllele+NonRefAllele+BaseQual+TumourCoverage+NormalCoverage+MapQual+ReadPosition+Trinucleotide+ \\\n",
    "                         HomopolymerRate+GCcontent+GenomicLocation+Distance+StrandBias"
   ]
  },
  {
   "cell_type": "code",
   "execution_count": 49,
   "metadata": {
    "collapsed": true
   },
   "outputs": [],
   "source": [
    "#Sorting dictionary\n",
    "IS4_Dict1 = [(k,v) for v,k in sorted([(v,k) for k,v in IS4_Dict.items()],reverse=True)]"
   ]
  },
  {
   "cell_type": "code",
   "execution_count": 50,
   "metadata": {
    "collapsed": true
   },
   "outputs": [],
   "source": [
    "IS4_Dict_Frame = pd.DataFrame(IS4_Dict1, columns=['POS', 'Value'])"
   ]
  },
  {
   "cell_type": "code",
   "execution_count": 51,
   "metadata": {
    "collapsed": true
   },
   "outputs": [],
   "source": [
    "IS4_Dict_Frame.to_csv(\"IS4_Dict_Frame.csv\")"
   ]
  },
  {
   "cell_type": "code",
   "execution_count": 52,
   "metadata": {
    "collapsed": false
   },
   "outputs": [
    {
     "data": {
      "text/html": [
       "<div style=\"max-height:1000px;max-width:1500px;overflow:auto;\">\n",
       "<table border=\"1\" class=\"dataframe\">\n",
       "  <thead>\n",
       "    <tr style=\"text-align: right;\">\n",
       "      <th></th>\n",
       "      <th>POS</th>\n",
       "      <th>Value</th>\n",
       "    </tr>\n",
       "  </thead>\n",
       "  <tbody>\n",
       "    <tr>\n",
       "      <th>0</th>\n",
       "      <td> 121485153</td>\n",
       "      <td> 81797.940172</td>\n",
       "    </tr>\n",
       "    <tr>\n",
       "      <th>1</th>\n",
       "      <td> 121485161</td>\n",
       "      <td> 81611.688349</td>\n",
       "    </tr>\n",
       "    <tr>\n",
       "      <th>2</th>\n",
       "      <td> 121485255</td>\n",
       "      <td> 80631.109386</td>\n",
       "    </tr>\n",
       "    <tr>\n",
       "      <th>3</th>\n",
       "      <td> 121485309</td>\n",
       "      <td> 80291.004489</td>\n",
       "    </tr>\n",
       "    <tr>\n",
       "      <th>4</th>\n",
       "      <td> 121485254</td>\n",
       "      <td> 79853.609672</td>\n",
       "    </tr>\n",
       "    <tr>\n",
       "      <th>5</th>\n",
       "      <td> 121485114</td>\n",
       "      <td> 78497.920492</td>\n",
       "    </tr>\n",
       "    <tr>\n",
       "      <th>6</th>\n",
       "      <td> 121485111</td>\n",
       "      <td> 78254.580406</td>\n",
       "    </tr>\n",
       "    <tr>\n",
       "      <th>7</th>\n",
       "      <td> 121485196</td>\n",
       "      <td> 78235.346911</td>\n",
       "    </tr>\n",
       "    <tr>\n",
       "      <th>8</th>\n",
       "      <td> 121484958</td>\n",
       "      <td> 78169.229084</td>\n",
       "    </tr>\n",
       "    <tr>\n",
       "      <th>9</th>\n",
       "      <td> 121485214</td>\n",
       "      <td> 78156.653039</td>\n",
       "    </tr>\n",
       "  </tbody>\n",
       "</table>\n",
       "<p>10 rows × 2 columns</p>\n",
       "</div>"
      ],
      "text/plain": [
       "         POS         Value\n",
       "0  121485153  81797.940172\n",
       "1  121485161  81611.688349\n",
       "2  121485255  80631.109386\n",
       "3  121485309  80291.004489\n",
       "4  121485254  79853.609672\n",
       "5  121485114  78497.920492\n",
       "6  121485111  78254.580406\n",
       "7  121485196  78235.346911\n",
       "8  121484958  78169.229084\n",
       "9  121485214  78156.653039\n",
       "\n",
       "[10 rows x 2 columns]"
      ]
     },
     "execution_count": 52,
     "metadata": {},
     "output_type": "execute_result"
    }
   ],
   "source": [
    "IS4_Dict_Frame[:10]"
   ]
  },
  {
   "cell_type": "code",
   "execution_count": 56,
   "metadata": {
    "collapsed": true
   },
   "outputs": [],
   "source": [
    "GenomicFeatures_IS4_1 = pd.concat([IS4.iloc[:,0:16], IS4_Y_Val_1],axis=1)"
   ]
  },
  {
   "cell_type": "code",
   "execution_count": 57,
   "metadata": {
    "collapsed": false
   },
   "outputs": [
    {
     "name": "stdout",
     "output_type": "stream",
     "text": [
      "[121485153 121485161 121485255 121485309 121485254 121485114 121485111\n",
      " 121485196 121484958 121485214 121484934 121484642 121485314 121485078\n",
      " 121484654 121485076 121484491 121484959  61969356 121484813]\n"
     ]
    }
   ],
   "source": [
    "rows = IS4_Dict_Frame['POS'][:20].values\n",
    "print rows\n",
    "GenomicFeatures_IS4_Top20 = GenomicFeatures_IS4_1.loc[GenomicFeatures_IS4_1['POS'].isin(rows)]"
   ]
  },
  {
   "cell_type": "code",
   "execution_count": 59,
   "metadata": {
    "collapsed": false
   },
   "outputs": [
    {
     "data": {
      "text/html": [
       "<div style=\"max-height:1000px;max-width:1500px;overflow:auto;\">\n",
       "<table border=\"1\" class=\"dataframe\">\n",
       "  <thead>\n",
       "    <tr style=\"text-align: right;\">\n",
       "      <th></th>\n",
       "      <th>CHROM</th>\n",
       "      <th>POS</th>\n",
       "      <th>END_x</th>\n",
       "      <th>RefAllele</th>\n",
       "      <th>NonRefAllele</th>\n",
       "      <th>BaseQual</th>\n",
       "      <th>TumourCoverage</th>\n",
       "      <th>NormalCoverage</th>\n",
       "      <th>MapQual</th>\n",
       "      <th>ReadPosition</th>\n",
       "      <th>Trinucleotide</th>\n",
       "      <th>HomopolymerRate</th>\n",
       "      <th>GCcontent</th>\n",
       "      <th>GenomicLocation</th>\n",
       "      <th>Distance</th>\n",
       "      <th>StrandBias</th>\n",
       "      <th>Label</th>\n",
       "    </tr>\n",
       "  </thead>\n",
       "  <tbody>\n",
       "    <tr>\n",
       "      <th>5196</th>\n",
       "      <td> 1</td>\n",
       "      <td> 121484491</td>\n",
       "      <td> 121484492</td>\n",
       "      <td> 7965</td>\n",
       "      <td> 32</td>\n",
       "      <td> 275461</td>\n",
       "      <td> 30768</td>\n",
       "      <td> 31331</td>\n",
       "      <td> 60</td>\n",
       "      <td> 48</td>\n",
       "      <td> CTG</td>\n",
       "      <td> 2.544828</td>\n",
       "      <td> 0.361386</td>\n",
       "      <td> NaN</td>\n",
       "      <td> 1556</td>\n",
       "      <td> 0.504648</td>\n",
       "      <td> 0</td>\n",
       "    </tr>\n",
       "    <tr>\n",
       "      <th>5205</th>\n",
       "      <td> 1</td>\n",
       "      <td> 121484642</td>\n",
       "      <td> 121484643</td>\n",
       "      <td> 7884</td>\n",
       "      <td> 48</td>\n",
       "      <td> 271591</td>\n",
       "      <td> 37492</td>\n",
       "      <td> 38086</td>\n",
       "      <td> 57</td>\n",
       "      <td> 53</td>\n",
       "      <td> GTA</td>\n",
       "      <td> 2.655172</td>\n",
       "      <td> 0.376238</td>\n",
       "      <td> NaN</td>\n",
       "      <td> 1707</td>\n",
       "      <td> 0.543023</td>\n",
       "      <td> 0</td>\n",
       "    </tr>\n",
       "    <tr>\n",
       "      <th>5206</th>\n",
       "      <td> 1</td>\n",
       "      <td> 121484654</td>\n",
       "      <td> 121484655</td>\n",
       "      <td> 7902</td>\n",
       "      <td> 35</td>\n",
       "      <td> 271391</td>\n",
       "      <td> 35279</td>\n",
       "      <td> 35614</td>\n",
       "      <td> 55</td>\n",
       "      <td> 54</td>\n",
       "      <td> ACC</td>\n",
       "      <td> 2.486486</td>\n",
       "      <td> 0.371287</td>\n",
       "      <td> NaN</td>\n",
       "      <td> 1719</td>\n",
       "      <td> 0.539925</td>\n",
       "      <td> 0</td>\n",
       "    </tr>\n",
       "    <tr>\n",
       "      <th>5214</th>\n",
       "      <td> 1</td>\n",
       "      <td> 121484813</td>\n",
       "      <td> 121484814</td>\n",
       "      <td> 7946</td>\n",
       "      <td> 32</td>\n",
       "      <td> 272823</td>\n",
       "      <td> 32695</td>\n",
       "      <td> 33074</td>\n",
       "      <td> 60</td>\n",
       "      <td> 51</td>\n",
       "      <td> GTC</td>\n",
       "      <td> 2.692857</td>\n",
       "      <td> 0.386139</td>\n",
       "      <td> NaN</td>\n",
       "      <td> 1878</td>\n",
       "      <td> 0.501269</td>\n",
       "      <td> 0</td>\n",
       "    </tr>\n",
       "    <tr>\n",
       "      <th>5223</th>\n",
       "      <td> 1</td>\n",
       "      <td> 121484934</td>\n",
       "      <td> 121484935</td>\n",
       "      <td> 7905</td>\n",
       "      <td> 37</td>\n",
       "      <td> 278611</td>\n",
       "      <td> 32321</td>\n",
       "      <td> 32664</td>\n",
       "      <td> 60</td>\n",
       "      <td> 49</td>\n",
       "      <td> CTG</td>\n",
       "      <td> 2.434483</td>\n",
       "      <td> 0.371287</td>\n",
       "      <td> NaN</td>\n",
       "      <td> 1999</td>\n",
       "      <td> 0.517868</td>\n",
       "      <td> 0</td>\n",
       "    </tr>\n",
       "    <tr>\n",
       "      <th>5225</th>\n",
       "      <td> 1</td>\n",
       "      <td> 121484958</td>\n",
       "      <td> 121484959</td>\n",
       "      <td> 7913</td>\n",
       "      <td> 38</td>\n",
       "      <td> 280335</td>\n",
       "      <td> 32254</td>\n",
       "      <td> 32485</td>\n",
       "      <td> 60</td>\n",
       "      <td> 52</td>\n",
       "      <td> CTC</td>\n",
       "      <td> 2.426573</td>\n",
       "      <td> 0.391089</td>\n",
       "      <td> NaN</td>\n",
       "      <td> 2023</td>\n",
       "      <td> 0.510572</td>\n",
       "      <td> 0</td>\n",
       "    </tr>\n",
       "    <tr>\n",
       "      <th>5226</th>\n",
       "      <td> 1</td>\n",
       "      <td> 121484959</td>\n",
       "      <td> 121484960</td>\n",
       "      <td> 7896</td>\n",
       "      <td> 38</td>\n",
       "      <td> 273582</td>\n",
       "      <td> 32281</td>\n",
       "      <td> 32490</td>\n",
       "      <td> 60</td>\n",
       "      <td> 52</td>\n",
       "      <td> TCA</td>\n",
       "      <td> 2.482517</td>\n",
       "      <td> 0.396040</td>\n",
       "      <td> NaN</td>\n",
       "      <td> 2024</td>\n",
       "      <td> 0.511291</td>\n",
       "      <td> 0</td>\n",
       "    </tr>\n",
       "    <tr>\n",
       "      <th>5231</th>\n",
       "      <td> 1</td>\n",
       "      <td> 121485076</td>\n",
       "      <td> 121485077</td>\n",
       "      <td> 7845</td>\n",
       "      <td> 38</td>\n",
       "      <td> 270614</td>\n",
       "      <td> 35241</td>\n",
       "      <td> 35574</td>\n",
       "      <td> 57</td>\n",
       "      <td> 40</td>\n",
       "      <td> CTG</td>\n",
       "      <td> 2.116883</td>\n",
       "      <td> 0.400990</td>\n",
       "      <td> NaN</td>\n",
       "      <td> 2141</td>\n",
       "      <td> 0.475157</td>\n",
       "      <td> 0</td>\n",
       "    </tr>\n",
       "    <tr>\n",
       "      <th>5232</th>\n",
       "      <td> 1</td>\n",
       "      <td> 121485078</td>\n",
       "      <td> 121485079</td>\n",
       "      <td> 7801</td>\n",
       "      <td> 70</td>\n",
       "      <td> 271795</td>\n",
       "      <td> 36018</td>\n",
       "      <td> 36315</td>\n",
       "      <td> 51</td>\n",
       "      <td> 38</td>\n",
       "      <td> GCT</td>\n",
       "      <td> 2.124183</td>\n",
       "      <td> 0.400990</td>\n",
       "      <td> NaN</td>\n",
       "      <td> 2143</td>\n",
       "      <td> 0.470348</td>\n",
       "      <td> 0</td>\n",
       "    </tr>\n",
       "    <tr>\n",
       "      <th>5233</th>\n",
       "      <td> 1</td>\n",
       "      <td> 121485111</td>\n",
       "      <td> 121485112</td>\n",
       "      <td> 7937</td>\n",
       "      <td> 60</td>\n",
       "      <td> 267989</td>\n",
       "      <td> 42148</td>\n",
       "      <td> 42157</td>\n",
       "      <td> 42</td>\n",
       "      <td> 45</td>\n",
       "      <td> GTT</td>\n",
       "      <td> 2.248322</td>\n",
       "      <td> 0.405941</td>\n",
       "      <td> NaN</td>\n",
       "      <td> 2176</td>\n",
       "      <td> 0.429178</td>\n",
       "      <td> 0</td>\n",
       "    </tr>\n",
       "  </tbody>\n",
       "</table>\n",
       "<p>10 rows × 17 columns</p>\n",
       "</div>"
      ],
      "text/plain": [
       "     CHROM        POS      END_x  RefAllele  NonRefAllele  BaseQual  \\\n",
       "5196     1  121484491  121484492       7965            32    275461   \n",
       "5205     1  121484642  121484643       7884            48    271591   \n",
       "5206     1  121484654  121484655       7902            35    271391   \n",
       "5214     1  121484813  121484814       7946            32    272823   \n",
       "5223     1  121484934  121484935       7905            37    278611   \n",
       "5225     1  121484958  121484959       7913            38    280335   \n",
       "5226     1  121484959  121484960       7896            38    273582   \n",
       "5231     1  121485076  121485077       7845            38    270614   \n",
       "5232     1  121485078  121485079       7801            70    271795   \n",
       "5233     1  121485111  121485112       7937            60    267989   \n",
       "\n",
       "      TumourCoverage  NormalCoverage  MapQual  ReadPosition Trinucleotide  \\\n",
       "5196           30768           31331       60            48           CTG   \n",
       "5205           37492           38086       57            53           GTA   \n",
       "5206           35279           35614       55            54           ACC   \n",
       "5214           32695           33074       60            51           GTC   \n",
       "5223           32321           32664       60            49           CTG   \n",
       "5225           32254           32485       60            52           CTC   \n",
       "5226           32281           32490       60            52           TCA   \n",
       "5231           35241           35574       57            40           CTG   \n",
       "5232           36018           36315       51            38           GCT   \n",
       "5233           42148           42157       42            45           GTT   \n",
       "\n",
       "      HomopolymerRate  GCcontent GenomicLocation  Distance  StrandBias  Label  \n",
       "5196         2.544828   0.361386             NaN      1556    0.504648      0  \n",
       "5205         2.655172   0.376238             NaN      1707    0.543023      0  \n",
       "5206         2.486486   0.371287             NaN      1719    0.539925      0  \n",
       "5214         2.692857   0.386139             NaN      1878    0.501269      0  \n",
       "5223         2.434483   0.371287             NaN      1999    0.517868      0  \n",
       "5225         2.426573   0.391089             NaN      2023    0.510572      0  \n",
       "5226         2.482517   0.396040             NaN      2024    0.511291      0  \n",
       "5231         2.116883   0.400990             NaN      2141    0.475157      0  \n",
       "5232         2.124183   0.400990             NaN      2143    0.470348      0  \n",
       "5233         2.248322   0.405941             NaN      2176    0.429178      0  \n",
       "\n",
       "[10 rows x 17 columns]"
      ]
     },
     "execution_count": 59,
     "metadata": {},
     "output_type": "execute_result"
    }
   ],
   "source": [
    "GenomicFeatures_IS4_Top20[:10]"
   ]
  },
  {
   "cell_type": "code",
   "execution_count": 55,
   "metadata": {
    "collapsed": false
   },
   "outputs": [],
   "source": [
    "GenomicFeatures_IS4_Top20.to_csv('GenomicFeatures_IS4_Top20.csv')"
   ]
  },
  {
   "cell_type": "code",
   "execution_count": null,
   "metadata": {
    "collapsed": true
   },
   "outputs": [],
   "source": []
  },
  {
   "cell_type": "code",
   "execution_count": null,
   "metadata": {
    "collapsed": true
   },
   "outputs": [],
   "source": []
  }
 ],
 "metadata": {
  "kernelspec": {
   "display_name": "Python 2",
   "language": "python",
   "name": "python2"
  },
  "language_info": {
   "codemirror_mode": {
    "name": "ipython",
    "version": 2
   },
   "file_extension": ".py",
   "mimetype": "text/x-python",
   "name": "python",
   "nbconvert_exporter": "python",
   "pygments_lexer": "ipython2",
   "version": "2.7.6"
  }
 },
 "nbformat": 4,
 "nbformat_minor": 0
}
