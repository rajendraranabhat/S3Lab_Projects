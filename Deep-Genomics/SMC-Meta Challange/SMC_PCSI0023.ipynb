{
 "cells": [
  {
   "cell_type": "code",
   "execution_count": 68,
   "metadata": {
    "collapsed": false
   },
   "outputs": [],
   "source": [
    "import numpy as np\n",
    "import pandas as pd\n",
    "from collections import Counter\n",
    "import math\n",
    "\n",
    "from sklearn.neighbors import KNeighborsClassifier\n",
    "from sklearn.linear_model import LogisticRegression\n",
    "from sklearn.ensemble import RandomForestClassifier\n",
    "from sklearn.cross_validation import cross_val_score\n",
    "from sklearn import metrics\n",
    "from sklearn.cross_validation import train_test_split\n",
    "from sklearn.metrics import confusion_matrix, roc_curve, auc\n",
    "from sklearn.grid_search import GridSearchCV\n",
    "from sklearn import svm\n",
    "from sklearn.decomposition import RandomizedPCA\n",
    "from sklearn.metrics import classification_report\n",
    "from sklearn import preprocessing\n",
    "import matplotlib.pyplot as plt\n",
    "import scipy.optimize as opt\n",
    "import glob\n",
    "import os\n",
    "import sys\n",
    "import pickle\n",
    "import time\n",
    "import timeit\n",
    "\n",
    "from sklearn.decomposition import RandomizedPCA\n",
    "\n",
    "import theano\n",
    "import theano.tensor as T\n",
    "import lasagne\n",
    "\n",
    "#np.random.seed(1337)  # for reproducibility\n",
    "from keras.datasets import mnist\n",
    "from keras.models import Sequential\n",
    "from keras.layers.core import Dense, Dropout, Activation, Flatten, Layer, Reshape, AutoEncoder, Merge\n",
    "from keras.layers.convolutional import Convolution2D,MaxPooling2D,Convolution1D,MaxPooling1D,UpSampling2D, ZeroPadding2D\n",
    "from keras.optimizers import SGD, Adam, RMSprop, Adadelta\n",
    "from keras.layers.normalization import BatchNormalization\n",
    "from keras.utils import np_utils\n",
    "import keras.utils.visualize_util as vutil\n",
    "from keras.layers.recurrent import LSTM, GRU, SimpleRNN\n",
    "from keras.regularizers import l1, l2, l1l2, activity_l2, activity_l1\n",
    "import keras.layers.containers as containers\n",
    "from keras.layers.noise import GaussianNoise\n",
    "from keras.regularizers import ActivityRegularizer\n",
    "from keras import backend as K\n",
    "import keras.utils.visualize_util as vutil\n",
    "from keras.models import model_from_json\n",
    "\n",
    "import seaborn as sns\n",
    "\n",
    "%matplotlib inline\n",
    "\n",
    "from IPython.display import SVG\n",
    "\n",
    "import h5py\n",
    "\n",
    "np.set_printoptions(suppress=True)  #Supress exponent of the number 2e-2 == 0.02\n",
    "\n",
    "%matplotlib inline"
   ]
  },
  {
   "cell_type": "code",
   "execution_count": 69,
   "metadata": {
    "collapsed": true
   },
   "outputs": [],
   "source": [
    "#PCSI0023"
   ]
  },
  {
   "cell_type": "code",
   "execution_count": 70,
   "metadata": {
    "collapsed": false
   },
   "outputs": [],
   "source": [
    "#Read the data\n",
    "\n",
    "GenomicFeatures_PCSI0023 = pd.read_csv(open('data/PCSI0023/GenomicFeatures_PCSI0023.txt','r'),sep='\\t')\n",
    "SNVCalls_PCSI0023    = pd.read_csv(open('data/PCSI0023/SNVCalls_PCSI0023.txt','r'),sep='\\t') "
   ]
  },
  {
   "cell_type": "code",
   "execution_count": 71,
   "metadata": {
    "collapsed": false
   },
   "outputs": [
    {
     "name": "stdout",
     "output_type": "stream",
     "text": [
      "(93177, 15)\n",
      "(93177, 133)\n"
     ]
    }
   ],
   "source": [
    "print GenomicFeatures_PCSI0023.shape\n",
    "print SNVCalls_PCSI0023.shape"
   ]
  },
  {
   "cell_type": "code",
   "execution_count": 72,
   "metadata": {
    "collapsed": false
   },
   "outputs": [
    {
     "data": {
      "text/plain": [
       "CHROM                  0\n",
       "POS                    0\n",
       "RefAllele              0\n",
       "NonRefAllele           0\n",
       "BaseQual               0\n",
       "TumourCoverage         0\n",
       "NormalCoverage         0\n",
       "MapQual                0\n",
       "ReadPosition         332\n",
       "Trinucleotide          0\n",
       "HomopolymerRate        0\n",
       "GCcontent              0\n",
       "GenomicLocation    34951\n",
       "DistanceSNP            0\n",
       "StrandBias           332\n",
       "dtype: int64"
      ]
     },
     "execution_count": 72,
     "metadata": {},
     "output_type": "execute_result"
    }
   ],
   "source": [
    "np.sum(GenomicFeatures_PCSI0023.isnull())"
   ]
  },
  {
   "cell_type": "code",
   "execution_count": 73,
   "metadata": {
    "collapsed": false
   },
   "outputs": [],
   "source": [
    "GenomicFeatures_PCSI0023['ReadPosition'].fillna(0, inplace=True)  #Replace na with 0\n",
    "GenomicFeatures_PCSI0023['StrandBias'].fillna(0, inplace=True)\n",
    "\n",
    "#print np.sum(GenomicFeatures_PCSI0023.isnull())"
   ]
  },
  {
   "cell_type": "code",
   "execution_count": 74,
   "metadata": {
    "collapsed": false
   },
   "outputs": [
    {
     "data": {
      "text/plain": [
       "array(['UTR3', 'UTR5', 'downstream', 'exonic', 'exonic;splicing',\n",
       "       'intergenic', 'intronic', 'nan', 'ncRNA_UTR3', 'ncRNA_UTR5',\n",
       "       'ncRNA_exonic', 'ncRNA_intronic', 'splicing', 'upstream',\n",
       "       'upstream;downstream'], \n",
       "      dtype='|S19')"
      ]
     },
     "execution_count": 74,
     "metadata": {},
     "output_type": "execute_result"
    }
   ],
   "source": [
    "np.unique(GenomicFeatures_PCSI0023['GenomicLocation'])"
   ]
  },
  {
   "cell_type": "code",
   "execution_count": 75,
   "metadata": {
    "collapsed": false
   },
   "outputs": [
    {
     "data": {
      "text/html": [
       "<div style=\"max-height:1000px;max-width:1500px;overflow:auto;\">\n",
       "<table border=\"1\" class=\"dataframe\">\n",
       "  <thead>\n",
       "    <tr style=\"text-align: right;\">\n",
       "      <th></th>\n",
       "      <th>CHROM</th>\n",
       "      <th>POS</th>\n",
       "      <th>RefAllele</th>\n",
       "      <th>NonRefAllele</th>\n",
       "      <th>BaseQual</th>\n",
       "      <th>TumourCoverage</th>\n",
       "      <th>NormalCoverage</th>\n",
       "      <th>MapQual</th>\n",
       "      <th>ReadPosition</th>\n",
       "      <th>Trinucleotide</th>\n",
       "      <th>HomopolymerRate</th>\n",
       "      <th>GCcontent</th>\n",
       "      <th>GenomicLocation</th>\n",
       "      <th>DistanceSNP</th>\n",
       "      <th>StrandBias</th>\n",
       "    </tr>\n",
       "  </thead>\n",
       "  <tbody>\n",
       "    <tr>\n",
       "      <th>0</th>\n",
       "      <td> chr1</td>\n",
       "      <td> 16014</td>\n",
       "      <td> 138</td>\n",
       "      <td> 47</td>\n",
       "      <td>  5607</td>\n",
       "      <td> 193</td>\n",
       "      <td> 103</td>\n",
       "      <td>  0</td>\n",
       "      <td> 57.0</td>\n",
       "      <td> ACT</td>\n",
       "      <td> 3.201550</td>\n",
       "      <td> 0.656716</td>\n",
       "      <td> ncRNA_intronic</td>\n",
       "      <td> 67070</td>\n",
       "      <td> 0.523316</td>\n",
       "    </tr>\n",
       "    <tr>\n",
       "      <th>1</th>\n",
       "      <td> chr1</td>\n",
       "      <td> 16534</td>\n",
       "      <td>  69</td>\n",
       "      <td> 46</td>\n",
       "      <td>  3187</td>\n",
       "      <td> 128</td>\n",
       "      <td>  92</td>\n",
       "      <td> 10</td>\n",
       "      <td> 65.5</td>\n",
       "      <td> ACA</td>\n",
       "      <td> 2.615385</td>\n",
       "      <td> 0.442786</td>\n",
       "      <td> ncRNA_intronic</td>\n",
       "      <td> 66550</td>\n",
       "      <td> 0.078125</td>\n",
       "    </tr>\n",
       "    <tr>\n",
       "      <th>2</th>\n",
       "      <td> chr1</td>\n",
       "      <td> 16949</td>\n",
       "      <td> 194</td>\n",
       "      <td> 34</td>\n",
       "      <td>  6167</td>\n",
       "      <td> 242</td>\n",
       "      <td> 136</td>\n",
       "      <td>  0</td>\n",
       "      <td> 37.5</td>\n",
       "      <td> ATT</td>\n",
       "      <td> 2.388889</td>\n",
       "      <td> 0.597015</td>\n",
       "      <td>   ncRNA_exonic</td>\n",
       "      <td> 66135</td>\n",
       "      <td> 0.921488</td>\n",
       "    </tr>\n",
       "    <tr>\n",
       "      <th>3</th>\n",
       "      <td> chr1</td>\n",
       "      <td> 17020</td>\n",
       "      <td> 249</td>\n",
       "      <td> 44</td>\n",
       "      <td>  8271</td>\n",
       "      <td> 305</td>\n",
       "      <td> 168</td>\n",
       "      <td>  0</td>\n",
       "      <td> 56.0</td>\n",
       "      <td> GCC</td>\n",
       "      <td> 2.437500</td>\n",
       "      <td> 0.587065</td>\n",
       "      <td>            NaN</td>\n",
       "      <td> 66064</td>\n",
       "      <td> 0.881967</td>\n",
       "    </tr>\n",
       "    <tr>\n",
       "      <th>4</th>\n",
       "      <td> chr1</td>\n",
       "      <td> 17746</td>\n",
       "      <td> 326</td>\n",
       "      <td> 55</td>\n",
       "      <td> 11417</td>\n",
       "      <td> 386</td>\n",
       "      <td> 245</td>\n",
       "      <td>  0</td>\n",
       "      <td> 51.0</td>\n",
       "      <td> CTC</td>\n",
       "      <td> 2.570423</td>\n",
       "      <td> 0.587065</td>\n",
       "      <td> ncRNA_intronic</td>\n",
       "      <td> 65338</td>\n",
       "      <td> 0.274611</td>\n",
       "    </tr>\n",
       "  </tbody>\n",
       "</table>\n",
       "<p>5 rows × 15 columns</p>\n",
       "</div>"
      ],
      "text/plain": [
       "  CHROM    POS  RefAllele  NonRefAllele  BaseQual  TumourCoverage  \\\n",
       "0  chr1  16014        138            47      5607             193   \n",
       "1  chr1  16534         69            46      3187             128   \n",
       "2  chr1  16949        194            34      6167             242   \n",
       "3  chr1  17020        249            44      8271             305   \n",
       "4  chr1  17746        326            55     11417             386   \n",
       "\n",
       "   NormalCoverage  MapQual  ReadPosition Trinucleotide  HomopolymerRate  \\\n",
       "0             103        0          57.0           ACT         3.201550   \n",
       "1              92       10          65.5           ACA         2.615385   \n",
       "2             136        0          37.5           ATT         2.388889   \n",
       "3             168        0          56.0           GCC         2.437500   \n",
       "4             245        0          51.0           CTC         2.570423   \n",
       "\n",
       "   GCcontent GenomicLocation  DistanceSNP  StrandBias  \n",
       "0   0.656716  ncRNA_intronic        67070    0.523316  \n",
       "1   0.442786  ncRNA_intronic        66550    0.078125  \n",
       "2   0.597015    ncRNA_exonic        66135    0.921488  \n",
       "3   0.587065             NaN        66064    0.881967  \n",
       "4   0.587065  ncRNA_intronic        65338    0.274611  \n",
       "\n",
       "[5 rows x 15 columns]"
      ]
     },
     "execution_count": 75,
     "metadata": {},
     "output_type": "execute_result"
    }
   ],
   "source": [
    "GenomicFeatures_PCSI0023.head()"
   ]
  },
  {
   "cell_type": "code",
   "execution_count": 76,
   "metadata": {
    "collapsed": false
   },
   "outputs": [
    {
     "data": {
      "text/html": [
       "<div style=\"max-height:1000px;max-width:1500px;overflow:auto;\">\n",
       "<table border=\"1\" class=\"dataframe\">\n",
       "  <thead>\n",
       "    <tr style=\"text-align: right;\">\n",
       "      <th></th>\n",
       "      <th>CHROM</th>\n",
       "      <th>POS</th>\n",
       "      <th>END</th>\n",
       "      <th>X2399007</th>\n",
       "      <th>X2701027</th>\n",
       "      <th>X2701030</th>\n",
       "      <th>X2762077</th>\n",
       "      <th>X2762079</th>\n",
       "      <th>X2811068</th>\n",
       "      <th>X2811070</th>\n",
       "      <th>X2811073</th>\n",
       "      <th>X2811076</th>\n",
       "      <th>X2811391</th>\n",
       "      <th>X2812908</th>\n",
       "      <th>X2813237</th>\n",
       "      <th>X2813263</th>\n",
       "      <th>X2813289</th>\n",
       "      <th>X2813314</th>\n",
       "      <th>X2813378</th>\n",
       "      <th>X2813465</th>\n",
       "      <th></th>\n",
       "    </tr>\n",
       "  </thead>\n",
       "  <tbody>\n",
       "    <tr>\n",
       "      <th>0</th>\n",
       "      <td> chr1</td>\n",
       "      <td> 16013</td>\n",
       "      <td> 16014</td>\n",
       "      <td> 0</td>\n",
       "      <td> 0</td>\n",
       "      <td> 0</td>\n",
       "      <td> 0</td>\n",
       "      <td> 0</td>\n",
       "      <td> 0</td>\n",
       "      <td> 0</td>\n",
       "      <td> 0</td>\n",
       "      <td> 0</td>\n",
       "      <td> 0</td>\n",
       "      <td> 0</td>\n",
       "      <td> 0</td>\n",
       "      <td> 0</td>\n",
       "      <td> 0</td>\n",
       "      <td> 0</td>\n",
       "      <td> 0</td>\n",
       "      <td> 0</td>\n",
       "      <td>...</td>\n",
       "    </tr>\n",
       "    <tr>\n",
       "      <th>1</th>\n",
       "      <td> chr1</td>\n",
       "      <td> 16533</td>\n",
       "      <td> 16534</td>\n",
       "      <td> 0</td>\n",
       "      <td> 0</td>\n",
       "      <td> 0</td>\n",
       "      <td> 0</td>\n",
       "      <td> 0</td>\n",
       "      <td> 0</td>\n",
       "      <td> 0</td>\n",
       "      <td> 0</td>\n",
       "      <td> 0</td>\n",
       "      <td> 0</td>\n",
       "      <td> 0</td>\n",
       "      <td> 0</td>\n",
       "      <td> 1</td>\n",
       "      <td> 0</td>\n",
       "      <td> 1</td>\n",
       "      <td> 0</td>\n",
       "      <td> 0</td>\n",
       "      <td>...</td>\n",
       "    </tr>\n",
       "    <tr>\n",
       "      <th>2</th>\n",
       "      <td> chr1</td>\n",
       "      <td> 16948</td>\n",
       "      <td> 16949</td>\n",
       "      <td> 0</td>\n",
       "      <td> 0</td>\n",
       "      <td> 0</td>\n",
       "      <td> 0</td>\n",
       "      <td> 0</td>\n",
       "      <td> 0</td>\n",
       "      <td> 0</td>\n",
       "      <td> 0</td>\n",
       "      <td> 0</td>\n",
       "      <td> 0</td>\n",
       "      <td> 0</td>\n",
       "      <td> 0</td>\n",
       "      <td> 0</td>\n",
       "      <td> 0</td>\n",
       "      <td> 0</td>\n",
       "      <td> 0</td>\n",
       "      <td> 0</td>\n",
       "      <td>...</td>\n",
       "    </tr>\n",
       "    <tr>\n",
       "      <th>3</th>\n",
       "      <td> chr1</td>\n",
       "      <td> 17019</td>\n",
       "      <td> 17020</td>\n",
       "      <td> 0</td>\n",
       "      <td> 0</td>\n",
       "      <td> 0</td>\n",
       "      <td> 0</td>\n",
       "      <td> 0</td>\n",
       "      <td> 0</td>\n",
       "      <td> 0</td>\n",
       "      <td> 0</td>\n",
       "      <td> 0</td>\n",
       "      <td> 0</td>\n",
       "      <td> 0</td>\n",
       "      <td> 0</td>\n",
       "      <td> 1</td>\n",
       "      <td> 0</td>\n",
       "      <td> 1</td>\n",
       "      <td> 0</td>\n",
       "      <td> 0</td>\n",
       "      <td>...</td>\n",
       "    </tr>\n",
       "    <tr>\n",
       "      <th>4</th>\n",
       "      <td> chr1</td>\n",
       "      <td> 17745</td>\n",
       "      <td> 17746</td>\n",
       "      <td> 0</td>\n",
       "      <td> 0</td>\n",
       "      <td> 0</td>\n",
       "      <td> 0</td>\n",
       "      <td> 0</td>\n",
       "      <td> 0</td>\n",
       "      <td> 0</td>\n",
       "      <td> 0</td>\n",
       "      <td> 0</td>\n",
       "      <td> 0</td>\n",
       "      <td> 0</td>\n",
       "      <td> 0</td>\n",
       "      <td> 0</td>\n",
       "      <td> 0</td>\n",
       "      <td> 0</td>\n",
       "      <td> 0</td>\n",
       "      <td> 0</td>\n",
       "      <td>...</td>\n",
       "    </tr>\n",
       "  </tbody>\n",
       "</table>\n",
       "<p>5 rows × 133 columns</p>\n",
       "</div>"
      ],
      "text/plain": [
       "  CHROM    POS    END  X2399007  X2701027  X2701030  X2762077  X2762079  \\\n",
       "0  chr1  16013  16014         0         0         0         0         0   \n",
       "1  chr1  16533  16534         0         0         0         0         0   \n",
       "2  chr1  16948  16949         0         0         0         0         0   \n",
       "3  chr1  17019  17020         0         0         0         0         0   \n",
       "4  chr1  17745  17746         0         0         0         0         0   \n",
       "\n",
       "   X2811068  X2811070  X2811073  X2811076  X2811391  X2812908  X2813237  \\\n",
       "0         0         0         0         0         0         0         0   \n",
       "1         0         0         0         0         0         0         0   \n",
       "2         0         0         0         0         0         0         0   \n",
       "3         0         0         0         0         0         0         0   \n",
       "4         0         0         0         0         0         0         0   \n",
       "\n",
       "   X2813263  X2813289  X2813314  X2813378  X2813465      \n",
       "0         0         0         0         0         0 ...  \n",
       "1         1         0         1         0         0 ...  \n",
       "2         0         0         0         0         0 ...  \n",
       "3         1         0         1         0         0 ...  \n",
       "4         0         0         0         0         0 ...  \n",
       "\n",
       "[5 rows x 133 columns]"
      ]
     },
     "execution_count": 76,
     "metadata": {},
     "output_type": "execute_result"
    }
   ],
   "source": [
    "SNVCalls_PCSI0023.head()"
   ]
  },
  {
   "cell_type": "code",
   "execution_count": 77,
   "metadata": {
    "collapsed": false
   },
   "outputs": [
    {
     "data": {
      "text/plain": [
       "array(['ACA', 'ACC', 'ACG', 'ACT', 'ATA', 'ATC', 'ATG', 'ATT', 'CCA',\n",
       "       'CCC', 'CCG', 'CCT', 'CTA', 'CTC', 'CTG', 'CTN', 'CTT', 'GCA',\n",
       "       'GCC', 'GCG', 'GCT', 'GTA', 'GTC', 'GTG', 'GTT', 'TCA', 'TCC',\n",
       "       'TCG', 'TCT', 'TTA', 'TTC', 'TTG', 'TTT'], \n",
       "      dtype='|S3')"
      ]
     },
     "execution_count": 77,
     "metadata": {},
     "output_type": "execute_result"
    }
   ],
   "source": [
    "np.unique(GenomicFeatures_PCSI0023['Trinucleotide'])"
   ]
  },
  {
   "cell_type": "code",
   "execution_count": 78,
   "metadata": {
    "collapsed": true
   },
   "outputs": [],
   "source": [
    "PCSI0023 = pd.merge(GenomicFeatures_PCSI0023, SNVCalls_PCSI0023,left_on=['CHROM', 'POS'], right_on=['CHROM','END'])\n"
   ]
  },
  {
   "cell_type": "code",
   "execution_count": 79,
   "metadata": {
    "collapsed": false
   },
   "outputs": [
    {
     "data": {
      "text/html": [
       "<div style=\"max-height:1000px;max-width:1500px;overflow:auto;\">\n",
       "<table border=\"1\" class=\"dataframe\">\n",
       "  <thead>\n",
       "    <tr style=\"text-align: right;\">\n",
       "      <th></th>\n",
       "      <th>CHROM</th>\n",
       "      <th>POS_x</th>\n",
       "      <th>RefAllele</th>\n",
       "      <th>NonRefAllele</th>\n",
       "      <th>BaseQual</th>\n",
       "      <th>TumourCoverage</th>\n",
       "      <th>NormalCoverage</th>\n",
       "      <th>MapQual</th>\n",
       "      <th>ReadPosition</th>\n",
       "      <th>Trinucleotide</th>\n",
       "      <th>HomopolymerRate</th>\n",
       "      <th>GCcontent</th>\n",
       "      <th>GenomicLocation</th>\n",
       "      <th>DistanceSNP</th>\n",
       "      <th>StrandBias</th>\n",
       "      <th>POS_y</th>\n",
       "      <th>END</th>\n",
       "      <th>X2399007</th>\n",
       "      <th>X2701027</th>\n",
       "      <th>X2701030</th>\n",
       "      <th></th>\n",
       "    </tr>\n",
       "  </thead>\n",
       "  <tbody>\n",
       "    <tr>\n",
       "      <th>0</th>\n",
       "      <td> chr1</td>\n",
       "      <td> 16014</td>\n",
       "      <td> 138</td>\n",
       "      <td> 47</td>\n",
       "      <td>  5607</td>\n",
       "      <td> 193</td>\n",
       "      <td> 103</td>\n",
       "      <td>  0</td>\n",
       "      <td> 57.0</td>\n",
       "      <td> ACT</td>\n",
       "      <td> 3.201550</td>\n",
       "      <td> 0.656716</td>\n",
       "      <td> ncRNA_intronic</td>\n",
       "      <td> 67070</td>\n",
       "      <td> 0.523316</td>\n",
       "      <td> 16013</td>\n",
       "      <td> 16014</td>\n",
       "      <td> 0</td>\n",
       "      <td> 0</td>\n",
       "      <td> 0</td>\n",
       "      <td>...</td>\n",
       "    </tr>\n",
       "    <tr>\n",
       "      <th>1</th>\n",
       "      <td> chr1</td>\n",
       "      <td> 16534</td>\n",
       "      <td>  69</td>\n",
       "      <td> 46</td>\n",
       "      <td>  3187</td>\n",
       "      <td> 128</td>\n",
       "      <td>  92</td>\n",
       "      <td> 10</td>\n",
       "      <td> 65.5</td>\n",
       "      <td> ACA</td>\n",
       "      <td> 2.615385</td>\n",
       "      <td> 0.442786</td>\n",
       "      <td> ncRNA_intronic</td>\n",
       "      <td> 66550</td>\n",
       "      <td> 0.078125</td>\n",
       "      <td> 16533</td>\n",
       "      <td> 16534</td>\n",
       "      <td> 0</td>\n",
       "      <td> 0</td>\n",
       "      <td> 0</td>\n",
       "      <td>...</td>\n",
       "    </tr>\n",
       "    <tr>\n",
       "      <th>2</th>\n",
       "      <td> chr1</td>\n",
       "      <td> 16949</td>\n",
       "      <td> 194</td>\n",
       "      <td> 34</td>\n",
       "      <td>  6167</td>\n",
       "      <td> 242</td>\n",
       "      <td> 136</td>\n",
       "      <td>  0</td>\n",
       "      <td> 37.5</td>\n",
       "      <td> ATT</td>\n",
       "      <td> 2.388889</td>\n",
       "      <td> 0.597015</td>\n",
       "      <td>   ncRNA_exonic</td>\n",
       "      <td> 66135</td>\n",
       "      <td> 0.921488</td>\n",
       "      <td> 16948</td>\n",
       "      <td> 16949</td>\n",
       "      <td> 0</td>\n",
       "      <td> 0</td>\n",
       "      <td> 0</td>\n",
       "      <td>...</td>\n",
       "    </tr>\n",
       "    <tr>\n",
       "      <th>3</th>\n",
       "      <td> chr1</td>\n",
       "      <td> 17020</td>\n",
       "      <td> 249</td>\n",
       "      <td> 44</td>\n",
       "      <td>  8271</td>\n",
       "      <td> 305</td>\n",
       "      <td> 168</td>\n",
       "      <td>  0</td>\n",
       "      <td> 56.0</td>\n",
       "      <td> GCC</td>\n",
       "      <td> 2.437500</td>\n",
       "      <td> 0.587065</td>\n",
       "      <td>            NaN</td>\n",
       "      <td> 66064</td>\n",
       "      <td> 0.881967</td>\n",
       "      <td> 17019</td>\n",
       "      <td> 17020</td>\n",
       "      <td> 0</td>\n",
       "      <td> 0</td>\n",
       "      <td> 0</td>\n",
       "      <td>...</td>\n",
       "    </tr>\n",
       "    <tr>\n",
       "      <th>4</th>\n",
       "      <td> chr1</td>\n",
       "      <td> 17746</td>\n",
       "      <td> 326</td>\n",
       "      <td> 55</td>\n",
       "      <td> 11417</td>\n",
       "      <td> 386</td>\n",
       "      <td> 245</td>\n",
       "      <td>  0</td>\n",
       "      <td> 51.0</td>\n",
       "      <td> CTC</td>\n",
       "      <td> 2.570423</td>\n",
       "      <td> 0.587065</td>\n",
       "      <td> ncRNA_intronic</td>\n",
       "      <td> 65338</td>\n",
       "      <td> 0.274611</td>\n",
       "      <td> 17745</td>\n",
       "      <td> 17746</td>\n",
       "      <td> 0</td>\n",
       "      <td> 0</td>\n",
       "      <td> 0</td>\n",
       "      <td>...</td>\n",
       "    </tr>\n",
       "  </tbody>\n",
       "</table>\n",
       "<p>5 rows × 147 columns</p>\n",
       "</div>"
      ],
      "text/plain": [
       "  CHROM  POS_x  RefAllele  NonRefAllele  BaseQual  TumourCoverage  \\\n",
       "0  chr1  16014        138            47      5607             193   \n",
       "1  chr1  16534         69            46      3187             128   \n",
       "2  chr1  16949        194            34      6167             242   \n",
       "3  chr1  17020        249            44      8271             305   \n",
       "4  chr1  17746        326            55     11417             386   \n",
       "\n",
       "   NormalCoverage  MapQual  ReadPosition Trinucleotide  HomopolymerRate  \\\n",
       "0             103        0          57.0           ACT         3.201550   \n",
       "1              92       10          65.5           ACA         2.615385   \n",
       "2             136        0          37.5           ATT         2.388889   \n",
       "3             168        0          56.0           GCC         2.437500   \n",
       "4             245        0          51.0           CTC         2.570423   \n",
       "\n",
       "   GCcontent GenomicLocation  DistanceSNP  StrandBias  POS_y    END  X2399007  \\\n",
       "0   0.656716  ncRNA_intronic        67070    0.523316  16013  16014         0   \n",
       "1   0.442786  ncRNA_intronic        66550    0.078125  16533  16534         0   \n",
       "2   0.597015    ncRNA_exonic        66135    0.921488  16948  16949         0   \n",
       "3   0.587065             NaN        66064    0.881967  17019  17020         0   \n",
       "4   0.587065  ncRNA_intronic        65338    0.274611  17745  17746         0   \n",
       "\n",
       "   X2701027  X2701030      \n",
       "0         0         0 ...  \n",
       "1         0         0 ...  \n",
       "2         0         0 ...  \n",
       "3         0         0 ...  \n",
       "4         0         0 ...  \n",
       "\n",
       "[5 rows x 147 columns]"
      ]
     },
     "execution_count": 79,
     "metadata": {},
     "output_type": "execute_result"
    }
   ],
   "source": [
    "PCSI0023.head() #182+15"
   ]
  },
  {
   "cell_type": "code",
   "execution_count": 80,
   "metadata": {
    "collapsed": true
   },
   "outputs": [],
   "source": [
    "PCSI0023_X = PCSI0023.iloc[:,2:15] #Exclude CHROM, POS\n",
    "PCSI0023_Y = PCSI0023.iloc[:,17:]  #Exclude CHROM_y, POS_y, END"
   ]
  },
  {
   "cell_type": "code",
   "execution_count": 81,
   "metadata": {
    "collapsed": false
   },
   "outputs": [
    {
     "name": "stdout",
     "output_type": "stream",
     "text": [
      "(93177, 13)\n",
      "(93177, 130)\n"
     ]
    }
   ],
   "source": [
    "print PCSI0023_X.shape\n",
    "print PCSI0023_Y.shape"
   ]
  },
  {
   "cell_type": "code",
   "execution_count": 82,
   "metadata": {
    "collapsed": false
   },
   "outputs": [
    {
     "data": {
      "text/html": [
       "<div style=\"max-height:1000px;max-width:1500px;overflow:auto;\">\n",
       "<table border=\"1\" class=\"dataframe\">\n",
       "  <thead>\n",
       "    <tr style=\"text-align: right;\">\n",
       "      <th></th>\n",
       "      <th>RefAllele</th>\n",
       "      <th>NonRefAllele</th>\n",
       "      <th>BaseQual</th>\n",
       "      <th>TumourCoverage</th>\n",
       "      <th>NormalCoverage</th>\n",
       "      <th>MapQual</th>\n",
       "      <th>ReadPosition</th>\n",
       "      <th>Trinucleotide</th>\n",
       "      <th>HomopolymerRate</th>\n",
       "      <th>GCcontent</th>\n",
       "      <th>GenomicLocation</th>\n",
       "      <th>DistanceSNP</th>\n",
       "      <th>StrandBias</th>\n",
       "    </tr>\n",
       "  </thead>\n",
       "  <tbody>\n",
       "    <tr>\n",
       "      <th>0</th>\n",
       "      <td> 138</td>\n",
       "      <td> 47</td>\n",
       "      <td> 5607</td>\n",
       "      <td> 193</td>\n",
       "      <td> 103</td>\n",
       "      <td>  0</td>\n",
       "      <td> 57.0</td>\n",
       "      <td> ACT</td>\n",
       "      <td> 3.201550</td>\n",
       "      <td> 0.656716</td>\n",
       "      <td> ncRNA_intronic</td>\n",
       "      <td> 67070</td>\n",
       "      <td> 0.523316</td>\n",
       "    </tr>\n",
       "    <tr>\n",
       "      <th>1</th>\n",
       "      <td>  69</td>\n",
       "      <td> 46</td>\n",
       "      <td> 3187</td>\n",
       "      <td> 128</td>\n",
       "      <td>  92</td>\n",
       "      <td> 10</td>\n",
       "      <td> 65.5</td>\n",
       "      <td> ACA</td>\n",
       "      <td> 2.615385</td>\n",
       "      <td> 0.442786</td>\n",
       "      <td> ncRNA_intronic</td>\n",
       "      <td> 66550</td>\n",
       "      <td> 0.078125</td>\n",
       "    </tr>\n",
       "  </tbody>\n",
       "</table>\n",
       "<p>2 rows × 13 columns</p>\n",
       "</div>"
      ],
      "text/plain": [
       "   RefAllele  NonRefAllele  BaseQual  TumourCoverage  NormalCoverage  MapQual  \\\n",
       "0        138            47      5607             193             103        0   \n",
       "1         69            46      3187             128              92       10   \n",
       "\n",
       "   ReadPosition Trinucleotide  HomopolymerRate  GCcontent GenomicLocation  \\\n",
       "0          57.0           ACT         3.201550   0.656716  ncRNA_intronic   \n",
       "1          65.5           ACA         2.615385   0.442786  ncRNA_intronic   \n",
       "\n",
       "   DistanceSNP  StrandBias  \n",
       "0        67070    0.523316  \n",
       "1        66550    0.078125  \n",
       "\n",
       "[2 rows x 13 columns]"
      ]
     },
     "execution_count": 82,
     "metadata": {},
     "output_type": "execute_result"
    }
   ],
   "source": [
    "PCSI0023_X[:2]"
   ]
  },
  {
   "cell_type": "code",
   "execution_count": 83,
   "metadata": {
    "collapsed": false
   },
   "outputs": [
    {
     "data": {
      "text/html": [
       "<div style=\"max-height:1000px;max-width:1500px;overflow:auto;\">\n",
       "<table border=\"1\" class=\"dataframe\">\n",
       "  <thead>\n",
       "    <tr style=\"text-align: right;\">\n",
       "      <th></th>\n",
       "      <th>X2399007</th>\n",
       "      <th>X2701027</th>\n",
       "      <th>X2701030</th>\n",
       "      <th>X2762077</th>\n",
       "      <th>X2762079</th>\n",
       "      <th>X2811068</th>\n",
       "      <th>X2811070</th>\n",
       "      <th>X2811073</th>\n",
       "      <th>X2811076</th>\n",
       "      <th>X2811391</th>\n",
       "      <th>X2812908</th>\n",
       "      <th>X2813237</th>\n",
       "      <th>X2813263</th>\n",
       "      <th>X2813289</th>\n",
       "      <th>X2813314</th>\n",
       "      <th>X2813378</th>\n",
       "      <th>X2813465</th>\n",
       "      <th>X2813649</th>\n",
       "      <th>X2813670</th>\n",
       "      <th>X2813677</th>\n",
       "      <th></th>\n",
       "    </tr>\n",
       "  </thead>\n",
       "  <tbody>\n",
       "    <tr>\n",
       "      <th>0</th>\n",
       "      <td> 0</td>\n",
       "      <td> 0</td>\n",
       "      <td> 0</td>\n",
       "      <td> 0</td>\n",
       "      <td> 0</td>\n",
       "      <td> 0</td>\n",
       "      <td> 0</td>\n",
       "      <td> 0</td>\n",
       "      <td> 0</td>\n",
       "      <td> 0</td>\n",
       "      <td> 0</td>\n",
       "      <td> 0</td>\n",
       "      <td> 0</td>\n",
       "      <td> 0</td>\n",
       "      <td> 0</td>\n",
       "      <td> 0</td>\n",
       "      <td> 0</td>\n",
       "      <td> 0</td>\n",
       "      <td> 0</td>\n",
       "      <td> 0</td>\n",
       "      <td>...</td>\n",
       "    </tr>\n",
       "    <tr>\n",
       "      <th>1</th>\n",
       "      <td> 0</td>\n",
       "      <td> 0</td>\n",
       "      <td> 0</td>\n",
       "      <td> 0</td>\n",
       "      <td> 0</td>\n",
       "      <td> 0</td>\n",
       "      <td> 0</td>\n",
       "      <td> 0</td>\n",
       "      <td> 0</td>\n",
       "      <td> 0</td>\n",
       "      <td> 0</td>\n",
       "      <td> 0</td>\n",
       "      <td> 1</td>\n",
       "      <td> 0</td>\n",
       "      <td> 1</td>\n",
       "      <td> 0</td>\n",
       "      <td> 0</td>\n",
       "      <td> 0</td>\n",
       "      <td> 0</td>\n",
       "      <td> 0</td>\n",
       "      <td>...</td>\n",
       "    </tr>\n",
       "  </tbody>\n",
       "</table>\n",
       "<p>2 rows × 130 columns</p>\n",
       "</div>"
      ],
      "text/plain": [
       "   X2399007  X2701027  X2701030  X2762077  X2762079  X2811068  X2811070  \\\n",
       "0         0         0         0         0         0         0         0   \n",
       "1         0         0         0         0         0         0         0   \n",
       "\n",
       "   X2811073  X2811076  X2811391  X2812908  X2813237  X2813263  X2813289  \\\n",
       "0         0         0         0         0         0         0         0   \n",
       "1         0         0         0         0         0         1         0   \n",
       "\n",
       "   X2813314  X2813378  X2813465  X2813649  X2813670  X2813677      \n",
       "0         0         0         0         0         0         0 ...  \n",
       "1         1         0         0         0         0         0 ...  \n",
       "\n",
       "[2 rows x 130 columns]"
      ]
     },
     "execution_count": 83,
     "metadata": {},
     "output_type": "execute_result"
    }
   ],
   "source": [
    "PCSI0023_Y[:2]"
   ]
  },
  {
   "cell_type": "code",
   "execution_count": 84,
   "metadata": {
    "collapsed": false
   },
   "outputs": [
    {
     "name": "stdout",
     "output_type": "stream",
     "text": [
      "93177\n",
      "(93177, 1)\n"
     ]
    }
   ],
   "source": [
    "totalSample = PCSI0023_Y.shape[0]\n",
    "PCSI0023_Y_Val = np.zeros((totalSample,1)) #Will be our label now\n",
    "\n",
    "print totalSample\n",
    "print PCSI0023_Y_Val.shape"
   ]
  },
  {
   "cell_type": "code",
   "execution_count": 85,
   "metadata": {
    "collapsed": false
   },
   "outputs": [
    {
     "data": {
      "text/plain": [
       "(93177, 130)"
      ]
     },
     "execution_count": 85,
     "metadata": {},
     "output_type": "execute_result"
    }
   ],
   "source": [
    "PCSI0023_Y.shape"
   ]
  },
  {
   "cell_type": "code",
   "execution_count": 86,
   "metadata": {
    "collapsed": false
   },
   "outputs": [
    {
     "data": {
      "text/plain": [
       "(130,)"
      ]
     },
     "execution_count": 86,
     "metadata": {},
     "output_type": "execute_result"
    }
   ],
   "source": [
    "PCSI0023_Y.values[0].shape"
   ]
  },
  {
   "cell_type": "code",
   "execution_count": 87,
   "metadata": {
    "collapsed": true
   },
   "outputs": [],
   "source": [
    "for i in range(totalSample):\n",
    "    PCSI0023_Y_Val[i] = np.argmax(np.bincount(PCSI0023_Y.values[i]))"
   ]
  },
  {
   "cell_type": "code",
   "execution_count": 88,
   "metadata": {
    "collapsed": true
   },
   "outputs": [],
   "source": [
    "PCSI0023_Y_Val_1 = pd.DataFrame(PCSI0023_Y_Val)\n",
    "PCSI0023_Y_Val_1.columns = ['Label']"
   ]
  },
  {
   "cell_type": "code",
   "execution_count": 89,
   "metadata": {
    "collapsed": false
   },
   "outputs": [
    {
     "data": {
      "text/html": [
       "<div style=\"max-height:1000px;max-width:1500px;overflow:auto;\">\n",
       "<table border=\"1\" class=\"dataframe\">\n",
       "  <thead>\n",
       "    <tr style=\"text-align: right;\">\n",
       "      <th></th>\n",
       "      <th>Label</th>\n",
       "    </tr>\n",
       "  </thead>\n",
       "  <tbody>\n",
       "    <tr>\n",
       "      <th>0</th>\n",
       "      <td> 0</td>\n",
       "    </tr>\n",
       "    <tr>\n",
       "      <th>1</th>\n",
       "      <td> 0</td>\n",
       "    </tr>\n",
       "    <tr>\n",
       "      <th>2</th>\n",
       "      <td> 0</td>\n",
       "    </tr>\n",
       "  </tbody>\n",
       "</table>\n",
       "<p>3 rows × 1 columns</p>\n",
       "</div>"
      ],
      "text/plain": [
       "   Label\n",
       "0      0\n",
       "1      0\n",
       "2      0\n",
       "\n",
       "[3 rows x 1 columns]"
      ]
     },
     "execution_count": 89,
     "metadata": {},
     "output_type": "execute_result"
    }
   ],
   "source": [
    "PCSI0023_Y_Val_1[:3]"
   ]
  },
  {
   "cell_type": "code",
   "execution_count": 90,
   "metadata": {
    "collapsed": true
   },
   "outputs": [],
   "source": [
    "PCSI0023_dataframe = pd.concat([PCSI0023_X, PCSI0023_Y_Val_1],axis=1)"
   ]
  },
  {
   "cell_type": "code",
   "execution_count": 91,
   "metadata": {
    "collapsed": false
   },
   "outputs": [
    {
     "data": {
      "text/plain": [
       "(93177, 14)"
      ]
     },
     "execution_count": 91,
     "metadata": {},
     "output_type": "execute_result"
    }
   ],
   "source": [
    "PCSI0023_dataframe.shape"
   ]
  },
  {
   "cell_type": "code",
   "execution_count": 92,
   "metadata": {
    "collapsed": false
   },
   "outputs": [
    {
     "data": {
      "text/html": [
       "<div style=\"max-height:1000px;max-width:1500px;overflow:auto;\">\n",
       "<table border=\"1\" class=\"dataframe\">\n",
       "  <thead>\n",
       "    <tr style=\"text-align: right;\">\n",
       "      <th></th>\n",
       "      <th>RefAllele</th>\n",
       "      <th>NonRefAllele</th>\n",
       "      <th>BaseQual</th>\n",
       "      <th>TumourCoverage</th>\n",
       "      <th>NormalCoverage</th>\n",
       "      <th>MapQual</th>\n",
       "      <th>ReadPosition</th>\n",
       "      <th>Trinucleotide</th>\n",
       "      <th>HomopolymerRate</th>\n",
       "      <th>GCcontent</th>\n",
       "      <th>GenomicLocation</th>\n",
       "      <th>DistanceSNP</th>\n",
       "      <th>StrandBias</th>\n",
       "      <th>Label</th>\n",
       "    </tr>\n",
       "  </thead>\n",
       "  <tbody>\n",
       "    <tr>\n",
       "      <th>0</th>\n",
       "      <td> 138</td>\n",
       "      <td> 47</td>\n",
       "      <td> 5607</td>\n",
       "      <td> 193</td>\n",
       "      <td> 103</td>\n",
       "      <td>  0</td>\n",
       "      <td> 57.0</td>\n",
       "      <td> ACT</td>\n",
       "      <td> 3.201550</td>\n",
       "      <td> 0.656716</td>\n",
       "      <td> ncRNA_intronic</td>\n",
       "      <td> 67070</td>\n",
       "      <td> 0.523316</td>\n",
       "      <td> 0</td>\n",
       "    </tr>\n",
       "    <tr>\n",
       "      <th>1</th>\n",
       "      <td>  69</td>\n",
       "      <td> 46</td>\n",
       "      <td> 3187</td>\n",
       "      <td> 128</td>\n",
       "      <td>  92</td>\n",
       "      <td> 10</td>\n",
       "      <td> 65.5</td>\n",
       "      <td> ACA</td>\n",
       "      <td> 2.615385</td>\n",
       "      <td> 0.442786</td>\n",
       "      <td> ncRNA_intronic</td>\n",
       "      <td> 66550</td>\n",
       "      <td> 0.078125</td>\n",
       "      <td> 0</td>\n",
       "    </tr>\n",
       "  </tbody>\n",
       "</table>\n",
       "<p>2 rows × 14 columns</p>\n",
       "</div>"
      ],
      "text/plain": [
       "   RefAllele  NonRefAllele  BaseQual  TumourCoverage  NormalCoverage  MapQual  \\\n",
       "0        138            47      5607             193             103        0   \n",
       "1         69            46      3187             128              92       10   \n",
       "\n",
       "   ReadPosition Trinucleotide  HomopolymerRate  GCcontent GenomicLocation  \\\n",
       "0          57.0           ACT         3.201550   0.656716  ncRNA_intronic   \n",
       "1          65.5           ACA         2.615385   0.442786  ncRNA_intronic   \n",
       "\n",
       "   DistanceSNP  StrandBias  Label  \n",
       "0        67070    0.523316      0  \n",
       "1        66550    0.078125      0  \n",
       "\n",
       "[2 rows x 14 columns]"
      ]
     },
     "execution_count": 92,
     "metadata": {},
     "output_type": "execute_result"
    }
   ],
   "source": [
    "PCSI0023_dataframe[:2]"
   ]
  },
  {
   "cell_type": "code",
   "execution_count": 35,
   "metadata": {
    "collapsed": true
   },
   "outputs": [],
   "source": [
    "PCSI0023_dataframe.to_csv('PCSI0023.csv')"
   ]
  },
  {
   "cell_type": "code",
   "execution_count": 36,
   "metadata": {
    "collapsed": true
   },
   "outputs": [],
   "source": [
    "#Now we have variable importance ...lets do analysis"
   ]
  },
  {
   "cell_type": "code",
   "execution_count": 37,
   "metadata": {
    "collapsed": true
   },
   "outputs": [],
   "source": [
    "%load_ext rpy2.ipython"
   ]
  },
  {
   "cell_type": "code",
   "execution_count": 39,
   "metadata": {
    "collapsed": false
   },
   "outputs": [
    {
     "data": {
      "text/plain": [
       "'data.frame':\t93177 obs. of  15 variables:\n",
       " $ X              : int  0 1 2 3 4 5 6 7 8 9 ...\n",
       " $ RefAllele      : int  138 69 194 249 326 87 127 69 105 37 ...\n",
       " $ NonRefAllele   : int  47 46 34 44 55 19 40 15 35 18 ...\n",
       " $ BaseQual       : int  5607 3187 6167 8271 11417 3291 4713 2477 4283 1234 ...\n",
       " $ TumourCoverage : int  193 128 242 305 386 117 168 84 143 56 ...\n",
       " $ NormalCoverage : int  103 92 136 168 245 89 118 69 100 31 ...\n",
       " $ MapQual        : num  0 10 0 0 0 0 20 0 37 29 ...\n",
       " $ ReadPosition   : num  57 65.5 37.5 56 51 50 55 45 42 27.5 ...\n",
       " $ Trinucleotide  : Factor w/ 33 levels \"ACA\",\"ACC\",\"ACG\",..: 4 1 8 19 14 13 11 32 13 20 ...\n",
       " $ HomopolymerRate: num  3.2 2.62 2.39 2.44 2.57 ...\n",
       " $ GCcontent      : num  0.657 0.443 0.597 0.587 0.587 ...\n",
       " $ GenomicLocation: Factor w/ 15 levels \"\",\"downstream\",..: 8 8 7 1 8 8 5 5 5 1 ...\n",
       " $ DistanceSNP    : int  67070 66550 66135 66064 65338 54886 25792 18774 18471 921 ...\n",
       " $ StrandBias     : num  0.5233 0.0781 0.9215 0.882 0.2746 ...\n",
       " $ Label          : num  0 0 0 0 0 0 0 0 0 0 ...\n"
      ]
     },
     "metadata": {},
     "output_type": "display_data"
    }
   ],
   "source": [
    "%%R\n",
    "# Read in the data\n",
    "PCSI0023Frame = read.csv(\"PCSI0023.csv\")\n",
    "str(PCSI0023Frame)"
   ]
  },
  {
   "cell_type": "code",
   "execution_count": 40,
   "metadata": {
    "collapsed": false
   },
   "outputs": [
    {
     "data": {
      "text/plain": [
       "[1] 0\n"
      ]
     },
     "metadata": {},
     "output_type": "display_data"
    }
   ],
   "source": [
    "%%R\n",
    "#sum(is.na(CPCG0183Frame$StrandBias))\n",
    "#sum(is.na(IS1Frame$ReadPosition)) \n",
    "sum(is.na(PCSI0023Frame)) "
   ]
  },
  {
   "cell_type": "code",
   "execution_count": 33,
   "metadata": {
    "collapsed": false
   },
   "outputs": [],
   "source": [
    "#%%R\n",
    "#CPCG0235Frame$ReadPosition[is.na(CPCG0235Frame$ReadPosition)] = mean(CPCG0235Frame$ReadPosition, na.rm=TRUE)\n",
    "#CPCG0235Frame$StrandBias[is.na(CPCG0235Frame$StrandBias)] = mean(CPCG0235Frame$StrandBias, na.rm=TRUE)\n",
    "\n",
    "#print (sum(is.na(CPCG0235Frame$ReadPosition)) )\n",
    "#print (sum(is.na(CPCG0235Frame$StrandBias)) )"
   ]
  },
  {
   "cell_type": "code",
   "execution_count": 41,
   "metadata": {
    "collapsed": false
   },
   "outputs": [
    {
     "data": {
      "text/plain": [
       "[1] 0\n"
      ]
     },
     "metadata": {},
     "output_type": "display_data"
    }
   ],
   "source": [
    "%%R\n",
    "sum(is.na(PCSI0023Frame))  #No NA value now"
   ]
  },
  {
   "cell_type": "code",
   "execution_count": 42,
   "metadata": {
    "collapsed": true
   },
   "outputs": [],
   "source": [
    "%%R\n",
    "write.csv(PCSI0023Frame, file = \"PCSI0023_imputed.csv\")  #Cleaned CSV without NA"
   ]
  },
  {
   "cell_type": "code",
   "execution_count": 43,
   "metadata": {
    "collapsed": false
   },
   "outputs": [
    {
     "name": "stderr",
     "output_type": "stream",
     "text": [
      "/usr/local/lib/python2.7/dist-packages/rpy2/robjects/functions.py:106: UserWarning: Loading required package: statmod\n",
      "\n",
      "  res = super(Function, self).__call__(*new_args, **new_kwargs)\n",
      "/usr/local/lib/python2.7/dist-packages/rpy2/robjects/functions.py:106: UserWarning: \n",
      "----------------------------------------------------------------------\n",
      "\n",
      "Your next step is to start H2O:\n",
      "    > h2o.init()\n",
      "\n",
      "For H2O package documentation, ask for help:\n",
      "    > ??h2o\n",
      "\n",
      "After starting H2O, you can use the Web UI at http://localhost:54321\n",
      "For more information visit http://docs.h2o.ai\n",
      "\n",
      "----------------------------------------------------------------------\n",
      "\n",
      "\n",
      "  res = super(Function, self).__call__(*new_args, **new_kwargs)\n",
      "/usr/local/lib/python2.7/dist-packages/rpy2/robjects/functions.py:106: UserWarning: \n",
      "Attaching package: ‘h2o’\n",
      "\n",
      "\n",
      "  res = super(Function, self).__call__(*new_args, **new_kwargs)\n",
      "/usr/local/lib/python2.7/dist-packages/rpy2/robjects/functions.py:106: UserWarning: The following objects are masked from ‘package:stats’:\n",
      "\n",
      "    sd, var\n",
      "\n",
      "\n",
      "  res = super(Function, self).__call__(*new_args, **new_kwargs)\n",
      "/usr/local/lib/python2.7/dist-packages/rpy2/robjects/functions.py:106: UserWarning: The following objects are masked from ‘package:base’:\n",
      "\n",
      "    ||, &&, %*%, apply, as.factor, as.numeric, colnames, colnames<-,\n",
      "    ifelse, %in%, is.character, is.factor, is.numeric, log, log10,\n",
      "    log1p, log2, round, signif, trunc\n",
      "\n",
      "\n",
      "  res = super(Function, self).__call__(*new_args, **new_kwargs)\n"
     ]
    },
    {
     "data": {
      "text/plain": [
       " Connection successful!\n",
       "\n",
       "R is connected to the H2O cluster: \n",
       "    H2O cluster uptime:         49 minutes 32 seconds \n",
       "    H2O cluster version:        3.9.1.3435 \n",
       "    H2O cluster name:           H2O_started_from_R_rbhat_xqb196 \n",
       "    H2O cluster total nodes:    1 \n",
       "    H2O cluster total memory:   26.58 GB \n",
       "    H2O cluster total cores:    56 \n",
       "    H2O cluster allowed cores:  2 \n",
       "    H2O cluster healthy:        TRUE \n",
       "    H2O Connection ip:          localhost \n",
       "    H2O Connection port:        54321 \n",
       "    H2O Connection proxy:       NA \n",
       "    R Version:                  R version 3.3.0 beta (2016-03-30 r70404) \n",
       "\n"
      ]
     },
     "metadata": {},
     "output_type": "display_data"
    }
   ],
   "source": [
    "%%R\n",
    "library(h2o)\n",
    "localH2O = h2o.init(ip = \"localhost\", port = 54321, startH2O = TRUE,min_mem_size = \"3g\")"
   ]
  },
  {
   "cell_type": "code",
   "execution_count": 44,
   "metadata": {
    "collapsed": false
   },
   "outputs": [
    {
     "data": {
      "text/plain": [
       "\r",
       "  |                                                                            \r",
       "  |                                                                      |   0%\r",
       "  |                                                                            \r",
       "  |=====                                                                 |   7%\r",
       "  |                                                                            \r",
       "  |======================================================================| 100%\n",
       "'data.frame':\t93177 obs. of  16 variables:\n",
       " $ C1             : int  1 2 3 4 5 6 7 8 9 10 ...\n",
       " $ X              : int  0 1 2 3 4 5 6 7 8 9 ...\n",
       " $ RefAllele      : int  138 69 194 249 326 87 127 69 105 37 ...\n",
       " $ NonRefAllele   : int  47 46 34 44 55 19 40 15 35 18 ...\n",
       " $ BaseQual       : int  5607 3187 6167 8271 11417 3291 4713 2477 4283 1234 ...\n",
       " $ TumourCoverage : int  193 128 242 305 386 117 168 84 143 56 ...\n",
       " $ NormalCoverage : int  103 92 136 168 245 89 118 69 100 31 ...\n",
       " $ MapQual        : num  0 10 0 0 0 0 20 0 37 29 ...\n",
       " $ ReadPosition   : num  57 65.5 37.5 56 51 50 55 45 42 27.5 ...\n",
       " $ Trinucleotide  : Factor w/ 33 levels \"ACA\",\"ACC\",\"ACG\",..: 4 1 8 19 14 13 11 32 13 20 ...\n",
       " $ HomopolymerRate: num  3.2 2.62 2.39 2.44 2.57 ...\n",
       " $ GCcontent      : num  0.657 0.443 0.597 0.587 0.587 ...\n",
       " $ GenomicLocation: Factor w/ 14 levels \"downstream\",\"exonic\",..: 7 7 6 NA 7 7 4 4 4 NA ...\n",
       " $ DistanceSNP    : int  67070 66550 66135 66064 65338 54886 25792 18774 18471 921 ...\n",
       " $ StrandBias     : num  0.5233 0.0781 0.9215 0.882 0.2746 ...\n",
       " $ Label          : int  0 0 0 0 0 0 0 0 0 0 ...\n"
      ]
     },
     "metadata": {},
     "output_type": "display_data"
    }
   ],
   "source": [
    "%%R\n",
    "## Import CSV as H2O:\n",
    "csvPath = \"/home/rbhat/Workspace/S3Lab_Projects/SMC-MetaChallange/PCSI0023_imputed.csv\"\n",
    "PCSI0023.hex          = h2o.importFile(path = csvPath, destination_frame = \"PCSI0023.hex\") \n",
    "train                 = as.data.frame(PCSI0023.hex)\n",
    "\n",
    "str(train)"
   ]
  },
  {
   "cell_type": "code",
   "execution_count": 45,
   "metadata": {
    "collapsed": false
   },
   "outputs": [
    {
     "data": {
      "text/plain": [
       "WARNING: ParseError at file /tmp/RtmpbXMjv7/file5f875a1c5a4f.csv_sid_a8f6_1  at byte offset 65536; error = 'Unmatched quote char \"' \n",
       "\r",
       "  |                                                                            \r",
       "  |                                                                      |   0%\r",
       "  |                                                                            \r",
       "  |======================================================================| 100%\n"
      ]
     },
     "metadata": {},
     "output_type": "display_data"
    }
   ],
   "source": [
    "%%R\n",
    "\n",
    "train$Trinucleotide   = as.factor(train$Trinucleotide)\n",
    "train$GenomicLocation = as.factor(train$GenomicLocation)\n",
    "train$Label           = as.factor(train$Label)\n",
    "\n",
    "train_h2o             = as.h2o(train)"
   ]
  },
  {
   "cell_type": "code",
   "execution_count": 46,
   "metadata": {
    "collapsed": false
   },
   "outputs": [
    {
     "data": {
      "text/plain": [
       "\r",
       "  |                                                                            \r",
       "  |                                                                      |   0%\r",
       "  |                                                                            \r",
       "  |======                                                                |   9%\r",
       "  |                                                                            \r",
       "  |============                                                          |  17%\r",
       "  |                                                                            \r",
       "  |==================                                                    |  26%\r",
       "  |                                                                            \r",
       "  |=======================                                               |  32%\r",
       "  |                                                                            \r",
       "  |===========================                                           |  39%\r",
       "  |                                                                            \r",
       "  |=================================                                     |  47%\r",
       "  |                                                                            \r",
       "  |=======================================                               |  56%\r",
       "  |                                                                            \r",
       "  |===============================================                       |  67%\r",
       "  |                                                                            \r",
       "  |=====================================================                 |  75%\r",
       "  |                                                                            \r",
       "  |============================================================          |  86%\r",
       "  |                                                                            \r",
       "  |==================================================================    |  94%\r",
       "  |                                                                            \r",
       "  |======================================================================| 100%\n"
      ]
     },
     "metadata": {},
     "output_type": "display_data"
    }
   ],
   "source": [
    "%%R\n",
    "#Training a deep learning model:---------------------------------------------------------#\n",
    "model <- h2o.deeplearning( x = 3:15, # column numbers for predictors\n",
    "                           y = 16,            # column number for label\n",
    "                           training_frame = train_h2o,\n",
    "                           activation = \"RectifierWithDropout\", \n",
    "                           input_dropout_ratio = 0.2,\n",
    "                           hidden_dropout_ratios = c(0.5,0.5),\n",
    "                           balance_classes = TRUE, \n",
    "                           hidden = c(10,8),  ## two hidden layers\n",
    "                           epochs = 50,\n",
    "                           variable_importances = T)"
   ]
  },
  {
   "cell_type": "code",
   "execution_count": 47,
   "metadata": {
    "collapsed": false
   },
   "outputs": [
    {
     "data": {
      "text/plain": [
       "Variable Importances: \n",
       "                      variable relative_importance scaled_importance percentage\n",
       "1                 NonRefAllele            1.000000          1.000000   0.264629\n",
       "2                     BaseQual            0.398391          0.398391   0.105426\n",
       "3               NormalCoverage            0.177425          0.177425   0.046952\n",
       "4               TumourCoverage            0.156377          0.156377   0.041382\n",
       "5 GenomicLocation.ncRNA_exonic            0.124313          0.124313   0.032897\n",
       "\n",
       "---\n",
       "                     variable relative_importance scaled_importance percentage\n",
       "55          Trinucleotide.GTA            0.015645          0.015645   0.004140\n",
       "56          Trinucleotide.ATT            0.012280          0.012280   0.003250\n",
       "57   GenomicLocation.intronic            0.012165          0.012165   0.003219\n",
       "58                 StrandBias            0.008272          0.008272   0.002189\n",
       "59 GenomicLocation.intergenic            0.007674          0.007674   0.002031\n",
       "60  Trinucleotide.missing(NA)            0.000000          0.000000   0.000000\n"
      ]
     },
     "metadata": {},
     "output_type": "display_data"
    }
   ],
   "source": [
    "%%R\n",
    "var_importance = h2o.varimp(model)\n",
    "#print(var_importance)\n",
    "h2o.varimp(model)"
   ]
  },
  {
   "cell_type": "code",
   "execution_count": 48,
   "metadata": {
    "collapsed": true
   },
   "outputs": [],
   "source": [
    "%%R\n",
    "write.table(var_importance, file=\"PCSI0023_variable_importance.csv\")"
   ]
  },
  {
   "cell_type": "code",
   "execution_count": 49,
   "metadata": {
    "collapsed": true
   },
   "outputs": [],
   "source": [
    "var_importance = pd.read_csv(open('PCSI0023_variable_importance.csv','r'),sep=' ')\n",
    "#pd.read_csv('CPCG0100_variable_importance.csv')"
   ]
  },
  {
   "cell_type": "code",
   "execution_count": 50,
   "metadata": {
    "collapsed": false
   },
   "outputs": [
    {
     "data": {
      "text/html": [
       "<div style=\"max-height:1000px;max-width:1500px;overflow:auto;\">\n",
       "<table border=\"1\" class=\"dataframe\">\n",
       "  <thead>\n",
       "    <tr style=\"text-align: right;\">\n",
       "      <th></th>\n",
       "      <th>variable</th>\n",
       "      <th>relative_importance</th>\n",
       "      <th>scaled_importance</th>\n",
       "      <th>percentage</th>\n",
       "    </tr>\n",
       "  </thead>\n",
       "  <tbody>\n",
       "    <tr>\n",
       "      <th>1</th>\n",
       "      <td>                 NonRefAllele</td>\n",
       "      <td> 1.000000</td>\n",
       "      <td> 1.000000</td>\n",
       "      <td> 0.264629</td>\n",
       "    </tr>\n",
       "    <tr>\n",
       "      <th>2</th>\n",
       "      <td>                     BaseQual</td>\n",
       "      <td> 0.398391</td>\n",
       "      <td> 0.398391</td>\n",
       "      <td> 0.105426</td>\n",
       "    </tr>\n",
       "    <tr>\n",
       "      <th>3</th>\n",
       "      <td>               NormalCoverage</td>\n",
       "      <td> 0.177425</td>\n",
       "      <td> 0.177425</td>\n",
       "      <td> 0.046952</td>\n",
       "    </tr>\n",
       "    <tr>\n",
       "      <th>4</th>\n",
       "      <td>               TumourCoverage</td>\n",
       "      <td> 0.156377</td>\n",
       "      <td> 0.156377</td>\n",
       "      <td> 0.041382</td>\n",
       "    </tr>\n",
       "    <tr>\n",
       "      <th>5</th>\n",
       "      <td> GenomicLocation.ncRNA_exonic</td>\n",
       "      <td> 0.124313</td>\n",
       "      <td> 0.124313</td>\n",
       "      <td> 0.032897</td>\n",
       "    </tr>\n",
       "  </tbody>\n",
       "</table>\n",
       "<p>5 rows × 4 columns</p>\n",
       "</div>"
      ],
      "text/plain": [
       "                       variable  relative_importance  scaled_importance  \\\n",
       "1                  NonRefAllele             1.000000           1.000000   \n",
       "2                      BaseQual             0.398391           0.398391   \n",
       "3                NormalCoverage             0.177425           0.177425   \n",
       "4                TumourCoverage             0.156377           0.156377   \n",
       "5  GenomicLocation.ncRNA_exonic             0.124313           0.124313   \n",
       "\n",
       "   percentage  \n",
       "1    0.264629  \n",
       "2    0.105426  \n",
       "3    0.046952  \n",
       "4    0.041382  \n",
       "5    0.032897  \n",
       "\n",
       "[5 rows x 4 columns]"
      ]
     },
     "execution_count": 50,
     "metadata": {},
     "output_type": "execute_result"
    }
   ],
   "source": [
    "var_importance[:5]"
   ]
  },
  {
   "cell_type": "code",
   "execution_count": 51,
   "metadata": {
    "collapsed": false
   },
   "outputs": [
    {
     "data": {
      "text/html": [
       "<div style=\"max-height:1000px;max-width:1500px;overflow:auto;\">\n",
       "<table border=\"1\" class=\"dataframe\">\n",
       "  <thead>\n",
       "    <tr style=\"text-align: right;\">\n",
       "      <th></th>\n",
       "      <th>CHROM</th>\n",
       "      <th>POS</th>\n",
       "      <th>RefAllele</th>\n",
       "      <th>NonRefAllele</th>\n",
       "      <th>BaseQual</th>\n",
       "      <th>TumourCoverage</th>\n",
       "      <th>NormalCoverage</th>\n",
       "      <th>MapQual</th>\n",
       "      <th>ReadPosition</th>\n",
       "      <th>Trinucleotide</th>\n",
       "      <th>HomopolymerRate</th>\n",
       "      <th>GCcontent</th>\n",
       "      <th>GenomicLocation</th>\n",
       "      <th>DistanceSNP</th>\n",
       "      <th>StrandBias</th>\n",
       "    </tr>\n",
       "  </thead>\n",
       "  <tbody>\n",
       "    <tr>\n",
       "      <th>0</th>\n",
       "      <td> chr1</td>\n",
       "      <td> 16014</td>\n",
       "      <td> 138</td>\n",
       "      <td> 47</td>\n",
       "      <td>  5607</td>\n",
       "      <td> 193</td>\n",
       "      <td> 103</td>\n",
       "      <td>  0</td>\n",
       "      <td> 57.0</td>\n",
       "      <td> ACT</td>\n",
       "      <td> 3.201550</td>\n",
       "      <td> 0.656716</td>\n",
       "      <td> ncRNA_intronic</td>\n",
       "      <td> 67070</td>\n",
       "      <td> 0.523316</td>\n",
       "    </tr>\n",
       "    <tr>\n",
       "      <th>1</th>\n",
       "      <td> chr1</td>\n",
       "      <td> 16534</td>\n",
       "      <td>  69</td>\n",
       "      <td> 46</td>\n",
       "      <td>  3187</td>\n",
       "      <td> 128</td>\n",
       "      <td>  92</td>\n",
       "      <td> 10</td>\n",
       "      <td> 65.5</td>\n",
       "      <td> ACA</td>\n",
       "      <td> 2.615385</td>\n",
       "      <td> 0.442786</td>\n",
       "      <td> ncRNA_intronic</td>\n",
       "      <td> 66550</td>\n",
       "      <td> 0.078125</td>\n",
       "    </tr>\n",
       "    <tr>\n",
       "      <th>2</th>\n",
       "      <td> chr1</td>\n",
       "      <td> 16949</td>\n",
       "      <td> 194</td>\n",
       "      <td> 34</td>\n",
       "      <td>  6167</td>\n",
       "      <td> 242</td>\n",
       "      <td> 136</td>\n",
       "      <td>  0</td>\n",
       "      <td> 37.5</td>\n",
       "      <td> ATT</td>\n",
       "      <td> 2.388889</td>\n",
       "      <td> 0.597015</td>\n",
       "      <td>   ncRNA_exonic</td>\n",
       "      <td> 66135</td>\n",
       "      <td> 0.921488</td>\n",
       "    </tr>\n",
       "    <tr>\n",
       "      <th>3</th>\n",
       "      <td> chr1</td>\n",
       "      <td> 17020</td>\n",
       "      <td> 249</td>\n",
       "      <td> 44</td>\n",
       "      <td>  8271</td>\n",
       "      <td> 305</td>\n",
       "      <td> 168</td>\n",
       "      <td>  0</td>\n",
       "      <td> 56.0</td>\n",
       "      <td> GCC</td>\n",
       "      <td> 2.437500</td>\n",
       "      <td> 0.587065</td>\n",
       "      <td>            NaN</td>\n",
       "      <td> 66064</td>\n",
       "      <td> 0.881967</td>\n",
       "    </tr>\n",
       "    <tr>\n",
       "      <th>4</th>\n",
       "      <td> chr1</td>\n",
       "      <td> 17746</td>\n",
       "      <td> 326</td>\n",
       "      <td> 55</td>\n",
       "      <td> 11417</td>\n",
       "      <td> 386</td>\n",
       "      <td> 245</td>\n",
       "      <td>  0</td>\n",
       "      <td> 51.0</td>\n",
       "      <td> CTC</td>\n",
       "      <td> 2.570423</td>\n",
       "      <td> 0.587065</td>\n",
       "      <td> ncRNA_intronic</td>\n",
       "      <td> 65338</td>\n",
       "      <td> 0.274611</td>\n",
       "    </tr>\n",
       "  </tbody>\n",
       "</table>\n",
       "<p>5 rows × 15 columns</p>\n",
       "</div>"
      ],
      "text/plain": [
       "  CHROM    POS  RefAllele  NonRefAllele  BaseQual  TumourCoverage  \\\n",
       "0  chr1  16014        138            47      5607             193   \n",
       "1  chr1  16534         69            46      3187             128   \n",
       "2  chr1  16949        194            34      6167             242   \n",
       "3  chr1  17020        249            44      8271             305   \n",
       "4  chr1  17746        326            55     11417             386   \n",
       "\n",
       "   NormalCoverage  MapQual  ReadPosition Trinucleotide  HomopolymerRate  \\\n",
       "0             103        0          57.0           ACT         3.201550   \n",
       "1              92       10          65.5           ACA         2.615385   \n",
       "2             136        0          37.5           ATT         2.388889   \n",
       "3             168        0          56.0           GCC         2.437500   \n",
       "4             245        0          51.0           CTC         2.570423   \n",
       "\n",
       "   GCcontent GenomicLocation  DistanceSNP  StrandBias  \n",
       "0   0.656716  ncRNA_intronic        67070    0.523316  \n",
       "1   0.442786  ncRNA_intronic        66550    0.078125  \n",
       "2   0.597015    ncRNA_exonic        66135    0.921488  \n",
       "3   0.587065             NaN        66064    0.881967  \n",
       "4   0.587065  ncRNA_intronic        65338    0.274611  \n",
       "\n",
       "[5 rows x 15 columns]"
      ]
     },
     "execution_count": 51,
     "metadata": {},
     "output_type": "execute_result"
    }
   ],
   "source": [
    "GenomicFeatures_PCSI0023[:5]"
   ]
  },
  {
   "cell_type": "code",
   "execution_count": 52,
   "metadata": {
    "collapsed": false
   },
   "outputs": [
    {
     "data": {
      "text/plain": [
       "{'BaseQual': 0.39839103817939797,\n",
       " 'DistanceSNP': 0.064937748014926897,\n",
       " 'GCcontent': 0.023493539541959801,\n",
       " 'GenomicLocation.UTR3': 0.026913395151495899,\n",
       " 'GenomicLocation.UTR5': 0.052096251398324994,\n",
       " 'GenomicLocation.downstream': 0.027410333976149601,\n",
       " 'GenomicLocation.exonic': 0.046242468059062992,\n",
       " 'GenomicLocation.exonic;splicing': 0.024703973904252101,\n",
       " 'GenomicLocation.intergenic': 0.0076743708923459096,\n",
       " 'GenomicLocation.intronic': 0.012164652347564701,\n",
       " 'GenomicLocation.missing(NA)': 0.019427442923188199,\n",
       " 'GenomicLocation.ncRNA_UTR3': 0.055960722267627702,\n",
       " 'GenomicLocation.ncRNA_UTR5': 0.037618812173605,\n",
       " 'GenomicLocation.ncRNA_exonic': 0.12431313842535001,\n",
       " 'GenomicLocation.ncRNA_intronic': 0.029182266443967798,\n",
       " 'GenomicLocation.splicing': 0.039804331958293901,\n",
       " 'GenomicLocation.upstream': 0.044403795152902603,\n",
       " 'GenomicLocation.upstream;downstream': 0.035438075661659199,\n",
       " 'HomopolymerRate': 0.0792840421199799,\n",
       " 'MapQual': 0.0979291126132011,\n",
       " 'NonRefAllele': 1.0,\n",
       " 'NormalCoverage': 0.17742516100406602,\n",
       " 'ReadPosition': 0.039900541305541999,\n",
       " 'RefAllele': 0.086571164429187802,\n",
       " 'StrandBias': 0.00827188231050968,\n",
       " 'Trinucleotide.ACA': 0.043023824691772503,\n",
       " 'Trinucleotide.ACC': 0.045517649501562098,\n",
       " 'Trinucleotide.ACG': 0.042892478406429298,\n",
       " 'Trinucleotide.ACT': 0.031886920332908603,\n",
       " 'Trinucleotide.ATA': 0.033646956086158801,\n",
       " 'Trinucleotide.ATC': 0.027350705116987201,\n",
       " 'Trinucleotide.ATG': 0.022189389914274198,\n",
       " 'Trinucleotide.ATT': 0.0122803095728159,\n",
       " 'Trinucleotide.CCA': 0.022945696488022801,\n",
       " 'Trinucleotide.CCC': 0.020226761698722801,\n",
       " 'Trinucleotide.CCG': 0.042422492057085003,\n",
       " 'Trinucleotide.CCT': 0.0171701516956091,\n",
       " 'Trinucleotide.CTA': 0.036481339484453201,\n",
       " 'Trinucleotide.CTC': 0.031940612941980397,\n",
       " 'Trinucleotide.CTG': 0.043997939676046399,\n",
       " 'Trinucleotide.CTN': 0.034220397472381599,\n",
       " 'Trinucleotide.CTT': 0.027773490175604799,\n",
       " 'Trinucleotide.GCA': 0.016108965501189201,\n",
       " 'Trinucleotide.GCC': 0.022308452054858201,\n",
       " 'Trinucleotide.GCG': 0.044703502207994503,\n",
       " 'Trinucleotide.GCT': 0.021625855937600101,\n",
       " 'Trinucleotide.GTA': 0.015644598752260201,\n",
       " 'Trinucleotide.GTC': 0.049531616270542103,\n",
       " 'Trinucleotide.GTG': 0.058769870549440398,\n",
       " 'Trinucleotide.GTT': 0.0206499975174665,\n",
       " 'Trinucleotide.TCA': 0.029524382203817399,\n",
       " 'Trinucleotide.TCC': 0.019426612183451701,\n",
       " 'Trinucleotide.TCG': 0.077048800885677296,\n",
       " 'Trinucleotide.TCT': 0.027828706428408598,\n",
       " 'Trinucleotide.TTA': 0.028985023498535201,\n",
       " 'Trinucleotide.TTC': 0.037672467529773698,\n",
       " 'Trinucleotide.TTG': 0.0199504196643829,\n",
       " 'Trinucleotide.TTT': 0.0371883511543274,\n",
       " 'Trinucleotide.missing(NA)': 0.0,\n",
       " 'TumourCoverage': 0.15637706220149999}"
      ]
     },
     "execution_count": 52,
     "metadata": {},
     "output_type": "execute_result"
    }
   ],
   "source": [
    "var_imp_dict = {}\n",
    "\n",
    "for i in range(var_importance.shape[0]):\n",
    "    var_imp_dict[var_importance.iloc[i,0]] = var_importance.iloc[i,1]\n",
    "\n",
    "var_imp_dict"
   ]
  },
  {
   "cell_type": "code",
   "execution_count": 53,
   "metadata": {
    "collapsed": false
   },
   "outputs": [
    {
     "data": {
      "text/plain": [
       "Index([u'CHROM', u'POS', u'RefAllele', u'NonRefAllele', u'BaseQual', u'TumourCoverage', u'NormalCoverage', u'MapQual', u'ReadPosition', u'Trinucleotide', u'HomopolymerRate', u'GCcontent', u'GenomicLocation', u'DistanceSNP', u'StrandBias'], dtype='object')"
      ]
     },
     "execution_count": 53,
     "metadata": {},
     "output_type": "execute_result"
    }
   ],
   "source": [
    "GenomicFeatures_PCSI0023.columns"
   ]
  },
  {
   "cell_type": "code",
   "execution_count": 54,
   "metadata": {
    "collapsed": false
   },
   "outputs": [
    {
     "data": {
      "text/plain": [
       "CHROM               object\n",
       "POS                  int64\n",
       "RefAllele            int64\n",
       "NonRefAllele         int64\n",
       "BaseQual             int64\n",
       "TumourCoverage       int64\n",
       "NormalCoverage       int64\n",
       "MapQual            float64\n",
       "ReadPosition       float64\n",
       "Trinucleotide       object\n",
       "HomopolymerRate    float64\n",
       "GCcontent          float64\n",
       "GenomicLocation     object\n",
       "DistanceSNP          int64\n",
       "StrandBias         float64\n",
       "dtype: object"
      ]
     },
     "execution_count": 54,
     "metadata": {},
     "output_type": "execute_result"
    }
   ],
   "source": [
    "GenomicFeatures_PCSI0023.dtypes"
   ]
  },
  {
   "cell_type": "code",
   "execution_count": 55,
   "metadata": {
    "collapsed": false
   },
   "outputs": [
    {
     "data": {
      "text/plain": [
       "67070"
      ]
     },
     "execution_count": 55,
     "metadata": {},
     "output_type": "execute_result"
    }
   ],
   "source": [
    "GenomicFeatures_PCSI0023.iloc[0,13]"
   ]
  },
  {
   "cell_type": "code",
   "execution_count": 56,
   "metadata": {
    "collapsed": false
   },
   "outputs": [
    {
     "data": {
      "text/html": [
       "<div style=\"max-height:1000px;max-width:1500px;overflow:auto;\">\n",
       "<table border=\"1\" class=\"dataframe\">\n",
       "  <thead>\n",
       "    <tr style=\"text-align: right;\">\n",
       "      <th></th>\n",
       "      <th>CHROM</th>\n",
       "      <th>POS</th>\n",
       "      <th>RefAllele</th>\n",
       "      <th>NonRefAllele</th>\n",
       "      <th>BaseQual</th>\n",
       "      <th>TumourCoverage</th>\n",
       "      <th>NormalCoverage</th>\n",
       "      <th>MapQual</th>\n",
       "      <th>ReadPosition</th>\n",
       "      <th>Trinucleotide</th>\n",
       "      <th>HomopolymerRate</th>\n",
       "      <th>GCcontent</th>\n",
       "      <th>GenomicLocation</th>\n",
       "      <th>DistanceSNP</th>\n",
       "      <th>StrandBias</th>\n",
       "    </tr>\n",
       "  </thead>\n",
       "  <tbody>\n",
       "    <tr>\n",
       "      <th>0</th>\n",
       "      <td> chr1</td>\n",
       "      <td> 16014</td>\n",
       "      <td> 138</td>\n",
       "      <td> 47</td>\n",
       "      <td> 5607</td>\n",
       "      <td> 193</td>\n",
       "      <td> 103</td>\n",
       "      <td>  0</td>\n",
       "      <td> 57.0</td>\n",
       "      <td> ACT</td>\n",
       "      <td> 3.201550</td>\n",
       "      <td> 0.656716</td>\n",
       "      <td> ncRNA_intronic</td>\n",
       "      <td> 67070</td>\n",
       "      <td> 0.523316</td>\n",
       "    </tr>\n",
       "    <tr>\n",
       "      <th>1</th>\n",
       "      <td> chr1</td>\n",
       "      <td> 16534</td>\n",
       "      <td>  69</td>\n",
       "      <td> 46</td>\n",
       "      <td> 3187</td>\n",
       "      <td> 128</td>\n",
       "      <td>  92</td>\n",
       "      <td> 10</td>\n",
       "      <td> 65.5</td>\n",
       "      <td> ACA</td>\n",
       "      <td> 2.615385</td>\n",
       "      <td> 0.442786</td>\n",
       "      <td> ncRNA_intronic</td>\n",
       "      <td> 66550</td>\n",
       "      <td> 0.078125</td>\n",
       "    </tr>\n",
       "  </tbody>\n",
       "</table>\n",
       "<p>2 rows × 15 columns</p>\n",
       "</div>"
      ],
      "text/plain": [
       "  CHROM    POS  RefAllele  NonRefAllele  BaseQual  TumourCoverage  \\\n",
       "0  chr1  16014        138            47      5607             193   \n",
       "1  chr1  16534         69            46      3187             128   \n",
       "\n",
       "   NormalCoverage  MapQual  ReadPosition Trinucleotide  HomopolymerRate  \\\n",
       "0             103        0          57.0           ACT         3.201550   \n",
       "1              92       10          65.5           ACA         2.615385   \n",
       "\n",
       "   GCcontent GenomicLocation  DistanceSNP  StrandBias  \n",
       "0   0.656716  ncRNA_intronic        67070    0.523316  \n",
       "1   0.442786  ncRNA_intronic        66550    0.078125  \n",
       "\n",
       "[2 rows x 15 columns]"
      ]
     },
     "execution_count": 56,
     "metadata": {},
     "output_type": "execute_result"
    }
   ],
   "source": [
    "GenomicFeatures_PCSI0023[:2]\n",
    "#print GenomicFeatures_IS1.iloc[0,2]"
   ]
  },
  {
   "cell_type": "code",
   "execution_count": 60,
   "metadata": {
    "collapsed": false
   },
   "outputs": [],
   "source": [
    "noOfSample = GenomicFeatures_PCSI0023.shape[0]\n",
    "\n",
    "PCSI0023_Dict = {}\n",
    "\n",
    "for i in range(noOfSample):\n",
    "    \n",
    "    pos = GenomicFeatures_PCSI0023.iloc[i,1] #gets the pos value\n",
    "    \n",
    "    RefAllele      = GenomicFeatures_PCSI0023.iloc[i,2]*var_imp_dict['RefAllele']\n",
    "    NonRefAllele   = GenomicFeatures_PCSI0023.iloc[i,3]*var_imp_dict['NonRefAllele']\n",
    "    BaseQual       = GenomicFeatures_PCSI0023.iloc[i,4]*var_imp_dict['BaseQual']\n",
    "    TumourCoverage = GenomicFeatures_PCSI0023.iloc[i,5]*var_imp_dict['TumourCoverage']\n",
    "    NormalCoverage = GenomicFeatures_PCSI0023.iloc[i,6]*var_imp_dict['NormalCoverage']\n",
    "    MapQual        = GenomicFeatures_PCSI0023.iloc[i,7]*var_imp_dict['MapQual']\n",
    "    ReadPosition   = GenomicFeatures_PCSI0023.iloc[i,8]*var_imp_dict['ReadPosition']\n",
    "    \n",
    "    Trinucleotide  = 0\n",
    "    if isinstance(GenomicFeatures_PCSI0023.iloc[i,9], str):\n",
    "        Trinucleotide  = var_imp_dict['Trinucleotide.'+str(GenomicFeatures_PCSI0023.iloc[i,9])]\n",
    "    HomopolymerRate= GenomicFeatures_PCSI0023.iloc[i,10]*var_imp_dict['HomopolymerRate']\n",
    "    GCcontent      = GenomicFeatures_PCSI0023.iloc[i,11]*var_imp_dict['GCcontent']\n",
    "    \n",
    "    GenomicLocation = 0\n",
    "    if isinstance(GenomicFeatures_PCSI0023.iloc[i,12], str):\n",
    "        GenomicLocation= var_imp_dict['GenomicLocation.'+str(GenomicFeatures_PCSI0023.iloc[i,12])]\n",
    "    DistanceSNP    = GenomicFeatures_PCSI0023.iloc[i,13]*var_imp_dict['DistanceSNP']\n",
    "    StrandBias     = GenomicFeatures_PCSI0023.iloc[i,14]*var_imp_dict['StrandBias']\n",
    "    \n",
    "    #print 'RefAllele=',RefAllele,' NonRefAllele=',NonRefAllele,' BaseQual=',BaseQual,' TumourCoverage=',TumourCoverage\n",
    "    #print 'NormalCoverage=',NormalCoverage,' MapQual=',MapQual,' ReadPosition=',ReadPosition,' Trinucleotide=',Trinucleotide\n",
    "    #print 'HomopolymerRate=',HomopolymerRate,' GCcontent=',GCcontent,' GenomicLocation=',GenomicLocation,' Distance=',Distance\n",
    "    #print 'StrandBias=',StrandBias\n",
    "    PCSI0023_Dict[pos] = RefAllele+NonRefAllele+BaseQual+TumourCoverage+NormalCoverage+MapQual+ReadPosition+Trinucleotide+ \\\n",
    "                         HomopolymerRate+GCcontent+GenomicLocation+DistanceSNP+StrandBias"
   ]
  },
  {
   "cell_type": "code",
   "execution_count": 61,
   "metadata": {
    "collapsed": true
   },
   "outputs": [],
   "source": [
    "#Sorting dictionary\n",
    "PCSI0023_Dict1 = [(k,v) for v,k in sorted([(v,k) for k,v in PCSI0023_Dict.items()],reverse=True)]"
   ]
  },
  {
   "cell_type": "code",
   "execution_count": 62,
   "metadata": {
    "collapsed": true
   },
   "outputs": [],
   "source": [
    "PCSI0023_Dict_Frame = pd.DataFrame(PCSI0023_Dict1, columns=['POS', 'Value'])"
   ]
  },
  {
   "cell_type": "code",
   "execution_count": 63,
   "metadata": {
    "collapsed": true
   },
   "outputs": [],
   "source": [
    "PCSI0023_Dict_Frame.to_csv(\"PCSI0023_Dict_Frame.csv\")"
   ]
  },
  {
   "cell_type": "code",
   "execution_count": 93,
   "metadata": {
    "collapsed": true
   },
   "outputs": [],
   "source": [
    "PCSI0023_Dict_Frame = pd.read_csv(\"PCSI0023_Dict_Frame.csv\")"
   ]
  },
  {
   "cell_type": "code",
   "execution_count": 94,
   "metadata": {
    "collapsed": false
   },
   "outputs": [
    {
     "data": {
      "text/html": [
       "<div style=\"max-height:1000px;max-width:1500px;overflow:auto;\">\n",
       "<table border=\"1\" class=\"dataframe\">\n",
       "  <thead>\n",
       "    <tr style=\"text-align: right;\">\n",
       "      <th></th>\n",
       "      <th>Unnamed: 0</th>\n",
       "      <th>POS</th>\n",
       "      <th>Value</th>\n",
       "    </tr>\n",
       "  </thead>\n",
       "  <tbody>\n",
       "    <tr>\n",
       "      <th>0</th>\n",
       "      <td> 0</td>\n",
       "      <td> 24488953</td>\n",
       "      <td> 216534.588791</td>\n",
       "    </tr>\n",
       "    <tr>\n",
       "      <th>1</th>\n",
       "      <td> 1</td>\n",
       "      <td> 24488937</td>\n",
       "      <td> 216533.505030</td>\n",
       "    </tr>\n",
       "    <tr>\n",
       "      <th>2</th>\n",
       "      <td> 2</td>\n",
       "      <td>    78192</td>\n",
       "      <td> 170722.594353</td>\n",
       "    </tr>\n",
       "    <tr>\n",
       "      <th>3</th>\n",
       "      <td> 3</td>\n",
       "      <td>    78172</td>\n",
       "      <td> 170678.086136</td>\n",
       "    </tr>\n",
       "    <tr>\n",
       "      <th>4</th>\n",
       "      <td> 4</td>\n",
       "      <td>    78732</td>\n",
       "      <td> 170532.353723</td>\n",
       "    </tr>\n",
       "    <tr>\n",
       "      <th>5</th>\n",
       "      <td> 5</td>\n",
       "      <td>   159757</td>\n",
       "      <td> 166204.947858</td>\n",
       "    </tr>\n",
       "    <tr>\n",
       "      <th>6</th>\n",
       "      <td> 6</td>\n",
       "      <td>   156853</td>\n",
       "      <td> 165858.293017</td>\n",
       "    </tr>\n",
       "    <tr>\n",
       "      <th>7</th>\n",
       "      <td> 7</td>\n",
       "      <td>   164233</td>\n",
       "      <td> 165393.430830</td>\n",
       "    </tr>\n",
       "    <tr>\n",
       "      <th>8</th>\n",
       "      <td> 8</td>\n",
       "      <td>   185097</td>\n",
       "      <td> 164995.691528</td>\n",
       "    </tr>\n",
       "    <tr>\n",
       "      <th>9</th>\n",
       "      <td> 9</td>\n",
       "      <td>   171226</td>\n",
       "      <td> 164895.786137</td>\n",
       "    </tr>\n",
       "  </tbody>\n",
       "</table>\n",
       "<p>10 rows × 3 columns</p>\n",
       "</div>"
      ],
      "text/plain": [
       "   Unnamed: 0       POS          Value\n",
       "0           0  24488953  216534.588791\n",
       "1           1  24488937  216533.505030\n",
       "2           2     78192  170722.594353\n",
       "3           3     78172  170678.086136\n",
       "4           4     78732  170532.353723\n",
       "5           5    159757  166204.947858\n",
       "6           6    156853  165858.293017\n",
       "7           7    164233  165393.430830\n",
       "8           8    185097  164995.691528\n",
       "9           9    171226  164895.786137\n",
       "\n",
       "[10 rows x 3 columns]"
      ]
     },
     "execution_count": 94,
     "metadata": {},
     "output_type": "execute_result"
    }
   ],
   "source": [
    "PCSI0023_Dict_Frame[:10]"
   ]
  },
  {
   "cell_type": "code",
   "execution_count": 95,
   "metadata": {
    "collapsed": true
   },
   "outputs": [],
   "source": [
    "GenomicFeatures_PCSI0023_1 = pd.concat([PCSI0023.iloc[:,0:16], PCSI0023_Y_Val_1],axis=1)"
   ]
  },
  {
   "cell_type": "code",
   "execution_count": 96,
   "metadata": {
    "collapsed": false
   },
   "outputs": [
    {
     "name": "stdout",
     "output_type": "stream",
     "text": [
      "[24488953 24488937    78192    78172    78732   159757   156853   164233\n",
      "   185097   171226   176368   185537   223155   227321 42385188   368526\n",
      "   380702   426897   458998   461518]\n"
     ]
    }
   ],
   "source": [
    "rows = PCSI0023_Dict_Frame['POS'][:20].values\n",
    "print rows\n",
    "GenomicFeatures_PCSI0023_Top20 = GenomicFeatures_PCSI0023_1.loc[GenomicFeatures_PCSI0023_1['POS_x'].isin(rows)]"
   ]
  },
  {
   "cell_type": "code",
   "execution_count": 98,
   "metadata": {
    "collapsed": false
   },
   "outputs": [
    {
     "data": {
      "text/html": [
       "<div style=\"max-height:1000px;max-width:1500px;overflow:auto;\">\n",
       "<table border=\"1\" class=\"dataframe\">\n",
       "  <thead>\n",
       "    <tr style=\"text-align: right;\">\n",
       "      <th></th>\n",
       "      <th>CHROM</th>\n",
       "      <th>POS_x</th>\n",
       "      <th>RefAllele</th>\n",
       "      <th>NonRefAllele</th>\n",
       "      <th>BaseQual</th>\n",
       "      <th>TumourCoverage</th>\n",
       "      <th>NormalCoverage</th>\n",
       "      <th>MapQual</th>\n",
       "      <th>ReadPosition</th>\n",
       "      <th>Trinucleotide</th>\n",
       "      <th>HomopolymerRate</th>\n",
       "      <th>GCcontent</th>\n",
       "      <th>GenomicLocation</th>\n",
       "      <th>DistanceSNP</th>\n",
       "      <th>StrandBias</th>\n",
       "      <th>POS_y</th>\n",
       "      <th>Label</th>\n",
       "    </tr>\n",
       "  </thead>\n",
       "  <tbody>\n",
       "    <tr>\n",
       "      <th>8327 </th>\n",
       "      <td> chr10</td>\n",
       "      <td> 42385188</td>\n",
       "      <td> 6569</td>\n",
       "      <td> 1429</td>\n",
       "      <td> 247986</td>\n",
       "      <td> 181542</td>\n",
       "      <td> 170360</td>\n",
       "      <td> 23</td>\n",
       "      <td> 40.0</td>\n",
       "      <td> CTT</td>\n",
       "      <td> 2.171233</td>\n",
       "      <td> 0.368159</td>\n",
       "      <td>        NaN</td>\n",
       "      <td>   12185</td>\n",
       "      <td> 0.472249</td>\n",
       "      <td> 42385187</td>\n",
       "      <td> 0</td>\n",
       "    </tr>\n",
       "    <tr>\n",
       "      <th>89070</th>\n",
       "      <td>  chrX</td>\n",
       "      <td>    78172</td>\n",
       "      <td>   40</td>\n",
       "      <td>    3</td>\n",
       "      <td>   1081</td>\n",
       "      <td>     44</td>\n",
       "      <td>     29</td>\n",
       "      <td>  0</td>\n",
       "      <td> 50.5</td>\n",
       "      <td> CCG</td>\n",
       "      <td> 1.856250</td>\n",
       "      <td> 0.492537</td>\n",
       "      <td> intergenic</td>\n",
       "      <td> 2621383</td>\n",
       "      <td> 0.500000</td>\n",
       "      <td>    78171</td>\n",
       "      <td> 0</td>\n",
       "    </tr>\n",
       "    <tr>\n",
       "      <th>89071</th>\n",
       "      <td>  chrX</td>\n",
       "      <td>    78192</td>\n",
       "      <td>   40</td>\n",
       "      <td>    0</td>\n",
       "      <td>   1204</td>\n",
       "      <td>     41</td>\n",
       "      <td>     31</td>\n",
       "      <td>  0</td>\n",
       "      <td> 49.0</td>\n",
       "      <td> TTG</td>\n",
       "      <td> 1.881250</td>\n",
       "      <td> 0.492537</td>\n",
       "      <td> intergenic</td>\n",
       "      <td> 2621363</td>\n",
       "      <td> 0.439024</td>\n",
       "      <td>    78191</td>\n",
       "      <td> 0</td>\n",
       "    </tr>\n",
       "    <tr>\n",
       "      <th>89072</th>\n",
       "      <td>  chrX</td>\n",
       "      <td>    78732</td>\n",
       "      <td>   28</td>\n",
       "      <td>    9</td>\n",
       "      <td>    797</td>\n",
       "      <td>     42</td>\n",
       "      <td>     25</td>\n",
       "      <td>  0</td>\n",
       "      <td> 46.5</td>\n",
       "      <td> CCG</td>\n",
       "      <td> 1.911392</td>\n",
       "      <td> 0.517413</td>\n",
       "      <td>        NaN</td>\n",
       "      <td> 2620823</td>\n",
       "      <td> 0.428571</td>\n",
       "      <td>    78731</td>\n",
       "      <td> 0</td>\n",
       "    </tr>\n",
       "    <tr>\n",
       "      <th>89073</th>\n",
       "      <td>  chrX</td>\n",
       "      <td>   156853</td>\n",
       "      <td>   54</td>\n",
       "      <td>    5</td>\n",
       "      <td>   1791</td>\n",
       "      <td>     66</td>\n",
       "      <td>     28</td>\n",
       "      <td>  0</td>\n",
       "      <td> 56.5</td>\n",
       "      <td> CTC</td>\n",
       "      <td> 2.006410</td>\n",
       "      <td> 0.492537</td>\n",
       "      <td> intergenic</td>\n",
       "      <td> 2542702</td>\n",
       "      <td> 0.560606</td>\n",
       "      <td>   156852</td>\n",
       "      <td> 0</td>\n",
       "    </tr>\n",
       "    <tr>\n",
       "      <th>89074</th>\n",
       "      <td>  chrX</td>\n",
       "      <td>   159757</td>\n",
       "      <td>  100</td>\n",
       "      <td>    0</td>\n",
       "      <td>   3087</td>\n",
       "      <td>    134</td>\n",
       "      <td>     85</td>\n",
       "      <td>  0</td>\n",
       "      <td> 36.5</td>\n",
       "      <td> CTA</td>\n",
       "      <td> 1.797546</td>\n",
       "      <td> 0.507463</td>\n",
       "      <td> intergenic</td>\n",
       "      <td> 2539798</td>\n",
       "      <td> 0.537313</td>\n",
       "      <td>   159756</td>\n",
       "      <td> 0</td>\n",
       "    </tr>\n",
       "    <tr>\n",
       "      <th>89075</th>\n",
       "      <td>  chrX</td>\n",
       "      <td>   164233</td>\n",
       "      <td>   68</td>\n",
       "      <td>    4</td>\n",
       "      <td>   1816</td>\n",
       "      <td>     73</td>\n",
       "      <td>     45</td>\n",
       "      <td>  0</td>\n",
       "      <td> 59.0</td>\n",
       "      <td> ACC</td>\n",
       "      <td> 1.771605</td>\n",
       "      <td> 0.512438</td>\n",
       "      <td> intergenic</td>\n",
       "      <td> 2535322</td>\n",
       "      <td> 0.630137</td>\n",
       "      <td>   164232</td>\n",
       "      <td> 0</td>\n",
       "    </tr>\n",
       "    <tr>\n",
       "      <th>89076</th>\n",
       "      <td>  chrX</td>\n",
       "      <td>   171226</td>\n",
       "      <td>   47</td>\n",
       "      <td>    9</td>\n",
       "      <td>   1703</td>\n",
       "      <td>     58</td>\n",
       "      <td>     51</td>\n",
       "      <td>  0</td>\n",
       "      <td> 48.0</td>\n",
       "      <td> CTC</td>\n",
       "      <td> 2.214765</td>\n",
       "      <td> 0.572139</td>\n",
       "      <td> intergenic</td>\n",
       "      <td> 2528329</td>\n",
       "      <td> 0.413793</td>\n",
       "      <td>   171225</td>\n",
       "      <td> 0</td>\n",
       "    </tr>\n",
       "    <tr>\n",
       "      <th>89077</th>\n",
       "      <td>  chrX</td>\n",
       "      <td>   176368</td>\n",
       "      <td>   10</td>\n",
       "      <td>    2</td>\n",
       "      <td>    240</td>\n",
       "      <td>     12</td>\n",
       "      <td>     10</td>\n",
       "      <td>  0</td>\n",
       "      <td> 30.5</td>\n",
       "      <td> GTA</td>\n",
       "      <td> 2.993377</td>\n",
       "      <td> 0.577114</td>\n",
       "      <td>        NaN</td>\n",
       "      <td> 2523187</td>\n",
       "      <td> 1.000000</td>\n",
       "      <td>   176367</td>\n",
       "      <td> 0</td>\n",
       "    </tr>\n",
       "    <tr>\n",
       "      <th>89078</th>\n",
       "      <td>  chrX</td>\n",
       "      <td>   185097</td>\n",
       "      <td>  138</td>\n",
       "      <td>    4</td>\n",
       "      <td>   4157</td>\n",
       "      <td>    149</td>\n",
       "      <td>     82</td>\n",
       "      <td>  0</td>\n",
       "      <td> 55.0</td>\n",
       "      <td> ATA</td>\n",
       "      <td> 3.621849</td>\n",
       "      <td> 0.626866</td>\n",
       "      <td> intergenic</td>\n",
       "      <td> 2514458</td>\n",
       "      <td> 0.771812</td>\n",
       "      <td>   185096</td>\n",
       "      <td> 0</td>\n",
       "    </tr>\n",
       "  </tbody>\n",
       "</table>\n",
       "<p>10 rows × 17 columns</p>\n",
       "</div>"
      ],
      "text/plain": [
       "       CHROM     POS_x  RefAllele  NonRefAllele  BaseQual  TumourCoverage  \\\n",
       "8327   chr10  42385188       6569          1429    247986          181542   \n",
       "89070   chrX     78172         40             3      1081              44   \n",
       "89071   chrX     78192         40             0      1204              41   \n",
       "89072   chrX     78732         28             9       797              42   \n",
       "89073   chrX    156853         54             5      1791              66   \n",
       "89074   chrX    159757        100             0      3087             134   \n",
       "89075   chrX    164233         68             4      1816              73   \n",
       "89076   chrX    171226         47             9      1703              58   \n",
       "89077   chrX    176368         10             2       240              12   \n",
       "89078   chrX    185097        138             4      4157             149   \n",
       "\n",
       "       NormalCoverage  MapQual  ReadPosition Trinucleotide  HomopolymerRate  \\\n",
       "8327           170360       23          40.0           CTT         2.171233   \n",
       "89070              29        0          50.5           CCG         1.856250   \n",
       "89071              31        0          49.0           TTG         1.881250   \n",
       "89072              25        0          46.5           CCG         1.911392   \n",
       "89073              28        0          56.5           CTC         2.006410   \n",
       "89074              85        0          36.5           CTA         1.797546   \n",
       "89075              45        0          59.0           ACC         1.771605   \n",
       "89076              51        0          48.0           CTC         2.214765   \n",
       "89077              10        0          30.5           GTA         2.993377   \n",
       "89078              82        0          55.0           ATA         3.621849   \n",
       "\n",
       "       GCcontent GenomicLocation  DistanceSNP  StrandBias     POS_y  Label  \n",
       "8327    0.368159             NaN        12185    0.472249  42385187      0  \n",
       "89070   0.492537      intergenic      2621383    0.500000     78171      0  \n",
       "89071   0.492537      intergenic      2621363    0.439024     78191      0  \n",
       "89072   0.517413             NaN      2620823    0.428571     78731      0  \n",
       "89073   0.492537      intergenic      2542702    0.560606    156852      0  \n",
       "89074   0.507463      intergenic      2539798    0.537313    159756      0  \n",
       "89075   0.512438      intergenic      2535322    0.630137    164232      0  \n",
       "89076   0.572139      intergenic      2528329    0.413793    171225      0  \n",
       "89077   0.577114             NaN      2523187    1.000000    176367      0  \n",
       "89078   0.626866      intergenic      2514458    0.771812    185096      0  \n",
       "\n",
       "[10 rows x 17 columns]"
      ]
     },
     "execution_count": 98,
     "metadata": {},
     "output_type": "execute_result"
    }
   ],
   "source": [
    "GenomicFeatures_PCSI0023_Top20[:10]"
   ]
  },
  {
   "cell_type": "code",
   "execution_count": 67,
   "metadata": {
    "collapsed": false
   },
   "outputs": [],
   "source": [
    "GenomicFeatures_PCSI0023_Top20.to_csv('GenomicFeatures_IS4_Top20.csv')"
   ]
  },
  {
   "cell_type": "code",
   "execution_count": null,
   "metadata": {
    "collapsed": true
   },
   "outputs": [],
   "source": []
  },
  {
   "cell_type": "code",
   "execution_count": null,
   "metadata": {
    "collapsed": true
   },
   "outputs": [],
   "source": []
  }
 ],
 "metadata": {
  "kernelspec": {
   "display_name": "Python 2",
   "language": "python",
   "name": "python2"
  },
  "language_info": {
   "codemirror_mode": {
    "name": "ipython",
    "version": 2
   },
   "file_extension": ".py",
   "mimetype": "text/x-python",
   "name": "python",
   "nbconvert_exporter": "python",
   "pygments_lexer": "ipython2",
   "version": "2.7.6"
  }
 },
 "nbformat": 4,
 "nbformat_minor": 0
}
