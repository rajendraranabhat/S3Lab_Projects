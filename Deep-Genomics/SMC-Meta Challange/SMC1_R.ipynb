{
 "cells": [
  {
   "cell_type": "code",
   "execution_count": null,
   "metadata": {
    "collapsed": true
   },
   "outputs": [],
   "source": []
  },
  {
   "cell_type": "code",
   "execution_count": 100,
   "metadata": {
    "collapsed": true
   },
   "outputs": [],
   "source": [
    "# Read in the data\n",
    "CPCG0100Frame = read.csv(\"CPCG0100.csv\")"
   ]
  },
  {
   "cell_type": "code",
   "execution_count": 101,
   "metadata": {
    "collapsed": false
   },
   "outputs": [
    {
     "name": "stdout",
     "output_type": "stream",
     "text": [
      "'data.frame':\t198526 obs. of  15 variables:\n",
      " $ X              : int  0 1 2 3 4 5 6 7 8 9 ...\n",
      " $ RefAllele      : int  183 177 115 83 96 120 117 92 27 9 ...\n",
      " $ NonRefAllele   : int  3 10 10 26 20 11 14 8 3 3 ...\n",
      " $ BaseQual       : int  4490 4691 3512 3251 3255 3672 3865 2946 524 342 ...\n",
      " $ TumourCoverage : int  231 229 137 119 127 155 155 123 36 17 ...\n",
      " $ NormalCoverage : int  133 134 74 59 53 108 108 75 26 15 ...\n",
      " $ MapQual        : num  25 25 0 37 29 0 0 0 27 0 ...\n",
      " $ ReadPosition   : num  55 60 52 38 47 42 51 55 70.5 64 ...\n",
      " $ Trinucleotide  : Factor w/ 35 levels \"ACA\",\"ACC\",\"ACG\",..: 32 14 28 18 19 24 34 18 35 6 ...\n",
      " $ HomopolymerRate: num  4.7 4.53 2.71 2.75 2.72 ...\n",
      " $ GCcontent      : num  0.587 0.587 0.532 0.677 0.677 ...\n",
      " $ GenomicLocation: Factor w/ 16 levels \"\",\"downstream\",..: 1 1 1 8 1 1 8 1 1 5 ...\n",
      " $ DistanceSNP    : int  41830 41825 35658 34719 34700 32011 31988 23727 23645 10933 ...\n",
      " $ StrandBias     : num  0.368 0.371 0.336 0.462 0.409 ...\n",
      " $ Label          : num  0 0 0 0 0 0 0 0 0 0 ...\n"
     ]
    }
   ],
   "source": [
    "str(CPCG0100Frame)"
   ]
  },
  {
   "cell_type": "code",
   "execution_count": 102,
   "metadata": {
    "collapsed": false
   },
   "outputs": [
    {
     "data": {
      "text/html": [
       "32"
      ],
      "text/latex": [
       "32"
      ],
      "text/markdown": [
       "32"
      ],
      "text/plain": [
       "[1] 32"
      ]
     },
     "execution_count": 102,
     "metadata": {},
     "output_type": "execute_result"
    }
   ],
   "source": [
    "sum(is.na(CPCG0100Frame$StrandBias)) "
   ]
  },
  {
   "cell_type": "code",
   "execution_count": 103,
   "metadata": {
    "collapsed": false
   },
   "outputs": [
    {
     "data": {
      "text/html": [
       "32"
      ],
      "text/latex": [
       "32"
      ],
      "text/markdown": [
       "32"
      ],
      "text/plain": [
       "[1] 32"
      ]
     },
     "execution_count": 103,
     "metadata": {},
     "output_type": "execute_result"
    }
   ],
   "source": [
    "sum(is.na(CPCG0100Frame$ReadPosition)) "
   ]
  },
  {
   "cell_type": "code",
   "execution_count": 104,
   "metadata": {
    "collapsed": false
   },
   "outputs": [
    {
     "name": "stdout",
     "output_type": "stream",
     "text": [
      "[1] 0\n",
      "[1] 0\n"
     ]
    }
   ],
   "source": [
    "CPCG0100Frame$ReadPosition[is.na(CPCG0100Frame$ReadPosition)] = mean(CPCG0100Frame$ReadPosition, na.rm=TRUE)\n",
    "CPCG0100Frame$StrandBias[is.na(CPCG0100Frame$StrandBias)] = mean(CPCG0100Frame$StrandBias, na.rm=TRUE)\n",
    "\n",
    "print (sum(is.na(CPCG0100Frame$ReadPosition)) )\n",
    "print (sum(is.na(CPCG0100Frame$StrandBias)) )"
   ]
  },
  {
   "cell_type": "code",
   "execution_count": 105,
   "metadata": {
    "collapsed": false
   },
   "outputs": [
    {
     "data": {
      "text/html": [
       "0"
      ],
      "text/latex": [
       "0"
      ],
      "text/markdown": [
       "0"
      ],
      "text/plain": [
       "[1] 0"
      ]
     },
     "execution_count": 105,
     "metadata": {},
     "output_type": "execute_result"
    }
   ],
   "source": [
    "sum(is.na(CPCG0100Frame))  #No NA value now"
   ]
  },
  {
   "cell_type": "code",
   "execution_count": 106,
   "metadata": {
    "collapsed": true
   },
   "outputs": [],
   "source": [
    "write.csv(CPCG0100Frame, file = \"CPCG0100_imputed.csv\")  #Cleaned CSV without NA"
   ]
  },
  {
   "cell_type": "code",
   "execution_count": 10,
   "metadata": {
    "collapsed": true
   },
   "outputs": [],
   "source": [
    "CPCG0100Frame$Trinucleotide  = as.factor(CPCG0100Frame$Trinucleotide)\n",
    "CPCG0100Frame$GenomicLocation= as.factor(CPCG0100Frame$GenomicLocation)"
   ]
  },
  {
   "cell_type": "code",
   "execution_count": 11,
   "metadata": {
    "collapsed": true
   },
   "outputs": [],
   "source": [
    "library(caTools)\n",
    "split = sample.split(CPCG0100Frame$Y, SplitRatio = 0.80) #60% train, 40% test\n",
    "train_R = subset(CPCG0100Frame, split==TRUE)\n",
    "test_R = subset(CPCG0100Frame, split==FALSE)"
   ]
  },
  {
   "cell_type": "code",
   "execution_count": 12,
   "metadata": {
    "collapsed": false
   },
   "outputs": [
    {
     "name": "stderr",
     "output_type": "stream",
     "text": [
      "Warning message:\n",
      ": glm.fit: algorithm did not convergeWarning message:\n",
      ": glm.fit: fitted probabilities numerically 0 or 1 occurred"
     ]
    },
    {
     "data": {
      "text/plain": [
       "\n",
       "Call:\n",
       "glm(formula = Y ~ ., family = binomial, data = CPCG0100Frame)\n",
       "\n",
       "Deviance Residuals: \n",
       "    Min       1Q   Median       3Q      Max  \n",
       "-8.4904  -0.1760  -0.0841  -0.0134   8.4904  \n",
       "\n",
       "Coefficients:\n",
       "                                     Estimate Std. Error z value Pr(>|z|)    \n",
       "(Intercept)                        -7.527e+00  3.224e-01 -23.343  < 2e-16 ***\n",
       "X                                  -2.117e-06  3.377e-07  -6.269 3.62e-10 ***\n",
       "RefAllele                          -1.213e-01  5.536e-03 -21.917  < 2e-16 ***\n",
       "NonRefAllele                       -6.052e-02  5.290e-03 -11.441  < 2e-16 ***\n",
       "BaseQual                            4.522e-03  1.692e-04  26.727  < 2e-16 ***\n",
       "TumourCoverage                     -3.752e-02  2.775e-03 -13.519  < 2e-16 ***\n",
       "NormalCoverage                     -2.038e-02  1.503e-03 -13.558  < 2e-16 ***\n",
       "MapQual                             1.284e-01  4.074e-03  31.508  < 2e-16 ***\n",
       "ReadPosition                        3.865e-03  2.066e-03   1.871 0.061351 .  \n",
       "TrinucleotideACC                    9.032e-01  1.353e-01   6.678 2.43e-11 ***\n",
       "TrinucleotideACG                    2.623e+00  1.130e-01  23.215  < 2e-16 ***\n",
       "TrinucleotideACT                    4.699e-01  1.266e-01   3.710 0.000207 ***\n",
       "TrinucleotideATA                    9.328e-02  1.293e-01   0.721 0.470764    \n",
       "TrinucleotideATC                    1.141e+00  1.620e-01   7.043 1.88e-12 ***\n",
       "TrinucleotideATG                    5.529e-01  1.514e-01   3.653 0.000259 ***\n",
       "TrinucleotideATT                    1.040e+00  1.226e-01   8.481  < 2e-16 ***\n",
       "TrinucleotideCCA                   -8.923e-02  1.341e-01  -0.665 0.505747    \n",
       "TrinucleotideCCC                    6.224e-01  1.427e-01   4.360 1.30e-05 ***\n",
       "TrinucleotideCCG                    1.979e+00  1.326e-01  14.921  < 2e-16 ***\n",
       "TrinucleotideCCT                    4.360e-01  1.243e-01   3.507 0.000454 ***\n",
       "TrinucleotideCNN                   -2.701e+01  3.561e+05   0.000 0.999939    \n",
       "TrinucleotideCTA                    1.044e-01  1.898e-01   0.550 0.582346    \n",
       "TrinucleotideCTC                    5.208e-01  1.638e-01   3.179 0.001478 ** \n",
       "TrinucleotideCTG                    3.591e-02  1.689e-01   0.213 0.831684    \n",
       "TrinucleotideCTT                    4.901e-01  1.505e-01   3.256 0.001129 ** \n",
       "TrinucleotideGCA                    8.683e-02  1.328e-01   0.654 0.513371    \n",
       "TrinucleotideGCC                    5.008e-01  1.571e-01   3.187 0.001435 ** \n",
       "TrinucleotideGCG                    2.223e+00  1.228e-01  18.104  < 2e-16 ***\n",
       "TrinucleotideGCT                    2.737e-01  1.406e-01   1.946 0.051611 .  \n",
       "TrinucleotideGTA                    5.060e-01  1.795e-01   2.820 0.004806 ** \n",
       "TrinucleotideGTC                    6.968e-01  2.148e-01   3.244 0.001179 ** \n",
       "TrinucleotideGTG                   -5.144e-01  2.051e-01  -2.508 0.012156 *  \n",
       "TrinucleotideGTT                    7.867e-01  1.654e-01   4.756 1.98e-06 ***\n",
       "TrinucleotideNCG                   -2.028e+01  3.561e+05   0.000 0.999955    \n",
       "TrinucleotideNTC                   -1.595e+01  3.561e+05   0.000 0.999964    \n",
       "TrinucleotideTCA                   -2.405e-01  1.280e-01  -1.879 0.060259 .  \n",
       "TrinucleotideTCC                    7.435e-01  1.258e-01   5.912 3.39e-09 ***\n",
       "TrinucleotideTCG                    2.057e+00  1.395e-01  14.740  < 2e-16 ***\n",
       "TrinucleotideTCT                    4.271e-01  1.093e-01   3.907 9.34e-05 ***\n",
       "TrinucleotideTTA                    3.250e-01  1.477e-01   2.201 0.027717 *  \n",
       "TrinucleotideTTC                    6.799e-01  1.701e-01   3.996 6.45e-05 ***\n",
       "TrinucleotideTTG                    3.080e-01  1.743e-01   1.767 0.077277 .  \n",
       "TrinucleotideTTT                    7.301e-01  1.255e-01   5.819 5.91e-09 ***\n",
       "HomopolymerRate                     3.048e-02  1.384e-02   2.202 0.027657 *  \n",
       "GCcontent                          -2.926e+00  1.996e-01 -14.661  < 2e-16 ***\n",
       "GenomicLocationdownstream          -7.917e-01  3.828e-01  -2.068 0.038649 *  \n",
       "GenomicLocationexonic              -2.733e-01  2.563e-01  -1.066 0.286236    \n",
       "GenomicLocationexonic;splicing     -2.228e+01  8.134e+04   0.000 0.999781    \n",
       "GenomicLocationintergenic          -1.796e-01  5.007e-02  -3.587 0.000335 ***\n",
       "GenomicLocationintronic            -1.942e-01  5.872e-02  -3.307 0.000944 ***\n",
       "GenomicLocationncRNA_exonic         6.726e-02  4.640e-01   0.145 0.884755    \n",
       "GenomicLocationncRNA_intronic      -4.703e-01  1.592e-01  -2.955 0.003130 ** \n",
       "GenomicLocationncRNA_splicing      -2.267e+01  3.561e+05   0.000 0.999949    \n",
       "GenomicLocationncRNA_UTR3           6.000e-01  1.071e+00   0.560 0.575264    \n",
       "GenomicLocationncRNA_UTR5          -2.270e+01  1.747e+05   0.000 0.999896    \n",
       "GenomicLocationsplicing            -2.184e+01  6.329e+04   0.000 0.999725    \n",
       "GenomicLocationupstream            -9.099e-01  4.179e-01  -2.177 0.029444 *  \n",
       "GenomicLocationupstream;downstream  1.722e+00  7.949e-01   2.167 0.030272 *  \n",
       "GenomicLocationUTR3                -4.760e-01  3.255e-01  -1.462 0.143660    \n",
       "GenomicLocationUTR5                -1.202e-01  5.030e-01  -0.239 0.811149    \n",
       "DistanceSNP                        -7.913e-05  6.552e-06 -12.077  < 2e-16 ***\n",
       "StrandBias                         -3.752e-01  2.410e-01  -1.557 0.119494    \n",
       "---\n",
       "Signif. codes:  0 ‘***’ 0.001 ‘**’ 0.01 ‘*’ 0.05 ‘.’ 0.1 ‘ ’ 1\n",
       "\n",
       "(Dispersion parameter for binomial family taken to be 1)\n",
       "\n",
       "    Null deviance: 29873  on 198525  degrees of freedom\n",
       "Residual deviance: 22787  on 198464  degrees of freedom\n",
       "AIC: 22911\n",
       "\n",
       "Number of Fisher Scoring iterations: 25\n"
      ]
     },
     "execution_count": 12,
     "metadata": {},
     "output_type": "execute_result"
    }
   ],
   "source": [
    "CPCG0100Log = glm(Y ~ ., data = CPCG0100Frame, family=binomial)\n",
    "summary(CPCG0100Log)"
   ]
  },
  {
   "cell_type": "code",
   "execution_count": 13,
   "metadata": {
    "collapsed": true
   },
   "outputs": [],
   "source": [
    "predictCPCG0100 = predict(CPCG0100Log, type=\"response\")"
   ]
  },
  {
   "cell_type": "code",
   "execution_count": 14,
   "metadata": {
    "collapsed": false
   },
   "outputs": [
    {
     "data": {
      "text/plain": [
       "   \n",
       "     FALSE   TRUE\n",
       "  0 195527    146\n",
       "  1   2835     18"
      ]
     },
     "execution_count": 14,
     "metadata": {},
     "output_type": "execute_result"
    }
   ],
   "source": [
    "table(CPCG0100Frame$Y, predictCPCG0100 > 0.5)"
   ]
  },
  {
   "cell_type": "code",
   "execution_count": 15,
   "metadata": {
    "collapsed": false
   },
   "outputs": [
    {
     "data": {
      "text/html": [
       "0.984984334545601"
      ],
      "text/latex": [
       "0.984984334545601"
      ],
      "text/markdown": [
       "0.984984334545601"
      ],
      "text/plain": [
       "[1] 0.9849843"
      ]
     },
     "execution_count": 15,
     "metadata": {},
     "output_type": "execute_result"
    }
   ],
   "source": [
    "(195527+18)/(195527+18+146+2835.0)"
   ]
  },
  {
   "cell_type": "code",
   "execution_count": 16,
   "metadata": {
    "collapsed": true
   },
   "outputs": [],
   "source": [
    "#################################################################\n",
    "############# H2o Deep Learning"
   ]
  },
  {
   "cell_type": "code",
   "execution_count": 107,
   "metadata": {
    "collapsed": false
   },
   "outputs": [
    {
     "name": "stdout",
     "output_type": "stream",
     "text": [
      "\n",
      "H2O is not running yet, starting it now...\n",
      "\n",
      "Note:  In case of errors look at the following log files:\n",
      "    /tmp/RtmpYwTNS9/h2o_rbhat_started_from_r.out\n",
      "    /tmp/RtmpYwTNS9/h2o_rbhat_started_from_r.err\n",
      "\n",
      "\n",
      "Starting H2O JVM and connecting: .. Connection successful!\n",
      "\n",
      "R is connected to the H2O cluster: \n",
      "    H2O cluster uptime:         1 seconds 669 milliseconds \n",
      "    H2O cluster version:        3.9.1.3435 \n",
      "    H2O cluster name:           H2O_started_from_R_rbhat_odx059 \n",
      "    H2O cluster total nodes:    1 \n",
      "    H2O cluster total memory:   26.60 GB \n",
      "    H2O cluster total cores:    56 \n",
      "    H2O cluster allowed cores:  2 \n",
      "    H2O cluster healthy:        TRUE \n",
      "    H2O Connection ip:          localhost \n",
      "    H2O Connection port:        54321 \n",
      "    H2O Connection proxy:       NA \n",
      "    R Version:                  R version 3.3.0 beta (2016-03-30 r70404) \n",
      "\n",
      "Note:  As started, H2O is limited to the CRAN default of 2 CPUs.\n",
      "       Shut down and restart H2O as shown below to use all your CPUs.\n",
      "           > h2o.shutdown()\n",
      "           > h2o.init(nthreads = -1)\n",
      "\n"
     ]
    }
   ],
   "source": [
    "library(h2o)\n",
    "localH2O = h2o.init(ip = \"localhost\", port = 54321, startH2O = TRUE,min_mem_size = \"3g\")"
   ]
  },
  {
   "cell_type": "code",
   "execution_count": 111,
   "metadata": {
    "collapsed": false
   },
   "outputs": [
    {
     "name": "stdout",
     "output_type": "stream",
     "text": [
      "  |======================================================================| 100%\n",
      "  |======================================================================| 100%\n"
     ]
    }
   ],
   "source": [
    "## Import CSV as H2O:\n",
    "csvPath = \"/home/rbhat/Workspace/S3Lab_Projects/SMC-MetaChallange/CPCG0100_imputed.csv\"\n",
    "CPCG0100.hex          = h2o.importFile(path = csvPath, destination_frame = \"CPCG0100.hex\") \n",
    "train                 = as.data.frame(CPCG0100.hex)\n",
    "\n",
    "#train  = subset(train,C1<20000)\n",
    "\n",
    "train$Trinucleotide   = as.factor(train$Trinucleotide)\n",
    "train$GenomicLocation = as.factor(train$GenomicLocation)\n",
    "train$Label           = as.factor(train$Label)\n",
    "\n",
    "train_h2o             = as.h2o(train)"
   ]
  },
  {
   "cell_type": "code",
   "execution_count": 116,
   "metadata": {
    "collapsed": false
   },
   "outputs": [
    {
     "name": "stdout",
     "output_type": "stream",
     "text": [
      "Class 'H2OFrame' <environment: 0x7390a50> \n",
      " - attr(*, \"op\")= chr \"Parse\"\n",
      " - attr(*, \"id\")= chr \"train\"\n",
      " - attr(*, \"eval\")= logi FALSE\n",
      " - attr(*, \"nrow\")= int 198526\n",
      " - attr(*, \"ncol\")= int 16\n",
      " - attr(*, \"types\")=List of 16\n",
      "  ..$ : chr \"int\"\n",
      "  ..$ : chr \"int\"\n",
      "  ..$ : chr \"int\"\n",
      "  ..$ : chr \"int\"\n",
      "  ..$ : chr \"int\"\n",
      "  ..$ : chr \"int\"\n",
      "  ..$ : chr \"int\"\n",
      "  ..$ : chr \"real\"\n",
      "  ..$ : chr \"real\"\n",
      "  ..$ : chr \"enum\"\n",
      "  ..$ : chr \"real\"\n",
      "  ..$ : chr \"real\"\n",
      "  ..$ : chr \"enum\"\n",
      "  ..$ : chr \"int\"\n",
      "  ..$ : chr \"real\"\n",
      "  ..$ : chr \"enum\"\n",
      " - attr(*, \"data\")='data.frame':\t10 obs. of  16 variables:\n",
      "  ..$ C1             : num  1 2 3 4 5 6 7 8 9 10\n",
      "  ..$ X              : num  0 1 2 3 4 5 6 7 8 9\n",
      "  ..$ RefAllele      : num  183 177 115 83 96 120 117 92 27 9\n",
      "  ..$ NonRefAllele   : num  3 10 10 26 20 11 14 8 3 3\n",
      "  ..$ BaseQual       : num  4490 4691 3512 3251 3255 ...\n",
      "  ..$ TumourCoverage : num  231 229 137 119 127 155 155 123 36 17\n",
      "  ..$ NormalCoverage : num  133 134 74 59 53 108 108 75 26 15\n",
      "  ..$ MapQual        : num  25 25 0 37 29 0 0 0 27 0\n",
      "  ..$ ReadPosition   : num  55 60 52 38 47 42 51 55 70.5 64\n",
      "  ..$ Trinucleotide  : Factor w/ 35 levels \"ACA\",\"ACC\",\"ACG\",..: 32 14 28 18 19 24 34 18 35 6\n",
      "  ..$ HomopolymerRate: num  4.7 4.53 2.71 2.75 2.72 ...\n",
      "  ..$ GCcontent      : num  0.587 0.587 0.532 0.677 0.677 ...\n",
      "  ..$ GenomicLocation: Factor w/ 15 levels \"UTR3\",\"UTR5\",..: NA NA NA 11 NA NA 11 NA NA 6\n",
      "  ..$ DistanceSNP    : num  41830 41825 35658 34719 34700 ...\n",
      "  ..$ StrandBias     : num  0.368 0.371 0.336 0.462 0.409 ...\n",
      "  ..$ Label          : Factor w/ 2 levels \"0\",\"1\": 1 1 1 1 1 1 1 1 1 1\n"
     ]
    }
   ],
   "source": [
    "str(train_h2o)"
   ]
  },
  {
   "cell_type": "code",
   "execution_count": 113,
   "metadata": {
    "collapsed": false
   },
   "outputs": [
    {
     "name": "stdout",
     "output_type": "stream",
     "text": [
      "\r",
      "  |                                                                            \r",
      "  |                                                                      |   0%\r",
      "  |                                                                            \r",
      "  |==============                                                        |  20%\r",
      "  |                                                                            \r",
      "  |==========================================                            |  60%\r",
      "  |                                                                            \r",
      "  |======================================================================| 100%\n"
     ]
    }
   ],
   "source": [
    "#Training a deep learning model:---------------------------------------------------------#\n",
    "model <- h2o.deeplearning( x = 3:15, # column numbers for predictors\n",
    "                           y = 16,            # column number for label\n",
    "                           training_frame = train_h2o,\n",
    "                           activation = \"RectifierWithDropout\", \n",
    "                           input_dropout_ratio = 0.2,\n",
    "                           hidden_dropout_ratios = c(0.5,0.5),\n",
    "                           balance_classes = TRUE, \n",
    "                           hidden = c(10,8),  ## two hidden layers\n",
    "                           epochs = 50,\n",
    "                           variable_importances = T)"
   ]
  },
  {
   "cell_type": "code",
   "execution_count": 141,
   "metadata": {
    "collapsed": false
   },
   "outputs": [
    {
     "data": {
      "text/html": [
       "<table>\n",
       "<thead><tr><th></th><th scope=col>variable</th><th scope=col>relative_importance</th><th scope=col>scaled_importance</th><th scope=col>percentage</th></tr></thead>\n",
       "<tbody>\n",
       "\t<tr><th scope=row>1</th><td>NonRefAllele</td><td>1</td><td>1</td><td>0.332800319279481</td></tr>\n",
       "\t<tr><th scope=row>2</th><td>TumourCoverage</td><td>0.146610274910927</td><td>0.146610274910927</td><td>0.0487919463000089</td></tr>\n",
       "\t<tr><th scope=row>3</th><td>NormalCoverage</td><td>0.133089661598206</td><td>0.133089661598206</td><td>0.0442922818726809</td></tr>\n",
       "\t<tr><th scope=row>4</th><td>BaseQual</td><td>0.108282387256622</td><td>0.108282387256622</td><td>0.0360364130513483</td></tr>\n",
       "\t<tr><th scope=row>5</th><td>RefAllele</td><td>0.0907380729913712</td><td>0.0907380729913712</td><td>0.0301976596623332</td></tr>\n",
       "\t<tr><th scope=row>6</th><td>GenomicLocation.upstream</td><td>0.075579859316349</td><td>0.075579859316349</td><td>0.0251530013115792</td></tr>\n",
       "\t<tr><th scope=row>7</th><td>Trinucleotide.GTG</td><td>0.0612118318676949</td><td>0.0612118318676949</td><td>0.0203713171892508</td></tr>\n",
       "\t<tr><th scope=row>8</th><td>GenomicLocation.ncRNA_UTR5</td><td>0.0594158470630646</td><td>0.0594158470630646</td><td>0.0197736128728487</td></tr>\n",
       "\t<tr><th scope=row>9</th><td>MapQual</td><td>0.0566472858190536</td><td>0.0566472858190536</td><td>0.0188522348068971</td></tr>\n",
       "\t<tr><th scope=row>10</th><td>GenomicLocation.ncRNA_splicing</td><td>0.0556206367909908</td><td>0.0556206367909908</td><td>0.0185105656825698</td></tr>\n",
       "\t<tr><th scope=row>11</th><td>GenomicLocation.splicing</td><td>0.0545304976403713</td><td>0.0545304976403713</td><td>0.0181477670251846</td></tr>\n",
       "\t<tr><th scope=row>12</th><td>GenomicLocation.downstream</td><td>0.0542982518672943</td><td>0.0542982518672943</td><td>0.0180704755577532</td></tr>\n",
       "\t<tr><th scope=row>13</th><td>GenomicLocation.ncRNA_exonic</td><td>0.051896296441555</td><td>0.051896296441555</td><td>0.0172711040251721</td></tr>\n",
       "\t<tr><th scope=row>14</th><td>HomopolymerRate</td><td>0.0505685359239578</td><td>0.0505685359239578</td><td>0.0168292249009891</td></tr>\n",
       "\t<tr><th scope=row>15</th><td>GenomicLocation.ncRNA_UTR3</td><td>0.0500842109322548</td><td>0.0500842109322548</td><td>0.0166680413891153</td></tr>\n",
       "\t<tr><th scope=row>16</th><td>GenomicLocation.UTR5</td><td>0.0493012219667435</td><td>0.0493012219667435</td><td>0.0164074624114008</td></tr>\n",
       "\t<tr><th scope=row>17</th><td>Trinucleotide.ACA</td><td>0.0476762168109417</td><td>0.0476762168109417</td><td>0.0158666601767192</td></tr>\n",
       "\t<tr><th scope=row>18</th><td>GenomicLocation.exonic;splicing</td><td>0.0467131175100803</td><td>0.0467131175100803</td><td>0.0155461404218947</td></tr>\n",
       "\t<tr><th scope=row>19</th><td>Trinucleotide.NTC</td><td>0.0407788567245007</td><td>0.0407788567245007</td><td>0.013571216537766</td></tr>\n",
       "\t<tr><th scope=row>20</th><td>GenomicLocation.UTR3</td><td>0.0406961217522621</td><td>0.0406961217522621</td><td>0.0135436823125895</td></tr>\n",
       "\t<tr><th scope=row>21</th><td>Trinucleotide.CNN</td><td>0.039902850985527</td><td>0.039902850985527</td><td>0.013279681548145</td></tr>\n",
       "\t<tr><th scope=row>22</th><td>GenomicLocation.upstream;downstream</td><td>0.0381846949458122</td><td>0.0381846949458122</td><td>0.0127078786695559</td></tr>\n",
       "\t<tr><th scope=row>23</th><td>Trinucleotide.ACG</td><td>0.0348109491169453</td><td>0.0348109491169453</td><td>0.0115850949805412</td></tr>\n",
       "\t<tr><th scope=row>24</th><td>Trinucleotide.NCG</td><td>0.0331934355199337</td><td>0.0331934355199337</td><td>0.0110467859390168</td></tr>\n",
       "\t<tr><th scope=row>25</th><td>Trinucleotide.GCG</td><td>0.0305842738598585</td><td>0.0305842738598585</td><td>0.010178456105492</td></tr>\n",
       "\t<tr><th scope=row>26</th><td>Trinucleotide.CCG</td><td>0.0301235131919384</td><td>0.0301235131919384</td><td>0.0100251148080968</td></tr>\n",
       "\t<tr><th scope=row>27</th><td>DistanceSNP</td><td>0.0296818818897009</td><td>0.0296818818897009</td><td>0.00987813976970831</td></tr>\n",
       "\t<tr><th scope=row>28</th><td>Trinucleotide.TCG</td><td>0.0258556772023439</td><td>0.0258556772023439</td><td>0.00860477762812726</td></tr>\n",
       "\t<tr><th scope=row>29</th><td>Trinucleotide.GCC</td><td>0.0224059373140335</td><td>0.0224059373140335</td><td>0.00745670309186639</td></tr>\n",
       "\t<tr><th scope=row>30</th><td>Trinucleotide.TTG</td><td>0.0222788490355015</td><td>0.0222788490355015</td><td>0.00741440807219425</td></tr>\n",
       "\t<tr><th scope=row>31</th><td>⋮</td><td>⋮</td><td>⋮</td><td>⋮</td></tr>\n",
       "\t<tr><th scope=row>34</th><td>Trinucleotide.ATG</td><td>0.0204867701977491</td><td>0.0204867701977491</td><td>0.00681800366281627</td></tr>\n",
       "\t<tr><th scope=row>35</th><td>Trinucleotide.GTT</td><td>0.0198748260736465</td><td>0.0198748260736465</td><td>0.00661434846293373</td></tr>\n",
       "\t<tr><th scope=row>36</th><td>Trinucleotide.ATC</td><td>0.017559764906764</td><td>0.017559764906764</td><td>0.0058438953674437</td></tr>\n",
       "\t<tr><th scope=row>37</th><td>Trinucleotide.ATT</td><td>0.0172467846423388</td><td>0.0172467846423388</td><td>0.00573973543551479</td></tr>\n",
       "\t<tr><th scope=row>38</th><td>Trinucleotide.CTC</td><td>0.0164585150778294</td><td>0.0164585150778294</td><td>0.00547739907276776</td></tr>\n",
       "\t<tr><th scope=row>39</th><td>Trinucleotide.TTC</td><td>0.0158333070576191</td><td>0.0158333070576191</td><td>0.0052693296440257</td></tr>\n",
       "\t<tr><th scope=row>40</th><td>GenomicLocation.missing(NA)</td><td>0.0151335271075368</td><td>0.0151335271075368</td><td>0.00503644265321293</td></tr>\n",
       "\t<tr><th scope=row>41</th><td>Trinucleotide.CTA</td><td>0.0150561900809407</td><td>0.0150561900809407</td><td>0.00501070486606963</td></tr>\n",
       "\t<tr><th scope=row>42</th><td>Trinucleotide.CTT</td><td>0.0148745197802782</td><td>0.0148745197802782</td><td>0.00495024493200554</td></tr>\n",
       "\t<tr><th scope=row>43</th><td>Trinucleotide.CTG</td><td>0.0146881295368075</td><td>0.0146881295368075</td><td>0.00488821419946793</td></tr>\n",
       "\t<tr><th scope=row>44</th><td>Trinucleotide.CCA</td><td>0.0142419673502445</td><td>0.0142419673502445</td><td>0.00473973128132932</td></tr>\n",
       "\t<tr><th scope=row>45</th><td>GenomicLocation.exonic</td><td>0.0135910073295236</td><td>0.0135910073295236</td><td>0.00452309157859521</td></tr>\n",
       "\t<tr><th scope=row>46</th><td>Trinucleotide.ATA</td><td>0.0133079700171947</td><td>0.0133079700171947</td><td>0.00442889667068417</td></tr>\n",
       "\t<tr><th scope=row>47</th><td>Trinucleotide.TCA</td><td>0.0130870155990124</td><td>0.0130870155990124</td><td>0.00435536296976687</td></tr>\n",
       "\t<tr><th scope=row>48</th><td>Trinucleotide.ACT</td><td>0.0122918002307415</td><td>0.0122918002307415</td><td>0.00409071504131037</td></tr>\n",
       "\t<tr><th scope=row>49</th><td>Trinucleotide.GTC</td><td>0.0114673171192408</td><td>0.0114673171192408</td><td>0.00381632679856238</td></tr>\n",
       "\t<tr><th scope=row>50</th><td>Trinucleotide.GTA</td><td>0.0108814593404531</td><td>0.0108814593404531</td><td>0.0036213531427295</td></tr>\n",
       "\t<tr><th scope=row>51</th><td>Trinucleotide.GCT</td><td>0.0103796469047666</td><td>0.0103796469047666</td><td>0.00345434980391459</td></tr>\n",
       "\t<tr><th scope=row>52</th><td>GCcontent</td><td>0.00996239017695189</td><td>0.00996239017695189</td><td>0.00331548663167635</td></tr>\n",
       "\t<tr><th scope=row>53</th><td>StrandBias</td><td>0.00943746790289879</td><td>0.00943746790289879</td><td>0.00314079233127457</td></tr>\n",
       "\t<tr><th scope=row>54</th><td>Trinucleotide.TTA</td><td>0.00939048174768686</td><td>0.00939048174768686</td><td>0.00312515532381833</td></tr>\n",
       "\t<tr><th scope=row>55</th><td>Trinucleotide.TCT</td><td>0.00922046694904566</td><td>0.00922046694904566</td><td>0.0030685743445483</td></tr>\n",
       "\t<tr><th scope=row>56</th><td>ReadPosition</td><td>0.00913491658866405</td><td>0.00913491658866405</td><td>0.00304010315729883</td></tr>\n",
       "\t<tr><th scope=row>57</th><td>Trinucleotide.TCC</td><td>0.00899632181972265</td><td>0.00899632181972265</td><td>0.00299397877394466</td></tr>\n",
       "\t<tr><th scope=row>58</th><td>Trinucleotide.TTT</td><td>0.00813920982182026</td><td>0.00813920982182026</td><td>0.00270873162738447</td></tr>\n",
       "\t<tr><th scope=row>59</th><td>Trinucleotide.CCT</td><td>0.0080377385020256</td><td>0.0080377385020256</td><td>0.0026749619397591</td></tr>\n",
       "\t<tr><th scope=row>60</th><td>GenomicLocation.intergenic</td><td>0.00791973434388638</td><td>0.00791973434388638</td><td>0.00263569011825406</td></tr>\n",
       "\t<tr><th scope=row>61</th><td>Trinucleotide.GCA</td><td>0.00723121128976345</td><td>0.00723121128976345</td><td>0.00240654942601066</td></tr>\n",
       "\t<tr><th scope=row>62</th><td>GenomicLocation.intronic</td><td>0.00584238395094872</td><td>0.00584238395094872</td><td>0.00194434724422905</td></tr>\n",
       "\t<tr><th scope=row>63</th><td>Trinucleotide.missing(NA)</td><td>0</td><td>0</td><td>0</td></tr>\n",
       "</tbody>\n",
       "</table>\n"
      ],
      "text/latex": [
       "\\begin{tabular}{r|llll}\n",
       "  & variable & relative_importance & scaled_importance & percentage\\\\\n",
       "\\hline\n",
       "\t1 & NonRefAllele & 1 & 1 & 0.332800319279481\\\\\n",
       "\t2 & TumourCoverage & 0.146610274910927 & 0.146610274910927 & 0.0487919463000089\\\\\n",
       "\t3 & NormalCoverage & 0.133089661598206 & 0.133089661598206 & 0.0442922818726809\\\\\n",
       "\t4 & BaseQual & 0.108282387256622 & 0.108282387256622 & 0.0360364130513483\\\\\n",
       "\t5 & RefAllele & 0.0907380729913712 & 0.0907380729913712 & 0.0301976596623332\\\\\n",
       "\t6 & GenomicLocation.upstream & 0.075579859316349 & 0.075579859316349 & 0.0251530013115792\\\\\n",
       "\t7 & Trinucleotide.GTG & 0.0612118318676949 & 0.0612118318676949 & 0.0203713171892508\\\\\n",
       "\t8 & GenomicLocation.ncRNA_UTR5 & 0.0594158470630646 & 0.0594158470630646 & 0.0197736128728487\\\\\n",
       "\t9 & MapQual & 0.0566472858190536 & 0.0566472858190536 & 0.0188522348068971\\\\\n",
       "\t10 & GenomicLocation.ncRNA_splicing & 0.0556206367909908 & 0.0556206367909908 & 0.0185105656825698\\\\\n",
       "\t11 & GenomicLocation.splicing & 0.0545304976403713 & 0.0545304976403713 & 0.0181477670251846\\\\\n",
       "\t12 & GenomicLocation.downstream & 0.0542982518672943 & 0.0542982518672943 & 0.0180704755577532\\\\\n",
       "\t13 & GenomicLocation.ncRNA_exonic & 0.051896296441555 & 0.051896296441555 & 0.0172711040251721\\\\\n",
       "\t14 & HomopolymerRate & 0.0505685359239578 & 0.0505685359239578 & 0.0168292249009891\\\\\n",
       "\t15 & GenomicLocation.ncRNA_UTR3 & 0.0500842109322548 & 0.0500842109322548 & 0.0166680413891153\\\\\n",
       "\t16 & GenomicLocation.UTR5 & 0.0493012219667435 & 0.0493012219667435 & 0.0164074624114008\\\\\n",
       "\t17 & Trinucleotide.ACA & 0.0476762168109417 & 0.0476762168109417 & 0.0158666601767192\\\\\n",
       "\t18 & GenomicLocation.exonic;splicing & 0.0467131175100803 & 0.0467131175100803 & 0.0155461404218947\\\\\n",
       "\t19 & Trinucleotide.NTC & 0.0407788567245007 & 0.0407788567245007 & 0.013571216537766\\\\\n",
       "\t20 & GenomicLocation.UTR3 & 0.0406961217522621 & 0.0406961217522621 & 0.0135436823125895\\\\\n",
       "\t21 & Trinucleotide.CNN & 0.039902850985527 & 0.039902850985527 & 0.013279681548145\\\\\n",
       "\t22 & GenomicLocation.upstream;downstream & 0.0381846949458122 & 0.0381846949458122 & 0.0127078786695559\\\\\n",
       "\t23 & Trinucleotide.ACG & 0.0348109491169453 & 0.0348109491169453 & 0.0115850949805412\\\\\n",
       "\t24 & Trinucleotide.NCG & 0.0331934355199337 & 0.0331934355199337 & 0.0110467859390168\\\\\n",
       "\t25 & Trinucleotide.GCG & 0.0305842738598585 & 0.0305842738598585 & 0.010178456105492\\\\\n",
       "\t26 & Trinucleotide.CCG & 0.0301235131919384 & 0.0301235131919384 & 0.0100251148080968\\\\\n",
       "\t27 & DistanceSNP & 0.0296818818897009 & 0.0296818818897009 & 0.00987813976970831\\\\\n",
       "\t28 & Trinucleotide.TCG & 0.0258556772023439 & 0.0258556772023439 & 0.00860477762812726\\\\\n",
       "\t29 & Trinucleotide.GCC & 0.0224059373140335 & 0.0224059373140335 & 0.00745670309186639\\\\\n",
       "\t30 & Trinucleotide.TTG & 0.0222788490355015 & 0.0222788490355015 & 0.00741440807219425\\\\\n",
       "\t31 & ⋮ & ⋮ & ⋮ & ⋮\\\\\n",
       "\t34 & Trinucleotide.ATG & 0.0204867701977491 & 0.0204867701977491 & 0.00681800366281627\\\\\n",
       "\t35 & Trinucleotide.GTT & 0.0198748260736465 & 0.0198748260736465 & 0.00661434846293373\\\\\n",
       "\t36 & Trinucleotide.ATC & 0.017559764906764 & 0.017559764906764 & 0.0058438953674437\\\\\n",
       "\t37 & Trinucleotide.ATT & 0.0172467846423388 & 0.0172467846423388 & 0.00573973543551479\\\\\n",
       "\t38 & Trinucleotide.CTC & 0.0164585150778294 & 0.0164585150778294 & 0.00547739907276776\\\\\n",
       "\t39 & Trinucleotide.TTC & 0.0158333070576191 & 0.0158333070576191 & 0.0052693296440257\\\\\n",
       "\t40 & GenomicLocation.missing(NA) & 0.0151335271075368 & 0.0151335271075368 & 0.00503644265321293\\\\\n",
       "\t41 & Trinucleotide.CTA & 0.0150561900809407 & 0.0150561900809407 & 0.00501070486606963\\\\\n",
       "\t42 & Trinucleotide.CTT & 0.0148745197802782 & 0.0148745197802782 & 0.00495024493200554\\\\\n",
       "\t43 & Trinucleotide.CTG & 0.0146881295368075 & 0.0146881295368075 & 0.00488821419946793\\\\\n",
       "\t44 & Trinucleotide.CCA & 0.0142419673502445 & 0.0142419673502445 & 0.00473973128132932\\\\\n",
       "\t45 & GenomicLocation.exonic & 0.0135910073295236 & 0.0135910073295236 & 0.00452309157859521\\\\\n",
       "\t46 & Trinucleotide.ATA & 0.0133079700171947 & 0.0133079700171947 & 0.00442889667068417\\\\\n",
       "\t47 & Trinucleotide.TCA & 0.0130870155990124 & 0.0130870155990124 & 0.00435536296976687\\\\\n",
       "\t48 & Trinucleotide.ACT & 0.0122918002307415 & 0.0122918002307415 & 0.00409071504131037\\\\\n",
       "\t49 & Trinucleotide.GTC & 0.0114673171192408 & 0.0114673171192408 & 0.00381632679856238\\\\\n",
       "\t50 & Trinucleotide.GTA & 0.0108814593404531 & 0.0108814593404531 & 0.0036213531427295\\\\\n",
       "\t51 & Trinucleotide.GCT & 0.0103796469047666 & 0.0103796469047666 & 0.00345434980391459\\\\\n",
       "\t52 & GCcontent & 0.00996239017695189 & 0.00996239017695189 & 0.00331548663167635\\\\\n",
       "\t53 & StrandBias & 0.00943746790289879 & 0.00943746790289879 & 0.00314079233127457\\\\\n",
       "\t54 & Trinucleotide.TTA & 0.00939048174768686 & 0.00939048174768686 & 0.00312515532381833\\\\\n",
       "\t55 & Trinucleotide.TCT & 0.00922046694904566 & 0.00922046694904566 & 0.0030685743445483\\\\\n",
       "\t56 & ReadPosition & 0.00913491658866405 & 0.00913491658866405 & 0.00304010315729883\\\\\n",
       "\t57 & Trinucleotide.TCC & 0.00899632181972265 & 0.00899632181972265 & 0.00299397877394466\\\\\n",
       "\t58 & Trinucleotide.TTT & 0.00813920982182026 & 0.00813920982182026 & 0.00270873162738447\\\\\n",
       "\t59 & Trinucleotide.CCT & 0.0080377385020256 & 0.0080377385020256 & 0.0026749619397591\\\\\n",
       "\t60 & GenomicLocation.intergenic & 0.00791973434388638 & 0.00791973434388638 & 0.00263569011825406\\\\\n",
       "\t61 & Trinucleotide.GCA & 0.00723121128976345 & 0.00723121128976345 & 0.00240654942601066\\\\\n",
       "\t62 & GenomicLocation.intronic & 0.00584238395094872 & 0.00584238395094872 & 0.00194434724422905\\\\\n",
       "\t63 & Trinucleotide.missing(NA) & 0 & 0 & 0\\\\\n",
       "\\end{tabular}\n"
      ],
      "text/plain": [
       "Variable Importances: \n",
       "        variable relative_importance scaled_importance percentage\n",
       "1   NonRefAllele            1.000000          1.000000   0.332800\n",
       "2 TumourCoverage            0.146610          0.146610   0.048792\n",
       "3 NormalCoverage            0.133090          0.133090   0.044292\n",
       "4       BaseQual            0.108282          0.108282   0.036036\n",
       "5      RefAllele            0.090738          0.090738   0.030198\n",
       "\n",
       "---\n",
       "                     variable relative_importance scaled_importance percentage\n",
       "58          Trinucleotide.TTT            0.008139          0.008139   0.002709\n",
       "59          Trinucleotide.CCT            0.008038          0.008038   0.002675\n",
       "60 GenomicLocation.intergenic            0.007920          0.007920   0.002636\n",
       "61          Trinucleotide.GCA            0.007231          0.007231   0.002407\n",
       "62   GenomicLocation.intronic            0.005842          0.005842   0.001944\n",
       "63  Trinucleotide.missing(NA)            0.000000          0.000000   0.000000"
      ]
     },
     "execution_count": 141,
     "metadata": {},
     "output_type": "execute_result"
    }
   ],
   "source": [
    "#var_importance = h2o.varimp(model)\n",
    "#print(var_importance)\n",
    "h2o.varimp(model)"
   ]
  },
  {
   "cell_type": "code",
   "execution_count": 142,
   "metadata": {
    "collapsed": false
   },
   "outputs": [],
   "source": [
    "\n",
    "write.table(var_importance, file=\"CPCG0100_variable_importance.csv\")"
   ]
  },
  {
   "cell_type": "code",
   "execution_count": 119,
   "metadata": {
    "collapsed": false
   },
   "outputs": [
    {
     "name": "stdout",
     "output_type": "stream",
     "text": [
      "\r",
      "  |                                                                            \r",
      "  |                                                                      |   0%\r",
      "  |                                                                            \r",
      "  |======================================================================| 100%\n"
     ]
    }
   ],
   "source": [
    "#Predict on test data:\n",
    "#test_h2o <- h2o.importFile(path = '/home/rbhat/Workspace/S3Lab_Projects/SMC-MetaChallange/test.csv',\n",
    "#                           destination_frame = \"test_h2o\")\n",
    "\n",
    "yhat <- h2o.predict(model, train_h2o)\n",
    "LabelId <- as.numeric(seq(1,198526))\n",
    "names(LabelId)[1] <- \"LabelId\"\n",
    "predictions <- cbind(as.data.frame(LabelId),as.data.frame(yhat[,1]))\n",
    "names(predictions)[2] <- \"Label\"\n",
    "#write.table(as.matrix(predictions), file=\"DNN_pred.csv\", row.names=FALSE, sep=\",\")"
   ]
  },
  {
   "cell_type": "code",
   "execution_count": 120,
   "metadata": {
    "collapsed": false
   },
   "outputs": [
    {
     "name": "stdout",
     "output_type": "stream",
     "text": [
      "'data.frame':\t198526 obs. of  2 variables:\n",
      " $ LabelId: num  1 2 3 4 5 6 7 8 9 10 ...\n",
      " $ Label  : Factor w/ 2 levels \"0\",\"1\": 1 1 1 1 1 1 1 1 1 1 ...\n"
     ]
    }
   ],
   "source": [
    "str(predictions)"
   ]
  },
  {
   "cell_type": "code",
   "execution_count": 121,
   "metadata": {
    "collapsed": false
   },
   "outputs": [
    {
     "data": {
      "text/html": [
       "172969"
      ],
      "text/latex": [
       "172969"
      ],
      "text/markdown": [
       "172969"
      ],
      "text/plain": [
       "[1] 172969"
      ]
     },
     "execution_count": 121,
     "metadata": {},
     "output_type": "execute_result"
    }
   ],
   "source": [
    "sum(train$Label==predictions$Label)"
   ]
  },
  {
   "cell_type": "code",
   "execution_count": 122,
   "metadata": {
    "collapsed": false
   },
   "outputs": [
    {
     "data": {
      "text/html": [
       "0.871266232130804"
      ],
      "text/latex": [
       "0.871266232130804"
      ],
      "text/markdown": [
       "0.871266232130804"
      ],
      "text/plain": [
       "[1] 0.8712662"
      ]
     },
     "execution_count": 122,
     "metadata": {},
     "output_type": "execute_result"
    }
   ],
   "source": [
    "172969/198526."
   ]
  },
  {
   "cell_type": "code",
   "execution_count": 53,
   "metadata": {
    "collapsed": false
   },
   "outputs": [
    {
     "data": {
      "text/plain": [
       "  RefAllele Y\n",
       "1       115 0\n",
       "\n",
       "[1 row x 2 columns] "
      ]
     },
     "execution_count": 53,
     "metadata": {},
     "output_type": "execute_result"
    }
   ],
   "source": [
    "train_h2o[c(3),c(2,15)]"
   ]
  },
  {
   "cell_type": "code",
   "execution_count": 49,
   "metadata": {
    "collapsed": false
   },
   "outputs": [
    {
     "data": {
      "text/html": [
       "<table>\n",
       "<thead><tr><th></th><th scope=col>X</th><th scope=col>RefAllele</th><th scope=col>NonRefAllele</th><th scope=col>BaseQual</th><th scope=col>TumourCoverage</th><th scope=col>NormalCoverage</th><th scope=col>MapQual</th><th scope=col>ReadPosition</th><th scope=col>Trinucleotide</th><th scope=col>HomopolymerRate</th><th scope=col>GCcontent</th><th scope=col>GenomicLocation</th><th scope=col>DistanceSNP</th><th scope=col>StrandBias</th><th scope=col>Y</th></tr></thead>\n",
       "<tbody>\n",
       "\t<tr><th scope=row>1</th><td>0</td><td>183</td><td>3</td><td>4490</td><td>231</td><td>133</td><td>25</td><td>55</td><td>TTA</td><td>4.696078</td><td>0.5870647</td><td></td><td>41830</td><td>0.3679654</td><td>0</td></tr>\n",
       "\t<tr><th scope=row>2</th><td>1</td><td>177</td><td>10</td><td>4691</td><td>229</td><td>134</td><td>25</td><td>60</td><td>CTA</td><td>4.528846</td><td>0.5870647</td><td></td><td>41825</td><td>0.371179</td><td>0</td></tr>\n",
       "\t<tr><th scope=row>3</th><td>2</td><td>115</td><td>10</td><td>3512</td><td>137</td><td>74</td><td>0</td><td>52</td><td>TCA</td><td>2.707143</td><td>0.5323383</td><td></td><td>35658</td><td>0.3357664</td><td>0</td></tr>\n",
       "</tbody>\n",
       "</table>\n"
      ],
      "text/latex": [
       "\\begin{tabular}{r|lllllllllllllll}\n",
       "  & X & RefAllele & NonRefAllele & BaseQual & TumourCoverage & NormalCoverage & MapQual & ReadPosition & Trinucleotide & HomopolymerRate & GCcontent & GenomicLocation & DistanceSNP & StrandBias & Y\\\\\n",
       "\\hline\n",
       "\t1 & 0 & 183 & 3 & 4490 & 231 & 133 & 25 & 55 & TTA & 4.696078 & 0.5870647 &  & 41830 & 0.3679654 & 0\\\\\n",
       "\t2 & 1 & 177 & 10 & 4691 & 229 & 134 & 25 & 60 & CTA & 4.528846 & 0.5870647 &  & 41825 & 0.371179 & 0\\\\\n",
       "\t3 & 2 & 115 & 10 & 3512 & 137 & 74 & 0 & 52 & TCA & 2.707143 & 0.5323383 &  & 35658 & 0.3357664 & 0\\\\\n",
       "\\end{tabular}\n"
      ],
      "text/plain": [
       "  X RefAllele NonRefAllele BaseQual TumourCoverage NormalCoverage MapQual\n",
       "1 0       183            3     4490            231            133      25\n",
       "2 1       177           10     4691            229            134      25\n",
       "3 2       115           10     3512            137             74       0\n",
       "  ReadPosition Trinucleotide HomopolymerRate GCcontent GenomicLocation\n",
       "1           55           TTA        4.696078 0.5870647                \n",
       "2           60           CTA        4.528846 0.5870647                \n",
       "3           52           TCA        2.707143 0.5323383                \n",
       "  DistanceSNP StrandBias Y\n",
       "1       41830  0.3679654 0\n",
       "2       41825  0.3711790 0\n",
       "3       35658  0.3357664 0"
      ]
     },
     "execution_count": 49,
     "metadata": {},
     "output_type": "execute_result"
    }
   ],
   "source": [
    "subset(CPCG0100Frame, X < 3)"
   ]
  },
  {
   "cell_type": "code",
   "execution_count": 91,
   "metadata": {
    "collapsed": false
   },
   "outputs": [
    {
     "name": "stdout",
     "output_type": "stream",
     "text": [
      "'data.frame':\t19999 obs. of  16 variables:\n",
      " $ C1             : int  1 2 3 4 5 6 7 8 9 10 ...\n",
      " $ X              : int  0 1 2 3 4 5 6 7 8 9 ...\n",
      " $ RefAllele      : int  183 177 115 83 96 120 117 92 27 9 ...\n",
      " $ NonRefAllele   : int  3 10 10 26 20 11 14 8 3 3 ...\n",
      " $ BaseQual       : int  4490 4691 3512 3251 3255 3672 3865 2946 524 342 ...\n",
      " $ TumourCoverage : int  231 229 137 119 127 155 155 123 36 17 ...\n",
      " $ NormalCoverage : int  133 134 74 59 53 108 108 75 26 15 ...\n",
      " $ MapQual        : num  25 25 0 37 29 0 0 0 27 0 ...\n",
      " $ ReadPosition   : num  55 60 52 38 47 42 51 55 70.5 64 ...\n",
      " $ Trinucleotide  : Factor w/ 35 levels \"ACA\",\"ACC\",\"ACG\",..: 32 14 28 18 19 24 34 18 35 6 ...\n",
      " $ HomopolymerRate: num  4.7 4.53 2.71 2.75 2.72 ...\n",
      " $ GCcontent      : num  0.587 0.587 0.532 0.677 0.677 ...\n",
      " $ GenomicLocation: Factor w/ 15 levels \"downstream\",\"exonic\",..: NA NA NA 7 NA NA 7 NA NA 4 ...\n",
      " $ DistanceSNP    : int  41830 41825 35658 34719 34700 32011 31988 23727 23645 10933 ...\n",
      " $ StrandBias     : num  0.368 0.371 0.336 0.462 0.409 ...\n",
      " $ Y              : int  0 0 0 0 0 0 0 0 0 0 ...\n"
     ]
    }
   ],
   "source": [
    "str(subset(train,C1<20000))"
   ]
  },
  {
   "cell_type": "code",
   "execution_count": null,
   "metadata": {
    "collapsed": true
   },
   "outputs": [],
   "source": []
  },
  {
   "cell_type": "code",
   "execution_count": null,
   "metadata": {
    "collapsed": true
   },
   "outputs": [],
   "source": []
  },
  {
   "cell_type": "code",
   "execution_count": null,
   "metadata": {
    "collapsed": true
   },
   "outputs": [],
   "source": []
  },
  {
   "cell_type": "code",
   "execution_count": null,
   "metadata": {
    "collapsed": true
   },
   "outputs": [],
   "source": []
  },
  {
   "cell_type": "code",
   "execution_count": 32,
   "metadata": {
    "collapsed": true
   },
   "outputs": [],
   "source": [
    "n = c(2, 3, 5) \n",
    "s = c(\"aa\", \"bb\", \"cc\") \n",
    "b = c(TRUE, FALSE, TRUE) \n",
    "df = data.frame(n, s, b)       # df is a data frame"
   ]
  },
  {
   "cell_type": "code",
   "execution_count": 33,
   "metadata": {
    "collapsed": false
   },
   "outputs": [
    {
     "data": {
      "text/html": [
       "<table>\n",
       "<thead><tr><th></th><th scope=col>n</th><th scope=col>s</th><th scope=col>b</th></tr></thead>\n",
       "<tbody>\n",
       "\t<tr><th scope=row>1</th><td>2</td><td>aa</td><td>TRUE</td></tr>\n",
       "\t<tr><th scope=row>2</th><td>3</td><td>bb</td><td>FALSE</td></tr>\n",
       "\t<tr><th scope=row>3</th><td>5</td><td>cc</td><td>TRUE</td></tr>\n",
       "</tbody>\n",
       "</table>\n"
      ],
      "text/latex": [
       "\\begin{tabular}{r|lll}\n",
       "  & n & s & b\\\\\n",
       "\\hline\n",
       "\t1 & 2 & aa & TRUE\\\\\n",
       "\t2 & 3 & bb & FALSE\\\\\n",
       "\t3 & 5 & cc & TRUE\\\\\n",
       "\\end{tabular}\n"
      ],
      "text/plain": [
       "  n  s     b\n",
       "1 2 aa  TRUE\n",
       "2 3 bb FALSE\n",
       "3 5 cc  TRUE"
      ]
     },
     "execution_count": 33,
     "metadata": {},
     "output_type": "execute_result"
    }
   ],
   "source": [
    "df"
   ]
  },
  {
   "cell_type": "code",
   "execution_count": 41,
   "metadata": {
    "collapsed": false
   },
   "outputs": [
    {
     "data": {
      "text/html": [
       "<table>\n",
       "<thead><tr><th></th><th scope=col>s</th><th scope=col>b</th></tr></thead>\n",
       "<tbody>\n",
       "\t<tr><th scope=row>2</th><td>bb</td><td>FALSE</td></tr>\n",
       "</tbody>\n",
       "</table>\n"
      ],
      "text/latex": [
       "\\begin{tabular}{r|ll}\n",
       "  & s & b\\\\\n",
       "\\hline\n",
       "\t2 & bb & FALSE\\\\\n",
       "\\end{tabular}\n"
      ],
      "text/plain": [
       "   s     b\n",
       "2 bb FALSE"
      ]
     },
     "execution_count": 41,
     "metadata": {},
     "output_type": "execute_result"
    }
   ],
   "source": [
    "df[2,c(2,3)]"
   ]
  },
  {
   "cell_type": "code",
   "execution_count": 47,
   "metadata": {
    "collapsed": false
   },
   "outputs": [
    {
     "data": {
      "text/html": [
       "<table>\n",
       "<thead><tr><th></th><th scope=col>n</th><th scope=col>s</th><th scope=col>b</th></tr></thead>\n",
       "<tbody>\n",
       "\t<tr><th scope=row>1</th><td>2</td><td>aa</td><td>TRUE</td></tr>\n",
       "\t<tr><th scope=row>3</th><td>5</td><td>cc</td><td>TRUE</td></tr>\n",
       "</tbody>\n",
       "</table>\n"
      ],
      "text/latex": [
       "\\begin{tabular}{r|lll}\n",
       "  & n & s & b\\\\\n",
       "\\hline\n",
       "\t1 & 2 & aa & TRUE\\\\\n",
       "\t3 & 5 & cc & TRUE\\\\\n",
       "\\end{tabular}\n"
      ],
      "text/plain": [
       "  n  s    b\n",
       "1 2 aa TRUE\n",
       "3 5 cc TRUE"
      ]
     },
     "execution_count": 47,
     "metadata": {},
     "output_type": "execute_result"
    }
   ],
   "source": [
    "df[c(1,3),]"
   ]
  },
  {
   "cell_type": "code",
   "execution_count": null,
   "metadata": {
    "collapsed": true
   },
   "outputs": [],
   "source": []
  },
  {
   "cell_type": "code",
   "execution_count": null,
   "metadata": {
    "collapsed": true
   },
   "outputs": [],
   "source": []
  },
  {
   "cell_type": "code",
   "execution_count": 60,
   "metadata": {
    "collapsed": false
   },
   "outputs": [
    {
     "name": "stdout",
     "output_type": "stream",
     "text": [
      " Connection successful!\n",
      "\n",
      "R is connected to the H2O cluster: \n",
      "    H2O cluster uptime:         1 minutes 46 seconds \n",
      "    H2O cluster version:        3.9.1.3435 \n",
      "    H2O cluster name:           H2O_started_from_R_rbhat_css426 \n",
      "    H2O cluster total nodes:    1 \n",
      "    H2O cluster total memory:   26.60 GB \n",
      "    H2O cluster total cores:    56 \n",
      "    H2O cluster allowed cores:  2 \n",
      "    H2O cluster healthy:        TRUE \n",
      "    H2O Connection ip:          localhost \n",
      "    H2O Connection port:        54321 \n",
      "    H2O Connection proxy:       NA \n",
      "    R Version:                  R version 3.3.0 beta (2016-03-30 r70404) \n",
      "\n",
      "  |======================================================================| 100%\n",
      "  |======================================================================| 100%\n"
     ]
    }
   ],
   "source": [
    "library(h2o)\n",
    "localH2O = h2o.init(ip = \"localhost\", port = 54321, startH2O = TRUE,min_mem_size = \"3g\")\n",
    "## Import MNIST CSV as H2O:\n",
    "mnistPath = '/home/rbhat/Workspace/S3Lab_Projects/SMC-MetaChallange/train.csv'\n",
    "mnist.hex = h2o.importFile(path = mnistPath, destination_frame = \"mnist.hex\")\n",
    "train <- as.data.frame(mnist.hex)\n",
    "train$label <- as.factor(train$label)\n",
    "train_h2o <- as.h2o(train)"
   ]
  },
  {
   "cell_type": "code",
   "execution_count": 63,
   "metadata": {
    "collapsed": false
   },
   "outputs": [
    {
     "data": {
      "text/html": [
       "<table>\n",
       "<thead><tr><th></th><th scope=col>label</th><th scope=col>pixel0</th><th scope=col>pixel1</th><th scope=col>pixel2</th><th scope=col>pixel3</th><th scope=col>pixel4</th><th scope=col>pixel5</th><th scope=col>pixel6</th><th scope=col>pixel7</th><th scope=col>pixel8</th><th scope=col>ellip.h</th><th scope=col>pixel774</th><th scope=col>pixel775</th><th scope=col>pixel776</th><th scope=col>pixel777</th><th scope=col>pixel778</th><th scope=col>pixel779</th><th scope=col>pixel780</th><th scope=col>pixel781</th><th scope=col>pixel782</th><th scope=col>pixel783</th></tr></thead>\n",
       "<tbody>\n",
       "\t<tr><th scope=row>1</th><td>1</td><td>0</td><td>0</td><td>0</td><td>0</td><td>0</td><td>0</td><td>0</td><td>0</td><td>0</td><td>⋯</td><td>0</td><td>0</td><td>0</td><td>0</td><td>0</td><td>0</td><td>0</td><td>0</td><td>0</td><td>0</td></tr>\n",
       "\t<tr><th scope=row>2</th><td>0</td><td>0</td><td>0</td><td>0</td><td>0</td><td>0</td><td>0</td><td>0</td><td>0</td><td>0</td><td>⋯</td><td>0</td><td>0</td><td>0</td><td>0</td><td>0</td><td>0</td><td>0</td><td>0</td><td>0</td><td>0</td></tr>\n",
       "\t<tr><th scope=row>3</th><td>1</td><td>0</td><td>0</td><td>0</td><td>0</td><td>0</td><td>0</td><td>0</td><td>0</td><td>0</td><td>⋯</td><td>0</td><td>0</td><td>0</td><td>0</td><td>0</td><td>0</td><td>0</td><td>0</td><td>0</td><td>0</td></tr>\n",
       "\t<tr><th scope=row>4</th><td>4</td><td>0</td><td>0</td><td>0</td><td>0</td><td>0</td><td>0</td><td>0</td><td>0</td><td>0</td><td>⋯</td><td>0</td><td>0</td><td>0</td><td>0</td><td>0</td><td>0</td><td>0</td><td>0</td><td>0</td><td>0</td></tr>\n",
       "</tbody>\n",
       "</table>\n"
      ],
      "text/latex": [
       "\\begin{tabular}{r|lllllllllllllllllllllllllllllllllllllllllllllllllllllllllllllllllllllllllllllllllllllllllllllllllllllllllllllllllllllllllllllllllllllllllllllllllllllllllllllllllllllllllllllllllllllllllllllllllllllllllllllllllllllllllllllllllllllllllllllllllllllllllllllllllllllllllllllllllllllllllllllllllllllllllllllllllllllllllllllllllllllllllllllllllllllllllllllllllllllllllllllllllllllllllllllllllllllllllllllllllllllllllllllllllllllllllllllllllllllllllllllllllllllllllllllllllllllllllllllllllllllllllllllllllllllllllllllllllllllllllllllllllllllllllllllllllllllllllllllllllllllllllllllllllllllllllllllllllllllllllllllllllllllllllllllllllllllllllllllllllllllllllllllllllllllllllllllllllllllllllllllllllllllllllllllllllllllllllllllllllllllllllllllllllllllllllllllllllllllllllllllllllllllllllllllllll}\n",
       "  & label & pixel0 & pixel1 & pixel2 & pixel3 & pixel4 & pixel5 & pixel6 & pixel7 & pixel8 & ellip.h & pixel774 & pixel775 & pixel776 & pixel777 & pixel778 & pixel779 & pixel780 & pixel781 & pixel782 & pixel783\\\\\n",
       "\\hline\n",
       "\t1 & 1 & 0 & 0 & 0 & 0 & 0 & 0 & 0 & 0 & 0 & ⋯ & 0 & 0 & 0 & 0 & 0 & 0 & 0 & 0 & 0 & 0\\\\\n",
       "\t2 & 0 & 0 & 0 & 0 & 0 & 0 & 0 & 0 & 0 & 0 & ⋯ & 0 & 0 & 0 & 0 & 0 & 0 & 0 & 0 & 0 & 0\\\\\n",
       "\t3 & 1 & 0 & 0 & 0 & 0 & 0 & 0 & 0 & 0 & 0 & ⋯ & 0 & 0 & 0 & 0 & 0 & 0 & 0 & 0 & 0 & 0\\\\\n",
       "\t4 & 4 & 0 & 0 & 0 & 0 & 0 & 0 & 0 & 0 & 0 & ⋯ & 0 & 0 & 0 & 0 & 0 & 0 & 0 & 0 & 0 & 0\\\\\n",
       "\\end{tabular}\n"
      ],
      "text/plain": [
       "  label pixel0 pixel1 pixel2 pixel3 pixel4 pixel5 pixel6 pixel7 pixel8 pixel9\n",
       "1     1      0      0      0      0      0      0      0      0      0      0\n",
       "2     0      0      0      0      0      0      0      0      0      0      0\n",
       "3     1      0      0      0      0      0      0      0      0      0      0\n",
       "4     4      0      0      0      0      0      0      0      0      0      0\n",
       "  pixel10 pixel11 pixel12 pixel13 pixel14 pixel15 pixel16 pixel17 pixel18\n",
       "1       0       0       0       0       0       0       0       0       0\n",
       "2       0       0       0       0       0       0       0       0       0\n",
       "3       0       0       0       0       0       0       0       0       0\n",
       "4       0       0       0       0       0       0       0       0       0\n",
       "  pixel19 pixel20 pixel21 pixel22 pixel23 pixel24 pixel25 pixel26 pixel27\n",
       "1       0       0       0       0       0       0       0       0       0\n",
       "2       0       0       0       0       0       0       0       0       0\n",
       "3       0       0       0       0       0       0       0       0       0\n",
       "4       0       0       0       0       0       0       0       0       0\n",
       "  pixel28 pixel29 pixel30 pixel31 pixel32 pixel33 pixel34 pixel35 pixel36\n",
       "1       0       0       0       0       0       0       0       0       0\n",
       "2       0       0       0       0       0       0       0       0       0\n",
       "3       0       0       0       0       0       0       0       0       0\n",
       "4       0       0       0       0       0       0       0       0       0\n",
       "  pixel37 pixel38 pixel39 pixel40 pixel41 pixel42 pixel43 pixel44 pixel45\n",
       "1       0       0       0       0       0       0       0       0       0\n",
       "2       0       0       0       0       0       0       0       0       0\n",
       "3       0       0       0       0       0       0       0       0       0\n",
       "4       0       0       0       0       0       0       0       0       0\n",
       "  pixel46 pixel47 pixel48 pixel49 pixel50 pixel51 pixel52 pixel53 pixel54\n",
       "1       0       0       0       0       0       0       0       0       0\n",
       "2       0       0       0       0       0       0       0       0       0\n",
       "3       0       0       0       0       0       0       0       0       0\n",
       "4       0       0       0       0       0       0       0       0       0\n",
       "  pixel55 pixel56 pixel57 pixel58 pixel59 pixel60 pixel61 pixel62 pixel63\n",
       "1       0       0       0       0       0       0       0       0       0\n",
       "2       0       0       0       0       0       0       0       0       0\n",
       "3       0       0       0       0       0       0       0       0       0\n",
       "4       0       0       0       0       0       0       0       0       0\n",
       "  pixel64 pixel65 pixel66 pixel67 pixel68 pixel69 pixel70 pixel71 pixel72\n",
       "1       0       0       0       0       0       0       0       0       0\n",
       "2       0       0       0       0       0       0       0       0       0\n",
       "3       0       0       0       0       0       0       0       0       0\n",
       "4       0       0       0       0       0       0       0       0       0\n",
       "  pixel73 pixel74 pixel75 pixel76 pixel77 pixel78 pixel79 pixel80 pixel81\n",
       "1       0       0       0       0       0       0       0       0       0\n",
       "2       0       0       0       0       0       0       0       0       0\n",
       "3       0       0       0       0       0       0       0       0       0\n",
       "4       0       0       0       0       0       0       0       0       0\n",
       "  pixel82 pixel83 pixel84 pixel85 pixel86 pixel87 pixel88 pixel89 pixel90\n",
       "1       0       0       0       0       0       0       0       0       0\n",
       "2       0       0       0       0       0       0       0       0       0\n",
       "3       0       0       0       0       0       0       0       0       0\n",
       "4       0       0       0       0       0       0       0       0       0\n",
       "  pixel91 pixel92 pixel93 pixel94 pixel95 pixel96 pixel97 pixel98 pixel99\n",
       "1       0       0       0       0       0       0       0       0       0\n",
       "2       0       0       0       0       0       0       0       0       0\n",
       "3       0       0       0       0       0       0       0       0       0\n",
       "4       0       0       0       0       0       0       0       0       0\n",
       "  pixel100 pixel101 pixel102 pixel103 pixel104 pixel105 pixel106 pixel107\n",
       "1        0        0        0        0        0        0        0        0\n",
       "2        0        0        0        0        0        0        0        0\n",
       "3        0        0        0        0        0        0        0        0\n",
       "4        0        0        0        0        0        0        0        0\n",
       "  pixel108 pixel109 pixel110 pixel111 pixel112 pixel113 pixel114 pixel115\n",
       "1        0        0        0        0        0        0        0        0\n",
       "2        0        0        0        0        0        0        0        0\n",
       "3        0        0        0        0        0        0        0        0\n",
       "4        0        0        0        0        0        0        0        0\n",
       "  pixel116 pixel117 pixel118 pixel119 pixel120 pixel121 pixel122 pixel123\n",
       "1        0        0        0        0        0        0        0        0\n",
       "2        0        0        0        0        0        0       18       30\n",
       "3        0        0        0        0        0        0        0        0\n",
       "4        0        0        0        0        0        0        0        0\n",
       "  pixel124 pixel125 pixel126 pixel127 pixel128 pixel129 pixel130 pixel131\n",
       "1        0        0        0        0        0        0        0        0\n",
       "2      137      137      192       86       72        1        0        0\n",
       "3        3      141      139        3        0        0        0        0\n",
       "4        0        0        0        0        0        0        0        0\n",
       "  pixel132 pixel133 pixel134 pixel135 pixel136 pixel137 pixel138 pixel139\n",
       "1      188      255       94        0        0        0        0        0\n",
       "2        0        0        0        0        0        0        0        0\n",
       "3        0        0        0        0        0        0        0        0\n",
       "4        0        0        0        0        0        0        0        0\n",
       "  pixel140 pixel141 pixel142 pixel143 pixel144 pixel145 pixel146 pixel147\n",
       "1        0        0        0        0        0        0        0        0\n",
       "2        0        0        0        0        0        0        0        0\n",
       "3        0        0        0        0        0        0        0        0\n",
       "4        0        0        0        0        0        0      220      179\n",
       "  pixel148 pixel149 pixel150 pixel151 pixel152 pixel153 pixel154 pixel155\n",
       "1        0        0        0        0        0        0        0        0\n",
       "2       13       86      250      254      254      254      254      217\n",
       "3        0        0        0        0        9      254      254        8\n",
       "4        6        0        0        0        0        0        0        0\n",
       "  pixel156 pixel157 pixel158 pixel159 pixel160 pixel161 pixel162 pixel163\n",
       "1        0        0        0      191      250      253       93        0\n",
       "2      246      151       32        0        0        0        0        0\n",
       "3        0        0        0        0        0        0        0        0\n",
       "4        0        9       77        0        0        0        0        0\n",
       "  pixel164 pixel165 pixel166 pixel167 pixel168 pixel169 pixel170 pixel171\n",
       "1        0        0        0        0        0        0        0        0\n",
       "2        0        0        0        0        0        0        0        0\n",
       "3        0        0        0        0        0        0        0        0\n",
       "4        0        0        0        0        0        0        0        0\n",
       "  pixel172 pixel173 pixel174 pixel175 pixel176 pixel177 pixel178 pixel179\n",
       "1        0        0        0        0        0        0        0        0\n",
       "2        0        0        0       16      179      254      254      254\n",
       "3        0        0        0        0        0        0        0        0\n",
       "4        0        0       28      247       17        0        0        0\n",
       "  pixel180 pixel181 pixel182 pixel183 pixel184 pixel185 pixel186 pixel187\n",
       "1        0        0        0        0        0        0      123      248\n",
       "2      254      254      254      254      254      254      231       54\n",
       "3        9      254      254        8        0        0        0        0\n",
       "4        0        0        0        0        0       27      202        0\n",
       "  pixel188 pixel189 pixel190 pixel191 pixel192 pixel193 pixel194 pixel195\n",
       "1      253      167       10        0        0        0        0        0\n",
       "2       15        0        0        0        0        0        0        0\n",
       "3        0        0        0        0        0        0        0        0\n",
       "4        0        0        0        0        0        0        0        0\n",
       "  pixel196 pixel197 pixel198 pixel199 pixel200 pixel201 pixel202 pixel203\n",
       "1        0        0        0        0        0        0        0        0\n",
       "2        0        0        0        0        0        0        0       72\n",
       "3        0        0        0        0        0        0        0        0\n",
       "4        0        0        0        0        0        0        0      242\n",
       "  pixel204 pixel205 pixel206 pixel207 pixel208 pixel209 pixel210 pixel211\n",
       "1        0        0        0        0        0        0        0        0\n",
       "2      254      254      254      254      254      254      254      254\n",
       "3        0        0        0        0        9      254      254      106\n",
       "4      155        0        0        0        0        0        0        0\n",
       "  pixel212 pixel213 pixel214 pixel215 pixel216 pixel217 pixel218 pixel219\n",
       "1        0       80      247      253      208       13        0        0\n",
       "2      254      254      254      254      104        0        0        0\n",
       "3        0        0        0        0        0        0        0        0\n",
       "4        0       27      254       63        0        0        0        0\n",
       "  pixel220 pixel221 pixel222 pixel223 pixel224 pixel225 pixel226 pixel227\n",
       "1        0        0        0        0        0        0        0        0\n",
       "2        0        0        0        0        0        0        0        0\n",
       "3        0        0        0        0        0        0        0        0\n",
       "4        0        0        0        0        0        0        0        0\n",
       "  pixel228 pixel229 pixel230 pixel231 pixel232 pixel233 pixel234 pixel235\n",
       "1        0        0        0        0        0        0        0        0\n",
       "2        0        0       61      191      254      254      254      254\n",
       "3        0        0        0        0        0        0        0        0\n",
       "4        0        0        0      160      207        6        0        0\n",
       "  pixel236 pixel237 pixel238 pixel239 pixel240 pixel241 pixel242 pixel243\n",
       "1        0        0        0        0       29      207      253      235\n",
       "2      254      109       83      199      254      254      254      254\n",
       "3        9      254      254      184        0        0        0        0\n",
       "4        0        0        0        0        0       27      254       65\n",
       "  pixel244 pixel245 pixel246 pixel247 pixel248 pixel249 pixel250 pixel251\n",
       "1       77        0        0        0        0        0        0        0\n",
       "2      243       85        0        0        0        0        0        0\n",
       "3        0        0        0        0        0        0        0        0\n",
       "4        0        0        0        0        0        0        0        0\n",
       "  pixel252 pixel253 pixel254 pixel255 pixel256 pixel257 pixel258 pixel259\n",
       "1        0        0        0        0        0        0        0        0\n",
       "2        0        0        0        0        0        0      172      254\n",
       "3        0        0        0        0        0        0        0        0\n",
       "4        0        0        0        0        0        0        0      127\n",
       "  pixel260 pixel261 pixel262 pixel263 pixel264 pixel265 pixel266 pixel267\n",
       "1        0        0        0        0        0        0        0       54\n",
       "2      254      254      202      147      147       45        0       11\n",
       "3        0        0        0        0        9      254      254      184\n",
       "4      254       21        0        0        0        0        0        0\n",
       "  pixel268 pixel269 pixel270 pixel271 pixel272 pixel273 pixel274 pixel275\n",
       "1      209      253      253       88        0        0        0        0\n",
       "2       29      200      254      254      254      171        0        0\n",
       "3        0        0        0        0        0        0        0        0\n",
       "4        0       20      239       65        0        0        0        0\n",
       "  pixel276 pixel277 pixel278 pixel279 pixel280 pixel281 pixel282 pixel283\n",
       "1        0        0        0        0        0        0        0        0\n",
       "2        0        0        0        0        0        0        0        0\n",
       "3        0        0        0        0        0        0        0        0\n",
       "4        0        0        0        0        0        0        0        0\n",
       "  pixel284 pixel285 pixel286 pixel287 pixel288 pixel289 pixel290 pixel291\n",
       "1        0        0        0        0        0        0        0        0\n",
       "2        0        1      174      254      254       89       67        0\n",
       "3        0        0        0        0        0        0        0        0\n",
       "4        0        0        0       77      254       21        0        0\n",
       "  pixel292 pixel293 pixel294 pixel295 pixel296 pixel297 pixel298 pixel299\n",
       "1        0        0       93      254      253      238      170       17\n",
       "2        0        0        0        0        0      128      252      254\n",
       "3        9      254      254      184        0        0        0        0\n",
       "4        0        0        0        0        0        0      195       65\n",
       "  pixel300 pixel301 pixel302 pixel303 pixel304 pixel305 pixel306 pixel307\n",
       "1        0        0        0        0        0        0        0        0\n",
       "2      254      212       76        0        0        0        0        0\n",
       "3        0        0        0        0        0        0        0        0\n",
       "4        0        0        0        0        0        0        0        0\n",
       "  pixel308 pixel309 pixel310 pixel311 pixel312 pixel313 pixel314 pixel315\n",
       "1        0        0        0        0        0        0        0        0\n",
       "2        0        0        0        0        0       47      254      254\n",
       "3        0        0        0        0        0        0        0        0\n",
       "4        0        0        0        0        0        0        0       70\n",
       "  pixel316 pixel317 pixel318 pixel319 pixel320 pixel321 pixel322 pixel323\n",
       "1        0        0        0        0        0       23      210      254\n",
       "2      254       29        0        0        0        0        0        0\n",
       "3        0        0        0        0        6      185      254      184\n",
       "4      254       21        0        0        0        0        0        0\n",
       "  pixel324 pixel325 pixel326 pixel327 pixel328 pixel329 pixel330 pixel331\n",
       "1      253      159        0        0        0        0        0        0\n",
       "2        0        0       83      254      254      254      153        0\n",
       "3        0        0        0        0        0        0        0        0\n",
       "4        0        0      195      142        0        0        0        0\n",
       "  pixel332 pixel333 pixel334 pixel335 pixel336 pixel337 pixel338 pixel339\n",
       "1        0        0        0        0        0        0        0        0\n",
       "2        0        0        0        0        0        0        0        0\n",
       "3        0        0        0        0        0        0        0        0\n",
       "4        0        0        0        0        0        0        0        0\n",
       "  pixel340 pixel341 pixel342 pixel343 pixel344 pixel345 pixel346 pixel347\n",
       "1        0        0        0        0        0        0        0        0\n",
       "2        0       80      254      254      240       24        0        0\n",
       "3        0        0        0        0        0        0        0        0\n",
       "4        0        0        0       56      251       21        0        0\n",
       "  pixel348 pixel349 pixel350 pixel351 pixel352 pixel353 pixel354 pixel355\n",
       "1       16      209      253      254      240       81        0        0\n",
       "2        0        0        0        0        0        0       25      240\n",
       "3        0       89      254      184        0        0        0        0\n",
       "4        0        0        0        0        0        0      195      227\n",
       "  pixel356 pixel357 pixel358 pixel359 pixel360 pixel361 pixel362 pixel363\n",
       "1        0        0        0        0        0        0        0        0\n",
       "2      254      254      153        0        0        0        0        0\n",
       "3        0        0        0        0        0        0        0        0\n",
       "4        0        0        0        0        0        0        0        0\n",
       "  pixel364 pixel365 pixel366 pixel367 pixel368 pixel369 pixel370 pixel371\n",
       "1        0        0        0        0        0        0        0        0\n",
       "2        0        0        0        0        0       64      254      254\n",
       "3        0        0        0        0        0        0        0        0\n",
       "4        0        0        0        0        0        0        0        0\n",
       "  pixel372 pixel373 pixel374 pixel375 pixel376 pixel377 pixel378 pixel379\n",
       "1        0        0        0        0       27      253      253      254\n",
       "2      186        7        0        0        0        0        0        0\n",
       "3        0        0        0        0        4      146      254      184\n",
       "4      222      153        5        0        0        0        0        0\n",
       "  pixel380 pixel381 pixel382 pixel383 pixel384 pixel385 pixel386 pixel387\n",
       "1       13        0        0        0        0        0        0        0\n",
       "2        0        0        0      166      254      254      224       12\n",
       "3        0        0        0        0        0        0        0        0\n",
       "4        0        0      120      240       13        0        0        0\n",
       "  pixel388 pixel389 pixel390 pixel391 pixel392 pixel393 pixel394 pixel395\n",
       "1        0        0        0        0        0        0        0        0\n",
       "2        0        0        0        0        0        0        0        0\n",
       "3        0        0        0        0        0        0        0        0\n",
       "4        0        0        0        0        0        0        0        0\n",
       "  pixel396 pixel397 pixel398 pixel399 pixel400 pixel401 pixel402 pixel403\n",
       "1        0        0        0        0        0        0        0       20\n",
       "2       14      232      254      254      254       29        0        0\n",
       "3        0        0        0        0        0        0        0        0\n",
       "4        0        0        0        0       67      251       40        0\n",
       "  pixel404 pixel405 pixel406 pixel407 pixel408 pixel409 pixel410 pixel411\n",
       "1      206      254      254      198        7        0        0        0\n",
       "2        0        0        0        0        0        0        0       75\n",
       "3        9      254      254      184        0        0        0        0\n",
       "4        0        0        0        0        0        0       94      255\n",
       "  pixel412 pixel413 pixel414 pixel415 pixel416 pixel417 pixel418 pixel419\n",
       "1        0        0        0        0        0        0        0        0\n",
       "2      254      254      254       17        0        0        0        0\n",
       "3        0        0        0        0        0        0        0        0\n",
       "4       69        0        0        0        0        0        0        0\n",
       "  pixel420 pixel421 pixel422 pixel423 pixel424 pixel425 pixel426 pixel427\n",
       "1        0        0        0        0        0        0        0        0\n",
       "2        0        0        0        0       18      254      254      254\n",
       "3        0        0        0        0        0        0        0        0\n",
       "4        0        0        0        0        0        0        0        0\n",
       "  pixel428 pixel429 pixel430 pixel431 pixel432 pixel433 pixel434 pixel435\n",
       "1        0        0        0      168      253      253      196        7\n",
       "2      254       29        0        0        0        0        0        0\n",
       "3        0        0        0        0        9      254      254      184\n",
       "4        0      234      184        0        0        0        0        0\n",
       "  pixel436 pixel437 pixel438 pixel439 pixel440 pixel441 pixel442 pixel443\n",
       "1        0        0        0        0        0        0        0        0\n",
       "2        0        0        0       48      254      254      254       17\n",
       "3        0        0        0        0        0        0        0        0\n",
       "4        0        0       19      245       69        0        0        0\n",
       "  pixel444 pixel445 pixel446 pixel447 pixel448 pixel449 pixel450 pixel451\n",
       "1        0        0        0        0        0        0        0        0\n",
       "2        0        0        0        0        0        0        0        0\n",
       "3        0        0        0        0        0        0        0        0\n",
       "4        0        0        0        0        0        0        0        0\n",
       "  pixel452 pixel453 pixel454 pixel455 pixel456 pixel457 pixel458 pixel459\n",
       "1        0        0        0        0        0        0       20      203\n",
       "2        2      163      254      254      254       29        0        0\n",
       "3        0        0        0        0        0        0        0        0\n",
       "4        0        0        0        0        0      234      169        0\n",
       "  pixel460 pixel461 pixel462 pixel463 pixel464 pixel465 pixel466 pixel467\n",
       "1      253      248       76        0        0        0        0        0\n",
       "2        0        0        0        0        0        0        0       48\n",
       "3        9      254      254      184        0        0        0        0\n",
       "4        0        0        0        0        0        0        3      199\n",
       "  pixel468 pixel469 pixel470 pixel471 pixel472 pixel473 pixel474 pixel475\n",
       "1        0        0        0        0        0        0        0        0\n",
       "2      254      254      254       17        0        0        0        0\n",
       "3        0        0        0        0        0        0        0        0\n",
       "4      182       10        0        0        0        0        0        0\n",
       "  pixel476 pixel477 pixel478 pixel479 pixel480 pixel481 pixel482 pixel483\n",
       "1        0        0        0        0        0        0        0        0\n",
       "2        0        0        0        0        0       94      254      254\n",
       "3        0        0        0        0        0        0        0        0\n",
       "4        0        0        0        0        0        0        0        0\n",
       "  pixel484 pixel485 pixel486 pixel487 pixel488 pixel489 pixel490 pixel491\n",
       "1        0       22      188      253      245       93        0        0\n",
       "2      254      200       12        0        0        0        0        0\n",
       "3        0        0        0        0        9      254      254      184\n",
       "4        0      154      205        4        0        0       26       72\n",
       "  pixel492 pixel493 pixel494 pixel495 pixel496 pixel497 pixel498 pixel499\n",
       "1        0        0        0        0        0        0        0        0\n",
       "2        0        0       16      209      254      254      150        1\n",
       "3        0        0        0        0        0        0        0        0\n",
       "4      128      203      208      254      254      131        0        0\n",
       "  pixel500 pixel501 pixel502 pixel503 pixel504 pixel505 pixel506 pixel507\n",
       "1        0        0        0        0        0        0        0        0\n",
       "2        0        0        0        0        0        0        0        0\n",
       "3        0        0        0        0        0        0        0        0\n",
       "4        0        0        0        0        0        0        0        0\n",
       "  pixel508 pixel509 pixel510 pixel511 pixel512 pixel513 pixel514 pixel515\n",
       "1        0        0        0        0        0      103      253      253\n",
       "2        0       15      206      254      254      254      202       66\n",
       "3        0        0        0        0        0        0        0        0\n",
       "4        0        0        0        0        0       61      254      129\n",
       "  pixel516 pixel517 pixel518 pixel519 pixel520 pixel521 pixel522 pixel523\n",
       "1      191        0        0        0        0        0        0        0\n",
       "2        0        0        0        0        0       21      161      254\n",
       "3        9      254      254      184        0        0        0        0\n",
       "4      113      186      245      251      189       75       56      136\n",
       "  pixel524 pixel525 pixel526 pixel527 pixel528 pixel529 pixel530 pixel531\n",
       "1        0        0        0        0        0        0        0        0\n",
       "2      254      245       31        0        0        0        0        0\n",
       "3        0        0        0        0        0        0        0        0\n",
       "4      254       73        0        0        0        0        0        0\n",
       "  pixel532 pixel533 pixel534 pixel535 pixel536 pixel537 pixel538 pixel539\n",
       "1        0        0        0        0        0        0        0        0\n",
       "2        0        0        0        0        0        0       60      212\n",
       "3        0        0        0        0        0        0        0        0\n",
       "4        0        0        0        0        0        0        0        0\n",
       "  pixel540 pixel541 pixel542 pixel543 pixel544 pixel545 pixel546 pixel547\n",
       "1       89      240      253      195       25        0        0        0\n",
       "2      254      254      254      194       48       48       34       41\n",
       "3        0        0        0        0      156      254      254      184\n",
       "4        0       15      216      233      233      159      104       52\n",
       "  pixel548 pixel549 pixel550 pixel551 pixel552 pixel553 pixel554 pixel555\n",
       "1        0        0        0        0        0        0        0        0\n",
       "2       48      209      254      254      254      171        0        0\n",
       "3        0        0        0        0        0        0        0        0\n",
       "4        0        0        0       38      254       73        0        0\n",
       "  pixel556 pixel557 pixel558 pixel559 pixel560 pixel561 pixel562 pixel563\n",
       "1        0        0        0        0        0        0        0        0\n",
       "2        0        0        0        0        0        0        0        0\n",
       "3        0        0        0        0        0        0        0        0\n",
       "4        0        0        0        0        0        0        0        0\n",
       "  pixel564 pixel565 pixel566 pixel567 pixel568 pixel569 pixel570 pixel571\n",
       "1        0        0        0       15      220      253      253       80\n",
       "2        0        0        0       86      243      254      254      254\n",
       "3        0        0        0        0        0        0        0        0\n",
       "4        0        0        0        0        0        0        0        0\n",
       "  pixel572 pixel573 pixel574 pixel575 pixel576 pixel577 pixel578 pixel579\n",
       "1        0        0        0        0        0        0        0        0\n",
       "2      254      254      233      243      254      254      254      254\n",
       "3      185      255      255      184        0        0        0        0\n",
       "4        0        0        0        0        0        0        0       18\n",
       "  pixel580 pixel581 pixel582 pixel583 pixel584 pixel585 pixel586 pixel587\n",
       "1        0        0        0        0        0        0        0        0\n",
       "2      254       86        0        0        0        0        0        0\n",
       "3        0        0        0        0        0        0        0        0\n",
       "4      254       73        0        0        0        0        0        0\n",
       "  pixel588 pixel589 pixel590 pixel591 pixel592 pixel593 pixel594 pixel595\n",
       "1        0        0        0        0        0        0        0       94\n",
       "2        0        0        0        0        0        0        0        0\n",
       "3        0        0        0        0        0        0        0        0\n",
       "4        0        0        0        0        0        0        0        0\n",
       "  pixel596 pixel597 pixel598 pixel599 pixel600 pixel601 pixel602 pixel603\n",
       "1      253      253      253       94        0        0        0        0\n",
       "2      114      254      254      254      254      254      254      254\n",
       "3        0        0        0        0      185      254      254      184\n",
       "4        0        0        0        0        0        0        0        0\n",
       "  pixel604 pixel605 pixel606 pixel607 pixel608 pixel609 pixel610 pixel611\n",
       "1        0        0        0        0        0        0        0        0\n",
       "2      254      254      254      239       86       11        0        0\n",
       "3        0        0        0        0        0        0        0        0\n",
       "4        0        0        0       18      254       73        0        0\n",
       "  pixel612 pixel613 pixel614 pixel615 pixel616 pixel617 pixel618 pixel619\n",
       "1        0        0        0        0        0        0        0        0\n",
       "2        0        0        0        0        0        0        0        0\n",
       "3        0        0        0        0        0        0        0        0\n",
       "4        0        0        0        0        0        0        0        0\n",
       "  pixel620 pixel621 pixel622 pixel623 pixel624 pixel625 pixel626 pixel627\n",
       "1        0        0        0       89      251      253      250      131\n",
       "2        0        0        0        0       13      182      254      254\n",
       "3        0        0        0        0        0        0        0        0\n",
       "4        0        0        0        0        0        0        0        0\n",
       "  pixel628 pixel629 pixel630 pixel631 pixel632 pixel633 pixel634 pixel635\n",
       "1        0        0        0        0        0        0        0        0\n",
       "2      254      254      254      254      254      254      243       70\n",
       "3      185      254      254      184        0        0        0        0\n",
       "4        0        0        0        0        0        0        0        5\n",
       "  pixel636 pixel637 pixel638 pixel639 pixel640 pixel641 pixel642 pixel643\n",
       "1        0        0        0        0        0        0        0        0\n",
       "2        0        0        0        0        0        0        0        0\n",
       "3        0        0        0        0        0        0        0        0\n",
       "4      206      106        0        0        0        0        0        0\n",
       "  pixel644 pixel645 pixel646 pixel647 pixel648 pixel649 pixel650 pixel651\n",
       "1        0        0        0        0        0        0        0        0\n",
       "2        0        0        0        0        0        0        0        0\n",
       "3        0        0        0        0        0        0        0        0\n",
       "4        0        0        0        0        0        0        0        0\n",
       "  pixel652 pixel653 pixel654 pixel655 pixel656 pixel657 pixel658 pixel659\n",
       "1      214      218       95        0        0        0        0        0\n",
       "2        0        8       76      146      254      255      254      255\n",
       "3        0        0        0        0       63      254      254       62\n",
       "4        0        0        0        0        0        0        0        0\n",
       "  pixel660 pixel661 pixel662 pixel663 pixel664 pixel665 pixel666 pixel667\n",
       "1        0        0        0        0        0        0        0        0\n",
       "2      146       19       15        0        0        0        0        0\n",
       "3        0        0        0        0        0        0        0        0\n",
       "4        0        0        0        0      186      159        0        0\n",
       "  pixel668 pixel669 pixel670 pixel671 pixel672 pixel673 pixel674 pixel675\n",
       "1        0        0        0        0        0        0        0        0\n",
       "2        0        0        0        0        0        0        0        0\n",
       "3        0        0        0        0        0        0        0        0\n",
       "4        0        0        0        0        0        0        0        0\n",
       "  pixel676 pixel677 pixel678 pixel679 pixel680 pixel681 pixel682 pixel683\n",
       "1        0        0        0        0        0        0        0        0\n",
       "2        0        0        0        0        0        0        0        0\n",
       "3        0        0        0        0        0        0        0        0\n",
       "4        0        0        0        0        0        0        0        0\n",
       "  pixel684 pixel685 pixel686 pixel687 pixel688 pixel689 pixel690 pixel691\n",
       "1        0        0        0        0        0        0        0        0\n",
       "2        0        0        0        0        0        0        0        0\n",
       "3        0        0        0        0        0        0        0        0\n",
       "4        0        0        0        0        0        0        0        6\n",
       "  pixel692 pixel693 pixel694 pixel695 pixel696 pixel697 pixel698 pixel699\n",
       "1        0        0        0        0        0        0        0        0\n",
       "2        0        0        0        0        0        0        0        0\n",
       "3        0        0        0        0        0        0        0        0\n",
       "4      209      101        0        0        0        0        0        0\n",
       "  pixel700 pixel701 pixel702 pixel703 pixel704 pixel705 pixel706 pixel707\n",
       "1        0        0        0        0        0        0        0        0\n",
       "2        0        0        0        0        0        0        0        0\n",
       "3        0        0        0        0        0        0        0        0\n",
       "4        0        0        0        0        0        0        0        0\n",
       "  pixel708 pixel709 pixel710 pixel711 pixel712 pixel713 pixel714 pixel715\n",
       "1        0        0        0        0        0        0        0        0\n",
       "2        0        0        0        0        0        0        0        0\n",
       "3        0        0        0        0        0        0        0        0\n",
       "4        0        0        0        0        0        0        0        0\n",
       "  pixel716 pixel717 pixel718 pixel719 pixel720 pixel721 pixel722 pixel723\n",
       "1        0        0        0        0        0        0        0        0\n",
       "2        0        0        0        0        0        0        0        0\n",
       "3        0        0        0        0        0        0        0        0\n",
       "4        0        0        0        0        0        0        0        0\n",
       "  pixel724 pixel725 pixel726 pixel727 pixel728 pixel729 pixel730 pixel731\n",
       "1        0        0        0        0        0        0        0        0\n",
       "2        0        0        0        0        0        0        0        0\n",
       "3        0        0        0        0        0        0        0        0\n",
       "4        0        0        0        0        0        0        0        0\n",
       "  pixel732 pixel733 pixel734 pixel735 pixel736 pixel737 pixel738 pixel739\n",
       "1        0        0        0        0        0        0        0        0\n",
       "2        0        0        0        0        0        0        0        0\n",
       "3        0        0        0        0        0        0        0        0\n",
       "4        0        0        0        0        0        0        0        0\n",
       "  pixel740 pixel741 pixel742 pixel743 pixel744 pixel745 pixel746 pixel747\n",
       "1        0        0        0        0        0        0        0        0\n",
       "2        0        0        0        0        0        0        0        0\n",
       "3        0        0        0        0        0        0        0        0\n",
       "4        0        0        0        0        0        0        0        0\n",
       "  pixel748 pixel749 pixel750 pixel751 pixel752 pixel753 pixel754 pixel755\n",
       "1        0        0        0        0        0        0        0        0\n",
       "2        0        0        0        0        0        0        0        0\n",
       "3        0        0        0        0        0        0        0        0\n",
       "4        0        0        0        0        0        0        0        0\n",
       "  pixel756 pixel757 pixel758 pixel759 pixel760 pixel761 pixel762 pixel763\n",
       "1        0        0        0        0        0        0        0        0\n",
       "2        0        0        0        0        0        0        0        0\n",
       "3        0        0        0        0        0        0        0        0\n",
       "4        0        0        0        0        0        0        0        0\n",
       "  pixel764 pixel765 pixel766 pixel767 pixel768 pixel769 pixel770 pixel771\n",
       "1        0        0        0        0        0        0        0        0\n",
       "2        0        0        0        0        0        0        0        0\n",
       "3        0        0        0        0        0        0        0        0\n",
       "4        0        0        0        0        0        0        0        0\n",
       "  pixel772 pixel773 pixel774 pixel775 pixel776 pixel777 pixel778 pixel779\n",
       "1        0        0        0        0        0        0        0        0\n",
       "2        0        0        0        0        0        0        0        0\n",
       "3        0        0        0        0        0        0        0        0\n",
       "4        0        0        0        0        0        0        0        0\n",
       "  pixel780 pixel781 pixel782 pixel783\n",
       "1        0        0        0        0\n",
       "2        0        0        0        0\n",
       "3        0        0        0        0\n",
       "4        0        0        0        0"
      ]
     },
     "execution_count": 63,
     "metadata": {},
     "output_type": "execute_result"
    }
   ],
   "source": [
    "train[c(1,2,3,4),]"
   ]
  },
  {
   "cell_type": "code",
   "execution_count": 66,
   "metadata": {
    "collapsed": false
   },
   "outputs": [],
   "source": [
    "#str(train)"
   ]
  },
  {
   "cell_type": "code",
   "execution_count": 68,
   "metadata": {
    "collapsed": false
   },
   "outputs": [
    {
     "name": "stderr",
     "output_type": "stream",
     "text": [
      "Warning message:\n",
      "In .h2o.validateModelParameters(algo, param_values, h2oRestApiVersion): Dropping constant columns: [pixel673, pixel196, pixel672, pixel671, pixel57, pixel476, pixel10, pixel532, pixel11, pixel16, pixel52, pixel730, pixel53, pixel18, pixel731, pixel54, pixel17, pixel392, pixel55, pixel56, pixel19, pixel782, pixel2, pixel781, pixel3, pixel780, pixel4, pixel5, pixel448, pixel0, pixel783, pixel168, pixel1, pixel700, pixel701, pixel645, pixel644, pixel112, pixel111, pixel7, pixel6, pixel9, pixel8, pixel759, pixel758, pixel757, pixel756, pixel755, pixel754, pixel31, pixel30, pixel699, pixel139, pixel729, pixel141, pixel140, pixel727, pixel728, pixel23, pixel22, pixel21, pixel20, pixel560, pixel29, pixel28, pixel82, pixel27, pixel83, pixel26, pixel421, pixel84, pixel25, pixel760, pixel420, pixel85, pixel24].\n"
     ]
    },
    {
     "name": "stdout",
     "output_type": "stream",
     "text": [
      "\r",
      "  |                                                                            \r",
      "  |                                                                      |   0%\r",
      "  |                                                                            \r",
      "  |=                                                                     |   2%\r",
      "  |                                                                            \r",
      "  |==                                                                    |   3%\r",
      "  |                                                                            \r",
      "  |===                                                                   |   5%\r",
      "  |                                                                            \r",
      "  |=====                                                                 |   6%\r",
      "  |                                                                            \r",
      "  |======                                                                |   8%\r",
      "  |                                                                            \r",
      "  |=======                                                               |  10%\r",
      "  |                                                                            \r",
      "  |========                                                              |  11%\r",
      "  |                                                                            \r",
      "  |=========                                                             |  13%\r",
      "  |                                                                            \r",
      "  |==========                                                            |  15%\r",
      "  |                                                                            \r",
      "  |===========                                                           |  16%\r",
      "  |                                                                            \r",
      "  |============                                                          |  18%\r",
      "  |                                                                            \r",
      "  |==============                                                        |  19%\r",
      "  |                                                                            \r",
      "  |===============                                                       |  21%\r",
      "  |                                                                            \r",
      "  |================                                                      |  23%\r",
      "  |                                                                            \r",
      "  |=================                                                     |  24%\r",
      "  |                                                                            \r",
      "  |==================                                                    |  26%\r",
      "  |                                                                            \r",
      "  |===================                                                   |  27%\r",
      "  |                                                                            \r",
      "  |====================                                                  |  29%\r",
      "  |                                                                            \r",
      "  |=====================                                                 |  31%\r",
      "  |                                                                            \r",
      "  |=======================                                               |  32%\r",
      "  |                                                                            \r",
      "  |========================                                              |  34%\r",
      "  |                                                                            \r",
      "  |=========================                                             |  35%\r",
      "  |                                                                            \r",
      "  |==========================                                            |  37%\r",
      "  |                                                                            \r",
      "  |===========================                                           |  39%\r",
      "  |                                                                            \r",
      "  |============================                                          |  40%\r",
      "  |                                                                            \r",
      "  |=============================                                         |  42%\r",
      "  |                                                                            \r",
      "  |==============================                                        |  44%\r",
      "  |                                                                            \r",
      "  |================================                                      |  45%\r",
      "  |                                                                            \r",
      "  |=================================                                     |  47%\r",
      "  |                                                                            \r",
      "  |==================================                                    |  48%\r",
      "  |                                                                            \r",
      "  |===================================                                   |  50%\r",
      "  |                                                                            \r",
      "  |====================================                                  |  52%\r",
      "  |                                                                            \r",
      "  |=====================================                                 |  53%\r",
      "  |                                                                            \r",
      "  |======================================                                |  55%\r",
      "  |                                                                            \r",
      "  |=======================================                               |  56%\r",
      "  |                                                                            \r",
      "  |=========================================                             |  58%\r",
      "  |                                                                            \r",
      "  |==========================================                            |  60%\r",
      "  |                                                                            \r",
      "  |===========================================                           |  61%\r",
      "  |                                                                            \r",
      "  |============================================                          |  63%\r",
      "  |                                                                            \r",
      "  |=============================================                         |  64%\r",
      "  |                                                                            \r",
      "  |==============================================                        |  66%\r",
      "  |                                                                            \r",
      "  |===============================================                       |  68%\r",
      "  |                                                                            \r",
      "  |=================================================                     |  69%\r",
      "  |                                                                            \r",
      "  |==================================================                    |  71%\r",
      "  |                                                                            \r",
      "  |===================================================                   |  73%\r",
      "  |                                                                            \r",
      "  |====================================================                  |  74%\r",
      "  |                                                                            \r",
      "  |=====================================================                 |  76%\r",
      "  |                                                                            \r",
      "  |======================================================                |  77%\r",
      "  |                                                                            \r",
      "  |=======================================================               |  79%\r",
      "  |                                                                            \r",
      "  |========================================================              |  81%\r",
      "  |                                                                            \r",
      "  |==========================================================            |  82%\r",
      "  |                                                                            \r",
      "  |===========================================================           |  84%\r",
      "  |                                                                            \r",
      "  |============================================================          |  85%\r",
      "  |                                                                            \r",
      "  |=============================================================         |  87%\r",
      "  |                                                                            \r",
      "  |==============================================================        |  89%\r",
      "  |                                                                            \r",
      "  |===============================================================       |  90%\r",
      "  |                                                                            \r",
      "  |================================================================      |  92%\r",
      "  |                                                                            \r",
      "  |=================================================================     |  93%\r",
      "  |                                                                            \r",
      "  |===================================================================   |  95%\r",
      "  |                                                                            \r",
      "  |====================================================================  |  97%\r",
      "  |                                                                            \r",
      "  |===================================================================== |  98%\r",
      "  |                                                                            \r",
      "  |======================================================================| 100%\n"
     ]
    }
   ],
   "source": [
    "\n",
    "#Training a deep learning model:---------------------------------------------------------#\n",
    "model <- h2o.deeplearning(x = 2:785,\n",
    "                   y = 1,\n",
    "                   training_frame = train_h2o,\n",
    "                   activation = \"RectifierWithDropout\", \n",
    "                   input_dropout_ratio = 0.2,\n",
    "                   hidden_dropout_ratios = c(0.5,0.5),\n",
    "                   balance_classes = TRUE, \n",
    "                   hidden = c(200,100), #c(800,800),\n",
    "                   epochs = 10)\n"
   ]
  },
  {
   "cell_type": "code",
   "execution_count": 69,
   "metadata": {
    "collapsed": false
   },
   "outputs": [
    {
     "name": "stdout",
     "output_type": "stream",
     "text": [
      "  |======================================================================| 100%\n",
      "  |======================================================================| 100%\n"
     ]
    }
   ],
   "source": [
    "#Predict on test data:\n",
    "test_h2o <- h2o.importFile(path = '/home/rbhat/Workspace/S3Lab_Projects/SMC-MetaChallange/test.csv',\n",
    "                           destination_frame = \"test_h2o\")\n",
    "\n",
    "yhat <- h2o.predict(model, test_h2o)\n",
    "ImageId <- as.numeric(seq(1,28000))\n",
    "names(ImageId)[1] <- \"ImageId\"\n",
    "predictions <- cbind(as.data.frame(ImageId),as.data.frame(yhat[,1]))\n",
    "names(predictions)[2] <- \"Label\"\n",
    "#write.table(as.matrix(predictions), file=\"DNN_pred.csv\", row.names=FALSE, sep=\",\")"
   ]
  },
  {
   "cell_type": "code",
   "execution_count": 71,
   "metadata": {
    "collapsed": false
   },
   "outputs": [
    {
     "name": "stdout",
     "output_type": "stream",
     "text": [
      "'data.frame':\t28000 obs. of  2 variables:\n",
      " $ ImageId: num  1 2 3 4 5 6 7 8 9 10 ...\n",
      " $ Label  : Factor w/ 10 levels \"0\",\"1\",\"2\",\"3\",..: 3 1 10 10 4 8 1 4 1 4 ...\n"
     ]
    }
   ],
   "source": [
    "str(predictions)"
   ]
  },
  {
   "cell_type": "code",
   "execution_count": null,
   "metadata": {
    "collapsed": true
   },
   "outputs": [],
   "source": []
  },
  {
   "cell_type": "code",
   "execution_count": null,
   "metadata": {
    "collapsed": true
   },
   "outputs": [],
   "source": []
  },
  {
   "cell_type": "code",
   "execution_count": null,
   "metadata": {
    "collapsed": true
   },
   "outputs": [],
   "source": []
  },
  {
   "cell_type": "code",
   "execution_count": null,
   "metadata": {
    "collapsed": true
   },
   "outputs": [],
   "source": []
  }
 ],
 "metadata": {
  "kernelspec": {
   "display_name": "R",
   "language": "R",
   "name": "ir"
  },
  "language_info": {
   "codemirror_mode": "r",
   "file_extension": ".r",
   "mimetype": "text/x-r-source",
   "name": "R",
   "pygments_lexer": "r",
   "version": "3.3.0"
  }
 },
 "nbformat": 4,
 "nbformat_minor": 0
}
