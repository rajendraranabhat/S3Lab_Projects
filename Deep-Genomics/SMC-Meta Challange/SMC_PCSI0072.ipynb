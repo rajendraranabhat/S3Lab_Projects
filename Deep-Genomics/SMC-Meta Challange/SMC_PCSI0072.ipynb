{
 "cells": [
  {
   "cell_type": "code",
   "execution_count": 49,
   "metadata": {
    "collapsed": false
   },
   "outputs": [],
   "source": [
    "import numpy as np\n",
    "import pandas as pd\n",
    "from collections import Counter\n",
    "import math\n",
    "\n",
    "from sklearn.neighbors import KNeighborsClassifier\n",
    "from sklearn.linear_model import LogisticRegression\n",
    "from sklearn.ensemble import RandomForestClassifier\n",
    "from sklearn.cross_validation import cross_val_score\n",
    "from sklearn import metrics\n",
    "from sklearn.cross_validation import train_test_split\n",
    "from sklearn.metrics import confusion_matrix, roc_curve, auc\n",
    "from sklearn.grid_search import GridSearchCV\n",
    "from sklearn import svm\n",
    "from sklearn.decomposition import RandomizedPCA\n",
    "from sklearn.metrics import classification_report\n",
    "from sklearn import preprocessing\n",
    "import matplotlib.pyplot as plt\n",
    "import scipy.optimize as opt\n",
    "import glob\n",
    "import os\n",
    "import sys\n",
    "import pickle\n",
    "import time\n",
    "import timeit\n",
    "\n",
    "from sklearn.decomposition import RandomizedPCA\n",
    "\n",
    "import theano\n",
    "import theano.tensor as T\n",
    "import lasagne\n",
    "\n",
    "#np.random.seed(1337)  # for reproducibility\n",
    "from keras.datasets import mnist\n",
    "from keras.models import Sequential\n",
    "from keras.layers.core import Dense, Dropout, Activation, Flatten, Layer, Reshape, AutoEncoder, Merge\n",
    "from keras.layers.convolutional import Convolution2D,MaxPooling2D,Convolution1D,MaxPooling1D,UpSampling2D, ZeroPadding2D\n",
    "from keras.optimizers import SGD, Adam, RMSprop, Adadelta\n",
    "from keras.layers.normalization import BatchNormalization\n",
    "from keras.utils import np_utils\n",
    "import keras.utils.visualize_util as vutil\n",
    "from keras.layers.recurrent import LSTM, GRU, SimpleRNN\n",
    "from keras.regularizers import l1, l2, l1l2, activity_l2, activity_l1\n",
    "import keras.layers.containers as containers\n",
    "from keras.layers.noise import GaussianNoise\n",
    "from keras.regularizers import ActivityRegularizer\n",
    "from keras import backend as K\n",
    "import keras.utils.visualize_util as vutil\n",
    "from keras.models import model_from_json\n",
    "\n",
    "import seaborn as sns\n",
    "\n",
    "%matplotlib inline\n",
    "\n",
    "from IPython.display import SVG\n",
    "\n",
    "import h5py\n",
    "\n",
    "np.set_printoptions(suppress=True)  #Supress exponent of the number 2e-2 == 0.02\n",
    "\n",
    "%matplotlib inline"
   ]
  },
  {
   "cell_type": "code",
   "execution_count": 50,
   "metadata": {
    "collapsed": true
   },
   "outputs": [],
   "source": [
    "#PCSI0072"
   ]
  },
  {
   "cell_type": "code",
   "execution_count": 51,
   "metadata": {
    "collapsed": false
   },
   "outputs": [],
   "source": [
    "#Read the data\n",
    "\n",
    "GenomicFeatures_PCSI0072 = pd.read_csv(open('data/PCSI0072/GenomicFeatures_PCSI0072.txt','r'),sep='\\t')\n",
    "SNVCalls_PCSI0072    = pd.read_csv(open('data/PCSI0072/SNVCalls_PCSI0072.txt','r'),sep='\\t') "
   ]
  },
  {
   "cell_type": "code",
   "execution_count": 52,
   "metadata": {
    "collapsed": false
   },
   "outputs": [
    {
     "name": "stdout",
     "output_type": "stream",
     "text": [
      "(83808, 15)\n",
      "(83808, 136)\n"
     ]
    }
   ],
   "source": [
    "print GenomicFeatures_PCSI0072.shape\n",
    "print SNVCalls_PCSI0072.shape"
   ]
  },
  {
   "cell_type": "code",
   "execution_count": 53,
   "metadata": {
    "collapsed": false
   },
   "outputs": [
    {
     "data": {
      "text/plain": [
       "CHROM                  0\n",
       "POS                    0\n",
       "RefAllele              0\n",
       "NonRefAllele           0\n",
       "BaseQual               0\n",
       "TumourCoverage         0\n",
       "NormalCoverage         0\n",
       "MapQual                0\n",
       "ReadPosition           6\n",
       "Trinucleotide          0\n",
       "HomopolymerRate        0\n",
       "GCcontent              0\n",
       "GenomicLocation    25430\n",
       "DistanceSNP            0\n",
       "StrandBias             6\n",
       "dtype: int64"
      ]
     },
     "execution_count": 53,
     "metadata": {},
     "output_type": "execute_result"
    }
   ],
   "source": [
    "np.sum(GenomicFeatures_PCSI0072.isnull())"
   ]
  },
  {
   "cell_type": "code",
   "execution_count": 54,
   "metadata": {
    "collapsed": false
   },
   "outputs": [],
   "source": [
    "GenomicFeatures_PCSI0072['ReadPosition'].fillna(0, inplace=True)  #Replace na with 0\n",
    "GenomicFeatures_PCSI0072['StrandBias'].fillna(0, inplace=True)\n",
    "\n",
    "#print np.sum(GenomicFeatures_PCSI0023.isnull())"
   ]
  },
  {
   "cell_type": "code",
   "execution_count": 55,
   "metadata": {
    "collapsed": false
   },
   "outputs": [
    {
     "data": {
      "text/plain": [
       "array(['UTR3', 'UTR5', 'downstream', 'exonic', 'exonic;splicing',\n",
       "       'intergenic', 'intronic', 'nan', 'ncRNA_UTR3', 'ncRNA_exonic',\n",
       "       'ncRNA_intronic', 'splicing', 'upstream', 'upstream;downstream'], \n",
       "      dtype='|S19')"
      ]
     },
     "execution_count": 55,
     "metadata": {},
     "output_type": "execute_result"
    }
   ],
   "source": [
    "np.unique(GenomicFeatures_PCSI0072['GenomicLocation'])"
   ]
  },
  {
   "cell_type": "code",
   "execution_count": 56,
   "metadata": {
    "collapsed": false
   },
   "outputs": [
    {
     "data": {
      "text/html": [
       "<div style=\"max-height:1000px;max-width:1500px;overflow:auto;\">\n",
       "<table border=\"1\" class=\"dataframe\">\n",
       "  <thead>\n",
       "    <tr style=\"text-align: right;\">\n",
       "      <th></th>\n",
       "      <th>CHROM</th>\n",
       "      <th>POS</th>\n",
       "      <th>RefAllele</th>\n",
       "      <th>NonRefAllele</th>\n",
       "      <th>BaseQual</th>\n",
       "      <th>TumourCoverage</th>\n",
       "      <th>NormalCoverage</th>\n",
       "      <th>MapQual</th>\n",
       "      <th>ReadPosition</th>\n",
       "      <th>Trinucleotide</th>\n",
       "      <th>HomopolymerRate</th>\n",
       "      <th>GCcontent</th>\n",
       "      <th>GenomicLocation</th>\n",
       "      <th>DistanceSNP</th>\n",
       "      <th>StrandBias</th>\n",
       "    </tr>\n",
       "  </thead>\n",
       "  <tbody>\n",
       "    <tr>\n",
       "      <th>0</th>\n",
       "      <td> chr1</td>\n",
       "      <td> 10180</td>\n",
       "      <td> 141</td>\n",
       "      <td> 43</td>\n",
       "      <td> 4819</td>\n",
       "      <td> 193</td>\n",
       "      <td> 383</td>\n",
       "      <td> 17</td>\n",
       "      <td> 47</td>\n",
       "      <td> CTA</td>\n",
       "      <td> 4.897959</td>\n",
       "      <td> 0.497512</td>\n",
       "      <td>            NaN</td>\n",
       "      <td> 42058</td>\n",
       "      <td> 0.279793</td>\n",
       "    </tr>\n",
       "    <tr>\n",
       "      <th>1</th>\n",
       "      <td> chr1</td>\n",
       "      <td> 10352</td>\n",
       "      <td> 133</td>\n",
       "      <td> 23</td>\n",
       "      <td> 3037</td>\n",
       "      <td> 168</td>\n",
       "      <td> 383</td>\n",
       "      <td> 20</td>\n",
       "      <td> 21</td>\n",
       "      <td> CTA</td>\n",
       "      <td> 5.623656</td>\n",
       "      <td> 0.537313</td>\n",
       "      <td>            NaN</td>\n",
       "      <td> 41886</td>\n",
       "      <td> 0.166667</td>\n",
       "    </tr>\n",
       "    <tr>\n",
       "      <th>2</th>\n",
       "      <td> chr1</td>\n",
       "      <td> 16257</td>\n",
       "      <td>  69</td>\n",
       "      <td> 32</td>\n",
       "      <td> 3047</td>\n",
       "      <td> 106</td>\n",
       "      <td>  76</td>\n",
       "      <td> 16</td>\n",
       "      <td> 67</td>\n",
       "      <td> CCC</td>\n",
       "      <td> 2.333333</td>\n",
       "      <td> 0.517413</td>\n",
       "      <td> ncRNA_intronic</td>\n",
       "      <td> 35981</td>\n",
       "      <td> 0.556604</td>\n",
       "    </tr>\n",
       "    <tr>\n",
       "      <th>3</th>\n",
       "      <td> chr1</td>\n",
       "      <td> 17594</td>\n",
       "      <td>  95</td>\n",
       "      <td> 19</td>\n",
       "      <td> 3588</td>\n",
       "      <td> 120</td>\n",
       "      <td> 153</td>\n",
       "      <td>  0</td>\n",
       "      <td> 60</td>\n",
       "      <td> CCT</td>\n",
       "      <td> 2.605634</td>\n",
       "      <td> 0.631841</td>\n",
       "      <td> ncRNA_intronic</td>\n",
       "      <td> 34644</td>\n",
       "      <td> 0.500000</td>\n",
       "    </tr>\n",
       "    <tr>\n",
       "      <th>4</th>\n",
       "      <td> chr1</td>\n",
       "      <td> 20144</td>\n",
       "      <td> 196</td>\n",
       "      <td> 42</td>\n",
       "      <td> 7167</td>\n",
       "      <td> 244</td>\n",
       "      <td> 211</td>\n",
       "      <td> 17</td>\n",
       "      <td> 40</td>\n",
       "      <td> GCC</td>\n",
       "      <td> 2.394558</td>\n",
       "      <td> 0.487562</td>\n",
       "      <td>            NaN</td>\n",
       "      <td> 32094</td>\n",
       "      <td> 0.487705</td>\n",
       "    </tr>\n",
       "  </tbody>\n",
       "</table>\n",
       "<p>5 rows × 15 columns</p>\n",
       "</div>"
      ],
      "text/plain": [
       "  CHROM    POS  RefAllele  NonRefAllele  BaseQual  TumourCoverage  \\\n",
       "0  chr1  10180        141            43      4819             193   \n",
       "1  chr1  10352        133            23      3037             168   \n",
       "2  chr1  16257         69            32      3047             106   \n",
       "3  chr1  17594         95            19      3588             120   \n",
       "4  chr1  20144        196            42      7167             244   \n",
       "\n",
       "   NormalCoverage  MapQual  ReadPosition Trinucleotide  HomopolymerRate  \\\n",
       "0             383       17            47           CTA         4.897959   \n",
       "1             383       20            21           CTA         5.623656   \n",
       "2              76       16            67           CCC         2.333333   \n",
       "3             153        0            60           CCT         2.605634   \n",
       "4             211       17            40           GCC         2.394558   \n",
       "\n",
       "   GCcontent GenomicLocation  DistanceSNP  StrandBias  \n",
       "0   0.497512             NaN        42058    0.279793  \n",
       "1   0.537313             NaN        41886    0.166667  \n",
       "2   0.517413  ncRNA_intronic        35981    0.556604  \n",
       "3   0.631841  ncRNA_intronic        34644    0.500000  \n",
       "4   0.487562             NaN        32094    0.487705  \n",
       "\n",
       "[5 rows x 15 columns]"
      ]
     },
     "execution_count": 56,
     "metadata": {},
     "output_type": "execute_result"
    }
   ],
   "source": [
    "GenomicFeatures_PCSI0072.head()"
   ]
  },
  {
   "cell_type": "code",
   "execution_count": 57,
   "metadata": {
    "collapsed": false
   },
   "outputs": [
    {
     "data": {
      "text/html": [
       "<div style=\"max-height:1000px;max-width:1500px;overflow:auto;\">\n",
       "<table border=\"1\" class=\"dataframe\">\n",
       "  <thead>\n",
       "    <tr style=\"text-align: right;\">\n",
       "      <th></th>\n",
       "      <th>CHROM</th>\n",
       "      <th>POS</th>\n",
       "      <th>END</th>\n",
       "      <th>X2399011</th>\n",
       "      <th>X2642567</th>\n",
       "      <th>X2642569</th>\n",
       "      <th>X2701060</th>\n",
       "      <th>X2701064</th>\n",
       "      <th>X2810931</th>\n",
       "      <th>X2811120</th>\n",
       "      <th>X2811122</th>\n",
       "      <th>X2811125</th>\n",
       "      <th>X2811128</th>\n",
       "      <th>X2811399</th>\n",
       "      <th>X2812916</th>\n",
       "      <th>X2813255</th>\n",
       "      <th>X2813267</th>\n",
       "      <th>X2813345</th>\n",
       "      <th>X2813387</th>\n",
       "      <th>X2813467</th>\n",
       "      <th></th>\n",
       "    </tr>\n",
       "  </thead>\n",
       "  <tbody>\n",
       "    <tr>\n",
       "      <th>0</th>\n",
       "      <td> chr1</td>\n",
       "      <td> 10179</td>\n",
       "      <td> 10180</td>\n",
       "      <td> 0</td>\n",
       "      <td> 0</td>\n",
       "      <td> 0</td>\n",
       "      <td> 0</td>\n",
       "      <td> 0</td>\n",
       "      <td> 0</td>\n",
       "      <td> 0</td>\n",
       "      <td> 0</td>\n",
       "      <td> 0</td>\n",
       "      <td> 0</td>\n",
       "      <td> 0</td>\n",
       "      <td> 0</td>\n",
       "      <td> 0</td>\n",
       "      <td> 1</td>\n",
       "      <td> 0</td>\n",
       "      <td> 0</td>\n",
       "      <td> 0</td>\n",
       "      <td>...</td>\n",
       "    </tr>\n",
       "    <tr>\n",
       "      <th>1</th>\n",
       "      <td> chr1</td>\n",
       "      <td> 10351</td>\n",
       "      <td> 10352</td>\n",
       "      <td> 0</td>\n",
       "      <td> 0</td>\n",
       "      <td> 0</td>\n",
       "      <td> 0</td>\n",
       "      <td> 0</td>\n",
       "      <td> 0</td>\n",
       "      <td> 0</td>\n",
       "      <td> 0</td>\n",
       "      <td> 0</td>\n",
       "      <td> 0</td>\n",
       "      <td> 0</td>\n",
       "      <td> 0</td>\n",
       "      <td> 0</td>\n",
       "      <td> 1</td>\n",
       "      <td> 0</td>\n",
       "      <td> 0</td>\n",
       "      <td> 0</td>\n",
       "      <td>...</td>\n",
       "    </tr>\n",
       "    <tr>\n",
       "      <th>2</th>\n",
       "      <td> chr1</td>\n",
       "      <td> 16256</td>\n",
       "      <td> 16257</td>\n",
       "      <td> 0</td>\n",
       "      <td> 0</td>\n",
       "      <td> 0</td>\n",
       "      <td> 0</td>\n",
       "      <td> 0</td>\n",
       "      <td> 0</td>\n",
       "      <td> 0</td>\n",
       "      <td> 0</td>\n",
       "      <td> 0</td>\n",
       "      <td> 0</td>\n",
       "      <td> 0</td>\n",
       "      <td> 0</td>\n",
       "      <td> 0</td>\n",
       "      <td> 1</td>\n",
       "      <td> 0</td>\n",
       "      <td> 0</td>\n",
       "      <td> 0</td>\n",
       "      <td>...</td>\n",
       "    </tr>\n",
       "    <tr>\n",
       "      <th>3</th>\n",
       "      <td> chr1</td>\n",
       "      <td> 17593</td>\n",
       "      <td> 17594</td>\n",
       "      <td> 0</td>\n",
       "      <td> 0</td>\n",
       "      <td> 0</td>\n",
       "      <td> 0</td>\n",
       "      <td> 0</td>\n",
       "      <td> 0</td>\n",
       "      <td> 0</td>\n",
       "      <td> 0</td>\n",
       "      <td> 0</td>\n",
       "      <td> 0</td>\n",
       "      <td> 0</td>\n",
       "      <td> 0</td>\n",
       "      <td> 0</td>\n",
       "      <td> 1</td>\n",
       "      <td> 0</td>\n",
       "      <td> 0</td>\n",
       "      <td> 0</td>\n",
       "      <td>...</td>\n",
       "    </tr>\n",
       "    <tr>\n",
       "      <th>4</th>\n",
       "      <td> chr1</td>\n",
       "      <td> 20143</td>\n",
       "      <td> 20144</td>\n",
       "      <td> 0</td>\n",
       "      <td> 0</td>\n",
       "      <td> 0</td>\n",
       "      <td> 0</td>\n",
       "      <td> 0</td>\n",
       "      <td> 0</td>\n",
       "      <td> 0</td>\n",
       "      <td> 0</td>\n",
       "      <td> 0</td>\n",
       "      <td> 0</td>\n",
       "      <td> 0</td>\n",
       "      <td> 0</td>\n",
       "      <td> 0</td>\n",
       "      <td> 1</td>\n",
       "      <td> 0</td>\n",
       "      <td> 0</td>\n",
       "      <td> 0</td>\n",
       "      <td>...</td>\n",
       "    </tr>\n",
       "  </tbody>\n",
       "</table>\n",
       "<p>5 rows × 136 columns</p>\n",
       "</div>"
      ],
      "text/plain": [
       "  CHROM    POS    END  X2399011  X2642567  X2642569  X2701060  X2701064  \\\n",
       "0  chr1  10179  10180         0         0         0         0         0   \n",
       "1  chr1  10351  10352         0         0         0         0         0   \n",
       "2  chr1  16256  16257         0         0         0         0         0   \n",
       "3  chr1  17593  17594         0         0         0         0         0   \n",
       "4  chr1  20143  20144         0         0         0         0         0   \n",
       "\n",
       "   X2810931  X2811120  X2811122  X2811125  X2811128  X2811399  X2812916  \\\n",
       "0         0         0         0         0         0         0         0   \n",
       "1         0         0         0         0         0         0         0   \n",
       "2         0         0         0         0         0         0         0   \n",
       "3         0         0         0         0         0         0         0   \n",
       "4         0         0         0         0         0         0         0   \n",
       "\n",
       "   X2813255  X2813267  X2813345  X2813387  X2813467      \n",
       "0         0         1         0         0         0 ...  \n",
       "1         0         1         0         0         0 ...  \n",
       "2         0         1         0         0         0 ...  \n",
       "3         0         1         0         0         0 ...  \n",
       "4         0         1         0         0         0 ...  \n",
       "\n",
       "[5 rows x 136 columns]"
      ]
     },
     "execution_count": 57,
     "metadata": {},
     "output_type": "execute_result"
    }
   ],
   "source": [
    "SNVCalls_PCSI0072.head()"
   ]
  },
  {
   "cell_type": "code",
   "execution_count": 58,
   "metadata": {
    "collapsed": false
   },
   "outputs": [
    {
     "data": {
      "text/plain": [
       "array(['ACA', 'ACC', 'ACG', 'ACT', 'ATA', 'ATC', 'ATG', 'ATT', 'CCA',\n",
       "       'CCC', 'CCG', 'CCT', 'CTA', 'CTC', 'CTG', 'CTT', 'GCA', 'GCC',\n",
       "       'GCG', 'GCT', 'GTA', 'GTC', 'GTG', 'GTT', 'TCA', 'TCC', 'TCG',\n",
       "       'TCT', 'TTA', 'TTC', 'TTG', 'TTT'], \n",
       "      dtype='|S3')"
      ]
     },
     "execution_count": 58,
     "metadata": {},
     "output_type": "execute_result"
    }
   ],
   "source": [
    "np.unique(GenomicFeatures_PCSI0072['Trinucleotide'])"
   ]
  },
  {
   "cell_type": "code",
   "execution_count": 59,
   "metadata": {
    "collapsed": true
   },
   "outputs": [],
   "source": [
    "PCSI0072 = pd.merge(GenomicFeatures_PCSI0072, SNVCalls_PCSI0072,left_on=['CHROM', 'POS'], right_on=['CHROM','END'])\n"
   ]
  },
  {
   "cell_type": "code",
   "execution_count": 60,
   "metadata": {
    "collapsed": false
   },
   "outputs": [
    {
     "data": {
      "text/html": [
       "<div style=\"max-height:1000px;max-width:1500px;overflow:auto;\">\n",
       "<table border=\"1\" class=\"dataframe\">\n",
       "  <thead>\n",
       "    <tr style=\"text-align: right;\">\n",
       "      <th></th>\n",
       "      <th>CHROM</th>\n",
       "      <th>POS_x</th>\n",
       "      <th>RefAllele</th>\n",
       "      <th>NonRefAllele</th>\n",
       "      <th>BaseQual</th>\n",
       "      <th>TumourCoverage</th>\n",
       "      <th>NormalCoverage</th>\n",
       "      <th>MapQual</th>\n",
       "      <th>ReadPosition</th>\n",
       "      <th>Trinucleotide</th>\n",
       "      <th>HomopolymerRate</th>\n",
       "      <th>GCcontent</th>\n",
       "      <th>GenomicLocation</th>\n",
       "      <th>DistanceSNP</th>\n",
       "      <th>StrandBias</th>\n",
       "      <th>POS_y</th>\n",
       "      <th>END</th>\n",
       "      <th>X2399011</th>\n",
       "      <th>X2642567</th>\n",
       "      <th>X2642569</th>\n",
       "      <th></th>\n",
       "    </tr>\n",
       "  </thead>\n",
       "  <tbody>\n",
       "    <tr>\n",
       "      <th>0</th>\n",
       "      <td> chr1</td>\n",
       "      <td> 10180</td>\n",
       "      <td> 141</td>\n",
       "      <td> 43</td>\n",
       "      <td> 4819</td>\n",
       "      <td> 193</td>\n",
       "      <td> 383</td>\n",
       "      <td> 17</td>\n",
       "      <td> 47</td>\n",
       "      <td> CTA</td>\n",
       "      <td> 4.897959</td>\n",
       "      <td> 0.497512</td>\n",
       "      <td>            NaN</td>\n",
       "      <td> 42058</td>\n",
       "      <td> 0.279793</td>\n",
       "      <td> 10179</td>\n",
       "      <td> 10180</td>\n",
       "      <td> 0</td>\n",
       "      <td> 0</td>\n",
       "      <td> 0</td>\n",
       "      <td>...</td>\n",
       "    </tr>\n",
       "    <tr>\n",
       "      <th>1</th>\n",
       "      <td> chr1</td>\n",
       "      <td> 10352</td>\n",
       "      <td> 133</td>\n",
       "      <td> 23</td>\n",
       "      <td> 3037</td>\n",
       "      <td> 168</td>\n",
       "      <td> 383</td>\n",
       "      <td> 20</td>\n",
       "      <td> 21</td>\n",
       "      <td> CTA</td>\n",
       "      <td> 5.623656</td>\n",
       "      <td> 0.537313</td>\n",
       "      <td>            NaN</td>\n",
       "      <td> 41886</td>\n",
       "      <td> 0.166667</td>\n",
       "      <td> 10351</td>\n",
       "      <td> 10352</td>\n",
       "      <td> 0</td>\n",
       "      <td> 0</td>\n",
       "      <td> 0</td>\n",
       "      <td>...</td>\n",
       "    </tr>\n",
       "    <tr>\n",
       "      <th>2</th>\n",
       "      <td> chr1</td>\n",
       "      <td> 16257</td>\n",
       "      <td>  69</td>\n",
       "      <td> 32</td>\n",
       "      <td> 3047</td>\n",
       "      <td> 106</td>\n",
       "      <td>  76</td>\n",
       "      <td> 16</td>\n",
       "      <td> 67</td>\n",
       "      <td> CCC</td>\n",
       "      <td> 2.333333</td>\n",
       "      <td> 0.517413</td>\n",
       "      <td> ncRNA_intronic</td>\n",
       "      <td> 35981</td>\n",
       "      <td> 0.556604</td>\n",
       "      <td> 16256</td>\n",
       "      <td> 16257</td>\n",
       "      <td> 0</td>\n",
       "      <td> 0</td>\n",
       "      <td> 0</td>\n",
       "      <td>...</td>\n",
       "    </tr>\n",
       "    <tr>\n",
       "      <th>3</th>\n",
       "      <td> chr1</td>\n",
       "      <td> 17594</td>\n",
       "      <td>  95</td>\n",
       "      <td> 19</td>\n",
       "      <td> 3588</td>\n",
       "      <td> 120</td>\n",
       "      <td> 153</td>\n",
       "      <td>  0</td>\n",
       "      <td> 60</td>\n",
       "      <td> CCT</td>\n",
       "      <td> 2.605634</td>\n",
       "      <td> 0.631841</td>\n",
       "      <td> ncRNA_intronic</td>\n",
       "      <td> 34644</td>\n",
       "      <td> 0.500000</td>\n",
       "      <td> 17593</td>\n",
       "      <td> 17594</td>\n",
       "      <td> 0</td>\n",
       "      <td> 0</td>\n",
       "      <td> 0</td>\n",
       "      <td>...</td>\n",
       "    </tr>\n",
       "    <tr>\n",
       "      <th>4</th>\n",
       "      <td> chr1</td>\n",
       "      <td> 20144</td>\n",
       "      <td> 196</td>\n",
       "      <td> 42</td>\n",
       "      <td> 7167</td>\n",
       "      <td> 244</td>\n",
       "      <td> 211</td>\n",
       "      <td> 17</td>\n",
       "      <td> 40</td>\n",
       "      <td> GCC</td>\n",
       "      <td> 2.394558</td>\n",
       "      <td> 0.487562</td>\n",
       "      <td>            NaN</td>\n",
       "      <td> 32094</td>\n",
       "      <td> 0.487705</td>\n",
       "      <td> 20143</td>\n",
       "      <td> 20144</td>\n",
       "      <td> 0</td>\n",
       "      <td> 0</td>\n",
       "      <td> 0</td>\n",
       "      <td>...</td>\n",
       "    </tr>\n",
       "  </tbody>\n",
       "</table>\n",
       "<p>5 rows × 150 columns</p>\n",
       "</div>"
      ],
      "text/plain": [
       "  CHROM  POS_x  RefAllele  NonRefAllele  BaseQual  TumourCoverage  \\\n",
       "0  chr1  10180        141            43      4819             193   \n",
       "1  chr1  10352        133            23      3037             168   \n",
       "2  chr1  16257         69            32      3047             106   \n",
       "3  chr1  17594         95            19      3588             120   \n",
       "4  chr1  20144        196            42      7167             244   \n",
       "\n",
       "   NormalCoverage  MapQual  ReadPosition Trinucleotide  HomopolymerRate  \\\n",
       "0             383       17            47           CTA         4.897959   \n",
       "1             383       20            21           CTA         5.623656   \n",
       "2              76       16            67           CCC         2.333333   \n",
       "3             153        0            60           CCT         2.605634   \n",
       "4             211       17            40           GCC         2.394558   \n",
       "\n",
       "   GCcontent GenomicLocation  DistanceSNP  StrandBias  POS_y    END  X2399011  \\\n",
       "0   0.497512             NaN        42058    0.279793  10179  10180         0   \n",
       "1   0.537313             NaN        41886    0.166667  10351  10352         0   \n",
       "2   0.517413  ncRNA_intronic        35981    0.556604  16256  16257         0   \n",
       "3   0.631841  ncRNA_intronic        34644    0.500000  17593  17594         0   \n",
       "4   0.487562             NaN        32094    0.487705  20143  20144         0   \n",
       "\n",
       "   X2642567  X2642569      \n",
       "0         0         0 ...  \n",
       "1         0         0 ...  \n",
       "2         0         0 ...  \n",
       "3         0         0 ...  \n",
       "4         0         0 ...  \n",
       "\n",
       "[5 rows x 150 columns]"
      ]
     },
     "execution_count": 60,
     "metadata": {},
     "output_type": "execute_result"
    }
   ],
   "source": [
    "PCSI0072.head() #182+15"
   ]
  },
  {
   "cell_type": "code",
   "execution_count": 61,
   "metadata": {
    "collapsed": true
   },
   "outputs": [],
   "source": [
    "PCSI0072_X = PCSI0072.iloc[:,2:15] #Exclude CHROM, POS\n",
    "PCSI0072_Y = PCSI0072.iloc[:,17:]  #Exclude CHROM_y, POS_y, END"
   ]
  },
  {
   "cell_type": "code",
   "execution_count": 62,
   "metadata": {
    "collapsed": false
   },
   "outputs": [
    {
     "name": "stdout",
     "output_type": "stream",
     "text": [
      "(83808, 13)\n",
      "(83808, 133)\n"
     ]
    }
   ],
   "source": [
    "print PCSI0072_X.shape\n",
    "print PCSI0072_Y.shape"
   ]
  },
  {
   "cell_type": "code",
   "execution_count": 63,
   "metadata": {
    "collapsed": false
   },
   "outputs": [
    {
     "data": {
      "text/html": [
       "<div style=\"max-height:1000px;max-width:1500px;overflow:auto;\">\n",
       "<table border=\"1\" class=\"dataframe\">\n",
       "  <thead>\n",
       "    <tr style=\"text-align: right;\">\n",
       "      <th></th>\n",
       "      <th>RefAllele</th>\n",
       "      <th>NonRefAllele</th>\n",
       "      <th>BaseQual</th>\n",
       "      <th>TumourCoverage</th>\n",
       "      <th>NormalCoverage</th>\n",
       "      <th>MapQual</th>\n",
       "      <th>ReadPosition</th>\n",
       "      <th>Trinucleotide</th>\n",
       "      <th>HomopolymerRate</th>\n",
       "      <th>GCcontent</th>\n",
       "      <th>GenomicLocation</th>\n",
       "      <th>DistanceSNP</th>\n",
       "      <th>StrandBias</th>\n",
       "    </tr>\n",
       "  </thead>\n",
       "  <tbody>\n",
       "    <tr>\n",
       "      <th>0</th>\n",
       "      <td> 141</td>\n",
       "      <td> 43</td>\n",
       "      <td> 4819</td>\n",
       "      <td> 193</td>\n",
       "      <td> 383</td>\n",
       "      <td> 17</td>\n",
       "      <td> 47</td>\n",
       "      <td> CTA</td>\n",
       "      <td> 4.897959</td>\n",
       "      <td> 0.497512</td>\n",
       "      <td> NaN</td>\n",
       "      <td> 42058</td>\n",
       "      <td> 0.279793</td>\n",
       "    </tr>\n",
       "    <tr>\n",
       "      <th>1</th>\n",
       "      <td> 133</td>\n",
       "      <td> 23</td>\n",
       "      <td> 3037</td>\n",
       "      <td> 168</td>\n",
       "      <td> 383</td>\n",
       "      <td> 20</td>\n",
       "      <td> 21</td>\n",
       "      <td> CTA</td>\n",
       "      <td> 5.623656</td>\n",
       "      <td> 0.537313</td>\n",
       "      <td> NaN</td>\n",
       "      <td> 41886</td>\n",
       "      <td> 0.166667</td>\n",
       "    </tr>\n",
       "  </tbody>\n",
       "</table>\n",
       "<p>2 rows × 13 columns</p>\n",
       "</div>"
      ],
      "text/plain": [
       "   RefAllele  NonRefAllele  BaseQual  TumourCoverage  NormalCoverage  MapQual  \\\n",
       "0        141            43      4819             193             383       17   \n",
       "1        133            23      3037             168             383       20   \n",
       "\n",
       "   ReadPosition Trinucleotide  HomopolymerRate  GCcontent GenomicLocation  \\\n",
       "0            47           CTA         4.897959   0.497512             NaN   \n",
       "1            21           CTA         5.623656   0.537313             NaN   \n",
       "\n",
       "   DistanceSNP  StrandBias  \n",
       "0        42058    0.279793  \n",
       "1        41886    0.166667  \n",
       "\n",
       "[2 rows x 13 columns]"
      ]
     },
     "execution_count": 63,
     "metadata": {},
     "output_type": "execute_result"
    }
   ],
   "source": [
    "PCSI0072_X[:2]"
   ]
  },
  {
   "cell_type": "code",
   "execution_count": 64,
   "metadata": {
    "collapsed": false
   },
   "outputs": [
    {
     "data": {
      "text/html": [
       "<div style=\"max-height:1000px;max-width:1500px;overflow:auto;\">\n",
       "<table border=\"1\" class=\"dataframe\">\n",
       "  <thead>\n",
       "    <tr style=\"text-align: right;\">\n",
       "      <th></th>\n",
       "      <th>X2399011</th>\n",
       "      <th>X2642567</th>\n",
       "      <th>X2642569</th>\n",
       "      <th>X2701060</th>\n",
       "      <th>X2701064</th>\n",
       "      <th>X2810931</th>\n",
       "      <th>X2811120</th>\n",
       "      <th>X2811122</th>\n",
       "      <th>X2811125</th>\n",
       "      <th>X2811128</th>\n",
       "      <th>X2811399</th>\n",
       "      <th>X2812916</th>\n",
       "      <th>X2813255</th>\n",
       "      <th>X2813267</th>\n",
       "      <th>X2813345</th>\n",
       "      <th>X2813387</th>\n",
       "      <th>X2813467</th>\n",
       "      <th>X2813771</th>\n",
       "      <th>X2813775</th>\n",
       "      <th>X2813778</th>\n",
       "      <th></th>\n",
       "    </tr>\n",
       "  </thead>\n",
       "  <tbody>\n",
       "    <tr>\n",
       "      <th>0</th>\n",
       "      <td> 0</td>\n",
       "      <td> 0</td>\n",
       "      <td> 0</td>\n",
       "      <td> 0</td>\n",
       "      <td> 0</td>\n",
       "      <td> 0</td>\n",
       "      <td> 0</td>\n",
       "      <td> 0</td>\n",
       "      <td> 0</td>\n",
       "      <td> 0</td>\n",
       "      <td> 0</td>\n",
       "      <td> 0</td>\n",
       "      <td> 0</td>\n",
       "      <td> 1</td>\n",
       "      <td> 0</td>\n",
       "      <td> 0</td>\n",
       "      <td> 0</td>\n",
       "      <td> 0</td>\n",
       "      <td> 0</td>\n",
       "      <td> 0</td>\n",
       "      <td>...</td>\n",
       "    </tr>\n",
       "    <tr>\n",
       "      <th>1</th>\n",
       "      <td> 0</td>\n",
       "      <td> 0</td>\n",
       "      <td> 0</td>\n",
       "      <td> 0</td>\n",
       "      <td> 0</td>\n",
       "      <td> 0</td>\n",
       "      <td> 0</td>\n",
       "      <td> 0</td>\n",
       "      <td> 0</td>\n",
       "      <td> 0</td>\n",
       "      <td> 0</td>\n",
       "      <td> 0</td>\n",
       "      <td> 0</td>\n",
       "      <td> 1</td>\n",
       "      <td> 0</td>\n",
       "      <td> 0</td>\n",
       "      <td> 0</td>\n",
       "      <td> 0</td>\n",
       "      <td> 0</td>\n",
       "      <td> 0</td>\n",
       "      <td>...</td>\n",
       "    </tr>\n",
       "  </tbody>\n",
       "</table>\n",
       "<p>2 rows × 133 columns</p>\n",
       "</div>"
      ],
      "text/plain": [
       "   X2399011  X2642567  X2642569  X2701060  X2701064  X2810931  X2811120  \\\n",
       "0         0         0         0         0         0         0         0   \n",
       "1         0         0         0         0         0         0         0   \n",
       "\n",
       "   X2811122  X2811125  X2811128  X2811399  X2812916  X2813255  X2813267  \\\n",
       "0         0         0         0         0         0         0         1   \n",
       "1         0         0         0         0         0         0         1   \n",
       "\n",
       "   X2813345  X2813387  X2813467  X2813771  X2813775  X2813778      \n",
       "0         0         0         0         0         0         0 ...  \n",
       "1         0         0         0         0         0         0 ...  \n",
       "\n",
       "[2 rows x 133 columns]"
      ]
     },
     "execution_count": 64,
     "metadata": {},
     "output_type": "execute_result"
    }
   ],
   "source": [
    "PCSI0072_Y[:2]"
   ]
  },
  {
   "cell_type": "code",
   "execution_count": 65,
   "metadata": {
    "collapsed": false
   },
   "outputs": [
    {
     "name": "stdout",
     "output_type": "stream",
     "text": [
      "83808\n",
      "(83808, 1)\n"
     ]
    }
   ],
   "source": [
    "totalSample = PCSI0072_Y.shape[0]\n",
    "PCSI0072_Y_Val = np.zeros((totalSample,1)) #Will be our label now\n",
    "\n",
    "print totalSample\n",
    "print PCSI0072_Y_Val.shape"
   ]
  },
  {
   "cell_type": "code",
   "execution_count": 66,
   "metadata": {
    "collapsed": false
   },
   "outputs": [
    {
     "data": {
      "text/plain": [
       "(83808, 133)"
      ]
     },
     "execution_count": 66,
     "metadata": {},
     "output_type": "execute_result"
    }
   ],
   "source": [
    "PCSI0072_Y.shape"
   ]
  },
  {
   "cell_type": "code",
   "execution_count": 67,
   "metadata": {
    "collapsed": false
   },
   "outputs": [
    {
     "data": {
      "text/plain": [
       "(133,)"
      ]
     },
     "execution_count": 67,
     "metadata": {},
     "output_type": "execute_result"
    }
   ],
   "source": [
    "PCSI0072_Y.values[0].shape"
   ]
  },
  {
   "cell_type": "code",
   "execution_count": 68,
   "metadata": {
    "collapsed": false
   },
   "outputs": [],
   "source": [
    "for i in range(totalSample):\n",
    "    PCSI0072_Y_Val[i] = np.argmax(np.bincount(PCSI0072_Y.values[i]))"
   ]
  },
  {
   "cell_type": "code",
   "execution_count": 69,
   "metadata": {
    "collapsed": true
   },
   "outputs": [],
   "source": [
    "PCSI0072_Y_Val_1 = pd.DataFrame(PCSI0072_Y_Val)\n",
    "PCSI0072_Y_Val_1.columns = ['Label']"
   ]
  },
  {
   "cell_type": "code",
   "execution_count": 70,
   "metadata": {
    "collapsed": false
   },
   "outputs": [
    {
     "data": {
      "text/html": [
       "<div style=\"max-height:1000px;max-width:1500px;overflow:auto;\">\n",
       "<table border=\"1\" class=\"dataframe\">\n",
       "  <thead>\n",
       "    <tr style=\"text-align: right;\">\n",
       "      <th></th>\n",
       "      <th>Label</th>\n",
       "    </tr>\n",
       "  </thead>\n",
       "  <tbody>\n",
       "    <tr>\n",
       "      <th>0</th>\n",
       "      <td> 0</td>\n",
       "    </tr>\n",
       "    <tr>\n",
       "      <th>1</th>\n",
       "      <td> 0</td>\n",
       "    </tr>\n",
       "    <tr>\n",
       "      <th>2</th>\n",
       "      <td> 0</td>\n",
       "    </tr>\n",
       "  </tbody>\n",
       "</table>\n",
       "<p>3 rows × 1 columns</p>\n",
       "</div>"
      ],
      "text/plain": [
       "   Label\n",
       "0      0\n",
       "1      0\n",
       "2      0\n",
       "\n",
       "[3 rows x 1 columns]"
      ]
     },
     "execution_count": 70,
     "metadata": {},
     "output_type": "execute_result"
    }
   ],
   "source": [
    "PCSI0072_Y_Val_1[:3]"
   ]
  },
  {
   "cell_type": "code",
   "execution_count": 71,
   "metadata": {
    "collapsed": false
   },
   "outputs": [],
   "source": [
    "PCSI0072_dataframe = pd.concat([PCSI0072_X, PCSI0072_Y_Val_1],axis=1)"
   ]
  },
  {
   "cell_type": "code",
   "execution_count": 72,
   "metadata": {
    "collapsed": false
   },
   "outputs": [
    {
     "data": {
      "text/plain": [
       "(83808, 14)"
      ]
     },
     "execution_count": 72,
     "metadata": {},
     "output_type": "execute_result"
    }
   ],
   "source": [
    "PCSI0072_dataframe.shape"
   ]
  },
  {
   "cell_type": "code",
   "execution_count": 73,
   "metadata": {
    "collapsed": false
   },
   "outputs": [
    {
     "data": {
      "text/html": [
       "<div style=\"max-height:1000px;max-width:1500px;overflow:auto;\">\n",
       "<table border=\"1\" class=\"dataframe\">\n",
       "  <thead>\n",
       "    <tr style=\"text-align: right;\">\n",
       "      <th></th>\n",
       "      <th>RefAllele</th>\n",
       "      <th>NonRefAllele</th>\n",
       "      <th>BaseQual</th>\n",
       "      <th>TumourCoverage</th>\n",
       "      <th>NormalCoverage</th>\n",
       "      <th>MapQual</th>\n",
       "      <th>ReadPosition</th>\n",
       "      <th>Trinucleotide</th>\n",
       "      <th>HomopolymerRate</th>\n",
       "      <th>GCcontent</th>\n",
       "      <th>GenomicLocation</th>\n",
       "      <th>DistanceSNP</th>\n",
       "      <th>StrandBias</th>\n",
       "      <th>Label</th>\n",
       "    </tr>\n",
       "  </thead>\n",
       "  <tbody>\n",
       "    <tr>\n",
       "      <th>0</th>\n",
       "      <td> 141</td>\n",
       "      <td> 43</td>\n",
       "      <td> 4819</td>\n",
       "      <td> 193</td>\n",
       "      <td> 383</td>\n",
       "      <td> 17</td>\n",
       "      <td> 47</td>\n",
       "      <td> CTA</td>\n",
       "      <td> 4.897959</td>\n",
       "      <td> 0.497512</td>\n",
       "      <td> NaN</td>\n",
       "      <td> 42058</td>\n",
       "      <td> 0.279793</td>\n",
       "      <td> 0</td>\n",
       "    </tr>\n",
       "    <tr>\n",
       "      <th>1</th>\n",
       "      <td> 133</td>\n",
       "      <td> 23</td>\n",
       "      <td> 3037</td>\n",
       "      <td> 168</td>\n",
       "      <td> 383</td>\n",
       "      <td> 20</td>\n",
       "      <td> 21</td>\n",
       "      <td> CTA</td>\n",
       "      <td> 5.623656</td>\n",
       "      <td> 0.537313</td>\n",
       "      <td> NaN</td>\n",
       "      <td> 41886</td>\n",
       "      <td> 0.166667</td>\n",
       "      <td> 0</td>\n",
       "    </tr>\n",
       "  </tbody>\n",
       "</table>\n",
       "<p>2 rows × 14 columns</p>\n",
       "</div>"
      ],
      "text/plain": [
       "   RefAllele  NonRefAllele  BaseQual  TumourCoverage  NormalCoverage  MapQual  \\\n",
       "0        141            43      4819             193             383       17   \n",
       "1        133            23      3037             168             383       20   \n",
       "\n",
       "   ReadPosition Trinucleotide  HomopolymerRate  GCcontent GenomicLocation  \\\n",
       "0            47           CTA         4.897959   0.497512             NaN   \n",
       "1            21           CTA         5.623656   0.537313             NaN   \n",
       "\n",
       "   DistanceSNP  StrandBias  Label  \n",
       "0        42058    0.279793      0  \n",
       "1        41886    0.166667      0  \n",
       "\n",
       "[2 rows x 14 columns]"
      ]
     },
     "execution_count": 73,
     "metadata": {},
     "output_type": "execute_result"
    }
   ],
   "source": [
    "PCSI0072_dataframe[:2]"
   ]
  },
  {
   "cell_type": "code",
   "execution_count": 28,
   "metadata": {
    "collapsed": true
   },
   "outputs": [],
   "source": [
    "PCSI0072_dataframe.to_csv('PCSI0072.csv')"
   ]
  },
  {
   "cell_type": "code",
   "execution_count": 30,
   "metadata": {
    "collapsed": true
   },
   "outputs": [],
   "source": [
    "#Now we have variable importance ...lets do analysis"
   ]
  },
  {
   "cell_type": "code",
   "execution_count": 29,
   "metadata": {
    "collapsed": false
   },
   "outputs": [],
   "source": [
    "%load_ext rpy2.ipython"
   ]
  },
  {
   "cell_type": "code",
   "execution_count": 30,
   "metadata": {
    "collapsed": false
   },
   "outputs": [
    {
     "data": {
      "text/plain": [
       "'data.frame':\t83808 obs. of  15 variables:\n",
       " $ X              : int  0 1 2 3 4 5 6 7 8 9 ...\n",
       " $ RefAllele      : int  141 133 69 95 196 45 44 24 64 40 ...\n",
       " $ NonRefAllele   : int  43 23 32 19 42 4 24 18 12 13 ...\n",
       " $ BaseQual       : int  4819 3037 3047 3588 7167 1572 2084 1297 2392 1516 ...\n",
       " $ TumourCoverage : int  193 168 106 120 244 49 69 43 76 54 ...\n",
       " $ NormalCoverage : int  383 383 76 153 211 20 24 23 48 43 ...\n",
       " $ MapQual        : num  17 20 16 0 17 20 12 19 20 37 ...\n",
       " $ ReadPosition   : num  47 21 67 60 40 55 51 56 61.5 61 ...\n",
       " $ Trinucleotide  : Factor w/ 32 levels \"ACA\",\"ACC\",\"ACG\",..: 13 13 10 12 18 25 26 24 2 3 ...\n",
       " $ HomopolymerRate: num  4.9 5.62 2.33 2.61 2.39 ...\n",
       " $ GCcontent      : num  0.498 0.537 0.517 0.632 0.488 ...\n",
       " $ GenomicLocation: Factor w/ 14 levels \"\",\"downstream\",..: 1 1 8 8 1 1 5 5 5 5 ...\n",
       " $ DistanceSNP    : int  42058 41886 35981 34644 32094 489 6628 10539 12689 3405 ...\n",
       " $ StrandBias     : num  0.28 0.167 0.557 0.5 0.488 ...\n",
       " $ Label          : num  0 0 0 0 0 0 0 0 0 0 ...\n"
      ]
     },
     "metadata": {},
     "output_type": "display_data"
    }
   ],
   "source": [
    "%%R\n",
    "# Read in the data\n",
    "PCSI0072Frame = read.csv(\"PCSI0072.csv\")\n",
    "str(PCSI0072Frame)"
   ]
  },
  {
   "cell_type": "code",
   "execution_count": 31,
   "metadata": {
    "collapsed": false
   },
   "outputs": [
    {
     "data": {
      "text/plain": [
       "[1] 0\n"
      ]
     },
     "metadata": {},
     "output_type": "display_data"
    }
   ],
   "source": [
    "%%R\n",
    "#sum(is.na(CPCG0183Frame$StrandBias))\n",
    "#sum(is.na(IS1Frame$ReadPosition)) \n",
    "sum(is.na(PCSI0072Frame)) "
   ]
  },
  {
   "cell_type": "code",
   "execution_count": 34,
   "metadata": {
    "collapsed": false
   },
   "outputs": [],
   "source": [
    "#%%R\n",
    "#CPCG0235Frame$ReadPosition[is.na(CPCG0235Frame$ReadPosition)] = mean(CPCG0235Frame$ReadPosition, na.rm=TRUE)\n",
    "#CPCG0235Frame$StrandBias[is.na(CPCG0235Frame$StrandBias)] = mean(CPCG0235Frame$StrandBias, na.rm=TRUE)\n",
    "\n",
    "#print (sum(is.na(CPCG0235Frame$ReadPosition)) )\n",
    "#print (sum(is.na(CPCG0235Frame$StrandBias)) )"
   ]
  },
  {
   "cell_type": "code",
   "execution_count": 32,
   "metadata": {
    "collapsed": false
   },
   "outputs": [
    {
     "data": {
      "text/plain": [
       "[1] 0\n"
      ]
     },
     "metadata": {},
     "output_type": "display_data"
    }
   ],
   "source": [
    "%%R\n",
    "sum(is.na(PCSI0072Frame))  #No NA value now"
   ]
  },
  {
   "cell_type": "code",
   "execution_count": 33,
   "metadata": {
    "collapsed": true
   },
   "outputs": [],
   "source": [
    "%%R\n",
    "write.csv(PCSI0072Frame, file = \"PCSI0072_imputed.csv\")  #Cleaned CSV without NA"
   ]
  },
  {
   "cell_type": "code",
   "execution_count": 34,
   "metadata": {
    "collapsed": false
   },
   "outputs": [
    {
     "name": "stderr",
     "output_type": "stream",
     "text": [
      "/usr/local/lib/python2.7/dist-packages/rpy2/robjects/functions.py:106: UserWarning: Loading required package: statmod\n",
      "\n",
      "  res = super(Function, self).__call__(*new_args, **new_kwargs)\n",
      "/usr/local/lib/python2.7/dist-packages/rpy2/robjects/functions.py:106: UserWarning: \n",
      "----------------------------------------------------------------------\n",
      "\n",
      "Your next step is to start H2O:\n",
      "    > h2o.init()\n",
      "\n",
      "For H2O package documentation, ask for help:\n",
      "    > ??h2o\n",
      "\n",
      "After starting H2O, you can use the Web UI at http://localhost:54321\n",
      "For more information visit http://docs.h2o.ai\n",
      "\n",
      "----------------------------------------------------------------------\n",
      "\n",
      "\n",
      "  res = super(Function, self).__call__(*new_args, **new_kwargs)\n",
      "/usr/local/lib/python2.7/dist-packages/rpy2/robjects/functions.py:106: UserWarning: \n",
      "Attaching package: ‘h2o’\n",
      "\n",
      "\n",
      "  res = super(Function, self).__call__(*new_args, **new_kwargs)\n",
      "/usr/local/lib/python2.7/dist-packages/rpy2/robjects/functions.py:106: UserWarning: The following objects are masked from ‘package:stats’:\n",
      "\n",
      "    sd, var\n",
      "\n",
      "\n",
      "  res = super(Function, self).__call__(*new_args, **new_kwargs)\n",
      "/usr/local/lib/python2.7/dist-packages/rpy2/robjects/functions.py:106: UserWarning: The following objects are masked from ‘package:base’:\n",
      "\n",
      "    ||, &&, %*%, apply, as.factor, as.numeric, colnames, colnames<-,\n",
      "    ifelse, %in%, is.character, is.factor, is.numeric, log, log10,\n",
      "    log1p, log2, round, signif, trunc\n",
      "\n",
      "\n",
      "  res = super(Function, self).__call__(*new_args, **new_kwargs)\n"
     ]
    },
    {
     "data": {
      "text/plain": [
       " Connection successful!\n",
       "\n",
       "R is connected to the H2O cluster: \n",
       "    H2O cluster uptime:         1 hours 29 minutes \n",
       "    H2O cluster version:        3.9.1.3435 \n",
       "    H2O cluster name:           H2O_started_from_R_rbhat_xqb196 \n",
       "    H2O cluster total nodes:    1 \n",
       "    H2O cluster total memory:   26.56 GB \n",
       "    H2O cluster total cores:    56 \n",
       "    H2O cluster allowed cores:  2 \n",
       "    H2O cluster healthy:        TRUE \n",
       "    H2O Connection ip:          localhost \n",
       "    H2O Connection port:        54321 \n",
       "    H2O Connection proxy:       NA \n",
       "    R Version:                  R version 3.3.0 beta (2016-03-30 r70404) \n",
       "\n"
      ]
     },
     "metadata": {},
     "output_type": "display_data"
    }
   ],
   "source": [
    "%%R\n",
    "library(h2o)\n",
    "localH2O = h2o.init(ip = \"localhost\", port = 54321, startH2O = TRUE,min_mem_size = \"3g\")"
   ]
  },
  {
   "cell_type": "code",
   "execution_count": 77,
   "metadata": {
    "collapsed": false
   },
   "outputs": [
    {
     "data": {
      "text/plain": [
       "\r",
       "  |                                                                            \r",
       "  |                                                                      |   0%\r",
       "  |                                                                            \r",
       "  |=======                                                               |  10%\r",
       "  |                                                                            \r",
       "  |======================================================================| 100%\n",
       "'data.frame':\t83808 obs. of  16 variables:\n",
       " $ C1             : int  1 2 3 4 5 6 7 8 9 10 ...\n",
       " $ X              : int  0 1 2 3 4 5 6 7 8 9 ...\n",
       " $ RefAllele      : int  141 133 69 95 196 45 44 24 64 40 ...\n",
       " $ NonRefAllele   : int  43 23 32 19 42 4 24 18 12 13 ...\n",
       " $ BaseQual       : int  4819 3037 3047 3588 7167 1572 2084 1297 2392 1516 ...\n",
       " $ TumourCoverage : int  193 168 106 120 244 49 69 43 76 54 ...\n",
       " $ NormalCoverage : int  383 383 76 153 211 20 24 23 48 43 ...\n",
       " $ MapQual        : num  17 20 16 0 17 20 12 19 20 37 ...\n",
       " $ ReadPosition   : num  47 21 67 60 40 55 51 56 61.5 61 ...\n",
       " $ Trinucleotide  : Factor w/ 32 levels \"ACA\",\"ACC\",\"ACG\",..: 13 13 10 12 18 25 26 24 2 3 ...\n",
       " $ HomopolymerRate: num  4.9 5.62 2.33 2.61 2.39 ...\n",
       " $ GCcontent      : num  0.498 0.537 0.517 0.632 0.488 ...\n",
       " $ GenomicLocation: Factor w/ 13 levels \"downstream\",\"exonic\",..: NA NA 7 7 NA NA 4 4 4 4 ...\n",
       " $ DistanceSNP    : int  42058 41886 35981 34644 32094 489 6628 10539 12689 3405 ...\n",
       " $ StrandBias     : num  0.28 0.167 0.557 0.5 0.488 ...\n",
       " $ Label          : int  0 0 0 0 0 0 0 0 0 0 ...\n"
      ]
     },
     "metadata": {},
     "output_type": "display_data"
    }
   ],
   "source": [
    "%%R\n",
    "## Import CSV as H2O:\n",
    "csvPath = \"/home/rbhat/Workspace/S3Lab_Projects/SMC-MetaChallange/PCSI0072_imputed.csv\"\n",
    "PCSI0072.hex          = h2o.importFile(path = csvPath, destination_frame = \"PCSI0072.hex\") \n",
    "train                 = as.data.frame(PCSI0072.hex)\n",
    "\n",
    "str(train)"
   ]
  },
  {
   "cell_type": "code",
   "execution_count": 78,
   "metadata": {
    "collapsed": false
   },
   "outputs": [
    {
     "data": {
      "text/plain": [
       "\r",
       "  |                                                                            \r",
       "  |                                                                      |   0%\r",
       "  |                                                                            \r",
       "  |======================================================================| 100%\n"
      ]
     },
     "metadata": {},
     "output_type": "display_data"
    }
   ],
   "source": [
    "%%R\n",
    "\n",
    "train$Trinucleotide   = as.factor(train$Trinucleotide)\n",
    "train$GenomicLocation = as.factor(train$GenomicLocation)\n",
    "train$Label           = as.factor(train$Label)\n",
    "\n",
    "train_h2o             = as.h2o(train)"
   ]
  },
  {
   "cell_type": "code",
   "execution_count": 79,
   "metadata": {
    "collapsed": false
   },
   "outputs": [
    {
     "data": {
      "text/plain": [
       "\r",
       "  |                                                                            \r",
       "  |                                                                      |   0%\r",
       "  |                                                                            \r",
       "  |===                                                                   |   5%\r",
       "  |                                                                            \r",
       "  |==========                                                            |  14%\r",
       "  |                                                                            \r",
       "  |=================                                                     |  24%\r",
       "  |                                                                            \r",
       "  |=======================                                               |  33%\r",
       "  |                                                                            \r",
       "  |==============================                                        |  43%\r",
       "  |                                                                            \r",
       "  |=====================================                                 |  53%\r",
       "  |                                                                            \r",
       "  |=============================================                         |  64%\r",
       "  |                                                                            \r",
       "  |=====================================================                 |  76%\r",
       "  |                                                                            \r",
       "  |============================================================          |  86%\r",
       "  |                                                                            \r",
       "  |===================================================================   |  95%\r",
       "  |                                                                            \r",
       "  |======================================================================| 100%\n"
      ]
     },
     "metadata": {},
     "output_type": "display_data"
    }
   ],
   "source": [
    "%%R\n",
    "#Training a deep learning model:---------------------------------------------------------#\n",
    "model <- h2o.deeplearning( x = 3:15, # column numbers for predictors\n",
    "                           y = 16,            # column number for label\n",
    "                           training_frame = train_h2o,\n",
    "                           activation = \"RectifierWithDropout\", \n",
    "                           input_dropout_ratio = 0.2,\n",
    "                           hidden_dropout_ratios = c(0.5,0.5),\n",
    "                           balance_classes = TRUE, \n",
    "                           hidden = c(10,8),  ## two hidden layers\n",
    "                           epochs = 50,\n",
    "                           variable_importances = T)"
   ]
  },
  {
   "cell_type": "code",
   "execution_count": 80,
   "metadata": {
    "collapsed": false
   },
   "outputs": [
    {
     "data": {
      "text/plain": [
       "Variable Importances: \n",
       "        variable relative_importance scaled_importance percentage\n",
       "1 NormalCoverage            1.000000          1.000000   0.055532\n",
       "2        MapQual            0.931967          0.931967   0.051754\n",
       "3   NonRefAllele            0.884391          0.884391   0.049112\n",
       "4      RefAllele            0.705659          0.705659   0.039187\n",
       "5       BaseQual            0.539393          0.539393   0.029954\n",
       "\n",
       "---\n",
       "                    variable relative_importance scaled_importance percentage\n",
       "53         Trinucleotide.TTT            0.164587          0.164587   0.009140\n",
       "54         Trinucleotide.TCA            0.156205          0.156205   0.008674\n",
       "55         Trinucleotide.GCA            0.151291          0.151291   0.008402\n",
       "56                 GCcontent            0.086329          0.086329   0.004794\n",
       "57                StrandBias            0.071138          0.071138   0.003950\n",
       "58 Trinucleotide.missing(NA)            0.000000          0.000000   0.000000\n"
      ]
     },
     "metadata": {},
     "output_type": "display_data"
    }
   ],
   "source": [
    "%%R\n",
    "var_importance = h2o.varimp(model)\n",
    "#print(var_importance)\n",
    "h2o.varimp(model)"
   ]
  },
  {
   "cell_type": "code",
   "execution_count": 81,
   "metadata": {
    "collapsed": true
   },
   "outputs": [],
   "source": [
    "%%R\n",
    "write.table(var_importance, file=\"PCSI0072_variable_importance.csv\")"
   ]
  },
  {
   "cell_type": "code",
   "execution_count": 82,
   "metadata": {
    "collapsed": true
   },
   "outputs": [],
   "source": [
    "var_importance = pd.read_csv(open('PCSI0072_variable_importance.csv','r'),sep=' ')\n",
    "#pd.read_csv('CPCG0100_variable_importance.csv')"
   ]
  },
  {
   "cell_type": "code",
   "execution_count": 83,
   "metadata": {
    "collapsed": false
   },
   "outputs": [
    {
     "data": {
      "text/html": [
       "<div style=\"max-height:1000px;max-width:1500px;overflow:auto;\">\n",
       "<table border=\"1\" class=\"dataframe\">\n",
       "  <thead>\n",
       "    <tr style=\"text-align: right;\">\n",
       "      <th></th>\n",
       "      <th>variable</th>\n",
       "      <th>relative_importance</th>\n",
       "      <th>scaled_importance</th>\n",
       "      <th>percentage</th>\n",
       "    </tr>\n",
       "  </thead>\n",
       "  <tbody>\n",
       "    <tr>\n",
       "      <th>1</th>\n",
       "      <td> NormalCoverage</td>\n",
       "      <td> 1.000000</td>\n",
       "      <td> 1.000000</td>\n",
       "      <td> 0.055532</td>\n",
       "    </tr>\n",
       "    <tr>\n",
       "      <th>2</th>\n",
       "      <td>        MapQual</td>\n",
       "      <td> 0.931967</td>\n",
       "      <td> 0.931967</td>\n",
       "      <td> 0.051754</td>\n",
       "    </tr>\n",
       "    <tr>\n",
       "      <th>3</th>\n",
       "      <td>   NonRefAllele</td>\n",
       "      <td> 0.884391</td>\n",
       "      <td> 0.884391</td>\n",
       "      <td> 0.049112</td>\n",
       "    </tr>\n",
       "    <tr>\n",
       "      <th>4</th>\n",
       "      <td>      RefAllele</td>\n",
       "      <td> 0.705659</td>\n",
       "      <td> 0.705659</td>\n",
       "      <td> 0.039187</td>\n",
       "    </tr>\n",
       "    <tr>\n",
       "      <th>5</th>\n",
       "      <td>       BaseQual</td>\n",
       "      <td> 0.539393</td>\n",
       "      <td> 0.539393</td>\n",
       "      <td> 0.029954</td>\n",
       "    </tr>\n",
       "  </tbody>\n",
       "</table>\n",
       "<p>5 rows × 4 columns</p>\n",
       "</div>"
      ],
      "text/plain": [
       "         variable  relative_importance  scaled_importance  percentage\n",
       "1  NormalCoverage             1.000000           1.000000    0.055532\n",
       "2         MapQual             0.931967           0.931967    0.051754\n",
       "3    NonRefAllele             0.884391           0.884391    0.049112\n",
       "4       RefAllele             0.705659           0.705659    0.039187\n",
       "5        BaseQual             0.539393           0.539393    0.029954\n",
       "\n",
       "[5 rows x 4 columns]"
      ]
     },
     "execution_count": 83,
     "metadata": {},
     "output_type": "execute_result"
    }
   ],
   "source": [
    "var_importance[:5]"
   ]
  },
  {
   "cell_type": "code",
   "execution_count": 84,
   "metadata": {
    "collapsed": false
   },
   "outputs": [
    {
     "data": {
      "text/html": [
       "<div style=\"max-height:1000px;max-width:1500px;overflow:auto;\">\n",
       "<table border=\"1\" class=\"dataframe\">\n",
       "  <thead>\n",
       "    <tr style=\"text-align: right;\">\n",
       "      <th></th>\n",
       "      <th>CHROM</th>\n",
       "      <th>POS</th>\n",
       "      <th>RefAllele</th>\n",
       "      <th>NonRefAllele</th>\n",
       "      <th>BaseQual</th>\n",
       "      <th>TumourCoverage</th>\n",
       "      <th>NormalCoverage</th>\n",
       "      <th>MapQual</th>\n",
       "      <th>ReadPosition</th>\n",
       "      <th>Trinucleotide</th>\n",
       "      <th>HomopolymerRate</th>\n",
       "      <th>GCcontent</th>\n",
       "      <th>GenomicLocation</th>\n",
       "      <th>DistanceSNP</th>\n",
       "      <th>StrandBias</th>\n",
       "    </tr>\n",
       "  </thead>\n",
       "  <tbody>\n",
       "    <tr>\n",
       "      <th>0</th>\n",
       "      <td> chr1</td>\n",
       "      <td> 10180</td>\n",
       "      <td> 141</td>\n",
       "      <td> 43</td>\n",
       "      <td> 4819</td>\n",
       "      <td> 193</td>\n",
       "      <td> 383</td>\n",
       "      <td> 17</td>\n",
       "      <td> 47</td>\n",
       "      <td> CTA</td>\n",
       "      <td> 4.897959</td>\n",
       "      <td> 0.497512</td>\n",
       "      <td>            NaN</td>\n",
       "      <td> 42058</td>\n",
       "      <td> 0.279793</td>\n",
       "    </tr>\n",
       "    <tr>\n",
       "      <th>1</th>\n",
       "      <td> chr1</td>\n",
       "      <td> 10352</td>\n",
       "      <td> 133</td>\n",
       "      <td> 23</td>\n",
       "      <td> 3037</td>\n",
       "      <td> 168</td>\n",
       "      <td> 383</td>\n",
       "      <td> 20</td>\n",
       "      <td> 21</td>\n",
       "      <td> CTA</td>\n",
       "      <td> 5.623656</td>\n",
       "      <td> 0.537313</td>\n",
       "      <td>            NaN</td>\n",
       "      <td> 41886</td>\n",
       "      <td> 0.166667</td>\n",
       "    </tr>\n",
       "    <tr>\n",
       "      <th>2</th>\n",
       "      <td> chr1</td>\n",
       "      <td> 16257</td>\n",
       "      <td>  69</td>\n",
       "      <td> 32</td>\n",
       "      <td> 3047</td>\n",
       "      <td> 106</td>\n",
       "      <td>  76</td>\n",
       "      <td> 16</td>\n",
       "      <td> 67</td>\n",
       "      <td> CCC</td>\n",
       "      <td> 2.333333</td>\n",
       "      <td> 0.517413</td>\n",
       "      <td> ncRNA_intronic</td>\n",
       "      <td> 35981</td>\n",
       "      <td> 0.556604</td>\n",
       "    </tr>\n",
       "    <tr>\n",
       "      <th>3</th>\n",
       "      <td> chr1</td>\n",
       "      <td> 17594</td>\n",
       "      <td>  95</td>\n",
       "      <td> 19</td>\n",
       "      <td> 3588</td>\n",
       "      <td> 120</td>\n",
       "      <td> 153</td>\n",
       "      <td>  0</td>\n",
       "      <td> 60</td>\n",
       "      <td> CCT</td>\n",
       "      <td> 2.605634</td>\n",
       "      <td> 0.631841</td>\n",
       "      <td> ncRNA_intronic</td>\n",
       "      <td> 34644</td>\n",
       "      <td> 0.500000</td>\n",
       "    </tr>\n",
       "    <tr>\n",
       "      <th>4</th>\n",
       "      <td> chr1</td>\n",
       "      <td> 20144</td>\n",
       "      <td> 196</td>\n",
       "      <td> 42</td>\n",
       "      <td> 7167</td>\n",
       "      <td> 244</td>\n",
       "      <td> 211</td>\n",
       "      <td> 17</td>\n",
       "      <td> 40</td>\n",
       "      <td> GCC</td>\n",
       "      <td> 2.394558</td>\n",
       "      <td> 0.487562</td>\n",
       "      <td>            NaN</td>\n",
       "      <td> 32094</td>\n",
       "      <td> 0.487705</td>\n",
       "    </tr>\n",
       "  </tbody>\n",
       "</table>\n",
       "<p>5 rows × 15 columns</p>\n",
       "</div>"
      ],
      "text/plain": [
       "  CHROM    POS  RefAllele  NonRefAllele  BaseQual  TumourCoverage  \\\n",
       "0  chr1  10180        141            43      4819             193   \n",
       "1  chr1  10352        133            23      3037             168   \n",
       "2  chr1  16257         69            32      3047             106   \n",
       "3  chr1  17594         95            19      3588             120   \n",
       "4  chr1  20144        196            42      7167             244   \n",
       "\n",
       "   NormalCoverage  MapQual  ReadPosition Trinucleotide  HomopolymerRate  \\\n",
       "0             383       17            47           CTA         4.897959   \n",
       "1             383       20            21           CTA         5.623656   \n",
       "2              76       16            67           CCC         2.333333   \n",
       "3             153        0            60           CCT         2.605634   \n",
       "4             211       17            40           GCC         2.394558   \n",
       "\n",
       "   GCcontent GenomicLocation  DistanceSNP  StrandBias  \n",
       "0   0.497512             NaN        42058    0.279793  \n",
       "1   0.537313             NaN        41886    0.166667  \n",
       "2   0.517413  ncRNA_intronic        35981    0.556604  \n",
       "3   0.631841  ncRNA_intronic        34644    0.500000  \n",
       "4   0.487562             NaN        32094    0.487705  \n",
       "\n",
       "[5 rows x 15 columns]"
      ]
     },
     "execution_count": 84,
     "metadata": {},
     "output_type": "execute_result"
    }
   ],
   "source": [
    "GenomicFeatures_PCSI0072[:5]"
   ]
  },
  {
   "cell_type": "code",
   "execution_count": 85,
   "metadata": {
    "collapsed": false
   },
   "outputs": [
    {
     "data": {
      "text/plain": [
       "{'BaseQual': 0.539392650127411,\n",
       " 'DistanceSNP': 0.30066937208175698,\n",
       " 'GCcontent': 0.086329311132430989,\n",
       " 'GenomicLocation.UTR3': 0.30057114362716703,\n",
       " 'GenomicLocation.UTR5': 0.30757862329483004,\n",
       " 'GenomicLocation.downstream': 0.30733063817024203,\n",
       " 'GenomicLocation.exonic': 0.29277893900871305,\n",
       " 'GenomicLocation.exonic;splicing': 0.31011497974395802,\n",
       " 'GenomicLocation.intergenic': 0.17532567679882002,\n",
       " 'GenomicLocation.intronic': 0.18094779551029197,\n",
       " 'GenomicLocation.missing(NA)': 0.24602952599525499,\n",
       " 'GenomicLocation.ncRNA_UTR3': 0.21987646818161,\n",
       " 'GenomicLocation.ncRNA_exonic': 0.306052356958389,\n",
       " 'GenomicLocation.ncRNA_intronic': 0.33912152051925704,\n",
       " 'GenomicLocation.splicing': 0.31590369343757602,\n",
       " 'GenomicLocation.upstream': 0.28076151013374301,\n",
       " 'GenomicLocation.upstream;downstream': 0.34965798258781394,\n",
       " 'HomopolymerRate': 0.40177556872367898,\n",
       " 'MapQual': 0.93196684122085605,\n",
       " 'NonRefAllele': 0.8843907117843629,\n",
       " 'NormalCoverage': 1.0,\n",
       " 'ReadPosition': 0.182333409786224,\n",
       " 'RefAllele': 0.70565861463546797,\n",
       " 'StrandBias': 0.071138240396976499,\n",
       " 'Trinucleotide.ACA': 0.45240074396133401,\n",
       " 'Trinucleotide.ACC': 0.18546004593372303,\n",
       " 'Trinucleotide.ACG': 0.33559137582778903,\n",
       " 'Trinucleotide.ACT': 0.240456357598305,\n",
       " 'Trinucleotide.ATA': 0.42364907264709495,\n",
       " 'Trinucleotide.ATC': 0.26361799240112299,\n",
       " 'Trinucleotide.ATG': 0.23263344168663,\n",
       " 'Trinucleotide.ATT': 0.33907118439674394,\n",
       " 'Trinucleotide.CCA': 0.27316823601722701,\n",
       " 'Trinucleotide.CCC': 0.275085479021072,\n",
       " 'Trinucleotide.CCG': 0.33621522784233099,\n",
       " 'Trinucleotide.CCT': 0.23613084852695498,\n",
       " 'Trinucleotide.CTA': 0.20305615663528401,\n",
       " 'Trinucleotide.CTC': 0.29844042658805797,\n",
       " 'Trinucleotide.CTG': 0.31062996387481701,\n",
       " 'Trinucleotide.CTT': 0.24948863685131098,\n",
       " 'Trinucleotide.GCA': 0.151291474699974,\n",
       " 'Trinucleotide.GCC': 0.24023936688900002,\n",
       " 'Trinucleotide.GCG': 0.26384511590004001,\n",
       " 'Trinucleotide.GCT': 0.213523209095001,\n",
       " 'Trinucleotide.GTA': 0.27346476912498502,\n",
       " 'Trinucleotide.GTC': 0.24655997753143302,\n",
       " 'Trinucleotide.GTG': 0.42600005865096996,\n",
       " 'Trinucleotide.GTT': 0.27021291851997403,\n",
       " 'Trinucleotide.TCA': 0.156204849481583,\n",
       " 'Trinucleotide.TCC': 0.23547722399234802,\n",
       " 'Trinucleotide.TCG': 0.17081749439239499,\n",
       " 'Trinucleotide.TCT': 0.35566183924675004,\n",
       " 'Trinucleotide.TTA': 0.20753091573715199,\n",
       " 'Trinucleotide.TTC': 0.273061633110046,\n",
       " 'Trinucleotide.TTG': 0.23544380068779,\n",
       " 'Trinucleotide.TTT': 0.16458699107170099,\n",
       " 'Trinucleotide.missing(NA)': 0.0,\n",
       " 'TumourCoverage': 0.432873725891113}"
      ]
     },
     "execution_count": 85,
     "metadata": {},
     "output_type": "execute_result"
    }
   ],
   "source": [
    "var_imp_dict = {}\n",
    "\n",
    "for i in range(var_importance.shape[0]):\n",
    "    var_imp_dict[var_importance.iloc[i,0]] = var_importance.iloc[i,1]\n",
    "\n",
    "var_imp_dict"
   ]
  },
  {
   "cell_type": "code",
   "execution_count": 86,
   "metadata": {
    "collapsed": false
   },
   "outputs": [
    {
     "data": {
      "text/plain": [
       "Index([u'CHROM', u'POS', u'RefAllele', u'NonRefAllele', u'BaseQual', u'TumourCoverage', u'NormalCoverage', u'MapQual', u'ReadPosition', u'Trinucleotide', u'HomopolymerRate', u'GCcontent', u'GenomicLocation', u'DistanceSNP', u'StrandBias'], dtype='object')"
      ]
     },
     "execution_count": 86,
     "metadata": {},
     "output_type": "execute_result"
    }
   ],
   "source": [
    "GenomicFeatures_PCSI0072.columns"
   ]
  },
  {
   "cell_type": "code",
   "execution_count": 87,
   "metadata": {
    "collapsed": false
   },
   "outputs": [
    {
     "data": {
      "text/plain": [
       "CHROM               object\n",
       "POS                  int64\n",
       "RefAllele            int64\n",
       "NonRefAllele         int64\n",
       "BaseQual             int64\n",
       "TumourCoverage       int64\n",
       "NormalCoverage       int64\n",
       "MapQual            float64\n",
       "ReadPosition       float64\n",
       "Trinucleotide       object\n",
       "HomopolymerRate    float64\n",
       "GCcontent          float64\n",
       "GenomicLocation     object\n",
       "DistanceSNP          int64\n",
       "StrandBias         float64\n",
       "dtype: object"
      ]
     },
     "execution_count": 87,
     "metadata": {},
     "output_type": "execute_result"
    }
   ],
   "source": [
    "GenomicFeatures_PCSI0072.dtypes"
   ]
  },
  {
   "cell_type": "code",
   "execution_count": 88,
   "metadata": {
    "collapsed": false
   },
   "outputs": [
    {
     "data": {
      "text/plain": [
       "42058"
      ]
     },
     "execution_count": 88,
     "metadata": {},
     "output_type": "execute_result"
    }
   ],
   "source": [
    "GenomicFeatures_PCSI0072.iloc[0,13]"
   ]
  },
  {
   "cell_type": "code",
   "execution_count": 89,
   "metadata": {
    "collapsed": false
   },
   "outputs": [
    {
     "data": {
      "text/html": [
       "<div style=\"max-height:1000px;max-width:1500px;overflow:auto;\">\n",
       "<table border=\"1\" class=\"dataframe\">\n",
       "  <thead>\n",
       "    <tr style=\"text-align: right;\">\n",
       "      <th></th>\n",
       "      <th>CHROM</th>\n",
       "      <th>POS</th>\n",
       "      <th>RefAllele</th>\n",
       "      <th>NonRefAllele</th>\n",
       "      <th>BaseQual</th>\n",
       "      <th>TumourCoverage</th>\n",
       "      <th>NormalCoverage</th>\n",
       "      <th>MapQual</th>\n",
       "      <th>ReadPosition</th>\n",
       "      <th>Trinucleotide</th>\n",
       "      <th>HomopolymerRate</th>\n",
       "      <th>GCcontent</th>\n",
       "      <th>GenomicLocation</th>\n",
       "      <th>DistanceSNP</th>\n",
       "      <th>StrandBias</th>\n",
       "    </tr>\n",
       "  </thead>\n",
       "  <tbody>\n",
       "    <tr>\n",
       "      <th>0</th>\n",
       "      <td> chr1</td>\n",
       "      <td> 10180</td>\n",
       "      <td> 141</td>\n",
       "      <td> 43</td>\n",
       "      <td> 4819</td>\n",
       "      <td> 193</td>\n",
       "      <td> 383</td>\n",
       "      <td> 17</td>\n",
       "      <td> 47</td>\n",
       "      <td> CTA</td>\n",
       "      <td> 4.897959</td>\n",
       "      <td> 0.497512</td>\n",
       "      <td> NaN</td>\n",
       "      <td> 42058</td>\n",
       "      <td> 0.279793</td>\n",
       "    </tr>\n",
       "    <tr>\n",
       "      <th>1</th>\n",
       "      <td> chr1</td>\n",
       "      <td> 10352</td>\n",
       "      <td> 133</td>\n",
       "      <td> 23</td>\n",
       "      <td> 3037</td>\n",
       "      <td> 168</td>\n",
       "      <td> 383</td>\n",
       "      <td> 20</td>\n",
       "      <td> 21</td>\n",
       "      <td> CTA</td>\n",
       "      <td> 5.623656</td>\n",
       "      <td> 0.537313</td>\n",
       "      <td> NaN</td>\n",
       "      <td> 41886</td>\n",
       "      <td> 0.166667</td>\n",
       "    </tr>\n",
       "  </tbody>\n",
       "</table>\n",
       "<p>2 rows × 15 columns</p>\n",
       "</div>"
      ],
      "text/plain": [
       "  CHROM    POS  RefAllele  NonRefAllele  BaseQual  TumourCoverage  \\\n",
       "0  chr1  10180        141            43      4819             193   \n",
       "1  chr1  10352        133            23      3037             168   \n",
       "\n",
       "   NormalCoverage  MapQual  ReadPosition Trinucleotide  HomopolymerRate  \\\n",
       "0             383       17            47           CTA         4.897959   \n",
       "1             383       20            21           CTA         5.623656   \n",
       "\n",
       "   GCcontent GenomicLocation  DistanceSNP  StrandBias  \n",
       "0   0.497512             NaN        42058    0.279793  \n",
       "1   0.537313             NaN        41886    0.166667  \n",
       "\n",
       "[2 rows x 15 columns]"
      ]
     },
     "execution_count": 89,
     "metadata": {},
     "output_type": "execute_result"
    }
   ],
   "source": [
    "GenomicFeatures_PCSI0072[:2]\n",
    "#print GenomicFeatures_IS1.iloc[0,2]"
   ]
  },
  {
   "cell_type": "code",
   "execution_count": 90,
   "metadata": {
    "collapsed": false
   },
   "outputs": [],
   "source": [
    "noOfSample = GenomicFeatures_PCSI0072.shape[0]\n",
    "\n",
    "PCSI0072_Dict = {}\n",
    "\n",
    "for i in range(noOfSample):\n",
    "    \n",
    "    pos = GenomicFeatures_PCSI0072.iloc[i,1] #gets the pos value\n",
    "    \n",
    "    RefAllele      = GenomicFeatures_PCSI0072.iloc[i,2]*var_imp_dict['RefAllele']\n",
    "    NonRefAllele   = GenomicFeatures_PCSI0072.iloc[i,3]*var_imp_dict['NonRefAllele']\n",
    "    BaseQual       = GenomicFeatures_PCSI0072.iloc[i,4]*var_imp_dict['BaseQual']\n",
    "    TumourCoverage = GenomicFeatures_PCSI0072.iloc[i,5]*var_imp_dict['TumourCoverage']\n",
    "    NormalCoverage = GenomicFeatures_PCSI0072.iloc[i,6]*var_imp_dict['NormalCoverage']\n",
    "    MapQual        = GenomicFeatures_PCSI0072.iloc[i,7]*var_imp_dict['MapQual']\n",
    "    ReadPosition   = GenomicFeatures_PCSI0072.iloc[i,8]*var_imp_dict['ReadPosition']\n",
    "    \n",
    "    Trinucleotide  = 0\n",
    "    if isinstance(GenomicFeatures_PCSI0072.iloc[i,9], str):\n",
    "        Trinucleotide  = var_imp_dict['Trinucleotide.'+str(GenomicFeatures_PCSI0072.iloc[i,9])]\n",
    "    HomopolymerRate= GenomicFeatures_PCSI0072.iloc[i,10]*var_imp_dict['HomopolymerRate']\n",
    "    GCcontent      = GenomicFeatures_PCSI0072.iloc[i,11]*var_imp_dict['GCcontent']\n",
    "    \n",
    "    GenomicLocation = 0\n",
    "    if isinstance(GenomicFeatures_PCSI0072.iloc[i,12], str):\n",
    "        GenomicLocation= var_imp_dict['GenomicLocation.'+str(GenomicFeatures_PCSI0072.iloc[i,12])]\n",
    "    DistanceSNP    = GenomicFeatures_PCSI0072.iloc[i,13]*var_imp_dict['DistanceSNP']\n",
    "    StrandBias     = GenomicFeatures_PCSI0072.iloc[i,14]*var_imp_dict['StrandBias']\n",
    "    \n",
    "    #print 'RefAllele=',RefAllele,' NonRefAllele=',NonRefAllele,' BaseQual=',BaseQual,' TumourCoverage=',TumourCoverage\n",
    "    #print 'NormalCoverage=',NormalCoverage,' MapQual=',MapQual,' ReadPosition=',ReadPosition,' Trinucleotide=',Trinucleotide\n",
    "    #print 'HomopolymerRate=',HomopolymerRate,' GCcontent=',GCcontent,' GenomicLocation=',GenomicLocation,' Distance=',Distance\n",
    "    #print 'StrandBias=',StrandBias\n",
    "    PCSI0072_Dict[pos] = RefAllele+NonRefAllele+BaseQual+TumourCoverage+NormalCoverage+MapQual+ReadPosition+Trinucleotide+ \\\n",
    "                         HomopolymerRate+GCcontent+GenomicLocation+DistanceSNP+StrandBias"
   ]
  },
  {
   "cell_type": "code",
   "execution_count": 91,
   "metadata": {
    "collapsed": true
   },
   "outputs": [],
   "source": [
    "#Sorting dictionary\n",
    "PCSI0072_Dict1 = [(k,v) for v,k in sorted([(v,k) for k,v in PCSI0072_Dict.items()],reverse=True)]"
   ]
  },
  {
   "cell_type": "code",
   "execution_count": 92,
   "metadata": {
    "collapsed": true
   },
   "outputs": [],
   "source": [
    "PCSI0072_Dict_Frame = pd.DataFrame(PCSI0072_Dict1, columns=['POS', 'Value'])"
   ]
  },
  {
   "cell_type": "code",
   "execution_count": 93,
   "metadata": {
    "collapsed": false
   },
   "outputs": [],
   "source": [
    "PCSI0072_Dict_Frame.to_csv(\"PCSI0072_Dict_Frame.csv\")"
   ]
  },
  {
   "cell_type": "code",
   "execution_count": 94,
   "metadata": {
    "collapsed": false
   },
   "outputs": [],
   "source": [
    "PCSI0072_Dict_Frame = pd.read_csv(\"PCSI0072_Dict_Frame.csv\")"
   ]
  },
  {
   "cell_type": "code",
   "execution_count": 95,
   "metadata": {
    "collapsed": false
   },
   "outputs": [
    {
     "data": {
      "text/html": [
       "<div style=\"max-height:1000px;max-width:1500px;overflow:auto;\">\n",
       "<table border=\"1\" class=\"dataframe\">\n",
       "  <thead>\n",
       "    <tr style=\"text-align: right;\">\n",
       "      <th></th>\n",
       "      <th>Unnamed: 0</th>\n",
       "      <th>POS</th>\n",
       "      <th>Value</th>\n",
       "    </tr>\n",
       "  </thead>\n",
       "  <tbody>\n",
       "    <tr>\n",
       "      <th>0</th>\n",
       "      <td> 0</td>\n",
       "      <td> 58883659</td>\n",
       "      <td> 9179216.631793</td>\n",
       "    </tr>\n",
       "    <tr>\n",
       "      <th>1</th>\n",
       "      <td> 1</td>\n",
       "      <td> 58866011</td>\n",
       "      <td> 9127153.465830</td>\n",
       "    </tr>\n",
       "    <tr>\n",
       "      <th>2</th>\n",
       "      <td> 2</td>\n",
       "      <td> 58862718</td>\n",
       "      <td> 9122670.614667</td>\n",
       "    </tr>\n",
       "    <tr>\n",
       "      <th>3</th>\n",
       "      <td> 3</td>\n",
       "      <td> 58997006</td>\n",
       "      <td> 9119838.337494</td>\n",
       "    </tr>\n",
       "    <tr>\n",
       "      <th>4</th>\n",
       "      <td> 4</td>\n",
       "      <td> 58997003</td>\n",
       "      <td> 9119250.618114</td>\n",
       "    </tr>\n",
       "    <tr>\n",
       "      <th>5</th>\n",
       "      <td> 5</td>\n",
       "      <td> 58997017</td>\n",
       "      <td> 9117302.044931</td>\n",
       "    </tr>\n",
       "    <tr>\n",
       "      <th>6</th>\n",
       "      <td> 6</td>\n",
       "      <td> 58997030</td>\n",
       "      <td> 9111853.218646</td>\n",
       "    </tr>\n",
       "    <tr>\n",
       "      <th>7</th>\n",
       "      <td> 7</td>\n",
       "      <td> 58985571</td>\n",
       "      <td> 9100691.937100</td>\n",
       "    </tr>\n",
       "    <tr>\n",
       "      <th>8</th>\n",
       "      <td> 8</td>\n",
       "      <td> 58982822</td>\n",
       "      <td> 9097376.209808</td>\n",
       "    </tr>\n",
       "    <tr>\n",
       "      <th>9</th>\n",
       "      <td> 9</td>\n",
       "      <td> 58982814</td>\n",
       "      <td> 9096419.591402</td>\n",
       "    </tr>\n",
       "  </tbody>\n",
       "</table>\n",
       "<p>10 rows × 3 columns</p>\n",
       "</div>"
      ],
      "text/plain": [
       "   Unnamed: 0       POS           Value\n",
       "0           0  58883659  9179216.631793\n",
       "1           1  58866011  9127153.465830\n",
       "2           2  58862718  9122670.614667\n",
       "3           3  58997006  9119838.337494\n",
       "4           4  58997003  9119250.618114\n",
       "5           5  58997017  9117302.044931\n",
       "6           6  58997030  9111853.218646\n",
       "7           7  58985571  9100691.937100\n",
       "8           8  58982822  9097376.209808\n",
       "9           9  58982814  9096419.591402\n",
       "\n",
       "[10 rows x 3 columns]"
      ]
     },
     "execution_count": 95,
     "metadata": {},
     "output_type": "execute_result"
    }
   ],
   "source": [
    "PCSI0072_Dict_Frame[:10]"
   ]
  },
  {
   "cell_type": "code",
   "execution_count": 96,
   "metadata": {
    "collapsed": true
   },
   "outputs": [],
   "source": [
    "GenomicFeatures_PCSI0072_1 = pd.concat([PCSI0072.iloc[:,0:16], PCSI0072_Y_Val_1],axis=1)"
   ]
  },
  {
   "cell_type": "code",
   "execution_count": 98,
   "metadata": {
    "collapsed": false
   },
   "outputs": [
    {
     "name": "stdout",
     "output_type": "stream",
     "text": [
      "[58883659 58866011 58862718 58997006 58997003 58997017 58997030 58985571\n",
      " 58982822 58982814 58978582 58978574 59020363 59031449 59025184 59027650\n",
      " 59020168 59032042 59022082 59023618]\n"
     ]
    }
   ],
   "source": [
    "rows = PCSI0072_Dict_Frame['POS'][:20].values\n",
    "print rows\n",
    "GenomicFeatures_PCSI0072_Top20 = GenomicFeatures_PCSI0072_1.loc[GenomicFeatures_PCSI0072_1['POS_x'].isin(rows)]"
   ]
  },
  {
   "cell_type": "code",
   "execution_count": null,
   "metadata": {
    "collapsed": false
   },
   "outputs": [],
   "source": [
    "GenomicFeatures_PCSI0072_Top20[:10]"
   ]
  },
  {
   "cell_type": "code",
   "execution_count": 57,
   "metadata": {
    "collapsed": false
   },
   "outputs": [],
   "source": [
    "GenomicFeatures_PCSI0072_Top20.to_csv('GenomicFeatures_PCSI0072_Top20.csv')"
   ]
  },
  {
   "cell_type": "code",
   "execution_count": null,
   "metadata": {
    "collapsed": true
   },
   "outputs": [],
   "source": []
  },
  {
   "cell_type": "code",
   "execution_count": null,
   "metadata": {
    "collapsed": true
   },
   "outputs": [],
   "source": []
  }
 ],
 "metadata": {
  "kernelspec": {
   "display_name": "Python 2",
   "language": "python",
   "name": "python2"
  },
  "language_info": {
   "codemirror_mode": {
    "name": "ipython",
    "version": 2
   },
   "file_extension": ".py",
   "mimetype": "text/x-python",
   "name": "python",
   "nbconvert_exporter": "python",
   "pygments_lexer": "ipython2",
   "version": "2.7.6"
  }
 },
 "nbformat": 4,
 "nbformat_minor": 0
}
