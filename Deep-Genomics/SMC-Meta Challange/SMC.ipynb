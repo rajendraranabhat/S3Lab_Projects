{
 "cells": [
  {
   "cell_type": "code",
   "execution_count": 1,
   "metadata": {
    "collapsed": true
   },
   "outputs": [],
   "source": [
    "#SMC Meta Challange"
   ]
  },
  {
   "cell_type": "code",
   "execution_count": 2,
   "metadata": {
    "collapsed": false
   },
   "outputs": [
    {
     "name": "stderr",
     "output_type": "stream",
     "text": [
      "WARNING (theano.sandbox.cuda): CUDA is installed, but device gpu is not available  (error: Unable to get the number of gpus available: no CUDA-capable device is detected)\n",
      "WARNING:theano.sandbox.cuda:CUDA is installed, but device gpu is not available  (error: Unable to get the number of gpus available: no CUDA-capable device is detected)\n"
     ]
    },
    {
     "name": "stdout",
     "output_type": "stream",
     "text": [
      "Using Theano backend.\n"
     ]
    },
    {
     "name": "stderr",
     "output_type": "stream",
     "text": [
      "/usr/local/lib/python2.7/dist-packages/theano/tensor/signal/downsample.py:5: UserWarning: downsample module has been moved to the pool module.\n",
      "  warnings.warn(\"downsample module has been moved to the pool module.\")\n"
     ]
    }
   ],
   "source": [
    "import numpy as np\n",
    "import pandas as pd\n",
    "from collections import Counter\n",
    "\n",
    "from sklearn.neighbors import KNeighborsClassifier\n",
    "from sklearn.linear_model import LogisticRegression\n",
    "from sklearn.ensemble import RandomForestClassifier\n",
    "from sklearn.cross_validation import cross_val_score\n",
    "from sklearn import metrics\n",
    "from sklearn.cross_validation import train_test_split\n",
    "from sklearn.metrics import confusion_matrix, roc_curve, auc\n",
    "from sklearn.grid_search import GridSearchCV\n",
    "from sklearn import svm\n",
    "from sklearn.decomposition import RandomizedPCA\n",
    "from sklearn.metrics import classification_report\n",
    "from sklearn import preprocessing\n",
    "import matplotlib.pyplot as plt\n",
    "import scipy.optimize as opt\n",
    "import glob\n",
    "import os\n",
    "import sys\n",
    "import pickle\n",
    "import time\n",
    "import timeit\n",
    "\n",
    "from sklearn.decomposition import RandomizedPCA\n",
    "\n",
    "import theano\n",
    "import theano.tensor as T\n",
    "import lasagne\n",
    "\n",
    "#np.random.seed(1337)  # for reproducibility\n",
    "from keras.datasets import mnist\n",
    "from keras.models import Sequential\n",
    "from keras.layers.core import Dense, Dropout, Activation, Flatten, Layer, Reshape, AutoEncoder, Merge\n",
    "from keras.layers.convolutional import Convolution2D,MaxPooling2D,Convolution1D,MaxPooling1D,UpSampling2D, ZeroPadding2D\n",
    "from keras.optimizers import SGD, Adam, RMSprop, Adadelta\n",
    "from keras.layers.normalization import BatchNormalization\n",
    "from keras.utils import np_utils\n",
    "import keras.utils.visualize_util as vutil\n",
    "from keras.layers.recurrent import LSTM, GRU, SimpleRNN\n",
    "from keras.regularizers import l1, l2, l1l2, activity_l2, activity_l1\n",
    "import keras.layers.containers as containers\n",
    "from keras.layers.noise import GaussianNoise\n",
    "from keras.regularizers import ActivityRegularizer\n",
    "from keras import backend as K\n",
    "import keras.utils.visualize_util as vutil\n",
    "from keras.models import model_from_json\n",
    "\n",
    "import seaborn as sns\n",
    "\n",
    "%matplotlib inline\n",
    "\n",
    "from IPython.display import SVG\n",
    "\n",
    "import h5py\n",
    "\n",
    "np.set_printoptions(suppress=True)  #Supress exponent of the number 2e-2 == 0.02\n",
    "\n",
    "%matplotlib inline"
   ]
  },
  {
   "cell_type": "code",
   "execution_count": 3,
   "metadata": {
    "collapsed": true
   },
   "outputs": [],
   "source": [
    "#Read the data\n",
    "\n",
    "GenomicFeatures_CPCG0100 = pd.read_csv(open('data/CPCG0100/GenomicFeatures_CPCG0100.txt','r'),sep='\\t')\n",
    "SNVCalls_CPCG0100    = pd.read_csv(open('data/CPCG0100/SNVCalls_CPCG0100.txt','r'),sep='\\t') "
   ]
  },
  {
   "cell_type": "code",
   "execution_count": 4,
   "metadata": {
    "collapsed": false
   },
   "outputs": [
    {
     "name": "stdout",
     "output_type": "stream",
     "text": [
      "(198526, 15)\n",
      "(198526, 182)\n"
     ]
    }
   ],
   "source": [
    "print GenomicFeatures_CPCG0100.shape\n",
    "print SNVCalls_CPCG0100.shape"
   ]
  },
  {
   "cell_type": "code",
   "execution_count": 5,
   "metadata": {
    "collapsed": false
   },
   "outputs": [
    {
     "data": {
      "text/plain": [
       "Index([u'CHROM', u'POS', u'RefAllele', u'NonRefAllele', u'BaseQual', u'TumourCoverage', u'NormalCoverage', u'MapQual', u'ReadPosition', u'Trinucleotide', u'HomopolymerRate', u'GCcontent', u'GenomicLocation', u'DistanceSNP', u'StrandBias'], dtype='object')"
      ]
     },
     "execution_count": 5,
     "metadata": {},
     "output_type": "execute_result"
    }
   ],
   "source": [
    "GenomicFeatures_CPCG0100.columns"
   ]
  },
  {
   "cell_type": "code",
   "execution_count": 6,
   "metadata": {
    "collapsed": false
   },
   "outputs": [
    {
     "data": {
      "text/plain": [
       "<bound method DataFrame.head of    CHROM     POS  RefAllele  NonRefAllele  BaseQual  TumourCoverage  \\\n",
       "0   chr1   10408        183             3      4490             231   \n",
       "1   chr1   10413        177            10      4691             229   \n",
       "2   chr1   16580        115            10      3512             137   \n",
       "3   chr1   17519         83            26      3251             119   \n",
       "4   chr1   17538         96            20      3255             127   \n",
       "5   chr1   20227        120            11      3672             155   \n",
       "6   chr1   20250        117            14      3865             155   \n",
       "7   chr1   28511         92             8      2946             123   \n",
       "8   chr1   28593         27             3       524              36   \n",
       "9   chr1   63171          9             3       342              17   \n",
       "10  chr1   66394          7             0       211               7   \n",
       "11  chr1   95740         53            17      1956              75   \n",
       "12  chr1   98749         25            12      1116              51   \n",
       "13  chr1   99158         12             1       320              30   \n",
       "14  chr1   99166         14             1       361              33   \n",
       "15  chr1  103317         57             0      1677              67   \n",
       "16  chr1  129586         66             6      2015              85   \n",
       "17  chr1  129625         77            11      2256             101   \n",
       "18  chr1  129717         72             4      1765              83   \n",
       "19  chr1  129727         69             2      1847              76   \n",
       "20  chr1  136048         21            21      1143              48   \n",
       "21  chr1  136391         72             4      2008              80   \n",
       "22  chr1  136603         39            10      1047              54   \n",
       "23  chr1  136694         46             7      1263              60   \n",
       "24  chr1  136817         44            11      1224              59   \n",
       "25  chr1  136962         23            18       845              53   \n",
       "26  chr1  139947         22             7       773              33   \n",
       "27  chr1  149685         56             7      1837              80   \n",
       "28  chr1  160562         62             8      2090              80   \n",
       "29  chr1  160617         71             3      2273              90   \n",
       "30  chr1  173098         45            32      2073              89   \n",
       "31  chr1  227493         31             1       829              35   \n",
       "32  chr1  234609         86            16      2871             117   \n",
       "33  chr1  237763        150            32      5126             198   \n",
       "34  chr1  241265        110             3      3276             124   \n",
       "35  chr1  255096         92            23      3064             136   \n",
       "36  chr1  526843         48            16      1521              74   \n",
       "37  chr1  526899         54             5      1648              69   \n",
       "38  chr1  526970         54             4      1682              77   \n",
       "39  chr1  532080         75            18      2744              98   \n",
       "40  chr1  535916         69            21      2585              94   \n",
       "41  chr1  536095         82            26      2629             110   \n",
       "42  chr1  536170         88            22      3287             113   \n",
       "43  chr1  537693         26             1       660              30   \n",
       "44  chr1  537695         27             1       680              31   \n",
       "45  chr1  540975         73            23      2592             100   \n",
       "46  chr1  546952        103            39      3797             150   \n",
       "47  chr1  555369         65            12      2276              88   \n",
       "48  chr1  558992         40             4      1216              51   \n",
       "49  chr1  559893         16             7       519              24   \n",
       "50  chr1  566130         59          2510     75500            4410   \n",
       "51  chr1  567191         49            22      1934              87   \n",
       "52  chr1  567489        115           401     10490             657   \n",
       "53  chr1  568313        109            37      4355             185   \n",
       "54  chr1  569874         99            58      4085             181   \n",
       "55  chr1  569878        106            97      4468             290   \n",
       "56  chr1  571258         79            12      2616              98   \n",
       "57  chr1  571284         80            11      2705              98   \n",
       "58  chr1  571291         76             9      2465              92   \n",
       "59  chr1  601841         53             8      1910              64   \n",
       "     ...     ...        ...           ...       ...             ...   \n",
       "\n",
       "    NormalCoverage  MapQual  ReadPosition Trinucleotide  HomopolymerRate  \\\n",
       "0              133     25.0          55.0           TTA         4.696078   \n",
       "1              134     25.0          60.0           CTA         4.528846   \n",
       "2               74      0.0          52.0           TCA         2.707143   \n",
       "3               59     37.0          38.0           GCA         2.746377   \n",
       "4               53     29.0          47.0           GCC         2.719424   \n",
       "5              108      0.0          42.0           GTG         2.486486   \n",
       "6              108      0.0          51.0           TTG         2.537931   \n",
       "7               75      0.0          55.0           GCA         4.812500   \n",
       "8               26     27.0          70.5           TTT         4.253731   \n",
       "9               15      0.0          64.0           ATC         2.428571   \n",
       "10               7     29.0          13.0           ATA         2.123377   \n",
       "11              61      0.0          46.0           ATG         2.451389   \n",
       "12              33      0.0          32.0           ATT         2.742857   \n",
       "13              34      0.0          38.0           GTG         7.690476   \n",
       "14              36      0.0          43.0           TCG         7.294574   \n",
       "15              36      0.0          34.0           ACA         3.036232   \n",
       "16              53      0.0          41.0           ATA         3.000000   \n",
       "17              67      1.0          42.0           CTG         4.148148   \n",
       "18              62     17.0          46.0           ACG         3.764286   \n",
       "19              57     15.0          35.0           GCT         3.643357   \n",
       "20              34     23.0          46.0           CCG         2.760870   \n",
       "21              40      0.0          59.0           GTG         2.408163   \n",
       "22              34     29.0          38.0           CTG         2.576389   \n",
       "23              38     32.5          61.0           CCT         2.833333   \n",
       "24              34     29.0          53.0           GTG         2.764286   \n",
       "25              19     15.0          43.0           GCG         2.587413   \n",
       "26              27      9.0          77.0           ACG         1.943038   \n",
       "27              67      0.0          47.0           TTT         3.696970   \n",
       "28              49      7.5          47.0           ACT         4.080882   \n",
       "29              52      0.0          48.0           ACT         2.213333   \n",
       "30              52     23.0          56.0           ACG         2.962406   \n",
       "31              22      0.0          39.0           ACG         6.547445   \n",
       "32              77      0.0          34.0           ATC         2.623188   \n",
       "33              99     23.0          55.0           GCC         2.122581   \n",
       "34              49     23.0          65.0           GCC         5.762963   \n",
       "35             107      0.0          52.0           CCG         2.472222   \n",
       "36              39      0.0          47.5           CCG         2.859259   \n",
       "37              36      0.0          54.0           CCT         2.705036   \n",
       "38              27     15.0          32.0           CTG         2.702128   \n",
       "39              68     37.0          61.0           ATT         1.370166   \n",
       "40              64     23.0          50.5           GTA         1.682635   \n",
       "41              72     23.0          46.0           CCG         1.674699   \n",
       "42              77     23.0          60.0           ATA         1.597633   \n",
       "43              20     20.0          37.0           TTC         3.542636   \n",
       "44              21     23.0          38.0           CTC         3.632812   \n",
       "45              49     23.0          43.0           CCC         2.362416   \n",
       "46              85     15.0          44.0           GTG         1.652941   \n",
       "47              58      0.0          55.5           GTT         2.885496   \n",
       "48              42      0.0          52.0           TTA         3.007407   \n",
       "49              13     23.0          36.0           TCC         2.924242   \n",
       "50             473      0.0          39.0           GCA         2.740741   \n",
       "51              36     29.0          59.0           TCA         2.714286   \n",
       "52             126     15.0           6.0           TTT         2.037975   \n",
       "53              75     46.0          54.0           CCT         2.268456   \n",
       "54              62     37.0          37.0           ACA         2.337931   \n",
       "55              76     16.0          14.0           CCC         2.358621   \n",
       "56              42      0.0          46.5           ACC         2.741007   \n",
       "57              49      0.0          49.0           CCA         2.717391   \n",
       "58              49      0.0          53.0           CCC         2.609929   \n",
       "59              48      0.0          54.5           ACA         2.308725   \n",
       "               ...      ...           ...           ...              ...   \n",
       "\n",
       "    GCcontent GenomicLocation  DistanceSNP  StrandBias  \n",
       "0    0.587065             NaN        41830    0.367965  \n",
       "1    0.587065             NaN        41825    0.371179  \n",
       "2    0.532338             NaN        35658    0.335766  \n",
       "3    0.676617  ncRNA_intronic        34719    0.462185  \n",
       "4    0.676617             NaN        34700    0.409449  \n",
       "5    0.487562             NaN        32011    0.529032  \n",
       "6    0.457711  ncRNA_intronic        31988    0.509677  \n",
       "7    0.333333             NaN        23727    0.495935  \n",
       "8    0.318408             NaN        23645    0.361111  \n",
       "9    0.383085      intergenic        10933    0.411765  \n",
       "10   0.004975      intergenic        14156    0.428571  \n",
       "11   0.442786      intergenic        22877    0.453333  \n",
       "12   0.368159      intergenic        19868    0.627451  \n",
       "13   0.437811      intergenic        19459    0.333333  \n",
       "14   0.437811      intergenic        19451    0.454545  \n",
       "15   0.398010      intergenic        15300    0.611940  \n",
       "16   0.502488             NaN         8577    0.588235  \n",
       "17   0.472637      intergenic         8616    0.574257  \n",
       "18   0.502488             NaN         8708    0.445783  \n",
       "19   0.487562      intergenic         8718    0.381579  \n",
       "20   0.631841      downstream        15039    0.666667  \n",
       "21   0.691542      downstream        15382    0.337500  \n",
       "22   0.696517      downstream        15594    0.555556  \n",
       "23   0.706468      downstream        15685    0.400000  \n",
       "24   0.716418             NaN        15808    0.559322  \n",
       "25   0.706468    ncRNA_exonic        15953    0.396226  \n",
       "26   0.497512  ncRNA_intronic        18938    0.333333  \n",
       "27   0.363184      intergenic        28676    0.512500  \n",
       "28   0.412935             NaN        39553    0.475000  \n",
       "29   0.442786      intergenic        39608    0.422222  \n",
       "30   0.412935      intergenic        52089    0.471910  \n",
       "31   0.328358      intergenic       106484    0.657143  \n",
       "32   0.452736      intergenic       113600    0.478632  \n",
       "33   0.537313      intergenic       116754    0.469697  \n",
       "34   0.467662      intergenic       120256    0.548387  \n",
       "35   0.412935      intergenic       134087    0.500000  \n",
       "36   0.557214             NaN       122270    0.500000  \n",
       "37   0.537313      intergenic       122214    0.405797  \n",
       "38   0.577114      intergenic       122143    0.480519  \n",
       "39   0.422886      intergenic       117033    0.530612  \n",
       "40   0.417910      intergenic       113197    0.500000  \n",
       "41   0.442786             NaN       113018    0.472727  \n",
       "42   0.378109      intergenic       112943    0.398230  \n",
       "43   0.572139      intergenic       111420    0.566667  \n",
       "44   0.567164      intergenic       111418    0.548387  \n",
       "45   0.552239      intergenic       108138    0.530000  \n",
       "46   0.532338      intergenic       102161    0.553333  \n",
       "47   0.353234      intergenic        93744    0.454545  \n",
       "48   0.398010             NaN        90121    0.392157  \n",
       "49   0.502488      intergenic        89220    0.750000  \n",
       "50   0.393035             NaN        82983    0.726304  \n",
       "51   0.432836      intergenic        81922    0.551724  \n",
       "52   0.477612             NaN        81624    0.789954  \n",
       "53   0.457711             NaN        80800    0.524324  \n",
       "54   0.517413             NaN        79239    0.530387  \n",
       "55   0.517413             NaN        79235    0.589655  \n",
       "56   0.462687      intergenic        77855    0.438776  \n",
       "57   0.462687      intergenic        77829    0.387755  \n",
       "58   0.457711             NaN        77822    0.391304  \n",
       "59   0.502488      intergenic        47272    0.609375  \n",
       "          ...             ...          ...         ...  \n",
       "\n",
       "[198526 rows x 15 columns]>"
      ]
     },
     "execution_count": 6,
     "metadata": {},
     "output_type": "execute_result"
    }
   ],
   "source": [
    "GenomicFeatures_CPCG0100.head"
   ]
  },
  {
   "cell_type": "code",
   "execution_count": 7,
   "metadata": {
    "collapsed": false
   },
   "outputs": [
    {
     "data": {
      "text/plain": [
       "Index([u'CHROM', u'POS', u'END', u'X2399002', u'X2673208', u'X2673225', u'X2677201', u'X2677205', u'X2679037', u'X2679040', u'X2711267', u'X2762064', u'X2762066', u'X2787011', u'X2787148', u'X2787658', u'X2787662', u'X2788241', u'X2788246', u'X2788251', u'X2788254', u'X2791036', u'X2791292', u'X2791296', u'X2791300', u'X2791303', u'X2791323', u'X2791327', u'X2791331', u'X2791334', u'X2811002', u'X2811005', u'X2811008', u'X2811011', u'X2811383', u'X2812900', u'X2813239', u'X2813269', u'X2813271', u'X2813349', u'X2813361', u'X2813365', u'X2813411', u'X2813787', u'X2813792', u'X2813795', u'X2814925', u'X2815053', u'X2815103', u'X2815408', u'X2815466', u'X2815531', u'X2815569', u'X2815911', u'X2815941', u'X2815952', u'X2815972', u'X2816014', u'X2816109', u'X2816112', u'X2816115', u'X2816137', u'X2816157', u'X2816183', u'X2816186', u'X2816193', u'X2816274', u'X2816276', u'X2816278', u'X2816280', u'X2816282', u'X2816284', u'X2816286', u'X2816288', u'X2816290', u'X2816292', u'X2816294', u'X2816296', u'X2816298', u'X2816300', u'X2816302', u'X2816304', u'X2816306', u'X2816308', u'X2816310', u'X2816312', u'X2816729', u'X2816847', u'X2816876', u'X2816987', u'X2817761', u'X2817783', u'X2821775', u'X2825360', u'X2826063', u'X2826083', u'X2826121', u'X2827734', u'X2827756', u'X2828048', ...], dtype='object')"
      ]
     },
     "execution_count": 7,
     "metadata": {},
     "output_type": "execute_result"
    }
   ],
   "source": [
    "SNVCalls_CPCG0100.columns"
   ]
  },
  {
   "cell_type": "code",
   "execution_count": 8,
   "metadata": {
    "collapsed": false
   },
   "outputs": [
    {
     "data": {
      "text/plain": [
       "<bound method DataFrame.head of    CHROM     POS     END  X2399002  X2673208  X2673225  X2677201  X2677205  \\\n",
       "0   chr1   10407   10408         0         0         0         0         0   \n",
       "1   chr1   10412   10413         0         0         0         0         0   \n",
       "2   chr1   16579   16580         0         0         0         0         0   \n",
       "3   chr1   17518   17519         0         0         0         0         0   \n",
       "4   chr1   17537   17538         0         0         0         0         0   \n",
       "5   chr1   20226   20227         0         0         0         0         0   \n",
       "6   chr1   20249   20250         0         0         0         0         0   \n",
       "7   chr1   28510   28511         0         0         0         0         0   \n",
       "8   chr1   28592   28593         0         0         0         0         0   \n",
       "9   chr1   63170   63171         0         0         0         0         0   \n",
       "10  chr1   66393   66394         0         0         0         0         0   \n",
       "11  chr1   95739   95740         0         0         0         0         0   \n",
       "12  chr1   98748   98749         0         0         0         0         0   \n",
       "13  chr1   99157   99158         0         0         0         0         0   \n",
       "14  chr1   99165   99166         0         0         0         0         0   \n",
       "15  chr1  103316  103317         0         0         0         0         0   \n",
       "16  chr1  129585  129586         0         0         0         0         0   \n",
       "17  chr1  129624  129625         0         0         0         0         0   \n",
       "18  chr1  129716  129717         0         0         0         0         0   \n",
       "19  chr1  129726  129727         0         0         0         0         0   \n",
       "20  chr1  136047  136048         0         0         0         0         0   \n",
       "21  chr1  136390  136391         0         0         0         0         0   \n",
       "22  chr1  136602  136603         0         0         0         0         0   \n",
       "23  chr1  136693  136694         0         0         0         0         0   \n",
       "24  chr1  136816  136817         0         0         0         0         0   \n",
       "25  chr1  136961  136962         0         0         0         0         0   \n",
       "26  chr1  139946  139947         0         0         0         0         0   \n",
       "27  chr1  149684  149685         0         0         0         0         0   \n",
       "28  chr1  160561  160562         0         0         0         0         0   \n",
       "29  chr1  160616  160617         0         0         0         0         0   \n",
       "30  chr1  173097  173098         0         0         0         0         0   \n",
       "31  chr1  227492  227493         0         0         0         0         0   \n",
       "32  chr1  234608  234609         0         0         0         0         0   \n",
       "33  chr1  237762  237763         0         0         0         0         0   \n",
       "34  chr1  241264  241265         0         0         0         0         0   \n",
       "35  chr1  255095  255096         0         0         0         0         0   \n",
       "36  chr1  526842  526843         0         0         0         0         0   \n",
       "37  chr1  526898  526899         0         0         0         0         0   \n",
       "38  chr1  526969  526970         0         0         0         0         0   \n",
       "39  chr1  532079  532080         1         0         0         0         0   \n",
       "40  chr1  535915  535916         0         0         0         0         0   \n",
       "41  chr1  536094  536095         1         0         0         0         0   \n",
       "42  chr1  536169  536170         1         0         0         0         0   \n",
       "43  chr1  537692  537693         0         0         0         0         0   \n",
       "44  chr1  537694  537695         0         0         0         0         0   \n",
       "45  chr1  540974  540975         1         0         0         0         0   \n",
       "46  chr1  546951  546952         0         0         0         0         0   \n",
       "47  chr1  555368  555369         0         0         0         0         0   \n",
       "48  chr1  558991  558992         0         0         0         0         0   \n",
       "49  chr1  559892  559893         0         0         0         1         1   \n",
       "50  chr1  566129  566130         1         0         0         0         0   \n",
       "51  chr1  567190  567191         0         0         0         0         0   \n",
       "52  chr1  567488  567489         0         0         0         0         0   \n",
       "53  chr1  568312  568313         0         0         0         0         0   \n",
       "54  chr1  569873  569874         0         0         0         0         0   \n",
       "55  chr1  569877  569878         0         0         0         0         0   \n",
       "56  chr1  571257  571258         0         0         0         0         0   \n",
       "57  chr1  571283  571284         0         0         0         0         0   \n",
       "58  chr1  571290  571291         0         0         0         0         0   \n",
       "59  chr1  601840  601841         0         0         0         0         0   \n",
       "     ...     ...     ...       ...       ...       ...       ...       ...   \n",
       "\n",
       "    X2679037  X2679040  X2711267  X2762064  X2762066  X2787011  X2787148  \\\n",
       "0          0         0         0         0         0         0         0   \n",
       "1          0         0         0         0         0         0         0   \n",
       "2          0         0         0         0         0         0         0   \n",
       "3          0         0         0         0         0         0         0   \n",
       "4          0         0         0         0         0         0         0   \n",
       "5          0         0         0         0         0         0         0   \n",
       "6          0         0         0         0         0         0         0   \n",
       "7          0         0         0         0         0         0         0   \n",
       "8          0         0         0         0         0         0         0   \n",
       "9          0         0         0         0         0         0         0   \n",
       "10         0         0         0         0         0         0         0   \n",
       "11         0         0         0         0         0         0         0   \n",
       "12         0         0         0         0         0         0         0   \n",
       "13         0         0         0         0         0         0         0   \n",
       "14         0         0         0         0         0         0         0   \n",
       "15         0         0         0         0         0         0         0   \n",
       "16         0         0         0         1         1         0         0   \n",
       "17         0         0         0         0         0         0         0   \n",
       "18         0         0         0         0         0         1         0   \n",
       "19         0         0         0         0         0         0         0   \n",
       "20         0         0         0         0         0         0         0   \n",
       "21         0         0         0         0         0         0         0   \n",
       "22         0         0         0         0         0         0         0   \n",
       "23         0         0         0         0         0         0         0   \n",
       "24         0         0         0         0         0         0         0   \n",
       "25         0         0         0         0         0         0         0   \n",
       "26         0         1         0         0         0         0         0   \n",
       "27         0         0         0         0         0         0         0   \n",
       "28         0         0         0         0         0         1         0   \n",
       "29         0         0         0         0         0         0         0   \n",
       "30         0         0         0         0         0         0         0   \n",
       "31         0         0         0         0         0         0         0   \n",
       "32         0         0         0         0         0         0         0   \n",
       "33         0         0         0         0         0         0         0   \n",
       "34         0         0         0         0         0         0         0   \n",
       "35         0         0         0         0         0         0         0   \n",
       "36         0         0         0         0         0         0         0   \n",
       "37         0         1         0         0         0         0         0   \n",
       "38         0         0         0         0         0         0         0   \n",
       "39         0         0         0         0         0         0         0   \n",
       "40         0         0         0         0         0         0         0   \n",
       "41         0         0         0         0         0         0         0   \n",
       "42         0         0         0         0         0         0         0   \n",
       "43         0         0         0         0         0         0         0   \n",
       "44         0         0         0         0         0         0         0   \n",
       "45         0         0         0         0         0         0         0   \n",
       "46         0         0         0         0         0         0         0   \n",
       "47         0         0         0         0         0         0         0   \n",
       "48         0         0         0         0         0         0         0   \n",
       "49         1         0         0         0         0         0         0   \n",
       "50         0         0         0         0         0         0         0   \n",
       "51         0         0         0         1         0         0         1   \n",
       "52         0         0         0         0         0         0         0   \n",
       "53         0         0         0         0         0         0         0   \n",
       "54         0         0         0         0         0         0         1   \n",
       "55         0         0         0         0         0         0         0   \n",
       "56         0         0         0         0         0         0         0   \n",
       "57         0         0         0         0         0         0         0   \n",
       "58         0         0         0         0         0         0         0   \n",
       "59         0         0         0         0         0         0         0   \n",
       "         ...       ...       ...       ...       ...       ...       ...   \n",
       "\n",
       "    X2787658  X2787662  X2788241  X2788246  X2788251      \n",
       "0          0         0         0         0         0 ...  \n",
       "1          0         0         0         0         0 ...  \n",
       "2          0         0         0         0         0 ...  \n",
       "3          0         0         0         0         0 ...  \n",
       "4          0         0         0         0         0 ...  \n",
       "5          0         0         0         0         0 ...  \n",
       "6          0         0         0         0         0 ...  \n",
       "7          0         0         0         0         0 ...  \n",
       "8          0         1         0         0         0 ...  \n",
       "9          0         0         0         0         0 ...  \n",
       "10         0         0         0         0         0 ...  \n",
       "11         0         0         0         0         0 ...  \n",
       "12         0         0         0         0         0 ...  \n",
       "13         0         0         0         0         0 ...  \n",
       "14         0         0         0         0         0 ...  \n",
       "15         0         0         0         0         0 ...  \n",
       "16         0         0         0         0         0 ...  \n",
       "17         0         0         0         0         0 ...  \n",
       "18         0         0         0         1         0 ...  \n",
       "19         0         0         0         0         0 ...  \n",
       "20         0         0         0         0         0 ...  \n",
       "21         0         0         0         0         0 ...  \n",
       "22         0         0         0         0         0 ...  \n",
       "23         0         0         0         0         0 ...  \n",
       "24         0         1         1         0         0 ...  \n",
       "25         0         0         0         0         0 ...  \n",
       "26         0         0         0         0         0 ...  \n",
       "27         0         0         0         0         0 ...  \n",
       "28         0         0         0         0         0 ...  \n",
       "29         0         0         0         0         0 ...  \n",
       "30         0         0         0         0         0 ...  \n",
       "31         0         0         0         0         0 ...  \n",
       "32         0         0         0         0         0 ...  \n",
       "33         0         0         0         0         0 ...  \n",
       "34         0         0         0         0         0 ...  \n",
       "35         0         0         0         0         0 ...  \n",
       "36         0         0         0         0         0 ...  \n",
       "37         0         0         0         0         0 ...  \n",
       "38         0         0         0         0         0 ...  \n",
       "39         0         0         0         0         0 ...  \n",
       "40         0         0         0         0         0 ...  \n",
       "41         0         0         0         0         0 ...  \n",
       "42         0         0         0         0         0 ...  \n",
       "43         0         0         0         0         0 ...  \n",
       "44         0         0         0         0         0 ...  \n",
       "45         0         0         0         0         0 ...  \n",
       "46         0         0         0         0         0 ...  \n",
       "47         0         0         0         0         0 ...  \n",
       "48         0         0         0         0         0 ...  \n",
       "49         0         0         0         0         0 ...  \n",
       "50         0         1         1         0         0 ...  \n",
       "51         0         1         1         0         0 ...  \n",
       "52         0         0         0         0         0 ...  \n",
       "53         0         0         0         0         0 ...  \n",
       "54         0         0         0         0         0 ...  \n",
       "55         0         1         1         0         0 ...  \n",
       "56         0         0         0         0         0 ...  \n",
       "57         0         0         0         0         0 ...  \n",
       "58         0         0         0         0         0 ...  \n",
       "59         0         0         0         0         0 ...  \n",
       "         ...       ...       ...       ...       ...      \n",
       "\n",
       "[198526 rows x 182 columns]>"
      ]
     },
     "execution_count": 8,
     "metadata": {},
     "output_type": "execute_result"
    }
   ],
   "source": [
    "SNVCalls_CPCG0100.head"
   ]
  },
  {
   "cell_type": "code",
   "execution_count": 9,
   "metadata": {
    "collapsed": false
   },
   "outputs": [
    {
     "data": {
      "text/plain": [
       "array(['chr1', 'chr10', 'chr11', 'chr12', 'chr13', 'chr14', 'chr15',\n",
       "       'chr16', 'chr17', 'chr18', 'chr19', 'chr2', 'chr20', 'chr21',\n",
       "       'chr22', 'chr3', 'chr4', 'chr5', 'chr6', 'chr7', 'chr8', 'chr9',\n",
       "       'chrX', 'chrY'], \n",
       "      dtype='|S5')"
      ]
     },
     "execution_count": 9,
     "metadata": {},
     "output_type": "execute_result"
    }
   ],
   "source": [
    "np.unique(SNVCalls_CPCG0100['CHROM'])"
   ]
  },
  {
   "cell_type": "code",
   "execution_count": 10,
   "metadata": {
    "collapsed": false
   },
   "outputs": [],
   "source": [
    "CPCG0100 = pd.merge(GenomicFeatures_CPCG0100, SNVCalls_CPCG0100,left_on=['CHROM', 'POS'], right_on=['CHROM','END'])\n",
    "\n",
    "#CPCG0100 = pd.merge(GenomicFeatures_CPCG0100, SNVCalls_CPCG0100,left_on=['POS'], right_on=['END'])"
   ]
  },
  {
   "cell_type": "code",
   "execution_count": 11,
   "metadata": {
    "collapsed": false
   },
   "outputs": [
    {
     "data": {
      "text/plain": [
       "(198526, 196)"
      ]
     },
     "execution_count": 11,
     "metadata": {},
     "output_type": "execute_result"
    }
   ],
   "source": [
    "CPCG0100.shape #182+15"
   ]
  },
  {
   "cell_type": "code",
   "execution_count": 12,
   "metadata": {
    "collapsed": false
   },
   "outputs": [],
   "source": [
    "#CPCG0100.head"
   ]
  },
  {
   "cell_type": "code",
   "execution_count": 13,
   "metadata": {
    "collapsed": false
   },
   "outputs": [
    {
     "data": {
      "text/plain": [
       "Index([u'CHROM', u'POS_x', u'RefAllele', u'NonRefAllele', u'BaseQual', u'TumourCoverage', u'NormalCoverage', u'MapQual', u'ReadPosition', u'Trinucleotide', u'HomopolymerRate', u'GCcontent', u'GenomicLocation', u'DistanceSNP', u'StrandBias', u'POS_y', u'END', u'X2399002', u'X2673208', u'X2673225', u'X2677201', u'X2677205', u'X2679037', u'X2679040', u'X2711267', u'X2762064', u'X2762066', u'X2787011', u'X2787148', u'X2787658', u'X2787662', u'X2788241', u'X2788246', u'X2788251', u'X2788254', u'X2791036', u'X2791292', u'X2791296', u'X2791300', u'X2791303', u'X2791323', u'X2791327', u'X2791331', u'X2791334', u'X2811002', u'X2811005', u'X2811008', u'X2811011', u'X2811383', u'X2812900', u'X2813239', u'X2813269', u'X2813271', u'X2813349', u'X2813361', u'X2813365', u'X2813411', u'X2813787', u'X2813792', u'X2813795', u'X2814925', u'X2815053', u'X2815103', u'X2815408', u'X2815466', u'X2815531', u'X2815569', u'X2815911', u'X2815941', u'X2815952', u'X2815972', u'X2816014', u'X2816109', u'X2816112', u'X2816115', u'X2816137', u'X2816157', u'X2816183', u'X2816186', u'X2816193', u'X2816274', u'X2816276', u'X2816278', u'X2816280', u'X2816282', u'X2816284', u'X2816286', u'X2816288', u'X2816290', u'X2816292', u'X2816294', u'X2816296', u'X2816298', u'X2816300', u'X2816302', u'X2816304', u'X2816306', u'X2816308', u'X2816310', u'X2816312', ...], dtype='object')"
      ]
     },
     "execution_count": 13,
     "metadata": {},
     "output_type": "execute_result"
    }
   ],
   "source": [
    "CPCG0100.columns"
   ]
  },
  {
   "cell_type": "code",
   "execution_count": 14,
   "metadata": {
    "collapsed": false
   },
   "outputs": [],
   "source": [
    "CPCG0100_X = CPCG0100.iloc[:,2:15] #Exclude CHROM, POS\n",
    "CPCG0100_Y = CPCG0100.iloc[:,17:]  #Exclude CHROM_y, POS_y, END"
   ]
  },
  {
   "cell_type": "code",
   "execution_count": 15,
   "metadata": {
    "collapsed": false
   },
   "outputs": [
    {
     "name": "stdout",
     "output_type": "stream",
     "text": [
      "(198526, 13)\n",
      "Index([u'RefAllele', u'NonRefAllele', u'BaseQual', u'TumourCoverage', u'NormalCoverage', u'MapQual', u'ReadPosition', u'Trinucleotide', u'HomopolymerRate', u'GCcontent', u'GenomicLocation', u'DistanceSNP', u'StrandBias'], dtype='object')\n"
     ]
    }
   ],
   "source": [
    "print CPCG0100_X.shape\n",
    "print CPCG0100_X.columns"
   ]
  },
  {
   "cell_type": "code",
   "execution_count": 16,
   "metadata": {
    "collapsed": false
   },
   "outputs": [
    {
     "name": "stdout",
     "output_type": "stream",
     "text": [
      "(198526, 179)\n",
      "Index([u'X2399002', u'X2673208', u'X2673225', u'X2677201', u'X2677205', u'X2679037', u'X2679040', u'X2711267', u'X2762064', u'X2762066', u'X2787011', u'X2787148', u'X2787658', u'X2787662', u'X2788241', u'X2788246', u'X2788251', u'X2788254', u'X2791036', u'X2791292', u'X2791296', u'X2791300', u'X2791303', u'X2791323', u'X2791327', u'X2791331', u'X2791334', u'X2811002', u'X2811005', u'X2811008', u'X2811011', u'X2811383', u'X2812900', u'X2813239', u'X2813269', u'X2813271', u'X2813349', u'X2813361', u'X2813365', u'X2813411', u'X2813787', u'X2813792', u'X2813795', u'X2814925', u'X2815053', u'X2815103', u'X2815408', u'X2815466', u'X2815531', u'X2815569', u'X2815911', u'X2815941', u'X2815952', u'X2815972', u'X2816014', u'X2816109', u'X2816112', u'X2816115', u'X2816137', u'X2816157', u'X2816183', u'X2816186', u'X2816193', u'X2816274', u'X2816276', u'X2816278', u'X2816280', u'X2816282', u'X2816284', u'X2816286', u'X2816288', u'X2816290', u'X2816292', u'X2816294', u'X2816296', u'X2816298', u'X2816300', u'X2816302', u'X2816304', u'X2816306', u'X2816308', u'X2816310', u'X2816312', u'X2816729', u'X2816847', u'X2816876', u'X2816987', u'X2817761', u'X2817783', u'X2821775', u'X2825360', u'X2826063', u'X2826083', u'X2826121', u'X2827734', u'X2827756', u'X2828048', u'X2828092', u'X2828141', u'X2828217', ...], dtype='object')\n",
      "   X2399002  X2673208  X2673225  X2677201  X2677205  X2679037  X2679040  \\\n",
      "0         0         0         0         0         0         0         0   \n",
      "1         0         0         0         0         0         0         0   \n",
      "2         0         0         0         0         0         0         0   \n",
      "3         0         0         0         0         0         0         0   \n",
      "4         0         0         0         0         0         0         0   \n",
      "\n",
      "   X2711267  X2762064  X2762066  X2787011  X2787148  X2787658  X2787662  \\\n",
      "0         0         0         0         0         0         0         0   \n",
      "1         0         0         0         0         0         0         0   \n",
      "2         0         0         0         0         0         0         0   \n",
      "3         0         0         0         0         0         0         0   \n",
      "4         0         0         0         0         0         0         0   \n",
      "\n",
      "   X2788241  X2788246  X2788251  X2788254  X2791036  X2791292      \n",
      "0         0         0         0         0         0         0 ...  \n",
      "1         0         0         0         0         0         0 ...  \n",
      "2         0         0         0         0         0         0 ...  \n",
      "3         0         0         0         0         0         0 ...  \n",
      "4         0         0         0         0         1         0 ...  \n",
      "\n",
      "[5 rows x 179 columns]\n"
     ]
    }
   ],
   "source": [
    "print CPCG0100_Y.shape\n",
    "print CPCG0100_Y.columns\n",
    "print CPCG0100_Y[:5]"
   ]
  },
  {
   "cell_type": "code",
   "execution_count": 17,
   "metadata": {
    "collapsed": false
   },
   "outputs": [
    {
     "data": {
      "text/html": [
       "<div style=\"max-height:1000px;max-width:1500px;overflow:auto;\">\n",
       "<table border=\"1\" class=\"dataframe\">\n",
       "  <thead>\n",
       "    <tr style=\"text-align: right;\">\n",
       "      <th></th>\n",
       "      <th>RefAllele</th>\n",
       "      <th>NonRefAllele</th>\n",
       "      <th>BaseQual</th>\n",
       "      <th>TumourCoverage</th>\n",
       "      <th>NormalCoverage</th>\n",
       "      <th>MapQual</th>\n",
       "      <th>ReadPosition</th>\n",
       "      <th>Trinucleotide</th>\n",
       "      <th>HomopolymerRate</th>\n",
       "      <th>GCcontent</th>\n",
       "      <th>GenomicLocation</th>\n",
       "      <th>DistanceSNP</th>\n",
       "      <th>StrandBias</th>\n",
       "    </tr>\n",
       "  </thead>\n",
       "  <tbody>\n",
       "    <tr>\n",
       "      <th>0</th>\n",
       "      <td> 183</td>\n",
       "      <td>  3</td>\n",
       "      <td> 4490</td>\n",
       "      <td> 231</td>\n",
       "      <td> 133</td>\n",
       "      <td> 25</td>\n",
       "      <td> 55</td>\n",
       "      <td> TTA</td>\n",
       "      <td> 4.696078</td>\n",
       "      <td> 0.587065</td>\n",
       "      <td>            NaN</td>\n",
       "      <td> 41830</td>\n",
       "      <td> 0.367965</td>\n",
       "    </tr>\n",
       "    <tr>\n",
       "      <th>1</th>\n",
       "      <td> 177</td>\n",
       "      <td> 10</td>\n",
       "      <td> 4691</td>\n",
       "      <td> 229</td>\n",
       "      <td> 134</td>\n",
       "      <td> 25</td>\n",
       "      <td> 60</td>\n",
       "      <td> CTA</td>\n",
       "      <td> 4.528846</td>\n",
       "      <td> 0.587065</td>\n",
       "      <td>            NaN</td>\n",
       "      <td> 41825</td>\n",
       "      <td> 0.371179</td>\n",
       "    </tr>\n",
       "    <tr>\n",
       "      <th>2</th>\n",
       "      <td> 115</td>\n",
       "      <td> 10</td>\n",
       "      <td> 3512</td>\n",
       "      <td> 137</td>\n",
       "      <td>  74</td>\n",
       "      <td>  0</td>\n",
       "      <td> 52</td>\n",
       "      <td> TCA</td>\n",
       "      <td> 2.707143</td>\n",
       "      <td> 0.532338</td>\n",
       "      <td>            NaN</td>\n",
       "      <td> 35658</td>\n",
       "      <td> 0.335766</td>\n",
       "    </tr>\n",
       "    <tr>\n",
       "      <th>3</th>\n",
       "      <td>  83</td>\n",
       "      <td> 26</td>\n",
       "      <td> 3251</td>\n",
       "      <td> 119</td>\n",
       "      <td>  59</td>\n",
       "      <td> 37</td>\n",
       "      <td> 38</td>\n",
       "      <td> GCA</td>\n",
       "      <td> 2.746377</td>\n",
       "      <td> 0.676617</td>\n",
       "      <td> ncRNA_intronic</td>\n",
       "      <td> 34719</td>\n",
       "      <td> 0.462185</td>\n",
       "    </tr>\n",
       "    <tr>\n",
       "      <th>4</th>\n",
       "      <td>  96</td>\n",
       "      <td> 20</td>\n",
       "      <td> 3255</td>\n",
       "      <td> 127</td>\n",
       "      <td>  53</td>\n",
       "      <td> 29</td>\n",
       "      <td> 47</td>\n",
       "      <td> GCC</td>\n",
       "      <td> 2.719424</td>\n",
       "      <td> 0.676617</td>\n",
       "      <td>            NaN</td>\n",
       "      <td> 34700</td>\n",
       "      <td> 0.409449</td>\n",
       "    </tr>\n",
       "  </tbody>\n",
       "</table>\n",
       "<p>5 rows × 13 columns</p>\n",
       "</div>"
      ],
      "text/plain": [
       "   RefAllele  NonRefAllele  BaseQual  TumourCoverage  NormalCoverage  MapQual  \\\n",
       "0        183             3      4490             231             133       25   \n",
       "1        177            10      4691             229             134       25   \n",
       "2        115            10      3512             137              74        0   \n",
       "3         83            26      3251             119              59       37   \n",
       "4         96            20      3255             127              53       29   \n",
       "\n",
       "   ReadPosition Trinucleotide  HomopolymerRate  GCcontent GenomicLocation  \\\n",
       "0            55           TTA         4.696078   0.587065             NaN   \n",
       "1            60           CTA         4.528846   0.587065             NaN   \n",
       "2            52           TCA         2.707143   0.532338             NaN   \n",
       "3            38           GCA         2.746377   0.676617  ncRNA_intronic   \n",
       "4            47           GCC         2.719424   0.676617             NaN   \n",
       "\n",
       "   DistanceSNP  StrandBias  \n",
       "0        41830    0.367965  \n",
       "1        41825    0.371179  \n",
       "2        35658    0.335766  \n",
       "3        34719    0.462185  \n",
       "4        34700    0.409449  \n",
       "\n",
       "[5 rows x 13 columns]"
      ]
     },
     "execution_count": 17,
     "metadata": {},
     "output_type": "execute_result"
    }
   ],
   "source": [
    "CPCG0100_X[:5]"
   ]
  },
  {
   "cell_type": "code",
   "execution_count": 18,
   "metadata": {
    "collapsed": false
   },
   "outputs": [
    {
     "data": {
      "text/plain": [
       "array(['UTR3', 'UTR5', 'downstream', 'exonic', 'exonic;splicing',\n",
       "       'intergenic', 'intronic', 'nan', 'ncRNA_UTR3', 'ncRNA_UTR5',\n",
       "       'ncRNA_exonic', 'ncRNA_intronic', 'ncRNA_splicing', 'splicing',\n",
       "       'upstream', 'upstream;downstream'], \n",
       "      dtype='|S19')"
      ]
     },
     "execution_count": 18,
     "metadata": {},
     "output_type": "execute_result"
    }
   ],
   "source": [
    "np.unique(CPCG0100_X['GenomicLocation'])   #Trinucleotide"
   ]
  },
  {
   "cell_type": "code",
   "execution_count": 258,
   "metadata": {
    "collapsed": false
   },
   "outputs": [
    {
     "data": {
      "text/html": [
       "<div style=\"max-height:1000px;max-width:1500px;overflow:auto;\">\n",
       "<table border=\"1\" class=\"dataframe\">\n",
       "  <thead>\n",
       "    <tr style=\"text-align: right;\">\n",
       "      <th></th>\n",
       "      <th>UTR3</th>\n",
       "      <th>UTR5</th>\n",
       "      <th>downstream</th>\n",
       "      <th>exonic</th>\n",
       "      <th>exonic;splicing</th>\n",
       "      <th>intergenic</th>\n",
       "      <th>intronic</th>\n",
       "      <th>ncRNA_UTR3</th>\n",
       "      <th>ncRNA_UTR5</th>\n",
       "      <th>ncRNA_exonic</th>\n",
       "      <th>ncRNA_intronic</th>\n",
       "      <th>ncRNA_splicing</th>\n",
       "      <th>splicing</th>\n",
       "      <th>upstream</th>\n",
       "      <th>upstream;downstream</th>\n",
       "    </tr>\n",
       "  </thead>\n",
       "  <tbody>\n",
       "    <tr>\n",
       "      <th>0</th>\n",
       "      <td> 0</td>\n",
       "      <td> 0</td>\n",
       "      <td> 0</td>\n",
       "      <td> 0</td>\n",
       "      <td> 0</td>\n",
       "      <td> 0</td>\n",
       "      <td> 0</td>\n",
       "      <td> 0</td>\n",
       "      <td> 0</td>\n",
       "      <td> 0</td>\n",
       "      <td> 0</td>\n",
       "      <td> 0</td>\n",
       "      <td> 0</td>\n",
       "      <td> 0</td>\n",
       "      <td> 0</td>\n",
       "    </tr>\n",
       "    <tr>\n",
       "      <th>1</th>\n",
       "      <td> 0</td>\n",
       "      <td> 0</td>\n",
       "      <td> 0</td>\n",
       "      <td> 0</td>\n",
       "      <td> 0</td>\n",
       "      <td> 0</td>\n",
       "      <td> 0</td>\n",
       "      <td> 0</td>\n",
       "      <td> 0</td>\n",
       "      <td> 0</td>\n",
       "      <td> 0</td>\n",
       "      <td> 0</td>\n",
       "      <td> 0</td>\n",
       "      <td> 0</td>\n",
       "      <td> 0</td>\n",
       "    </tr>\n",
       "    <tr>\n",
       "      <th>2</th>\n",
       "      <td> 0</td>\n",
       "      <td> 0</td>\n",
       "      <td> 0</td>\n",
       "      <td> 0</td>\n",
       "      <td> 0</td>\n",
       "      <td> 0</td>\n",
       "      <td> 0</td>\n",
       "      <td> 0</td>\n",
       "      <td> 0</td>\n",
       "      <td> 0</td>\n",
       "      <td> 0</td>\n",
       "      <td> 0</td>\n",
       "      <td> 0</td>\n",
       "      <td> 0</td>\n",
       "      <td> 0</td>\n",
       "    </tr>\n",
       "    <tr>\n",
       "      <th>3</th>\n",
       "      <td> 0</td>\n",
       "      <td> 0</td>\n",
       "      <td> 0</td>\n",
       "      <td> 0</td>\n",
       "      <td> 0</td>\n",
       "      <td> 0</td>\n",
       "      <td> 0</td>\n",
       "      <td> 0</td>\n",
       "      <td> 0</td>\n",
       "      <td> 0</td>\n",
       "      <td> 1</td>\n",
       "      <td> 0</td>\n",
       "      <td> 0</td>\n",
       "      <td> 0</td>\n",
       "      <td> 0</td>\n",
       "    </tr>\n",
       "    <tr>\n",
       "      <th>4</th>\n",
       "      <td> 0</td>\n",
       "      <td> 0</td>\n",
       "      <td> 0</td>\n",
       "      <td> 0</td>\n",
       "      <td> 0</td>\n",
       "      <td> 0</td>\n",
       "      <td> 0</td>\n",
       "      <td> 0</td>\n",
       "      <td> 0</td>\n",
       "      <td> 0</td>\n",
       "      <td> 0</td>\n",
       "      <td> 0</td>\n",
       "      <td> 0</td>\n",
       "      <td> 0</td>\n",
       "      <td> 0</td>\n",
       "    </tr>\n",
       "  </tbody>\n",
       "</table>\n",
       "<p>5 rows × 15 columns</p>\n",
       "</div>"
      ],
      "text/plain": [
       "   UTR3  UTR5  downstream  exonic  exonic;splicing  intergenic  intronic  \\\n",
       "0     0     0           0       0                0           0         0   \n",
       "1     0     0           0       0                0           0         0   \n",
       "2     0     0           0       0                0           0         0   \n",
       "3     0     0           0       0                0           0         0   \n",
       "4     0     0           0       0                0           0         0   \n",
       "\n",
       "   ncRNA_UTR3  ncRNA_UTR5  ncRNA_exonic  ncRNA_intronic  ncRNA_splicing  \\\n",
       "0           0           0             0               0               0   \n",
       "1           0           0             0               0               0   \n",
       "2           0           0             0               0               0   \n",
       "3           0           0             0               1               0   \n",
       "4           0           0             0               0               0   \n",
       "\n",
       "   splicing  upstream  upstream;downstream  \n",
       "0         0         0                    0  \n",
       "1         0         0                    0  \n",
       "2         0         0                    0  \n",
       "3         0         0                    0  \n",
       "4         0         0                    0  \n",
       "\n",
       "[5 rows x 15 columns]"
      ]
     },
     "execution_count": 258,
     "metadata": {},
     "output_type": "execute_result"
    }
   ],
   "source": [
    "#CPCG0100_X['RefAllele'].isnull\n",
    "pd.get_dummies(CPCG0100_X['GenomicLocation'])[:5]"
   ]
  },
  {
   "cell_type": "code",
   "execution_count": 259,
   "metadata": {
    "collapsed": false
   },
   "outputs": [
    {
     "data": {
      "text/plain": [
       "array(['UTR3', 'UTR5', 'downstream', 'exonic', 'exonic;splicing',\n",
       "       'intergenic', 'intronic', 'nan', 'ncRNA_UTR3', 'ncRNA_UTR5',\n",
       "       'ncRNA_exonic', 'ncRNA_intronic', 'ncRNA_splicing', 'splicing',\n",
       "       'upstream', 'upstream;downstream'], \n",
       "      dtype='|S19')"
      ]
     },
     "execution_count": 259,
     "metadata": {},
     "output_type": "execute_result"
    }
   ],
   "source": [
    "np.unique(CPCG0100_X['GenomicLocation'])"
   ]
  },
  {
   "cell_type": "code",
   "execution_count": 260,
   "metadata": {
    "collapsed": false
   },
   "outputs": [
    {
     "data": {
      "text/plain": [
       "array(['ACA', 'ACC', 'ACG', 'ACT', 'ATA', 'ATC', 'ATG', 'ATT', 'CCA',\n",
       "       'CCC', 'CCG', 'CCT', 'CNN', 'CTA', 'CTC', 'CTG', 'CTT', 'GCA',\n",
       "       'GCC', 'GCG', 'GCT', 'GTA', 'GTC', 'GTG', 'GTT', 'NCG', 'NTC',\n",
       "       'TCA', 'TCC', 'TCG', 'TCT', 'TTA', 'TTC', 'TTG', 'TTT'], \n",
       "      dtype='|S3')"
      ]
     },
     "execution_count": 260,
     "metadata": {},
     "output_type": "execute_result"
    }
   ],
   "source": [
    "np.unique(CPCG0100_X['Trinucleotide'])"
   ]
  },
  {
   "cell_type": "code",
   "execution_count": 261,
   "metadata": {
    "collapsed": false
   },
   "outputs": [
    {
     "name": "stdout",
     "output_type": "stream",
     "text": [
      "(198526, 35)\n",
      "(198526, 15)\n"
     ]
    }
   ],
   "source": [
    "Trinucleotide_onehot   = pd.get_dummies(CPCG0100_X['Trinucleotide'])\n",
    "GenomicLocation_onehot = pd.get_dummies(CPCG0100_X['GenomicLocation'])\n",
    "\n",
    "print Trinucleotide_onehot.shape\n",
    "print GenomicLocation_onehot.shape"
   ]
  },
  {
   "cell_type": "code",
   "execution_count": 293,
   "metadata": {
    "collapsed": false
   },
   "outputs": [
    {
     "name": "stdout",
     "output_type": "stream",
     "text": [
      "(198526, 13)\n",
      "(198526, 11)\n"
     ]
    }
   ],
   "source": [
    "print CPCG0100_X.shape\n",
    "\n",
    "CPCG0100_X1 = CPCG0100_X.drop(['Trinucleotide', 'GenomicLocation'],axis=1)\n",
    "\n",
    "print CPCG0100_X1.shape"
   ]
  },
  {
   "cell_type": "code",
   "execution_count": 294,
   "metadata": {
    "collapsed": false
   },
   "outputs": [
    {
     "name": "stdout",
     "output_type": "stream",
     "text": [
      "0\n",
      "0\n"
     ]
    }
   ],
   "source": [
    "print Trinucleotide_onehot.isnull().sum().sum()  \n",
    "print GenomicLocation_onehot.isnull().sum().sum()  "
   ]
  },
  {
   "cell_type": "code",
   "execution_count": 295,
   "metadata": {
    "collapsed": false
   },
   "outputs": [
    {
     "name": "stdout",
     "output_type": "stream",
     "text": [
      "Index([u'RefAllele', u'NonRefAllele', u'BaseQual', u'TumourCoverage', u'NormalCoverage', u'MapQual', u'ReadPosition', u'HomopolymerRate', u'GCcontent', u'DistanceSNP', u'StrandBias'], dtype='object')\n",
      "32\n",
      "64\n"
     ]
    }
   ],
   "source": [
    "print CPCG0100_X1.columns\n",
    "print CPCG0100_X1['StrandBias'].isnull().sum().sum()  #32+32 # ReadPosition + StrandBias\n",
    "print CPCG0100_X1.isnull().sum().sum() "
   ]
  },
  {
   "cell_type": "code",
   "execution_count": 296,
   "metadata": {
    "collapsed": false
   },
   "outputs": [
    {
     "name": "stdout",
     "output_type": "stream",
     "text": [
      "0\n"
     ]
    }
   ],
   "source": [
    "CPCG0100_X1 = CPCG0100_X1.fillna(0)  #Fill all NA value with 0\n",
    "print CPCG0100_X1.isnull().sum().sum() "
   ]
  },
  {
   "cell_type": "code",
   "execution_count": 314,
   "metadata": {
    "collapsed": false
   },
   "outputs": [
    {
     "name": "stdout",
     "output_type": "stream",
     "text": [
      "0\n"
     ]
    }
   ],
   "source": [
    "CPCG0100_X2 = pd.concat([CPCG0100_X1, Trinucleotide_onehot, GenomicLocation_onehot],axis=1)\n",
    "print CPCG0100_X2.isnull().sum().sum() "
   ]
  },
  {
   "cell_type": "code",
   "execution_count": 315,
   "metadata": {
    "collapsed": false
   },
   "outputs": [
    {
     "data": {
      "text/plain": [
       "Index([u'RefAllele', u'NonRefAllele', u'BaseQual', u'TumourCoverage', u'NormalCoverage', u'MapQual', u'ReadPosition', u'HomopolymerRate', u'GCcontent', u'DistanceSNP', u'StrandBias', u'ACA', u'ACC', u'ACG', u'ACT', u'ATA', u'ATC', u'ATG', u'ATT', u'CCA', u'CCC', u'CCG', u'CCT', u'CNN', u'CTA', u'CTC', u'CTG', u'CTT', u'GCA', u'GCC', u'GCG', u'GCT', u'GTA', u'GTC', u'GTG', u'GTT', u'NCG', u'NTC', u'TCA', u'TCC', u'TCG', u'TCT', u'TTA', u'TTC', u'TTG', u'TTT', u'UTR3', u'UTR5', u'downstream', u'exonic', u'exonic;splicing', u'intergenic', u'intronic', u'ncRNA_UTR3', u'ncRNA_UTR5', u'ncRNA_exonic', u'ncRNA_intronic', u'ncRNA_splicing', u'splicing', u'upstream', u'upstream;downstream'], dtype='object')"
      ]
     },
     "execution_count": 315,
     "metadata": {},
     "output_type": "execute_result"
    }
   ],
   "source": [
    "CPCG0100_X2.columns"
   ]
  },
  {
   "cell_type": "code",
   "execution_count": 319,
   "metadata": {
    "collapsed": false
   },
   "outputs": [
    {
     "name": "stdout",
     "output_type": "stream",
     "text": [
      "(198526, 1)\n"
     ]
    }
   ],
   "source": [
    "CPCG0100_X_Val = CPCG0100_X2.values\n",
    "CPCG0100_Y_Val = CPCG0100_Y.values\n",
    "\n",
    "totalSample = CPCG0100_Y_Val.shape[0]\n",
    "CPCG0100_Y_Val_1 = np.zeros((totalSample,1)) #Will be our label now\n",
    "\n",
    "print CPCG0100_Y_Val_1.shape"
   ]
  },
  {
   "cell_type": "code",
   "execution_count": 320,
   "metadata": {
    "collapsed": false
   },
   "outputs": [
    {
     "data": {
      "text/plain": [
       "array([0, 0, 0, 0, 0, 0, 0, 0, 0, 0, 0, 0, 0, 0, 0, 0, 0, 0, 0, 0, 0, 0, 1,\n",
       "       0, 0, 0, 1, 0, 0, 0, 0, 0, 0, 0, 0, 0, 0, 0, 0, 0, 0, 0, 0, 0, 0, 0,\n",
       "       0, 0, 0, 0, 0, 0, 0, 0, 0, 0, 0, 0, 0, 0, 0, 0, 0, 0, 0, 0, 0, 0, 0,\n",
       "       0, 0, 0, 0, 0, 0, 0, 0, 0, 0, 0, 0, 0, 0, 0, 0, 0, 0, 0, 0, 0, 0, 0,\n",
       "       0, 0, 0, 0, 0, 0, 0, 0, 0, 0, 0, 0, 0, 0, 0, 0, 0, 0, 0, 0, 0, 0, 0,\n",
       "       0, 0, 0, 0, 0, 0, 0, 0, 0, 0, 0, 0, 0, 0, 0, 0, 0, 0, 0, 0, 0, 0, 0,\n",
       "       0, 0, 0, 0, 0, 0, 0, 0, 0, 0, 0, 0, 0, 0, 0, 0, 0, 0, 0, 0, 0, 0, 0,\n",
       "       0, 0, 0, 0, 0, 0, 0, 0, 0, 0, 0, 0, 0, 0, 0, 0, 0, 0])"
      ]
     },
     "execution_count": 320,
     "metadata": {},
     "output_type": "execute_result"
    }
   ],
   "source": [
    "CPCG0100_Y_Val[0]"
   ]
  },
  {
   "cell_type": "code",
   "execution_count": 321,
   "metadata": {
    "collapsed": false
   },
   "outputs": [],
   "source": [
    "for i in range(totalSample):\n",
    "    CPCG0100_Y_Val_1[i] = np.argmax(np.bincount(CPCG0100_Y_Val[i]))"
   ]
  },
  {
   "cell_type": "code",
   "execution_count": 322,
   "metadata": {
    "collapsed": false
   },
   "outputs": [
    {
     "data": {
      "text/plain": [
       "array([[ 0.],\n",
       "       [ 0.],\n",
       "       [ 0.],\n",
       "       ..., \n",
       "       [ 0.],\n",
       "       [ 0.],\n",
       "       [ 0.]])"
      ]
     },
     "execution_count": 322,
     "metadata": {},
     "output_type": "execute_result"
    }
   ],
   "source": [
    "CPCG0100_Y_Val_1"
   ]
  },
  {
   "cell_type": "code",
   "execution_count": 323,
   "metadata": {
    "collapsed": false
   },
   "outputs": [
    {
     "name": "stdout",
     "output_type": "stream",
     "text": [
      "195673\n",
      "2853\n"
     ]
    }
   ],
   "source": [
    "print np.sum(CPCG0100_Y_Val_1==0)\n",
    "print np.sum(CPCG0100_Y_Val_1==1)"
   ]
  },
  {
   "cell_type": "code",
   "execution_count": 450,
   "metadata": {
    "collapsed": false
   },
   "outputs": [
    {
     "data": {
      "text/plain": [
       "(198526, 61)"
      ]
     },
     "execution_count": 450,
     "metadata": {},
     "output_type": "execute_result"
    }
   ],
   "source": [
    "CPCG0100_X_Val.shape"
   ]
  },
  {
   "cell_type": "code",
   "execution_count": 324,
   "metadata": {
    "collapsed": true
   },
   "outputs": [],
   "source": [
    "X_train, X_test, Y_train, Y_test = train_test_split(CPCG0100_X_Val, CPCG0100_Y_Val_1, test_size=0.30)"
   ]
  },
  {
   "cell_type": "code",
   "execution_count": 325,
   "metadata": {
    "collapsed": false
   },
   "outputs": [
    {
     "name": "stdout",
     "output_type": "stream",
     "text": [
      "0.985308438833\n"
     ]
    },
    {
     "name": "stderr",
     "output_type": "stream",
     "text": [
      "/usr/local/lib/python2.7/dist-packages/sklearn/utils/validation.py:515: DataConversionWarning: A column-vector y was passed when a 1d array was expected. Please change the shape of y to (n_samples, ), for example using ravel().\n",
      "  y = column_or_1d(y, warn=True)\n"
     ]
    }
   ],
   "source": [
    "#Logistic Regression\n",
    "#Logistic Regression-sklearn\n",
    "logReg = LogisticRegression()\n",
    "logReg.fit(X_train,Y_train)\n",
    "Y_logPred      = logReg.predict(X_test)\n",
    "Y_logPred_prob = logReg.predict_proba(X_test)\n",
    "print metrics.accuracy_score(Y_test,Y_logPred)"
   ]
  },
  {
   "cell_type": "code",
   "execution_count": 335,
   "metadata": {
    "collapsed": false
   },
   "outputs": [
    {
     "data": {
      "text/plain": [
       "array([[-0.12246952, -0.0625853 ,  0.0046159 , -0.03763786, -0.02480804,\n",
       "         0.0595277 , -0.02767877, -0.39030191, -0.65942222, -0.00008784,\n",
       "        -0.60885057, -0.32662922,  0.03639518,  0.60202362, -0.05409527,\n",
       "        -0.28495187,  0.04207166, -0.05031296,  0.13037274, -0.25478601,\n",
       "        -0.0428474 ,  0.21792937, -0.08764904,  0.        , -0.08590477,\n",
       "        -0.11896023, -0.19149371, -0.0220947 , -0.1902036 , -0.07685091,\n",
       "         0.32170828, -0.07981593, -0.04984001, -0.01804752, -0.30421263,\n",
       "         0.00766469,  0.        , -0.00000181, -0.27020123,  0.01019143,\n",
       "         0.23942512, -0.05842536, -0.07107204,  0.01036901, -0.06288853,\n",
       "         0.04818816, -0.01818775,  0.00286641, -0.03051602, -0.01336008,\n",
       "        -0.0010206 , -0.2546739 , -0.22972556,  0.00420888, -0.00010265,\n",
       "        -0.00817632, -0.08873794, -0.00014215, -0.00094149, -0.04571001,\n",
       "         0.00283173]])"
      ]
     },
     "execution_count": 335,
     "metadata": {},
     "output_type": "execute_result"
    }
   ],
   "source": [
    "logReg.feature"
   ]
  },
  {
   "cell_type": "code",
   "execution_count": 336,
   "metadata": {
    "collapsed": false
   },
   "outputs": [
    {
     "name": "stdout",
     "output_type": "stream",
     "text": [
      "[ 0.11009872  0.21189289  0.08955475  0.07926225  0.07038555  0.02682453\n",
      "  0.0649975   0.06801933  0.07087285  0.06703046  0.0668192   0.00208176\n",
      "  0.00126004  0.00403475  0.00285009  0.00207863  0.00092952  0.0016594\n",
      "  0.00103226  0.00064033  0.00213579  0.00107276  0.0032725   0.\n",
      "  0.00147812  0.00176581  0.00143352  0.00109759  0.00137006  0.00121201\n",
      "  0.00169225  0.0020335   0.00113398  0.00144335  0.0011327   0.00144197\n",
      "  0.          0.          0.0004568   0.00247828  0.00076111  0.0026218\n",
      "  0.0018446   0.00184804  0.00130002  0.00153704  0.00085796  0.00038969\n",
      "  0.00076905  0.00132219  0.00000381  0.00605971  0.00749567  0.00027437\n",
      "  0.00000042  0.00054387  0.00259491  0.          0.00002102  0.00051116\n",
      "  0.00026775]\n"
     ]
    },
    {
     "name": "stderr",
     "output_type": "stream",
     "text": [
      "/usr/local/lib/python2.7/dist-packages/ipykernel/__main__.py:10: DataConversionWarning: A column-vector y was passed when a 1d array was expected. Please change the shape of y to (n_samples,), for example using ravel().\n"
     ]
    }
   ],
   "source": [
    "\n",
    "# Feature Importance\n",
    "from sklearn import datasets\n",
    "from sklearn import metrics\n",
    "from sklearn.ensemble import ExtraTreesClassifier\n",
    "# load the iris datasets\n",
    "#dataset = datasets.load_iris()\n",
    "# fit an Extra Trees model to the data\n",
    "model = ExtraTreesClassifier()\n",
    "model.fit(X_train,Y_train)\n",
    "# display the relative importance of each attribute\n",
    "print(model.feature_importances_)"
   ]
  },
  {
   "cell_type": "code",
   "execution_count": 344,
   "metadata": {
    "collapsed": false
   },
   "outputs": [
    {
     "data": {
      "text/plain": [
       "Index([u'RefAllele', u'NonRefAllele', u'BaseQual', u'TumourCoverage', u'NormalCoverage', u'MapQual', u'ReadPosition', u'HomopolymerRate', u'GCcontent', u'DistanceSNP', u'StrandBias', u'ACA', u'ACC', u'ACG', u'ACT', u'ATA', u'ATC', u'ATG', u'ATT', u'CCA', u'CCC', u'CCG', u'CCT', u'CNN', u'CTA', u'CTC', u'CTG', u'CTT', u'GCA', u'GCC', u'GCG', u'GCT', u'GTA', u'GTC', u'GTG', u'GTT', u'NCG', u'NTC', u'TCA', u'TCC', u'TCG', u'TCT', u'TTA', u'TTC', u'TTG', u'TTT', u'UTR3', u'UTR5', u'downstream', u'exonic', u'exonic;splicing', u'intergenic', u'intronic', u'ncRNA_UTR3', u'ncRNA_UTR5', u'ncRNA_exonic', u'ncRNA_intronic', u'ncRNA_splicing', u'splicing', u'upstream', u'upstream;downstream'], dtype='object')"
      ]
     },
     "execution_count": 344,
     "metadata": {},
     "output_type": "execute_result"
    }
   ],
   "source": [
    "CPCG0100_X2.columns"
   ]
  },
  {
   "cell_type": "code",
   "execution_count": null,
   "metadata": {
    "collapsed": true
   },
   "outputs": [],
   "source": []
  },
  {
   "cell_type": "code",
   "execution_count": null,
   "metadata": {
    "collapsed": true
   },
   "outputs": [],
   "source": []
  },
  {
   "cell_type": "code",
   "execution_count": null,
   "metadata": {
    "collapsed": true
   },
   "outputs": [],
   "source": []
  },
  {
   "cell_type": "code",
   "execution_count": null,
   "metadata": {
    "collapsed": false
   },
   "outputs": [],
   "source": []
  },
  {
   "cell_type": "code",
   "execution_count": null,
   "metadata": {
    "collapsed": true
   },
   "outputs": [],
   "source": []
  },
  {
   "cell_type": "code",
   "execution_count": null,
   "metadata": {
    "collapsed": true
   },
   "outputs": [],
   "source": []
  },
  {
   "cell_type": "code",
   "execution_count": null,
   "metadata": {
    "collapsed": true
   },
   "outputs": [],
   "source": []
  },
  {
   "cell_type": "code",
   "execution_count": null,
   "metadata": {
    "collapsed": true
   },
   "outputs": [],
   "source": []
  },
  {
   "cell_type": "code",
   "execution_count": 163,
   "metadata": {
    "collapsed": false
   },
   "outputs": [
    {
     "name": "stdout",
     "output_type": "stream",
     "text": [
      "   pop   state  year\n",
      "0  1.5    Ohio  2000\n",
      "1  1.7    Ohio  2001\n",
      "2  3.6    Ohio  2002\n",
      "3  2.4  Nevada  2001\n",
      "4  2.9  Nevada  2002\n",
      "\n",
      "[5 rows x 3 columns]\n",
      "[{'Ohio': 0, 'Nevada': 1}, {'2002': 2, '2000': 0, '2001': 1}]\n",
      "[[ 1.5  1.   0.   1.   0.   0. ]\n",
      " [ 1.7  1.   0.   0.   1.   0. ]\n",
      " [ 3.6  1.   0.   0.   0.   1. ]\n",
      " [ 2.4  0.   1.   0.   1.   0. ]\n",
      " [ 2.9  0.   1.   0.   0.   1. ]]\n"
     ]
    }
   ],
   "source": [
    "import numpy as np\n",
    "import pandas as pd, os\n",
    "import scipy.sparse as sps\n",
    "import itertools\n",
    "\n",
    "def one_hot_column(df, cols, vocabs):\n",
    "    mats = []; df2 = df.drop(cols,axis=1)\n",
    "    mats.append(sps.lil_matrix(np.array(df2)))\n",
    "    for i,col in enumerate(cols):\n",
    "        mat = sps.lil_matrix((len(df), len(vocabs[i])))\n",
    "        for j,val in enumerate(np.array(df[col])):\n",
    "            mat[j,vocabs[i][val]] = 1.\n",
    "        mats.append(mat)\n",
    "\n",
    "    res = sps.hstack(mats)   \n",
    "    return res\n",
    "\n",
    "data = {'state': ['Ohio', 'Ohio', 'Ohio', 'Nevada', 'Nevada'],\n",
    "        'year': ['2000', '2001', '2002', '2001', '2002'],\n",
    "        'pop': [1.5, 1.7, 3.6, 2.4, 2.9]}\n",
    "\n",
    "df = pd.DataFrame(data)\n",
    "print df\n",
    "\n",
    "vocabs = []\n",
    "vals = ['Ohio','Nevada']\n",
    "vocabs.append(dict(itertools.izip(vals,range(len(vals)))))\n",
    "vals = ['2000','2001','2002']\n",
    "vocabs.append(dict(itertools.izip(vals,range(len(vals)))))\n",
    "\n",
    "print vocabs\n",
    "\n",
    "print one_hot_column(df, ['state','year'], vocabs).todense()"
   ]
  },
  {
   "cell_type": "code",
   "execution_count": null,
   "metadata": {
    "collapsed": true
   },
   "outputs": [],
   "source": []
  },
  {
   "cell_type": "code",
   "execution_count": 175,
   "metadata": {
    "collapsed": false
   },
   "outputs": [
    {
     "name": "stdout",
     "output_type": "stream",
     "text": [
      "           a         b         c         e        f\n",
      "0   0.173710 -2.915045  0.008241       NaN    Opera\n",
      "1  -1.034360 -1.733141 -1.587523       NaN   Chrome\n",
      "2  -1.463398 -0.206447 -1.248982    Boston    Opera\n",
      "3   0.335188  0.516611  1.143118   Chicago   Chrome\n",
      "4   0.372292 -1.297359  1.474775  New York    Opera\n",
      "5   0.351997  0.216036  0.712386       NaN    Opera\n",
      "6  -1.115179  0.617589 -0.388718    Boston   Safari\n",
      "7   1.257660 -1.370415 -0.341618    Boston   Safari\n",
      "8  -2.044490 -0.032497  1.080068       NaN  Firefox\n",
      "9  -0.583843  0.204096 -0.079827    Boston   Safari\n",
      "10 -1.225954 -0.774935 -0.896044       NaN    Opera\n",
      "11  2.037362 -0.104686  0.842412  New York    Opera\n",
      "12 -0.939473 -0.176803  0.717135   Chicago  Firefox\n",
      "13 -0.949167  0.112423 -0.088719       NaN  Firefox\n",
      "14  1.847247 -0.761243 -0.243570       NaN   Safari\n",
      "15 -0.013457 -0.282127 -0.921607  New York   Chrome\n",
      "16 -1.160175  0.363111  3.259665       NaN   Chrome\n",
      "17 -0.198332 -1.143464 -0.178219   Chicago   Safari\n",
      "18 -0.529146 -1.690990 -1.919272  New York   Safari\n",
      "19  0.661165 -0.085533  0.240056  New York   Chrome\n",
      "20  0.480053  0.952489 -0.150658   Chicago   Chrome\n",
      "21 -0.761824  0.285355 -0.205106  New York   Chrome\n",
      "22 -0.371541  1.439366  1.220998   Chicago  Firefox\n",
      "23 -1.242694  0.081538  0.344492       NaN  Firefox\n",
      "24 -0.102425  1.159408  0.419308    Boston   Safari\n",
      "\n",
      "[25 rows x 5 columns]\n",
      "           a         b         c   e  e=Boston  e=Chicago  e=New York  \\\n",
      "0   0.173710 -2.915045  0.008241 NaN         0          0           0   \n",
      "1  -1.034360 -1.733141 -1.587523 NaN         0          0           0   \n",
      "2  -1.463398 -0.206447 -1.248982   0         1          0           0   \n",
      "3   0.335188  0.516611  1.143118   0         0          1           0   \n",
      "4   0.372292 -1.297359  1.474775   0         0          0           1   \n",
      "5   0.351997  0.216036  0.712386 NaN         0          0           0   \n",
      "6  -1.115179  0.617589 -0.388718   0         1          0           0   \n",
      "7   1.257660 -1.370415 -0.341618   0         1          0           0   \n",
      "8  -2.044490 -0.032497  1.080068 NaN         0          0           0   \n",
      "9  -0.583843  0.204096 -0.079827   0         1          0           0   \n",
      "10 -1.225954 -0.774935 -0.896044 NaN         0          0           0   \n",
      "11  2.037362 -0.104686  0.842412   0         0          0           1   \n",
      "12 -0.939473 -0.176803  0.717135   0         0          1           0   \n",
      "13 -0.949167  0.112423 -0.088719 NaN         0          0           0   \n",
      "14  1.847247 -0.761243 -0.243570 NaN         0          0           0   \n",
      "15 -0.013457 -0.282127 -0.921607   0         0          0           1   \n",
      "16 -1.160175  0.363111  3.259665 NaN         0          0           0   \n",
      "17 -0.198332 -1.143464 -0.178219   0         0          1           0   \n",
      "18 -0.529146 -1.690990 -1.919272   0         0          0           1   \n",
      "19  0.661165 -0.085533  0.240056   0         0          0           1   \n",
      "20  0.480053  0.952489 -0.150658   0         0          1           0   \n",
      "21 -0.761824  0.285355 -0.205106   0         0          0           1   \n",
      "22 -0.371541  1.439366  1.220998   0         0          1           0   \n",
      "23 -1.242694  0.081538  0.344492 NaN         0          0           0   \n",
      "24 -0.102425  1.159408  0.419308   0         1          0           0   \n",
      "\n",
      "    f=Chrome  f=Firefox  f=Opera  f=Safari  \n",
      "0          0          0        1         0  \n",
      "1          1          0        0         0  \n",
      "2          0          0        1         0  \n",
      "3          1          0        0         0  \n",
      "4          0          0        1         0  \n",
      "5          0          0        1         0  \n",
      "6          0          0        0         1  \n",
      "7          0          0        0         1  \n",
      "8          0          1        0         0  \n",
      "9          0          0        0         1  \n",
      "10         0          0        1         0  \n",
      "11         0          0        1         0  \n",
      "12         0          1        0         0  \n",
      "13         0          1        0         0  \n",
      "14         0          0        0         1  \n",
      "15         1          0        0         0  \n",
      "16         1          0        0         0  \n",
      "17         0          0        0         1  \n",
      "18         0          0        0         1  \n",
      "19         1          0        0         0  \n",
      "20         1          0        0         0  \n",
      "21         1          0        0         0  \n",
      "22         0          1        0         0  \n",
      "23         0          1        0         0  \n",
      "24         0          0        0         1  \n",
      "\n",
      "[25 rows x 11 columns]\n"
     ]
    }
   ],
   "source": [
    "# -*- coding: utf-8 -*-\n",
    "\"\"\" Small script that shows hot to do one hot encoding\n",
    "    of categorical columns in a pandas DataFrame.\n",
    "    See:\n",
    "    http://scikit-learn.org/dev/modules/generated/sklearn.preprocessing.OneHotEncoder.html#sklearn.preprocessing.OneHotEncoder\n",
    "    http://scikit-learn.org/dev/modules/generated/sklearn.feature_extraction.DictVectorizer.html\n",
    "\"\"\"\n",
    "import pandas\n",
    "import random\n",
    "import numpy\n",
    "from sklearn.feature_extraction import DictVectorizer\n",
    "\n",
    "\n",
    "def one_hot_dataframe(data, cols, replace=False):\n",
    "    \"\"\" Takes a dataframe and a list of columns that need to be encoded.\n",
    "        Returns a 3-tuple comprising the data, the vectorized data,\n",
    "        and the fitted vectorizor.\"\"\"\n",
    "    vec = DictVectorizer(sparse=False)\n",
    "    vecData = pd.DataFrame(vec.fit_transform(data[cols].T.to_dict().values()))\n",
    "    vecData.columns = vec.get_feature_names()\n",
    "    vecData.index = data.index\n",
    "    if replace is True:\n",
    "        data = data.drop(cols, axis=1)\n",
    "        data = data.join(vecData)\n",
    "    return (data, vecData, vec)\n",
    "\n",
    "'''\n",
    "def one_hot_dataframe(data, cols, replace=False):\n",
    "    \"\"\" Takes a dataframe and a list of columns that need to be encoded.\n",
    "        Returns a 3-tuple comprising the data, the vectorized data,\n",
    "        and the fitted vectorizor.\n",
    "    \"\"\"\n",
    "    vec = DictVectorizer()\n",
    "    mkdict = lambda row: dict((col, row[col]) for col in cols)\n",
    "    vecData = pandas.DataFrame(vec.fit_transform(data[cols].apply(mkdict, axis=1)).toarray())\n",
    "    vecData.columns = vec.get_feature_names()\n",
    "    vecData.index = data.index\n",
    "    if replace is True:\n",
    "        data = data.drop(cols, axis=1)\n",
    "        data = data.join(vecData)\n",
    "    return (data, vecData, vec)\n",
    "'''\n",
    "\n",
    "def main():\n",
    "\n",
    "    # Get a random DataFrame\n",
    "    df = pandas.DataFrame(numpy.random.randn(25, 3), columns=['a', 'b', 'c'])\n",
    "\n",
    "    # Make some random categorical columns\n",
    "    df['e'] = [random.choice(('Chicago', 'Boston', 'New York', np.nan)) for i in range(df.shape[0])]\n",
    "    df['f'] = [random.choice(('Chrome', 'Firefox', 'Opera', \"Safari\")) for i in range(df.shape[0])]\n",
    "    print df\n",
    "\n",
    "    # Vectorize the categorical columns: e & f\n",
    "    df, _, _ = one_hot_dataframe(df, ['e', 'f'], replace=True)\n",
    "    print df\n",
    "\n",
    "#if __name__ == '__main__':\n",
    "main()"
   ]
  },
  {
   "cell_type": "code",
   "execution_count": 445,
   "metadata": {
    "collapsed": false
   },
   "outputs": [
    {
     "name": "stdout",
     "output_type": "stream",
     "text": [
      "<type 'numpy.ndarray'>\n",
      "<type 'numpy.ndarray'>\n"
     ]
    }
   ],
   "source": [
    "print type(CPCG0100_X_Val)\n",
    "print type(CPCG0100_Y_Val_1)"
   ]
  },
  {
   "cell_type": "code",
   "execution_count": 446,
   "metadata": {
    "collapsed": false
   },
   "outputs": [
    {
     "name": "stdout",
     "output_type": "stream",
     "text": [
      "[[ 0.]\n",
      " [ 0.]\n",
      " [ 0.]\n",
      " ..., \n",
      " [ 0.]\n",
      " [ 0.]\n",
      " [ 0.]]\n"
     ]
    }
   ],
   "source": [
    "type(CPCG0100_X)\n",
    "print CPCG0100_Y_Val_1"
   ]
  },
  {
   "cell_type": "code",
   "execution_count": 352,
   "metadata": {
    "collapsed": false
   },
   "outputs": [],
   "source": [
    "CPCG0100_dataframe = pd.concat([CPCG0100_X, pd.DataFrame(CPCG0100_Y_Val_1)],axis=1)"
   ]
  },
  {
   "cell_type": "code",
   "execution_count": 353,
   "metadata": {
    "collapsed": false
   },
   "outputs": [
    {
     "data": {
      "text/plain": [
       "(198526, 14)"
      ]
     },
     "execution_count": 353,
     "metadata": {},
     "output_type": "execute_result"
    }
   ],
   "source": [
    "CPCG0100_dataframe.shape"
   ]
  },
  {
   "cell_type": "code",
   "execution_count": 357,
   "metadata": {
    "collapsed": false
   },
   "outputs": [],
   "source": [
    "CPCG0100_dataframe.to_csv('CPCG0100.csv')"
   ]
  },
  {
   "cell_type": "code",
   "execution_count": 454,
   "metadata": {
    "collapsed": false
   },
   "outputs": [],
   "source": [
    "####################################other csv#################\n",
    "CPCG0100_Val_dataframe = pd.concat([pd.DataFrame(CPCG0100_X_Val), pd.DataFrame(CPCG0100_Y_Val_1)],axis=1)"
   ]
  },
  {
   "cell_type": "code",
   "execution_count": 461,
   "metadata": {
    "collapsed": false
   },
   "outputs": [
    {
     "data": {
      "text/plain": [
       "array([[  183.,     3.,  4490., ...,     0.,     0.,     0.],\n",
       "       [  177.,    10.,  4691., ...,     0.,     0.,     0.],\n",
       "       [  115.,    10.,  3512., ...,     0.,     0.,     0.],\n",
       "       ..., \n",
       "       [  127.,    44.,  5099., ...,     0.,     0.,     0.],\n",
       "       [  276.,    59.,  9749., ...,     0.,     0.,     0.],\n",
       "       [   38.,    20.,  1689., ...,     0.,     0.,     0.]])"
      ]
     },
     "execution_count": 461,
     "metadata": {},
     "output_type": "execute_result"
    }
   ],
   "source": [
    "CPCG0100_X_Val"
   ]
  },
  {
   "cell_type": "code",
   "execution_count": 457,
   "metadata": {
    "collapsed": false
   },
   "outputs": [],
   "source": [
    "CPCG0100_Val_dataframe.to_csv('CPCG0100_Val.csv')"
   ]
  },
  {
   "cell_type": "code",
   "execution_count": 458,
   "metadata": {
    "collapsed": false
   },
   "outputs": [
    {
     "data": {
      "text/plain": [
       "(198526, 62)"
      ]
     },
     "execution_count": 458,
     "metadata": {},
     "output_type": "execute_result"
    }
   ],
   "source": [
    "CPCG0100_Val_dataframe.shape"
   ]
  },
  {
   "cell_type": "code",
   "execution_count": null,
   "metadata": {
    "collapsed": true
   },
   "outputs": [],
   "source": []
  },
  {
   "cell_type": "code",
   "execution_count": 364,
   "metadata": {
    "collapsed": true
   },
   "outputs": [],
   "source": [
    "### R code start here ####"
   ]
  },
  {
   "cell_type": "code",
   "execution_count": 365,
   "metadata": {
    "collapsed": false
   },
   "outputs": [
    {
     "name": "stdout",
     "output_type": "stream",
     "text": [
      "The rpy2.ipython extension is already loaded. To reload it, use:\n",
      "  %reload_ext rpy2.ipython\n"
     ]
    }
   ],
   "source": [
    "%load_ext rpy2.ipython"
   ]
  },
  {
   "cell_type": "code",
   "execution_count": 370,
   "metadata": {
    "collapsed": false
   },
   "outputs": [
    {
     "data": {
      "text/plain": [
       "'data.frame':\t198526 obs. of  15 variables:\n",
       " $ X              : int  0 1 2 3 4 5 6 7 8 9 ...\n",
       " $ RefAllele      : int  183 177 115 83 96 120 117 92 27 9 ...\n",
       " $ NonRefAllele   : int  3 10 10 26 20 11 14 8 3 3 ...\n",
       " $ BaseQual       : int  4490 4691 3512 3251 3255 3672 3865 2946 524 342 ...\n",
       " $ TumourCoverage : int  231 229 137 119 127 155 155 123 36 17 ...\n",
       " $ NormalCoverage : int  133 134 74 59 53 108 108 75 26 15 ...\n",
       " $ MapQual        : num  25 25 0 37 29 0 0 0 27 0 ...\n",
       " $ ReadPosition   : num  55 60 52 38 47 42 51 55 70.5 64 ...\n",
       " $ Trinucleotide  : Factor w/ 35 levels \"ACA\",\"ACC\",\"ACG\",..: 32 14 28 18 19 24 34 18 35 6 ...\n",
       " $ HomopolymerRate: num  4.7 4.53 2.71 2.75 2.72 ...\n",
       " $ GCcontent      : num  0.587 0.587 0.532 0.677 0.677 ...\n",
       " $ GenomicLocation: Factor w/ 16 levels \"\",\"downstream\",..: 1 1 1 8 1 1 8 1 1 5 ...\n",
       " $ DistanceSNP    : int  41830 41825 35658 34719 34700 32011 31988 23727 23645 10933 ...\n",
       " $ StrandBias     : num  0.368 0.371 0.336 0.462 0.409 ...\n",
       " $ X0             : num  0 0 0 0 0 0 0 0 0 0 ...\n"
      ]
     },
     "metadata": {},
     "output_type": "display_data"
    }
   ],
   "source": [
    "%%R\n",
    "# Read in the data\n",
    "CPCG0100Frame = read.csv(\"CPCG0100.csv\")\n",
    "str(CPCG0100Frame)"
   ]
  },
  {
   "cell_type": "code",
   "execution_count": 419,
   "metadata": {
    "collapsed": false
   },
   "outputs": [
    {
     "data": {
      "text/plain": [
       "[1] 0\n",
       "[1] 0\n"
      ]
     },
     "metadata": {},
     "output_type": "display_data"
    }
   ],
   "source": [
    "%%R\n",
    "sum(is.na(CPCG0100Frame$StrandBias))   #ReadPosition=32, StrandBias=32\n",
    "\n",
    "#Imputing na value\n",
    "#df = data.frame(x = 1:20, y = c(1:10,rep(NA,10)))\n",
    "#df$y[is.na(df$y)] = mean(df$y, na.rm=TRUE)\n",
    "# alternative\n",
    "#df = transform(df, y = ifelse(is.na(y), mean(y, na.rm=TRUE), y))\n",
    "\n",
    "CPCG0100Frame$ReadPosition[is.na(CPCG0100Frame$ReadPosition)] = mean(CPCG0100Frame$ReadPosition, na.rm=TRUE)\n",
    "CPCG0100Frame$StrandBias[is.na(CPCG0100Frame$StrandBias)] = mean(CPCG0100Frame$StrandBias, na.rm=TRUE)\n",
    "\n",
    "print (sum(is.na(CPCG0100Frame$ReadPosition)) )\n",
    "print (sum(is.na(CPCG0100Frame$StrandBias)) )"
   ]
  },
  {
   "cell_type": "code",
   "execution_count": 420,
   "metadata": {
    "collapsed": true
   },
   "outputs": [],
   "source": [
    "%%R\n",
    "CPCG0100Frame$Trinucleotide  = as.factor(CPCG0100Frame$Trinucleotide)\n",
    "CPCG0100Frame$GenomicLocation= as.factor(CPCG0100Frame$GenomicLocation)"
   ]
  },
  {
   "cell_type": "code",
   "execution_count": 431,
   "metadata": {
    "collapsed": false
   },
   "outputs": [],
   "source": [
    "%%R\n",
    "library(caTools)\n",
    "split = sample.split(CPCG0100Frame$X0, SplitRatio = 0.80) #60% train, 40% test\n",
    "train_R = subset(CPCG0100Frame, split==TRUE)\n",
    "test_R = subset(CPCG0100Frame, split==FALSE)"
   ]
  },
  {
   "cell_type": "code",
   "execution_count": 432,
   "metadata": {
    "collapsed": false
   },
   "outputs": [
    {
     "data": {
      "text/plain": [
       "'data.frame':\t198526 obs. of  15 variables:\n",
       " $ X              : int  0 1 2 3 4 5 6 7 8 9 ...\n",
       " $ RefAllele      : int  183 177 115 83 96 120 117 92 27 9 ...\n",
       " $ NonRefAllele   : int  3 10 10 26 20 11 14 8 3 3 ...\n",
       " $ BaseQual       : int  4490 4691 3512 3251 3255 3672 3865 2946 524 342 ...\n",
       " $ TumourCoverage : int  231 229 137 119 127 155 155 123 36 17 ...\n",
       " $ NormalCoverage : int  133 134 74 59 53 108 108 75 26 15 ...\n",
       " $ MapQual        : num  25 25 0 37 29 0 0 0 27 0 ...\n",
       " $ ReadPosition   : num  55 60 52 38 47 42 51 55 70.5 64 ...\n",
       " $ Trinucleotide  : Factor w/ 35 levels \"ACA\",\"ACC\",\"ACG\",..: 32 14 28 18 19 24 34 18 35 6 ...\n",
       " $ HomopolymerRate: num  4.7 4.53 2.71 2.75 2.72 ...\n",
       " $ GCcontent      : num  0.587 0.587 0.532 0.677 0.677 ...\n",
       " $ GenomicLocation: Factor w/ 16 levels \"\",\"downstream\",..: 1 1 1 8 1 1 8 1 1 5 ...\n",
       " $ DistanceSNP    : int  41830 41825 35658 34719 34700 32011 31988 23727 23645 10933 ...\n",
       " $ StrandBias     : num  0.368 0.371 0.336 0.462 0.409 ...\n",
       " $ X0             : num  0 0 0 0 0 0 0 0 0 0 ...\n"
      ]
     },
     "metadata": {},
     "output_type": "display_data"
    }
   ],
   "source": [
    "%%R\n",
    "#install.packages(\"caTools\")\n",
    "str(CPCG0100Frame)"
   ]
  },
  {
   "cell_type": "code",
   "execution_count": 434,
   "metadata": {
    "collapsed": false
   },
   "outputs": [
    {
     "data": {
      "text/plain": [
       "\n",
       "Call:\n",
       "glm(formula = X0 ~ ., family = binomial, data = CPCG0100Frame)\n",
       "\n",
       "Deviance Residuals: \n",
       "    Min       1Q   Median       3Q      Max  \n",
       "-8.4904  -0.1760  -0.0841  -0.0134   8.4904  \n",
       "\n",
       "Coefficients:\n",
       "                                     Estimate Std. Error z value Pr(>|z|)    \n",
       "(Intercept)                        -7.527e+00  3.224e-01 -23.343  < 2e-16 ***\n",
       "X                                  -2.117e-06  3.377e-07  -6.269 3.62e-10 ***\n",
       "RefAllele                          -1.213e-01  5.536e-03 -21.917  < 2e-16 ***\n",
       "NonRefAllele                       -6.052e-02  5.290e-03 -11.441  < 2e-16 ***\n",
       "BaseQual                            4.522e-03  1.692e-04  26.727  < 2e-16 ***\n",
       "TumourCoverage                     -3.752e-02  2.775e-03 -13.519  < 2e-16 ***\n",
       "NormalCoverage                     -2.038e-02  1.503e-03 -13.558  < 2e-16 ***\n",
       "MapQual                             1.284e-01  4.074e-03  31.508  < 2e-16 ***\n",
       "ReadPosition                        3.865e-03  2.066e-03   1.871 0.061351 .  \n",
       "TrinucleotideACC                    9.032e-01  1.353e-01   6.678 2.43e-11 ***\n",
       "TrinucleotideACG                    2.623e+00  1.130e-01  23.215  < 2e-16 ***\n",
       "TrinucleotideACT                    4.699e-01  1.266e-01   3.710 0.000207 ***\n",
       "TrinucleotideATA                    9.328e-02  1.293e-01   0.721 0.470764    \n",
       "TrinucleotideATC                    1.141e+00  1.620e-01   7.043 1.88e-12 ***\n",
       "TrinucleotideATG                    5.529e-01  1.514e-01   3.653 0.000259 ***\n",
       "TrinucleotideATT                    1.040e+00  1.226e-01   8.481  < 2e-16 ***\n",
       "TrinucleotideCCA                   -8.923e-02  1.341e-01  -0.665 0.505747    \n",
       "TrinucleotideCCC                    6.224e-01  1.427e-01   4.360 1.30e-05 ***\n",
       "TrinucleotideCCG                    1.979e+00  1.326e-01  14.921  < 2e-16 ***\n",
       "TrinucleotideCCT                    4.360e-01  1.243e-01   3.507 0.000454 ***\n",
       "TrinucleotideCNN                   -2.701e+01  3.561e+05   0.000 0.999939    \n",
       "TrinucleotideCTA                    1.044e-01  1.898e-01   0.550 0.582346    \n",
       "TrinucleotideCTC                    5.208e-01  1.638e-01   3.179 0.001478 ** \n",
       "TrinucleotideCTG                    3.591e-02  1.689e-01   0.213 0.831684    \n",
       "TrinucleotideCTT                    4.901e-01  1.505e-01   3.256 0.001129 ** \n",
       "TrinucleotideGCA                    8.683e-02  1.328e-01   0.654 0.513371    \n",
       "TrinucleotideGCC                    5.008e-01  1.571e-01   3.187 0.001435 ** \n",
       "TrinucleotideGCG                    2.223e+00  1.228e-01  18.104  < 2e-16 ***\n",
       "TrinucleotideGCT                    2.737e-01  1.406e-01   1.946 0.051611 .  \n",
       "TrinucleotideGTA                    5.060e-01  1.795e-01   2.820 0.004806 ** \n",
       "TrinucleotideGTC                    6.968e-01  2.148e-01   3.244 0.001179 ** \n",
       "TrinucleotideGTG                   -5.144e-01  2.051e-01  -2.508 0.012156 *  \n",
       "TrinucleotideGTT                    7.867e-01  1.654e-01   4.756 1.98e-06 ***\n",
       "TrinucleotideNCG                   -2.028e+01  3.561e+05   0.000 0.999955    \n",
       "TrinucleotideNTC                   -1.595e+01  3.561e+05   0.000 0.999964    \n",
       "TrinucleotideTCA                   -2.405e-01  1.280e-01  -1.879 0.060259 .  \n",
       "TrinucleotideTCC                    7.435e-01  1.258e-01   5.912 3.39e-09 ***\n",
       "TrinucleotideTCG                    2.057e+00  1.395e-01  14.740  < 2e-16 ***\n",
       "TrinucleotideTCT                    4.271e-01  1.093e-01   3.907 9.34e-05 ***\n",
       "TrinucleotideTTA                    3.250e-01  1.477e-01   2.201 0.027717 *  \n",
       "TrinucleotideTTC                    6.799e-01  1.701e-01   3.996 6.45e-05 ***\n",
       "TrinucleotideTTG                    3.080e-01  1.743e-01   1.767 0.077277 .  \n",
       "TrinucleotideTTT                    7.301e-01  1.255e-01   5.819 5.91e-09 ***\n",
       "HomopolymerRate                     3.048e-02  1.384e-02   2.202 0.027657 *  \n",
       "GCcontent                          -2.926e+00  1.996e-01 -14.661  < 2e-16 ***\n",
       "GenomicLocationdownstream          -7.917e-01  3.828e-01  -2.068 0.038649 *  \n",
       "GenomicLocationexonic              -2.733e-01  2.563e-01  -1.066 0.286236    \n",
       "GenomicLocationexonic;splicing     -2.228e+01  8.134e+04   0.000 0.999781    \n",
       "GenomicLocationintergenic          -1.796e-01  5.007e-02  -3.587 0.000335 ***\n",
       "GenomicLocationintronic            -1.942e-01  5.872e-02  -3.307 0.000944 ***\n",
       "GenomicLocationncRNA_exonic         6.726e-02  4.640e-01   0.145 0.884755    \n",
       "GenomicLocationncRNA_intronic      -4.703e-01  1.592e-01  -2.955 0.003130 ** \n",
       "GenomicLocationncRNA_splicing      -2.267e+01  3.561e+05   0.000 0.999949    \n",
       "GenomicLocationncRNA_UTR3           6.000e-01  1.071e+00   0.560 0.575264    \n",
       "GenomicLocationncRNA_UTR5          -2.270e+01  1.747e+05   0.000 0.999896    \n",
       "GenomicLocationsplicing            -2.184e+01  6.329e+04   0.000 0.999725    \n",
       "GenomicLocationupstream            -9.099e-01  4.179e-01  -2.177 0.029444 *  \n",
       "GenomicLocationupstream;downstream  1.722e+00  7.949e-01   2.167 0.030272 *  \n",
       "GenomicLocationUTR3                -4.760e-01  3.255e-01  -1.462 0.143660    \n",
       "GenomicLocationUTR5                -1.202e-01  5.030e-01  -0.239 0.811149    \n",
       "DistanceSNP                        -7.913e-05  6.552e-06 -12.077  < 2e-16 ***\n",
       "StrandBias                         -3.752e-01  2.410e-01  -1.557 0.119494    \n",
       "---\n",
       "Signif. codes:  0 ‘***’ 0.001 ‘**’ 0.01 ‘*’ 0.05 ‘.’ 0.1 ‘ ’ 1\n",
       "\n",
       "(Dispersion parameter for binomial family taken to be 1)\n",
       "\n",
       "    Null deviance: 29873  on 198525  degrees of freedom\n",
       "Residual deviance: 22787  on 198464  degrees of freedom\n",
       "AIC: 22911\n",
       "\n",
       "Number of Fisher Scoring iterations: 25\n",
       "\n"
      ]
     },
     "metadata": {},
     "output_type": "display_data"
    }
   ],
   "source": [
    "%%R\n",
    "#79410+119116\n",
    "CPCG0100Log = glm(X0 ~ ., data = CPCG0100Frame, family=binomial)\n",
    "summary(CPCG0100Log)"
   ]
  },
  {
   "cell_type": "code",
   "execution_count": 435,
   "metadata": {
    "collapsed": false
   },
   "outputs": [],
   "source": [
    "%%R\n",
    "#confint(CPCG0100Log)\n",
    "#str(CPCG0100Log)\n",
    "predictCPCG0100 = predict(CPCG0100Log, type=\"response\") #, newdata=CPCG0100Frame)"
   ]
  },
  {
   "cell_type": "code",
   "execution_count": 442,
   "metadata": {
    "collapsed": false
   },
   "outputs": [
    {
     "data": {
      "text/plain": [
       "   \n",
       "     FALSE   TRUE\n",
       "  0 195527    146\n",
       "  1   2835     18\n"
      ]
     },
     "metadata": {},
     "output_type": "display_data"
    }
   ],
   "source": [
    "%%R\n",
    "#predictTest = predict(CPCG0100Log, type=\"response\", newdata=test_R)\n",
    "table(CPCG0100Frame$X0, predictCPCG0100 > 0.5)"
   ]
  },
  {
   "cell_type": "code",
   "execution_count": 444,
   "metadata": {
    "collapsed": false
   },
   "outputs": [
    {
     "data": {
      "text/plain": [
       "0.9849843345456011"
      ]
     },
     "execution_count": 444,
     "metadata": {},
     "output_type": "execute_result"
    }
   ],
   "source": [
    "(195527+18)/(195527+18+146+2835.0)"
   ]
  },
  {
   "cell_type": "code",
   "execution_count": null,
   "metadata": {
    "collapsed": true
   },
   "outputs": [],
   "source": []
  },
  {
   "cell_type": "code",
   "execution_count": null,
   "metadata": {
    "collapsed": true
   },
   "outputs": [],
   "source": []
  },
  {
   "cell_type": "code",
   "execution_count": null,
   "metadata": {
    "collapsed": true
   },
   "outputs": [],
   "source": []
  },
  {
   "cell_type": "code",
   "execution_count": null,
   "metadata": {
    "collapsed": true
   },
   "outputs": [],
   "source": []
  },
  {
   "cell_type": "code",
   "execution_count": null,
   "metadata": {
    "collapsed": true
   },
   "outputs": [],
   "source": []
  },
  {
   "cell_type": "code",
   "execution_count": null,
   "metadata": {
    "collapsed": true
   },
   "outputs": [],
   "source": []
  },
  {
   "cell_type": "code",
   "execution_count": null,
   "metadata": {
    "collapsed": true
   },
   "outputs": [],
   "source": []
  },
  {
   "cell_type": "code",
   "execution_count": null,
   "metadata": {
    "collapsed": true
   },
   "outputs": [],
   "source": []
  }
 ],
 "metadata": {
  "kernelspec": {
   "display_name": "Python 2",
   "language": "python",
   "name": "python2"
  },
  "language_info": {
   "codemirror_mode": {
    "name": "ipython",
    "version": 2
   },
   "file_extension": ".py",
   "mimetype": "text/x-python",
   "name": "python",
   "nbconvert_exporter": "python",
   "pygments_lexer": "ipython2",
   "version": "2.7.6"
  }
 },
 "nbformat": 4,
 "nbformat_minor": 0
}
