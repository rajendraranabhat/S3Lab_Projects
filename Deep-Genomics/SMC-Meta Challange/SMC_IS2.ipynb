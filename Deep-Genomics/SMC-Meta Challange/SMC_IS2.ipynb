{
 "cells": [
  {
   "cell_type": "code",
   "execution_count": 1,
   "metadata": {
    "collapsed": false
   },
   "outputs": [
    {
     "name": "stderr",
     "output_type": "stream",
     "text": [
      "WARNING (theano.sandbox.cuda): CUDA is installed, but device gpu is not available  (error: Unable to get the number of gpus available: no CUDA-capable device is detected)\n",
      "WARNING:theano.sandbox.cuda:CUDA is installed, but device gpu is not available  (error: Unable to get the number of gpus available: no CUDA-capable device is detected)\n",
      "/usr/local/lib/python2.7/dist-packages/theano/tensor/signal/downsample.py:6: UserWarning: downsample module has been moved to the theano.tensor.signal.pool module.\n",
      "  \"downsample module has been moved to the theano.tensor.signal.pool module.\")\n",
      "Using Theano backend.\n"
     ]
    }
   ],
   "source": [
    "import numpy as np\n",
    "import pandas as pd\n",
    "from collections import Counter\n",
    "import math\n",
    "\n",
    "from sklearn.neighbors import KNeighborsClassifier\n",
    "from sklearn.linear_model import LogisticRegression\n",
    "from sklearn.ensemble import RandomForestClassifier\n",
    "from sklearn.cross_validation import cross_val_score\n",
    "from sklearn import metrics\n",
    "from sklearn.cross_validation import train_test_split\n",
    "from sklearn.metrics import confusion_matrix, roc_curve, auc\n",
    "from sklearn.grid_search import GridSearchCV\n",
    "from sklearn import svm\n",
    "from sklearn.decomposition import RandomizedPCA\n",
    "from sklearn.metrics import classification_report\n",
    "from sklearn import preprocessing\n",
    "import matplotlib.pyplot as plt\n",
    "import scipy.optimize as opt\n",
    "import glob\n",
    "import os\n",
    "import sys\n",
    "import pickle\n",
    "import time\n",
    "import timeit\n",
    "\n",
    "from sklearn.decomposition import RandomizedPCA\n",
    "\n",
    "import theano\n",
    "import theano.tensor as T\n",
    "import lasagne\n",
    "\n",
    "#np.random.seed(1337)  # for reproducibility\n",
    "from keras.datasets import mnist\n",
    "from keras.models import Sequential\n",
    "from keras.layers.core import Dense, Dropout, Activation, Flatten, Layer, Reshape, AutoEncoder, Merge\n",
    "from keras.layers.convolutional import Convolution2D,MaxPooling2D,Convolution1D,MaxPooling1D,UpSampling2D, ZeroPadding2D\n",
    "from keras.optimizers import SGD, Adam, RMSprop, Adadelta\n",
    "from keras.layers.normalization import BatchNormalization\n",
    "from keras.utils import np_utils\n",
    "import keras.utils.visualize_util as vutil\n",
    "from keras.layers.recurrent import LSTM, GRU, SimpleRNN\n",
    "from keras.regularizers import l1, l2, l1l2, activity_l2, activity_l1\n",
    "import keras.layers.containers as containers\n",
    "from keras.layers.noise import GaussianNoise\n",
    "from keras.regularizers import ActivityRegularizer\n",
    "from keras import backend as K\n",
    "import keras.utils.visualize_util as vutil\n",
    "from keras.models import model_from_json\n",
    "\n",
    "import seaborn as sns\n",
    "\n",
    "%matplotlib inline\n",
    "\n",
    "from IPython.display import SVG\n",
    "\n",
    "import h5py\n",
    "\n",
    "np.set_printoptions(suppress=True)  #Supress exponent of the number 2e-2 == 0.02\n",
    "\n",
    "%matplotlib inline"
   ]
  },
  {
   "cell_type": "code",
   "execution_count": 2,
   "metadata": {
    "collapsed": true
   },
   "outputs": [],
   "source": [
    "#IS2"
   ]
  },
  {
   "cell_type": "code",
   "execution_count": 3,
   "metadata": {
    "collapsed": false
   },
   "outputs": [
    {
     "name": "stderr",
     "output_type": "stream",
     "text": [
      "/usr/lib/python2.7/dist-packages/pandas/io/parsers.py:1070: DtypeWarning: Columns (0) have mixed types. Specify dtype option on import or set low_memory=False.\n",
      "  data = self._reader.read(nrows)\n"
     ]
    }
   ],
   "source": [
    "#Read the data\n",
    "\n",
    "GenomicFeatures_IS2 = pd.read_csv(open('data/IS2/GenomicFeatures_IS2.txt','r'),sep='\\t')\n",
    "SNVCalls_IS2    = pd.read_csv(open('data/IS2/SNVCalls_IS2.txt','r'),sep='\\t') "
   ]
  },
  {
   "cell_type": "code",
   "execution_count": 4,
   "metadata": {
    "collapsed": false
   },
   "outputs": [
    {
     "name": "stdout",
     "output_type": "stream",
     "text": [
      "(51108, 16)\n",
      "(51108, 72)\n"
     ]
    }
   ],
   "source": [
    "print GenomicFeatures_IS2.shape\n",
    "print SNVCalls_IS2.shape"
   ]
  },
  {
   "cell_type": "code",
   "execution_count": 5,
   "metadata": {
    "collapsed": false
   },
   "outputs": [
    {
     "data": {
      "text/plain": [
       "CHROM                 0\n",
       "POS                   0\n",
       "END                   0\n",
       "RefAllele             0\n",
       "NonRefAllele          0\n",
       "BaseQual              0\n",
       "TumourCoverage        0\n",
       "NormalCoverage        0\n",
       "MapQual               0\n",
       "ReadPosition          0\n",
       "Trinucleotide         0\n",
       "HomopolymerRate       0\n",
       "GCcontent             0\n",
       "GenomicLocation    6460\n",
       "Distance              0\n",
       "StrandBias            0\n",
       "dtype: int64"
      ]
     },
     "execution_count": 5,
     "metadata": {},
     "output_type": "execute_result"
    }
   ],
   "source": [
    "np.sum(GenomicFeatures_IS2.isnull())"
   ]
  },
  {
   "cell_type": "code",
   "execution_count": 6,
   "metadata": {
    "collapsed": false
   },
   "outputs": [
    {
     "data": {
      "text/plain": [
       "array(['UTR3', 'UTR5', 'downstream', 'exonic', 'exonic;splicing',\n",
       "       'intergenic', 'intronic', 'nan', 'ncRNA_UTR3', 'ncRNA_UTR5',\n",
       "       'ncRNA_exonic', 'ncRNA_intronic', 'splicing', 'upstream',\n",
       "       'upstream;downstream'], \n",
       "      dtype='|S19')"
      ]
     },
     "execution_count": 6,
     "metadata": {},
     "output_type": "execute_result"
    }
   ],
   "source": [
    "np.unique(GenomicFeatures_IS2['GenomicLocation'])"
   ]
  },
  {
   "cell_type": "code",
   "execution_count": 7,
   "metadata": {
    "collapsed": false
   },
   "outputs": [
    {
     "data": {
      "text/html": [
       "<div style=\"max-height:1000px;max-width:1500px;overflow:auto;\">\n",
       "<table border=\"1\" class=\"dataframe\">\n",
       "  <thead>\n",
       "    <tr style=\"text-align: right;\">\n",
       "      <th></th>\n",
       "      <th>CHROM</th>\n",
       "      <th>POS</th>\n",
       "      <th>END</th>\n",
       "      <th>RefAllele</th>\n",
       "      <th>NonRefAllele</th>\n",
       "      <th>BaseQual</th>\n",
       "      <th>TumourCoverage</th>\n",
       "      <th>NormalCoverage</th>\n",
       "      <th>MapQual</th>\n",
       "      <th>ReadPosition</th>\n",
       "      <th>Trinucleotide</th>\n",
       "      <th>HomopolymerRate</th>\n",
       "      <th>GCcontent</th>\n",
       "      <th>GenomicLocation</th>\n",
       "      <th>Distance</th>\n",
       "      <th>StrandBias</th>\n",
       "    </tr>\n",
       "  </thead>\n",
       "  <tbody>\n",
       "    <tr>\n",
       "      <th>0</th>\n",
       "      <td> 1</td>\n",
       "      <td> 13142</td>\n",
       "      <td> 13143</td>\n",
       "      <td>  41</td>\n",
       "      <td>  8</td>\n",
       "      <td> 1670</td>\n",
       "      <td>  56</td>\n",
       "      <td>  70</td>\n",
       "      <td> 0</td>\n",
       "      <td> 21.0</td>\n",
       "      <td> TCA</td>\n",
       "      <td> 2.567376</td>\n",
       "      <td> 0.599010</td>\n",
       "      <td>     intergenic</td>\n",
       "      <td> 41571</td>\n",
       "      <td> 0.375000</td>\n",
       "    </tr>\n",
       "    <tr>\n",
       "      <th>1</th>\n",
       "      <td> 1</td>\n",
       "      <td> 16976</td>\n",
       "      <td> 16977</td>\n",
       "      <td>  82</td>\n",
       "      <td> 24</td>\n",
       "      <td> 3377</td>\n",
       "      <td> 126</td>\n",
       "      <td> 142</td>\n",
       "      <td> 0</td>\n",
       "      <td> 37.5</td>\n",
       "      <td> GCC</td>\n",
       "      <td> 2.468531</td>\n",
       "      <td> 0.589109</td>\n",
       "      <td>   ncRNA_exonic</td>\n",
       "      <td> 37737</td>\n",
       "      <td> 0.658730</td>\n",
       "    </tr>\n",
       "    <tr>\n",
       "      <th>2</th>\n",
       "      <td> 1</td>\n",
       "      <td> 17019</td>\n",
       "      <td> 17020</td>\n",
       "      <td>  89</td>\n",
       "      <td> 38</td>\n",
       "      <td> 3943</td>\n",
       "      <td> 151</td>\n",
       "      <td> 172</td>\n",
       "      <td> 0</td>\n",
       "      <td> 51.0</td>\n",
       "      <td> GCC</td>\n",
       "      <td> 2.427586</td>\n",
       "      <td> 0.589109</td>\n",
       "      <td>   ncRNA_exonic</td>\n",
       "      <td> 37694</td>\n",
       "      <td> 0.509934</td>\n",
       "    </tr>\n",
       "    <tr>\n",
       "      <th>3</th>\n",
       "      <td> 1</td>\n",
       "      <td> 17384</td>\n",
       "      <td> 17385</td>\n",
       "      <td> 103</td>\n",
       "      <td> 39</td>\n",
       "      <td> 4198</td>\n",
       "      <td> 164</td>\n",
       "      <td> 170</td>\n",
       "      <td> 0</td>\n",
       "      <td> 44.0</td>\n",
       "      <td> CCC</td>\n",
       "      <td> 2.463087</td>\n",
       "      <td> 0.603960</td>\n",
       "      <td> ncRNA_intronic</td>\n",
       "      <td> 37329</td>\n",
       "      <td> 0.396341</td>\n",
       "    </tr>\n",
       "    <tr>\n",
       "      <th>4</th>\n",
       "      <td> 1</td>\n",
       "      <td> 18933</td>\n",
       "      <td> 18934</td>\n",
       "      <td>  36</td>\n",
       "      <td> 16</td>\n",
       "      <td> 1558</td>\n",
       "      <td>  66</td>\n",
       "      <td>  59</td>\n",
       "      <td> 0</td>\n",
       "      <td> 31.0</td>\n",
       "      <td> GCG</td>\n",
       "      <td> 2.263158</td>\n",
       "      <td> 0.589109</td>\n",
       "      <td> ncRNA_intronic</td>\n",
       "      <td> 35780</td>\n",
       "      <td> 0.363636</td>\n",
       "    </tr>\n",
       "  </tbody>\n",
       "</table>\n",
       "<p>5 rows × 16 columns</p>\n",
       "</div>"
      ],
      "text/plain": [
       "  CHROM    POS    END  RefAllele  NonRefAllele  BaseQual  TumourCoverage  \\\n",
       "0     1  13142  13143         41             8      1670              56   \n",
       "1     1  16976  16977         82            24      3377             126   \n",
       "2     1  17019  17020         89            38      3943             151   \n",
       "3     1  17384  17385        103            39      4198             164   \n",
       "4     1  18933  18934         36            16      1558              66   \n",
       "\n",
       "   NormalCoverage  MapQual  ReadPosition Trinucleotide  HomopolymerRate  \\\n",
       "0              70        0          21.0           TCA         2.567376   \n",
       "1             142        0          37.5           GCC         2.468531   \n",
       "2             172        0          51.0           GCC         2.427586   \n",
       "3             170        0          44.0           CCC         2.463087   \n",
       "4              59        0          31.0           GCG         2.263158   \n",
       "\n",
       "   GCcontent GenomicLocation  Distance  StrandBias  \n",
       "0   0.599010      intergenic     41571    0.375000  \n",
       "1   0.589109    ncRNA_exonic     37737    0.658730  \n",
       "2   0.589109    ncRNA_exonic     37694    0.509934  \n",
       "3   0.603960  ncRNA_intronic     37329    0.396341  \n",
       "4   0.589109  ncRNA_intronic     35780    0.363636  \n",
       "\n",
       "[5 rows x 16 columns]"
      ]
     },
     "execution_count": 7,
     "metadata": {},
     "output_type": "execute_result"
    }
   ],
   "source": [
    "GenomicFeatures_IS2.head()"
   ]
  },
  {
   "cell_type": "code",
   "execution_count": 8,
   "metadata": {
    "collapsed": false
   },
   "outputs": [
    {
     "data": {
      "text/html": [
       "<div style=\"max-height:1000px;max-width:1500px;overflow:auto;\">\n",
       "<table border=\"1\" class=\"dataframe\">\n",
       "  <thead>\n",
       "    <tr style=\"text-align: right;\">\n",
       "      <th></th>\n",
       "      <th>CHROM</th>\n",
       "      <th>POS</th>\n",
       "      <th>END</th>\n",
       "      <th>X2357355</th>\n",
       "      <th>X2361924</th>\n",
       "      <th>X2361980</th>\n",
       "      <th>X2361993</th>\n",
       "      <th>X2361996</th>\n",
       "      <th>X2363577</th>\n",
       "      <th>X2363788</th>\n",
       "      <th>X2364661</th>\n",
       "      <th>X2364663</th>\n",
       "      <th>X2364695</th>\n",
       "      <th>X2366709</th>\n",
       "      <th>X2366711</th>\n",
       "      <th>X2367174</th>\n",
       "      <th>X2367176</th>\n",
       "      <th>X2367178</th>\n",
       "      <th>X2367180</th>\n",
       "      <th>X2367197</th>\n",
       "      <th></th>\n",
       "    </tr>\n",
       "  </thead>\n",
       "  <tbody>\n",
       "    <tr>\n",
       "      <th>0</th>\n",
       "      <td> 1</td>\n",
       "      <td> 13142</td>\n",
       "      <td> 13143</td>\n",
       "      <td> 0</td>\n",
       "      <td> 0</td>\n",
       "      <td> 0</td>\n",
       "      <td> 1</td>\n",
       "      <td> 0</td>\n",
       "      <td> 0</td>\n",
       "      <td> 0</td>\n",
       "      <td> 0</td>\n",
       "      <td> 0</td>\n",
       "      <td> 0</td>\n",
       "      <td> 0</td>\n",
       "      <td> 0</td>\n",
       "      <td> 0</td>\n",
       "      <td> 0</td>\n",
       "      <td> 0</td>\n",
       "      <td> 0</td>\n",
       "      <td> 0</td>\n",
       "      <td>...</td>\n",
       "    </tr>\n",
       "    <tr>\n",
       "      <th>1</th>\n",
       "      <td> 1</td>\n",
       "      <td> 16976</td>\n",
       "      <td> 16977</td>\n",
       "      <td> 0</td>\n",
       "      <td> 0</td>\n",
       "      <td> 0</td>\n",
       "      <td> 0</td>\n",
       "      <td> 0</td>\n",
       "      <td> 0</td>\n",
       "      <td> 1</td>\n",
       "      <td> 0</td>\n",
       "      <td> 0</td>\n",
       "      <td> 0</td>\n",
       "      <td> 0</td>\n",
       "      <td> 0</td>\n",
       "      <td> 0</td>\n",
       "      <td> 0</td>\n",
       "      <td> 0</td>\n",
       "      <td> 0</td>\n",
       "      <td> 0</td>\n",
       "      <td>...</td>\n",
       "    </tr>\n",
       "    <tr>\n",
       "      <th>2</th>\n",
       "      <td> 1</td>\n",
       "      <td> 17019</td>\n",
       "      <td> 17020</td>\n",
       "      <td> 0</td>\n",
       "      <td> 0</td>\n",
       "      <td> 0</td>\n",
       "      <td> 0</td>\n",
       "      <td> 0</td>\n",
       "      <td> 0</td>\n",
       "      <td> 1</td>\n",
       "      <td> 0</td>\n",
       "      <td> 0</td>\n",
       "      <td> 0</td>\n",
       "      <td> 0</td>\n",
       "      <td> 0</td>\n",
       "      <td> 0</td>\n",
       "      <td> 0</td>\n",
       "      <td> 0</td>\n",
       "      <td> 0</td>\n",
       "      <td> 0</td>\n",
       "      <td>...</td>\n",
       "    </tr>\n",
       "    <tr>\n",
       "      <th>3</th>\n",
       "      <td> 1</td>\n",
       "      <td> 17384</td>\n",
       "      <td> 17385</td>\n",
       "      <td> 0</td>\n",
       "      <td> 0</td>\n",
       "      <td> 0</td>\n",
       "      <td> 0</td>\n",
       "      <td> 0</td>\n",
       "      <td> 0</td>\n",
       "      <td> 1</td>\n",
       "      <td> 0</td>\n",
       "      <td> 0</td>\n",
       "      <td> 0</td>\n",
       "      <td> 0</td>\n",
       "      <td> 0</td>\n",
       "      <td> 0</td>\n",
       "      <td> 0</td>\n",
       "      <td> 0</td>\n",
       "      <td> 0</td>\n",
       "      <td> 0</td>\n",
       "      <td>...</td>\n",
       "    </tr>\n",
       "    <tr>\n",
       "      <th>4</th>\n",
       "      <td> 1</td>\n",
       "      <td> 18933</td>\n",
       "      <td> 18934</td>\n",
       "      <td> 0</td>\n",
       "      <td> 0</td>\n",
       "      <td> 0</td>\n",
       "      <td> 0</td>\n",
       "      <td> 0</td>\n",
       "      <td> 0</td>\n",
       "      <td> 1</td>\n",
       "      <td> 0</td>\n",
       "      <td> 0</td>\n",
       "      <td> 0</td>\n",
       "      <td> 0</td>\n",
       "      <td> 0</td>\n",
       "      <td> 0</td>\n",
       "      <td> 0</td>\n",
       "      <td> 0</td>\n",
       "      <td> 0</td>\n",
       "      <td> 0</td>\n",
       "      <td>...</td>\n",
       "    </tr>\n",
       "  </tbody>\n",
       "</table>\n",
       "<p>5 rows × 72 columns</p>\n",
       "</div>"
      ],
      "text/plain": [
       "  CHROM    POS    END  X2357355  X2361924  X2361980  X2361993  X2361996  \\\n",
       "0     1  13142  13143         0         0         0         1         0   \n",
       "1     1  16976  16977         0         0         0         0         0   \n",
       "2     1  17019  17020         0         0         0         0         0   \n",
       "3     1  17384  17385         0         0         0         0         0   \n",
       "4     1  18933  18934         0         0         0         0         0   \n",
       "\n",
       "   X2363577  X2363788  X2364661  X2364663  X2364695  X2366709  X2366711  \\\n",
       "0         0         0         0         0         0         0         0   \n",
       "1         0         1         0         0         0         0         0   \n",
       "2         0         1         0         0         0         0         0   \n",
       "3         0         1         0         0         0         0         0   \n",
       "4         0         1         0         0         0         0         0   \n",
       "\n",
       "   X2367174  X2367176  X2367178  X2367180  X2367197      \n",
       "0         0         0         0         0         0 ...  \n",
       "1         0         0         0         0         0 ...  \n",
       "2         0         0         0         0         0 ...  \n",
       "3         0         0         0         0         0 ...  \n",
       "4         0         0         0         0         0 ...  \n",
       "\n",
       "[5 rows x 72 columns]"
      ]
     },
     "execution_count": 8,
     "metadata": {},
     "output_type": "execute_result"
    }
   ],
   "source": [
    "SNVCalls_IS2.head()"
   ]
  },
  {
   "cell_type": "code",
   "execution_count": 9,
   "metadata": {
    "collapsed": false
   },
   "outputs": [
    {
     "data": {
      "text/plain": [
       "array(['ACA', 'ACC', 'ACG', 'ACT', 'ATA', 'ATC', 'ATG', 'ATT', 'CCA',\n",
       "       'CCC', 'CCG', 'CCT', 'CTA', 'CTC', 'CTG', 'CTT', 'GCA', 'GCC',\n",
       "       'GCG', 'GCT', 'GTA', 'GTC', 'GTG', 'GTT', 'TCA', 'TCC', 'TCG',\n",
       "       'TCT', 'TTA', 'TTC', 'TTG', 'TTT'], \n",
       "      dtype='|S3')"
      ]
     },
     "execution_count": 9,
     "metadata": {},
     "output_type": "execute_result"
    }
   ],
   "source": [
    "np.unique(GenomicFeatures_IS2['Trinucleotide'])"
   ]
  },
  {
   "cell_type": "code",
   "execution_count": 11,
   "metadata": {
    "collapsed": true
   },
   "outputs": [],
   "source": [
    "IS2 = pd.merge(GenomicFeatures_IS2, SNVCalls_IS2,left_on=['CHROM', 'POS'], right_on=['CHROM','POS'])\n"
   ]
  },
  {
   "cell_type": "code",
   "execution_count": 12,
   "metadata": {
    "collapsed": false
   },
   "outputs": [
    {
     "data": {
      "text/html": [
       "<div style=\"max-height:1000px;max-width:1500px;overflow:auto;\">\n",
       "<table border=\"1\" class=\"dataframe\">\n",
       "  <thead>\n",
       "    <tr style=\"text-align: right;\">\n",
       "      <th></th>\n",
       "      <th>CHROM</th>\n",
       "      <th>POS</th>\n",
       "      <th>END_x</th>\n",
       "      <th>RefAllele</th>\n",
       "      <th>NonRefAllele</th>\n",
       "      <th>BaseQual</th>\n",
       "      <th>TumourCoverage</th>\n",
       "      <th>NormalCoverage</th>\n",
       "      <th>MapQual</th>\n",
       "      <th>ReadPosition</th>\n",
       "      <th>Trinucleotide</th>\n",
       "      <th>HomopolymerRate</th>\n",
       "      <th>GCcontent</th>\n",
       "      <th>GenomicLocation</th>\n",
       "      <th>Distance</th>\n",
       "      <th>StrandBias</th>\n",
       "      <th>END_y</th>\n",
       "      <th>X2357355</th>\n",
       "      <th>X2361924</th>\n",
       "      <th>X2361980</th>\n",
       "      <th></th>\n",
       "    </tr>\n",
       "  </thead>\n",
       "  <tbody>\n",
       "    <tr>\n",
       "      <th>0</th>\n",
       "      <td> 1</td>\n",
       "      <td> 13142</td>\n",
       "      <td> 13143</td>\n",
       "      <td>  41</td>\n",
       "      <td>  8</td>\n",
       "      <td> 1670</td>\n",
       "      <td>  56</td>\n",
       "      <td>  70</td>\n",
       "      <td> 0</td>\n",
       "      <td> 21.0</td>\n",
       "      <td> TCA</td>\n",
       "      <td> 2.567376</td>\n",
       "      <td> 0.599010</td>\n",
       "      <td>     intergenic</td>\n",
       "      <td> 41571</td>\n",
       "      <td> 0.375000</td>\n",
       "      <td> 13143</td>\n",
       "      <td> 0</td>\n",
       "      <td> 0</td>\n",
       "      <td> 0</td>\n",
       "      <td>...</td>\n",
       "    </tr>\n",
       "    <tr>\n",
       "      <th>1</th>\n",
       "      <td> 1</td>\n",
       "      <td> 16976</td>\n",
       "      <td> 16977</td>\n",
       "      <td>  82</td>\n",
       "      <td> 24</td>\n",
       "      <td> 3377</td>\n",
       "      <td> 126</td>\n",
       "      <td> 142</td>\n",
       "      <td> 0</td>\n",
       "      <td> 37.5</td>\n",
       "      <td> GCC</td>\n",
       "      <td> 2.468531</td>\n",
       "      <td> 0.589109</td>\n",
       "      <td>   ncRNA_exonic</td>\n",
       "      <td> 37737</td>\n",
       "      <td> 0.658730</td>\n",
       "      <td> 16977</td>\n",
       "      <td> 0</td>\n",
       "      <td> 0</td>\n",
       "      <td> 0</td>\n",
       "      <td>...</td>\n",
       "    </tr>\n",
       "    <tr>\n",
       "      <th>2</th>\n",
       "      <td> 1</td>\n",
       "      <td> 17019</td>\n",
       "      <td> 17020</td>\n",
       "      <td>  89</td>\n",
       "      <td> 38</td>\n",
       "      <td> 3943</td>\n",
       "      <td> 151</td>\n",
       "      <td> 172</td>\n",
       "      <td> 0</td>\n",
       "      <td> 51.0</td>\n",
       "      <td> GCC</td>\n",
       "      <td> 2.427586</td>\n",
       "      <td> 0.589109</td>\n",
       "      <td>   ncRNA_exonic</td>\n",
       "      <td> 37694</td>\n",
       "      <td> 0.509934</td>\n",
       "      <td> 17020</td>\n",
       "      <td> 0</td>\n",
       "      <td> 0</td>\n",
       "      <td> 0</td>\n",
       "      <td>...</td>\n",
       "    </tr>\n",
       "    <tr>\n",
       "      <th>3</th>\n",
       "      <td> 1</td>\n",
       "      <td> 17384</td>\n",
       "      <td> 17385</td>\n",
       "      <td> 103</td>\n",
       "      <td> 39</td>\n",
       "      <td> 4198</td>\n",
       "      <td> 164</td>\n",
       "      <td> 170</td>\n",
       "      <td> 0</td>\n",
       "      <td> 44.0</td>\n",
       "      <td> CCC</td>\n",
       "      <td> 2.463087</td>\n",
       "      <td> 0.603960</td>\n",
       "      <td> ncRNA_intronic</td>\n",
       "      <td> 37329</td>\n",
       "      <td> 0.396341</td>\n",
       "      <td> 17385</td>\n",
       "      <td> 0</td>\n",
       "      <td> 0</td>\n",
       "      <td> 0</td>\n",
       "      <td>...</td>\n",
       "    </tr>\n",
       "    <tr>\n",
       "      <th>4</th>\n",
       "      <td> 1</td>\n",
       "      <td> 18933</td>\n",
       "      <td> 18934</td>\n",
       "      <td>  36</td>\n",
       "      <td> 16</td>\n",
       "      <td> 1558</td>\n",
       "      <td>  66</td>\n",
       "      <td>  59</td>\n",
       "      <td> 0</td>\n",
       "      <td> 31.0</td>\n",
       "      <td> GCG</td>\n",
       "      <td> 2.263158</td>\n",
       "      <td> 0.589109</td>\n",
       "      <td> ncRNA_intronic</td>\n",
       "      <td> 35780</td>\n",
       "      <td> 0.363636</td>\n",
       "      <td> 18934</td>\n",
       "      <td> 0</td>\n",
       "      <td> 0</td>\n",
       "      <td> 0</td>\n",
       "      <td>...</td>\n",
       "    </tr>\n",
       "  </tbody>\n",
       "</table>\n",
       "<p>5 rows × 86 columns</p>\n",
       "</div>"
      ],
      "text/plain": [
       "  CHROM    POS  END_x  RefAllele  NonRefAllele  BaseQual  TumourCoverage  \\\n",
       "0     1  13142  13143         41             8      1670              56   \n",
       "1     1  16976  16977         82            24      3377             126   \n",
       "2     1  17019  17020         89            38      3943             151   \n",
       "3     1  17384  17385        103            39      4198             164   \n",
       "4     1  18933  18934         36            16      1558              66   \n",
       "\n",
       "   NormalCoverage  MapQual  ReadPosition Trinucleotide  HomopolymerRate  \\\n",
       "0              70        0          21.0           TCA         2.567376   \n",
       "1             142        0          37.5           GCC         2.468531   \n",
       "2             172        0          51.0           GCC         2.427586   \n",
       "3             170        0          44.0           CCC         2.463087   \n",
       "4              59        0          31.0           GCG         2.263158   \n",
       "\n",
       "   GCcontent GenomicLocation  Distance  StrandBias  END_y  X2357355  X2361924  \\\n",
       "0   0.599010      intergenic     41571    0.375000  13143         0         0   \n",
       "1   0.589109    ncRNA_exonic     37737    0.658730  16977         0         0   \n",
       "2   0.589109    ncRNA_exonic     37694    0.509934  17020         0         0   \n",
       "3   0.603960  ncRNA_intronic     37329    0.396341  17385         0         0   \n",
       "4   0.589109  ncRNA_intronic     35780    0.363636  18934         0         0   \n",
       "\n",
       "   X2361980      \n",
       "0         0 ...  \n",
       "1         0 ...  \n",
       "2         0 ...  \n",
       "3         0 ...  \n",
       "4         0 ...  \n",
       "\n",
       "[5 rows x 86 columns]"
      ]
     },
     "execution_count": 12,
     "metadata": {},
     "output_type": "execute_result"
    }
   ],
   "source": [
    "IS2.head() #182+15"
   ]
  },
  {
   "cell_type": "code",
   "execution_count": 13,
   "metadata": {
    "collapsed": true
   },
   "outputs": [],
   "source": [
    "IS2_X = IS2.iloc[:,3:16] #Exclude CHROM, POS\n",
    "IS2_Y = IS2.iloc[:,17:]  #Exclude CHROM_y, POS_y, END"
   ]
  },
  {
   "cell_type": "code",
   "execution_count": 14,
   "metadata": {
    "collapsed": false
   },
   "outputs": [
    {
     "name": "stdout",
     "output_type": "stream",
     "text": [
      "(42916, 13)\n",
      "(42916, 69)\n"
     ]
    }
   ],
   "source": [
    "print IS2_X.shape\n",
    "print IS2_Y.shape"
   ]
  },
  {
   "cell_type": "code",
   "execution_count": 16,
   "metadata": {
    "collapsed": false
   },
   "outputs": [
    {
     "data": {
      "text/html": [
       "<div style=\"max-height:1000px;max-width:1500px;overflow:auto;\">\n",
       "<table border=\"1\" class=\"dataframe\">\n",
       "  <thead>\n",
       "    <tr style=\"text-align: right;\">\n",
       "      <th></th>\n",
       "      <th>RefAllele</th>\n",
       "      <th>NonRefAllele</th>\n",
       "      <th>BaseQual</th>\n",
       "      <th>TumourCoverage</th>\n",
       "      <th>NormalCoverage</th>\n",
       "      <th>MapQual</th>\n",
       "      <th>ReadPosition</th>\n",
       "      <th>Trinucleotide</th>\n",
       "      <th>HomopolymerRate</th>\n",
       "      <th>GCcontent</th>\n",
       "      <th>GenomicLocation</th>\n",
       "      <th>Distance</th>\n",
       "      <th>StrandBias</th>\n",
       "    </tr>\n",
       "  </thead>\n",
       "  <tbody>\n",
       "    <tr>\n",
       "      <th>0</th>\n",
       "      <td> 41</td>\n",
       "      <td>  8</td>\n",
       "      <td> 1670</td>\n",
       "      <td>  56</td>\n",
       "      <td>  70</td>\n",
       "      <td> 0</td>\n",
       "      <td> 21.0</td>\n",
       "      <td> TCA</td>\n",
       "      <td> 2.567376</td>\n",
       "      <td> 0.599010</td>\n",
       "      <td>   intergenic</td>\n",
       "      <td> 41571</td>\n",
       "      <td> 0.37500</td>\n",
       "    </tr>\n",
       "    <tr>\n",
       "      <th>1</th>\n",
       "      <td> 82</td>\n",
       "      <td> 24</td>\n",
       "      <td> 3377</td>\n",
       "      <td> 126</td>\n",
       "      <td> 142</td>\n",
       "      <td> 0</td>\n",
       "      <td> 37.5</td>\n",
       "      <td> GCC</td>\n",
       "      <td> 2.468531</td>\n",
       "      <td> 0.589109</td>\n",
       "      <td> ncRNA_exonic</td>\n",
       "      <td> 37737</td>\n",
       "      <td> 0.65873</td>\n",
       "    </tr>\n",
       "  </tbody>\n",
       "</table>\n",
       "<p>2 rows × 13 columns</p>\n",
       "</div>"
      ],
      "text/plain": [
       "   RefAllele  NonRefAllele  BaseQual  TumourCoverage  NormalCoverage  MapQual  \\\n",
       "0         41             8      1670              56              70        0   \n",
       "1         82            24      3377             126             142        0   \n",
       "\n",
       "   ReadPosition Trinucleotide  HomopolymerRate  GCcontent GenomicLocation  \\\n",
       "0          21.0           TCA         2.567376   0.599010      intergenic   \n",
       "1          37.5           GCC         2.468531   0.589109    ncRNA_exonic   \n",
       "\n",
       "   Distance  StrandBias  \n",
       "0     41571     0.37500  \n",
       "1     37737     0.65873  \n",
       "\n",
       "[2 rows x 13 columns]"
      ]
     },
     "execution_count": 16,
     "metadata": {},
     "output_type": "execute_result"
    }
   ],
   "source": [
    "IS2_X[:2]"
   ]
  },
  {
   "cell_type": "code",
   "execution_count": 18,
   "metadata": {
    "collapsed": false
   },
   "outputs": [
    {
     "data": {
      "text/html": [
       "<div style=\"max-height:1000px;max-width:1500px;overflow:auto;\">\n",
       "<table border=\"1\" class=\"dataframe\">\n",
       "  <thead>\n",
       "    <tr style=\"text-align: right;\">\n",
       "      <th></th>\n",
       "      <th>X2357355</th>\n",
       "      <th>X2361924</th>\n",
       "      <th>X2361980</th>\n",
       "      <th>X2361993</th>\n",
       "      <th>X2361996</th>\n",
       "      <th>X2363577</th>\n",
       "      <th>X2363788</th>\n",
       "      <th>X2364661</th>\n",
       "      <th>X2364663</th>\n",
       "      <th>X2364695</th>\n",
       "      <th>X2366709</th>\n",
       "      <th>X2366711</th>\n",
       "      <th>X2367174</th>\n",
       "      <th>X2367176</th>\n",
       "      <th>X2367178</th>\n",
       "      <th>X2367180</th>\n",
       "      <th>X2367197</th>\n",
       "      <th>X2367207</th>\n",
       "      <th>X2367734</th>\n",
       "      <th>X2367761</th>\n",
       "      <th></th>\n",
       "    </tr>\n",
       "  </thead>\n",
       "  <tbody>\n",
       "    <tr>\n",
       "      <th>0</th>\n",
       "      <td> 0</td>\n",
       "      <td> 0</td>\n",
       "      <td> 0</td>\n",
       "      <td> 1</td>\n",
       "      <td> 0</td>\n",
       "      <td> 0</td>\n",
       "      <td> 0</td>\n",
       "      <td> 0</td>\n",
       "      <td> 0</td>\n",
       "      <td> 0</td>\n",
       "      <td> 0</td>\n",
       "      <td> 0</td>\n",
       "      <td> 0</td>\n",
       "      <td> 0</td>\n",
       "      <td> 0</td>\n",
       "      <td> 0</td>\n",
       "      <td> 0</td>\n",
       "      <td> 0</td>\n",
       "      <td> 0</td>\n",
       "      <td> 0</td>\n",
       "      <td>...</td>\n",
       "    </tr>\n",
       "    <tr>\n",
       "      <th>1</th>\n",
       "      <td> 0</td>\n",
       "      <td> 0</td>\n",
       "      <td> 0</td>\n",
       "      <td> 0</td>\n",
       "      <td> 0</td>\n",
       "      <td> 0</td>\n",
       "      <td> 1</td>\n",
       "      <td> 0</td>\n",
       "      <td> 0</td>\n",
       "      <td> 0</td>\n",
       "      <td> 0</td>\n",
       "      <td> 0</td>\n",
       "      <td> 0</td>\n",
       "      <td> 0</td>\n",
       "      <td> 0</td>\n",
       "      <td> 0</td>\n",
       "      <td> 0</td>\n",
       "      <td> 0</td>\n",
       "      <td> 0</td>\n",
       "      <td> 0</td>\n",
       "      <td>...</td>\n",
       "    </tr>\n",
       "  </tbody>\n",
       "</table>\n",
       "<p>2 rows × 69 columns</p>\n",
       "</div>"
      ],
      "text/plain": [
       "   X2357355  X2361924  X2361980  X2361993  X2361996  X2363577  X2363788  \\\n",
       "0         0         0         0         1         0         0         0   \n",
       "1         0         0         0         0         0         0         1   \n",
       "\n",
       "   X2364661  X2364663  X2364695  X2366709  X2366711  X2367174  X2367176  \\\n",
       "0         0         0         0         0         0         0         0   \n",
       "1         0         0         0         0         0         0         0   \n",
       "\n",
       "   X2367178  X2367180  X2367197  X2367207  X2367734  X2367761      \n",
       "0         0         0         0         0         0         0 ...  \n",
       "1         0         0         0         0         0         0 ...  \n",
       "\n",
       "[2 rows x 69 columns]"
      ]
     },
     "execution_count": 18,
     "metadata": {},
     "output_type": "execute_result"
    }
   ],
   "source": [
    "IS2_Y[:2]"
   ]
  },
  {
   "cell_type": "code",
   "execution_count": 19,
   "metadata": {
    "collapsed": false
   },
   "outputs": [
    {
     "name": "stdout",
     "output_type": "stream",
     "text": [
      "42916\n",
      "(42916, 1)\n"
     ]
    }
   ],
   "source": [
    "totalSample = IS2_Y.shape[0]\n",
    "IS2_Y_Val = np.zeros((totalSample,1)) #Will be our label now\n",
    "\n",
    "print totalSample\n",
    "print IS2_Y_Val.shape"
   ]
  },
  {
   "cell_type": "code",
   "execution_count": 20,
   "metadata": {
    "collapsed": false
   },
   "outputs": [
    {
     "data": {
      "text/plain": [
       "(42916, 69)"
      ]
     },
     "execution_count": 20,
     "metadata": {},
     "output_type": "execute_result"
    }
   ],
   "source": [
    "IS2_Y.shape"
   ]
  },
  {
   "cell_type": "code",
   "execution_count": 21,
   "metadata": {
    "collapsed": false
   },
   "outputs": [
    {
     "data": {
      "text/plain": [
       "(69,)"
      ]
     },
     "execution_count": 21,
     "metadata": {},
     "output_type": "execute_result"
    }
   ],
   "source": [
    "IS2_Y.values[0].shape"
   ]
  },
  {
   "cell_type": "code",
   "execution_count": 22,
   "metadata": {
    "collapsed": true
   },
   "outputs": [],
   "source": [
    "for i in range(totalSample):\n",
    "    IS2_Y_Val[i] = np.argmax(np.bincount(IS2_Y.values[i]))"
   ]
  },
  {
   "cell_type": "code",
   "execution_count": 23,
   "metadata": {
    "collapsed": true
   },
   "outputs": [],
   "source": [
    "IS2_Y_Val_1 = pd.DataFrame(IS2_Y_Val)\n",
    "IS2_Y_Val_1.columns = ['Label']"
   ]
  },
  {
   "cell_type": "code",
   "execution_count": 24,
   "metadata": {
    "collapsed": false
   },
   "outputs": [
    {
     "data": {
      "text/html": [
       "<div style=\"max-height:1000px;max-width:1500px;overflow:auto;\">\n",
       "<table border=\"1\" class=\"dataframe\">\n",
       "  <thead>\n",
       "    <tr style=\"text-align: right;\">\n",
       "      <th></th>\n",
       "      <th>Label</th>\n",
       "    </tr>\n",
       "  </thead>\n",
       "  <tbody>\n",
       "    <tr>\n",
       "      <th>0</th>\n",
       "      <td> 0</td>\n",
       "    </tr>\n",
       "    <tr>\n",
       "      <th>1</th>\n",
       "      <td> 0</td>\n",
       "    </tr>\n",
       "    <tr>\n",
       "      <th>2</th>\n",
       "      <td> 0</td>\n",
       "    </tr>\n",
       "  </tbody>\n",
       "</table>\n",
       "<p>3 rows × 1 columns</p>\n",
       "</div>"
      ],
      "text/plain": [
       "   Label\n",
       "0      0\n",
       "1      0\n",
       "2      0\n",
       "\n",
       "[3 rows x 1 columns]"
      ]
     },
     "execution_count": 24,
     "metadata": {},
     "output_type": "execute_result"
    }
   ],
   "source": [
    "IS2_Y_Val_1[:3]"
   ]
  },
  {
   "cell_type": "code",
   "execution_count": 25,
   "metadata": {
    "collapsed": true
   },
   "outputs": [],
   "source": [
    "IS2_dataframe = pd.concat([IS2_X, IS2_Y_Val_1],axis=1)"
   ]
  },
  {
   "cell_type": "code",
   "execution_count": 26,
   "metadata": {
    "collapsed": false
   },
   "outputs": [
    {
     "data": {
      "text/plain": [
       "(42916, 14)"
      ]
     },
     "execution_count": 26,
     "metadata": {},
     "output_type": "execute_result"
    }
   ],
   "source": [
    "IS2_dataframe.shape"
   ]
  },
  {
   "cell_type": "code",
   "execution_count": 27,
   "metadata": {
    "collapsed": false
   },
   "outputs": [
    {
     "data": {
      "text/html": [
       "<div style=\"max-height:1000px;max-width:1500px;overflow:auto;\">\n",
       "<table border=\"1\" class=\"dataframe\">\n",
       "  <thead>\n",
       "    <tr style=\"text-align: right;\">\n",
       "      <th></th>\n",
       "      <th>RefAllele</th>\n",
       "      <th>NonRefAllele</th>\n",
       "      <th>BaseQual</th>\n",
       "      <th>TumourCoverage</th>\n",
       "      <th>NormalCoverage</th>\n",
       "      <th>MapQual</th>\n",
       "      <th>ReadPosition</th>\n",
       "      <th>Trinucleotide</th>\n",
       "      <th>HomopolymerRate</th>\n",
       "      <th>GCcontent</th>\n",
       "      <th>GenomicLocation</th>\n",
       "      <th>Distance</th>\n",
       "      <th>StrandBias</th>\n",
       "      <th>Label</th>\n",
       "    </tr>\n",
       "  </thead>\n",
       "  <tbody>\n",
       "    <tr>\n",
       "      <th>0</th>\n",
       "      <td> 41</td>\n",
       "      <td>  8</td>\n",
       "      <td> 1670</td>\n",
       "      <td>  56</td>\n",
       "      <td>  70</td>\n",
       "      <td> 0</td>\n",
       "      <td> 21.0</td>\n",
       "      <td> TCA</td>\n",
       "      <td> 2.567376</td>\n",
       "      <td> 0.599010</td>\n",
       "      <td>   intergenic</td>\n",
       "      <td> 41571</td>\n",
       "      <td> 0.37500</td>\n",
       "      <td> 0</td>\n",
       "    </tr>\n",
       "    <tr>\n",
       "      <th>1</th>\n",
       "      <td> 82</td>\n",
       "      <td> 24</td>\n",
       "      <td> 3377</td>\n",
       "      <td> 126</td>\n",
       "      <td> 142</td>\n",
       "      <td> 0</td>\n",
       "      <td> 37.5</td>\n",
       "      <td> GCC</td>\n",
       "      <td> 2.468531</td>\n",
       "      <td> 0.589109</td>\n",
       "      <td> ncRNA_exonic</td>\n",
       "      <td> 37737</td>\n",
       "      <td> 0.65873</td>\n",
       "      <td> 0</td>\n",
       "    </tr>\n",
       "  </tbody>\n",
       "</table>\n",
       "<p>2 rows × 14 columns</p>\n",
       "</div>"
      ],
      "text/plain": [
       "   RefAllele  NonRefAllele  BaseQual  TumourCoverage  NormalCoverage  MapQual  \\\n",
       "0         41             8      1670              56              70        0   \n",
       "1         82            24      3377             126             142        0   \n",
       "\n",
       "   ReadPosition Trinucleotide  HomopolymerRate  GCcontent GenomicLocation  \\\n",
       "0          21.0           TCA         2.567376   0.599010      intergenic   \n",
       "1          37.5           GCC         2.468531   0.589109    ncRNA_exonic   \n",
       "\n",
       "   Distance  StrandBias  Label  \n",
       "0     41571     0.37500      0  \n",
       "1     37737     0.65873      0  \n",
       "\n",
       "[2 rows x 14 columns]"
      ]
     },
     "execution_count": 27,
     "metadata": {},
     "output_type": "execute_result"
    }
   ],
   "source": [
    "IS2_dataframe[:2]"
   ]
  },
  {
   "cell_type": "code",
   "execution_count": 29,
   "metadata": {
    "collapsed": true
   },
   "outputs": [],
   "source": [
    "IS2_dataframe.to_csv('IS2.csv')"
   ]
  },
  {
   "cell_type": "code",
   "execution_count": 29,
   "metadata": {
    "collapsed": true
   },
   "outputs": [],
   "source": [
    "#Now we have variable importance ...lets do analysis"
   ]
  },
  {
   "cell_type": "code",
   "execution_count": 30,
   "metadata": {
    "collapsed": true
   },
   "outputs": [],
   "source": [
    "%load_ext rpy2.ipython"
   ]
  },
  {
   "cell_type": "code",
   "execution_count": 31,
   "metadata": {
    "collapsed": false
   },
   "outputs": [
    {
     "data": {
      "text/plain": [
       "'data.frame':\t42916 obs. of  15 variables:\n",
       " $ X              : int  0 1 2 3 4 5 6 7 8 9 ...\n",
       " $ RefAllele      : int  41 82 89 103 36 53 80 44 47 44 ...\n",
       " $ NonRefAllele   : int  8 24 38 39 16 20 25 20 18 26 ...\n",
       " $ BaseQual       : int  1670 3377 3943 4198 1558 2231 3111 1885 1987 2129 ...\n",
       " $ TumourCoverage : int  56 126 151 164 66 85 118 75 74 77 ...\n",
       " $ NormalCoverage : int  70 142 172 170 59 87 136 85 63 81 ...\n",
       " $ MapQual        : num  0 0 0 0 0 0 17 0 0 0 ...\n",
       " $ ReadPosition   : num  21 37.5 51 44 31 61 49 57 49 52 ...\n",
       " $ Trinucleotide  : Factor w/ 32 levels \"ACA\",\"ACC\",\"ACG\",..: 25 18 18 10 19 12 22 27 15 15 ...\n",
       " $ HomopolymerRate: num  2.57 2.47 2.43 2.46 2.26 ...\n",
       " $ GCcontent      : num  0.599 0.589 0.589 0.604 0.589 ...\n",
       " $ GenomicLocation: Factor w/ 15 levels \"\",\"downstream\",..: 5 7 7 8 8 8 8 8 5 5 ...\n",
       " $ Distance       : int  41571 37737 37694 37329 35780 34762 34578 32689 22247 21880 ...\n",
       " $ StrandBias     : num  0.375 0.659 0.51 0.396 0.364 ...\n",
       " $ Label          : num  0 0 0 0 0 0 0 0 0 0 ...\n"
      ]
     },
     "metadata": {},
     "output_type": "display_data"
    }
   ],
   "source": [
    "%%R\n",
    "# Read in the data\n",
    "IS2Frame = read.csv(\"IS2.csv\")\n",
    "str(IS2Frame)"
   ]
  },
  {
   "cell_type": "code",
   "execution_count": 32,
   "metadata": {
    "collapsed": false
   },
   "outputs": [
    {
     "data": {
      "text/plain": [
       "[1] 0\n"
      ]
     },
     "metadata": {},
     "output_type": "display_data"
    }
   ],
   "source": [
    "%%R\n",
    "#sum(is.na(CPCG0183Frame$StrandBias))\n",
    "#sum(is.na(IS1Frame$ReadPosition)) \n",
    "sum(is.na(IS2Frame)) "
   ]
  },
  {
   "cell_type": "code",
   "execution_count": 33,
   "metadata": {
    "collapsed": false
   },
   "outputs": [],
   "source": [
    "#%%R\n",
    "#CPCG0235Frame$ReadPosition[is.na(CPCG0235Frame$ReadPosition)] = mean(CPCG0235Frame$ReadPosition, na.rm=TRUE)\n",
    "#CPCG0235Frame$StrandBias[is.na(CPCG0235Frame$StrandBias)] = mean(CPCG0235Frame$StrandBias, na.rm=TRUE)\n",
    "\n",
    "#print (sum(is.na(CPCG0235Frame$ReadPosition)) )\n",
    "#print (sum(is.na(CPCG0235Frame$StrandBias)) )"
   ]
  },
  {
   "cell_type": "code",
   "execution_count": 33,
   "metadata": {
    "collapsed": false
   },
   "outputs": [
    {
     "data": {
      "text/plain": [
       "[1] 0\n"
      ]
     },
     "metadata": {},
     "output_type": "display_data"
    }
   ],
   "source": [
    "%%R\n",
    "sum(is.na(IS2Frame))  #No NA value now"
   ]
  },
  {
   "cell_type": "code",
   "execution_count": 34,
   "metadata": {
    "collapsed": true
   },
   "outputs": [],
   "source": [
    "%%R\n",
    "write.csv(IS2Frame, file = \"IS2_imputed.csv\")  #Cleaned CSV without NA"
   ]
  },
  {
   "cell_type": "code",
   "execution_count": 35,
   "metadata": {
    "collapsed": false
   },
   "outputs": [
    {
     "name": "stderr",
     "output_type": "stream",
     "text": [
      "/usr/local/lib/python2.7/dist-packages/rpy2/robjects/functions.py:106: UserWarning: Loading required package: statmod\n",
      "\n",
      "  res = super(Function, self).__call__(*new_args, **new_kwargs)\n",
      "/usr/local/lib/python2.7/dist-packages/rpy2/robjects/functions.py:106: UserWarning: \n",
      "----------------------------------------------------------------------\n",
      "\n",
      "Your next step is to start H2O:\n",
      "    > h2o.init()\n",
      "\n",
      "For H2O package documentation, ask for help:\n",
      "    > ??h2o\n",
      "\n",
      "After starting H2O, you can use the Web UI at http://localhost:54321\n",
      "For more information visit http://docs.h2o.ai\n",
      "\n",
      "----------------------------------------------------------------------\n",
      "\n",
      "\n",
      "  res = super(Function, self).__call__(*new_args, **new_kwargs)\n",
      "/usr/local/lib/python2.7/dist-packages/rpy2/robjects/functions.py:106: UserWarning: \n",
      "Attaching package: ‘h2o’\n",
      "\n",
      "\n",
      "  res = super(Function, self).__call__(*new_args, **new_kwargs)\n",
      "/usr/local/lib/python2.7/dist-packages/rpy2/robjects/functions.py:106: UserWarning: The following objects are masked from ‘package:stats’:\n",
      "\n",
      "    sd, var\n",
      "\n",
      "\n",
      "  res = super(Function, self).__call__(*new_args, **new_kwargs)\n",
      "/usr/local/lib/python2.7/dist-packages/rpy2/robjects/functions.py:106: UserWarning: The following objects are masked from ‘package:base’:\n",
      "\n",
      "    ||, &&, %*%, apply, as.factor, as.numeric, colnames, colnames<-,\n",
      "    ifelse, %in%, is.character, is.factor, is.numeric, log, log10,\n",
      "    log1p, log2, round, signif, trunc\n",
      "\n",
      "\n",
      "  res = super(Function, self).__call__(*new_args, **new_kwargs)\n"
     ]
    },
    {
     "data": {
      "text/plain": [
       " Connection successful!\n",
       "\n",
       "R is connected to the H2O cluster: \n",
       "    H2O cluster uptime:         10 minutes 14 seconds \n",
       "    H2O cluster version:        3.9.1.3435 \n",
       "    H2O cluster name:           H2O_started_from_R_rbhat_xqb196 \n",
       "    H2O cluster total nodes:    1 \n",
       "    H2O cluster total memory:   26.58 GB \n",
       "    H2O cluster total cores:    56 \n",
       "    H2O cluster allowed cores:  2 \n",
       "    H2O cluster healthy:        TRUE \n",
       "    H2O Connection ip:          localhost \n",
       "    H2O Connection port:        54321 \n",
       "    H2O Connection proxy:       NA \n",
       "    R Version:                  R version 3.3.0 beta (2016-03-30 r70404) \n",
       "\n"
      ]
     },
     "metadata": {},
     "output_type": "display_data"
    }
   ],
   "source": [
    "%%R\n",
    "library(h2o)\n",
    "localH2O = h2o.init(ip = \"localhost\", port = 54321, startH2O = TRUE,min_mem_size = \"3g\")"
   ]
  },
  {
   "cell_type": "code",
   "execution_count": 36,
   "metadata": {
    "collapsed": false
   },
   "outputs": [
    {
     "data": {
      "text/plain": [
       "\r",
       "  |                                                                            \r",
       "  |                                                                      |   0%\r",
       "  |                                                                            \r",
       "  |=========                                                             |  13%\r",
       "  |                                                                            \r",
       "  |======================================================================| 100%\n",
       "'data.frame':\t42916 obs. of  16 variables:\n",
       " $ C1             : int  1 2 3 4 5 6 7 8 9 10 ...\n",
       " $ X              : int  0 1 2 3 4 5 6 7 8 9 ...\n",
       " $ RefAllele      : int  41 82 89 103 36 53 80 44 47 44 ...\n",
       " $ NonRefAllele   : int  8 24 38 39 16 20 25 20 18 26 ...\n",
       " $ BaseQual       : int  1670 3377 3943 4198 1558 2231 3111 1885 1987 2129 ...\n",
       " $ TumourCoverage : int  56 126 151 164 66 85 118 75 74 77 ...\n",
       " $ NormalCoverage : int  70 142 172 170 59 87 136 85 63 81 ...\n",
       " $ MapQual        : num  0 0 0 0 0 0 17 0 0 0 ...\n",
       " $ ReadPosition   : num  21 37.5 51 44 31 61 49 57 49 52 ...\n",
       " $ Trinucleotide  : Factor w/ 32 levels \"ACA\",\"ACC\",\"ACG\",..: 25 18 18 10 19 12 22 27 15 15 ...\n",
       " $ HomopolymerRate: num  2.57 2.47 2.43 2.46 2.26 ...\n",
       " $ GCcontent      : num  0.599 0.589 0.589 0.604 0.589 ...\n",
       " $ GenomicLocation: Factor w/ 14 levels \"downstream\",\"exonic\",..: 4 6 6 7 7 7 7 7 4 4 ...\n",
       " $ Distance       : int  41571 37737 37694 37329 35780 34762 34578 32689 22247 21880 ...\n",
       " $ StrandBias     : num  0.375 0.659 0.51 0.396 0.364 ...\n",
       " $ Label          : int  0 0 0 0 0 0 0 0 0 0 ...\n"
      ]
     },
     "metadata": {},
     "output_type": "display_data"
    }
   ],
   "source": [
    "%%R\n",
    "## Import CSV as H2O:\n",
    "csvPath = \"/home/rbhat/Workspace/S3Lab_Projects/SMC-MetaChallange/IS2_imputed.csv\"\n",
    "IS2.hex          = h2o.importFile(path = csvPath, destination_frame = \"IS2.hex\") \n",
    "train                 = as.data.frame(IS2.hex)\n",
    "\n",
    "str(train)"
   ]
  },
  {
   "cell_type": "code",
   "execution_count": 37,
   "metadata": {
    "collapsed": false
   },
   "outputs": [
    {
     "data": {
      "text/plain": [
       "\r",
       "  |                                                                            \r",
       "  |                                                                      |   0%\r",
       "  |                                                                            \r",
       "  |======================================================================| 100%\n"
      ]
     },
     "metadata": {},
     "output_type": "display_data"
    }
   ],
   "source": [
    "%%R\n",
    "\n",
    "train$Trinucleotide   = as.factor(train$Trinucleotide)\n",
    "train$GenomicLocation = as.factor(train$GenomicLocation)\n",
    "train$Label           = as.factor(train$Label)\n",
    "\n",
    "train_h2o             = as.h2o(train)"
   ]
  },
  {
   "cell_type": "code",
   "execution_count": 38,
   "metadata": {
    "collapsed": false
   },
   "outputs": [
    {
     "data": {
      "text/plain": [
       "\r",
       "  |                                                                            \r",
       "  |                                                                      |   0%\r",
       "  |                                                                            \r",
       "  |================                                                      |  23%\r",
       "  |                                                                            \r",
       "  |=============================                                         |  42%\r",
       "  |                                                                            \r",
       "  |==========================================                            |  61%\r",
       "  |                                                                            \r",
       "  |===========================================================           |  84%\r",
       "  |                                                                            \r",
       "  |===================================================================== |  98%\r",
       "  |                                                                            \r",
       "  |======================================================================| 100%\n"
      ]
     },
     "metadata": {},
     "output_type": "display_data"
    }
   ],
   "source": [
    "%%R\n",
    "#Training a deep learning model:---------------------------------------------------------#\n",
    "model <- h2o.deeplearning( x = 3:15, # column numbers for predictors\n",
    "                           y = 16,            # column number for label\n",
    "                           training_frame = train_h2o,\n",
    "                           activation = \"RectifierWithDropout\", \n",
    "                           input_dropout_ratio = 0.2,\n",
    "                           hidden_dropout_ratios = c(0.5,0.5),\n",
    "                           balance_classes = TRUE, \n",
    "                           hidden = c(10,8),  ## two hidden layers\n",
    "                           epochs = 50,\n",
    "                           variable_importances = T)"
   ]
  },
  {
   "cell_type": "code",
   "execution_count": 39,
   "metadata": {
    "collapsed": false
   },
   "outputs": [
    {
     "data": {
      "text/plain": [
       "Variable Importances: \n",
       "        variable relative_importance scaled_importance percentage\n",
       "1   NonRefAllele            1.000000          1.000000   0.145564\n",
       "2       BaseQual            0.840335          0.840335   0.122322\n",
       "3 NormalCoverage            0.481263          0.481263   0.070054\n",
       "4      RefAllele            0.476538          0.476538   0.069367\n",
       "5 TumourCoverage            0.417652          0.417652   0.060795\n",
       "\n",
       "---\n",
       "                     variable relative_importance scaled_importance percentage\n",
       "54 GenomicLocation.intergenic            0.025433          0.025433   0.003702\n",
       "55          Trinucleotide.CTG            0.024666          0.024666   0.003590\n",
       "56          Trinucleotide.ACC            0.023967          0.023967   0.003489\n",
       "57          Trinucleotide.ATC            0.020988          0.020988   0.003055\n",
       "58                 StrandBias            0.010258          0.010258   0.001493\n",
       "59  Trinucleotide.missing(NA)            0.000000          0.000000   0.000000\n"
      ]
     },
     "metadata": {},
     "output_type": "display_data"
    }
   ],
   "source": [
    "%%R\n",
    "var_importance = h2o.varimp(model)\n",
    "#print(var_importance)\n",
    "h2o.varimp(model)"
   ]
  },
  {
   "cell_type": "code",
   "execution_count": 40,
   "metadata": {
    "collapsed": true
   },
   "outputs": [],
   "source": [
    "%%R\n",
    "write.table(var_importance, file=\"IS2_variable_importance.csv\")"
   ]
  },
  {
   "cell_type": "code",
   "execution_count": 41,
   "metadata": {
    "collapsed": true
   },
   "outputs": [],
   "source": [
    "var_importance = pd.read_csv(open('IS2_variable_importance.csv','r'),sep=' ')\n",
    "#pd.read_csv('CPCG0100_variable_importance.csv')"
   ]
  },
  {
   "cell_type": "code",
   "execution_count": 42,
   "metadata": {
    "collapsed": false
   },
   "outputs": [
    {
     "data": {
      "text/html": [
       "<div style=\"max-height:1000px;max-width:1500px;overflow:auto;\">\n",
       "<table border=\"1\" class=\"dataframe\">\n",
       "  <thead>\n",
       "    <tr style=\"text-align: right;\">\n",
       "      <th></th>\n",
       "      <th>variable</th>\n",
       "      <th>relative_importance</th>\n",
       "      <th>scaled_importance</th>\n",
       "      <th>percentage</th>\n",
       "    </tr>\n",
       "  </thead>\n",
       "  <tbody>\n",
       "    <tr>\n",
       "      <th>1</th>\n",
       "      <td>   NonRefAllele</td>\n",
       "      <td> 1.000000</td>\n",
       "      <td> 1.000000</td>\n",
       "      <td> 0.145564</td>\n",
       "    </tr>\n",
       "    <tr>\n",
       "      <th>2</th>\n",
       "      <td>       BaseQual</td>\n",
       "      <td> 0.840335</td>\n",
       "      <td> 0.840335</td>\n",
       "      <td> 0.122322</td>\n",
       "    </tr>\n",
       "    <tr>\n",
       "      <th>3</th>\n",
       "      <td> NormalCoverage</td>\n",
       "      <td> 0.481263</td>\n",
       "      <td> 0.481263</td>\n",
       "      <td> 0.070054</td>\n",
       "    </tr>\n",
       "    <tr>\n",
       "      <th>4</th>\n",
       "      <td>      RefAllele</td>\n",
       "      <td> 0.476538</td>\n",
       "      <td> 0.476538</td>\n",
       "      <td> 0.069367</td>\n",
       "    </tr>\n",
       "    <tr>\n",
       "      <th>5</th>\n",
       "      <td> TumourCoverage</td>\n",
       "      <td> 0.417652</td>\n",
       "      <td> 0.417652</td>\n",
       "      <td> 0.060795</td>\n",
       "    </tr>\n",
       "  </tbody>\n",
       "</table>\n",
       "<p>5 rows × 4 columns</p>\n",
       "</div>"
      ],
      "text/plain": [
       "         variable  relative_importance  scaled_importance  percentage\n",
       "1    NonRefAllele             1.000000           1.000000    0.145564\n",
       "2        BaseQual             0.840335           0.840335    0.122322\n",
       "3  NormalCoverage             0.481263           0.481263    0.070054\n",
       "4       RefAllele             0.476538           0.476538    0.069367\n",
       "5  TumourCoverage             0.417652           0.417652    0.060795\n",
       "\n",
       "[5 rows x 4 columns]"
      ]
     },
     "execution_count": 42,
     "metadata": {},
     "output_type": "execute_result"
    }
   ],
   "source": [
    "var_importance[:5]"
   ]
  },
  {
   "cell_type": "code",
   "execution_count": 43,
   "metadata": {
    "collapsed": false
   },
   "outputs": [
    {
     "data": {
      "text/html": [
       "<div style=\"max-height:1000px;max-width:1500px;overflow:auto;\">\n",
       "<table border=\"1\" class=\"dataframe\">\n",
       "  <thead>\n",
       "    <tr style=\"text-align: right;\">\n",
       "      <th></th>\n",
       "      <th>CHROM</th>\n",
       "      <th>POS</th>\n",
       "      <th>END</th>\n",
       "      <th>RefAllele</th>\n",
       "      <th>NonRefAllele</th>\n",
       "      <th>BaseQual</th>\n",
       "      <th>TumourCoverage</th>\n",
       "      <th>NormalCoverage</th>\n",
       "      <th>MapQual</th>\n",
       "      <th>ReadPosition</th>\n",
       "      <th>Trinucleotide</th>\n",
       "      <th>HomopolymerRate</th>\n",
       "      <th>GCcontent</th>\n",
       "      <th>GenomicLocation</th>\n",
       "      <th>Distance</th>\n",
       "      <th>StrandBias</th>\n",
       "    </tr>\n",
       "  </thead>\n",
       "  <tbody>\n",
       "    <tr>\n",
       "      <th>0</th>\n",
       "      <td> 1</td>\n",
       "      <td> 13142</td>\n",
       "      <td> 13143</td>\n",
       "      <td>  41</td>\n",
       "      <td>  8</td>\n",
       "      <td> 1670</td>\n",
       "      <td>  56</td>\n",
       "      <td>  70</td>\n",
       "      <td> 0</td>\n",
       "      <td> 21.0</td>\n",
       "      <td> TCA</td>\n",
       "      <td> 2.567376</td>\n",
       "      <td> 0.599010</td>\n",
       "      <td>     intergenic</td>\n",
       "      <td> 41571</td>\n",
       "      <td> 0.375000</td>\n",
       "    </tr>\n",
       "    <tr>\n",
       "      <th>1</th>\n",
       "      <td> 1</td>\n",
       "      <td> 16976</td>\n",
       "      <td> 16977</td>\n",
       "      <td>  82</td>\n",
       "      <td> 24</td>\n",
       "      <td> 3377</td>\n",
       "      <td> 126</td>\n",
       "      <td> 142</td>\n",
       "      <td> 0</td>\n",
       "      <td> 37.5</td>\n",
       "      <td> GCC</td>\n",
       "      <td> 2.468531</td>\n",
       "      <td> 0.589109</td>\n",
       "      <td>   ncRNA_exonic</td>\n",
       "      <td> 37737</td>\n",
       "      <td> 0.658730</td>\n",
       "    </tr>\n",
       "    <tr>\n",
       "      <th>2</th>\n",
       "      <td> 1</td>\n",
       "      <td> 17019</td>\n",
       "      <td> 17020</td>\n",
       "      <td>  89</td>\n",
       "      <td> 38</td>\n",
       "      <td> 3943</td>\n",
       "      <td> 151</td>\n",
       "      <td> 172</td>\n",
       "      <td> 0</td>\n",
       "      <td> 51.0</td>\n",
       "      <td> GCC</td>\n",
       "      <td> 2.427586</td>\n",
       "      <td> 0.589109</td>\n",
       "      <td>   ncRNA_exonic</td>\n",
       "      <td> 37694</td>\n",
       "      <td> 0.509934</td>\n",
       "    </tr>\n",
       "    <tr>\n",
       "      <th>3</th>\n",
       "      <td> 1</td>\n",
       "      <td> 17384</td>\n",
       "      <td> 17385</td>\n",
       "      <td> 103</td>\n",
       "      <td> 39</td>\n",
       "      <td> 4198</td>\n",
       "      <td> 164</td>\n",
       "      <td> 170</td>\n",
       "      <td> 0</td>\n",
       "      <td> 44.0</td>\n",
       "      <td> CCC</td>\n",
       "      <td> 2.463087</td>\n",
       "      <td> 0.603960</td>\n",
       "      <td> ncRNA_intronic</td>\n",
       "      <td> 37329</td>\n",
       "      <td> 0.396341</td>\n",
       "    </tr>\n",
       "    <tr>\n",
       "      <th>4</th>\n",
       "      <td> 1</td>\n",
       "      <td> 18933</td>\n",
       "      <td> 18934</td>\n",
       "      <td>  36</td>\n",
       "      <td> 16</td>\n",
       "      <td> 1558</td>\n",
       "      <td>  66</td>\n",
       "      <td>  59</td>\n",
       "      <td> 0</td>\n",
       "      <td> 31.0</td>\n",
       "      <td> GCG</td>\n",
       "      <td> 2.263158</td>\n",
       "      <td> 0.589109</td>\n",
       "      <td> ncRNA_intronic</td>\n",
       "      <td> 35780</td>\n",
       "      <td> 0.363636</td>\n",
       "    </tr>\n",
       "  </tbody>\n",
       "</table>\n",
       "<p>5 rows × 16 columns</p>\n",
       "</div>"
      ],
      "text/plain": [
       "  CHROM    POS    END  RefAllele  NonRefAllele  BaseQual  TumourCoverage  \\\n",
       "0     1  13142  13143         41             8      1670              56   \n",
       "1     1  16976  16977         82            24      3377             126   \n",
       "2     1  17019  17020         89            38      3943             151   \n",
       "3     1  17384  17385        103            39      4198             164   \n",
       "4     1  18933  18934         36            16      1558              66   \n",
       "\n",
       "   NormalCoverage  MapQual  ReadPosition Trinucleotide  HomopolymerRate  \\\n",
       "0              70        0          21.0           TCA         2.567376   \n",
       "1             142        0          37.5           GCC         2.468531   \n",
       "2             172        0          51.0           GCC         2.427586   \n",
       "3             170        0          44.0           CCC         2.463087   \n",
       "4              59        0          31.0           GCG         2.263158   \n",
       "\n",
       "   GCcontent GenomicLocation  Distance  StrandBias  \n",
       "0   0.599010      intergenic     41571    0.375000  \n",
       "1   0.589109    ncRNA_exonic     37737    0.658730  \n",
       "2   0.589109    ncRNA_exonic     37694    0.509934  \n",
       "3   0.603960  ncRNA_intronic     37329    0.396341  \n",
       "4   0.589109  ncRNA_intronic     35780    0.363636  \n",
       "\n",
       "[5 rows x 16 columns]"
      ]
     },
     "execution_count": 43,
     "metadata": {},
     "output_type": "execute_result"
    }
   ],
   "source": [
    "GenomicFeatures_IS2[:5]"
   ]
  },
  {
   "cell_type": "code",
   "execution_count": 44,
   "metadata": {
    "collapsed": false
   },
   "outputs": [
    {
     "data": {
      "text/plain": [
       "{'BaseQual': 0.84033519029617298,\n",
       " 'Distance': 0.19990961253643,\n",
       " 'GCcontent': 0.047415621578693397,\n",
       " 'GenomicLocation.UTR3': 0.088150478899478898,\n",
       " 'GenomicLocation.UTR5': 0.14704309403896301,\n",
       " 'GenomicLocation.downstream': 0.129680350422859,\n",
       " 'GenomicLocation.exonic': 0.26233139634132396,\n",
       " 'GenomicLocation.exonic;splicing': 0.062393821775913197,\n",
       " 'GenomicLocation.intergenic': 0.025432664901018101,\n",
       " 'GenomicLocation.intronic': 0.035168416798114797,\n",
       " 'GenomicLocation.missing(NA)': 0.15208736062049899,\n",
       " 'GenomicLocation.ncRNA_UTR3': 0.076114907860755907,\n",
       " 'GenomicLocation.ncRNA_UTR5': 0.093190222978591905,\n",
       " 'GenomicLocation.ncRNA_exonic': 0.081660911440849304,\n",
       " 'GenomicLocation.ncRNA_intronic': 0.049832645803690005,\n",
       " 'GenomicLocation.splicing': 0.065657995641231495,\n",
       " 'GenomicLocation.upstream': 0.16966858506202698,\n",
       " 'GenomicLocation.upstream;downstream': 0.077157720923423795,\n",
       " 'HomopolymerRate': 0.094356887042522403,\n",
       " 'MapQual': 0.16998106241226199,\n",
       " 'NonRefAllele': 1.0,\n",
       " 'NormalCoverage': 0.48126345872879001,\n",
       " 'ReadPosition': 0.037207148969173397,\n",
       " 'RefAllele': 0.47653838992118797,\n",
       " 'StrandBias': 0.0102575188502669,\n",
       " 'Trinucleotide.ACA': 0.064190857112407698,\n",
       " 'Trinucleotide.ACC': 0.023967450484633401,\n",
       " 'Trinucleotide.ACG': 0.151058658957481,\n",
       " 'Trinucleotide.ACT': 0.035033792257308995,\n",
       " 'Trinucleotide.ATA': 0.056935049593448597,\n",
       " 'Trinucleotide.ATC': 0.020988114178180702,\n",
       " 'Trinucleotide.ATG': 0.027863401919603299,\n",
       " 'Trinucleotide.ATT': 0.049245659261941903,\n",
       " 'Trinucleotide.CCA': 0.030031094327568997,\n",
       " 'Trinucleotide.CCC': 0.048117347061634098,\n",
       " 'Trinucleotide.CCG': 0.062413774430751801,\n",
       " 'Trinucleotide.CCT': 0.029149046167731299,\n",
       " 'Trinucleotide.CTA': 0.036568708717822994,\n",
       " 'Trinucleotide.CTC': 0.0760062411427498,\n",
       " 'Trinucleotide.CTG': 0.0246655941009521,\n",
       " 'Trinucleotide.CTT': 0.0364854261279106,\n",
       " 'Trinucleotide.GCA': 0.025790408253669701,\n",
       " 'Trinucleotide.GCC': 0.042713206261396401,\n",
       " 'Trinucleotide.GCG': 0.086606748402118697,\n",
       " 'Trinucleotide.GCT': 0.043799839913845097,\n",
       " 'Trinucleotide.GTA': 0.0576590560376644,\n",
       " 'Trinucleotide.GTC': 0.066749095916748005,\n",
       " 'Trinucleotide.GTG': 0.076631285250186906,\n",
       " 'Trinucleotide.GTT': 0.025562530383467699,\n",
       " 'Trinucleotide.TCA': 0.032544165849685697,\n",
       " 'Trinucleotide.TCC': 0.038353975862264598,\n",
       " 'Trinucleotide.TCG': 0.10271755605936099,\n",
       " 'Trinucleotide.TCT': 0.045514002442359897,\n",
       " 'Trinucleotide.TTA': 0.0433199778199196,\n",
       " 'Trinucleotide.TTC': 0.038119304925203303,\n",
       " 'Trinucleotide.TTG': 0.034334227442741401,\n",
       " 'Trinucleotide.TTT': 0.046228274703025797,\n",
       " 'Trinucleotide.missing(NA)': 0.0,\n",
       " 'TumourCoverage': 0.41765186190605202}"
      ]
     },
     "execution_count": 44,
     "metadata": {},
     "output_type": "execute_result"
    }
   ],
   "source": [
    "var_imp_dict = {}\n",
    "\n",
    "for i in range(var_importance.shape[0]):\n",
    "    var_imp_dict[var_importance.iloc[i,0]] = var_importance.iloc[i,1]\n",
    "\n",
    "var_imp_dict"
   ]
  },
  {
   "cell_type": "code",
   "execution_count": 45,
   "metadata": {
    "collapsed": false
   },
   "outputs": [
    {
     "data": {
      "text/plain": [
       "Index([u'CHROM', u'POS', u'END', u'RefAllele', u'NonRefAllele', u'BaseQual', u'TumourCoverage', u'NormalCoverage', u'MapQual', u'ReadPosition', u'Trinucleotide', u'HomopolymerRate', u'GCcontent', u'GenomicLocation', u'Distance', u'StrandBias'], dtype='object')"
      ]
     },
     "execution_count": 45,
     "metadata": {},
     "output_type": "execute_result"
    }
   ],
   "source": [
    "GenomicFeatures_IS2.columns"
   ]
  },
  {
   "cell_type": "code",
   "execution_count": 46,
   "metadata": {
    "collapsed": false
   },
   "outputs": [
    {
     "data": {
      "text/plain": [
       "CHROM               object\n",
       "POS                  int64\n",
       "END                  int64\n",
       "RefAllele            int64\n",
       "NonRefAllele         int64\n",
       "BaseQual             int64\n",
       "TumourCoverage       int64\n",
       "NormalCoverage       int64\n",
       "MapQual            float64\n",
       "ReadPosition       float64\n",
       "Trinucleotide       object\n",
       "HomopolymerRate    float64\n",
       "GCcontent          float64\n",
       "GenomicLocation     object\n",
       "Distance             int64\n",
       "StrandBias         float64\n",
       "dtype: object"
      ]
     },
     "execution_count": 46,
     "metadata": {},
     "output_type": "execute_result"
    }
   ],
   "source": [
    "GenomicFeatures_IS2.dtypes"
   ]
  },
  {
   "cell_type": "code",
   "execution_count": 47,
   "metadata": {
    "collapsed": false
   },
   "outputs": [
    {
     "data": {
      "text/plain": [
       "'intergenic'"
      ]
     },
     "execution_count": 47,
     "metadata": {},
     "output_type": "execute_result"
    }
   ],
   "source": [
    "GenomicFeatures_IS2.iloc[0,13]"
   ]
  },
  {
   "cell_type": "code",
   "execution_count": 49,
   "metadata": {
    "collapsed": false
   },
   "outputs": [
    {
     "data": {
      "text/html": [
       "<div style=\"max-height:1000px;max-width:1500px;overflow:auto;\">\n",
       "<table border=\"1\" class=\"dataframe\">\n",
       "  <thead>\n",
       "    <tr style=\"text-align: right;\">\n",
       "      <th></th>\n",
       "      <th>CHROM</th>\n",
       "      <th>POS</th>\n",
       "      <th>END</th>\n",
       "      <th>RefAllele</th>\n",
       "      <th>NonRefAllele</th>\n",
       "      <th>BaseQual</th>\n",
       "      <th>TumourCoverage</th>\n",
       "      <th>NormalCoverage</th>\n",
       "      <th>MapQual</th>\n",
       "      <th>ReadPosition</th>\n",
       "      <th>Trinucleotide</th>\n",
       "      <th>HomopolymerRate</th>\n",
       "      <th>GCcontent</th>\n",
       "      <th>GenomicLocation</th>\n",
       "      <th>Distance</th>\n",
       "      <th>StrandBias</th>\n",
       "    </tr>\n",
       "  </thead>\n",
       "  <tbody>\n",
       "    <tr>\n",
       "      <th>0</th>\n",
       "      <td> 1</td>\n",
       "      <td> 13142</td>\n",
       "      <td> 13143</td>\n",
       "      <td> 41</td>\n",
       "      <td>  8</td>\n",
       "      <td> 1670</td>\n",
       "      <td>  56</td>\n",
       "      <td>  70</td>\n",
       "      <td> 0</td>\n",
       "      <td> 21.0</td>\n",
       "      <td> TCA</td>\n",
       "      <td> 2.567376</td>\n",
       "      <td> 0.599010</td>\n",
       "      <td>   intergenic</td>\n",
       "      <td> 41571</td>\n",
       "      <td> 0.37500</td>\n",
       "    </tr>\n",
       "    <tr>\n",
       "      <th>1</th>\n",
       "      <td> 1</td>\n",
       "      <td> 16976</td>\n",
       "      <td> 16977</td>\n",
       "      <td> 82</td>\n",
       "      <td> 24</td>\n",
       "      <td> 3377</td>\n",
       "      <td> 126</td>\n",
       "      <td> 142</td>\n",
       "      <td> 0</td>\n",
       "      <td> 37.5</td>\n",
       "      <td> GCC</td>\n",
       "      <td> 2.468531</td>\n",
       "      <td> 0.589109</td>\n",
       "      <td> ncRNA_exonic</td>\n",
       "      <td> 37737</td>\n",
       "      <td> 0.65873</td>\n",
       "    </tr>\n",
       "  </tbody>\n",
       "</table>\n",
       "<p>2 rows × 16 columns</p>\n",
       "</div>"
      ],
      "text/plain": [
       "  CHROM    POS    END  RefAllele  NonRefAllele  BaseQual  TumourCoverage  \\\n",
       "0     1  13142  13143         41             8      1670              56   \n",
       "1     1  16976  16977         82            24      3377             126   \n",
       "\n",
       "   NormalCoverage  MapQual  ReadPosition Trinucleotide  HomopolymerRate  \\\n",
       "0              70        0          21.0           TCA         2.567376   \n",
       "1             142        0          37.5           GCC         2.468531   \n",
       "\n",
       "   GCcontent GenomicLocation  Distance  StrandBias  \n",
       "0   0.599010      intergenic     41571     0.37500  \n",
       "1   0.589109    ncRNA_exonic     37737     0.65873  \n",
       "\n",
       "[2 rows x 16 columns]"
      ]
     },
     "execution_count": 49,
     "metadata": {},
     "output_type": "execute_result"
    }
   ],
   "source": [
    "GenomicFeatures_IS2[:2]\n",
    "#print GenomicFeatures_IS1.iloc[0,2]"
   ]
  },
  {
   "cell_type": "code",
   "execution_count": 50,
   "metadata": {
    "collapsed": false
   },
   "outputs": [],
   "source": [
    "noOfSample = GenomicFeatures_IS2.shape[0]\n",
    "\n",
    "IS2_Dict = {}\n",
    "\n",
    "for i in range(noOfSample):\n",
    "    \n",
    "    pos = GenomicFeatures_IS2.iloc[i,1] #gets the pos value\n",
    "    \n",
    "    RefAllele      = GenomicFeatures_IS2.iloc[i,3]*var_imp_dict['RefAllele']\n",
    "    NonRefAllele   = GenomicFeatures_IS2.iloc[i,4]*var_imp_dict['NonRefAllele']\n",
    "    BaseQual       = GenomicFeatures_IS2.iloc[i,5]*var_imp_dict['BaseQual']\n",
    "    TumourCoverage = GenomicFeatures_IS2.iloc[i,6]*var_imp_dict['TumourCoverage']\n",
    "    NormalCoverage = GenomicFeatures_IS2.iloc[i,7]*var_imp_dict['NormalCoverage']\n",
    "    MapQual        = GenomicFeatures_IS2.iloc[i,8]*var_imp_dict['MapQual']\n",
    "    ReadPosition   = GenomicFeatures_IS2.iloc[i,9]*var_imp_dict['ReadPosition']\n",
    "    \n",
    "    Trinucleotide  = 0\n",
    "    if isinstance(GenomicFeatures_IS2.iloc[i,10], str):\n",
    "        Trinucleotide  = var_imp_dict['Trinucleotide.'+str(GenomicFeatures_IS2.iloc[i,10])]\n",
    "    HomopolymerRate= GenomicFeatures_IS2.iloc[i,11]*var_imp_dict['HomopolymerRate']\n",
    "    GCcontent      = GenomicFeatures_IS2.iloc[i,12]*var_imp_dict['GCcontent']\n",
    "    \n",
    "    GenomicLocation = 0\n",
    "    if isinstance(GenomicFeatures_IS2.iloc[i,13], str):\n",
    "        GenomicLocation= var_imp_dict['GenomicLocation.'+str(GenomicFeatures_IS2.iloc[i,13])]\n",
    "    Distance    = GenomicFeatures_IS2.iloc[i,14]*var_imp_dict['Distance']\n",
    "    StrandBias     = GenomicFeatures_IS2.iloc[i,15]*var_imp_dict['StrandBias']\n",
    "    \n",
    "    #print 'RefAllele=',RefAllele,' NonRefAllele=',NonRefAllele,' BaseQual=',BaseQual,' TumourCoverage=',TumourCoverage\n",
    "    #print 'NormalCoverage=',NormalCoverage,' MapQual=',MapQual,' ReadPosition=',ReadPosition,' Trinucleotide=',Trinucleotide\n",
    "    #print 'HomopolymerRate=',HomopolymerRate,' GCcontent=',GCcontent,' GenomicLocation=',GenomicLocation,' Distance=',Distance\n",
    "    #print 'StrandBias=',StrandBias\n",
    "    IS2_Dict[pos] = RefAllele+NonRefAllele+BaseQual+TumourCoverage+NormalCoverage+MapQual+ReadPosition+Trinucleotide+ \\\n",
    "                         HomopolymerRate+GCcontent+GenomicLocation+Distance+StrandBias"
   ]
  },
  {
   "cell_type": "code",
   "execution_count": 51,
   "metadata": {
    "collapsed": true
   },
   "outputs": [],
   "source": [
    "#Sorting dictionary\n",
    "IS2_Dict1 = [(k,v) for v,k in sorted([(v,k) for k,v in IS2_Dict.items()],reverse=True)]"
   ]
  },
  {
   "cell_type": "code",
   "execution_count": 53,
   "metadata": {
    "collapsed": false
   },
   "outputs": [],
   "source": [
    "IS2_Dict_Frame = pd.DataFrame(IS2_Dict1, columns=['POS', 'Value'])"
   ]
  },
  {
   "cell_type": "code",
   "execution_count": 54,
   "metadata": {
    "collapsed": true
   },
   "outputs": [],
   "source": [
    "IS2_Dict_Frame.to_csv(\"IS2_Dict_Frame.csv\")"
   ]
  },
  {
   "cell_type": "code",
   "execution_count": 55,
   "metadata": {
    "collapsed": false
   },
   "outputs": [
    {
     "data": {
      "text/html": [
       "<div style=\"max-height:1000px;max-width:1500px;overflow:auto;\">\n",
       "<table border=\"1\" class=\"dataframe\">\n",
       "  <thead>\n",
       "    <tr style=\"text-align: right;\">\n",
       "      <th></th>\n",
       "      <th>POS</th>\n",
       "      <th>Value</th>\n",
       "    </tr>\n",
       "  </thead>\n",
       "  <tbody>\n",
       "    <tr>\n",
       "      <th>0</th>\n",
       "      <td> 26451660</td>\n",
       "      <td> 419579.245298</td>\n",
       "    </tr>\n",
       "    <tr>\n",
       "      <th>1</th>\n",
       "      <td> 26635480</td>\n",
       "      <td> 382661.017284</td>\n",
       "    </tr>\n",
       "    <tr>\n",
       "      <th>2</th>\n",
       "      <td> 42393802</td>\n",
       "      <td> 309000.153427</td>\n",
       "    </tr>\n",
       "    <tr>\n",
       "      <th>3</th>\n",
       "      <td> 42600077</td>\n",
       "      <td> 284540.668777</td>\n",
       "    </tr>\n",
       "    <tr>\n",
       "      <th>4</th>\n",
       "      <td> 15884875</td>\n",
       "      <td> 281261.535970</td>\n",
       "    </tr>\n",
       "    <tr>\n",
       "      <th>5</th>\n",
       "      <td> 22534834</td>\n",
       "      <td> 275902.253205</td>\n",
       "    </tr>\n",
       "    <tr>\n",
       "      <th>6</th>\n",
       "      <td> 46392259</td>\n",
       "      <td> 263471.406525</td>\n",
       "    </tr>\n",
       "    <tr>\n",
       "      <th>7</th>\n",
       "      <td> 92309631</td>\n",
       "      <td> 253339.061118</td>\n",
       "    </tr>\n",
       "    <tr>\n",
       "      <th>8</th>\n",
       "      <td> 15641359</td>\n",
       "      <td> 233106.197318</td>\n",
       "    </tr>\n",
       "    <tr>\n",
       "      <th>9</th>\n",
       "      <td> 27479018</td>\n",
       "      <td> 214028.010276</td>\n",
       "    </tr>\n",
       "  </tbody>\n",
       "</table>\n",
       "<p>10 rows × 2 columns</p>\n",
       "</div>"
      ],
      "text/plain": [
       "        POS          Value\n",
       "0  26451660  419579.245298\n",
       "1  26635480  382661.017284\n",
       "2  42393802  309000.153427\n",
       "3  42600077  284540.668777\n",
       "4  15884875  281261.535970\n",
       "5  22534834  275902.253205\n",
       "6  46392259  263471.406525\n",
       "7  92309631  253339.061118\n",
       "8  15641359  233106.197318\n",
       "9  27479018  214028.010276\n",
       "\n",
       "[10 rows x 2 columns]"
      ]
     },
     "execution_count": 55,
     "metadata": {},
     "output_type": "execute_result"
    }
   ],
   "source": [
    "IS2_Dict_Frame[:10]"
   ]
  },
  {
   "cell_type": "code",
   "execution_count": 61,
   "metadata": {
    "collapsed": true
   },
   "outputs": [],
   "source": [
    "GenomicFeatures_IS2_1 = pd.concat([IS2.iloc[:,0:16], IS2_Y_Val_1],axis=1)"
   ]
  },
  {
   "cell_type": "code",
   "execution_count": 62,
   "metadata": {
    "collapsed": false
   },
   "outputs": [
    {
     "name": "stdout",
     "output_type": "stream",
     "text": [
      "[ 26451660  26635480  42393802  42600077  15884875  22534834  46392259\n",
      "  92309631  15641359  27479018   9032545  46386829  46387231 121483327\n",
      "  27906683  15102130    569430  42599543  42390670   7119016]\n"
     ]
    }
   ],
   "source": [
    "rows = IS2_Dict_Frame['POS'][:20].values\n",
    "print rows\n",
    "GenomicFeatures_IS2_Top20 = GenomicFeatures_IS2_1.loc[GenomicFeatures_IS2_1['POS'].isin(rows)]"
   ]
  },
  {
   "cell_type": "code",
   "execution_count": 64,
   "metadata": {
    "collapsed": false
   },
   "outputs": [
    {
     "data": {
      "text/html": [
       "<div style=\"max-height:1000px;max-width:1500px;overflow:auto;\">\n",
       "<table border=\"1\" class=\"dataframe\">\n",
       "  <thead>\n",
       "    <tr style=\"text-align: right;\">\n",
       "      <th></th>\n",
       "      <th>CHROM</th>\n",
       "      <th>POS</th>\n",
       "      <th>END_x</th>\n",
       "      <th>RefAllele</th>\n",
       "      <th>NonRefAllele</th>\n",
       "      <th>BaseQual</th>\n",
       "      <th>TumourCoverage</th>\n",
       "      <th>NormalCoverage</th>\n",
       "      <th>MapQual</th>\n",
       "      <th>ReadPosition</th>\n",
       "      <th>Trinucleotide</th>\n",
       "      <th>HomopolymerRate</th>\n",
       "      <th>GCcontent</th>\n",
       "      <th>GenomicLocation</th>\n",
       "      <th>Distance</th>\n",
       "      <th>StrandBias</th>\n",
       "      <th>Label</th>\n",
       "    </tr>\n",
       "  </thead>\n",
       "  <tbody>\n",
       "    <tr>\n",
       "      <th>48   </th>\n",
       "      <td>  1</td>\n",
       "      <td>    569430</td>\n",
       "      <td>    569431</td>\n",
       "      <td> 3726</td>\n",
       "      <td>    6</td>\n",
       "      <td> 125824</td>\n",
       "      <td>  7936</td>\n",
       "      <td>  7763</td>\n",
       "      <td> 23</td>\n",
       "      <td> 65</td>\n",
       "      <td> TCT</td>\n",
       "      <td> 2.468966</td>\n",
       "      <td> 0.465347</td>\n",
       "      <td>        NaN</td>\n",
       "      <td>  2191</td>\n",
       "      <td> 0.360005</td>\n",
       "      <td> 0</td>\n",
       "    </tr>\n",
       "    <tr>\n",
       "      <th>1906 </th>\n",
       "      <td>  1</td>\n",
       "      <td> 121483327</td>\n",
       "      <td> 121483328</td>\n",
       "      <td> 4416</td>\n",
       "      <td>   11</td>\n",
       "      <td> 148650</td>\n",
       "      <td>  6612</td>\n",
       "      <td>  6874</td>\n",
       "      <td> 37</td>\n",
       "      <td> 47</td>\n",
       "      <td> TCA</td>\n",
       "      <td> 2.652482</td>\n",
       "      <td> 0.435644</td>\n",
       "      <td>        NaN</td>\n",
       "      <td>  2764</td>\n",
       "      <td> 0.470508</td>\n",
       "      <td> 0</td>\n",
       "    </tr>\n",
       "    <tr>\n",
       "      <th>5268 </th>\n",
       "      <td> 10</td>\n",
       "      <td>  42390670</td>\n",
       "      <td>  42390671</td>\n",
       "      <td> 2532</td>\n",
       "      <td> 1196</td>\n",
       "      <td> 110720</td>\n",
       "      <td> 15501</td>\n",
       "      <td> 15362</td>\n",
       "      <td>  0</td>\n",
       "      <td> 16</td>\n",
       "      <td> ATG</td>\n",
       "      <td> 2.190476</td>\n",
       "      <td> 0.331683</td>\n",
       "      <td>        NaN</td>\n",
       "      <td>  6907</td>\n",
       "      <td> 0.275273</td>\n",
       "      <td> 0</td>\n",
       "    </tr>\n",
       "    <tr>\n",
       "      <th>5271 </th>\n",
       "      <td> 10</td>\n",
       "      <td>  42393802</td>\n",
       "      <td>  42393803</td>\n",
       "      <td> 8016</td>\n",
       "      <td>   33</td>\n",
       "      <td> 272965</td>\n",
       "      <td> 83248</td>\n",
       "      <td> 83608</td>\n",
       "      <td> 12</td>\n",
       "      <td> 54</td>\n",
       "      <td> TCA</td>\n",
       "      <td> 2.212329</td>\n",
       "      <td> 0.341584</td>\n",
       "      <td>        NaN</td>\n",
       "      <td>  3775</td>\n",
       "      <td> 0.368694</td>\n",
       "      <td> 0</td>\n",
       "    </tr>\n",
       "    <tr>\n",
       "      <th>5349 </th>\n",
       "      <td> 10</td>\n",
       "      <td>  42599543</td>\n",
       "      <td>  42599544</td>\n",
       "      <td> 3581</td>\n",
       "      <td>   18</td>\n",
       "      <td> 116837</td>\n",
       "      <td> 15653</td>\n",
       "      <td> 15717</td>\n",
       "      <td>  9</td>\n",
       "      <td> 36</td>\n",
       "      <td> TTC</td>\n",
       "      <td> 2.105960</td>\n",
       "      <td> 0.361386</td>\n",
       "      <td>        NaN</td>\n",
       "      <td>  4161</td>\n",
       "      <td> 0.729892</td>\n",
       "      <td> 0</td>\n",
       "    </tr>\n",
       "    <tr>\n",
       "      <th>5350 </th>\n",
       "      <td> 10</td>\n",
       "      <td>  42600077</td>\n",
       "      <td>  42600078</td>\n",
       "      <td> 7962</td>\n",
       "      <td>   59</td>\n",
       "      <td> 261847</td>\n",
       "      <td> 66879</td>\n",
       "      <td> 66465</td>\n",
       "      <td>  3</td>\n",
       "      <td> 82</td>\n",
       "      <td> TTT</td>\n",
       "      <td> 2.183673</td>\n",
       "      <td> 0.366337</td>\n",
       "      <td>        NaN</td>\n",
       "      <td>  3627</td>\n",
       "      <td> 0.404507</td>\n",
       "      <td> 0</td>\n",
       "    </tr>\n",
       "    <tr>\n",
       "      <th>16546</th>\n",
       "      <td> 16</td>\n",
       "      <td>  46386829</td>\n",
       "      <td>  46386830</td>\n",
       "      <td> 5105</td>\n",
       "      <td>   12</td>\n",
       "      <td> 171419</td>\n",
       "      <td>  8267</td>\n",
       "      <td>  8293</td>\n",
       "      <td> 23</td>\n",
       "      <td> 55</td>\n",
       "      <td> CCA</td>\n",
       "      <td> 2.059603</td>\n",
       "      <td> 0.361386</td>\n",
       "      <td>        NaN</td>\n",
       "      <td> 41159</td>\n",
       "      <td> 0.516753</td>\n",
       "      <td> 0</td>\n",
       "    </tr>\n",
       "    <tr>\n",
       "      <th>16547</th>\n",
       "      <td> 16</td>\n",
       "      <td>  46387231</td>\n",
       "      <td>  46387232</td>\n",
       "      <td> 2720</td>\n",
       "      <td> 2335</td>\n",
       "      <td> 161659</td>\n",
       "      <td>  7736</td>\n",
       "      <td>  7524</td>\n",
       "      <td>  9</td>\n",
       "      <td> 39</td>\n",
       "      <td> ACA</td>\n",
       "      <td> 2.273973</td>\n",
       "      <td> 0.331683</td>\n",
       "      <td>        NaN</td>\n",
       "      <td> 40757</td>\n",
       "      <td> 0.423345</td>\n",
       "      <td> 0</td>\n",
       "    </tr>\n",
       "    <tr>\n",
       "      <th>16548</th>\n",
       "      <td> 16</td>\n",
       "      <td>  46392259</td>\n",
       "      <td>  46392260</td>\n",
       "      <td> 8015</td>\n",
       "      <td>   10</td>\n",
       "      <td> 268754</td>\n",
       "      <td> 29750</td>\n",
       "      <td> 29555</td>\n",
       "      <td> 29</td>\n",
       "      <td> 50</td>\n",
       "      <td> TTC</td>\n",
       "      <td> 2.156463</td>\n",
       "      <td> 0.376238</td>\n",
       "      <td>        NaN</td>\n",
       "      <td> 35729</td>\n",
       "      <td> 0.330689</td>\n",
       "      <td> 0</td>\n",
       "    </tr>\n",
       "    <tr>\n",
       "      <th>23116</th>\n",
       "      <td>  2</td>\n",
       "      <td>  92309631</td>\n",
       "      <td>  92309632</td>\n",
       "      <td> 7970</td>\n",
       "      <td>    6</td>\n",
       "      <td> 272901</td>\n",
       "      <td> 21546</td>\n",
       "      <td> 21298</td>\n",
       "      <td> 29</td>\n",
       "      <td> 44</td>\n",
       "      <td> GCA</td>\n",
       "      <td> 2.647887</td>\n",
       "      <td> 0.386139</td>\n",
       "      <td> intergenic</td>\n",
       "      <td>  4758</td>\n",
       "      <td> 0.423327</td>\n",
       "      <td> 0</td>\n",
       "    </tr>\n",
       "  </tbody>\n",
       "</table>\n",
       "<p>10 rows × 17 columns</p>\n",
       "</div>"
      ],
      "text/plain": [
       "      CHROM        POS      END_x  RefAllele  NonRefAllele  BaseQual  \\\n",
       "48        1     569430     569431       3726             6    125824   \n",
       "1906      1  121483327  121483328       4416            11    148650   \n",
       "5268     10   42390670   42390671       2532          1196    110720   \n",
       "5271     10   42393802   42393803       8016            33    272965   \n",
       "5349     10   42599543   42599544       3581            18    116837   \n",
       "5350     10   42600077   42600078       7962            59    261847   \n",
       "16546    16   46386829   46386830       5105            12    171419   \n",
       "16547    16   46387231   46387232       2720          2335    161659   \n",
       "16548    16   46392259   46392260       8015            10    268754   \n",
       "23116     2   92309631   92309632       7970             6    272901   \n",
       "\n",
       "       TumourCoverage  NormalCoverage  MapQual  ReadPosition Trinucleotide  \\\n",
       "48               7936            7763       23            65           TCT   \n",
       "1906             6612            6874       37            47           TCA   \n",
       "5268            15501           15362        0            16           ATG   \n",
       "5271            83248           83608       12            54           TCA   \n",
       "5349            15653           15717        9            36           TTC   \n",
       "5350            66879           66465        3            82           TTT   \n",
       "16546            8267            8293       23            55           CCA   \n",
       "16547            7736            7524        9            39           ACA   \n",
       "16548           29750           29555       29            50           TTC   \n",
       "23116           21546           21298       29            44           GCA   \n",
       "\n",
       "       HomopolymerRate  GCcontent GenomicLocation  Distance  StrandBias  Label  \n",
       "48            2.468966   0.465347             NaN      2191    0.360005      0  \n",
       "1906          2.652482   0.435644             NaN      2764    0.470508      0  \n",
       "5268          2.190476   0.331683             NaN      6907    0.275273      0  \n",
       "5271          2.212329   0.341584             NaN      3775    0.368694      0  \n",
       "5349          2.105960   0.361386             NaN      4161    0.729892      0  \n",
       "5350          2.183673   0.366337             NaN      3627    0.404507      0  \n",
       "16546         2.059603   0.361386             NaN     41159    0.516753      0  \n",
       "16547         2.273973   0.331683             NaN     40757    0.423345      0  \n",
       "16548         2.156463   0.376238             NaN     35729    0.330689      0  \n",
       "23116         2.647887   0.386139      intergenic      4758    0.423327      0  \n",
       "\n",
       "[10 rows x 17 columns]"
      ]
     },
     "execution_count": 64,
     "metadata": {},
     "output_type": "execute_result"
    }
   ],
   "source": [
    "GenomicFeatures_IS2_Top20[:10]"
   ]
  },
  {
   "cell_type": "code",
   "execution_count": 60,
   "metadata": {
    "collapsed": false
   },
   "outputs": [],
   "source": [
    "GenomicFeatures_IS2_Top20.to_csv('GenomicFeatures_IS2_Top20.csv')"
   ]
  },
  {
   "cell_type": "code",
   "execution_count": null,
   "metadata": {
    "collapsed": true
   },
   "outputs": [],
   "source": []
  },
  {
   "cell_type": "code",
   "execution_count": null,
   "metadata": {
    "collapsed": true
   },
   "outputs": [],
   "source": []
  }
 ],
 "metadata": {
  "kernelspec": {
   "display_name": "Python 2",
   "language": "python",
   "name": "python2"
  },
  "language_info": {
   "codemirror_mode": {
    "name": "ipython",
    "version": 2
   },
   "file_extension": ".py",
   "mimetype": "text/x-python",
   "name": "python",
   "nbconvert_exporter": "python",
   "pygments_lexer": "ipython2",
   "version": "2.7.6"
  }
 },
 "nbformat": 4,
 "nbformat_minor": 0
}
