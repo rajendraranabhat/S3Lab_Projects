{
 "cells": [
  {
   "cell_type": "code",
   "execution_count": null,
   "metadata": {
    "collapsed": true
   },
   "outputs": [],
   "source": []
  },
  {
   "cell_type": "code",
   "execution_count": 1,
   "metadata": {
    "collapsed": false
   },
   "outputs": [
    {
     "name": "stdout",
     "output_type": "stream",
     "text": [
      "'data.frame':\t198526 obs. of  63 variables:\n",
      " $ X   : int  0 1 2 3 4 5 6 7 8 9 ...\n",
      " $ X0  : num  183 177 115 83 96 120 117 92 27 9 ...\n",
      " $ X1  : num  3 10 10 26 20 11 14 8 3 3 ...\n",
      " $ X2  : num  4490 4691 3512 3251 3255 ...\n",
      " $ X3  : num  231 229 137 119 127 155 155 123 36 17 ...\n",
      " $ X4  : num  133 134 74 59 53 108 108 75 26 15 ...\n",
      " $ X5  : num  25 25 0 37 29 0 0 0 27 0 ...\n",
      " $ X6  : num  55 60 52 38 47 42 51 55 70.5 64 ...\n",
      " $ X7  : num  4.7 4.53 2.71 2.75 2.72 ...\n",
      " $ X8  : num  0.587 0.587 0.532 0.677 0.677 ...\n",
      " $ X9  : num  41830 41825 35658 34719 34700 ...\n",
      " $ X10 : num  0.368 0.371 0.336 0.462 0.409 ...\n",
      " $ X11 : num  0 0 0 0 0 0 0 0 0 0 ...\n",
      " $ X12 : num  0 0 0 0 0 0 0 0 0 0 ...\n",
      " $ X13 : num  0 0 0 0 0 0 0 0 0 0 ...\n",
      " $ X14 : num  0 0 0 0 0 0 0 0 0 0 ...\n",
      " $ X15 : num  0 0 0 0 0 0 0 0 0 0 ...\n",
      " $ X16 : num  0 0 0 0 0 0 0 0 0 1 ...\n",
      " $ X17 : num  0 0 0 0 0 0 0 0 0 0 ...\n",
      " $ X18 : num  0 0 0 0 0 0 0 0 0 0 ...\n",
      " $ X19 : num  0 0 0 0 0 0 0 0 0 0 ...\n",
      " $ X20 : num  0 0 0 0 0 0 0 0 0 0 ...\n",
      " $ X21 : num  0 0 0 0 0 0 0 0 0 0 ...\n",
      " $ X22 : num  0 0 0 0 0 0 0 0 0 0 ...\n",
      " $ X23 : num  0 0 0 0 0 0 0 0 0 0 ...\n",
      " $ X24 : num  0 1 0 0 0 0 0 0 0 0 ...\n",
      " $ X25 : num  0 0 0 0 0 0 0 0 0 0 ...\n",
      " $ X26 : num  0 0 0 0 0 0 0 0 0 0 ...\n",
      " $ X27 : num  0 0 0 0 0 0 0 0 0 0 ...\n",
      " $ X28 : num  0 0 0 1 0 0 0 1 0 0 ...\n",
      " $ X29 : num  0 0 0 0 1 0 0 0 0 0 ...\n",
      " $ X30 : num  0 0 0 0 0 0 0 0 0 0 ...\n",
      " $ X31 : num  0 0 0 0 0 0 0 0 0 0 ...\n",
      " $ X32 : num  0 0 0 0 0 0 0 0 0 0 ...\n",
      " $ X33 : num  0 0 0 0 0 0 0 0 0 0 ...\n",
      " $ X34 : num  0 0 0 0 0 1 0 0 0 0 ...\n",
      " $ X35 : num  0 0 0 0 0 0 0 0 0 0 ...\n",
      " $ X36 : num  0 0 0 0 0 0 0 0 0 0 ...\n",
      " $ X37 : num  0 0 0 0 0 0 0 0 0 0 ...\n",
      " $ X38 : num  0 0 1 0 0 0 0 0 0 0 ...\n",
      " $ X39 : num  0 0 0 0 0 0 0 0 0 0 ...\n",
      " $ X40 : num  0 0 0 0 0 0 0 0 0 0 ...\n",
      " $ X41 : num  0 0 0 0 0 0 0 0 0 0 ...\n",
      " $ X42 : num  1 0 0 0 0 0 0 0 0 0 ...\n",
      " $ X43 : num  0 0 0 0 0 0 0 0 0 0 ...\n",
      " $ X44 : num  0 0 0 0 0 0 1 0 0 0 ...\n",
      " $ X45 : num  0 0 0 0 0 0 0 0 1 0 ...\n",
      " $ X46 : num  0 0 0 0 0 0 0 0 0 0 ...\n",
      " $ X47 : num  0 0 0 0 0 0 0 0 0 0 ...\n",
      " $ X48 : num  0 0 0 0 0 0 0 0 0 0 ...\n",
      " $ X49 : num  0 0 0 0 0 0 0 0 0 0 ...\n",
      " $ X50 : num  0 0 0 0 0 0 0 0 0 0 ...\n",
      " $ X51 : num  0 0 0 0 0 0 0 0 0 1 ...\n",
      " $ X52 : num  0 0 0 0 0 0 0 0 0 0 ...\n",
      " $ X53 : num  0 0 0 0 0 0 0 0 0 0 ...\n",
      " $ X54 : num  0 0 0 0 0 0 0 0 0 0 ...\n",
      " $ X55 : num  0 0 0 0 0 0 0 0 0 0 ...\n",
      " $ X56 : num  0 0 0 1 0 0 1 0 0 0 ...\n",
      " $ X57 : num  0 0 0 0 0 0 0 0 0 0 ...\n",
      " $ X58 : num  0 0 0 0 0 0 0 0 0 0 ...\n",
      " $ X59 : num  0 0 0 0 0 0 0 0 0 0 ...\n",
      " $ X60 : num  0 0 0 0 0 0 0 0 0 0 ...\n",
      " $ X0.1: num  0 0 0 0 0 0 0 0 0 0 ...\n"
     ]
    }
   ],
   "source": [
    "# Read in the data\n",
    "#CPCG0100Frame = read.csv(\"CPCG0100.csv\")  \n",
    "CPCG0100Frame = read.csv(\"CPCG0100_Val.csv\") \n",
    "str(CPCG0100Frame)"
   ]
  },
  {
   "cell_type": "code",
   "execution_count": 2,
   "metadata": {
    "collapsed": false
   },
   "outputs": [
    {
     "name": "stdout",
     "output_type": "stream",
     "text": [
      " num [1:198526] 0 0 0 0 0 0 0 0 0 0 ...\n"
     ]
    }
   ],
   "source": [
    "str(CPCG0100Frame$X0.1)"
   ]
  },
  {
   "cell_type": "code",
   "execution_count": 3,
   "metadata": {
    "collapsed": false
   },
   "outputs": [
    {
     "name": "stderr",
     "output_type": "stream",
     "text": [
      "Warning message:\n",
      "In is.na(CPCG0100Frame$StrandBias): is.na() applied to non-(list or vector) of type 'NULL'"
     ]
    },
    {
     "data": {
      "text/html": [
       "0"
      ],
      "text/latex": [
       "0"
      ],
      "text/markdown": [
       "0"
      ],
      "text/plain": [
       "[1] 0"
      ]
     },
     "execution_count": 3,
     "metadata": {},
     "output_type": "execute_result"
    }
   ],
   "source": [
    "sum(is.na(CPCG0100Frame$StrandBias)) "
   ]
  },
  {
   "cell_type": "code",
   "execution_count": null,
   "metadata": {
    "collapsed": false
   },
   "outputs": [],
   "source": [
    "sum(is.na(CPCG0100Frame$StrandBias))   #ReadPosition=32, StrandBias=32\n",
    "\n",
    "#Imputing na value\n",
    "#df = data.frame(x = 1:20, y = c(1:10,rep(NA,10)))\n",
    "#df$y[is.na(df$y)] = mean(df$y, na.rm=TRUE)\n",
    "# alternative\n",
    "#df = transform(df, y = ifelse(is.na(y), mean(y, na.rm=TRUE), y))\n",
    "\n",
    "CPCG0100Frame$ReadPosition[is.na(CPCG0100Frame$ReadPosition)] = mean(CPCG0100Frame$ReadPosition, na.rm=TRUE)\n",
    "CPCG0100Frame$StrandBias[is.na(CPCG0100Frame$StrandBias)] = mean(CPCG0100Frame$StrandBias, na.rm=TRUE)\n",
    "\n",
    "print (sum(is.na(CPCG0100Frame$ReadPosition)) )\n",
    "print (sum(is.na(CPCG0100Frame$StrandBias)) )"
   ]
  },
  {
   "cell_type": "code",
   "execution_count": null,
   "metadata": {
    "collapsed": false
   },
   "outputs": [],
   "source": [
    "CPCG0100Frame$Trinucleotide  = as.factor(CPCG0100Frame$Trinucleotide)\n",
    "CPCG0100Frame$GenomicLocation= as.factor(CPCG0100Frame$GenomicLocation)"
   ]
  },
  {
   "cell_type": "code",
   "execution_count": null,
   "metadata": {
    "collapsed": true
   },
   "outputs": [],
   "source": [
    "library(caTools)\n",
    "split = sample.split(CPCG0100Frame$X0.1, SplitRatio = 0.80) #60% train, 40% test\n",
    "train_R = subset(CPCG0100Frame, split==TRUE)\n",
    "test_R = subset(CPCG0100Frame, split==FALSE)"
   ]
  },
  {
   "cell_type": "code",
   "execution_count": null,
   "metadata": {
    "collapsed": false
   },
   "outputs": [],
   "source": [
    "CPCG0100Frame1 = read.csv(\"CPCG0100.csv\")  \n",
    "str(CPCG0100Frame1)"
   ]
  },
  {
   "cell_type": "code",
   "execution_count": null,
   "metadata": {
    "collapsed": false
   },
   "outputs": [],
   "source": [
    "str(CPCG0100Frame$X11)"
   ]
  },
  {
   "cell_type": "code",
   "execution_count": null,
   "metadata": {
    "collapsed": false
   },
   "outputs": [],
   "source": [
    "#install.packages(\"caTools\")\n",
    "str(CPCG0100Frame)"
   ]
  },
  {
   "cell_type": "code",
   "execution_count": null,
   "metadata": {
    "collapsed": false
   },
   "outputs": [],
   "source": [
    "#79410+119116\n",
    "CPCG0100Log = glm(X0.1 ~ ., data = CPCG0100Frame, family=binomial)\n",
    "summary(CPCG0100Log)"
   ]
  },
  {
   "cell_type": "code",
   "execution_count": null,
   "metadata": {
    "collapsed": true
   },
   "outputs": [],
   "source": [
    "predictCPCG0100 = predict(CPCG0100Log, type=\"response\") #, newdata=CPCG0100Frame)"
   ]
  },
  {
   "cell_type": "code",
   "execution_count": null,
   "metadata": {
    "collapsed": false
   },
   "outputs": [],
   "source": [
    "#predictTest = predict(CPCG0100Log, type=\"response\", newdata=test_R)\n",
    "table(CPCG0100Frame$X0.1, predictCPCG0100 > 0.5)"
   ]
  },
  {
   "cell_type": "code",
   "execution_count": null,
   "metadata": {
    "collapsed": false
   },
   "outputs": [],
   "source": [
    "(195527+18)/(195527+18+146+2835.0)"
   ]
  },
  {
   "cell_type": "code",
   "execution_count": null,
   "metadata": {
    "collapsed": false
   },
   "outputs": [],
   "source": [
    "(195501+18)/(195501+18+172+2835.0)"
   ]
  },
  {
   "cell_type": "code",
   "execution_count": null,
   "metadata": {
    "collapsed": true
   },
   "outputs": [],
   "source": []
  },
  {
   "cell_type": "code",
   "execution_count": null,
   "metadata": {
    "collapsed": true
   },
   "outputs": [],
   "source": []
  },
  {
   "cell_type": "code",
   "execution_count": null,
   "metadata": {
    "collapsed": true
   },
   "outputs": [],
   "source": []
  },
  {
   "cell_type": "code",
   "execution_count": null,
   "metadata": {
    "collapsed": true
   },
   "outputs": [],
   "source": []
  },
  {
   "cell_type": "code",
   "execution_count": null,
   "metadata": {
    "collapsed": true
   },
   "outputs": [],
   "source": []
  },
  {
   "cell_type": "code",
   "execution_count": null,
   "metadata": {
    "collapsed": true
   },
   "outputs": [],
   "source": []
  },
  {
   "cell_type": "code",
   "execution_count": null,
   "metadata": {
    "collapsed": true
   },
   "outputs": [],
   "source": []
  },
  {
   "cell_type": "code",
   "execution_count": null,
   "metadata": {
    "collapsed": true
   },
   "outputs": [],
   "source": []
  },
  {
   "cell_type": "code",
   "execution_count": null,
   "metadata": {
    "collapsed": true
   },
   "outputs": [],
   "source": []
  },
  {
   "cell_type": "code",
   "execution_count": null,
   "metadata": {
    "collapsed": true
   },
   "outputs": [],
   "source": []
  }
 ],
 "metadata": {
  "kernelspec": {
   "display_name": "R",
   "language": "R",
   "name": "ir"
  },
  "language_info": {
   "codemirror_mode": "r",
   "file_extension": ".r",
   "mimetype": "text/x-r-source",
   "name": "R",
   "pygments_lexer": "r",
   "version": "3.3.0"
  }
 },
 "nbformat": 4,
 "nbformat_minor": 0
}
