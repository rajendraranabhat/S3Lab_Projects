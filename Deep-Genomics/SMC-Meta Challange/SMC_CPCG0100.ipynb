{
 "cells": [
  {
   "cell_type": "code",
   "execution_count": 1,
   "metadata": {
    "collapsed": false
   },
   "outputs": [
    {
     "name": "stderr",
     "output_type": "stream",
     "text": [
      "WARNING (theano.sandbox.cuda): CUDA is installed, but device gpu is not available  (error: Unable to get the number of gpus available: no CUDA-capable device is detected)\n",
      "WARNING:theano.sandbox.cuda:CUDA is installed, but device gpu is not available  (error: Unable to get the number of gpus available: no CUDA-capable device is detected)\n",
      "/usr/local/lib/python2.7/dist-packages/theano/tensor/signal/downsample.py:6: UserWarning: downsample module has been moved to the theano.tensor.signal.pool module.\n",
      "  \"downsample module has been moved to the theano.tensor.signal.pool module.\")\n",
      "Using Theano backend.\n"
     ]
    }
   ],
   "source": [
    "import numpy as np\n",
    "import pandas as pd\n",
    "from collections import Counter\n",
    "import math\n",
    "\n",
    "from sklearn.neighbors import KNeighborsClassifier\n",
    "from sklearn.linear_model import LogisticRegression\n",
    "from sklearn.ensemble import RandomForestClassifier\n",
    "from sklearn.cross_validation import cross_val_score\n",
    "from sklearn import metrics\n",
    "from sklearn.cross_validation import train_test_split\n",
    "from sklearn.metrics import confusion_matrix, roc_curve, auc\n",
    "from sklearn.grid_search import GridSearchCV\n",
    "from sklearn import svm\n",
    "from sklearn.decomposition import RandomizedPCA\n",
    "from sklearn.metrics import classification_report\n",
    "from sklearn import preprocessing\n",
    "import matplotlib.pyplot as plt\n",
    "import scipy.optimize as opt\n",
    "import glob\n",
    "import os\n",
    "import sys\n",
    "import pickle\n",
    "import time\n",
    "import timeit\n",
    "\n",
    "from sklearn.decomposition import RandomizedPCA\n",
    "\n",
    "import theano\n",
    "import theano.tensor as T\n",
    "import lasagne\n",
    "\n",
    "#np.random.seed(1337)  # for reproducibility\n",
    "from keras.datasets import mnist\n",
    "from keras.models import Sequential\n",
    "from keras.layers.core import Dense, Dropout, Activation, Flatten, Layer, Reshape, AutoEncoder, Merge\n",
    "from keras.layers.convolutional import Convolution2D,MaxPooling2D,Convolution1D,MaxPooling1D,UpSampling2D, ZeroPadding2D\n",
    "from keras.optimizers import SGD, Adam, RMSprop, Adadelta\n",
    "from keras.layers.normalization import BatchNormalization\n",
    "from keras.utils import np_utils\n",
    "import keras.utils.visualize_util as vutil\n",
    "from keras.layers.recurrent import LSTM, GRU, SimpleRNN\n",
    "from keras.regularizers import l1, l2, l1l2, activity_l2, activity_l1\n",
    "import keras.layers.containers as containers\n",
    "from keras.layers.noise import GaussianNoise\n",
    "from keras.regularizers import ActivityRegularizer\n",
    "from keras import backend as K\n",
    "import keras.utils.visualize_util as vutil\n",
    "from keras.models import model_from_json\n",
    "\n",
    "import seaborn as sns\n",
    "\n",
    "%matplotlib inline\n",
    "\n",
    "from IPython.display import SVG\n",
    "\n",
    "import h5py\n",
    "\n",
    "np.set_printoptions(suppress=True)  #Supress exponent of the number 2e-2 == 0.02\n",
    "\n",
    "%matplotlib inline"
   ]
  },
  {
   "cell_type": "code",
   "execution_count": 2,
   "metadata": {
    "collapsed": true
   },
   "outputs": [],
   "source": [
    "#CPCG0100"
   ]
  },
  {
   "cell_type": "code",
   "execution_count": 3,
   "metadata": {
    "collapsed": true
   },
   "outputs": [],
   "source": [
    "#Read the data\n",
    "\n",
    "GenomicFeatures_CPCG0100 = pd.read_csv(open('data/CPCG0100/GenomicFeatures_CPCG0100.txt','r'),sep='\\t')\n",
    "SNVCalls_CPCG0100    = pd.read_csv(open('data/CPCG0100/SNVCalls_CPCG0100.txt','r'),sep='\\t') "
   ]
  },
  {
   "cell_type": "code",
   "execution_count": 4,
   "metadata": {
    "collapsed": false
   },
   "outputs": [
    {
     "name": "stdout",
     "output_type": "stream",
     "text": [
      "(198526, 15)\n",
      "(198526, 182)\n"
     ]
    }
   ],
   "source": [
    "print GenomicFeatures_CPCG0100.shape\n",
    "print SNVCalls_CPCG0100.shape"
   ]
  },
  {
   "cell_type": "code",
   "execution_count": 5,
   "metadata": {
    "collapsed": false
   },
   "outputs": [
    {
     "data": {
      "text/html": [
       "<div style=\"max-height:1000px;max-width:1500px;overflow:auto;\">\n",
       "<table border=\"1\" class=\"dataframe\">\n",
       "  <thead>\n",
       "    <tr style=\"text-align: right;\">\n",
       "      <th></th>\n",
       "      <th>CHROM</th>\n",
       "      <th>POS</th>\n",
       "      <th>RefAllele</th>\n",
       "      <th>NonRefAllele</th>\n",
       "      <th>BaseQual</th>\n",
       "      <th>TumourCoverage</th>\n",
       "      <th>NormalCoverage</th>\n",
       "      <th>MapQual</th>\n",
       "      <th>ReadPosition</th>\n",
       "      <th>Trinucleotide</th>\n",
       "      <th>HomopolymerRate</th>\n",
       "      <th>GCcontent</th>\n",
       "      <th>GenomicLocation</th>\n",
       "      <th>DistanceSNP</th>\n",
       "      <th>StrandBias</th>\n",
       "    </tr>\n",
       "  </thead>\n",
       "  <tbody>\n",
       "    <tr>\n",
       "      <th>0</th>\n",
       "      <td> chr1</td>\n",
       "      <td> 10408</td>\n",
       "      <td> 183</td>\n",
       "      <td>  3</td>\n",
       "      <td> 4490</td>\n",
       "      <td> 231</td>\n",
       "      <td> 133</td>\n",
       "      <td> 25</td>\n",
       "      <td> 55</td>\n",
       "      <td> TTA</td>\n",
       "      <td> 4.696078</td>\n",
       "      <td> 0.587065</td>\n",
       "      <td>            NaN</td>\n",
       "      <td> 41830</td>\n",
       "      <td> 0.367965</td>\n",
       "    </tr>\n",
       "    <tr>\n",
       "      <th>1</th>\n",
       "      <td> chr1</td>\n",
       "      <td> 10413</td>\n",
       "      <td> 177</td>\n",
       "      <td> 10</td>\n",
       "      <td> 4691</td>\n",
       "      <td> 229</td>\n",
       "      <td> 134</td>\n",
       "      <td> 25</td>\n",
       "      <td> 60</td>\n",
       "      <td> CTA</td>\n",
       "      <td> 4.528846</td>\n",
       "      <td> 0.587065</td>\n",
       "      <td>            NaN</td>\n",
       "      <td> 41825</td>\n",
       "      <td> 0.371179</td>\n",
       "    </tr>\n",
       "    <tr>\n",
       "      <th>2</th>\n",
       "      <td> chr1</td>\n",
       "      <td> 16580</td>\n",
       "      <td> 115</td>\n",
       "      <td> 10</td>\n",
       "      <td> 3512</td>\n",
       "      <td> 137</td>\n",
       "      <td>  74</td>\n",
       "      <td>  0</td>\n",
       "      <td> 52</td>\n",
       "      <td> TCA</td>\n",
       "      <td> 2.707143</td>\n",
       "      <td> 0.532338</td>\n",
       "      <td>            NaN</td>\n",
       "      <td> 35658</td>\n",
       "      <td> 0.335766</td>\n",
       "    </tr>\n",
       "    <tr>\n",
       "      <th>3</th>\n",
       "      <td> chr1</td>\n",
       "      <td> 17519</td>\n",
       "      <td>  83</td>\n",
       "      <td> 26</td>\n",
       "      <td> 3251</td>\n",
       "      <td> 119</td>\n",
       "      <td>  59</td>\n",
       "      <td> 37</td>\n",
       "      <td> 38</td>\n",
       "      <td> GCA</td>\n",
       "      <td> 2.746377</td>\n",
       "      <td> 0.676617</td>\n",
       "      <td> ncRNA_intronic</td>\n",
       "      <td> 34719</td>\n",
       "      <td> 0.462185</td>\n",
       "    </tr>\n",
       "    <tr>\n",
       "      <th>4</th>\n",
       "      <td> chr1</td>\n",
       "      <td> 17538</td>\n",
       "      <td>  96</td>\n",
       "      <td> 20</td>\n",
       "      <td> 3255</td>\n",
       "      <td> 127</td>\n",
       "      <td>  53</td>\n",
       "      <td> 29</td>\n",
       "      <td> 47</td>\n",
       "      <td> GCC</td>\n",
       "      <td> 2.719424</td>\n",
       "      <td> 0.676617</td>\n",
       "      <td>            NaN</td>\n",
       "      <td> 34700</td>\n",
       "      <td> 0.409449</td>\n",
       "    </tr>\n",
       "  </tbody>\n",
       "</table>\n",
       "<p>5 rows × 15 columns</p>\n",
       "</div>"
      ],
      "text/plain": [
       "  CHROM    POS  RefAllele  NonRefAllele  BaseQual  TumourCoverage  \\\n",
       "0  chr1  10408        183             3      4490             231   \n",
       "1  chr1  10413        177            10      4691             229   \n",
       "2  chr1  16580        115            10      3512             137   \n",
       "3  chr1  17519         83            26      3251             119   \n",
       "4  chr1  17538         96            20      3255             127   \n",
       "\n",
       "   NormalCoverage  MapQual  ReadPosition Trinucleotide  HomopolymerRate  \\\n",
       "0             133       25            55           TTA         4.696078   \n",
       "1             134       25            60           CTA         4.528846   \n",
       "2              74        0            52           TCA         2.707143   \n",
       "3              59       37            38           GCA         2.746377   \n",
       "4              53       29            47           GCC         2.719424   \n",
       "\n",
       "   GCcontent GenomicLocation  DistanceSNP  StrandBias  \n",
       "0   0.587065             NaN        41830    0.367965  \n",
       "1   0.587065             NaN        41825    0.371179  \n",
       "2   0.532338             NaN        35658    0.335766  \n",
       "3   0.676617  ncRNA_intronic        34719    0.462185  \n",
       "4   0.676617             NaN        34700    0.409449  \n",
       "\n",
       "[5 rows x 15 columns]"
      ]
     },
     "execution_count": 5,
     "metadata": {},
     "output_type": "execute_result"
    }
   ],
   "source": [
    "GenomicFeatures_CPCG0100.head()"
   ]
  },
  {
   "cell_type": "code",
   "execution_count": 6,
   "metadata": {
    "collapsed": false
   },
   "outputs": [
    {
     "data": {
      "text/html": [
       "<div style=\"max-height:1000px;max-width:1500px;overflow:auto;\">\n",
       "<table border=\"1\" class=\"dataframe\">\n",
       "  <thead>\n",
       "    <tr style=\"text-align: right;\">\n",
       "      <th></th>\n",
       "      <th>CHROM</th>\n",
       "      <th>POS</th>\n",
       "      <th>END</th>\n",
       "      <th>X2399002</th>\n",
       "      <th>X2673208</th>\n",
       "      <th>X2673225</th>\n",
       "      <th>X2677201</th>\n",
       "      <th>X2677205</th>\n",
       "      <th>X2679037</th>\n",
       "      <th>X2679040</th>\n",
       "      <th>X2711267</th>\n",
       "      <th>X2762064</th>\n",
       "      <th>X2762066</th>\n",
       "      <th>X2787011</th>\n",
       "      <th>X2787148</th>\n",
       "      <th>X2787658</th>\n",
       "      <th>X2787662</th>\n",
       "      <th>X2788241</th>\n",
       "      <th>X2788246</th>\n",
       "      <th>X2788251</th>\n",
       "      <th></th>\n",
       "    </tr>\n",
       "  </thead>\n",
       "  <tbody>\n",
       "    <tr>\n",
       "      <th>0</th>\n",
       "      <td> chr1</td>\n",
       "      <td> 10407</td>\n",
       "      <td> 10408</td>\n",
       "      <td> 0</td>\n",
       "      <td> 0</td>\n",
       "      <td> 0</td>\n",
       "      <td> 0</td>\n",
       "      <td> 0</td>\n",
       "      <td> 0</td>\n",
       "      <td> 0</td>\n",
       "      <td> 0</td>\n",
       "      <td> 0</td>\n",
       "      <td> 0</td>\n",
       "      <td> 0</td>\n",
       "      <td> 0</td>\n",
       "      <td> 0</td>\n",
       "      <td> 0</td>\n",
       "      <td> 0</td>\n",
       "      <td> 0</td>\n",
       "      <td> 0</td>\n",
       "      <td>...</td>\n",
       "    </tr>\n",
       "    <tr>\n",
       "      <th>1</th>\n",
       "      <td> chr1</td>\n",
       "      <td> 10412</td>\n",
       "      <td> 10413</td>\n",
       "      <td> 0</td>\n",
       "      <td> 0</td>\n",
       "      <td> 0</td>\n",
       "      <td> 0</td>\n",
       "      <td> 0</td>\n",
       "      <td> 0</td>\n",
       "      <td> 0</td>\n",
       "      <td> 0</td>\n",
       "      <td> 0</td>\n",
       "      <td> 0</td>\n",
       "      <td> 0</td>\n",
       "      <td> 0</td>\n",
       "      <td> 0</td>\n",
       "      <td> 0</td>\n",
       "      <td> 0</td>\n",
       "      <td> 0</td>\n",
       "      <td> 0</td>\n",
       "      <td>...</td>\n",
       "    </tr>\n",
       "    <tr>\n",
       "      <th>2</th>\n",
       "      <td> chr1</td>\n",
       "      <td> 16579</td>\n",
       "      <td> 16580</td>\n",
       "      <td> 0</td>\n",
       "      <td> 0</td>\n",
       "      <td> 0</td>\n",
       "      <td> 0</td>\n",
       "      <td> 0</td>\n",
       "      <td> 0</td>\n",
       "      <td> 0</td>\n",
       "      <td> 0</td>\n",
       "      <td> 0</td>\n",
       "      <td> 0</td>\n",
       "      <td> 0</td>\n",
       "      <td> 0</td>\n",
       "      <td> 0</td>\n",
       "      <td> 0</td>\n",
       "      <td> 0</td>\n",
       "      <td> 0</td>\n",
       "      <td> 0</td>\n",
       "      <td>...</td>\n",
       "    </tr>\n",
       "    <tr>\n",
       "      <th>3</th>\n",
       "      <td> chr1</td>\n",
       "      <td> 17518</td>\n",
       "      <td> 17519</td>\n",
       "      <td> 0</td>\n",
       "      <td> 0</td>\n",
       "      <td> 0</td>\n",
       "      <td> 0</td>\n",
       "      <td> 0</td>\n",
       "      <td> 0</td>\n",
       "      <td> 0</td>\n",
       "      <td> 0</td>\n",
       "      <td> 0</td>\n",
       "      <td> 0</td>\n",
       "      <td> 0</td>\n",
       "      <td> 0</td>\n",
       "      <td> 0</td>\n",
       "      <td> 0</td>\n",
       "      <td> 0</td>\n",
       "      <td> 0</td>\n",
       "      <td> 0</td>\n",
       "      <td>...</td>\n",
       "    </tr>\n",
       "    <tr>\n",
       "      <th>4</th>\n",
       "      <td> chr1</td>\n",
       "      <td> 17537</td>\n",
       "      <td> 17538</td>\n",
       "      <td> 0</td>\n",
       "      <td> 0</td>\n",
       "      <td> 0</td>\n",
       "      <td> 0</td>\n",
       "      <td> 0</td>\n",
       "      <td> 0</td>\n",
       "      <td> 0</td>\n",
       "      <td> 0</td>\n",
       "      <td> 0</td>\n",
       "      <td> 0</td>\n",
       "      <td> 0</td>\n",
       "      <td> 0</td>\n",
       "      <td> 0</td>\n",
       "      <td> 0</td>\n",
       "      <td> 0</td>\n",
       "      <td> 0</td>\n",
       "      <td> 0</td>\n",
       "      <td>...</td>\n",
       "    </tr>\n",
       "  </tbody>\n",
       "</table>\n",
       "<p>5 rows × 182 columns</p>\n",
       "</div>"
      ],
      "text/plain": [
       "  CHROM    POS    END  X2399002  X2673208  X2673225  X2677201  X2677205  \\\n",
       "0  chr1  10407  10408         0         0         0         0         0   \n",
       "1  chr1  10412  10413         0         0         0         0         0   \n",
       "2  chr1  16579  16580         0         0         0         0         0   \n",
       "3  chr1  17518  17519         0         0         0         0         0   \n",
       "4  chr1  17537  17538         0         0         0         0         0   \n",
       "\n",
       "   X2679037  X2679040  X2711267  X2762064  X2762066  X2787011  X2787148  \\\n",
       "0         0         0         0         0         0         0         0   \n",
       "1         0         0         0         0         0         0         0   \n",
       "2         0         0         0         0         0         0         0   \n",
       "3         0         0         0         0         0         0         0   \n",
       "4         0         0         0         0         0         0         0   \n",
       "\n",
       "   X2787658  X2787662  X2788241  X2788246  X2788251      \n",
       "0         0         0         0         0         0 ...  \n",
       "1         0         0         0         0         0 ...  \n",
       "2         0         0         0         0         0 ...  \n",
       "3         0         0         0         0         0 ...  \n",
       "4         0         0         0         0         0 ...  \n",
       "\n",
       "[5 rows x 182 columns]"
      ]
     },
     "execution_count": 6,
     "metadata": {},
     "output_type": "execute_result"
    }
   ],
   "source": [
    "SNVCalls_CPCG0100.head()"
   ]
  },
  {
   "cell_type": "code",
   "execution_count": 7,
   "metadata": {
    "collapsed": false
   },
   "outputs": [
    {
     "data": {
      "text/plain": [
       "array(['ACA', 'ACC', 'ACG', 'ACT', 'ATA', 'ATC', 'ATG', 'ATT', 'CCA',\n",
       "       'CCC', 'CCG', 'CCT', 'CNN', 'CTA', 'CTC', 'CTG', 'CTT', 'GCA',\n",
       "       'GCC', 'GCG', 'GCT', 'GTA', 'GTC', 'GTG', 'GTT', 'NCG', 'NTC',\n",
       "       'TCA', 'TCC', 'TCG', 'TCT', 'TTA', 'TTC', 'TTG', 'TTT'], \n",
       "      dtype='|S3')"
      ]
     },
     "execution_count": 7,
     "metadata": {},
     "output_type": "execute_result"
    }
   ],
   "source": [
    "np.unique(GenomicFeatures_CPCG0100['Trinucleotide'])"
   ]
  },
  {
   "cell_type": "code",
   "execution_count": 8,
   "metadata": {
    "collapsed": true
   },
   "outputs": [],
   "source": [
    "CPCG0100 = pd.merge(GenomicFeatures_CPCG0100, SNVCalls_CPCG0100,left_on=['CHROM', 'POS'], right_on=['CHROM','END'])\n"
   ]
  },
  {
   "cell_type": "code",
   "execution_count": 52,
   "metadata": {
    "collapsed": false
   },
   "outputs": [
    {
     "data": {
      "text/html": [
       "<div style=\"max-height:1000px;max-width:1500px;overflow:auto;\">\n",
       "<table border=\"1\" class=\"dataframe\">\n",
       "  <thead>\n",
       "    <tr style=\"text-align: right;\">\n",
       "      <th></th>\n",
       "      <th>CHROM</th>\n",
       "      <th>POS_x</th>\n",
       "      <th>RefAllele</th>\n",
       "      <th>NonRefAllele</th>\n",
       "      <th>BaseQual</th>\n",
       "      <th>TumourCoverage</th>\n",
       "      <th>NormalCoverage</th>\n",
       "      <th>MapQual</th>\n",
       "      <th>ReadPosition</th>\n",
       "      <th>Trinucleotide</th>\n",
       "      <th>HomopolymerRate</th>\n",
       "      <th>GCcontent</th>\n",
       "      <th>GenomicLocation</th>\n",
       "      <th>DistanceSNP</th>\n",
       "      <th>StrandBias</th>\n",
       "      <th>POS_y</th>\n",
       "      <th>END</th>\n",
       "      <th>X2399002</th>\n",
       "      <th>X2673208</th>\n",
       "      <th>X2673225</th>\n",
       "      <th></th>\n",
       "    </tr>\n",
       "  </thead>\n",
       "  <tbody>\n",
       "    <tr>\n",
       "      <th>0</th>\n",
       "      <td> chr1</td>\n",
       "      <td> 10408</td>\n",
       "      <td> 183</td>\n",
       "      <td>  3</td>\n",
       "      <td> 4490</td>\n",
       "      <td> 231</td>\n",
       "      <td> 133</td>\n",
       "      <td> 25</td>\n",
       "      <td> 55</td>\n",
       "      <td> TTA</td>\n",
       "      <td> 4.696078</td>\n",
       "      <td> 0.587065</td>\n",
       "      <td>            NaN</td>\n",
       "      <td> 41830</td>\n",
       "      <td> 0.367965</td>\n",
       "      <td> 10407</td>\n",
       "      <td> 10408</td>\n",
       "      <td> 0</td>\n",
       "      <td> 0</td>\n",
       "      <td> 0</td>\n",
       "      <td>...</td>\n",
       "    </tr>\n",
       "    <tr>\n",
       "      <th>1</th>\n",
       "      <td> chr1</td>\n",
       "      <td> 10413</td>\n",
       "      <td> 177</td>\n",
       "      <td> 10</td>\n",
       "      <td> 4691</td>\n",
       "      <td> 229</td>\n",
       "      <td> 134</td>\n",
       "      <td> 25</td>\n",
       "      <td> 60</td>\n",
       "      <td> CTA</td>\n",
       "      <td> 4.528846</td>\n",
       "      <td> 0.587065</td>\n",
       "      <td>            NaN</td>\n",
       "      <td> 41825</td>\n",
       "      <td> 0.371179</td>\n",
       "      <td> 10412</td>\n",
       "      <td> 10413</td>\n",
       "      <td> 0</td>\n",
       "      <td> 0</td>\n",
       "      <td> 0</td>\n",
       "      <td>...</td>\n",
       "    </tr>\n",
       "    <tr>\n",
       "      <th>2</th>\n",
       "      <td> chr1</td>\n",
       "      <td> 16580</td>\n",
       "      <td> 115</td>\n",
       "      <td> 10</td>\n",
       "      <td> 3512</td>\n",
       "      <td> 137</td>\n",
       "      <td>  74</td>\n",
       "      <td>  0</td>\n",
       "      <td> 52</td>\n",
       "      <td> TCA</td>\n",
       "      <td> 2.707143</td>\n",
       "      <td> 0.532338</td>\n",
       "      <td>            NaN</td>\n",
       "      <td> 35658</td>\n",
       "      <td> 0.335766</td>\n",
       "      <td> 16579</td>\n",
       "      <td> 16580</td>\n",
       "      <td> 0</td>\n",
       "      <td> 0</td>\n",
       "      <td> 0</td>\n",
       "      <td>...</td>\n",
       "    </tr>\n",
       "    <tr>\n",
       "      <th>3</th>\n",
       "      <td> chr1</td>\n",
       "      <td> 17519</td>\n",
       "      <td>  83</td>\n",
       "      <td> 26</td>\n",
       "      <td> 3251</td>\n",
       "      <td> 119</td>\n",
       "      <td>  59</td>\n",
       "      <td> 37</td>\n",
       "      <td> 38</td>\n",
       "      <td> GCA</td>\n",
       "      <td> 2.746377</td>\n",
       "      <td> 0.676617</td>\n",
       "      <td> ncRNA_intronic</td>\n",
       "      <td> 34719</td>\n",
       "      <td> 0.462185</td>\n",
       "      <td> 17518</td>\n",
       "      <td> 17519</td>\n",
       "      <td> 0</td>\n",
       "      <td> 0</td>\n",
       "      <td> 0</td>\n",
       "      <td>...</td>\n",
       "    </tr>\n",
       "    <tr>\n",
       "      <th>4</th>\n",
       "      <td> chr1</td>\n",
       "      <td> 17538</td>\n",
       "      <td>  96</td>\n",
       "      <td> 20</td>\n",
       "      <td> 3255</td>\n",
       "      <td> 127</td>\n",
       "      <td>  53</td>\n",
       "      <td> 29</td>\n",
       "      <td> 47</td>\n",
       "      <td> GCC</td>\n",
       "      <td> 2.719424</td>\n",
       "      <td> 0.676617</td>\n",
       "      <td>            NaN</td>\n",
       "      <td> 34700</td>\n",
       "      <td> 0.409449</td>\n",
       "      <td> 17537</td>\n",
       "      <td> 17538</td>\n",
       "      <td> 0</td>\n",
       "      <td> 0</td>\n",
       "      <td> 0</td>\n",
       "      <td>...</td>\n",
       "    </tr>\n",
       "  </tbody>\n",
       "</table>\n",
       "<p>5 rows × 196 columns</p>\n",
       "</div>"
      ],
      "text/plain": [
       "  CHROM  POS_x  RefAllele  NonRefAllele  BaseQual  TumourCoverage  \\\n",
       "0  chr1  10408        183             3      4490             231   \n",
       "1  chr1  10413        177            10      4691             229   \n",
       "2  chr1  16580        115            10      3512             137   \n",
       "3  chr1  17519         83            26      3251             119   \n",
       "4  chr1  17538         96            20      3255             127   \n",
       "\n",
       "   NormalCoverage  MapQual  ReadPosition Trinucleotide  HomopolymerRate  \\\n",
       "0             133       25            55           TTA         4.696078   \n",
       "1             134       25            60           CTA         4.528846   \n",
       "2              74        0            52           TCA         2.707143   \n",
       "3              59       37            38           GCA         2.746377   \n",
       "4              53       29            47           GCC         2.719424   \n",
       "\n",
       "   GCcontent GenomicLocation  DistanceSNP  StrandBias  POS_y    END  X2399002  \\\n",
       "0   0.587065             NaN        41830    0.367965  10407  10408         0   \n",
       "1   0.587065             NaN        41825    0.371179  10412  10413         0   \n",
       "2   0.532338             NaN        35658    0.335766  16579  16580         0   \n",
       "3   0.676617  ncRNA_intronic        34719    0.462185  17518  17519         0   \n",
       "4   0.676617             NaN        34700    0.409449  17537  17538         0   \n",
       "\n",
       "   X2673208  X2673225      \n",
       "0         0         0 ...  \n",
       "1         0         0 ...  \n",
       "2         0         0 ...  \n",
       "3         0         0 ...  \n",
       "4         0         0 ...  \n",
       "\n",
       "[5 rows x 196 columns]"
      ]
     },
     "execution_count": 52,
     "metadata": {},
     "output_type": "execute_result"
    }
   ],
   "source": [
    "CPCG0100.head() #182+15"
   ]
  },
  {
   "cell_type": "code",
   "execution_count": 10,
   "metadata": {
    "collapsed": true
   },
   "outputs": [],
   "source": [
    "CPCG0100_X = CPCG0100.iloc[:,2:15] #Exclude CHROM, POS\n",
    "CPCG0100_Y = CPCG0100.iloc[:,17:]  #Exclude CHROM_y, POS_y, END"
   ]
  },
  {
   "cell_type": "code",
   "execution_count": 11,
   "metadata": {
    "collapsed": false
   },
   "outputs": [
    {
     "name": "stdout",
     "output_type": "stream",
     "text": [
      "(198526, 13)\n",
      "(198526, 179)\n"
     ]
    }
   ],
   "source": [
    "print CPCG0100_X.shape\n",
    "print CPCG0100_Y.shape"
   ]
  },
  {
   "cell_type": "code",
   "execution_count": 12,
   "metadata": {
    "collapsed": false
   },
   "outputs": [
    {
     "data": {
      "text/html": [
       "<div style=\"max-height:1000px;max-width:1500px;overflow:auto;\">\n",
       "<table border=\"1\" class=\"dataframe\">\n",
       "  <thead>\n",
       "    <tr style=\"text-align: right;\">\n",
       "      <th></th>\n",
       "      <th>RefAllele</th>\n",
       "      <th>NonRefAllele</th>\n",
       "      <th>BaseQual</th>\n",
       "      <th>TumourCoverage</th>\n",
       "      <th>NormalCoverage</th>\n",
       "      <th>MapQual</th>\n",
       "      <th>ReadPosition</th>\n",
       "      <th>Trinucleotide</th>\n",
       "      <th>HomopolymerRate</th>\n",
       "      <th>GCcontent</th>\n",
       "      <th>GenomicLocation</th>\n",
       "      <th>DistanceSNP</th>\n",
       "      <th>StrandBias</th>\n",
       "    </tr>\n",
       "  </thead>\n",
       "  <tbody>\n",
       "    <tr>\n",
       "      <th>0</th>\n",
       "      <td> 183</td>\n",
       "      <td>  3</td>\n",
       "      <td> 4490</td>\n",
       "      <td> 231</td>\n",
       "      <td> 133</td>\n",
       "      <td> 25</td>\n",
       "      <td> 55</td>\n",
       "      <td> TTA</td>\n",
       "      <td> 4.696078</td>\n",
       "      <td> 0.587065</td>\n",
       "      <td> NaN</td>\n",
       "      <td> 41830</td>\n",
       "      <td> 0.367965</td>\n",
       "    </tr>\n",
       "    <tr>\n",
       "      <th>1</th>\n",
       "      <td> 177</td>\n",
       "      <td> 10</td>\n",
       "      <td> 4691</td>\n",
       "      <td> 229</td>\n",
       "      <td> 134</td>\n",
       "      <td> 25</td>\n",
       "      <td> 60</td>\n",
       "      <td> CTA</td>\n",
       "      <td> 4.528846</td>\n",
       "      <td> 0.587065</td>\n",
       "      <td> NaN</td>\n",
       "      <td> 41825</td>\n",
       "      <td> 0.371179</td>\n",
       "    </tr>\n",
       "  </tbody>\n",
       "</table>\n",
       "<p>2 rows × 13 columns</p>\n",
       "</div>"
      ],
      "text/plain": [
       "   RefAllele  NonRefAllele  BaseQual  TumourCoverage  NormalCoverage  MapQual  \\\n",
       "0        183             3      4490             231             133       25   \n",
       "1        177            10      4691             229             134       25   \n",
       "\n",
       "   ReadPosition Trinucleotide  HomopolymerRate  GCcontent GenomicLocation  \\\n",
       "0            55           TTA         4.696078   0.587065             NaN   \n",
       "1            60           CTA         4.528846   0.587065             NaN   \n",
       "\n",
       "   DistanceSNP  StrandBias  \n",
       "0        41830    0.367965  \n",
       "1        41825    0.371179  \n",
       "\n",
       "[2 rows x 13 columns]"
      ]
     },
     "execution_count": 12,
     "metadata": {},
     "output_type": "execute_result"
    }
   ],
   "source": [
    "CPCG0100_X[:2]"
   ]
  },
  {
   "cell_type": "code",
   "execution_count": 13,
   "metadata": {
    "collapsed": false
   },
   "outputs": [
    {
     "data": {
      "text/html": [
       "<div style=\"max-height:1000px;max-width:1500px;overflow:auto;\">\n",
       "<table border=\"1\" class=\"dataframe\">\n",
       "  <thead>\n",
       "    <tr style=\"text-align: right;\">\n",
       "      <th></th>\n",
       "      <th>X2399002</th>\n",
       "      <th>X2673208</th>\n",
       "      <th>X2673225</th>\n",
       "      <th>X2677201</th>\n",
       "      <th>X2677205</th>\n",
       "      <th>X2679037</th>\n",
       "      <th>X2679040</th>\n",
       "      <th>X2711267</th>\n",
       "      <th>X2762064</th>\n",
       "      <th>X2762066</th>\n",
       "      <th>X2787011</th>\n",
       "      <th>X2787148</th>\n",
       "      <th>X2787658</th>\n",
       "      <th>X2787662</th>\n",
       "      <th>X2788241</th>\n",
       "      <th>X2788246</th>\n",
       "      <th>X2788251</th>\n",
       "      <th>X2788254</th>\n",
       "      <th>X2791036</th>\n",
       "      <th>X2791292</th>\n",
       "      <th></th>\n",
       "    </tr>\n",
       "  </thead>\n",
       "  <tbody>\n",
       "    <tr>\n",
       "      <th>0</th>\n",
       "      <td> 0</td>\n",
       "      <td> 0</td>\n",
       "      <td> 0</td>\n",
       "      <td> 0</td>\n",
       "      <td> 0</td>\n",
       "      <td> 0</td>\n",
       "      <td> 0</td>\n",
       "      <td> 0</td>\n",
       "      <td> 0</td>\n",
       "      <td> 0</td>\n",
       "      <td> 0</td>\n",
       "      <td> 0</td>\n",
       "      <td> 0</td>\n",
       "      <td> 0</td>\n",
       "      <td> 0</td>\n",
       "      <td> 0</td>\n",
       "      <td> 0</td>\n",
       "      <td> 0</td>\n",
       "      <td> 0</td>\n",
       "      <td> 0</td>\n",
       "      <td>...</td>\n",
       "    </tr>\n",
       "    <tr>\n",
       "      <th>1</th>\n",
       "      <td> 0</td>\n",
       "      <td> 0</td>\n",
       "      <td> 0</td>\n",
       "      <td> 0</td>\n",
       "      <td> 0</td>\n",
       "      <td> 0</td>\n",
       "      <td> 0</td>\n",
       "      <td> 0</td>\n",
       "      <td> 0</td>\n",
       "      <td> 0</td>\n",
       "      <td> 0</td>\n",
       "      <td> 0</td>\n",
       "      <td> 0</td>\n",
       "      <td> 0</td>\n",
       "      <td> 0</td>\n",
       "      <td> 0</td>\n",
       "      <td> 0</td>\n",
       "      <td> 0</td>\n",
       "      <td> 0</td>\n",
       "      <td> 0</td>\n",
       "      <td>...</td>\n",
       "    </tr>\n",
       "  </tbody>\n",
       "</table>\n",
       "<p>2 rows × 179 columns</p>\n",
       "</div>"
      ],
      "text/plain": [
       "   X2399002  X2673208  X2673225  X2677201  X2677205  X2679037  X2679040  \\\n",
       "0         0         0         0         0         0         0         0   \n",
       "1         0         0         0         0         0         0         0   \n",
       "\n",
       "   X2711267  X2762064  X2762066  X2787011  X2787148  X2787658  X2787662  \\\n",
       "0         0         0         0         0         0         0         0   \n",
       "1         0         0         0         0         0         0         0   \n",
       "\n",
       "   X2788241  X2788246  X2788251  X2788254  X2791036  X2791292      \n",
       "0         0         0         0         0         0         0 ...  \n",
       "1         0         0         0         0         0         0 ...  \n",
       "\n",
       "[2 rows x 179 columns]"
      ]
     },
     "execution_count": 13,
     "metadata": {},
     "output_type": "execute_result"
    }
   ],
   "source": [
    "CPCG0100_Y[:2]"
   ]
  },
  {
   "cell_type": "code",
   "execution_count": 14,
   "metadata": {
    "collapsed": false
   },
   "outputs": [
    {
     "name": "stdout",
     "output_type": "stream",
     "text": [
      "198526\n",
      "(198526, 1)\n"
     ]
    }
   ],
   "source": [
    "totalSample = CPCG0100_Y.shape[0]\n",
    "CPCG0100_Y_Val = np.zeros((totalSample,1)) #Will be our label now\n",
    "\n",
    "print totalSample\n",
    "print CPCG0100_Y_Val.shape"
   ]
  },
  {
   "cell_type": "code",
   "execution_count": 15,
   "metadata": {
    "collapsed": false
   },
   "outputs": [
    {
     "data": {
      "text/plain": [
       "(198526, 179)"
      ]
     },
     "execution_count": 15,
     "metadata": {},
     "output_type": "execute_result"
    }
   ],
   "source": [
    "CPCG0100_Y.shape"
   ]
  },
  {
   "cell_type": "code",
   "execution_count": 22,
   "metadata": {
    "collapsed": false
   },
   "outputs": [
    {
     "data": {
      "text/plain": [
       "(96,)"
      ]
     },
     "execution_count": 22,
     "metadata": {},
     "output_type": "execute_result"
    }
   ],
   "source": [
    "CPCG0100_Y.values[0].shape"
   ]
  },
  {
   "cell_type": "code",
   "execution_count": 16,
   "metadata": {
    "collapsed": true
   },
   "outputs": [],
   "source": [
    "for i in range(totalSample):\n",
    "    CPCG0100_Y_Val[i] = np.argmax(np.bincount(CPCG0100_Y.values[i]))"
   ]
  },
  {
   "cell_type": "code",
   "execution_count": 17,
   "metadata": {
    "collapsed": true
   },
   "outputs": [],
   "source": [
    "CPCG0100_Y_Val_1 = pd.DataFrame(CPCG0100_Y_Val)\n",
    "CPCG0100_Y_Val_1.columns = ['Label']"
   ]
  },
  {
   "cell_type": "code",
   "execution_count": 18,
   "metadata": {
    "collapsed": false
   },
   "outputs": [
    {
     "data": {
      "text/html": [
       "<div style=\"max-height:1000px;max-width:1500px;overflow:auto;\">\n",
       "<table border=\"1\" class=\"dataframe\">\n",
       "  <thead>\n",
       "    <tr style=\"text-align: right;\">\n",
       "      <th></th>\n",
       "      <th>Label</th>\n",
       "    </tr>\n",
       "  </thead>\n",
       "  <tbody>\n",
       "    <tr>\n",
       "      <th>0</th>\n",
       "      <td> 0</td>\n",
       "    </tr>\n",
       "    <tr>\n",
       "      <th>1</th>\n",
       "      <td> 0</td>\n",
       "    </tr>\n",
       "    <tr>\n",
       "      <th>2</th>\n",
       "      <td> 0</td>\n",
       "    </tr>\n",
       "  </tbody>\n",
       "</table>\n",
       "<p>3 rows × 1 columns</p>\n",
       "</div>"
      ],
      "text/plain": [
       "   Label\n",
       "0      0\n",
       "1      0\n",
       "2      0\n",
       "\n",
       "[3 rows x 1 columns]"
      ]
     },
     "execution_count": 18,
     "metadata": {},
     "output_type": "execute_result"
    }
   ],
   "source": [
    "CPCG0100_Y_Val_1[:3]"
   ]
  },
  {
   "cell_type": "code",
   "execution_count": 19,
   "metadata": {
    "collapsed": true
   },
   "outputs": [],
   "source": [
    "CPCG0100_dataframe = pd.concat([CPCG0100_X, CPCG0100_Y_Val_1],axis=1)"
   ]
  },
  {
   "cell_type": "code",
   "execution_count": 20,
   "metadata": {
    "collapsed": false
   },
   "outputs": [
    {
     "data": {
      "text/plain": [
       "(198526, 14)"
      ]
     },
     "execution_count": 20,
     "metadata": {},
     "output_type": "execute_result"
    }
   ],
   "source": [
    "CPCG0100_dataframe.shape"
   ]
  },
  {
   "cell_type": "code",
   "execution_count": 48,
   "metadata": {
    "collapsed": false
   },
   "outputs": [
    {
     "data": {
      "text/html": [
       "<div style=\"max-height:1000px;max-width:1500px;overflow:auto;\">\n",
       "<table border=\"1\" class=\"dataframe\">\n",
       "  <thead>\n",
       "    <tr style=\"text-align: right;\">\n",
       "      <th></th>\n",
       "      <th>RefAllele</th>\n",
       "      <th>NonRefAllele</th>\n",
       "      <th>BaseQual</th>\n",
       "      <th>TumourCoverage</th>\n",
       "      <th>NormalCoverage</th>\n",
       "      <th>MapQual</th>\n",
       "      <th>ReadPosition</th>\n",
       "      <th>Trinucleotide</th>\n",
       "      <th>HomopolymerRate</th>\n",
       "      <th>GCcontent</th>\n",
       "      <th>GenomicLocation</th>\n",
       "      <th>DistanceSNP</th>\n",
       "      <th>StrandBias</th>\n",
       "      <th>Label</th>\n",
       "    </tr>\n",
       "  </thead>\n",
       "  <tbody>\n",
       "    <tr>\n",
       "      <th>0</th>\n",
       "      <td> 183</td>\n",
       "      <td>  3</td>\n",
       "      <td> 4490</td>\n",
       "      <td> 231</td>\n",
       "      <td> 133</td>\n",
       "      <td> 25</td>\n",
       "      <td> 55</td>\n",
       "      <td> TTA</td>\n",
       "      <td> 4.696078</td>\n",
       "      <td> 0.587065</td>\n",
       "      <td>            NaN</td>\n",
       "      <td> 41830</td>\n",
       "      <td> 0.367965</td>\n",
       "      <td> 0</td>\n",
       "    </tr>\n",
       "    <tr>\n",
       "      <th>1</th>\n",
       "      <td> 177</td>\n",
       "      <td> 10</td>\n",
       "      <td> 4691</td>\n",
       "      <td> 229</td>\n",
       "      <td> 134</td>\n",
       "      <td> 25</td>\n",
       "      <td> 60</td>\n",
       "      <td> CTA</td>\n",
       "      <td> 4.528846</td>\n",
       "      <td> 0.587065</td>\n",
       "      <td>            NaN</td>\n",
       "      <td> 41825</td>\n",
       "      <td> 0.371179</td>\n",
       "      <td> 0</td>\n",
       "    </tr>\n",
       "    <tr>\n",
       "      <th>2</th>\n",
       "      <td> 115</td>\n",
       "      <td> 10</td>\n",
       "      <td> 3512</td>\n",
       "      <td> 137</td>\n",
       "      <td>  74</td>\n",
       "      <td>  0</td>\n",
       "      <td> 52</td>\n",
       "      <td> TCA</td>\n",
       "      <td> 2.707143</td>\n",
       "      <td> 0.532338</td>\n",
       "      <td>            NaN</td>\n",
       "      <td> 35658</td>\n",
       "      <td> 0.335766</td>\n",
       "      <td> 0</td>\n",
       "    </tr>\n",
       "    <tr>\n",
       "      <th>3</th>\n",
       "      <td>  83</td>\n",
       "      <td> 26</td>\n",
       "      <td> 3251</td>\n",
       "      <td> 119</td>\n",
       "      <td>  59</td>\n",
       "      <td> 37</td>\n",
       "      <td> 38</td>\n",
       "      <td> GCA</td>\n",
       "      <td> 2.746377</td>\n",
       "      <td> 0.676617</td>\n",
       "      <td> ncRNA_intronic</td>\n",
       "      <td> 34719</td>\n",
       "      <td> 0.462185</td>\n",
       "      <td> 0</td>\n",
       "    </tr>\n",
       "    <tr>\n",
       "      <th>4</th>\n",
       "      <td>  96</td>\n",
       "      <td> 20</td>\n",
       "      <td> 3255</td>\n",
       "      <td> 127</td>\n",
       "      <td>  53</td>\n",
       "      <td> 29</td>\n",
       "      <td> 47</td>\n",
       "      <td> GCC</td>\n",
       "      <td> 2.719424</td>\n",
       "      <td> 0.676617</td>\n",
       "      <td>            NaN</td>\n",
       "      <td> 34700</td>\n",
       "      <td> 0.409449</td>\n",
       "      <td> 0</td>\n",
       "    </tr>\n",
       "  </tbody>\n",
       "</table>\n",
       "<p>5 rows × 14 columns</p>\n",
       "</div>"
      ],
      "text/plain": [
       "   RefAllele  NonRefAllele  BaseQual  TumourCoverage  NormalCoverage  MapQual  \\\n",
       "0        183             3      4490             231             133       25   \n",
       "1        177            10      4691             229             134       25   \n",
       "2        115            10      3512             137              74        0   \n",
       "3         83            26      3251             119              59       37   \n",
       "4         96            20      3255             127              53       29   \n",
       "\n",
       "   ReadPosition Trinucleotide  HomopolymerRate  GCcontent GenomicLocation  \\\n",
       "0            55           TTA         4.696078   0.587065             NaN   \n",
       "1            60           CTA         4.528846   0.587065             NaN   \n",
       "2            52           TCA         2.707143   0.532338             NaN   \n",
       "3            38           GCA         2.746377   0.676617  ncRNA_intronic   \n",
       "4            47           GCC         2.719424   0.676617             NaN   \n",
       "\n",
       "   DistanceSNP  StrandBias  Label  \n",
       "0        41830    0.367965      0  \n",
       "1        41825    0.371179      0  \n",
       "2        35658    0.335766      0  \n",
       "3        34719    0.462185      0  \n",
       "4        34700    0.409449      0  \n",
       "\n",
       "[5 rows x 14 columns]"
      ]
     },
     "execution_count": 48,
     "metadata": {},
     "output_type": "execute_result"
    }
   ],
   "source": [
    "CPCG0100_dataframe.head()"
   ]
  },
  {
   "cell_type": "code",
   "execution_count": 21,
   "metadata": {
    "collapsed": true
   },
   "outputs": [],
   "source": [
    "CPCG0100_dataframe.to_csv('CPCG0100.csv')"
   ]
  },
  {
   "cell_type": "code",
   "execution_count": 22,
   "metadata": {
    "collapsed": true
   },
   "outputs": [],
   "source": [
    "#Now we have variable importance ...lets do analysis"
   ]
  },
  {
   "cell_type": "code",
   "execution_count": 23,
   "metadata": {
    "collapsed": true
   },
   "outputs": [],
   "source": [
    "%load_ext rpy2.ipython"
   ]
  },
  {
   "cell_type": "code",
   "execution_count": 25,
   "metadata": {
    "collapsed": false
   },
   "outputs": [
    {
     "data": {
      "text/plain": [
       "'data.frame':\t198526 obs. of  15 variables:\n",
       " $ X              : int  0 1 2 3 4 5 6 7 8 9 ...\n",
       " $ RefAllele      : int  183 177 115 83 96 120 117 92 27 9 ...\n",
       " $ NonRefAllele   : int  3 10 10 26 20 11 14 8 3 3 ...\n",
       " $ BaseQual       : int  4490 4691 3512 3251 3255 3672 3865 2946 524 342 ...\n",
       " $ TumourCoverage : int  231 229 137 119 127 155 155 123 36 17 ...\n",
       " $ NormalCoverage : int  133 134 74 59 53 108 108 75 26 15 ...\n",
       " $ MapQual        : num  25 25 0 37 29 0 0 0 27 0 ...\n",
       " $ ReadPosition   : num  55 60 52 38 47 42 51 55 70.5 64 ...\n",
       " $ Trinucleotide  : Factor w/ 35 levels \"ACA\",\"ACC\",\"ACG\",..: 32 14 28 18 19 24 34 18 35 6 ...\n",
       " $ HomopolymerRate: num  4.7 4.53 2.71 2.75 2.72 ...\n",
       " $ GCcontent      : num  0.587 0.587 0.532 0.677 0.677 ...\n",
       " $ GenomicLocation: Factor w/ 16 levels \"\",\"downstream\",..: 1 1 1 8 1 1 8 1 1 5 ...\n",
       " $ DistanceSNP    : int  41830 41825 35658 34719 34700 32011 31988 23727 23645 10933 ...\n",
       " $ StrandBias     : num  0.368 0.371 0.336 0.462 0.409 ...\n",
       " $ Label          : num  0 0 0 0 0 0 0 0 0 0 ...\n"
      ]
     },
     "metadata": {},
     "output_type": "display_data"
    }
   ],
   "source": [
    "%%R\n",
    "# Read in the data\n",
    "CPCG0100Frame = read.csv(\"CPCG0100.csv\")\n",
    "str(CPCG0100Frame)"
   ]
  },
  {
   "cell_type": "code",
   "execution_count": 26,
   "metadata": {
    "collapsed": false
   },
   "outputs": [
    {
     "data": {
      "text/plain": [
       "[1] 32\n"
      ]
     },
     "metadata": {},
     "output_type": "display_data"
    }
   ],
   "source": [
    "%%R\n",
    "#sum(is.na(CPCG0183Frame$StrandBias))\n",
    "sum(is.na(CPCG0100Frame$ReadPosition)) "
   ]
  },
  {
   "cell_type": "code",
   "execution_count": 27,
   "metadata": {
    "collapsed": false
   },
   "outputs": [
    {
     "data": {
      "text/plain": [
       "[1] 0\n",
       "[1] 0\n"
      ]
     },
     "metadata": {},
     "output_type": "display_data"
    }
   ],
   "source": [
    "%%R\n",
    "CPCG0100Frame$ReadPosition[is.na(CPCG0100Frame$ReadPosition)] = mean(CPCG0100Frame$ReadPosition, na.rm=TRUE)\n",
    "CPCG0100Frame$StrandBias[is.na(CPCG0100Frame$StrandBias)] = mean(CPCG0100Frame$StrandBias, na.rm=TRUE)\n",
    "\n",
    "print (sum(is.na(CPCG0100Frame$ReadPosition)) )\n",
    "print (sum(is.na(CPCG0100Frame$StrandBias)) )"
   ]
  },
  {
   "cell_type": "code",
   "execution_count": 28,
   "metadata": {
    "collapsed": false
   },
   "outputs": [
    {
     "data": {
      "text/plain": [
       "[1] 0\n"
      ]
     },
     "metadata": {},
     "output_type": "display_data"
    }
   ],
   "source": [
    "%%R\n",
    "sum(is.na(CPCG0100Frame))  #No NA value now"
   ]
  },
  {
   "cell_type": "code",
   "execution_count": 29,
   "metadata": {
    "collapsed": true
   },
   "outputs": [],
   "source": [
    "%%R\n",
    "write.csv(CPCG0100Frame, file = \"CPCG0100_imputed.csv\")  #Cleaned CSV without NA"
   ]
  },
  {
   "cell_type": "code",
   "execution_count": 30,
   "metadata": {
    "collapsed": false
   },
   "outputs": [
    {
     "name": "stderr",
     "output_type": "stream",
     "text": [
      "/usr/local/lib/python2.7/dist-packages/rpy2/robjects/functions.py:106: UserWarning: Loading required package: statmod\n",
      "\n",
      "  res = super(Function, self).__call__(*new_args, **new_kwargs)\n",
      "/usr/local/lib/python2.7/dist-packages/rpy2/robjects/functions.py:106: UserWarning: \n",
      "----------------------------------------------------------------------\n",
      "\n",
      "Your next step is to start H2O:\n",
      "    > h2o.init()\n",
      "\n",
      "For H2O package documentation, ask for help:\n",
      "    > ??h2o\n",
      "\n",
      "After starting H2O, you can use the Web UI at http://localhost:54321\n",
      "For more information visit http://docs.h2o.ai\n",
      "\n",
      "----------------------------------------------------------------------\n",
      "\n",
      "\n",
      "  res = super(Function, self).__call__(*new_args, **new_kwargs)\n",
      "/usr/local/lib/python2.7/dist-packages/rpy2/robjects/functions.py:106: UserWarning: \n",
      "Attaching package: ‘h2o’\n",
      "\n",
      "\n",
      "  res = super(Function, self).__call__(*new_args, **new_kwargs)\n",
      "/usr/local/lib/python2.7/dist-packages/rpy2/robjects/functions.py:106: UserWarning: The following objects are masked from ‘package:stats’:\n",
      "\n",
      "    sd, var\n",
      "\n",
      "\n",
      "  res = super(Function, self).__call__(*new_args, **new_kwargs)\n",
      "/usr/local/lib/python2.7/dist-packages/rpy2/robjects/functions.py:106: UserWarning: The following objects are masked from ‘package:base’:\n",
      "\n",
      "    ||, &&, %*%, apply, as.factor, as.numeric, colnames, colnames<-,\n",
      "    ifelse, %in%, is.character, is.factor, is.numeric, log, log10,\n",
      "    log1p, log2, round, signif, trunc\n",
      "\n",
      "\n",
      "  res = super(Function, self).__call__(*new_args, **new_kwargs)\n"
     ]
    },
    {
     "data": {
      "text/plain": [
       " Connection successful!\n",
       "\n",
       "R is connected to the H2O cluster: \n",
       "    H2O cluster uptime:         1 hours 40 minutes \n",
       "    H2O cluster version:        3.9.1.3435 \n",
       "    H2O cluster name:           H2O_started_from_R_rbhat_xqb196 \n",
       "    H2O cluster total nodes:    1 \n",
       "    H2O cluster total memory:   26.56 GB \n",
       "    H2O cluster total cores:    56 \n",
       "    H2O cluster allowed cores:  2 \n",
       "    H2O cluster healthy:        TRUE \n",
       "    H2O Connection ip:          localhost \n",
       "    H2O Connection port:        54321 \n",
       "    H2O Connection proxy:       NA \n",
       "    R Version:                  R version 3.3.0 beta (2016-03-30 r70404) \n",
       "\n"
      ]
     },
     "metadata": {},
     "output_type": "display_data"
    }
   ],
   "source": [
    "%%R\n",
    "library(h2o)\n",
    "localH2O = h2o.init(ip = \"localhost\", port = 54321, startH2O = TRUE,min_mem_size = \"3g\")"
   ]
  },
  {
   "cell_type": "code",
   "execution_count": 31,
   "metadata": {
    "collapsed": false
   },
   "outputs": [
    {
     "data": {
      "text/plain": [
       "\r",
       "  |                                                                            \r",
       "  |                                                                      |   0%\r",
       "  |                                                                            \r",
       "  |=                                                                     |   2%\r",
       "  |                                                                            \r",
       "  |======================================================================| 100%\n",
       "\r",
       "  |                                                                            \r",
       "  |                                                                      |   0%\r",
       "  |                                                                            \r",
       "  |======================================================================| 100%\n"
      ]
     },
     "metadata": {},
     "output_type": "display_data"
    }
   ],
   "source": [
    "%%R\n",
    "## Import CSV as H2O:\n",
    "csvPath = \"/home/rbhat/Workspace/S3Lab_Projects/SMC-MetaChallange/CPCG0100_imputed.csv\"\n",
    "CPCG0100.hex          = h2o.importFile(path = csvPath, destination_frame = \"CPCG0100.hex\") \n",
    "train                 = as.data.frame(CPCG0100.hex)\n",
    "\n",
    "#train  = subset(train,C1<20000)\n",
    "\n",
    "train$Trinucleotide   = as.factor(train$Trinucleotide)\n",
    "train$GenomicLocation = as.factor(train$GenomicLocation)\n",
    "train$Label           = as.factor(train$Label)\n",
    "\n",
    "train_h2o             = as.h2o(train)"
   ]
  },
  {
   "cell_type": "code",
   "execution_count": 32,
   "metadata": {
    "collapsed": false
   },
   "outputs": [
    {
     "data": {
      "text/plain": [
       "\r",
       "  |                                                                            \r",
       "  |                                                                      |   0%\r",
       "  |                                                                            \r",
       "  |=                                                                     |   2%\r",
       "  |                                                                            \r",
       "  |====                                                                  |   5%\r",
       "  |                                                                            \r",
       "  |======                                                                |   9%\r",
       "  |                                                                            \r",
       "  |========                                                              |  12%\r",
       "  |                                                                            \r",
       "  |===========                                                           |  16%\r",
       "  |                                                                            \r",
       "  |=============                                                         |  19%\r",
       "  |                                                                            \r",
       "  |================                                                      |  22%\r",
       "  |                                                                            \r",
       "  |==================                                                    |  26%\r",
       "  |                                                                            \r",
       "  |=====================                                                 |  30%\r",
       "  |                                                                            \r",
       "  |========================                                              |  34%\r",
       "  |                                                                            \r",
       "  |==========================                                            |  37%\r",
       "  |                                                                            \r",
       "  |=============================                                         |  41%\r",
       "  |                                                                            \r",
       "  |================================                                      |  45%\r",
       "  |                                                                            \r",
       "  |===================================                                   |  49%\r",
       "  |                                                                            \r",
       "  |=====================================                                 |  53%\r",
       "  |                                                                            \r",
       "  |=======================================                               |  56%\r",
       "  |                                                                            \r",
       "  |==========================================                            |  59%\r",
       "  |                                                                            \r",
       "  |============================================                          |  63%\r",
       "  |                                                                            \r",
       "  |===============================================                       |  67%\r",
       "  |                                                                            \r",
       "  |=================================================                     |  71%\r",
       "  |                                                                            \r",
       "  |====================================================                  |  75%\r",
       "  |                                                                            \r",
       "  |=======================================================               |  79%\r",
       "  |                                                                            \r",
       "  |==========================================================            |  83%\r",
       "  |                                                                            \r",
       "  |=============================================================         |  88%\r",
       "  |                                                                            \r",
       "  |================================================================      |  92%\r",
       "  |                                                                            \r",
       "  |===================================================================   |  96%\r",
       "  |                                                                            \r",
       "  |======================================================================| 100%\n"
      ]
     },
     "metadata": {},
     "output_type": "display_data"
    }
   ],
   "source": [
    "%%R\n",
    "#Training a deep learning model:---------------------------------------------------------#\n",
    "model <- h2o.deeplearning( x = 3:15, # column numbers for predictors\n",
    "                           y = 16,            # column number for label\n",
    "                           training_frame = train_h2o,\n",
    "                           activation = \"RectifierWithDropout\", \n",
    "                           input_dropout_ratio = 0.2,\n",
    "                           hidden_dropout_ratios = c(0.5,0.5),\n",
    "                           balance_classes = TRUE, \n",
    "                           hidden = c(10,8),  ## two hidden layers\n",
    "                           epochs = 50,\n",
    "                           variable_importances = T)"
   ]
  },
  {
   "cell_type": "code",
   "execution_count": 33,
   "metadata": {
    "collapsed": false
   },
   "outputs": [
    {
     "data": {
      "text/plain": [
       "Variable Importances: \n",
       "        variable relative_importance scaled_importance percentage\n",
       "1   NonRefAllele            1.000000          1.000000   0.393815\n",
       "2 NormalCoverage            0.105450          0.105450   0.041528\n",
       "3      RefAllele            0.083199          0.083199   0.032765\n",
       "4 TumourCoverage            0.072141          0.072141   0.028410\n",
       "5       BaseQual            0.059017          0.059017   0.023242\n",
       "\n",
       "---\n",
       "                    variable relative_importance scaled_importance percentage\n",
       "58         Trinucleotide.CCT            0.005477          0.005477   0.002157\n",
       "59                StrandBias            0.004780          0.004780   0.001882\n",
       "60         Trinucleotide.TCC            0.004598          0.004598   0.001811\n",
       "61         Trinucleotide.TCT            0.004549          0.004549   0.001791\n",
       "62  GenomicLocation.intronic            0.002152          0.002152   0.000848\n",
       "63 Trinucleotide.missing(NA)            0.000000          0.000000   0.000000\n"
      ]
     },
     "metadata": {},
     "output_type": "display_data"
    }
   ],
   "source": [
    "%%R\n",
    "var_importance = h2o.varimp(model)\n",
    "#print(var_importance)\n",
    "h2o.varimp(model)"
   ]
  },
  {
   "cell_type": "code",
   "execution_count": 34,
   "metadata": {
    "collapsed": true
   },
   "outputs": [],
   "source": [
    "%%R\n",
    "write.table(var_importance, file=\"CPCG0100_variable_importance.csv\")"
   ]
  },
  {
   "cell_type": "code",
   "execution_count": 35,
   "metadata": {
    "collapsed": true
   },
   "outputs": [],
   "source": [
    "var_importance = pd.read_csv(open('CPCG0100_variable_importance.csv','r'),sep=' ')\n",
    "#pd.read_csv('CPCG0100_variable_importance.csv')"
   ]
  },
  {
   "cell_type": "code",
   "execution_count": 36,
   "metadata": {
    "collapsed": false
   },
   "outputs": [
    {
     "data": {
      "text/html": [
       "<div style=\"max-height:1000px;max-width:1500px;overflow:auto;\">\n",
       "<table border=\"1\" class=\"dataframe\">\n",
       "  <thead>\n",
       "    <tr style=\"text-align: right;\">\n",
       "      <th></th>\n",
       "      <th>variable</th>\n",
       "      <th>relative_importance</th>\n",
       "      <th>scaled_importance</th>\n",
       "      <th>percentage</th>\n",
       "    </tr>\n",
       "  </thead>\n",
       "  <tbody>\n",
       "    <tr>\n",
       "      <th>1</th>\n",
       "      <td>   NonRefAllele</td>\n",
       "      <td> 1.000000</td>\n",
       "      <td> 1.000000</td>\n",
       "      <td> 0.393815</td>\n",
       "    </tr>\n",
       "    <tr>\n",
       "      <th>2</th>\n",
       "      <td> NormalCoverage</td>\n",
       "      <td> 0.105450</td>\n",
       "      <td> 0.105450</td>\n",
       "      <td> 0.041528</td>\n",
       "    </tr>\n",
       "    <tr>\n",
       "      <th>3</th>\n",
       "      <td>      RefAllele</td>\n",
       "      <td> 0.083199</td>\n",
       "      <td> 0.083199</td>\n",
       "      <td> 0.032765</td>\n",
       "    </tr>\n",
       "    <tr>\n",
       "      <th>4</th>\n",
       "      <td> TumourCoverage</td>\n",
       "      <td> 0.072141</td>\n",
       "      <td> 0.072141</td>\n",
       "      <td> 0.028410</td>\n",
       "    </tr>\n",
       "    <tr>\n",
       "      <th>5</th>\n",
       "      <td>       BaseQual</td>\n",
       "      <td> 0.059017</td>\n",
       "      <td> 0.059017</td>\n",
       "      <td> 0.023242</td>\n",
       "    </tr>\n",
       "  </tbody>\n",
       "</table>\n",
       "<p>5 rows × 4 columns</p>\n",
       "</div>"
      ],
      "text/plain": [
       "         variable  relative_importance  scaled_importance  percentage\n",
       "1    NonRefAllele             1.000000           1.000000    0.393815\n",
       "2  NormalCoverage             0.105450           0.105450    0.041528\n",
       "3       RefAllele             0.083199           0.083199    0.032765\n",
       "4  TumourCoverage             0.072141           0.072141    0.028410\n",
       "5        BaseQual             0.059017           0.059017    0.023242\n",
       "\n",
       "[5 rows x 4 columns]"
      ]
     },
     "execution_count": 36,
     "metadata": {},
     "output_type": "execute_result"
    }
   ],
   "source": [
    "var_importance[:5]"
   ]
  },
  {
   "cell_type": "code",
   "execution_count": 37,
   "metadata": {
    "collapsed": false
   },
   "outputs": [
    {
     "data": {
      "text/html": [
       "<div style=\"max-height:1000px;max-width:1500px;overflow:auto;\">\n",
       "<table border=\"1\" class=\"dataframe\">\n",
       "  <thead>\n",
       "    <tr style=\"text-align: right;\">\n",
       "      <th></th>\n",
       "      <th>CHROM</th>\n",
       "      <th>POS</th>\n",
       "      <th>RefAllele</th>\n",
       "      <th>NonRefAllele</th>\n",
       "      <th>BaseQual</th>\n",
       "      <th>TumourCoverage</th>\n",
       "      <th>NormalCoverage</th>\n",
       "      <th>MapQual</th>\n",
       "      <th>ReadPosition</th>\n",
       "      <th>Trinucleotide</th>\n",
       "      <th>HomopolymerRate</th>\n",
       "      <th>GCcontent</th>\n",
       "      <th>GenomicLocation</th>\n",
       "      <th>DistanceSNP</th>\n",
       "      <th>StrandBias</th>\n",
       "    </tr>\n",
       "  </thead>\n",
       "  <tbody>\n",
       "    <tr>\n",
       "      <th>0</th>\n",
       "      <td> chr1</td>\n",
       "      <td> 10408</td>\n",
       "      <td> 183</td>\n",
       "      <td>  3</td>\n",
       "      <td> 4490</td>\n",
       "      <td> 231</td>\n",
       "      <td> 133</td>\n",
       "      <td> 25</td>\n",
       "      <td> 55</td>\n",
       "      <td> TTA</td>\n",
       "      <td> 4.696078</td>\n",
       "      <td> 0.587065</td>\n",
       "      <td>            NaN</td>\n",
       "      <td> 41830</td>\n",
       "      <td> 0.367965</td>\n",
       "    </tr>\n",
       "    <tr>\n",
       "      <th>1</th>\n",
       "      <td> chr1</td>\n",
       "      <td> 10413</td>\n",
       "      <td> 177</td>\n",
       "      <td> 10</td>\n",
       "      <td> 4691</td>\n",
       "      <td> 229</td>\n",
       "      <td> 134</td>\n",
       "      <td> 25</td>\n",
       "      <td> 60</td>\n",
       "      <td> CTA</td>\n",
       "      <td> 4.528846</td>\n",
       "      <td> 0.587065</td>\n",
       "      <td>            NaN</td>\n",
       "      <td> 41825</td>\n",
       "      <td> 0.371179</td>\n",
       "    </tr>\n",
       "    <tr>\n",
       "      <th>2</th>\n",
       "      <td> chr1</td>\n",
       "      <td> 16580</td>\n",
       "      <td> 115</td>\n",
       "      <td> 10</td>\n",
       "      <td> 3512</td>\n",
       "      <td> 137</td>\n",
       "      <td>  74</td>\n",
       "      <td>  0</td>\n",
       "      <td> 52</td>\n",
       "      <td> TCA</td>\n",
       "      <td> 2.707143</td>\n",
       "      <td> 0.532338</td>\n",
       "      <td>            NaN</td>\n",
       "      <td> 35658</td>\n",
       "      <td> 0.335766</td>\n",
       "    </tr>\n",
       "    <tr>\n",
       "      <th>3</th>\n",
       "      <td> chr1</td>\n",
       "      <td> 17519</td>\n",
       "      <td>  83</td>\n",
       "      <td> 26</td>\n",
       "      <td> 3251</td>\n",
       "      <td> 119</td>\n",
       "      <td>  59</td>\n",
       "      <td> 37</td>\n",
       "      <td> 38</td>\n",
       "      <td> GCA</td>\n",
       "      <td> 2.746377</td>\n",
       "      <td> 0.676617</td>\n",
       "      <td> ncRNA_intronic</td>\n",
       "      <td> 34719</td>\n",
       "      <td> 0.462185</td>\n",
       "    </tr>\n",
       "    <tr>\n",
       "      <th>4</th>\n",
       "      <td> chr1</td>\n",
       "      <td> 17538</td>\n",
       "      <td>  96</td>\n",
       "      <td> 20</td>\n",
       "      <td> 3255</td>\n",
       "      <td> 127</td>\n",
       "      <td>  53</td>\n",
       "      <td> 29</td>\n",
       "      <td> 47</td>\n",
       "      <td> GCC</td>\n",
       "      <td> 2.719424</td>\n",
       "      <td> 0.676617</td>\n",
       "      <td>            NaN</td>\n",
       "      <td> 34700</td>\n",
       "      <td> 0.409449</td>\n",
       "    </tr>\n",
       "  </tbody>\n",
       "</table>\n",
       "<p>5 rows × 15 columns</p>\n",
       "</div>"
      ],
      "text/plain": [
       "  CHROM    POS  RefAllele  NonRefAllele  BaseQual  TumourCoverage  \\\n",
       "0  chr1  10408        183             3      4490             231   \n",
       "1  chr1  10413        177            10      4691             229   \n",
       "2  chr1  16580        115            10      3512             137   \n",
       "3  chr1  17519         83            26      3251             119   \n",
       "4  chr1  17538         96            20      3255             127   \n",
       "\n",
       "   NormalCoverage  MapQual  ReadPosition Trinucleotide  HomopolymerRate  \\\n",
       "0             133       25            55           TTA         4.696078   \n",
       "1             134       25            60           CTA         4.528846   \n",
       "2              74        0            52           TCA         2.707143   \n",
       "3              59       37            38           GCA         2.746377   \n",
       "4              53       29            47           GCC         2.719424   \n",
       "\n",
       "   GCcontent GenomicLocation  DistanceSNP  StrandBias  \n",
       "0   0.587065             NaN        41830    0.367965  \n",
       "1   0.587065             NaN        41825    0.371179  \n",
       "2   0.532338             NaN        35658    0.335766  \n",
       "3   0.676617  ncRNA_intronic        34719    0.462185  \n",
       "4   0.676617             NaN        34700    0.409449  \n",
       "\n",
       "[5 rows x 15 columns]"
      ]
     },
     "execution_count": 37,
     "metadata": {},
     "output_type": "execute_result"
    }
   ],
   "source": [
    "GenomicFeatures_CPCG0100[:5]"
   ]
  },
  {
   "cell_type": "code",
   "execution_count": 38,
   "metadata": {
    "collapsed": false
   },
   "outputs": [
    {
     "data": {
      "text/plain": [
       "{'BaseQual': 0.059016659855842597,\n",
       " 'DistanceSNP': 0.023346446454525004,\n",
       " 'GCcontent': 0.0057310732081532496,\n",
       " 'GenomicLocation.UTR3': 0.056907754391431802,\n",
       " 'GenomicLocation.UTR5': 0.044845979660749401,\n",
       " 'GenomicLocation.downstream': 0.049555622041225399,\n",
       " 'GenomicLocation.exonic': 0.0092172222211956995,\n",
       " 'GenomicLocation.exonic;splicing': 0.0450383238494396,\n",
       " 'GenomicLocation.intergenic': 0.0057625533081591103,\n",
       " 'GenomicLocation.intronic': 0.0021524797193706001,\n",
       " 'GenomicLocation.missing(NA)': 0.0154282161965966,\n",
       " 'GenomicLocation.ncRNA_UTR3': 0.040674488991498899,\n",
       " 'GenomicLocation.ncRNA_UTR5': 0.038808260113000898,\n",
       " 'GenomicLocation.ncRNA_exonic': 0.0303917564451694,\n",
       " 'GenomicLocation.ncRNA_intronic': 0.0091871432960033399,\n",
       " 'GenomicLocation.ncRNA_splicing': 0.040368977934122099,\n",
       " 'GenomicLocation.splicing': 0.034456580877304098,\n",
       " 'GenomicLocation.upstream': 0.051519073545932798,\n",
       " 'GenomicLocation.upstream;downstream': 0.019780052825808501,\n",
       " 'HomopolymerRate': 0.024760439991950999,\n",
       " 'MapQual': 0.0385355912148952,\n",
       " 'NonRefAllele': 1.0,\n",
       " 'NormalCoverage': 0.10544952005147901,\n",
       " 'ReadPosition': 0.0079331221058964695,\n",
       " 'RefAllele': 0.083198688924312605,\n",
       " 'StrandBias': 0.00477979518473148,\n",
       " 'Trinucleotide.ACA': 0.035656053572893101,\n",
       " 'Trinucleotide.ACC': 0.0115444976836443,\n",
       " 'Trinucleotide.ACG': 0.024701252579688998,\n",
       " 'Trinucleotide.ACT': 0.0098425745964050293,\n",
       " 'Trinucleotide.ATA': 0.012997061014175399,\n",
       " 'Trinucleotide.ATC': 0.0143778547644615,\n",
       " 'Trinucleotide.ATG': 0.0124659324064851,\n",
       " 'Trinucleotide.ATT': 0.0143650406971574,\n",
       " 'Trinucleotide.CCA': 0.0095187844708561915,\n",
       " 'Trinucleotide.CCC': 0.022565627470612502,\n",
       " 'Trinucleotide.CCG': 0.0237950086593628,\n",
       " 'Trinucleotide.CCT': 0.0054774479940533603,\n",
       " 'Trinucleotide.CNN': 0.0457420572638512,\n",
       " 'Trinucleotide.CTA': 0.0101795690134168,\n",
       " 'Trinucleotide.CTC': 0.019146267324686099,\n",
       " 'Trinucleotide.CTG': 0.011912762187421299,\n",
       " 'Trinucleotide.CTT': 0.0086409179493784904,\n",
       " 'Trinucleotide.GCA': 0.0086937788873910904,\n",
       " 'Trinucleotide.GCC': 0.020449591800570498,\n",
       " 'Trinucleotide.GCG': 0.021790113300085099,\n",
       " 'Trinucleotide.GCT': 0.0065752272494137296,\n",
       " 'Trinucleotide.GTA': 0.0058837099932134204,\n",
       " 'Trinucleotide.GTC': 0.0104640228673816,\n",
       " 'Trinucleotide.GTG': 0.045709781348705299,\n",
       " 'Trinucleotide.GTT': 0.02063013240695,\n",
       " 'Trinucleotide.NCG': 0.041770040988922098,\n",
       " 'Trinucleotide.NTC': 0.048705622553825399,\n",
       " 'Trinucleotide.TCA': 0.010141578502953099,\n",
       " 'Trinucleotide.TCC': 0.0045983586460351901,\n",
       " 'Trinucleotide.TCG': 0.019187362864613498,\n",
       " 'Trinucleotide.TCT': 0.00454900413751602,\n",
       " 'Trinucleotide.TTA': 0.016632733866572401,\n",
       " 'Trinucleotide.TTC': 0.0144664887338877,\n",
       " 'Trinucleotide.TTG': 0.0215615965425968,\n",
       " 'Trinucleotide.TTT': 0.00553699256852269,\n",
       " 'Trinucleotide.missing(NA)': 0.0,\n",
       " 'TumourCoverage': 0.072140783071517903}"
      ]
     },
     "execution_count": 38,
     "metadata": {},
     "output_type": "execute_result"
    }
   ],
   "source": [
    "var_imp_dict = {}\n",
    "\n",
    "for i in range(var_importance.shape[0]):\n",
    "    var_imp_dict[var_importance.iloc[i,0]] = var_importance.iloc[i,1]\n",
    "\n",
    "var_imp_dict"
   ]
  },
  {
   "cell_type": "code",
   "execution_count": 40,
   "metadata": {
    "collapsed": false
   },
   "outputs": [],
   "source": [
    "noOfSample = GenomicFeatures_CPCG0100.shape[0]\n",
    "\n",
    "CPCG0100_Dict = {}\n",
    "\n",
    "for i in range(noOfSample):\n",
    "    \n",
    "    pos = GenomicFeatures_CPCG0100.iloc[i,1] #gets the pos value\n",
    "    \n",
    "    RefAllele      = GenomicFeatures_CPCG0100.iloc[i,2]*var_imp_dict['RefAllele']\n",
    "    NonRefAllele   = GenomicFeatures_CPCG0100.iloc[i,3]*var_imp_dict['NonRefAllele']\n",
    "    BaseQual       = GenomicFeatures_CPCG0100.iloc[i,4]*var_imp_dict['BaseQual']\n",
    "    TumourCoverage = GenomicFeatures_CPCG0100.iloc[i,5]*var_imp_dict['TumourCoverage']\n",
    "    NormalCoverage = GenomicFeatures_CPCG0100.iloc[i,6]*var_imp_dict['NormalCoverage']\n",
    "    MapQual        = GenomicFeatures_CPCG0100.iloc[i,7]*var_imp_dict['MapQual']\n",
    "    ReadPosition   = GenomicFeatures_CPCG0100.iloc[i,8]*var_imp_dict['ReadPosition']\n",
    "    \n",
    "    Trinucleotide  = 0\n",
    "    if isinstance(GenomicFeatures_CPCG0100.iloc[i,9], str):\n",
    "        Trinucleotide  = var_imp_dict['Trinucleotide.'+str(GenomicFeatures_CPCG0100.iloc[i,9])]\n",
    "    HomopolymerRate= GenomicFeatures_CPCG0100.iloc[i,10]*var_imp_dict['HomopolymerRate']\n",
    "    GCcontent      = GenomicFeatures_CPCG0100.iloc[i,11]*var_imp_dict['GCcontent']\n",
    "    \n",
    "    GenomicLocation = 0\n",
    "    if isinstance(GenomicFeatures_CPCG0100.iloc[i,12], str):\n",
    "        GenomicLocation= var_imp_dict['GenomicLocation.'+str(GenomicFeatures_CPCG0100.iloc[i,12])]\n",
    "    DistanceSNP    = GenomicFeatures_CPCG0100.iloc[i,13]*var_imp_dict['DistanceSNP']\n",
    "    StrandBias     = GenomicFeatures_CPCG0100.iloc[i,14]*var_imp_dict['StrandBias']\n",
    "    \n",
    "    #print 'RefAllele=',RefAllele,' NonRefAllele=',NonRefAllele,' BaseQual=',BaseQual,' TumourCoverage=',TumourCoverage\n",
    "    #print 'NormalCoverage=',NormalCoverage,' MapQual=',MapQual,' ReadPosition=',ReadPosition,' Trinucleotide=',Trinucleotide\n",
    "    #print 'HomopolymerRate=',HomopolymerRate,' GCcontent=',GCcontent,' GenomicLocation=',GenomicLocation,' DistanceSNP=',DistanceSNP\n",
    "    #print 'StrandBias=',StrandBias\n",
    "    CPCG0100_Dict[pos] = RefAllele+NonRefAllele+BaseQual+TumourCoverage+NormalCoverage+MapQual+ReadPosition+Trinucleotide+ \\\n",
    "                         HomopolymerRate+GCcontent+GenomicLocation+DistanceSNP+StrandBias"
   ]
  },
  {
   "cell_type": "code",
   "execution_count": 41,
   "metadata": {
    "collapsed": true
   },
   "outputs": [],
   "source": [
    "#Sorting dictionary\n",
    "CPCG0100_Dict1 = [(k,v) for v,k in sorted([(v,k) for k,v in CPCG0100_Dict.items()],reverse=True)]"
   ]
  },
  {
   "cell_type": "code",
   "execution_count": 42,
   "metadata": {
    "collapsed": true
   },
   "outputs": [],
   "source": [
    "CPCG0100_Dict_Frame = pd.DataFrame(CPCG0100_Dict1, columns=['POS', 'Value'])"
   ]
  },
  {
   "cell_type": "code",
   "execution_count": 43,
   "metadata": {
    "collapsed": true
   },
   "outputs": [],
   "source": [
    "CPCG0100_Dict_Frame.to_csv(\"CPCG0100_Dict_Frame.csv\")"
   ]
  },
  {
   "cell_type": "code",
   "execution_count": 58,
   "metadata": {
    "collapsed": true
   },
   "outputs": [],
   "source": [
    "GenomicFeatures_CPCG0100_1 = pd.concat([CPCG0100.iloc[:,0:16], CPCG0100_Y_Val_1],axis=1)"
   ]
  },
  {
   "cell_type": "code",
   "execution_count": 60,
   "metadata": {
    "collapsed": false
   },
   "outputs": [
    {
     "name": "stdout",
     "output_type": "stream",
     "text": [
      "[ 27732070     63653    185807    623693    640356  61969229    788366\n",
      "    816818  61969437    829649  61968977  61969180  61969371  61968871\n",
      "  61969385  61969386 196625733   1243524  61970338   1413967]\n"
     ]
    }
   ],
   "source": [
    "rows = CPCG0100_Dict_Frame['POS'][:20].values\n",
    "print rows\n",
    "GenomicFeatures_CPCG0100_Top20 = GenomicFeatures_CPCG0100_1.loc[GenomicFeatures_CPCG0100_1['POS_x'].isin(rows)]"
   ]
  },
  {
   "cell_type": "code",
   "execution_count": 62,
   "metadata": {
    "collapsed": false
   },
   "outputs": [
    {
     "data": {
      "text/html": [
       "<div style=\"max-height:1000px;max-width:1500px;overflow:auto;\">\n",
       "<table border=\"1\" class=\"dataframe\">\n",
       "  <thead>\n",
       "    <tr style=\"text-align: right;\">\n",
       "      <th></th>\n",
       "      <th>CHROM</th>\n",
       "      <th>POS_x</th>\n",
       "      <th>RefAllele</th>\n",
       "      <th>NonRefAllele</th>\n",
       "      <th>BaseQual</th>\n",
       "      <th>TumourCoverage</th>\n",
       "      <th>NormalCoverage</th>\n",
       "      <th>MapQual</th>\n",
       "      <th>ReadPosition</th>\n",
       "      <th>Trinucleotide</th>\n",
       "      <th>HomopolymerRate</th>\n",
       "      <th>GCcontent</th>\n",
       "      <th>GenomicLocation</th>\n",
       "      <th>DistanceSNP</th>\n",
       "      <th>StrandBias</th>\n",
       "      <th>POS_y</th>\n",
       "      <th>Label</th>\n",
       "    </tr>\n",
       "  </thead>\n",
       "  <tbody>\n",
       "    <tr>\n",
       "      <th>80227 </th>\n",
       "      <td> chr19</td>\n",
       "      <td>  27732070</td>\n",
       "      <td> 6965</td>\n",
       "      <td> 1035</td>\n",
       "      <td> 249892</td>\n",
       "      <td> 357720</td>\n",
       "      <td> 322540</td>\n",
       "      <td> 17</td>\n",
       "      <td> 65</td>\n",
       "      <td> CTT</td>\n",
       "      <td> 2.342466</td>\n",
       "      <td> 0.383085</td>\n",
       "      <td> NaN</td>\n",
       "      <td>  8640</td>\n",
       "      <td> 0.540655</td>\n",
       "      <td>  27732069</td>\n",
       "      <td> 0</td>\n",
       "    </tr>\n",
       "    <tr>\n",
       "      <th>122132</th>\n",
       "      <td>  chr3</td>\n",
       "      <td> 196625733</td>\n",
       "      <td> 4257</td>\n",
       "      <td> 2399</td>\n",
       "      <td> 184550</td>\n",
       "      <td> 141372</td>\n",
       "      <td> 108156</td>\n",
       "      <td> 15</td>\n",
       "      <td> 67</td>\n",
       "      <td> CCG</td>\n",
       "      <td> 2.486111</td>\n",
       "      <td> 0.398010</td>\n",
       "      <td> NaN</td>\n",
       "      <td>    97</td>\n",
       "      <td> 0.368517</td>\n",
       "      <td> 196625732</td>\n",
       "      <td> 0</td>\n",
       "    </tr>\n",
       "    <tr>\n",
       "      <th>160236</th>\n",
       "      <td>  chr7</td>\n",
       "      <td>  61968871</td>\n",
       "      <td> 6982</td>\n",
       "      <td>  899</td>\n",
       "      <td> 236654</td>\n",
       "      <td> 138975</td>\n",
       "      <td> 126878</td>\n",
       "      <td> 37</td>\n",
       "      <td> 42</td>\n",
       "      <td> ATT</td>\n",
       "      <td> 2.798561</td>\n",
       "      <td> 0.358209</td>\n",
       "      <td> NaN</td>\n",
       "      <td> 16301</td>\n",
       "      <td> 0.604871</td>\n",
       "      <td>  61968870</td>\n",
       "      <td> 0</td>\n",
       "    </tr>\n",
       "    <tr>\n",
       "      <th>160237</th>\n",
       "      <td>  chr7</td>\n",
       "      <td>  61968977</td>\n",
       "      <td> 7143</td>\n",
       "      <td>  853</td>\n",
       "      <td> 244685</td>\n",
       "      <td> 153132</td>\n",
       "      <td> 142931</td>\n",
       "      <td> 60</td>\n",
       "      <td> 53</td>\n",
       "      <td> ATG</td>\n",
       "      <td> 2.178808</td>\n",
       "      <td> 0.402985</td>\n",
       "      <td> NaN</td>\n",
       "      <td> 16195</td>\n",
       "      <td> 0.521544</td>\n",
       "      <td>  61968976</td>\n",
       "      <td> 0</td>\n",
       "    </tr>\n",
       "    <tr>\n",
       "      <th>160238</th>\n",
       "      <td>  chr7</td>\n",
       "      <td>  61969180</td>\n",
       "      <td> 7436</td>\n",
       "      <td>  644</td>\n",
       "      <td> 224614</td>\n",
       "      <td> 157156</td>\n",
       "      <td> 147005</td>\n",
       "      <td> 36</td>\n",
       "      <td> 44</td>\n",
       "      <td> TTT</td>\n",
       "      <td> 2.791367</td>\n",
       "      <td> 0.353234</td>\n",
       "      <td> NaN</td>\n",
       "      <td> 15992</td>\n",
       "      <td> 0.520750</td>\n",
       "      <td>  61969179</td>\n",
       "      <td> 0</td>\n",
       "    </tr>\n",
       "    <tr>\n",
       "      <th>160239</th>\n",
       "      <td>  chr7</td>\n",
       "      <td>  61969229</td>\n",
       "      <td> 7162</td>\n",
       "      <td>  829</td>\n",
       "      <td> 247015</td>\n",
       "      <td> 170379</td>\n",
       "      <td> 159252</td>\n",
       "      <td> 46</td>\n",
       "      <td> 49</td>\n",
       "      <td> CCT</td>\n",
       "      <td> 2.545455</td>\n",
       "      <td> 0.378109</td>\n",
       "      <td> NaN</td>\n",
       "      <td> 15943</td>\n",
       "      <td> 0.540501</td>\n",
       "      <td>  61969228</td>\n",
       "      <td> 0</td>\n",
       "    </tr>\n",
       "    <tr>\n",
       "      <th>160240</th>\n",
       "      <td>  chr7</td>\n",
       "      <td>  61969371</td>\n",
       "      <td> 7660</td>\n",
       "      <td>  374</td>\n",
       "      <td> 240318</td>\n",
       "      <td> 148311</td>\n",
       "      <td> 140982</td>\n",
       "      <td> 60</td>\n",
       "      <td> 45</td>\n",
       "      <td> ACT</td>\n",
       "      <td> 2.517241</td>\n",
       "      <td> 0.417910</td>\n",
       "      <td> NaN</td>\n",
       "      <td> 15801</td>\n",
       "      <td> 0.499740</td>\n",
       "      <td>  61969370</td>\n",
       "      <td> 0</td>\n",
       "    </tr>\n",
       "    <tr>\n",
       "      <th>160241</th>\n",
       "      <td>  chr7</td>\n",
       "      <td>  61969385</td>\n",
       "      <td> 7025</td>\n",
       "      <td>  437</td>\n",
       "      <td> 201465</td>\n",
       "      <td> 147666</td>\n",
       "      <td> 139001</td>\n",
       "      <td> 60</td>\n",
       "      <td> 43</td>\n",
       "      <td> TTT</td>\n",
       "      <td> 2.591549</td>\n",
       "      <td> 0.417910</td>\n",
       "      <td> NaN</td>\n",
       "      <td> 15787</td>\n",
       "      <td> 0.514465</td>\n",
       "      <td>  61969384</td>\n",
       "      <td> 0</td>\n",
       "    </tr>\n",
       "    <tr>\n",
       "      <th>160242</th>\n",
       "      <td>  chr7</td>\n",
       "      <td>  61969386</td>\n",
       "      <td> 7368</td>\n",
       "      <td>  174</td>\n",
       "      <td> 199742</td>\n",
       "      <td> 148185</td>\n",
       "      <td> 139119</td>\n",
       "      <td> 60</td>\n",
       "      <td> 43</td>\n",
       "      <td> TTT</td>\n",
       "      <td> 2.559441</td>\n",
       "      <td> 0.422886</td>\n",
       "      <td> NaN</td>\n",
       "      <td> 15786</td>\n",
       "      <td> 0.513736</td>\n",
       "      <td>  61969385</td>\n",
       "      <td> 0</td>\n",
       "    </tr>\n",
       "    <tr>\n",
       "      <th>160243</th>\n",
       "      <td>  chr7</td>\n",
       "      <td>  61969437</td>\n",
       "      <td> 7810</td>\n",
       "      <td>  185</td>\n",
       "      <td> 251866</td>\n",
       "      <td> 163187</td>\n",
       "      <td> 154133</td>\n",
       "      <td> 60</td>\n",
       "      <td> 51</td>\n",
       "      <td> GCA</td>\n",
       "      <td> 2.573427</td>\n",
       "      <td> 0.398010</td>\n",
       "      <td> NaN</td>\n",
       "      <td> 15735</td>\n",
       "      <td> 0.475877</td>\n",
       "      <td>  61969436</td>\n",
       "      <td> 0</td>\n",
       "    </tr>\n",
       "  </tbody>\n",
       "</table>\n",
       "<p>10 rows × 17 columns</p>\n",
       "</div>"
      ],
      "text/plain": [
       "        CHROM      POS_x  RefAllele  NonRefAllele  BaseQual  TumourCoverage  \\\n",
       "80227   chr19   27732070       6965          1035    249892          357720   \n",
       "122132   chr3  196625733       4257          2399    184550          141372   \n",
       "160236   chr7   61968871       6982           899    236654          138975   \n",
       "160237   chr7   61968977       7143           853    244685          153132   \n",
       "160238   chr7   61969180       7436           644    224614          157156   \n",
       "160239   chr7   61969229       7162           829    247015          170379   \n",
       "160240   chr7   61969371       7660           374    240318          148311   \n",
       "160241   chr7   61969385       7025           437    201465          147666   \n",
       "160242   chr7   61969386       7368           174    199742          148185   \n",
       "160243   chr7   61969437       7810           185    251866          163187   \n",
       "\n",
       "        NormalCoverage  MapQual  ReadPosition Trinucleotide  HomopolymerRate  \\\n",
       "80227           322540       17            65           CTT         2.342466   \n",
       "122132          108156       15            67           CCG         2.486111   \n",
       "160236          126878       37            42           ATT         2.798561   \n",
       "160237          142931       60            53           ATG         2.178808   \n",
       "160238          147005       36            44           TTT         2.791367   \n",
       "160239          159252       46            49           CCT         2.545455   \n",
       "160240          140982       60            45           ACT         2.517241   \n",
       "160241          139001       60            43           TTT         2.591549   \n",
       "160242          139119       60            43           TTT         2.559441   \n",
       "160243          154133       60            51           GCA         2.573427   \n",
       "\n",
       "        GCcontent GenomicLocation  DistanceSNP  StrandBias      POS_y  Label  \n",
       "80227    0.383085             NaN         8640    0.540655   27732069      0  \n",
       "122132   0.398010             NaN           97    0.368517  196625732      0  \n",
       "160236   0.358209             NaN        16301    0.604871   61968870      0  \n",
       "160237   0.402985             NaN        16195    0.521544   61968976      0  \n",
       "160238   0.353234             NaN        15992    0.520750   61969179      0  \n",
       "160239   0.378109             NaN        15943    0.540501   61969228      0  \n",
       "160240   0.417910             NaN        15801    0.499740   61969370      0  \n",
       "160241   0.417910             NaN        15787    0.514465   61969384      0  \n",
       "160242   0.422886             NaN        15786    0.513736   61969385      0  \n",
       "160243   0.398010             NaN        15735    0.475877   61969436      0  \n",
       "\n",
       "[10 rows x 17 columns]"
      ]
     },
     "execution_count": 62,
     "metadata": {},
     "output_type": "execute_result"
    }
   ],
   "source": [
    "GenomicFeatures_CPCG0100_Top20[:10]"
   ]
  },
  {
   "cell_type": "code",
   "execution_count": 46,
   "metadata": {
    "collapsed": false
   },
   "outputs": [],
   "source": [
    "GenomicFeatures_CPCG0100_Top20.to_csv('GenomicFeatures_CPCG0100_Top20.csv')"
   ]
  },
  {
   "cell_type": "code",
   "execution_count": 50,
   "metadata": {
    "collapsed": false
   },
   "outputs": [
    {
     "name": "stdout",
     "output_type": "stream",
     "text": [
      "[ 27732070     63653    185807    623693    640356  61969229    788366\n",
      "    816818  61969437    829649  61968977  61969180  61969371  61968871\n",
      "  61969385  61969386 196625733   1243524  61970338   1413967]\n"
     ]
    },
    {
     "ename": "KeyError",
     "evalue": "u'no item named POS'",
     "output_type": "error",
     "traceback": [
      "\u001b[1;31m---------------------------------------------------------------------------\u001b[0m",
      "\u001b[1;31mKeyError\u001b[0m                                  Traceback (most recent call last)",
      "\u001b[1;32m<ipython-input-50-c4541f3cd964>\u001b[0m in \u001b[0;36m<module>\u001b[1;34m()\u001b[0m\n\u001b[0;32m      1\u001b[0m \u001b[0mrows\u001b[0m \u001b[1;33m=\u001b[0m \u001b[0mCPCG0100_Dict_Frame\u001b[0m\u001b[1;33m[\u001b[0m\u001b[1;34m'POS'\u001b[0m\u001b[1;33m]\u001b[0m\u001b[1;33m[\u001b[0m\u001b[1;33m:\u001b[0m\u001b[1;36m20\u001b[0m\u001b[1;33m]\u001b[0m\u001b[1;33m.\u001b[0m\u001b[0mvalues\u001b[0m\u001b[1;33m\u001b[0m\u001b[0m\n\u001b[0;32m      2\u001b[0m \u001b[1;32mprint\u001b[0m \u001b[0mrows\u001b[0m\u001b[1;33m\u001b[0m\u001b[0m\n\u001b[1;32m----> 3\u001b[1;33m \u001b[0mGenomicFeatures_CPCG0100_Top20\u001b[0m \u001b[1;33m=\u001b[0m \u001b[0mCPCG0100_dataframe\u001b[0m\u001b[1;33m.\u001b[0m\u001b[0mloc\u001b[0m\u001b[1;33m[\u001b[0m\u001b[0mCPCG0100_dataframe\u001b[0m\u001b[1;33m[\u001b[0m\u001b[1;34m'POS'\u001b[0m\u001b[1;33m]\u001b[0m\u001b[1;33m.\u001b[0m\u001b[0misin\u001b[0m\u001b[1;33m(\u001b[0m\u001b[0mrows\u001b[0m\u001b[1;33m)\u001b[0m\u001b[1;33m]\u001b[0m\u001b[1;33m\u001b[0m\u001b[0m\n\u001b[0m",
      "\u001b[1;32m/usr/lib/python2.7/dist-packages/pandas/core/frame.pyc\u001b[0m in \u001b[0;36m__getitem__\u001b[1;34m(self, key)\u001b[0m\n\u001b[0;32m   1656\u001b[0m             \u001b[1;32mreturn\u001b[0m \u001b[0mself\u001b[0m\u001b[1;33m.\u001b[0m\u001b[0m_getitem_multilevel\u001b[0m\u001b[1;33m(\u001b[0m\u001b[0mkey\u001b[0m\u001b[1;33m)\u001b[0m\u001b[1;33m\u001b[0m\u001b[0m\n\u001b[0;32m   1657\u001b[0m         \u001b[1;32melse\u001b[0m\u001b[1;33m:\u001b[0m\u001b[1;33m\u001b[0m\u001b[0m\n\u001b[1;32m-> 1658\u001b[1;33m             \u001b[1;32mreturn\u001b[0m \u001b[0mself\u001b[0m\u001b[1;33m.\u001b[0m\u001b[0m_getitem_column\u001b[0m\u001b[1;33m(\u001b[0m\u001b[0mkey\u001b[0m\u001b[1;33m)\u001b[0m\u001b[1;33m\u001b[0m\u001b[0m\n\u001b[0m\u001b[0;32m   1659\u001b[0m \u001b[1;33m\u001b[0m\u001b[0m\n\u001b[0;32m   1660\u001b[0m     \u001b[1;32mdef\u001b[0m \u001b[0m_getitem_column\u001b[0m\u001b[1;33m(\u001b[0m\u001b[0mself\u001b[0m\u001b[1;33m,\u001b[0m \u001b[0mkey\u001b[0m\u001b[1;33m)\u001b[0m\u001b[1;33m:\u001b[0m\u001b[1;33m\u001b[0m\u001b[0m\n",
      "\u001b[1;32m/usr/lib/python2.7/dist-packages/pandas/core/frame.pyc\u001b[0m in \u001b[0;36m_getitem_column\u001b[1;34m(self, key)\u001b[0m\n\u001b[0;32m   1663\u001b[0m         \u001b[1;31m# get column\u001b[0m\u001b[1;33m\u001b[0m\u001b[1;33m\u001b[0m\u001b[0m\n\u001b[0;32m   1664\u001b[0m         \u001b[1;32mif\u001b[0m \u001b[0mself\u001b[0m\u001b[1;33m.\u001b[0m\u001b[0mcolumns\u001b[0m\u001b[1;33m.\u001b[0m\u001b[0mis_unique\u001b[0m\u001b[1;33m:\u001b[0m\u001b[1;33m\u001b[0m\u001b[0m\n\u001b[1;32m-> 1665\u001b[1;33m             \u001b[1;32mreturn\u001b[0m \u001b[0mself\u001b[0m\u001b[1;33m.\u001b[0m\u001b[0m_get_item_cache\u001b[0m\u001b[1;33m(\u001b[0m\u001b[0mkey\u001b[0m\u001b[1;33m)\u001b[0m\u001b[1;33m\u001b[0m\u001b[0m\n\u001b[0m\u001b[0;32m   1666\u001b[0m \u001b[1;33m\u001b[0m\u001b[0m\n\u001b[0;32m   1667\u001b[0m         \u001b[1;31m# duplicate columns & possible reduce dimensionaility\u001b[0m\u001b[1;33m\u001b[0m\u001b[1;33m\u001b[0m\u001b[0m\n",
      "\u001b[1;32m/usr/lib/python2.7/dist-packages/pandas/core/generic.pyc\u001b[0m in \u001b[0;36m_get_item_cache\u001b[1;34m(self, item)\u001b[0m\n\u001b[0;32m   1003\u001b[0m         \u001b[0mres\u001b[0m \u001b[1;33m=\u001b[0m \u001b[0mcache\u001b[0m\u001b[1;33m.\u001b[0m\u001b[0mget\u001b[0m\u001b[1;33m(\u001b[0m\u001b[0mitem\u001b[0m\u001b[1;33m)\u001b[0m\u001b[1;33m\u001b[0m\u001b[0m\n\u001b[0;32m   1004\u001b[0m         \u001b[1;32mif\u001b[0m \u001b[0mres\u001b[0m \u001b[1;32mis\u001b[0m \u001b[0mNone\u001b[0m\u001b[1;33m:\u001b[0m\u001b[1;33m\u001b[0m\u001b[0m\n\u001b[1;32m-> 1005\u001b[1;33m             \u001b[0mvalues\u001b[0m \u001b[1;33m=\u001b[0m \u001b[0mself\u001b[0m\u001b[1;33m.\u001b[0m\u001b[0m_data\u001b[0m\u001b[1;33m.\u001b[0m\u001b[0mget\u001b[0m\u001b[1;33m(\u001b[0m\u001b[0mitem\u001b[0m\u001b[1;33m)\u001b[0m\u001b[1;33m\u001b[0m\u001b[0m\n\u001b[0m\u001b[0;32m   1006\u001b[0m             \u001b[0mres\u001b[0m \u001b[1;33m=\u001b[0m \u001b[0mself\u001b[0m\u001b[1;33m.\u001b[0m\u001b[0m_box_item_values\u001b[0m\u001b[1;33m(\u001b[0m\u001b[0mitem\u001b[0m\u001b[1;33m,\u001b[0m \u001b[0mvalues\u001b[0m\u001b[1;33m)\u001b[0m\u001b[1;33m\u001b[0m\u001b[0m\n\u001b[0;32m   1007\u001b[0m             \u001b[0mcache\u001b[0m\u001b[1;33m[\u001b[0m\u001b[0mitem\u001b[0m\u001b[1;33m]\u001b[0m \u001b[1;33m=\u001b[0m \u001b[0mres\u001b[0m\u001b[1;33m\u001b[0m\u001b[0m\n",
      "\u001b[1;32m/usr/lib/python2.7/dist-packages/pandas/core/internals.pyc\u001b[0m in \u001b[0;36mget\u001b[1;34m(self, item)\u001b[0m\n\u001b[0;32m   2872\u001b[0m                 \u001b[1;32mreturn\u001b[0m \u001b[0mself\u001b[0m\u001b[1;33m.\u001b[0m\u001b[0mget_for_nan_indexer\u001b[0m\u001b[1;33m(\u001b[0m\u001b[0mindexer\u001b[0m\u001b[1;33m)\u001b[0m\u001b[1;33m\u001b[0m\u001b[0m\n\u001b[0;32m   2873\u001b[0m \u001b[1;33m\u001b[0m\u001b[0m\n\u001b[1;32m-> 2874\u001b[1;33m             \u001b[0m_\u001b[0m\u001b[1;33m,\u001b[0m \u001b[0mblock\u001b[0m \u001b[1;33m=\u001b[0m \u001b[0mself\u001b[0m\u001b[1;33m.\u001b[0m\u001b[0m_find_block\u001b[0m\u001b[1;33m(\u001b[0m\u001b[0mitem\u001b[0m\u001b[1;33m)\u001b[0m\u001b[1;33m\u001b[0m\u001b[0m\n\u001b[0m\u001b[0;32m   2875\u001b[0m             \u001b[1;32mreturn\u001b[0m \u001b[0mblock\u001b[0m\u001b[1;33m.\u001b[0m\u001b[0mget\u001b[0m\u001b[1;33m(\u001b[0m\u001b[0mitem\u001b[0m\u001b[1;33m)\u001b[0m\u001b[1;33m\u001b[0m\u001b[0m\n\u001b[0;32m   2876\u001b[0m         \u001b[1;32melse\u001b[0m\u001b[1;33m:\u001b[0m\u001b[1;33m\u001b[0m\u001b[0m\n",
      "\u001b[1;32m/usr/lib/python2.7/dist-packages/pandas/core/internals.pyc\u001b[0m in \u001b[0;36m_find_block\u001b[1;34m(self, item)\u001b[0m\n\u001b[0;32m   3184\u001b[0m \u001b[1;33m\u001b[0m\u001b[0m\n\u001b[0;32m   3185\u001b[0m     \u001b[1;32mdef\u001b[0m \u001b[0m_find_block\u001b[0m\u001b[1;33m(\u001b[0m\u001b[0mself\u001b[0m\u001b[1;33m,\u001b[0m \u001b[0mitem\u001b[0m\u001b[1;33m)\u001b[0m\u001b[1;33m:\u001b[0m\u001b[1;33m\u001b[0m\u001b[0m\n\u001b[1;32m-> 3186\u001b[1;33m         \u001b[0mself\u001b[0m\u001b[1;33m.\u001b[0m\u001b[0m_check_have\u001b[0m\u001b[1;33m(\u001b[0m\u001b[0mitem\u001b[0m\u001b[1;33m)\u001b[0m\u001b[1;33m\u001b[0m\u001b[0m\n\u001b[0m\u001b[0;32m   3187\u001b[0m         \u001b[1;32mfor\u001b[0m \u001b[0mi\u001b[0m\u001b[1;33m,\u001b[0m \u001b[0mblock\u001b[0m \u001b[1;32min\u001b[0m \u001b[0menumerate\u001b[0m\u001b[1;33m(\u001b[0m\u001b[0mself\u001b[0m\u001b[1;33m.\u001b[0m\u001b[0mblocks\u001b[0m\u001b[1;33m)\u001b[0m\u001b[1;33m:\u001b[0m\u001b[1;33m\u001b[0m\u001b[0m\n\u001b[0;32m   3188\u001b[0m             \u001b[1;32mif\u001b[0m \u001b[0mitem\u001b[0m \u001b[1;32min\u001b[0m \u001b[0mblock\u001b[0m\u001b[1;33m:\u001b[0m\u001b[1;33m\u001b[0m\u001b[0m\n",
      "\u001b[1;32m/usr/lib/python2.7/dist-packages/pandas/core/internals.pyc\u001b[0m in \u001b[0;36m_check_have\u001b[1;34m(self, item)\u001b[0m\n\u001b[0;32m   3191\u001b[0m     \u001b[1;32mdef\u001b[0m \u001b[0m_check_have\u001b[0m\u001b[1;33m(\u001b[0m\u001b[0mself\u001b[0m\u001b[1;33m,\u001b[0m \u001b[0mitem\u001b[0m\u001b[1;33m)\u001b[0m\u001b[1;33m:\u001b[0m\u001b[1;33m\u001b[0m\u001b[0m\n\u001b[0;32m   3192\u001b[0m         \u001b[1;32mif\u001b[0m \u001b[0mitem\u001b[0m \u001b[1;32mnot\u001b[0m \u001b[1;32min\u001b[0m \u001b[0mself\u001b[0m\u001b[1;33m.\u001b[0m\u001b[0mitems\u001b[0m\u001b[1;33m:\u001b[0m\u001b[1;33m\u001b[0m\u001b[0m\n\u001b[1;32m-> 3193\u001b[1;33m             \u001b[1;32mraise\u001b[0m \u001b[0mKeyError\u001b[0m\u001b[1;33m(\u001b[0m\u001b[1;34m'no item named %s'\u001b[0m \u001b[1;33m%\u001b[0m \u001b[0mcom\u001b[0m\u001b[1;33m.\u001b[0m\u001b[0mpprint_thing\u001b[0m\u001b[1;33m(\u001b[0m\u001b[0mitem\u001b[0m\u001b[1;33m)\u001b[0m\u001b[1;33m)\u001b[0m\u001b[1;33m\u001b[0m\u001b[0m\n\u001b[0m\u001b[0;32m   3194\u001b[0m \u001b[1;33m\u001b[0m\u001b[0m\n\u001b[0;32m   3195\u001b[0m     def reindex_axis(self, new_axis, indexer=None, method=None, axis=0,\n",
      "\u001b[1;31mKeyError\u001b[0m: u'no item named POS'"
     ]
    }
   ],
   "source": [
    "rows = CPCG0100_Dict_Frame['POS'][:20].values\n",
    "print rows\n",
    "GenomicFeatures_CPCG0100_Top20 = CPCG0100_dataframe.loc[CPCG0100_dataframe['POS'].isin(rows)]"
   ]
  },
  {
   "cell_type": "code",
   "execution_count": null,
   "metadata": {
    "collapsed": false
   },
   "outputs": [],
   "source": []
  },
  {
   "cell_type": "code",
   "execution_count": null,
   "metadata": {
    "collapsed": true
   },
   "outputs": [],
   "source": []
  },
  {
   "cell_type": "code",
   "execution_count": null,
   "metadata": {
    "collapsed": true
   },
   "outputs": [],
   "source": []
  },
  {
   "cell_type": "code",
   "execution_count": null,
   "metadata": {
    "collapsed": true
   },
   "outputs": [],
   "source": []
  },
  {
   "cell_type": "code",
   "execution_count": null,
   "metadata": {
    "collapsed": true
   },
   "outputs": [],
   "source": []
  }
 ],
 "metadata": {
  "kernelspec": {
   "display_name": "Python 2",
   "language": "python",
   "name": "python2"
  },
  "language_info": {
   "codemirror_mode": {
    "name": "ipython",
    "version": 2
   },
   "file_extension": ".py",
   "mimetype": "text/x-python",
   "name": "python",
   "nbconvert_exporter": "python",
   "pygments_lexer": "ipython2",
   "version": "2.7.6"
  }
 },
 "nbformat": 4,
 "nbformat_minor": 0
}
