{
 "cells": [
  {
   "cell_type": "code",
   "execution_count": 27,
   "metadata": {
    "collapsed": true
   },
   "outputs": [],
   "source": [
    "#H2o R"
   ]
  },
  {
   "cell_type": "code",
   "execution_count": 48,
   "metadata": {
    "collapsed": false
   },
   "outputs": [
    {
     "name": "stdout",
     "output_type": "stream",
     "text": [
      "\n",
      "H2O is not running yet, starting it now...\n",
      "\n",
      "Note:  In case of errors look at the following log files:\n",
      "    /tmp/RtmpFPxHqb/h2o_rbhat_started_from_r.out\n",
      "    /tmp/RtmpFPxHqb/h2o_rbhat_started_from_r.err\n",
      "\n",
      "\n",
      "Starting H2O JVM and connecting: .. Connection successful!\n",
      "\n",
      "R is connected to the H2O cluster: \n",
      "    H2O cluster uptime:         1 seconds 685 milliseconds \n",
      "    H2O cluster version:        3.9.1.3435 \n",
      "    H2O cluster name:           H2O_started_from_R_rbhat_xtu945 \n",
      "    H2O cluster total nodes:    1 \n",
      "    H2O cluster total memory:   26.60 GB \n",
      "    H2O cluster total cores:    56 \n",
      "    H2O cluster allowed cores:  2 \n",
      "    H2O cluster healthy:        TRUE \n",
      "    H2O Connection ip:          localhost \n",
      "    H2O Connection port:        54321 \n",
      "    H2O Connection proxy:       NA \n",
      "    R Version:                  R version 3.3.0 beta (2016-03-30 r70404) \n",
      "\n",
      "Note:  As started, H2O is limited to the CRAN default of 2 CPUs.\n",
      "       Shut down and restart H2O as shown below to use all your CPUs.\n",
      "           > h2o.shutdown()\n",
      "           > h2o.init(nthreads = -1)\n",
      "\n"
     ]
    }
   ],
   "source": [
    "library(h2o)\n",
    "localH2O = h2o.init(ip = \"localhost\", port = 54321, startH2O = TRUE,min_mem_size = \"3g\")"
   ]
  },
  {
   "cell_type": "code",
   "execution_count": null,
   "metadata": {
    "collapsed": false
   },
   "outputs": [],
   "source": []
  },
  {
   "cell_type": "code",
   "execution_count": 12,
   "metadata": {
    "collapsed": false
   },
   "outputs": [
    {
     "name": "stdout",
     "output_type": "stream",
     "text": [
      "  |======================================================================| 100%\n",
      "  |======================================================================| 100%\n"
     ]
    },
    {
     "name": "stderr",
     "output_type": "stream",
     "text": [
      "Warning message:\n",
      "In .h2o.validateModelParameters(algo, param_values, h2oRestApiVersion): Dropping constant columns: [pixel673, pixel196, pixel672, pixel671, pixel57, pixel476, pixel10, pixel532, pixel11, pixel16, pixel52, pixel730, pixel53, pixel18, pixel731, pixel54, pixel17, pixel392, pixel55, pixel56, pixel19, pixel782, pixel2, pixel781, pixel3, pixel780, pixel4, pixel5, pixel448, pixel0, pixel783, pixel168, pixel1, pixel700, pixel701, pixel645, pixel644, pixel112, pixel111, pixel7, pixel6, pixel9, pixel8, pixel759, pixel758, pixel757, pixel756, pixel755, pixel754, pixel31, pixel30, pixel699, pixel139, pixel729, pixel141, pixel140, pixel727, pixel728, pixel23, pixel22, pixel21, pixel20, pixel560, pixel29, pixel28, pixel82, pixel27, pixel83, pixel26, pixel421, pixel84, pixel25, pixel760, pixel420, pixel85, pixel24].\n"
     ]
    },
    {
     "name": "stdout",
     "output_type": "stream",
     "text": [
      "  |======================================================================| 100%\n",
      "  |======================================================================| 100%\n",
      "  |======================================================================| 100%\n"
     ]
    }
   ],
   "source": [
    "\n",
    "\n",
    "## Import MNIST CSV as H2O:\n",
    "mnistPath = \"/home/rbhat/Workspace/S3Lab_Projects/SMC-MetaChallange/train.csv\"\n",
    "mnist.hex = h2o.importFile(path = mnistPath, destination_frame = \"mnist.hex\")\n",
    "train <- as.data.frame(mnist.hex)\n",
    "train$label <- as.factor(train$label)\n",
    "train_h2o <- as.h2o(train)\n",
    "\n",
    "#Training a deep learning model:---------------------------------------------------------#\n",
    "model <- h2o.deeplearning(x = 2:785, # column numbers for predictors\n",
    "                   y = 1,            # column number for label\n",
    "                   training_frame = train_h2o,\n",
    "                   activation = \"RectifierWithDropout\", \n",
    "                   input_dropout_ratio = 0.2,\n",
    "                   hidden_dropout_ratios = c(0.5,0.5),\n",
    "                   balance_classes = TRUE, \n",
    "                   hidden = c(800,800),  ## five hidden layers\n",
    "                   epochs = 10,\n",
    "                   variable_importances = T)\n",
    "\n",
    "#Predict on test data:\n",
    "test_h2o <- h2o.importFile(path = '/home/rbhat/Workspace/S3Lab_Projects/SMC-MetaChallange/test.csv', \n",
    "                           destination_frame = \"test_h2o\")\n",
    "yhat <- h2o.predict(model, test_h2o)\n",
    "ImageId <- as.numeric(seq(1,28000))\n",
    "names(ImageId)[1] <- \"ImageId\"\n",
    "predictions <- cbind(as.data.frame(ImageId),as.data.frame(yhat[,1]))\n",
    "names(predictions)[2] <- \"Label\"\n",
    "write.table(as.matrix(predictions), file=\"/home/rbhat/Workspace/S3Lab_Projects/SMC-MetaChallange/DNN_pred.csv\", \n",
    "            row.names=FALSE, sep=\",\")"
   ]
  },
  {
   "cell_type": "code",
   "execution_count": null,
   "metadata": {
    "collapsed": false
   },
   "outputs": [],
   "source": []
  },
  {
   "cell_type": "code",
   "execution_count": 13,
   "metadata": {
    "collapsed": false
   },
   "outputs": [
    {
     "data": {
      "text/html": [
       "<table>\n",
       "<thead><tr><th></th><th scope=col>variable</th><th scope=col>relative_importance</th><th scope=col>scaled_importance</th><th scope=col>percentage</th></tr></thead>\n",
       "<tbody>\n",
       "\t<tr><th scope=row>1</th><td>pixel768</td><td>1</td><td>1</td><td>0.00219971489856623</td></tr>\n",
       "\t<tr><th scope=row>2</th><td>pixel39</td><td>0.99789834022522</td><td>0.99789834022522</td><td>0.00219509184624793</td></tr>\n",
       "\t<tr><th scope=row>3</th><td>pixel769</td><td>0.985796093940735</td><td>0.985796093940735</td><td>0.00216847035478983</td></tr>\n",
       "\t<tr><th scope=row>4</th><td>pixel772</td><td>0.974150478839874</td><td>0.974150478839874</td><td>0.0021428533217495</td></tr>\n",
       "\t<tr><th scope=row>5</th><td>pixel586</td><td>0.97146075963974</td><td>0.97146075963974</td><td>0.00213693670635201</td></tr>\n",
       "\t<tr><th scope=row>6</th><td>pixel765</td><td>0.970835983753204</td><td>0.970835983753204</td><td>0.00213556237752613</td></tr>\n",
       "\t<tr><th scope=row>7</th><td>pixel763</td><td>0.969893515110016</td><td>0.969893515110016</td><td>0.00213348921521028</td></tr>\n",
       "\t<tr><th scope=row>8</th><td>pixel36</td><td>0.969248294830322</td><td>0.969248294830322</td><td>0.00213206991454818</td></tr>\n",
       "\t<tr><th scope=row>9</th><td>pixel47</td><td>0.956517696380615</td><td>0.956517696380615</td><td>0.00210406622747069</td></tr>\n",
       "\t<tr><th scope=row>10</th><td>pixel558</td><td>0.955120742321014</td><td>0.955120742321014</td><td>0.00210099332681317</td></tr>\n",
       "\t<tr><th scope=row>11</th><td>pixel37</td><td>0.95487368106842</td><td>0.95487368106842</td><td>0.00210044986249499</td></tr>\n",
       "\t<tr><th scope=row>12</th><td>pixel646</td><td>0.95356148481369</td><td>0.95356148481369</td><td>0.00209756340484361</td></tr>\n",
       "\t<tr><th scope=row>13</th><td>pixel764</td><td>0.951642453670502</td><td>0.951642453670502</td><td>0.00209334208344713</td></tr>\n",
       "\t<tr><th scope=row>14</th><td>pixel38</td><td>0.943785786628723</td><td>0.943785786628723</td><td>0.00207605965590225</td></tr>\n",
       "\t<tr><th scope=row>15</th><td>pixel40</td><td>0.930361568927765</td><td>0.930361568927765</td><td>0.00204653020422386</td></tr>\n",
       "\t<tr><th scope=row>16</th><td>pixel281</td><td>0.930115878582001</td><td>0.930115878582001</td><td>0.00204598975550985</td></tr>\n",
       "\t<tr><th scope=row>17</th><td>pixel41</td><td>0.928898513317108</td><td>0.928898513317108</td><td>0.00204331189899967</td></tr>\n",
       "\t<tr><th scope=row>18</th><td>pixel773</td><td>0.926634132862091</td><td>0.926634132862091</td><td>0.00203833090757674</td></tr>\n",
       "\t<tr><th scope=row>19</th><td>pixel48</td><td>0.924358546733856</td><td>0.924358546733856</td><td>0.00203332526686749</td></tr>\n",
       "\t<tr><th scope=row>20</th><td>pixel703</td><td>0.923525094985962</td><td>0.923525094985962</td><td>0.00203149191064042</td></tr>\n",
       "\t<tr><th scope=row>21</th><td>pixel762</td><td>0.920674562454224</td><td>0.920674562454224</td><td>0.0020252215517615</td></tr>\n",
       "\t<tr><th scope=row>22</th><td>pixel771</td><td>0.919136822223663</td><td>0.919136822223663</td><td>0.00202183896166621</td></tr>\n",
       "\t<tr><th scope=row>23</th><td>pixel49</td><td>0.917817294597626</td><td>0.917817294597626</td><td>0.00201893637708815</td></tr>\n",
       "\t<tr><th scope=row>24</th><td>pixel79</td><td>0.914602696895599</td><td>0.914602696895599</td><td>0.00201186517863011</td></tr>\n",
       "\t<tr><th scope=row>25</th><td>pixel309</td><td>0.911859333515167</td><td>0.911859333515167</td><td>0.00200583056132999</td></tr>\n",
       "\t<tr><th scope=row>26</th><td>pixel46</td><td>0.911158680915833</td><td>0.911158680915833</td><td>0.00200428932536851</td></tr>\n",
       "\t<tr><th scope=row>27</th><td>pixel589</td><td>0.907297551631927</td><td>0.907297551631927</td><td>0.00199579594175742</td></tr>\n",
       "\t<tr><th scope=row>28</th><td>pixel225</td><td>0.905894219875336</td><td>0.905894219875336</td><td>0.00199270901198481</td></tr>\n",
       "\t<tr><th scope=row>29</th><td>pixel674</td><td>0.903175532817841</td><td>0.903175532817841</td><td>0.0019867286755599</td></tr>\n",
       "\t<tr><th scope=row>30</th><td>pixel253</td><td>0.899304926395416</td><td>0.899304926395416</td><td>0.00197821444494601</td></tr>\n",
       "\t<tr><th scope=row>31</th><td>⋮</td><td>⋮</td><td>⋮</td><td>⋮</td></tr>\n",
       "\t<tr><th scope=row>679</th><td>pixel229</td><td>0.450303196907043</td><td>0.450303196907043</td><td>0.000990538651108427</td></tr>\n",
       "\t<tr><th scope=row>680</th><td>pixel666</td><td>0.449560850858688</td><td>0.449560850858688</td><td>0.000988905701445969</td></tr>\n",
       "\t<tr><th scope=row>681</th><td>pixel145</td><td>0.448918849229813</td><td>0.448918849229813</td><td>0.000987493480898027</td></tr>\n",
       "\t<tr><th scope=row>682</th><td>pixel174</td><td>0.448256403207779</td><td>0.448256403207779</td><td>0.000986036288513864</td></tr>\n",
       "\t<tr><th scope=row>683</th><td>pixel133</td><td>0.446966022253036</td><td>0.446966022253036</td><td>0.000983197818302891</td></tr>\n",
       "\t<tr><th scope=row>684</th><td>pixel649</td><td>0.446286648511887</td><td>0.446286648511887</td><td>0.000981703389762788</td></tr>\n",
       "\t<tr><th scope=row>685</th><td>pixel650</td><td>0.445679515600204</td><td>0.445679515600204</td><td>0.000980367870451551</td></tr>\n",
       "\t<tr><th scope=row>686</th><td>pixel135</td><td>0.445559948682785</td><td>0.445559948682785</td><td>0.000980104857321928</td></tr>\n",
       "\t<tr><th scope=row>687</th><td>pixel341</td><td>0.445297062397003</td><td>0.445297062397003</td><td>0.000979526582442465</td></tr>\n",
       "\t<tr><th scope=row>688</th><td>pixel305</td><td>0.445232599973679</td><td>0.445232599973679</td><td>0.00097938478348948</td></tr>\n",
       "\t<tr><th scope=row>689</th><td>pixel665</td><td>0.441807180643082</td><td>0.441807180643082</td><td>0.00097184983755413</td></tr>\n",
       "\t<tr><th scope=row>690</th><td>pixel173</td><td>0.440752625465393</td><td>0.440752625465393</td><td>0.000969530116818408</td></tr>\n",
       "\t<tr><th scope=row>691</th><td>pixel500</td><td>0.439633339643478</td><td>0.439633339643478</td><td>0.000967068007120188</td></tr>\n",
       "\t<tr><th scope=row>692</th><td>pixel340</td><td>0.438586741685867</td><td>0.438586741685867</td><td>0.000964765790000022</td></tr>\n",
       "\t<tr><th scope=row>693</th><td>pixel201</td><td>0.438563197851181</td><td>0.438563197851181</td><td>0.000964714000276093</td></tr>\n",
       "\t<tr><th scope=row>694</th><td>pixel146</td><td>0.438352793455124</td><td>0.438352793455124</td><td>0.000964251170591363</td></tr>\n",
       "\t<tr><th scope=row>695</th><td>pixel692</td><td>0.438127309083939</td><td>0.438127309083939</td><td>0.000963755169260672</td></tr>\n",
       "\t<tr><th scope=row>696</th><td>pixel147</td><td>0.437861084938049</td><td>0.437861084938049</td><td>0.000963169552040602</td></tr>\n",
       "\t<tr><th scope=row>697</th><td>pixel678</td><td>0.435879051685333</td><td>0.435879051685333</td><td>0.000958809643965148</td></tr>\n",
       "\t<tr><th scope=row>698</th><td>pixel361</td><td>0.435496836900711</td><td>0.435496836900711</td><td>0.000957968880408963</td></tr>\n",
       "\t<tr><th scope=row>699</th><td>pixel312</td><td>0.432427436113358</td><td>0.432427436113358</td><td>0.00095121707376735</td></tr>\n",
       "\t<tr><th scope=row>700</th><td>pixel694</td><td>0.431436449289322</td><td>0.431436449289322</td><td>0.000949037185286236</td></tr>\n",
       "\t<tr><th scope=row>701</th><td>pixel368</td><td>0.430824428796768</td><td>0.430824428796768</td><td>0.000947690914690538</td></tr>\n",
       "\t<tr><th scope=row>702</th><td>pixel637</td><td>0.429938912391663</td><td>0.429938912391663</td><td>0.000945743031061302</td></tr>\n",
       "\t<tr><th scope=row>703</th><td>pixel333</td><td>0.427264094352722</td><td>0.427264094352722</td><td>0.000939859193970091</td></tr>\n",
       "\t<tr><th scope=row>704</th><td>pixel638</td><td>0.426928848028183</td><td>0.426928848028183</td><td>0.000939121747635313</td></tr>\n",
       "\t<tr><th scope=row>705</th><td>pixel389</td><td>0.425153791904449</td><td>0.425153791904449</td><td>0.000935217130234145</td></tr>\n",
       "\t<tr><th scope=row>706</th><td>pixel693</td><td>0.422020733356476</td><td>0.422020733356476</td><td>0.000928325294668087</td></tr>\n",
       "\t<tr><th scope=row>707</th><td>pixel677</td><td>0.419304639101028</td><td>0.419304639101028</td><td>0.00092235066166847</td></tr>\n",
       "\t<tr><th scope=row>708</th><td>pixel396</td><td>0.418138027191162</td><td>0.418138027191162</td><td>0.000919784448069492</td></tr>\n",
       "</tbody>\n",
       "</table>\n"
      ],
      "text/latex": [
       "\\begin{tabular}{r|llll}\n",
       "  & variable & relative_importance & scaled_importance & percentage\\\\\n",
       "\\hline\n",
       "\t1 & pixel768 & 1 & 1 & 0.00219971489856623\\\\\n",
       "\t2 & pixel39 & 0.99789834022522 & 0.99789834022522 & 0.00219509184624793\\\\\n",
       "\t3 & pixel769 & 0.985796093940735 & 0.985796093940735 & 0.00216847035478983\\\\\n",
       "\t4 & pixel772 & 0.974150478839874 & 0.974150478839874 & 0.0021428533217495\\\\\n",
       "\t5 & pixel586 & 0.97146075963974 & 0.97146075963974 & 0.00213693670635201\\\\\n",
       "\t6 & pixel765 & 0.970835983753204 & 0.970835983753204 & 0.00213556237752613\\\\\n",
       "\t7 & pixel763 & 0.969893515110016 & 0.969893515110016 & 0.00213348921521028\\\\\n",
       "\t8 & pixel36 & 0.969248294830322 & 0.969248294830322 & 0.00213206991454818\\\\\n",
       "\t9 & pixel47 & 0.956517696380615 & 0.956517696380615 & 0.00210406622747069\\\\\n",
       "\t10 & pixel558 & 0.955120742321014 & 0.955120742321014 & 0.00210099332681317\\\\\n",
       "\t11 & pixel37 & 0.95487368106842 & 0.95487368106842 & 0.00210044986249499\\\\\n",
       "\t12 & pixel646 & 0.95356148481369 & 0.95356148481369 & 0.00209756340484361\\\\\n",
       "\t13 & pixel764 & 0.951642453670502 & 0.951642453670502 & 0.00209334208344713\\\\\n",
       "\t14 & pixel38 & 0.943785786628723 & 0.943785786628723 & 0.00207605965590225\\\\\n",
       "\t15 & pixel40 & 0.930361568927765 & 0.930361568927765 & 0.00204653020422386\\\\\n",
       "\t16 & pixel281 & 0.930115878582001 & 0.930115878582001 & 0.00204598975550985\\\\\n",
       "\t17 & pixel41 & 0.928898513317108 & 0.928898513317108 & 0.00204331189899967\\\\\n",
       "\t18 & pixel773 & 0.926634132862091 & 0.926634132862091 & 0.00203833090757674\\\\\n",
       "\t19 & pixel48 & 0.924358546733856 & 0.924358546733856 & 0.00203332526686749\\\\\n",
       "\t20 & pixel703 & 0.923525094985962 & 0.923525094985962 & 0.00203149191064042\\\\\n",
       "\t21 & pixel762 & 0.920674562454224 & 0.920674562454224 & 0.0020252215517615\\\\\n",
       "\t22 & pixel771 & 0.919136822223663 & 0.919136822223663 & 0.00202183896166621\\\\\n",
       "\t23 & pixel49 & 0.917817294597626 & 0.917817294597626 & 0.00201893637708815\\\\\n",
       "\t24 & pixel79 & 0.914602696895599 & 0.914602696895599 & 0.00201186517863011\\\\\n",
       "\t25 & pixel309 & 0.911859333515167 & 0.911859333515167 & 0.00200583056132999\\\\\n",
       "\t26 & pixel46 & 0.911158680915833 & 0.911158680915833 & 0.00200428932536851\\\\\n",
       "\t27 & pixel589 & 0.907297551631927 & 0.907297551631927 & 0.00199579594175742\\\\\n",
       "\t28 & pixel225 & 0.905894219875336 & 0.905894219875336 & 0.00199270901198481\\\\\n",
       "\t29 & pixel674 & 0.903175532817841 & 0.903175532817841 & 0.0019867286755599\\\\\n",
       "\t30 & pixel253 & 0.899304926395416 & 0.899304926395416 & 0.00197821444494601\\\\\n",
       "\t31 & ⋮ & ⋮ & ⋮ & ⋮\\\\\n",
       "\t679 & pixel229 & 0.450303196907043 & 0.450303196907043 & 0.000990538651108427\\\\\n",
       "\t680 & pixel666 & 0.449560850858688 & 0.449560850858688 & 0.000988905701445969\\\\\n",
       "\t681 & pixel145 & 0.448918849229813 & 0.448918849229813 & 0.000987493480898027\\\\\n",
       "\t682 & pixel174 & 0.448256403207779 & 0.448256403207779 & 0.000986036288513864\\\\\n",
       "\t683 & pixel133 & 0.446966022253036 & 0.446966022253036 & 0.000983197818302891\\\\\n",
       "\t684 & pixel649 & 0.446286648511887 & 0.446286648511887 & 0.000981703389762788\\\\\n",
       "\t685 & pixel650 & 0.445679515600204 & 0.445679515600204 & 0.000980367870451551\\\\\n",
       "\t686 & pixel135 & 0.445559948682785 & 0.445559948682785 & 0.000980104857321928\\\\\n",
       "\t687 & pixel341 & 0.445297062397003 & 0.445297062397003 & 0.000979526582442465\\\\\n",
       "\t688 & pixel305 & 0.445232599973679 & 0.445232599973679 & 0.00097938478348948\\\\\n",
       "\t689 & pixel665 & 0.441807180643082 & 0.441807180643082 & 0.00097184983755413\\\\\n",
       "\t690 & pixel173 & 0.440752625465393 & 0.440752625465393 & 0.000969530116818408\\\\\n",
       "\t691 & pixel500 & 0.439633339643478 & 0.439633339643478 & 0.000967068007120188\\\\\n",
       "\t692 & pixel340 & 0.438586741685867 & 0.438586741685867 & 0.000964765790000022\\\\\n",
       "\t693 & pixel201 & 0.438563197851181 & 0.438563197851181 & 0.000964714000276093\\\\\n",
       "\t694 & pixel146 & 0.438352793455124 & 0.438352793455124 & 0.000964251170591363\\\\\n",
       "\t695 & pixel692 & 0.438127309083939 & 0.438127309083939 & 0.000963755169260672\\\\\n",
       "\t696 & pixel147 & 0.437861084938049 & 0.437861084938049 & 0.000963169552040602\\\\\n",
       "\t697 & pixel678 & 0.435879051685333 & 0.435879051685333 & 0.000958809643965148\\\\\n",
       "\t698 & pixel361 & 0.435496836900711 & 0.435496836900711 & 0.000957968880408963\\\\\n",
       "\t699 & pixel312 & 0.432427436113358 & 0.432427436113358 & 0.00095121707376735\\\\\n",
       "\t700 & pixel694 & 0.431436449289322 & 0.431436449289322 & 0.000949037185286236\\\\\n",
       "\t701 & pixel368 & 0.430824428796768 & 0.430824428796768 & 0.000947690914690538\\\\\n",
       "\t702 & pixel637 & 0.429938912391663 & 0.429938912391663 & 0.000945743031061302\\\\\n",
       "\t703 & pixel333 & 0.427264094352722 & 0.427264094352722 & 0.000939859193970091\\\\\n",
       "\t704 & pixel638 & 0.426928848028183 & 0.426928848028183 & 0.000939121747635313\\\\\n",
       "\t705 & pixel389 & 0.425153791904449 & 0.425153791904449 & 0.000935217130234145\\\\\n",
       "\t706 & pixel693 & 0.422020733356476 & 0.422020733356476 & 0.000928325294668087\\\\\n",
       "\t707 & pixel677 & 0.419304639101028 & 0.419304639101028 & 0.00092235066166847\\\\\n",
       "\t708 & pixel396 & 0.418138027191162 & 0.418138027191162 & 0.000919784448069492\\\\\n",
       "\\end{tabular}\n"
      ],
      "text/plain": [
       "Variable Importances: \n",
       "  variable relative_importance scaled_importance percentage\n",
       "1 pixel768            1.000000          1.000000   0.002200\n",
       "2  pixel39            0.997898          0.997898   0.002195\n",
       "3 pixel769            0.985796          0.985796   0.002168\n",
       "4 pixel772            0.974150          0.974150   0.002143\n",
       "5 pixel586            0.971461          0.971461   0.002137\n",
       "\n",
       "---\n",
       "    variable relative_importance scaled_importance percentage\n",
       "703 pixel333            0.427264          0.427264   0.000940\n",
       "704 pixel638            0.426929          0.426929   0.000939\n",
       "705 pixel389            0.425154          0.425154   0.000935\n",
       "706 pixel693            0.422021          0.422021   0.000928\n",
       "707 pixel677            0.419305          0.419305   0.000922\n",
       "708 pixel396            0.418138          0.418138   0.000920"
      ]
     },
     "execution_count": 13,
     "metadata": {},
     "output_type": "execute_result"
    }
   ],
   "source": [
    "h2o.varimp(model)"
   ]
  },
  {
   "cell_type": "code",
   "execution_count": null,
   "metadata": {
    "collapsed": true
   },
   "outputs": [],
   "source": []
  },
  {
   "cell_type": "code",
   "execution_count": 19,
   "metadata": {
    "collapsed": true
   },
   "outputs": [],
   "source": [
    "##########\n",
    "## Data Source References:\n",
    "## MNIST Source Data\n",
    "## Original Dataset: http://yann.lecun.com/exdb/mnist/\n",
    "## CSV Version: http://www.pjreddie.com/projects/mnist-in-csv/\n",
    "## Train Dataset: http://www.pjreddie.com/media/files/mnist_train.csv\n",
    "## Test Dataset: http://www.pjreddie.com/media/files/mnist_test.csv\n",
    "\n",
    "#https://github.com/woobe/blenditbayes/blob/master/2014-07-h2o-experiments/code_h2o_dnn_exp_2.R"
   ]
  },
  {
   "cell_type": "code",
   "execution_count": 18,
   "metadata": {
    "collapsed": true
   },
   "outputs": [],
   "source": [
    "## Start a local H2O cluster directly from R\n",
    "# localH2O = h2o.init(ip = \"localhost\", port = 54321, startH2O = TRUE)  # default settings with 1GB RAM\n",
    "#localH2O = h2o.init(ip = \"localhost\", port = 54321, startH2O = TRUE, Xmx = '2g') # cap it at max 2GB"
   ]
  },
  {
   "cell_type": "code",
   "execution_count": null,
   "metadata": {
    "collapsed": true
   },
   "outputs": [],
   "source": []
  },
  {
   "cell_type": "code",
   "execution_count": null,
   "metadata": {
    "collapsed": true
   },
   "outputs": [],
   "source": []
  },
  {
   "cell_type": "code",
   "execution_count": null,
   "metadata": {
    "collapsed": true
   },
   "outputs": [],
   "source": []
  },
  {
   "cell_type": "code",
   "execution_count": null,
   "metadata": {
    "collapsed": true
   },
   "outputs": [],
   "source": []
  },
  {
   "cell_type": "code",
   "execution_count": null,
   "metadata": {
    "collapsed": true
   },
   "outputs": [],
   "source": []
  }
 ],
 "metadata": {
  "kernelspec": {
   "display_name": "R",
   "language": "R",
   "name": "ir"
  },
  "language_info": {
   "codemirror_mode": "r",
   "file_extension": ".r",
   "mimetype": "text/x-r-source",
   "name": "R",
   "pygments_lexer": "r",
   "version": "3.3.0"
  }
 },
 "nbformat": 4,
 "nbformat_minor": 0
}
