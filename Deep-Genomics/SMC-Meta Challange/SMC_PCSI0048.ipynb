{
 "cells": [
  {
   "cell_type": "code",
   "execution_count": 59,
   "metadata": {
    "collapsed": false
   },
   "outputs": [],
   "source": [
    "import numpy as np\n",
    "import pandas as pd\n",
    "from collections import Counter\n",
    "import math\n",
    "\n",
    "from sklearn.neighbors import KNeighborsClassifier\n",
    "from sklearn.linear_model import LogisticRegression\n",
    "from sklearn.ensemble import RandomForestClassifier\n",
    "from sklearn.cross_validation import cross_val_score\n",
    "from sklearn import metrics\n",
    "from sklearn.cross_validation import train_test_split\n",
    "from sklearn.metrics import confusion_matrix, roc_curve, auc\n",
    "from sklearn.grid_search import GridSearchCV\n",
    "from sklearn import svm\n",
    "from sklearn.decomposition import RandomizedPCA\n",
    "from sklearn.metrics import classification_report\n",
    "from sklearn import preprocessing\n",
    "import matplotlib.pyplot as plt\n",
    "import scipy.optimize as opt\n",
    "import glob\n",
    "import os\n",
    "import sys\n",
    "import pickle\n",
    "import time\n",
    "import timeit\n",
    "\n",
    "from sklearn.decomposition import RandomizedPCA\n",
    "\n",
    "import theano\n",
    "import theano.tensor as T\n",
    "import lasagne\n",
    "\n",
    "#np.random.seed(1337)  # for reproducibility\n",
    "from keras.datasets import mnist\n",
    "from keras.models import Sequential\n",
    "from keras.layers.core import Dense, Dropout, Activation, Flatten, Layer, Reshape, AutoEncoder, Merge\n",
    "from keras.layers.convolutional import Convolution2D,MaxPooling2D,Convolution1D,MaxPooling1D,UpSampling2D, ZeroPadding2D\n",
    "from keras.optimizers import SGD, Adam, RMSprop, Adadelta\n",
    "from keras.layers.normalization import BatchNormalization\n",
    "from keras.utils import np_utils\n",
    "import keras.utils.visualize_util as vutil\n",
    "from keras.layers.recurrent import LSTM, GRU, SimpleRNN\n",
    "from keras.regularizers import l1, l2, l1l2, activity_l2, activity_l1\n",
    "import keras.layers.containers as containers\n",
    "from keras.layers.noise import GaussianNoise\n",
    "from keras.regularizers import ActivityRegularizer\n",
    "from keras import backend as K\n",
    "import keras.utils.visualize_util as vutil\n",
    "from keras.models import model_from_json\n",
    "\n",
    "import seaborn as sns\n",
    "\n",
    "%matplotlib inline\n",
    "\n",
    "from IPython.display import SVG\n",
    "\n",
    "import h5py\n",
    "\n",
    "np.set_printoptions(suppress=True)  #Supress exponent of the number 2e-2 == 0.02\n",
    "\n",
    "%matplotlib inline"
   ]
  },
  {
   "cell_type": "code",
   "execution_count": 60,
   "metadata": {
    "collapsed": true
   },
   "outputs": [],
   "source": [
    "#PCSI0048"
   ]
  },
  {
   "cell_type": "code",
   "execution_count": 61,
   "metadata": {
    "collapsed": false
   },
   "outputs": [],
   "source": [
    "#Read the data\n",
    "\n",
    "GenomicFeatures_PCSI0048 = pd.read_csv(open('data/PCSI0048/GenomicFeatures_PCSI0048.txt','r'),sep='\\t')\n",
    "SNVCalls_PCSI0048    = pd.read_csv(open('data/PCSI0048/SNVCalls_PCSI0048.txt','r'),sep='\\t') "
   ]
  },
  {
   "cell_type": "code",
   "execution_count": 62,
   "metadata": {
    "collapsed": false
   },
   "outputs": [
    {
     "name": "stdout",
     "output_type": "stream",
     "text": [
      "(125625, 15)\n",
      "(125625, 137)\n"
     ]
    }
   ],
   "source": [
    "print GenomicFeatures_PCSI0048.shape\n",
    "print SNVCalls_PCSI0048.shape"
   ]
  },
  {
   "cell_type": "code",
   "execution_count": 63,
   "metadata": {
    "collapsed": false
   },
   "outputs": [
    {
     "data": {
      "text/plain": [
       "CHROM                  0\n",
       "POS                    0\n",
       "RefAllele              0\n",
       "NonRefAllele           0\n",
       "BaseQual               0\n",
       "TumourCoverage         0\n",
       "NormalCoverage         0\n",
       "MapQual                0\n",
       "ReadPosition          77\n",
       "Trinucleotide          0\n",
       "HomopolymerRate        0\n",
       "GCcontent              0\n",
       "GenomicLocation    33973\n",
       "DistanceSNP            0\n",
       "StrandBias            77\n",
       "dtype: int64"
      ]
     },
     "execution_count": 63,
     "metadata": {},
     "output_type": "execute_result"
    }
   ],
   "source": [
    "np.sum(GenomicFeatures_PCSI0048.isnull())"
   ]
  },
  {
   "cell_type": "code",
   "execution_count": 64,
   "metadata": {
    "collapsed": false
   },
   "outputs": [],
   "source": [
    "GenomicFeatures_PCSI0048['ReadPosition'].fillna(0, inplace=True)  #Replace na with 0\n",
    "GenomicFeatures_PCSI0048['StrandBias'].fillna(0, inplace=True)\n",
    "\n",
    "#print np.sum(GenomicFeatures_PCSI0023.isnull())"
   ]
  },
  {
   "cell_type": "code",
   "execution_count": 65,
   "metadata": {
    "collapsed": false
   },
   "outputs": [
    {
     "data": {
      "text/plain": [
       "array(['UTR3', 'UTR5', 'downstream', 'exonic', 'exonic;splicing',\n",
       "       'intergenic', 'intronic', 'nan', 'ncRNA_UTR3', 'ncRNA_UTR5',\n",
       "       'ncRNA_exonic', 'ncRNA_intronic', 'ncRNA_splicing', 'splicing',\n",
       "       'upstream', 'upstream;downstream'], \n",
       "      dtype='|S19')"
      ]
     },
     "execution_count": 65,
     "metadata": {},
     "output_type": "execute_result"
    }
   ],
   "source": [
    "np.unique(GenomicFeatures_PCSI0048['GenomicLocation'])"
   ]
  },
  {
   "cell_type": "code",
   "execution_count": 66,
   "metadata": {
    "collapsed": false
   },
   "outputs": [
    {
     "data": {
      "text/html": [
       "<div style=\"max-height:1000px;max-width:1500px;overflow:auto;\">\n",
       "<table border=\"1\" class=\"dataframe\">\n",
       "  <thead>\n",
       "    <tr style=\"text-align: right;\">\n",
       "      <th></th>\n",
       "      <th>CHROM</th>\n",
       "      <th>POS</th>\n",
       "      <th>RefAllele</th>\n",
       "      <th>NonRefAllele</th>\n",
       "      <th>BaseQual</th>\n",
       "      <th>TumourCoverage</th>\n",
       "      <th>NormalCoverage</th>\n",
       "      <th>MapQual</th>\n",
       "      <th>ReadPosition</th>\n",
       "      <th>Trinucleotide</th>\n",
       "      <th>HomopolymerRate</th>\n",
       "      <th>GCcontent</th>\n",
       "      <th>GenomicLocation</th>\n",
       "      <th>DistanceSNP</th>\n",
       "      <th>StrandBias</th>\n",
       "    </tr>\n",
       "  </thead>\n",
       "  <tbody>\n",
       "    <tr>\n",
       "      <th>0</th>\n",
       "      <td> chr1</td>\n",
       "      <td> 10583</td>\n",
       "      <td>  47</td>\n",
       "      <td>  9</td>\n",
       "      <td> 1519</td>\n",
       "      <td>  64</td>\n",
       "      <td>  69</td>\n",
       "      <td> 29</td>\n",
       "      <td> 74</td>\n",
       "      <td> GCA</td>\n",
       "      <td> 2.026144</td>\n",
       "      <td> 0.716418</td>\n",
       "      <td>            NaN</td>\n",
       "      <td> 50859</td>\n",
       "      <td> 0.281250</td>\n",
       "    </tr>\n",
       "    <tr>\n",
       "      <th>1</th>\n",
       "      <td> chr1</td>\n",
       "      <td> 14111</td>\n",
       "      <td> 117</td>\n",
       "      <td>  9</td>\n",
       "      <td> 3971</td>\n",
       "      <td> 139</td>\n",
       "      <td> 119</td>\n",
       "      <td>  0</td>\n",
       "      <td> 48</td>\n",
       "      <td> CTT</td>\n",
       "      <td> 2.748201</td>\n",
       "      <td> 0.512438</td>\n",
       "      <td>     downstream</td>\n",
       "      <td> 47331</td>\n",
       "      <td> 0.482014</td>\n",
       "    </tr>\n",
       "    <tr>\n",
       "      <th>2</th>\n",
       "      <td> chr1</td>\n",
       "      <td> 16206</td>\n",
       "      <td> 124</td>\n",
       "      <td> 21</td>\n",
       "      <td> 4497</td>\n",
       "      <td> 155</td>\n",
       "      <td> 145</td>\n",
       "      <td> 16</td>\n",
       "      <td> 44</td>\n",
       "      <td> CTG</td>\n",
       "      <td> 2.101911</td>\n",
       "      <td> 0.597015</td>\n",
       "      <td> ncRNA_intronic</td>\n",
       "      <td> 45236</td>\n",
       "      <td> 0.812903</td>\n",
       "    </tr>\n",
       "    <tr>\n",
       "      <th>3</th>\n",
       "      <td> chr1</td>\n",
       "      <td> 16993</td>\n",
       "      <td> 122</td>\n",
       "      <td> 16</td>\n",
       "      <td> 4151</td>\n",
       "      <td> 144</td>\n",
       "      <td> 151</td>\n",
       "      <td>  0</td>\n",
       "      <td> 44</td>\n",
       "      <td> CCT</td>\n",
       "      <td> 2.406897</td>\n",
       "      <td> 0.592040</td>\n",
       "      <td>   ncRNA_exonic</td>\n",
       "      <td> 44449</td>\n",
       "      <td> 0.736111</td>\n",
       "    </tr>\n",
       "    <tr>\n",
       "      <th>4</th>\n",
       "      <td> chr1</td>\n",
       "      <td> 17594</td>\n",
       "      <td> 116</td>\n",
       "      <td> 26</td>\n",
       "      <td> 4419</td>\n",
       "      <td> 146</td>\n",
       "      <td> 178</td>\n",
       "      <td>  0</td>\n",
       "      <td> 50</td>\n",
       "      <td> CCT</td>\n",
       "      <td> 2.605634</td>\n",
       "      <td> 0.631841</td>\n",
       "      <td> ncRNA_intronic</td>\n",
       "      <td> 43848</td>\n",
       "      <td> 0.472603</td>\n",
       "    </tr>\n",
       "  </tbody>\n",
       "</table>\n",
       "<p>5 rows × 15 columns</p>\n",
       "</div>"
      ],
      "text/plain": [
       "  CHROM    POS  RefAllele  NonRefAllele  BaseQual  TumourCoverage  \\\n",
       "0  chr1  10583         47             9      1519              64   \n",
       "1  chr1  14111        117             9      3971             139   \n",
       "2  chr1  16206        124            21      4497             155   \n",
       "3  chr1  16993        122            16      4151             144   \n",
       "4  chr1  17594        116            26      4419             146   \n",
       "\n",
       "   NormalCoverage  MapQual  ReadPosition Trinucleotide  HomopolymerRate  \\\n",
       "0              69       29            74           GCA         2.026144   \n",
       "1             119        0            48           CTT         2.748201   \n",
       "2             145       16            44           CTG         2.101911   \n",
       "3             151        0            44           CCT         2.406897   \n",
       "4             178        0            50           CCT         2.605634   \n",
       "\n",
       "   GCcontent GenomicLocation  DistanceSNP  StrandBias  \n",
       "0   0.716418             NaN        50859    0.281250  \n",
       "1   0.512438      downstream        47331    0.482014  \n",
       "2   0.597015  ncRNA_intronic        45236    0.812903  \n",
       "3   0.592040    ncRNA_exonic        44449    0.736111  \n",
       "4   0.631841  ncRNA_intronic        43848    0.472603  \n",
       "\n",
       "[5 rows x 15 columns]"
      ]
     },
     "execution_count": 66,
     "metadata": {},
     "output_type": "execute_result"
    }
   ],
   "source": [
    "GenomicFeatures_PCSI0048.head()"
   ]
  },
  {
   "cell_type": "code",
   "execution_count": 67,
   "metadata": {
    "collapsed": false
   },
   "outputs": [
    {
     "data": {
      "text/html": [
       "<div style=\"max-height:1000px;max-width:1500px;overflow:auto;\">\n",
       "<table border=\"1\" class=\"dataframe\">\n",
       "  <thead>\n",
       "    <tr style=\"text-align: right;\">\n",
       "      <th></th>\n",
       "      <th>CHROM</th>\n",
       "      <th>POS</th>\n",
       "      <th>END</th>\n",
       "      <th>X2399010</th>\n",
       "      <th>X2642563</th>\n",
       "      <th>X2642565</th>\n",
       "      <th>X2673220</th>\n",
       "      <th>X2673230</th>\n",
       "      <th>X2701045</th>\n",
       "      <th>X2701049</th>\n",
       "      <th>X2811106</th>\n",
       "      <th>X2811111</th>\n",
       "      <th>X2811113</th>\n",
       "      <th>X2811116</th>\n",
       "      <th>X2811397</th>\n",
       "      <th>X2812914</th>\n",
       "      <th>X2813253</th>\n",
       "      <th>X2813265</th>\n",
       "      <th>X2813385</th>\n",
       "      <th>X2813460</th>\n",
       "      <th></th>\n",
       "    </tr>\n",
       "  </thead>\n",
       "  <tbody>\n",
       "    <tr>\n",
       "      <th>0</th>\n",
       "      <td> chr1</td>\n",
       "      <td> 10582</td>\n",
       "      <td> 10583</td>\n",
       "      <td> 0</td>\n",
       "      <td> 0</td>\n",
       "      <td> 0</td>\n",
       "      <td> 0</td>\n",
       "      <td> 0</td>\n",
       "      <td> 0</td>\n",
       "      <td> 0</td>\n",
       "      <td> 0</td>\n",
       "      <td> 0</td>\n",
       "      <td> 0</td>\n",
       "      <td> 0</td>\n",
       "      <td> 0</td>\n",
       "      <td> 0</td>\n",
       "      <td> 0</td>\n",
       "      <td> 1</td>\n",
       "      <td> 0</td>\n",
       "      <td> 0</td>\n",
       "      <td>...</td>\n",
       "    </tr>\n",
       "    <tr>\n",
       "      <th>1</th>\n",
       "      <td> chr1</td>\n",
       "      <td> 14110</td>\n",
       "      <td> 14111</td>\n",
       "      <td> 0</td>\n",
       "      <td> 0</td>\n",
       "      <td> 0</td>\n",
       "      <td> 0</td>\n",
       "      <td> 0</td>\n",
       "      <td> 0</td>\n",
       "      <td> 0</td>\n",
       "      <td> 0</td>\n",
       "      <td> 0</td>\n",
       "      <td> 0</td>\n",
       "      <td> 0</td>\n",
       "      <td> 0</td>\n",
       "      <td> 0</td>\n",
       "      <td> 0</td>\n",
       "      <td> 0</td>\n",
       "      <td> 0</td>\n",
       "      <td> 0</td>\n",
       "      <td>...</td>\n",
       "    </tr>\n",
       "    <tr>\n",
       "      <th>2</th>\n",
       "      <td> chr1</td>\n",
       "      <td> 16205</td>\n",
       "      <td> 16206</td>\n",
       "      <td> 0</td>\n",
       "      <td> 0</td>\n",
       "      <td> 0</td>\n",
       "      <td> 0</td>\n",
       "      <td> 0</td>\n",
       "      <td> 0</td>\n",
       "      <td> 0</td>\n",
       "      <td> 0</td>\n",
       "      <td> 0</td>\n",
       "      <td> 0</td>\n",
       "      <td> 0</td>\n",
       "      <td> 0</td>\n",
       "      <td> 0</td>\n",
       "      <td> 0</td>\n",
       "      <td> 1</td>\n",
       "      <td> 0</td>\n",
       "      <td> 0</td>\n",
       "      <td>...</td>\n",
       "    </tr>\n",
       "    <tr>\n",
       "      <th>3</th>\n",
       "      <td> chr1</td>\n",
       "      <td> 16992</td>\n",
       "      <td> 16993</td>\n",
       "      <td> 0</td>\n",
       "      <td> 0</td>\n",
       "      <td> 0</td>\n",
       "      <td> 0</td>\n",
       "      <td> 0</td>\n",
       "      <td> 0</td>\n",
       "      <td> 0</td>\n",
       "      <td> 0</td>\n",
       "      <td> 0</td>\n",
       "      <td> 0</td>\n",
       "      <td> 0</td>\n",
       "      <td> 0</td>\n",
       "      <td> 0</td>\n",
       "      <td> 0</td>\n",
       "      <td> 0</td>\n",
       "      <td> 0</td>\n",
       "      <td> 0</td>\n",
       "      <td>...</td>\n",
       "    </tr>\n",
       "    <tr>\n",
       "      <th>4</th>\n",
       "      <td> chr1</td>\n",
       "      <td> 17593</td>\n",
       "      <td> 17594</td>\n",
       "      <td> 0</td>\n",
       "      <td> 0</td>\n",
       "      <td> 0</td>\n",
       "      <td> 0</td>\n",
       "      <td> 0</td>\n",
       "      <td> 0</td>\n",
       "      <td> 0</td>\n",
       "      <td> 0</td>\n",
       "      <td> 0</td>\n",
       "      <td> 0</td>\n",
       "      <td> 0</td>\n",
       "      <td> 0</td>\n",
       "      <td> 0</td>\n",
       "      <td> 0</td>\n",
       "      <td> 1</td>\n",
       "      <td> 0</td>\n",
       "      <td> 0</td>\n",
       "      <td>...</td>\n",
       "    </tr>\n",
       "  </tbody>\n",
       "</table>\n",
       "<p>5 rows × 137 columns</p>\n",
       "</div>"
      ],
      "text/plain": [
       "  CHROM    POS    END  X2399010  X2642563  X2642565  X2673220  X2673230  \\\n",
       "0  chr1  10582  10583         0         0         0         0         0   \n",
       "1  chr1  14110  14111         0         0         0         0         0   \n",
       "2  chr1  16205  16206         0         0         0         0         0   \n",
       "3  chr1  16992  16993         0         0         0         0         0   \n",
       "4  chr1  17593  17594         0         0         0         0         0   \n",
       "\n",
       "   X2701045  X2701049  X2811106  X2811111  X2811113  X2811116  X2811397  \\\n",
       "0         0         0         0         0         0         0         0   \n",
       "1         0         0         0         0         0         0         0   \n",
       "2         0         0         0         0         0         0         0   \n",
       "3         0         0         0         0         0         0         0   \n",
       "4         0         0         0         0         0         0         0   \n",
       "\n",
       "   X2812914  X2813253  X2813265  X2813385  X2813460      \n",
       "0         0         0         1         0         0 ...  \n",
       "1         0         0         0         0         0 ...  \n",
       "2         0         0         1         0         0 ...  \n",
       "3         0         0         0         0         0 ...  \n",
       "4         0         0         1         0         0 ...  \n",
       "\n",
       "[5 rows x 137 columns]"
      ]
     },
     "execution_count": 67,
     "metadata": {},
     "output_type": "execute_result"
    }
   ],
   "source": [
    "SNVCalls_PCSI0048.head()"
   ]
  },
  {
   "cell_type": "code",
   "execution_count": 68,
   "metadata": {
    "collapsed": false
   },
   "outputs": [
    {
     "data": {
      "text/plain": [
       "array(['ACA', 'ACC', 'ACG', 'ACN', 'ACT', 'ATA', 'ATC', 'ATG', 'ATT',\n",
       "       'CCA', 'CCC', 'CCG', 'CCT', 'CTA', 'CTC', 'CTG', 'CTT', 'GCA',\n",
       "       'GCC', 'GCG', 'GCT', 'GTA', 'GTC', 'GTG', 'GTT', 'TCA', 'TCC',\n",
       "       'TCG', 'TCN', 'TCT', 'TTA', 'TTC', 'TTG', 'TTT'], \n",
       "      dtype='|S3')"
      ]
     },
     "execution_count": 68,
     "metadata": {},
     "output_type": "execute_result"
    }
   ],
   "source": [
    "np.unique(GenomicFeatures_PCSI0048['Trinucleotide'])"
   ]
  },
  {
   "cell_type": "code",
   "execution_count": 69,
   "metadata": {
    "collapsed": true
   },
   "outputs": [],
   "source": [
    "PCSI0048 = pd.merge(GenomicFeatures_PCSI0048, SNVCalls_PCSI0048,left_on=['CHROM', 'POS'], right_on=['CHROM','END'])\n"
   ]
  },
  {
   "cell_type": "code",
   "execution_count": 70,
   "metadata": {
    "collapsed": false
   },
   "outputs": [
    {
     "data": {
      "text/html": [
       "<div style=\"max-height:1000px;max-width:1500px;overflow:auto;\">\n",
       "<table border=\"1\" class=\"dataframe\">\n",
       "  <thead>\n",
       "    <tr style=\"text-align: right;\">\n",
       "      <th></th>\n",
       "      <th>CHROM</th>\n",
       "      <th>POS_x</th>\n",
       "      <th>RefAllele</th>\n",
       "      <th>NonRefAllele</th>\n",
       "      <th>BaseQual</th>\n",
       "      <th>TumourCoverage</th>\n",
       "      <th>NormalCoverage</th>\n",
       "      <th>MapQual</th>\n",
       "      <th>ReadPosition</th>\n",
       "      <th>Trinucleotide</th>\n",
       "      <th>HomopolymerRate</th>\n",
       "      <th>GCcontent</th>\n",
       "      <th>GenomicLocation</th>\n",
       "      <th>DistanceSNP</th>\n",
       "      <th>StrandBias</th>\n",
       "      <th>POS_y</th>\n",
       "      <th>END</th>\n",
       "      <th>X2399010</th>\n",
       "      <th>X2642563</th>\n",
       "      <th>X2642565</th>\n",
       "      <th></th>\n",
       "    </tr>\n",
       "  </thead>\n",
       "  <tbody>\n",
       "    <tr>\n",
       "      <th>0</th>\n",
       "      <td> chr1</td>\n",
       "      <td> 10583</td>\n",
       "      <td>  47</td>\n",
       "      <td>  9</td>\n",
       "      <td> 1519</td>\n",
       "      <td>  64</td>\n",
       "      <td>  69</td>\n",
       "      <td> 29</td>\n",
       "      <td> 74</td>\n",
       "      <td> GCA</td>\n",
       "      <td> 2.026144</td>\n",
       "      <td> 0.716418</td>\n",
       "      <td>            NaN</td>\n",
       "      <td> 50859</td>\n",
       "      <td> 0.281250</td>\n",
       "      <td> 10582</td>\n",
       "      <td> 10583</td>\n",
       "      <td> 0</td>\n",
       "      <td> 0</td>\n",
       "      <td> 0</td>\n",
       "      <td>...</td>\n",
       "    </tr>\n",
       "    <tr>\n",
       "      <th>1</th>\n",
       "      <td> chr1</td>\n",
       "      <td> 14111</td>\n",
       "      <td> 117</td>\n",
       "      <td>  9</td>\n",
       "      <td> 3971</td>\n",
       "      <td> 139</td>\n",
       "      <td> 119</td>\n",
       "      <td>  0</td>\n",
       "      <td> 48</td>\n",
       "      <td> CTT</td>\n",
       "      <td> 2.748201</td>\n",
       "      <td> 0.512438</td>\n",
       "      <td>     downstream</td>\n",
       "      <td> 47331</td>\n",
       "      <td> 0.482014</td>\n",
       "      <td> 14110</td>\n",
       "      <td> 14111</td>\n",
       "      <td> 0</td>\n",
       "      <td> 0</td>\n",
       "      <td> 0</td>\n",
       "      <td>...</td>\n",
       "    </tr>\n",
       "    <tr>\n",
       "      <th>2</th>\n",
       "      <td> chr1</td>\n",
       "      <td> 16206</td>\n",
       "      <td> 124</td>\n",
       "      <td> 21</td>\n",
       "      <td> 4497</td>\n",
       "      <td> 155</td>\n",
       "      <td> 145</td>\n",
       "      <td> 16</td>\n",
       "      <td> 44</td>\n",
       "      <td> CTG</td>\n",
       "      <td> 2.101911</td>\n",
       "      <td> 0.597015</td>\n",
       "      <td> ncRNA_intronic</td>\n",
       "      <td> 45236</td>\n",
       "      <td> 0.812903</td>\n",
       "      <td> 16205</td>\n",
       "      <td> 16206</td>\n",
       "      <td> 0</td>\n",
       "      <td> 0</td>\n",
       "      <td> 0</td>\n",
       "      <td>...</td>\n",
       "    </tr>\n",
       "    <tr>\n",
       "      <th>3</th>\n",
       "      <td> chr1</td>\n",
       "      <td> 16993</td>\n",
       "      <td> 122</td>\n",
       "      <td> 16</td>\n",
       "      <td> 4151</td>\n",
       "      <td> 144</td>\n",
       "      <td> 151</td>\n",
       "      <td>  0</td>\n",
       "      <td> 44</td>\n",
       "      <td> CCT</td>\n",
       "      <td> 2.406897</td>\n",
       "      <td> 0.592040</td>\n",
       "      <td>   ncRNA_exonic</td>\n",
       "      <td> 44449</td>\n",
       "      <td> 0.736111</td>\n",
       "      <td> 16992</td>\n",
       "      <td> 16993</td>\n",
       "      <td> 0</td>\n",
       "      <td> 0</td>\n",
       "      <td> 0</td>\n",
       "      <td>...</td>\n",
       "    </tr>\n",
       "    <tr>\n",
       "      <th>4</th>\n",
       "      <td> chr1</td>\n",
       "      <td> 17594</td>\n",
       "      <td> 116</td>\n",
       "      <td> 26</td>\n",
       "      <td> 4419</td>\n",
       "      <td> 146</td>\n",
       "      <td> 178</td>\n",
       "      <td>  0</td>\n",
       "      <td> 50</td>\n",
       "      <td> CCT</td>\n",
       "      <td> 2.605634</td>\n",
       "      <td> 0.631841</td>\n",
       "      <td> ncRNA_intronic</td>\n",
       "      <td> 43848</td>\n",
       "      <td> 0.472603</td>\n",
       "      <td> 17593</td>\n",
       "      <td> 17594</td>\n",
       "      <td> 0</td>\n",
       "      <td> 0</td>\n",
       "      <td> 0</td>\n",
       "      <td>...</td>\n",
       "    </tr>\n",
       "  </tbody>\n",
       "</table>\n",
       "<p>5 rows × 151 columns</p>\n",
       "</div>"
      ],
      "text/plain": [
       "  CHROM  POS_x  RefAllele  NonRefAllele  BaseQual  TumourCoverage  \\\n",
       "0  chr1  10583         47             9      1519              64   \n",
       "1  chr1  14111        117             9      3971             139   \n",
       "2  chr1  16206        124            21      4497             155   \n",
       "3  chr1  16993        122            16      4151             144   \n",
       "4  chr1  17594        116            26      4419             146   \n",
       "\n",
       "   NormalCoverage  MapQual  ReadPosition Trinucleotide  HomopolymerRate  \\\n",
       "0              69       29            74           GCA         2.026144   \n",
       "1             119        0            48           CTT         2.748201   \n",
       "2             145       16            44           CTG         2.101911   \n",
       "3             151        0            44           CCT         2.406897   \n",
       "4             178        0            50           CCT         2.605634   \n",
       "\n",
       "   GCcontent GenomicLocation  DistanceSNP  StrandBias  POS_y    END  X2399010  \\\n",
       "0   0.716418             NaN        50859    0.281250  10582  10583         0   \n",
       "1   0.512438      downstream        47331    0.482014  14110  14111         0   \n",
       "2   0.597015  ncRNA_intronic        45236    0.812903  16205  16206         0   \n",
       "3   0.592040    ncRNA_exonic        44449    0.736111  16992  16993         0   \n",
       "4   0.631841  ncRNA_intronic        43848    0.472603  17593  17594         0   \n",
       "\n",
       "   X2642563  X2642565      \n",
       "0         0         0 ...  \n",
       "1         0         0 ...  \n",
       "2         0         0 ...  \n",
       "3         0         0 ...  \n",
       "4         0         0 ...  \n",
       "\n",
       "[5 rows x 151 columns]"
      ]
     },
     "execution_count": 70,
     "metadata": {},
     "output_type": "execute_result"
    }
   ],
   "source": [
    "PCSI0048.head() #182+15"
   ]
  },
  {
   "cell_type": "code",
   "execution_count": 71,
   "metadata": {
    "collapsed": true
   },
   "outputs": [],
   "source": [
    "PCSI0048_X = PCSI0048.iloc[:,2:15] #Exclude CHROM, POS\n",
    "PCSI0048_Y = PCSI0048.iloc[:,17:]  #Exclude CHROM_y, POS_y, END"
   ]
  },
  {
   "cell_type": "code",
   "execution_count": 72,
   "metadata": {
    "collapsed": false
   },
   "outputs": [
    {
     "name": "stdout",
     "output_type": "stream",
     "text": [
      "(125625, 13)\n",
      "(125625, 134)\n"
     ]
    }
   ],
   "source": [
    "print PCSI0048_X.shape\n",
    "print PCSI0048_Y.shape"
   ]
  },
  {
   "cell_type": "code",
   "execution_count": 73,
   "metadata": {
    "collapsed": false
   },
   "outputs": [
    {
     "data": {
      "text/html": [
       "<div style=\"max-height:1000px;max-width:1500px;overflow:auto;\">\n",
       "<table border=\"1\" class=\"dataframe\">\n",
       "  <thead>\n",
       "    <tr style=\"text-align: right;\">\n",
       "      <th></th>\n",
       "      <th>RefAllele</th>\n",
       "      <th>NonRefAllele</th>\n",
       "      <th>BaseQual</th>\n",
       "      <th>TumourCoverage</th>\n",
       "      <th>NormalCoverage</th>\n",
       "      <th>MapQual</th>\n",
       "      <th>ReadPosition</th>\n",
       "      <th>Trinucleotide</th>\n",
       "      <th>HomopolymerRate</th>\n",
       "      <th>GCcontent</th>\n",
       "      <th>GenomicLocation</th>\n",
       "      <th>DistanceSNP</th>\n",
       "      <th>StrandBias</th>\n",
       "    </tr>\n",
       "  </thead>\n",
       "  <tbody>\n",
       "    <tr>\n",
       "      <th>0</th>\n",
       "      <td>  47</td>\n",
       "      <td> 9</td>\n",
       "      <td> 1519</td>\n",
       "      <td>  64</td>\n",
       "      <td>  69</td>\n",
       "      <td> 29</td>\n",
       "      <td> 74</td>\n",
       "      <td> GCA</td>\n",
       "      <td> 2.026144</td>\n",
       "      <td> 0.716418</td>\n",
       "      <td>        NaN</td>\n",
       "      <td> 50859</td>\n",
       "      <td> 0.281250</td>\n",
       "    </tr>\n",
       "    <tr>\n",
       "      <th>1</th>\n",
       "      <td> 117</td>\n",
       "      <td> 9</td>\n",
       "      <td> 3971</td>\n",
       "      <td> 139</td>\n",
       "      <td> 119</td>\n",
       "      <td>  0</td>\n",
       "      <td> 48</td>\n",
       "      <td> CTT</td>\n",
       "      <td> 2.748201</td>\n",
       "      <td> 0.512438</td>\n",
       "      <td> downstream</td>\n",
       "      <td> 47331</td>\n",
       "      <td> 0.482014</td>\n",
       "    </tr>\n",
       "  </tbody>\n",
       "</table>\n",
       "<p>2 rows × 13 columns</p>\n",
       "</div>"
      ],
      "text/plain": [
       "   RefAllele  NonRefAllele  BaseQual  TumourCoverage  NormalCoverage  MapQual  \\\n",
       "0         47             9      1519              64              69       29   \n",
       "1        117             9      3971             139             119        0   \n",
       "\n",
       "   ReadPosition Trinucleotide  HomopolymerRate  GCcontent GenomicLocation  \\\n",
       "0            74           GCA         2.026144   0.716418             NaN   \n",
       "1            48           CTT         2.748201   0.512438      downstream   \n",
       "\n",
       "   DistanceSNP  StrandBias  \n",
       "0        50859    0.281250  \n",
       "1        47331    0.482014  \n",
       "\n",
       "[2 rows x 13 columns]"
      ]
     },
     "execution_count": 73,
     "metadata": {},
     "output_type": "execute_result"
    }
   ],
   "source": [
    "PCSI0048_X[:2]"
   ]
  },
  {
   "cell_type": "code",
   "execution_count": 74,
   "metadata": {
    "collapsed": false
   },
   "outputs": [
    {
     "data": {
      "text/html": [
       "<div style=\"max-height:1000px;max-width:1500px;overflow:auto;\">\n",
       "<table border=\"1\" class=\"dataframe\">\n",
       "  <thead>\n",
       "    <tr style=\"text-align: right;\">\n",
       "      <th></th>\n",
       "      <th>X2399010</th>\n",
       "      <th>X2642563</th>\n",
       "      <th>X2642565</th>\n",
       "      <th>X2673220</th>\n",
       "      <th>X2673230</th>\n",
       "      <th>X2701045</th>\n",
       "      <th>X2701049</th>\n",
       "      <th>X2811106</th>\n",
       "      <th>X2811111</th>\n",
       "      <th>X2811113</th>\n",
       "      <th>X2811116</th>\n",
       "      <th>X2811397</th>\n",
       "      <th>X2812914</th>\n",
       "      <th>X2813253</th>\n",
       "      <th>X2813265</th>\n",
       "      <th>X2813385</th>\n",
       "      <th>X2813460</th>\n",
       "      <th>X2813755</th>\n",
       "      <th>X2813758</th>\n",
       "      <th>X2813762</th>\n",
       "      <th></th>\n",
       "    </tr>\n",
       "  </thead>\n",
       "  <tbody>\n",
       "    <tr>\n",
       "      <th>0</th>\n",
       "      <td> 0</td>\n",
       "      <td> 0</td>\n",
       "      <td> 0</td>\n",
       "      <td> 0</td>\n",
       "      <td> 0</td>\n",
       "      <td> 0</td>\n",
       "      <td> 0</td>\n",
       "      <td> 0</td>\n",
       "      <td> 0</td>\n",
       "      <td> 0</td>\n",
       "      <td> 0</td>\n",
       "      <td> 0</td>\n",
       "      <td> 0</td>\n",
       "      <td> 0</td>\n",
       "      <td> 1</td>\n",
       "      <td> 0</td>\n",
       "      <td> 0</td>\n",
       "      <td> 0</td>\n",
       "      <td> 0</td>\n",
       "      <td> 0</td>\n",
       "      <td>...</td>\n",
       "    </tr>\n",
       "    <tr>\n",
       "      <th>1</th>\n",
       "      <td> 0</td>\n",
       "      <td> 0</td>\n",
       "      <td> 0</td>\n",
       "      <td> 0</td>\n",
       "      <td> 0</td>\n",
       "      <td> 0</td>\n",
       "      <td> 0</td>\n",
       "      <td> 0</td>\n",
       "      <td> 0</td>\n",
       "      <td> 0</td>\n",
       "      <td> 0</td>\n",
       "      <td> 0</td>\n",
       "      <td> 0</td>\n",
       "      <td> 0</td>\n",
       "      <td> 0</td>\n",
       "      <td> 0</td>\n",
       "      <td> 0</td>\n",
       "      <td> 0</td>\n",
       "      <td> 0</td>\n",
       "      <td> 0</td>\n",
       "      <td>...</td>\n",
       "    </tr>\n",
       "  </tbody>\n",
       "</table>\n",
       "<p>2 rows × 134 columns</p>\n",
       "</div>"
      ],
      "text/plain": [
       "   X2399010  X2642563  X2642565  X2673220  X2673230  X2701045  X2701049  \\\n",
       "0         0         0         0         0         0         0         0   \n",
       "1         0         0         0         0         0         0         0   \n",
       "\n",
       "   X2811106  X2811111  X2811113  X2811116  X2811397  X2812914  X2813253  \\\n",
       "0         0         0         0         0         0         0         0   \n",
       "1         0         0         0         0         0         0         0   \n",
       "\n",
       "   X2813265  X2813385  X2813460  X2813755  X2813758  X2813762      \n",
       "0         1         0         0         0         0         0 ...  \n",
       "1         0         0         0         0         0         0 ...  \n",
       "\n",
       "[2 rows x 134 columns]"
      ]
     },
     "execution_count": 74,
     "metadata": {},
     "output_type": "execute_result"
    }
   ],
   "source": [
    "PCSI0048_Y[:2]"
   ]
  },
  {
   "cell_type": "code",
   "execution_count": 75,
   "metadata": {
    "collapsed": false
   },
   "outputs": [
    {
     "name": "stdout",
     "output_type": "stream",
     "text": [
      "125625\n",
      "(125625, 1)\n"
     ]
    }
   ],
   "source": [
    "totalSample = PCSI0048_Y.shape[0]\n",
    "PCSI0048_Y_Val = np.zeros((totalSample,1)) #Will be our label now\n",
    "\n",
    "print totalSample\n",
    "print PCSI0048_Y_Val.shape"
   ]
  },
  {
   "cell_type": "code",
   "execution_count": 76,
   "metadata": {
    "collapsed": false
   },
   "outputs": [
    {
     "data": {
      "text/plain": [
       "(125625, 134)"
      ]
     },
     "execution_count": 76,
     "metadata": {},
     "output_type": "execute_result"
    }
   ],
   "source": [
    "PCSI0048_Y.shape"
   ]
  },
  {
   "cell_type": "code",
   "execution_count": 77,
   "metadata": {
    "collapsed": false
   },
   "outputs": [
    {
     "data": {
      "text/plain": [
       "(134,)"
      ]
     },
     "execution_count": 77,
     "metadata": {},
     "output_type": "execute_result"
    }
   ],
   "source": [
    "PCSI0048_Y.values[0].shape"
   ]
  },
  {
   "cell_type": "code",
   "execution_count": 78,
   "metadata": {
    "collapsed": true
   },
   "outputs": [],
   "source": [
    "for i in range(totalSample):\n",
    "    PCSI0048_Y_Val[i] = np.argmax(np.bincount(PCSI0048_Y.values[i]))"
   ]
  },
  {
   "cell_type": "code",
   "execution_count": 79,
   "metadata": {
    "collapsed": true
   },
   "outputs": [],
   "source": [
    "PCSI0048_Y_Val_1 = pd.DataFrame(PCSI0048_Y_Val)\n",
    "PCSI0048_Y_Val_1.columns = ['Label']"
   ]
  },
  {
   "cell_type": "code",
   "execution_count": 80,
   "metadata": {
    "collapsed": false
   },
   "outputs": [
    {
     "data": {
      "text/html": [
       "<div style=\"max-height:1000px;max-width:1500px;overflow:auto;\">\n",
       "<table border=\"1\" class=\"dataframe\">\n",
       "  <thead>\n",
       "    <tr style=\"text-align: right;\">\n",
       "      <th></th>\n",
       "      <th>Label</th>\n",
       "    </tr>\n",
       "  </thead>\n",
       "  <tbody>\n",
       "    <tr>\n",
       "      <th>0</th>\n",
       "      <td> 0</td>\n",
       "    </tr>\n",
       "    <tr>\n",
       "      <th>1</th>\n",
       "      <td> 0</td>\n",
       "    </tr>\n",
       "    <tr>\n",
       "      <th>2</th>\n",
       "      <td> 0</td>\n",
       "    </tr>\n",
       "  </tbody>\n",
       "</table>\n",
       "<p>3 rows × 1 columns</p>\n",
       "</div>"
      ],
      "text/plain": [
       "   Label\n",
       "0      0\n",
       "1      0\n",
       "2      0\n",
       "\n",
       "[3 rows x 1 columns]"
      ]
     },
     "execution_count": 80,
     "metadata": {},
     "output_type": "execute_result"
    }
   ],
   "source": [
    "PCSI0048_Y_Val_1[:3]"
   ]
  },
  {
   "cell_type": "code",
   "execution_count": 81,
   "metadata": {
    "collapsed": false
   },
   "outputs": [],
   "source": [
    "PCSI0048_dataframe = pd.concat([PCSI0048_X, PCSI0048_Y_Val_1],axis=1)"
   ]
  },
  {
   "cell_type": "code",
   "execution_count": 82,
   "metadata": {
    "collapsed": false
   },
   "outputs": [
    {
     "data": {
      "text/plain": [
       "(125625, 14)"
      ]
     },
     "execution_count": 82,
     "metadata": {},
     "output_type": "execute_result"
    }
   ],
   "source": [
    "PCSI0048_dataframe.shape"
   ]
  },
  {
   "cell_type": "code",
   "execution_count": 83,
   "metadata": {
    "collapsed": false
   },
   "outputs": [
    {
     "data": {
      "text/html": [
       "<div style=\"max-height:1000px;max-width:1500px;overflow:auto;\">\n",
       "<table border=\"1\" class=\"dataframe\">\n",
       "  <thead>\n",
       "    <tr style=\"text-align: right;\">\n",
       "      <th></th>\n",
       "      <th>RefAllele</th>\n",
       "      <th>NonRefAllele</th>\n",
       "      <th>BaseQual</th>\n",
       "      <th>TumourCoverage</th>\n",
       "      <th>NormalCoverage</th>\n",
       "      <th>MapQual</th>\n",
       "      <th>ReadPosition</th>\n",
       "      <th>Trinucleotide</th>\n",
       "      <th>HomopolymerRate</th>\n",
       "      <th>GCcontent</th>\n",
       "      <th>GenomicLocation</th>\n",
       "      <th>DistanceSNP</th>\n",
       "      <th>StrandBias</th>\n",
       "      <th>Label</th>\n",
       "    </tr>\n",
       "  </thead>\n",
       "  <tbody>\n",
       "    <tr>\n",
       "      <th>0</th>\n",
       "      <td>  47</td>\n",
       "      <td> 9</td>\n",
       "      <td> 1519</td>\n",
       "      <td>  64</td>\n",
       "      <td>  69</td>\n",
       "      <td> 29</td>\n",
       "      <td> 74</td>\n",
       "      <td> GCA</td>\n",
       "      <td> 2.026144</td>\n",
       "      <td> 0.716418</td>\n",
       "      <td>        NaN</td>\n",
       "      <td> 50859</td>\n",
       "      <td> 0.281250</td>\n",
       "      <td> 0</td>\n",
       "    </tr>\n",
       "    <tr>\n",
       "      <th>1</th>\n",
       "      <td> 117</td>\n",
       "      <td> 9</td>\n",
       "      <td> 3971</td>\n",
       "      <td> 139</td>\n",
       "      <td> 119</td>\n",
       "      <td>  0</td>\n",
       "      <td> 48</td>\n",
       "      <td> CTT</td>\n",
       "      <td> 2.748201</td>\n",
       "      <td> 0.512438</td>\n",
       "      <td> downstream</td>\n",
       "      <td> 47331</td>\n",
       "      <td> 0.482014</td>\n",
       "      <td> 0</td>\n",
       "    </tr>\n",
       "  </tbody>\n",
       "</table>\n",
       "<p>2 rows × 14 columns</p>\n",
       "</div>"
      ],
      "text/plain": [
       "   RefAllele  NonRefAllele  BaseQual  TumourCoverage  NormalCoverage  MapQual  \\\n",
       "0         47             9      1519              64              69       29   \n",
       "1        117             9      3971             139             119        0   \n",
       "\n",
       "   ReadPosition Trinucleotide  HomopolymerRate  GCcontent GenomicLocation  \\\n",
       "0            74           GCA         2.026144   0.716418             NaN   \n",
       "1            48           CTT         2.748201   0.512438      downstream   \n",
       "\n",
       "   DistanceSNP  StrandBias  Label  \n",
       "0        50859    0.281250      0  \n",
       "1        47331    0.482014      0  \n",
       "\n",
       "[2 rows x 14 columns]"
      ]
     },
     "execution_count": 83,
     "metadata": {},
     "output_type": "execute_result"
    }
   ],
   "source": [
    "PCSI0048_dataframe[:2]"
   ]
  },
  {
   "cell_type": "code",
   "execution_count": 84,
   "metadata": {
    "collapsed": true
   },
   "outputs": [],
   "source": [
    "PCSI0048_dataframe.to_csv('PCSI0048.csv')"
   ]
  },
  {
   "cell_type": "code",
   "execution_count": 85,
   "metadata": {
    "collapsed": true
   },
   "outputs": [],
   "source": [
    "#Now we have variable importance ...lets do analysis"
   ]
  },
  {
   "cell_type": "code",
   "execution_count": 31,
   "metadata": {
    "collapsed": false
   },
   "outputs": [],
   "source": [
    "%load_ext rpy2.ipython"
   ]
  },
  {
   "cell_type": "code",
   "execution_count": 32,
   "metadata": {
    "collapsed": false
   },
   "outputs": [
    {
     "data": {
      "text/plain": [
       "'data.frame':\t125625 obs. of  15 variables:\n",
       " $ X              : int  0 1 2 3 4 5 6 7 8 9 ...\n",
       " $ RefAllele      : int  47 117 124 122 116 172 97 18 30 63 ...\n",
       " $ NonRefAllele   : int  9 9 21 16 26 17 26 4 3 9 ...\n",
       " $ BaseQual       : int  1519 3971 4497 4151 4419 5884 3835 622 1079 1751 ...\n",
       " $ TumourCoverage : int  64 139 155 144 146 194 126 23 33 84 ...\n",
       " $ NormalCoverage : int  69 119 145 151 178 168 65 12 11 121 ...\n",
       " $ MapQual        : num  29 0 16 0 0 0 0 10 28 0 ...\n",
       " $ ReadPosition   : num  74 48 44 44 50 57 59 28 71 46 ...\n",
       " $ Trinucleotide  : Factor w/ 34 levels \"ACA\",\"ACC\",\"ACG\",..: 18 17 16 13 13 9 13 9 1 3 ...\n",
       " $ HomopolymerRate: num  2.03 2.75 2.1 2.41 2.61 ...\n",
       " $ GCcontent      : num  0.716 0.512 0.597 0.592 0.632 ...\n",
       " $ GenomicLocation: Factor w/ 16 levels \"\",\"downstream\",..: 1 2 8 7 8 8 5 1 5 2 ...\n",
       " $ DistanceSNP    : int  50859 47331 45236 44449 43848 41251 11452 3360 3677 17695 ...\n",
       " $ StrandBias     : num  0.281 0.482 0.813 0.736 0.473 ...\n",
       " $ Label          : num  0 0 0 0 0 0 0 0 0 0 ...\n"
      ]
     },
     "metadata": {},
     "output_type": "display_data"
    }
   ],
   "source": [
    "%%R\n",
    "# Read in the data\n",
    "PCSI0048Frame = read.csv(\"PCSI0048.csv\")\n",
    "str(PCSI0048Frame)"
   ]
  },
  {
   "cell_type": "code",
   "execution_count": 33,
   "metadata": {
    "collapsed": false
   },
   "outputs": [
    {
     "data": {
      "text/plain": [
       "[1] 0\n"
      ]
     },
     "metadata": {},
     "output_type": "display_data"
    }
   ],
   "source": [
    "%%R\n",
    "#sum(is.na(CPCG0183Frame$StrandBias))\n",
    "#sum(is.na(IS1Frame$ReadPosition)) \n",
    "sum(is.na(PCSI0048Frame)) "
   ]
  },
  {
   "cell_type": "code",
   "execution_count": 34,
   "metadata": {
    "collapsed": false
   },
   "outputs": [],
   "source": [
    "#%%R\n",
    "#CPCG0235Frame$ReadPosition[is.na(CPCG0235Frame$ReadPosition)] = mean(CPCG0235Frame$ReadPosition, na.rm=TRUE)\n",
    "#CPCG0235Frame$StrandBias[is.na(CPCG0235Frame$StrandBias)] = mean(CPCG0235Frame$StrandBias, na.rm=TRUE)\n",
    "\n",
    "#print (sum(is.na(CPCG0235Frame$ReadPosition)) )\n",
    "#print (sum(is.na(CPCG0235Frame$StrandBias)) )"
   ]
  },
  {
   "cell_type": "code",
   "execution_count": 35,
   "metadata": {
    "collapsed": false
   },
   "outputs": [
    {
     "data": {
      "text/plain": [
       "[1] 0\n"
      ]
     },
     "metadata": {},
     "output_type": "display_data"
    }
   ],
   "source": [
    "%%R\n",
    "sum(is.na(PCSI0048Frame))  #No NA value now"
   ]
  },
  {
   "cell_type": "code",
   "execution_count": 36,
   "metadata": {
    "collapsed": true
   },
   "outputs": [],
   "source": [
    "%%R\n",
    "write.csv(PCSI0048Frame, file = \"PCSI0048_imputed.csv\")  #Cleaned CSV without NA"
   ]
  },
  {
   "cell_type": "code",
   "execution_count": 37,
   "metadata": {
    "collapsed": false
   },
   "outputs": [
    {
     "name": "stderr",
     "output_type": "stream",
     "text": [
      "/usr/local/lib/python2.7/dist-packages/rpy2/robjects/functions.py:106: UserWarning: Loading required package: statmod\n",
      "\n",
      "  res = super(Function, self).__call__(*new_args, **new_kwargs)\n",
      "/usr/local/lib/python2.7/dist-packages/rpy2/robjects/functions.py:106: UserWarning: \n",
      "----------------------------------------------------------------------\n",
      "\n",
      "Your next step is to start H2O:\n",
      "    > h2o.init()\n",
      "\n",
      "For H2O package documentation, ask for help:\n",
      "    > ??h2o\n",
      "\n",
      "After starting H2O, you can use the Web UI at http://localhost:54321\n",
      "For more information visit http://docs.h2o.ai\n",
      "\n",
      "----------------------------------------------------------------------\n",
      "\n",
      "\n",
      "  res = super(Function, self).__call__(*new_args, **new_kwargs)\n",
      "/usr/local/lib/python2.7/dist-packages/rpy2/robjects/functions.py:106: UserWarning: \n",
      "Attaching package: ‘h2o’\n",
      "\n",
      "\n",
      "  res = super(Function, self).__call__(*new_args, **new_kwargs)\n",
      "/usr/local/lib/python2.7/dist-packages/rpy2/robjects/functions.py:106: UserWarning: The following objects are masked from ‘package:stats’:\n",
      "\n",
      "    sd, var\n",
      "\n",
      "\n",
      "  res = super(Function, self).__call__(*new_args, **new_kwargs)\n",
      "/usr/local/lib/python2.7/dist-packages/rpy2/robjects/functions.py:106: UserWarning: The following objects are masked from ‘package:base’:\n",
      "\n",
      "    ||, &&, %*%, apply, as.factor, as.numeric, colnames, colnames<-,\n",
      "    ifelse, %in%, is.character, is.factor, is.numeric, log, log10,\n",
      "    log1p, log2, round, signif, trunc\n",
      "\n",
      "\n",
      "  res = super(Function, self).__call__(*new_args, **new_kwargs)\n"
     ]
    },
    {
     "data": {
      "text/plain": [
       " Connection successful!\n",
       "\n",
       "R is connected to the H2O cluster: \n",
       "    H2O cluster uptime:         1 hours 24 minutes \n",
       "    H2O cluster version:        3.9.1.3435 \n",
       "    H2O cluster name:           H2O_started_from_R_rbhat_xqb196 \n",
       "    H2O cluster total nodes:    1 \n",
       "    H2O cluster total memory:   26.56 GB \n",
       "    H2O cluster total cores:    56 \n",
       "    H2O cluster allowed cores:  2 \n",
       "    H2O cluster healthy:        TRUE \n",
       "    H2O Connection ip:          localhost \n",
       "    H2O Connection port:        54321 \n",
       "    H2O Connection proxy:       NA \n",
       "    R Version:                  R version 3.3.0 beta (2016-03-30 r70404) \n",
       "\n"
      ]
     },
     "metadata": {},
     "output_type": "display_data"
    }
   ],
   "source": [
    "%%R\n",
    "library(h2o)\n",
    "localH2O = h2o.init(ip = \"localhost\", port = 54321, startH2O = TRUE,min_mem_size = \"3g\")"
   ]
  },
  {
   "cell_type": "code",
   "execution_count": 38,
   "metadata": {
    "collapsed": false
   },
   "outputs": [
    {
     "data": {
      "text/plain": [
       "\r",
       "  |                                                                            \r",
       "  |                                                                      |   0%\r",
       "  |                                                                            \r",
       "  |=====                                                                 |   7%\r",
       "  |                                                                            \r",
       "  |======================================================================| 100%\n",
       "'data.frame':\t125625 obs. of  16 variables:\n",
       " $ C1             : int  1 2 3 4 5 6 7 8 9 10 ...\n",
       " $ X              : int  0 1 2 3 4 5 6 7 8 9 ...\n",
       " $ RefAllele      : int  47 117 124 122 116 172 97 18 30 63 ...\n",
       " $ NonRefAllele   : int  9 9 21 16 26 17 26 4 3 9 ...\n",
       " $ BaseQual       : int  1519 3971 4497 4151 4419 5884 3835 622 1079 1751 ...\n",
       " $ TumourCoverage : int  64 139 155 144 146 194 126 23 33 84 ...\n",
       " $ NormalCoverage : int  69 119 145 151 178 168 65 12 11 121 ...\n",
       " $ MapQual        : num  29 0 16 0 0 0 0 10 28 0 ...\n",
       " $ ReadPosition   : num  74 48 44 44 50 57 59 28 71 46 ...\n",
       " $ Trinucleotide  : Factor w/ 34 levels \"ACA\",\"ACC\",\"ACG\",..: 18 17 16 13 13 9 13 9 1 3 ...\n",
       " $ HomopolymerRate: num  2.03 2.75 2.1 2.41 2.61 ...\n",
       " $ GCcontent      : num  0.716 0.512 0.597 0.592 0.632 ...\n",
       " $ GenomicLocation: Factor w/ 15 levels \"downstream\",\"exonic\",..: NA 1 7 6 7 7 4 NA 4 1 ...\n",
       " $ DistanceSNP    : int  50859 47331 45236 44449 43848 41251 11452 3360 3677 17695 ...\n",
       " $ StrandBias     : num  0.281 0.482 0.813 0.736 0.473 ...\n",
       " $ Label          : int  0 0 0 0 0 0 0 0 0 0 ...\n"
      ]
     },
     "metadata": {},
     "output_type": "display_data"
    }
   ],
   "source": [
    "%%R\n",
    "## Import CSV as H2O:\n",
    "csvPath = \"/home/rbhat/Workspace/S3Lab_Projects/SMC-MetaChallange/PCSI0048_imputed.csv\"\n",
    "PCSI0048.hex          = h2o.importFile(path = csvPath, destination_frame = \"PCSI0048.hex\") \n",
    "train                 = as.data.frame(PCSI0048.hex)\n",
    "\n",
    "str(train)"
   ]
  },
  {
   "cell_type": "code",
   "execution_count": 39,
   "metadata": {
    "collapsed": false
   },
   "outputs": [
    {
     "data": {
      "text/plain": [
       "\r",
       "  |                                                                            \r",
       "  |                                                                      |   0%\r",
       "  |                                                                            \r",
       "  |======================================================================| 100%\n"
      ]
     },
     "metadata": {},
     "output_type": "display_data"
    }
   ],
   "source": [
    "%%R\n",
    "\n",
    "train$Trinucleotide   = as.factor(train$Trinucleotide)\n",
    "train$GenomicLocation = as.factor(train$GenomicLocation)\n",
    "train$Label           = as.factor(train$Label)\n",
    "\n",
    "train_h2o             = as.h2o(train)"
   ]
  },
  {
   "cell_type": "code",
   "execution_count": 40,
   "metadata": {
    "collapsed": false
   },
   "outputs": [
    {
     "data": {
      "text/plain": [
       "\r",
       "  |                                                                            \r",
       "  |                                                                      |   0%\r",
       "  |                                                                            \r",
       "  |==                                                                    |   3%\r",
       "  |                                                                            \r",
       "  |======                                                                |   8%\r",
       "  |                                                                            \r",
       "  |=========                                                             |  14%\r",
       "  |                                                                            \r",
       "  |==============                                                        |  20%\r",
       "  |                                                                            \r",
       "  |==================                                                    |  26%\r",
       "  |                                                                            \r",
       "  |======================                                                |  31%\r",
       "  |                                                                            \r",
       "  |===========================                                           |  38%\r",
       "  |                                                                            \r",
       "  |==============================                                        |  43%\r",
       "  |                                                                            \r",
       "  |===================================                                   |  50%\r",
       "  |                                                                            \r",
       "  |=========================================                             |  58%\r",
       "  |                                                                            \r",
       "  |=============================================                         |  64%\r",
       "  |                                                                            \r",
       "  |=================================================                     |  70%\r",
       "  |                                                                            \r",
       "  |=====================================================                 |  76%\r",
       "  |                                                                            \r",
       "  |==========================================================            |  83%\r",
       "  |                                                                            \r",
       "  |===============================================================       |  89%\r",
       "  |                                                                            \r",
       "  |==================================================================    |  95%\r",
       "  |                                                                            \r",
       "  |======================================================================| 100%\n"
      ]
     },
     "metadata": {},
     "output_type": "display_data"
    }
   ],
   "source": [
    "%%R\n",
    "#Training a deep learning model:---------------------------------------------------------#\n",
    "model <- h2o.deeplearning( x = 3:15, # column numbers for predictors\n",
    "                           y = 16,            # column number for label\n",
    "                           training_frame = train_h2o,\n",
    "                           activation = \"RectifierWithDropout\", \n",
    "                           input_dropout_ratio = 0.2,\n",
    "                           hidden_dropout_ratios = c(0.5,0.5),\n",
    "                           balance_classes = TRUE, \n",
    "                           hidden = c(10,8),  ## two hidden layers\n",
    "                           epochs = 50,\n",
    "                           variable_importances = T)"
   ]
  },
  {
   "cell_type": "code",
   "execution_count": 41,
   "metadata": {
    "collapsed": false
   },
   "outputs": [
    {
     "data": {
      "text/plain": [
       "Variable Importances: \n",
       "        variable relative_importance scaled_importance percentage\n",
       "1   NonRefAllele            1.000000          1.000000   0.238021\n",
       "2 NormalCoverage            0.357612          0.357612   0.085119\n",
       "3       BaseQual            0.353273          0.353273   0.084086\n",
       "4 TumourCoverage            0.270955          0.270955   0.064493\n",
       "5      RefAllele            0.243528          0.243528   0.057965\n",
       "\n",
       "---\n",
       "                    variable relative_importance scaled_importance percentage\n",
       "57         Trinucleotide.GTA            0.009779          0.009779   0.002328\n",
       "58         Trinucleotide.GCA            0.009765          0.009765   0.002324\n",
       "59         Trinucleotide.TTT            0.009264          0.009264   0.002205\n",
       "60                StrandBias            0.005648          0.005648   0.001344\n",
       "61              ReadPosition            0.004933          0.004933   0.001174\n",
       "62 Trinucleotide.missing(NA)            0.000000          0.000000   0.000000\n"
      ]
     },
     "metadata": {},
     "output_type": "display_data"
    }
   ],
   "source": [
    "%%R\n",
    "var_importance = h2o.varimp(model)\n",
    "#print(var_importance)\n",
    "h2o.varimp(model)"
   ]
  },
  {
   "cell_type": "code",
   "execution_count": 42,
   "metadata": {
    "collapsed": true
   },
   "outputs": [],
   "source": [
    "%%R\n",
    "write.table(var_importance, file=\"PCSI0048_variable_importance.csv\")"
   ]
  },
  {
   "cell_type": "code",
   "execution_count": 43,
   "metadata": {
    "collapsed": true
   },
   "outputs": [],
   "source": [
    "var_importance = pd.read_csv(open('PCSI0048_variable_importance.csv','r'),sep=' ')\n",
    "#pd.read_csv('CPCG0100_variable_importance.csv')"
   ]
  },
  {
   "cell_type": "code",
   "execution_count": 44,
   "metadata": {
    "collapsed": false
   },
   "outputs": [
    {
     "data": {
      "text/html": [
       "<div style=\"max-height:1000px;max-width:1500px;overflow:auto;\">\n",
       "<table border=\"1\" class=\"dataframe\">\n",
       "  <thead>\n",
       "    <tr style=\"text-align: right;\">\n",
       "      <th></th>\n",
       "      <th>variable</th>\n",
       "      <th>relative_importance</th>\n",
       "      <th>scaled_importance</th>\n",
       "      <th>percentage</th>\n",
       "    </tr>\n",
       "  </thead>\n",
       "  <tbody>\n",
       "    <tr>\n",
       "      <th>1</th>\n",
       "      <td>   NonRefAllele</td>\n",
       "      <td> 1.000000</td>\n",
       "      <td> 1.000000</td>\n",
       "      <td> 0.238021</td>\n",
       "    </tr>\n",
       "    <tr>\n",
       "      <th>2</th>\n",
       "      <td> NormalCoverage</td>\n",
       "      <td> 0.357612</td>\n",
       "      <td> 0.357612</td>\n",
       "      <td> 0.085119</td>\n",
       "    </tr>\n",
       "    <tr>\n",
       "      <th>3</th>\n",
       "      <td>       BaseQual</td>\n",
       "      <td> 0.353273</td>\n",
       "      <td> 0.353273</td>\n",
       "      <td> 0.084086</td>\n",
       "    </tr>\n",
       "    <tr>\n",
       "      <th>4</th>\n",
       "      <td> TumourCoverage</td>\n",
       "      <td> 0.270955</td>\n",
       "      <td> 0.270955</td>\n",
       "      <td> 0.064493</td>\n",
       "    </tr>\n",
       "    <tr>\n",
       "      <th>5</th>\n",
       "      <td>      RefAllele</td>\n",
       "      <td> 0.243528</td>\n",
       "      <td> 0.243528</td>\n",
       "      <td> 0.057965</td>\n",
       "    </tr>\n",
       "  </tbody>\n",
       "</table>\n",
       "<p>5 rows × 4 columns</p>\n",
       "</div>"
      ],
      "text/plain": [
       "         variable  relative_importance  scaled_importance  percentage\n",
       "1    NonRefAllele             1.000000           1.000000    0.238021\n",
       "2  NormalCoverage             0.357612           0.357612    0.085119\n",
       "3        BaseQual             0.353273           0.353273    0.084086\n",
       "4  TumourCoverage             0.270955           0.270955    0.064493\n",
       "5       RefAllele             0.243528           0.243528    0.057965\n",
       "\n",
       "[5 rows x 4 columns]"
      ]
     },
     "execution_count": 44,
     "metadata": {},
     "output_type": "execute_result"
    }
   ],
   "source": [
    "var_importance[:5]"
   ]
  },
  {
   "cell_type": "code",
   "execution_count": 45,
   "metadata": {
    "collapsed": false
   },
   "outputs": [
    {
     "data": {
      "text/html": [
       "<div style=\"max-height:1000px;max-width:1500px;overflow:auto;\">\n",
       "<table border=\"1\" class=\"dataframe\">\n",
       "  <thead>\n",
       "    <tr style=\"text-align: right;\">\n",
       "      <th></th>\n",
       "      <th>CHROM</th>\n",
       "      <th>POS</th>\n",
       "      <th>RefAllele</th>\n",
       "      <th>NonRefAllele</th>\n",
       "      <th>BaseQual</th>\n",
       "      <th>TumourCoverage</th>\n",
       "      <th>NormalCoverage</th>\n",
       "      <th>MapQual</th>\n",
       "      <th>ReadPosition</th>\n",
       "      <th>Trinucleotide</th>\n",
       "      <th>HomopolymerRate</th>\n",
       "      <th>GCcontent</th>\n",
       "      <th>GenomicLocation</th>\n",
       "      <th>DistanceSNP</th>\n",
       "      <th>StrandBias</th>\n",
       "    </tr>\n",
       "  </thead>\n",
       "  <tbody>\n",
       "    <tr>\n",
       "      <th>0</th>\n",
       "      <td> chr1</td>\n",
       "      <td> 10583</td>\n",
       "      <td>  47</td>\n",
       "      <td>  9</td>\n",
       "      <td> 1519</td>\n",
       "      <td>  64</td>\n",
       "      <td>  69</td>\n",
       "      <td> 29</td>\n",
       "      <td> 74</td>\n",
       "      <td> GCA</td>\n",
       "      <td> 2.026144</td>\n",
       "      <td> 0.716418</td>\n",
       "      <td>            NaN</td>\n",
       "      <td> 50859</td>\n",
       "      <td> 0.281250</td>\n",
       "    </tr>\n",
       "    <tr>\n",
       "      <th>1</th>\n",
       "      <td> chr1</td>\n",
       "      <td> 14111</td>\n",
       "      <td> 117</td>\n",
       "      <td>  9</td>\n",
       "      <td> 3971</td>\n",
       "      <td> 139</td>\n",
       "      <td> 119</td>\n",
       "      <td>  0</td>\n",
       "      <td> 48</td>\n",
       "      <td> CTT</td>\n",
       "      <td> 2.748201</td>\n",
       "      <td> 0.512438</td>\n",
       "      <td>     downstream</td>\n",
       "      <td> 47331</td>\n",
       "      <td> 0.482014</td>\n",
       "    </tr>\n",
       "    <tr>\n",
       "      <th>2</th>\n",
       "      <td> chr1</td>\n",
       "      <td> 16206</td>\n",
       "      <td> 124</td>\n",
       "      <td> 21</td>\n",
       "      <td> 4497</td>\n",
       "      <td> 155</td>\n",
       "      <td> 145</td>\n",
       "      <td> 16</td>\n",
       "      <td> 44</td>\n",
       "      <td> CTG</td>\n",
       "      <td> 2.101911</td>\n",
       "      <td> 0.597015</td>\n",
       "      <td> ncRNA_intronic</td>\n",
       "      <td> 45236</td>\n",
       "      <td> 0.812903</td>\n",
       "    </tr>\n",
       "    <tr>\n",
       "      <th>3</th>\n",
       "      <td> chr1</td>\n",
       "      <td> 16993</td>\n",
       "      <td> 122</td>\n",
       "      <td> 16</td>\n",
       "      <td> 4151</td>\n",
       "      <td> 144</td>\n",
       "      <td> 151</td>\n",
       "      <td>  0</td>\n",
       "      <td> 44</td>\n",
       "      <td> CCT</td>\n",
       "      <td> 2.406897</td>\n",
       "      <td> 0.592040</td>\n",
       "      <td>   ncRNA_exonic</td>\n",
       "      <td> 44449</td>\n",
       "      <td> 0.736111</td>\n",
       "    </tr>\n",
       "    <tr>\n",
       "      <th>4</th>\n",
       "      <td> chr1</td>\n",
       "      <td> 17594</td>\n",
       "      <td> 116</td>\n",
       "      <td> 26</td>\n",
       "      <td> 4419</td>\n",
       "      <td> 146</td>\n",
       "      <td> 178</td>\n",
       "      <td>  0</td>\n",
       "      <td> 50</td>\n",
       "      <td> CCT</td>\n",
       "      <td> 2.605634</td>\n",
       "      <td> 0.631841</td>\n",
       "      <td> ncRNA_intronic</td>\n",
       "      <td> 43848</td>\n",
       "      <td> 0.472603</td>\n",
       "    </tr>\n",
       "  </tbody>\n",
       "</table>\n",
       "<p>5 rows × 15 columns</p>\n",
       "</div>"
      ],
      "text/plain": [
       "  CHROM    POS  RefAllele  NonRefAllele  BaseQual  TumourCoverage  \\\n",
       "0  chr1  10583         47             9      1519              64   \n",
       "1  chr1  14111        117             9      3971             139   \n",
       "2  chr1  16206        124            21      4497             155   \n",
       "3  chr1  16993        122            16      4151             144   \n",
       "4  chr1  17594        116            26      4419             146   \n",
       "\n",
       "   NormalCoverage  MapQual  ReadPosition Trinucleotide  HomopolymerRate  \\\n",
       "0              69       29            74           GCA         2.026144   \n",
       "1             119        0            48           CTT         2.748201   \n",
       "2             145       16            44           CTG         2.101911   \n",
       "3             151        0            44           CCT         2.406897   \n",
       "4             178        0            50           CCT         2.605634   \n",
       "\n",
       "   GCcontent GenomicLocation  DistanceSNP  StrandBias  \n",
       "0   0.716418             NaN        50859    0.281250  \n",
       "1   0.512438      downstream        47331    0.482014  \n",
       "2   0.597015  ncRNA_intronic        45236    0.812903  \n",
       "3   0.592040    ncRNA_exonic        44449    0.736111  \n",
       "4   0.631841  ncRNA_intronic        43848    0.472603  \n",
       "\n",
       "[5 rows x 15 columns]"
      ]
     },
     "execution_count": 45,
     "metadata": {},
     "output_type": "execute_result"
    }
   ],
   "source": [
    "GenomicFeatures_PCSI0048[:5]"
   ]
  },
  {
   "cell_type": "code",
   "execution_count": 46,
   "metadata": {
    "collapsed": false
   },
   "outputs": [
    {
     "data": {
      "text/plain": [
       "{'BaseQual': 0.35327306389808705,\n",
       " 'DistanceSNP': 0.11721476167440402,\n",
       " 'GCcontent': 0.012889640405774099,\n",
       " 'GenomicLocation.UTR3': 0.0271538197994232,\n",
       " 'GenomicLocation.UTR5': 0.050726816058158902,\n",
       " 'GenomicLocation.downstream': 0.030489305034279799,\n",
       " 'GenomicLocation.exonic': 0.0588451735675335,\n",
       " 'GenomicLocation.exonic;splicing': 0.0374986454844475,\n",
       " 'GenomicLocation.intergenic': 0.0108668636530638,\n",
       " 'GenomicLocation.intronic': 0.0099646290764212591,\n",
       " 'GenomicLocation.missing(NA)': 0.020019568502903002,\n",
       " 'GenomicLocation.ncRNA_UTR3': 0.053101282566785799,\n",
       " 'GenomicLocation.ncRNA_UTR5': 0.046021103858947802,\n",
       " 'GenomicLocation.ncRNA_exonic': 0.039995804429054302,\n",
       " 'GenomicLocation.ncRNA_intronic': 0.022748973220586801,\n",
       " 'GenomicLocation.ncRNA_splicing': 0.050066940486431101,\n",
       " 'GenomicLocation.splicing': 0.046210128813982003,\n",
       " 'GenomicLocation.upstream': 0.026415338739752801,\n",
       " 'GenomicLocation.upstream;downstream': 0.0347137115895748,\n",
       " 'HomopolymerRate': 0.162501156330109,\n",
       " 'MapQual': 0.121929571032524,\n",
       " 'NonRefAllele': 1.0,\n",
       " 'NormalCoverage': 0.357611894607544,\n",
       " 'ReadPosition': 0.0049326708540320396,\n",
       " 'RefAllele': 0.24352805316448201,\n",
       " 'StrandBias': 0.0056480527855455901,\n",
       " 'Trinucleotide.ACA': 0.0675362274050713,\n",
       " 'Trinucleotide.ACC': 0.0288479141891003,\n",
       " 'Trinucleotide.ACG': 0.035332784056663499,\n",
       " 'Trinucleotide.ACN': 0.070928081870079013,\n",
       " 'Trinucleotide.ACT': 0.0187410078942776,\n",
       " 'Trinucleotide.ATA': 0.058645930141210598,\n",
       " 'Trinucleotide.ATC': 0.0106752049177885,\n",
       " 'Trinucleotide.ATG': 0.014086577109992501,\n",
       " 'Trinucleotide.ATT': 0.0187880620360374,\n",
       " 'Trinucleotide.CCA': 0.0277047902345657,\n",
       " 'Trinucleotide.CCC': 0.028834354132413899,\n",
       " 'Trinucleotide.CCG': 0.031581979244947399,\n",
       " 'Trinucleotide.CCT': 0.034162703901529298,\n",
       " 'Trinucleotide.CTA': 0.0169089511036873,\n",
       " 'Trinucleotide.CTC': 0.023855119943618799,\n",
       " 'Trinucleotide.CTG': 0.017798380926251401,\n",
       " 'Trinucleotide.CTT': 0.016280425712466198,\n",
       " 'Trinucleotide.GCA': 0.0097653176635503804,\n",
       " 'Trinucleotide.GCC': 0.0452863909304142,\n",
       " 'Trinucleotide.GCG': 0.033676870167255402,\n",
       " 'Trinucleotide.GCT': 0.030887538567185398,\n",
       " 'Trinucleotide.GTA': 0.0097791347652673704,\n",
       " 'Trinucleotide.GTC': 0.0183580163866282,\n",
       " 'Trinucleotide.GTG': 0.070623382925987202,\n",
       " 'Trinucleotide.GTT': 0.019205795601010298,\n",
       " 'Trinucleotide.TCA': 0.012816772796213601,\n",
       " 'Trinucleotide.TCC': 0.018694264814257601,\n",
       " 'Trinucleotide.TCG': 0.016384357586503001,\n",
       " 'Trinucleotide.TCN': 0.062374223023653003,\n",
       " 'Trinucleotide.TCT': 0.048217825591564199,\n",
       " 'Trinucleotide.TTA': 0.020602261647582099,\n",
       " 'Trinucleotide.TTC': 0.0217822212725878,\n",
       " 'Trinucleotide.TTG': 0.017564354464411701,\n",
       " 'Trinucleotide.TTT': 0.0092642717063427006,\n",
       " 'Trinucleotide.missing(NA)': 0.0,\n",
       " 'TumourCoverage': 0.27095535397529602}"
      ]
     },
     "execution_count": 46,
     "metadata": {},
     "output_type": "execute_result"
    }
   ],
   "source": [
    "var_imp_dict = {}\n",
    "\n",
    "for i in range(var_importance.shape[0]):\n",
    "    var_imp_dict[var_importance.iloc[i,0]] = var_importance.iloc[i,1]\n",
    "\n",
    "var_imp_dict"
   ]
  },
  {
   "cell_type": "code",
   "execution_count": 47,
   "metadata": {
    "collapsed": false
   },
   "outputs": [
    {
     "data": {
      "text/plain": [
       "Index([u'CHROM', u'POS', u'RefAllele', u'NonRefAllele', u'BaseQual', u'TumourCoverage', u'NormalCoverage', u'MapQual', u'ReadPosition', u'Trinucleotide', u'HomopolymerRate', u'GCcontent', u'GenomicLocation', u'DistanceSNP', u'StrandBias'], dtype='object')"
      ]
     },
     "execution_count": 47,
     "metadata": {},
     "output_type": "execute_result"
    }
   ],
   "source": [
    "GenomicFeatures_PCSI0048.columns"
   ]
  },
  {
   "cell_type": "code",
   "execution_count": 48,
   "metadata": {
    "collapsed": false
   },
   "outputs": [
    {
     "data": {
      "text/plain": [
       "CHROM               object\n",
       "POS                  int64\n",
       "RefAllele            int64\n",
       "NonRefAllele         int64\n",
       "BaseQual             int64\n",
       "TumourCoverage       int64\n",
       "NormalCoverage       int64\n",
       "MapQual            float64\n",
       "ReadPosition       float64\n",
       "Trinucleotide       object\n",
       "HomopolymerRate    float64\n",
       "GCcontent          float64\n",
       "GenomicLocation     object\n",
       "DistanceSNP          int64\n",
       "StrandBias         float64\n",
       "dtype: object"
      ]
     },
     "execution_count": 48,
     "metadata": {},
     "output_type": "execute_result"
    }
   ],
   "source": [
    "GenomicFeatures_PCSI0048.dtypes"
   ]
  },
  {
   "cell_type": "code",
   "execution_count": 49,
   "metadata": {
    "collapsed": false
   },
   "outputs": [
    {
     "data": {
      "text/plain": [
       "50859"
      ]
     },
     "execution_count": 49,
     "metadata": {},
     "output_type": "execute_result"
    }
   ],
   "source": [
    "GenomicFeatures_PCSI0048.iloc[0,13]"
   ]
  },
  {
   "cell_type": "code",
   "execution_count": 50,
   "metadata": {
    "collapsed": false
   },
   "outputs": [
    {
     "data": {
      "text/html": [
       "<div style=\"max-height:1000px;max-width:1500px;overflow:auto;\">\n",
       "<table border=\"1\" class=\"dataframe\">\n",
       "  <thead>\n",
       "    <tr style=\"text-align: right;\">\n",
       "      <th></th>\n",
       "      <th>CHROM</th>\n",
       "      <th>POS</th>\n",
       "      <th>RefAllele</th>\n",
       "      <th>NonRefAllele</th>\n",
       "      <th>BaseQual</th>\n",
       "      <th>TumourCoverage</th>\n",
       "      <th>NormalCoverage</th>\n",
       "      <th>MapQual</th>\n",
       "      <th>ReadPosition</th>\n",
       "      <th>Trinucleotide</th>\n",
       "      <th>HomopolymerRate</th>\n",
       "      <th>GCcontent</th>\n",
       "      <th>GenomicLocation</th>\n",
       "      <th>DistanceSNP</th>\n",
       "      <th>StrandBias</th>\n",
       "    </tr>\n",
       "  </thead>\n",
       "  <tbody>\n",
       "    <tr>\n",
       "      <th>0</th>\n",
       "      <td> chr1</td>\n",
       "      <td> 10583</td>\n",
       "      <td>  47</td>\n",
       "      <td> 9</td>\n",
       "      <td> 1519</td>\n",
       "      <td>  64</td>\n",
       "      <td>  69</td>\n",
       "      <td> 29</td>\n",
       "      <td> 74</td>\n",
       "      <td> GCA</td>\n",
       "      <td> 2.026144</td>\n",
       "      <td> 0.716418</td>\n",
       "      <td>        NaN</td>\n",
       "      <td> 50859</td>\n",
       "      <td> 0.281250</td>\n",
       "    </tr>\n",
       "    <tr>\n",
       "      <th>1</th>\n",
       "      <td> chr1</td>\n",
       "      <td> 14111</td>\n",
       "      <td> 117</td>\n",
       "      <td> 9</td>\n",
       "      <td> 3971</td>\n",
       "      <td> 139</td>\n",
       "      <td> 119</td>\n",
       "      <td>  0</td>\n",
       "      <td> 48</td>\n",
       "      <td> CTT</td>\n",
       "      <td> 2.748201</td>\n",
       "      <td> 0.512438</td>\n",
       "      <td> downstream</td>\n",
       "      <td> 47331</td>\n",
       "      <td> 0.482014</td>\n",
       "    </tr>\n",
       "  </tbody>\n",
       "</table>\n",
       "<p>2 rows × 15 columns</p>\n",
       "</div>"
      ],
      "text/plain": [
       "  CHROM    POS  RefAllele  NonRefAllele  BaseQual  TumourCoverage  \\\n",
       "0  chr1  10583         47             9      1519              64   \n",
       "1  chr1  14111        117             9      3971             139   \n",
       "\n",
       "   NormalCoverage  MapQual  ReadPosition Trinucleotide  HomopolymerRate  \\\n",
       "0              69       29            74           GCA         2.026144   \n",
       "1             119        0            48           CTT         2.748201   \n",
       "\n",
       "   GCcontent GenomicLocation  DistanceSNP  StrandBias  \n",
       "0   0.716418             NaN        50859    0.281250  \n",
       "1   0.512438      downstream        47331    0.482014  \n",
       "\n",
       "[2 rows x 15 columns]"
      ]
     },
     "execution_count": 50,
     "metadata": {},
     "output_type": "execute_result"
    }
   ],
   "source": [
    "GenomicFeatures_PCSI0048[:2]\n",
    "#print GenomicFeatures_IS1.iloc[0,2]"
   ]
  },
  {
   "cell_type": "code",
   "execution_count": 51,
   "metadata": {
    "collapsed": false
   },
   "outputs": [],
   "source": [
    "noOfSample = GenomicFeatures_PCSI0048.shape[0]\n",
    "\n",
    "PCSI0048_Dict = {}\n",
    "\n",
    "for i in range(noOfSample):\n",
    "    \n",
    "    pos = GenomicFeatures_PCSI0048.iloc[i,1] #gets the pos value\n",
    "    \n",
    "    RefAllele      = GenomicFeatures_PCSI0048.iloc[i,2]*var_imp_dict['RefAllele']\n",
    "    NonRefAllele   = GenomicFeatures_PCSI0048.iloc[i,3]*var_imp_dict['NonRefAllele']\n",
    "    BaseQual       = GenomicFeatures_PCSI0048.iloc[i,4]*var_imp_dict['BaseQual']\n",
    "    TumourCoverage = GenomicFeatures_PCSI0048.iloc[i,5]*var_imp_dict['TumourCoverage']\n",
    "    NormalCoverage = GenomicFeatures_PCSI0048.iloc[i,6]*var_imp_dict['NormalCoverage']\n",
    "    MapQual        = GenomicFeatures_PCSI0048.iloc[i,7]*var_imp_dict['MapQual']\n",
    "    ReadPosition   = GenomicFeatures_PCSI0048.iloc[i,8]*var_imp_dict['ReadPosition']\n",
    "    \n",
    "    Trinucleotide  = 0\n",
    "    if isinstance(GenomicFeatures_PCSI0048.iloc[i,9], str):\n",
    "        Trinucleotide  = var_imp_dict['Trinucleotide.'+str(GenomicFeatures_PCSI0048.iloc[i,9])]\n",
    "    HomopolymerRate= GenomicFeatures_PCSI0048.iloc[i,10]*var_imp_dict['HomopolymerRate']\n",
    "    GCcontent      = GenomicFeatures_PCSI0048.iloc[i,11]*var_imp_dict['GCcontent']\n",
    "    \n",
    "    GenomicLocation = 0\n",
    "    if isinstance(GenomicFeatures_PCSI0048.iloc[i,12], str):\n",
    "        GenomicLocation= var_imp_dict['GenomicLocation.'+str(GenomicFeatures_PCSI0048.iloc[i,12])]\n",
    "    DistanceSNP    = GenomicFeatures_PCSI0048.iloc[i,13]*var_imp_dict['DistanceSNP']\n",
    "    StrandBias     = GenomicFeatures_PCSI0048.iloc[i,14]*var_imp_dict['StrandBias']\n",
    "    \n",
    "    #print 'RefAllele=',RefAllele,' NonRefAllele=',NonRefAllele,' BaseQual=',BaseQual,' TumourCoverage=',TumourCoverage\n",
    "    #print 'NormalCoverage=',NormalCoverage,' MapQual=',MapQual,' ReadPosition=',ReadPosition,' Trinucleotide=',Trinucleotide\n",
    "    #print 'HomopolymerRate=',HomopolymerRate,' GCcontent=',GCcontent,' GenomicLocation=',GenomicLocation,' Distance=',Distance\n",
    "    #print 'StrandBias=',StrandBias\n",
    "    PCSI0048_Dict[pos] = RefAllele+NonRefAllele+BaseQual+TumourCoverage+NormalCoverage+MapQual+ReadPosition+Trinucleotide+ \\\n",
    "                         HomopolymerRate+GCcontent+GenomicLocation+DistanceSNP+StrandBias"
   ]
  },
  {
   "cell_type": "code",
   "execution_count": 52,
   "metadata": {
    "collapsed": true
   },
   "outputs": [],
   "source": [
    "#Sorting dictionary\n",
    "PCSI0048_Dict1 = [(k,v) for v,k in sorted([(v,k) for k,v in PCSI0048_Dict.items()],reverse=True)]"
   ]
  },
  {
   "cell_type": "code",
   "execution_count": 53,
   "metadata": {
    "collapsed": true
   },
   "outputs": [],
   "source": [
    "PCSI0048_Dict_Frame = pd.DataFrame(PCSI0048_Dict1, columns=['POS', 'Value'])"
   ]
  },
  {
   "cell_type": "code",
   "execution_count": 54,
   "metadata": {
    "collapsed": true
   },
   "outputs": [],
   "source": [
    "PCSI0048_Dict_Frame.to_csv(\"PCSI0048_Dict_Frame.csv\")"
   ]
  },
  {
   "cell_type": "code",
   "execution_count": 86,
   "metadata": {
    "collapsed": true
   },
   "outputs": [],
   "source": [
    "PCSI0048_Dict_Frame = pd.read_csv(\"PCSI0048_Dict_Frame.csv\")"
   ]
  },
  {
   "cell_type": "code",
   "execution_count": 87,
   "metadata": {
    "collapsed": false
   },
   "outputs": [
    {
     "data": {
      "text/html": [
       "<div style=\"max-height:1000px;max-width:1500px;overflow:auto;\">\n",
       "<table border=\"1\" class=\"dataframe\">\n",
       "  <thead>\n",
       "    <tr style=\"text-align: right;\">\n",
       "      <th></th>\n",
       "      <th>Unnamed: 0</th>\n",
       "      <th>POS</th>\n",
       "      <th>Value</th>\n",
       "    </tr>\n",
       "  </thead>\n",
       "  <tbody>\n",
       "    <tr>\n",
       "      <th>0</th>\n",
       "      <td> 0</td>\n",
       "      <td> 58883954</td>\n",
       "      <td> 3590576.225037</td>\n",
       "    </tr>\n",
       "    <tr>\n",
       "      <th>1</th>\n",
       "      <td> 1</td>\n",
       "      <td> 58854810</td>\n",
       "      <td> 3582710.577241</td>\n",
       "    </tr>\n",
       "    <tr>\n",
       "      <th>2</th>\n",
       "      <td> 2</td>\n",
       "      <td> 59324554</td>\n",
       "      <td> 3579632.818998</td>\n",
       "    </tr>\n",
       "    <tr>\n",
       "      <th>3</th>\n",
       "      <td> 3</td>\n",
       "      <td> 58996968</td>\n",
       "      <td> 3565857.430643</td>\n",
       "    </tr>\n",
       "    <tr>\n",
       "      <th>4</th>\n",
       "      <td> 4</td>\n",
       "      <td> 58996552</td>\n",
       "      <td> 3552562.826076</td>\n",
       "    </tr>\n",
       "    <tr>\n",
       "      <th>5</th>\n",
       "      <td> 5</td>\n",
       "      <td> 58982222</td>\n",
       "      <td> 3550494.169402</td>\n",
       "    </tr>\n",
       "    <tr>\n",
       "      <th>6</th>\n",
       "      <td> 6</td>\n",
       "      <td> 58993986</td>\n",
       "      <td> 3549986.716409</td>\n",
       "    </tr>\n",
       "    <tr>\n",
       "      <th>7</th>\n",
       "      <td> 7</td>\n",
       "      <td> 58979561</td>\n",
       "      <td> 3549566.595554</td>\n",
       "    </tr>\n",
       "    <tr>\n",
       "      <th>8</th>\n",
       "      <td> 8</td>\n",
       "      <td> 58997341</td>\n",
       "      <td> 3548875.656092</td>\n",
       "    </tr>\n",
       "    <tr>\n",
       "      <th>9</th>\n",
       "      <td> 9</td>\n",
       "      <td> 58997320</td>\n",
       "      <td> 3548816.431994</td>\n",
       "    </tr>\n",
       "  </tbody>\n",
       "</table>\n",
       "<p>10 rows × 3 columns</p>\n",
       "</div>"
      ],
      "text/plain": [
       "   Unnamed: 0       POS           Value\n",
       "0           0  58883954  3590576.225037\n",
       "1           1  58854810  3582710.577241\n",
       "2           2  59324554  3579632.818998\n",
       "3           3  58996968  3565857.430643\n",
       "4           4  58996552  3552562.826076\n",
       "5           5  58982222  3550494.169402\n",
       "6           6  58993986  3549986.716409\n",
       "7           7  58979561  3549566.595554\n",
       "8           8  58997341  3548875.656092\n",
       "9           9  58997320  3548816.431994\n",
       "\n",
       "[10 rows x 3 columns]"
      ]
     },
     "execution_count": 87,
     "metadata": {},
     "output_type": "execute_result"
    }
   ],
   "source": [
    "PCSI0048_Dict_Frame[:10]"
   ]
  },
  {
   "cell_type": "code",
   "execution_count": 88,
   "metadata": {
    "collapsed": true
   },
   "outputs": [],
   "source": [
    "GenomicFeatures_PCSI0048_1 = pd.concat([PCSI0048.iloc[:,0:16], PCSI0048_Y_Val_1],axis=1)"
   ]
  },
  {
   "cell_type": "code",
   "execution_count": 89,
   "metadata": {
    "collapsed": false
   },
   "outputs": [
    {
     "name": "stdout",
     "output_type": "stream",
     "text": [
      "[58883954 58854810 59324554 58996968 58996552 58982222 58993986 58979561\n",
      " 58997341 58997320 58988536 59015360 58978645 59032171 58983185 58893768\n",
      " 59021207 59029604 59032176 58978359]\n"
     ]
    }
   ],
   "source": [
    "rows = PCSI0048_Dict_Frame['POS'][:20].values\n",
    "print rows\n",
    "GenomicFeatures_PCSI0048_Top20 = GenomicFeatures_PCSI0048_1.loc[GenomicFeatures_PCSI0048_1['POS_x'].isin(rows)]"
   ]
  },
  {
   "cell_type": "code",
   "execution_count": 91,
   "metadata": {
    "collapsed": false
   },
   "outputs": [
    {
     "data": {
      "text/html": [
       "<div style=\"max-height:1000px;max-width:1500px;overflow:auto;\">\n",
       "<table border=\"1\" class=\"dataframe\">\n",
       "  <thead>\n",
       "    <tr style=\"text-align: right;\">\n",
       "      <th></th>\n",
       "      <th>CHROM</th>\n",
       "      <th>POS_x</th>\n",
       "      <th>RefAllele</th>\n",
       "      <th>NonRefAllele</th>\n",
       "      <th>BaseQual</th>\n",
       "      <th>TumourCoverage</th>\n",
       "      <th>NormalCoverage</th>\n",
       "      <th>MapQual</th>\n",
       "      <th>ReadPosition</th>\n",
       "      <th>Trinucleotide</th>\n",
       "      <th>HomopolymerRate</th>\n",
       "      <th>GCcontent</th>\n",
       "      <th>GenomicLocation</th>\n",
       "      <th>DistanceSNP</th>\n",
       "      <th>StrandBias</th>\n",
       "      <th>POS_y</th>\n",
       "      <th>Label</th>\n",
       "    </tr>\n",
       "  </thead>\n",
       "  <tbody>\n",
       "    <tr>\n",
       "      <th>125449</th>\n",
       "      <td> chrY</td>\n",
       "      <td> 58854810</td>\n",
       "      <td> 4440</td>\n",
       "      <td> 565</td>\n",
       "      <td> 149153</td>\n",
       "      <td> 5023</td>\n",
       "      <td> 7881</td>\n",
       "      <td>  0</td>\n",
       "      <td> 47</td>\n",
       "      <td> ATT</td>\n",
       "      <td> 2.874074</td>\n",
       "      <td> 0.378109</td>\n",
       "      <td>        NaN</td>\n",
       "      <td> 30066115</td>\n",
       "      <td> 0.099741</td>\n",
       "      <td> 58854809</td>\n",
       "      <td> 0</td>\n",
       "    </tr>\n",
       "    <tr>\n",
       "      <th>125461</th>\n",
       "      <td> chrY</td>\n",
       "      <td> 58883954</td>\n",
       "      <td> 4526</td>\n",
       "      <td> 661</td>\n",
       "      <td> 160712</td>\n",
       "      <td> 5209</td>\n",
       "      <td> 8437</td>\n",
       "      <td>  0</td>\n",
       "      <td> 47</td>\n",
       "      <td> ATC</td>\n",
       "      <td> 2.206897</td>\n",
       "      <td> 0.368159</td>\n",
       "      <td>        NaN</td>\n",
       "      <td> 30095259</td>\n",
       "      <td> 0.236514</td>\n",
       "      <td> 58883953</td>\n",
       "      <td> 0</td>\n",
       "    </tr>\n",
       "    <tr>\n",
       "      <th>125467</th>\n",
       "      <td> chrY</td>\n",
       "      <td> 58893768</td>\n",
       "      <td> 1438</td>\n",
       "      <td> 213</td>\n",
       "      <td>  49342</td>\n",
       "      <td> 1666</td>\n",
       "      <td> 3013</td>\n",
       "      <td>  0</td>\n",
       "      <td> 48</td>\n",
       "      <td> GTA</td>\n",
       "      <td> 2.604478</td>\n",
       "      <td> 0.353234</td>\n",
       "      <td>        NaN</td>\n",
       "      <td> 30105073</td>\n",
       "      <td> 0.210084</td>\n",
       "      <td> 58893767</td>\n",
       "      <td> 0</td>\n",
       "    </tr>\n",
       "    <tr>\n",
       "      <th>125514</th>\n",
       "      <td> chrY</td>\n",
       "      <td> 58978359</td>\n",
       "      <td>  780</td>\n",
       "      <td>  76</td>\n",
       "      <td>  24224</td>\n",
       "      <td>  861</td>\n",
       "      <td>  995</td>\n",
       "      <td> 29</td>\n",
       "      <td> 35</td>\n",
       "      <td> TCG</td>\n",
       "      <td> 2.080000</td>\n",
       "      <td> 0.442786</td>\n",
       "      <td>        NaN</td>\n",
       "      <td> 30189664</td>\n",
       "      <td> 0.572590</td>\n",
       "      <td> 58978358</td>\n",
       "      <td> 0</td>\n",
       "    </tr>\n",
       "    <tr>\n",
       "      <th>125515</th>\n",
       "      <td> chrY</td>\n",
       "      <td> 58978645</td>\n",
       "      <td>  928</td>\n",
       "      <td>  17</td>\n",
       "      <td>  24895</td>\n",
       "      <td>  955</td>\n",
       "      <td> 1097</td>\n",
       "      <td> 29</td>\n",
       "      <td> 73</td>\n",
       "      <td> GTG</td>\n",
       "      <td> 2.401408</td>\n",
       "      <td> 0.492537</td>\n",
       "      <td>        NaN</td>\n",
       "      <td> 30189950</td>\n",
       "      <td> 0.468063</td>\n",
       "      <td> 58978644</td>\n",
       "      <td> 0</td>\n",
       "    </tr>\n",
       "    <tr>\n",
       "      <th>125518</th>\n",
       "      <td> chrY</td>\n",
       "      <td> 58979561</td>\n",
       "      <td>  846</td>\n",
       "      <td>  24</td>\n",
       "      <td>  28075</td>\n",
       "      <td>  870</td>\n",
       "      <td> 1016</td>\n",
       "      <td> 29</td>\n",
       "      <td> 56</td>\n",
       "      <td> TCA</td>\n",
       "      <td> 2.200000</td>\n",
       "      <td> 0.442786</td>\n",
       "      <td> intergenic</td>\n",
       "      <td> 30190866</td>\n",
       "      <td> 0.477011</td>\n",
       "      <td> 58979560</td>\n",
       "      <td> 0</td>\n",
       "    </tr>\n",
       "    <tr>\n",
       "      <th>125532</th>\n",
       "      <td> chrY</td>\n",
       "      <td> 58982222</td>\n",
       "      <td>  842</td>\n",
       "      <td> 114</td>\n",
       "      <td>  29463</td>\n",
       "      <td>  959</td>\n",
       "      <td> 1050</td>\n",
       "      <td> 29</td>\n",
       "      <td> 61</td>\n",
       "      <td> GCA</td>\n",
       "      <td> 2.270833</td>\n",
       "      <td> 0.482587</td>\n",
       "      <td>        NaN</td>\n",
       "      <td> 30193527</td>\n",
       "      <td> 0.453597</td>\n",
       "      <td> 58982221</td>\n",
       "      <td> 0</td>\n",
       "    </tr>\n",
       "    <tr>\n",
       "      <th>125534</th>\n",
       "      <td> chrY</td>\n",
       "      <td> 58983185</td>\n",
       "      <td>  659</td>\n",
       "      <td> 127</td>\n",
       "      <td>  23560</td>\n",
       "      <td>  804</td>\n",
       "      <td>  853</td>\n",
       "      <td> 29</td>\n",
       "      <td> 42</td>\n",
       "      <td> ACT</td>\n",
       "      <td> 2.052632</td>\n",
       "      <td> 0.487562</td>\n",
       "      <td>        NaN</td>\n",
       "      <td> 30194490</td>\n",
       "      <td> 0.366915</td>\n",
       "      <td> 58983184</td>\n",
       "      <td> 0</td>\n",
       "    </tr>\n",
       "    <tr>\n",
       "      <th>125540</th>\n",
       "      <td> chrY</td>\n",
       "      <td> 58988536</td>\n",
       "      <td>  591</td>\n",
       "      <td> 127</td>\n",
       "      <td>  22543</td>\n",
       "      <td>  811</td>\n",
       "      <td>  961</td>\n",
       "      <td> 57</td>\n",
       "      <td> 41</td>\n",
       "      <td> ACA</td>\n",
       "      <td> 1.690476</td>\n",
       "      <td> 0.502488</td>\n",
       "      <td>        NaN</td>\n",
       "      <td> 30199841</td>\n",
       "      <td> 0.564735</td>\n",
       "      <td> 58988535</td>\n",
       "      <td> 0</td>\n",
       "    </tr>\n",
       "    <tr>\n",
       "      <th>125546</th>\n",
       "      <td> chrY</td>\n",
       "      <td> 58993986</td>\n",
       "      <td>  547</td>\n",
       "      <td> 222</td>\n",
       "      <td>  24111</td>\n",
       "      <td>  870</td>\n",
       "      <td> 1029</td>\n",
       "      <td> 29</td>\n",
       "      <td> 38</td>\n",
       "      <td> TTA</td>\n",
       "      <td> 1.769697</td>\n",
       "      <td> 0.487562</td>\n",
       "      <td>        NaN</td>\n",
       "      <td> 30205291</td>\n",
       "      <td> 0.387356</td>\n",
       "      <td> 58993985</td>\n",
       "      <td> 0</td>\n",
       "    </tr>\n",
       "  </tbody>\n",
       "</table>\n",
       "<p>10 rows × 17 columns</p>\n",
       "</div>"
      ],
      "text/plain": [
       "       CHROM     POS_x  RefAllele  NonRefAllele  BaseQual  TumourCoverage  \\\n",
       "125449  chrY  58854810       4440           565    149153            5023   \n",
       "125461  chrY  58883954       4526           661    160712            5209   \n",
       "125467  chrY  58893768       1438           213     49342            1666   \n",
       "125514  chrY  58978359        780            76     24224             861   \n",
       "125515  chrY  58978645        928            17     24895             955   \n",
       "125518  chrY  58979561        846            24     28075             870   \n",
       "125532  chrY  58982222        842           114     29463             959   \n",
       "125534  chrY  58983185        659           127     23560             804   \n",
       "125540  chrY  58988536        591           127     22543             811   \n",
       "125546  chrY  58993986        547           222     24111             870   \n",
       "\n",
       "        NormalCoverage  MapQual  ReadPosition Trinucleotide  HomopolymerRate  \\\n",
       "125449            7881        0            47           ATT         2.874074   \n",
       "125461            8437        0            47           ATC         2.206897   \n",
       "125467            3013        0            48           GTA         2.604478   \n",
       "125514             995       29            35           TCG         2.080000   \n",
       "125515            1097       29            73           GTG         2.401408   \n",
       "125518            1016       29            56           TCA         2.200000   \n",
       "125532            1050       29            61           GCA         2.270833   \n",
       "125534             853       29            42           ACT         2.052632   \n",
       "125540             961       57            41           ACA         1.690476   \n",
       "125546            1029       29            38           TTA         1.769697   \n",
       "\n",
       "        GCcontent GenomicLocation  DistanceSNP  StrandBias     POS_y  Label  \n",
       "125449   0.378109             NaN     30066115    0.099741  58854809      0  \n",
       "125461   0.368159             NaN     30095259    0.236514  58883953      0  \n",
       "125467   0.353234             NaN     30105073    0.210084  58893767      0  \n",
       "125514   0.442786             NaN     30189664    0.572590  58978358      0  \n",
       "125515   0.492537             NaN     30189950    0.468063  58978644      0  \n",
       "125518   0.442786      intergenic     30190866    0.477011  58979560      0  \n",
       "125532   0.482587             NaN     30193527    0.453597  58982221      0  \n",
       "125534   0.487562             NaN     30194490    0.366915  58983184      0  \n",
       "125540   0.502488             NaN     30199841    0.564735  58988535      0  \n",
       "125546   0.487562             NaN     30205291    0.387356  58993985      0  \n",
       "\n",
       "[10 rows x 17 columns]"
      ]
     },
     "execution_count": 91,
     "metadata": {},
     "output_type": "execute_result"
    }
   ],
   "source": [
    "GenomicFeatures_PCSI0048_Top20[:10]"
   ]
  },
  {
   "cell_type": "code",
   "execution_count": 58,
   "metadata": {
    "collapsed": false
   },
   "outputs": [],
   "source": [
    "GenomicFeatures_PCSI0048_Top20.to_csv('GenomicFeatures_PCSI0048_Top20.csv')"
   ]
  },
  {
   "cell_type": "code",
   "execution_count": null,
   "metadata": {
    "collapsed": true
   },
   "outputs": [],
   "source": []
  },
  {
   "cell_type": "code",
   "execution_count": null,
   "metadata": {
    "collapsed": true
   },
   "outputs": [],
   "source": []
  }
 ],
 "metadata": {
  "kernelspec": {
   "display_name": "Python 2",
   "language": "python",
   "name": "python2"
  },
  "language_info": {
   "codemirror_mode": {
    "name": "ipython",
    "version": 2
   },
   "file_extension": ".py",
   "mimetype": "text/x-python",
   "name": "python",
   "nbconvert_exporter": "python",
   "pygments_lexer": "ipython2",
   "version": "2.7.6"
  }
 },
 "nbformat": 4,
 "nbformat_minor": 0
}
