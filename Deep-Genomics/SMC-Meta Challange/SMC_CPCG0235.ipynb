{
 "cells": [
  {
   "cell_type": "code",
   "execution_count": 1,
   "metadata": {
    "collapsed": false
   },
   "outputs": [
    {
     "name": "stderr",
     "output_type": "stream",
     "text": [
      "WARNING (theano.sandbox.cuda): CUDA is installed, but device gpu is not available  (error: Unable to get the number of gpus available: no CUDA-capable device is detected)\n",
      "WARNING:theano.sandbox.cuda:CUDA is installed, but device gpu is not available  (error: Unable to get the number of gpus available: no CUDA-capable device is detected)\n",
      "/usr/local/lib/python2.7/dist-packages/theano/tensor/signal/downsample.py:6: UserWarning: downsample module has been moved to the theano.tensor.signal.pool module.\n",
      "  \"downsample module has been moved to the theano.tensor.signal.pool module.\")\n",
      "Using Theano backend.\n"
     ]
    }
   ],
   "source": [
    "import numpy as np\n",
    "import pandas as pd\n",
    "from collections import Counter\n",
    "import math\n",
    "\n",
    "from sklearn.neighbors import KNeighborsClassifier\n",
    "from sklearn.linear_model import LogisticRegression\n",
    "from sklearn.ensemble import RandomForestClassifier\n",
    "from sklearn.cross_validation import cross_val_score\n",
    "from sklearn import metrics\n",
    "from sklearn.cross_validation import train_test_split\n",
    "from sklearn.metrics import confusion_matrix, roc_curve, auc\n",
    "from sklearn.grid_search import GridSearchCV\n",
    "from sklearn import svm\n",
    "from sklearn.decomposition import RandomizedPCA\n",
    "from sklearn.metrics import classification_report\n",
    "from sklearn import preprocessing\n",
    "import matplotlib.pyplot as plt\n",
    "import scipy.optimize as opt\n",
    "import glob\n",
    "import os\n",
    "import sys\n",
    "import pickle\n",
    "import time\n",
    "import timeit\n",
    "\n",
    "from sklearn.decomposition import RandomizedPCA\n",
    "\n",
    "import theano\n",
    "import theano.tensor as T\n",
    "import lasagne\n",
    "\n",
    "#np.random.seed(1337)  # for reproducibility\n",
    "from keras.datasets import mnist\n",
    "from keras.models import Sequential\n",
    "from keras.layers.core import Dense, Dropout, Activation, Flatten, Layer, Reshape, AutoEncoder, Merge\n",
    "from keras.layers.convolutional import Convolution2D,MaxPooling2D,Convolution1D,MaxPooling1D,UpSampling2D, ZeroPadding2D\n",
    "from keras.optimizers import SGD, Adam, RMSprop, Adadelta\n",
    "from keras.layers.normalization import BatchNormalization\n",
    "from keras.utils import np_utils\n",
    "import keras.utils.visualize_util as vutil\n",
    "from keras.layers.recurrent import LSTM, GRU, SimpleRNN\n",
    "from keras.regularizers import l1, l2, l1l2, activity_l2, activity_l1\n",
    "import keras.layers.containers as containers\n",
    "from keras.layers.noise import GaussianNoise\n",
    "from keras.regularizers import ActivityRegularizer\n",
    "from keras import backend as K\n",
    "import keras.utils.visualize_util as vutil\n",
    "from keras.models import model_from_json\n",
    "\n",
    "import seaborn as sns\n",
    "\n",
    "%matplotlib inline\n",
    "\n",
    "from IPython.display import SVG\n",
    "\n",
    "import h5py\n",
    "\n",
    "np.set_printoptions(suppress=True)  #Supress exponent of the number 2e-2 == 0.02\n",
    "\n",
    "%matplotlib inline"
   ]
  },
  {
   "cell_type": "code",
   "execution_count": 2,
   "metadata": {
    "collapsed": true
   },
   "outputs": [],
   "source": [
    "#CPCG0235"
   ]
  },
  {
   "cell_type": "code",
   "execution_count": 3,
   "metadata": {
    "collapsed": false
   },
   "outputs": [],
   "source": [
    "#Read the data\n",
    "\n",
    "GenomicFeatures_CPCG0235 = pd.read_csv(open('data/CPCG0235/GenomicFeatures_CPCG0235.txt','r'),sep='\\t')\n",
    "SNVCalls_CPCG0235    = pd.read_csv(open('data/CPCG0235/SNVCalls_CPCG0235.txt','r'),sep='\\t') "
   ]
  },
  {
   "cell_type": "code",
   "execution_count": 4,
   "metadata": {
    "collapsed": false
   },
   "outputs": [
    {
     "name": "stdout",
     "output_type": "stream",
     "text": [
      "(130910, 15)\n",
      "(130910, 146)\n"
     ]
    }
   ],
   "source": [
    "print GenomicFeatures_CPCG0235.shape\n",
    "print SNVCalls_CPCG0235.shape"
   ]
  },
  {
   "cell_type": "code",
   "execution_count": 5,
   "metadata": {
    "collapsed": false
   },
   "outputs": [
    {
     "data": {
      "text/html": [
       "<div style=\"max-height:1000px;max-width:1500px;overflow:auto;\">\n",
       "<table border=\"1\" class=\"dataframe\">\n",
       "  <thead>\n",
       "    <tr style=\"text-align: right;\">\n",
       "      <th></th>\n",
       "      <th>CHROM</th>\n",
       "      <th>POS</th>\n",
       "      <th>RefAllele</th>\n",
       "      <th>NonRefAllele</th>\n",
       "      <th>BaseQual</th>\n",
       "      <th>TumourCoverage</th>\n",
       "      <th>NormalCoverage</th>\n",
       "      <th>MapQual</th>\n",
       "      <th>ReadPosition</th>\n",
       "      <th>Trinucleotide</th>\n",
       "      <th>HomopolymerRate</th>\n",
       "      <th>GCcontent</th>\n",
       "      <th>GenomicLocation</th>\n",
       "      <th>DistanceSNP</th>\n",
       "      <th>StrandBias</th>\n",
       "    </tr>\n",
       "  </thead>\n",
       "  <tbody>\n",
       "    <tr>\n",
       "      <th>0</th>\n",
       "      <td> chr1</td>\n",
       "      <td> 10051</td>\n",
       "      <td> 740</td>\n",
       "      <td> 23</td>\n",
       "      <td> 20653</td>\n",
       "      <td> 959</td>\n",
       "      <td> 1024</td>\n",
       "      <td> 15</td>\n",
       "      <td> 39.0</td>\n",
       "      <td> GTT</td>\n",
       "      <td> 37.880000</td>\n",
       "      <td> 0.378109</td>\n",
       "      <td>            NaN</td>\n",
       "      <td> 41428</td>\n",
       "      <td> 0.775808</td>\n",
       "    </tr>\n",
       "    <tr>\n",
       "      <th>1</th>\n",
       "      <td> chr1</td>\n",
       "      <td> 16288</td>\n",
       "      <td>  40</td>\n",
       "      <td> 12</td>\n",
       "      <td>  1563</td>\n",
       "      <td>  56</td>\n",
       "      <td>   57</td>\n",
       "      <td> 23</td>\n",
       "      <td> 64.5</td>\n",
       "      <td> ACA</td>\n",
       "      <td>  2.468966</td>\n",
       "      <td> 0.492537</td>\n",
       "      <td> ncRNA_intronic</td>\n",
       "      <td> 35191</td>\n",
       "      <td> 0.589286</td>\n",
       "    </tr>\n",
       "    <tr>\n",
       "      <th>2</th>\n",
       "      <td> chr1</td>\n",
       "      <td> 16497</td>\n",
       "      <td> 116</td>\n",
       "      <td> 55</td>\n",
       "      <td>  4939</td>\n",
       "      <td> 179</td>\n",
       "      <td>  113</td>\n",
       "      <td> 23</td>\n",
       "      <td> 55.0</td>\n",
       "      <td> TTC</td>\n",
       "      <td>  2.797101</td>\n",
       "      <td> 0.422886</td>\n",
       "      <td> ncRNA_intronic</td>\n",
       "      <td> 34982</td>\n",
       "      <td> 0.547486</td>\n",
       "    </tr>\n",
       "    <tr>\n",
       "      <th>3</th>\n",
       "      <td> chr1</td>\n",
       "      <td> 19925</td>\n",
       "      <td> 141</td>\n",
       "      <td> 16</td>\n",
       "      <td>  4669</td>\n",
       "      <td> 171</td>\n",
       "      <td>  108</td>\n",
       "      <td>  0</td>\n",
       "      <td> 56.0</td>\n",
       "      <td> GCA</td>\n",
       "      <td>  2.376712</td>\n",
       "      <td> 0.572139</td>\n",
       "      <td> ncRNA_intronic</td>\n",
       "      <td> 31554</td>\n",
       "      <td> 0.643275</td>\n",
       "    </tr>\n",
       "    <tr>\n",
       "      <th>4</th>\n",
       "      <td> chr1</td>\n",
       "      <td> 48518</td>\n",
       "      <td> 116</td>\n",
       "      <td> 17</td>\n",
       "      <td>  4067</td>\n",
       "      <td> 149</td>\n",
       "      <td>  129</td>\n",
       "      <td>  0</td>\n",
       "      <td> 41.0</td>\n",
       "      <td> TTA</td>\n",
       "      <td>  2.810219</td>\n",
       "      <td> 0.383085</td>\n",
       "      <td>     intergenic</td>\n",
       "      <td>  2961</td>\n",
       "      <td> 0.496644</td>\n",
       "    </tr>\n",
       "  </tbody>\n",
       "</table>\n",
       "<p>5 rows × 15 columns</p>\n",
       "</div>"
      ],
      "text/plain": [
       "  CHROM    POS  RefAllele  NonRefAllele  BaseQual  TumourCoverage  \\\n",
       "0  chr1  10051        740            23     20653             959   \n",
       "1  chr1  16288         40            12      1563              56   \n",
       "2  chr1  16497        116            55      4939             179   \n",
       "3  chr1  19925        141            16      4669             171   \n",
       "4  chr1  48518        116            17      4067             149   \n",
       "\n",
       "   NormalCoverage  MapQual  ReadPosition Trinucleotide  HomopolymerRate  \\\n",
       "0            1024       15          39.0           GTT        37.880000   \n",
       "1              57       23          64.5           ACA         2.468966   \n",
       "2             113       23          55.0           TTC         2.797101   \n",
       "3             108        0          56.0           GCA         2.376712   \n",
       "4             129        0          41.0           TTA         2.810219   \n",
       "\n",
       "   GCcontent GenomicLocation  DistanceSNP  StrandBias  \n",
       "0   0.378109             NaN        41428    0.775808  \n",
       "1   0.492537  ncRNA_intronic        35191    0.589286  \n",
       "2   0.422886  ncRNA_intronic        34982    0.547486  \n",
       "3   0.572139  ncRNA_intronic        31554    0.643275  \n",
       "4   0.383085      intergenic         2961    0.496644  \n",
       "\n",
       "[5 rows x 15 columns]"
      ]
     },
     "execution_count": 5,
     "metadata": {},
     "output_type": "execute_result"
    }
   ],
   "source": [
    "GenomicFeatures_CPCG0235.head()"
   ]
  },
  {
   "cell_type": "code",
   "execution_count": 6,
   "metadata": {
    "collapsed": false
   },
   "outputs": [
    {
     "data": {
      "text/html": [
       "<div style=\"max-height:1000px;max-width:1500px;overflow:auto;\">\n",
       "<table border=\"1\" class=\"dataframe\">\n",
       "  <thead>\n",
       "    <tr style=\"text-align: right;\">\n",
       "      <th></th>\n",
       "      <th>CHROM</th>\n",
       "      <th>POS</th>\n",
       "      <th>END</th>\n",
       "      <th>X2399006</th>\n",
       "      <th>X2673217</th>\n",
       "      <th>X2673229</th>\n",
       "      <th>X2679064</th>\n",
       "      <th>X2679067</th>\n",
       "      <th>X2706568</th>\n",
       "      <th>X2762069</th>\n",
       "      <th>X2762071</th>\n",
       "      <th>X2788863</th>\n",
       "      <th>X2788866</th>\n",
       "      <th>X2788869</th>\n",
       "      <th>X2788872</th>\n",
       "      <th>X2788945</th>\n",
       "      <th>X2788949</th>\n",
       "      <th>X2788953</th>\n",
       "      <th>X2788956</th>\n",
       "      <th>X2791419</th>\n",
       "      <th></th>\n",
       "    </tr>\n",
       "  </thead>\n",
       "  <tbody>\n",
       "    <tr>\n",
       "      <th>0</th>\n",
       "      <td> chr1</td>\n",
       "      <td> 10050</td>\n",
       "      <td> 10051</td>\n",
       "      <td> 0</td>\n",
       "      <td> 0</td>\n",
       "      <td> 0</td>\n",
       "      <td> 1</td>\n",
       "      <td> 0</td>\n",
       "      <td> 0</td>\n",
       "      <td> 0</td>\n",
       "      <td> 0</td>\n",
       "      <td> 0</td>\n",
       "      <td> 0</td>\n",
       "      <td> 0</td>\n",
       "      <td> 0</td>\n",
       "      <td> 0</td>\n",
       "      <td> 0</td>\n",
       "      <td> 0</td>\n",
       "      <td> 0</td>\n",
       "      <td> 0</td>\n",
       "      <td>...</td>\n",
       "    </tr>\n",
       "    <tr>\n",
       "      <th>1</th>\n",
       "      <td> chr1</td>\n",
       "      <td> 16287</td>\n",
       "      <td> 16288</td>\n",
       "      <td> 0</td>\n",
       "      <td> 0</td>\n",
       "      <td> 0</td>\n",
       "      <td> 0</td>\n",
       "      <td> 0</td>\n",
       "      <td> 0</td>\n",
       "      <td> 0</td>\n",
       "      <td> 0</td>\n",
       "      <td> 0</td>\n",
       "      <td> 0</td>\n",
       "      <td> 0</td>\n",
       "      <td> 0</td>\n",
       "      <td> 0</td>\n",
       "      <td> 0</td>\n",
       "      <td> 0</td>\n",
       "      <td> 0</td>\n",
       "      <td> 0</td>\n",
       "      <td>...</td>\n",
       "    </tr>\n",
       "    <tr>\n",
       "      <th>2</th>\n",
       "      <td> chr1</td>\n",
       "      <td> 16496</td>\n",
       "      <td> 16497</td>\n",
       "      <td> 0</td>\n",
       "      <td> 0</td>\n",
       "      <td> 0</td>\n",
       "      <td> 0</td>\n",
       "      <td> 0</td>\n",
       "      <td> 0</td>\n",
       "      <td> 0</td>\n",
       "      <td> 0</td>\n",
       "      <td> 0</td>\n",
       "      <td> 0</td>\n",
       "      <td> 0</td>\n",
       "      <td> 0</td>\n",
       "      <td> 0</td>\n",
       "      <td> 0</td>\n",
       "      <td> 0</td>\n",
       "      <td> 0</td>\n",
       "      <td> 0</td>\n",
       "      <td>...</td>\n",
       "    </tr>\n",
       "    <tr>\n",
       "      <th>3</th>\n",
       "      <td> chr1</td>\n",
       "      <td> 19924</td>\n",
       "      <td> 19925</td>\n",
       "      <td> 1</td>\n",
       "      <td> 0</td>\n",
       "      <td> 0</td>\n",
       "      <td> 1</td>\n",
       "      <td> 1</td>\n",
       "      <td> 0</td>\n",
       "      <td> 0</td>\n",
       "      <td> 0</td>\n",
       "      <td> 0</td>\n",
       "      <td> 0</td>\n",
       "      <td> 0</td>\n",
       "      <td> 0</td>\n",
       "      <td> 0</td>\n",
       "      <td> 0</td>\n",
       "      <td> 0</td>\n",
       "      <td> 0</td>\n",
       "      <td> 0</td>\n",
       "      <td>...</td>\n",
       "    </tr>\n",
       "    <tr>\n",
       "      <th>4</th>\n",
       "      <td> chr1</td>\n",
       "      <td> 48517</td>\n",
       "      <td> 48518</td>\n",
       "      <td> 0</td>\n",
       "      <td> 0</td>\n",
       "      <td> 0</td>\n",
       "      <td> 0</td>\n",
       "      <td> 0</td>\n",
       "      <td> 0</td>\n",
       "      <td> 0</td>\n",
       "      <td> 0</td>\n",
       "      <td> 0</td>\n",
       "      <td> 0</td>\n",
       "      <td> 0</td>\n",
       "      <td> 0</td>\n",
       "      <td> 0</td>\n",
       "      <td> 0</td>\n",
       "      <td> 0</td>\n",
       "      <td> 0</td>\n",
       "      <td> 0</td>\n",
       "      <td>...</td>\n",
       "    </tr>\n",
       "  </tbody>\n",
       "</table>\n",
       "<p>5 rows × 146 columns</p>\n",
       "</div>"
      ],
      "text/plain": [
       "  CHROM    POS    END  X2399006  X2673217  X2673229  X2679064  X2679067  \\\n",
       "0  chr1  10050  10051         0         0         0         1         0   \n",
       "1  chr1  16287  16288         0         0         0         0         0   \n",
       "2  chr1  16496  16497         0         0         0         0         0   \n",
       "3  chr1  19924  19925         1         0         0         1         1   \n",
       "4  chr1  48517  48518         0         0         0         0         0   \n",
       "\n",
       "   X2706568  X2762069  X2762071  X2788863  X2788866  X2788869  X2788872  \\\n",
       "0         0         0         0         0         0         0         0   \n",
       "1         0         0         0         0         0         0         0   \n",
       "2         0         0         0         0         0         0         0   \n",
       "3         0         0         0         0         0         0         0   \n",
       "4         0         0         0         0         0         0         0   \n",
       "\n",
       "   X2788945  X2788949  X2788953  X2788956  X2791419      \n",
       "0         0         0         0         0         0 ...  \n",
       "1         0         0         0         0         0 ...  \n",
       "2         0         0         0         0         0 ...  \n",
       "3         0         0         0         0         0 ...  \n",
       "4         0         0         0         0         0 ...  \n",
       "\n",
       "[5 rows x 146 columns]"
      ]
     },
     "execution_count": 6,
     "metadata": {},
     "output_type": "execute_result"
    }
   ],
   "source": [
    "SNVCalls_CPCG0235.head()"
   ]
  },
  {
   "cell_type": "code",
   "execution_count": 7,
   "metadata": {
    "collapsed": false
   },
   "outputs": [
    {
     "data": {
      "text/plain": [
       "array(['ACA', 'ACC', 'ACG', 'ACT', 'ATA', 'ATC', 'ATG', 'ATT', 'CCA',\n",
       "       'CCC', 'CCG', 'CCT', 'CTA', 'CTC', 'CTG', 'CTT', 'GCA', 'GCC',\n",
       "       'GCG', 'GCT', 'GTA', 'GTC', 'GTG', 'GTT', 'TCA', 'TCC', 'TCG',\n",
       "       'TCT', 'TTA', 'TTC', 'TTG', 'TTT'], \n",
       "      dtype='|S3')"
      ]
     },
     "execution_count": 7,
     "metadata": {},
     "output_type": "execute_result"
    }
   ],
   "source": [
    "np.unique(GenomicFeatures_CPCG0235['Trinucleotide'])"
   ]
  },
  {
   "cell_type": "code",
   "execution_count": 8,
   "metadata": {
    "collapsed": true
   },
   "outputs": [],
   "source": [
    "CPCG0235 = pd.merge(GenomicFeatures_CPCG0235, SNVCalls_CPCG0235,left_on=['CHROM', 'POS'], right_on=['CHROM','END'])\n"
   ]
  },
  {
   "cell_type": "code",
   "execution_count": 9,
   "metadata": {
    "collapsed": false
   },
   "outputs": [
    {
     "data": {
      "text/html": [
       "<div style=\"max-height:1000px;max-width:1500px;overflow:auto;\">\n",
       "<table border=\"1\" class=\"dataframe\">\n",
       "  <thead>\n",
       "    <tr style=\"text-align: right;\">\n",
       "      <th></th>\n",
       "      <th>CHROM</th>\n",
       "      <th>POS_x</th>\n",
       "      <th>RefAllele</th>\n",
       "      <th>NonRefAllele</th>\n",
       "      <th>BaseQual</th>\n",
       "      <th>TumourCoverage</th>\n",
       "      <th>NormalCoverage</th>\n",
       "      <th>MapQual</th>\n",
       "      <th>ReadPosition</th>\n",
       "      <th>Trinucleotide</th>\n",
       "      <th>HomopolymerRate</th>\n",
       "      <th>GCcontent</th>\n",
       "      <th>GenomicLocation</th>\n",
       "      <th>DistanceSNP</th>\n",
       "      <th>StrandBias</th>\n",
       "      <th>POS_y</th>\n",
       "      <th>END</th>\n",
       "      <th>X2399006</th>\n",
       "      <th>X2673217</th>\n",
       "      <th>X2673229</th>\n",
       "      <th></th>\n",
       "    </tr>\n",
       "  </thead>\n",
       "  <tbody>\n",
       "    <tr>\n",
       "      <th>0</th>\n",
       "      <td> chr1</td>\n",
       "      <td> 10051</td>\n",
       "      <td> 740</td>\n",
       "      <td> 23</td>\n",
       "      <td> 20653</td>\n",
       "      <td> 959</td>\n",
       "      <td> 1024</td>\n",
       "      <td> 15</td>\n",
       "      <td> 39.0</td>\n",
       "      <td> GTT</td>\n",
       "      <td> 37.880000</td>\n",
       "      <td> 0.378109</td>\n",
       "      <td>            NaN</td>\n",
       "      <td> 41428</td>\n",
       "      <td> 0.775808</td>\n",
       "      <td> 10050</td>\n",
       "      <td> 10051</td>\n",
       "      <td> 0</td>\n",
       "      <td> 0</td>\n",
       "      <td> 0</td>\n",
       "      <td>...</td>\n",
       "    </tr>\n",
       "    <tr>\n",
       "      <th>1</th>\n",
       "      <td> chr1</td>\n",
       "      <td> 16288</td>\n",
       "      <td>  40</td>\n",
       "      <td> 12</td>\n",
       "      <td>  1563</td>\n",
       "      <td>  56</td>\n",
       "      <td>   57</td>\n",
       "      <td> 23</td>\n",
       "      <td> 64.5</td>\n",
       "      <td> ACA</td>\n",
       "      <td>  2.468966</td>\n",
       "      <td> 0.492537</td>\n",
       "      <td> ncRNA_intronic</td>\n",
       "      <td> 35191</td>\n",
       "      <td> 0.589286</td>\n",
       "      <td> 16287</td>\n",
       "      <td> 16288</td>\n",
       "      <td> 0</td>\n",
       "      <td> 0</td>\n",
       "      <td> 0</td>\n",
       "      <td>...</td>\n",
       "    </tr>\n",
       "    <tr>\n",
       "      <th>2</th>\n",
       "      <td> chr1</td>\n",
       "      <td> 16497</td>\n",
       "      <td> 116</td>\n",
       "      <td> 55</td>\n",
       "      <td>  4939</td>\n",
       "      <td> 179</td>\n",
       "      <td>  113</td>\n",
       "      <td> 23</td>\n",
       "      <td> 55.0</td>\n",
       "      <td> TTC</td>\n",
       "      <td>  2.797101</td>\n",
       "      <td> 0.422886</td>\n",
       "      <td> ncRNA_intronic</td>\n",
       "      <td> 34982</td>\n",
       "      <td> 0.547486</td>\n",
       "      <td> 16496</td>\n",
       "      <td> 16497</td>\n",
       "      <td> 0</td>\n",
       "      <td> 0</td>\n",
       "      <td> 0</td>\n",
       "      <td>...</td>\n",
       "    </tr>\n",
       "    <tr>\n",
       "      <th>3</th>\n",
       "      <td> chr1</td>\n",
       "      <td> 19925</td>\n",
       "      <td> 141</td>\n",
       "      <td> 16</td>\n",
       "      <td>  4669</td>\n",
       "      <td> 171</td>\n",
       "      <td>  108</td>\n",
       "      <td>  0</td>\n",
       "      <td> 56.0</td>\n",
       "      <td> GCA</td>\n",
       "      <td>  2.376712</td>\n",
       "      <td> 0.572139</td>\n",
       "      <td> ncRNA_intronic</td>\n",
       "      <td> 31554</td>\n",
       "      <td> 0.643275</td>\n",
       "      <td> 19924</td>\n",
       "      <td> 19925</td>\n",
       "      <td> 1</td>\n",
       "      <td> 0</td>\n",
       "      <td> 0</td>\n",
       "      <td>...</td>\n",
       "    </tr>\n",
       "    <tr>\n",
       "      <th>4</th>\n",
       "      <td> chr1</td>\n",
       "      <td> 48518</td>\n",
       "      <td> 116</td>\n",
       "      <td> 17</td>\n",
       "      <td>  4067</td>\n",
       "      <td> 149</td>\n",
       "      <td>  129</td>\n",
       "      <td>  0</td>\n",
       "      <td> 41.0</td>\n",
       "      <td> TTA</td>\n",
       "      <td>  2.810219</td>\n",
       "      <td> 0.383085</td>\n",
       "      <td>     intergenic</td>\n",
       "      <td>  2961</td>\n",
       "      <td> 0.496644</td>\n",
       "      <td> 48517</td>\n",
       "      <td> 48518</td>\n",
       "      <td> 0</td>\n",
       "      <td> 0</td>\n",
       "      <td> 0</td>\n",
       "      <td>...</td>\n",
       "    </tr>\n",
       "  </tbody>\n",
       "</table>\n",
       "<p>5 rows × 160 columns</p>\n",
       "</div>"
      ],
      "text/plain": [
       "  CHROM  POS_x  RefAllele  NonRefAllele  BaseQual  TumourCoverage  \\\n",
       "0  chr1  10051        740            23     20653             959   \n",
       "1  chr1  16288         40            12      1563              56   \n",
       "2  chr1  16497        116            55      4939             179   \n",
       "3  chr1  19925        141            16      4669             171   \n",
       "4  chr1  48518        116            17      4067             149   \n",
       "\n",
       "   NormalCoverage  MapQual  ReadPosition Trinucleotide  HomopolymerRate  \\\n",
       "0            1024       15          39.0           GTT        37.880000   \n",
       "1              57       23          64.5           ACA         2.468966   \n",
       "2             113       23          55.0           TTC         2.797101   \n",
       "3             108        0          56.0           GCA         2.376712   \n",
       "4             129        0          41.0           TTA         2.810219   \n",
       "\n",
       "   GCcontent GenomicLocation  DistanceSNP  StrandBias  POS_y    END  X2399006  \\\n",
       "0   0.378109             NaN        41428    0.775808  10050  10051         0   \n",
       "1   0.492537  ncRNA_intronic        35191    0.589286  16287  16288         0   \n",
       "2   0.422886  ncRNA_intronic        34982    0.547486  16496  16497         0   \n",
       "3   0.572139  ncRNA_intronic        31554    0.643275  19924  19925         1   \n",
       "4   0.383085      intergenic         2961    0.496644  48517  48518         0   \n",
       "\n",
       "   X2673217  X2673229      \n",
       "0         0         0 ...  \n",
       "1         0         0 ...  \n",
       "2         0         0 ...  \n",
       "3         0         0 ...  \n",
       "4         0         0 ...  \n",
       "\n",
       "[5 rows x 160 columns]"
      ]
     },
     "execution_count": 9,
     "metadata": {},
     "output_type": "execute_result"
    }
   ],
   "source": [
    "CPCG0235.head() #182+15"
   ]
  },
  {
   "cell_type": "code",
   "execution_count": 10,
   "metadata": {
    "collapsed": true
   },
   "outputs": [],
   "source": [
    "CPCG0235_X = CPCG0235.iloc[:,2:15] #Exclude CHROM, POS\n",
    "CPCG0235_Y = CPCG0235.iloc[:,17:]  #Exclude CHROM_y, POS_y, END"
   ]
  },
  {
   "cell_type": "code",
   "execution_count": 11,
   "metadata": {
    "collapsed": false
   },
   "outputs": [
    {
     "name": "stdout",
     "output_type": "stream",
     "text": [
      "(130910, 13)\n",
      "(130910, 143)\n"
     ]
    }
   ],
   "source": [
    "print CPCG0235_X.shape\n",
    "print CPCG0235_Y.shape"
   ]
  },
  {
   "cell_type": "code",
   "execution_count": 12,
   "metadata": {
    "collapsed": false
   },
   "outputs": [
    {
     "data": {
      "text/html": [
       "<div style=\"max-height:1000px;max-width:1500px;overflow:auto;\">\n",
       "<table border=\"1\" class=\"dataframe\">\n",
       "  <thead>\n",
       "    <tr style=\"text-align: right;\">\n",
       "      <th></th>\n",
       "      <th>RefAllele</th>\n",
       "      <th>NonRefAllele</th>\n",
       "      <th>BaseQual</th>\n",
       "      <th>TumourCoverage</th>\n",
       "      <th>NormalCoverage</th>\n",
       "      <th>MapQual</th>\n",
       "      <th>ReadPosition</th>\n",
       "      <th>Trinucleotide</th>\n",
       "      <th>HomopolymerRate</th>\n",
       "      <th>GCcontent</th>\n",
       "      <th>GenomicLocation</th>\n",
       "      <th>DistanceSNP</th>\n",
       "      <th>StrandBias</th>\n",
       "    </tr>\n",
       "  </thead>\n",
       "  <tbody>\n",
       "    <tr>\n",
       "      <th>0</th>\n",
       "      <td> 740</td>\n",
       "      <td> 23</td>\n",
       "      <td> 20653</td>\n",
       "      <td> 959</td>\n",
       "      <td> 1024</td>\n",
       "      <td> 15</td>\n",
       "      <td> 39.0</td>\n",
       "      <td> GTT</td>\n",
       "      <td> 37.880000</td>\n",
       "      <td> 0.378109</td>\n",
       "      <td>            NaN</td>\n",
       "      <td> 41428</td>\n",
       "      <td> 0.775808</td>\n",
       "    </tr>\n",
       "    <tr>\n",
       "      <th>1</th>\n",
       "      <td>  40</td>\n",
       "      <td> 12</td>\n",
       "      <td>  1563</td>\n",
       "      <td>  56</td>\n",
       "      <td>   57</td>\n",
       "      <td> 23</td>\n",
       "      <td> 64.5</td>\n",
       "      <td> ACA</td>\n",
       "      <td>  2.468966</td>\n",
       "      <td> 0.492537</td>\n",
       "      <td> ncRNA_intronic</td>\n",
       "      <td> 35191</td>\n",
       "      <td> 0.589286</td>\n",
       "    </tr>\n",
       "  </tbody>\n",
       "</table>\n",
       "<p>2 rows × 13 columns</p>\n",
       "</div>"
      ],
      "text/plain": [
       "   RefAllele  NonRefAllele  BaseQual  TumourCoverage  NormalCoverage  MapQual  \\\n",
       "0        740            23     20653             959            1024       15   \n",
       "1         40            12      1563              56              57       23   \n",
       "\n",
       "   ReadPosition Trinucleotide  HomopolymerRate  GCcontent GenomicLocation  \\\n",
       "0          39.0           GTT        37.880000   0.378109             NaN   \n",
       "1          64.5           ACA         2.468966   0.492537  ncRNA_intronic   \n",
       "\n",
       "   DistanceSNP  StrandBias  \n",
       "0        41428    0.775808  \n",
       "1        35191    0.589286  \n",
       "\n",
       "[2 rows x 13 columns]"
      ]
     },
     "execution_count": 12,
     "metadata": {},
     "output_type": "execute_result"
    }
   ],
   "source": [
    "CPCG0235_X[:2]"
   ]
  },
  {
   "cell_type": "code",
   "execution_count": 13,
   "metadata": {
    "collapsed": false
   },
   "outputs": [
    {
     "data": {
      "text/html": [
       "<div style=\"max-height:1000px;max-width:1500px;overflow:auto;\">\n",
       "<table border=\"1\" class=\"dataframe\">\n",
       "  <thead>\n",
       "    <tr style=\"text-align: right;\">\n",
       "      <th></th>\n",
       "      <th>X2399006</th>\n",
       "      <th>X2673217</th>\n",
       "      <th>X2673229</th>\n",
       "      <th>X2679064</th>\n",
       "      <th>X2679067</th>\n",
       "      <th>X2706568</th>\n",
       "      <th>X2762069</th>\n",
       "      <th>X2762071</th>\n",
       "      <th>X2788863</th>\n",
       "      <th>X2788866</th>\n",
       "      <th>X2788869</th>\n",
       "      <th>X2788872</th>\n",
       "      <th>X2788945</th>\n",
       "      <th>X2788949</th>\n",
       "      <th>X2788953</th>\n",
       "      <th>X2788956</th>\n",
       "      <th>X2791419</th>\n",
       "      <th>X2791423</th>\n",
       "      <th>X2791429</th>\n",
       "      <th>X2791432</th>\n",
       "      <th></th>\n",
       "    </tr>\n",
       "  </thead>\n",
       "  <tbody>\n",
       "    <tr>\n",
       "      <th>0</th>\n",
       "      <td> 0</td>\n",
       "      <td> 0</td>\n",
       "      <td> 0</td>\n",
       "      <td> 1</td>\n",
       "      <td> 0</td>\n",
       "      <td> 0</td>\n",
       "      <td> 0</td>\n",
       "      <td> 0</td>\n",
       "      <td> 0</td>\n",
       "      <td> 0</td>\n",
       "      <td> 0</td>\n",
       "      <td> 0</td>\n",
       "      <td> 0</td>\n",
       "      <td> 0</td>\n",
       "      <td> 0</td>\n",
       "      <td> 0</td>\n",
       "      <td> 0</td>\n",
       "      <td> 0</td>\n",
       "      <td> 0</td>\n",
       "      <td> 0</td>\n",
       "      <td>...</td>\n",
       "    </tr>\n",
       "    <tr>\n",
       "      <th>1</th>\n",
       "      <td> 0</td>\n",
       "      <td> 0</td>\n",
       "      <td> 0</td>\n",
       "      <td> 0</td>\n",
       "      <td> 0</td>\n",
       "      <td> 0</td>\n",
       "      <td> 0</td>\n",
       "      <td> 0</td>\n",
       "      <td> 0</td>\n",
       "      <td> 0</td>\n",
       "      <td> 0</td>\n",
       "      <td> 0</td>\n",
       "      <td> 0</td>\n",
       "      <td> 0</td>\n",
       "      <td> 0</td>\n",
       "      <td> 0</td>\n",
       "      <td> 0</td>\n",
       "      <td> 0</td>\n",
       "      <td> 0</td>\n",
       "      <td> 0</td>\n",
       "      <td>...</td>\n",
       "    </tr>\n",
       "  </tbody>\n",
       "</table>\n",
       "<p>2 rows × 143 columns</p>\n",
       "</div>"
      ],
      "text/plain": [
       "   X2399006  X2673217  X2673229  X2679064  X2679067  X2706568  X2762069  \\\n",
       "0         0         0         0         1         0         0         0   \n",
       "1         0         0         0         0         0         0         0   \n",
       "\n",
       "   X2762071  X2788863  X2788866  X2788869  X2788872  X2788945  X2788949  \\\n",
       "0         0         0         0         0         0         0         0   \n",
       "1         0         0         0         0         0         0         0   \n",
       "\n",
       "   X2788953  X2788956  X2791419  X2791423  X2791429  X2791432      \n",
       "0         0         0         0         0         0         0 ...  \n",
       "1         0         0         0         0         0         0 ...  \n",
       "\n",
       "[2 rows x 143 columns]"
      ]
     },
     "execution_count": 13,
     "metadata": {},
     "output_type": "execute_result"
    }
   ],
   "source": [
    "CPCG0235_Y[:2]"
   ]
  },
  {
   "cell_type": "code",
   "execution_count": 14,
   "metadata": {
    "collapsed": false
   },
   "outputs": [
    {
     "name": "stdout",
     "output_type": "stream",
     "text": [
      "130910\n",
      "(130910, 1)\n"
     ]
    }
   ],
   "source": [
    "totalSample = CPCG0235_Y.shape[0]\n",
    "CPCG0235_Y_Val = np.zeros((totalSample,1)) #Will be our label now\n",
    "\n",
    "print totalSample\n",
    "print CPCG0235_Y_Val.shape"
   ]
  },
  {
   "cell_type": "code",
   "execution_count": 15,
   "metadata": {
    "collapsed": false
   },
   "outputs": [
    {
     "data": {
      "text/plain": [
       "(130910, 143)"
      ]
     },
     "execution_count": 15,
     "metadata": {},
     "output_type": "execute_result"
    }
   ],
   "source": [
    "CPCG0235_Y.shape"
   ]
  },
  {
   "cell_type": "code",
   "execution_count": 16,
   "metadata": {
    "collapsed": false
   },
   "outputs": [
    {
     "data": {
      "text/plain": [
       "(143,)"
      ]
     },
     "execution_count": 16,
     "metadata": {},
     "output_type": "execute_result"
    }
   ],
   "source": [
    "CPCG0235_Y.values[0].shape"
   ]
  },
  {
   "cell_type": "code",
   "execution_count": 17,
   "metadata": {
    "collapsed": true
   },
   "outputs": [],
   "source": [
    "for i in range(totalSample):\n",
    "    CPCG0235_Y_Val[i] = np.argmax(np.bincount(CPCG0235_Y.values[i]))"
   ]
  },
  {
   "cell_type": "code",
   "execution_count": 18,
   "metadata": {
    "collapsed": true
   },
   "outputs": [],
   "source": [
    "CPCG0235_Y_Val_1 = pd.DataFrame(CPCG0235_Y_Val)\n",
    "CPCG0235_Y_Val_1.columns = ['Label']"
   ]
  },
  {
   "cell_type": "code",
   "execution_count": 19,
   "metadata": {
    "collapsed": false
   },
   "outputs": [
    {
     "data": {
      "text/html": [
       "<div style=\"max-height:1000px;max-width:1500px;overflow:auto;\">\n",
       "<table border=\"1\" class=\"dataframe\">\n",
       "  <thead>\n",
       "    <tr style=\"text-align: right;\">\n",
       "      <th></th>\n",
       "      <th>Label</th>\n",
       "    </tr>\n",
       "  </thead>\n",
       "  <tbody>\n",
       "    <tr>\n",
       "      <th>0</th>\n",
       "      <td> 0</td>\n",
       "    </tr>\n",
       "    <tr>\n",
       "      <th>1</th>\n",
       "      <td> 0</td>\n",
       "    </tr>\n",
       "    <tr>\n",
       "      <th>2</th>\n",
       "      <td> 0</td>\n",
       "    </tr>\n",
       "  </tbody>\n",
       "</table>\n",
       "<p>3 rows × 1 columns</p>\n",
       "</div>"
      ],
      "text/plain": [
       "   Label\n",
       "0      0\n",
       "1      0\n",
       "2      0\n",
       "\n",
       "[3 rows x 1 columns]"
      ]
     },
     "execution_count": 19,
     "metadata": {},
     "output_type": "execute_result"
    }
   ],
   "source": [
    "CPCG0235_Y_Val_1[:3]"
   ]
  },
  {
   "cell_type": "code",
   "execution_count": 20,
   "metadata": {
    "collapsed": true
   },
   "outputs": [],
   "source": [
    "CPCG0235_dataframe = pd.concat([CPCG0235_X, CPCG0235_Y_Val_1],axis=1)"
   ]
  },
  {
   "cell_type": "code",
   "execution_count": 21,
   "metadata": {
    "collapsed": false
   },
   "outputs": [
    {
     "data": {
      "text/plain": [
       "(130910, 14)"
      ]
     },
     "execution_count": 21,
     "metadata": {},
     "output_type": "execute_result"
    }
   ],
   "source": [
    "CPCG0235_dataframe.shape"
   ]
  },
  {
   "cell_type": "code",
   "execution_count": 22,
   "metadata": {
    "collapsed": true
   },
   "outputs": [],
   "source": [
    "CPCG0235_dataframe.to_csv('CPCG0235.csv')"
   ]
  },
  {
   "cell_type": "code",
   "execution_count": 23,
   "metadata": {
    "collapsed": true
   },
   "outputs": [],
   "source": [
    "#Now we have variable importance ...lets do analysis"
   ]
  },
  {
   "cell_type": "code",
   "execution_count": 24,
   "metadata": {
    "collapsed": true
   },
   "outputs": [],
   "source": [
    "%load_ext rpy2.ipython"
   ]
  },
  {
   "cell_type": "code",
   "execution_count": 25,
   "metadata": {
    "collapsed": false
   },
   "outputs": [
    {
     "data": {
      "text/plain": [
       "'data.frame':\t130910 obs. of  15 variables:\n",
       " $ X              : int  0 1 2 3 4 5 6 7 8 9 ...\n",
       " $ RefAllele      : int  740 40 116 141 116 89 52 67 43 90 ...\n",
       " $ NonRefAllele   : int  23 12 55 16 17 25 23 11 23 20 ...\n",
       " $ BaseQual       : int  20653 1563 4939 4669 4067 3435 1969 2382 2017 3249 ...\n",
       " $ TumourCoverage : int  959 56 179 171 149 130 87 83 72 120 ...\n",
       " $ NormalCoverage : int  1024 57 113 108 129 87 31 56 84 99 ...\n",
       " $ MapQual        : num  15 23 23 0 0 0 15 0 23 46 ...\n",
       " $ ReadPosition   : num  39 64.5 55 56 41 49 43 45 49.5 59.5 ...\n",
       " $ Trinucleotide  : Factor w/ 32 levels \"ACA\",\"ACC\",\"ACG\",..: 24 1 30 17 29 7 15 8 2 32 ...\n",
       " $ HomopolymerRate: num  37.88 2.47 2.8 2.38 2.81 ...\n",
       " $ GCcontent      : num  0.378 0.493 0.423 0.572 0.383 ...\n",
       " $ GenomicLocation: Factor w/ 16 levels \"\",\"downstream\",..: 1 8 8 8 5 5 5 5 5 5 ...\n",
       " $ DistanceSNP    : int  41428 35191 34982 31554 2961 2500 324 2019 8007 10792 ...\n",
       " $ StrandBias     : num  0.776 0.589 0.547 0.643 0.497 ...\n",
       " $ Label          : num  0 0 0 0 0 0 0 0 1 0 ...\n"
      ]
     },
     "metadata": {},
     "output_type": "display_data"
    }
   ],
   "source": [
    "%%R\n",
    "# Read in the data\n",
    "CPCG0235Frame = read.csv(\"CPCG0235.csv\")\n",
    "str(CPCG0235Frame)"
   ]
  },
  {
   "cell_type": "code",
   "execution_count": 26,
   "metadata": {
    "collapsed": false
   },
   "outputs": [
    {
     "data": {
      "text/plain": [
       "[1] 24\n"
      ]
     },
     "metadata": {},
     "output_type": "display_data"
    }
   ],
   "source": [
    "%%R\n",
    "#sum(is.na(CPCG0183Frame$StrandBias))\n",
    "sum(is.na(CPCG0235Frame$ReadPosition)) "
   ]
  },
  {
   "cell_type": "code",
   "execution_count": 27,
   "metadata": {
    "collapsed": false
   },
   "outputs": [
    {
     "data": {
      "text/plain": [
       "[1] 0\n",
       "[1] 0\n"
      ]
     },
     "metadata": {},
     "output_type": "display_data"
    }
   ],
   "source": [
    "%%R\n",
    "CPCG0235Frame$ReadPosition[is.na(CPCG0235Frame$ReadPosition)] = mean(CPCG0235Frame$ReadPosition, na.rm=TRUE)\n",
    "CPCG0235Frame$StrandBias[is.na(CPCG0235Frame$StrandBias)] = mean(CPCG0235Frame$StrandBias, na.rm=TRUE)\n",
    "\n",
    "print (sum(is.na(CPCG0235Frame$ReadPosition)) )\n",
    "print (sum(is.na(CPCG0235Frame$StrandBias)) )"
   ]
  },
  {
   "cell_type": "code",
   "execution_count": 28,
   "metadata": {
    "collapsed": false
   },
   "outputs": [
    {
     "data": {
      "text/plain": [
       "[1] 0\n"
      ]
     },
     "metadata": {},
     "output_type": "display_data"
    }
   ],
   "source": [
    "%%R\n",
    "sum(is.na(CPCG0235Frame))  #No NA value now"
   ]
  },
  {
   "cell_type": "code",
   "execution_count": 29,
   "metadata": {
    "collapsed": true
   },
   "outputs": [],
   "source": [
    "%%R\n",
    "write.csv(CPCG0235Frame, file = \"CPCG0235_imputed.csv\")  #Cleaned CSV without NA"
   ]
  },
  {
   "cell_type": "code",
   "execution_count": 30,
   "metadata": {
    "collapsed": false
   },
   "outputs": [
    {
     "name": "stderr",
     "output_type": "stream",
     "text": [
      "/usr/local/lib/python2.7/dist-packages/rpy2/robjects/functions.py:106: UserWarning: Loading required package: statmod\n",
      "\n",
      "  res = super(Function, self).__call__(*new_args, **new_kwargs)\n",
      "/usr/local/lib/python2.7/dist-packages/rpy2/robjects/functions.py:106: UserWarning: \n",
      "----------------------------------------------------------------------\n",
      "\n",
      "Your next step is to start H2O:\n",
      "    > h2o.init()\n",
      "\n",
      "For H2O package documentation, ask for help:\n",
      "    > ??h2o\n",
      "\n",
      "After starting H2O, you can use the Web UI at http://localhost:54321\n",
      "For more information visit http://docs.h2o.ai\n",
      "\n",
      "----------------------------------------------------------------------\n",
      "\n",
      "\n",
      "  res = super(Function, self).__call__(*new_args, **new_kwargs)\n",
      "/usr/local/lib/python2.7/dist-packages/rpy2/robjects/functions.py:106: UserWarning: \n",
      "Attaching package: ‘h2o’\n",
      "\n",
      "\n",
      "  res = super(Function, self).__call__(*new_args, **new_kwargs)\n",
      "/usr/local/lib/python2.7/dist-packages/rpy2/robjects/functions.py:106: UserWarning: The following objects are masked from ‘package:stats’:\n",
      "\n",
      "    sd, var\n",
      "\n",
      "\n",
      "  res = super(Function, self).__call__(*new_args, **new_kwargs)\n",
      "/usr/local/lib/python2.7/dist-packages/rpy2/robjects/functions.py:106: UserWarning: The following objects are masked from ‘package:base’:\n",
      "\n",
      "    ||, &&, %*%, apply, as.factor, as.numeric, colnames, colnames<-,\n",
      "    ifelse, %in%, is.character, is.factor, is.numeric, log, log10,\n",
      "    log1p, log2, round, signif, trunc\n",
      "\n",
      "\n",
      "  res = super(Function, self).__call__(*new_args, **new_kwargs)\n"
     ]
    },
    {
     "data": {
      "text/plain": [
       " Connection successful!\n",
       "\n",
       "R is connected to the H2O cluster: \n",
       "    H2O cluster uptime:         1 hours 3 minutes \n",
       "    H2O cluster version:        3.9.1.3435 \n",
       "    H2O cluster name:           H2O_started_from_R_rbhat_szm488 \n",
       "    H2O cluster total nodes:    1 \n",
       "    H2O cluster total memory:   26.56 GB \n",
       "    H2O cluster total cores:    56 \n",
       "    H2O cluster allowed cores:  2 \n",
       "    H2O cluster healthy:        TRUE \n",
       "    H2O Connection ip:          localhost \n",
       "    H2O Connection port:        54321 \n",
       "    H2O Connection proxy:       NA \n",
       "    R Version:                  R version 3.3.0 beta (2016-03-30 r70404) \n",
       "\n"
      ]
     },
     "metadata": {},
     "output_type": "display_data"
    }
   ],
   "source": [
    "%%R\n",
    "library(h2o)\n",
    "localH2O = h2o.init(ip = \"localhost\", port = 54321, startH2O = TRUE,min_mem_size = \"3g\")"
   ]
  },
  {
   "cell_type": "code",
   "execution_count": 31,
   "metadata": {
    "collapsed": false
   },
   "outputs": [
    {
     "data": {
      "text/plain": [
       "\r",
       "  |                                                                            \r",
       "  |                                                                      |   0%\r",
       "  |                                                                            \r",
       "  |====                                                                  |   5%\r",
       "  |                                                                            \r",
       "  |======================================================================| 100%\n",
       "\r",
       "  |                                                                            \r",
       "  |                                                                      |   0%\r",
       "  |                                                                            \r",
       "  |======================================================================| 100%\n"
      ]
     },
     "metadata": {},
     "output_type": "display_data"
    }
   ],
   "source": [
    "%%R\n",
    "## Import CSV as H2O:\n",
    "csvPath = \"/home/rbhat/Workspace/S3Lab_Projects/SMC-MetaChallange/CPCG0235_imputed.csv\"\n",
    "CPCG0235.hex          = h2o.importFile(path = csvPath, destination_frame = \"CPCG0235.hex\") \n",
    "train                 = as.data.frame(CPCG0235.hex)\n",
    "\n",
    "#train  = subset(train,C1<20000)\n",
    "\n",
    "train$Trinucleotide   = as.factor(train$Trinucleotide)\n",
    "train$GenomicLocation = as.factor(train$GenomicLocation)\n",
    "train$Label           = as.factor(train$Label)\n",
    "\n",
    "train_h2o             = as.h2o(train)"
   ]
  },
  {
   "cell_type": "code",
   "execution_count": 32,
   "metadata": {
    "collapsed": false
   },
   "outputs": [
    {
     "data": {
      "text/plain": [
       "\r",
       "  |                                                                            \r",
       "  |                                                                      |   0%\r",
       "  |                                                                            \r",
       "  |=                                                                     |   2%\r",
       "  |                                                                            \r",
       "  |=====                                                                 |   8%\r",
       "  |                                                                            \r",
       "  |==========                                                            |  14%\r",
       "  |                                                                            \r",
       "  |===============                                                       |  21%\r",
       "  |                                                                            \r",
       "  |==================                                                    |  26%\r",
       "  |                                                                            \r",
       "  |=====================                                                 |  31%\r",
       "  |                                                                            \r",
       "  |==========================                                            |  37%\r",
       "  |                                                                            \r",
       "  |=============================                                         |  41%\r",
       "  |                                                                            \r",
       "  |=================================                                     |  47%\r",
       "  |                                                                            \r",
       "  |=====================================                                 |  53%\r",
       "  |                                                                            \r",
       "  |==========================================                            |  60%\r",
       "  |                                                                            \r",
       "  |==============================================                        |  66%\r",
       "  |                                                                            \r",
       "  |==================================================                    |  72%\r",
       "  |                                                                            \r",
       "  |=====================================================                 |  76%\r",
       "  |                                                                            \r",
       "  |==========================================================            |  82%\r",
       "  |                                                                            \r",
       "  |==============================================================        |  89%\r",
       "  |                                                                            \r",
       "  |==================================================================    |  95%\r",
       "  |                                                                            \r",
       "  |======================================================================| 100%\n"
      ]
     },
     "metadata": {},
     "output_type": "display_data"
    }
   ],
   "source": [
    "%%R\n",
    "#Training a deep learning model:---------------------------------------------------------#\n",
    "model <- h2o.deeplearning( x = 3:15, # column numbers for predictors\n",
    "                           y = 16,            # column number for label\n",
    "                           training_frame = train_h2o,\n",
    "                           activation = \"RectifierWithDropout\", \n",
    "                           input_dropout_ratio = 0.2,\n",
    "                           hidden_dropout_ratios = c(0.5,0.5),\n",
    "                           balance_classes = TRUE, \n",
    "                           hidden = c(10,8),  ## two hidden layers\n",
    "                           epochs = 50,\n",
    "                           variable_importances = T)"
   ]
  },
  {
   "cell_type": "code",
   "execution_count": 33,
   "metadata": {
    "collapsed": false
   },
   "outputs": [
    {
     "data": {
      "text/plain": [
       "Variable Importances: \n",
       "        variable relative_importance scaled_importance percentage\n",
       "1   NonRefAllele            1.000000          1.000000   0.274644\n",
       "2 TumourCoverage            0.367006          0.367006   0.100796\n",
       "3      RefAllele            0.283771          0.283771   0.077936\n",
       "4 NormalCoverage            0.263137          0.263137   0.072269\n",
       "5       BaseQual            0.225915          0.225915   0.062046\n",
       "\n",
       "---\n",
       "                     variable relative_importance scaled_importance percentage\n",
       "55          Trinucleotide.CCG            0.008136          0.008136   0.002234\n",
       "56   GenomicLocation.intronic            0.007924          0.007924   0.002176\n",
       "57          Trinucleotide.TTG            0.007101          0.007101   0.001950\n",
       "58                 StrandBias            0.005573          0.005573   0.001531\n",
       "59 GenomicLocation.intergenic            0.003395          0.003395   0.000932\n",
       "60  Trinucleotide.missing(NA)            0.000000          0.000000   0.000000\n"
      ]
     },
     "metadata": {},
     "output_type": "display_data"
    }
   ],
   "source": [
    "%%R\n",
    "var_importance = h2o.varimp(model)\n",
    "#print(var_importance)\n",
    "h2o.varimp(model)"
   ]
  },
  {
   "cell_type": "code",
   "execution_count": 34,
   "metadata": {
    "collapsed": true
   },
   "outputs": [],
   "source": [
    "%%R\n",
    "write.table(var_importance, file=\"CPCG0235_variable_importance.csv\")"
   ]
  },
  {
   "cell_type": "code",
   "execution_count": 35,
   "metadata": {
    "collapsed": true
   },
   "outputs": [],
   "source": [
    "var_importance = pd.read_csv(open('CPCG0235_variable_importance.csv','r'),sep=' ')\n",
    "#pd.read_csv('CPCG0100_variable_importance.csv')"
   ]
  },
  {
   "cell_type": "code",
   "execution_count": 36,
   "metadata": {
    "collapsed": false
   },
   "outputs": [
    {
     "data": {
      "text/html": [
       "<div style=\"max-height:1000px;max-width:1500px;overflow:auto;\">\n",
       "<table border=\"1\" class=\"dataframe\">\n",
       "  <thead>\n",
       "    <tr style=\"text-align: right;\">\n",
       "      <th></th>\n",
       "      <th>variable</th>\n",
       "      <th>relative_importance</th>\n",
       "      <th>scaled_importance</th>\n",
       "      <th>percentage</th>\n",
       "    </tr>\n",
       "  </thead>\n",
       "  <tbody>\n",
       "    <tr>\n",
       "      <th>1</th>\n",
       "      <td>   NonRefAllele</td>\n",
       "      <td> 1.000000</td>\n",
       "      <td> 1.000000</td>\n",
       "      <td> 0.274644</td>\n",
       "    </tr>\n",
       "    <tr>\n",
       "      <th>2</th>\n",
       "      <td> TumourCoverage</td>\n",
       "      <td> 0.367006</td>\n",
       "      <td> 0.367006</td>\n",
       "      <td> 0.100796</td>\n",
       "    </tr>\n",
       "    <tr>\n",
       "      <th>3</th>\n",
       "      <td>      RefAllele</td>\n",
       "      <td> 0.283771</td>\n",
       "      <td> 0.283771</td>\n",
       "      <td> 0.077936</td>\n",
       "    </tr>\n",
       "    <tr>\n",
       "      <th>4</th>\n",
       "      <td> NormalCoverage</td>\n",
       "      <td> 0.263137</td>\n",
       "      <td> 0.263137</td>\n",
       "      <td> 0.072269</td>\n",
       "    </tr>\n",
       "    <tr>\n",
       "      <th>5</th>\n",
       "      <td>       BaseQual</td>\n",
       "      <td> 0.225915</td>\n",
       "      <td> 0.225915</td>\n",
       "      <td> 0.062046</td>\n",
       "    </tr>\n",
       "  </tbody>\n",
       "</table>\n",
       "<p>5 rows × 4 columns</p>\n",
       "</div>"
      ],
      "text/plain": [
       "         variable  relative_importance  scaled_importance  percentage\n",
       "1    NonRefAllele             1.000000           1.000000    0.274644\n",
       "2  TumourCoverage             0.367006           0.367006    0.100796\n",
       "3       RefAllele             0.283771           0.283771    0.077936\n",
       "4  NormalCoverage             0.263137           0.263137    0.072269\n",
       "5        BaseQual             0.225915           0.225915    0.062046\n",
       "\n",
       "[5 rows x 4 columns]"
      ]
     },
     "execution_count": 36,
     "metadata": {},
     "output_type": "execute_result"
    }
   ],
   "source": [
    "var_importance[:5]"
   ]
  },
  {
   "cell_type": "code",
   "execution_count": 37,
   "metadata": {
    "collapsed": false
   },
   "outputs": [
    {
     "data": {
      "text/html": [
       "<div style=\"max-height:1000px;max-width:1500px;overflow:auto;\">\n",
       "<table border=\"1\" class=\"dataframe\">\n",
       "  <thead>\n",
       "    <tr style=\"text-align: right;\">\n",
       "      <th></th>\n",
       "      <th>CHROM</th>\n",
       "      <th>POS</th>\n",
       "      <th>RefAllele</th>\n",
       "      <th>NonRefAllele</th>\n",
       "      <th>BaseQual</th>\n",
       "      <th>TumourCoverage</th>\n",
       "      <th>NormalCoverage</th>\n",
       "      <th>MapQual</th>\n",
       "      <th>ReadPosition</th>\n",
       "      <th>Trinucleotide</th>\n",
       "      <th>HomopolymerRate</th>\n",
       "      <th>GCcontent</th>\n",
       "      <th>GenomicLocation</th>\n",
       "      <th>DistanceSNP</th>\n",
       "      <th>StrandBias</th>\n",
       "    </tr>\n",
       "  </thead>\n",
       "  <tbody>\n",
       "    <tr>\n",
       "      <th>0</th>\n",
       "      <td> chr1</td>\n",
       "      <td> 10051</td>\n",
       "      <td> 740</td>\n",
       "      <td> 23</td>\n",
       "      <td> 20653</td>\n",
       "      <td> 959</td>\n",
       "      <td> 1024</td>\n",
       "      <td> 15</td>\n",
       "      <td> 39.0</td>\n",
       "      <td> GTT</td>\n",
       "      <td> 37.880000</td>\n",
       "      <td> 0.378109</td>\n",
       "      <td>            NaN</td>\n",
       "      <td> 41428</td>\n",
       "      <td> 0.775808</td>\n",
       "    </tr>\n",
       "    <tr>\n",
       "      <th>1</th>\n",
       "      <td> chr1</td>\n",
       "      <td> 16288</td>\n",
       "      <td>  40</td>\n",
       "      <td> 12</td>\n",
       "      <td>  1563</td>\n",
       "      <td>  56</td>\n",
       "      <td>   57</td>\n",
       "      <td> 23</td>\n",
       "      <td> 64.5</td>\n",
       "      <td> ACA</td>\n",
       "      <td>  2.468966</td>\n",
       "      <td> 0.492537</td>\n",
       "      <td> ncRNA_intronic</td>\n",
       "      <td> 35191</td>\n",
       "      <td> 0.589286</td>\n",
       "    </tr>\n",
       "    <tr>\n",
       "      <th>2</th>\n",
       "      <td> chr1</td>\n",
       "      <td> 16497</td>\n",
       "      <td> 116</td>\n",
       "      <td> 55</td>\n",
       "      <td>  4939</td>\n",
       "      <td> 179</td>\n",
       "      <td>  113</td>\n",
       "      <td> 23</td>\n",
       "      <td> 55.0</td>\n",
       "      <td> TTC</td>\n",
       "      <td>  2.797101</td>\n",
       "      <td> 0.422886</td>\n",
       "      <td> ncRNA_intronic</td>\n",
       "      <td> 34982</td>\n",
       "      <td> 0.547486</td>\n",
       "    </tr>\n",
       "    <tr>\n",
       "      <th>3</th>\n",
       "      <td> chr1</td>\n",
       "      <td> 19925</td>\n",
       "      <td> 141</td>\n",
       "      <td> 16</td>\n",
       "      <td>  4669</td>\n",
       "      <td> 171</td>\n",
       "      <td>  108</td>\n",
       "      <td>  0</td>\n",
       "      <td> 56.0</td>\n",
       "      <td> GCA</td>\n",
       "      <td>  2.376712</td>\n",
       "      <td> 0.572139</td>\n",
       "      <td> ncRNA_intronic</td>\n",
       "      <td> 31554</td>\n",
       "      <td> 0.643275</td>\n",
       "    </tr>\n",
       "    <tr>\n",
       "      <th>4</th>\n",
       "      <td> chr1</td>\n",
       "      <td> 48518</td>\n",
       "      <td> 116</td>\n",
       "      <td> 17</td>\n",
       "      <td>  4067</td>\n",
       "      <td> 149</td>\n",
       "      <td>  129</td>\n",
       "      <td>  0</td>\n",
       "      <td> 41.0</td>\n",
       "      <td> TTA</td>\n",
       "      <td>  2.810219</td>\n",
       "      <td> 0.383085</td>\n",
       "      <td>     intergenic</td>\n",
       "      <td>  2961</td>\n",
       "      <td> 0.496644</td>\n",
       "    </tr>\n",
       "  </tbody>\n",
       "</table>\n",
       "<p>5 rows × 15 columns</p>\n",
       "</div>"
      ],
      "text/plain": [
       "  CHROM    POS  RefAllele  NonRefAllele  BaseQual  TumourCoverage  \\\n",
       "0  chr1  10051        740            23     20653             959   \n",
       "1  chr1  16288         40            12      1563              56   \n",
       "2  chr1  16497        116            55      4939             179   \n",
       "3  chr1  19925        141            16      4669             171   \n",
       "4  chr1  48518        116            17      4067             149   \n",
       "\n",
       "   NormalCoverage  MapQual  ReadPosition Trinucleotide  HomopolymerRate  \\\n",
       "0            1024       15          39.0           GTT        37.880000   \n",
       "1              57       23          64.5           ACA         2.468966   \n",
       "2             113       23          55.0           TTC         2.797101   \n",
       "3             108        0          56.0           GCA         2.376712   \n",
       "4             129        0          41.0           TTA         2.810219   \n",
       "\n",
       "   GCcontent GenomicLocation  DistanceSNP  StrandBias  \n",
       "0   0.378109             NaN        41428    0.775808  \n",
       "1   0.492537  ncRNA_intronic        35191    0.589286  \n",
       "2   0.422886  ncRNA_intronic        34982    0.547486  \n",
       "3   0.572139  ncRNA_intronic        31554    0.643275  \n",
       "4   0.383085      intergenic         2961    0.496644  \n",
       "\n",
       "[5 rows x 15 columns]"
      ]
     },
     "execution_count": 37,
     "metadata": {},
     "output_type": "execute_result"
    }
   ],
   "source": [
    "GenomicFeatures_CPCG0235[:5]"
   ]
  },
  {
   "cell_type": "code",
   "execution_count": 38,
   "metadata": {
    "collapsed": false
   },
   "outputs": [
    {
     "data": {
      "text/plain": [
       "{'BaseQual': 0.22591510415077201,\n",
       " 'DistanceSNP': 0.081409119069576305,\n",
       " 'GCcontent': 0.013976084068417501,\n",
       " 'GenomicLocation.UTR3': 0.0137208290398121,\n",
       " 'GenomicLocation.UTR5': 0.032354906201362603,\n",
       " 'GenomicLocation.UTR5;UTR3': 0.046582501381635701,\n",
       " 'GenomicLocation.downstream': 0.0225263833999634,\n",
       " 'GenomicLocation.exonic': 0.020142843946814499,\n",
       " 'GenomicLocation.exonic;splicing': 0.058884296566247898,\n",
       " 'GenomicLocation.intergenic': 0.0033947108313441303,\n",
       " 'GenomicLocation.intronic': 0.0079244719818234409,\n",
       " 'GenomicLocation.missing(NA)': 0.0183493364602327,\n",
       " 'GenomicLocation.ncRNA_UTR3': 0.0283181127160788,\n",
       " 'GenomicLocation.ncRNA_UTR5': 0.0436825230717659,\n",
       " 'GenomicLocation.ncRNA_exonic': 0.029515836387872699,\n",
       " 'GenomicLocation.ncRNA_intronic': 0.028384642675519,\n",
       " 'GenomicLocation.splicing': 0.043282497674226802,\n",
       " 'GenomicLocation.upstream': 0.0208651199936867,\n",
       " 'GenomicLocation.upstream;downstream': 0.032065566629171399,\n",
       " 'HomopolymerRate': 0.049229618161916698,\n",
       " 'MapQual': 0.22475391626357999,\n",
       " 'NonRefAllele': 1.0,\n",
       " 'NormalCoverage': 0.26313674449920699,\n",
       " 'ReadPosition': 0.011229294352233399,\n",
       " 'RefAllele': 0.28377088904380798,\n",
       " 'StrandBias': 0.00557304639369249,\n",
       " 'Trinucleotide.ACA': 0.028704356402158699,\n",
       " 'Trinucleotide.ACC': 0.0237041749060154,\n",
       " 'Trinucleotide.ACG': 0.025075104087591199,\n",
       " 'Trinucleotide.ACT': 0.024989448487758598,\n",
       " 'Trinucleotide.ATA': 0.037012062966823599,\n",
       " 'Trinucleotide.ATC': 0.0100716408342123,\n",
       " 'Trinucleotide.ATG': 0.022465856745839102,\n",
       " 'Trinucleotide.ATT': 0.0101877534762025,\n",
       " 'Trinucleotide.CCA': 0.0122709376737475,\n",
       " 'Trinucleotide.CCC': 0.013999819755554199,\n",
       " 'Trinucleotide.CCG': 0.0081359026953577995,\n",
       " 'Trinucleotide.CCT': 0.012903773225843899,\n",
       " 'Trinucleotide.CTA': 0.013414155691862099,\n",
       " 'Trinucleotide.CTC': 0.019458914175629598,\n",
       " 'Trinucleotide.CTG': 0.0109912240877748,\n",
       " 'Trinucleotide.CTT': 0.0090356282889843004,\n",
       " 'Trinucleotide.GCA': 0.0149041982367635,\n",
       " 'Trinucleotide.GCC': 0.046754948794841801,\n",
       " 'Trinucleotide.GCG': 0.026877496391534798,\n",
       " 'Trinucleotide.GCT': 0.043469358235597597,\n",
       " 'Trinucleotide.GTA': 0.016283523291349401,\n",
       " 'Trinucleotide.GTC': 0.014664125628769399,\n",
       " 'Trinucleotide.GTG': 0.063495740294456496,\n",
       " 'Trinucleotide.GTT': 0.022153547033667599,\n",
       " 'Trinucleotide.TCA': 0.0178730115294456,\n",
       " 'Trinucleotide.TCC': 0.020172849297523499,\n",
       " 'Trinucleotide.TCG': 0.016286754980683299,\n",
       " 'Trinucleotide.TCT': 0.025466650724411,\n",
       " 'Trinucleotide.TTA': 0.0088749118149280496,\n",
       " 'Trinucleotide.TTC': 0.015850635245442401,\n",
       " 'Trinucleotide.TTG': 0.0071012726984918092,\n",
       " 'Trinucleotide.TTT': 0.022439358755946201,\n",
       " 'Trinucleotide.missing(NA)': 0.0,\n",
       " 'TumourCoverage': 0.36700561642646795}"
      ]
     },
     "execution_count": 38,
     "metadata": {},
     "output_type": "execute_result"
    }
   ],
   "source": [
    "var_imp_dict = {}\n",
    "\n",
    "for i in range(var_importance.shape[0]):\n",
    "    var_imp_dict[var_importance.iloc[i,0]] = var_importance.iloc[i,1]\n",
    "\n",
    "var_imp_dict"
   ]
  },
  {
   "cell_type": "code",
   "execution_count": 39,
   "metadata": {
    "collapsed": false
   },
   "outputs": [],
   "source": [
    "noOfSample = GenomicFeatures_CPCG0235.shape[0]\n",
    "\n",
    "CPCG0235_Dict = {}\n",
    "\n",
    "for i in range(noOfSample):\n",
    "    \n",
    "    pos = GenomicFeatures_CPCG0235.iloc[i,1] #gets the pos value\n",
    "    \n",
    "    RefAllele      = GenomicFeatures_CPCG0235.iloc[i,2]*var_imp_dict['RefAllele']\n",
    "    NonRefAllele   = GenomicFeatures_CPCG0235.iloc[i,3]*var_imp_dict['NonRefAllele']\n",
    "    BaseQual       = GenomicFeatures_CPCG0235.iloc[i,4]*var_imp_dict['BaseQual']\n",
    "    TumourCoverage = GenomicFeatures_CPCG0235.iloc[i,5]*var_imp_dict['TumourCoverage']\n",
    "    NormalCoverage = GenomicFeatures_CPCG0235.iloc[i,6]*var_imp_dict['NormalCoverage']\n",
    "    MapQual        = GenomicFeatures_CPCG0235.iloc[i,7]*var_imp_dict['MapQual']\n",
    "    ReadPosition   = GenomicFeatures_CPCG0235.iloc[i,8]*var_imp_dict['ReadPosition']\n",
    "    \n",
    "    Trinucleotide  = 0\n",
    "    if isinstance(GenomicFeatures_CPCG0235.iloc[i,9], str):\n",
    "        Trinucleotide  = var_imp_dict['Trinucleotide.'+str(GenomicFeatures_CPCG0235.iloc[i,9])]\n",
    "    HomopolymerRate= GenomicFeatures_CPCG0235.iloc[i,10]*var_imp_dict['HomopolymerRate']\n",
    "    GCcontent      = GenomicFeatures_CPCG0235.iloc[i,11]*var_imp_dict['GCcontent']\n",
    "    \n",
    "    GenomicLocation = 0\n",
    "    if isinstance(GenomicFeatures_CPCG0235.iloc[i,12], str):\n",
    "        GenomicLocation= var_imp_dict['GenomicLocation.'+str(GenomicFeatures_CPCG0235.iloc[i,12])]\n",
    "    DistanceSNP    = GenomicFeatures_CPCG0235.iloc[i,13]*var_imp_dict['DistanceSNP']\n",
    "    StrandBias     = GenomicFeatures_CPCG0235.iloc[i,14]*var_imp_dict['StrandBias']\n",
    "    \n",
    "    #print 'RefAllele=',RefAllele,' NonRefAllele=',NonRefAllele,' BaseQual=',BaseQual,' TumourCoverage=',TumourCoverage\n",
    "    #print 'NormalCoverage=',NormalCoverage,' MapQual=',MapQual,' ReadPosition=',ReadPosition,' Trinucleotide=',Trinucleotide\n",
    "    #print 'HomopolymerRate=',HomopolymerRate,' GCcontent=',GCcontent,' GenomicLocation=',GenomicLocation,' DistanceSNP=',DistanceSNP\n",
    "    #print 'StrandBias=',StrandBias\n",
    "    CPCG0235_Dict[pos] = RefAllele+NonRefAllele+BaseQual+TumourCoverage+NormalCoverage+MapQual+ReadPosition+Trinucleotide+ \\\n",
    "                         HomopolymerRate+GCcontent+GenomicLocation+DistanceSNP+StrandBias"
   ]
  },
  {
   "cell_type": "code",
   "execution_count": 40,
   "metadata": {
    "collapsed": true
   },
   "outputs": [],
   "source": [
    "#Sorting dictionary\n",
    "CPCG0235_Dict1 = [(k,v) for v,k in sorted([(v,k) for k,v in CPCG0235_Dict.items()],reverse=True)]"
   ]
  },
  {
   "cell_type": "code",
   "execution_count": 41,
   "metadata": {
    "collapsed": true
   },
   "outputs": [],
   "source": [
    "CPCG0235_Dict_Frame = pd.DataFrame(CPCG0235_Dict1, columns=['POS', 'Value'])"
   ]
  },
  {
   "cell_type": "code",
   "execution_count": 42,
   "metadata": {
    "collapsed": true
   },
   "outputs": [],
   "source": [
    "CPCG0235_Dict_Frame.to_csv(\"CPCG0235_Dict_Frame.csv\")"
   ]
  },
  {
   "cell_type": "code",
   "execution_count": 22,
   "metadata": {
    "collapsed": true
   },
   "outputs": [],
   "source": [
    "CPCG0235_Dict_Frame = pd.read_csv(\"CPCG0235_Dict_Frame.csv\")"
   ]
  },
  {
   "cell_type": "code",
   "execution_count": 43,
   "metadata": {
    "collapsed": false
   },
   "outputs": [
    {
     "data": {
      "text/html": [
       "<div style=\"max-height:1000px;max-width:1500px;overflow:auto;\">\n",
       "<table border=\"1\" class=\"dataframe\">\n",
       "  <thead>\n",
       "    <tr style=\"text-align: right;\">\n",
       "      <th></th>\n",
       "      <th>POS</th>\n",
       "      <th>Value</th>\n",
       "    </tr>\n",
       "  </thead>\n",
       "  <tbody>\n",
       "    <tr>\n",
       "      <th>0</th>\n",
       "      <td> 58884756</td>\n",
       "      <td> 2518958.279306</td>\n",
       "    </tr>\n",
       "    <tr>\n",
       "      <th>1</th>\n",
       "      <td> 58854511</td>\n",
       "      <td> 2518924.016174</td>\n",
       "    </tr>\n",
       "    <tr>\n",
       "      <th>2</th>\n",
       "      <td> 58866141</td>\n",
       "      <td> 2508525.411544</td>\n",
       "    </tr>\n",
       "    <tr>\n",
       "      <th>3</th>\n",
       "      <td> 58829547</td>\n",
       "      <td> 2504675.648524</td>\n",
       "    </tr>\n",
       "    <tr>\n",
       "      <th>4</th>\n",
       "      <td> 58834058</td>\n",
       "      <td> 2502802.586659</td>\n",
       "    </tr>\n",
       "    <tr>\n",
       "      <th>5</th>\n",
       "      <td> 58855088</td>\n",
       "      <td> 2496613.505358</td>\n",
       "    </tr>\n",
       "    <tr>\n",
       "      <th>6</th>\n",
       "      <td> 58912787</td>\n",
       "      <td> 2484375.450973</td>\n",
       "    </tr>\n",
       "    <tr>\n",
       "      <th>7</th>\n",
       "      <td> 58876064</td>\n",
       "      <td> 2483735.868718</td>\n",
       "    </tr>\n",
       "    <tr>\n",
       "      <th>8</th>\n",
       "      <td> 58869542</td>\n",
       "      <td> 2482079.753849</td>\n",
       "    </tr>\n",
       "    <tr>\n",
       "      <th>9</th>\n",
       "      <td> 58876033</td>\n",
       "      <td> 2481630.571069</td>\n",
       "    </tr>\n",
       "  </tbody>\n",
       "</table>\n",
       "<p>10 rows × 2 columns</p>\n",
       "</div>"
      ],
      "text/plain": [
       "        POS           Value\n",
       "0  58884756  2518958.279306\n",
       "1  58854511  2518924.016174\n",
       "2  58866141  2508525.411544\n",
       "3  58829547  2504675.648524\n",
       "4  58834058  2502802.586659\n",
       "5  58855088  2496613.505358\n",
       "6  58912787  2484375.450973\n",
       "7  58876064  2483735.868718\n",
       "8  58869542  2482079.753849\n",
       "9  58876033  2481630.571069\n",
       "\n",
       "[10 rows x 2 columns]"
      ]
     },
     "execution_count": 43,
     "metadata": {},
     "output_type": "execute_result"
    }
   ],
   "source": [
    "CPCG0235_Dict_Frame[:10]"
   ]
  },
  {
   "cell_type": "code",
   "execution_count": 23,
   "metadata": {
    "collapsed": true
   },
   "outputs": [],
   "source": [
    "GenomicFeatures_CPCG0235_1 = pd.concat([CPCG0235.iloc[:,0:16], CPCG0235_Y_Val_1],axis=1)"
   ]
  },
  {
   "cell_type": "code",
   "execution_count": 25,
   "metadata": {
    "collapsed": false
   },
   "outputs": [
    {
     "name": "stdout",
     "output_type": "stream",
     "text": [
      "[58884756 58854511 58866141 58829547 58834058 58855088 58912787 58876064\n",
      " 58869542 58876033]\n"
     ]
    }
   ],
   "source": [
    "rows = CPCG0235_Dict_Frame['POS'][:10].values\n",
    "print rows\n",
    "GenomicFeatures_CPCG0235_Top10 = GenomicFeatures_CPCG0235_1.loc[GenomicFeatures_CPCG0235_1['POS_x'].isin(rows)]"
   ]
  },
  {
   "cell_type": "code",
   "execution_count": 27,
   "metadata": {
    "collapsed": false
   },
   "outputs": [
    {
     "data": {
      "text/html": [
       "<div style=\"max-height:1000px;max-width:1500px;overflow:auto;\">\n",
       "<table border=\"1\" class=\"dataframe\">\n",
       "  <thead>\n",
       "    <tr style=\"text-align: right;\">\n",
       "      <th></th>\n",
       "      <th>CHROM</th>\n",
       "      <th>POS_x</th>\n",
       "      <th>RefAllele</th>\n",
       "      <th>NonRefAllele</th>\n",
       "      <th>BaseQual</th>\n",
       "      <th>TumourCoverage</th>\n",
       "      <th>NormalCoverage</th>\n",
       "      <th>MapQual</th>\n",
       "      <th>ReadPosition</th>\n",
       "      <th>Trinucleotide</th>\n",
       "      <th>HomopolymerRate</th>\n",
       "      <th>GCcontent</th>\n",
       "      <th>GenomicLocation</th>\n",
       "      <th>DistanceSNP</th>\n",
       "      <th>StrandBias</th>\n",
       "      <th>POS_y</th>\n",
       "      <th>Label</th>\n",
       "    </tr>\n",
       "  </thead>\n",
       "  <tbody>\n",
       "    <tr>\n",
       "      <th>130621</th>\n",
       "      <td> chrY</td>\n",
       "      <td> 58829547</td>\n",
       "      <td> 6227</td>\n",
       "      <td>  952</td>\n",
       "      <td> 220917</td>\n",
       "      <td>  9939</td>\n",
       "      <td> 10626</td>\n",
       "      <td> 0</td>\n",
       "      <td> 59</td>\n",
       "      <td> GCA</td>\n",
       "      <td> 2.921260</td>\n",
       "      <td> 0.373134</td>\n",
       "      <td> NaN</td>\n",
       "      <td> 30040904</td>\n",
       "      <td> 0.558306</td>\n",
       "      <td> 58829546</td>\n",
       "      <td> 0</td>\n",
       "    </tr>\n",
       "    <tr>\n",
       "      <th>130623</th>\n",
       "      <td> chrY</td>\n",
       "      <td> 58834058</td>\n",
       "      <td> 6908</td>\n",
       "      <td>  194</td>\n",
       "      <td> 214607</td>\n",
       "      <td>  8649</td>\n",
       "      <td> 11476</td>\n",
       "      <td> 0</td>\n",
       "      <td> 40</td>\n",
       "      <td> CTA</td>\n",
       "      <td> 2.227586</td>\n",
       "      <td> 0.368159</td>\n",
       "      <td> NaN</td>\n",
       "      <td> 30045415</td>\n",
       "      <td> 0.201064</td>\n",
       "      <td> 58834057</td>\n",
       "      <td> 0</td>\n",
       "    </tr>\n",
       "    <tr>\n",
       "      <th>130637</th>\n",
       "      <td> chrY</td>\n",
       "      <td> 58854511</td>\n",
       "      <td> 7369</td>\n",
       "      <td>  675</td>\n",
       "      <td> 238656</td>\n",
       "      <td> 20338</td>\n",
       "      <td> 27139</td>\n",
       "      <td> 0</td>\n",
       "      <td> 45</td>\n",
       "      <td> GTA</td>\n",
       "      <td> 2.555556</td>\n",
       "      <td> 0.353234</td>\n",
       "      <td> NaN</td>\n",
       "      <td> 30065868</td>\n",
       "      <td> 0.855984</td>\n",
       "      <td> 58854510</td>\n",
       "      <td> 0</td>\n",
       "    </tr>\n",
       "    <tr>\n",
       "      <th>130638</th>\n",
       "      <td> chrY</td>\n",
       "      <td> 58855088</td>\n",
       "      <td> 6042</td>\n",
       "      <td>   76</td>\n",
       "      <td> 184587</td>\n",
       "      <td>  8328</td>\n",
       "      <td>  9052</td>\n",
       "      <td> 0</td>\n",
       "      <td> 60</td>\n",
       "      <td> ACA</td>\n",
       "      <td> 2.518248</td>\n",
       "      <td> 0.378109</td>\n",
       "      <td> NaN</td>\n",
       "      <td> 30066445</td>\n",
       "      <td> 0.180956</td>\n",
       "      <td> 58855087</td>\n",
       "      <td> 0</td>\n",
       "    </tr>\n",
       "    <tr>\n",
       "      <th>130651</th>\n",
       "      <td> chrY</td>\n",
       "      <td> 58866141</td>\n",
       "      <td> 6020</td>\n",
       "      <td> 1098</td>\n",
       "      <td> 221715</td>\n",
       "      <td>  9960</td>\n",
       "      <td> 12889</td>\n",
       "      <td> 0</td>\n",
       "      <td> 57</td>\n",
       "      <td> TCT</td>\n",
       "      <td> 2.222222</td>\n",
       "      <td> 0.368159</td>\n",
       "      <td> NaN</td>\n",
       "      <td> 30077498</td>\n",
       "      <td> 0.351205</td>\n",
       "      <td> 58866140</td>\n",
       "      <td> 0</td>\n",
       "    </tr>\n",
       "    <tr>\n",
       "      <th>130657</th>\n",
       "      <td> chrY</td>\n",
       "      <td> 58869542</td>\n",
       "      <td> 3980</td>\n",
       "      <td>   80</td>\n",
       "      <td> 124746</td>\n",
       "      <td>  5762</td>\n",
       "      <td>  6512</td>\n",
       "      <td> 0</td>\n",
       "      <td> 42</td>\n",
       "      <td> CTT</td>\n",
       "      <td> 2.639098</td>\n",
       "      <td> 0.407960</td>\n",
       "      <td> NaN</td>\n",
       "      <td> 30080899</td>\n",
       "      <td> 0.463901</td>\n",
       "      <td> 58869541</td>\n",
       "      <td> 0</td>\n",
       "    </tr>\n",
       "    <tr>\n",
       "      <th>130661</th>\n",
       "      <td> chrY</td>\n",
       "      <td> 58876033</td>\n",
       "      <td> 4018</td>\n",
       "      <td>   69</td>\n",
       "      <td> 120905</td>\n",
       "      <td>  5653</td>\n",
       "      <td>  6247</td>\n",
       "      <td> 0</td>\n",
       "      <td> 49</td>\n",
       "      <td> GTT</td>\n",
       "      <td> 2.456522</td>\n",
       "      <td> 0.388060</td>\n",
       "      <td> NaN</td>\n",
       "      <td> 30087390</td>\n",
       "      <td> 0.399788</td>\n",
       "      <td> 58876032</td>\n",
       "      <td> 0</td>\n",
       "    </tr>\n",
       "    <tr>\n",
       "      <th>130662</th>\n",
       "      <td> chrY</td>\n",
       "      <td> 58876064</td>\n",
       "      <td> 4105</td>\n",
       "      <td>  114</td>\n",
       "      <td> 129026</td>\n",
       "      <td>  5879</td>\n",
       "      <td>  6686</td>\n",
       "      <td> 0</td>\n",
       "      <td> 47</td>\n",
       "      <td> GCA</td>\n",
       "      <td> 2.427536</td>\n",
       "      <td> 0.388060</td>\n",
       "      <td> NaN</td>\n",
       "      <td> 30087421</td>\n",
       "      <td> 0.430856</td>\n",
       "      <td> 58876063</td>\n",
       "      <td> 0</td>\n",
       "    </tr>\n",
       "    <tr>\n",
       "      <th>130674</th>\n",
       "      <td> chrY</td>\n",
       "      <td> 58884756</td>\n",
       "      <td> 8007</td>\n",
       "      <td>   54</td>\n",
       "      <td> 244875</td>\n",
       "      <td> 16080</td>\n",
       "      <td> 20182</td>\n",
       "      <td> 0</td>\n",
       "      <td> 80</td>\n",
       "      <td> CTT</td>\n",
       "      <td> 2.559701</td>\n",
       "      <td> 0.393035</td>\n",
       "      <td> NaN</td>\n",
       "      <td> 30096113</td>\n",
       "      <td> 0.528483</td>\n",
       "      <td> 58884755</td>\n",
       "      <td> 0</td>\n",
       "    </tr>\n",
       "    <tr>\n",
       "      <th>130691</th>\n",
       "      <td> chrY</td>\n",
       "      <td> 58912787</td>\n",
       "      <td> 3428</td>\n",
       "      <td>  379</td>\n",
       "      <td> 118887</td>\n",
       "      <td>  5711</td>\n",
       "      <td>  6417</td>\n",
       "      <td> 0</td>\n",
       "      <td> 54</td>\n",
       "      <td> GCT</td>\n",
       "      <td> 2.352518</td>\n",
       "      <td> 0.398010</td>\n",
       "      <td> NaN</td>\n",
       "      <td> 30124144</td>\n",
       "      <td> 0.147260</td>\n",
       "      <td> 58912786</td>\n",
       "      <td> 0</td>\n",
       "    </tr>\n",
       "  </tbody>\n",
       "</table>\n",
       "<p>10 rows × 17 columns</p>\n",
       "</div>"
      ],
      "text/plain": [
       "       CHROM     POS_x  RefAllele  NonRefAllele  BaseQual  TumourCoverage  \\\n",
       "130621  chrY  58829547       6227           952    220917            9939   \n",
       "130623  chrY  58834058       6908           194    214607            8649   \n",
       "130637  chrY  58854511       7369           675    238656           20338   \n",
       "130638  chrY  58855088       6042            76    184587            8328   \n",
       "130651  chrY  58866141       6020          1098    221715            9960   \n",
       "130657  chrY  58869542       3980            80    124746            5762   \n",
       "130661  chrY  58876033       4018            69    120905            5653   \n",
       "130662  chrY  58876064       4105           114    129026            5879   \n",
       "130674  chrY  58884756       8007            54    244875           16080   \n",
       "130691  chrY  58912787       3428           379    118887            5711   \n",
       "\n",
       "        NormalCoverage  MapQual  ReadPosition Trinucleotide  HomopolymerRate  \\\n",
       "130621           10626        0            59           GCA         2.921260   \n",
       "130623           11476        0            40           CTA         2.227586   \n",
       "130637           27139        0            45           GTA         2.555556   \n",
       "130638            9052        0            60           ACA         2.518248   \n",
       "130651           12889        0            57           TCT         2.222222   \n",
       "130657            6512        0            42           CTT         2.639098   \n",
       "130661            6247        0            49           GTT         2.456522   \n",
       "130662            6686        0            47           GCA         2.427536   \n",
       "130674           20182        0            80           CTT         2.559701   \n",
       "130691            6417        0            54           GCT         2.352518   \n",
       "\n",
       "        GCcontent GenomicLocation  DistanceSNP  StrandBias     POS_y  Label  \n",
       "130621   0.373134             NaN     30040904    0.558306  58829546      0  \n",
       "130623   0.368159             NaN     30045415    0.201064  58834057      0  \n",
       "130637   0.353234             NaN     30065868    0.855984  58854510      0  \n",
       "130638   0.378109             NaN     30066445    0.180956  58855087      0  \n",
       "130651   0.368159             NaN     30077498    0.351205  58866140      0  \n",
       "130657   0.407960             NaN     30080899    0.463901  58869541      0  \n",
       "130661   0.388060             NaN     30087390    0.399788  58876032      0  \n",
       "130662   0.388060             NaN     30087421    0.430856  58876063      0  \n",
       "130674   0.393035             NaN     30096113    0.528483  58884755      0  \n",
       "130691   0.398010             NaN     30124144    0.147260  58912786      0  \n",
       "\n",
       "[10 rows x 17 columns]"
      ]
     },
     "execution_count": 27,
     "metadata": {},
     "output_type": "execute_result"
    }
   ],
   "source": [
    "GenomicFeatures_CPCG0235_Top10[:10]"
   ]
  },
  {
   "cell_type": "code",
   "execution_count": null,
   "metadata": {
    "collapsed": false
   },
   "outputs": [],
   "source": []
  },
  {
   "cell_type": "code",
   "execution_count": null,
   "metadata": {
    "collapsed": true
   },
   "outputs": [],
   "source": []
  },
  {
   "cell_type": "code",
   "execution_count": null,
   "metadata": {
    "collapsed": true
   },
   "outputs": [],
   "source": []
  },
  {
   "cell_type": "code",
   "execution_count": null,
   "metadata": {
    "collapsed": true
   },
   "outputs": [],
   "source": []
  },
  {
   "cell_type": "code",
   "execution_count": null,
   "metadata": {
    "collapsed": true
   },
   "outputs": [],
   "source": []
  },
  {
   "cell_type": "code",
   "execution_count": null,
   "metadata": {
    "collapsed": true
   },
   "outputs": [],
   "source": []
  }
 ],
 "metadata": {
  "kernelspec": {
   "display_name": "Python 2",
   "language": "python",
   "name": "python2"
  },
  "language_info": {
   "codemirror_mode": {
    "name": "ipython",
    "version": 2
   },
   "file_extension": ".py",
   "mimetype": "text/x-python",
   "name": "python",
   "nbconvert_exporter": "python",
   "pygments_lexer": "ipython2",
   "version": "2.7.6"
  }
 },
 "nbformat": 4,
 "nbformat_minor": 0
}
