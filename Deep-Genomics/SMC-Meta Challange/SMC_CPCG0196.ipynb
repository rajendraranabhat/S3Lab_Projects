{
 "cells": [
  {
   "cell_type": "code",
   "execution_count": 1,
   "metadata": {
    "collapsed": false
   },
   "outputs": [
    {
     "name": "stderr",
     "output_type": "stream",
     "text": [
      "WARNING (theano.sandbox.cuda): CUDA is installed, but device gpu is not available  (error: Unable to get the number of gpus available: no CUDA-capable device is detected)\n",
      "WARNING:theano.sandbox.cuda:CUDA is installed, but device gpu is not available  (error: Unable to get the number of gpus available: no CUDA-capable device is detected)\n",
      "/usr/local/lib/python2.7/dist-packages/theano/tensor/signal/downsample.py:6: UserWarning: downsample module has been moved to the theano.tensor.signal.pool module.\n",
      "  \"downsample module has been moved to the theano.tensor.signal.pool module.\")\n",
      "Using Theano backend.\n"
     ]
    }
   ],
   "source": [
    "import numpy as np\n",
    "import pandas as pd\n",
    "from collections import Counter\n",
    "import math\n",
    "\n",
    "from sklearn.neighbors import KNeighborsClassifier\n",
    "from sklearn.linear_model import LogisticRegression\n",
    "from sklearn.ensemble import RandomForestClassifier\n",
    "from sklearn.cross_validation import cross_val_score\n",
    "from sklearn import metrics\n",
    "from sklearn.cross_validation import train_test_split\n",
    "from sklearn.metrics import confusion_matrix, roc_curve, auc\n",
    "from sklearn.grid_search import GridSearchCV\n",
    "from sklearn import svm\n",
    "from sklearn.decomposition import RandomizedPCA\n",
    "from sklearn.metrics import classification_report\n",
    "from sklearn import preprocessing\n",
    "import matplotlib.pyplot as plt\n",
    "import scipy.optimize as opt\n",
    "import glob\n",
    "import os\n",
    "import sys\n",
    "import pickle\n",
    "import time\n",
    "import timeit\n",
    "\n",
    "from sklearn.decomposition import RandomizedPCA\n",
    "\n",
    "import theano\n",
    "import theano.tensor as T\n",
    "import lasagne\n",
    "\n",
    "#np.random.seed(1337)  # for reproducibility\n",
    "from keras.datasets import mnist\n",
    "from keras.models import Sequential\n",
    "from keras.layers.core import Dense, Dropout, Activation, Flatten, Layer, Reshape, AutoEncoder, Merge\n",
    "from keras.layers.convolutional import Convolution2D,MaxPooling2D,Convolution1D,MaxPooling1D,UpSampling2D, ZeroPadding2D\n",
    "from keras.optimizers import SGD, Adam, RMSprop, Adadelta\n",
    "from keras.layers.normalization import BatchNormalization\n",
    "from keras.utils import np_utils\n",
    "import keras.utils.visualize_util as vutil\n",
    "from keras.layers.recurrent import LSTM, GRU, SimpleRNN\n",
    "from keras.regularizers import l1, l2, l1l2, activity_l2, activity_l1\n",
    "import keras.layers.containers as containers\n",
    "from keras.layers.noise import GaussianNoise\n",
    "from keras.regularizers import ActivityRegularizer\n",
    "from keras import backend as K\n",
    "import keras.utils.visualize_util as vutil\n",
    "from keras.models import model_from_json\n",
    "\n",
    "import seaborn as sns\n",
    "\n",
    "%matplotlib inline\n",
    "\n",
    "from IPython.display import SVG\n",
    "\n",
    "import h5py\n",
    "\n",
    "np.set_printoptions(suppress=True)  #Supress exponent of the number 2e-2 == 0.02\n",
    "\n",
    "%matplotlib inline"
   ]
  },
  {
   "cell_type": "code",
   "execution_count": 2,
   "metadata": {
    "collapsed": true
   },
   "outputs": [],
   "source": [
    "#CPCG0196"
   ]
  },
  {
   "cell_type": "code",
   "execution_count": 3,
   "metadata": {
    "collapsed": false
   },
   "outputs": [],
   "source": [
    "#Read the data\n",
    "\n",
    "GenomicFeatures_CPCG0196 = pd.read_csv(open('data/CPCG0196/GenomicFeatures_CPCG0196.txt','r'),sep='\\t')\n",
    "SNVCalls_CPCG0196    = pd.read_csv(open('data/CPCG0196/SNVCalls_CPCG0196.txt','r'),sep='\\t') "
   ]
  },
  {
   "cell_type": "code",
   "execution_count": 4,
   "metadata": {
    "collapsed": false
   },
   "outputs": [
    {
     "name": "stdout",
     "output_type": "stream",
     "text": [
      "(262727, 15)\n",
      "(262727, 153)\n"
     ]
    }
   ],
   "source": [
    "print GenomicFeatures_CPCG0196.shape\n",
    "print SNVCalls_CPCG0196.shape"
   ]
  },
  {
   "cell_type": "code",
   "execution_count": 5,
   "metadata": {
    "collapsed": false
   },
   "outputs": [
    {
     "data": {
      "text/html": [
       "<div style=\"max-height:1000px;max-width:1500px;overflow:auto;\">\n",
       "<table border=\"1\" class=\"dataframe\">\n",
       "  <thead>\n",
       "    <tr style=\"text-align: right;\">\n",
       "      <th></th>\n",
       "      <th>CHROM</th>\n",
       "      <th>POS</th>\n",
       "      <th>RefAllele</th>\n",
       "      <th>NonRefAllele</th>\n",
       "      <th>BaseQual</th>\n",
       "      <th>TumourCoverage</th>\n",
       "      <th>NormalCoverage</th>\n",
       "      <th>MapQual</th>\n",
       "      <th>ReadPosition</th>\n",
       "      <th>Trinucleotide</th>\n",
       "      <th>HomopolymerRate</th>\n",
       "      <th>GCcontent</th>\n",
       "      <th>GenomicLocation</th>\n",
       "      <th>DistanceSNP</th>\n",
       "      <th>StrandBias</th>\n",
       "    </tr>\n",
       "  </thead>\n",
       "  <tbody>\n",
       "    <tr>\n",
       "      <th>0</th>\n",
       "      <td> chr1</td>\n",
       "      <td> 10596</td>\n",
       "      <td>  38</td>\n",
       "      <td>  4</td>\n",
       "      <td> 1238</td>\n",
       "      <td>  54</td>\n",
       "      <td>  22</td>\n",
       "      <td> 15</td>\n",
       "      <td> 79.5</td>\n",
       "      <td> ACA</td>\n",
       "      <td> 1.860759</td>\n",
       "      <td> 0.706468</td>\n",
       "      <td>     intergenic</td>\n",
       "      <td> 20327</td>\n",
       "      <td> 0.277778</td>\n",
       "    </tr>\n",
       "    <tr>\n",
       "      <th>1</th>\n",
       "      <td> chr1</td>\n",
       "      <td> 14464</td>\n",
       "      <td> 118</td>\n",
       "      <td> 42</td>\n",
       "      <td> 4553</td>\n",
       "      <td> 182</td>\n",
       "      <td>  67</td>\n",
       "      <td>  0</td>\n",
       "      <td> 58.0</td>\n",
       "      <td> CTG</td>\n",
       "      <td> 2.538462</td>\n",
       "      <td> 0.547264</td>\n",
       "      <td>            NaN</td>\n",
       "      <td> 16459</td>\n",
       "      <td> 0.527473</td>\n",
       "    </tr>\n",
       "    <tr>\n",
       "      <th>2</th>\n",
       "      <td> chr1</td>\n",
       "      <td> 15484</td>\n",
       "      <td> 194</td>\n",
       "      <td> 23</td>\n",
       "      <td> 6701</td>\n",
       "      <td> 244</td>\n",
       "      <td> 104</td>\n",
       "      <td>  0</td>\n",
       "      <td> 42.0</td>\n",
       "      <td> CCT</td>\n",
       "      <td> 1.838509</td>\n",
       "      <td> 0.542289</td>\n",
       "      <td> ncRNA_intronic</td>\n",
       "      <td> 15439</td>\n",
       "      <td> 0.446721</td>\n",
       "    </tr>\n",
       "    <tr>\n",
       "      <th>3</th>\n",
       "      <td> chr1</td>\n",
       "      <td> 19004</td>\n",
       "      <td>  66</td>\n",
       "      <td> 41</td>\n",
       "      <td> 2855</td>\n",
       "      <td> 117</td>\n",
       "      <td>  49</td>\n",
       "      <td>  0</td>\n",
       "      <td> 44.0</td>\n",
       "      <td> ATG</td>\n",
       "      <td> 2.315436</td>\n",
       "      <td> 0.577114</td>\n",
       "      <td> ncRNA_intronic</td>\n",
       "      <td> 11919</td>\n",
       "      <td> 0.615385</td>\n",
       "    </tr>\n",
       "    <tr>\n",
       "      <th>4</th>\n",
       "      <td> chr1</td>\n",
       "      <td> 19279</td>\n",
       "      <td> 152</td>\n",
       "      <td> 20</td>\n",
       "      <td> 4198</td>\n",
       "      <td> 186</td>\n",
       "      <td>  72</td>\n",
       "      <td>  9</td>\n",
       "      <td> 58.0</td>\n",
       "      <td> ACG</td>\n",
       "      <td> 2.455172</td>\n",
       "      <td> 0.656716</td>\n",
       "      <td>            NaN</td>\n",
       "      <td> 11644</td>\n",
       "      <td> 0.510753</td>\n",
       "    </tr>\n",
       "  </tbody>\n",
       "</table>\n",
       "<p>5 rows × 15 columns</p>\n",
       "</div>"
      ],
      "text/plain": [
       "  CHROM    POS  RefAllele  NonRefAllele  BaseQual  TumourCoverage  \\\n",
       "0  chr1  10596         38             4      1238              54   \n",
       "1  chr1  14464        118            42      4553             182   \n",
       "2  chr1  15484        194            23      6701             244   \n",
       "3  chr1  19004         66            41      2855             117   \n",
       "4  chr1  19279        152            20      4198             186   \n",
       "\n",
       "   NormalCoverage  MapQual  ReadPosition Trinucleotide  HomopolymerRate  \\\n",
       "0              22       15          79.5           ACA         1.860759   \n",
       "1              67        0          58.0           CTG         2.538462   \n",
       "2             104        0          42.0           CCT         1.838509   \n",
       "3              49        0          44.0           ATG         2.315436   \n",
       "4              72        9          58.0           ACG         2.455172   \n",
       "\n",
       "   GCcontent GenomicLocation  DistanceSNP  StrandBias  \n",
       "0   0.706468      intergenic        20327    0.277778  \n",
       "1   0.547264             NaN        16459    0.527473  \n",
       "2   0.542289  ncRNA_intronic        15439    0.446721  \n",
       "3   0.577114  ncRNA_intronic        11919    0.615385  \n",
       "4   0.656716             NaN        11644    0.510753  \n",
       "\n",
       "[5 rows x 15 columns]"
      ]
     },
     "execution_count": 5,
     "metadata": {},
     "output_type": "execute_result"
    }
   ],
   "source": [
    "GenomicFeatures_CPCG0196.head()"
   ]
  },
  {
   "cell_type": "code",
   "execution_count": 6,
   "metadata": {
    "collapsed": false
   },
   "outputs": [
    {
     "data": {
      "text/html": [
       "<div style=\"max-height:1000px;max-width:1500px;overflow:auto;\">\n",
       "<table border=\"1\" class=\"dataframe\">\n",
       "  <thead>\n",
       "    <tr style=\"text-align: right;\">\n",
       "      <th></th>\n",
       "      <th>CHROM</th>\n",
       "      <th>POS</th>\n",
       "      <th>END</th>\n",
       "      <th>X2399005</th>\n",
       "      <th>X2642542</th>\n",
       "      <th>X2642549</th>\n",
       "      <th>X2673214</th>\n",
       "      <th>X2673234</th>\n",
       "      <th>X2679057</th>\n",
       "      <th>X2679060</th>\n",
       "      <th>X2788813</th>\n",
       "      <th>X2788819</th>\n",
       "      <th>X2788825</th>\n",
       "      <th>X2788828</th>\n",
       "      <th>X2788843</th>\n",
       "      <th>X2788850</th>\n",
       "      <th>X2788853</th>\n",
       "      <th>X2788856</th>\n",
       "      <th>X2791356</th>\n",
       "      <th>X2791362</th>\n",
       "      <th></th>\n",
       "    </tr>\n",
       "  </thead>\n",
       "  <tbody>\n",
       "    <tr>\n",
       "      <th>0</th>\n",
       "      <td> chr1</td>\n",
       "      <td> 10595</td>\n",
       "      <td> 10596</td>\n",
       "      <td> 0</td>\n",
       "      <td> 0</td>\n",
       "      <td> 0</td>\n",
       "      <td> 0</td>\n",
       "      <td> 0</td>\n",
       "      <td> 0</td>\n",
       "      <td> 0</td>\n",
       "      <td> 0</td>\n",
       "      <td> 1</td>\n",
       "      <td> 0</td>\n",
       "      <td> 0</td>\n",
       "      <td> 0</td>\n",
       "      <td> 1</td>\n",
       "      <td> 0</td>\n",
       "      <td> 0</td>\n",
       "      <td> 0</td>\n",
       "      <td> 1</td>\n",
       "      <td>...</td>\n",
       "    </tr>\n",
       "    <tr>\n",
       "      <th>1</th>\n",
       "      <td> chr1</td>\n",
       "      <td> 14463</td>\n",
       "      <td> 14464</td>\n",
       "      <td> 0</td>\n",
       "      <td> 0</td>\n",
       "      <td> 0</td>\n",
       "      <td> 0</td>\n",
       "      <td> 0</td>\n",
       "      <td> 0</td>\n",
       "      <td> 0</td>\n",
       "      <td> 0</td>\n",
       "      <td> 0</td>\n",
       "      <td> 0</td>\n",
       "      <td> 0</td>\n",
       "      <td> 0</td>\n",
       "      <td> 0</td>\n",
       "      <td> 0</td>\n",
       "      <td> 0</td>\n",
       "      <td> 0</td>\n",
       "      <td> 0</td>\n",
       "      <td>...</td>\n",
       "    </tr>\n",
       "    <tr>\n",
       "      <th>2</th>\n",
       "      <td> chr1</td>\n",
       "      <td> 15483</td>\n",
       "      <td> 15484</td>\n",
       "      <td> 1</td>\n",
       "      <td> 0</td>\n",
       "      <td> 0</td>\n",
       "      <td> 0</td>\n",
       "      <td> 0</td>\n",
       "      <td> 0</td>\n",
       "      <td> 0</td>\n",
       "      <td> 0</td>\n",
       "      <td> 0</td>\n",
       "      <td> 0</td>\n",
       "      <td> 0</td>\n",
       "      <td> 0</td>\n",
       "      <td> 0</td>\n",
       "      <td> 0</td>\n",
       "      <td> 0</td>\n",
       "      <td> 0</td>\n",
       "      <td> 0</td>\n",
       "      <td>...</td>\n",
       "    </tr>\n",
       "    <tr>\n",
       "      <th>3</th>\n",
       "      <td> chr1</td>\n",
       "      <td> 19003</td>\n",
       "      <td> 19004</td>\n",
       "      <td> 0</td>\n",
       "      <td> 0</td>\n",
       "      <td> 0</td>\n",
       "      <td> 0</td>\n",
       "      <td> 0</td>\n",
       "      <td> 0</td>\n",
       "      <td> 0</td>\n",
       "      <td> 0</td>\n",
       "      <td> 0</td>\n",
       "      <td> 0</td>\n",
       "      <td> 0</td>\n",
       "      <td> 0</td>\n",
       "      <td> 0</td>\n",
       "      <td> 0</td>\n",
       "      <td> 0</td>\n",
       "      <td> 0</td>\n",
       "      <td> 0</td>\n",
       "      <td>...</td>\n",
       "    </tr>\n",
       "    <tr>\n",
       "      <th>4</th>\n",
       "      <td> chr1</td>\n",
       "      <td> 19278</td>\n",
       "      <td> 19279</td>\n",
       "      <td> 0</td>\n",
       "      <td> 0</td>\n",
       "      <td> 0</td>\n",
       "      <td> 0</td>\n",
       "      <td> 0</td>\n",
       "      <td> 0</td>\n",
       "      <td> 0</td>\n",
       "      <td> 0</td>\n",
       "      <td> 0</td>\n",
       "      <td> 0</td>\n",
       "      <td> 0</td>\n",
       "      <td> 0</td>\n",
       "      <td> 0</td>\n",
       "      <td> 0</td>\n",
       "      <td> 0</td>\n",
       "      <td> 0</td>\n",
       "      <td> 0</td>\n",
       "      <td>...</td>\n",
       "    </tr>\n",
       "  </tbody>\n",
       "</table>\n",
       "<p>5 rows × 153 columns</p>\n",
       "</div>"
      ],
      "text/plain": [
       "  CHROM    POS    END  X2399005  X2642542  X2642549  X2673214  X2673234  \\\n",
       "0  chr1  10595  10596         0         0         0         0         0   \n",
       "1  chr1  14463  14464         0         0         0         0         0   \n",
       "2  chr1  15483  15484         1         0         0         0         0   \n",
       "3  chr1  19003  19004         0         0         0         0         0   \n",
       "4  chr1  19278  19279         0         0         0         0         0   \n",
       "\n",
       "   X2679057  X2679060  X2788813  X2788819  X2788825  X2788828  X2788843  \\\n",
       "0         0         0         0         1         0         0         0   \n",
       "1         0         0         0         0         0         0         0   \n",
       "2         0         0         0         0         0         0         0   \n",
       "3         0         0         0         0         0         0         0   \n",
       "4         0         0         0         0         0         0         0   \n",
       "\n",
       "   X2788850  X2788853  X2788856  X2791356  X2791362      \n",
       "0         1         0         0         0         1 ...  \n",
       "1         0         0         0         0         0 ...  \n",
       "2         0         0         0         0         0 ...  \n",
       "3         0         0         0         0         0 ...  \n",
       "4         0         0         0         0         0 ...  \n",
       "\n",
       "[5 rows x 153 columns]"
      ]
     },
     "execution_count": 6,
     "metadata": {},
     "output_type": "execute_result"
    }
   ],
   "source": [
    "SNVCalls_CPCG0196.head()"
   ]
  },
  {
   "cell_type": "code",
   "execution_count": 7,
   "metadata": {
    "collapsed": false
   },
   "outputs": [
    {
     "data": {
      "text/plain": [
       "array(['ACA', 'ACC', 'ACG', 'ACT', 'ATA', 'ATC', 'ATG', 'ATT', 'CCA',\n",
       "       'CCC', 'CCG', 'CCT', 'CTA', 'CTC', 'CTG', 'CTT', 'GCA', 'GCC',\n",
       "       'GCG', 'GCT', 'GTA', 'GTC', 'GTG', 'GTT', 'NTC', 'TCA', 'TCC',\n",
       "       'TCG', 'TCT', 'TTA', 'TTC', 'TTG', 'TTT'], \n",
       "      dtype='|S3')"
      ]
     },
     "execution_count": 7,
     "metadata": {},
     "output_type": "execute_result"
    }
   ],
   "source": [
    "np.unique(GenomicFeatures_CPCG0196['Trinucleotide'])"
   ]
  },
  {
   "cell_type": "code",
   "execution_count": 8,
   "metadata": {
    "collapsed": true
   },
   "outputs": [],
   "source": [
    "CPCG0196 = pd.merge(GenomicFeatures_CPCG0196, SNVCalls_CPCG0196,left_on=['CHROM', 'POS'], right_on=['CHROM','END'])\n"
   ]
  },
  {
   "cell_type": "code",
   "execution_count": 9,
   "metadata": {
    "collapsed": false
   },
   "outputs": [
    {
     "data": {
      "text/html": [
       "<div style=\"max-height:1000px;max-width:1500px;overflow:auto;\">\n",
       "<table border=\"1\" class=\"dataframe\">\n",
       "  <thead>\n",
       "    <tr style=\"text-align: right;\">\n",
       "      <th></th>\n",
       "      <th>CHROM</th>\n",
       "      <th>POS_x</th>\n",
       "      <th>RefAllele</th>\n",
       "      <th>NonRefAllele</th>\n",
       "      <th>BaseQual</th>\n",
       "      <th>TumourCoverage</th>\n",
       "      <th>NormalCoverage</th>\n",
       "      <th>MapQual</th>\n",
       "      <th>ReadPosition</th>\n",
       "      <th>Trinucleotide</th>\n",
       "      <th>HomopolymerRate</th>\n",
       "      <th>GCcontent</th>\n",
       "      <th>GenomicLocation</th>\n",
       "      <th>DistanceSNP</th>\n",
       "      <th>StrandBias</th>\n",
       "      <th>POS_y</th>\n",
       "      <th>END</th>\n",
       "      <th>X2399005</th>\n",
       "      <th>X2642542</th>\n",
       "      <th>X2642549</th>\n",
       "      <th></th>\n",
       "    </tr>\n",
       "  </thead>\n",
       "  <tbody>\n",
       "    <tr>\n",
       "      <th>0</th>\n",
       "      <td> chr1</td>\n",
       "      <td> 10596</td>\n",
       "      <td>  38</td>\n",
       "      <td>  4</td>\n",
       "      <td> 1238</td>\n",
       "      <td>  54</td>\n",
       "      <td>  22</td>\n",
       "      <td> 15</td>\n",
       "      <td> 79.5</td>\n",
       "      <td> ACA</td>\n",
       "      <td> 1.860759</td>\n",
       "      <td> 0.706468</td>\n",
       "      <td>     intergenic</td>\n",
       "      <td> 20327</td>\n",
       "      <td> 0.277778</td>\n",
       "      <td> 10595</td>\n",
       "      <td> 10596</td>\n",
       "      <td> 0</td>\n",
       "      <td> 0</td>\n",
       "      <td> 0</td>\n",
       "      <td>...</td>\n",
       "    </tr>\n",
       "    <tr>\n",
       "      <th>1</th>\n",
       "      <td> chr1</td>\n",
       "      <td> 14464</td>\n",
       "      <td> 118</td>\n",
       "      <td> 42</td>\n",
       "      <td> 4553</td>\n",
       "      <td> 182</td>\n",
       "      <td>  67</td>\n",
       "      <td>  0</td>\n",
       "      <td> 58.0</td>\n",
       "      <td> CTG</td>\n",
       "      <td> 2.538462</td>\n",
       "      <td> 0.547264</td>\n",
       "      <td>            NaN</td>\n",
       "      <td> 16459</td>\n",
       "      <td> 0.527473</td>\n",
       "      <td> 14463</td>\n",
       "      <td> 14464</td>\n",
       "      <td> 0</td>\n",
       "      <td> 0</td>\n",
       "      <td> 0</td>\n",
       "      <td>...</td>\n",
       "    </tr>\n",
       "    <tr>\n",
       "      <th>2</th>\n",
       "      <td> chr1</td>\n",
       "      <td> 15484</td>\n",
       "      <td> 194</td>\n",
       "      <td> 23</td>\n",
       "      <td> 6701</td>\n",
       "      <td> 244</td>\n",
       "      <td> 104</td>\n",
       "      <td>  0</td>\n",
       "      <td> 42.0</td>\n",
       "      <td> CCT</td>\n",
       "      <td> 1.838509</td>\n",
       "      <td> 0.542289</td>\n",
       "      <td> ncRNA_intronic</td>\n",
       "      <td> 15439</td>\n",
       "      <td> 0.446721</td>\n",
       "      <td> 15483</td>\n",
       "      <td> 15484</td>\n",
       "      <td> 1</td>\n",
       "      <td> 0</td>\n",
       "      <td> 0</td>\n",
       "      <td>...</td>\n",
       "    </tr>\n",
       "    <tr>\n",
       "      <th>3</th>\n",
       "      <td> chr1</td>\n",
       "      <td> 19004</td>\n",
       "      <td>  66</td>\n",
       "      <td> 41</td>\n",
       "      <td> 2855</td>\n",
       "      <td> 117</td>\n",
       "      <td>  49</td>\n",
       "      <td>  0</td>\n",
       "      <td> 44.0</td>\n",
       "      <td> ATG</td>\n",
       "      <td> 2.315436</td>\n",
       "      <td> 0.577114</td>\n",
       "      <td> ncRNA_intronic</td>\n",
       "      <td> 11919</td>\n",
       "      <td> 0.615385</td>\n",
       "      <td> 19003</td>\n",
       "      <td> 19004</td>\n",
       "      <td> 0</td>\n",
       "      <td> 0</td>\n",
       "      <td> 0</td>\n",
       "      <td>...</td>\n",
       "    </tr>\n",
       "    <tr>\n",
       "      <th>4</th>\n",
       "      <td> chr1</td>\n",
       "      <td> 19279</td>\n",
       "      <td> 152</td>\n",
       "      <td> 20</td>\n",
       "      <td> 4198</td>\n",
       "      <td> 186</td>\n",
       "      <td>  72</td>\n",
       "      <td>  9</td>\n",
       "      <td> 58.0</td>\n",
       "      <td> ACG</td>\n",
       "      <td> 2.455172</td>\n",
       "      <td> 0.656716</td>\n",
       "      <td>            NaN</td>\n",
       "      <td> 11644</td>\n",
       "      <td> 0.510753</td>\n",
       "      <td> 19278</td>\n",
       "      <td> 19279</td>\n",
       "      <td> 0</td>\n",
       "      <td> 0</td>\n",
       "      <td> 0</td>\n",
       "      <td>...</td>\n",
       "    </tr>\n",
       "  </tbody>\n",
       "</table>\n",
       "<p>5 rows × 167 columns</p>\n",
       "</div>"
      ],
      "text/plain": [
       "  CHROM  POS_x  RefAllele  NonRefAllele  BaseQual  TumourCoverage  \\\n",
       "0  chr1  10596         38             4      1238              54   \n",
       "1  chr1  14464        118            42      4553             182   \n",
       "2  chr1  15484        194            23      6701             244   \n",
       "3  chr1  19004         66            41      2855             117   \n",
       "4  chr1  19279        152            20      4198             186   \n",
       "\n",
       "   NormalCoverage  MapQual  ReadPosition Trinucleotide  HomopolymerRate  \\\n",
       "0              22       15          79.5           ACA         1.860759   \n",
       "1              67        0          58.0           CTG         2.538462   \n",
       "2             104        0          42.0           CCT         1.838509   \n",
       "3              49        0          44.0           ATG         2.315436   \n",
       "4              72        9          58.0           ACG         2.455172   \n",
       "\n",
       "   GCcontent GenomicLocation  DistanceSNP  StrandBias  POS_y    END  X2399005  \\\n",
       "0   0.706468      intergenic        20327    0.277778  10595  10596         0   \n",
       "1   0.547264             NaN        16459    0.527473  14463  14464         0   \n",
       "2   0.542289  ncRNA_intronic        15439    0.446721  15483  15484         1   \n",
       "3   0.577114  ncRNA_intronic        11919    0.615385  19003  19004         0   \n",
       "4   0.656716             NaN        11644    0.510753  19278  19279         0   \n",
       "\n",
       "   X2642542  X2642549      \n",
       "0         0         0 ...  \n",
       "1         0         0 ...  \n",
       "2         0         0 ...  \n",
       "3         0         0 ...  \n",
       "4         0         0 ...  \n",
       "\n",
       "[5 rows x 167 columns]"
      ]
     },
     "execution_count": 9,
     "metadata": {},
     "output_type": "execute_result"
    }
   ],
   "source": [
    "CPCG0196.head() #182+15"
   ]
  },
  {
   "cell_type": "code",
   "execution_count": 10,
   "metadata": {
    "collapsed": true
   },
   "outputs": [],
   "source": [
    "CPCG0196_X = CPCG0196.iloc[:,2:15] #Exclude CHROM, POS\n",
    "CPCG0196_Y = CPCG0196.iloc[:,17:]  #Exclude CHROM_y, POS_y, END"
   ]
  },
  {
   "cell_type": "code",
   "execution_count": 11,
   "metadata": {
    "collapsed": false
   },
   "outputs": [
    {
     "name": "stdout",
     "output_type": "stream",
     "text": [
      "(262727, 13)\n",
      "(262727, 150)\n"
     ]
    }
   ],
   "source": [
    "print CPCG0196_X.shape\n",
    "print CPCG0196_Y.shape"
   ]
  },
  {
   "cell_type": "code",
   "execution_count": 12,
   "metadata": {
    "collapsed": false
   },
   "outputs": [
    {
     "data": {
      "text/html": [
       "<div style=\"max-height:1000px;max-width:1500px;overflow:auto;\">\n",
       "<table border=\"1\" class=\"dataframe\">\n",
       "  <thead>\n",
       "    <tr style=\"text-align: right;\">\n",
       "      <th></th>\n",
       "      <th>RefAllele</th>\n",
       "      <th>NonRefAllele</th>\n",
       "      <th>BaseQual</th>\n",
       "      <th>TumourCoverage</th>\n",
       "      <th>NormalCoverage</th>\n",
       "      <th>MapQual</th>\n",
       "      <th>ReadPosition</th>\n",
       "      <th>Trinucleotide</th>\n",
       "      <th>HomopolymerRate</th>\n",
       "      <th>GCcontent</th>\n",
       "      <th>GenomicLocation</th>\n",
       "      <th>DistanceSNP</th>\n",
       "      <th>StrandBias</th>\n",
       "    </tr>\n",
       "  </thead>\n",
       "  <tbody>\n",
       "    <tr>\n",
       "      <th>0</th>\n",
       "      <td>  38</td>\n",
       "      <td>  4</td>\n",
       "      <td> 1238</td>\n",
       "      <td>  54</td>\n",
       "      <td> 22</td>\n",
       "      <td> 15</td>\n",
       "      <td> 79.5</td>\n",
       "      <td> ACA</td>\n",
       "      <td> 1.860759</td>\n",
       "      <td> 0.706468</td>\n",
       "      <td> intergenic</td>\n",
       "      <td> 20327</td>\n",
       "      <td> 0.277778</td>\n",
       "    </tr>\n",
       "    <tr>\n",
       "      <th>1</th>\n",
       "      <td> 118</td>\n",
       "      <td> 42</td>\n",
       "      <td> 4553</td>\n",
       "      <td> 182</td>\n",
       "      <td> 67</td>\n",
       "      <td>  0</td>\n",
       "      <td> 58.0</td>\n",
       "      <td> CTG</td>\n",
       "      <td> 2.538462</td>\n",
       "      <td> 0.547264</td>\n",
       "      <td>        NaN</td>\n",
       "      <td> 16459</td>\n",
       "      <td> 0.527473</td>\n",
       "    </tr>\n",
       "  </tbody>\n",
       "</table>\n",
       "<p>2 rows × 13 columns</p>\n",
       "</div>"
      ],
      "text/plain": [
       "   RefAllele  NonRefAllele  BaseQual  TumourCoverage  NormalCoverage  MapQual  \\\n",
       "0         38             4      1238              54              22       15   \n",
       "1        118            42      4553             182              67        0   \n",
       "\n",
       "   ReadPosition Trinucleotide  HomopolymerRate  GCcontent GenomicLocation  \\\n",
       "0          79.5           ACA         1.860759   0.706468      intergenic   \n",
       "1          58.0           CTG         2.538462   0.547264             NaN   \n",
       "\n",
       "   DistanceSNP  StrandBias  \n",
       "0        20327    0.277778  \n",
       "1        16459    0.527473  \n",
       "\n",
       "[2 rows x 13 columns]"
      ]
     },
     "execution_count": 12,
     "metadata": {},
     "output_type": "execute_result"
    }
   ],
   "source": [
    "CPCG0196_X[:2]"
   ]
  },
  {
   "cell_type": "code",
   "execution_count": 13,
   "metadata": {
    "collapsed": false
   },
   "outputs": [
    {
     "data": {
      "text/html": [
       "<div style=\"max-height:1000px;max-width:1500px;overflow:auto;\">\n",
       "<table border=\"1\" class=\"dataframe\">\n",
       "  <thead>\n",
       "    <tr style=\"text-align: right;\">\n",
       "      <th></th>\n",
       "      <th>X2399005</th>\n",
       "      <th>X2642542</th>\n",
       "      <th>X2642549</th>\n",
       "      <th>X2673214</th>\n",
       "      <th>X2673234</th>\n",
       "      <th>X2679057</th>\n",
       "      <th>X2679060</th>\n",
       "      <th>X2788813</th>\n",
       "      <th>X2788819</th>\n",
       "      <th>X2788825</th>\n",
       "      <th>X2788828</th>\n",
       "      <th>X2788843</th>\n",
       "      <th>X2788850</th>\n",
       "      <th>X2788853</th>\n",
       "      <th>X2788856</th>\n",
       "      <th>X2791356</th>\n",
       "      <th>X2791362</th>\n",
       "      <th>X2791366</th>\n",
       "      <th>X2791371</th>\n",
       "      <th>X2791397</th>\n",
       "      <th></th>\n",
       "    </tr>\n",
       "  </thead>\n",
       "  <tbody>\n",
       "    <tr>\n",
       "      <th>0</th>\n",
       "      <td> 0</td>\n",
       "      <td> 0</td>\n",
       "      <td> 0</td>\n",
       "      <td> 0</td>\n",
       "      <td> 0</td>\n",
       "      <td> 0</td>\n",
       "      <td> 0</td>\n",
       "      <td> 0</td>\n",
       "      <td> 1</td>\n",
       "      <td> 0</td>\n",
       "      <td> 0</td>\n",
       "      <td> 0</td>\n",
       "      <td> 1</td>\n",
       "      <td> 0</td>\n",
       "      <td> 0</td>\n",
       "      <td> 0</td>\n",
       "      <td> 1</td>\n",
       "      <td> 0</td>\n",
       "      <td> 0</td>\n",
       "      <td> 0</td>\n",
       "      <td>...</td>\n",
       "    </tr>\n",
       "    <tr>\n",
       "      <th>1</th>\n",
       "      <td> 0</td>\n",
       "      <td> 0</td>\n",
       "      <td> 0</td>\n",
       "      <td> 0</td>\n",
       "      <td> 0</td>\n",
       "      <td> 0</td>\n",
       "      <td> 0</td>\n",
       "      <td> 0</td>\n",
       "      <td> 0</td>\n",
       "      <td> 0</td>\n",
       "      <td> 0</td>\n",
       "      <td> 0</td>\n",
       "      <td> 0</td>\n",
       "      <td> 0</td>\n",
       "      <td> 0</td>\n",
       "      <td> 0</td>\n",
       "      <td> 0</td>\n",
       "      <td> 0</td>\n",
       "      <td> 0</td>\n",
       "      <td> 0</td>\n",
       "      <td>...</td>\n",
       "    </tr>\n",
       "  </tbody>\n",
       "</table>\n",
       "<p>2 rows × 150 columns</p>\n",
       "</div>"
      ],
      "text/plain": [
       "   X2399005  X2642542  X2642549  X2673214  X2673234  X2679057  X2679060  \\\n",
       "0         0         0         0         0         0         0         0   \n",
       "1         0         0         0         0         0         0         0   \n",
       "\n",
       "   X2788813  X2788819  X2788825  X2788828  X2788843  X2788850  X2788853  \\\n",
       "0         0         1         0         0         0         1         0   \n",
       "1         0         0         0         0         0         0         0   \n",
       "\n",
       "   X2788856  X2791356  X2791362  X2791366  X2791371  X2791397      \n",
       "0         0         0         1         0         0         0 ...  \n",
       "1         0         0         0         0         0         0 ...  \n",
       "\n",
       "[2 rows x 150 columns]"
      ]
     },
     "execution_count": 13,
     "metadata": {},
     "output_type": "execute_result"
    }
   ],
   "source": [
    "CPCG0196_Y[:2]"
   ]
  },
  {
   "cell_type": "code",
   "execution_count": 14,
   "metadata": {
    "collapsed": false
   },
   "outputs": [
    {
     "name": "stdout",
     "output_type": "stream",
     "text": [
      "262727\n",
      "(262727, 1)\n"
     ]
    }
   ],
   "source": [
    "totalSample = CPCG0196_Y.shape[0]\n",
    "CPCG0196_Y_Val = np.zeros((totalSample,1)) #Will be our label now\n",
    "\n",
    "print totalSample\n",
    "print CPCG0196_Y_Val.shape"
   ]
  },
  {
   "cell_type": "code",
   "execution_count": 15,
   "metadata": {
    "collapsed": false
   },
   "outputs": [
    {
     "data": {
      "text/plain": [
       "(262727, 150)"
      ]
     },
     "execution_count": 15,
     "metadata": {},
     "output_type": "execute_result"
    }
   ],
   "source": [
    "CPCG0196_Y.shape"
   ]
  },
  {
   "cell_type": "code",
   "execution_count": 16,
   "metadata": {
    "collapsed": false
   },
   "outputs": [
    {
     "data": {
      "text/plain": [
       "(150,)"
      ]
     },
     "execution_count": 16,
     "metadata": {},
     "output_type": "execute_result"
    }
   ],
   "source": [
    "CPCG0196_Y.values[0].shape"
   ]
  },
  {
   "cell_type": "code",
   "execution_count": 17,
   "metadata": {
    "collapsed": true
   },
   "outputs": [],
   "source": [
    "for i in range(totalSample):\n",
    "    CPCG0196_Y_Val[i] = np.argmax(np.bincount(CPCG0196_Y.values[i]))"
   ]
  },
  {
   "cell_type": "code",
   "execution_count": 18,
   "metadata": {
    "collapsed": true
   },
   "outputs": [],
   "source": [
    "CPCG0196_Y_Val_1 = pd.DataFrame(CPCG0196_Y_Val)\n",
    "CPCG0196_Y_Val_1.columns = ['Label']"
   ]
  },
  {
   "cell_type": "code",
   "execution_count": 19,
   "metadata": {
    "collapsed": false
   },
   "outputs": [
    {
     "data": {
      "text/html": [
       "<div style=\"max-height:1000px;max-width:1500px;overflow:auto;\">\n",
       "<table border=\"1\" class=\"dataframe\">\n",
       "  <thead>\n",
       "    <tr style=\"text-align: right;\">\n",
       "      <th></th>\n",
       "      <th>Label</th>\n",
       "    </tr>\n",
       "  </thead>\n",
       "  <tbody>\n",
       "    <tr>\n",
       "      <th>0</th>\n",
       "      <td> 0</td>\n",
       "    </tr>\n",
       "    <tr>\n",
       "      <th>1</th>\n",
       "      <td> 0</td>\n",
       "    </tr>\n",
       "    <tr>\n",
       "      <th>2</th>\n",
       "      <td> 0</td>\n",
       "    </tr>\n",
       "  </tbody>\n",
       "</table>\n",
       "<p>3 rows × 1 columns</p>\n",
       "</div>"
      ],
      "text/plain": [
       "   Label\n",
       "0      0\n",
       "1      0\n",
       "2      0\n",
       "\n",
       "[3 rows x 1 columns]"
      ]
     },
     "execution_count": 19,
     "metadata": {},
     "output_type": "execute_result"
    }
   ],
   "source": [
    "CPCG0196_Y_Val_1[:3]"
   ]
  },
  {
   "cell_type": "code",
   "execution_count": 20,
   "metadata": {
    "collapsed": true
   },
   "outputs": [],
   "source": [
    "CPCG0196_dataframe = pd.concat([CPCG0196_X, CPCG0196_Y_Val_1],axis=1)"
   ]
  },
  {
   "cell_type": "code",
   "execution_count": 21,
   "metadata": {
    "collapsed": false
   },
   "outputs": [
    {
     "data": {
      "text/plain": [
       "(262727, 14)"
      ]
     },
     "execution_count": 21,
     "metadata": {},
     "output_type": "execute_result"
    }
   ],
   "source": [
    "CPCG0196_dataframe.shape"
   ]
  },
  {
   "cell_type": "code",
   "execution_count": 22,
   "metadata": {
    "collapsed": true
   },
   "outputs": [],
   "source": [
    "CPCG0196_dataframe.to_csv('CPCG0196.csv')"
   ]
  },
  {
   "cell_type": "code",
   "execution_count": 23,
   "metadata": {
    "collapsed": true
   },
   "outputs": [],
   "source": [
    "#Now we have variable importance ...lets do analysis"
   ]
  },
  {
   "cell_type": "code",
   "execution_count": 24,
   "metadata": {
    "collapsed": true
   },
   "outputs": [],
   "source": [
    "%load_ext rpy2.ipython"
   ]
  },
  {
   "cell_type": "code",
   "execution_count": 26,
   "metadata": {
    "collapsed": false
   },
   "outputs": [
    {
     "data": {
      "text/plain": [
       "'data.frame':\t262727 obs. of  15 variables:\n",
       " $ X              : int  0 1 2 3 4 5 6 7 8 9 ...\n",
       " $ RefAllele      : int  38 118 194 66 152 96 95 92 119 71 ...\n",
       " $ NonRefAllele   : int  4 42 23 41 20 67 22 18 31 1 ...\n",
       " $ BaseQual       : int  1238 4553 6701 2855 4198 4669 3650 3245 4428 1991 ...\n",
       " $ TumourCoverage : int  54 182 244 117 186 188 140 131 183 88 ...\n",
       " $ NormalCoverage : int  22 67 104 49 72 79 70 62 70 39 ...\n",
       " $ MapQual        : num  15 0 0 0 9 0 0 0 0 0 ...\n",
       " $ ReadPosition   : num  79.5 58 42 44 58 38 54.5 62 54 45 ...\n",
       " $ Trinucleotide  : Factor w/ 33 levels \"ACA\",\"ACC\",\"ACG\",..: 1 15 12 7 3 29 4 2 17 12 ...\n",
       " $ HomopolymerRate: num  1.86 2.54 1.84 2.32 2.46 ...\n",
       " $ GCcontent      : num  0.706 0.547 0.542 0.577 0.657 ...\n",
       " $ GenomicLocation: Factor w/ 16 levels \"\",\"downstream\",..: 5 1 8 8 1 8 1 8 1 8 ...\n",
       " $ DistanceSNP    : int  20327 16459 15439 11919 11644 11065 2580 2569 2412 1947 ...\n",
       " $ StrandBias     : num  0.278 0.527 0.447 0.615 0.511 ...\n",
       " $ Label          : num  0 0 0 0 0 0 0 0 0 0 ...\n"
      ]
     },
     "metadata": {},
     "output_type": "display_data"
    }
   ],
   "source": [
    "%%R\n",
    "# Read in the data\n",
    "CPCG0196Frame = read.csv(\"CPCG0196.csv\")\n",
    "str(CPCG0196Frame)"
   ]
  },
  {
   "cell_type": "code",
   "execution_count": 27,
   "metadata": {
    "collapsed": false
   },
   "outputs": [
    {
     "data": {
      "text/plain": [
       "[1] 48\n"
      ]
     },
     "metadata": {},
     "output_type": "display_data"
    }
   ],
   "source": [
    "%%R\n",
    "#sum(is.na(CPCG0183Frame$StrandBias))\n",
    "sum(is.na(CPCG0196Frame$ReadPosition)) "
   ]
  },
  {
   "cell_type": "code",
   "execution_count": 28,
   "metadata": {
    "collapsed": false
   },
   "outputs": [
    {
     "data": {
      "text/plain": [
       "[1] 0\n",
       "[1] 0\n"
      ]
     },
     "metadata": {},
     "output_type": "display_data"
    }
   ],
   "source": [
    "%%R\n",
    "CPCG0196Frame$ReadPosition[is.na(CPCG0196Frame$ReadPosition)] = mean(CPCG0196Frame$ReadPosition, na.rm=TRUE)\n",
    "CPCG0196Frame$StrandBias[is.na(CPCG0196Frame$StrandBias)] = mean(CPCG0196Frame$StrandBias, na.rm=TRUE)\n",
    "\n",
    "print (sum(is.na(CPCG0196Frame$ReadPosition)) )\n",
    "print (sum(is.na(CPCG0196Frame$StrandBias)) )"
   ]
  },
  {
   "cell_type": "code",
   "execution_count": 29,
   "metadata": {
    "collapsed": false
   },
   "outputs": [
    {
     "data": {
      "text/plain": [
       "[1] 0\n"
      ]
     },
     "metadata": {},
     "output_type": "display_data"
    }
   ],
   "source": [
    "%%R\n",
    "sum(is.na(CPCG0196Frame))  #No NA value now"
   ]
  },
  {
   "cell_type": "code",
   "execution_count": 30,
   "metadata": {
    "collapsed": true
   },
   "outputs": [],
   "source": [
    "%%R\n",
    "write.csv(CPCG0196Frame, file = \"CPCG0196_imputed.csv\")  #Cleaned CSV without NA"
   ]
  },
  {
   "cell_type": "code",
   "execution_count": 31,
   "metadata": {
    "collapsed": false
   },
   "outputs": [
    {
     "name": "stderr",
     "output_type": "stream",
     "text": [
      "/usr/local/lib/python2.7/dist-packages/rpy2/robjects/functions.py:106: UserWarning: Loading required package: statmod\n",
      "\n",
      "  res = super(Function, self).__call__(*new_args, **new_kwargs)\n",
      "/usr/local/lib/python2.7/dist-packages/rpy2/robjects/functions.py:106: UserWarning: \n",
      "----------------------------------------------------------------------\n",
      "\n",
      "Your next step is to start H2O:\n",
      "    > h2o.init()\n",
      "\n",
      "For H2O package documentation, ask for help:\n",
      "    > ??h2o\n",
      "\n",
      "After starting H2O, you can use the Web UI at http://localhost:54321\n",
      "For more information visit http://docs.h2o.ai\n",
      "\n",
      "----------------------------------------------------------------------\n",
      "\n",
      "\n",
      "  res = super(Function, self).__call__(*new_args, **new_kwargs)\n",
      "/usr/local/lib/python2.7/dist-packages/rpy2/robjects/functions.py:106: UserWarning: \n",
      "Attaching package: ‘h2o’\n",
      "\n",
      "\n",
      "  res = super(Function, self).__call__(*new_args, **new_kwargs)\n",
      "/usr/local/lib/python2.7/dist-packages/rpy2/robjects/functions.py:106: UserWarning: The following objects are masked from ‘package:stats’:\n",
      "\n",
      "    sd, var\n",
      "\n",
      "\n",
      "  res = super(Function, self).__call__(*new_args, **new_kwargs)\n",
      "/usr/local/lib/python2.7/dist-packages/rpy2/robjects/functions.py:106: UserWarning: The following objects are masked from ‘package:base’:\n",
      "\n",
      "    ||, &&, %*%, apply, as.factor, as.numeric, colnames, colnames<-,\n",
      "    ifelse, %in%, is.character, is.factor, is.numeric, log, log10,\n",
      "    log1p, log2, round, signif, trunc\n",
      "\n",
      "\n",
      "  res = super(Function, self).__call__(*new_args, **new_kwargs)\n"
     ]
    },
    {
     "data": {
      "text/plain": [
       " Connection successful!\n",
       "\n",
       "R is connected to the H2O cluster: \n",
       "    H2O cluster uptime:         42 minutes 40 seconds \n",
       "    H2O cluster version:        3.9.1.3435 \n",
       "    H2O cluster name:           H2O_started_from_R_rbhat_szm488 \n",
       "    H2O cluster total nodes:    1 \n",
       "    H2O cluster total memory:   26.58 GB \n",
       "    H2O cluster total cores:    56 \n",
       "    H2O cluster allowed cores:  2 \n",
       "    H2O cluster healthy:        TRUE \n",
       "    H2O Connection ip:          localhost \n",
       "    H2O Connection port:        54321 \n",
       "    H2O Connection proxy:       NA \n",
       "    R Version:                  R version 3.3.0 beta (2016-03-30 r70404) \n",
       "\n"
      ]
     },
     "metadata": {},
     "output_type": "display_data"
    }
   ],
   "source": [
    "%%R\n",
    "library(h2o)\n",
    "localH2O = h2o.init(ip = \"localhost\", port = 54321, startH2O = TRUE,min_mem_size = \"3g\")"
   ]
  },
  {
   "cell_type": "code",
   "execution_count": 32,
   "metadata": {
    "collapsed": false
   },
   "outputs": [
    {
     "data": {
      "text/plain": [
       "\r",
       "  |                                                                            \r",
       "  |                                                                      |   0%\r",
       "  |                                                                            \r",
       "  |=                                                                     |   2%\r",
       "  |                                                                            \r",
       "  |======================================================================| 100%\n",
       "WARNING: ParseError at file /tmp/Rtmp908M7r/file2b2712f09c73.csv_sid_b092_1  at byte offset 65536; error = 'Unmatched quote char \"' \n",
       "\r",
       "  |                                                                            \r",
       "  |                                                                      |   0%\r",
       "  |                                                                            \r",
       "  |======================================================================| 100%\n"
      ]
     },
     "metadata": {},
     "output_type": "display_data"
    }
   ],
   "source": [
    "%%R\n",
    "## Import CSV as H2O:\n",
    "csvPath = \"/home/rbhat/Workspace/S3Lab_Projects/SMC-MetaChallange/CPCG0196_imputed.csv\"\n",
    "CPCG0196.hex          = h2o.importFile(path = csvPath, destination_frame = \"CPCG0196.hex\") \n",
    "train                 = as.data.frame(CPCG0196.hex)\n",
    "\n",
    "#train  = subset(train,C1<20000)\n",
    "\n",
    "train$Trinucleotide   = as.factor(train$Trinucleotide)\n",
    "train$GenomicLocation = as.factor(train$GenomicLocation)\n",
    "train$Label           = as.factor(train$Label)\n",
    "\n",
    "train_h2o             = as.h2o(train)"
   ]
  },
  {
   "cell_type": "code",
   "execution_count": 33,
   "metadata": {
    "collapsed": false
   },
   "outputs": [
    {
     "data": {
      "text/plain": [
       "\r",
       "  |                                                                            \r",
       "  |                                                                      |   0%\r",
       "  |                                                                            \r",
       "  |==                                                                    |   2%\r",
       "  |                                                                            \r",
       "  |====                                                                  |   5%\r",
       "  |                                                                            \r",
       "  |======                                                                |   9%\r",
       "  |                                                                            \r",
       "  |========                                                              |  11%\r",
       "  |                                                                            \r",
       "  |==========                                                            |  14%\r",
       "  |                                                                            \r",
       "  |===========                                                           |  16%\r",
       "  |                                                                            \r",
       "  |=============                                                         |  19%\r",
       "  |                                                                            \r",
       "  |===============                                                       |  22%\r",
       "  |                                                                            \r",
       "  |=================                                                     |  24%\r",
       "  |                                                                            \r",
       "  |===================                                                   |  27%\r",
       "  |                                                                            \r",
       "  |=====================                                                 |  30%\r",
       "  |                                                                            \r",
       "  |======================                                                |  31%\r",
       "  |                                                                            \r",
       "  |========================                                              |  34%\r",
       "  |                                                                            \r",
       "  |==========================                                            |  37%\r",
       "  |                                                                            \r",
       "  |============================                                          |  40%\r",
       "  |                                                                            \r",
       "  |==============================                                        |  43%\r",
       "  |                                                                            \r",
       "  |===============================                                       |  45%\r",
       "  |                                                                            \r",
       "  |=================================                                     |  47%\r",
       "  |                                                                            \r",
       "  |===================================                                   |  50%\r",
       "  |                                                                            \r",
       "  |=====================================                                 |  53%\r",
       "  |                                                                            \r",
       "  |=======================================                               |  56%\r",
       "  |                                                                            \r",
       "  |=========================================                             |  59%\r",
       "  |                                                                            \r",
       "  |============================================                          |  62%\r",
       "  |                                                                            \r",
       "  |=============================================                         |  64%\r",
       "  |                                                                            \r",
       "  |==============================================                        |  65%\r",
       "  |                                                                            \r",
       "  |================================================                      |  69%\r",
       "  |                                                                            \r",
       "  |===================================================                   |  72%\r",
       "  |                                                                            \r",
       "  |=====================================================                 |  75%\r",
       "  |                                                                            \r",
       "  |=======================================================               |  78%\r",
       "  |                                                                            \r",
       "  |=========================================================             |  81%\r",
       "  |                                                                            \r",
       "  |============================================================          |  85%\r",
       "  |                                                                            \r",
       "  |==============================================================        |  88%\r",
       "  |                                                                            \r",
       "  |================================================================      |  91%\r",
       "  |                                                                            \r",
       "  |===================================================================   |  95%\r",
       "  |                                                                            \r",
       "  |===================================================================== |  98%\r",
       "  |                                                                            \r",
       "  |======================================================================| 100%\n"
      ]
     },
     "metadata": {},
     "output_type": "display_data"
    }
   ],
   "source": [
    "%%R\n",
    "#Training a deep learning model:---------------------------------------------------------#\n",
    "model <- h2o.deeplearning( x = 3:15, # column numbers for predictors\n",
    "                           y = 16,            # column number for label\n",
    "                           training_frame = train_h2o,\n",
    "                           activation = \"RectifierWithDropout\", \n",
    "                           input_dropout_ratio = 0.2,\n",
    "                           hidden_dropout_ratios = c(0.5,0.5),\n",
    "                           balance_classes = TRUE, \n",
    "                           hidden = c(10,8),  ## two hidden layers\n",
    "                           epochs = 50,\n",
    "                           variable_importances = T)"
   ]
  },
  {
   "cell_type": "code",
   "execution_count": 34,
   "metadata": {
    "collapsed": false
   },
   "outputs": [
    {
     "data": {
      "text/plain": [
       "Variable Importances: \n",
       "        variable relative_importance scaled_importance percentage\n",
       "1   NonRefAllele            1.000000          1.000000   0.263849\n",
       "2 NormalCoverage            0.183256          0.183256   0.048352\n",
       "3       BaseQual            0.166853          0.166853   0.044024\n",
       "4 TumourCoverage            0.151505          0.151505   0.039975\n",
       "5      RefAllele            0.147368          0.147368   0.038883\n",
       "\n",
       "---\n",
       "                         variable relative_importance scaled_importance\n",
       "56              Trinucleotide.ACT            0.015940          0.015940\n",
       "57 GenomicLocation.ncRNA_intronic            0.015032          0.015032\n",
       "58     GenomicLocation.intergenic            0.010248          0.010248\n",
       "59       GenomicLocation.intronic            0.010142          0.010142\n",
       "60                      GCcontent            0.007797          0.007797\n",
       "61      Trinucleotide.missing(NA)            0.000000          0.000000\n",
       "   percentage\n",
       "56   0.004206\n",
       "57   0.003966\n",
       "58   0.002704\n",
       "59   0.002676\n",
       "60   0.002057\n",
       "61   0.000000\n"
      ]
     },
     "metadata": {},
     "output_type": "display_data"
    }
   ],
   "source": [
    "%%R\n",
    "var_importance = h2o.varimp(model)\n",
    "#print(var_importance)\n",
    "h2o.varimp(model)"
   ]
  },
  {
   "cell_type": "code",
   "execution_count": 35,
   "metadata": {
    "collapsed": true
   },
   "outputs": [],
   "source": [
    "%%R\n",
    "write.table(var_importance, file=\"CPCG0196_variable_importance.csv\")"
   ]
  },
  {
   "cell_type": "code",
   "execution_count": 36,
   "metadata": {
    "collapsed": true
   },
   "outputs": [],
   "source": [
    "var_importance = pd.read_csv(open('CPCG0196_variable_importance.csv','r'),sep=' ')\n",
    "#pd.read_csv('CPCG0100_variable_importance.csv')"
   ]
  },
  {
   "cell_type": "code",
   "execution_count": 37,
   "metadata": {
    "collapsed": false
   },
   "outputs": [
    {
     "data": {
      "text/html": [
       "<div style=\"max-height:1000px;max-width:1500px;overflow:auto;\">\n",
       "<table border=\"1\" class=\"dataframe\">\n",
       "  <thead>\n",
       "    <tr style=\"text-align: right;\">\n",
       "      <th></th>\n",
       "      <th>variable</th>\n",
       "      <th>relative_importance</th>\n",
       "      <th>scaled_importance</th>\n",
       "      <th>percentage</th>\n",
       "    </tr>\n",
       "  </thead>\n",
       "  <tbody>\n",
       "    <tr>\n",
       "      <th>1</th>\n",
       "      <td>   NonRefAllele</td>\n",
       "      <td> 1.000000</td>\n",
       "      <td> 1.000000</td>\n",
       "      <td> 0.263849</td>\n",
       "    </tr>\n",
       "    <tr>\n",
       "      <th>2</th>\n",
       "      <td> NormalCoverage</td>\n",
       "      <td> 0.183256</td>\n",
       "      <td> 0.183256</td>\n",
       "      <td> 0.048352</td>\n",
       "    </tr>\n",
       "    <tr>\n",
       "      <th>3</th>\n",
       "      <td>       BaseQual</td>\n",
       "      <td> 0.166853</td>\n",
       "      <td> 0.166853</td>\n",
       "      <td> 0.044024</td>\n",
       "    </tr>\n",
       "    <tr>\n",
       "      <th>4</th>\n",
       "      <td> TumourCoverage</td>\n",
       "      <td> 0.151505</td>\n",
       "      <td> 0.151505</td>\n",
       "      <td> 0.039975</td>\n",
       "    </tr>\n",
       "    <tr>\n",
       "      <th>5</th>\n",
       "      <td>      RefAllele</td>\n",
       "      <td> 0.147368</td>\n",
       "      <td> 0.147368</td>\n",
       "      <td> 0.038883</td>\n",
       "    </tr>\n",
       "  </tbody>\n",
       "</table>\n",
       "<p>5 rows × 4 columns</p>\n",
       "</div>"
      ],
      "text/plain": [
       "         variable  relative_importance  scaled_importance  percentage\n",
       "1    NonRefAllele             1.000000           1.000000    0.263849\n",
       "2  NormalCoverage             0.183256           0.183256    0.048352\n",
       "3        BaseQual             0.166853           0.166853    0.044024\n",
       "4  TumourCoverage             0.151505           0.151505    0.039975\n",
       "5       RefAllele             0.147368           0.147368    0.038883\n",
       "\n",
       "[5 rows x 4 columns]"
      ]
     },
     "execution_count": 37,
     "metadata": {},
     "output_type": "execute_result"
    }
   ],
   "source": [
    "var_importance[:5]"
   ]
  },
  {
   "cell_type": "code",
   "execution_count": 38,
   "metadata": {
    "collapsed": false
   },
   "outputs": [
    {
     "data": {
      "text/html": [
       "<div style=\"max-height:1000px;max-width:1500px;overflow:auto;\">\n",
       "<table border=\"1\" class=\"dataframe\">\n",
       "  <thead>\n",
       "    <tr style=\"text-align: right;\">\n",
       "      <th></th>\n",
       "      <th>CHROM</th>\n",
       "      <th>POS</th>\n",
       "      <th>RefAllele</th>\n",
       "      <th>NonRefAllele</th>\n",
       "      <th>BaseQual</th>\n",
       "      <th>TumourCoverage</th>\n",
       "      <th>NormalCoverage</th>\n",
       "      <th>MapQual</th>\n",
       "      <th>ReadPosition</th>\n",
       "      <th>Trinucleotide</th>\n",
       "      <th>HomopolymerRate</th>\n",
       "      <th>GCcontent</th>\n",
       "      <th>GenomicLocation</th>\n",
       "      <th>DistanceSNP</th>\n",
       "      <th>StrandBias</th>\n",
       "    </tr>\n",
       "  </thead>\n",
       "  <tbody>\n",
       "    <tr>\n",
       "      <th>0</th>\n",
       "      <td> chr1</td>\n",
       "      <td> 10596</td>\n",
       "      <td>  38</td>\n",
       "      <td>  4</td>\n",
       "      <td> 1238</td>\n",
       "      <td>  54</td>\n",
       "      <td>  22</td>\n",
       "      <td> 15</td>\n",
       "      <td> 79.5</td>\n",
       "      <td> ACA</td>\n",
       "      <td> 1.860759</td>\n",
       "      <td> 0.706468</td>\n",
       "      <td>     intergenic</td>\n",
       "      <td> 20327</td>\n",
       "      <td> 0.277778</td>\n",
       "    </tr>\n",
       "    <tr>\n",
       "      <th>1</th>\n",
       "      <td> chr1</td>\n",
       "      <td> 14464</td>\n",
       "      <td> 118</td>\n",
       "      <td> 42</td>\n",
       "      <td> 4553</td>\n",
       "      <td> 182</td>\n",
       "      <td>  67</td>\n",
       "      <td>  0</td>\n",
       "      <td> 58.0</td>\n",
       "      <td> CTG</td>\n",
       "      <td> 2.538462</td>\n",
       "      <td> 0.547264</td>\n",
       "      <td>            NaN</td>\n",
       "      <td> 16459</td>\n",
       "      <td> 0.527473</td>\n",
       "    </tr>\n",
       "    <tr>\n",
       "      <th>2</th>\n",
       "      <td> chr1</td>\n",
       "      <td> 15484</td>\n",
       "      <td> 194</td>\n",
       "      <td> 23</td>\n",
       "      <td> 6701</td>\n",
       "      <td> 244</td>\n",
       "      <td> 104</td>\n",
       "      <td>  0</td>\n",
       "      <td> 42.0</td>\n",
       "      <td> CCT</td>\n",
       "      <td> 1.838509</td>\n",
       "      <td> 0.542289</td>\n",
       "      <td> ncRNA_intronic</td>\n",
       "      <td> 15439</td>\n",
       "      <td> 0.446721</td>\n",
       "    </tr>\n",
       "    <tr>\n",
       "      <th>3</th>\n",
       "      <td> chr1</td>\n",
       "      <td> 19004</td>\n",
       "      <td>  66</td>\n",
       "      <td> 41</td>\n",
       "      <td> 2855</td>\n",
       "      <td> 117</td>\n",
       "      <td>  49</td>\n",
       "      <td>  0</td>\n",
       "      <td> 44.0</td>\n",
       "      <td> ATG</td>\n",
       "      <td> 2.315436</td>\n",
       "      <td> 0.577114</td>\n",
       "      <td> ncRNA_intronic</td>\n",
       "      <td> 11919</td>\n",
       "      <td> 0.615385</td>\n",
       "    </tr>\n",
       "    <tr>\n",
       "      <th>4</th>\n",
       "      <td> chr1</td>\n",
       "      <td> 19279</td>\n",
       "      <td> 152</td>\n",
       "      <td> 20</td>\n",
       "      <td> 4198</td>\n",
       "      <td> 186</td>\n",
       "      <td>  72</td>\n",
       "      <td>  9</td>\n",
       "      <td> 58.0</td>\n",
       "      <td> ACG</td>\n",
       "      <td> 2.455172</td>\n",
       "      <td> 0.656716</td>\n",
       "      <td>            NaN</td>\n",
       "      <td> 11644</td>\n",
       "      <td> 0.510753</td>\n",
       "    </tr>\n",
       "  </tbody>\n",
       "</table>\n",
       "<p>5 rows × 15 columns</p>\n",
       "</div>"
      ],
      "text/plain": [
       "  CHROM    POS  RefAllele  NonRefAllele  BaseQual  TumourCoverage  \\\n",
       "0  chr1  10596         38             4      1238              54   \n",
       "1  chr1  14464        118            42      4553             182   \n",
       "2  chr1  15484        194            23      6701             244   \n",
       "3  chr1  19004         66            41      2855             117   \n",
       "4  chr1  19279        152            20      4198             186   \n",
       "\n",
       "   NormalCoverage  MapQual  ReadPosition Trinucleotide  HomopolymerRate  \\\n",
       "0              22       15          79.5           ACA         1.860759   \n",
       "1              67        0          58.0           CTG         2.538462   \n",
       "2             104        0          42.0           CCT         1.838509   \n",
       "3              49        0          44.0           ATG         2.315436   \n",
       "4              72        9          58.0           ACG         2.455172   \n",
       "\n",
       "   GCcontent GenomicLocation  DistanceSNP  StrandBias  \n",
       "0   0.706468      intergenic        20327    0.277778  \n",
       "1   0.547264             NaN        16459    0.527473  \n",
       "2   0.542289  ncRNA_intronic        15439    0.446721  \n",
       "3   0.577114  ncRNA_intronic        11919    0.615385  \n",
       "4   0.656716             NaN        11644    0.510753  \n",
       "\n",
       "[5 rows x 15 columns]"
      ]
     },
     "execution_count": 38,
     "metadata": {},
     "output_type": "execute_result"
    }
   ],
   "source": [
    "GenomicFeatures_CPCG0196[:5]"
   ]
  },
  {
   "cell_type": "code",
   "execution_count": 39,
   "metadata": {
    "collapsed": false
   },
   "outputs": [
    {
     "data": {
      "text/plain": [
       "{'BaseQual': 0.166853487491608,\n",
       " 'DistanceSNP': 0.067449428141117096,\n",
       " 'GCcontent': 0.0077970633283257502,\n",
       " 'GenomicLocation.UTR3': 0.0248018726706505,\n",
       " 'GenomicLocation.UTR5': 0.062692426145076793,\n",
       " 'GenomicLocation.downstream': 0.081780396401882199,\n",
       " 'GenomicLocation.exonic': 0.022973190993070599,\n",
       " 'GenomicLocation.exonic;splicing': 0.055495861917734098,\n",
       " 'GenomicLocation.intergenic': 0.010247824713587801,\n",
       " 'GenomicLocation.intronic': 0.010142472572624701,\n",
       " 'GenomicLocation.missing(NA)': 0.0195613969117403,\n",
       " 'GenomicLocation.ncRNA_UTR3': 0.054753314703702899,\n",
       " 'GenomicLocation.ncRNA_UTR5': 0.050459135323762901,\n",
       " 'GenomicLocation.ncRNA_exonic': 0.044068817049264901,\n",
       " 'GenomicLocation.ncRNA_intronic': 0.0150324692949653,\n",
       " 'GenomicLocation.ncRNA_splicing': 0.0873107239603996,\n",
       " 'GenomicLocation.splicing': 0.046353604644537,\n",
       " 'GenomicLocation.upstream': 0.0275620929896832,\n",
       " 'GenomicLocation.upstream;downstream': 0.050399985164403902,\n",
       " 'HomopolymerRate': 0.023289060220122299,\n",
       " 'MapQual': 0.12827685475349401,\n",
       " 'NonRefAllele': 1.0,\n",
       " 'NormalCoverage': 0.18325561285018899,\n",
       " 'ReadPosition': 0.037906087934970897,\n",
       " 'RefAllele': 0.14736761152744299,\n",
       " 'StrandBias': 0.020330972969531996,\n",
       " 'Trinucleotide.ACA': 0.031299021095037502,\n",
       " 'Trinucleotide.ACC': 0.0367925576865673,\n",
       " 'Trinucleotide.ACG': 0.052852980792522403,\n",
       " 'Trinucleotide.ACT': 0.015940265730023401,\n",
       " 'Trinucleotide.ATA': 0.019827613607048999,\n",
       " 'Trinucleotide.ATC': 0.023370536044240001,\n",
       " 'Trinucleotide.ATG': 0.041185155510902398,\n",
       " 'Trinucleotide.ATT': 0.031910017132759101,\n",
       " 'Trinucleotide.CCA': 0.031682796776294701,\n",
       " 'Trinucleotide.CCC': 0.029743017628788899,\n",
       " 'Trinucleotide.CCG': 0.068011939525604206,\n",
       " 'Trinucleotide.CCT': 0.020532852038741101,\n",
       " 'Trinucleotide.CTA': 0.030443312600255002,\n",
       " 'Trinucleotide.CTC': 0.0176630206406116,\n",
       " 'Trinucleotide.CTG': 0.041159078478813199,\n",
       " 'Trinucleotide.CTT': 0.031296551227569601,\n",
       " 'Trinucleotide.GCA': 0.0310068409889936,\n",
       " 'Trinucleotide.GCC': 0.0315158143639565,\n",
       " 'Trinucleotide.GCG': 0.037606935948133503,\n",
       " 'Trinucleotide.GCT': 0.016721084713935901,\n",
       " 'Trinucleotide.GTA': 0.034298561513423899,\n",
       " 'Trinucleotide.GTC': 0.039992477744817699,\n",
       " 'Trinucleotide.GTG': 0.046565461903810501,\n",
       " 'Trinucleotide.GTT': 0.029138136655092201,\n",
       " 'Trinucleotide.NTC': 0.044230602681636803,\n",
       " 'Trinucleotide.TCA': 0.0359534397721291,\n",
       " 'Trinucleotide.TCC': 0.032086547464132302,\n",
       " 'Trinucleotide.TCG': 0.079097121953964206,\n",
       " 'Trinucleotide.TCT': 0.040601544082164799,\n",
       " 'Trinucleotide.TTA': 0.0544677712023258,\n",
       " 'Trinucleotide.TTC': 0.0382214300334454,\n",
       " 'Trinucleotide.TTG': 0.039326097816228901,\n",
       " 'Trinucleotide.TTT': 0.037833902984857601,\n",
       " 'Trinucleotide.missing(NA)': 0.0,\n",
       " 'TumourCoverage': 0.15150500833988198}"
      ]
     },
     "execution_count": 39,
     "metadata": {},
     "output_type": "execute_result"
    }
   ],
   "source": [
    "var_imp_dict = {}\n",
    "\n",
    "for i in range(var_importance.shape[0]):\n",
    "    var_imp_dict[var_importance.iloc[i,0]] = var_importance.iloc[i,1]\n",
    "\n",
    "var_imp_dict"
   ]
  },
  {
   "cell_type": "code",
   "execution_count": 41,
   "metadata": {
    "collapsed": false
   },
   "outputs": [],
   "source": [
    "noOfSample = GenomicFeatures_CPCG0196.shape[0]\n",
    "\n",
    "CPCG0196_Dict = {}\n",
    "\n",
    "for i in range(noOfSample):\n",
    "    \n",
    "    pos = GenomicFeatures_CPCG0196.iloc[i,1] #gets the pos value\n",
    "    \n",
    "    RefAllele      = GenomicFeatures_CPCG0196.iloc[i,2]*var_imp_dict['RefAllele']\n",
    "    NonRefAllele   = GenomicFeatures_CPCG0196.iloc[i,3]*var_imp_dict['NonRefAllele']\n",
    "    BaseQual       = GenomicFeatures_CPCG0196.iloc[i,4]*var_imp_dict['BaseQual']\n",
    "    TumourCoverage = GenomicFeatures_CPCG0196.iloc[i,5]*var_imp_dict['TumourCoverage']\n",
    "    NormalCoverage = GenomicFeatures_CPCG0196.iloc[i,6]*var_imp_dict['NormalCoverage']\n",
    "    MapQual        = GenomicFeatures_CPCG0196.iloc[i,7]*var_imp_dict['MapQual']\n",
    "    ReadPosition   = GenomicFeatures_CPCG0196.iloc[i,8]*var_imp_dict['ReadPosition']\n",
    "    \n",
    "    Trinucleotide  = 0\n",
    "    if isinstance(GenomicFeatures_CPCG0196.iloc[i,9], str):\n",
    "        Trinucleotide  = var_imp_dict['Trinucleotide.'+str(GenomicFeatures_CPCG0196.iloc[i,9])]\n",
    "    HomopolymerRate= GenomicFeatures_CPCG0196.iloc[i,10]*var_imp_dict['HomopolymerRate']\n",
    "    GCcontent      = GenomicFeatures_CPCG0196.iloc[i,11]*var_imp_dict['GCcontent']\n",
    "    \n",
    "    GenomicLocation = 0\n",
    "    if isinstance(GenomicFeatures_CPCG0196.iloc[i,12], str):\n",
    "        GenomicLocation= var_imp_dict['GenomicLocation.'+str(GenomicFeatures_CPCG0196.iloc[i,12])]\n",
    "    DistanceSNP    = GenomicFeatures_CPCG0196.iloc[i,13]*var_imp_dict['DistanceSNP']\n",
    "    StrandBias     = GenomicFeatures_CPCG0196.iloc[i,14]*var_imp_dict['StrandBias']\n",
    "    \n",
    "    #print 'RefAllele=',RefAllele,' NonRefAllele=',NonRefAllele,' BaseQual=',BaseQual,' TumourCoverage=',TumourCoverage\n",
    "    #print 'NormalCoverage=',NormalCoverage,' MapQual=',MapQual,' ReadPosition=',ReadPosition,' Trinucleotide=',Trinucleotide\n",
    "    #print 'HomopolymerRate=',HomopolymerRate,' GCcontent=',GCcontent,' GenomicLocation=',GenomicLocation,' DistanceSNP=',DistanceSNP\n",
    "    #print 'StrandBias=',StrandBias\n",
    "    CPCG0196_Dict[pos] = RefAllele+NonRefAllele+BaseQual+TumourCoverage+NormalCoverage+MapQual+ReadPosition+Trinucleotide+ \\\n",
    "                         HomopolymerRate+GCcontent+GenomicLocation+DistanceSNP+StrandBias"
   ]
  },
  {
   "cell_type": "code",
   "execution_count": 42,
   "metadata": {
    "collapsed": true
   },
   "outputs": [],
   "source": [
    "#Sorting dictionary\n",
    "CPCG0196_Dict1 = [(k,v) for v,k in sorted([(v,k) for k,v in CPCG0196_Dict.items()],reverse=True)]"
   ]
  },
  {
   "cell_type": "code",
   "execution_count": 43,
   "metadata": {
    "collapsed": true
   },
   "outputs": [],
   "source": [
    "CPCG0196_Dict_Frame = pd.DataFrame(CPCG0196_Dict1, columns=['POS', 'Value'])"
   ]
  },
  {
   "cell_type": "code",
   "execution_count": 44,
   "metadata": {
    "collapsed": true
   },
   "outputs": [],
   "source": [
    "CPCG0196_Dict_Frame.to_csv(\"CPCG0196_Dict_Frame.csv\")"
   ]
  },
  {
   "cell_type": "code",
   "execution_count": 22,
   "metadata": {
    "collapsed": true
   },
   "outputs": [],
   "source": [
    "CPCG0196_Dict_Frame = pd.read_csv(\"CPCG0196_Dict_Frame.csv\")"
   ]
  },
  {
   "cell_type": "code",
   "execution_count": 23,
   "metadata": {
    "collapsed": false
   },
   "outputs": [
    {
     "data": {
      "text/html": [
       "<div style=\"max-height:1000px;max-width:1500px;overflow:auto;\">\n",
       "<table border=\"1\" class=\"dataframe\">\n",
       "  <thead>\n",
       "    <tr style=\"text-align: right;\">\n",
       "      <th></th>\n",
       "      <th>Unnamed: 0</th>\n",
       "      <th>POS</th>\n",
       "      <th>Value</th>\n",
       "    </tr>\n",
       "  </thead>\n",
       "  <tbody>\n",
       "    <tr>\n",
       "      <th>0</th>\n",
       "      <td> 0</td>\n",
       "      <td>   181078</td>\n",
       "      <td> 170080.740476</td>\n",
       "    </tr>\n",
       "    <tr>\n",
       "      <th>1</th>\n",
       "      <td> 1</td>\n",
       "      <td>   303265</td>\n",
       "      <td> 161703.666077</td>\n",
       "    </tr>\n",
       "    <tr>\n",
       "      <th>2</th>\n",
       "      <td> 2</td>\n",
       "      <td>   423119</td>\n",
       "      <td> 153768.321146</td>\n",
       "    </tr>\n",
       "    <tr>\n",
       "      <th>3</th>\n",
       "      <td> 3</td>\n",
       "      <td>   576476</td>\n",
       "      <td> 143364.729163</td>\n",
       "    </tr>\n",
       "    <tr>\n",
       "      <th>4</th>\n",
       "      <td> 4</td>\n",
       "      <td>   579326</td>\n",
       "      <td> 143122.632771</td>\n",
       "    </tr>\n",
       "    <tr>\n",
       "      <th>5</th>\n",
       "      <td> 5</td>\n",
       "      <td>   797966</td>\n",
       "      <td> 128569.166857</td>\n",
       "    </tr>\n",
       "    <tr>\n",
       "      <th>6</th>\n",
       "      <td> 6</td>\n",
       "      <td>   878548</td>\n",
       "      <td> 122968.125671</td>\n",
       "    </tr>\n",
       "    <tr>\n",
       "      <th>7</th>\n",
       "      <td> 7</td>\n",
       "      <td>   919927</td>\n",
       "      <td> 120243.583833</td>\n",
       "    </tr>\n",
       "    <tr>\n",
       "      <th>8</th>\n",
       "      <td> 8</td>\n",
       "      <td>  1369555</td>\n",
       "      <td>  89897.923831</td>\n",
       "    </tr>\n",
       "    <tr>\n",
       "      <th>9</th>\n",
       "      <td> 9</td>\n",
       "      <td> 30032083</td>\n",
       "      <td>  87192.700699</td>\n",
       "    </tr>\n",
       "  </tbody>\n",
       "</table>\n",
       "<p>10 rows × 3 columns</p>\n",
       "</div>"
      ],
      "text/plain": [
       "   Unnamed: 0       POS          Value\n",
       "0           0    181078  170080.740476\n",
       "1           1    303265  161703.666077\n",
       "2           2    423119  153768.321146\n",
       "3           3    576476  143364.729163\n",
       "4           4    579326  143122.632771\n",
       "5           5    797966  128569.166857\n",
       "6           6    878548  122968.125671\n",
       "7           7    919927  120243.583833\n",
       "8           8   1369555   89897.923831\n",
       "9           9  30032083   87192.700699\n",
       "\n",
       "[10 rows x 3 columns]"
      ]
     },
     "execution_count": 23,
     "metadata": {},
     "output_type": "execute_result"
    }
   ],
   "source": [
    "CPCG0196_Dict_Frame[:10]"
   ]
  },
  {
   "cell_type": "code",
   "execution_count": 24,
   "metadata": {
    "collapsed": true
   },
   "outputs": [],
   "source": [
    "GenomicFeatures_CPCG0196_1 = pd.concat([CPCG0196.iloc[:,0:16], CPCG0196_Y_Val_1],axis=1)"
   ]
  },
  {
   "cell_type": "code",
   "execution_count": 26,
   "metadata": {
    "collapsed": false
   },
   "outputs": [
    {
     "name": "stdout",
     "output_type": "stream",
     "text": [
      "[  181078   303265   423119   576476   579326   797966   878548   919927\n",
      "  1369555 30032083]\n"
     ]
    }
   ],
   "source": [
    "rows = CPCG0196_Dict_Frame['POS'][:10].values\n",
    "print rows\n",
    "GenomicFeatures_CPCG0196_Top10 = GenomicFeatures_CPCG0196_1.loc[GenomicFeatures_CPCG0196_1['POS_x'].isin(rows)]"
   ]
  },
  {
   "cell_type": "code",
   "execution_count": 28,
   "metadata": {
    "collapsed": false
   },
   "outputs": [
    {
     "data": {
      "text/html": [
       "<div style=\"max-height:1000px;max-width:1500px;overflow:auto;\">\n",
       "<table border=\"1\" class=\"dataframe\">\n",
       "  <thead>\n",
       "    <tr style=\"text-align: right;\">\n",
       "      <th></th>\n",
       "      <th>CHROM</th>\n",
       "      <th>POS_x</th>\n",
       "      <th>RefAllele</th>\n",
       "      <th>NonRefAllele</th>\n",
       "      <th>BaseQual</th>\n",
       "      <th>TumourCoverage</th>\n",
       "      <th>NormalCoverage</th>\n",
       "      <th>MapQual</th>\n",
       "      <th>ReadPosition</th>\n",
       "      <th>Trinucleotide</th>\n",
       "      <th>HomopolymerRate</th>\n",
       "      <th>GCcontent</th>\n",
       "      <th>GenomicLocation</th>\n",
       "      <th>DistanceSNP</th>\n",
       "      <th>StrandBias</th>\n",
       "      <th>POS_y</th>\n",
       "      <th>Label</th>\n",
       "    </tr>\n",
       "  </thead>\n",
       "  <tbody>\n",
       "    <tr>\n",
       "      <th>190668</th>\n",
       "      <td> chr6</td>\n",
       "      <td> 30032083</td>\n",
       "      <td> 10</td>\n",
       "      <td> 0</td>\n",
       "      <td>  279</td>\n",
       "      <td> 11</td>\n",
       "      <td>  6</td>\n",
       "      <td> 0</td>\n",
       "      <td> 27.0</td>\n",
       "      <td> ATT</td>\n",
       "      <td> 6.297297</td>\n",
       "      <td> 0.263682</td>\n",
       "      <td>   intronic</td>\n",
       "      <td> 1291941</td>\n",
       "      <td> 0.636364</td>\n",
       "      <td> 30032082</td>\n",
       "      <td> 0</td>\n",
       "    </tr>\n",
       "    <tr>\n",
       "      <th>243441</th>\n",
       "      <td> chrX</td>\n",
       "      <td>   181078</td>\n",
       "      <td> 38</td>\n",
       "      <td> 1</td>\n",
       "      <td> 1186</td>\n",
       "      <td> 47</td>\n",
       "      <td> 24</td>\n",
       "      <td> 0</td>\n",
       "      <td> 49.0</td>\n",
       "      <td> ACC</td>\n",
       "      <td> 2.876812</td>\n",
       "      <td> 0.542289</td>\n",
       "      <td> intergenic</td>\n",
       "      <td> 2518372</td>\n",
       "      <td> 0.319149</td>\n",
       "      <td>   181077</td>\n",
       "      <td> 0</td>\n",
       "    </tr>\n",
       "    <tr>\n",
       "      <th>243445</th>\n",
       "      <td> chrX</td>\n",
       "      <td>   303265</td>\n",
       "      <td> 14</td>\n",
       "      <td> 2</td>\n",
       "      <td>  423</td>\n",
       "      <td> 23</td>\n",
       "      <td>  7</td>\n",
       "      <td> 0</td>\n",
       "      <td> 74.0</td>\n",
       "      <td> ACG</td>\n",
       "      <td> 2.798507</td>\n",
       "      <td> 0.716418</td>\n",
       "      <td>   intronic</td>\n",
       "      <td> 2396185</td>\n",
       "      <td> 0.478261</td>\n",
       "      <td>   303264</td>\n",
       "      <td> 0</td>\n",
       "    </tr>\n",
       "    <tr>\n",
       "      <th>243453</th>\n",
       "      <td> chrX</td>\n",
       "      <td>   423119</td>\n",
       "      <td> 42</td>\n",
       "      <td> 0</td>\n",
       "      <td> 1276</td>\n",
       "      <td> 47</td>\n",
       "      <td> 15</td>\n",
       "      <td> 0</td>\n",
       "      <td> 54.0</td>\n",
       "      <td> ACA</td>\n",
       "      <td> 1.370166</td>\n",
       "      <td> 0.492537</td>\n",
       "      <td> intergenic</td>\n",
       "      <td> 2276331</td>\n",
       "      <td> 0.425532</td>\n",
       "      <td>   423118</td>\n",
       "      <td> 0</td>\n",
       "    </tr>\n",
       "    <tr>\n",
       "      <th>243461</th>\n",
       "      <td> chrX</td>\n",
       "      <td>   576476</td>\n",
       "      <td> 32</td>\n",
       "      <td> 0</td>\n",
       "      <td>  913</td>\n",
       "      <td> 48</td>\n",
       "      <td> 25</td>\n",
       "      <td> 0</td>\n",
       "      <td> 60.5</td>\n",
       "      <td> TTG</td>\n",
       "      <td> 3.429630</td>\n",
       "      <td> 0.507463</td>\n",
       "      <td> intergenic</td>\n",
       "      <td> 2122974</td>\n",
       "      <td> 0.666667</td>\n",
       "      <td>   576475</td>\n",
       "      <td> 0</td>\n",
       "    </tr>\n",
       "    <tr>\n",
       "      <th>243462</th>\n",
       "      <td> chrX</td>\n",
       "      <td>   579326</td>\n",
       "      <td> 14</td>\n",
       "      <td> 9</td>\n",
       "      <td>  610</td>\n",
       "      <td> 28</td>\n",
       "      <td> 14</td>\n",
       "      <td> 0</td>\n",
       "      <td> 45.5</td>\n",
       "      <td> TCC</td>\n",
       "      <td> 2.000000</td>\n",
       "      <td> 0.407960</td>\n",
       "      <td> intergenic</td>\n",
       "      <td> 2120124</td>\n",
       "      <td> 0.642857</td>\n",
       "      <td>   579325</td>\n",
       "      <td> 0</td>\n",
       "    </tr>\n",
       "    <tr>\n",
       "      <th>243476</th>\n",
       "      <td> chrX</td>\n",
       "      <td>   797966</td>\n",
       "      <td> 52</td>\n",
       "      <td> 3</td>\n",
       "      <td> 1726</td>\n",
       "      <td> 66</td>\n",
       "      <td> 27</td>\n",
       "      <td> 0</td>\n",
       "      <td> 38.0</td>\n",
       "      <td> TCT</td>\n",
       "      <td> 2.308725</td>\n",
       "      <td> 0.363184</td>\n",
       "      <td> intergenic</td>\n",
       "      <td> 1901484</td>\n",
       "      <td> 0.545455</td>\n",
       "      <td>   797965</td>\n",
       "      <td> 0</td>\n",
       "    </tr>\n",
       "    <tr>\n",
       "      <th>243482</th>\n",
       "      <td> chrX</td>\n",
       "      <td>   878548</td>\n",
       "      <td> 26</td>\n",
       "      <td> 1</td>\n",
       "      <td>  804</td>\n",
       "      <td> 31</td>\n",
       "      <td> 22</td>\n",
       "      <td> 0</td>\n",
       "      <td> 40.0</td>\n",
       "      <td> TCA</td>\n",
       "      <td> 1.796296</td>\n",
       "      <td> 0.457711</td>\n",
       "      <td> intergenic</td>\n",
       "      <td> 1820902</td>\n",
       "      <td> 0.451613</td>\n",
       "      <td>   878547</td>\n",
       "      <td> 0</td>\n",
       "    </tr>\n",
       "    <tr>\n",
       "      <th>243489</th>\n",
       "      <td> chrX</td>\n",
       "      <td>   919927</td>\n",
       "      <td> 37</td>\n",
       "      <td> 6</td>\n",
       "      <td> 1130</td>\n",
       "      <td> 48</td>\n",
       "      <td> 32</td>\n",
       "      <td> 0</td>\n",
       "      <td> 66.5</td>\n",
       "      <td> CTA</td>\n",
       "      <td> 2.917293</td>\n",
       "      <td> 0.432836</td>\n",
       "      <td> intergenic</td>\n",
       "      <td> 1779523</td>\n",
       "      <td> 0.437500</td>\n",
       "      <td>   919926</td>\n",
       "      <td> 0</td>\n",
       "    </tr>\n",
       "    <tr>\n",
       "      <th>243506</th>\n",
       "      <td> chrX</td>\n",
       "      <td>  1369555</td>\n",
       "      <td> 34</td>\n",
       "      <td> 0</td>\n",
       "      <td> 1068</td>\n",
       "      <td> 43</td>\n",
       "      <td> 27</td>\n",
       "      <td> 0</td>\n",
       "      <td> 66.0</td>\n",
       "      <td> TCA</td>\n",
       "      <td> 1.407821</td>\n",
       "      <td> 0.293532</td>\n",
       "      <td> intergenic</td>\n",
       "      <td> 1329895</td>\n",
       "      <td> 0.534884</td>\n",
       "      <td>  1369554</td>\n",
       "      <td> 0</td>\n",
       "    </tr>\n",
       "  </tbody>\n",
       "</table>\n",
       "<p>10 rows × 17 columns</p>\n",
       "</div>"
      ],
      "text/plain": [
       "       CHROM     POS_x  RefAllele  NonRefAllele  BaseQual  TumourCoverage  \\\n",
       "190668  chr6  30032083         10             0       279              11   \n",
       "243441  chrX    181078         38             1      1186              47   \n",
       "243445  chrX    303265         14             2       423              23   \n",
       "243453  chrX    423119         42             0      1276              47   \n",
       "243461  chrX    576476         32             0       913              48   \n",
       "243462  chrX    579326         14             9       610              28   \n",
       "243476  chrX    797966         52             3      1726              66   \n",
       "243482  chrX    878548         26             1       804              31   \n",
       "243489  chrX    919927         37             6      1130              48   \n",
       "243506  chrX   1369555         34             0      1068              43   \n",
       "\n",
       "        NormalCoverage  MapQual  ReadPosition Trinucleotide  HomopolymerRate  \\\n",
       "190668               6        0          27.0           ATT         6.297297   \n",
       "243441              24        0          49.0           ACC         2.876812   \n",
       "243445               7        0          74.0           ACG         2.798507   \n",
       "243453              15        0          54.0           ACA         1.370166   \n",
       "243461              25        0          60.5           TTG         3.429630   \n",
       "243462              14        0          45.5           TCC         2.000000   \n",
       "243476              27        0          38.0           TCT         2.308725   \n",
       "243482              22        0          40.0           TCA         1.796296   \n",
       "243489              32        0          66.5           CTA         2.917293   \n",
       "243506              27        0          66.0           TCA         1.407821   \n",
       "\n",
       "        GCcontent GenomicLocation  DistanceSNP  StrandBias     POS_y  Label  \n",
       "190668   0.263682        intronic      1291941    0.636364  30032082      0  \n",
       "243441   0.542289      intergenic      2518372    0.319149    181077      0  \n",
       "243445   0.716418        intronic      2396185    0.478261    303264      0  \n",
       "243453   0.492537      intergenic      2276331    0.425532    423118      0  \n",
       "243461   0.507463      intergenic      2122974    0.666667    576475      0  \n",
       "243462   0.407960      intergenic      2120124    0.642857    579325      0  \n",
       "243476   0.363184      intergenic      1901484    0.545455    797965      0  \n",
       "243482   0.457711      intergenic      1820902    0.451613    878547      0  \n",
       "243489   0.432836      intergenic      1779523    0.437500    919926      0  \n",
       "243506   0.293532      intergenic      1329895    0.534884   1369554      0  \n",
       "\n",
       "[10 rows x 17 columns]"
      ]
     },
     "execution_count": 28,
     "metadata": {},
     "output_type": "execute_result"
    }
   ],
   "source": [
    "GenomicFeatures_CPCG0196_Top10[:10]"
   ]
  },
  {
   "cell_type": "code",
   "execution_count": null,
   "metadata": {
    "collapsed": false
   },
   "outputs": [],
   "source": []
  },
  {
   "cell_type": "code",
   "execution_count": null,
   "metadata": {
    "collapsed": true
   },
   "outputs": [],
   "source": []
  },
  {
   "cell_type": "code",
   "execution_count": null,
   "metadata": {
    "collapsed": true
   },
   "outputs": [],
   "source": []
  }
 ],
 "metadata": {
  "kernelspec": {
   "display_name": "Python 2",
   "language": "python",
   "name": "python2"
  },
  "language_info": {
   "codemirror_mode": {
    "name": "ipython",
    "version": 2
   },
   "file_extension": ".py",
   "mimetype": "text/x-python",
   "name": "python",
   "nbconvert_exporter": "python",
   "pygments_lexer": "ipython2",
   "version": "2.7.6"
  }
 },
 "nbformat": 4,
 "nbformat_minor": 0
}
