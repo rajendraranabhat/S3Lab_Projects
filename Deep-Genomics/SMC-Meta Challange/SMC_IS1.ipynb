{
 "cells": [
  {
   "cell_type": "code",
   "execution_count": 4,
   "metadata": {
    "collapsed": false
   },
   "outputs": [
    {
     "name": "stderr",
     "output_type": "stream",
     "text": [
      "WARNING (theano.sandbox.cuda): CUDA is installed, but device gpu is not available  (error: Unable to get the number of gpus available: no CUDA-capable device is detected)\n",
      "WARNING:theano.sandbox.cuda:CUDA is installed, but device gpu is not available  (error: Unable to get the number of gpus available: no CUDA-capable device is detected)\n",
      "/usr/local/lib/python2.7/dist-packages/theano/tensor/signal/downsample.py:6: UserWarning: downsample module has been moved to the theano.tensor.signal.pool module.\n",
      "  \"downsample module has been moved to the theano.tensor.signal.pool module.\")\n",
      "Using Theano backend.\n"
     ]
    }
   ],
   "source": [
    "import numpy as np\n",
    "import pandas as pd\n",
    "from collections import Counter\n",
    "import math\n",
    "\n",
    "from sklearn.neighbors import KNeighborsClassifier\n",
    "from sklearn.linear_model import LogisticRegression\n",
    "from sklearn.ensemble import RandomForestClassifier\n",
    "from sklearn.cross_validation import cross_val_score\n",
    "from sklearn import metrics\n",
    "from sklearn.cross_validation import train_test_split\n",
    "from sklearn.metrics import confusion_matrix, roc_curve, auc\n",
    "from sklearn.grid_search import GridSearchCV\n",
    "from sklearn import svm\n",
    "from sklearn.decomposition import RandomizedPCA\n",
    "from sklearn.metrics import classification_report\n",
    "from sklearn import preprocessing\n",
    "import matplotlib.pyplot as plt\n",
    "import scipy.optimize as opt\n",
    "import glob\n",
    "import os\n",
    "import sys\n",
    "import pickle\n",
    "import time\n",
    "import timeit\n",
    "\n",
    "from sklearn.decomposition import RandomizedPCA\n",
    "\n",
    "import theano\n",
    "import theano.tensor as T\n",
    "import lasagne\n",
    "\n",
    "#np.random.seed(1337)  # for reproducibility\n",
    "from keras.datasets import mnist\n",
    "from keras.models import Sequential\n",
    "from keras.layers.core import Dense, Dropout, Activation, Flatten, Layer, Reshape, AutoEncoder, Merge\n",
    "from keras.layers.convolutional import Convolution2D,MaxPooling2D,Convolution1D,MaxPooling1D,UpSampling2D, ZeroPadding2D\n",
    "from keras.optimizers import SGD, Adam, RMSprop, Adadelta\n",
    "from keras.layers.normalization import BatchNormalization\n",
    "from keras.utils import np_utils\n",
    "import keras.utils.visualize_util as vutil\n",
    "from keras.layers.recurrent import LSTM, GRU, SimpleRNN\n",
    "from keras.regularizers import l1, l2, l1l2, activity_l2, activity_l1\n",
    "import keras.layers.containers as containers\n",
    "from keras.layers.noise import GaussianNoise\n",
    "from keras.regularizers import ActivityRegularizer\n",
    "from keras import backend as K\n",
    "import keras.utils.visualize_util as vutil\n",
    "from keras.models import model_from_json\n",
    "\n",
    "import seaborn as sns\n",
    "\n",
    "%matplotlib inline\n",
    "\n",
    "from IPython.display import SVG\n",
    "\n",
    "import h5py\n",
    "\n",
    "np.set_printoptions(suppress=True)  #Supress exponent of the number 2e-2 == 0.02\n",
    "\n",
    "%matplotlib inline"
   ]
  },
  {
   "cell_type": "code",
   "execution_count": 5,
   "metadata": {
    "collapsed": true
   },
   "outputs": [],
   "source": [
    "#IS1"
   ]
  },
  {
   "cell_type": "code",
   "execution_count": 6,
   "metadata": {
    "collapsed": false
   },
   "outputs": [
    {
     "name": "stderr",
     "output_type": "stream",
     "text": [
      "/usr/lib/python2.7/dist-packages/pandas/io/parsers.py:1070: DtypeWarning: Columns (0) have mixed types. Specify dtype option on import or set low_memory=False.\n",
      "  data = self._reader.read(nrows)\n"
     ]
    }
   ],
   "source": [
    "#Read the data\n",
    "\n",
    "GenomicFeatures_IS1 = pd.read_csv(open('data/IS1/GenomicFeatures_IS1.txt','r'),sep='\\t')\n",
    "SNVCalls_IS1    = pd.read_csv(open('data/IS1/SNVCalls_IS1.txt','r'),sep='\\t') "
   ]
  },
  {
   "cell_type": "code",
   "execution_count": 7,
   "metadata": {
    "collapsed": false
   },
   "outputs": [
    {
     "name": "stdout",
     "output_type": "stream",
     "text": [
      "(214541, 16)\n",
      "(214541, 122)\n"
     ]
    }
   ],
   "source": [
    "print GenomicFeatures_IS1.shape\n",
    "print SNVCalls_IS1.shape"
   ]
  },
  {
   "cell_type": "code",
   "execution_count": 8,
   "metadata": {
    "collapsed": false
   },
   "outputs": [
    {
     "data": {
      "text/plain": [
       "CHROM                  0\n",
       "POS                    0\n",
       "END                    0\n",
       "RefAllele              0\n",
       "NonRefAllele           0\n",
       "BaseQual               0\n",
       "TumourCoverage         0\n",
       "NormalCoverage         0\n",
       "MapQual                0\n",
       "ReadPosition           0\n",
       "Trinucleotide          0\n",
       "HomopolymerRate        0\n",
       "GCcontent              0\n",
       "GenomicLocation    15568\n",
       "Distance               0\n",
       "StrandBias             0\n",
       "dtype: int64"
      ]
     },
     "execution_count": 8,
     "metadata": {},
     "output_type": "execute_result"
    }
   ],
   "source": [
    "np.sum(GenomicFeatures_IS1.isnull())"
   ]
  },
  {
   "cell_type": "code",
   "execution_count": 9,
   "metadata": {
    "collapsed": false
   },
   "outputs": [
    {
     "data": {
      "text/plain": [
       "array(['UTR3', 'UTR5', 'downstream', 'exonic', 'exonic;splicing',\n",
       "       'intergenic', 'intronic', 'nan', 'ncRNA_UTR3', 'ncRNA_UTR5',\n",
       "       'ncRNA_exonic', 'ncRNA_intronic', 'ncRNA_splicing', 'splicing',\n",
       "       'upstream', 'upstream;downstream'], \n",
       "      dtype='|S19')"
      ]
     },
     "execution_count": 9,
     "metadata": {},
     "output_type": "execute_result"
    }
   ],
   "source": [
    "np.unique(GenomicFeatures_IS1['GenomicLocation'])"
   ]
  },
  {
   "cell_type": "code",
   "execution_count": 10,
   "metadata": {
    "collapsed": false
   },
   "outputs": [
    {
     "data": {
      "text/html": [
       "<div style=\"max-height:1000px;max-width:1500px;overflow:auto;\">\n",
       "<table border=\"1\" class=\"dataframe\">\n",
       "  <thead>\n",
       "    <tr style=\"text-align: right;\">\n",
       "      <th></th>\n",
       "      <th>CHROM</th>\n",
       "      <th>POS</th>\n",
       "      <th>END</th>\n",
       "      <th>RefAllele</th>\n",
       "      <th>NonRefAllele</th>\n",
       "      <th>BaseQual</th>\n",
       "      <th>TumourCoverage</th>\n",
       "      <th>NormalCoverage</th>\n",
       "      <th>MapQual</th>\n",
       "      <th>ReadPosition</th>\n",
       "      <th>Trinucleotide</th>\n",
       "      <th>HomopolymerRate</th>\n",
       "      <th>GCcontent</th>\n",
       "      <th>GenomicLocation</th>\n",
       "      <th>Distance</th>\n",
       "      <th>StrandBias</th>\n",
       "    </tr>\n",
       "  </thead>\n",
       "  <tbody>\n",
       "    <tr>\n",
       "      <th>0</th>\n",
       "      <td> 1</td>\n",
       "      <td> 10290</td>\n",
       "      <td> 10291</td>\n",
       "      <td> 18</td>\n",
       "      <td> 12</td>\n",
       "      <td>  692</td>\n",
       "      <td> 49</td>\n",
       "      <td>  71</td>\n",
       "      <td> 0</td>\n",
       "      <td> 26.0</td>\n",
       "      <td> CCA</td>\n",
       "      <td> 5.510638</td>\n",
       "      <td> 0.534653</td>\n",
       "      <td>        NaN</td>\n",
       "      <td> 20576</td>\n",
       "      <td> 0.428571</td>\n",
       "    </tr>\n",
       "    <tr>\n",
       "      <th>1</th>\n",
       "      <td> 1</td>\n",
       "      <td> 12782</td>\n",
       "      <td> 12783</td>\n",
       "      <td> 44</td>\n",
       "      <td> 26</td>\n",
       "      <td> 2060</td>\n",
       "      <td> 80</td>\n",
       "      <td>  79</td>\n",
       "      <td> 0</td>\n",
       "      <td> 33.5</td>\n",
       "      <td> ACG</td>\n",
       "      <td> 2.141935</td>\n",
       "      <td> 0.599010</td>\n",
       "      <td> intergenic</td>\n",
       "      <td> 18084</td>\n",
       "      <td> 0.612500</td>\n",
       "    </tr>\n",
       "    <tr>\n",
       "      <th>2</th>\n",
       "      <td> 1</td>\n",
       "      <td> 17221</td>\n",
       "      <td> 17222</td>\n",
       "      <td> 54</td>\n",
       "      <td> 18</td>\n",
       "      <td> 2079</td>\n",
       "      <td> 79</td>\n",
       "      <td> 114</td>\n",
       "      <td> 0</td>\n",
       "      <td> 48.0</td>\n",
       "      <td> GTG</td>\n",
       "      <td> 2.551724</td>\n",
       "      <td> 0.603960</td>\n",
       "      <td>        NaN</td>\n",
       "      <td> 13645</td>\n",
       "      <td> 0.493671</td>\n",
       "    </tr>\n",
       "    <tr>\n",
       "      <th>3</th>\n",
       "      <td> 1</td>\n",
       "      <td> 17727</td>\n",
       "      <td> 17728</td>\n",
       "      <td> 45</td>\n",
       "      <td>  5</td>\n",
       "      <td> 1568</td>\n",
       "      <td> 55</td>\n",
       "      <td>  63</td>\n",
       "      <td> 0</td>\n",
       "      <td> 42.0</td>\n",
       "      <td> ACT</td>\n",
       "      <td> 2.290541</td>\n",
       "      <td> 0.584158</td>\n",
       "      <td>        NaN</td>\n",
       "      <td> 13139</td>\n",
       "      <td> 0.272727</td>\n",
       "    </tr>\n",
       "    <tr>\n",
       "      <th>4</th>\n",
       "      <td> 1</td>\n",
       "      <td> 18090</td>\n",
       "      <td> 18091</td>\n",
       "      <td> 48</td>\n",
       "      <td>  3</td>\n",
       "      <td> 1522</td>\n",
       "      <td> 57</td>\n",
       "      <td>  50</td>\n",
       "      <td> 0</td>\n",
       "      <td> 63.0</td>\n",
       "      <td> GCC</td>\n",
       "      <td> 2.528169</td>\n",
       "      <td> 0.613861</td>\n",
       "      <td>        NaN</td>\n",
       "      <td> 12776</td>\n",
       "      <td> 0.526316</td>\n",
       "    </tr>\n",
       "  </tbody>\n",
       "</table>\n",
       "<p>5 rows × 16 columns</p>\n",
       "</div>"
      ],
      "text/plain": [
       "  CHROM    POS    END  RefAllele  NonRefAllele  BaseQual  TumourCoverage  \\\n",
       "0     1  10290  10291         18            12       692              49   \n",
       "1     1  12782  12783         44            26      2060              80   \n",
       "2     1  17221  17222         54            18      2079              79   \n",
       "3     1  17727  17728         45             5      1568              55   \n",
       "4     1  18090  18091         48             3      1522              57   \n",
       "\n",
       "   NormalCoverage  MapQual  ReadPosition Trinucleotide  HomopolymerRate  \\\n",
       "0              71        0          26.0           CCA         5.510638   \n",
       "1              79        0          33.5           ACG         2.141935   \n",
       "2             114        0          48.0           GTG         2.551724   \n",
       "3              63        0          42.0           ACT         2.290541   \n",
       "4              50        0          63.0           GCC         2.528169   \n",
       "\n",
       "   GCcontent GenomicLocation  Distance  StrandBias  \n",
       "0   0.534653             NaN     20576    0.428571  \n",
       "1   0.599010      intergenic     18084    0.612500  \n",
       "2   0.603960             NaN     13645    0.493671  \n",
       "3   0.584158             NaN     13139    0.272727  \n",
       "4   0.613861             NaN     12776    0.526316  \n",
       "\n",
       "[5 rows x 16 columns]"
      ]
     },
     "execution_count": 10,
     "metadata": {},
     "output_type": "execute_result"
    }
   ],
   "source": [
    "GenomicFeatures_IS1.head()"
   ]
  },
  {
   "cell_type": "code",
   "execution_count": 11,
   "metadata": {
    "collapsed": false
   },
   "outputs": [
    {
     "data": {
      "text/html": [
       "<div style=\"max-height:1000px;max-width:1500px;overflow:auto;\">\n",
       "<table border=\"1\" class=\"dataframe\">\n",
       "  <thead>\n",
       "    <tr style=\"text-align: right;\">\n",
       "      <th></th>\n",
       "      <th>CHROM</th>\n",
       "      <th>POS</th>\n",
       "      <th>END</th>\n",
       "      <th>X2318876</th>\n",
       "      <th>X2319000</th>\n",
       "      <th>X2321884</th>\n",
       "      <th>X2322311</th>\n",
       "      <th>X2323876</th>\n",
       "      <th>X2340887</th>\n",
       "      <th>X2341283</th>\n",
       "      <th>X2341286</th>\n",
       "      <th>X2341288</th>\n",
       "      <th>X2341290</th>\n",
       "      <th>X2341292</th>\n",
       "      <th>X2341294</th>\n",
       "      <th>X2341781</th>\n",
       "      <th>X2342416</th>\n",
       "      <th>X2342420</th>\n",
       "      <th>X2342947</th>\n",
       "      <th>X2342949</th>\n",
       "      <th></th>\n",
       "    </tr>\n",
       "  </thead>\n",
       "  <tbody>\n",
       "    <tr>\n",
       "      <th>0</th>\n",
       "      <td> 1</td>\n",
       "      <td> 10290</td>\n",
       "      <td> 10291</td>\n",
       "      <td> 0</td>\n",
       "      <td> 1</td>\n",
       "      <td> 1</td>\n",
       "      <td> 0</td>\n",
       "      <td> 0</td>\n",
       "      <td> 0</td>\n",
       "      <td> 0</td>\n",
       "      <td> 0</td>\n",
       "      <td> 0</td>\n",
       "      <td> 0</td>\n",
       "      <td> 0</td>\n",
       "      <td> 0</td>\n",
       "      <td> 0</td>\n",
       "      <td> 0</td>\n",
       "      <td> 0</td>\n",
       "      <td> 0</td>\n",
       "      <td> 0</td>\n",
       "      <td>...</td>\n",
       "    </tr>\n",
       "    <tr>\n",
       "      <th>1</th>\n",
       "      <td> 1</td>\n",
       "      <td> 12782</td>\n",
       "      <td> 12783</td>\n",
       "      <td> 0</td>\n",
       "      <td> 0</td>\n",
       "      <td> 0</td>\n",
       "      <td> 1</td>\n",
       "      <td> 0</td>\n",
       "      <td> 0</td>\n",
       "      <td> 0</td>\n",
       "      <td> 0</td>\n",
       "      <td> 0</td>\n",
       "      <td> 0</td>\n",
       "      <td> 0</td>\n",
       "      <td> 0</td>\n",
       "      <td> 0</td>\n",
       "      <td> 0</td>\n",
       "      <td> 0</td>\n",
       "      <td> 0</td>\n",
       "      <td> 0</td>\n",
       "      <td>...</td>\n",
       "    </tr>\n",
       "    <tr>\n",
       "      <th>2</th>\n",
       "      <td> 1</td>\n",
       "      <td> 17221</td>\n",
       "      <td> 17222</td>\n",
       "      <td> 0</td>\n",
       "      <td> 1</td>\n",
       "      <td> 1</td>\n",
       "      <td> 0</td>\n",
       "      <td> 0</td>\n",
       "      <td> 0</td>\n",
       "      <td> 0</td>\n",
       "      <td> 0</td>\n",
       "      <td> 0</td>\n",
       "      <td> 0</td>\n",
       "      <td> 0</td>\n",
       "      <td> 0</td>\n",
       "      <td> 0</td>\n",
       "      <td> 0</td>\n",
       "      <td> 0</td>\n",
       "      <td> 0</td>\n",
       "      <td> 0</td>\n",
       "      <td>...</td>\n",
       "    </tr>\n",
       "    <tr>\n",
       "      <th>3</th>\n",
       "      <td> 1</td>\n",
       "      <td> 17727</td>\n",
       "      <td> 17728</td>\n",
       "      <td> 0</td>\n",
       "      <td> 0</td>\n",
       "      <td> 0</td>\n",
       "      <td> 0</td>\n",
       "      <td> 0</td>\n",
       "      <td> 1</td>\n",
       "      <td> 0</td>\n",
       "      <td> 0</td>\n",
       "      <td> 0</td>\n",
       "      <td> 0</td>\n",
       "      <td> 0</td>\n",
       "      <td> 0</td>\n",
       "      <td> 0</td>\n",
       "      <td> 0</td>\n",
       "      <td> 0</td>\n",
       "      <td> 0</td>\n",
       "      <td> 0</td>\n",
       "      <td>...</td>\n",
       "    </tr>\n",
       "    <tr>\n",
       "      <th>4</th>\n",
       "      <td> 1</td>\n",
       "      <td> 18090</td>\n",
       "      <td> 18091</td>\n",
       "      <td> 0</td>\n",
       "      <td> 0</td>\n",
       "      <td> 0</td>\n",
       "      <td> 0</td>\n",
       "      <td> 0</td>\n",
       "      <td> 1</td>\n",
       "      <td> 0</td>\n",
       "      <td> 0</td>\n",
       "      <td> 0</td>\n",
       "      <td> 0</td>\n",
       "      <td> 0</td>\n",
       "      <td> 0</td>\n",
       "      <td> 0</td>\n",
       "      <td> 0</td>\n",
       "      <td> 0</td>\n",
       "      <td> 0</td>\n",
       "      <td> 0</td>\n",
       "      <td>...</td>\n",
       "    </tr>\n",
       "  </tbody>\n",
       "</table>\n",
       "<p>5 rows × 122 columns</p>\n",
       "</div>"
      ],
      "text/plain": [
       "  CHROM    POS    END  X2318876  X2319000  X2321884  X2322311  X2323876  \\\n",
       "0     1  10290  10291         0         1         1         0         0   \n",
       "1     1  12782  12783         0         0         0         1         0   \n",
       "2     1  17221  17222         0         1         1         0         0   \n",
       "3     1  17727  17728         0         0         0         0         0   \n",
       "4     1  18090  18091         0         0         0         0         0   \n",
       "\n",
       "   X2340887  X2341283  X2341286  X2341288  X2341290  X2341292  X2341294  \\\n",
       "0         0         0         0         0         0         0         0   \n",
       "1         0         0         0         0         0         0         0   \n",
       "2         0         0         0         0         0         0         0   \n",
       "3         1         0         0         0         0         0         0   \n",
       "4         1         0         0         0         0         0         0   \n",
       "\n",
       "   X2341781  X2342416  X2342420  X2342947  X2342949      \n",
       "0         0         0         0         0         0 ...  \n",
       "1         0         0         0         0         0 ...  \n",
       "2         0         0         0         0         0 ...  \n",
       "3         0         0         0         0         0 ...  \n",
       "4         0         0         0         0         0 ...  \n",
       "\n",
       "[5 rows x 122 columns]"
      ]
     },
     "execution_count": 11,
     "metadata": {},
     "output_type": "execute_result"
    }
   ],
   "source": [
    "SNVCalls_IS1.head()"
   ]
  },
  {
   "cell_type": "code",
   "execution_count": 12,
   "metadata": {
    "collapsed": false
   },
   "outputs": [
    {
     "data": {
      "text/plain": [
       "array(['ACA', 'ACC', 'ACG', 'ACT', 'ATA', 'ATC', 'ATG', 'ATT', 'CCA',\n",
       "       'CCC', 'CCG', 'CCT', 'CTA', 'CTC', 'CTG', 'CTT', 'GCA', 'GCC',\n",
       "       'GCG', 'GCT', 'GTA', 'GTC', 'GTG', 'GTT', 'TCA', 'TCC', 'TCG',\n",
       "       'TCT', 'TTA', 'TTC', 'TTG', 'TTT'], \n",
       "      dtype='|S3')"
      ]
     },
     "execution_count": 12,
     "metadata": {},
     "output_type": "execute_result"
    }
   ],
   "source": [
    "np.unique(GenomicFeatures_IS1['Trinucleotide'])"
   ]
  },
  {
   "cell_type": "code",
   "execution_count": 13,
   "metadata": {
    "collapsed": true
   },
   "outputs": [],
   "source": [
    "IS1 = pd.merge(GenomicFeatures_IS1, SNVCalls_IS1,left_on=['CHROM', 'POS'], right_on=['CHROM','POS'])\n"
   ]
  },
  {
   "cell_type": "code",
   "execution_count": 14,
   "metadata": {
    "collapsed": false
   },
   "outputs": [
    {
     "data": {
      "text/html": [
       "<div style=\"max-height:1000px;max-width:1500px;overflow:auto;\">\n",
       "<table border=\"1\" class=\"dataframe\">\n",
       "  <thead>\n",
       "    <tr style=\"text-align: right;\">\n",
       "      <th></th>\n",
       "      <th>CHROM</th>\n",
       "      <th>POS</th>\n",
       "      <th>END_x</th>\n",
       "      <th>RefAllele</th>\n",
       "      <th>NonRefAllele</th>\n",
       "      <th>BaseQual</th>\n",
       "      <th>TumourCoverage</th>\n",
       "      <th>NormalCoverage</th>\n",
       "      <th>MapQual</th>\n",
       "      <th>ReadPosition</th>\n",
       "      <th>Trinucleotide</th>\n",
       "      <th>HomopolymerRate</th>\n",
       "      <th>GCcontent</th>\n",
       "      <th>GenomicLocation</th>\n",
       "      <th>Distance</th>\n",
       "      <th>StrandBias</th>\n",
       "      <th>END_y</th>\n",
       "      <th>X2318876</th>\n",
       "      <th>X2319000</th>\n",
       "      <th>X2321884</th>\n",
       "      <th></th>\n",
       "    </tr>\n",
       "  </thead>\n",
       "  <tbody>\n",
       "    <tr>\n",
       "      <th>0</th>\n",
       "      <td> 1</td>\n",
       "      <td> 10290</td>\n",
       "      <td> 10291</td>\n",
       "      <td> 18</td>\n",
       "      <td> 12</td>\n",
       "      <td>  692</td>\n",
       "      <td> 49</td>\n",
       "      <td>  71</td>\n",
       "      <td> 0</td>\n",
       "      <td> 26.0</td>\n",
       "      <td> CCA</td>\n",
       "      <td> 5.510638</td>\n",
       "      <td> 0.534653</td>\n",
       "      <td>        NaN</td>\n",
       "      <td> 20576</td>\n",
       "      <td> 0.428571</td>\n",
       "      <td> 10291</td>\n",
       "      <td> 0</td>\n",
       "      <td> 1</td>\n",
       "      <td> 1</td>\n",
       "      <td>...</td>\n",
       "    </tr>\n",
       "    <tr>\n",
       "      <th>1</th>\n",
       "      <td> 1</td>\n",
       "      <td> 12782</td>\n",
       "      <td> 12783</td>\n",
       "      <td> 44</td>\n",
       "      <td> 26</td>\n",
       "      <td> 2060</td>\n",
       "      <td> 80</td>\n",
       "      <td>  79</td>\n",
       "      <td> 0</td>\n",
       "      <td> 33.5</td>\n",
       "      <td> ACG</td>\n",
       "      <td> 2.141935</td>\n",
       "      <td> 0.599010</td>\n",
       "      <td> intergenic</td>\n",
       "      <td> 18084</td>\n",
       "      <td> 0.612500</td>\n",
       "      <td> 12783</td>\n",
       "      <td> 0</td>\n",
       "      <td> 0</td>\n",
       "      <td> 0</td>\n",
       "      <td>...</td>\n",
       "    </tr>\n",
       "    <tr>\n",
       "      <th>2</th>\n",
       "      <td> 1</td>\n",
       "      <td> 17221</td>\n",
       "      <td> 17222</td>\n",
       "      <td> 54</td>\n",
       "      <td> 18</td>\n",
       "      <td> 2079</td>\n",
       "      <td> 79</td>\n",
       "      <td> 114</td>\n",
       "      <td> 0</td>\n",
       "      <td> 48.0</td>\n",
       "      <td> GTG</td>\n",
       "      <td> 2.551724</td>\n",
       "      <td> 0.603960</td>\n",
       "      <td>        NaN</td>\n",
       "      <td> 13645</td>\n",
       "      <td> 0.493671</td>\n",
       "      <td> 17222</td>\n",
       "      <td> 0</td>\n",
       "      <td> 1</td>\n",
       "      <td> 1</td>\n",
       "      <td>...</td>\n",
       "    </tr>\n",
       "    <tr>\n",
       "      <th>3</th>\n",
       "      <td> 1</td>\n",
       "      <td> 17727</td>\n",
       "      <td> 17728</td>\n",
       "      <td> 45</td>\n",
       "      <td>  5</td>\n",
       "      <td> 1568</td>\n",
       "      <td> 55</td>\n",
       "      <td>  63</td>\n",
       "      <td> 0</td>\n",
       "      <td> 42.0</td>\n",
       "      <td> ACT</td>\n",
       "      <td> 2.290541</td>\n",
       "      <td> 0.584158</td>\n",
       "      <td>        NaN</td>\n",
       "      <td> 13139</td>\n",
       "      <td> 0.272727</td>\n",
       "      <td> 17728</td>\n",
       "      <td> 0</td>\n",
       "      <td> 0</td>\n",
       "      <td> 0</td>\n",
       "      <td>...</td>\n",
       "    </tr>\n",
       "    <tr>\n",
       "      <th>4</th>\n",
       "      <td> 1</td>\n",
       "      <td> 18090</td>\n",
       "      <td> 18091</td>\n",
       "      <td> 48</td>\n",
       "      <td>  3</td>\n",
       "      <td> 1522</td>\n",
       "      <td> 57</td>\n",
       "      <td>  50</td>\n",
       "      <td> 0</td>\n",
       "      <td> 63.0</td>\n",
       "      <td> GCC</td>\n",
       "      <td> 2.528169</td>\n",
       "      <td> 0.613861</td>\n",
       "      <td>        NaN</td>\n",
       "      <td> 12776</td>\n",
       "      <td> 0.526316</td>\n",
       "      <td> 18091</td>\n",
       "      <td> 0</td>\n",
       "      <td> 0</td>\n",
       "      <td> 0</td>\n",
       "      <td>...</td>\n",
       "    </tr>\n",
       "  </tbody>\n",
       "</table>\n",
       "<p>5 rows × 136 columns</p>\n",
       "</div>"
      ],
      "text/plain": [
       "  CHROM    POS  END_x  RefAllele  NonRefAllele  BaseQual  TumourCoverage  \\\n",
       "0     1  10290  10291         18            12       692              49   \n",
       "1     1  12782  12783         44            26      2060              80   \n",
       "2     1  17221  17222         54            18      2079              79   \n",
       "3     1  17727  17728         45             5      1568              55   \n",
       "4     1  18090  18091         48             3      1522              57   \n",
       "\n",
       "   NormalCoverage  MapQual  ReadPosition Trinucleotide  HomopolymerRate  \\\n",
       "0              71        0          26.0           CCA         5.510638   \n",
       "1              79        0          33.5           ACG         2.141935   \n",
       "2             114        0          48.0           GTG         2.551724   \n",
       "3              63        0          42.0           ACT         2.290541   \n",
       "4              50        0          63.0           GCC         2.528169   \n",
       "\n",
       "   GCcontent GenomicLocation  Distance  StrandBias  END_y  X2318876  X2319000  \\\n",
       "0   0.534653             NaN     20576    0.428571  10291         0         1   \n",
       "1   0.599010      intergenic     18084    0.612500  12783         0         0   \n",
       "2   0.603960             NaN     13645    0.493671  17222         0         1   \n",
       "3   0.584158             NaN     13139    0.272727  17728         0         0   \n",
       "4   0.613861             NaN     12776    0.526316  18091         0         0   \n",
       "\n",
       "   X2321884      \n",
       "0         1 ...  \n",
       "1         0 ...  \n",
       "2         1 ...  \n",
       "3         0 ...  \n",
       "4         0 ...  \n",
       "\n",
       "[5 rows x 136 columns]"
      ]
     },
     "execution_count": 14,
     "metadata": {},
     "output_type": "execute_result"
    }
   ],
   "source": [
    "IS1.head() #182+15"
   ]
  },
  {
   "cell_type": "code",
   "execution_count": 15,
   "metadata": {
    "collapsed": true
   },
   "outputs": [],
   "source": [
    "IS1_X = IS1.iloc[:,3:16] #Exclude CHROM, POS\n",
    "IS1_Y = IS1.iloc[:,17:]  #Exclude CHROM_y, POS_y, END"
   ]
  },
  {
   "cell_type": "code",
   "execution_count": 16,
   "metadata": {
    "collapsed": false
   },
   "outputs": [
    {
     "name": "stdout",
     "output_type": "stream",
     "text": [
      "(214541, 13)\n",
      "(214541, 119)\n"
     ]
    }
   ],
   "source": [
    "print IS1_X.shape\n",
    "print IS1_Y.shape"
   ]
  },
  {
   "cell_type": "code",
   "execution_count": 17,
   "metadata": {
    "collapsed": false
   },
   "outputs": [
    {
     "data": {
      "text/html": [
       "<div style=\"max-height:1000px;max-width:1500px;overflow:auto;\">\n",
       "<table border=\"1\" class=\"dataframe\">\n",
       "  <thead>\n",
       "    <tr style=\"text-align: right;\">\n",
       "      <th></th>\n",
       "      <th>RefAllele</th>\n",
       "      <th>NonRefAllele</th>\n",
       "      <th>BaseQual</th>\n",
       "      <th>TumourCoverage</th>\n",
       "      <th>NormalCoverage</th>\n",
       "      <th>MapQual</th>\n",
       "      <th>ReadPosition</th>\n",
       "      <th>Trinucleotide</th>\n",
       "      <th>HomopolymerRate</th>\n",
       "      <th>GCcontent</th>\n",
       "      <th>GenomicLocation</th>\n",
       "      <th>Distance</th>\n",
       "      <th>StrandBias</th>\n",
       "    </tr>\n",
       "  </thead>\n",
       "  <tbody>\n",
       "    <tr>\n",
       "      <th>0</th>\n",
       "      <td> 18</td>\n",
       "      <td> 12</td>\n",
       "      <td>  692</td>\n",
       "      <td> 49</td>\n",
       "      <td> 71</td>\n",
       "      <td> 0</td>\n",
       "      <td> 26.0</td>\n",
       "      <td> CCA</td>\n",
       "      <td> 5.510638</td>\n",
       "      <td> 0.534653</td>\n",
       "      <td>        NaN</td>\n",
       "      <td> 20576</td>\n",
       "      <td> 0.428571</td>\n",
       "    </tr>\n",
       "    <tr>\n",
       "      <th>1</th>\n",
       "      <td> 44</td>\n",
       "      <td> 26</td>\n",
       "      <td> 2060</td>\n",
       "      <td> 80</td>\n",
       "      <td> 79</td>\n",
       "      <td> 0</td>\n",
       "      <td> 33.5</td>\n",
       "      <td> ACG</td>\n",
       "      <td> 2.141935</td>\n",
       "      <td> 0.599010</td>\n",
       "      <td> intergenic</td>\n",
       "      <td> 18084</td>\n",
       "      <td> 0.612500</td>\n",
       "    </tr>\n",
       "  </tbody>\n",
       "</table>\n",
       "<p>2 rows × 13 columns</p>\n",
       "</div>"
      ],
      "text/plain": [
       "   RefAllele  NonRefAllele  BaseQual  TumourCoverage  NormalCoverage  MapQual  \\\n",
       "0         18            12       692              49              71        0   \n",
       "1         44            26      2060              80              79        0   \n",
       "\n",
       "   ReadPosition Trinucleotide  HomopolymerRate  GCcontent GenomicLocation  \\\n",
       "0          26.0           CCA         5.510638   0.534653             NaN   \n",
       "1          33.5           ACG         2.141935   0.599010      intergenic   \n",
       "\n",
       "   Distance  StrandBias  \n",
       "0     20576    0.428571  \n",
       "1     18084    0.612500  \n",
       "\n",
       "[2 rows x 13 columns]"
      ]
     },
     "execution_count": 17,
     "metadata": {},
     "output_type": "execute_result"
    }
   ],
   "source": [
    "IS1_X[:2]"
   ]
  },
  {
   "cell_type": "code",
   "execution_count": 18,
   "metadata": {
    "collapsed": false
   },
   "outputs": [
    {
     "data": {
      "text/html": [
       "<div style=\"max-height:1000px;max-width:1500px;overflow:auto;\">\n",
       "<table border=\"1\" class=\"dataframe\">\n",
       "  <thead>\n",
       "    <tr style=\"text-align: right;\">\n",
       "      <th></th>\n",
       "      <th>X2318876</th>\n",
       "      <th>X2319000</th>\n",
       "      <th>X2321884</th>\n",
       "      <th>X2322311</th>\n",
       "      <th>X2323876</th>\n",
       "      <th>X2340887</th>\n",
       "      <th>X2341283</th>\n",
       "      <th>X2341286</th>\n",
       "      <th>X2341288</th>\n",
       "      <th>X2341290</th>\n",
       "      <th>X2341292</th>\n",
       "      <th>X2341294</th>\n",
       "      <th>X2341781</th>\n",
       "      <th>X2342416</th>\n",
       "      <th>X2342420</th>\n",
       "      <th>X2342947</th>\n",
       "      <th>X2342949</th>\n",
       "      <th>X2343041</th>\n",
       "      <th>X2343043</th>\n",
       "      <th>X2343045</th>\n",
       "      <th></th>\n",
       "    </tr>\n",
       "  </thead>\n",
       "  <tbody>\n",
       "    <tr>\n",
       "      <th>0</th>\n",
       "      <td> 0</td>\n",
       "      <td> 1</td>\n",
       "      <td> 1</td>\n",
       "      <td> 0</td>\n",
       "      <td> 0</td>\n",
       "      <td> 0</td>\n",
       "      <td> 0</td>\n",
       "      <td> 0</td>\n",
       "      <td> 0</td>\n",
       "      <td> 0</td>\n",
       "      <td> 0</td>\n",
       "      <td> 0</td>\n",
       "      <td> 0</td>\n",
       "      <td> 0</td>\n",
       "      <td> 0</td>\n",
       "      <td> 0</td>\n",
       "      <td> 0</td>\n",
       "      <td> 0</td>\n",
       "      <td> 0</td>\n",
       "      <td> 0</td>\n",
       "      <td>...</td>\n",
       "    </tr>\n",
       "    <tr>\n",
       "      <th>1</th>\n",
       "      <td> 0</td>\n",
       "      <td> 0</td>\n",
       "      <td> 0</td>\n",
       "      <td> 1</td>\n",
       "      <td> 0</td>\n",
       "      <td> 0</td>\n",
       "      <td> 0</td>\n",
       "      <td> 0</td>\n",
       "      <td> 0</td>\n",
       "      <td> 0</td>\n",
       "      <td> 0</td>\n",
       "      <td> 0</td>\n",
       "      <td> 0</td>\n",
       "      <td> 0</td>\n",
       "      <td> 0</td>\n",
       "      <td> 0</td>\n",
       "      <td> 0</td>\n",
       "      <td> 0</td>\n",
       "      <td> 0</td>\n",
       "      <td> 0</td>\n",
       "      <td>...</td>\n",
       "    </tr>\n",
       "  </tbody>\n",
       "</table>\n",
       "<p>2 rows × 119 columns</p>\n",
       "</div>"
      ],
      "text/plain": [
       "   X2318876  X2319000  X2321884  X2322311  X2323876  X2340887  X2341283  \\\n",
       "0         0         1         1         0         0         0         0   \n",
       "1         0         0         0         1         0         0         0   \n",
       "\n",
       "   X2341286  X2341288  X2341290  X2341292  X2341294  X2341781  X2342416  \\\n",
       "0         0         0         0         0         0         0         0   \n",
       "1         0         0         0         0         0         0         0   \n",
       "\n",
       "   X2342420  X2342947  X2342949  X2343041  X2343043  X2343045      \n",
       "0         0         0         0         0         0         0 ...  \n",
       "1         0         0         0         0         0         0 ...  \n",
       "\n",
       "[2 rows x 119 columns]"
      ]
     },
     "execution_count": 18,
     "metadata": {},
     "output_type": "execute_result"
    }
   ],
   "source": [
    "IS1_Y[:2]"
   ]
  },
  {
   "cell_type": "code",
   "execution_count": 19,
   "metadata": {
    "collapsed": false
   },
   "outputs": [
    {
     "name": "stdout",
     "output_type": "stream",
     "text": [
      "214541\n",
      "(214541, 1)\n"
     ]
    }
   ],
   "source": [
    "totalSample = IS1_Y.shape[0]\n",
    "IS1_Y_Val = np.zeros((totalSample,1)) #Will be our label now\n",
    "\n",
    "print totalSample\n",
    "print IS1_Y_Val.shape"
   ]
  },
  {
   "cell_type": "code",
   "execution_count": 20,
   "metadata": {
    "collapsed": false
   },
   "outputs": [
    {
     "data": {
      "text/plain": [
       "(214541, 119)"
      ]
     },
     "execution_count": 20,
     "metadata": {},
     "output_type": "execute_result"
    }
   ],
   "source": [
    "IS1_Y.shape"
   ]
  },
  {
   "cell_type": "code",
   "execution_count": 21,
   "metadata": {
    "collapsed": false
   },
   "outputs": [
    {
     "data": {
      "text/plain": [
       "(119,)"
      ]
     },
     "execution_count": 21,
     "metadata": {},
     "output_type": "execute_result"
    }
   ],
   "source": [
    "IS1_Y.values[0].shape"
   ]
  },
  {
   "cell_type": "code",
   "execution_count": 22,
   "metadata": {
    "collapsed": true
   },
   "outputs": [],
   "source": [
    "for i in range(totalSample):\n",
    "    IS1_Y_Val[i] = np.argmax(np.bincount(IS1_Y.values[i]))"
   ]
  },
  {
   "cell_type": "code",
   "execution_count": 23,
   "metadata": {
    "collapsed": true
   },
   "outputs": [],
   "source": [
    "IS1_Y_Val_1 = pd.DataFrame(IS1_Y_Val)\n",
    "IS1_Y_Val_1.columns = ['Label']"
   ]
  },
  {
   "cell_type": "code",
   "execution_count": 24,
   "metadata": {
    "collapsed": false
   },
   "outputs": [
    {
     "data": {
      "text/html": [
       "<div style=\"max-height:1000px;max-width:1500px;overflow:auto;\">\n",
       "<table border=\"1\" class=\"dataframe\">\n",
       "  <thead>\n",
       "    <tr style=\"text-align: right;\">\n",
       "      <th></th>\n",
       "      <th>Label</th>\n",
       "    </tr>\n",
       "  </thead>\n",
       "  <tbody>\n",
       "    <tr>\n",
       "      <th>0</th>\n",
       "      <td> 0</td>\n",
       "    </tr>\n",
       "    <tr>\n",
       "      <th>1</th>\n",
       "      <td> 0</td>\n",
       "    </tr>\n",
       "    <tr>\n",
       "      <th>2</th>\n",
       "      <td> 0</td>\n",
       "    </tr>\n",
       "  </tbody>\n",
       "</table>\n",
       "<p>3 rows × 1 columns</p>\n",
       "</div>"
      ],
      "text/plain": [
       "   Label\n",
       "0      0\n",
       "1      0\n",
       "2      0\n",
       "\n",
       "[3 rows x 1 columns]"
      ]
     },
     "execution_count": 24,
     "metadata": {},
     "output_type": "execute_result"
    }
   ],
   "source": [
    "IS1_Y_Val_1[:3]"
   ]
  },
  {
   "cell_type": "code",
   "execution_count": 62,
   "metadata": {
    "collapsed": false
   },
   "outputs": [
    {
     "data": {
      "text/html": [
       "<div style=\"max-height:1000px;max-width:1500px;overflow:auto;\">\n",
       "<table border=\"1\" class=\"dataframe\">\n",
       "  <thead>\n",
       "    <tr style=\"text-align: right;\">\n",
       "      <th></th>\n",
       "      <th>POS</th>\n",
       "      <th>END_x</th>\n",
       "      <th>RefAllele</th>\n",
       "      <th>NonRefAllele</th>\n",
       "      <th>BaseQual</th>\n",
       "      <th>TumourCoverage</th>\n",
       "      <th>NormalCoverage</th>\n",
       "      <th>MapQual</th>\n",
       "      <th>ReadPosition</th>\n",
       "      <th>Trinucleotide</th>\n",
       "      <th>HomopolymerRate</th>\n",
       "      <th>GCcontent</th>\n",
       "      <th>GenomicLocation</th>\n",
       "      <th>Distance</th>\n",
       "      <th>StrandBias</th>\n",
       "      <th>Label</th>\n",
       "    </tr>\n",
       "  </thead>\n",
       "  <tbody>\n",
       "    <tr>\n",
       "      <th>0</th>\n",
       "      <td> 10290</td>\n",
       "      <td> 10291</td>\n",
       "      <td> 18</td>\n",
       "      <td> 12</td>\n",
       "      <td>  692</td>\n",
       "      <td> 49</td>\n",
       "      <td>  71</td>\n",
       "      <td> 0</td>\n",
       "      <td> 26.0</td>\n",
       "      <td> CCA</td>\n",
       "      <td> 5.510638</td>\n",
       "      <td> 0.534653</td>\n",
       "      <td>        NaN</td>\n",
       "      <td> 20576</td>\n",
       "      <td> 0.428571</td>\n",
       "      <td> 0</td>\n",
       "    </tr>\n",
       "    <tr>\n",
       "      <th>1</th>\n",
       "      <td> 12782</td>\n",
       "      <td> 12783</td>\n",
       "      <td> 44</td>\n",
       "      <td> 26</td>\n",
       "      <td> 2060</td>\n",
       "      <td> 80</td>\n",
       "      <td>  79</td>\n",
       "      <td> 0</td>\n",
       "      <td> 33.5</td>\n",
       "      <td> ACG</td>\n",
       "      <td> 2.141935</td>\n",
       "      <td> 0.599010</td>\n",
       "      <td> intergenic</td>\n",
       "      <td> 18084</td>\n",
       "      <td> 0.612500</td>\n",
       "      <td> 0</td>\n",
       "    </tr>\n",
       "    <tr>\n",
       "      <th>2</th>\n",
       "      <td> 17221</td>\n",
       "      <td> 17222</td>\n",
       "      <td> 54</td>\n",
       "      <td> 18</td>\n",
       "      <td> 2079</td>\n",
       "      <td> 79</td>\n",
       "      <td> 114</td>\n",
       "      <td> 0</td>\n",
       "      <td> 48.0</td>\n",
       "      <td> GTG</td>\n",
       "      <td> 2.551724</td>\n",
       "      <td> 0.603960</td>\n",
       "      <td>        NaN</td>\n",
       "      <td> 13645</td>\n",
       "      <td> 0.493671</td>\n",
       "      <td> 0</td>\n",
       "    </tr>\n",
       "    <tr>\n",
       "      <th>3</th>\n",
       "      <td> 17727</td>\n",
       "      <td> 17728</td>\n",
       "      <td> 45</td>\n",
       "      <td>  5</td>\n",
       "      <td> 1568</td>\n",
       "      <td> 55</td>\n",
       "      <td>  63</td>\n",
       "      <td> 0</td>\n",
       "      <td> 42.0</td>\n",
       "      <td> ACT</td>\n",
       "      <td> 2.290541</td>\n",
       "      <td> 0.584158</td>\n",
       "      <td>        NaN</td>\n",
       "      <td> 13139</td>\n",
       "      <td> 0.272727</td>\n",
       "      <td> 0</td>\n",
       "    </tr>\n",
       "    <tr>\n",
       "      <th>4</th>\n",
       "      <td> 18090</td>\n",
       "      <td> 18091</td>\n",
       "      <td> 48</td>\n",
       "      <td>  3</td>\n",
       "      <td> 1522</td>\n",
       "      <td> 57</td>\n",
       "      <td>  50</td>\n",
       "      <td> 0</td>\n",
       "      <td> 63.0</td>\n",
       "      <td> GCC</td>\n",
       "      <td> 2.528169</td>\n",
       "      <td> 0.613861</td>\n",
       "      <td>        NaN</td>\n",
       "      <td> 12776</td>\n",
       "      <td> 0.526316</td>\n",
       "      <td> 0</td>\n",
       "    </tr>\n",
       "  </tbody>\n",
       "</table>\n",
       "<p>5 rows × 16 columns</p>\n",
       "</div>"
      ],
      "text/plain": [
       "     POS  END_x  RefAllele  NonRefAllele  BaseQual  TumourCoverage  \\\n",
       "0  10290  10291         18            12       692              49   \n",
       "1  12782  12783         44            26      2060              80   \n",
       "2  17221  17222         54            18      2079              79   \n",
       "3  17727  17728         45             5      1568              55   \n",
       "4  18090  18091         48             3      1522              57   \n",
       "\n",
       "   NormalCoverage  MapQual  ReadPosition Trinucleotide  HomopolymerRate  \\\n",
       "0              71        0          26.0           CCA         5.510638   \n",
       "1              79        0          33.5           ACG         2.141935   \n",
       "2             114        0          48.0           GTG         2.551724   \n",
       "3              63        0          42.0           ACT         2.290541   \n",
       "4              50        0          63.0           GCC         2.528169   \n",
       "\n",
       "   GCcontent GenomicLocation  Distance  StrandBias  Label  \n",
       "0   0.534653             NaN     20576    0.428571      0  \n",
       "1   0.599010      intergenic     18084    0.612500      0  \n",
       "2   0.603960             NaN     13645    0.493671      0  \n",
       "3   0.584158             NaN     13139    0.272727      0  \n",
       "4   0.613861             NaN     12776    0.526316      0  \n",
       "\n",
       "[5 rows x 16 columns]"
      ]
     },
     "execution_count": 62,
     "metadata": {},
     "output_type": "execute_result"
    }
   ],
   "source": [
    "pd.concat([IS1.iloc[:,1:16], IS1_Y_Val_1],axis=1).head()"
   ]
  },
  {
   "cell_type": "code",
   "execution_count": 25,
   "metadata": {
    "collapsed": true
   },
   "outputs": [],
   "source": [
    "IS1_dataframe = pd.concat([IS1_X, IS1_Y_Val_1],axis=1)"
   ]
  },
  {
   "cell_type": "code",
   "execution_count": 26,
   "metadata": {
    "collapsed": false
   },
   "outputs": [
    {
     "data": {
      "text/plain": [
       "(214541, 14)"
      ]
     },
     "execution_count": 26,
     "metadata": {},
     "output_type": "execute_result"
    }
   ],
   "source": [
    "IS1_dataframe.shape"
   ]
  },
  {
   "cell_type": "code",
   "execution_count": 27,
   "metadata": {
    "collapsed": false
   },
   "outputs": [
    {
     "data": {
      "text/html": [
       "<div style=\"max-height:1000px;max-width:1500px;overflow:auto;\">\n",
       "<table border=\"1\" class=\"dataframe\">\n",
       "  <thead>\n",
       "    <tr style=\"text-align: right;\">\n",
       "      <th></th>\n",
       "      <th>RefAllele</th>\n",
       "      <th>NonRefAllele</th>\n",
       "      <th>BaseQual</th>\n",
       "      <th>TumourCoverage</th>\n",
       "      <th>NormalCoverage</th>\n",
       "      <th>MapQual</th>\n",
       "      <th>ReadPosition</th>\n",
       "      <th>Trinucleotide</th>\n",
       "      <th>HomopolymerRate</th>\n",
       "      <th>GCcontent</th>\n",
       "      <th>GenomicLocation</th>\n",
       "      <th>Distance</th>\n",
       "      <th>StrandBias</th>\n",
       "      <th>Label</th>\n",
       "    </tr>\n",
       "  </thead>\n",
       "  <tbody>\n",
       "    <tr>\n",
       "      <th>0</th>\n",
       "      <td> 18</td>\n",
       "      <td> 12</td>\n",
       "      <td>  692</td>\n",
       "      <td> 49</td>\n",
       "      <td> 71</td>\n",
       "      <td> 0</td>\n",
       "      <td> 26.0</td>\n",
       "      <td> CCA</td>\n",
       "      <td> 5.510638</td>\n",
       "      <td> 0.534653</td>\n",
       "      <td>        NaN</td>\n",
       "      <td> 20576</td>\n",
       "      <td> 0.428571</td>\n",
       "      <td> 0</td>\n",
       "    </tr>\n",
       "    <tr>\n",
       "      <th>1</th>\n",
       "      <td> 44</td>\n",
       "      <td> 26</td>\n",
       "      <td> 2060</td>\n",
       "      <td> 80</td>\n",
       "      <td> 79</td>\n",
       "      <td> 0</td>\n",
       "      <td> 33.5</td>\n",
       "      <td> ACG</td>\n",
       "      <td> 2.141935</td>\n",
       "      <td> 0.599010</td>\n",
       "      <td> intergenic</td>\n",
       "      <td> 18084</td>\n",
       "      <td> 0.612500</td>\n",
       "      <td> 0</td>\n",
       "    </tr>\n",
       "  </tbody>\n",
       "</table>\n",
       "<p>2 rows × 14 columns</p>\n",
       "</div>"
      ],
      "text/plain": [
       "   RefAllele  NonRefAllele  BaseQual  TumourCoverage  NormalCoverage  MapQual  \\\n",
       "0         18            12       692              49              71        0   \n",
       "1         44            26      2060              80              79        0   \n",
       "\n",
       "   ReadPosition Trinucleotide  HomopolymerRate  GCcontent GenomicLocation  \\\n",
       "0          26.0           CCA         5.510638   0.534653             NaN   \n",
       "1          33.5           ACG         2.141935   0.599010      intergenic   \n",
       "\n",
       "   Distance  StrandBias  Label  \n",
       "0     20576    0.428571      0  \n",
       "1     18084    0.612500      0  \n",
       "\n",
       "[2 rows x 14 columns]"
      ]
     },
     "execution_count": 27,
     "metadata": {},
     "output_type": "execute_result"
    }
   ],
   "source": [
    "IS1_dataframe[:2]"
   ]
  },
  {
   "cell_type": "code",
   "execution_count": 51,
   "metadata": {
    "collapsed": true
   },
   "outputs": [],
   "source": [
    "IS1_dataframe.to_csv('IS1.csv')"
   ]
  },
  {
   "cell_type": "code",
   "execution_count": 52,
   "metadata": {
    "collapsed": true
   },
   "outputs": [],
   "source": [
    "#Now we have variable importance ...lets do analysis"
   ]
  },
  {
   "cell_type": "code",
   "execution_count": 53,
   "metadata": {
    "collapsed": false
   },
   "outputs": [
    {
     "name": "stdout",
     "output_type": "stream",
     "text": [
      "The rpy2.ipython extension is already loaded. To reload it, use:\n",
      "  %reload_ext rpy2.ipython\n"
     ]
    }
   ],
   "source": [
    "%load_ext rpy2.ipython"
   ]
  },
  {
   "cell_type": "code",
   "execution_count": 54,
   "metadata": {
    "collapsed": false
   },
   "outputs": [
    {
     "data": {
      "text/plain": [
       "'data.frame':\t214541 obs. of  15 variables:\n",
       " $ X              : int  0 1 2 3 4 5 6 7 8 9 ...\n",
       " $ RefAllele      : int  18 44 54 45 48 41 70 36 13 32 ...\n",
       " $ NonRefAllele   : int  12 26 18 5 3 5 8 4 3 8 ...\n",
       " $ BaseQual       : int  692 2060 2079 1568 1522 1460 2315 1144 459 1285 ...\n",
       " $ TumourCoverage : int  49 80 79 55 57 52 107 44 21 61 ...\n",
       " $ NormalCoverage : int  71 79 114 63 50 43 94 47 13 59 ...\n",
       " $ MapQual        : num  0 0 0 0 0 0 0 0 0 0 ...\n",
       " $ ReadPosition   : num  26 33.5 48 42 63 45.5 42 68.5 41 52 ...\n",
       " $ Trinucleotide  : Factor w/ 32 levels \"ACA\",\"ACC\",\"ACG\",..: 9 3 23 4 18 12 27 3 1 4 ...\n",
       " $ HomopolymerRate: num  5.51 2.14 2.55 2.29 2.53 ...\n",
       " $ GCcontent      : num  0.535 0.599 0.604 0.584 0.614 ...\n",
       " $ GenomicLocation: Factor w/ 16 levels \"\",\"downstream\",..: 1 5 1 1 1 8 8 8 8 5 ...\n",
       " $ Distance       : int  20576 18084 13645 13139 12776 11479 10632 9643 2984 295 ...\n",
       " $ StrandBias     : num  0.429 0.613 0.494 0.273 0.526 ...\n",
       " $ Label          : num  0 0 0 0 0 0 0 0 0 0 ...\n"
      ]
     },
     "metadata": {},
     "output_type": "display_data"
    }
   ],
   "source": [
    "%%R\n",
    "# Read in the data\n",
    "IS1Frame = read.csv(\"IS1.csv\")\n",
    "str(IS1Frame)"
   ]
  },
  {
   "cell_type": "code",
   "execution_count": 32,
   "metadata": {
    "collapsed": false
   },
   "outputs": [
    {
     "data": {
      "text/plain": [
       "[1] 0\n"
      ]
     },
     "metadata": {},
     "output_type": "display_data"
    }
   ],
   "source": [
    "%%R\n",
    "#sum(is.na(CPCG0183Frame$StrandBias))\n",
    "#sum(is.na(IS1Frame$ReadPosition)) \n",
    "sum(is.na(IS1Frame)) "
   ]
  },
  {
   "cell_type": "code",
   "execution_count": 33,
   "metadata": {
    "collapsed": false
   },
   "outputs": [],
   "source": [
    "#%%R\n",
    "#CPCG0235Frame$ReadPosition[is.na(CPCG0235Frame$ReadPosition)] = mean(CPCG0235Frame$ReadPosition, na.rm=TRUE)\n",
    "#CPCG0235Frame$StrandBias[is.na(CPCG0235Frame$StrandBias)] = mean(CPCG0235Frame$StrandBias, na.rm=TRUE)\n",
    "\n",
    "#print (sum(is.na(CPCG0235Frame$ReadPosition)) )\n",
    "#print (sum(is.na(CPCG0235Frame$StrandBias)) )"
   ]
  },
  {
   "cell_type": "code",
   "execution_count": 34,
   "metadata": {
    "collapsed": false
   },
   "outputs": [
    {
     "data": {
      "text/plain": [
       "[1] 0\n"
      ]
     },
     "metadata": {},
     "output_type": "display_data"
    }
   ],
   "source": [
    "%%R\n",
    "sum(is.na(IS1Frame))  #No NA value now"
   ]
  },
  {
   "cell_type": "code",
   "execution_count": 35,
   "metadata": {
    "collapsed": true
   },
   "outputs": [],
   "source": [
    "%%R\n",
    "write.csv(IS1Frame, file = \"IS1_imputed.csv\")  #Cleaned CSV without NA"
   ]
  },
  {
   "cell_type": "code",
   "execution_count": 36,
   "metadata": {
    "collapsed": false
   },
   "outputs": [
    {
     "name": "stderr",
     "output_type": "stream",
     "text": [
      "/usr/local/lib/python2.7/dist-packages/rpy2/robjects/functions.py:106: UserWarning: Loading required package: statmod\n",
      "\n",
      "  res = super(Function, self).__call__(*new_args, **new_kwargs)\n",
      "/usr/local/lib/python2.7/dist-packages/rpy2/robjects/functions.py:106: UserWarning: \n",
      "----------------------------------------------------------------------\n",
      "\n",
      "Your next step is to start H2O:\n",
      "    > h2o.init()\n",
      "\n",
      "For H2O package documentation, ask for help:\n",
      "    > ??h2o\n",
      "\n",
      "After starting H2O, you can use the Web UI at http://localhost:54321\n",
      "For more information visit http://docs.h2o.ai\n",
      "\n",
      "----------------------------------------------------------------------\n",
      "\n",
      "\n",
      "  res = super(Function, self).__call__(*new_args, **new_kwargs)\n",
      "/usr/local/lib/python2.7/dist-packages/rpy2/robjects/functions.py:106: UserWarning: \n",
      "Attaching package: ‘h2o’\n",
      "\n",
      "\n",
      "  res = super(Function, self).__call__(*new_args, **new_kwargs)\n",
      "/usr/local/lib/python2.7/dist-packages/rpy2/robjects/functions.py:106: UserWarning: The following objects are masked from ‘package:stats’:\n",
      "\n",
      "    sd, var\n",
      "\n",
      "\n",
      "  res = super(Function, self).__call__(*new_args, **new_kwargs)\n",
      "/usr/local/lib/python2.7/dist-packages/rpy2/robjects/functions.py:106: UserWarning: The following objects are masked from ‘package:base’:\n",
      "\n",
      "    ||, &&, %*%, apply, as.factor, as.numeric, colnames, colnames<-,\n",
      "    ifelse, %in%, is.character, is.factor, is.numeric, log, log10,\n",
      "    log1p, log2, round, signif, trunc\n",
      "\n",
      "\n",
      "  res = super(Function, self).__call__(*new_args, **new_kwargs)\n"
     ]
    },
    {
     "data": {
      "text/plain": [
       "\n",
       "H2O is not running yet, starting it now...\n",
       "\n",
       "Note:  In case of errors look at the following log files:\n",
       "    /tmp/RtmpiQpC6Z/h2o_rbhat_started_from_r.out\n",
       "    /tmp/RtmpiQpC6Z/h2o_rbhat_started_from_r.err\n",
       "\n",
       "\n",
       "Starting H2O JVM and connecting: .. Connection successful!\n",
       "\n",
       "R is connected to the H2O cluster: \n",
       "    H2O cluster uptime:         1 seconds 743 milliseconds \n",
       "    H2O cluster version:        3.9.1.3435 \n",
       "    H2O cluster name:           H2O_started_from_R_rbhat_xqb196 \n",
       "    H2O cluster total nodes:    1 \n",
       "    H2O cluster total memory:   26.60 GB \n",
       "    H2O cluster total cores:    56 \n",
       "    H2O cluster allowed cores:  2 \n",
       "    H2O cluster healthy:        TRUE \n",
       "    H2O Connection ip:          localhost \n",
       "    H2O Connection port:        54321 \n",
       "    H2O Connection proxy:       NA \n",
       "    R Version:                  R version 3.3.0 beta (2016-03-30 r70404) \n",
       "\n",
       "Note:  As started, H2O is limited to the CRAN default of 2 CPUs.\n",
       "       Shut down and restart H2O as shown below to use all your CPUs.\n",
       "           > h2o.shutdown()\n",
       "           > h2o.init(nthreads = -1)\n",
       "\n"
      ]
     },
     "metadata": {},
     "output_type": "display_data"
    }
   ],
   "source": [
    "%%R\n",
    "library(h2o)\n",
    "localH2O = h2o.init(ip = \"localhost\", port = 54321, startH2O = TRUE,min_mem_size = \"3g\")"
   ]
  },
  {
   "cell_type": "code",
   "execution_count": 37,
   "metadata": {
    "collapsed": false
   },
   "outputs": [
    {
     "data": {
      "text/plain": [
       "\r",
       "  |                                                                            \r",
       "  |                                                                      |   0%\r",
       "  |                                                                            \r",
       "  |======================================================================| 100%\n",
       "'data.frame':\t214541 obs. of  16 variables:\n",
       " $ C1             : int  1 2 3 4 5 6 7 8 9 10 ...\n",
       " $ X              : int  0 1 2 3 4 5 6 7 8 9 ...\n",
       " $ RefAllele      : int  18 44 54 45 48 41 70 36 13 32 ...\n",
       " $ NonRefAllele   : int  12 26 18 5 3 5 8 4 3 8 ...\n",
       " $ BaseQual       : int  692 2060 2079 1568 1522 1460 2315 1144 459 1285 ...\n",
       " $ TumourCoverage : int  49 80 79 55 57 52 107 44 21 61 ...\n",
       " $ NormalCoverage : int  71 79 114 63 50 43 94 47 13 59 ...\n",
       " $ MapQual        : num  0 0 0 0 0 0 0 0 0 0 ...\n",
       " $ ReadPosition   : num  26 33.5 48 42 63 45.5 42 68.5 41 52 ...\n",
       " $ Trinucleotide  : Factor w/ 32 levels \"ACA\",\"ACC\",\"ACG\",..: 9 3 23 4 18 12 27 3 1 4 ...\n",
       " $ HomopolymerRate: num  5.51 2.14 2.55 2.29 2.53 ...\n",
       " $ GCcontent      : num  0.535 0.599 0.604 0.584 0.614 ...\n",
       " $ GenomicLocation: Factor w/ 15 levels \"downstream\",\"exonic\",..: NA 4 NA NA NA 7 7 7 7 4 ...\n",
       " $ Distance       : int  20576 18084 13645 13139 12776 11479 10632 9643 2984 295 ...\n",
       " $ StrandBias     : num  0.429 0.613 0.494 0.273 0.526 ...\n",
       " $ Label          : int  0 0 0 0 0 0 0 0 0 0 ...\n"
      ]
     },
     "metadata": {},
     "output_type": "display_data"
    }
   ],
   "source": [
    "%%R\n",
    "## Import CSV as H2O:\n",
    "csvPath = \"/home/rbhat/Workspace/S3Lab_Projects/SMC-MetaChallange/IS1_imputed.csv\"\n",
    "IS1.hex          = h2o.importFile(path = csvPath, destination_frame = \"IS1.hex\") \n",
    "train                 = as.data.frame(IS1.hex)\n",
    "\n",
    "str(train)"
   ]
  },
  {
   "cell_type": "code",
   "execution_count": 38,
   "metadata": {
    "collapsed": false
   },
   "outputs": [
    {
     "data": {
      "text/plain": [
       "\r",
       "  |                                                                            \r",
       "  |                                                                      |   0%\r",
       "  |                                                                            \r",
       "  |======================================================================| 100%\n"
      ]
     },
     "metadata": {},
     "output_type": "display_data"
    }
   ],
   "source": [
    "%%R\n",
    "\n",
    "train$Trinucleotide   = as.factor(train$Trinucleotide)\n",
    "train$GenomicLocation = as.factor(train$GenomicLocation)\n",
    "train$Label           = as.factor(train$Label)\n",
    "\n",
    "train_h2o             = as.h2o(train)"
   ]
  },
  {
   "cell_type": "code",
   "execution_count": 39,
   "metadata": {
    "collapsed": false
   },
   "outputs": [
    {
     "data": {
      "text/plain": [
       "\r",
       "  |                                                                            \r",
       "  |                                                                      |   0%\r",
       "  |                                                                            \r",
       "  |=                                                                     |   1%\r",
       "  |                                                                            \r",
       "  |===                                                                   |   5%\r",
       "  |                                                                            \r",
       "  |======                                                                |   8%\r",
       "  |                                                                            \r",
       "  |========                                                              |  12%\r",
       "  |                                                                            \r",
       "  |==========                                                            |  15%\r",
       "  |                                                                            \r",
       "  |=============                                                         |  19%\r",
       "  |                                                                            \r",
       "  |================                                                      |  22%\r",
       "  |                                                                            \r",
       "  |==================                                                    |  26%\r",
       "  |                                                                            \r",
       "  |=====================                                                 |  30%\r",
       "  |                                                                            \r",
       "  |=======================                                               |  34%\r",
       "  |                                                                            \r",
       "  |==========================                                            |  37%\r",
       "  |                                                                            \r",
       "  |============================                                          |  40%\r",
       "  |                                                                            \r",
       "  |===============================                                       |  44%\r",
       "  |                                                                            \r",
       "  |=================================                                     |  48%\r",
       "  |                                                                            \r",
       "  |====================================                                  |  51%\r",
       "  |                                                                            \r",
       "  |======================================                                |  54%\r",
       "  |                                                                            \r",
       "  |========================================                              |  57%\r",
       "  |                                                                            \r",
       "  |==========================================                            |  60%\r",
       "  |                                                                            \r",
       "  |============================================                          |  63%\r",
       "  |                                                                            \r",
       "  |===============================================                       |  67%\r",
       "  |                                                                            \r",
       "  |=================================================                     |  70%\r",
       "  |                                                                            \r",
       "  |====================================================                  |  74%\r",
       "  |                                                                            \r",
       "  |======================================================                |  77%\r",
       "  |                                                                            \r",
       "  |=========================================================             |  82%\r",
       "  |                                                                            \r",
       "  |============================================================          |  86%\r",
       "  |                                                                            \r",
       "  |==============================================================        |  89%\r",
       "  |                                                                            \r",
       "  |=================================================================     |  92%\r",
       "  |                                                                            \r",
       "  |===================================================================   |  96%\r",
       "  |                                                                            \r",
       "  |======================================================================| 100%\n"
      ]
     },
     "metadata": {},
     "output_type": "display_data"
    }
   ],
   "source": [
    "%%R\n",
    "#Training a deep learning model:---------------------------------------------------------#\n",
    "model <- h2o.deeplearning( x = 3:15, # column numbers for predictors\n",
    "                           y = 16,            # column number for label\n",
    "                           training_frame = train_h2o,\n",
    "                           activation = \"RectifierWithDropout\", \n",
    "                           input_dropout_ratio = 0.2,\n",
    "                           hidden_dropout_ratios = c(0.5,0.5),\n",
    "                           balance_classes = TRUE, \n",
    "                           hidden = c(10,8),  ## two hidden layers\n",
    "                           epochs = 50,\n",
    "                           variable_importances = T)"
   ]
  },
  {
   "cell_type": "code",
   "execution_count": 40,
   "metadata": {
    "collapsed": false
   },
   "outputs": [
    {
     "data": {
      "text/plain": [
       "Variable Importances: \n",
       "                     variable relative_importance scaled_importance percentage\n",
       "1                NonRefAllele            1.000000          1.000000   0.347961\n",
       "2                   RefAllele            0.306104          0.306104   0.106512\n",
       "3                    BaseQual            0.204257          0.204257   0.071073\n",
       "4              NormalCoverage            0.118062          0.118062   0.041081\n",
       "5 GenomicLocation.missing(NA)            0.091290          0.091290   0.031765\n",
       "\n",
       "---\n",
       "                     variable relative_importance scaled_importance percentage\n",
       "55          Trinucleotide.CTA            0.006931          0.006931   0.002412\n",
       "56          Trinucleotide.ACT            0.006452          0.006452   0.002245\n",
       "57          Trinucleotide.GTC            0.006219          0.006219   0.002164\n",
       "58   GenomicLocation.intronic            0.006110          0.006110   0.002126\n",
       "59 GenomicLocation.intergenic            0.001992          0.001992   0.000693\n",
       "60  Trinucleotide.missing(NA)            0.000000          0.000000   0.000000\n"
      ]
     },
     "metadata": {},
     "output_type": "display_data"
    }
   ],
   "source": [
    "%%R\n",
    "var_importance = h2o.varimp(model)\n",
    "#print(var_importance)\n",
    "h2o.varimp(model)"
   ]
  },
  {
   "cell_type": "code",
   "execution_count": 41,
   "metadata": {
    "collapsed": true
   },
   "outputs": [],
   "source": [
    "%%R\n",
    "write.table(var_importance, file=\"IS1_variable_importance.csv\")"
   ]
  },
  {
   "cell_type": "code",
   "execution_count": 42,
   "metadata": {
    "collapsed": true
   },
   "outputs": [],
   "source": [
    "var_importance = pd.read_csv(open('IS1_variable_importance.csv','r'),sep=' ')\n",
    "#pd.read_csv('CPCG0100_variable_importance.csv')"
   ]
  },
  {
   "cell_type": "code",
   "execution_count": 43,
   "metadata": {
    "collapsed": false
   },
   "outputs": [
    {
     "data": {
      "text/html": [
       "<div style=\"max-height:1000px;max-width:1500px;overflow:auto;\">\n",
       "<table border=\"1\" class=\"dataframe\">\n",
       "  <thead>\n",
       "    <tr style=\"text-align: right;\">\n",
       "      <th></th>\n",
       "      <th>variable</th>\n",
       "      <th>relative_importance</th>\n",
       "      <th>scaled_importance</th>\n",
       "      <th>percentage</th>\n",
       "    </tr>\n",
       "  </thead>\n",
       "  <tbody>\n",
       "    <tr>\n",
       "      <th>1</th>\n",
       "      <td>                NonRefAllele</td>\n",
       "      <td> 1.000000</td>\n",
       "      <td> 1.000000</td>\n",
       "      <td> 0.347961</td>\n",
       "    </tr>\n",
       "    <tr>\n",
       "      <th>2</th>\n",
       "      <td>                   RefAllele</td>\n",
       "      <td> 0.306104</td>\n",
       "      <td> 0.306104</td>\n",
       "      <td> 0.106512</td>\n",
       "    </tr>\n",
       "    <tr>\n",
       "      <th>3</th>\n",
       "      <td>                    BaseQual</td>\n",
       "      <td> 0.204257</td>\n",
       "      <td> 0.204257</td>\n",
       "      <td> 0.071073</td>\n",
       "    </tr>\n",
       "    <tr>\n",
       "      <th>4</th>\n",
       "      <td>              NormalCoverage</td>\n",
       "      <td> 0.118062</td>\n",
       "      <td> 0.118062</td>\n",
       "      <td> 0.041081</td>\n",
       "    </tr>\n",
       "    <tr>\n",
       "      <th>5</th>\n",
       "      <td> GenomicLocation.missing(NA)</td>\n",
       "      <td> 0.091290</td>\n",
       "      <td> 0.091290</td>\n",
       "      <td> 0.031765</td>\n",
       "    </tr>\n",
       "  </tbody>\n",
       "</table>\n",
       "<p>5 rows × 4 columns</p>\n",
       "</div>"
      ],
      "text/plain": [
       "                      variable  relative_importance  scaled_importance  \\\n",
       "1                 NonRefAllele             1.000000           1.000000   \n",
       "2                    RefAllele             0.306104           0.306104   \n",
       "3                     BaseQual             0.204257           0.204257   \n",
       "4               NormalCoverage             0.118062           0.118062   \n",
       "5  GenomicLocation.missing(NA)             0.091290           0.091290   \n",
       "\n",
       "   percentage  \n",
       "1    0.347961  \n",
       "2    0.106512  \n",
       "3    0.071073  \n",
       "4    0.041081  \n",
       "5    0.031765  \n",
       "\n",
       "[5 rows x 4 columns]"
      ]
     },
     "execution_count": 43,
     "metadata": {},
     "output_type": "execute_result"
    }
   ],
   "source": [
    "var_importance[:5]"
   ]
  },
  {
   "cell_type": "code",
   "execution_count": 44,
   "metadata": {
    "collapsed": false
   },
   "outputs": [
    {
     "data": {
      "text/html": [
       "<div style=\"max-height:1000px;max-width:1500px;overflow:auto;\">\n",
       "<table border=\"1\" class=\"dataframe\">\n",
       "  <thead>\n",
       "    <tr style=\"text-align: right;\">\n",
       "      <th></th>\n",
       "      <th>CHROM</th>\n",
       "      <th>POS</th>\n",
       "      <th>END</th>\n",
       "      <th>RefAllele</th>\n",
       "      <th>NonRefAllele</th>\n",
       "      <th>BaseQual</th>\n",
       "      <th>TumourCoverage</th>\n",
       "      <th>NormalCoverage</th>\n",
       "      <th>MapQual</th>\n",
       "      <th>ReadPosition</th>\n",
       "      <th>Trinucleotide</th>\n",
       "      <th>HomopolymerRate</th>\n",
       "      <th>GCcontent</th>\n",
       "      <th>GenomicLocation</th>\n",
       "      <th>Distance</th>\n",
       "      <th>StrandBias</th>\n",
       "    </tr>\n",
       "  </thead>\n",
       "  <tbody>\n",
       "    <tr>\n",
       "      <th>0</th>\n",
       "      <td> 1</td>\n",
       "      <td> 10290</td>\n",
       "      <td> 10291</td>\n",
       "      <td> 18</td>\n",
       "      <td> 12</td>\n",
       "      <td>  692</td>\n",
       "      <td> 49</td>\n",
       "      <td>  71</td>\n",
       "      <td> 0</td>\n",
       "      <td> 26.0</td>\n",
       "      <td> CCA</td>\n",
       "      <td> 5.510638</td>\n",
       "      <td> 0.534653</td>\n",
       "      <td>        NaN</td>\n",
       "      <td> 20576</td>\n",
       "      <td> 0.428571</td>\n",
       "    </tr>\n",
       "    <tr>\n",
       "      <th>1</th>\n",
       "      <td> 1</td>\n",
       "      <td> 12782</td>\n",
       "      <td> 12783</td>\n",
       "      <td> 44</td>\n",
       "      <td> 26</td>\n",
       "      <td> 2060</td>\n",
       "      <td> 80</td>\n",
       "      <td>  79</td>\n",
       "      <td> 0</td>\n",
       "      <td> 33.5</td>\n",
       "      <td> ACG</td>\n",
       "      <td> 2.141935</td>\n",
       "      <td> 0.599010</td>\n",
       "      <td> intergenic</td>\n",
       "      <td> 18084</td>\n",
       "      <td> 0.612500</td>\n",
       "    </tr>\n",
       "    <tr>\n",
       "      <th>2</th>\n",
       "      <td> 1</td>\n",
       "      <td> 17221</td>\n",
       "      <td> 17222</td>\n",
       "      <td> 54</td>\n",
       "      <td> 18</td>\n",
       "      <td> 2079</td>\n",
       "      <td> 79</td>\n",
       "      <td> 114</td>\n",
       "      <td> 0</td>\n",
       "      <td> 48.0</td>\n",
       "      <td> GTG</td>\n",
       "      <td> 2.551724</td>\n",
       "      <td> 0.603960</td>\n",
       "      <td>        NaN</td>\n",
       "      <td> 13645</td>\n",
       "      <td> 0.493671</td>\n",
       "    </tr>\n",
       "    <tr>\n",
       "      <th>3</th>\n",
       "      <td> 1</td>\n",
       "      <td> 17727</td>\n",
       "      <td> 17728</td>\n",
       "      <td> 45</td>\n",
       "      <td>  5</td>\n",
       "      <td> 1568</td>\n",
       "      <td> 55</td>\n",
       "      <td>  63</td>\n",
       "      <td> 0</td>\n",
       "      <td> 42.0</td>\n",
       "      <td> ACT</td>\n",
       "      <td> 2.290541</td>\n",
       "      <td> 0.584158</td>\n",
       "      <td>        NaN</td>\n",
       "      <td> 13139</td>\n",
       "      <td> 0.272727</td>\n",
       "    </tr>\n",
       "    <tr>\n",
       "      <th>4</th>\n",
       "      <td> 1</td>\n",
       "      <td> 18090</td>\n",
       "      <td> 18091</td>\n",
       "      <td> 48</td>\n",
       "      <td>  3</td>\n",
       "      <td> 1522</td>\n",
       "      <td> 57</td>\n",
       "      <td>  50</td>\n",
       "      <td> 0</td>\n",
       "      <td> 63.0</td>\n",
       "      <td> GCC</td>\n",
       "      <td> 2.528169</td>\n",
       "      <td> 0.613861</td>\n",
       "      <td>        NaN</td>\n",
       "      <td> 12776</td>\n",
       "      <td> 0.526316</td>\n",
       "    </tr>\n",
       "  </tbody>\n",
       "</table>\n",
       "<p>5 rows × 16 columns</p>\n",
       "</div>"
      ],
      "text/plain": [
       "  CHROM    POS    END  RefAllele  NonRefAllele  BaseQual  TumourCoverage  \\\n",
       "0     1  10290  10291         18            12       692              49   \n",
       "1     1  12782  12783         44            26      2060              80   \n",
       "2     1  17221  17222         54            18      2079              79   \n",
       "3     1  17727  17728         45             5      1568              55   \n",
       "4     1  18090  18091         48             3      1522              57   \n",
       "\n",
       "   NormalCoverage  MapQual  ReadPosition Trinucleotide  HomopolymerRate  \\\n",
       "0              71        0          26.0           CCA         5.510638   \n",
       "1              79        0          33.5           ACG         2.141935   \n",
       "2             114        0          48.0           GTG         2.551724   \n",
       "3              63        0          42.0           ACT         2.290541   \n",
       "4              50        0          63.0           GCC         2.528169   \n",
       "\n",
       "   GCcontent GenomicLocation  Distance  StrandBias  \n",
       "0   0.534653             NaN     20576    0.428571  \n",
       "1   0.599010      intergenic     18084    0.612500  \n",
       "2   0.603960             NaN     13645    0.493671  \n",
       "3   0.584158             NaN     13139    0.272727  \n",
       "4   0.613861             NaN     12776    0.526316  \n",
       "\n",
       "[5 rows x 16 columns]"
      ]
     },
     "execution_count": 44,
     "metadata": {},
     "output_type": "execute_result"
    }
   ],
   "source": [
    "GenomicFeatures_IS1[:5]"
   ]
  },
  {
   "cell_type": "code",
   "execution_count": 45,
   "metadata": {
    "collapsed": false
   },
   "outputs": [
    {
     "data": {
      "text/plain": [
       "{'BaseQual': 0.204256847500801,\n",
       " 'Distance': 0.034344896674156203,\n",
       " 'GCcontent': 0.0095686884596943907,\n",
       " 'GenomicLocation.UTR3': 0.010045447386801199,\n",
       " 'GenomicLocation.UTR5': 0.0231131184846163,\n",
       " 'GenomicLocation.downstream': 0.010389370843768101,\n",
       " 'GenomicLocation.exonic': 0.010724452324211599,\n",
       " 'GenomicLocation.exonic;splicing': 0.0379977077245712,\n",
       " 'GenomicLocation.intergenic': 0.00199206522665918,\n",
       " 'GenomicLocation.intronic': 0.00611010799184442,\n",
       " 'GenomicLocation.missing(NA)': 0.091290399432182298,\n",
       " 'GenomicLocation.ncRNA_UTR3': 0.0130932005122304,\n",
       " 'GenomicLocation.ncRNA_UTR5': 0.0297621358186007,\n",
       " 'GenomicLocation.ncRNA_exonic': 0.023482041433453602,\n",
       " 'GenomicLocation.ncRNA_intronic': 0.0225302185863256,\n",
       " 'GenomicLocation.ncRNA_splicing': 0.027009967714548101,\n",
       " 'GenomicLocation.splicing': 0.024021008983254401,\n",
       " 'GenomicLocation.upstream': 0.014306032098829699,\n",
       " 'GenomicLocation.upstream;downstream': 0.021003548055887201,\n",
       " 'HomopolymerRate': 0.030462052673101401,\n",
       " 'MapQual': 0.063158936798572499,\n",
       " 'NonRefAllele': 1.0,\n",
       " 'NormalCoverage': 0.11806208640337,\n",
       " 'ReadPosition': 0.011749927885830401,\n",
       " 'RefAllele': 0.30610355734825107,\n",
       " 'StrandBias': 0.0128641994670033,\n",
       " 'Trinucleotide.ACA': 0.022506469860672996,\n",
       " 'Trinucleotide.ACC': 0.019696669653058101,\n",
       " 'Trinucleotide.ACG': 0.0630772039294243,\n",
       " 'Trinucleotide.ACT': 0.0064519033767282997,\n",
       " 'Trinucleotide.ATA': 0.0095617473125457798,\n",
       " 'Trinucleotide.ATC': 0.0099061997607350297,\n",
       " 'Trinucleotide.ATG': 0.018347578123211899,\n",
       " 'Trinucleotide.ATT': 0.0172729752957821,\n",
       " 'Trinucleotide.CCA': 0.0149341402575374,\n",
       " 'Trinucleotide.CCC': 0.016489952802658098,\n",
       " 'Trinucleotide.CCG': 0.038113869726657902,\n",
       " 'Trinucleotide.CCT': 0.0077996440231800097,\n",
       " 'Trinucleotide.CTA': 0.0069311819970607801,\n",
       " 'Trinucleotide.CTC': 0.0095749562606215494,\n",
       " 'Trinucleotide.CTG': 0.0136018339544535,\n",
       " 'Trinucleotide.CTT': 0.014099151827394999,\n",
       " 'Trinucleotide.GCA': 0.011226731352508099,\n",
       " 'Trinucleotide.GCC': 0.011892755515873399,\n",
       " 'Trinucleotide.GCG': 0.051498685032129302,\n",
       " 'Trinucleotide.GCT': 0.010233405977487601,\n",
       " 'Trinucleotide.GTA': 0.013415727764368101,\n",
       " 'Trinucleotide.GTC': 0.0062186815775930899,\n",
       " 'Trinucleotide.GTG': 0.0305629167705774,\n",
       " 'Trinucleotide.GTT': 0.0093996338546276093,\n",
       " 'Trinucleotide.TCA': 0.022273227572441101,\n",
       " 'Trinucleotide.TCC': 0.0081426631659269298,\n",
       " 'Trinucleotide.TCG': 0.0416621156036854,\n",
       " 'Trinucleotide.TCT': 0.024833498522639299,\n",
       " 'Trinucleotide.TTA': 0.034388478845357902,\n",
       " 'Trinucleotide.TTC': 0.0160844512283802,\n",
       " 'Trinucleotide.TTG': 0.024085748940706302,\n",
       " 'Trinucleotide.TTT': 0.021064301952719699,\n",
       " 'Trinucleotide.missing(NA)': 0.0,\n",
       " 'TumourCoverage': 0.091098532080650302}"
      ]
     },
     "execution_count": 45,
     "metadata": {},
     "output_type": "execute_result"
    }
   ],
   "source": [
    "var_imp_dict = {}\n",
    "\n",
    "for i in range(var_importance.shape[0]):\n",
    "    var_imp_dict[var_importance.iloc[i,0]] = var_importance.iloc[i,1]\n",
    "\n",
    "var_imp_dict"
   ]
  },
  {
   "cell_type": "code",
   "execution_count": 46,
   "metadata": {
    "collapsed": false
   },
   "outputs": [
    {
     "data": {
      "text/plain": [
       "Index([u'CHROM', u'POS', u'END', u'RefAllele', u'NonRefAllele', u'BaseQual', u'TumourCoverage', u'NormalCoverage', u'MapQual', u'ReadPosition', u'Trinucleotide', u'HomopolymerRate', u'GCcontent', u'GenomicLocation', u'Distance', u'StrandBias'], dtype='object')"
      ]
     },
     "execution_count": 46,
     "metadata": {},
     "output_type": "execute_result"
    }
   ],
   "source": [
    "GenomicFeatures_IS1.columns"
   ]
  },
  {
   "cell_type": "code",
   "execution_count": 47,
   "metadata": {
    "collapsed": false
   },
   "outputs": [
    {
     "data": {
      "text/plain": [
       "CHROM               object\n",
       "POS                float64\n",
       "END                  int64\n",
       "RefAllele            int64\n",
       "NonRefAllele         int64\n",
       "BaseQual             int64\n",
       "TumourCoverage       int64\n",
       "NormalCoverage       int64\n",
       "MapQual            float64\n",
       "ReadPosition       float64\n",
       "Trinucleotide       object\n",
       "HomopolymerRate    float64\n",
       "GCcontent          float64\n",
       "GenomicLocation     object\n",
       "Distance             int64\n",
       "StrandBias         float64\n",
       "dtype: object"
      ]
     },
     "execution_count": 47,
     "metadata": {},
     "output_type": "execute_result"
    }
   ],
   "source": [
    "GenomicFeatures_IS1.dtypes"
   ]
  },
  {
   "cell_type": "code",
   "execution_count": 48,
   "metadata": {
    "collapsed": false
   },
   "outputs": [
    {
     "data": {
      "text/plain": [
       "nan"
      ]
     },
     "execution_count": 48,
     "metadata": {},
     "output_type": "execute_result"
    }
   ],
   "source": [
    "GenomicFeatures_IS1.iloc[0,13]"
   ]
  },
  {
   "cell_type": "code",
   "execution_count": 49,
   "metadata": {
    "collapsed": false
   },
   "outputs": [
    {
     "data": {
      "text/html": [
       "<div style=\"max-height:1000px;max-width:1500px;overflow:auto;\">\n",
       "<table border=\"1\" class=\"dataframe\">\n",
       "  <thead>\n",
       "    <tr style=\"text-align: right;\">\n",
       "      <th></th>\n",
       "      <th>CHROM</th>\n",
       "      <th>POS</th>\n",
       "      <th>END</th>\n",
       "      <th>RefAllele</th>\n",
       "      <th>NonRefAllele</th>\n",
       "      <th>BaseQual</th>\n",
       "      <th>TumourCoverage</th>\n",
       "      <th>NormalCoverage</th>\n",
       "      <th>MapQual</th>\n",
       "      <th>ReadPosition</th>\n",
       "      <th>Trinucleotide</th>\n",
       "      <th>HomopolymerRate</th>\n",
       "      <th>GCcontent</th>\n",
       "      <th>GenomicLocation</th>\n",
       "      <th>Distance</th>\n",
       "      <th>StrandBias</th>\n",
       "    </tr>\n",
       "  </thead>\n",
       "  <tbody>\n",
       "    <tr>\n",
       "      <th>0</th>\n",
       "      <td> 1</td>\n",
       "      <td> 10290</td>\n",
       "      <td> 10291</td>\n",
       "      <td> 18</td>\n",
       "      <td> 12</td>\n",
       "      <td>  692</td>\n",
       "      <td> 49</td>\n",
       "      <td> 71</td>\n",
       "      <td> 0</td>\n",
       "      <td> 26.0</td>\n",
       "      <td> CCA</td>\n",
       "      <td> 5.510638</td>\n",
       "      <td> 0.534653</td>\n",
       "      <td>        NaN</td>\n",
       "      <td> 20576</td>\n",
       "      <td> 0.428571</td>\n",
       "    </tr>\n",
       "    <tr>\n",
       "      <th>1</th>\n",
       "      <td> 1</td>\n",
       "      <td> 12782</td>\n",
       "      <td> 12783</td>\n",
       "      <td> 44</td>\n",
       "      <td> 26</td>\n",
       "      <td> 2060</td>\n",
       "      <td> 80</td>\n",
       "      <td> 79</td>\n",
       "      <td> 0</td>\n",
       "      <td> 33.5</td>\n",
       "      <td> ACG</td>\n",
       "      <td> 2.141935</td>\n",
       "      <td> 0.599010</td>\n",
       "      <td> intergenic</td>\n",
       "      <td> 18084</td>\n",
       "      <td> 0.612500</td>\n",
       "    </tr>\n",
       "  </tbody>\n",
       "</table>\n",
       "<p>2 rows × 16 columns</p>\n",
       "</div>"
      ],
      "text/plain": [
       "  CHROM    POS    END  RefAllele  NonRefAllele  BaseQual  TumourCoverage  \\\n",
       "0     1  10290  10291         18            12       692              49   \n",
       "1     1  12782  12783         44            26      2060              80   \n",
       "\n",
       "   NormalCoverage  MapQual  ReadPosition Trinucleotide  HomopolymerRate  \\\n",
       "0              71        0          26.0           CCA         5.510638   \n",
       "1              79        0          33.5           ACG         2.141935   \n",
       "\n",
       "   GCcontent GenomicLocation  Distance  StrandBias  \n",
       "0   0.534653             NaN     20576    0.428571  \n",
       "1   0.599010      intergenic     18084    0.612500  \n",
       "\n",
       "[2 rows x 16 columns]"
      ]
     },
     "execution_count": 49,
     "metadata": {},
     "output_type": "execute_result"
    }
   ],
   "source": [
    "GenomicFeatures_IS1[:2]\n",
    "#print GenomicFeatures_IS1.iloc[0,2]"
   ]
  },
  {
   "cell_type": "code",
   "execution_count": 50,
   "metadata": {
    "collapsed": false
   },
   "outputs": [],
   "source": [
    "noOfSample = GenomicFeatures_IS1.shape[0]\n",
    "\n",
    "IS1_Dict = {}\n",
    "\n",
    "for i in range(noOfSample):\n",
    "    \n",
    "    pos = GenomicFeatures_IS1.iloc[i,1] #gets the pos value\n",
    "    \n",
    "    RefAllele      = GenomicFeatures_IS1.iloc[i,3]*var_imp_dict['RefAllele']\n",
    "    NonRefAllele   = GenomicFeatures_IS1.iloc[i,4]*var_imp_dict['NonRefAllele']\n",
    "    BaseQual       = GenomicFeatures_IS1.iloc[i,5]*var_imp_dict['BaseQual']\n",
    "    TumourCoverage = GenomicFeatures_IS1.iloc[i,6]*var_imp_dict['TumourCoverage']\n",
    "    NormalCoverage = GenomicFeatures_IS1.iloc[i,7]*var_imp_dict['NormalCoverage']\n",
    "    MapQual        = GenomicFeatures_IS1.iloc[i,8]*var_imp_dict['MapQual']\n",
    "    ReadPosition   = GenomicFeatures_IS1.iloc[i,9]*var_imp_dict['ReadPosition']\n",
    "    \n",
    "    Trinucleotide  = 0\n",
    "    if isinstance(GenomicFeatures_IS1.iloc[i,10], str):\n",
    "        Trinucleotide  = var_imp_dict['Trinucleotide.'+str(GenomicFeatures_IS1.iloc[i,10])]\n",
    "    HomopolymerRate= GenomicFeatures_IS1.iloc[i,11]*var_imp_dict['HomopolymerRate']\n",
    "    GCcontent      = GenomicFeatures_IS1.iloc[i,12]*var_imp_dict['GCcontent']\n",
    "    \n",
    "    GenomicLocation = 0\n",
    "    if isinstance(GenomicFeatures_IS1.iloc[i,13], str):\n",
    "        GenomicLocation= var_imp_dict['GenomicLocation.'+str(GenomicFeatures_IS1.iloc[i,13])]\n",
    "    Distance    = GenomicFeatures_IS1.iloc[i,14]*var_imp_dict['Distance']\n",
    "    StrandBias     = GenomicFeatures_IS1.iloc[i,15]*var_imp_dict['StrandBias']\n",
    "    \n",
    "    #print 'RefAllele=',RefAllele,' NonRefAllele=',NonRefAllele,' BaseQual=',BaseQual,' TumourCoverage=',TumourCoverage\n",
    "    #print 'NormalCoverage=',NormalCoverage,' MapQual=',MapQual,' ReadPosition=',ReadPosition,' Trinucleotide=',Trinucleotide\n",
    "    #print 'HomopolymerRate=',HomopolymerRate,' GCcontent=',GCcontent,' GenomicLocation=',GenomicLocation,' Distance=',Distance\n",
    "    #print 'StrandBias=',StrandBias\n",
    "    IS1_Dict[pos] = RefAllele+NonRefAllele+BaseQual+TumourCoverage+NormalCoverage+MapQual+ReadPosition+Trinucleotide+ \\\n",
    "                         HomopolymerRate+GCcontent+GenomicLocation+Distance+StrandBias"
   ]
  },
  {
   "cell_type": "code",
   "execution_count": 55,
   "metadata": {
    "collapsed": true
   },
   "outputs": [],
   "source": [
    "#Sorting dictionary\n",
    "IS1_Dict1 = [(k,v) for v,k in sorted([(v,k) for k,v in IS1_Dict.items()],reverse=True)]"
   ]
  },
  {
   "cell_type": "code",
   "execution_count": 56,
   "metadata": {
    "collapsed": true
   },
   "outputs": [],
   "source": [
    "IS1_Dict_Frame = pd.DataFrame(IS1_Dict1, columns=['POS', 'Value'])"
   ]
  },
  {
   "cell_type": "code",
   "execution_count": 57,
   "metadata": {
    "collapsed": true
   },
   "outputs": [],
   "source": [
    "IS1_Dict_Frame.to_csv(\"IS1_Dict_Frame.csv\")"
   ]
  },
  {
   "cell_type": "code",
   "execution_count": 58,
   "metadata": {
    "collapsed": false
   },
   "outputs": [
    {
     "data": {
      "text/html": [
       "<div style=\"max-height:1000px;max-width:1500px;overflow:auto;\">\n",
       "<table border=\"1\" class=\"dataframe\">\n",
       "  <thead>\n",
       "    <tr style=\"text-align: right;\">\n",
       "      <th></th>\n",
       "      <th>POS</th>\n",
       "      <th>Value</th>\n",
       "    </tr>\n",
       "  </thead>\n",
       "  <tbody>\n",
       "    <tr>\n",
       "      <th>0</th>\n",
       "      <td> 121485149</td>\n",
       "      <td> 173121.760915</td>\n",
       "    </tr>\n",
       "    <tr>\n",
       "      <th>1</th>\n",
       "      <td> 121485158</td>\n",
       "      <td> 169391.078963</td>\n",
       "    </tr>\n",
       "    <tr>\n",
       "      <th>2</th>\n",
       "      <td> 121485137</td>\n",
       "      <td> 168720.305531</td>\n",
       "    </tr>\n",
       "    <tr>\n",
       "      <th>3</th>\n",
       "      <td> 121485185</td>\n",
       "      <td> 164629.580086</td>\n",
       "    </tr>\n",
       "    <tr>\n",
       "      <th>4</th>\n",
       "      <td> 121485360</td>\n",
       "      <td> 144549.036753</td>\n",
       "    </tr>\n",
       "    <tr>\n",
       "      <th>5</th>\n",
       "      <td>  42385225</td>\n",
       "      <td> 125146.527530</td>\n",
       "    </tr>\n",
       "    <tr>\n",
       "      <th>6</th>\n",
       "      <td>  42385232</td>\n",
       "      <td> 124388.951764</td>\n",
       "    </tr>\n",
       "    <tr>\n",
       "      <th>7</th>\n",
       "      <td> 121485077</td>\n",
       "      <td> 121639.249308</td>\n",
       "    </tr>\n",
       "    <tr>\n",
       "      <th>8</th>\n",
       "      <td>  42385213</td>\n",
       "      <td> 121418.224106</td>\n",
       "    </tr>\n",
       "    <tr>\n",
       "      <th>9</th>\n",
       "      <td>  42385203</td>\n",
       "      <td> 118002.132140</td>\n",
       "    </tr>\n",
       "  </tbody>\n",
       "</table>\n",
       "<p>10 rows × 2 columns</p>\n",
       "</div>"
      ],
      "text/plain": [
       "         POS          Value\n",
       "0  121485149  173121.760915\n",
       "1  121485158  169391.078963\n",
       "2  121485137  168720.305531\n",
       "3  121485185  164629.580086\n",
       "4  121485360  144549.036753\n",
       "5   42385225  125146.527530\n",
       "6   42385232  124388.951764\n",
       "7  121485077  121639.249308\n",
       "8   42385213  121418.224106\n",
       "9   42385203  118002.132140\n",
       "\n",
       "[10 rows x 2 columns]"
      ]
     },
     "execution_count": 58,
     "metadata": {},
     "output_type": "execute_result"
    }
   ],
   "source": [
    "IS1_Dict_Frame[:10]"
   ]
  },
  {
   "cell_type": "code",
   "execution_count": 65,
   "metadata": {
    "collapsed": true
   },
   "outputs": [],
   "source": [
    "GenomicFeatures_IS1_1 = pd.concat([IS1.iloc[:,0:16], IS1_Y_Val_1],axis=1)"
   ]
  },
  {
   "cell_type": "code",
   "execution_count": 66,
   "metadata": {
    "collapsed": false
   },
   "outputs": [
    {
     "name": "stdout",
     "output_type": "stream",
     "text": [
      "[  1.21485149e+08   1.21485158e+08   1.21485137e+08   1.21485185e+08\n",
      "   1.21485360e+08   4.23852250e+07   4.23852320e+07   1.21485077e+08\n",
      "   4.23852130e+07   4.23852030e+07   2.44908430e+07   2.44882870e+07\n",
      "   2.52933280e+07   2.52933540e+07   1.21485373e+08   4.23852770e+07\n",
      "   4.25996320e+07   1.21484917e+08   1.21484919e+08   1.21485045e+08]\n"
     ]
    }
   ],
   "source": [
    "rows = IS1_Dict_Frame['POS'][:20].values\n",
    "print rows\n",
    "GenomicFeatures_IS1_Top20 = GenomicFeatures_IS1_1.loc[GenomicFeatures_IS1_1['POS'].isin(rows)]"
   ]
  },
  {
   "cell_type": "code",
   "execution_count": 69,
   "metadata": {
    "collapsed": false
   },
   "outputs": [
    {
     "data": {
      "text/html": [
       "<div style=\"max-height:1000px;max-width:1500px;overflow:auto;\">\n",
       "<table border=\"1\" class=\"dataframe\">\n",
       "  <thead>\n",
       "    <tr style=\"text-align: right;\">\n",
       "      <th></th>\n",
       "      <th>CHROM</th>\n",
       "      <th>POS</th>\n",
       "      <th>END_x</th>\n",
       "      <th>RefAllele</th>\n",
       "      <th>NonRefAllele</th>\n",
       "      <th>BaseQual</th>\n",
       "      <th>TumourCoverage</th>\n",
       "      <th>NormalCoverage</th>\n",
       "      <th>MapQual</th>\n",
       "      <th>ReadPosition</th>\n",
       "      <th>Trinucleotide</th>\n",
       "      <th>HomopolymerRate</th>\n",
       "      <th>GCcontent</th>\n",
       "      <th>GenomicLocation</th>\n",
       "      <th>Distance</th>\n",
       "      <th>StrandBias</th>\n",
       "      <th>Label</th>\n",
       "    </tr>\n",
       "  </thead>\n",
       "  <tbody>\n",
       "    <tr>\n",
       "      <th>8686</th>\n",
       "      <td> 1</td>\n",
       "      <td> 121484917</td>\n",
       "      <td> 121484918</td>\n",
       "      <td> 7773</td>\n",
       "      <td>  71</td>\n",
       "      <td> 269063</td>\n",
       "      <td> 206217</td>\n",
       "      <td> 206365</td>\n",
       "      <td> 29</td>\n",
       "      <td> 43</td>\n",
       "      <td> TCT</td>\n",
       "      <td>  2.493056</td>\n",
       "      <td> 0.376238</td>\n",
       "      <td> NaN</td>\n",
       "      <td> 8682</td>\n",
       "      <td> 0.646285</td>\n",
       "      <td> 0</td>\n",
       "    </tr>\n",
       "    <tr>\n",
       "      <th>8687</th>\n",
       "      <td> 1</td>\n",
       "      <td> 121484919</td>\n",
       "      <td> 121484920</td>\n",
       "      <td> 7752</td>\n",
       "      <td>  76</td>\n",
       "      <td> 269485</td>\n",
       "      <td> 203857</td>\n",
       "      <td> 203950</td>\n",
       "      <td> 29</td>\n",
       "      <td> 44</td>\n",
       "      <td> ATT</td>\n",
       "      <td>  2.493056</td>\n",
       "      <td> 0.371287</td>\n",
       "      <td> NaN</td>\n",
       "      <td> 8684</td>\n",
       "      <td> 0.646630</td>\n",
       "      <td> 0</td>\n",
       "    </tr>\n",
       "    <tr>\n",
       "      <th>8691</th>\n",
       "      <td> 1</td>\n",
       "      <td> 121485045</td>\n",
       "      <td> 121485046</td>\n",
       "      <td> 7933</td>\n",
       "      <td>  63</td>\n",
       "      <td> 261516</td>\n",
       "      <td> 211092</td>\n",
       "      <td> 210724</td>\n",
       "      <td> 29</td>\n",
       "      <td> 40</td>\n",
       "      <td> GCC</td>\n",
       "      <td>  2.065789</td>\n",
       "      <td> 0.400990</td>\n",
       "      <td> NaN</td>\n",
       "      <td> 8810</td>\n",
       "      <td> 0.722979</td>\n",
       "      <td> 0</td>\n",
       "    </tr>\n",
       "    <tr>\n",
       "      <th>8692</th>\n",
       "      <td> 1</td>\n",
       "      <td> 121485077</td>\n",
       "      <td> 121485078</td>\n",
       "      <td> 7818</td>\n",
       "      <td> 145</td>\n",
       "      <td> 267436</td>\n",
       "      <td> 306953</td>\n",
       "      <td> 306674</td>\n",
       "      <td> 29</td>\n",
       "      <td> 31</td>\n",
       "      <td> GCA</td>\n",
       "      <td>  1.967320</td>\n",
       "      <td> 0.405941</td>\n",
       "      <td> NaN</td>\n",
       "      <td> 8842</td>\n",
       "      <td> 0.695898</td>\n",
       "      <td> 0</td>\n",
       "    </tr>\n",
       "    <tr>\n",
       "      <th>8693</th>\n",
       "      <td> 1</td>\n",
       "      <td> 121485137</td>\n",
       "      <td> 121485138</td>\n",
       "      <td> 7930</td>\n",
       "      <td>  65</td>\n",
       "      <td> 277189</td>\n",
       "      <td> 522907</td>\n",
       "      <td> 522318</td>\n",
       "      <td> 29</td>\n",
       "      <td> 40</td>\n",
       "      <td> TTC</td>\n",
       "      <td>  2.406897</td>\n",
       "      <td> 0.405941</td>\n",
       "      <td> NaN</td>\n",
       "      <td> 8902</td>\n",
       "      <td> 0.535900</td>\n",
       "      <td> 0</td>\n",
       "    </tr>\n",
       "    <tr>\n",
       "      <th>8694</th>\n",
       "      <td> 1</td>\n",
       "      <td> 121485149</td>\n",
       "      <td> 121485150</td>\n",
       "      <td> 7874</td>\n",
       "      <td> 102</td>\n",
       "      <td> 266679</td>\n",
       "      <td> 554323</td>\n",
       "      <td> 553369</td>\n",
       "      <td> 29</td>\n",
       "      <td> 42</td>\n",
       "      <td> ACA</td>\n",
       "      <td>  2.335616</td>\n",
       "      <td> 0.396040</td>\n",
       "      <td> NaN</td>\n",
       "      <td> 8914</td>\n",
       "      <td> 0.499195</td>\n",
       "      <td> 0</td>\n",
       "    </tr>\n",
       "    <tr>\n",
       "      <th>8695</th>\n",
       "      <td> 1</td>\n",
       "      <td> 121485158</td>\n",
       "      <td> 121485159</td>\n",
       "      <td> 7883</td>\n",
       "      <td>  78</td>\n",
       "      <td> 276317</td>\n",
       "      <td> 526509</td>\n",
       "      <td> 526734</td>\n",
       "      <td> 29</td>\n",
       "      <td> 44</td>\n",
       "      <td> TCT</td>\n",
       "      <td>  2.308725</td>\n",
       "      <td> 0.391089</td>\n",
       "      <td> NaN</td>\n",
       "      <td> 8923</td>\n",
       "      <td> 0.483494</td>\n",
       "      <td> 0</td>\n",
       "    </tr>\n",
       "    <tr>\n",
       "      <th>8696</th>\n",
       "      <td> 1</td>\n",
       "      <td> 121485185</td>\n",
       "      <td> 121485186</td>\n",
       "      <td> 7780</td>\n",
       "      <td>  86</td>\n",
       "      <td> 270374</td>\n",
       "      <td> 509762</td>\n",
       "      <td> 509798</td>\n",
       "      <td> 29</td>\n",
       "      <td> 55</td>\n",
       "      <td> TTG</td>\n",
       "      <td>  2.288591</td>\n",
       "      <td> 0.381188</td>\n",
       "      <td> NaN</td>\n",
       "      <td> 8950</td>\n",
       "      <td> 0.463304</td>\n",
       "      <td> 0</td>\n",
       "    </tr>\n",
       "    <tr>\n",
       "      <th>8697</th>\n",
       "      <td> 1</td>\n",
       "      <td> 121485360</td>\n",
       "      <td> 121485361</td>\n",
       "      <td> 7965</td>\n",
       "      <td> 106</td>\n",
       "      <td> 282221</td>\n",
       "      <td> 402770</td>\n",
       "      <td> 401072</td>\n",
       "      <td> 29</td>\n",
       "      <td> 60</td>\n",
       "      <td> CTT</td>\n",
       "      <td>  7.937984</td>\n",
       "      <td> 0.351485</td>\n",
       "      <td> NaN</td>\n",
       "      <td> 9125</td>\n",
       "      <td> 0.327969</td>\n",
       "      <td> 0</td>\n",
       "    </tr>\n",
       "    <tr>\n",
       "      <th>8698</th>\n",
       "      <td> 1</td>\n",
       "      <td> 121485373</td>\n",
       "      <td> 121485374</td>\n",
       "      <td> 5397</td>\n",
       "      <td>  41</td>\n",
       "      <td> 176499</td>\n",
       "      <td> 340599</td>\n",
       "      <td> 339309</td>\n",
       "      <td> 29</td>\n",
       "      <td> 65</td>\n",
       "      <td> GTC</td>\n",
       "      <td> 15.747899</td>\n",
       "      <td> 0.331683</td>\n",
       "      <td> NaN</td>\n",
       "      <td> 9138</td>\n",
       "      <td> 0.295832</td>\n",
       "      <td> 0</td>\n",
       "    </tr>\n",
       "  </tbody>\n",
       "</table>\n",
       "<p>10 rows × 17 columns</p>\n",
       "</div>"
      ],
      "text/plain": [
       "     CHROM        POS      END_x  RefAllele  NonRefAllele  BaseQual  \\\n",
       "8686     1  121484917  121484918       7773            71    269063   \n",
       "8687     1  121484919  121484920       7752            76    269485   \n",
       "8691     1  121485045  121485046       7933            63    261516   \n",
       "8692     1  121485077  121485078       7818           145    267436   \n",
       "8693     1  121485137  121485138       7930            65    277189   \n",
       "8694     1  121485149  121485150       7874           102    266679   \n",
       "8695     1  121485158  121485159       7883            78    276317   \n",
       "8696     1  121485185  121485186       7780            86    270374   \n",
       "8697     1  121485360  121485361       7965           106    282221   \n",
       "8698     1  121485373  121485374       5397            41    176499   \n",
       "\n",
       "      TumourCoverage  NormalCoverage  MapQual  ReadPosition Trinucleotide  \\\n",
       "8686          206217          206365       29            43           TCT   \n",
       "8687          203857          203950       29            44           ATT   \n",
       "8691          211092          210724       29            40           GCC   \n",
       "8692          306953          306674       29            31           GCA   \n",
       "8693          522907          522318       29            40           TTC   \n",
       "8694          554323          553369       29            42           ACA   \n",
       "8695          526509          526734       29            44           TCT   \n",
       "8696          509762          509798       29            55           TTG   \n",
       "8697          402770          401072       29            60           CTT   \n",
       "8698          340599          339309       29            65           GTC   \n",
       "\n",
       "      HomopolymerRate  GCcontent GenomicLocation  Distance  StrandBias  Label  \n",
       "8686         2.493056   0.376238             NaN      8682    0.646285      0  \n",
       "8687         2.493056   0.371287             NaN      8684    0.646630      0  \n",
       "8691         2.065789   0.400990             NaN      8810    0.722979      0  \n",
       "8692         1.967320   0.405941             NaN      8842    0.695898      0  \n",
       "8693         2.406897   0.405941             NaN      8902    0.535900      0  \n",
       "8694         2.335616   0.396040             NaN      8914    0.499195      0  \n",
       "8695         2.308725   0.391089             NaN      8923    0.483494      0  \n",
       "8696         2.288591   0.381188             NaN      8950    0.463304      0  \n",
       "8697         7.937984   0.351485             NaN      9125    0.327969      0  \n",
       "8698        15.747899   0.331683             NaN      9138    0.295832      0  \n",
       "\n",
       "[10 rows x 17 columns]"
      ]
     },
     "execution_count": 69,
     "metadata": {},
     "output_type": "execute_result"
    }
   ],
   "source": [
    "GenomicFeatures_IS1_Top20[:10]"
   ]
  },
  {
   "cell_type": "code",
   "execution_count": 61,
   "metadata": {
    "collapsed": false
   },
   "outputs": [],
   "source": [
    "GenomicFeatures_IS1_Top20.to_csv('GenomicFeatures_IS1_Top20.csv')"
   ]
  },
  {
   "cell_type": "code",
   "execution_count": 64,
   "metadata": {
    "collapsed": false
   },
   "outputs": [
    {
     "data": {
      "text/html": [
       "<div style=\"max-height:1000px;max-width:1500px;overflow:auto;\">\n",
       "<table border=\"1\" class=\"dataframe\">\n",
       "  <thead>\n",
       "    <tr style=\"text-align: right;\">\n",
       "      <th></th>\n",
       "      <th>CHROM</th>\n",
       "      <th>POS</th>\n",
       "      <th>END_x</th>\n",
       "      <th>RefAllele</th>\n",
       "      <th>NonRefAllele</th>\n",
       "      <th>BaseQual</th>\n",
       "      <th>TumourCoverage</th>\n",
       "      <th>NormalCoverage</th>\n",
       "      <th>MapQual</th>\n",
       "      <th>ReadPosition</th>\n",
       "      <th>Trinucleotide</th>\n",
       "      <th>HomopolymerRate</th>\n",
       "      <th>GCcontent</th>\n",
       "      <th>GenomicLocation</th>\n",
       "      <th>Distance</th>\n",
       "      <th>StrandBias</th>\n",
       "      <th>Label</th>\n",
       "    </tr>\n",
       "  </thead>\n",
       "  <tbody>\n",
       "    <tr>\n",
       "      <th>0</th>\n",
       "      <td> 1</td>\n",
       "      <td> 10290</td>\n",
       "      <td> 10291</td>\n",
       "      <td> 18</td>\n",
       "      <td> 12</td>\n",
       "      <td>  692</td>\n",
       "      <td> 49</td>\n",
       "      <td>  71</td>\n",
       "      <td> 0</td>\n",
       "      <td> 26.0</td>\n",
       "      <td> CCA</td>\n",
       "      <td> 5.510638</td>\n",
       "      <td> 0.534653</td>\n",
       "      <td>        NaN</td>\n",
       "      <td> 20576</td>\n",
       "      <td> 0.428571</td>\n",
       "      <td> 0</td>\n",
       "    </tr>\n",
       "    <tr>\n",
       "      <th>1</th>\n",
       "      <td> 1</td>\n",
       "      <td> 12782</td>\n",
       "      <td> 12783</td>\n",
       "      <td> 44</td>\n",
       "      <td> 26</td>\n",
       "      <td> 2060</td>\n",
       "      <td> 80</td>\n",
       "      <td>  79</td>\n",
       "      <td> 0</td>\n",
       "      <td> 33.5</td>\n",
       "      <td> ACG</td>\n",
       "      <td> 2.141935</td>\n",
       "      <td> 0.599010</td>\n",
       "      <td> intergenic</td>\n",
       "      <td> 18084</td>\n",
       "      <td> 0.612500</td>\n",
       "      <td> 0</td>\n",
       "    </tr>\n",
       "    <tr>\n",
       "      <th>2</th>\n",
       "      <td> 1</td>\n",
       "      <td> 17221</td>\n",
       "      <td> 17222</td>\n",
       "      <td> 54</td>\n",
       "      <td> 18</td>\n",
       "      <td> 2079</td>\n",
       "      <td> 79</td>\n",
       "      <td> 114</td>\n",
       "      <td> 0</td>\n",
       "      <td> 48.0</td>\n",
       "      <td> GTG</td>\n",
       "      <td> 2.551724</td>\n",
       "      <td> 0.603960</td>\n",
       "      <td>        NaN</td>\n",
       "      <td> 13645</td>\n",
       "      <td> 0.493671</td>\n",
       "      <td> 0</td>\n",
       "    </tr>\n",
       "    <tr>\n",
       "      <th>3</th>\n",
       "      <td> 1</td>\n",
       "      <td> 17727</td>\n",
       "      <td> 17728</td>\n",
       "      <td> 45</td>\n",
       "      <td>  5</td>\n",
       "      <td> 1568</td>\n",
       "      <td> 55</td>\n",
       "      <td>  63</td>\n",
       "      <td> 0</td>\n",
       "      <td> 42.0</td>\n",
       "      <td> ACT</td>\n",
       "      <td> 2.290541</td>\n",
       "      <td> 0.584158</td>\n",
       "      <td>        NaN</td>\n",
       "      <td> 13139</td>\n",
       "      <td> 0.272727</td>\n",
       "      <td> 0</td>\n",
       "    </tr>\n",
       "    <tr>\n",
       "      <th>4</th>\n",
       "      <td> 1</td>\n",
       "      <td> 18090</td>\n",
       "      <td> 18091</td>\n",
       "      <td> 48</td>\n",
       "      <td>  3</td>\n",
       "      <td> 1522</td>\n",
       "      <td> 57</td>\n",
       "      <td>  50</td>\n",
       "      <td> 0</td>\n",
       "      <td> 63.0</td>\n",
       "      <td> GCC</td>\n",
       "      <td> 2.528169</td>\n",
       "      <td> 0.613861</td>\n",
       "      <td>        NaN</td>\n",
       "      <td> 12776</td>\n",
       "      <td> 0.526316</td>\n",
       "      <td> 0</td>\n",
       "    </tr>\n",
       "  </tbody>\n",
       "</table>\n",
       "<p>5 rows × 17 columns</p>\n",
       "</div>"
      ],
      "text/plain": [
       "  CHROM    POS  END_x  RefAllele  NonRefAllele  BaseQual  TumourCoverage  \\\n",
       "0     1  10290  10291         18            12       692              49   \n",
       "1     1  12782  12783         44            26      2060              80   \n",
       "2     1  17221  17222         54            18      2079              79   \n",
       "3     1  17727  17728         45             5      1568              55   \n",
       "4     1  18090  18091         48             3      1522              57   \n",
       "\n",
       "   NormalCoverage  MapQual  ReadPosition Trinucleotide  HomopolymerRate  \\\n",
       "0              71        0          26.0           CCA         5.510638   \n",
       "1              79        0          33.5           ACG         2.141935   \n",
       "2             114        0          48.0           GTG         2.551724   \n",
       "3              63        0          42.0           ACT         2.290541   \n",
       "4              50        0          63.0           GCC         2.528169   \n",
       "\n",
       "   GCcontent GenomicLocation  Distance  StrandBias  Label  \n",
       "0   0.534653             NaN     20576    0.428571      0  \n",
       "1   0.599010      intergenic     18084    0.612500      0  \n",
       "2   0.603960             NaN     13645    0.493671      0  \n",
       "3   0.584158             NaN     13139    0.272727      0  \n",
       "4   0.613861             NaN     12776    0.526316      0  \n",
       "\n",
       "[5 rows x 17 columns]"
      ]
     },
     "execution_count": 64,
     "metadata": {},
     "output_type": "execute_result"
    }
   ],
   "source": [
    "pd.concat([IS1.iloc[:,0:16], IS1_Y_Val_1],axis=1).head()"
   ]
  },
  {
   "cell_type": "code",
   "execution_count": null,
   "metadata": {
    "collapsed": true
   },
   "outputs": [],
   "source": []
  }
 ],
 "metadata": {
  "kernelspec": {
   "display_name": "Python 2",
   "language": "python",
   "name": "python2"
  },
  "language_info": {
   "codemirror_mode": {
    "name": "ipython",
    "version": 2
   },
   "file_extension": ".py",
   "mimetype": "text/x-python",
   "name": "python",
   "nbconvert_exporter": "python",
   "pygments_lexer": "ipython2",
   "version": "2.7.6"
  }
 },
 "nbformat": 4,
 "nbformat_minor": 0
}
