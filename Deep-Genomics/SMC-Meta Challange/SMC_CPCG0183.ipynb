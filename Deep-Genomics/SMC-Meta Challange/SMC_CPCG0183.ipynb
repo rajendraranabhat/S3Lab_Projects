{
 "cells": [
  {
   "cell_type": "code",
   "execution_count": 5,
   "metadata": {
    "collapsed": false
   },
   "outputs": [],
   "source": [
    "import numpy as np\n",
    "import pandas as pd\n",
    "from collections import Counter\n",
    "import math\n",
    "\n",
    "from sklearn.neighbors import KNeighborsClassifier\n",
    "from sklearn.linear_model import LogisticRegression\n",
    "from sklearn.ensemble import RandomForestClassifier\n",
    "from sklearn.cross_validation import cross_val_score\n",
    "from sklearn import metrics\n",
    "from sklearn.cross_validation import train_test_split\n",
    "from sklearn.metrics import confusion_matrix, roc_curve, auc\n",
    "from sklearn.grid_search import GridSearchCV\n",
    "from sklearn import svm\n",
    "from sklearn.decomposition import RandomizedPCA\n",
    "from sklearn.metrics import classification_report\n",
    "from sklearn import preprocessing\n",
    "import matplotlib.pyplot as plt\n",
    "import scipy.optimize as opt\n",
    "import glob\n",
    "import os\n",
    "import sys\n",
    "import pickle\n",
    "import time\n",
    "import timeit\n",
    "\n",
    "from sklearn.decomposition import RandomizedPCA\n",
    "\n",
    "import theano\n",
    "import theano.tensor as T\n",
    "import lasagne\n",
    "\n",
    "#np.random.seed(1337)  # for reproducibility\n",
    "from keras.datasets import mnist\n",
    "from keras.models import Sequential\n",
    "from keras.layers.core import Dense, Dropout, Activation, Flatten, Layer, Reshape, AutoEncoder, Merge\n",
    "from keras.layers.convolutional import Convolution2D,MaxPooling2D,Convolution1D,MaxPooling1D,UpSampling2D, ZeroPadding2D\n",
    "from keras.optimizers import SGD, Adam, RMSprop, Adadelta\n",
    "from keras.layers.normalization import BatchNormalization\n",
    "from keras.utils import np_utils\n",
    "import keras.utils.visualize_util as vutil\n",
    "from keras.layers.recurrent import LSTM, GRU, SimpleRNN\n",
    "from keras.regularizers import l1, l2, l1l2, activity_l2, activity_l1\n",
    "import keras.layers.containers as containers\n",
    "from keras.layers.noise import GaussianNoise\n",
    "from keras.regularizers import ActivityRegularizer\n",
    "from keras import backend as K\n",
    "import keras.utils.visualize_util as vutil\n",
    "from keras.models import model_from_json\n",
    "\n",
    "import seaborn as sns\n",
    "\n",
    "%matplotlib inline\n",
    "\n",
    "from IPython.display import SVG\n",
    "\n",
    "import h5py\n",
    "\n",
    "np.set_printoptions(suppress=True)  #Supress exponent of the number 2e-2 == 0.02\n",
    "\n",
    "%matplotlib inline"
   ]
  },
  {
   "cell_type": "code",
   "execution_count": 6,
   "metadata": {
    "collapsed": true
   },
   "outputs": [],
   "source": [
    "#CPCG0183"
   ]
  },
  {
   "cell_type": "code",
   "execution_count": 7,
   "metadata": {
    "collapsed": true
   },
   "outputs": [],
   "source": [
    "#Read the data\n",
    "\n",
    "GenomicFeatures_CPCG0183 = pd.read_csv(open('data/CPCG0183/GenomicFeatures_CPCG0183.txt','r'),sep='\\t')\n",
    "SNVCalls_CPCG0183    = pd.read_csv(open('data/CPCG0183/SNVCalls_CPCG0183.txt','r'),sep='\\t') "
   ]
  },
  {
   "cell_type": "code",
   "execution_count": 8,
   "metadata": {
    "collapsed": false
   },
   "outputs": [
    {
     "name": "stdout",
     "output_type": "stream",
     "text": [
      "(143223, 15)\n",
      "(143223, 99)\n"
     ]
    }
   ],
   "source": [
    "print GenomicFeatures_CPCG0183.shape\n",
    "print SNVCalls_CPCG0183.shape"
   ]
  },
  {
   "cell_type": "code",
   "execution_count": 9,
   "metadata": {
    "collapsed": false
   },
   "outputs": [
    {
     "data": {
      "text/html": [
       "<div style=\"max-height:1000px;max-width:1500px;overflow:auto;\">\n",
       "<table border=\"1\" class=\"dataframe\">\n",
       "  <thead>\n",
       "    <tr style=\"text-align: right;\">\n",
       "      <th></th>\n",
       "      <th>CHROM</th>\n",
       "      <th>POS</th>\n",
       "      <th>RefAllele</th>\n",
       "      <th>NonRefAllele</th>\n",
       "      <th>BaseQual</th>\n",
       "      <th>TumourCoverage</th>\n",
       "      <th>NormalCoverage</th>\n",
       "      <th>MapQual</th>\n",
       "      <th>ReadPosition</th>\n",
       "      <th>Trinucleotide</th>\n",
       "      <th>HomopolymerRate</th>\n",
       "      <th>GCcontent</th>\n",
       "      <th>GenomicLocation</th>\n",
       "      <th>DistanceSNP</th>\n",
       "      <th>StrandBias</th>\n",
       "    </tr>\n",
       "  </thead>\n",
       "  <tbody>\n",
       "    <tr>\n",
       "      <th>0</th>\n",
       "      <td> chr1</td>\n",
       "      <td> 16257</td>\n",
       "      <td> 180</td>\n",
       "      <td> 14</td>\n",
       "      <td> 5390</td>\n",
       "      <td> 210</td>\n",
       "      <td> 98</td>\n",
       "      <td> 23</td>\n",
       "      <td> 58.5</td>\n",
       "      <td> CCC</td>\n",
       "      <td> 2.333333</td>\n",
       "      <td> 0.517413</td>\n",
       "      <td> ncRNA_intronic</td>\n",
       "      <td> 35222</td>\n",
       "      <td> 0.638095</td>\n",
       "    </tr>\n",
       "    <tr>\n",
       "      <th>1</th>\n",
       "      <td> chr1</td>\n",
       "      <td> 16957</td>\n",
       "      <td> 104</td>\n",
       "      <td> 15</td>\n",
       "      <td> 3487</td>\n",
       "      <td> 159</td>\n",
       "      <td> 63</td>\n",
       "      <td>  0</td>\n",
       "      <td> 45.0</td>\n",
       "      <td> TCA</td>\n",
       "      <td> 2.443662</td>\n",
       "      <td> 0.601990</td>\n",
       "      <td>            NaN</td>\n",
       "      <td> 34522</td>\n",
       "      <td> 0.459119</td>\n",
       "    </tr>\n",
       "    <tr>\n",
       "      <th>2</th>\n",
       "      <td> chr1</td>\n",
       "      <td> 17538</td>\n",
       "      <td> 119</td>\n",
       "      <td> 16</td>\n",
       "      <td> 3462</td>\n",
       "      <td> 140</td>\n",
       "      <td> 79</td>\n",
       "      <td> 37</td>\n",
       "      <td> 55.0</td>\n",
       "      <td> GCC</td>\n",
       "      <td> 2.719424</td>\n",
       "      <td> 0.676617</td>\n",
       "      <td> ncRNA_intronic</td>\n",
       "      <td> 33941</td>\n",
       "      <td> 0.442857</td>\n",
       "    </tr>\n",
       "    <tr>\n",
       "      <th>3</th>\n",
       "      <td> chr1</td>\n",
       "      <td> 20144</td>\n",
       "      <td> 161</td>\n",
       "      <td> 32</td>\n",
       "      <td> 5296</td>\n",
       "      <td> 202</td>\n",
       "      <td> 88</td>\n",
       "      <td> 23</td>\n",
       "      <td> 45.0</td>\n",
       "      <td> GCC</td>\n",
       "      <td> 2.394558</td>\n",
       "      <td> 0.487562</td>\n",
       "      <td> ncRNA_intronic</td>\n",
       "      <td> 31335</td>\n",
       "      <td> 0.599010</td>\n",
       "    </tr>\n",
       "    <tr>\n",
       "      <th>4</th>\n",
       "      <td> chr1</td>\n",
       "      <td> 20467</td>\n",
       "      <td>  89</td>\n",
       "      <td> 44</td>\n",
       "      <td> 3975</td>\n",
       "      <td> 150</td>\n",
       "      <td> 85</td>\n",
       "      <td>  0</td>\n",
       "      <td> 50.5</td>\n",
       "      <td> GCT</td>\n",
       "      <td> 2.717391</td>\n",
       "      <td> 0.477612</td>\n",
       "      <td>            NaN</td>\n",
       "      <td> 31012</td>\n",
       "      <td> 0.466667</td>\n",
       "    </tr>\n",
       "  </tbody>\n",
       "</table>\n",
       "<p>5 rows × 15 columns</p>\n",
       "</div>"
      ],
      "text/plain": [
       "  CHROM    POS  RefAllele  NonRefAllele  BaseQual  TumourCoverage  \\\n",
       "0  chr1  16257        180            14      5390             210   \n",
       "1  chr1  16957        104            15      3487             159   \n",
       "2  chr1  17538        119            16      3462             140   \n",
       "3  chr1  20144        161            32      5296             202   \n",
       "4  chr1  20467         89            44      3975             150   \n",
       "\n",
       "   NormalCoverage  MapQual  ReadPosition Trinucleotide  HomopolymerRate  \\\n",
       "0              98       23          58.5           CCC         2.333333   \n",
       "1              63        0          45.0           TCA         2.443662   \n",
       "2              79       37          55.0           GCC         2.719424   \n",
       "3              88       23          45.0           GCC         2.394558   \n",
       "4              85        0          50.5           GCT         2.717391   \n",
       "\n",
       "   GCcontent GenomicLocation  DistanceSNP  StrandBias  \n",
       "0   0.517413  ncRNA_intronic        35222    0.638095  \n",
       "1   0.601990             NaN        34522    0.459119  \n",
       "2   0.676617  ncRNA_intronic        33941    0.442857  \n",
       "3   0.487562  ncRNA_intronic        31335    0.599010  \n",
       "4   0.477612             NaN        31012    0.466667  \n",
       "\n",
       "[5 rows x 15 columns]"
      ]
     },
     "execution_count": 9,
     "metadata": {},
     "output_type": "execute_result"
    }
   ],
   "source": [
    "GenomicFeatures_CPCG0183.head()"
   ]
  },
  {
   "cell_type": "code",
   "execution_count": 10,
   "metadata": {
    "collapsed": false
   },
   "outputs": [
    {
     "data": {
      "text/html": [
       "<div style=\"max-height:1000px;max-width:1500px;overflow:auto;\">\n",
       "<table border=\"1\" class=\"dataframe\">\n",
       "  <thead>\n",
       "    <tr style=\"text-align: right;\">\n",
       "      <th></th>\n",
       "      <th>CHROM</th>\n",
       "      <th>POS</th>\n",
       "      <th>END</th>\n",
       "      <th>X2399003</th>\n",
       "      <th>X2642551</th>\n",
       "      <th>X2642553</th>\n",
       "      <th>X2673210</th>\n",
       "      <th>X2673224</th>\n",
       "      <th>X2679044</th>\n",
       "      <th>X2679047</th>\n",
       "      <th>X2706565</th>\n",
       "      <th>X2791038</th>\n",
       "      <th>X2811015</th>\n",
       "      <th>X2811019</th>\n",
       "      <th>X2811021</th>\n",
       "      <th>X2811024</th>\n",
       "      <th>X2811385</th>\n",
       "      <th>X2812902</th>\n",
       "      <th>X2813241</th>\n",
       "      <th>X2813273</th>\n",
       "      <th></th>\n",
       "    </tr>\n",
       "  </thead>\n",
       "  <tbody>\n",
       "    <tr>\n",
       "      <th>0</th>\n",
       "      <td> chr1</td>\n",
       "      <td> 16256</td>\n",
       "      <td> 16257</td>\n",
       "      <td> 1</td>\n",
       "      <td> 0</td>\n",
       "      <td> 0</td>\n",
       "      <td> 0</td>\n",
       "      <td> 0</td>\n",
       "      <td> 0</td>\n",
       "      <td> 0</td>\n",
       "      <td> 0</td>\n",
       "      <td> 0</td>\n",
       "      <td> 0</td>\n",
       "      <td> 0</td>\n",
       "      <td> 0</td>\n",
       "      <td> 0</td>\n",
       "      <td> 0</td>\n",
       "      <td> 0</td>\n",
       "      <td> 0</td>\n",
       "      <td> 0</td>\n",
       "      <td>...</td>\n",
       "    </tr>\n",
       "    <tr>\n",
       "      <th>1</th>\n",
       "      <td> chr1</td>\n",
       "      <td> 16956</td>\n",
       "      <td> 16957</td>\n",
       "      <td> 0</td>\n",
       "      <td> 0</td>\n",
       "      <td> 0</td>\n",
       "      <td> 0</td>\n",
       "      <td> 0</td>\n",
       "      <td> 0</td>\n",
       "      <td> 0</td>\n",
       "      <td> 0</td>\n",
       "      <td> 0</td>\n",
       "      <td> 0</td>\n",
       "      <td> 0</td>\n",
       "      <td> 0</td>\n",
       "      <td> 0</td>\n",
       "      <td> 0</td>\n",
       "      <td> 0</td>\n",
       "      <td> 0</td>\n",
       "      <td> 0</td>\n",
       "      <td>...</td>\n",
       "    </tr>\n",
       "    <tr>\n",
       "      <th>2</th>\n",
       "      <td> chr1</td>\n",
       "      <td> 17537</td>\n",
       "      <td> 17538</td>\n",
       "      <td> 0</td>\n",
       "      <td> 0</td>\n",
       "      <td> 0</td>\n",
       "      <td> 0</td>\n",
       "      <td> 0</td>\n",
       "      <td> 0</td>\n",
       "      <td> 0</td>\n",
       "      <td> 0</td>\n",
       "      <td> 0</td>\n",
       "      <td> 0</td>\n",
       "      <td> 0</td>\n",
       "      <td> 0</td>\n",
       "      <td> 0</td>\n",
       "      <td> 0</td>\n",
       "      <td> 0</td>\n",
       "      <td> 0</td>\n",
       "      <td> 1</td>\n",
       "      <td>...</td>\n",
       "    </tr>\n",
       "    <tr>\n",
       "      <th>3</th>\n",
       "      <td> chr1</td>\n",
       "      <td> 20143</td>\n",
       "      <td> 20144</td>\n",
       "      <td> 0</td>\n",
       "      <td> 0</td>\n",
       "      <td> 0</td>\n",
       "      <td> 0</td>\n",
       "      <td> 0</td>\n",
       "      <td> 0</td>\n",
       "      <td> 0</td>\n",
       "      <td> 0</td>\n",
       "      <td> 0</td>\n",
       "      <td> 0</td>\n",
       "      <td> 0</td>\n",
       "      <td> 0</td>\n",
       "      <td> 0</td>\n",
       "      <td> 0</td>\n",
       "      <td> 0</td>\n",
       "      <td> 0</td>\n",
       "      <td> 1</td>\n",
       "      <td>...</td>\n",
       "    </tr>\n",
       "    <tr>\n",
       "      <th>4</th>\n",
       "      <td> chr1</td>\n",
       "      <td> 20466</td>\n",
       "      <td> 20467</td>\n",
       "      <td> 0</td>\n",
       "      <td> 0</td>\n",
       "      <td> 0</td>\n",
       "      <td> 0</td>\n",
       "      <td> 0</td>\n",
       "      <td> 0</td>\n",
       "      <td> 0</td>\n",
       "      <td> 0</td>\n",
       "      <td> 0</td>\n",
       "      <td> 0</td>\n",
       "      <td> 0</td>\n",
       "      <td> 0</td>\n",
       "      <td> 0</td>\n",
       "      <td> 0</td>\n",
       "      <td> 0</td>\n",
       "      <td> 0</td>\n",
       "      <td> 1</td>\n",
       "      <td>...</td>\n",
       "    </tr>\n",
       "  </tbody>\n",
       "</table>\n",
       "<p>5 rows × 99 columns</p>\n",
       "</div>"
      ],
      "text/plain": [
       "  CHROM    POS    END  X2399003  X2642551  X2642553  X2673210  X2673224  \\\n",
       "0  chr1  16256  16257         1         0         0         0         0   \n",
       "1  chr1  16956  16957         0         0         0         0         0   \n",
       "2  chr1  17537  17538         0         0         0         0         0   \n",
       "3  chr1  20143  20144         0         0         0         0         0   \n",
       "4  chr1  20466  20467         0         0         0         0         0   \n",
       "\n",
       "   X2679044  X2679047  X2706565  X2791038  X2811015  X2811019  X2811021  \\\n",
       "0         0         0         0         0         0         0         0   \n",
       "1         0         0         0         0         0         0         0   \n",
       "2         0         0         0         0         0         0         0   \n",
       "3         0         0         0         0         0         0         0   \n",
       "4         0         0         0         0         0         0         0   \n",
       "\n",
       "   X2811024  X2811385  X2812902  X2813241  X2813273      \n",
       "0         0         0         0         0         0 ...  \n",
       "1         0         0         0         0         0 ...  \n",
       "2         0         0         0         0         1 ...  \n",
       "3         0         0         0         0         1 ...  \n",
       "4         0         0         0         0         1 ...  \n",
       "\n",
       "[5 rows x 99 columns]"
      ]
     },
     "execution_count": 10,
     "metadata": {},
     "output_type": "execute_result"
    }
   ],
   "source": [
    "SNVCalls_CPCG0183.head()"
   ]
  },
  {
   "cell_type": "code",
   "execution_count": 11,
   "metadata": {
    "collapsed": false
   },
   "outputs": [
    {
     "data": {
      "text/plain": [
       "array(['ACA', 'ACC', 'ACG', 'ACT', 'ATA', 'ATC', 'ATG', 'ATT', 'CCA',\n",
       "       'CCC', 'CCG', 'CCT', 'CTA', 'CTC', 'CTG', 'CTT', 'GCA', 'GCC',\n",
       "       'GCG', 'GCT', 'GTA', 'GTC', 'GTG', 'GTT', 'NNG', 'TCA', 'TCC',\n",
       "       'TCG', 'TCT', 'TTA', 'TTC', 'TTG', 'TTT'], \n",
       "      dtype='|S3')"
      ]
     },
     "execution_count": 11,
     "metadata": {},
     "output_type": "execute_result"
    }
   ],
   "source": [
    "np.unique(GenomicFeatures_CPCG0183['Trinucleotide'])"
   ]
  },
  {
   "cell_type": "code",
   "execution_count": 12,
   "metadata": {
    "collapsed": true
   },
   "outputs": [],
   "source": [
    "CPCG0183 = pd.merge(GenomicFeatures_CPCG0183, SNVCalls_CPCG0183,left_on=['CHROM', 'POS'], right_on=['CHROM','END'])\n"
   ]
  },
  {
   "cell_type": "code",
   "execution_count": 13,
   "metadata": {
    "collapsed": false
   },
   "outputs": [
    {
     "data": {
      "text/html": [
       "<div style=\"max-height:1000px;max-width:1500px;overflow:auto;\">\n",
       "<table border=\"1\" class=\"dataframe\">\n",
       "  <thead>\n",
       "    <tr style=\"text-align: right;\">\n",
       "      <th></th>\n",
       "      <th>CHROM</th>\n",
       "      <th>POS_x</th>\n",
       "      <th>RefAllele</th>\n",
       "      <th>NonRefAllele</th>\n",
       "      <th>BaseQual</th>\n",
       "      <th>TumourCoverage</th>\n",
       "      <th>NormalCoverage</th>\n",
       "      <th>MapQual</th>\n",
       "      <th>ReadPosition</th>\n",
       "      <th>Trinucleotide</th>\n",
       "      <th>HomopolymerRate</th>\n",
       "      <th>GCcontent</th>\n",
       "      <th>GenomicLocation</th>\n",
       "      <th>DistanceSNP</th>\n",
       "      <th>StrandBias</th>\n",
       "      <th>POS_y</th>\n",
       "      <th>END</th>\n",
       "      <th>X2399003</th>\n",
       "      <th>X2642551</th>\n",
       "      <th>X2642553</th>\n",
       "      <th></th>\n",
       "    </tr>\n",
       "  </thead>\n",
       "  <tbody>\n",
       "    <tr>\n",
       "      <th>0</th>\n",
       "      <td> chr1</td>\n",
       "      <td> 16257</td>\n",
       "      <td> 180</td>\n",
       "      <td> 14</td>\n",
       "      <td> 5390</td>\n",
       "      <td> 210</td>\n",
       "      <td> 98</td>\n",
       "      <td> 23</td>\n",
       "      <td> 58.5</td>\n",
       "      <td> CCC</td>\n",
       "      <td> 2.333333</td>\n",
       "      <td> 0.517413</td>\n",
       "      <td> ncRNA_intronic</td>\n",
       "      <td> 35222</td>\n",
       "      <td> 0.638095</td>\n",
       "      <td> 16256</td>\n",
       "      <td> 16257</td>\n",
       "      <td> 1</td>\n",
       "      <td> 0</td>\n",
       "      <td> 0</td>\n",
       "      <td>...</td>\n",
       "    </tr>\n",
       "    <tr>\n",
       "      <th>1</th>\n",
       "      <td> chr1</td>\n",
       "      <td> 16957</td>\n",
       "      <td> 104</td>\n",
       "      <td> 15</td>\n",
       "      <td> 3487</td>\n",
       "      <td> 159</td>\n",
       "      <td> 63</td>\n",
       "      <td>  0</td>\n",
       "      <td> 45.0</td>\n",
       "      <td> TCA</td>\n",
       "      <td> 2.443662</td>\n",
       "      <td> 0.601990</td>\n",
       "      <td>            NaN</td>\n",
       "      <td> 34522</td>\n",
       "      <td> 0.459119</td>\n",
       "      <td> 16956</td>\n",
       "      <td> 16957</td>\n",
       "      <td> 0</td>\n",
       "      <td> 0</td>\n",
       "      <td> 0</td>\n",
       "      <td>...</td>\n",
       "    </tr>\n",
       "    <tr>\n",
       "      <th>2</th>\n",
       "      <td> chr1</td>\n",
       "      <td> 17538</td>\n",
       "      <td> 119</td>\n",
       "      <td> 16</td>\n",
       "      <td> 3462</td>\n",
       "      <td> 140</td>\n",
       "      <td> 79</td>\n",
       "      <td> 37</td>\n",
       "      <td> 55.0</td>\n",
       "      <td> GCC</td>\n",
       "      <td> 2.719424</td>\n",
       "      <td> 0.676617</td>\n",
       "      <td> ncRNA_intronic</td>\n",
       "      <td> 33941</td>\n",
       "      <td> 0.442857</td>\n",
       "      <td> 17537</td>\n",
       "      <td> 17538</td>\n",
       "      <td> 0</td>\n",
       "      <td> 0</td>\n",
       "      <td> 0</td>\n",
       "      <td>...</td>\n",
       "    </tr>\n",
       "    <tr>\n",
       "      <th>3</th>\n",
       "      <td> chr1</td>\n",
       "      <td> 20144</td>\n",
       "      <td> 161</td>\n",
       "      <td> 32</td>\n",
       "      <td> 5296</td>\n",
       "      <td> 202</td>\n",
       "      <td> 88</td>\n",
       "      <td> 23</td>\n",
       "      <td> 45.0</td>\n",
       "      <td> GCC</td>\n",
       "      <td> 2.394558</td>\n",
       "      <td> 0.487562</td>\n",
       "      <td> ncRNA_intronic</td>\n",
       "      <td> 31335</td>\n",
       "      <td> 0.599010</td>\n",
       "      <td> 20143</td>\n",
       "      <td> 20144</td>\n",
       "      <td> 0</td>\n",
       "      <td> 0</td>\n",
       "      <td> 0</td>\n",
       "      <td>...</td>\n",
       "    </tr>\n",
       "    <tr>\n",
       "      <th>4</th>\n",
       "      <td> chr1</td>\n",
       "      <td> 20467</td>\n",
       "      <td>  89</td>\n",
       "      <td> 44</td>\n",
       "      <td> 3975</td>\n",
       "      <td> 150</td>\n",
       "      <td> 85</td>\n",
       "      <td>  0</td>\n",
       "      <td> 50.5</td>\n",
       "      <td> GCT</td>\n",
       "      <td> 2.717391</td>\n",
       "      <td> 0.477612</td>\n",
       "      <td>            NaN</td>\n",
       "      <td> 31012</td>\n",
       "      <td> 0.466667</td>\n",
       "      <td> 20466</td>\n",
       "      <td> 20467</td>\n",
       "      <td> 0</td>\n",
       "      <td> 0</td>\n",
       "      <td> 0</td>\n",
       "      <td>...</td>\n",
       "    </tr>\n",
       "  </tbody>\n",
       "</table>\n",
       "<p>5 rows × 113 columns</p>\n",
       "</div>"
      ],
      "text/plain": [
       "  CHROM  POS_x  RefAllele  NonRefAllele  BaseQual  TumourCoverage  \\\n",
       "0  chr1  16257        180            14      5390             210   \n",
       "1  chr1  16957        104            15      3487             159   \n",
       "2  chr1  17538        119            16      3462             140   \n",
       "3  chr1  20144        161            32      5296             202   \n",
       "4  chr1  20467         89            44      3975             150   \n",
       "\n",
       "   NormalCoverage  MapQual  ReadPosition Trinucleotide  HomopolymerRate  \\\n",
       "0              98       23          58.5           CCC         2.333333   \n",
       "1              63        0          45.0           TCA         2.443662   \n",
       "2              79       37          55.0           GCC         2.719424   \n",
       "3              88       23          45.0           GCC         2.394558   \n",
       "4              85        0          50.5           GCT         2.717391   \n",
       "\n",
       "   GCcontent GenomicLocation  DistanceSNP  StrandBias  POS_y    END  X2399003  \\\n",
       "0   0.517413  ncRNA_intronic        35222    0.638095  16256  16257         1   \n",
       "1   0.601990             NaN        34522    0.459119  16956  16957         0   \n",
       "2   0.676617  ncRNA_intronic        33941    0.442857  17537  17538         0   \n",
       "3   0.487562  ncRNA_intronic        31335    0.599010  20143  20144         0   \n",
       "4   0.477612             NaN        31012    0.466667  20466  20467         0   \n",
       "\n",
       "   X2642551  X2642553      \n",
       "0         0         0 ...  \n",
       "1         0         0 ...  \n",
       "2         0         0 ...  \n",
       "3         0         0 ...  \n",
       "4         0         0 ...  \n",
       "\n",
       "[5 rows x 113 columns]"
      ]
     },
     "execution_count": 13,
     "metadata": {},
     "output_type": "execute_result"
    }
   ],
   "source": [
    "CPCG0183.head() #182+15"
   ]
  },
  {
   "cell_type": "code",
   "execution_count": 14,
   "metadata": {
    "collapsed": true
   },
   "outputs": [],
   "source": [
    "CPCG0183_X = CPCG0183.iloc[:,2:15] #Exclude CHROM, POS\n",
    "CPCG0183_Y = CPCG0183.iloc[:,17:]  #Exclude CHROM_y, POS_y, END"
   ]
  },
  {
   "cell_type": "code",
   "execution_count": 15,
   "metadata": {
    "collapsed": false
   },
   "outputs": [
    {
     "name": "stdout",
     "output_type": "stream",
     "text": [
      "(143223, 13)\n",
      "(143223, 96)\n"
     ]
    }
   ],
   "source": [
    "print CPCG0183_X.shape\n",
    "print CPCG0183_Y.shape"
   ]
  },
  {
   "cell_type": "code",
   "execution_count": 16,
   "metadata": {
    "collapsed": false
   },
   "outputs": [
    {
     "data": {
      "text/html": [
       "<div style=\"max-height:1000px;max-width:1500px;overflow:auto;\">\n",
       "<table border=\"1\" class=\"dataframe\">\n",
       "  <thead>\n",
       "    <tr style=\"text-align: right;\">\n",
       "      <th></th>\n",
       "      <th>RefAllele</th>\n",
       "      <th>NonRefAllele</th>\n",
       "      <th>BaseQual</th>\n",
       "      <th>TumourCoverage</th>\n",
       "      <th>NormalCoverage</th>\n",
       "      <th>MapQual</th>\n",
       "      <th>ReadPosition</th>\n",
       "      <th>Trinucleotide</th>\n",
       "      <th>HomopolymerRate</th>\n",
       "      <th>GCcontent</th>\n",
       "      <th>GenomicLocation</th>\n",
       "      <th>DistanceSNP</th>\n",
       "      <th>StrandBias</th>\n",
       "    </tr>\n",
       "  </thead>\n",
       "  <tbody>\n",
       "    <tr>\n",
       "      <th>0</th>\n",
       "      <td> 180</td>\n",
       "      <td> 14</td>\n",
       "      <td> 5390</td>\n",
       "      <td> 210</td>\n",
       "      <td> 98</td>\n",
       "      <td> 23</td>\n",
       "      <td> 58.5</td>\n",
       "      <td> CCC</td>\n",
       "      <td> 2.333333</td>\n",
       "      <td> 0.517413</td>\n",
       "      <td> ncRNA_intronic</td>\n",
       "      <td> 35222</td>\n",
       "      <td> 0.638095</td>\n",
       "    </tr>\n",
       "    <tr>\n",
       "      <th>1</th>\n",
       "      <td> 104</td>\n",
       "      <td> 15</td>\n",
       "      <td> 3487</td>\n",
       "      <td> 159</td>\n",
       "      <td> 63</td>\n",
       "      <td>  0</td>\n",
       "      <td> 45.0</td>\n",
       "      <td> TCA</td>\n",
       "      <td> 2.443662</td>\n",
       "      <td> 0.601990</td>\n",
       "      <td>            NaN</td>\n",
       "      <td> 34522</td>\n",
       "      <td> 0.459119</td>\n",
       "    </tr>\n",
       "  </tbody>\n",
       "</table>\n",
       "<p>2 rows × 13 columns</p>\n",
       "</div>"
      ],
      "text/plain": [
       "   RefAllele  NonRefAllele  BaseQual  TumourCoverage  NormalCoverage  MapQual  \\\n",
       "0        180            14      5390             210              98       23   \n",
       "1        104            15      3487             159              63        0   \n",
       "\n",
       "   ReadPosition Trinucleotide  HomopolymerRate  GCcontent GenomicLocation  \\\n",
       "0          58.5           CCC         2.333333   0.517413  ncRNA_intronic   \n",
       "1          45.0           TCA         2.443662   0.601990             NaN   \n",
       "\n",
       "   DistanceSNP  StrandBias  \n",
       "0        35222    0.638095  \n",
       "1        34522    0.459119  \n",
       "\n",
       "[2 rows x 13 columns]"
      ]
     },
     "execution_count": 16,
     "metadata": {},
     "output_type": "execute_result"
    }
   ],
   "source": [
    "CPCG0183_X[:2]"
   ]
  },
  {
   "cell_type": "code",
   "execution_count": 17,
   "metadata": {
    "collapsed": false
   },
   "outputs": [
    {
     "data": {
      "text/html": [
       "<div style=\"max-height:1000px;max-width:1500px;overflow:auto;\">\n",
       "<table border=\"1\" class=\"dataframe\">\n",
       "  <thead>\n",
       "    <tr style=\"text-align: right;\">\n",
       "      <th></th>\n",
       "      <th>X2399003</th>\n",
       "      <th>X2642551</th>\n",
       "      <th>X2642553</th>\n",
       "      <th>X2673210</th>\n",
       "      <th>X2673224</th>\n",
       "      <th>X2679044</th>\n",
       "      <th>X2679047</th>\n",
       "      <th>X2706565</th>\n",
       "      <th>X2791038</th>\n",
       "      <th>X2811015</th>\n",
       "      <th>X2811019</th>\n",
       "      <th>X2811021</th>\n",
       "      <th>X2811024</th>\n",
       "      <th>X2811385</th>\n",
       "      <th>X2812902</th>\n",
       "      <th>X2813241</th>\n",
       "      <th>X2813273</th>\n",
       "      <th>X2813275</th>\n",
       "      <th>X2813339</th>\n",
       "      <th>X2813370</th>\n",
       "      <th></th>\n",
       "    </tr>\n",
       "  </thead>\n",
       "  <tbody>\n",
       "    <tr>\n",
       "      <th>0</th>\n",
       "      <td> 1</td>\n",
       "      <td> 0</td>\n",
       "      <td> 0</td>\n",
       "      <td> 0</td>\n",
       "      <td> 0</td>\n",
       "      <td> 0</td>\n",
       "      <td> 0</td>\n",
       "      <td> 0</td>\n",
       "      <td> 0</td>\n",
       "      <td> 0</td>\n",
       "      <td> 0</td>\n",
       "      <td> 0</td>\n",
       "      <td> 0</td>\n",
       "      <td> 0</td>\n",
       "      <td> 0</td>\n",
       "      <td> 0</td>\n",
       "      <td> 0</td>\n",
       "      <td> 0</td>\n",
       "      <td> 0</td>\n",
       "      <td> 0</td>\n",
       "      <td>...</td>\n",
       "    </tr>\n",
       "    <tr>\n",
       "      <th>1</th>\n",
       "      <td> 0</td>\n",
       "      <td> 0</td>\n",
       "      <td> 0</td>\n",
       "      <td> 0</td>\n",
       "      <td> 0</td>\n",
       "      <td> 0</td>\n",
       "      <td> 0</td>\n",
       "      <td> 0</td>\n",
       "      <td> 0</td>\n",
       "      <td> 0</td>\n",
       "      <td> 0</td>\n",
       "      <td> 0</td>\n",
       "      <td> 0</td>\n",
       "      <td> 0</td>\n",
       "      <td> 0</td>\n",
       "      <td> 0</td>\n",
       "      <td> 0</td>\n",
       "      <td> 0</td>\n",
       "      <td> 0</td>\n",
       "      <td> 0</td>\n",
       "      <td>...</td>\n",
       "    </tr>\n",
       "  </tbody>\n",
       "</table>\n",
       "<p>2 rows × 96 columns</p>\n",
       "</div>"
      ],
      "text/plain": [
       "   X2399003  X2642551  X2642553  X2673210  X2673224  X2679044  X2679047  \\\n",
       "0         1         0         0         0         0         0         0   \n",
       "1         0         0         0         0         0         0         0   \n",
       "\n",
       "   X2706565  X2791038  X2811015  X2811019  X2811021  X2811024  X2811385  \\\n",
       "0         0         0         0         0         0         0         0   \n",
       "1         0         0         0         0         0         0         0   \n",
       "\n",
       "   X2812902  X2813241  X2813273  X2813275  X2813339  X2813370      \n",
       "0         0         0         0         0         0         0 ...  \n",
       "1         0         0         0         0         0         0 ...  \n",
       "\n",
       "[2 rows x 96 columns]"
      ]
     },
     "execution_count": 17,
     "metadata": {},
     "output_type": "execute_result"
    }
   ],
   "source": [
    "CPCG0183_Y[:2]"
   ]
  },
  {
   "cell_type": "code",
   "execution_count": 18,
   "metadata": {
    "collapsed": false
   },
   "outputs": [
    {
     "name": "stdout",
     "output_type": "stream",
     "text": [
      "143223\n",
      "(143223, 1)\n"
     ]
    }
   ],
   "source": [
    "totalSample = CPCG0183_Y.shape[0]\n",
    "CPCG0183_Y_Val = np.zeros((totalSample,1)) #Will be our label now\n",
    "\n",
    "print totalSample\n",
    "print CPCG0183_Y_Val.shape"
   ]
  },
  {
   "cell_type": "code",
   "execution_count": 19,
   "metadata": {
    "collapsed": false
   },
   "outputs": [
    {
     "data": {
      "text/plain": [
       "(143223, 96)"
      ]
     },
     "execution_count": 19,
     "metadata": {},
     "output_type": "execute_result"
    }
   ],
   "source": [
    "CPCG0183_Y.shape"
   ]
  },
  {
   "cell_type": "code",
   "execution_count": 20,
   "metadata": {
    "collapsed": false
   },
   "outputs": [
    {
     "data": {
      "text/plain": [
       "(96,)"
      ]
     },
     "execution_count": 20,
     "metadata": {},
     "output_type": "execute_result"
    }
   ],
   "source": [
    "CPCG0183_Y.values[0].shape"
   ]
  },
  {
   "cell_type": "code",
   "execution_count": 21,
   "metadata": {
    "collapsed": true
   },
   "outputs": [],
   "source": [
    "for i in range(totalSample):\n",
    "    CPCG0183_Y_Val[i] = np.argmax(np.bincount(CPCG0183_Y.values[i]))"
   ]
  },
  {
   "cell_type": "code",
   "execution_count": 22,
   "metadata": {
    "collapsed": true
   },
   "outputs": [],
   "source": [
    "CPCG0183_Y_Val_1 = pd.DataFrame(CPCG0183_Y_Val)\n",
    "CPCG0183_Y_Val_1.columns = ['Label']"
   ]
  },
  {
   "cell_type": "code",
   "execution_count": 23,
   "metadata": {
    "collapsed": false
   },
   "outputs": [
    {
     "data": {
      "text/html": [
       "<div style=\"max-height:1000px;max-width:1500px;overflow:auto;\">\n",
       "<table border=\"1\" class=\"dataframe\">\n",
       "  <thead>\n",
       "    <tr style=\"text-align: right;\">\n",
       "      <th></th>\n",
       "      <th>Label</th>\n",
       "    </tr>\n",
       "  </thead>\n",
       "  <tbody>\n",
       "    <tr>\n",
       "      <th>0</th>\n",
       "      <td> 0</td>\n",
       "    </tr>\n",
       "    <tr>\n",
       "      <th>1</th>\n",
       "      <td> 0</td>\n",
       "    </tr>\n",
       "    <tr>\n",
       "      <th>2</th>\n",
       "      <td> 0</td>\n",
       "    </tr>\n",
       "  </tbody>\n",
       "</table>\n",
       "<p>3 rows × 1 columns</p>\n",
       "</div>"
      ],
      "text/plain": [
       "   Label\n",
       "0      0\n",
       "1      0\n",
       "2      0\n",
       "\n",
       "[3 rows x 1 columns]"
      ]
     },
     "execution_count": 23,
     "metadata": {},
     "output_type": "execute_result"
    }
   ],
   "source": [
    "CPCG0183_Y_Val_1[:3]"
   ]
  },
  {
   "cell_type": "code",
   "execution_count": 24,
   "metadata": {
    "collapsed": true
   },
   "outputs": [],
   "source": [
    "CPCG0183_dataframe = pd.concat([CPCG0183_X, CPCG0183_Y_Val_1],axis=1)"
   ]
  },
  {
   "cell_type": "code",
   "execution_count": 25,
   "metadata": {
    "collapsed": false
   },
   "outputs": [
    {
     "data": {
      "text/plain": [
       "(143223, 14)"
      ]
     },
     "execution_count": 25,
     "metadata": {},
     "output_type": "execute_result"
    }
   ],
   "source": [
    "CPCG0183_dataframe.shape"
   ]
  },
  {
   "cell_type": "code",
   "execution_count": 26,
   "metadata": {
    "collapsed": true
   },
   "outputs": [],
   "source": [
    "CPCG0183_dataframe.to_csv('CPCG0183.csv')"
   ]
  },
  {
   "cell_type": "code",
   "execution_count": 29,
   "metadata": {
    "collapsed": true
   },
   "outputs": [],
   "source": [
    "#Now we have variable importance ...lets do analysis"
   ]
  },
  {
   "cell_type": "code",
   "execution_count": 30,
   "metadata": {
    "collapsed": true
   },
   "outputs": [],
   "source": [
    "%load_ext rpy2.ipython"
   ]
  },
  {
   "cell_type": "code",
   "execution_count": 32,
   "metadata": {
    "collapsed": false
   },
   "outputs": [
    {
     "data": {
      "text/plain": [
       "'data.frame':\t143223 obs. of  15 variables:\n",
       " $ X              : int  0 1 2 3 4 5 6 7 8 9 ...\n",
       " $ RefAllele      : int  180 104 119 161 89 26 50 45 61 48 ...\n",
       " $ NonRefAllele   : int  14 15 16 32 44 5 14 20 25 39 ...\n",
       " $ BaseQual       : int  5390 3487 3462 5296 3975 939 1900 1923 2516 2700 ...\n",
       " $ TumourCoverage : int  210 159 140 202 150 33 66 73 98 94 ...\n",
       " $ NormalCoverage : int  98 63 79 88 85 28 37 46 56 61 ...\n",
       " $ MapQual        : num  23 0 37 23 0 46 60 15 13.5 29 ...\n",
       " $ ReadPosition   : num  58.5 45 55 45 50.5 42 57 52 49 51.5 ...\n",
       " $ Trinucleotide  : Factor w/ 33 levels \"ACA\",\"ACC\",\"ACG\",..: 10 26 18 18 20 13 1 5 27 13 ...\n",
       " $ HomopolymerRate: num  2.33 2.44 2.72 2.39 2.72 ...\n",
       " $ GCcontent      : num  0.517 0.602 0.677 0.488 0.478 ...\n",
       " $ GenomicLocation: Factor w/ 16 levels \"\",\"downstream\",..: 8 1 8 8 1 5 1 5 1 5 ...\n",
       " $ DistanceSNP    : int  35222 34522 33941 31335 31012 2348 2470 2847 2576 2626 ...\n",
       " $ StrandBias     : num  0.638 0.459 0.443 0.599 0.467 ...\n",
       " $ Label          : num  0 0 0 0 0 0 0 0 0 0 ...\n"
      ]
     },
     "metadata": {},
     "output_type": "display_data"
    }
   ],
   "source": [
    "%%R\n",
    "# Read in the data\n",
    "CPCG0183Frame = read.csv(\"CPCG0183.csv\")\n",
    "#str(CPCG0183Frame)"
   ]
  },
  {
   "cell_type": "code",
   "execution_count": 35,
   "metadata": {
    "collapsed": false
   },
   "outputs": [
    {
     "data": {
      "text/plain": [
       "[1] 30\n"
      ]
     },
     "metadata": {},
     "output_type": "display_data"
    }
   ],
   "source": [
    "%%R\n",
    "#sum(is.na(CPCG0183Frame$StrandBias))\n",
    "sum(is.na(CPCG0183Frame$ReadPosition)) "
   ]
  },
  {
   "cell_type": "code",
   "execution_count": 36,
   "metadata": {
    "collapsed": false
   },
   "outputs": [
    {
     "data": {
      "text/plain": [
       "[1] 0\n",
       "[1] 0\n"
      ]
     },
     "metadata": {},
     "output_type": "display_data"
    }
   ],
   "source": [
    "%%R\n",
    "CPCG0183Frame$ReadPosition[is.na(CPCG0183Frame$ReadPosition)] = mean(CPCG0183Frame$ReadPosition, na.rm=TRUE)\n",
    "CPCG0183Frame$StrandBias[is.na(CPCG0183Frame$StrandBias)] = mean(CPCG0183Frame$StrandBias, na.rm=TRUE)\n",
    "\n",
    "print (sum(is.na(CPCG0183Frame$ReadPosition)) )\n",
    "print (sum(is.na(CPCG0183Frame$StrandBias)) )"
   ]
  },
  {
   "cell_type": "code",
   "execution_count": 37,
   "metadata": {
    "collapsed": false
   },
   "outputs": [
    {
     "data": {
      "text/plain": [
       "[1] 0\n"
      ]
     },
     "metadata": {},
     "output_type": "display_data"
    }
   ],
   "source": [
    "%%R\n",
    "sum(is.na(CPCG0183Frame))  #No NA value now"
   ]
  },
  {
   "cell_type": "code",
   "execution_count": 38,
   "metadata": {
    "collapsed": true
   },
   "outputs": [],
   "source": [
    "%%R\n",
    "write.csv(CPCG0183Frame, file = \"CPCG0183_imputed.csv\")  #Cleaned CSV without NA"
   ]
  },
  {
   "cell_type": "code",
   "execution_count": 39,
   "metadata": {
    "collapsed": false
   },
   "outputs": [
    {
     "name": "stderr",
     "output_type": "stream",
     "text": [
      "/usr/local/lib/python2.7/dist-packages/rpy2/robjects/functions.py:106: UserWarning: Loading required package: statmod\n",
      "\n",
      "  res = super(Function, self).__call__(*new_args, **new_kwargs)\n",
      "/usr/local/lib/python2.7/dist-packages/rpy2/robjects/functions.py:106: UserWarning: \n",
      "----------------------------------------------------------------------\n",
      "\n",
      "Your next step is to start H2O:\n",
      "    > h2o.init()\n",
      "\n",
      "For H2O package documentation, ask for help:\n",
      "    > ??h2o\n",
      "\n",
      "After starting H2O, you can use the Web UI at http://localhost:54321\n",
      "For more information visit http://docs.h2o.ai\n",
      "\n",
      "----------------------------------------------------------------------\n",
      "\n",
      "\n",
      "  res = super(Function, self).__call__(*new_args, **new_kwargs)\n",
      "/usr/local/lib/python2.7/dist-packages/rpy2/robjects/functions.py:106: UserWarning: \n",
      "Attaching package: ‘h2o’\n",
      "\n",
      "\n",
      "  res = super(Function, self).__call__(*new_args, **new_kwargs)\n",
      "/usr/local/lib/python2.7/dist-packages/rpy2/robjects/functions.py:106: UserWarning: The following objects are masked from ‘package:stats’:\n",
      "\n",
      "    sd, var\n",
      "\n",
      "\n",
      "  res = super(Function, self).__call__(*new_args, **new_kwargs)\n",
      "/usr/local/lib/python2.7/dist-packages/rpy2/robjects/functions.py:106: UserWarning: The following objects are masked from ‘package:base’:\n",
      "\n",
      "    ||, &&, %*%, apply, as.factor, as.numeric, colnames, colnames<-,\n",
      "    ifelse, %in%, is.character, is.factor, is.numeric, log, log10,\n",
      "    log1p, log2, round, signif, trunc\n",
      "\n",
      "\n",
      "  res = super(Function, self).__call__(*new_args, **new_kwargs)\n"
     ]
    },
    {
     "data": {
      "text/plain": [
       "\n",
       "H2O is not running yet, starting it now...\n",
       "\n",
       "Note:  In case of errors look at the following log files:\n",
       "    /tmp/RtmpDmw9xo/h2o_rbhat_started_from_r.out\n",
       "    /tmp/RtmpDmw9xo/h2o_rbhat_started_from_r.err\n",
       "\n",
       "\n",
       "Starting H2O JVM and connecting: .. Connection successful!\n",
       "\n",
       "R is connected to the H2O cluster: \n",
       "    H2O cluster uptime:         1 seconds 943 milliseconds \n",
       "    H2O cluster version:        3.9.1.3435 \n",
       "    H2O cluster name:           H2O_started_from_R_rbhat_szm488 \n",
       "    H2O cluster total nodes:    1 \n",
       "    H2O cluster total memory:   26.60 GB \n",
       "    H2O cluster total cores:    56 \n",
       "    H2O cluster allowed cores:  2 \n",
       "    H2O cluster healthy:        TRUE \n",
       "    H2O Connection ip:          localhost \n",
       "    H2O Connection port:        54321 \n",
       "    H2O Connection proxy:       NA \n",
       "    R Version:                  R version 3.3.0 beta (2016-03-30 r70404) \n",
       "\n",
       "Note:  As started, H2O is limited to the CRAN default of 2 CPUs.\n",
       "       Shut down and restart H2O as shown below to use all your CPUs.\n",
       "           > h2o.shutdown()\n",
       "           > h2o.init(nthreads = -1)\n",
       "\n"
      ]
     },
     "metadata": {},
     "output_type": "display_data"
    }
   ],
   "source": [
    "%%R\n",
    "library(h2o)\n",
    "localH2O = h2o.init(ip = \"localhost\", port = 54321, startH2O = TRUE,min_mem_size = \"3g\")"
   ]
  },
  {
   "cell_type": "code",
   "execution_count": 40,
   "metadata": {
    "collapsed": false
   },
   "outputs": [
    {
     "data": {
      "text/plain": [
       "\r",
       "  |                                                                            \r",
       "  |                                                                      |   0%\r",
       "  |                                                                            \r",
       "  |======================================================================| 100%\n",
       "\r",
       "  |                                                                            \r",
       "  |                                                                      |   0%\r",
       "  |                                                                            \r",
       "  |======================================================================| 100%\n"
      ]
     },
     "metadata": {},
     "output_type": "display_data"
    }
   ],
   "source": [
    "%%R\n",
    "## Import CSV as H2O:\n",
    "csvPath = \"/home/rbhat/Workspace/S3Lab_Projects/SMC-MetaChallange/CPCG0183_imputed.csv\"\n",
    "CPCG0183.hex          = h2o.importFile(path = csvPath, destination_frame = \"CPCG0183.hex\") \n",
    "train                 = as.data.frame(CPCG0183.hex)\n",
    "\n",
    "#train  = subset(train,C1<20000)\n",
    "\n",
    "train$Trinucleotide   = as.factor(train$Trinucleotide)\n",
    "train$GenomicLocation = as.factor(train$GenomicLocation)\n",
    "train$Label           = as.factor(train$Label)\n",
    "\n",
    "train_h2o             = as.h2o(train)"
   ]
  },
  {
   "cell_type": "code",
   "execution_count": 41,
   "metadata": {
    "collapsed": false
   },
   "outputs": [
    {
     "data": {
      "text/plain": [
       "\r",
       "  |                                                                            \r",
       "  |                                                                      |   0%\r",
       "  |                                                                            \r",
       "  |==                                                                    |   3%\r",
       "  |                                                                            \r",
       "  |=======                                                               |  10%\r",
       "  |                                                                            \r",
       "  |=========                                                             |  13%\r",
       "  |                                                                            \r",
       "  |=============                                                         |  18%\r",
       "  |                                                                            \r",
       "  |================                                                      |  22%\r",
       "  |                                                                            \r",
       "  |===================                                                   |  27%\r",
       "  |                                                                            \r",
       "  |======================                                                |  31%\r",
       "  |                                                                            \r",
       "  |=========================                                             |  36%\r",
       "  |                                                                            \r",
       "  |=============================                                         |  42%\r",
       "  |                                                                            \r",
       "  |================================                                      |  46%\r",
       "  |                                                                            \r",
       "  |==================================                                    |  49%\r",
       "  |                                                                            \r",
       "  |======================================                                |  54%\r",
       "  |                                                                            \r",
       "  |==========================================                            |  60%\r",
       "  |                                                                            \r",
       "  |==============================================                        |  66%\r",
       "  |                                                                            \r",
       "  |==================================================                    |  71%\r",
       "  |                                                                            \r",
       "  |=====================================================                 |  75%\r",
       "  |                                                                            \r",
       "  |=========================================================             |  81%\r",
       "  |                                                                            \r",
       "  |=============================================================         |  87%\r",
       "  |                                                                            \r",
       "  |=================================================================     |  92%\r",
       "  |                                                                            \r",
       "  |===================================================================== |  99%\r",
       "  |                                                                            \r",
       "  |======================================================================| 100%\n"
      ]
     },
     "metadata": {},
     "output_type": "display_data"
    }
   ],
   "source": [
    "%%R\n",
    "#Training a deep learning model:---------------------------------------------------------#\n",
    "model <- h2o.deeplearning( x = 3:15, # column numbers for predictors\n",
    "                           y = 16,            # column number for label\n",
    "                           training_frame = train_h2o,\n",
    "                           activation = \"RectifierWithDropout\", \n",
    "                           input_dropout_ratio = 0.2,\n",
    "                           hidden_dropout_ratios = c(0.5,0.5),\n",
    "                           balance_classes = TRUE, \n",
    "                           hidden = c(10,8),  ## two hidden layers\n",
    "                           epochs = 50,\n",
    "                           variable_importances = T)"
   ]
  },
  {
   "cell_type": "code",
   "execution_count": 44,
   "metadata": {
    "collapsed": false
   },
   "outputs": [
    {
     "data": {
      "text/plain": [
       "Variable Importances: \n",
       "           variable relative_importance scaled_importance percentage\n",
       "1      NonRefAllele            1.000000          1.000000   0.431964\n",
       "2    NormalCoverage            0.128271          0.128271   0.055408\n",
       "3    TumourCoverage            0.108174          0.108174   0.046727\n",
       "4 Trinucleotide.NNG            0.055045          0.055045   0.023778\n",
       "5         RefAllele            0.053923          0.053923   0.023293\n",
       "\n",
       "---\n",
       "                     variable relative_importance scaled_importance percentage\n",
       "56     GenomicLocation.exonic            0.005418          0.005418   0.002340\n",
       "57   GenomicLocation.intronic            0.004980          0.004980   0.002151\n",
       "58                 StrandBias            0.004915          0.004915   0.002123\n",
       "59          Trinucleotide.CCT            0.004698          0.004698   0.002029\n",
       "60 GenomicLocation.intergenic            0.001672          0.001672   0.000722\n",
       "61  Trinucleotide.missing(NA)            0.000000          0.000000   0.000000\n"
      ]
     },
     "metadata": {},
     "output_type": "display_data"
    }
   ],
   "source": [
    "%%R\n",
    "var_importance = h2o.varimp(model)\n",
    "#print(var_importance)\n",
    "h2o.varimp(model)"
   ]
  },
  {
   "cell_type": "code",
   "execution_count": 45,
   "metadata": {
    "collapsed": true
   },
   "outputs": [],
   "source": [
    "%%R\n",
    "write.table(var_importance, file=\"CPCG0183_variable_importance.csv\")"
   ]
  },
  {
   "cell_type": "code",
   "execution_count": 46,
   "metadata": {
    "collapsed": true
   },
   "outputs": [],
   "source": [
    "var_importance = pd.read_csv(open('CPCG0183_variable_importance.csv','r'),sep=' ')\n",
    "#pd.read_csv('CPCG0100_variable_importance.csv')"
   ]
  },
  {
   "cell_type": "code",
   "execution_count": 47,
   "metadata": {
    "collapsed": false
   },
   "outputs": [
    {
     "data": {
      "text/html": [
       "<div style=\"max-height:1000px;max-width:1500px;overflow:auto;\">\n",
       "<table border=\"1\" class=\"dataframe\">\n",
       "  <thead>\n",
       "    <tr style=\"text-align: right;\">\n",
       "      <th></th>\n",
       "      <th>variable</th>\n",
       "      <th>relative_importance</th>\n",
       "      <th>scaled_importance</th>\n",
       "      <th>percentage</th>\n",
       "    </tr>\n",
       "  </thead>\n",
       "  <tbody>\n",
       "    <tr>\n",
       "      <th>1</th>\n",
       "      <td>      NonRefAllele</td>\n",
       "      <td> 1.000000</td>\n",
       "      <td> 1.000000</td>\n",
       "      <td> 0.431964</td>\n",
       "    </tr>\n",
       "    <tr>\n",
       "      <th>2</th>\n",
       "      <td>    NormalCoverage</td>\n",
       "      <td> 0.128271</td>\n",
       "      <td> 0.128271</td>\n",
       "      <td> 0.055408</td>\n",
       "    </tr>\n",
       "    <tr>\n",
       "      <th>3</th>\n",
       "      <td>    TumourCoverage</td>\n",
       "      <td> 0.108174</td>\n",
       "      <td> 0.108174</td>\n",
       "      <td> 0.046727</td>\n",
       "    </tr>\n",
       "    <tr>\n",
       "      <th>4</th>\n",
       "      <td> Trinucleotide.NNG</td>\n",
       "      <td> 0.055045</td>\n",
       "      <td> 0.055045</td>\n",
       "      <td> 0.023778</td>\n",
       "    </tr>\n",
       "    <tr>\n",
       "      <th>5</th>\n",
       "      <td>         RefAllele</td>\n",
       "      <td> 0.053923</td>\n",
       "      <td> 0.053923</td>\n",
       "      <td> 0.023293</td>\n",
       "    </tr>\n",
       "  </tbody>\n",
       "</table>\n",
       "<p>5 rows × 4 columns</p>\n",
       "</div>"
      ],
      "text/plain": [
       "            variable  relative_importance  scaled_importance  percentage\n",
       "1       NonRefAllele             1.000000           1.000000    0.431964\n",
       "2     NormalCoverage             0.128271           0.128271    0.055408\n",
       "3     TumourCoverage             0.108174           0.108174    0.046727\n",
       "4  Trinucleotide.NNG             0.055045           0.055045    0.023778\n",
       "5          RefAllele             0.053923           0.053923    0.023293\n",
       "\n",
       "[5 rows x 4 columns]"
      ]
     },
     "execution_count": 47,
     "metadata": {},
     "output_type": "execute_result"
    }
   ],
   "source": [
    "var_importance[:5]"
   ]
  },
  {
   "cell_type": "code",
   "execution_count": 48,
   "metadata": {
    "collapsed": false
   },
   "outputs": [
    {
     "data": {
      "text/html": [
       "<div style=\"max-height:1000px;max-width:1500px;overflow:auto;\">\n",
       "<table border=\"1\" class=\"dataframe\">\n",
       "  <thead>\n",
       "    <tr style=\"text-align: right;\">\n",
       "      <th></th>\n",
       "      <th>CHROM</th>\n",
       "      <th>POS</th>\n",
       "      <th>RefAllele</th>\n",
       "      <th>NonRefAllele</th>\n",
       "      <th>BaseQual</th>\n",
       "      <th>TumourCoverage</th>\n",
       "      <th>NormalCoverage</th>\n",
       "      <th>MapQual</th>\n",
       "      <th>ReadPosition</th>\n",
       "      <th>Trinucleotide</th>\n",
       "      <th>HomopolymerRate</th>\n",
       "      <th>GCcontent</th>\n",
       "      <th>GenomicLocation</th>\n",
       "      <th>DistanceSNP</th>\n",
       "      <th>StrandBias</th>\n",
       "    </tr>\n",
       "  </thead>\n",
       "  <tbody>\n",
       "    <tr>\n",
       "      <th>0</th>\n",
       "      <td> chr1</td>\n",
       "      <td> 16257</td>\n",
       "      <td> 180</td>\n",
       "      <td> 14</td>\n",
       "      <td> 5390</td>\n",
       "      <td> 210</td>\n",
       "      <td> 98</td>\n",
       "      <td> 23</td>\n",
       "      <td> 58.5</td>\n",
       "      <td> CCC</td>\n",
       "      <td> 2.333333</td>\n",
       "      <td> 0.517413</td>\n",
       "      <td> ncRNA_intronic</td>\n",
       "      <td> 35222</td>\n",
       "      <td> 0.638095</td>\n",
       "    </tr>\n",
       "    <tr>\n",
       "      <th>1</th>\n",
       "      <td> chr1</td>\n",
       "      <td> 16957</td>\n",
       "      <td> 104</td>\n",
       "      <td> 15</td>\n",
       "      <td> 3487</td>\n",
       "      <td> 159</td>\n",
       "      <td> 63</td>\n",
       "      <td>  0</td>\n",
       "      <td> 45.0</td>\n",
       "      <td> TCA</td>\n",
       "      <td> 2.443662</td>\n",
       "      <td> 0.601990</td>\n",
       "      <td>            NaN</td>\n",
       "      <td> 34522</td>\n",
       "      <td> 0.459119</td>\n",
       "    </tr>\n",
       "    <tr>\n",
       "      <th>2</th>\n",
       "      <td> chr1</td>\n",
       "      <td> 17538</td>\n",
       "      <td> 119</td>\n",
       "      <td> 16</td>\n",
       "      <td> 3462</td>\n",
       "      <td> 140</td>\n",
       "      <td> 79</td>\n",
       "      <td> 37</td>\n",
       "      <td> 55.0</td>\n",
       "      <td> GCC</td>\n",
       "      <td> 2.719424</td>\n",
       "      <td> 0.676617</td>\n",
       "      <td> ncRNA_intronic</td>\n",
       "      <td> 33941</td>\n",
       "      <td> 0.442857</td>\n",
       "    </tr>\n",
       "    <tr>\n",
       "      <th>3</th>\n",
       "      <td> chr1</td>\n",
       "      <td> 20144</td>\n",
       "      <td> 161</td>\n",
       "      <td> 32</td>\n",
       "      <td> 5296</td>\n",
       "      <td> 202</td>\n",
       "      <td> 88</td>\n",
       "      <td> 23</td>\n",
       "      <td> 45.0</td>\n",
       "      <td> GCC</td>\n",
       "      <td> 2.394558</td>\n",
       "      <td> 0.487562</td>\n",
       "      <td> ncRNA_intronic</td>\n",
       "      <td> 31335</td>\n",
       "      <td> 0.599010</td>\n",
       "    </tr>\n",
       "    <tr>\n",
       "      <th>4</th>\n",
       "      <td> chr1</td>\n",
       "      <td> 20467</td>\n",
       "      <td>  89</td>\n",
       "      <td> 44</td>\n",
       "      <td> 3975</td>\n",
       "      <td> 150</td>\n",
       "      <td> 85</td>\n",
       "      <td>  0</td>\n",
       "      <td> 50.5</td>\n",
       "      <td> GCT</td>\n",
       "      <td> 2.717391</td>\n",
       "      <td> 0.477612</td>\n",
       "      <td>            NaN</td>\n",
       "      <td> 31012</td>\n",
       "      <td> 0.466667</td>\n",
       "    </tr>\n",
       "  </tbody>\n",
       "</table>\n",
       "<p>5 rows × 15 columns</p>\n",
       "</div>"
      ],
      "text/plain": [
       "  CHROM    POS  RefAllele  NonRefAllele  BaseQual  TumourCoverage  \\\n",
       "0  chr1  16257        180            14      5390             210   \n",
       "1  chr1  16957        104            15      3487             159   \n",
       "2  chr1  17538        119            16      3462             140   \n",
       "3  chr1  20144        161            32      5296             202   \n",
       "4  chr1  20467         89            44      3975             150   \n",
       "\n",
       "   NormalCoverage  MapQual  ReadPosition Trinucleotide  HomopolymerRate  \\\n",
       "0              98       23          58.5           CCC         2.333333   \n",
       "1              63        0          45.0           TCA         2.443662   \n",
       "2              79       37          55.0           GCC         2.719424   \n",
       "3              88       23          45.0           GCC         2.394558   \n",
       "4              85        0          50.5           GCT         2.717391   \n",
       "\n",
       "   GCcontent GenomicLocation  DistanceSNP  StrandBias  \n",
       "0   0.517413  ncRNA_intronic        35222    0.638095  \n",
       "1   0.601990             NaN        34522    0.459119  \n",
       "2   0.676617  ncRNA_intronic        33941    0.442857  \n",
       "3   0.487562  ncRNA_intronic        31335    0.599010  \n",
       "4   0.477612             NaN        31012    0.466667  \n",
       "\n",
       "[5 rows x 15 columns]"
      ]
     },
     "execution_count": 48,
     "metadata": {},
     "output_type": "execute_result"
    }
   ],
   "source": [
    "GenomicFeatures_CPCG0183[:5]"
   ]
  },
  {
   "cell_type": "code",
   "execution_count": 49,
   "metadata": {
    "collapsed": false
   },
   "outputs": [
    {
     "data": {
      "text/plain": [
       "{'BaseQual': 0.045852318406105007,\n",
       " 'DistanceSNP': 0.025250218808651002,\n",
       " 'GCcontent': 0.0087331701070070301,\n",
       " 'GenomicLocation.UTR3': 0.021850556135177598,\n",
       " 'GenomicLocation.UTR5': 0.030610755085945102,\n",
       " 'GenomicLocation.downstream': 0.021469132974743801,\n",
       " 'GenomicLocation.exonic': 0.00541807897388935,\n",
       " 'GenomicLocation.exonic;splicing': 0.022779917344451003,\n",
       " 'GenomicLocation.intergenic': 0.0016719751292839599,\n",
       " 'GenomicLocation.intronic': 0.00498037366196513,\n",
       " 'GenomicLocation.missing(NA)': 0.0150138847529888,\n",
       " 'GenomicLocation.ncRNA_UTR3': 0.041083738207817098,\n",
       " 'GenomicLocation.ncRNA_UTR5': 0.036083277314901401,\n",
       " 'GenomicLocation.ncRNA_exonic': 0.0293677560985088,\n",
       " 'GenomicLocation.ncRNA_intronic': 0.0089321816340088792,\n",
       " 'GenomicLocation.ncRNA_splicing': 0.052761055529117598,\n",
       " 'GenomicLocation.splicing': 0.031691562384366996,\n",
       " 'GenomicLocation.upstream': 0.013549567200243501,\n",
       " 'GenomicLocation.upstream;downstream': 0.049730904400348698,\n",
       " 'HomopolymerRate': 0.0145589150488377,\n",
       " 'MapQual': 0.045512184500694303,\n",
       " 'NonRefAllele': 1.0,\n",
       " 'NormalCoverage': 0.12827052175998702,\n",
       " 'ReadPosition': 0.0062813838012516499,\n",
       " 'RefAllele': 0.053922500461339999,\n",
       " 'StrandBias': 0.0049152369610965295,\n",
       " 'Trinucleotide.ACA': 0.016883468255400699,\n",
       " 'Trinucleotide.ACC': 0.0142726805061102,\n",
       " 'Trinucleotide.ACG': 0.013152034953236601,\n",
       " 'Trinucleotide.ACT': 0.011290933005511801,\n",
       " 'Trinucleotide.ATA': 0.012782477773726002,\n",
       " 'Trinucleotide.ATC': 0.014730244874954199,\n",
       " 'Trinucleotide.ATG': 0.0159866102039814,\n",
       " 'Trinucleotide.ATT': 0.013533169403672199,\n",
       " 'Trinucleotide.CCA': 0.0058566792868077798,\n",
       " 'Trinucleotide.CCC': 0.00619174214079976,\n",
       " 'Trinucleotide.CCG': 0.0083672273904085211,\n",
       " 'Trinucleotide.CCT': 0.0046981642954051503,\n",
       " 'Trinucleotide.CTA': 0.0125544974580407,\n",
       " 'Trinucleotide.CTC': 0.0089689185842871701,\n",
       " 'Trinucleotide.CTG': 0.012926088646054301,\n",
       " 'Trinucleotide.CTT': 0.0067295599728822699,\n",
       " 'Trinucleotide.GCA': 0.0122833931818604,\n",
       " 'Trinucleotide.GCC': 0.012446960434317599,\n",
       " 'Trinucleotide.GCG': 0.012068778276443501,\n",
       " 'Trinucleotide.GCT': 0.015281917527318001,\n",
       " 'Trinucleotide.GTA': 0.041161891072988503,\n",
       " 'Trinucleotide.GTC': 0.016961555927991898,\n",
       " 'Trinucleotide.GTG': 0.031014902517199499,\n",
       " 'Trinucleotide.GTT': 0.016654754057526599,\n",
       " 'Trinucleotide.NNG': 0.055045243352651603,\n",
       " 'Trinucleotide.TCA': 0.0055265678092837299,\n",
       " 'Trinucleotide.TCC': 0.00655735936015844,\n",
       " 'Trinucleotide.TCG': 0.018266580998897601,\n",
       " 'Trinucleotide.TCT': 0.0085735702887177502,\n",
       " 'Trinucleotide.TTA': 0.0064877807162702101,\n",
       " 'Trinucleotide.TTC': 0.011566577479243299,\n",
       " 'Trinucleotide.TTG': 0.029242854565382004,\n",
       " 'Trinucleotide.TTT': 0.00847803335636854,\n",
       " 'Trinucleotide.missing(NA)': 0.0,\n",
       " 'TumourCoverage': 0.10817400366067899}"
      ]
     },
     "execution_count": 49,
     "metadata": {},
     "output_type": "execute_result"
    }
   ],
   "source": [
    "var_imp_dict = {}\n",
    "\n",
    "for i in range(var_importance.shape[0]):\n",
    "    var_imp_dict[var_importance.iloc[i,0]] = var_importance.iloc[i,1]\n",
    "\n",
    "var_imp_dict"
   ]
  },
  {
   "cell_type": "code",
   "execution_count": 51,
   "metadata": {
    "collapsed": false
   },
   "outputs": [],
   "source": [
    "noOfSample = GenomicFeatures_CPCG0183.shape[0]\n",
    "\n",
    "CPCG0183_Dict = {}\n",
    "\n",
    "for i in range(noOfSample):\n",
    "    \n",
    "    pos = GenomicFeatures_CPCG0183.iloc[i,1] #gets the pos value\n",
    "    \n",
    "    RefAllele      = GenomicFeatures_CPCG0183.iloc[i,2]*var_imp_dict['RefAllele']\n",
    "    NonRefAllele   = GenomicFeatures_CPCG0183.iloc[i,3]*var_imp_dict['NonRefAllele']\n",
    "    BaseQual       = GenomicFeatures_CPCG0183.iloc[i,4]*var_imp_dict['BaseQual']\n",
    "    TumourCoverage = GenomicFeatures_CPCG0183.iloc[i,5]*var_imp_dict['TumourCoverage']\n",
    "    NormalCoverage = GenomicFeatures_CPCG0183.iloc[i,6]*var_imp_dict['NormalCoverage']\n",
    "    MapQual        = GenomicFeatures_CPCG0183.iloc[i,7]*var_imp_dict['MapQual']\n",
    "    ReadPosition   = GenomicFeatures_CPCG0183.iloc[i,8]*var_imp_dict['ReadPosition']\n",
    "    \n",
    "    Trinucleotide  = 0\n",
    "    if isinstance(GenomicFeatures_CPCG0183.iloc[i,9], str):\n",
    "        Trinucleotide  = var_imp_dict['Trinucleotide.'+str(GenomicFeatures_CPCG0183.iloc[i,9])]\n",
    "    HomopolymerRate= GenomicFeatures_CPCG0183.iloc[i,10]*var_imp_dict['HomopolymerRate']\n",
    "    GCcontent      = GenomicFeatures_CPCG0183.iloc[i,11]*var_imp_dict['GCcontent']\n",
    "    \n",
    "    GenomicLocation = 0\n",
    "    if isinstance(GenomicFeatures_CPCG0183.iloc[i,12], str):\n",
    "        GenomicLocation= var_imp_dict['GenomicLocation.'+str(GenomicFeatures_CPCG0183.iloc[i,12])]\n",
    "    DistanceSNP    = GenomicFeatures_CPCG0183.iloc[i,13]*var_imp_dict['DistanceSNP']\n",
    "    StrandBias     = GenomicFeatures_CPCG0183.iloc[i,14]*var_imp_dict['StrandBias']\n",
    "    \n",
    "    #print 'RefAllele=',RefAllele,' NonRefAllele=',NonRefAllele,' BaseQual=',BaseQual,' TumourCoverage=',TumourCoverage\n",
    "    #print 'NormalCoverage=',NormalCoverage,' MapQual=',MapQual,' ReadPosition=',ReadPosition,' Trinucleotide=',Trinucleotide\n",
    "    #print 'HomopolymerRate=',HomopolymerRate,' GCcontent=',GCcontent,' GenomicLocation=',GenomicLocation,' DistanceSNP=',DistanceSNP\n",
    "    #print 'StrandBias=',StrandBias\n",
    "    CPCG0183_Dict[pos] = RefAllele+NonRefAllele+BaseQual+TumourCoverage+NormalCoverage+MapQual+ReadPosition+Trinucleotide+ \\\n",
    "                         HomopolymerRate+GCcontent+GenomicLocation+DistanceSNP+StrandBias"
   ]
  },
  {
   "cell_type": "code",
   "execution_count": 52,
   "metadata": {
    "collapsed": true
   },
   "outputs": [],
   "source": [
    "#Sorting dictionary\n",
    "CPCG0183_Dict1 = [(k,v) for v,k in sorted([(v,k) for k,v in CPCG0183_Dict.items()],reverse=True)]"
   ]
  },
  {
   "cell_type": "code",
   "execution_count": 53,
   "metadata": {
    "collapsed": true
   },
   "outputs": [],
   "source": [
    "CPCG0183_Dict_Frame = pd.DataFrame(CPCG0183_Dict1, columns=['POS', 'Value'])"
   ]
  },
  {
   "cell_type": "code",
   "execution_count": 54,
   "metadata": {
    "collapsed": true
   },
   "outputs": [],
   "source": [
    "CPCG0183_Dict_Frame.to_csv(\"CPCG0183_Dict_Frame.csv\")"
   ]
  },
  {
   "cell_type": "code",
   "execution_count": 27,
   "metadata": {
    "collapsed": true
   },
   "outputs": [],
   "source": [
    "CPCG0183_Dict_Frame = pd.read_csv(\"CPCG0183_Dict_Frame.csv\")"
   ]
  },
  {
   "cell_type": "code",
   "execution_count": 28,
   "metadata": {
    "collapsed": false
   },
   "outputs": [],
   "source": [
    "GenomicFeatures_CPCG0183_1 = pd.concat([CPCG0183.iloc[:,0:16], CPCG0183_Y_Val_1],axis=1)"
   ]
  },
  {
   "cell_type": "code",
   "execution_count": 34,
   "metadata": {
    "collapsed": false
   },
   "outputs": [
    {
     "name": "stdout",
     "output_type": "stream",
     "text": [
      "[ 27732058 121484599    158331    213981    329418    372541    456182\n",
      "    616357    873789    875303    932444   1260170   1260862   1317293\n",
      "   1317287   1354755   1370771   1413967  42385695   1578960]\n"
     ]
    }
   ],
   "source": [
    "rows = CPCG0183_Dict_Frame['POS'][:20].values\n",
    "print rows\n",
    "GenomicFeatures_CPCG0183_Top20 = GenomicFeatures_CPCG0183_1.loc[GenomicFeatures_CPCG0183_1['POS_x'].isin(rows)]"
   ]
  },
  {
   "cell_type": "code",
   "execution_count": 36,
   "metadata": {
    "collapsed": false
   },
   "outputs": [
    {
     "data": {
      "text/html": [
       "<div style=\"max-height:1000px;max-width:1500px;overflow:auto;\">\n",
       "<table border=\"1\" class=\"dataframe\">\n",
       "  <thead>\n",
       "    <tr style=\"text-align: right;\">\n",
       "      <th></th>\n",
       "      <th>CHROM</th>\n",
       "      <th>POS_x</th>\n",
       "      <th>RefAllele</th>\n",
       "      <th>NonRefAllele</th>\n",
       "      <th>BaseQual</th>\n",
       "      <th>TumourCoverage</th>\n",
       "      <th>NormalCoverage</th>\n",
       "      <th>MapQual</th>\n",
       "      <th>ReadPosition</th>\n",
       "      <th>Trinucleotide</th>\n",
       "      <th>HomopolymerRate</th>\n",
       "      <th>GCcontent</th>\n",
       "      <th>GenomicLocation</th>\n",
       "      <th>DistanceSNP</th>\n",
       "      <th>StrandBias</th>\n",
       "      <th>POS_y</th>\n",
       "      <th>Label</th>\n",
       "    </tr>\n",
       "  </thead>\n",
       "  <tbody>\n",
       "    <tr>\n",
       "      <th>5461  </th>\n",
       "      <td>  chr1</td>\n",
       "      <td> 121484599</td>\n",
       "      <td> 4612</td>\n",
       "      <td> 3466</td>\n",
       "      <td> 210533</td>\n",
       "      <td> 279474</td>\n",
       "      <td> 228302</td>\n",
       "      <td> 29</td>\n",
       "      <td> 47.0</td>\n",
       "      <td> TCT</td>\n",
       "      <td> 2.597222</td>\n",
       "      <td> 0.393035</td>\n",
       "      <td>        NaN</td>\n",
       "      <td>    8363</td>\n",
       "      <td> 0.544301</td>\n",
       "      <td> 121484598</td>\n",
       "      <td> 0</td>\n",
       "    </tr>\n",
       "    <tr>\n",
       "      <th>14977 </th>\n",
       "      <td> chr10</td>\n",
       "      <td>  42385695</td>\n",
       "      <td> 7713</td>\n",
       "      <td>  342</td>\n",
       "      <td> 247425</td>\n",
       "      <td>  66279</td>\n",
       "      <td>  87595</td>\n",
       "      <td> 15</td>\n",
       "      <td> 75.0</td>\n",
       "      <td> TCA</td>\n",
       "      <td> 2.359155</td>\n",
       "      <td> 0.343284</td>\n",
       "      <td>        NaN</td>\n",
       "      <td>   11642</td>\n",
       "      <td> 0.362106</td>\n",
       "      <td>  42385694</td>\n",
       "      <td> 0</td>\n",
       "    </tr>\n",
       "    <tr>\n",
       "      <th>56831 </th>\n",
       "      <td> chr19</td>\n",
       "      <td>  27732058</td>\n",
       "      <td> 5898</td>\n",
       "      <td> 2175</td>\n",
       "      <td> 243874</td>\n",
       "      <td> 369873</td>\n",
       "      <td> 323774</td>\n",
       "      <td> 17</td>\n",
       "      <td> 53.0</td>\n",
       "      <td> ATA</td>\n",
       "      <td> 2.261745</td>\n",
       "      <td> 0.383085</td>\n",
       "      <td>        NaN</td>\n",
       "      <td>    8652</td>\n",
       "      <td> 0.546469</td>\n",
       "      <td>  27732057</td>\n",
       "      <td> 0</td>\n",
       "    </tr>\n",
       "    <tr>\n",
       "      <th>134414</th>\n",
       "      <td>  chrX</td>\n",
       "      <td>    158331</td>\n",
       "      <td>   48</td>\n",
       "      <td>    2</td>\n",
       "      <td>   1534</td>\n",
       "      <td>     60</td>\n",
       "      <td>     23</td>\n",
       "      <td>  0</td>\n",
       "      <td> 69.5</td>\n",
       "      <td> ACC</td>\n",
       "      <td> 1.684848</td>\n",
       "      <td> 0.482587</td>\n",
       "      <td> intergenic</td>\n",
       "      <td> 2541224</td>\n",
       "      <td> 0.500000</td>\n",
       "      <td>    158330</td>\n",
       "      <td> 0</td>\n",
       "    </tr>\n",
       "    <tr>\n",
       "      <th>134417</th>\n",
       "      <td>  chrX</td>\n",
       "      <td>    213981</td>\n",
       "      <td>    6</td>\n",
       "      <td>    2</td>\n",
       "      <td>    243</td>\n",
       "      <td>     10</td>\n",
       "      <td>      8</td>\n",
       "      <td>  0</td>\n",
       "      <td> 55.0</td>\n",
       "      <td> ATC</td>\n",
       "      <td> 2.548611</td>\n",
       "      <td> 0.472637</td>\n",
       "      <td>   intronic</td>\n",
       "      <td> 2485574</td>\n",
       "      <td> 0.500000</td>\n",
       "      <td>    213980</td>\n",
       "      <td> 0</td>\n",
       "    </tr>\n",
       "    <tr>\n",
       "      <th>134421</th>\n",
       "      <td>  chrX</td>\n",
       "      <td>    329418</td>\n",
       "      <td>    3</td>\n",
       "      <td>    3</td>\n",
       "      <td>    181</td>\n",
       "      <td>      8</td>\n",
       "      <td>      7</td>\n",
       "      <td>  0</td>\n",
       "      <td> 48.0</td>\n",
       "      <td> CCG</td>\n",
       "      <td> 5.000000</td>\n",
       "      <td> 0.776119</td>\n",
       "      <td>   intronic</td>\n",
       "      <td> 2370137</td>\n",
       "      <td> 0.750000</td>\n",
       "      <td>    329417</td>\n",
       "      <td> 0</td>\n",
       "    </tr>\n",
       "    <tr>\n",
       "      <th>134425</th>\n",
       "      <td>  chrX</td>\n",
       "      <td>    372541</td>\n",
       "      <td>   18</td>\n",
       "      <td>    0</td>\n",
       "      <td>    390</td>\n",
       "      <td>     24</td>\n",
       "      <td>     12</td>\n",
       "      <td>  0</td>\n",
       "      <td> 28.0</td>\n",
       "      <td> GCG</td>\n",
       "      <td> 2.634483</td>\n",
       "      <td> 0.577114</td>\n",
       "      <td> intergenic</td>\n",
       "      <td> 2327014</td>\n",
       "      <td> 0.541667</td>\n",
       "      <td>    372540</td>\n",
       "      <td> 0</td>\n",
       "    </tr>\n",
       "    <tr>\n",
       "      <th>134428</th>\n",
       "      <td>  chrX</td>\n",
       "      <td>    456182</td>\n",
       "      <td>   42</td>\n",
       "      <td>    1</td>\n",
       "      <td>   1075</td>\n",
       "      <td>     44</td>\n",
       "      <td>     26</td>\n",
       "      <td>  0</td>\n",
       "      <td> 58.0</td>\n",
       "      <td> TTG</td>\n",
       "      <td> 2.881119</td>\n",
       "      <td> 0.432836</td>\n",
       "      <td> intergenic</td>\n",
       "      <td> 2243373</td>\n",
       "      <td> 0.659091</td>\n",
       "      <td>    456181</td>\n",
       "      <td> 0</td>\n",
       "    </tr>\n",
       "    <tr>\n",
       "      <th>134433</th>\n",
       "      <td>  chrX</td>\n",
       "      <td>    616357</td>\n",
       "      <td>    4</td>\n",
       "      <td>    1</td>\n",
       "      <td>      0</td>\n",
       "      <td>      7</td>\n",
       "      <td>      1</td>\n",
       "      <td>  0</td>\n",
       "      <td> 67.0</td>\n",
       "      <td> ATA</td>\n",
       "      <td> 1.951220</td>\n",
       "      <td> 0.378109</td>\n",
       "      <td>   intronic</td>\n",
       "      <td> 2083198</td>\n",
       "      <td> 0.285714</td>\n",
       "      <td>    616356</td>\n",
       "      <td> 0</td>\n",
       "    </tr>\n",
       "    <tr>\n",
       "      <th>134440</th>\n",
       "      <td>  chrX</td>\n",
       "      <td>    873789</td>\n",
       "      <td>   42</td>\n",
       "      <td>    2</td>\n",
       "      <td>   1301</td>\n",
       "      <td>     54</td>\n",
       "      <td>     31</td>\n",
       "      <td>  0</td>\n",
       "      <td> 66.0</td>\n",
       "      <td> ATT</td>\n",
       "      <td> 2.775362</td>\n",
       "      <td> 0.393035</td>\n",
       "      <td> intergenic</td>\n",
       "      <td> 1825766</td>\n",
       "      <td> 0.462963</td>\n",
       "      <td>    873788</td>\n",
       "      <td> 0</td>\n",
       "    </tr>\n",
       "  </tbody>\n",
       "</table>\n",
       "<p>10 rows × 17 columns</p>\n",
       "</div>"
      ],
      "text/plain": [
       "        CHROM      POS_x  RefAllele  NonRefAllele  BaseQual  TumourCoverage  \\\n",
       "5461     chr1  121484599       4612          3466    210533          279474   \n",
       "14977   chr10   42385695       7713           342    247425           66279   \n",
       "56831   chr19   27732058       5898          2175    243874          369873   \n",
       "134414   chrX     158331         48             2      1534              60   \n",
       "134417   chrX     213981          6             2       243              10   \n",
       "134421   chrX     329418          3             3       181               8   \n",
       "134425   chrX     372541         18             0       390              24   \n",
       "134428   chrX     456182         42             1      1075              44   \n",
       "134433   chrX     616357          4             1         0               7   \n",
       "134440   chrX     873789         42             2      1301              54   \n",
       "\n",
       "        NormalCoverage  MapQual  ReadPosition Trinucleotide  HomopolymerRate  \\\n",
       "5461            228302       29          47.0           TCT         2.597222   \n",
       "14977            87595       15          75.0           TCA         2.359155   \n",
       "56831           323774       17          53.0           ATA         2.261745   \n",
       "134414              23        0          69.5           ACC         1.684848   \n",
       "134417               8        0          55.0           ATC         2.548611   \n",
       "134421               7        0          48.0           CCG         5.000000   \n",
       "134425              12        0          28.0           GCG         2.634483   \n",
       "134428              26        0          58.0           TTG         2.881119   \n",
       "134433               1        0          67.0           ATA         1.951220   \n",
       "134440              31        0          66.0           ATT         2.775362   \n",
       "\n",
       "        GCcontent GenomicLocation  DistanceSNP  StrandBias      POS_y  Label  \n",
       "5461     0.393035             NaN         8363    0.544301  121484598      0  \n",
       "14977    0.343284             NaN        11642    0.362106   42385694      0  \n",
       "56831    0.383085             NaN         8652    0.546469   27732057      0  \n",
       "134414   0.482587      intergenic      2541224    0.500000     158330      0  \n",
       "134417   0.472637        intronic      2485574    0.500000     213980      0  \n",
       "134421   0.776119        intronic      2370137    0.750000     329417      0  \n",
       "134425   0.577114      intergenic      2327014    0.541667     372540      0  \n",
       "134428   0.432836      intergenic      2243373    0.659091     456181      0  \n",
       "134433   0.378109        intronic      2083198    0.285714     616356      0  \n",
       "134440   0.393035      intergenic      1825766    0.462963     873788      0  \n",
       "\n",
       "[10 rows x 17 columns]"
      ]
     },
     "execution_count": 36,
     "metadata": {},
     "output_type": "execute_result"
    }
   ],
   "source": [
    "GenomicFeatures_CPCG0183_Top20[:10]"
   ]
  },
  {
   "cell_type": "code",
   "execution_count": null,
   "metadata": {
    "collapsed": false
   },
   "outputs": [],
   "source": [
    "\n",
    "GenomicFeatures_CPCG0183_Top20.to_csv('GenomicFeatures_CPCG0183_Top20.csv')"
   ]
  },
  {
   "cell_type": "code",
   "execution_count": null,
   "metadata": {
    "collapsed": true
   },
   "outputs": [],
   "source": []
  },
  {
   "cell_type": "code",
   "execution_count": null,
   "metadata": {
    "collapsed": true
   },
   "outputs": [],
   "source": []
  }
 ],
 "metadata": {
  "kernelspec": {
   "display_name": "Python 2",
   "language": "python",
   "name": "python2"
  },
  "language_info": {
   "codemirror_mode": {
    "name": "ipython",
    "version": 2
   },
   "file_extension": ".py",
   "mimetype": "text/x-python",
   "name": "python",
   "nbconvert_exporter": "python",
   "pygments_lexer": "ipython2",
   "version": "2.7.6"
  }
 },
 "nbformat": 4,
 "nbformat_minor": 0
}
