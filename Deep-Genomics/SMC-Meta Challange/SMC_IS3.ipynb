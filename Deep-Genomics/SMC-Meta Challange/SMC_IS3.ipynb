{
 "cells": [
  {
   "cell_type": "code",
   "execution_count": 1,
   "metadata": {
    "collapsed": false
   },
   "outputs": [
    {
     "name": "stderr",
     "output_type": "stream",
     "text": [
      "WARNING (theano.sandbox.cuda): CUDA is installed, but device gpu is not available  (error: Unable to get the number of gpus available: no CUDA-capable device is detected)\n",
      "WARNING:theano.sandbox.cuda:CUDA is installed, but device gpu is not available  (error: Unable to get the number of gpus available: no CUDA-capable device is detected)\n",
      "/usr/local/lib/python2.7/dist-packages/theano/tensor/signal/downsample.py:6: UserWarning: downsample module has been moved to the theano.tensor.signal.pool module.\n",
      "  \"downsample module has been moved to the theano.tensor.signal.pool module.\")\n",
      "Using Theano backend.\n"
     ]
    }
   ],
   "source": [
    "import numpy as np\n",
    "import pandas as pd\n",
    "from collections import Counter\n",
    "import math\n",
    "\n",
    "from sklearn.neighbors import KNeighborsClassifier\n",
    "from sklearn.linear_model import LogisticRegression\n",
    "from sklearn.ensemble import RandomForestClassifier\n",
    "from sklearn.cross_validation import cross_val_score\n",
    "from sklearn import metrics\n",
    "from sklearn.cross_validation import train_test_split\n",
    "from sklearn.metrics import confusion_matrix, roc_curve, auc\n",
    "from sklearn.grid_search import GridSearchCV\n",
    "from sklearn import svm\n",
    "from sklearn.decomposition import RandomizedPCA\n",
    "from sklearn.metrics import classification_report\n",
    "from sklearn import preprocessing\n",
    "import matplotlib.pyplot as plt\n",
    "import scipy.optimize as opt\n",
    "import glob\n",
    "import os\n",
    "import sys\n",
    "import pickle\n",
    "import time\n",
    "import timeit\n",
    "\n",
    "from sklearn.decomposition import RandomizedPCA\n",
    "\n",
    "import theano\n",
    "import theano.tensor as T\n",
    "import lasagne\n",
    "\n",
    "#np.random.seed(1337)  # for reproducibility\n",
    "from keras.datasets import mnist\n",
    "from keras.models import Sequential\n",
    "from keras.layers.core import Dense, Dropout, Activation, Flatten, Layer, Reshape, AutoEncoder, Merge\n",
    "from keras.layers.convolutional import Convolution2D,MaxPooling2D,Convolution1D,MaxPooling1D,UpSampling2D, ZeroPadding2D\n",
    "from keras.optimizers import SGD, Adam, RMSprop, Adadelta\n",
    "from keras.layers.normalization import BatchNormalization\n",
    "from keras.utils import np_utils\n",
    "import keras.utils.visualize_util as vutil\n",
    "from keras.layers.recurrent import LSTM, GRU, SimpleRNN\n",
    "from keras.regularizers import l1, l2, l1l2, activity_l2, activity_l1\n",
    "import keras.layers.containers as containers\n",
    "from keras.layers.noise import GaussianNoise\n",
    "from keras.regularizers import ActivityRegularizer\n",
    "from keras import backend as K\n",
    "import keras.utils.visualize_util as vutil\n",
    "from keras.models import model_from_json\n",
    "\n",
    "import seaborn as sns\n",
    "\n",
    "%matplotlib inline\n",
    "\n",
    "from IPython.display import SVG\n",
    "\n",
    "import h5py\n",
    "\n",
    "np.set_printoptions(suppress=True)  #Supress exponent of the number 2e-2 == 0.02\n",
    "\n",
    "%matplotlib inline"
   ]
  },
  {
   "cell_type": "code",
   "execution_count": 2,
   "metadata": {
    "collapsed": true
   },
   "outputs": [],
   "source": [
    "#IS3"
   ]
  },
  {
   "cell_type": "code",
   "execution_count": 3,
   "metadata": {
    "collapsed": false
   },
   "outputs": [
    {
     "name": "stderr",
     "output_type": "stream",
     "text": [
      "/usr/lib/python2.7/dist-packages/pandas/io/parsers.py:1070: DtypeWarning: Columns (0) have mixed types. Specify dtype option on import or set low_memory=False.\n",
      "  data = self._reader.read(nrows)\n"
     ]
    }
   ],
   "source": [
    "#Read the data\n",
    "\n",
    "GenomicFeatures_IS3 = pd.read_csv(open('data/IS3/GenomicFeatures_IS3.txt','r'),sep='\\t')\n",
    "SNVCalls_IS3    = pd.read_csv(open('data/IS3/SNVCalls_IS3.txt','r'),sep='\\t') "
   ]
  },
  {
   "cell_type": "code",
   "execution_count": 4,
   "metadata": {
    "collapsed": false
   },
   "outputs": [
    {
     "name": "stdout",
     "output_type": "stream",
     "text": [
      "(22885, 16)\n",
      "(22885, 70)\n"
     ]
    }
   ],
   "source": [
    "print GenomicFeatures_IS3.shape\n",
    "print SNVCalls_IS3.shape"
   ]
  },
  {
   "cell_type": "code",
   "execution_count": 5,
   "metadata": {
    "collapsed": false
   },
   "outputs": [
    {
     "data": {
      "text/plain": [
       "CHROM                 0\n",
       "POS                   0\n",
       "END                   0\n",
       "RefAllele             0\n",
       "NonRefAllele          0\n",
       "BaseQual              0\n",
       "TumourCoverage        0\n",
       "NormalCoverage        0\n",
       "MapQual               0\n",
       "ReadPosition          1\n",
       "Trinucleotide         0\n",
       "HomopolymerRate       0\n",
       "GCcontent             0\n",
       "GenomicLocation    1601\n",
       "Distance              0\n",
       "StrandBias            1\n",
       "dtype: int64"
      ]
     },
     "execution_count": 5,
     "metadata": {},
     "output_type": "execute_result"
    }
   ],
   "source": [
    "np.sum(GenomicFeatures_IS3.isnull())"
   ]
  },
  {
   "cell_type": "code",
   "execution_count": 8,
   "metadata": {
    "collapsed": false
   },
   "outputs": [],
   "source": [
    "GenomicFeatures_IS3['ReadPosition'].fillna(0, inplace=True)  #Replace na with 0\n",
    "GenomicFeatures_IS3['StrandBias'].fillna(0, inplace=True)\n",
    "\n",
    "#print np.sum(GenomicFeatures_IS3.isnull())"
   ]
  },
  {
   "cell_type": "code",
   "execution_count": 9,
   "metadata": {
    "collapsed": false
   },
   "outputs": [
    {
     "data": {
      "text/plain": [
       "array(['UTR3', 'UTR5', 'downstream', 'exonic', 'exonic;splicing',\n",
       "       'intergenic', 'intronic', 'nan', 'ncRNA_UTR3', 'ncRNA_exonic',\n",
       "       'ncRNA_intronic', 'splicing', 'upstream', 'upstream;downstream'], \n",
       "      dtype='|S19')"
      ]
     },
     "execution_count": 9,
     "metadata": {},
     "output_type": "execute_result"
    }
   ],
   "source": [
    "np.unique(GenomicFeatures_IS3['GenomicLocation'])"
   ]
  },
  {
   "cell_type": "code",
   "execution_count": 10,
   "metadata": {
    "collapsed": false
   },
   "outputs": [
    {
     "data": {
      "text/html": [
       "<div style=\"max-height:1000px;max-width:1500px;overflow:auto;\">\n",
       "<table border=\"1\" class=\"dataframe\">\n",
       "  <thead>\n",
       "    <tr style=\"text-align: right;\">\n",
       "      <th></th>\n",
       "      <th>CHROM</th>\n",
       "      <th>POS</th>\n",
       "      <th>END</th>\n",
       "      <th>RefAllele</th>\n",
       "      <th>NonRefAllele</th>\n",
       "      <th>BaseQual</th>\n",
       "      <th>TumourCoverage</th>\n",
       "      <th>NormalCoverage</th>\n",
       "      <th>MapQual</th>\n",
       "      <th>ReadPosition</th>\n",
       "      <th>Trinucleotide</th>\n",
       "      <th>HomopolymerRate</th>\n",
       "      <th>GCcontent</th>\n",
       "      <th>GenomicLocation</th>\n",
       "      <th>Distance</th>\n",
       "      <th>StrandBias</th>\n",
       "    </tr>\n",
       "  </thead>\n",
       "  <tbody>\n",
       "    <tr>\n",
       "      <th>0</th>\n",
       "      <td> 1</td>\n",
       "      <td>  17537</td>\n",
       "      <td>  17538</td>\n",
       "      <td> 110</td>\n",
       "      <td> 20</td>\n",
       "      <td> 4254</td>\n",
       "      <td> 148</td>\n",
       "      <td> 132</td>\n",
       "      <td> 37</td>\n",
       "      <td> 54.0</td>\n",
       "      <td> GCC</td>\n",
       "      <td> 2.707143</td>\n",
       "      <td> 0.673267</td>\n",
       "      <td> ncRNA_intronic</td>\n",
       "      <td> 37176</td>\n",
       "      <td> 0.432432</td>\n",
       "    </tr>\n",
       "    <tr>\n",
       "      <th>1</th>\n",
       "      <td> 1</td>\n",
       "      <td>  27195</td>\n",
       "      <td>  27196</td>\n",
       "      <td>  26</td>\n",
       "      <td>  6</td>\n",
       "      <td> 1034</td>\n",
       "      <td>  43</td>\n",
       "      <td>  43</td>\n",
       "      <td>  0</td>\n",
       "      <td> 73.0</td>\n",
       "      <td> TCT</td>\n",
       "      <td> 2.940741</td>\n",
       "      <td> 0.420792</td>\n",
       "      <td> ncRNA_intronic</td>\n",
       "      <td> 27518</td>\n",
       "      <td> 0.255814</td>\n",
       "    </tr>\n",
       "    <tr>\n",
       "      <th>2</th>\n",
       "      <td> 1</td>\n",
       "      <td>  31158</td>\n",
       "      <td>  31159</td>\n",
       "      <td>  44</td>\n",
       "      <td>  3</td>\n",
       "      <td> 1484</td>\n",
       "      <td>  67</td>\n",
       "      <td>  50</td>\n",
       "      <td>  0</td>\n",
       "      <td> 63.0</td>\n",
       "      <td> TCC</td>\n",
       "      <td> 2.683453</td>\n",
       "      <td> 0.445545</td>\n",
       "      <td>     intergenic</td>\n",
       "      <td> 23555</td>\n",
       "      <td> 0.641791</td>\n",
       "    </tr>\n",
       "    <tr>\n",
       "      <th>3</th>\n",
       "      <td> 1</td>\n",
       "      <td> 101685</td>\n",
       "      <td> 101686</td>\n",
       "      <td>  42</td>\n",
       "      <td> 17</td>\n",
       "      <td> 1234</td>\n",
       "      <td>  65</td>\n",
       "      <td>  49</td>\n",
       "      <td> 13</td>\n",
       "      <td> 19.0</td>\n",
       "      <td> TTT</td>\n",
       "      <td> 4.142857</td>\n",
       "      <td> 0.371287</td>\n",
       "      <td>     intergenic</td>\n",
       "      <td> 15566</td>\n",
       "      <td> 0.276923</td>\n",
       "    </tr>\n",
       "    <tr>\n",
       "      <th>4</th>\n",
       "      <td> 1</td>\n",
       "      <td> 104234</td>\n",
       "      <td> 104235</td>\n",
       "      <td>  62</td>\n",
       "      <td>  4</td>\n",
       "      <td> 2137</td>\n",
       "      <td>  72</td>\n",
       "      <td>  66</td>\n",
       "      <td>  0</td>\n",
       "      <td> 38.5</td>\n",
       "      <td> TCA</td>\n",
       "      <td> 2.459459</td>\n",
       "      <td> 0.410891</td>\n",
       "      <td>     intergenic</td>\n",
       "      <td> 14382</td>\n",
       "      <td> 0.555556</td>\n",
       "    </tr>\n",
       "  </tbody>\n",
       "</table>\n",
       "<p>5 rows × 16 columns</p>\n",
       "</div>"
      ],
      "text/plain": [
       "  CHROM     POS     END  RefAllele  NonRefAllele  BaseQual  TumourCoverage  \\\n",
       "0     1   17537   17538        110            20      4254             148   \n",
       "1     1   27195   27196         26             6      1034              43   \n",
       "2     1   31158   31159         44             3      1484              67   \n",
       "3     1  101685  101686         42            17      1234              65   \n",
       "4     1  104234  104235         62             4      2137              72   \n",
       "\n",
       "   NormalCoverage  MapQual  ReadPosition Trinucleotide  HomopolymerRate  \\\n",
       "0             132       37          54.0           GCC         2.707143   \n",
       "1              43        0          73.0           TCT         2.940741   \n",
       "2              50        0          63.0           TCC         2.683453   \n",
       "3              49       13          19.0           TTT         4.142857   \n",
       "4              66        0          38.5           TCA         2.459459   \n",
       "\n",
       "   GCcontent GenomicLocation  Distance  StrandBias  \n",
       "0   0.673267  ncRNA_intronic     37176    0.432432  \n",
       "1   0.420792  ncRNA_intronic     27518    0.255814  \n",
       "2   0.445545      intergenic     23555    0.641791  \n",
       "3   0.371287      intergenic     15566    0.276923  \n",
       "4   0.410891      intergenic     14382    0.555556  \n",
       "\n",
       "[5 rows x 16 columns]"
      ]
     },
     "execution_count": 10,
     "metadata": {},
     "output_type": "execute_result"
    }
   ],
   "source": [
    "GenomicFeatures_IS3.head()"
   ]
  },
  {
   "cell_type": "code",
   "execution_count": 11,
   "metadata": {
    "collapsed": false
   },
   "outputs": [
    {
     "data": {
      "text/html": [
       "<div style=\"max-height:1000px;max-width:1500px;overflow:auto;\">\n",
       "<table border=\"1\" class=\"dataframe\">\n",
       "  <thead>\n",
       "    <tr style=\"text-align: right;\">\n",
       "      <th></th>\n",
       "      <th>CHROM</th>\n",
       "      <th>POS</th>\n",
       "      <th>END</th>\n",
       "      <th>X2405012</th>\n",
       "      <th>X2410591</th>\n",
       "      <th>X2420789</th>\n",
       "      <th>X2420793</th>\n",
       "      <th>X2425329</th>\n",
       "      <th>X2426321</th>\n",
       "      <th>X2426377</th>\n",
       "      <th>X2427156</th>\n",
       "      <th>X2427522</th>\n",
       "      <th>X2430887</th>\n",
       "      <th>X2430956</th>\n",
       "      <th>X2431183</th>\n",
       "      <th>X2431851</th>\n",
       "      <th>X2436976</th>\n",
       "      <th>X2445117</th>\n",
       "      <th>X2445210</th>\n",
       "      <th>X2445581</th>\n",
       "      <th></th>\n",
       "    </tr>\n",
       "  </thead>\n",
       "  <tbody>\n",
       "    <tr>\n",
       "      <th>0</th>\n",
       "      <td> 1</td>\n",
       "      <td>  17537</td>\n",
       "      <td>  17538</td>\n",
       "      <td> 0</td>\n",
       "      <td> 0</td>\n",
       "      <td> 0</td>\n",
       "      <td> 0</td>\n",
       "      <td> 0</td>\n",
       "      <td> 0</td>\n",
       "      <td> 0</td>\n",
       "      <td> 0</td>\n",
       "      <td> 0</td>\n",
       "      <td> 0</td>\n",
       "      <td> 0</td>\n",
       "      <td> 0</td>\n",
       "      <td> 0</td>\n",
       "      <td> 0</td>\n",
       "      <td> 0</td>\n",
       "      <td> 0</td>\n",
       "      <td> 0</td>\n",
       "      <td>...</td>\n",
       "    </tr>\n",
       "    <tr>\n",
       "      <th>1</th>\n",
       "      <td> 1</td>\n",
       "      <td>  27195</td>\n",
       "      <td>  27196</td>\n",
       "      <td> 0</td>\n",
       "      <td> 0</td>\n",
       "      <td> 0</td>\n",
       "      <td> 0</td>\n",
       "      <td> 0</td>\n",
       "      <td> 0</td>\n",
       "      <td> 0</td>\n",
       "      <td> 0</td>\n",
       "      <td> 0</td>\n",
       "      <td> 0</td>\n",
       "      <td> 0</td>\n",
       "      <td> 0</td>\n",
       "      <td> 0</td>\n",
       "      <td> 0</td>\n",
       "      <td> 0</td>\n",
       "      <td> 0</td>\n",
       "      <td> 0</td>\n",
       "      <td>...</td>\n",
       "    </tr>\n",
       "    <tr>\n",
       "      <th>2</th>\n",
       "      <td> 1</td>\n",
       "      <td>  31158</td>\n",
       "      <td>  31159</td>\n",
       "      <td> 0</td>\n",
       "      <td> 0</td>\n",
       "      <td> 0</td>\n",
       "      <td> 0</td>\n",
       "      <td> 0</td>\n",
       "      <td> 1</td>\n",
       "      <td> 0</td>\n",
       "      <td> 0</td>\n",
       "      <td> 0</td>\n",
       "      <td> 0</td>\n",
       "      <td> 0</td>\n",
       "      <td> 0</td>\n",
       "      <td> 0</td>\n",
       "      <td> 0</td>\n",
       "      <td> 0</td>\n",
       "      <td> 0</td>\n",
       "      <td> 0</td>\n",
       "      <td>...</td>\n",
       "    </tr>\n",
       "    <tr>\n",
       "      <th>3</th>\n",
       "      <td> 1</td>\n",
       "      <td> 101685</td>\n",
       "      <td> 101686</td>\n",
       "      <td> 0</td>\n",
       "      <td> 0</td>\n",
       "      <td> 0</td>\n",
       "      <td> 0</td>\n",
       "      <td> 0</td>\n",
       "      <td> 0</td>\n",
       "      <td> 0</td>\n",
       "      <td> 0</td>\n",
       "      <td> 0</td>\n",
       "      <td> 0</td>\n",
       "      <td> 0</td>\n",
       "      <td> 0</td>\n",
       "      <td> 0</td>\n",
       "      <td> 0</td>\n",
       "      <td> 0</td>\n",
       "      <td> 0</td>\n",
       "      <td> 0</td>\n",
       "      <td>...</td>\n",
       "    </tr>\n",
       "    <tr>\n",
       "      <th>4</th>\n",
       "      <td> 1</td>\n",
       "      <td> 104234</td>\n",
       "      <td> 104235</td>\n",
       "      <td> 0</td>\n",
       "      <td> 0</td>\n",
       "      <td> 0</td>\n",
       "      <td> 0</td>\n",
       "      <td> 0</td>\n",
       "      <td> 1</td>\n",
       "      <td> 0</td>\n",
       "      <td> 0</td>\n",
       "      <td> 0</td>\n",
       "      <td> 0</td>\n",
       "      <td> 0</td>\n",
       "      <td> 0</td>\n",
       "      <td> 0</td>\n",
       "      <td> 0</td>\n",
       "      <td> 0</td>\n",
       "      <td> 0</td>\n",
       "      <td> 0</td>\n",
       "      <td>...</td>\n",
       "    </tr>\n",
       "  </tbody>\n",
       "</table>\n",
       "<p>5 rows × 70 columns</p>\n",
       "</div>"
      ],
      "text/plain": [
       "  CHROM     POS     END  X2405012  X2410591  X2420789  X2420793  X2425329  \\\n",
       "0     1   17537   17538         0         0         0         0         0   \n",
       "1     1   27195   27196         0         0         0         0         0   \n",
       "2     1   31158   31159         0         0         0         0         0   \n",
       "3     1  101685  101686         0         0         0         0         0   \n",
       "4     1  104234  104235         0         0         0         0         0   \n",
       "\n",
       "   X2426321  X2426377  X2427156  X2427522  X2430887  X2430956  X2431183  \\\n",
       "0         0         0         0         0         0         0         0   \n",
       "1         0         0         0         0         0         0         0   \n",
       "2         1         0         0         0         0         0         0   \n",
       "3         0         0         0         0         0         0         0   \n",
       "4         1         0         0         0         0         0         0   \n",
       "\n",
       "   X2431851  X2436976  X2445117  X2445210  X2445581      \n",
       "0         0         0         0         0         0 ...  \n",
       "1         0         0         0         0         0 ...  \n",
       "2         0         0         0         0         0 ...  \n",
       "3         0         0         0         0         0 ...  \n",
       "4         0         0         0         0         0 ...  \n",
       "\n",
       "[5 rows x 70 columns]"
      ]
     },
     "execution_count": 11,
     "metadata": {},
     "output_type": "execute_result"
    }
   ],
   "source": [
    "SNVCalls_IS3.head()"
   ]
  },
  {
   "cell_type": "code",
   "execution_count": 12,
   "metadata": {
    "collapsed": false
   },
   "outputs": [
    {
     "data": {
      "text/plain": [
       "array(['ACA', 'ACC', 'ACG', 'ACT', 'ATA', 'ATC', 'ATG', 'ATT', 'CCA',\n",
       "       'CCC', 'CCG', 'CCT', 'CTA', 'CTC', 'CTG', 'CTT', 'GCA', 'GCC',\n",
       "       'GCG', 'GCT', 'GTA', 'GTC', 'GTG', 'GTT', 'TCA', 'TCC', 'TCG',\n",
       "       'TCT', 'TTA', 'TTC', 'TTG', 'TTT'], \n",
       "      dtype='|S3')"
      ]
     },
     "execution_count": 12,
     "metadata": {},
     "output_type": "execute_result"
    }
   ],
   "source": [
    "np.unique(GenomicFeatures_IS3['Trinucleotide'])"
   ]
  },
  {
   "cell_type": "code",
   "execution_count": 13,
   "metadata": {
    "collapsed": true
   },
   "outputs": [],
   "source": [
    "IS3 = pd.merge(GenomicFeatures_IS3, SNVCalls_IS3,left_on=['CHROM', 'POS'], right_on=['CHROM','POS'])\n"
   ]
  },
  {
   "cell_type": "code",
   "execution_count": 14,
   "metadata": {
    "collapsed": false
   },
   "outputs": [
    {
     "data": {
      "text/html": [
       "<div style=\"max-height:1000px;max-width:1500px;overflow:auto;\">\n",
       "<table border=\"1\" class=\"dataframe\">\n",
       "  <thead>\n",
       "    <tr style=\"text-align: right;\">\n",
       "      <th></th>\n",
       "      <th>CHROM</th>\n",
       "      <th>POS</th>\n",
       "      <th>END_x</th>\n",
       "      <th>RefAllele</th>\n",
       "      <th>NonRefAllele</th>\n",
       "      <th>BaseQual</th>\n",
       "      <th>TumourCoverage</th>\n",
       "      <th>NormalCoverage</th>\n",
       "      <th>MapQual</th>\n",
       "      <th>ReadPosition</th>\n",
       "      <th>Trinucleotide</th>\n",
       "      <th>HomopolymerRate</th>\n",
       "      <th>GCcontent</th>\n",
       "      <th>GenomicLocation</th>\n",
       "      <th>Distance</th>\n",
       "      <th>StrandBias</th>\n",
       "      <th>END_y</th>\n",
       "      <th>X2405012</th>\n",
       "      <th>X2410591</th>\n",
       "      <th>X2420789</th>\n",
       "      <th></th>\n",
       "    </tr>\n",
       "  </thead>\n",
       "  <tbody>\n",
       "    <tr>\n",
       "      <th>0</th>\n",
       "      <td> 5</td>\n",
       "      <td> 70741113</td>\n",
       "      <td> 70741114</td>\n",
       "      <td> 30</td>\n",
       "      <td>  6</td>\n",
       "      <td> 1173</td>\n",
       "      <td> 39</td>\n",
       "      <td> 31</td>\n",
       "      <td> 46</td>\n",
       "      <td> 58.0</td>\n",
       "      <td> GCT</td>\n",
       "      <td> 2.828358</td>\n",
       "      <td> 0.331683</td>\n",
       "      <td> intergenic</td>\n",
       "      <td> 1304</td>\n",
       "      <td> 0.641026</td>\n",
       "      <td> 70741114</td>\n",
       "      <td> 0</td>\n",
       "      <td> 0</td>\n",
       "      <td> 0</td>\n",
       "      <td>...</td>\n",
       "    </tr>\n",
       "    <tr>\n",
       "      <th>1</th>\n",
       "      <td> 5</td>\n",
       "      <td> 70830197</td>\n",
       "      <td> 70830198</td>\n",
       "      <td> 32</td>\n",
       "      <td> 15</td>\n",
       "      <td> 1367</td>\n",
       "      <td> 58</td>\n",
       "      <td> 46</td>\n",
       "      <td> 60</td>\n",
       "      <td> 47.5</td>\n",
       "      <td> CCT</td>\n",
       "      <td> 2.313333</td>\n",
       "      <td> 0.361386</td>\n",
       "      <td>   intronic</td>\n",
       "      <td>  147</td>\n",
       "      <td> 0.568966</td>\n",
       "      <td> 70830198</td>\n",
       "      <td> 1</td>\n",
       "      <td> 1</td>\n",
       "      <td> 1</td>\n",
       "      <td>...</td>\n",
       "    </tr>\n",
       "    <tr>\n",
       "      <th>2</th>\n",
       "      <td> 5</td>\n",
       "      <td> 70912022</td>\n",
       "      <td> 70912023</td>\n",
       "      <td> 27</td>\n",
       "      <td> 12</td>\n",
       "      <td> 1271</td>\n",
       "      <td> 47</td>\n",
       "      <td> 60</td>\n",
       "      <td> 60</td>\n",
       "      <td> 40.0</td>\n",
       "      <td> ATC</td>\n",
       "      <td> 2.514085</td>\n",
       "      <td> 0.470297</td>\n",
       "      <td>   intronic</td>\n",
       "      <td> 1712</td>\n",
       "      <td> 0.425532</td>\n",
       "      <td> 70912023</td>\n",
       "      <td> 1</td>\n",
       "      <td> 1</td>\n",
       "      <td> 1</td>\n",
       "      <td>...</td>\n",
       "    </tr>\n",
       "    <tr>\n",
       "      <th>3</th>\n",
       "      <td> 5</td>\n",
       "      <td> 70999477</td>\n",
       "      <td> 70999478</td>\n",
       "      <td> 28</td>\n",
       "      <td>  0</td>\n",
       "      <td>  305</td>\n",
       "      <td> 39</td>\n",
       "      <td> 46</td>\n",
       "      <td> 39</td>\n",
       "      <td> 19.0</td>\n",
       "      <td> TTT</td>\n",
       "      <td> 8.016529</td>\n",
       "      <td> 0.381188</td>\n",
       "      <td> intergenic</td>\n",
       "      <td>  484</td>\n",
       "      <td> 0.384615</td>\n",
       "      <td> 70999478</td>\n",
       "      <td> 0</td>\n",
       "      <td> 0</td>\n",
       "      <td> 0</td>\n",
       "      <td>...</td>\n",
       "    </tr>\n",
       "    <tr>\n",
       "      <th>4</th>\n",
       "      <td> 5</td>\n",
       "      <td> 71032072</td>\n",
       "      <td> 71032073</td>\n",
       "      <td> 15</td>\n",
       "      <td>  0</td>\n",
       "      <td>  484</td>\n",
       "      <td> 38</td>\n",
       "      <td> 40</td>\n",
       "      <td> 29</td>\n",
       "      <td> 79.0</td>\n",
       "      <td> TTC</td>\n",
       "      <td> 4.663551</td>\n",
       "      <td> 0.346535</td>\n",
       "      <td> intergenic</td>\n",
       "      <td>  129</td>\n",
       "      <td> 0.526316</td>\n",
       "      <td> 71032073</td>\n",
       "      <td> 0</td>\n",
       "      <td> 0</td>\n",
       "      <td> 0</td>\n",
       "      <td>...</td>\n",
       "    </tr>\n",
       "  </tbody>\n",
       "</table>\n",
       "<p>5 rows × 84 columns</p>\n",
       "</div>"
      ],
      "text/plain": [
       "  CHROM       POS     END_x  RefAllele  NonRefAllele  BaseQual  \\\n",
       "0     5  70741113  70741114         30             6      1173   \n",
       "1     5  70830197  70830198         32            15      1367   \n",
       "2     5  70912022  70912023         27            12      1271   \n",
       "3     5  70999477  70999478         28             0       305   \n",
       "4     5  71032072  71032073         15             0       484   \n",
       "\n",
       "   TumourCoverage  NormalCoverage  MapQual  ReadPosition Trinucleotide  \\\n",
       "0              39              31       46          58.0           GCT   \n",
       "1              58              46       60          47.5           CCT   \n",
       "2              47              60       60          40.0           ATC   \n",
       "3              39              46       39          19.0           TTT   \n",
       "4              38              40       29          79.0           TTC   \n",
       "\n",
       "   HomopolymerRate  GCcontent GenomicLocation  Distance  StrandBias     END_y  \\\n",
       "0         2.828358   0.331683      intergenic      1304    0.641026  70741114   \n",
       "1         2.313333   0.361386        intronic       147    0.568966  70830198   \n",
       "2         2.514085   0.470297        intronic      1712    0.425532  70912023   \n",
       "3         8.016529   0.381188      intergenic       484    0.384615  70999478   \n",
       "4         4.663551   0.346535      intergenic       129    0.526316  71032073   \n",
       "\n",
       "   X2405012  X2410591  X2420789      \n",
       "0         0         0         0 ...  \n",
       "1         1         1         1 ...  \n",
       "2         1         1         1 ...  \n",
       "3         0         0         0 ...  \n",
       "4         0         0         0 ...  \n",
       "\n",
       "[5 rows x 84 columns]"
      ]
     },
     "execution_count": 14,
     "metadata": {},
     "output_type": "execute_result"
    }
   ],
   "source": [
    "IS3.head() #182+15"
   ]
  },
  {
   "cell_type": "code",
   "execution_count": 15,
   "metadata": {
    "collapsed": true
   },
   "outputs": [],
   "source": [
    "IS3_X = IS3.iloc[:,3:16] #Exclude CHROM, POS\n",
    "IS3_Y = IS3.iloc[:,17:]  #Exclude CHROM_y, POS_y, END"
   ]
  },
  {
   "cell_type": "code",
   "execution_count": 16,
   "metadata": {
    "collapsed": false
   },
   "outputs": [
    {
     "name": "stdout",
     "output_type": "stream",
     "text": [
      "(6501, 13)\n",
      "(6501, 67)\n"
     ]
    }
   ],
   "source": [
    "print IS3_X.shape\n",
    "print IS3_Y.shape"
   ]
  },
  {
   "cell_type": "code",
   "execution_count": 17,
   "metadata": {
    "collapsed": false
   },
   "outputs": [
    {
     "data": {
      "text/html": [
       "<div style=\"max-height:1000px;max-width:1500px;overflow:auto;\">\n",
       "<table border=\"1\" class=\"dataframe\">\n",
       "  <thead>\n",
       "    <tr style=\"text-align: right;\">\n",
       "      <th></th>\n",
       "      <th>RefAllele</th>\n",
       "      <th>NonRefAllele</th>\n",
       "      <th>BaseQual</th>\n",
       "      <th>TumourCoverage</th>\n",
       "      <th>NormalCoverage</th>\n",
       "      <th>MapQual</th>\n",
       "      <th>ReadPosition</th>\n",
       "      <th>Trinucleotide</th>\n",
       "      <th>HomopolymerRate</th>\n",
       "      <th>GCcontent</th>\n",
       "      <th>GenomicLocation</th>\n",
       "      <th>Distance</th>\n",
       "      <th>StrandBias</th>\n",
       "    </tr>\n",
       "  </thead>\n",
       "  <tbody>\n",
       "    <tr>\n",
       "      <th>0</th>\n",
       "      <td> 30</td>\n",
       "      <td>  6</td>\n",
       "      <td> 1173</td>\n",
       "      <td> 39</td>\n",
       "      <td> 31</td>\n",
       "      <td> 46</td>\n",
       "      <td> 58.0</td>\n",
       "      <td> GCT</td>\n",
       "      <td> 2.828358</td>\n",
       "      <td> 0.331683</td>\n",
       "      <td> intergenic</td>\n",
       "      <td> 1304</td>\n",
       "      <td> 0.641026</td>\n",
       "    </tr>\n",
       "    <tr>\n",
       "      <th>1</th>\n",
       "      <td> 32</td>\n",
       "      <td> 15</td>\n",
       "      <td> 1367</td>\n",
       "      <td> 58</td>\n",
       "      <td> 46</td>\n",
       "      <td> 60</td>\n",
       "      <td> 47.5</td>\n",
       "      <td> CCT</td>\n",
       "      <td> 2.313333</td>\n",
       "      <td> 0.361386</td>\n",
       "      <td>   intronic</td>\n",
       "      <td>  147</td>\n",
       "      <td> 0.568966</td>\n",
       "    </tr>\n",
       "  </tbody>\n",
       "</table>\n",
       "<p>2 rows × 13 columns</p>\n",
       "</div>"
      ],
      "text/plain": [
       "   RefAllele  NonRefAllele  BaseQual  TumourCoverage  NormalCoverage  MapQual  \\\n",
       "0         30             6      1173              39              31       46   \n",
       "1         32            15      1367              58              46       60   \n",
       "\n",
       "   ReadPosition Trinucleotide  HomopolymerRate  GCcontent GenomicLocation  \\\n",
       "0          58.0           GCT         2.828358   0.331683      intergenic   \n",
       "1          47.5           CCT         2.313333   0.361386        intronic   \n",
       "\n",
       "   Distance  StrandBias  \n",
       "0      1304    0.641026  \n",
       "1       147    0.568966  \n",
       "\n",
       "[2 rows x 13 columns]"
      ]
     },
     "execution_count": 17,
     "metadata": {},
     "output_type": "execute_result"
    }
   ],
   "source": [
    "IS3_X[:2]"
   ]
  },
  {
   "cell_type": "code",
   "execution_count": 18,
   "metadata": {
    "collapsed": false
   },
   "outputs": [
    {
     "data": {
      "text/html": [
       "<div style=\"max-height:1000px;max-width:1500px;overflow:auto;\">\n",
       "<table border=\"1\" class=\"dataframe\">\n",
       "  <thead>\n",
       "    <tr style=\"text-align: right;\">\n",
       "      <th></th>\n",
       "      <th>X2405012</th>\n",
       "      <th>X2410591</th>\n",
       "      <th>X2420789</th>\n",
       "      <th>X2420793</th>\n",
       "      <th>X2425329</th>\n",
       "      <th>X2426321</th>\n",
       "      <th>X2426377</th>\n",
       "      <th>X2427156</th>\n",
       "      <th>X2427522</th>\n",
       "      <th>X2430887</th>\n",
       "      <th>X2430956</th>\n",
       "      <th>X2431183</th>\n",
       "      <th>X2431851</th>\n",
       "      <th>X2436976</th>\n",
       "      <th>X2445117</th>\n",
       "      <th>X2445210</th>\n",
       "      <th>X2445581</th>\n",
       "      <th>X2446437</th>\n",
       "      <th>X2449297</th>\n",
       "      <th>X2449602</th>\n",
       "      <th></th>\n",
       "    </tr>\n",
       "  </thead>\n",
       "  <tbody>\n",
       "    <tr>\n",
       "      <th>0</th>\n",
       "      <td> 0</td>\n",
       "      <td> 0</td>\n",
       "      <td> 0</td>\n",
       "      <td> 0</td>\n",
       "      <td> 0</td>\n",
       "      <td> 0</td>\n",
       "      <td> 0</td>\n",
       "      <td> 0</td>\n",
       "      <td> 0</td>\n",
       "      <td> 0</td>\n",
       "      <td> 0</td>\n",
       "      <td> 0</td>\n",
       "      <td> 0</td>\n",
       "      <td> 0</td>\n",
       "      <td> 0</td>\n",
       "      <td> 0</td>\n",
       "      <td> 0</td>\n",
       "      <td> 0</td>\n",
       "      <td> 0</td>\n",
       "      <td> 0</td>\n",
       "      <td>...</td>\n",
       "    </tr>\n",
       "    <tr>\n",
       "      <th>1</th>\n",
       "      <td> 1</td>\n",
       "      <td> 1</td>\n",
       "      <td> 1</td>\n",
       "      <td> 1</td>\n",
       "      <td> 1</td>\n",
       "      <td> 1</td>\n",
       "      <td> 1</td>\n",
       "      <td> 1</td>\n",
       "      <td> 1</td>\n",
       "      <td> 1</td>\n",
       "      <td> 1</td>\n",
       "      <td> 1</td>\n",
       "      <td> 1</td>\n",
       "      <td> 1</td>\n",
       "      <td> 1</td>\n",
       "      <td> 1</td>\n",
       "      <td> 1</td>\n",
       "      <td> 1</td>\n",
       "      <td> 1</td>\n",
       "      <td> 1</td>\n",
       "      <td>...</td>\n",
       "    </tr>\n",
       "  </tbody>\n",
       "</table>\n",
       "<p>2 rows × 67 columns</p>\n",
       "</div>"
      ],
      "text/plain": [
       "   X2405012  X2410591  X2420789  X2420793  X2425329  X2426321  X2426377  \\\n",
       "0         0         0         0         0         0         0         0   \n",
       "1         1         1         1         1         1         1         1   \n",
       "\n",
       "   X2427156  X2427522  X2430887  X2430956  X2431183  X2431851  X2436976  \\\n",
       "0         0         0         0         0         0         0         0   \n",
       "1         1         1         1         1         1         1         1   \n",
       "\n",
       "   X2445117  X2445210  X2445581  X2446437  X2449297  X2449602      \n",
       "0         0         0         0         0         0         0 ...  \n",
       "1         1         1         1         1         1         1 ...  \n",
       "\n",
       "[2 rows x 67 columns]"
      ]
     },
     "execution_count": 18,
     "metadata": {},
     "output_type": "execute_result"
    }
   ],
   "source": [
    "IS3_Y[:2]"
   ]
  },
  {
   "cell_type": "code",
   "execution_count": 19,
   "metadata": {
    "collapsed": false
   },
   "outputs": [
    {
     "name": "stdout",
     "output_type": "stream",
     "text": [
      "6501\n",
      "(6501, 1)\n"
     ]
    }
   ],
   "source": [
    "totalSample = IS3_Y.shape[0]\n",
    "IS3_Y_Val = np.zeros((totalSample,1)) #Will be our label now\n",
    "\n",
    "print totalSample\n",
    "print IS3_Y_Val.shape"
   ]
  },
  {
   "cell_type": "code",
   "execution_count": 20,
   "metadata": {
    "collapsed": false
   },
   "outputs": [
    {
     "data": {
      "text/plain": [
       "(6501, 67)"
      ]
     },
     "execution_count": 20,
     "metadata": {},
     "output_type": "execute_result"
    }
   ],
   "source": [
    "IS3_Y.shape"
   ]
  },
  {
   "cell_type": "code",
   "execution_count": 21,
   "metadata": {
    "collapsed": false
   },
   "outputs": [
    {
     "data": {
      "text/plain": [
       "(67,)"
      ]
     },
     "execution_count": 21,
     "metadata": {},
     "output_type": "execute_result"
    }
   ],
   "source": [
    "IS3_Y.values[0].shape"
   ]
  },
  {
   "cell_type": "code",
   "execution_count": 22,
   "metadata": {
    "collapsed": true
   },
   "outputs": [],
   "source": [
    "for i in range(totalSample):\n",
    "    IS3_Y_Val[i] = np.argmax(np.bincount(IS3_Y.values[i]))"
   ]
  },
  {
   "cell_type": "code",
   "execution_count": 23,
   "metadata": {
    "collapsed": true
   },
   "outputs": [],
   "source": [
    "IS3_Y_Val_1 = pd.DataFrame(IS3_Y_Val)\n",
    "IS3_Y_Val_1.columns = ['Label']"
   ]
  },
  {
   "cell_type": "code",
   "execution_count": 24,
   "metadata": {
    "collapsed": false
   },
   "outputs": [
    {
     "data": {
      "text/html": [
       "<div style=\"max-height:1000px;max-width:1500px;overflow:auto;\">\n",
       "<table border=\"1\" class=\"dataframe\">\n",
       "  <thead>\n",
       "    <tr style=\"text-align: right;\">\n",
       "      <th></th>\n",
       "      <th>Label</th>\n",
       "    </tr>\n",
       "  </thead>\n",
       "  <tbody>\n",
       "    <tr>\n",
       "      <th>0</th>\n",
       "      <td> 0</td>\n",
       "    </tr>\n",
       "    <tr>\n",
       "      <th>1</th>\n",
       "      <td> 1</td>\n",
       "    </tr>\n",
       "    <tr>\n",
       "      <th>2</th>\n",
       "      <td> 1</td>\n",
       "    </tr>\n",
       "  </tbody>\n",
       "</table>\n",
       "<p>3 rows × 1 columns</p>\n",
       "</div>"
      ],
      "text/plain": [
       "   Label\n",
       "0      0\n",
       "1      1\n",
       "2      1\n",
       "\n",
       "[3 rows x 1 columns]"
      ]
     },
     "execution_count": 24,
     "metadata": {},
     "output_type": "execute_result"
    }
   ],
   "source": [
    "IS3_Y_Val_1[:3]"
   ]
  },
  {
   "cell_type": "code",
   "execution_count": 25,
   "metadata": {
    "collapsed": true
   },
   "outputs": [],
   "source": [
    "IS3_dataframe = pd.concat([IS3_X, IS3_Y_Val_1],axis=1)"
   ]
  },
  {
   "cell_type": "code",
   "execution_count": 26,
   "metadata": {
    "collapsed": false
   },
   "outputs": [
    {
     "data": {
      "text/plain": [
       "(6501, 14)"
      ]
     },
     "execution_count": 26,
     "metadata": {},
     "output_type": "execute_result"
    }
   ],
   "source": [
    "IS3_dataframe.shape"
   ]
  },
  {
   "cell_type": "code",
   "execution_count": 27,
   "metadata": {
    "collapsed": false
   },
   "outputs": [
    {
     "data": {
      "text/html": [
       "<div style=\"max-height:1000px;max-width:1500px;overflow:auto;\">\n",
       "<table border=\"1\" class=\"dataframe\">\n",
       "  <thead>\n",
       "    <tr style=\"text-align: right;\">\n",
       "      <th></th>\n",
       "      <th>RefAllele</th>\n",
       "      <th>NonRefAllele</th>\n",
       "      <th>BaseQual</th>\n",
       "      <th>TumourCoverage</th>\n",
       "      <th>NormalCoverage</th>\n",
       "      <th>MapQual</th>\n",
       "      <th>ReadPosition</th>\n",
       "      <th>Trinucleotide</th>\n",
       "      <th>HomopolymerRate</th>\n",
       "      <th>GCcontent</th>\n",
       "      <th>GenomicLocation</th>\n",
       "      <th>Distance</th>\n",
       "      <th>StrandBias</th>\n",
       "      <th>Label</th>\n",
       "    </tr>\n",
       "  </thead>\n",
       "  <tbody>\n",
       "    <tr>\n",
       "      <th>0</th>\n",
       "      <td> 30</td>\n",
       "      <td>  6</td>\n",
       "      <td> 1173</td>\n",
       "      <td> 39</td>\n",
       "      <td> 31</td>\n",
       "      <td> 46</td>\n",
       "      <td> 58.0</td>\n",
       "      <td> GCT</td>\n",
       "      <td> 2.828358</td>\n",
       "      <td> 0.331683</td>\n",
       "      <td> intergenic</td>\n",
       "      <td> 1304</td>\n",
       "      <td> 0.641026</td>\n",
       "      <td> 0</td>\n",
       "    </tr>\n",
       "    <tr>\n",
       "      <th>1</th>\n",
       "      <td> 32</td>\n",
       "      <td> 15</td>\n",
       "      <td> 1367</td>\n",
       "      <td> 58</td>\n",
       "      <td> 46</td>\n",
       "      <td> 60</td>\n",
       "      <td> 47.5</td>\n",
       "      <td> CCT</td>\n",
       "      <td> 2.313333</td>\n",
       "      <td> 0.361386</td>\n",
       "      <td>   intronic</td>\n",
       "      <td>  147</td>\n",
       "      <td> 0.568966</td>\n",
       "      <td> 1</td>\n",
       "    </tr>\n",
       "  </tbody>\n",
       "</table>\n",
       "<p>2 rows × 14 columns</p>\n",
       "</div>"
      ],
      "text/plain": [
       "   RefAllele  NonRefAllele  BaseQual  TumourCoverage  NormalCoverage  MapQual  \\\n",
       "0         30             6      1173              39              31       46   \n",
       "1         32            15      1367              58              46       60   \n",
       "\n",
       "   ReadPosition Trinucleotide  HomopolymerRate  GCcontent GenomicLocation  \\\n",
       "0          58.0           GCT         2.828358   0.331683      intergenic   \n",
       "1          47.5           CCT         2.313333   0.361386        intronic   \n",
       "\n",
       "   Distance  StrandBias  Label  \n",
       "0      1304    0.641026      0  \n",
       "1       147    0.568966      1  \n",
       "\n",
       "[2 rows x 14 columns]"
      ]
     },
     "execution_count": 27,
     "metadata": {},
     "output_type": "execute_result"
    }
   ],
   "source": [
    "IS3_dataframe[:2]"
   ]
  },
  {
   "cell_type": "code",
   "execution_count": 28,
   "metadata": {
    "collapsed": true
   },
   "outputs": [],
   "source": [
    "IS3_dataframe.to_csv('IS3.csv')"
   ]
  },
  {
   "cell_type": "code",
   "execution_count": 29,
   "metadata": {
    "collapsed": true
   },
   "outputs": [],
   "source": [
    "#Now we have variable importance ...lets do analysis"
   ]
  },
  {
   "cell_type": "code",
   "execution_count": 30,
   "metadata": {
    "collapsed": true
   },
   "outputs": [],
   "source": [
    "%load_ext rpy2.ipython"
   ]
  },
  {
   "cell_type": "code",
   "execution_count": 31,
   "metadata": {
    "collapsed": false
   },
   "outputs": [
    {
     "data": {
      "text/plain": [
       "'data.frame':\t6501 obs. of  15 variables:\n",
       " $ X              : int  0 1 2 3 4 5 6 7 8 9 ...\n",
       " $ RefAllele      : int  30 32 27 28 15 20 30 28 22 36 ...\n",
       " $ NonRefAllele   : int  6 15 12 0 0 5 14 5 0 3 ...\n",
       " $ BaseQual       : int  1173 1367 1271 305 484 825 1195 1097 657 1291 ...\n",
       " $ TumourCoverage : int  39 58 47 39 38 28 50 37 27 47 ...\n",
       " $ NormalCoverage : int  31 46 60 46 40 31 53 41 32 37 ...\n",
       " $ MapQual        : num  46 60 60 39 29 60 60 20 29 60 ...\n",
       " $ ReadPosition   : num  58 47.5 40 19 79 57 53 35 70 42 ...\n",
       " $ Trinucleotide  : Factor w/ 32 levels \"ACA\",\"ACC\",\"ACG\",..: 20 12 6 32 30 4 30 27 24 25 ...\n",
       " $ HomopolymerRate: num  2.83 2.31 2.51 8.02 4.66 ...\n",
       " $ GCcontent      : num  0.332 0.361 0.47 0.381 0.347 ...\n",
       " $ GenomicLocation: Factor w/ 14 levels \"\",\"downstream\",..: 5 6 6 5 5 5 5 6 6 6 ...\n",
       " $ Distance       : int  1304 147 1712 484 129 1058 1442 1466 0 256 ...\n",
       " $ StrandBias     : num  0.641 0.569 0.426 0.385 0.526 ...\n",
       " $ Label          : num  0 1 1 0 0 1 1 0 0 0 ...\n"
      ]
     },
     "metadata": {},
     "output_type": "display_data"
    }
   ],
   "source": [
    "%%R\n",
    "# Read in the data\n",
    "IS3Frame = read.csv(\"IS3.csv\")\n",
    "str(IS3Frame)"
   ]
  },
  {
   "cell_type": "code",
   "execution_count": 33,
   "metadata": {
    "collapsed": false
   },
   "outputs": [
    {
     "data": {
      "text/plain": [
       "[1] 0\n"
      ]
     },
     "metadata": {},
     "output_type": "display_data"
    }
   ],
   "source": [
    "%%R\n",
    "#sum(is.na(CPCG0183Frame$StrandBias))\n",
    "#sum(is.na(IS1Frame$ReadPosition)) \n",
    "sum(is.na(IS3Frame)) "
   ]
  },
  {
   "cell_type": "code",
   "execution_count": 33,
   "metadata": {
    "collapsed": false
   },
   "outputs": [],
   "source": [
    "#%%R\n",
    "#CPCG0235Frame$ReadPosition[is.na(CPCG0235Frame$ReadPosition)] = mean(CPCG0235Frame$ReadPosition, na.rm=TRUE)\n",
    "#CPCG0235Frame$StrandBias[is.na(CPCG0235Frame$StrandBias)] = mean(CPCG0235Frame$StrandBias, na.rm=TRUE)\n",
    "\n",
    "#print (sum(is.na(CPCG0235Frame$ReadPosition)) )\n",
    "#print (sum(is.na(CPCG0235Frame$StrandBias)) )"
   ]
  },
  {
   "cell_type": "code",
   "execution_count": 34,
   "metadata": {
    "collapsed": false
   },
   "outputs": [
    {
     "data": {
      "text/plain": [
       "[1] 0\n"
      ]
     },
     "metadata": {},
     "output_type": "display_data"
    }
   ],
   "source": [
    "%%R\n",
    "sum(is.na(IS3Frame))  #No NA value now"
   ]
  },
  {
   "cell_type": "code",
   "execution_count": 35,
   "metadata": {
    "collapsed": true
   },
   "outputs": [],
   "source": [
    "%%R\n",
    "write.csv(IS3Frame, file = \"IS3_imputed.csv\")  #Cleaned CSV without NA"
   ]
  },
  {
   "cell_type": "code",
   "execution_count": 36,
   "metadata": {
    "collapsed": false
   },
   "outputs": [
    {
     "name": "stderr",
     "output_type": "stream",
     "text": [
      "/usr/local/lib/python2.7/dist-packages/rpy2/robjects/functions.py:106: UserWarning: Loading required package: statmod\n",
      "\n",
      "  res = super(Function, self).__call__(*new_args, **new_kwargs)\n",
      "/usr/local/lib/python2.7/dist-packages/rpy2/robjects/functions.py:106: UserWarning: \n",
      "----------------------------------------------------------------------\n",
      "\n",
      "Your next step is to start H2O:\n",
      "    > h2o.init()\n",
      "\n",
      "For H2O package documentation, ask for help:\n",
      "    > ??h2o\n",
      "\n",
      "After starting H2O, you can use the Web UI at http://localhost:54321\n",
      "For more information visit http://docs.h2o.ai\n",
      "\n",
      "----------------------------------------------------------------------\n",
      "\n",
      "\n",
      "  res = super(Function, self).__call__(*new_args, **new_kwargs)\n",
      "/usr/local/lib/python2.7/dist-packages/rpy2/robjects/functions.py:106: UserWarning: \n",
      "Attaching package: ‘h2o’\n",
      "\n",
      "\n",
      "  res = super(Function, self).__call__(*new_args, **new_kwargs)\n",
      "/usr/local/lib/python2.7/dist-packages/rpy2/robjects/functions.py:106: UserWarning: The following objects are masked from ‘package:stats’:\n",
      "\n",
      "    sd, var\n",
      "\n",
      "\n",
      "  res = super(Function, self).__call__(*new_args, **new_kwargs)\n",
      "/usr/local/lib/python2.7/dist-packages/rpy2/robjects/functions.py:106: UserWarning: The following objects are masked from ‘package:base’:\n",
      "\n",
      "    ||, &&, %*%, apply, as.factor, as.numeric, colnames, colnames<-,\n",
      "    ifelse, %in%, is.character, is.factor, is.numeric, log, log10,\n",
      "    log1p, log2, round, signif, trunc\n",
      "\n",
      "\n",
      "  res = super(Function, self).__call__(*new_args, **new_kwargs)\n"
     ]
    },
    {
     "data": {
      "text/plain": [
       " Connection successful!\n",
       "\n",
       "R is connected to the H2O cluster: \n",
       "    H2O cluster uptime:         26 minutes 43 seconds \n",
       "    H2O cluster version:        3.9.1.3435 \n",
       "    H2O cluster name:           H2O_started_from_R_rbhat_xqb196 \n",
       "    H2O cluster total nodes:    1 \n",
       "    H2O cluster total memory:   26.58 GB \n",
       "    H2O cluster total cores:    56 \n",
       "    H2O cluster allowed cores:  2 \n",
       "    H2O cluster healthy:        TRUE \n",
       "    H2O Connection ip:          localhost \n",
       "    H2O Connection port:        54321 \n",
       "    H2O Connection proxy:       NA \n",
       "    R Version:                  R version 3.3.0 beta (2016-03-30 r70404) \n",
       "\n"
      ]
     },
     "metadata": {},
     "output_type": "display_data"
    }
   ],
   "source": [
    "%%R\n",
    "library(h2o)\n",
    "localH2O = h2o.init(ip = \"localhost\", port = 54321, startH2O = TRUE,min_mem_size = \"3g\")"
   ]
  },
  {
   "cell_type": "code",
   "execution_count": 37,
   "metadata": {
    "collapsed": false
   },
   "outputs": [
    {
     "data": {
      "text/plain": [
       "\r",
       "  |                                                                            \r",
       "  |                                                                      |   0%\r",
       "  |                                                                            \r",
       "  |==========================                                            |  38%\r",
       "  |                                                                            \r",
       "  |======================================================================| 100%\n",
       "'data.frame':\t6501 obs. of  16 variables:\n",
       " $ C1             : int  1 2 3 4 5 6 7 8 9 10 ...\n",
       " $ X              : int  0 1 2 3 4 5 6 7 8 9 ...\n",
       " $ RefAllele      : int  30 32 27 28 15 20 30 28 22 36 ...\n",
       " $ NonRefAllele   : int  6 15 12 0 0 5 14 5 0 3 ...\n",
       " $ BaseQual       : int  1173 1367 1271 305 484 825 1195 1097 657 1291 ...\n",
       " $ TumourCoverage : int  39 58 47 39 38 28 50 37 27 47 ...\n",
       " $ NormalCoverage : int  31 46 60 46 40 31 53 41 32 37 ...\n",
       " $ MapQual        : num  46 60 60 39 29 60 60 20 29 60 ...\n",
       " $ ReadPosition   : num  58 47.5 40 19 79 57 53 35 70 42 ...\n",
       " $ Trinucleotide  : Factor w/ 32 levels \"ACA\",\"ACC\",\"ACG\",..: 20 12 6 32 30 4 30 27 24 25 ...\n",
       " $ HomopolymerRate: num  2.83 2.31 2.51 8.02 4.66 ...\n",
       " $ GCcontent      : num  0.332 0.361 0.47 0.381 0.347 ...\n",
       " $ GenomicLocation: Factor w/ 13 levels \"downstream\",\"exonic\",..: 4 5 5 4 4 4 4 5 5 5 ...\n",
       " $ Distance       : int  1304 147 1712 484 129 1058 1442 1466 0 256 ...\n",
       " $ StrandBias     : num  0.641 0.569 0.426 0.385 0.526 ...\n",
       " $ Label          : int  0 1 1 0 0 1 1 0 0 0 ...\n"
      ]
     },
     "metadata": {},
     "output_type": "display_data"
    }
   ],
   "source": [
    "%%R\n",
    "## Import CSV as H2O:\n",
    "csvPath = \"/home/rbhat/Workspace/S3Lab_Projects/SMC-MetaChallange/IS3_imputed.csv\"\n",
    "IS3.hex          = h2o.importFile(path = csvPath, destination_frame = \"IS3.hex\") \n",
    "train                 = as.data.frame(IS3.hex)\n",
    "\n",
    "str(train)"
   ]
  },
  {
   "cell_type": "code",
   "execution_count": 38,
   "metadata": {
    "collapsed": false
   },
   "outputs": [
    {
     "data": {
      "text/plain": [
       "\r",
       "  |                                                                            \r",
       "  |                                                                      |   0%\r",
       "  |                                                                            \r",
       "  |======================================================================| 100%\n"
      ]
     },
     "metadata": {},
     "output_type": "display_data"
    }
   ],
   "source": [
    "%%R\n",
    "\n",
    "train$Trinucleotide   = as.factor(train$Trinucleotide)\n",
    "train$GenomicLocation = as.factor(train$GenomicLocation)\n",
    "train$Label           = as.factor(train$Label)\n",
    "\n",
    "train_h2o             = as.h2o(train)"
   ]
  },
  {
   "cell_type": "code",
   "execution_count": 39,
   "metadata": {
    "collapsed": false
   },
   "outputs": [
    {
     "data": {
      "text/plain": [
       "\r",
       "  |                                                                            \r",
       "  |                                                                      |   0%\r",
       "  |                                                                            \r",
       "  |============================================================          |  86%\r",
       "  |                                                                            \r",
       "  |======================================================================| 100%\n"
      ]
     },
     "metadata": {},
     "output_type": "display_data"
    }
   ],
   "source": [
    "%%R\n",
    "#Training a deep learning model:---------------------------------------------------------#\n",
    "model <- h2o.deeplearning( x = 3:15, # column numbers for predictors\n",
    "                           y = 16,            # column number for label\n",
    "                           training_frame = train_h2o,\n",
    "                           activation = \"RectifierWithDropout\", \n",
    "                           input_dropout_ratio = 0.2,\n",
    "                           hidden_dropout_ratios = c(0.5,0.5),\n",
    "                           balance_classes = TRUE, \n",
    "                           hidden = c(10,8),  ## two hidden layers\n",
    "                           epochs = 50,\n",
    "                           variable_importances = T)"
   ]
  },
  {
   "cell_type": "code",
   "execution_count": 40,
   "metadata": {
    "collapsed": false
   },
   "outputs": [
    {
     "data": {
      "text/plain": [
       "Variable Importances: \n",
       "                     variable relative_importance scaled_importance percentage\n",
       "1                NonRefAllele            1.000000          1.000000   0.078199\n",
       "2                   RefAllele            0.578058          0.578058   0.045204\n",
       "3                    BaseQual            0.568464          0.568464   0.044453\n",
       "4              NormalCoverage            0.556932          0.556932   0.043552\n",
       "5 GenomicLocation.missing(NA)            0.501616          0.501616   0.039226\n",
       "\n",
       "---\n",
       "                     variable relative_importance scaled_importance percentage\n",
       "53          Trinucleotide.CCA            0.104141          0.104141   0.008144\n",
       "54                  GCcontent            0.096585          0.096585   0.007553\n",
       "55 GenomicLocation.intergenic            0.075224          0.075224   0.005882\n",
       "56               ReadPosition            0.061978          0.061978   0.004847\n",
       "57                 StrandBias            0.040941          0.040941   0.003202\n",
       "58  Trinucleotide.missing(NA)            0.000000          0.000000   0.000000\n"
      ]
     },
     "metadata": {},
     "output_type": "display_data"
    }
   ],
   "source": [
    "%%R\n",
    "var_importance = h2o.varimp(model)\n",
    "#print(var_importance)\n",
    "h2o.varimp(model)"
   ]
  },
  {
   "cell_type": "code",
   "execution_count": 41,
   "metadata": {
    "collapsed": true
   },
   "outputs": [],
   "source": [
    "%%R\n",
    "write.table(var_importance, file=\"IS3_variable_importance.csv\")"
   ]
  },
  {
   "cell_type": "code",
   "execution_count": 42,
   "metadata": {
    "collapsed": true
   },
   "outputs": [],
   "source": [
    "var_importance = pd.read_csv(open('IS3_variable_importance.csv','r'),sep=' ')\n",
    "#pd.read_csv('CPCG0100_variable_importance.csv')"
   ]
  },
  {
   "cell_type": "code",
   "execution_count": 43,
   "metadata": {
    "collapsed": false
   },
   "outputs": [
    {
     "data": {
      "text/html": [
       "<div style=\"max-height:1000px;max-width:1500px;overflow:auto;\">\n",
       "<table border=\"1\" class=\"dataframe\">\n",
       "  <thead>\n",
       "    <tr style=\"text-align: right;\">\n",
       "      <th></th>\n",
       "      <th>variable</th>\n",
       "      <th>relative_importance</th>\n",
       "      <th>scaled_importance</th>\n",
       "      <th>percentage</th>\n",
       "    </tr>\n",
       "  </thead>\n",
       "  <tbody>\n",
       "    <tr>\n",
       "      <th>1</th>\n",
       "      <td>                NonRefAllele</td>\n",
       "      <td> 1.000000</td>\n",
       "      <td> 1.000000</td>\n",
       "      <td> 0.078199</td>\n",
       "    </tr>\n",
       "    <tr>\n",
       "      <th>2</th>\n",
       "      <td>                   RefAllele</td>\n",
       "      <td> 0.578058</td>\n",
       "      <td> 0.578058</td>\n",
       "      <td> 0.045204</td>\n",
       "    </tr>\n",
       "    <tr>\n",
       "      <th>3</th>\n",
       "      <td>                    BaseQual</td>\n",
       "      <td> 0.568464</td>\n",
       "      <td> 0.568464</td>\n",
       "      <td> 0.044453</td>\n",
       "    </tr>\n",
       "    <tr>\n",
       "      <th>4</th>\n",
       "      <td>              NormalCoverage</td>\n",
       "      <td> 0.556932</td>\n",
       "      <td> 0.556932</td>\n",
       "      <td> 0.043552</td>\n",
       "    </tr>\n",
       "    <tr>\n",
       "      <th>5</th>\n",
       "      <td> GenomicLocation.missing(NA)</td>\n",
       "      <td> 0.501616</td>\n",
       "      <td> 0.501616</td>\n",
       "      <td> 0.039226</td>\n",
       "    </tr>\n",
       "  </tbody>\n",
       "</table>\n",
       "<p>5 rows × 4 columns</p>\n",
       "</div>"
      ],
      "text/plain": [
       "                      variable  relative_importance  scaled_importance  \\\n",
       "1                 NonRefAllele             1.000000           1.000000   \n",
       "2                    RefAllele             0.578058           0.578058   \n",
       "3                     BaseQual             0.568464           0.568464   \n",
       "4               NormalCoverage             0.556932           0.556932   \n",
       "5  GenomicLocation.missing(NA)             0.501616           0.501616   \n",
       "\n",
       "   percentage  \n",
       "1    0.078199  \n",
       "2    0.045204  \n",
       "3    0.044453  \n",
       "4    0.043552  \n",
       "5    0.039226  \n",
       "\n",
       "[5 rows x 4 columns]"
      ]
     },
     "execution_count": 43,
     "metadata": {},
     "output_type": "execute_result"
    }
   ],
   "source": [
    "var_importance[:5]"
   ]
  },
  {
   "cell_type": "code",
   "execution_count": 44,
   "metadata": {
    "collapsed": false
   },
   "outputs": [
    {
     "data": {
      "text/html": [
       "<div style=\"max-height:1000px;max-width:1500px;overflow:auto;\">\n",
       "<table border=\"1\" class=\"dataframe\">\n",
       "  <thead>\n",
       "    <tr style=\"text-align: right;\">\n",
       "      <th></th>\n",
       "      <th>CHROM</th>\n",
       "      <th>POS</th>\n",
       "      <th>END</th>\n",
       "      <th>RefAllele</th>\n",
       "      <th>NonRefAllele</th>\n",
       "      <th>BaseQual</th>\n",
       "      <th>TumourCoverage</th>\n",
       "      <th>NormalCoverage</th>\n",
       "      <th>MapQual</th>\n",
       "      <th>ReadPosition</th>\n",
       "      <th>Trinucleotide</th>\n",
       "      <th>HomopolymerRate</th>\n",
       "      <th>GCcontent</th>\n",
       "      <th>GenomicLocation</th>\n",
       "      <th>Distance</th>\n",
       "      <th>StrandBias</th>\n",
       "    </tr>\n",
       "  </thead>\n",
       "  <tbody>\n",
       "    <tr>\n",
       "      <th>0</th>\n",
       "      <td> 1</td>\n",
       "      <td>  17537</td>\n",
       "      <td>  17538</td>\n",
       "      <td> 110</td>\n",
       "      <td> 20</td>\n",
       "      <td> 4254</td>\n",
       "      <td> 148</td>\n",
       "      <td> 132</td>\n",
       "      <td> 37</td>\n",
       "      <td> 54.0</td>\n",
       "      <td> GCC</td>\n",
       "      <td> 2.707143</td>\n",
       "      <td> 0.673267</td>\n",
       "      <td> ncRNA_intronic</td>\n",
       "      <td> 37176</td>\n",
       "      <td> 0.432432</td>\n",
       "    </tr>\n",
       "    <tr>\n",
       "      <th>1</th>\n",
       "      <td> 1</td>\n",
       "      <td>  27195</td>\n",
       "      <td>  27196</td>\n",
       "      <td>  26</td>\n",
       "      <td>  6</td>\n",
       "      <td> 1034</td>\n",
       "      <td>  43</td>\n",
       "      <td>  43</td>\n",
       "      <td>  0</td>\n",
       "      <td> 73.0</td>\n",
       "      <td> TCT</td>\n",
       "      <td> 2.940741</td>\n",
       "      <td> 0.420792</td>\n",
       "      <td> ncRNA_intronic</td>\n",
       "      <td> 27518</td>\n",
       "      <td> 0.255814</td>\n",
       "    </tr>\n",
       "    <tr>\n",
       "      <th>2</th>\n",
       "      <td> 1</td>\n",
       "      <td>  31158</td>\n",
       "      <td>  31159</td>\n",
       "      <td>  44</td>\n",
       "      <td>  3</td>\n",
       "      <td> 1484</td>\n",
       "      <td>  67</td>\n",
       "      <td>  50</td>\n",
       "      <td>  0</td>\n",
       "      <td> 63.0</td>\n",
       "      <td> TCC</td>\n",
       "      <td> 2.683453</td>\n",
       "      <td> 0.445545</td>\n",
       "      <td>     intergenic</td>\n",
       "      <td> 23555</td>\n",
       "      <td> 0.641791</td>\n",
       "    </tr>\n",
       "    <tr>\n",
       "      <th>3</th>\n",
       "      <td> 1</td>\n",
       "      <td> 101685</td>\n",
       "      <td> 101686</td>\n",
       "      <td>  42</td>\n",
       "      <td> 17</td>\n",
       "      <td> 1234</td>\n",
       "      <td>  65</td>\n",
       "      <td>  49</td>\n",
       "      <td> 13</td>\n",
       "      <td> 19.0</td>\n",
       "      <td> TTT</td>\n",
       "      <td> 4.142857</td>\n",
       "      <td> 0.371287</td>\n",
       "      <td>     intergenic</td>\n",
       "      <td> 15566</td>\n",
       "      <td> 0.276923</td>\n",
       "    </tr>\n",
       "    <tr>\n",
       "      <th>4</th>\n",
       "      <td> 1</td>\n",
       "      <td> 104234</td>\n",
       "      <td> 104235</td>\n",
       "      <td>  62</td>\n",
       "      <td>  4</td>\n",
       "      <td> 2137</td>\n",
       "      <td>  72</td>\n",
       "      <td>  66</td>\n",
       "      <td>  0</td>\n",
       "      <td> 38.5</td>\n",
       "      <td> TCA</td>\n",
       "      <td> 2.459459</td>\n",
       "      <td> 0.410891</td>\n",
       "      <td>     intergenic</td>\n",
       "      <td> 14382</td>\n",
       "      <td> 0.555556</td>\n",
       "    </tr>\n",
       "  </tbody>\n",
       "</table>\n",
       "<p>5 rows × 16 columns</p>\n",
       "</div>"
      ],
      "text/plain": [
       "  CHROM     POS     END  RefAllele  NonRefAllele  BaseQual  TumourCoverage  \\\n",
       "0     1   17537   17538        110            20      4254             148   \n",
       "1     1   27195   27196         26             6      1034              43   \n",
       "2     1   31158   31159         44             3      1484              67   \n",
       "3     1  101685  101686         42            17      1234              65   \n",
       "4     1  104234  104235         62             4      2137              72   \n",
       "\n",
       "   NormalCoverage  MapQual  ReadPosition Trinucleotide  HomopolymerRate  \\\n",
       "0             132       37          54.0           GCC         2.707143   \n",
       "1              43        0          73.0           TCT         2.940741   \n",
       "2              50        0          63.0           TCC         2.683453   \n",
       "3              49       13          19.0           TTT         4.142857   \n",
       "4              66        0          38.5           TCA         2.459459   \n",
       "\n",
       "   GCcontent GenomicLocation  Distance  StrandBias  \n",
       "0   0.673267  ncRNA_intronic     37176    0.432432  \n",
       "1   0.420792  ncRNA_intronic     27518    0.255814  \n",
       "2   0.445545      intergenic     23555    0.641791  \n",
       "3   0.371287      intergenic     15566    0.276923  \n",
       "4   0.410891      intergenic     14382    0.555556  \n",
       "\n",
       "[5 rows x 16 columns]"
      ]
     },
     "execution_count": 44,
     "metadata": {},
     "output_type": "execute_result"
    }
   ],
   "source": [
    "GenomicFeatures_IS3[:5]"
   ]
  },
  {
   "cell_type": "code",
   "execution_count": 45,
   "metadata": {
    "collapsed": false
   },
   "outputs": [
    {
     "data": {
      "text/plain": [
       "{'BaseQual': 0.56846415996551503,\n",
       " 'Distance': 0.3871206343173979,\n",
       " 'GCcontent': 0.096584580838680295,\n",
       " 'GenomicLocation.UTR3': 0.18219177424907698,\n",
       " 'GenomicLocation.UTR5': 0.17538018524646801,\n",
       " 'GenomicLocation.downstream': 0.178618639707565,\n",
       " 'GenomicLocation.exonic': 0.24255387485027302,\n",
       " 'GenomicLocation.exonic;splicing': 0.22218076884746599,\n",
       " 'GenomicLocation.intergenic': 0.075224064290523501,\n",
       " 'GenomicLocation.intronic': 0.164586767554283,\n",
       " 'GenomicLocation.missing(NA)': 0.50161641836166393,\n",
       " 'GenomicLocation.ncRNA_UTR3': 0.14711047708988198,\n",
       " 'GenomicLocation.ncRNA_exonic': 0.19320553541183497,\n",
       " 'GenomicLocation.ncRNA_intronic': 0.13168583810329401,\n",
       " 'GenomicLocation.splicing': 0.218622431159019,\n",
       " 'GenomicLocation.upstream': 0.17438788712024697,\n",
       " 'GenomicLocation.upstream;downstream': 0.22489254176616699,\n",
       " 'HomopolymerRate': 0.173455104231834,\n",
       " 'MapQual': 0.47048330307006797,\n",
       " 'NonRefAllele': 1.0,\n",
       " 'NormalCoverage': 0.55693233013153098,\n",
       " 'ReadPosition': 0.061977840960025801,\n",
       " 'RefAllele': 0.578058302402496,\n",
       " 'StrandBias': 0.040940951555967303,\n",
       " 'Trinucleotide.ACA': 0.18715277314186105,\n",
       " 'Trinucleotide.ACC': 0.32016989588737499,\n",
       " 'Trinucleotide.ACG': 0.26901721954345698,\n",
       " 'Trinucleotide.ACT': 0.139426544308662,\n",
       " 'Trinucleotide.ATA': 0.12488821148872399,\n",
       " 'Trinucleotide.ATC': 0.12105224281549501,\n",
       " 'Trinucleotide.ATG': 0.167290434241295,\n",
       " 'Trinucleotide.ATT': 0.15500056743621801,\n",
       " 'Trinucleotide.CCA': 0.10414139181375499,\n",
       " 'Trinucleotide.CCC': 0.17267628014087699,\n",
       " 'Trinucleotide.CCG': 0.28490278124809304,\n",
       " 'Trinucleotide.CCT': 0.114347852766514,\n",
       " 'Trinucleotide.CTA': 0.12521803379058802,\n",
       " 'Trinucleotide.CTC': 0.12123154848814,\n",
       " 'Trinucleotide.CTG': 0.178292602300644,\n",
       " 'Trinucleotide.CTT': 0.14563609659671803,\n",
       " 'Trinucleotide.GCA': 0.105633556842804,\n",
       " 'Trinucleotide.GCC': 0.13626751303672802,\n",
       " 'Trinucleotide.GCG': 0.30492115020752003,\n",
       " 'Trinucleotide.GCT': 0.1100844591856,\n",
       " 'Trinucleotide.GTA': 0.27047404646873502,\n",
       " 'Trinucleotide.GTC': 0.114638268947601,\n",
       " 'Trinucleotide.GTG': 0.29736012220382696,\n",
       " 'Trinucleotide.GTT': 0.201116368174553,\n",
       " 'Trinucleotide.TCA': 0.10854255408048601,\n",
       " 'Trinucleotide.TCC': 0.140546649694443,\n",
       " 'Trinucleotide.TCG': 0.23446413874626201,\n",
       " 'Trinucleotide.TCT': 0.22991715371608701,\n",
       " 'Trinucleotide.TTA': 0.182739943265915,\n",
       " 'Trinucleotide.TTC': 0.14499960839748402,\n",
       " 'Trinucleotide.TTG': 0.18984819948673201,\n",
       " 'Trinucleotide.TTT': 0.123664543032646,\n",
       " 'Trinucleotide.missing(NA)': 0.0,\n",
       " 'TumourCoverage': 0.39593741297721902}"
      ]
     },
     "execution_count": 45,
     "metadata": {},
     "output_type": "execute_result"
    }
   ],
   "source": [
    "var_imp_dict = {}\n",
    "\n",
    "for i in range(var_importance.shape[0]):\n",
    "    var_imp_dict[var_importance.iloc[i,0]] = var_importance.iloc[i,1]\n",
    "\n",
    "var_imp_dict"
   ]
  },
  {
   "cell_type": "code",
   "execution_count": 46,
   "metadata": {
    "collapsed": false
   },
   "outputs": [
    {
     "data": {
      "text/plain": [
       "Index([u'CHROM', u'POS', u'END', u'RefAllele', u'NonRefAllele', u'BaseQual', u'TumourCoverage', u'NormalCoverage', u'MapQual', u'ReadPosition', u'Trinucleotide', u'HomopolymerRate', u'GCcontent', u'GenomicLocation', u'Distance', u'StrandBias'], dtype='object')"
      ]
     },
     "execution_count": 46,
     "metadata": {},
     "output_type": "execute_result"
    }
   ],
   "source": [
    "GenomicFeatures_IS3.columns"
   ]
  },
  {
   "cell_type": "code",
   "execution_count": 47,
   "metadata": {
    "collapsed": false
   },
   "outputs": [
    {
     "data": {
      "text/plain": [
       "CHROM               object\n",
       "POS                  int64\n",
       "END                  int64\n",
       "RefAllele            int64\n",
       "NonRefAllele         int64\n",
       "BaseQual             int64\n",
       "TumourCoverage       int64\n",
       "NormalCoverage       int64\n",
       "MapQual            float64\n",
       "ReadPosition       float64\n",
       "Trinucleotide       object\n",
       "HomopolymerRate    float64\n",
       "GCcontent          float64\n",
       "GenomicLocation     object\n",
       "Distance             int64\n",
       "StrandBias         float64\n",
       "dtype: object"
      ]
     },
     "execution_count": 47,
     "metadata": {},
     "output_type": "execute_result"
    }
   ],
   "source": [
    "GenomicFeatures_IS3.dtypes"
   ]
  },
  {
   "cell_type": "code",
   "execution_count": 48,
   "metadata": {
    "collapsed": false
   },
   "outputs": [
    {
     "data": {
      "text/plain": [
       "'ncRNA_intronic'"
      ]
     },
     "execution_count": 48,
     "metadata": {},
     "output_type": "execute_result"
    }
   ],
   "source": [
    "GenomicFeatures_IS3.iloc[0,13]"
   ]
  },
  {
   "cell_type": "code",
   "execution_count": 49,
   "metadata": {
    "collapsed": false
   },
   "outputs": [
    {
     "data": {
      "text/html": [
       "<div style=\"max-height:1000px;max-width:1500px;overflow:auto;\">\n",
       "<table border=\"1\" class=\"dataframe\">\n",
       "  <thead>\n",
       "    <tr style=\"text-align: right;\">\n",
       "      <th></th>\n",
       "      <th>CHROM</th>\n",
       "      <th>POS</th>\n",
       "      <th>END</th>\n",
       "      <th>RefAllele</th>\n",
       "      <th>NonRefAllele</th>\n",
       "      <th>BaseQual</th>\n",
       "      <th>TumourCoverage</th>\n",
       "      <th>NormalCoverage</th>\n",
       "      <th>MapQual</th>\n",
       "      <th>ReadPosition</th>\n",
       "      <th>Trinucleotide</th>\n",
       "      <th>HomopolymerRate</th>\n",
       "      <th>GCcontent</th>\n",
       "      <th>GenomicLocation</th>\n",
       "      <th>Distance</th>\n",
       "      <th>StrandBias</th>\n",
       "    </tr>\n",
       "  </thead>\n",
       "  <tbody>\n",
       "    <tr>\n",
       "      <th>0</th>\n",
       "      <td> 1</td>\n",
       "      <td> 17537</td>\n",
       "      <td> 17538</td>\n",
       "      <td> 110</td>\n",
       "      <td> 20</td>\n",
       "      <td> 4254</td>\n",
       "      <td> 148</td>\n",
       "      <td> 132</td>\n",
       "      <td> 37</td>\n",
       "      <td> 54</td>\n",
       "      <td> GCC</td>\n",
       "      <td> 2.707143</td>\n",
       "      <td> 0.673267</td>\n",
       "      <td> ncRNA_intronic</td>\n",
       "      <td> 37176</td>\n",
       "      <td> 0.432432</td>\n",
       "    </tr>\n",
       "    <tr>\n",
       "      <th>1</th>\n",
       "      <td> 1</td>\n",
       "      <td> 27195</td>\n",
       "      <td> 27196</td>\n",
       "      <td>  26</td>\n",
       "      <td>  6</td>\n",
       "      <td> 1034</td>\n",
       "      <td>  43</td>\n",
       "      <td>  43</td>\n",
       "      <td>  0</td>\n",
       "      <td> 73</td>\n",
       "      <td> TCT</td>\n",
       "      <td> 2.940741</td>\n",
       "      <td> 0.420792</td>\n",
       "      <td> ncRNA_intronic</td>\n",
       "      <td> 27518</td>\n",
       "      <td> 0.255814</td>\n",
       "    </tr>\n",
       "  </tbody>\n",
       "</table>\n",
       "<p>2 rows × 16 columns</p>\n",
       "</div>"
      ],
      "text/plain": [
       "  CHROM    POS    END  RefAllele  NonRefAllele  BaseQual  TumourCoverage  \\\n",
       "0     1  17537  17538        110            20      4254             148   \n",
       "1     1  27195  27196         26             6      1034              43   \n",
       "\n",
       "   NormalCoverage  MapQual  ReadPosition Trinucleotide  HomopolymerRate  \\\n",
       "0             132       37            54           GCC         2.707143   \n",
       "1              43        0            73           TCT         2.940741   \n",
       "\n",
       "   GCcontent GenomicLocation  Distance  StrandBias  \n",
       "0   0.673267  ncRNA_intronic     37176    0.432432  \n",
       "1   0.420792  ncRNA_intronic     27518    0.255814  \n",
       "\n",
       "[2 rows x 16 columns]"
      ]
     },
     "execution_count": 49,
     "metadata": {},
     "output_type": "execute_result"
    }
   ],
   "source": [
    "GenomicFeatures_IS3[:2]\n",
    "#print GenomicFeatures_IS1.iloc[0,2]"
   ]
  },
  {
   "cell_type": "code",
   "execution_count": 50,
   "metadata": {
    "collapsed": false
   },
   "outputs": [],
   "source": [
    "noOfSample = GenomicFeatures_IS3.shape[0]\n",
    "\n",
    "IS3_Dict = {}\n",
    "\n",
    "for i in range(noOfSample):\n",
    "    \n",
    "    pos = GenomicFeatures_IS3.iloc[i,1] #gets the pos value\n",
    "    \n",
    "    RefAllele      = GenomicFeatures_IS3.iloc[i,3]*var_imp_dict['RefAllele']\n",
    "    NonRefAllele   = GenomicFeatures_IS3.iloc[i,4]*var_imp_dict['NonRefAllele']\n",
    "    BaseQual       = GenomicFeatures_IS3.iloc[i,5]*var_imp_dict['BaseQual']\n",
    "    TumourCoverage = GenomicFeatures_IS3.iloc[i,6]*var_imp_dict['TumourCoverage']\n",
    "    NormalCoverage = GenomicFeatures_IS3.iloc[i,7]*var_imp_dict['NormalCoverage']\n",
    "    MapQual        = GenomicFeatures_IS3.iloc[i,8]*var_imp_dict['MapQual']\n",
    "    ReadPosition   = GenomicFeatures_IS3.iloc[i,9]*var_imp_dict['ReadPosition']\n",
    "    \n",
    "    Trinucleotide  = 0\n",
    "    if isinstance(GenomicFeatures_IS3.iloc[i,10], str):\n",
    "        Trinucleotide  = var_imp_dict['Trinucleotide.'+str(GenomicFeatures_IS3.iloc[i,10])]\n",
    "    HomopolymerRate= GenomicFeatures_IS3.iloc[i,11]*var_imp_dict['HomopolymerRate']\n",
    "    GCcontent      = GenomicFeatures_IS3.iloc[i,12]*var_imp_dict['GCcontent']\n",
    "    \n",
    "    GenomicLocation = 0\n",
    "    if isinstance(GenomicFeatures_IS3.iloc[i,13], str):\n",
    "        GenomicLocation= var_imp_dict['GenomicLocation.'+str(GenomicFeatures_IS3.iloc[i,13])]\n",
    "    Distance    = GenomicFeatures_IS3.iloc[i,14]*var_imp_dict['Distance']\n",
    "    StrandBias     = GenomicFeatures_IS3.iloc[i,15]*var_imp_dict['StrandBias']\n",
    "    \n",
    "    #print 'RefAllele=',RefAllele,' NonRefAllele=',NonRefAllele,' BaseQual=',BaseQual,' TumourCoverage=',TumourCoverage\n",
    "    #print 'NormalCoverage=',NormalCoverage,' MapQual=',MapQual,' ReadPosition=',ReadPosition,' Trinucleotide=',Trinucleotide\n",
    "    #print 'HomopolymerRate=',HomopolymerRate,' GCcontent=',GCcontent,' GenomicLocation=',GenomicLocation,' Distance=',Distance\n",
    "    #print 'StrandBias=',StrandBias\n",
    "    IS3_Dict[pos] = RefAllele+NonRefAllele+BaseQual+TumourCoverage+NormalCoverage+MapQual+ReadPosition+Trinucleotide+ \\\n",
    "                         HomopolymerRate+GCcontent+GenomicLocation+Distance+StrandBias"
   ]
  },
  {
   "cell_type": "code",
   "execution_count": 51,
   "metadata": {
    "collapsed": true
   },
   "outputs": [],
   "source": [
    "#Sorting dictionary\n",
    "IS3_Dict1 = [(k,v) for v,k in sorted([(v,k) for k,v in IS3_Dict.items()],reverse=True)]"
   ]
  },
  {
   "cell_type": "code",
   "execution_count": 52,
   "metadata": {
    "collapsed": true
   },
   "outputs": [],
   "source": [
    "IS3_Dict_Frame = pd.DataFrame(IS3_Dict1, columns=['POS', 'Value'])"
   ]
  },
  {
   "cell_type": "code",
   "execution_count": 53,
   "metadata": {
    "collapsed": true
   },
   "outputs": [],
   "source": [
    "IS3_Dict_Frame.to_csv(\"IS3_Dict_Frame.csv\")"
   ]
  },
  {
   "cell_type": "code",
   "execution_count": 54,
   "metadata": {
    "collapsed": false
   },
   "outputs": [
    {
     "data": {
      "text/html": [
       "<div style=\"max-height:1000px;max-width:1500px;overflow:auto;\">\n",
       "<table border=\"1\" class=\"dataframe\">\n",
       "  <thead>\n",
       "    <tr style=\"text-align: right;\">\n",
       "      <th></th>\n",
       "      <th>POS</th>\n",
       "      <th>Value</th>\n",
       "    </tr>\n",
       "  </thead>\n",
       "  <tbody>\n",
       "    <tr>\n",
       "      <th>0</th>\n",
       "      <td> 27791928</td>\n",
       "      <td> 293455.596265</td>\n",
       "    </tr>\n",
       "    <tr>\n",
       "      <th>1</th>\n",
       "      <td> 27791988</td>\n",
       "      <td> 293446.207585</td>\n",
       "    </tr>\n",
       "    <tr>\n",
       "      <th>2</th>\n",
       "      <td>  9723294</td>\n",
       "      <td>  76856.085835</td>\n",
       "    </tr>\n",
       "    <tr>\n",
       "      <th>3</th>\n",
       "      <td> 92324518</td>\n",
       "      <td>  72316.352239</td>\n",
       "    </tr>\n",
       "    <tr>\n",
       "      <th>4</th>\n",
       "      <td> 46587743</td>\n",
       "      <td>  62913.635602</td>\n",
       "    </tr>\n",
       "    <tr>\n",
       "      <th>5</th>\n",
       "      <td> 45874406</td>\n",
       "      <td>  56438.413848</td>\n",
       "    </tr>\n",
       "    <tr>\n",
       "      <th>6</th>\n",
       "      <td> 46370116</td>\n",
       "      <td>  52613.234888</td>\n",
       "    </tr>\n",
       "    <tr>\n",
       "      <th>7</th>\n",
       "      <td> 41084701</td>\n",
       "      <td>  52079.755376</td>\n",
       "    </tr>\n",
       "    <tr>\n",
       "      <th>8</th>\n",
       "      <td> 86732778</td>\n",
       "      <td>  51757.153606</td>\n",
       "    </tr>\n",
       "    <tr>\n",
       "      <th>9</th>\n",
       "      <td> 86747067</td>\n",
       "      <td>  47623.014216</td>\n",
       "    </tr>\n",
       "  </tbody>\n",
       "</table>\n",
       "<p>10 rows × 2 columns</p>\n",
       "</div>"
      ],
      "text/plain": [
       "        POS          Value\n",
       "0  27791928  293455.596265\n",
       "1  27791988  293446.207585\n",
       "2   9723294   76856.085835\n",
       "3  92324518   72316.352239\n",
       "4  46587743   62913.635602\n",
       "5  45874406   56438.413848\n",
       "6  46370116   52613.234888\n",
       "7  41084701   52079.755376\n",
       "8  86732778   51757.153606\n",
       "9  86747067   47623.014216\n",
       "\n",
       "[10 rows x 2 columns]"
      ]
     },
     "execution_count": 54,
     "metadata": {},
     "output_type": "execute_result"
    }
   ],
   "source": [
    "IS3_Dict_Frame[:10]"
   ]
  },
  {
   "cell_type": "code",
   "execution_count": 58,
   "metadata": {
    "collapsed": true
   },
   "outputs": [],
   "source": [
    "GenomicFeatures_IS3_1 = pd.concat([IS3.iloc[:,0:16], IS3_Y_Val_1],axis=1)"
   ]
  },
  {
   "cell_type": "code",
   "execution_count": 59,
   "metadata": {
    "collapsed": false
   },
   "outputs": [
    {
     "name": "stdout",
     "output_type": "stream",
     "text": [
      "[ 27791928  27791988   9723294  92324518  46587743  45874406  46370116\n",
      "  41084701  86732778  86747067 110629414  42723515  42724344  42724350\n",
      "  42733563  39346116  86740316  86754887  41120841  41122134]\n"
     ]
    }
   ],
   "source": [
    "rows = IS3_Dict_Frame['POS'][:20].values\n",
    "print rows\n",
    "GenomicFeatures_IS3_Top20 = GenomicFeatures_IS3_1.loc[GenomicFeatures_IS3_1['POS'].isin(rows)]"
   ]
  },
  {
   "cell_type": "code",
   "execution_count": 61,
   "metadata": {
    "collapsed": false
   },
   "outputs": [
    {
     "data": {
      "text/html": [
       "<div style=\"max-height:1000px;max-width:1500px;overflow:auto;\">\n",
       "<table border=\"1\" class=\"dataframe\">\n",
       "  <thead>\n",
       "    <tr style=\"text-align: right;\">\n",
       "      <th></th>\n",
       "      <th>CHROM</th>\n",
       "      <th>POS</th>\n",
       "      <th>END_x</th>\n",
       "      <th>RefAllele</th>\n",
       "      <th>NonRefAllele</th>\n",
       "      <th>BaseQual</th>\n",
       "      <th>TumourCoverage</th>\n",
       "      <th>NormalCoverage</th>\n",
       "      <th>MapQual</th>\n",
       "      <th>ReadPosition</th>\n",
       "      <th>Trinucleotide</th>\n",
       "      <th>HomopolymerRate</th>\n",
       "      <th>GCcontent</th>\n",
       "      <th>GenomicLocation</th>\n",
       "      <th>Distance</th>\n",
       "      <th>StrandBias</th>\n",
       "      <th>Label</th>\n",
       "    </tr>\n",
       "  </thead>\n",
       "  <tbody>\n",
       "    <tr>\n",
       "      <th>3878</th>\n",
       "      <td> 8</td>\n",
       "      <td> 86732778</td>\n",
       "      <td> 86732779</td>\n",
       "      <td> 466</td>\n",
       "      <td>  1</td>\n",
       "      <td> 15852</td>\n",
       "      <td> 573</td>\n",
       "      <td> 506</td>\n",
       "      <td>  0</td>\n",
       "      <td> 43.0</td>\n",
       "      <td> CCT</td>\n",
       "      <td> 2.246667</td>\n",
       "      <td> 0.485149</td>\n",
       "      <td> intergenic</td>\n",
       "      <td> 108399</td>\n",
       "      <td> 0.582897</td>\n",
       "      <td> 0</td>\n",
       "    </tr>\n",
       "    <tr>\n",
       "      <th>3879</th>\n",
       "      <td> 8</td>\n",
       "      <td> 86740316</td>\n",
       "      <td> 86740317</td>\n",
       "      <td>  56</td>\n",
       "      <td>  9</td>\n",
       "      <td>  2206</td>\n",
       "      <td>  83</td>\n",
       "      <td>  79</td>\n",
       "      <td>  0</td>\n",
       "      <td> 74.0</td>\n",
       "      <td> CTT</td>\n",
       "      <td> 2.437500</td>\n",
       "      <td> 0.485149</td>\n",
       "      <td> intergenic</td>\n",
       "      <td> 100861</td>\n",
       "      <td> 0.144578</td>\n",
       "      <td> 0</td>\n",
       "    </tr>\n",
       "    <tr>\n",
       "      <th>3880</th>\n",
       "      <td> 8</td>\n",
       "      <td> 86747067</td>\n",
       "      <td> 86747068</td>\n",
       "      <td> 534</td>\n",
       "      <td>  1</td>\n",
       "      <td> 18026</td>\n",
       "      <td> 668</td>\n",
       "      <td> 655</td>\n",
       "      <td>  0</td>\n",
       "      <td> 69.0</td>\n",
       "      <td> GCC</td>\n",
       "      <td> 2.500000</td>\n",
       "      <td> 0.599010</td>\n",
       "      <td> intergenic</td>\n",
       "      <td>  94110</td>\n",
       "      <td> 0.413174</td>\n",
       "      <td> 0</td>\n",
       "    </tr>\n",
       "    <tr>\n",
       "      <th>3881</th>\n",
       "      <td> 8</td>\n",
       "      <td> 86754887</td>\n",
       "      <td> 86754888</td>\n",
       "      <td> 291</td>\n",
       "      <td> 16</td>\n",
       "      <td> 10232</td>\n",
       "      <td> 382</td>\n",
       "      <td> 363</td>\n",
       "      <td>  0</td>\n",
       "      <td> 57.0</td>\n",
       "      <td> TCC</td>\n",
       "      <td> 2.500000</td>\n",
       "      <td> 0.440594</td>\n",
       "      <td>        NaN</td>\n",
       "      <td>  86290</td>\n",
       "      <td> 0.628272</td>\n",
       "      <td> 0</td>\n",
       "    </tr>\n",
       "    <tr>\n",
       "      <th>4544</th>\n",
       "      <td> 9</td>\n",
       "      <td> 39346116</td>\n",
       "      <td> 39346117</td>\n",
       "      <td>  15</td>\n",
       "      <td>  4</td>\n",
       "      <td>   576</td>\n",
       "      <td>  19</td>\n",
       "      <td>  26</td>\n",
       "      <td>  0</td>\n",
       "      <td> 76.0</td>\n",
       "      <td> ACG</td>\n",
       "      <td> 3.006897</td>\n",
       "      <td> 0.500000</td>\n",
       "      <td> intergenic</td>\n",
       "      <td> 104047</td>\n",
       "      <td> 0.263158</td>\n",
       "      <td> 0</td>\n",
       "    </tr>\n",
       "    <tr>\n",
       "      <th>4571</th>\n",
       "      <td> 9</td>\n",
       "      <td> 41084701</td>\n",
       "      <td> 41084702</td>\n",
       "      <td>  10</td>\n",
       "      <td> 10</td>\n",
       "      <td>   562</td>\n",
       "      <td>  23</td>\n",
       "      <td>  16</td>\n",
       "      <td>  0</td>\n",
       "      <td> 66.0</td>\n",
       "      <td> TTG</td>\n",
       "      <td> 2.333333</td>\n",
       "      <td> 0.613861</td>\n",
       "      <td> intergenic</td>\n",
       "      <td> 133606</td>\n",
       "      <td> 0.521739</td>\n",
       "      <td> 0</td>\n",
       "    </tr>\n",
       "    <tr>\n",
       "      <th>4572</th>\n",
       "      <td> 9</td>\n",
       "      <td> 41120841</td>\n",
       "      <td> 41120842</td>\n",
       "      <td>   9</td>\n",
       "      <td>  3</td>\n",
       "      <td>   300</td>\n",
       "      <td>  13</td>\n",
       "      <td>  12</td>\n",
       "      <td> 15</td>\n",
       "      <td> 25.0</td>\n",
       "      <td> TCT</td>\n",
       "      <td> 5.496124</td>\n",
       "      <td> 0.415842</td>\n",
       "      <td> intergenic</td>\n",
       "      <td>  97466</td>\n",
       "      <td> 0.538462</td>\n",
       "      <td> 0</td>\n",
       "    </tr>\n",
       "    <tr>\n",
       "      <th>4573</th>\n",
       "      <td> 9</td>\n",
       "      <td> 41122134</td>\n",
       "      <td> 41122135</td>\n",
       "      <td>  14</td>\n",
       "      <td>  4</td>\n",
       "      <td>   555</td>\n",
       "      <td>  19</td>\n",
       "      <td>  17</td>\n",
       "      <td>  0</td>\n",
       "      <td> 45.0</td>\n",
       "      <td> ATG</td>\n",
       "      <td> 2.489510</td>\n",
       "      <td> 0.554455</td>\n",
       "      <td> intergenic</td>\n",
       "      <td>  96173</td>\n",
       "      <td> 0.368421</td>\n",
       "      <td> 0</td>\n",
       "    </tr>\n",
       "    <tr>\n",
       "      <th>4597</th>\n",
       "      <td> 9</td>\n",
       "      <td> 42723515</td>\n",
       "      <td> 42723516</td>\n",
       "      <td>  26</td>\n",
       "      <td>  2</td>\n",
       "      <td>   860</td>\n",
       "      <td>  38</td>\n",
       "      <td>  38</td>\n",
       "      <td>  0</td>\n",
       "      <td> 72.5</td>\n",
       "      <td> ACA</td>\n",
       "      <td> 2.423611</td>\n",
       "      <td> 0.485149</td>\n",
       "      <td> intergenic</td>\n",
       "      <td> 116909</td>\n",
       "      <td> 0.947368</td>\n",
       "      <td> 0</td>\n",
       "    </tr>\n",
       "    <tr>\n",
       "      <th>4598</th>\n",
       "      <td> 9</td>\n",
       "      <td> 42724344</td>\n",
       "      <td> 42724345</td>\n",
       "      <td>  10</td>\n",
       "      <td>  1</td>\n",
       "      <td>   351</td>\n",
       "      <td>  24</td>\n",
       "      <td>  30</td>\n",
       "      <td>  0</td>\n",
       "      <td> 37.0</td>\n",
       "      <td> TTG</td>\n",
       "      <td> 2.424658</td>\n",
       "      <td> 0.306931</td>\n",
       "      <td> intergenic</td>\n",
       "      <td> 116720</td>\n",
       "      <td> 0.250000</td>\n",
       "      <td> 0</td>\n",
       "    </tr>\n",
       "  </tbody>\n",
       "</table>\n",
       "<p>10 rows × 17 columns</p>\n",
       "</div>"
      ],
      "text/plain": [
       "     CHROM       POS     END_x  RefAllele  NonRefAllele  BaseQual  \\\n",
       "3878     8  86732778  86732779        466             1     15852   \n",
       "3879     8  86740316  86740317         56             9      2206   \n",
       "3880     8  86747067  86747068        534             1     18026   \n",
       "3881     8  86754887  86754888        291            16     10232   \n",
       "4544     9  39346116  39346117         15             4       576   \n",
       "4571     9  41084701  41084702         10            10       562   \n",
       "4572     9  41120841  41120842          9             3       300   \n",
       "4573     9  41122134  41122135         14             4       555   \n",
       "4597     9  42723515  42723516         26             2       860   \n",
       "4598     9  42724344  42724345         10             1       351   \n",
       "\n",
       "      TumourCoverage  NormalCoverage  MapQual  ReadPosition Trinucleotide  \\\n",
       "3878             573             506        0          43.0           CCT   \n",
       "3879              83              79        0          74.0           CTT   \n",
       "3880             668             655        0          69.0           GCC   \n",
       "3881             382             363        0          57.0           TCC   \n",
       "4544              19              26        0          76.0           ACG   \n",
       "4571              23              16        0          66.0           TTG   \n",
       "4572              13              12       15          25.0           TCT   \n",
       "4573              19              17        0          45.0           ATG   \n",
       "4597              38              38        0          72.5           ACA   \n",
       "4598              24              30        0          37.0           TTG   \n",
       "\n",
       "      HomopolymerRate  GCcontent GenomicLocation  Distance  StrandBias  Label  \n",
       "3878         2.246667   0.485149      intergenic    108399    0.582897      0  \n",
       "3879         2.437500   0.485149      intergenic    100861    0.144578      0  \n",
       "3880         2.500000   0.599010      intergenic     94110    0.413174      0  \n",
       "3881         2.500000   0.440594             NaN     86290    0.628272      0  \n",
       "4544         3.006897   0.500000      intergenic    104047    0.263158      0  \n",
       "4571         2.333333   0.613861      intergenic    133606    0.521739      0  \n",
       "4572         5.496124   0.415842      intergenic     97466    0.538462      0  \n",
       "4573         2.489510   0.554455      intergenic     96173    0.368421      0  \n",
       "4597         2.423611   0.485149      intergenic    116909    0.947368      0  \n",
       "4598         2.424658   0.306931      intergenic    116720    0.250000      0  \n",
       "\n",
       "[10 rows x 17 columns]"
      ]
     },
     "execution_count": 61,
     "metadata": {},
     "output_type": "execute_result"
    }
   ],
   "source": [
    "GenomicFeatures_IS3_Top20[:10]"
   ]
  },
  {
   "cell_type": "code",
   "execution_count": 57,
   "metadata": {
    "collapsed": false
   },
   "outputs": [],
   "source": [
    "GenomicFeatures_IS3_Top20.to_csv('GenomicFeatures_IS3_Top20.csv')"
   ]
  },
  {
   "cell_type": "code",
   "execution_count": null,
   "metadata": {
    "collapsed": true
   },
   "outputs": [],
   "source": []
  },
  {
   "cell_type": "code",
   "execution_count": null,
   "metadata": {
    "collapsed": true
   },
   "outputs": [],
   "source": []
  }
 ],
 "metadata": {
  "kernelspec": {
   "display_name": "Python 2",
   "language": "python",
   "name": "python2"
  },
  "language_info": {
   "codemirror_mode": {
    "name": "ipython",
    "version": 2
   },
   "file_extension": ".py",
   "mimetype": "text/x-python",
   "name": "python",
   "nbconvert_exporter": "python",
   "pygments_lexer": "ipython2",
   "version": "2.7.6"
  }
 },
 "nbformat": 4,
 "nbformat_minor": 0
}
