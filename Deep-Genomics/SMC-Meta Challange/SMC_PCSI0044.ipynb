{
 "cells": [
  {
   "cell_type": "code",
   "execution_count": 70,
   "metadata": {
    "collapsed": false
   },
   "outputs": [],
   "source": [
    "import numpy as np\n",
    "import pandas as pd\n",
    "from collections import Counter\n",
    "import math\n",
    "\n",
    "from sklearn.neighbors import KNeighborsClassifier\n",
    "from sklearn.linear_model import LogisticRegression\n",
    "from sklearn.ensemble import RandomForestClassifier\n",
    "from sklearn.cross_validation import cross_val_score\n",
    "from sklearn import metrics\n",
    "from sklearn.cross_validation import train_test_split\n",
    "from sklearn.metrics import confusion_matrix, roc_curve, auc\n",
    "from sklearn.grid_search import GridSearchCV\n",
    "from sklearn import svm\n",
    "from sklearn.decomposition import RandomizedPCA\n",
    "from sklearn.metrics import classification_report\n",
    "from sklearn import preprocessing\n",
    "import matplotlib.pyplot as plt\n",
    "import scipy.optimize as opt\n",
    "import glob\n",
    "import os\n",
    "import sys\n",
    "import pickle\n",
    "import time\n",
    "import timeit\n",
    "\n",
    "from sklearn.decomposition import RandomizedPCA\n",
    "\n",
    "import theano\n",
    "import theano.tensor as T\n",
    "import lasagne\n",
    "\n",
    "#np.random.seed(1337)  # for reproducibility\n",
    "from keras.datasets import mnist\n",
    "from keras.models import Sequential\n",
    "from keras.layers.core import Dense, Dropout, Activation, Flatten, Layer, Reshape, AutoEncoder, Merge\n",
    "from keras.layers.convolutional import Convolution2D,MaxPooling2D,Convolution1D,MaxPooling1D,UpSampling2D, ZeroPadding2D\n",
    "from keras.optimizers import SGD, Adam, RMSprop, Adadelta\n",
    "from keras.layers.normalization import BatchNormalization\n",
    "from keras.utils import np_utils\n",
    "import keras.utils.visualize_util as vutil\n",
    "from keras.layers.recurrent import LSTM, GRU, SimpleRNN\n",
    "from keras.regularizers import l1, l2, l1l2, activity_l2, activity_l1\n",
    "import keras.layers.containers as containers\n",
    "from keras.layers.noise import GaussianNoise\n",
    "from keras.regularizers import ActivityRegularizer\n",
    "from keras import backend as K\n",
    "import keras.utils.visualize_util as vutil\n",
    "from keras.models import model_from_json\n",
    "\n",
    "import seaborn as sns\n",
    "\n",
    "%matplotlib inline\n",
    "\n",
    "from IPython.display import SVG\n",
    "\n",
    "import h5py\n",
    "\n",
    "np.set_printoptions(suppress=True)  #Supress exponent of the number 2e-2 == 0.02\n",
    "\n",
    "%matplotlib inline"
   ]
  },
  {
   "cell_type": "code",
   "execution_count": 71,
   "metadata": {
    "collapsed": true
   },
   "outputs": [],
   "source": [
    "#PCSI0044"
   ]
  },
  {
   "cell_type": "code",
   "execution_count": 72,
   "metadata": {
    "collapsed": false
   },
   "outputs": [],
   "source": [
    "#Read the data\n",
    "\n",
    "GenomicFeatures_PCSI0044 = pd.read_csv(open('data/PCSI0044/GenomicFeatures_PCSI0044.txt','r'),sep='\\t')\n",
    "SNVCalls_PCSI0044    = pd.read_csv(open('data/PCSI0044/SNVCalls_PCSI0044.txt','r'),sep='\\t') "
   ]
  },
  {
   "cell_type": "code",
   "execution_count": 73,
   "metadata": {
    "collapsed": false
   },
   "outputs": [
    {
     "name": "stdout",
     "output_type": "stream",
     "text": [
      "(118394, 15)\n",
      "(118394, 129)\n"
     ]
    }
   ],
   "source": [
    "print GenomicFeatures_PCSI0044.shape\n",
    "print SNVCalls_PCSI0044.shape"
   ]
  },
  {
   "cell_type": "code",
   "execution_count": 74,
   "metadata": {
    "collapsed": false
   },
   "outputs": [
    {
     "data": {
      "text/plain": [
       "CHROM                  0\n",
       "POS                    0\n",
       "RefAllele              0\n",
       "NonRefAllele           0\n",
       "BaseQual               0\n",
       "TumourCoverage         0\n",
       "NormalCoverage         0\n",
       "MapQual                0\n",
       "ReadPosition          77\n",
       "Trinucleotide          0\n",
       "HomopolymerRate        0\n",
       "GCcontent              0\n",
       "GenomicLocation    39909\n",
       "DistanceSNP            0\n",
       "StrandBias            77\n",
       "dtype: int64"
      ]
     },
     "execution_count": 74,
     "metadata": {},
     "output_type": "execute_result"
    }
   ],
   "source": [
    "np.sum(GenomicFeatures_PCSI0044.isnull())"
   ]
  },
  {
   "cell_type": "code",
   "execution_count": 75,
   "metadata": {
    "collapsed": false
   },
   "outputs": [],
   "source": [
    "GenomicFeatures_PCSI0044['ReadPosition'].fillna(0, inplace=True)  #Replace na with 0\n",
    "GenomicFeatures_PCSI0044['StrandBias'].fillna(0, inplace=True)\n",
    "\n",
    "#print np.sum(GenomicFeatures_PCSI0023.isnull())"
   ]
  },
  {
   "cell_type": "code",
   "execution_count": 76,
   "metadata": {
    "collapsed": false
   },
   "outputs": [
    {
     "data": {
      "text/plain": [
       "array(['UTR3', 'UTR5', 'downstream', 'exonic', 'exonic;splicing',\n",
       "       'intergenic', 'intronic', 'nan', 'ncRNA_UTR3', 'ncRNA_UTR5',\n",
       "       'ncRNA_exonic', 'ncRNA_intronic', 'ncRNA_splicing', 'splicing',\n",
       "       'upstream', 'upstream;downstream'], \n",
       "      dtype='|S19')"
      ]
     },
     "execution_count": 76,
     "metadata": {},
     "output_type": "execute_result"
    }
   ],
   "source": [
    "np.unique(GenomicFeatures_PCSI0044['GenomicLocation'])"
   ]
  },
  {
   "cell_type": "code",
   "execution_count": 77,
   "metadata": {
    "collapsed": false
   },
   "outputs": [
    {
     "data": {
      "text/html": [
       "<div style=\"max-height:1000px;max-width:1500px;overflow:auto;\">\n",
       "<table border=\"1\" class=\"dataframe\">\n",
       "  <thead>\n",
       "    <tr style=\"text-align: right;\">\n",
       "      <th></th>\n",
       "      <th>CHROM</th>\n",
       "      <th>POS</th>\n",
       "      <th>RefAllele</th>\n",
       "      <th>NonRefAllele</th>\n",
       "      <th>BaseQual</th>\n",
       "      <th>TumourCoverage</th>\n",
       "      <th>NormalCoverage</th>\n",
       "      <th>MapQual</th>\n",
       "      <th>ReadPosition</th>\n",
       "      <th>Trinucleotide</th>\n",
       "      <th>HomopolymerRate</th>\n",
       "      <th>GCcontent</th>\n",
       "      <th>GenomicLocation</th>\n",
       "      <th>DistanceSNP</th>\n",
       "      <th>StrandBias</th>\n",
       "    </tr>\n",
       "  </thead>\n",
       "  <tbody>\n",
       "    <tr>\n",
       "      <th>0</th>\n",
       "      <td> chr1</td>\n",
       "      <td> 10038</td>\n",
       "      <td> 522</td>\n",
       "      <td>  12</td>\n",
       "      <td> 16153</td>\n",
       "      <td> 620</td>\n",
       "      <td> 961</td>\n",
       "      <td> 17</td>\n",
       "      <td> 22</td>\n",
       "      <td> TTA</td>\n",
       "      <td> 62.057971</td>\n",
       "      <td> 0.343284</td>\n",
       "      <td>            NaN</td>\n",
       "      <td> 20885</td>\n",
       "      <td> 0.820968</td>\n",
       "    </tr>\n",
       "    <tr>\n",
       "      <th>1</th>\n",
       "      <td> chr1</td>\n",
       "      <td> 10109</td>\n",
       "      <td> 362</td>\n",
       "      <td> 152</td>\n",
       "      <td>  9437</td>\n",
       "      <td> 614</td>\n",
       "      <td> 871</td>\n",
       "      <td> 17</td>\n",
       "      <td> 81</td>\n",
       "      <td> TTG</td>\n",
       "      <td>  4.730000</td>\n",
       "      <td> 0.507463</td>\n",
       "      <td>            NaN</td>\n",
       "      <td> 20814</td>\n",
       "      <td> 0.749186</td>\n",
       "    </tr>\n",
       "    <tr>\n",
       "      <th>2</th>\n",
       "      <td> chr1</td>\n",
       "      <td> 10177</td>\n",
       "      <td> 122</td>\n",
       "      <td>  54</td>\n",
       "      <td>  3685</td>\n",
       "      <td> 185</td>\n",
       "      <td> 219</td>\n",
       "      <td> 17</td>\n",
       "      <td> 45</td>\n",
       "      <td> GTT</td>\n",
       "      <td>  4.838384</td>\n",
       "      <td> 0.502488</td>\n",
       "      <td>            NaN</td>\n",
       "      <td> 20746</td>\n",
       "      <td> 0.281081</td>\n",
       "    </tr>\n",
       "    <tr>\n",
       "      <th>3</th>\n",
       "      <td> chr1</td>\n",
       "      <td> 10180</td>\n",
       "      <td> 146</td>\n",
       "      <td>  33</td>\n",
       "      <td>  4054</td>\n",
       "      <td> 193</td>\n",
       "      <td> 233</td>\n",
       "      <td> 17</td>\n",
       "      <td> 46</td>\n",
       "      <td> CTA</td>\n",
       "      <td>  4.897959</td>\n",
       "      <td> 0.497512</td>\n",
       "      <td>            NaN</td>\n",
       "      <td> 20743</td>\n",
       "      <td> 0.264249</td>\n",
       "    </tr>\n",
       "    <tr>\n",
       "      <th>4</th>\n",
       "      <td> chr1</td>\n",
       "      <td> 15190</td>\n",
       "      <td> 185</td>\n",
       "      <td>  97</td>\n",
       "      <td>  8002</td>\n",
       "      <td> 287</td>\n",
       "      <td> 172</td>\n",
       "      <td> 17</td>\n",
       "      <td> 35</td>\n",
       "      <td> CCG</td>\n",
       "      <td>  2.750000</td>\n",
       "      <td> 0.641791</td>\n",
       "      <td> ncRNA_intronic</td>\n",
       "      <td> 15733</td>\n",
       "      <td> 0.463415</td>\n",
       "    </tr>\n",
       "  </tbody>\n",
       "</table>\n",
       "<p>5 rows × 15 columns</p>\n",
       "</div>"
      ],
      "text/plain": [
       "  CHROM    POS  RefAllele  NonRefAllele  BaseQual  TumourCoverage  \\\n",
       "0  chr1  10038        522            12     16153             620   \n",
       "1  chr1  10109        362           152      9437             614   \n",
       "2  chr1  10177        122            54      3685             185   \n",
       "3  chr1  10180        146            33      4054             193   \n",
       "4  chr1  15190        185            97      8002             287   \n",
       "\n",
       "   NormalCoverage  MapQual  ReadPosition Trinucleotide  HomopolymerRate  \\\n",
       "0             961       17            22           TTA        62.057971   \n",
       "1             871       17            81           TTG         4.730000   \n",
       "2             219       17            45           GTT         4.838384   \n",
       "3             233       17            46           CTA         4.897959   \n",
       "4             172       17            35           CCG         2.750000   \n",
       "\n",
       "   GCcontent GenomicLocation  DistanceSNP  StrandBias  \n",
       "0   0.343284             NaN        20885    0.820968  \n",
       "1   0.507463             NaN        20814    0.749186  \n",
       "2   0.502488             NaN        20746    0.281081  \n",
       "3   0.497512             NaN        20743    0.264249  \n",
       "4   0.641791  ncRNA_intronic        15733    0.463415  \n",
       "\n",
       "[5 rows x 15 columns]"
      ]
     },
     "execution_count": 77,
     "metadata": {},
     "output_type": "execute_result"
    }
   ],
   "source": [
    "GenomicFeatures_PCSI0044.head()"
   ]
  },
  {
   "cell_type": "code",
   "execution_count": 78,
   "metadata": {
    "collapsed": false
   },
   "outputs": [
    {
     "data": {
      "text/html": [
       "<div style=\"max-height:1000px;max-width:1500px;overflow:auto;\">\n",
       "<table border=\"1\" class=\"dataframe\">\n",
       "  <thead>\n",
       "    <tr style=\"text-align: right;\">\n",
       "      <th></th>\n",
       "      <th>CHROM</th>\n",
       "      <th>POS</th>\n",
       "      <th>END</th>\n",
       "      <th>X2399008</th>\n",
       "      <th>X2701035</th>\n",
       "      <th>X2701039</th>\n",
       "      <th>X2762073</th>\n",
       "      <th>X2762075</th>\n",
       "      <th>X2791030</th>\n",
       "      <th>X2811081</th>\n",
       "      <th>X2811083</th>\n",
       "      <th>X2811087</th>\n",
       "      <th>X2811089</th>\n",
       "      <th>X2811393</th>\n",
       "      <th>X2812910</th>\n",
       "      <th>X2813249</th>\n",
       "      <th>X2813259</th>\n",
       "      <th>X2813291</th>\n",
       "      <th>X2813337</th>\n",
       "      <th>X2813381</th>\n",
       "      <th></th>\n",
       "    </tr>\n",
       "  </thead>\n",
       "  <tbody>\n",
       "    <tr>\n",
       "      <th>0</th>\n",
       "      <td> chr1</td>\n",
       "      <td> 10037</td>\n",
       "      <td> 10038</td>\n",
       "      <td> 0</td>\n",
       "      <td> 1</td>\n",
       "      <td> 1</td>\n",
       "      <td> 0</td>\n",
       "      <td> 0</td>\n",
       "      <td> 0</td>\n",
       "      <td> 0</td>\n",
       "      <td> 0</td>\n",
       "      <td> 0</td>\n",
       "      <td> 0</td>\n",
       "      <td> 0</td>\n",
       "      <td> 0</td>\n",
       "      <td> 0</td>\n",
       "      <td> 0</td>\n",
       "      <td> 0</td>\n",
       "      <td> 0</td>\n",
       "      <td> 0</td>\n",
       "      <td>...</td>\n",
       "    </tr>\n",
       "    <tr>\n",
       "      <th>1</th>\n",
       "      <td> chr1</td>\n",
       "      <td> 10108</td>\n",
       "      <td> 10109</td>\n",
       "      <td> 0</td>\n",
       "      <td> 0</td>\n",
       "      <td> 0</td>\n",
       "      <td> 0</td>\n",
       "      <td> 0</td>\n",
       "      <td> 0</td>\n",
       "      <td> 0</td>\n",
       "      <td> 0</td>\n",
       "      <td> 0</td>\n",
       "      <td> 0</td>\n",
       "      <td> 0</td>\n",
       "      <td> 0</td>\n",
       "      <td> 0</td>\n",
       "      <td> 0</td>\n",
       "      <td> 1</td>\n",
       "      <td> 0</td>\n",
       "      <td> 0</td>\n",
       "      <td>...</td>\n",
       "    </tr>\n",
       "    <tr>\n",
       "      <th>2</th>\n",
       "      <td> chr1</td>\n",
       "      <td> 10176</td>\n",
       "      <td> 10177</td>\n",
       "      <td> 0</td>\n",
       "      <td> 0</td>\n",
       "      <td> 0</td>\n",
       "      <td> 0</td>\n",
       "      <td> 0</td>\n",
       "      <td> 0</td>\n",
       "      <td> 0</td>\n",
       "      <td> 0</td>\n",
       "      <td> 0</td>\n",
       "      <td> 0</td>\n",
       "      <td> 0</td>\n",
       "      <td> 0</td>\n",
       "      <td> 0</td>\n",
       "      <td> 0</td>\n",
       "      <td> 1</td>\n",
       "      <td> 0</td>\n",
       "      <td> 0</td>\n",
       "      <td>...</td>\n",
       "    </tr>\n",
       "    <tr>\n",
       "      <th>3</th>\n",
       "      <td> chr1</td>\n",
       "      <td> 10179</td>\n",
       "      <td> 10180</td>\n",
       "      <td> 0</td>\n",
       "      <td> 0</td>\n",
       "      <td> 0</td>\n",
       "      <td> 0</td>\n",
       "      <td> 0</td>\n",
       "      <td> 0</td>\n",
       "      <td> 0</td>\n",
       "      <td> 0</td>\n",
       "      <td> 0</td>\n",
       "      <td> 0</td>\n",
       "      <td> 0</td>\n",
       "      <td> 0</td>\n",
       "      <td> 0</td>\n",
       "      <td> 1</td>\n",
       "      <td> 0</td>\n",
       "      <td> 0</td>\n",
       "      <td> 0</td>\n",
       "      <td>...</td>\n",
       "    </tr>\n",
       "    <tr>\n",
       "      <th>4</th>\n",
       "      <td> chr1</td>\n",
       "      <td> 15189</td>\n",
       "      <td> 15190</td>\n",
       "      <td> 0</td>\n",
       "      <td> 0</td>\n",
       "      <td> 0</td>\n",
       "      <td> 0</td>\n",
       "      <td> 0</td>\n",
       "      <td> 0</td>\n",
       "      <td> 0</td>\n",
       "      <td> 0</td>\n",
       "      <td> 0</td>\n",
       "      <td> 0</td>\n",
       "      <td> 0</td>\n",
       "      <td> 0</td>\n",
       "      <td> 0</td>\n",
       "      <td> 0</td>\n",
       "      <td> 1</td>\n",
       "      <td> 0</td>\n",
       "      <td> 0</td>\n",
       "      <td>...</td>\n",
       "    </tr>\n",
       "  </tbody>\n",
       "</table>\n",
       "<p>5 rows × 129 columns</p>\n",
       "</div>"
      ],
      "text/plain": [
       "  CHROM    POS    END  X2399008  X2701035  X2701039  X2762073  X2762075  \\\n",
       "0  chr1  10037  10038         0         1         1         0         0   \n",
       "1  chr1  10108  10109         0         0         0         0         0   \n",
       "2  chr1  10176  10177         0         0         0         0         0   \n",
       "3  chr1  10179  10180         0         0         0         0         0   \n",
       "4  chr1  15189  15190         0         0         0         0         0   \n",
       "\n",
       "   X2791030  X2811081  X2811083  X2811087  X2811089  X2811393  X2812910  \\\n",
       "0         0         0         0         0         0         0         0   \n",
       "1         0         0         0         0         0         0         0   \n",
       "2         0         0         0         0         0         0         0   \n",
       "3         0         0         0         0         0         0         0   \n",
       "4         0         0         0         0         0         0         0   \n",
       "\n",
       "   X2813249  X2813259  X2813291  X2813337  X2813381      \n",
       "0         0         0         0         0         0 ...  \n",
       "1         0         0         1         0         0 ...  \n",
       "2         0         0         1         0         0 ...  \n",
       "3         0         1         0         0         0 ...  \n",
       "4         0         0         1         0         0 ...  \n",
       "\n",
       "[5 rows x 129 columns]"
      ]
     },
     "execution_count": 78,
     "metadata": {},
     "output_type": "execute_result"
    }
   ],
   "source": [
    "SNVCalls_PCSI0044.head()"
   ]
  },
  {
   "cell_type": "code",
   "execution_count": 79,
   "metadata": {
    "collapsed": false
   },
   "outputs": [
    {
     "data": {
      "text/plain": [
       "array(['ACA', 'ACC', 'ACG', 'ACT', 'ATA', 'ATC', 'ATG', 'ATT', 'CCA',\n",
       "       'CCC', 'CCG', 'CCT', 'CTA', 'CTC', 'CTG', 'CTT', 'GCA', 'GCC',\n",
       "       'GCG', 'GCT', 'GNC', 'GTA', 'GTC', 'GTG', 'GTT', 'TCA', 'TCC',\n",
       "       'TCG', 'TCT', 'TTA', 'TTC', 'TTG', 'TTT'], \n",
       "      dtype='|S3')"
      ]
     },
     "execution_count": 79,
     "metadata": {},
     "output_type": "execute_result"
    }
   ],
   "source": [
    "np.unique(GenomicFeatures_PCSI0044['Trinucleotide'])"
   ]
  },
  {
   "cell_type": "code",
   "execution_count": 80,
   "metadata": {
    "collapsed": true
   },
   "outputs": [],
   "source": [
    "PCSI0044 = pd.merge(GenomicFeatures_PCSI0044, SNVCalls_PCSI0044,left_on=['CHROM', 'POS'], right_on=['CHROM','END'])\n"
   ]
  },
  {
   "cell_type": "code",
   "execution_count": 81,
   "metadata": {
    "collapsed": false
   },
   "outputs": [
    {
     "data": {
      "text/html": [
       "<div style=\"max-height:1000px;max-width:1500px;overflow:auto;\">\n",
       "<table border=\"1\" class=\"dataframe\">\n",
       "  <thead>\n",
       "    <tr style=\"text-align: right;\">\n",
       "      <th></th>\n",
       "      <th>CHROM</th>\n",
       "      <th>POS_x</th>\n",
       "      <th>RefAllele</th>\n",
       "      <th>NonRefAllele</th>\n",
       "      <th>BaseQual</th>\n",
       "      <th>TumourCoverage</th>\n",
       "      <th>NormalCoverage</th>\n",
       "      <th>MapQual</th>\n",
       "      <th>ReadPosition</th>\n",
       "      <th>Trinucleotide</th>\n",
       "      <th>HomopolymerRate</th>\n",
       "      <th>GCcontent</th>\n",
       "      <th>GenomicLocation</th>\n",
       "      <th>DistanceSNP</th>\n",
       "      <th>StrandBias</th>\n",
       "      <th>POS_y</th>\n",
       "      <th>END</th>\n",
       "      <th>X2399008</th>\n",
       "      <th>X2701035</th>\n",
       "      <th>X2701039</th>\n",
       "      <th></th>\n",
       "    </tr>\n",
       "  </thead>\n",
       "  <tbody>\n",
       "    <tr>\n",
       "      <th>0</th>\n",
       "      <td> chr1</td>\n",
       "      <td> 10038</td>\n",
       "      <td> 522</td>\n",
       "      <td>  12</td>\n",
       "      <td> 16153</td>\n",
       "      <td> 620</td>\n",
       "      <td> 961</td>\n",
       "      <td> 17</td>\n",
       "      <td> 22</td>\n",
       "      <td> TTA</td>\n",
       "      <td> 62.057971</td>\n",
       "      <td> 0.343284</td>\n",
       "      <td>            NaN</td>\n",
       "      <td> 20885</td>\n",
       "      <td> 0.820968</td>\n",
       "      <td> 10037</td>\n",
       "      <td> 10038</td>\n",
       "      <td> 0</td>\n",
       "      <td> 1</td>\n",
       "      <td> 1</td>\n",
       "      <td>...</td>\n",
       "    </tr>\n",
       "    <tr>\n",
       "      <th>1</th>\n",
       "      <td> chr1</td>\n",
       "      <td> 10109</td>\n",
       "      <td> 362</td>\n",
       "      <td> 152</td>\n",
       "      <td>  9437</td>\n",
       "      <td> 614</td>\n",
       "      <td> 871</td>\n",
       "      <td> 17</td>\n",
       "      <td> 81</td>\n",
       "      <td> TTG</td>\n",
       "      <td>  4.730000</td>\n",
       "      <td> 0.507463</td>\n",
       "      <td>            NaN</td>\n",
       "      <td> 20814</td>\n",
       "      <td> 0.749186</td>\n",
       "      <td> 10108</td>\n",
       "      <td> 10109</td>\n",
       "      <td> 0</td>\n",
       "      <td> 0</td>\n",
       "      <td> 0</td>\n",
       "      <td>...</td>\n",
       "    </tr>\n",
       "    <tr>\n",
       "      <th>2</th>\n",
       "      <td> chr1</td>\n",
       "      <td> 10177</td>\n",
       "      <td> 122</td>\n",
       "      <td>  54</td>\n",
       "      <td>  3685</td>\n",
       "      <td> 185</td>\n",
       "      <td> 219</td>\n",
       "      <td> 17</td>\n",
       "      <td> 45</td>\n",
       "      <td> GTT</td>\n",
       "      <td>  4.838384</td>\n",
       "      <td> 0.502488</td>\n",
       "      <td>            NaN</td>\n",
       "      <td> 20746</td>\n",
       "      <td> 0.281081</td>\n",
       "      <td> 10176</td>\n",
       "      <td> 10177</td>\n",
       "      <td> 0</td>\n",
       "      <td> 0</td>\n",
       "      <td> 0</td>\n",
       "      <td>...</td>\n",
       "    </tr>\n",
       "    <tr>\n",
       "      <th>3</th>\n",
       "      <td> chr1</td>\n",
       "      <td> 10180</td>\n",
       "      <td> 146</td>\n",
       "      <td>  33</td>\n",
       "      <td>  4054</td>\n",
       "      <td> 193</td>\n",
       "      <td> 233</td>\n",
       "      <td> 17</td>\n",
       "      <td> 46</td>\n",
       "      <td> CTA</td>\n",
       "      <td>  4.897959</td>\n",
       "      <td> 0.497512</td>\n",
       "      <td>            NaN</td>\n",
       "      <td> 20743</td>\n",
       "      <td> 0.264249</td>\n",
       "      <td> 10179</td>\n",
       "      <td> 10180</td>\n",
       "      <td> 0</td>\n",
       "      <td> 0</td>\n",
       "      <td> 0</td>\n",
       "      <td>...</td>\n",
       "    </tr>\n",
       "    <tr>\n",
       "      <th>4</th>\n",
       "      <td> chr1</td>\n",
       "      <td> 15190</td>\n",
       "      <td> 185</td>\n",
       "      <td>  97</td>\n",
       "      <td>  8002</td>\n",
       "      <td> 287</td>\n",
       "      <td> 172</td>\n",
       "      <td> 17</td>\n",
       "      <td> 35</td>\n",
       "      <td> CCG</td>\n",
       "      <td>  2.750000</td>\n",
       "      <td> 0.641791</td>\n",
       "      <td> ncRNA_intronic</td>\n",
       "      <td> 15733</td>\n",
       "      <td> 0.463415</td>\n",
       "      <td> 15189</td>\n",
       "      <td> 15190</td>\n",
       "      <td> 0</td>\n",
       "      <td> 0</td>\n",
       "      <td> 0</td>\n",
       "      <td>...</td>\n",
       "    </tr>\n",
       "  </tbody>\n",
       "</table>\n",
       "<p>5 rows × 143 columns</p>\n",
       "</div>"
      ],
      "text/plain": [
       "  CHROM  POS_x  RefAllele  NonRefAllele  BaseQual  TumourCoverage  \\\n",
       "0  chr1  10038        522            12     16153             620   \n",
       "1  chr1  10109        362           152      9437             614   \n",
       "2  chr1  10177        122            54      3685             185   \n",
       "3  chr1  10180        146            33      4054             193   \n",
       "4  chr1  15190        185            97      8002             287   \n",
       "\n",
       "   NormalCoverage  MapQual  ReadPosition Trinucleotide  HomopolymerRate  \\\n",
       "0             961       17            22           TTA        62.057971   \n",
       "1             871       17            81           TTG         4.730000   \n",
       "2             219       17            45           GTT         4.838384   \n",
       "3             233       17            46           CTA         4.897959   \n",
       "4             172       17            35           CCG         2.750000   \n",
       "\n",
       "   GCcontent GenomicLocation  DistanceSNP  StrandBias  POS_y    END  X2399008  \\\n",
       "0   0.343284             NaN        20885    0.820968  10037  10038         0   \n",
       "1   0.507463             NaN        20814    0.749186  10108  10109         0   \n",
       "2   0.502488             NaN        20746    0.281081  10176  10177         0   \n",
       "3   0.497512             NaN        20743    0.264249  10179  10180         0   \n",
       "4   0.641791  ncRNA_intronic        15733    0.463415  15189  15190         0   \n",
       "\n",
       "   X2701035  X2701039      \n",
       "0         1         1 ...  \n",
       "1         0         0 ...  \n",
       "2         0         0 ...  \n",
       "3         0         0 ...  \n",
       "4         0         0 ...  \n",
       "\n",
       "[5 rows x 143 columns]"
      ]
     },
     "execution_count": 81,
     "metadata": {},
     "output_type": "execute_result"
    }
   ],
   "source": [
    "PCSI0044.head() #182+15"
   ]
  },
  {
   "cell_type": "code",
   "execution_count": 82,
   "metadata": {
    "collapsed": true
   },
   "outputs": [],
   "source": [
    "PCSI0044_X = PCSI0044.iloc[:,2:15] #Exclude CHROM, POS\n",
    "PCSI0044_Y = PCSI0044.iloc[:,17:]  #Exclude CHROM_y, POS_y, END"
   ]
  },
  {
   "cell_type": "code",
   "execution_count": 83,
   "metadata": {
    "collapsed": false
   },
   "outputs": [
    {
     "name": "stdout",
     "output_type": "stream",
     "text": [
      "(118394, 13)\n",
      "(118394, 126)\n"
     ]
    }
   ],
   "source": [
    "print PCSI0044_X.shape\n",
    "print PCSI0044_Y.shape"
   ]
  },
  {
   "cell_type": "code",
   "execution_count": 84,
   "metadata": {
    "collapsed": false
   },
   "outputs": [
    {
     "data": {
      "text/html": [
       "<div style=\"max-height:1000px;max-width:1500px;overflow:auto;\">\n",
       "<table border=\"1\" class=\"dataframe\">\n",
       "  <thead>\n",
       "    <tr style=\"text-align: right;\">\n",
       "      <th></th>\n",
       "      <th>RefAllele</th>\n",
       "      <th>NonRefAllele</th>\n",
       "      <th>BaseQual</th>\n",
       "      <th>TumourCoverage</th>\n",
       "      <th>NormalCoverage</th>\n",
       "      <th>MapQual</th>\n",
       "      <th>ReadPosition</th>\n",
       "      <th>Trinucleotide</th>\n",
       "      <th>HomopolymerRate</th>\n",
       "      <th>GCcontent</th>\n",
       "      <th>GenomicLocation</th>\n",
       "      <th>DistanceSNP</th>\n",
       "      <th>StrandBias</th>\n",
       "    </tr>\n",
       "  </thead>\n",
       "  <tbody>\n",
       "    <tr>\n",
       "      <th>0</th>\n",
       "      <td> 522</td>\n",
       "      <td>  12</td>\n",
       "      <td> 16153</td>\n",
       "      <td> 620</td>\n",
       "      <td> 961</td>\n",
       "      <td> 17</td>\n",
       "      <td> 22</td>\n",
       "      <td> TTA</td>\n",
       "      <td> 62.057971</td>\n",
       "      <td> 0.343284</td>\n",
       "      <td> NaN</td>\n",
       "      <td> 20885</td>\n",
       "      <td> 0.820968</td>\n",
       "    </tr>\n",
       "    <tr>\n",
       "      <th>1</th>\n",
       "      <td> 362</td>\n",
       "      <td> 152</td>\n",
       "      <td>  9437</td>\n",
       "      <td> 614</td>\n",
       "      <td> 871</td>\n",
       "      <td> 17</td>\n",
       "      <td> 81</td>\n",
       "      <td> TTG</td>\n",
       "      <td>  4.730000</td>\n",
       "      <td> 0.507463</td>\n",
       "      <td> NaN</td>\n",
       "      <td> 20814</td>\n",
       "      <td> 0.749186</td>\n",
       "    </tr>\n",
       "  </tbody>\n",
       "</table>\n",
       "<p>2 rows × 13 columns</p>\n",
       "</div>"
      ],
      "text/plain": [
       "   RefAllele  NonRefAllele  BaseQual  TumourCoverage  NormalCoverage  MapQual  \\\n",
       "0        522            12     16153             620             961       17   \n",
       "1        362           152      9437             614             871       17   \n",
       "\n",
       "   ReadPosition Trinucleotide  HomopolymerRate  GCcontent GenomicLocation  \\\n",
       "0            22           TTA        62.057971   0.343284             NaN   \n",
       "1            81           TTG         4.730000   0.507463             NaN   \n",
       "\n",
       "   DistanceSNP  StrandBias  \n",
       "0        20885    0.820968  \n",
       "1        20814    0.749186  \n",
       "\n",
       "[2 rows x 13 columns]"
      ]
     },
     "execution_count": 84,
     "metadata": {},
     "output_type": "execute_result"
    }
   ],
   "source": [
    "PCSI0044_X[:2]"
   ]
  },
  {
   "cell_type": "code",
   "execution_count": 85,
   "metadata": {
    "collapsed": false
   },
   "outputs": [
    {
     "data": {
      "text/html": [
       "<div style=\"max-height:1000px;max-width:1500px;overflow:auto;\">\n",
       "<table border=\"1\" class=\"dataframe\">\n",
       "  <thead>\n",
       "    <tr style=\"text-align: right;\">\n",
       "      <th></th>\n",
       "      <th>X2399008</th>\n",
       "      <th>X2701035</th>\n",
       "      <th>X2701039</th>\n",
       "      <th>X2762073</th>\n",
       "      <th>X2762075</th>\n",
       "      <th>X2791030</th>\n",
       "      <th>X2811081</th>\n",
       "      <th>X2811083</th>\n",
       "      <th>X2811087</th>\n",
       "      <th>X2811089</th>\n",
       "      <th>X2811393</th>\n",
       "      <th>X2812910</th>\n",
       "      <th>X2813249</th>\n",
       "      <th>X2813259</th>\n",
       "      <th>X2813291</th>\n",
       "      <th>X2813337</th>\n",
       "      <th>X2813381</th>\n",
       "      <th>X2813446</th>\n",
       "      <th>X2813711</th>\n",
       "      <th>X2813714</th>\n",
       "      <th></th>\n",
       "    </tr>\n",
       "  </thead>\n",
       "  <tbody>\n",
       "    <tr>\n",
       "      <th>0</th>\n",
       "      <td> 0</td>\n",
       "      <td> 1</td>\n",
       "      <td> 1</td>\n",
       "      <td> 0</td>\n",
       "      <td> 0</td>\n",
       "      <td> 0</td>\n",
       "      <td> 0</td>\n",
       "      <td> 0</td>\n",
       "      <td> 0</td>\n",
       "      <td> 0</td>\n",
       "      <td> 0</td>\n",
       "      <td> 0</td>\n",
       "      <td> 0</td>\n",
       "      <td> 0</td>\n",
       "      <td> 0</td>\n",
       "      <td> 0</td>\n",
       "      <td> 0</td>\n",
       "      <td> 0</td>\n",
       "      <td> 0</td>\n",
       "      <td> 0</td>\n",
       "      <td>...</td>\n",
       "    </tr>\n",
       "    <tr>\n",
       "      <th>1</th>\n",
       "      <td> 0</td>\n",
       "      <td> 0</td>\n",
       "      <td> 0</td>\n",
       "      <td> 0</td>\n",
       "      <td> 0</td>\n",
       "      <td> 0</td>\n",
       "      <td> 0</td>\n",
       "      <td> 0</td>\n",
       "      <td> 0</td>\n",
       "      <td> 0</td>\n",
       "      <td> 0</td>\n",
       "      <td> 0</td>\n",
       "      <td> 0</td>\n",
       "      <td> 0</td>\n",
       "      <td> 1</td>\n",
       "      <td> 0</td>\n",
       "      <td> 0</td>\n",
       "      <td> 0</td>\n",
       "      <td> 0</td>\n",
       "      <td> 0</td>\n",
       "      <td>...</td>\n",
       "    </tr>\n",
       "  </tbody>\n",
       "</table>\n",
       "<p>2 rows × 126 columns</p>\n",
       "</div>"
      ],
      "text/plain": [
       "   X2399008  X2701035  X2701039  X2762073  X2762075  X2791030  X2811081  \\\n",
       "0         0         1         1         0         0         0         0   \n",
       "1         0         0         0         0         0         0         0   \n",
       "\n",
       "   X2811083  X2811087  X2811089  X2811393  X2812910  X2813249  X2813259  \\\n",
       "0         0         0         0         0         0         0         0   \n",
       "1         0         0         0         0         0         0         0   \n",
       "\n",
       "   X2813291  X2813337  X2813381  X2813446  X2813711  X2813714      \n",
       "0         0         0         0         0         0         0 ...  \n",
       "1         1         0         0         0         0         0 ...  \n",
       "\n",
       "[2 rows x 126 columns]"
      ]
     },
     "execution_count": 85,
     "metadata": {},
     "output_type": "execute_result"
    }
   ],
   "source": [
    "PCSI0044_Y[:2]"
   ]
  },
  {
   "cell_type": "code",
   "execution_count": 86,
   "metadata": {
    "collapsed": false
   },
   "outputs": [
    {
     "name": "stdout",
     "output_type": "stream",
     "text": [
      "118394\n",
      "(118394, 1)\n"
     ]
    }
   ],
   "source": [
    "totalSample = PCSI0044_Y.shape[0]\n",
    "PCSI0044_Y_Val = np.zeros((totalSample,1)) #Will be our label now\n",
    "\n",
    "print totalSample\n",
    "print PCSI0044_Y_Val.shape"
   ]
  },
  {
   "cell_type": "code",
   "execution_count": 87,
   "metadata": {
    "collapsed": false
   },
   "outputs": [
    {
     "data": {
      "text/plain": [
       "(118394, 126)"
      ]
     },
     "execution_count": 87,
     "metadata": {},
     "output_type": "execute_result"
    }
   ],
   "source": [
    "PCSI0044_Y.shape"
   ]
  },
  {
   "cell_type": "code",
   "execution_count": 88,
   "metadata": {
    "collapsed": false
   },
   "outputs": [
    {
     "data": {
      "text/plain": [
       "(126,)"
      ]
     },
     "execution_count": 88,
     "metadata": {},
     "output_type": "execute_result"
    }
   ],
   "source": [
    "PCSI0044_Y.values[0].shape"
   ]
  },
  {
   "cell_type": "code",
   "execution_count": 89,
   "metadata": {
    "collapsed": true
   },
   "outputs": [],
   "source": [
    "for i in range(totalSample):\n",
    "    PCSI0044_Y_Val[i] = np.argmax(np.bincount(PCSI0044_Y.values[i]))"
   ]
  },
  {
   "cell_type": "code",
   "execution_count": 90,
   "metadata": {
    "collapsed": true
   },
   "outputs": [],
   "source": [
    "PCSI0044_Y_Val_1 = pd.DataFrame(PCSI0044_Y_Val)\n",
    "PCSI0044_Y_Val_1.columns = ['Label']"
   ]
  },
  {
   "cell_type": "code",
   "execution_count": 91,
   "metadata": {
    "collapsed": false
   },
   "outputs": [
    {
     "data": {
      "text/html": [
       "<div style=\"max-height:1000px;max-width:1500px;overflow:auto;\">\n",
       "<table border=\"1\" class=\"dataframe\">\n",
       "  <thead>\n",
       "    <tr style=\"text-align: right;\">\n",
       "      <th></th>\n",
       "      <th>Label</th>\n",
       "    </tr>\n",
       "  </thead>\n",
       "  <tbody>\n",
       "    <tr>\n",
       "      <th>0</th>\n",
       "      <td> 0</td>\n",
       "    </tr>\n",
       "    <tr>\n",
       "      <th>1</th>\n",
       "      <td> 0</td>\n",
       "    </tr>\n",
       "    <tr>\n",
       "      <th>2</th>\n",
       "      <td> 0</td>\n",
       "    </tr>\n",
       "  </tbody>\n",
       "</table>\n",
       "<p>3 rows × 1 columns</p>\n",
       "</div>"
      ],
      "text/plain": [
       "   Label\n",
       "0      0\n",
       "1      0\n",
       "2      0\n",
       "\n",
       "[3 rows x 1 columns]"
      ]
     },
     "execution_count": 91,
     "metadata": {},
     "output_type": "execute_result"
    }
   ],
   "source": [
    "PCSI0044_Y_Val_1[:3]"
   ]
  },
  {
   "cell_type": "code",
   "execution_count": 92,
   "metadata": {
    "collapsed": true
   },
   "outputs": [],
   "source": [
    "PCSI0044_dataframe = pd.concat([PCSI0044_X, PCSI0044_Y_Val_1],axis=1)"
   ]
  },
  {
   "cell_type": "code",
   "execution_count": 93,
   "metadata": {
    "collapsed": false
   },
   "outputs": [
    {
     "data": {
      "text/plain": [
       "(118394, 14)"
      ]
     },
     "execution_count": 93,
     "metadata": {},
     "output_type": "execute_result"
    }
   ],
   "source": [
    "PCSI0044_dataframe.shape"
   ]
  },
  {
   "cell_type": "code",
   "execution_count": 94,
   "metadata": {
    "collapsed": false
   },
   "outputs": [
    {
     "data": {
      "text/html": [
       "<div style=\"max-height:1000px;max-width:1500px;overflow:auto;\">\n",
       "<table border=\"1\" class=\"dataframe\">\n",
       "  <thead>\n",
       "    <tr style=\"text-align: right;\">\n",
       "      <th></th>\n",
       "      <th>RefAllele</th>\n",
       "      <th>NonRefAllele</th>\n",
       "      <th>BaseQual</th>\n",
       "      <th>TumourCoverage</th>\n",
       "      <th>NormalCoverage</th>\n",
       "      <th>MapQual</th>\n",
       "      <th>ReadPosition</th>\n",
       "      <th>Trinucleotide</th>\n",
       "      <th>HomopolymerRate</th>\n",
       "      <th>GCcontent</th>\n",
       "      <th>GenomicLocation</th>\n",
       "      <th>DistanceSNP</th>\n",
       "      <th>StrandBias</th>\n",
       "      <th>Label</th>\n",
       "    </tr>\n",
       "  </thead>\n",
       "  <tbody>\n",
       "    <tr>\n",
       "      <th>0</th>\n",
       "      <td> 522</td>\n",
       "      <td>  12</td>\n",
       "      <td> 16153</td>\n",
       "      <td> 620</td>\n",
       "      <td> 961</td>\n",
       "      <td> 17</td>\n",
       "      <td> 22</td>\n",
       "      <td> TTA</td>\n",
       "      <td> 62.057971</td>\n",
       "      <td> 0.343284</td>\n",
       "      <td> NaN</td>\n",
       "      <td> 20885</td>\n",
       "      <td> 0.820968</td>\n",
       "      <td> 0</td>\n",
       "    </tr>\n",
       "    <tr>\n",
       "      <th>1</th>\n",
       "      <td> 362</td>\n",
       "      <td> 152</td>\n",
       "      <td>  9437</td>\n",
       "      <td> 614</td>\n",
       "      <td> 871</td>\n",
       "      <td> 17</td>\n",
       "      <td> 81</td>\n",
       "      <td> TTG</td>\n",
       "      <td>  4.730000</td>\n",
       "      <td> 0.507463</td>\n",
       "      <td> NaN</td>\n",
       "      <td> 20814</td>\n",
       "      <td> 0.749186</td>\n",
       "      <td> 0</td>\n",
       "    </tr>\n",
       "  </tbody>\n",
       "</table>\n",
       "<p>2 rows × 14 columns</p>\n",
       "</div>"
      ],
      "text/plain": [
       "   RefAllele  NonRefAllele  BaseQual  TumourCoverage  NormalCoverage  MapQual  \\\n",
       "0        522            12     16153             620             961       17   \n",
       "1        362           152      9437             614             871       17   \n",
       "\n",
       "   ReadPosition Trinucleotide  HomopolymerRate  GCcontent GenomicLocation  \\\n",
       "0            22           TTA        62.057971   0.343284             NaN   \n",
       "1            81           TTG         4.730000   0.507463             NaN   \n",
       "\n",
       "   DistanceSNP  StrandBias  Label  \n",
       "0        20885    0.820968      0  \n",
       "1        20814    0.749186      0  \n",
       "\n",
       "[2 rows x 14 columns]"
      ]
     },
     "execution_count": 94,
     "metadata": {},
     "output_type": "execute_result"
    }
   ],
   "source": [
    "PCSI0044_dataframe[:2]"
   ]
  },
  {
   "cell_type": "code",
   "execution_count": 39,
   "metadata": {
    "collapsed": true
   },
   "outputs": [],
   "source": [
    "PCSI0044_dataframe.to_csv('PCSI0044.csv')"
   ]
  },
  {
   "cell_type": "code",
   "execution_count": 40,
   "metadata": {
    "collapsed": true
   },
   "outputs": [],
   "source": [
    "#Now we have variable importance ...lets do analysis"
   ]
  },
  {
   "cell_type": "code",
   "execution_count": 41,
   "metadata": {
    "collapsed": false
   },
   "outputs": [
    {
     "name": "stdout",
     "output_type": "stream",
     "text": [
      "The rpy2.ipython extension is already loaded. To reload it, use:\n",
      "  %reload_ext rpy2.ipython\n"
     ]
    }
   ],
   "source": [
    "%load_ext rpy2.ipython"
   ]
  },
  {
   "cell_type": "code",
   "execution_count": 43,
   "metadata": {
    "collapsed": false
   },
   "outputs": [
    {
     "data": {
      "text/plain": [
       "'data.frame':\t118394 obs. of  15 variables:\n",
       " $ X              : int  0 1 2 3 4 5 6 7 8 9 ...\n",
       " $ RefAllele      : int  522 362 122 146 185 130 148 120 253 90 ...\n",
       " $ NonRefAllele   : int  12 152 54 33 97 22 32 61 97 22 ...\n",
       " $ BaseQual       : int  16153 9437 3685 4054 8002 4592 5697 5812 9971 3126 ...\n",
       " $ TumourCoverage : int  620 614 185 193 287 157 186 187 357 113 ...\n",
       " $ NormalCoverage : int  961 871 219 233 172 118 90 90 210 101 ...\n",
       " $ MapQual        : num  17 17 17 17 17 16 16 16 37 0 ...\n",
       " $ ReadPosition   : num  22 81 45 46 35 67 57 59 67 59 ...\n",
       " $ Trinucleotide  : Factor w/ 33 levels \"ACA\",\"ACC\",\"ACG\",..: 30 32 25 13 11 10 9 31 18 19 ...\n",
       " $ HomopolymerRate: num  62.06 4.73 4.84 4.9 2.75 ...\n",
       " $ GCcontent      : num  0.343 0.507 0.502 0.498 0.642 ...\n",
       " $ GenomicLocation: Factor w/ 16 levels \"\",\"downstream\",..: 1 1 1 1 8 1 8 8 1 1 ...\n",
       " $ DistanceSNP    : int  20885 20814 20746 20743 15733 14666 14428 14426 13385 11601 ...\n",
       " $ StrandBias     : num  0.821 0.749 0.281 0.264 0.463 ...\n",
       " $ Label          : num  0 0 0 0 0 0 0 0 0 0 ...\n"
      ]
     },
     "metadata": {},
     "output_type": "display_data"
    }
   ],
   "source": [
    "%%R\n",
    "# Read in the data\n",
    "PCSI0044Frame = read.csv(\"PCSI0044.csv\")\n",
    "str(PCSI0044Frame)"
   ]
  },
  {
   "cell_type": "code",
   "execution_count": 44,
   "metadata": {
    "collapsed": false
   },
   "outputs": [
    {
     "data": {
      "text/plain": [
       "[1] 0\n"
      ]
     },
     "metadata": {},
     "output_type": "display_data"
    }
   ],
   "source": [
    "%%R\n",
    "#sum(is.na(CPCG0183Frame$StrandBias))\n",
    "#sum(is.na(IS1Frame$ReadPosition)) \n",
    "sum(is.na(PCSI0044Frame)) "
   ]
  },
  {
   "cell_type": "code",
   "execution_count": 45,
   "metadata": {
    "collapsed": false
   },
   "outputs": [],
   "source": [
    "#%%R\n",
    "#CPCG0235Frame$ReadPosition[is.na(CPCG0235Frame$ReadPosition)] = mean(CPCG0235Frame$ReadPosition, na.rm=TRUE)\n",
    "#CPCG0235Frame$StrandBias[is.na(CPCG0235Frame$StrandBias)] = mean(CPCG0235Frame$StrandBias, na.rm=TRUE)\n",
    "\n",
    "#print (sum(is.na(CPCG0235Frame$ReadPosition)) )\n",
    "#print (sum(is.na(CPCG0235Frame$StrandBias)) )"
   ]
  },
  {
   "cell_type": "code",
   "execution_count": 46,
   "metadata": {
    "collapsed": false
   },
   "outputs": [
    {
     "data": {
      "text/plain": [
       "[1] 0\n"
      ]
     },
     "metadata": {},
     "output_type": "display_data"
    }
   ],
   "source": [
    "%%R\n",
    "sum(is.na(PCSI0044Frame))  #No NA value now"
   ]
  },
  {
   "cell_type": "code",
   "execution_count": 47,
   "metadata": {
    "collapsed": true
   },
   "outputs": [],
   "source": [
    "%%R\n",
    "write.csv(PCSI0044Frame, file = \"PCSI0044_imputed.csv\")  #Cleaned CSV without NA"
   ]
  },
  {
   "cell_type": "code",
   "execution_count": 48,
   "metadata": {
    "collapsed": false
   },
   "outputs": [
    {
     "name": "stderr",
     "output_type": "stream",
     "text": [
      "/usr/local/lib/python2.7/dist-packages/rpy2/robjects/functions.py:106: UserWarning: Loading required package: statmod\n",
      "\n",
      "  res = super(Function, self).__call__(*new_args, **new_kwargs)\n",
      "/usr/local/lib/python2.7/dist-packages/rpy2/robjects/functions.py:106: UserWarning: \n",
      "----------------------------------------------------------------------\n",
      "\n",
      "Your next step is to start H2O:\n",
      "    > h2o.init()\n",
      "\n",
      "For H2O package documentation, ask for help:\n",
      "    > ??h2o\n",
      "\n",
      "After starting H2O, you can use the Web UI at http://localhost:54321\n",
      "For more information visit http://docs.h2o.ai\n",
      "\n",
      "----------------------------------------------------------------------\n",
      "\n",
      "\n",
      "  res = super(Function, self).__call__(*new_args, **new_kwargs)\n",
      "/usr/local/lib/python2.7/dist-packages/rpy2/robjects/functions.py:106: UserWarning: \n",
      "Attaching package: ‘h2o’\n",
      "\n",
      "\n",
      "  res = super(Function, self).__call__(*new_args, **new_kwargs)\n",
      "/usr/local/lib/python2.7/dist-packages/rpy2/robjects/functions.py:106: UserWarning: The following objects are masked from ‘package:stats’:\n",
      "\n",
      "    sd, var\n",
      "\n",
      "\n",
      "  res = super(Function, self).__call__(*new_args, **new_kwargs)\n",
      "/usr/local/lib/python2.7/dist-packages/rpy2/robjects/functions.py:106: UserWarning: The following objects are masked from ‘package:base’:\n",
      "\n",
      "    ||, &&, %*%, apply, as.factor, as.numeric, colnames, colnames<-,\n",
      "    ifelse, %in%, is.character, is.factor, is.numeric, log, log10,\n",
      "    log1p, log2, round, signif, trunc\n",
      "\n",
      "\n",
      "  res = super(Function, self).__call__(*new_args, **new_kwargs)\n"
     ]
    },
    {
     "data": {
      "text/plain": [
       " Connection successful!\n",
       "\n",
       "R is connected to the H2O cluster: \n",
       "    H2O cluster uptime:         1 hours 6 minutes \n",
       "    H2O cluster version:        3.9.1.3435 \n",
       "    H2O cluster name:           H2O_started_from_R_rbhat_xqb196 \n",
       "    H2O cluster total nodes:    1 \n",
       "    H2O cluster total memory:   26.57 GB \n",
       "    H2O cluster total cores:    56 \n",
       "    H2O cluster allowed cores:  2 \n",
       "    H2O cluster healthy:        TRUE \n",
       "    H2O Connection ip:          localhost \n",
       "    H2O Connection port:        54321 \n",
       "    H2O Connection proxy:       NA \n",
       "    R Version:                  R version 3.3.0 beta (2016-03-30 r70404) \n",
       "\n"
      ]
     },
     "metadata": {},
     "output_type": "display_data"
    }
   ],
   "source": [
    "%%R\n",
    "library(h2o)\n",
    "localH2O = h2o.init(ip = \"localhost\", port = 54321, startH2O = TRUE,min_mem_size = \"3g\")"
   ]
  },
  {
   "cell_type": "code",
   "execution_count": 49,
   "metadata": {
    "collapsed": false
   },
   "outputs": [
    {
     "data": {
      "text/plain": [
       "\r",
       "  |                                                                            \r",
       "  |                                                                      |   0%\r",
       "  |                                                                            \r",
       "  |======================================================================| 100%\n",
       "'data.frame':\t118394 obs. of  16 variables:\n",
       " $ C1             : int  1 2 3 4 5 6 7 8 9 10 ...\n",
       " $ X              : int  0 1 2 3 4 5 6 7 8 9 ...\n",
       " $ RefAllele      : int  522 362 122 146 185 130 148 120 253 90 ...\n",
       " $ NonRefAllele   : int  12 152 54 33 97 22 32 61 97 22 ...\n",
       " $ BaseQual       : int  16153 9437 3685 4054 8002 4592 5697 5812 9971 3126 ...\n",
       " $ TumourCoverage : int  620 614 185 193 287 157 186 187 357 113 ...\n",
       " $ NormalCoverage : int  961 871 219 233 172 118 90 90 210 101 ...\n",
       " $ MapQual        : num  17 17 17 17 17 16 16 16 37 0 ...\n",
       " $ ReadPosition   : num  22 81 45 46 35 67 57 59 67 59 ...\n",
       " $ Trinucleotide  : Factor w/ 33 levels \"ACA\",\"ACC\",\"ACG\",..: 30 32 25 13 11 10 9 31 18 19 ...\n",
       " $ HomopolymerRate: num  62.06 4.73 4.84 4.9 2.75 ...\n",
       " $ GCcontent      : num  0.343 0.507 0.502 0.498 0.642 ...\n",
       " $ GenomicLocation: Factor w/ 15 levels \"downstream\",\"exonic\",..: NA NA NA NA 7 NA 7 7 NA NA ...\n",
       " $ DistanceSNP    : int  20885 20814 20746 20743 15733 14666 14428 14426 13385 11601 ...\n",
       " $ StrandBias     : num  0.821 0.749 0.281 0.264 0.463 ...\n",
       " $ Label          : int  0 0 0 0 0 0 0 0 0 0 ...\n"
      ]
     },
     "metadata": {},
     "output_type": "display_data"
    }
   ],
   "source": [
    "%%R\n",
    "## Import CSV as H2O:\n",
    "csvPath = \"/home/rbhat/Workspace/S3Lab_Projects/SMC-MetaChallange/PCSI0044_imputed.csv\"\n",
    "PCSI0044.hex          = h2o.importFile(path = csvPath, destination_frame = \"PCSI0044.hex\") \n",
    "train                 = as.data.frame(PCSI0044.hex)\n",
    "\n",
    "str(train)"
   ]
  },
  {
   "cell_type": "code",
   "execution_count": 50,
   "metadata": {
    "collapsed": false
   },
   "outputs": [
    {
     "data": {
      "text/plain": [
       "\r",
       "  |                                                                            \r",
       "  |                                                                      |   0%\r",
       "  |                                                                            \r",
       "  |======================================================================| 100%\n"
      ]
     },
     "metadata": {},
     "output_type": "display_data"
    }
   ],
   "source": [
    "%%R\n",
    "\n",
    "train$Trinucleotide   = as.factor(train$Trinucleotide)\n",
    "train$GenomicLocation = as.factor(train$GenomicLocation)\n",
    "train$Label           = as.factor(train$Label)\n",
    "\n",
    "train_h2o             = as.h2o(train)"
   ]
  },
  {
   "cell_type": "code",
   "execution_count": 51,
   "metadata": {
    "collapsed": false
   },
   "outputs": [
    {
     "data": {
      "text/plain": [
       "\r",
       "  |                                                                            \r",
       "  |                                                                      |   0%\r",
       "  |                                                                            \r",
       "  |====                                                                  |   5%\r",
       "  |                                                                            \r",
       "  |=======                                                               |  10%\r",
       "  |                                                                            \r",
       "  |============                                                          |  17%\r",
       "  |                                                                            \r",
       "  |=================                                                     |  24%\r",
       "  |                                                                            \r",
       "  |=====================                                                 |  30%\r",
       "  |                                                                            \r",
       "  |==========================                                            |  37%\r",
       "  |                                                                            \r",
       "  |===============================                                       |  44%\r",
       "  |                                                                            \r",
       "  |=====================================                                 |  52%\r",
       "  |                                                                            \r",
       "  |=========================================                             |  59%\r",
       "  |                                                                            \r",
       "  |===============================================                       |  68%\r",
       "  |                                                                            \r",
       "  |====================================================                  |  74%\r",
       "  |                                                                            \r",
       "  |=========================================================             |  81%\r",
       "  |                                                                            \r",
       "  |===============================================================       |  90%\r",
       "  |                                                                            \r",
       "  |===================================================================   |  96%\r",
       "  |                                                                            \r",
       "  |======================================================================| 100%\n"
      ]
     },
     "metadata": {},
     "output_type": "display_data"
    }
   ],
   "source": [
    "%%R\n",
    "#Training a deep learning model:---------------------------------------------------------#\n",
    "model <- h2o.deeplearning( x = 3:15, # column numbers for predictors\n",
    "                           y = 16,            # column number for label\n",
    "                           training_frame = train_h2o,\n",
    "                           activation = \"RectifierWithDropout\", \n",
    "                           input_dropout_ratio = 0.2,\n",
    "                           hidden_dropout_ratios = c(0.5,0.5),\n",
    "                           balance_classes = TRUE, \n",
    "                           hidden = c(10,8),  ## two hidden layers\n",
    "                           epochs = 50,\n",
    "                           variable_importances = T)"
   ]
  },
  {
   "cell_type": "code",
   "execution_count": 52,
   "metadata": {
    "collapsed": false
   },
   "outputs": [
    {
     "data": {
      "text/plain": [
       "Variable Importances: \n",
       "        variable relative_importance scaled_importance percentage\n",
       "1   NonRefAllele            1.000000          1.000000   0.224545\n",
       "2       BaseQual            0.489538          0.489538   0.109923\n",
       "3 NormalCoverage            0.292588          0.292588   0.065699\n",
       "4      RefAllele            0.182690          0.182690   0.041022\n",
       "5 TumourCoverage            0.165102          0.165102   0.037073\n",
       "\n",
       "---\n",
       "                     variable relative_importance scaled_importance percentage\n",
       "56          Trinucleotide.CCT            0.012536          0.012536   0.002815\n",
       "57   GenomicLocation.intronic            0.010406          0.010406   0.002337\n",
       "58 GenomicLocation.intergenic            0.007761          0.007761   0.001743\n",
       "59               ReadPosition            0.007600          0.007600   0.001706\n",
       "60                 StrandBias            0.003251          0.003251   0.000730\n",
       "61  Trinucleotide.missing(NA)            0.000000          0.000000   0.000000\n"
      ]
     },
     "metadata": {},
     "output_type": "display_data"
    }
   ],
   "source": [
    "%%R\n",
    "var_importance = h2o.varimp(model)\n",
    "#print(var_importance)\n",
    "h2o.varimp(model)"
   ]
  },
  {
   "cell_type": "code",
   "execution_count": 53,
   "metadata": {
    "collapsed": true
   },
   "outputs": [],
   "source": [
    "%%R\n",
    "write.table(var_importance, file=\"PCSI0044_variable_importance.csv\")"
   ]
  },
  {
   "cell_type": "code",
   "execution_count": 54,
   "metadata": {
    "collapsed": true
   },
   "outputs": [],
   "source": [
    "var_importance = pd.read_csv(open('PCSI0044_variable_importance.csv','r'),sep=' ')\n",
    "#pd.read_csv('CPCG0100_variable_importance.csv')"
   ]
  },
  {
   "cell_type": "code",
   "execution_count": 55,
   "metadata": {
    "collapsed": false
   },
   "outputs": [
    {
     "data": {
      "text/html": [
       "<div style=\"max-height:1000px;max-width:1500px;overflow:auto;\">\n",
       "<table border=\"1\" class=\"dataframe\">\n",
       "  <thead>\n",
       "    <tr style=\"text-align: right;\">\n",
       "      <th></th>\n",
       "      <th>variable</th>\n",
       "      <th>relative_importance</th>\n",
       "      <th>scaled_importance</th>\n",
       "      <th>percentage</th>\n",
       "    </tr>\n",
       "  </thead>\n",
       "  <tbody>\n",
       "    <tr>\n",
       "      <th>1</th>\n",
       "      <td>   NonRefAllele</td>\n",
       "      <td> 1.000000</td>\n",
       "      <td> 1.000000</td>\n",
       "      <td> 0.224545</td>\n",
       "    </tr>\n",
       "    <tr>\n",
       "      <th>2</th>\n",
       "      <td>       BaseQual</td>\n",
       "      <td> 0.489538</td>\n",
       "      <td> 0.489538</td>\n",
       "      <td> 0.109923</td>\n",
       "    </tr>\n",
       "    <tr>\n",
       "      <th>3</th>\n",
       "      <td> NormalCoverage</td>\n",
       "      <td> 0.292588</td>\n",
       "      <td> 0.292588</td>\n",
       "      <td> 0.065699</td>\n",
       "    </tr>\n",
       "    <tr>\n",
       "      <th>4</th>\n",
       "      <td>      RefAllele</td>\n",
       "      <td> 0.182690</td>\n",
       "      <td> 0.182690</td>\n",
       "      <td> 0.041022</td>\n",
       "    </tr>\n",
       "    <tr>\n",
       "      <th>5</th>\n",
       "      <td> TumourCoverage</td>\n",
       "      <td> 0.165102</td>\n",
       "      <td> 0.165102</td>\n",
       "      <td> 0.037073</td>\n",
       "    </tr>\n",
       "  </tbody>\n",
       "</table>\n",
       "<p>5 rows × 4 columns</p>\n",
       "</div>"
      ],
      "text/plain": [
       "         variable  relative_importance  scaled_importance  percentage\n",
       "1    NonRefAllele             1.000000           1.000000    0.224545\n",
       "2        BaseQual             0.489538           0.489538    0.109923\n",
       "3  NormalCoverage             0.292588           0.292588    0.065699\n",
       "4       RefAllele             0.182690           0.182690    0.041022\n",
       "5  TumourCoverage             0.165102           0.165102    0.037073\n",
       "\n",
       "[5 rows x 4 columns]"
      ]
     },
     "execution_count": 55,
     "metadata": {},
     "output_type": "execute_result"
    }
   ],
   "source": [
    "var_importance[:5]"
   ]
  },
  {
   "cell_type": "code",
   "execution_count": 56,
   "metadata": {
    "collapsed": false
   },
   "outputs": [
    {
     "data": {
      "text/html": [
       "<div style=\"max-height:1000px;max-width:1500px;overflow:auto;\">\n",
       "<table border=\"1\" class=\"dataframe\">\n",
       "  <thead>\n",
       "    <tr style=\"text-align: right;\">\n",
       "      <th></th>\n",
       "      <th>CHROM</th>\n",
       "      <th>POS</th>\n",
       "      <th>RefAllele</th>\n",
       "      <th>NonRefAllele</th>\n",
       "      <th>BaseQual</th>\n",
       "      <th>TumourCoverage</th>\n",
       "      <th>NormalCoverage</th>\n",
       "      <th>MapQual</th>\n",
       "      <th>ReadPosition</th>\n",
       "      <th>Trinucleotide</th>\n",
       "      <th>HomopolymerRate</th>\n",
       "      <th>GCcontent</th>\n",
       "      <th>GenomicLocation</th>\n",
       "      <th>DistanceSNP</th>\n",
       "      <th>StrandBias</th>\n",
       "    </tr>\n",
       "  </thead>\n",
       "  <tbody>\n",
       "    <tr>\n",
       "      <th>0</th>\n",
       "      <td> chr1</td>\n",
       "      <td> 10038</td>\n",
       "      <td> 522</td>\n",
       "      <td>  12</td>\n",
       "      <td> 16153</td>\n",
       "      <td> 620</td>\n",
       "      <td> 961</td>\n",
       "      <td> 17</td>\n",
       "      <td> 22</td>\n",
       "      <td> TTA</td>\n",
       "      <td> 62.057971</td>\n",
       "      <td> 0.343284</td>\n",
       "      <td>            NaN</td>\n",
       "      <td> 20885</td>\n",
       "      <td> 0.820968</td>\n",
       "    </tr>\n",
       "    <tr>\n",
       "      <th>1</th>\n",
       "      <td> chr1</td>\n",
       "      <td> 10109</td>\n",
       "      <td> 362</td>\n",
       "      <td> 152</td>\n",
       "      <td>  9437</td>\n",
       "      <td> 614</td>\n",
       "      <td> 871</td>\n",
       "      <td> 17</td>\n",
       "      <td> 81</td>\n",
       "      <td> TTG</td>\n",
       "      <td>  4.730000</td>\n",
       "      <td> 0.507463</td>\n",
       "      <td>            NaN</td>\n",
       "      <td> 20814</td>\n",
       "      <td> 0.749186</td>\n",
       "    </tr>\n",
       "    <tr>\n",
       "      <th>2</th>\n",
       "      <td> chr1</td>\n",
       "      <td> 10177</td>\n",
       "      <td> 122</td>\n",
       "      <td>  54</td>\n",
       "      <td>  3685</td>\n",
       "      <td> 185</td>\n",
       "      <td> 219</td>\n",
       "      <td> 17</td>\n",
       "      <td> 45</td>\n",
       "      <td> GTT</td>\n",
       "      <td>  4.838384</td>\n",
       "      <td> 0.502488</td>\n",
       "      <td>            NaN</td>\n",
       "      <td> 20746</td>\n",
       "      <td> 0.281081</td>\n",
       "    </tr>\n",
       "    <tr>\n",
       "      <th>3</th>\n",
       "      <td> chr1</td>\n",
       "      <td> 10180</td>\n",
       "      <td> 146</td>\n",
       "      <td>  33</td>\n",
       "      <td>  4054</td>\n",
       "      <td> 193</td>\n",
       "      <td> 233</td>\n",
       "      <td> 17</td>\n",
       "      <td> 46</td>\n",
       "      <td> CTA</td>\n",
       "      <td>  4.897959</td>\n",
       "      <td> 0.497512</td>\n",
       "      <td>            NaN</td>\n",
       "      <td> 20743</td>\n",
       "      <td> 0.264249</td>\n",
       "    </tr>\n",
       "    <tr>\n",
       "      <th>4</th>\n",
       "      <td> chr1</td>\n",
       "      <td> 15190</td>\n",
       "      <td> 185</td>\n",
       "      <td>  97</td>\n",
       "      <td>  8002</td>\n",
       "      <td> 287</td>\n",
       "      <td> 172</td>\n",
       "      <td> 17</td>\n",
       "      <td> 35</td>\n",
       "      <td> CCG</td>\n",
       "      <td>  2.750000</td>\n",
       "      <td> 0.641791</td>\n",
       "      <td> ncRNA_intronic</td>\n",
       "      <td> 15733</td>\n",
       "      <td> 0.463415</td>\n",
       "    </tr>\n",
       "  </tbody>\n",
       "</table>\n",
       "<p>5 rows × 15 columns</p>\n",
       "</div>"
      ],
      "text/plain": [
       "  CHROM    POS  RefAllele  NonRefAllele  BaseQual  TumourCoverage  \\\n",
       "0  chr1  10038        522            12     16153             620   \n",
       "1  chr1  10109        362           152      9437             614   \n",
       "2  chr1  10177        122            54      3685             185   \n",
       "3  chr1  10180        146            33      4054             193   \n",
       "4  chr1  15190        185            97      8002             287   \n",
       "\n",
       "   NormalCoverage  MapQual  ReadPosition Trinucleotide  HomopolymerRate  \\\n",
       "0             961       17            22           TTA        62.057971   \n",
       "1             871       17            81           TTG         4.730000   \n",
       "2             219       17            45           GTT         4.838384   \n",
       "3             233       17            46           CTA         4.897959   \n",
       "4             172       17            35           CCG         2.750000   \n",
       "\n",
       "   GCcontent GenomicLocation  DistanceSNP  StrandBias  \n",
       "0   0.343284             NaN        20885    0.820968  \n",
       "1   0.507463             NaN        20814    0.749186  \n",
       "2   0.502488             NaN        20746    0.281081  \n",
       "3   0.497512             NaN        20743    0.264249  \n",
       "4   0.641791  ncRNA_intronic        15733    0.463415  \n",
       "\n",
       "[5 rows x 15 columns]"
      ]
     },
     "execution_count": 56,
     "metadata": {},
     "output_type": "execute_result"
    }
   ],
   "source": [
    "GenomicFeatures_PCSI0044[:5]"
   ]
  },
  {
   "cell_type": "code",
   "execution_count": 57,
   "metadata": {
    "collapsed": false
   },
   "outputs": [
    {
     "data": {
      "text/plain": [
       "{'BaseQual': 0.48953807353973405,\n",
       " 'DistanceSNP': 0.075583405792713207,\n",
       " 'GCcontent': 0.017046337947249399,\n",
       " 'GenomicLocation.UTR3': 0.018351698294281998,\n",
       " 'GenomicLocation.UTR5': 0.0756726935505867,\n",
       " 'GenomicLocation.downstream': 0.037893891334533698,\n",
       " 'GenomicLocation.exonic': 0.021304534748196598,\n",
       " 'GenomicLocation.exonic;splicing': 0.064694978296756703,\n",
       " 'GenomicLocation.intergenic': 0.0077611575834453097,\n",
       " 'GenomicLocation.intronic': 0.010405756533145899,\n",
       " 'GenomicLocation.missing(NA)': 0.022662183269858398,\n",
       " 'GenomicLocation.ncRNA_UTR3': 0.052873715758323697,\n",
       " 'GenomicLocation.ncRNA_UTR5': 0.031074021011590999,\n",
       " 'GenomicLocation.ncRNA_exonic': 0.089108295738697094,\n",
       " 'GenomicLocation.ncRNA_intronic': 0.0139008304104209,\n",
       " 'GenomicLocation.ncRNA_splicing': 0.040834594517946202,\n",
       " 'GenomicLocation.splicing': 0.058591742068529101,\n",
       " 'GenomicLocation.upstream': 0.043934524059295703,\n",
       " 'GenomicLocation.upstream;downstream': 0.052855800837278401,\n",
       " 'HomopolymerRate': 0.15240022540092499,\n",
       " 'MapQual': 0.13281235098838801,\n",
       " 'NonRefAllele': 1.0,\n",
       " 'NormalCoverage': 0.29258772730827304,\n",
       " 'ReadPosition': 0.0075997649691999002,\n",
       " 'RefAllele': 0.18269009888172102,\n",
       " 'StrandBias': 0.0032508468721061897,\n",
       " 'Trinucleotide.ACA': 0.056768931448459597,\n",
       " 'Trinucleotide.ACC': 0.020906580612063401,\n",
       " 'Trinucleotide.ACG': 0.058632254600524902,\n",
       " 'Trinucleotide.ACT': 0.0223870445042849,\n",
       " 'Trinucleotide.ATA': 0.068135201930999797,\n",
       " 'Trinucleotide.ATC': 0.0232494045048952,\n",
       " 'Trinucleotide.ATG': 0.021705485880374902,\n",
       " 'Trinucleotide.ATT': 0.024598287418484702,\n",
       " 'Trinucleotide.CCA': 0.016267327591776799,\n",
       " 'Trinucleotide.CCC': 0.020956311374902701,\n",
       " 'Trinucleotide.CCG': 0.11814902722835499,\n",
       " 'Trinucleotide.CCT': 0.012536037713289301,\n",
       " 'Trinucleotide.CTA': 0.028959255665540699,\n",
       " 'Trinucleotide.CTC': 0.024667283520102501,\n",
       " 'Trinucleotide.CTG': 0.020609021186828599,\n",
       " 'Trinucleotide.CTT': 0.015336496755480799,\n",
       " 'Trinucleotide.GCA': 0.0218680836260319,\n",
       " 'Trinucleotide.GCC': 0.035861272364854799,\n",
       " 'Trinucleotide.GCG': 0.045961115509271601,\n",
       " 'Trinucleotide.GCT': 0.043205074965953799,\n",
       " 'Trinucleotide.GNC': 0.061852868646383299,\n",
       " 'Trinucleotide.GTA': 0.042956732213497197,\n",
       " 'Trinucleotide.GTC': 0.059793800115585299,\n",
       " 'Trinucleotide.GTG': 0.067097865045070607,\n",
       " 'Trinucleotide.GTT': 0.026016768068075201,\n",
       " 'Trinucleotide.TCA': 0.0389223657548428,\n",
       " 'Trinucleotide.TCC': 0.076533362269401606,\n",
       " 'Trinucleotide.TCG': 0.058995995670557001,\n",
       " 'Trinucleotide.TCT': 0.047555219382047702,\n",
       " 'Trinucleotide.TTA': 0.0167040303349495,\n",
       " 'Trinucleotide.TTC': 0.022426912561058998,\n",
       " 'Trinucleotide.TTG': 0.038705080747604398,\n",
       " 'Trinucleotide.TTT': 0.034605920314788798,\n",
       " 'Trinucleotide.missing(NA)': 0.0,\n",
       " 'TumourCoverage': 0.165102198719978}"
      ]
     },
     "execution_count": 57,
     "metadata": {},
     "output_type": "execute_result"
    }
   ],
   "source": [
    "var_imp_dict = {}\n",
    "\n",
    "for i in range(var_importance.shape[0]):\n",
    "    var_imp_dict[var_importance.iloc[i,0]] = var_importance.iloc[i,1]\n",
    "\n",
    "var_imp_dict"
   ]
  },
  {
   "cell_type": "code",
   "execution_count": 58,
   "metadata": {
    "collapsed": false
   },
   "outputs": [
    {
     "data": {
      "text/plain": [
       "Index([u'CHROM', u'POS', u'RefAllele', u'NonRefAllele', u'BaseQual', u'TumourCoverage', u'NormalCoverage', u'MapQual', u'ReadPosition', u'Trinucleotide', u'HomopolymerRate', u'GCcontent', u'GenomicLocation', u'DistanceSNP', u'StrandBias'], dtype='object')"
      ]
     },
     "execution_count": 58,
     "metadata": {},
     "output_type": "execute_result"
    }
   ],
   "source": [
    "GenomicFeatures_PCSI0044.columns"
   ]
  },
  {
   "cell_type": "code",
   "execution_count": 59,
   "metadata": {
    "collapsed": false
   },
   "outputs": [
    {
     "data": {
      "text/plain": [
       "CHROM               object\n",
       "POS                  int64\n",
       "RefAllele            int64\n",
       "NonRefAllele         int64\n",
       "BaseQual             int64\n",
       "TumourCoverage       int64\n",
       "NormalCoverage       int64\n",
       "MapQual            float64\n",
       "ReadPosition       float64\n",
       "Trinucleotide       object\n",
       "HomopolymerRate    float64\n",
       "GCcontent          float64\n",
       "GenomicLocation     object\n",
       "DistanceSNP          int64\n",
       "StrandBias         float64\n",
       "dtype: object"
      ]
     },
     "execution_count": 59,
     "metadata": {},
     "output_type": "execute_result"
    }
   ],
   "source": [
    "GenomicFeatures_PCSI0044.dtypes"
   ]
  },
  {
   "cell_type": "code",
   "execution_count": 60,
   "metadata": {
    "collapsed": false
   },
   "outputs": [
    {
     "data": {
      "text/plain": [
       "20885"
      ]
     },
     "execution_count": 60,
     "metadata": {},
     "output_type": "execute_result"
    }
   ],
   "source": [
    "GenomicFeatures_PCSI0044.iloc[0,13]"
   ]
  },
  {
   "cell_type": "code",
   "execution_count": 61,
   "metadata": {
    "collapsed": false
   },
   "outputs": [
    {
     "data": {
      "text/html": [
       "<div style=\"max-height:1000px;max-width:1500px;overflow:auto;\">\n",
       "<table border=\"1\" class=\"dataframe\">\n",
       "  <thead>\n",
       "    <tr style=\"text-align: right;\">\n",
       "      <th></th>\n",
       "      <th>CHROM</th>\n",
       "      <th>POS</th>\n",
       "      <th>RefAllele</th>\n",
       "      <th>NonRefAllele</th>\n",
       "      <th>BaseQual</th>\n",
       "      <th>TumourCoverage</th>\n",
       "      <th>NormalCoverage</th>\n",
       "      <th>MapQual</th>\n",
       "      <th>ReadPosition</th>\n",
       "      <th>Trinucleotide</th>\n",
       "      <th>HomopolymerRate</th>\n",
       "      <th>GCcontent</th>\n",
       "      <th>GenomicLocation</th>\n",
       "      <th>DistanceSNP</th>\n",
       "      <th>StrandBias</th>\n",
       "    </tr>\n",
       "  </thead>\n",
       "  <tbody>\n",
       "    <tr>\n",
       "      <th>0</th>\n",
       "      <td> chr1</td>\n",
       "      <td> 10038</td>\n",
       "      <td> 522</td>\n",
       "      <td>  12</td>\n",
       "      <td> 16153</td>\n",
       "      <td> 620</td>\n",
       "      <td> 961</td>\n",
       "      <td> 17</td>\n",
       "      <td> 22</td>\n",
       "      <td> TTA</td>\n",
       "      <td> 62.057971</td>\n",
       "      <td> 0.343284</td>\n",
       "      <td> NaN</td>\n",
       "      <td> 20885</td>\n",
       "      <td> 0.820968</td>\n",
       "    </tr>\n",
       "    <tr>\n",
       "      <th>1</th>\n",
       "      <td> chr1</td>\n",
       "      <td> 10109</td>\n",
       "      <td> 362</td>\n",
       "      <td> 152</td>\n",
       "      <td>  9437</td>\n",
       "      <td> 614</td>\n",
       "      <td> 871</td>\n",
       "      <td> 17</td>\n",
       "      <td> 81</td>\n",
       "      <td> TTG</td>\n",
       "      <td>  4.730000</td>\n",
       "      <td> 0.507463</td>\n",
       "      <td> NaN</td>\n",
       "      <td> 20814</td>\n",
       "      <td> 0.749186</td>\n",
       "    </tr>\n",
       "  </tbody>\n",
       "</table>\n",
       "<p>2 rows × 15 columns</p>\n",
       "</div>"
      ],
      "text/plain": [
       "  CHROM    POS  RefAllele  NonRefAllele  BaseQual  TumourCoverage  \\\n",
       "0  chr1  10038        522            12     16153             620   \n",
       "1  chr1  10109        362           152      9437             614   \n",
       "\n",
       "   NormalCoverage  MapQual  ReadPosition Trinucleotide  HomopolymerRate  \\\n",
       "0             961       17            22           TTA        62.057971   \n",
       "1             871       17            81           TTG         4.730000   \n",
       "\n",
       "   GCcontent GenomicLocation  DistanceSNP  StrandBias  \n",
       "0   0.343284             NaN        20885    0.820968  \n",
       "1   0.507463             NaN        20814    0.749186  \n",
       "\n",
       "[2 rows x 15 columns]"
      ]
     },
     "execution_count": 61,
     "metadata": {},
     "output_type": "execute_result"
    }
   ],
   "source": [
    "GenomicFeatures_PCSI0044[:2]\n",
    "#print GenomicFeatures_IS1.iloc[0,2]"
   ]
  },
  {
   "cell_type": "code",
   "execution_count": 62,
   "metadata": {
    "collapsed": false
   },
   "outputs": [],
   "source": [
    "noOfSample = GenomicFeatures_PCSI0044.shape[0]\n",
    "\n",
    "PCSI0044_Dict = {}\n",
    "\n",
    "for i in range(noOfSample):\n",
    "    \n",
    "    pos = GenomicFeatures_PCSI0044.iloc[i,1] #gets the pos value\n",
    "    \n",
    "    RefAllele      = GenomicFeatures_PCSI0044.iloc[i,2]*var_imp_dict['RefAllele']\n",
    "    NonRefAllele   = GenomicFeatures_PCSI0044.iloc[i,3]*var_imp_dict['NonRefAllele']\n",
    "    BaseQual       = GenomicFeatures_PCSI0044.iloc[i,4]*var_imp_dict['BaseQual']\n",
    "    TumourCoverage = GenomicFeatures_PCSI0044.iloc[i,5]*var_imp_dict['TumourCoverage']\n",
    "    NormalCoverage = GenomicFeatures_PCSI0044.iloc[i,6]*var_imp_dict['NormalCoverage']\n",
    "    MapQual        = GenomicFeatures_PCSI0044.iloc[i,7]*var_imp_dict['MapQual']\n",
    "    ReadPosition   = GenomicFeatures_PCSI0044.iloc[i,8]*var_imp_dict['ReadPosition']\n",
    "    \n",
    "    Trinucleotide  = 0\n",
    "    if isinstance(GenomicFeatures_PCSI0044.iloc[i,9], str):\n",
    "        Trinucleotide  = var_imp_dict['Trinucleotide.'+str(GenomicFeatures_PCSI0044.iloc[i,9])]\n",
    "    HomopolymerRate= GenomicFeatures_PCSI0044.iloc[i,10]*var_imp_dict['HomopolymerRate']\n",
    "    GCcontent      = GenomicFeatures_PCSI0044.iloc[i,11]*var_imp_dict['GCcontent']\n",
    "    \n",
    "    GenomicLocation = 0\n",
    "    if isinstance(GenomicFeatures_PCSI0044.iloc[i,12], str):\n",
    "        GenomicLocation= var_imp_dict['GenomicLocation.'+str(GenomicFeatures_PCSI0044.iloc[i,12])]\n",
    "    DistanceSNP    = GenomicFeatures_PCSI0044.iloc[i,13]*var_imp_dict['DistanceSNP']\n",
    "    StrandBias     = GenomicFeatures_PCSI0044.iloc[i,14]*var_imp_dict['StrandBias']\n",
    "    \n",
    "    #print 'RefAllele=',RefAllele,' NonRefAllele=',NonRefAllele,' BaseQual=',BaseQual,' TumourCoverage=',TumourCoverage\n",
    "    #print 'NormalCoverage=',NormalCoverage,' MapQual=',MapQual,' ReadPosition=',ReadPosition,' Trinucleotide=',Trinucleotide\n",
    "    #print 'HomopolymerRate=',HomopolymerRate,' GCcontent=',GCcontent,' GenomicLocation=',GenomicLocation,' Distance=',Distance\n",
    "    #print 'StrandBias=',StrandBias\n",
    "    PCSI0044_Dict[pos] = RefAllele+NonRefAllele+BaseQual+TumourCoverage+NormalCoverage+MapQual+ReadPosition+Trinucleotide+ \\\n",
    "                         HomopolymerRate+GCcontent+GenomicLocation+DistanceSNP+StrandBias"
   ]
  },
  {
   "cell_type": "code",
   "execution_count": 63,
   "metadata": {
    "collapsed": true
   },
   "outputs": [],
   "source": [
    "#Sorting dictionary\n",
    "PCSI0044_Dict1 = [(k,v) for v,k in sorted([(v,k) for k,v in PCSI0044_Dict.items()],reverse=True)]"
   ]
  },
  {
   "cell_type": "code",
   "execution_count": 64,
   "metadata": {
    "collapsed": true
   },
   "outputs": [],
   "source": [
    "PCSI0044_Dict_Frame = pd.DataFrame(PCSI0044_Dict1, columns=['POS', 'Value'])"
   ]
  },
  {
   "cell_type": "code",
   "execution_count": 65,
   "metadata": {
    "collapsed": true
   },
   "outputs": [],
   "source": [
    "PCSI0044_Dict_Frame.to_csv(\"PCSI0044_Dict_Frame.csv\")"
   ]
  },
  {
   "cell_type": "code",
   "execution_count": 95,
   "metadata": {
    "collapsed": true
   },
   "outputs": [],
   "source": [
    "PCSI0044_Dict_Frame = pd.read_csv(\"PCSI0044_Dict_Frame.csv\")"
   ]
  },
  {
   "cell_type": "code",
   "execution_count": 96,
   "metadata": {
    "collapsed": false
   },
   "outputs": [
    {
     "data": {
      "text/html": [
       "<div style=\"max-height:1000px;max-width:1500px;overflow:auto;\">\n",
       "<table border=\"1\" class=\"dataframe\">\n",
       "  <thead>\n",
       "    <tr style=\"text-align: right;\">\n",
       "      <th></th>\n",
       "      <th>Unnamed: 0</th>\n",
       "      <th>POS</th>\n",
       "      <th>Value</th>\n",
       "    </tr>\n",
       "  </thead>\n",
       "  <tbody>\n",
       "    <tr>\n",
       "      <th>0</th>\n",
       "      <td> 0</td>\n",
       "      <td> 58869650</td>\n",
       "      <td> 2339053.791079</td>\n",
       "    </tr>\n",
       "    <tr>\n",
       "      <th>1</th>\n",
       "      <td> 1</td>\n",
       "      <td> 58834107</td>\n",
       "      <td> 2319959.442462</td>\n",
       "    </tr>\n",
       "    <tr>\n",
       "      <th>2</th>\n",
       "      <td> 2</td>\n",
       "      <td> 58837886</td>\n",
       "      <td> 2319894.153539</td>\n",
       "    </tr>\n",
       "    <tr>\n",
       "      <th>3</th>\n",
       "      <td> 3</td>\n",
       "      <td> 58837910</td>\n",
       "      <td> 2319612.264680</td>\n",
       "    </tr>\n",
       "    <tr>\n",
       "      <th>4</th>\n",
       "      <td> 4</td>\n",
       "      <td> 58837875</td>\n",
       "      <td> 2318704.941375</td>\n",
       "    </tr>\n",
       "    <tr>\n",
       "      <th>5</th>\n",
       "      <td> 5</td>\n",
       "      <td> 58855159</td>\n",
       "      <td> 2314752.940285</td>\n",
       "    </tr>\n",
       "    <tr>\n",
       "      <th>6</th>\n",
       "      <td> 6</td>\n",
       "      <td> 58837856</td>\n",
       "      <td> 2314007.250568</td>\n",
       "    </tr>\n",
       "    <tr>\n",
       "      <th>7</th>\n",
       "      <td> 7</td>\n",
       "      <td> 58837892</td>\n",
       "      <td> 2313531.945171</td>\n",
       "    </tr>\n",
       "    <tr>\n",
       "      <th>8</th>\n",
       "      <td> 8</td>\n",
       "      <td> 58837854</td>\n",
       "      <td> 2312976.072535</td>\n",
       "    </tr>\n",
       "    <tr>\n",
       "      <th>9</th>\n",
       "      <td> 9</td>\n",
       "      <td> 58837530</td>\n",
       "      <td> 2308411.309343</td>\n",
       "    </tr>\n",
       "  </tbody>\n",
       "</table>\n",
       "<p>10 rows × 3 columns</p>\n",
       "</div>"
      ],
      "text/plain": [
       "   Unnamed: 0       POS           Value\n",
       "0           0  58869650  2339053.791079\n",
       "1           1  58834107  2319959.442462\n",
       "2           2  58837886  2319894.153539\n",
       "3           3  58837910  2319612.264680\n",
       "4           4  58837875  2318704.941375\n",
       "5           5  58855159  2314752.940285\n",
       "6           6  58837856  2314007.250568\n",
       "7           7  58837892  2313531.945171\n",
       "8           8  58837854  2312976.072535\n",
       "9           9  58837530  2308411.309343\n",
       "\n",
       "[10 rows x 3 columns]"
      ]
     },
     "execution_count": 96,
     "metadata": {},
     "output_type": "execute_result"
    }
   ],
   "source": [
    "PCSI0044_Dict_Frame[:10]"
   ]
  },
  {
   "cell_type": "code",
   "execution_count": 97,
   "metadata": {
    "collapsed": true
   },
   "outputs": [],
   "source": [
    "GenomicFeatures_PCSI0044_1 = pd.concat([PCSI0044.iloc[:,0:16], PCSI0044_Y_Val_1],axis=1)"
   ]
  },
  {
   "cell_type": "code",
   "execution_count": 99,
   "metadata": {
    "collapsed": false
   },
   "outputs": [
    {
     "name": "stdout",
     "output_type": "stream",
     "text": [
      "[58869650 58834107 58837886 58837910 58837875 58855159 58837856 58837892\n",
      " 58837854 58837530 58915990 58905084 58915982 58865396 58905377 58865376\n",
      " 58829728 58906845 58912822 58865373]\n"
     ]
    }
   ],
   "source": [
    "rows = PCSI0044_Dict_Frame['POS'][:20].values\n",
    "print rows\n",
    "GenomicFeatures_PCSI0044_Top20 = GenomicFeatures_PCSI0044_1.loc[GenomicFeatures_PCSI0044_1['POS_x'].isin(rows)]"
   ]
  },
  {
   "cell_type": "code",
   "execution_count": 101,
   "metadata": {
    "collapsed": false
   },
   "outputs": [
    {
     "data": {
      "text/html": [
       "<div style=\"max-height:1000px;max-width:1500px;overflow:auto;\">\n",
       "<table border=\"1\" class=\"dataframe\">\n",
       "  <thead>\n",
       "    <tr style=\"text-align: right;\">\n",
       "      <th></th>\n",
       "      <th>CHROM</th>\n",
       "      <th>POS_x</th>\n",
       "      <th>RefAllele</th>\n",
       "      <th>NonRefAllele</th>\n",
       "      <th>BaseQual</th>\n",
       "      <th>TumourCoverage</th>\n",
       "      <th>NormalCoverage</th>\n",
       "      <th>MapQual</th>\n",
       "      <th>ReadPosition</th>\n",
       "      <th>Trinucleotide</th>\n",
       "      <th>HomopolymerRate</th>\n",
       "      <th>GCcontent</th>\n",
       "      <th>GenomicLocation</th>\n",
       "      <th>DistanceSNP</th>\n",
       "      <th>StrandBias</th>\n",
       "      <th>POS_y</th>\n",
       "      <th>Label</th>\n",
       "    </tr>\n",
       "  </thead>\n",
       "  <tbody>\n",
       "    <tr>\n",
       "      <th>118105</th>\n",
       "      <td> chrY</td>\n",
       "      <td> 58829728</td>\n",
       "      <td> 1903</td>\n",
       "      <td>  44</td>\n",
       "      <td> 62182</td>\n",
       "      <td> 2012</td>\n",
       "      <td> 1717</td>\n",
       "      <td> 0</td>\n",
       "      <td> 40</td>\n",
       "      <td> GCA</td>\n",
       "      <td> 2.427536</td>\n",
       "      <td> 0.388060</td>\n",
       "      <td> NaN</td>\n",
       "      <td> 30027203</td>\n",
       "      <td> 0.559145</td>\n",
       "      <td> 58829727</td>\n",
       "      <td> 0</td>\n",
       "    </tr>\n",
       "    <tr>\n",
       "      <th>118106</th>\n",
       "      <td> chrY</td>\n",
       "      <td> 58834107</td>\n",
       "      <td> 3093</td>\n",
       "      <td>  70</td>\n",
       "      <td> 98272</td>\n",
       "      <td> 3213</td>\n",
       "      <td> 2720</td>\n",
       "      <td> 0</td>\n",
       "      <td> 70</td>\n",
       "      <td> TCC</td>\n",
       "      <td> 2.101351</td>\n",
       "      <td> 0.358209</td>\n",
       "      <td> NaN</td>\n",
       "      <td> 30031582</td>\n",
       "      <td> 0.205415</td>\n",
       "      <td> 58834106</td>\n",
       "      <td> 0</td>\n",
       "    </tr>\n",
       "    <tr>\n",
       "      <th>118109</th>\n",
       "      <td> chrY</td>\n",
       "      <td> 58837530</td>\n",
       "      <td> 2153</td>\n",
       "      <td> 230</td>\n",
       "      <td> 74627</td>\n",
       "      <td> 2440</td>\n",
       "      <td> 2405</td>\n",
       "      <td> 0</td>\n",
       "      <td> 41</td>\n",
       "      <td> TTC</td>\n",
       "      <td> 2.514706</td>\n",
       "      <td> 0.412935</td>\n",
       "      <td> NaN</td>\n",
       "      <td> 30035005</td>\n",
       "      <td> 0.522131</td>\n",
       "      <td> 58837529</td>\n",
       "      <td> 0</td>\n",
       "    </tr>\n",
       "    <tr>\n",
       "      <th>118110</th>\n",
       "      <td> chrY</td>\n",
       "      <td> 58837854</td>\n",
       "      <td> 2644</td>\n",
       "      <td>  23</td>\n",
       "      <td> 83750</td>\n",
       "      <td> 2776</td>\n",
       "      <td> 2870</td>\n",
       "      <td> 0</td>\n",
       "      <td> 41</td>\n",
       "      <td> ATT</td>\n",
       "      <td> 2.434783</td>\n",
       "      <td> 0.393035</td>\n",
       "      <td> NaN</td>\n",
       "      <td> 30035329</td>\n",
       "      <td> 0.584294</td>\n",
       "      <td> 58837853</td>\n",
       "      <td> 0</td>\n",
       "    </tr>\n",
       "    <tr>\n",
       "      <th>118111</th>\n",
       "      <td> chrY</td>\n",
       "      <td> 58837856</td>\n",
       "      <td> 2666</td>\n",
       "      <td>  37</td>\n",
       "      <td> 85784</td>\n",
       "      <td> 2817</td>\n",
       "      <td> 2906</td>\n",
       "      <td> 0</td>\n",
       "      <td> 40</td>\n",
       "      <td> GCA</td>\n",
       "      <td> 2.402878</td>\n",
       "      <td> 0.398010</td>\n",
       "      <td> NaN</td>\n",
       "      <td> 30035331</td>\n",
       "      <td> 0.584665</td>\n",
       "      <td> 58837855</td>\n",
       "      <td> 0</td>\n",
       "    </tr>\n",
       "    <tr>\n",
       "      <th>118112</th>\n",
       "      <td> chrY</td>\n",
       "      <td> 58837875</td>\n",
       "      <td> 2932</td>\n",
       "      <td>  17</td>\n",
       "      <td> 95077</td>\n",
       "      <td> 3059</td>\n",
       "      <td> 3174</td>\n",
       "      <td> 0</td>\n",
       "      <td> 41</td>\n",
       "      <td> CTA</td>\n",
       "      <td> 2.395683</td>\n",
       "      <td> 0.393035</td>\n",
       "      <td> NaN</td>\n",
       "      <td> 30035350</td>\n",
       "      <td> 0.610984</td>\n",
       "      <td> 58837874</td>\n",
       "      <td> 0</td>\n",
       "    </tr>\n",
       "    <tr>\n",
       "      <th>118113</th>\n",
       "      <td> chrY</td>\n",
       "      <td> 58837886</td>\n",
       "      <td> 3031</td>\n",
       "      <td>  36</td>\n",
       "      <td> 97309</td>\n",
       "      <td> 3189</td>\n",
       "      <td> 3301</td>\n",
       "      <td> 0</td>\n",
       "      <td> 45</td>\n",
       "      <td> GCA</td>\n",
       "      <td> 2.395683</td>\n",
       "      <td> 0.402985</td>\n",
       "      <td> NaN</td>\n",
       "      <td> 30035361</td>\n",
       "      <td> 0.624020</td>\n",
       "      <td> 58837885</td>\n",
       "      <td> 0</td>\n",
       "    </tr>\n",
       "    <tr>\n",
       "      <th>118114</th>\n",
       "      <td> chrY</td>\n",
       "      <td> 58837892</td>\n",
       "      <td> 2972</td>\n",
       "      <td>  59</td>\n",
       "      <td> 84329</td>\n",
       "      <td> 3136</td>\n",
       "      <td> 3260</td>\n",
       "      <td> 0</td>\n",
       "      <td> 49</td>\n",
       "      <td> TCG</td>\n",
       "      <td> 2.395683</td>\n",
       "      <td> 0.402985</td>\n",
       "      <td> NaN</td>\n",
       "      <td> 30035367</td>\n",
       "      <td> 0.632653</td>\n",
       "      <td> 58837891</td>\n",
       "      <td> 0</td>\n",
       "    </tr>\n",
       "    <tr>\n",
       "      <th>118115</th>\n",
       "      <td> chrY</td>\n",
       "      <td> 58837910</td>\n",
       "      <td> 2949</td>\n",
       "      <td>  67</td>\n",
       "      <td> 96805</td>\n",
       "      <td> 3121</td>\n",
       "      <td> 3158</td>\n",
       "      <td> 0</td>\n",
       "      <td> 53</td>\n",
       "      <td> GCA</td>\n",
       "      <td> 2.467153</td>\n",
       "      <td> 0.417910</td>\n",
       "      <td> NaN</td>\n",
       "      <td> 30035385</td>\n",
       "      <td> 0.613585</td>\n",
       "      <td> 58837909</td>\n",
       "      <td> 0</td>\n",
       "    </tr>\n",
       "    <tr>\n",
       "      <th>118134</th>\n",
       "      <td> chrY</td>\n",
       "      <td> 58855159</td>\n",
       "      <td> 2624</td>\n",
       "      <td> 164</td>\n",
       "      <td> 83993</td>\n",
       "      <td> 2831</td>\n",
       "      <td> 3565</td>\n",
       "      <td> 0</td>\n",
       "      <td> 57</td>\n",
       "      <td> ATG</td>\n",
       "      <td> 2.740458</td>\n",
       "      <td> 0.393035</td>\n",
       "      <td> NaN</td>\n",
       "      <td> 30052634</td>\n",
       "      <td> 0.148357</td>\n",
       "      <td> 58855158</td>\n",
       "      <td> 0</td>\n",
       "    </tr>\n",
       "  </tbody>\n",
       "</table>\n",
       "<p>10 rows × 17 columns</p>\n",
       "</div>"
      ],
      "text/plain": [
       "       CHROM     POS_x  RefAllele  NonRefAllele  BaseQual  TumourCoverage  \\\n",
       "118105  chrY  58829728       1903            44     62182            2012   \n",
       "118106  chrY  58834107       3093            70     98272            3213   \n",
       "118109  chrY  58837530       2153           230     74627            2440   \n",
       "118110  chrY  58837854       2644            23     83750            2776   \n",
       "118111  chrY  58837856       2666            37     85784            2817   \n",
       "118112  chrY  58837875       2932            17     95077            3059   \n",
       "118113  chrY  58837886       3031            36     97309            3189   \n",
       "118114  chrY  58837892       2972            59     84329            3136   \n",
       "118115  chrY  58837910       2949            67     96805            3121   \n",
       "118134  chrY  58855159       2624           164     83993            2831   \n",
       "\n",
       "        NormalCoverage  MapQual  ReadPosition Trinucleotide  HomopolymerRate  \\\n",
       "118105            1717        0            40           GCA         2.427536   \n",
       "118106            2720        0            70           TCC         2.101351   \n",
       "118109            2405        0            41           TTC         2.514706   \n",
       "118110            2870        0            41           ATT         2.434783   \n",
       "118111            2906        0            40           GCA         2.402878   \n",
       "118112            3174        0            41           CTA         2.395683   \n",
       "118113            3301        0            45           GCA         2.395683   \n",
       "118114            3260        0            49           TCG         2.395683   \n",
       "118115            3158        0            53           GCA         2.467153   \n",
       "118134            3565        0            57           ATG         2.740458   \n",
       "\n",
       "        GCcontent GenomicLocation  DistanceSNP  StrandBias     POS_y  Label  \n",
       "118105   0.388060             NaN     30027203    0.559145  58829727      0  \n",
       "118106   0.358209             NaN     30031582    0.205415  58834106      0  \n",
       "118109   0.412935             NaN     30035005    0.522131  58837529      0  \n",
       "118110   0.393035             NaN     30035329    0.584294  58837853      0  \n",
       "118111   0.398010             NaN     30035331    0.584665  58837855      0  \n",
       "118112   0.393035             NaN     30035350    0.610984  58837874      0  \n",
       "118113   0.402985             NaN     30035361    0.624020  58837885      0  \n",
       "118114   0.402985             NaN     30035367    0.632653  58837891      0  \n",
       "118115   0.417910             NaN     30035385    0.613585  58837909      0  \n",
       "118134   0.393035             NaN     30052634    0.148357  58855158      0  \n",
       "\n",
       "[10 rows x 17 columns]"
      ]
     },
     "execution_count": 101,
     "metadata": {},
     "output_type": "execute_result"
    }
   ],
   "source": [
    "GenomicFeatures_PCSI0044_Top20[:10]"
   ]
  },
  {
   "cell_type": "code",
   "execution_count": 69,
   "metadata": {
    "collapsed": false
   },
   "outputs": [],
   "source": [
    "GenomicFeatures_PCSI0044_Top20.to_csv('GenomicFeatures_PCSI0044_Top20.csv')"
   ]
  },
  {
   "cell_type": "code",
   "execution_count": null,
   "metadata": {
    "collapsed": true
   },
   "outputs": [],
   "source": []
  },
  {
   "cell_type": "code",
   "execution_count": null,
   "metadata": {
    "collapsed": true
   },
   "outputs": [],
   "source": []
  }
 ],
 "metadata": {
  "kernelspec": {
   "display_name": "Python 2",
   "language": "python",
   "name": "python2"
  },
  "language_info": {
   "codemirror_mode": {
    "name": "ipython",
    "version": 2
   },
   "file_extension": ".py",
   "mimetype": "text/x-python",
   "name": "python",
   "nbconvert_exporter": "python",
   "pygments_lexer": "ipython2",
   "version": "2.7.6"
  }
 },
 "nbformat": 4,
 "nbformat_minor": 0
}
