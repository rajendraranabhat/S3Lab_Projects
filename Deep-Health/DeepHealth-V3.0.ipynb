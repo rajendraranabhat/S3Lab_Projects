{
 "cells": [
  {
   "cell_type": "markdown",
   "metadata": {},
   "source": [
    "# Framingham heart disease study (See below link for the details)"
   ]
  },
  {
   "cell_type": "code",
   "execution_count": 3,
   "metadata": {
    "collapsed": true
   },
   "outputs": [],
   "source": [
    "\n",
    "#https://en.wikipedia.org/wiki/Framingham_Heart_Study\n",
    "#https://en.wikipedia.org/wiki/Coronary_artery_disease\n",
    "#http://cvdrisk.nhlbi.nih.gov/"
   ]
  },
  {
   "cell_type": "code",
   "execution_count": 4,
   "metadata": {
    "collapsed": false
   },
   "outputs": [],
   "source": [
    "import os\n",
    "import pandas as pd\n",
    "import numpy as np\n",
    "from sklearn.neighbors import KNeighborsClassifier\n",
    "from sklearn.linear_model import LogisticRegression\n",
    "from sklearn.ensemble import RandomForestClassifier\n",
    "from sklearn.cross_validation import cross_val_score\n",
    "from sklearn import metrics\n",
    "from sklearn.cross_validation import train_test_split\n",
    "from sklearn.metrics import confusion_matrix, roc_curve, auc, classification_report\n",
    "from sklearn.grid_search import GridSearchCV\n",
    "from sklearn import svm\n",
    "from sklearn.preprocessing import Imputer\n",
    "\n",
    "from keras.datasets import mnist\n",
    "from keras.models import Sequential\n",
    "from keras.layers.core import Dense, Dropout, Activation, Flatten, Layer, Reshape, AutoEncoder, Merge\n",
    "from keras.layers.convolutional import Convolution2D,MaxPooling2D,Convolution1D,MaxPooling1D,UpSampling2D, ZeroPadding2D\n",
    "from keras.optimizers import SGD, Adam, RMSprop, Adadelta\n",
    "from keras.layers.normalization import BatchNormalization\n",
    "from keras.utils import np_utils\n",
    "import keras.utils.visualize_util as vutil\n",
    "from keras.layers.recurrent import LSTM, GRU, SimpleRNN\n",
    "from keras.regularizers import l1, l2, l1l2, activity_l2, activity_l1\n",
    "import keras.layers.containers as containers\n",
    "from keras.layers.noise import GaussianNoise\n",
    "from keras.regularizers import ActivityRegularizer\n",
    "from keras import backend as K\n",
    "import keras.utils.visualize_util as vutil\n",
    "from keras.models import model_from_json\n",
    "\n",
    "from IPython.display import SVG\n",
    "\n",
    "np.set_printoptions(suppress=True)  #Supress exponent of the number 2e-2 == 0.02\n",
    "\n",
    "%matplotlib inline\n",
    "\n",
    "\n",
    "import matplotlib.pyplot as plt\n",
    "import scipy.optimize as opt\n",
    "import glob\n",
    "import os\n",
    "import sys\n",
    "%matplotlib inline"
   ]
  },
  {
   "cell_type": "code",
   "execution_count": 5,
   "metadata": {
    "collapsed": false
   },
   "outputs": [],
   "source": [
    "#(1069+11)/(1069.+6+187+11)"
   ]
  },
  {
   "cell_type": "code",
   "execution_count": 6,
   "metadata": {
    "collapsed": true
   },
   "outputs": [],
   "source": [
    "framinghhamDataFrame = pd.read_csv('framingham.csv')"
   ]
  },
  {
   "cell_type": "code",
   "execution_count": 7,
   "metadata": {
    "collapsed": false,
    "scrolled": false
   },
   "outputs": [
    {
     "name": "stdout",
     "output_type": "stream",
     "text": [
      "<class 'pandas.core.frame.DataFrame'>\n",
      "(4240, 16)\n",
      "   male  age  education  currentSmoker  cigsPerDay  BPMeds  prevalentStroke  \\\n",
      "0     1   39          4              0           0       0                0   \n",
      "1     0   46          2              0           0       0                0   \n",
      "2     1   48          1              1          20       0                0   \n",
      "3     0   61          3              1          30       0                0   \n",
      "4     0   46          3              1          23       0                0   \n",
      "\n",
      "   prevalentHyp  diabetes  totChol  sysBP  diaBP    BMI  heartRate  glucose  \\\n",
      "0             0         0      195  106.0     70  26.97         80       77   \n",
      "1             0         0      250  121.0     81  28.73         95       76   \n",
      "2             0         0      245  127.5     80  25.34         75       70   \n",
      "3             1         0      225  150.0     95  28.58         65      103   \n",
      "4             0         0      285  130.0     84  23.10         85       85   \n",
      "\n",
      "   TenYearCHD  \n",
      "0           0  \n",
      "1           0  \n",
      "2           0  \n",
      "3           1  \n",
      "4           0  \n",
      "\n",
      "[5 rows x 16 columns]\n"
     ]
    }
   ],
   "source": [
    "#visualization data\n",
    "print type(framinghhamDataFrame)\n",
    "print framinghhamDataFrame.shape\n",
    "print framinghhamDataFrame.head()"
   ]
  },
  {
   "cell_type": "code",
   "execution_count": 8,
   "metadata": {
    "collapsed": false
   },
   "outputs": [
    {
     "name": "stdout",
     "output_type": "stream",
     "text": [
      "['BMI' 'BPMeds' 'TenYearCHD' 'age' 'cigsPerDay' 'currentSmoker' 'diaBP'\n",
      " 'diabetes' 'education' 'glucose' 'heartRate' 'male' 'prevalentHyp'\n",
      " 'prevalentStroke' 'sysBP' 'totChol']\n",
      "True\n",
      "(3658, 16)\n",
      "['BMI' 'BPMeds' 'TenYearCHD' 'age' 'cigsPerDay' 'currentSmoker' 'diaBP'\n",
      " 'diabetes' 'education' 'glucose' 'heartRate' 'male' 'prevalentHyp'\n",
      " 'prevalentStroke' 'sysBP' 'totChol']\n",
      "False\n"
     ]
    }
   ],
   "source": [
    "#check to see if there are any NA value, if so \n",
    "#For now I am just dropping NA value, but its better to do impute with mean or meadian value latter.\n",
    "\n",
    "print np.unique(framinghhamDataFrame.isnull())\n",
    "print framinghhamDataFrame.isnull().values.any()\n",
    "\n",
    "#imp = Imputer(missing_values='NaN', strategy='mean', axis=0)\n",
    "#imp.fit(framinghhamDataFrame[predictors])\n",
    "#X = imp.transform(framinghhamDataFrame[predictors])\n",
    "\n",
    "#print framinghhamDataFrame.shape\n",
    "framinghhamDataFrame = framinghhamDataFrame.dropna(axis=0)\n",
    "print framinghhamDataFrame.shape\n",
    "\n",
    "print np.unique(framinghhamDataFrame.isnull())\n",
    "print framinghhamDataFrame.isnull().values.any()"
   ]
  },
  {
   "cell_type": "code",
   "execution_count": 9,
   "metadata": {
    "collapsed": false
   },
   "outputs": [
    {
     "name": "stdout",
     "output_type": "stream",
     "text": [
      "(3658, 16)\n",
      "(3658, 15)\n",
      "(3658,)\n"
     ]
    }
   ],
   "source": [
    "#We are trying to predict TenYearCHD \n",
    "#Splitting the data for classification purpose..\n",
    "#Input dataframe consists of X1, X2\n",
    "print framinghhamDataFrame.shape\n",
    "\n",
    "#Reshuffle the data randomly\n",
    "framinghhamDataFrame = framinghhamDataFrame.reindex(np.random.permutation(framinghhamDataFrame.index))\n",
    "\n",
    "X = framinghhamDataFrame.drop(['TenYearCHD'],axis=1) \n",
    "\n",
    "print X.shape\n",
    "\n",
    "#Output vector(predictor/response) vector\n",
    "Y = framinghhamDataFrame['TenYearCHD']\n",
    "\n",
    "print Y.shape\n",
    "#Splitting data into train and testing. 70% Training and 30% Testing..\n",
    "X_train, X_test, Y_train, Y_test = train_test_split(X, Y, test_size=0.3, random_state=4)\n"
   ]
  },
  {
   "cell_type": "code",
   "execution_count": 10,
   "metadata": {
    "collapsed": false
   },
   "outputs": [
    {
     "name": "stdout",
     "output_type": "stream",
     "text": [
      "X_train= (2560, 15)  Y_train= (2560,)  \n",
      "X_test= (1098, 15)  Y_test= (1098,)\n",
      "[0 1] [0 1]\n"
     ]
    }
   ],
   "source": [
    "#Lets visualize the data\n",
    "print 'X_train=',X_train.shape,' Y_train=',Y_train.shape,' \\nX_test=',X_test.shape,' Y_test=',Y_test.shape\n",
    "print np.unique(Y_train), np.unique(Y_test)"
   ]
  },
  {
   "cell_type": "markdown",
   "metadata": {},
   "source": [
    "# Logistic Regression"
   ]
  },
  {
   "cell_type": "code",
   "execution_count": 11,
   "metadata": {
    "collapsed": false
   },
   "outputs": [
    {
     "name": "stdout",
     "output_type": "stream",
     "text": [
      "0.845173041894\n"
     ]
    }
   ],
   "source": [
    "#Logistic Regression-sklearn\n",
    "logReg = LogisticRegression()\n",
    "logReg.fit(X_train,Y_train)\n",
    "Y_logPred = logReg.predict(X_test)\n",
    "print metrics.accuracy_score(Y_test,Y_logPred)\n",
    "\n",
    "#print Y_logPred"
   ]
  },
  {
   "cell_type": "code",
   "execution_count": 12,
   "metadata": {
    "collapsed": false
   },
   "outputs": [
    {
     "name": "stdout",
     "output_type": "stream",
     "text": [
      "[[ 0.94133132  0.05866868]\n",
      " [ 0.89919701  0.10080299]\n",
      " [ 0.75498606  0.24501394]\n",
      " ..., \n",
      " [ 0.8763054   0.1236946 ]\n",
      " [ 0.8414043   0.1585957 ]\n",
      " [ 0.92302189  0.07697811]]\n",
      "[0 0 0 ..., 0 0 0]\n",
      "9\n"
     ]
    }
   ],
   "source": [
    "Y_preds_prob_log = logReg.predict_proba(X_test)\n",
    "print(Y_preds_prob_log)\n",
    "\n",
    "print(Y_logPred)\n",
    "print np.sum(Y_logPred==1)"
   ]
  },
  {
   "cell_type": "code",
   "execution_count": 13,
   "metadata": {
    "collapsed": false
   },
   "outputs": [
    {
     "name": "stdout",
     "output_type": "stream",
     "text": [
      "[[923   4]\n",
      " [166   5]]\n"
     ]
    }
   ],
   "source": [
    "#print confusion matrix\n",
    "#Confusion matrix of logistic regression\n",
    "confusion = metrics.confusion_matrix(Y_test,Y_logPred)\n",
    "print confusion\n",
    "\n",
    "TP = confusion[1, 1]\n",
    "TN = confusion[0, 0]\n",
    "FP = confusion[0, 1]\n",
    "FN = confusion[1, 0]"
   ]
  },
  {
   "cell_type": "code",
   "execution_count": 14,
   "metadata": {
    "collapsed": false
   },
   "outputs": [
    {
     "name": "stdout",
     "output_type": "stream",
     "text": [
      "5 923 4 166\n"
     ]
    }
   ],
   "source": [
    "print TP, TN, FP, FN"
   ]
  },
  {
   "cell_type": "code",
   "execution_count": 15,
   "metadata": {
    "collapsed": false
   },
   "outputs": [
    {
     "name": "stdout",
     "output_type": "stream",
     "text": [
      "0.845173041894\n",
      "0.845173041894\n"
     ]
    }
   ],
   "source": [
    "#Accuracy\n",
    "print (TP + TN) / float(TP + TN + FP + FN)\n",
    "print metrics.accuracy_score(Y_test, Y_logPred)"
   ]
  },
  {
   "cell_type": "code",
   "execution_count": 16,
   "metadata": {
    "collapsed": false
   },
   "outputs": [
    {
     "name": "stdout",
     "output_type": "stream",
     "text": [
      "0.154826958106\n",
      "0.154826958106\n"
     ]
    }
   ],
   "source": [
    "#Classification Error\n",
    "print (FP + FN) / float(TP + TN + FP + FN)\n",
    "print 1 - metrics.accuracy_score(Y_test, Y_logPred)"
   ]
  },
  {
   "cell_type": "code",
   "execution_count": 17,
   "metadata": {
    "collapsed": false
   },
   "outputs": [
    {
     "name": "stdout",
     "output_type": "stream",
     "text": [
      "0.0292397660819\n",
      "0.0292397660819\n"
     ]
    }
   ],
   "source": [
    "#Sensitivity\n",
    "print TP / float(TP + FN)\n",
    "print metrics.recall_score(Y_test, Y_logPred)"
   ]
  },
  {
   "cell_type": "code",
   "execution_count": 18,
   "metadata": {
    "collapsed": false
   },
   "outputs": [
    {
     "name": "stdout",
     "output_type": "stream",
     "text": [
      "0.995685005394\n"
     ]
    }
   ],
   "source": [
    "#Specifity\n",
    "print TN / float(TN + FP)"
   ]
  },
  {
   "cell_type": "code",
   "execution_count": 17,
   "metadata": {
    "collapsed": false
   },
   "outputs": [
    {
     "name": "stdout",
     "output_type": "stream",
     "text": [
      "0.00326441784548\n"
     ]
    }
   ],
   "source": [
    "#False positive rate\n",
    "print FP / float(TN + FP)"
   ]
  },
  {
   "cell_type": "code",
   "execution_count": 18,
   "metadata": {
    "collapsed": false
   },
   "outputs": [
    {
     "name": "stdout",
     "output_type": "stream",
     "text": [
      "             precision    recall  f1-score   support\n",
      "\n",
      "    class 0       0.84      1.00      0.91       919\n",
      "    class 1       0.62      0.03      0.05       179\n",
      "\n",
      "avg / total       0.81      0.84      0.77      1098\n",
      "\n"
     ]
    }
   ],
   "source": [
    "target_names = ['class 0', 'class 1']\n",
    "\n",
    "print(classification_report(Y_test, Y_logPred, target_names=target_names))"
   ]
  },
  {
   "cell_type": "code",
   "execution_count": 19,
   "metadata": {
    "collapsed": false
   },
   "outputs": [
    {
     "name": "stdout",
     "output_type": "stream",
     "text": [
      "0.625\n",
      "0.625\n"
     ]
    }
   ],
   "source": [
    "#Precision\n",
    "P = TP / float(TP + FP)\n",
    "print P\n",
    "print metrics.precision_score(Y_test, Y_logPred)"
   ]
  },
  {
   "cell_type": "code",
   "execution_count": 20,
   "metadata": {
    "collapsed": false
   },
   "outputs": [
    {
     "name": "stdout",
     "output_type": "stream",
     "text": [
      "0.0279329608939\n",
      "0.0279329608939\n"
     ]
    }
   ],
   "source": [
    "#Recall\n",
    "R = TP / float(TP + FN)\n",
    "print R\n",
    "print metrics.recall_score(Y_test, Y_logPred)\n"
   ]
  },
  {
   "cell_type": "code",
   "execution_count": 21,
   "metadata": {
    "collapsed": false
   },
   "outputs": [
    {
     "name": "stdout",
     "output_type": "stream",
     "text": [
      "0.0534759358289\n",
      "0.0534759358289\n"
     ]
    }
   ],
   "source": [
    "#F1 Score\n",
    "print (2*P*R)/float(P+R)\n",
    "print metrics.f1_score(Y_test, Y_logPred)"
   ]
  },
  {
   "cell_type": "code",
   "execution_count": 22,
   "metadata": {
    "collapsed": false
   },
   "outputs": [],
   "source": [
    "# store the predicted probabilities for class 1\n",
    "Y_logPred_prob = logReg.predict_proba(X_test)[:, 1]"
   ]
  },
  {
   "cell_type": "code",
   "execution_count": 23,
   "metadata": {
    "collapsed": false
   },
   "outputs": [
    {
     "data": {
      "image/png": "[encoded data removed]",
      "text/plain": [
       "<matplotlib.figure.Figure at 0x7f1f9d998510>"
      ]
     },
     "metadata": {},
     "output_type": "display_data"
    }
   ],
   "source": [
    "#ROC curve\n",
    "# IMPORTANT: first argument is true values, second argument is predicted probabilities\n",
    "fpr, tpr, thresholds = metrics.roc_curve(Y_test, Y_logPred_prob)\n",
    "plt.plot(fpr, tpr)\n",
    "plt.xlim([0.0, 1.0])\n",
    "plt.ylim([0.0, 1.0])\n",
    "plt.title('ROC curve')\n",
    "plt.xlabel('False Positive Rate (1 - Specificity)')\n",
    "plt.ylabel('True Positive Rate (Sensitivity)')\n",
    "plt.grid(True)"
   ]
  },
  {
   "cell_type": "code",
   "execution_count": 24,
   "metadata": {
    "collapsed": false
   },
   "outputs": [
    {
     "name": "stdout",
     "output_type": "stream",
     "text": [
      "0.512334271524\n"
     ]
    }
   ],
   "source": [
    "# IMPORTANT: first argument is true values, second argument is predicted probabilities\n",
    "print metrics.roc_auc_score(Y_test, Y_logPred)"
   ]
  },
  {
   "cell_type": "code",
   "execution_count": 25,
   "metadata": {
    "collapsed": false
   },
   "outputs": [
    {
     "data": {
      "text/plain": [
       "0.73879188799265527"
      ]
     },
     "execution_count": 25,
     "metadata": {},
     "output_type": "execute_result"
    }
   ],
   "source": [
    "# calculate cross-validated AUC\n",
    "from sklearn.cross_validation import cross_val_score\n",
    "cross_val_score(logReg, X_test, Y_test, cv=10, scoring='roc_auc').mean()"
   ]
  },
  {
   "cell_type": "markdown",
   "metadata": {},
   "source": [
    "# Random Forest"
   ]
  },
  {
   "cell_type": "code",
   "execution_count": 26,
   "metadata": {
    "collapsed": false
   },
   "outputs": [
    {
     "name": "stdout",
     "output_type": "stream",
     "text": [
      "0.834244080146\n"
     ]
    }
   ],
   "source": [
    "#Random Forest Classification\n",
    "randForest = RandomForestClassifier(n_estimators=30)\n",
    "randForest.fit(X_train,Y_train)\n",
    "Y_randForestPred = randForest.predict(X_test)\n",
    "print metrics.accuracy_score(Y_test,Y_randForestPred)"
   ]
  },
  {
   "cell_type": "code",
   "execution_count": 27,
   "metadata": {
    "collapsed": false
   },
   "outputs": [
    {
     "name": "stdout",
     "output_type": "stream",
     "text": [
      "[[911   8]\n",
      " [174   5]]\n"
     ]
    }
   ],
   "source": [
    "#print confusion matrix\n",
    "#Confusion matrix of logistic regression\n",
    "confusion = metrics.confusion_matrix(Y_test,Y_randForestPred)\n",
    "print confusion\n",
    "\n",
    "TP = confusion[1, 1]\n",
    "TN = confusion[0, 0]\n",
    "FP = confusion[0, 1]\n",
    "FN = confusion[1, 0]"
   ]
  },
  {
   "cell_type": "code",
   "execution_count": 28,
   "metadata": {
    "collapsed": false
   },
   "outputs": [
    {
     "name": "stdout",
     "output_type": "stream",
     "text": [
      "0.384615384615\n",
      "0.384615384615\n"
     ]
    }
   ],
   "source": [
    "#Precision\n",
    "P = TP / float(TP + FP)\n",
    "print P\n",
    "print metrics.precision_score(Y_test, Y_randForestPred)"
   ]
  },
  {
   "cell_type": "code",
   "execution_count": 29,
   "metadata": {
    "collapsed": false
   },
   "outputs": [
    {
     "name": "stdout",
     "output_type": "stream",
     "text": [
      "0.0279329608939\n",
      "0.0279329608939\n"
     ]
    }
   ],
   "source": [
    "#Recall\n",
    "R = TP / float(TP + FN)\n",
    "print R\n",
    "print metrics.recall_score(Y_test, Y_randForestPred)"
   ]
  },
  {
   "cell_type": "code",
   "execution_count": 30,
   "metadata": {
    "collapsed": false
   },
   "outputs": [
    {
     "name": "stdout",
     "output_type": "stream",
     "text": [
      "0.0520833333333\n",
      "0.0520833333333\n"
     ]
    }
   ],
   "source": [
    "#F1 Score\n",
    "print (2*P*R)/float(P+R)\n",
    "print metrics.f1_score(Y_test, Y_randForestPred)"
   ]
  },
  {
   "cell_type": "code",
   "execution_count": 31,
   "metadata": {
    "collapsed": false
   },
   "outputs": [],
   "source": [
    "# store the predicted probabilities for class 1\n",
    "Y_randForestPred = randForest.predict_proba(X_test)[:, 1]"
   ]
  },
  {
   "cell_type": "code",
   "execution_count": 32,
   "metadata": {
    "collapsed": false
   },
   "outputs": [
    {
     "data": {
      "image/png": "[encoded data removed]",
      "text/plain": [
       "<matplotlib.figure.Figure at 0x7f1f75ab5fd0>"
      ]
     },
     "metadata": {},
     "output_type": "display_data"
    }
   ],
   "source": [
    "#ROC curve\n",
    "# IMPORTANT: first argument is true values, second argument is predicted probabilities\n",
    "fpr, tpr, thresholds = metrics.roc_curve(Y_test, Y_randForestPred)\n",
    "plt.plot(fpr, tpr)\n",
    "plt.xlim([0.0, 1.0])\n",
    "plt.ylim([0.0, 1.0])\n",
    "plt.title('ROC curve')\n",
    "plt.xlabel('False Positive Rate (1 - Specificity)')\n",
    "plt.ylabel('True Positive Rate (Sensitivity)')\n",
    "plt.grid(True)"
   ]
  },
  {
   "cell_type": "markdown",
   "metadata": {},
   "source": [
    "# Support Vector Machine (SVM)"
   ]
  },
  {
   "cell_type": "code",
   "execution_count": 33,
   "metadata": {
    "collapsed": false
   },
   "outputs": [
    {
     "data": {
      "text/plain": [
       "LinearSVC(C=8, class_weight=None, dual=True, fit_intercept=True,\n",
       "     intercept_scaling=1, loss='hinge', max_iter=1000, multi_class='ovr',\n",
       "     penalty='l2', random_state=None, tol=0.0001, verbose=0)"
      ]
     },
     "execution_count": 33,
     "metadata": {},
     "output_type": "execute_result"
    }
   ],
   "source": [
    "#Support Vector Machine\n",
    "#svc = svm.SVC(kernel='linear',C=10, max_iter=1000)\n",
    "svc = svm.LinearSVC(C=8, loss='hinge', max_iter=1000)\n",
    "svc"
   ]
  },
  {
   "cell_type": "code",
   "execution_count": 34,
   "metadata": {
    "collapsed": false
   },
   "outputs": [
    {
     "data": {
      "text/plain": [
       "0.16302367941712204"
      ]
     },
     "execution_count": 34,
     "metadata": {},
     "output_type": "execute_result"
    }
   ],
   "source": [
    "Y_svmPred = svc.fit(X_train,Y_train).predict(X_test)\n",
    "svc.score(X_test, Y_test)"
   ]
  },
  {
   "cell_type": "code",
   "execution_count": 35,
   "metadata": {
    "collapsed": false
   },
   "outputs": [
    {
     "name": "stdout",
     "output_type": "stream",
     "text": [
      "[[  0 919]\n",
      " [  0 179]]\n"
     ]
    }
   ],
   "source": [
    "#print confusion matrix\n",
    "#Confusion matrix of logistic regression\n",
    "confusion = metrics.confusion_matrix(Y_test,Y_svmPred)\n",
    "print confusion\n",
    "\n",
    "TP = confusion[1, 1]\n",
    "TN = confusion[0, 0]\n",
    "FP = confusion[0, 1]\n",
    "FN = confusion[1, 0]"
   ]
  },
  {
   "cell_type": "code",
   "execution_count": 36,
   "metadata": {
    "collapsed": false
   },
   "outputs": [
    {
     "name": "stdout",
     "output_type": "stream",
     "text": [
      "0.163023679417\n",
      "0.163023679417\n"
     ]
    }
   ],
   "source": [
    "#Precision\n",
    "P = TP / float(TP + FP)\n",
    "print P\n",
    "print metrics.precision_score(Y_test, Y_svmPred)"
   ]
  },
  {
   "cell_type": "code",
   "execution_count": 37,
   "metadata": {
    "collapsed": false
   },
   "outputs": [
    {
     "name": "stdout",
     "output_type": "stream",
     "text": [
      "1.0\n",
      "1.0\n"
     ]
    }
   ],
   "source": [
    "#Recall\n",
    "R = TP / float(TP + FN)\n",
    "print R\n",
    "print metrics.recall_score(Y_test, Y_svmPred)"
   ]
  },
  {
   "cell_type": "code",
   "execution_count": 38,
   "metadata": {
    "collapsed": false
   },
   "outputs": [
    {
     "name": "stdout",
     "output_type": "stream",
     "text": [
      "0.280344557557\n",
      "0.280344557557\n"
     ]
    }
   ],
   "source": [
    "#F1 Score\n",
    "print (2*P*R)/float(P+R)\n",
    "print metrics.f1_score(Y_test, Y_svmPred)"
   ]
  },
  {
   "cell_type": "code",
   "execution_count": 39,
   "metadata": {
    "collapsed": false
   },
   "outputs": [
    {
     "data": {
      "text/plain": [
       "<matplotlib.image.AxesImage at 0x7f1f9331fdd0>"
      ]
     },
     "execution_count": 39,
     "metadata": {},
     "output_type": "execute_result"
    },
    {
     "data": {
      "image/png": "[encoded data removed]",
      "text/plain": [
       "<matplotlib.figure.Figure at 0x7f1f75906f90>"
      ]
     },
     "metadata": {},
     "output_type": "display_data"
    }
   ],
   "source": [
    "#Heat map for confusion matrix\n",
    "plt.imshow(confusion)"
   ]
  },
  {
   "cell_type": "code",
   "execution_count": 40,
   "metadata": {
    "collapsed": false
   },
   "outputs": [],
   "source": [
    "# store the predicted probabilities for class 1\n",
    "#Y_svcPred_prob = svc.predict_proba(X_test)[:, 1]"
   ]
  },
  {
   "cell_type": "code",
   "execution_count": 41,
   "metadata": {
    "collapsed": false
   },
   "outputs": [
    {
     "name": "stdout",
     "output_type": "stream",
     "text": [
      "(2560, 15) (2560,)\n",
      "(1098, 15) (1098,)\n"
     ]
    }
   ],
   "source": [
    "print X_train.shape, Y_train.shape\n",
    "print X_test.shape, Y_test.shape"
   ]
  },
  {
   "cell_type": "code",
   "execution_count": 42,
   "metadata": {
    "collapsed": false
   },
   "outputs": [
    {
     "data": {
      "text/plain": [
       "array([0, 1])"
      ]
     },
     "execution_count": 42,
     "metadata": {},
     "output_type": "execute_result"
    }
   ],
   "source": [
    "np.unique(Y_test)"
   ]
  },
  {
   "cell_type": "code",
   "execution_count": 43,
   "metadata": {
    "collapsed": true
   },
   "outputs": [],
   "source": [
    "X_train = X_train.values\n",
    "X_test  = X_test.values"
   ]
  },
  {
   "cell_type": "code",
   "execution_count": 64,
   "metadata": {
    "collapsed": false
   },
   "outputs": [
    {
     "name": "stdout",
     "output_type": "stream",
     "text": [
      "(2560, 'train samples')\n",
      "(1098, 'test samples')\n",
      "Train on 2560 samples, validate on 1098 samples\n",
      "Epoch 1/100\n",
      "0s - loss: 0.6682 - acc: 0.8477 - val_loss: 0.6299 - val_acc: 0.8370\n",
      "Epoch 2/100\n",
      "0s - loss: 0.6162 - acc: 0.7398 - val_loss: 0.5702 - val_acc: 0.8352\n",
      "Epoch 3/100\n",
      "0s - loss: 0.6322 - acc: 0.6496 - val_loss: 0.5905 - val_acc: 0.8352\n",
      "Epoch 4/100\n",
      "0s - loss: 0.6081 - acc: 0.7297 - val_loss: 0.5756 - val_acc: 0.8352\n",
      "Epoch 5/100\n",
      "0s - loss: 0.5728 - acc: 0.8238 - val_loss: 0.5590 - val_acc: 0.8370\n",
      "Epoch 6/100\n",
      "0s - loss: 0.5561 - acc: 0.8512 - val_loss: 0.5392 - val_acc: 0.8370\n",
      "Epoch 7/100\n",
      "0s - loss: 0.5295 - acc: 0.8520 - val_loss: 0.5172 - val_acc: 0.8370\n",
      "Epoch 8/100\n",
      "0s - loss: 0.5111 - acc: 0.8523 - val_loss: 0.5033 - val_acc: 0.8370\n",
      "Epoch 9/100\n",
      "0s - loss: 0.4953 - acc: 0.8523 - val_loss: 0.4867 - val_acc: 0.8370\n",
      "Epoch 10/100\n",
      "0s - loss: 0.4792 - acc: 0.8520 - val_loss: 0.4734 - val_acc: 0.8370\n",
      "Epoch 11/100\n",
      "0s - loss: 0.4693 - acc: 0.8527 - val_loss: 0.4635 - val_acc: 0.8370\n",
      "Epoch 12/100\n",
      "0s - loss: 0.4541 - acc: 0.8527 - val_loss: 0.4561 - val_acc: 0.8370\n",
      "Epoch 13/100\n",
      "0s - loss: 0.4559 - acc: 0.8523 - val_loss: 0.4519 - val_acc: 0.8370\n",
      "Epoch 14/100\n",
      "0s - loss: 0.4513 - acc: 0.8523 - val_loss: 0.4486 - val_acc: 0.8370\n",
      "Epoch 15/100\n",
      "0s - loss: 0.4504 - acc: 0.8523 - val_loss: 0.4465 - val_acc: 0.8370\n",
      "Epoch 16/100\n",
      "0s - loss: 0.4478 - acc: 0.8523 - val_loss: 0.4455 - val_acc: 0.8370\n",
      "Epoch 17/100\n",
      "0s - loss: 0.4452 - acc: 0.8523 - val_loss: 0.4440 - val_acc: 0.8370\n",
      "Epoch 18/100\n",
      "0s - loss: 0.4361 - acc: 0.8523 - val_loss: 0.4433 - val_acc: 0.8370\n",
      "Epoch 19/100\n",
      "0s - loss: 0.4424 - acc: 0.8523 - val_loss: 0.4429 - val_acc: 0.8370\n",
      "Epoch 20/100\n",
      "0s - loss: 0.4454 - acc: 0.8523 - val_loss: 0.4434 - val_acc: 0.8370\n",
      "Epoch 21/100\n",
      "0s - loss: 0.4313 - acc: 0.8523 - val_loss: 0.4422 - val_acc: 0.8370\n",
      "Epoch 22/100\n",
      "0s - loss: 0.4354 - acc: 0.8523 - val_loss: 0.4427 - val_acc: 0.8370\n",
      "Epoch 23/100\n",
      "0s - loss: 0.4328 - acc: 0.8523 - val_loss: 0.4423 - val_acc: 0.8370\n",
      "Epoch 24/100\n",
      "0s - loss: 0.4286 - acc: 0.8520 - val_loss: 0.4414 - val_acc: 0.8370\n",
      "Epoch 25/100\n",
      "0s - loss: 0.4277 - acc: 0.8523 - val_loss: 0.4410 - val_acc: 0.8370\n",
      "Epoch 26/100\n",
      "0s - loss: 0.4353 - acc: 0.8523 - val_loss: 0.4417 - val_acc: 0.8370\n",
      "Epoch 27/100\n",
      "0s - loss: 0.4337 - acc: 0.8523 - val_loss: 0.4421 - val_acc: 0.8370\n",
      "Epoch 28/100\n",
      "0s - loss: 0.4312 - acc: 0.8523 - val_loss: 0.4408 - val_acc: 0.8370\n",
      "Epoch 29/100\n",
      "0s - loss: 0.4257 - acc: 0.8523 - val_loss: 0.4382 - val_acc: 0.8370\n",
      "Epoch 30/100\n",
      "0s - loss: 0.4263 - acc: 0.8523 - val_loss: 0.4379 - val_acc: 0.8370\n",
      "Epoch 31/100\n",
      "0s - loss: 0.4344 - acc: 0.8523 - val_loss: 0.4366 - val_acc: 0.8370\n",
      "Epoch 32/100\n",
      "0s - loss: 0.4354 - acc: 0.8523 - val_loss: 0.4344 - val_acc: 0.8370\n",
      "Epoch 33/100\n",
      "0s - loss: 0.4329 - acc: 0.8523 - val_loss: 0.4345 - val_acc: 0.8370\n",
      "Epoch 34/100\n",
      "0s - loss: 0.4267 - acc: 0.8523 - val_loss: 0.4331 - val_acc: 0.8370\n",
      "Epoch 35/100\n",
      "0s - loss: 0.4296 - acc: 0.8527 - val_loss: 0.4344 - val_acc: 0.8370\n",
      "Epoch 36/100\n",
      "0s - loss: 0.4274 - acc: 0.8523 - val_loss: 0.4316 - val_acc: 0.8370\n",
      "Epoch 37/100\n",
      "0s - loss: 0.4242 - acc: 0.8527 - val_loss: 0.4305 - val_acc: 0.8370\n",
      "Epoch 38/100\n",
      "0s - loss: 0.4270 - acc: 0.8520 - val_loss: 0.4289 - val_acc: 0.8370\n",
      "Epoch 39/100\n",
      "0s - loss: 0.4287 - acc: 0.8520 - val_loss: 0.4292 - val_acc: 0.8370\n",
      "Epoch 40/100\n",
      "0s - loss: 0.4225 - acc: 0.8523 - val_loss: 0.4287 - val_acc: 0.8370\n",
      "Epoch 41/100\n",
      "0s - loss: 0.4262 - acc: 0.8520 - val_loss: 0.4279 - val_acc: 0.8370\n",
      "Epoch 42/100\n",
      "0s - loss: 0.4184 - acc: 0.8531 - val_loss: 0.4272 - val_acc: 0.8370\n",
      "Epoch 43/100\n",
      "0s - loss: 0.4209 - acc: 0.8523 - val_loss: 0.4254 - val_acc: 0.8370\n",
      "Epoch 44/100\n",
      "0s - loss: 0.4201 - acc: 0.8520 - val_loss: 0.4252 - val_acc: 0.8370\n",
      "Epoch 45/100\n",
      "0s - loss: 0.4217 - acc: 0.8516 - val_loss: 0.4244 - val_acc: 0.8370\n",
      "Epoch 46/100\n",
      "0s - loss: 0.4162 - acc: 0.8527 - val_loss: 0.4239 - val_acc: 0.8370\n",
      "Epoch 47/100\n",
      "0s - loss: 0.4213 - acc: 0.8523 - val_loss: 0.4227 - val_acc: 0.8370\n",
      "Epoch 48/100\n",
      "0s - loss: 0.4234 - acc: 0.8523 - val_loss: 0.4236 - val_acc: 0.8370\n",
      "Epoch 49/100\n",
      "0s - loss: 0.4186 - acc: 0.8527 - val_loss: 0.4229 - val_acc: 0.8370\n",
      "Epoch 50/100\n",
      "0s - loss: 0.4125 - acc: 0.8527 - val_loss: 0.4202 - val_acc: 0.8370\n",
      "Epoch 51/100\n",
      "0s - loss: 0.4173 - acc: 0.8520 - val_loss: 0.4212 - val_acc: 0.8370\n",
      "Epoch 52/100\n",
      "0s - loss: 0.4154 - acc: 0.8527 - val_loss: 0.4210 - val_acc: 0.8370\n",
      "Epoch 53/100\n",
      "0s - loss: 0.4168 - acc: 0.8520 - val_loss: 0.4199 - val_acc: 0.8370\n",
      "Epoch 54/100\n",
      "0s - loss: 0.4144 - acc: 0.8527 - val_loss: 0.4211 - val_acc: 0.8370\n",
      "Epoch 55/100\n",
      "0s - loss: 0.4153 - acc: 0.8531 - val_loss: 0.4173 - val_acc: 0.8370\n",
      "Epoch 56/100\n",
      "0s - loss: 0.4173 - acc: 0.8523 - val_loss: 0.4183 - val_acc: 0.8370\n",
      "Epoch 57/100\n",
      "0s - loss: 0.4169 - acc: 0.8523 - val_loss: 0.4186 - val_acc: 0.8370\n",
      "Epoch 58/100\n",
      "0s - loss: 0.4140 - acc: 0.8531 - val_loss: 0.4175 - val_acc: 0.8370\n",
      "Epoch 59/100\n",
      "0s - loss: 0.4092 - acc: 0.8535 - val_loss: 0.4171 - val_acc: 0.8370\n",
      "Epoch 60/100\n",
      "0s - loss: 0.4122 - acc: 0.8551 - val_loss: 0.4167 - val_acc: 0.8370\n",
      "Epoch 61/100\n",
      "0s - loss: 0.4155 - acc: 0.8504 - val_loss: 0.4175 - val_acc: 0.8370\n",
      "Epoch 62/100\n",
      "0s - loss: 0.4130 - acc: 0.8516 - val_loss: 0.4161 - val_acc: 0.8370\n",
      "Epoch 63/100\n",
      "0s - loss: 0.4112 - acc: 0.8520 - val_loss: 0.4180 - val_acc: 0.8370\n",
      "Epoch 64/100\n",
      "0s - loss: 0.4155 - acc: 0.8523 - val_loss: 0.4174 - val_acc: 0.8370\n",
      "Epoch 65/100\n",
      "0s - loss: 0.4113 - acc: 0.8523 - val_loss: 0.4150 - val_acc: 0.8370\n",
      "Epoch 66/100\n",
      "0s - loss: 0.4155 - acc: 0.8523 - val_loss: 0.4163 - val_acc: 0.8370\n",
      "Epoch 67/100\n",
      "0s - loss: 0.4124 - acc: 0.8539 - val_loss: 0.4176 - val_acc: 0.8370\n",
      "Epoch 68/100\n",
      "0s - loss: 0.4173 - acc: 0.8527 - val_loss: 0.4176 - val_acc: 0.8370\n",
      "Epoch 69/100\n",
      "0s - loss: 0.4128 - acc: 0.8539 - val_loss: 0.4169 - val_acc: 0.8370\n",
      "Epoch 70/100\n",
      "0s - loss: 0.4064 - acc: 0.8520 - val_loss: 0.4160 - val_acc: 0.8370\n",
      "Epoch 71/100\n",
      "0s - loss: 0.4039 - acc: 0.8547 - val_loss: 0.4150 - val_acc: 0.8370\n",
      "Epoch 72/100\n",
      "0s - loss: 0.4088 - acc: 0.8531 - val_loss: 0.4150 - val_acc: 0.8370\n",
      "Epoch 73/100\n",
      "0s - loss: 0.4084 - acc: 0.8523 - val_loss: 0.4166 - val_acc: 0.8370\n",
      "Epoch 74/100\n",
      "0s - loss: 0.4059 - acc: 0.8523 - val_loss: 0.4153 - val_acc: 0.8370\n",
      "Epoch 75/100\n",
      "0s - loss: 0.4075 - acc: 0.8543 - val_loss: 0.4126 - val_acc: 0.8370\n",
      "Epoch 76/100\n",
      "0s - loss: 0.4127 - acc: 0.8520 - val_loss: 0.4146 - val_acc: 0.8370\n",
      "Epoch 77/100\n",
      "0s - loss: 0.4092 - acc: 0.8516 - val_loss: 0.4148 - val_acc: 0.8370\n",
      "Epoch 78/100\n",
      "0s - loss: 0.4125 - acc: 0.8520 - val_loss: 0.4149 - val_acc: 0.8370\n",
      "Epoch 79/100\n",
      "0s - loss: 0.4107 - acc: 0.8535 - val_loss: 0.4141 - val_acc: 0.8370\n",
      "Epoch 80/100\n",
      "0s - loss: 0.4120 - acc: 0.8535 - val_loss: 0.4141 - val_acc: 0.8370\n",
      "Epoch 81/100\n",
      "0s - loss: 0.4137 - acc: 0.8531 - val_loss: 0.4152 - val_acc: 0.8370\n",
      "Epoch 82/100\n",
      "0s - loss: 0.4085 - acc: 0.8523 - val_loss: 0.4157 - val_acc: 0.8370\n",
      "Epoch 83/100\n",
      "0s - loss: 0.4122 - acc: 0.8523 - val_loss: 0.4164 - val_acc: 0.8370\n",
      "Epoch 84/100\n",
      "0s - loss: 0.4059 - acc: 0.8531 - val_loss: 0.4141 - val_acc: 0.8370\n",
      "Epoch 85/100\n",
      "0s - loss: 0.4083 - acc: 0.8551 - val_loss: 0.4135 - val_acc: 0.8370\n",
      "Epoch 86/100\n",
      "0s - loss: 0.4055 - acc: 0.8523 - val_loss: 0.4168 - val_acc: 0.8370\n",
      "Epoch 87/100\n",
      "0s - loss: 0.4134 - acc: 0.8516 - val_loss: 0.4150 - val_acc: 0.8370\n",
      "Epoch 88/100\n",
      "0s - loss: 0.4093 - acc: 0.8527 - val_loss: 0.4158 - val_acc: 0.8370\n",
      "Epoch 89/100\n",
      "0s - loss: 0.4075 - acc: 0.8539 - val_loss: 0.4156 - val_acc: 0.8370\n",
      "Epoch 90/100\n",
      "0s - loss: 0.4070 - acc: 0.8531 - val_loss: 0.4154 - val_acc: 0.8370\n",
      "Epoch 91/100\n",
      "0s - loss: 0.4088 - acc: 0.8523 - val_loss: 0.4163 - val_acc: 0.8370\n",
      "Epoch 92/100\n",
      "0s - loss: 0.4119 - acc: 0.8520 - val_loss: 0.4125 - val_acc: 0.8370\n",
      "Epoch 93/100\n",
      "0s - loss: 0.4078 - acc: 0.8527 - val_loss: 0.4143 - val_acc: 0.8370\n",
      "Epoch 94/100\n",
      "0s - loss: 0.3994 - acc: 0.8547 - val_loss: 0.4136 - val_acc: 0.8370\n",
      "Epoch 95/100\n",
      "0s - loss: 0.4032 - acc: 0.8508 - val_loss: 0.4112 - val_acc: 0.8370\n",
      "Epoch 96/100\n",
      "0s - loss: 0.4050 - acc: 0.8520 - val_loss: 0.4118 - val_acc: 0.8370\n",
      "Epoch 97/100\n",
      "0s - loss: 0.4047 - acc: 0.8551 - val_loss: 0.4115 - val_acc: 0.8370\n",
      "Epoch 98/100\n",
      "0s - loss: 0.4067 - acc: 0.8531 - val_loss: 0.4123 - val_acc: 0.8370\n",
      "Epoch 99/100\n",
      "0s - loss: 0.3989 - acc: 0.8539 - val_loss: 0.4122 - val_acc: 0.8370\n",
      "Epoch 100/100\n",
      "0s - loss: 0.4126 - acc: 0.8512 - val_loss: 0.4137 - val_acc: 0.8370\n",
      "('Test accuracy:', 0.83697632058287796)\n",
      "('Test score:', 0.41371512445595748)\n"
     ]
    }
   ],
   "source": [
    "batch_size = 100\n",
    "nb_classes = 2\n",
    "nb_epoch = 100\n",
    "\n",
    "# the data, shuffled and split between train and test sets\n",
    "#(X_train, y_train), (X_test, y_test) = X_train, X_test, Y_train, Y_test\n",
    "\n",
    "X_train = X_train.astype('float32')\n",
    "X_test = X_test.astype('float32')\n",
    "print(X_train.shape[0], 'train samples')\n",
    "print(X_test.shape[0], 'test samples')\n",
    "\n",
    "# convert class vectors to binary class matrices\n",
    "y_train = np_utils.to_categorical(Y_train, nb_classes)\n",
    "y_test  = np_utils.to_categorical(Y_test, nb_classes)\n",
    "\n",
    "model = Sequential()\n",
    "model.add(Dense(10, input_dim=15))\n",
    "model.add(Activation('relu'))\n",
    "model.add(BatchNormalization())\n",
    "model.add(Dropout(0.5))\n",
    "\n",
    "model.add(Dense(8))\n",
    "model.add(Activation('relu'))\n",
    "model.add(BatchNormalization())\n",
    "model.add(Dropout(0.5))\n",
    "\n",
    "model.add(Dense(6))\n",
    "model.add(Activation('relu'))\n",
    "model.add(BatchNormalization())\n",
    "model.add(Dropout(0.5))\n",
    "\n",
    "model.add(Dense(nb_classes))\n",
    "model.add(Activation('sigmoid'))\n",
    "\n",
    "rms = RMSprop()\n",
    "model.compile(loss='binary_crossentropy', optimizer=rms)\n",
    "\n",
    "hist  = model.fit(X_train, y_train,\n",
    "          batch_size=batch_size, nb_epoch=nb_epoch,\n",
    "          show_accuracy=True, verbose=2, validation_data=(X_test, y_test) )\n",
    "score = model.evaluate(X_test, y_test,\n",
    "                       show_accuracy=True, verbose=0)\n",
    "\n",
    "print('Test accuracy:', score[1])\n",
    "print('Test score:', score[0])"
   ]
  },
  {
   "cell_type": "code",
   "execution_count": 65,
   "metadata": {
    "collapsed": false
   },
   "outputs": [
    {
     "data": {
      "image/png": "[encoded data removed]",
      "text/plain": [
       "<matplotlib.figure.Figure at 0x7f1f8dd75850>"
      ]
     },
     "metadata": {},
     "output_type": "display_data"
    }
   ],
   "source": [
    "plt.figure()\n",
    "plt.title('Training performance',fontsize=14)\n",
    "plt.plot(hist.epoch, hist.history['loss'],'--', label='train_loss', lw=2)\n",
    "plt.plot(hist.epoch, hist.history['val_loss'], label='val_loss', lw=2)\n",
    "plt.legend()\n",
    "plt.xlabel('epoch', fontsize=14)\n",
    "plt.ylabel('loss', fontsize=14)\n",
    "\n",
    "plt.grid(True)\n",
    "#plt.savefig('smartgrid_nn_loss.png')"
   ]
  },
  {
   "cell_type": "code",
   "execution_count": 66,
   "metadata": {
    "collapsed": false
   },
   "outputs": [
    {
     "name": "stdout",
     "output_type": "stream",
     "text": [
      "[[ 0.90724713  0.09230261]\n",
      " [ 0.92655373  0.07158815]\n",
      " [ 0.88937449  0.1115536 ]\n",
      " ..., \n",
      " [ 0.88784254  0.11314539]\n",
      " [ 0.87954068  0.12168007]\n",
      " [ 0.89186299  0.10896312]]\n"
     ]
    }
   ],
   "source": [
    "Y_preds_prob = model.predict_proba(X_test, verbose=0)\n",
    "print(Y_preds_prob)"
   ]
  },
  {
   "cell_type": "code",
   "execution_count": 67,
   "metadata": {
    "collapsed": false
   },
   "outputs": [
    {
     "name": "stdout",
     "output_type": "stream",
     "text": [
      "[0 0 0 0 0 0 0 0 0 0]\n"
     ]
    }
   ],
   "source": [
    "Y_preds_nn = model.predict_classes(X_test, verbose=0)\n",
    "print(Y_preds_nn[:10])"
   ]
  },
  {
   "cell_type": "code",
   "execution_count": 68,
   "metadata": {
    "collapsed": false
   },
   "outputs": [
    {
     "name": "stdout",
     "output_type": "stream",
     "text": [
      "[[919   0]\n",
      " [179   0]]\n"
     ]
    }
   ],
   "source": [
    "#Confusion matrix of logistic regression\n",
    "conf = metrics.confusion_matrix(Y_test,Y_preds_nn)\n",
    "#plt.imshow(conf)\n",
    "print conf"
   ]
  },
  {
   "cell_type": "code",
   "execution_count": 49,
   "metadata": {
    "collapsed": false
   },
   "outputs": [
    {
     "name": "stdout",
     "output_type": "stream",
     "text": [
      "             precision    recall  f1-score   support\n",
      "\n",
      "    class 0       0.84      1.00      0.91       919\n",
      "    class 1       0.00      0.00      0.00       179\n",
      "\n",
      "avg / total       0.70      0.84      0.76      1098\n",
      "\n"
     ]
    },
    {
     "name": "stderr",
     "output_type": "stream",
     "text": [
      "/usr/local/lib/python2.7/dist-packages/sklearn/metrics/classification.py:1074: UndefinedMetricWarning: Precision and F-score are ill-defined and being set to 0.0 in labels with no predicted samples.\n",
      "  'precision', 'predicted', average, warn_for)\n"
     ]
    }
   ],
   "source": [
    "target_names = ['class 0', 'class 1']\n",
    "\n",
    "print(classification_report(Y_test, Y_preds_nn, target_names=target_names))"
   ]
  },
  {
   "cell_type": "code",
   "execution_count": 50,
   "metadata": {
    "collapsed": false
   },
   "outputs": [
    {
     "data": {
      "image/png": "[encoded data removed]",
      "text/plain": [
       "<matplotlib.figure.Figure at 0x7f1f75ad6590>"
      ]
     },
     "metadata": {},
     "output_type": "display_data"
    }
   ],
   "source": [
    "#ROC curve\n",
    "# IMPORTANT: first argument is true values, second argument is predicted probabilities\n",
    "fpr, tpr, thresholds = metrics.roc_curve(Y_test, Y_preds_prob[:,1])\n",
    "plt.plot(fpr, tpr, lw=2)\n",
    "plt.xlim([0.0, 1.0])\n",
    "plt.ylim([0.0, 1.0])\n",
    "plt.title('ROC curve',fontsize=14)\n",
    "plt.xlabel('False Positive Rate (1 - Specificity)',fontsize=14) #fontweight='bold'\n",
    "plt.ylabel('True Positive Rate (Sensitivity)',fontsize=14)\n",
    "plt.grid(True)\n",
    "\n",
    "#plt.savefig('smartgrid_nn_roc.png')"
   ]
  },
  {
   "cell_type": "code",
   "execution_count": 51,
   "metadata": {
    "collapsed": false
   },
   "outputs": [
    {
     "name": "stdout",
     "output_type": "stream",
     "text": [
      "0.502793296089\n"
     ]
    }
   ],
   "source": [
    "print metrics.roc_auc_score(Y_test, Y_preds_prob[:,1])"
   ]
  },
  {
   "cell_type": "code",
   "execution_count": 52,
   "metadata": {
    "collapsed": false
   },
   "outputs": [
    {
     "name": "stdout",
     "output_type": "stream",
     "text": [
      "(2560, 15, 1) (1098, 15, 1)\n"
     ]
    }
   ],
   "source": [
    "X_train_1 = X_train.reshape(2560,15,1)\n",
    "X_test_1 = X_test.reshape(1098,15,1)\n",
    "\n",
    "print X_train_1.shape, X_test_1.shape "
   ]
  },
  {
   "cell_type": "code",
   "execution_count": null,
   "metadata": {
    "collapsed": true
   },
   "outputs": [],
   "source": []
  },
  {
   "cell_type": "code",
   "execution_count": 53,
   "metadata": {
    "collapsed": false,
    "scrolled": true
   },
   "outputs": [
    {
     "name": "stdout",
     "output_type": "stream",
     "text": [
      "Build model...\n",
      "Train...\n",
      "Train on 2560 samples, validate on 1098 samples\n",
      "Epoch 1/50\n",
      "0s - loss: 0.4635 - acc: 1.0000 - val_loss: 0.4553 - val_acc: 1.0000\n",
      "Epoch 2/50\n",
      "0s - loss: 0.4464 - acc: 1.0000 - val_loss: 0.4539 - val_acc: 1.0000\n",
      "Epoch 3/50\n",
      "0s - loss: 0.4451 - acc: 1.0000 - val_loss: 0.5015 - val_acc: 1.0000\n",
      "Epoch 4/50\n",
      "0s - loss: 0.4478 - acc: 1.0000 - val_loss: 0.4474 - val_acc: 1.0000\n",
      "Epoch 5/50\n",
      "0s - loss: 0.4380 - acc: 1.0000 - val_loss: 0.4438 - val_acc: 1.0000\n",
      "Epoch 6/50\n",
      "0s - loss: 0.4425 - acc: 1.0000 - val_loss: 0.4399 - val_acc: 1.0000\n",
      "Epoch 7/50\n",
      "0s - loss: 0.4286 - acc: 1.0000 - val_loss: 0.4315 - val_acc: 1.0000\n",
      "Epoch 8/50\n",
      "0s - loss: 0.4194 - acc: 1.0000 - val_loss: 0.4280 - val_acc: 1.0000\n",
      "Epoch 9/50\n",
      "0s - loss: 0.4138 - acc: 1.0000 - val_loss: 0.4189 - val_acc: 1.0000\n",
      "Epoch 10/50\n",
      "0s - loss: 0.4042 - acc: 1.0000 - val_loss: 0.4120 - val_acc: 1.0000\n",
      "Epoch 11/50\n",
      "0s - loss: 0.4060 - acc: 1.0000 - val_loss: 0.4181 - val_acc: 1.0000\n",
      "Epoch 12/50\n",
      "0s - loss: 0.3997 - acc: 1.0000 - val_loss: 0.4044 - val_acc: 1.0000\n",
      "Epoch 13/50\n",
      "0s - loss: 0.3978 - acc: 1.0000 - val_loss: 0.4028 - val_acc: 1.0000\n",
      "Epoch 14/50\n",
      "0s - loss: 0.3946 - acc: 1.0000 - val_loss: 0.4016 - val_acc: 1.0000\n",
      "Epoch 15/50\n",
      "0s - loss: 0.3983 - acc: 1.0000 - val_loss: 0.4033 - val_acc: 1.0000\n",
      "Epoch 16/50\n",
      "0s - loss: 0.4006 - acc: 1.0000 - val_loss: 0.4025 - val_acc: 1.0000\n",
      "Epoch 17/50\n",
      "0s - loss: 0.3941 - acc: 1.0000 - val_loss: 0.4052 - val_acc: 1.0000\n",
      "Epoch 18/50\n",
      "0s - loss: 0.3963 - acc: 1.0000 - val_loss: 0.3997 - val_acc: 1.0000\n",
      "Epoch 19/50\n",
      "0s - loss: 0.3952 - acc: 1.0000 - val_loss: 0.4650 - val_acc: 1.0000\n",
      "Epoch 20/50\n",
      "0s - loss: 0.3959 - acc: 1.0000 - val_loss: 0.4008 - val_acc: 1.0000\n",
      "Epoch 21/50\n",
      "0s - loss: 0.3965 - acc: 1.0000 - val_loss: 0.4038 - val_acc: 1.0000\n",
      "Epoch 22/50\n",
      "0s - loss: 0.3878 - acc: 1.0000 - val_loss: 0.4037 - val_acc: 1.0000\n",
      "Epoch 23/50\n",
      "0s - loss: 0.3950 - acc: 1.0000 - val_loss: 0.4045 - val_acc: 1.0000\n",
      "Epoch 24/50\n",
      "0s - loss: 0.3916 - acc: 1.0000 - val_loss: 0.4012 - val_acc: 1.0000\n",
      "Epoch 25/50\n",
      "0s - loss: 0.3881 - acc: 1.0000 - val_loss: 0.4006 - val_acc: 1.0000\n",
      "Epoch 26/50\n",
      "0s - loss: 0.3936 - acc: 1.0000 - val_loss: 0.4018 - val_acc: 1.0000\n",
      "Epoch 27/50\n",
      "0s - loss: 0.3977 - acc: 1.0000 - val_loss: 0.3978 - val_acc: 1.0000\n",
      "Epoch 28/50\n",
      "0s - loss: 0.3914 - acc: 1.0000 - val_loss: 0.3997 - val_acc: 1.0000\n",
      "Epoch 29/50\n",
      "0s - loss: 0.3909 - acc: 1.0000 - val_loss: 0.4044 - val_acc: 1.0000\n",
      "Epoch 30/50\n",
      "0s - loss: 0.3887 - acc: 1.0000 - val_loss: 0.4113 - val_acc: 1.0000\n",
      "Epoch 31/50\n",
      "0s - loss: 0.3946 - acc: 1.0000 - val_loss: 0.3992 - val_acc: 1.0000\n",
      "Epoch 32/50\n",
      "0s - loss: 0.3943 - acc: 1.0000 - val_loss: 0.4065 - val_acc: 1.0000\n",
      "Epoch 33/50\n",
      "0s - loss: 0.3896 - acc: 1.0000 - val_loss: 0.4084 - val_acc: 1.0000\n",
      "Epoch 34/50\n",
      "0s - loss: 0.3896 - acc: 1.0000 - val_loss: 0.4026 - val_acc: 1.0000\n",
      "Epoch 35/50\n",
      "0s - loss: 0.3898 - acc: 1.0000 - val_loss: 0.3965 - val_acc: 1.0000\n",
      "Epoch 36/50\n",
      "0s - loss: 0.3933 - acc: 1.0000 - val_loss: 0.4032 - val_acc: 1.0000\n",
      "Epoch 37/50\n",
      "0s - loss: 0.3890 - acc: 1.0000 - val_loss: 0.4006 - val_acc: 1.0000\n",
      "Epoch 38/50\n",
      "0s - loss: 0.3911 - acc: 1.0000 - val_loss: 0.4020 - val_acc: 1.0000\n",
      "Epoch 39/50\n",
      "0s - loss: 0.3881 - acc: 1.0000 - val_loss: 0.4077 - val_acc: 1.0000\n",
      "Epoch 40/50\n",
      "0s - loss: 0.3908 - acc: 1.0000 - val_loss: 0.4032 - val_acc: 1.0000\n",
      "Epoch 41/50\n",
      "0s - loss: 0.3874 - acc: 1.0000 - val_loss: 0.3989 - val_acc: 1.0000\n",
      "Epoch 42/50\n",
      "0s - loss: 0.3881 - acc: 1.0000 - val_loss: 0.3976 - val_acc: 1.0000\n",
      "Epoch 43/50\n",
      "0s - loss: 0.3889 - acc: 1.0000 - val_loss: 0.3964 - val_acc: 1.0000\n",
      "Epoch 44/50\n",
      "0s - loss: 0.3868 - acc: 1.0000 - val_loss: 0.4121 - val_acc: 1.0000\n",
      "Epoch 45/50\n",
      "0s - loss: 0.3881 - acc: 1.0000 - val_loss: 0.3955 - val_acc: 1.0000\n",
      "Epoch 46/50\n",
      "0s - loss: 0.3883 - acc: 1.0000 - val_loss: 0.3964 - val_acc: 1.0000\n",
      "Epoch 47/50\n",
      "0s - loss: 0.3883 - acc: 1.0000 - val_loss: 0.4185 - val_acc: 1.0000\n",
      "Epoch 48/50\n",
      "0s - loss: 0.3906 - acc: 1.0000 - val_loss: 0.4062 - val_acc: 1.0000\n",
      "Epoch 49/50\n",
      "0s - loss: 0.3861 - acc: 1.0000 - val_loss: 0.4045 - val_acc: 1.0000\n",
      "Epoch 50/50\n",
      "0s - loss: 0.3923 - acc: 1.0000 - val_loss: 0.4194 - val_acc: 1.0000\n",
      "1098/1098 [==============================] - 0s     \n",
      "('Test accuracy:', 1.0)\n",
      "('Test score:', 0.41938041264567871)\n"
     ]
    }
   ],
   "source": [
    "# 1D conv\n",
    "\n",
    "# set parameters:\n",
    "batch_size = 20\n",
    "input_length = X_train_1.shape[1]\n",
    "nb_epoch = 50\n",
    "nb_classes = 1\n",
    "\n",
    "print('Build model...')\n",
    "\n",
    "model = Sequential()\n",
    "\n",
    "model.add(Convolution1D(nb_filter=64,\n",
    "                        filter_length=3,\n",
    "                        border_mode='valid',\n",
    "                        activation='relu',\n",
    "                        input_dim=1, \n",
    "                        input_length=input_length)) \n",
    "                       \n",
    "model.add(Convolution1D(nb_filter=32,\n",
    "                        filter_length=3,\n",
    "                        border_mode='valid',\n",
    "                        activation='relu'))\n",
    "                        \n",
    "model.add(MaxPooling1D(pool_length=2))\n",
    "\n",
    "model.add(Convolution1D(nb_filter=16,\n",
    "                        filter_length=3,\n",
    "                        border_mode='valid',\n",
    "                        activation='relu'))\n",
    "\n",
    "model.add(Convolution1D(nb_filter=16,\n",
    "                        filter_length=3,\n",
    "                        border_mode='same',\n",
    "                        activation='relu'))\n",
    "\n",
    "model.add(MaxPooling1D(pool_length=2))\n",
    "\n",
    "# Adding GRU layer \n",
    "#model.add(GRU(output_dim=14))\n",
    "#model.add(Activation('relu'))\n",
    "\n",
    "#print_layers_shapes(model)\n",
    "\n",
    "model.add(Flatten())\n",
    "\n",
    "model.add(Dense(10))\n",
    "model.add(Dropout(0.25))\n",
    "model.add(Activation('relu'))\n",
    "\n",
    "# We project onto a single unit output layer, and squash it with a sigmoid:\n",
    "model.add(Dense(nb_classes)) \n",
    "model.add(Activation('sigmoid'))\n",
    "\n",
    "#print_layers_shapes(model)\n",
    "\n",
    "rms = RMSprop()\n",
    "model.compile(loss='binary_crossentropy', optimizer=rms)\n",
    "\n",
    "\n",
    "\n",
    "print('Train...')\n",
    "history = model.fit(X_train_1, Y_train, batch_size=batch_size,\n",
    "          nb_epoch=nb_epoch, show_accuracy=True,\n",
    "          validation_data=(X_test_1, Y_test),verbose=2)\n",
    "\n",
    "score, acc = model.evaluate(X_test_1, Y_test, batch_size=batch_size,\n",
    "                            show_accuracy=True)\n",
    "\n",
    "print('Test accuracy:', acc)\n",
    "print('Test score:', score)\n"
   ]
  },
  {
   "cell_type": "code",
   "execution_count": 54,
   "metadata": {
    "collapsed": false
   },
   "outputs": [],
   "source": [
    "vutil.plot(model, to_file='framingham_cnn1d.png')\n",
    "#vutil.plot(autoencoder, recursive=True, show_shape=True).create(prog='dot', format=\"png\")\n",
    "#SVG(vutil.to_graph(model, recursive=True, show_shape=True).create(prog='dot', format=\"svg\"))"
   ]
  },
  {
   "cell_type": "code",
   "execution_count": 55,
   "metadata": {
    "collapsed": false
   },
   "outputs": [
    {
     "data": {
      "text/plain": [
       "<matplotlib.legend.Legend at 0x7f1f869b0250>"
      ]
     },
     "execution_count": 55,
     "metadata": {},
     "output_type": "execute_result"
    },
    {
     "data": {
      "image/png": "[encoded data removed]",
      "text/plain": [
       "<matplotlib.figure.Figure at 0x7f1f5bfbbd90>"
      ]
     },
     "metadata": {},
     "output_type": "display_data"
    }
   ],
   "source": [
    "plt.figure()\n",
    "plt.title('Training/Validation performance (CNN)')\n",
    "plt.plot(history.epoch, history.history['loss'],'--', label='train_loss')\n",
    "plt.plot(history.epoch, history.history['val_loss'], label='validation_loss')\n",
    "plt.legend()"
   ]
  },
  {
   "cell_type": "code",
   "execution_count": 56,
   "metadata": {
    "collapsed": false
   },
   "outputs": [
    {
     "name": "stdout",
     "output_type": "stream",
     "text": [
      "[[ 0.02488291]\n",
      " [ 0.02100166]\n",
      " [ 0.07104886]\n",
      " [ 0.1529303 ]\n",
      " [ 0.07321633]]\n"
     ]
    }
   ],
   "source": [
    "Y_preds_prob_cnn = model.predict_proba(X_test_1, verbose=0)\n",
    "print(Y_preds_prob_cnn[:5])"
   ]
  },
  {
   "cell_type": "code",
   "execution_count": 57,
   "metadata": {
    "collapsed": false
   },
   "outputs": [
    {
     "name": "stdout",
     "output_type": "stream",
     "text": [
      "[0 0 0 ..., 0 0 0]\n"
     ]
    }
   ],
   "source": [
    "Y_preds_cnn = model.predict_classes(X_test_1, verbose=0)\n",
    "print(Y_preds_cnn)"
   ]
  },
  {
   "cell_type": "code",
   "execution_count": 58,
   "metadata": {
    "collapsed": false
   },
   "outputs": [
    {
     "name": "stdout",
     "output_type": "stream",
     "text": [
      "[[919   0]\n",
      " [179   0]]\n"
     ]
    }
   ],
   "source": [
    "#Confusion matrix of logistic regression\n",
    "conf = metrics.confusion_matrix(Y_test,Y_preds_cnn)\n",
    "#plt.imshow(conf)\n",
    "print conf"
   ]
  },
  {
   "cell_type": "code",
   "execution_count": 59,
   "metadata": {
    "collapsed": false
   },
   "outputs": [
    {
     "name": "stdout",
     "output_type": "stream",
     "text": [
      "             precision    recall  f1-score   support\n",
      "\n",
      "    class 0       0.84      1.00      0.91       919\n",
      "    class 1       0.00      0.00      0.00       179\n",
      "\n",
      "avg / total       0.70      0.84      0.76      1098\n",
      "\n"
     ]
    }
   ],
   "source": [
    "target_names = ['class 0', 'class 1']\n",
    "\n",
    "print(classification_report(Y_test, Y_preds_cnn, target_names=target_names))"
   ]
  },
  {
   "cell_type": "code",
   "execution_count": 60,
   "metadata": {
    "collapsed": false
   },
   "outputs": [
    {
     "data": {
      "image/png": "[encoded data removed]",
      "text/plain": [
       "<matplotlib.figure.Figure at 0x7f1f5d933dd0>"
      ]
     },
     "metadata": {},
     "output_type": "display_data"
    }
   ],
   "source": [
    "#ROC curve\n",
    "# IMPORTANT: first argument is true values, second argument is predicted probabilities\n",
    "fpr1, tpr1, thresholds = metrics.roc_curve(Y_test, Y_preds_prob_cnn)\n",
    "plt.plot(fpr1, tpr1, lw=2)\n",
    "plt.xlim([0.0, 1.0])\n",
    "plt.ylim([0.0, 1.0])\n",
    "plt.title('ROC curve',fontsize=14)\n",
    "plt.xlabel('False Positive Rate (1 - Specificity)',fontsize=14) #fontweight='bold'\n",
    "plt.ylabel('True Positive Rate (Sensitivity)',fontsize=14)\n",
    "plt.grid(True)\n",
    "\n",
    "#plt.savefig('smartgrid_cnn1d_roc.png')\n",
    "\n",
    "#Y_logPred_prob = logReg.predict_proba(X_test)[:, 1]"
   ]
  },
  {
   "cell_type": "code",
   "execution_count": 61,
   "metadata": {
    "collapsed": false
   },
   "outputs": [
    {
     "name": "stdout",
     "output_type": "stream",
     "text": [
      "0.732062419073\n"
     ]
    }
   ],
   "source": [
    "print metrics.roc_auc_score(Y_test, Y_preds_prob_cnn)"
   ]
  },
  {
   "cell_type": "code",
   "execution_count": 63,
   "metadata": {
    "collapsed": false
   },
   "outputs": [
    {
     "data": {
      "text/plain": [
       "179"
      ]
     },
     "execution_count": 63,
     "metadata": {},
     "output_type": "execute_result"
    }
   ],
   "source": [
    "np.sum(Y_test==1)"
   ]
  },
  {
   "cell_type": "code",
   "execution_count": null,
   "metadata": {
    "collapsed": true
   },
   "outputs": [],
   "source": []
  },
  {
   "cell_type": "code",
   "execution_count": null,
   "metadata": {
    "collapsed": true
   },
   "outputs": [],
   "source": []
  },
  {
   "cell_type": "code",
   "execution_count": 60,
   "metadata": {
    "collapsed": false
   },
   "outputs": [],
   "source": [
    "data6a = pd.read_table('6a.dat', sep='\\t', header=None, skiprows=1)\n",
    "#pd.read_csv('6a.dat')"
   ]
  },
  {
   "cell_type": "code",
   "execution_count": 61,
   "metadata": {
    "collapsed": false
   },
   "outputs": [
    {
     "data": {
      "text/plain": [
       "(1040718, 1)"
      ]
     },
     "execution_count": 61,
     "metadata": {},
     "output_type": "execute_result"
    }
   ],
   "source": [
    "data6a.shape"
   ]
  },
  {
   "cell_type": "code",
   "execution_count": 62,
   "metadata": {
    "collapsed": false
   },
   "outputs": [
    {
     "data": {
      "text/html": [
       "<div style=\"max-height:1000px;max-width:1500px;overflow:auto;\">\n",
       "<table border=\"1\" class=\"dataframe\">\n",
       "  <thead>\n",
       "    <tr style=\"text-align: right;\">\n",
       "      <th></th>\n",
       "      <th>0</th>\n",
       "    </tr>\n",
       "  </thead>\n",
       "  <tbody>\n",
       "    <tr>\n",
       "      <th>0</th>\n",
       "      <td> 00198987912231104909 2230000001025470004547005...</td>\n",
       "    </tr>\n",
       "  </tbody>\n",
       "</table>\n",
       "<p>1 rows × 1 columns</p>\n",
       "</div>"
      ],
      "text/plain": [
       "                                                   0\n",
       "0  00198987912231104909 2230000001025470004547005...\n",
       "\n",
       "[1 rows x 1 columns]"
      ]
     },
     "execution_count": 62,
     "metadata": {},
     "output_type": "execute_result"
    }
   ],
   "source": [
    "data6a[0:1]"
   ]
  },
  {
   "cell_type": "code",
   "execution_count": null,
   "metadata": {
    "collapsed": true
   },
   "outputs": [],
   "source": []
  },
  {
   "cell_type": "code",
   "execution_count": null,
   "metadata": {
    "collapsed": true
   },
   "outputs": [],
   "source": []
  },
  {
   "cell_type": "code",
   "execution_count": null,
   "metadata": {
    "collapsed": true
   },
   "outputs": [],
   "source": []
  },
  {
   "cell_type": "code",
   "execution_count": null,
   "metadata": {
    "collapsed": true
   },
   "outputs": [],
   "source": []
  },
  {
   "cell_type": "code",
   "execution_count": null,
   "metadata": {
    "collapsed": true
   },
   "outputs": [],
   "source": []
  },
  {
   "cell_type": "code",
   "execution_count": null,
   "metadata": {
    "collapsed": true
   },
   "outputs": [],
   "source": []
  },
  {
   "cell_type": "code",
   "execution_count": null,
   "metadata": {
    "collapsed": true
   },
   "outputs": [],
   "source": []
  },
  {
   "cell_type": "code",
   "execution_count": null,
   "metadata": {
    "collapsed": true
   },
   "outputs": [],
   "source": []
  },
  {
   "cell_type": "code",
   "execution_count": null,
   "metadata": {
    "collapsed": true
   },
   "outputs": [],
   "source": []
  },
  {
   "cell_type": "code",
   "execution_count": null,
   "metadata": {
    "collapsed": true
   },
   "outputs": [],
   "source": []
  },
  {
   "cell_type": "code",
   "execution_count": null,
   "metadata": {
    "collapsed": true
   },
   "outputs": [],
   "source": []
  },
  {
   "cell_type": "code",
   "execution_count": null,
   "metadata": {
    "collapsed": true
   },
   "outputs": [],
   "source": []
  },
  {
   "cell_type": "code",
   "execution_count": null,
   "metadata": {
    "collapsed": true
   },
   "outputs": [],
   "source": []
  }
 ],
 "metadata": {
  "kernelspec": {
   "display_name": "Python 2",
   "language": "python",
   "name": "python2"
  },
  "language_info": {
   "codemirror_mode": {
    "name": "ipython",
    "version": 2
   },
   "file_extension": ".py",
   "mimetype": "text/x-python",
   "name": "python",
   "nbconvert_exporter": "python",
   "pygments_lexer": "ipython2",
   "version": "2.7.6"
  }
 },
 "nbformat": 4,
 "nbformat_minor": 0
}
