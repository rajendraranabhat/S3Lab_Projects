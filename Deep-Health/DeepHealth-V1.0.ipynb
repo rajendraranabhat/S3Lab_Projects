{
 "cells": [
  {
   "cell_type": "markdown",
   "metadata": {},
   "source": [
    "# Framingham heart disease study (See below link for the details)"
   ]
  },
  {
   "cell_type": "code",
   "execution_count": 1,
   "metadata": {
    "collapsed": true
   },
   "outputs": [],
   "source": [
    "\n",
    "#https://en.wikipedia.org/wiki/Framingham_Heart_Study\n",
    "#https://en.wikipedia.org/wiki/Coronary_artery_disease\n",
    "#http://cvdrisk.nhlbi.nih.gov/"
   ]
  },
  {
   "cell_type": "code",
   "execution_count": 2,
   "metadata": {
    "collapsed": true
   },
   "outputs": [],
   "source": [
    "import os\n",
    "import pandas as pd\n",
    "import numpy as np\n",
    "from sklearn.neighbors import KNeighborsClassifier\n",
    "from sklearn.linear_model import LogisticRegression\n",
    "from sklearn.ensemble import RandomForestClassifier\n",
    "from sklearn.cross_validation import cross_val_score\n",
    "from sklearn import metrics\n",
    "from sklearn.cross_validation import train_test_split\n",
    "from sklearn.metrics import confusion_matrix, roc_curve, auc\n",
    "from sklearn.grid_search import GridSearchCV\n",
    "from sklearn import svm\n",
    "from sklearn.preprocessing import Imputer\n",
    "\n",
    "import theano.tensor as T\n",
    "from theano import function\n",
    "from theano import shared\n",
    "import theano\n",
    "from theano.tensor.signal import downsample\n",
    "from theano.tensor.nnet import conv\n",
    "import matplotlib.pyplot as plt\n",
    "import scipy.optimize as opt\n",
    "import glob\n",
    "import os\n",
    "import sys\n",
    "%matplotlib inline"
   ]
  },
  {
   "cell_type": "code",
   "execution_count": 3,
   "metadata": {
    "collapsed": true
   },
   "outputs": [],
   "source": [
    "framinghhamDataFrame = pd.read_csv('framingham.csv')"
   ]
  },
  {
   "cell_type": "code",
   "execution_count": 4,
   "metadata": {
    "collapsed": false,
    "scrolled": false
   },
   "outputs": [
    {
     "name": "stdout",
     "output_type": "stream",
     "text": [
      "<class 'pandas.core.frame.DataFrame'>\n",
      "(4240, 16)\n",
      "   male  age  education  currentSmoker  cigsPerDay  BPMeds  prevalentStroke  \\\n",
      "0     1   39          4              0           0       0                0   \n",
      "1     0   46          2              0           0       0                0   \n",
      "2     1   48          1              1          20       0                0   \n",
      "3     0   61          3              1          30       0                0   \n",
      "4     0   46          3              1          23       0                0   \n",
      "\n",
      "   prevalentHyp  diabetes  totChol  sysBP  diaBP    BMI  heartRate  glucose  \\\n",
      "0             0         0      195  106.0     70  26.97         80       77   \n",
      "1             0         0      250  121.0     81  28.73         95       76   \n",
      "2             0         0      245  127.5     80  25.34         75       70   \n",
      "3             1         0      225  150.0     95  28.58         65      103   \n",
      "4             0         0      285  130.0     84  23.10         85       85   \n",
      "\n",
      "   TenYearCHD  \n",
      "0           0  \n",
      "1           0  \n",
      "2           0  \n",
      "3           1  \n",
      "4           0  \n",
      "\n",
      "[5 rows x 16 columns]\n"
     ]
    }
   ],
   "source": [
    "#visualization data\n",
    "print type(framinghhamDataFrame)\n",
    "print framinghhamDataFrame.shape\n",
    "print framinghhamDataFrame.head()"
   ]
  },
  {
   "cell_type": "code",
   "execution_count": 5,
   "metadata": {
    "collapsed": false
   },
   "outputs": [
    {
     "name": "stdout",
     "output_type": "stream",
     "text": [
      "[False  True]\n",
      "True\n",
      "(3658, 16)\n",
      "[False]\n",
      "False\n"
     ]
    }
   ],
   "source": [
    "#check to see if there are any NA value, if so \n",
    "#For now I am just dropping NA value, but its better to do impute with mean or meadian value latter.\n",
    "\n",
    "print np.unique(framinghhamDataFrame.isnull())\n",
    "print framinghhamDataFrame.isnull().values.any()\n",
    "\n",
    "#imp = Imputer(missing_values='NaN', strategy='mean', axis=0)\n",
    "#imp.fit(framinghhamDataFrame[predictors])\n",
    "#X = imp.transform(framinghhamDataFrame[predictors])\n",
    "\n",
    "#print framinghhamDataFrame.shape\n",
    "framinghhamDataFrame = framinghhamDataFrame.dropna(axis=0)\n",
    "print framinghhamDataFrame.shape\n",
    "\n",
    "print np.unique(framinghhamDataFrame.isnull())\n",
    "print framinghhamDataFrame.isnull().values.any()"
   ]
  },
  {
   "cell_type": "code",
   "execution_count": 6,
   "metadata": {
    "collapsed": false
   },
   "outputs": [
    {
     "name": "stdout",
     "output_type": "stream",
     "text": [
      "(3658, 16)\n",
      "(3658, 15)\n",
      "(3658,)\n"
     ]
    }
   ],
   "source": [
    "#We are trying to predict TenYearCHD \n",
    "#Splitting the data for classification purpose..\n",
    "#Input dataframe consists of X1, X2\n",
    "print framinghhamDataFrame.shape\n",
    "\n",
    "#Reshuffle the data randomly\n",
    "framinghhamDataFrame = framinghhamDataFrame.reindex(np.random.permutation(framinghhamDataFrame.index))\n",
    "\n",
    "X = framinghhamDataFrame.drop(['TenYearCHD'],axis=1) \n",
    "\n",
    "print X.shape\n",
    "\n",
    "#Output vector(predictor/response) vector\n",
    "Y = framinghhamDataFrame['TenYearCHD']\n",
    "\n",
    "print Y.shape\n",
    "#Splitting data into train and testing. 70% Training and 30% Testing..\n",
    "X_train, X_test, Y_train, Y_test = train_test_split(X, Y, test_size=0.3, random_state=4)\n"
   ]
  },
  {
   "cell_type": "code",
   "execution_count": 7,
   "metadata": {
    "collapsed": false
   },
   "outputs": [
    {
     "name": "stdout",
     "output_type": "stream",
     "text": [
      "X_train= (2560, 15)  Y_train= (2560,)  \n",
      "X_test= (1098, 15)  Y_test= (1098,)\n",
      "[0 1] [0 1]\n"
     ]
    }
   ],
   "source": [
    "#Lets visualize the data\n",
    "print 'X_train=',X_train.shape,' Y_train=',Y_train.shape,' \\nX_test=',X_test.shape,' Y_test=',Y_test.shape\n",
    "print np.unique(Y_train), np.unique(Y_test)"
   ]
  },
  {
   "cell_type": "markdown",
   "metadata": {},
   "source": [
    "# Logistic Regression"
   ]
  },
  {
   "cell_type": "code",
   "execution_count": 50,
   "metadata": {
    "collapsed": false
   },
   "outputs": [
    {
     "name": "stdout",
     "output_type": "stream",
     "text": [
      "0.861566484517\n"
     ]
    }
   ],
   "source": [
    "#Logistic Regression-sklearn\n",
    "logReg = LogisticRegression()\n",
    "logReg.fit(X_train,Y_train)\n",
    "Y_logPred = logReg.predict(X_test)\n",
    "print metrics.accuracy_score(Y_test,Y_logPred)\n",
    "\n",
    "#print Y_logPred"
   ]
  },
  {
   "cell_type": "code",
   "execution_count": 10,
   "metadata": {
    "collapsed": false
   },
   "outputs": [
    {
     "name": "stdout",
     "output_type": "stream",
     "text": [
      "[[935   4]\n",
      " [148  11]]\n"
     ]
    }
   ],
   "source": [
    "#print confusion matrix\n",
    "#Confusion matrix of logistic regression\n",
    "confusion = metrics.confusion_matrix(Y_test,Y_logPred)\n",
    "print confusion\n",
    "\n",
    "TP = confusion[1, 1]\n",
    "TN = confusion[0, 0]\n",
    "FP = confusion[0, 1]\n",
    "FN = confusion[1, 0]"
   ]
  },
  {
   "cell_type": "code",
   "execution_count": 11,
   "metadata": {
    "collapsed": false
   },
   "outputs": [
    {
     "name": "stdout",
     "output_type": "stream",
     "text": [
      "11 935 4 148\n"
     ]
    }
   ],
   "source": [
    "print TP, TN, FP, FN"
   ]
  },
  {
   "cell_type": "code",
   "execution_count": 14,
   "metadata": {
    "collapsed": false
   },
   "outputs": [
    {
     "name": "stdout",
     "output_type": "stream",
     "text": [
      "0.861566484517\n",
      "0.861566484517\n"
     ]
    }
   ],
   "source": [
    "#Accuracy\n",
    "print (TP + TN) / float(TP + TN + FP + FN)\n",
    "print metrics.accuracy_score(Y_test, Y_logPred)"
   ]
  },
  {
   "cell_type": "code",
   "execution_count": 16,
   "metadata": {
    "collapsed": false
   },
   "outputs": [
    {
     "name": "stdout",
     "output_type": "stream",
     "text": [
      "0.138433515483\n",
      "0.138433515483\n"
     ]
    }
   ],
   "source": [
    "#Classification Error\n",
    "print (FP + FN) / float(TP + TN + FP + FN)\n",
    "print 1 - metrics.accuracy_score(Y_test, Y_logPred)"
   ]
  },
  {
   "cell_type": "code",
   "execution_count": 17,
   "metadata": {
    "collapsed": false
   },
   "outputs": [
    {
     "name": "stdout",
     "output_type": "stream",
     "text": [
      "0.0691823899371\n",
      "0.0691823899371\n"
     ]
    }
   ],
   "source": [
    "#Sensitivity\n",
    "print TP / float(TP + FN)\n",
    "print metrics.recall_score(Y_test, Y_logPred)"
   ]
  },
  {
   "cell_type": "code",
   "execution_count": 18,
   "metadata": {
    "collapsed": false
   },
   "outputs": [
    {
     "name": "stdout",
     "output_type": "stream",
     "text": [
      "0.995740149095\n"
     ]
    }
   ],
   "source": [
    "#Specifity\n",
    "print TN / float(TN + FP)"
   ]
  },
  {
   "cell_type": "code",
   "execution_count": 19,
   "metadata": {
    "collapsed": false
   },
   "outputs": [
    {
     "name": "stdout",
     "output_type": "stream",
     "text": [
      "0.00425985090522\n"
     ]
    }
   ],
   "source": [
    "#False positive rate\n",
    "print FP / float(TN + FP)"
   ]
  },
  {
   "cell_type": "code",
   "execution_count": 22,
   "metadata": {
    "collapsed": false
   },
   "outputs": [
    {
     "name": "stdout",
     "output_type": "stream",
     "text": [
      "0.733333333333\n",
      "0.733333333333\n"
     ]
    }
   ],
   "source": [
    "#Precision\n",
    "P = TP / float(TP + FP)\n",
    "print P\n",
    "print metrics.precision_score(Y_test, Y_logPred)"
   ]
  },
  {
   "cell_type": "code",
   "execution_count": 23,
   "metadata": {
    "collapsed": false
   },
   "outputs": [
    {
     "name": "stdout",
     "output_type": "stream",
     "text": [
      "0.0691823899371\n",
      "0.0691823899371\n"
     ]
    }
   ],
   "source": [
    "#Recall\n",
    "R = TP / float(TP + FN)\n",
    "print R\n",
    "print metrics.recall_score(Y_test, Y_logPred)\n"
   ]
  },
  {
   "cell_type": "code",
   "execution_count": 27,
   "metadata": {
    "collapsed": false
   },
   "outputs": [
    {
     "name": "stdout",
     "output_type": "stream",
     "text": [
      "0.126436781609\n",
      "0.126436781609\n"
     ]
    }
   ],
   "source": [
    "#F1 Score\n",
    "print (2*P*R)/float(P+R)\n",
    "print metrics.f1_score(Y_test, Y_logPred)"
   ]
  },
  {
   "cell_type": "code",
   "execution_count": 46,
   "metadata": {
    "collapsed": false
   },
   "outputs": [],
   "source": [
    "# store the predicted probabilities for class 1\n",
    "Y_logPred_prob = logReg.predict_proba(X_test)[:, 1]"
   ]
  },
  {
   "cell_type": "code",
   "execution_count": 47,
   "metadata": {
    "collapsed": false
   },
   "outputs": [
    {
     "data": {
      "image/png": "[encoded data removed]",
      "text/plain": [
       "<matplotlib.figure.Figure at 0x7f98fcea4e90>"
      ]
     },
     "metadata": {},
     "output_type": "display_data"
    }
   ],
   "source": [
    "#ROC curve\n",
    "# IMPORTANT: first argument is true values, second argument is predicted probabilities\n",
    "fpr, tpr, thresholds = metrics.roc_curve(Y_test, Y_logPred_prob)\n",
    "plt.plot(fpr, tpr)\n",
    "plt.xlim([0.0, 1.0])\n",
    "plt.ylim([0.0, 1.0])\n",
    "plt.title('ROC curve')\n",
    "plt.xlabel('False Positive Rate (1 - Specificity)')\n",
    "plt.ylabel('True Positive Rate (Sensitivity)')\n",
    "plt.grid(True)"
   ]
  },
  {
   "cell_type": "code",
   "execution_count": 33,
   "metadata": {
    "collapsed": false
   },
   "outputs": [
    {
     "name": "stdout",
     "output_type": "stream",
     "text": [
      "0.532461269516\n"
     ]
    }
   ],
   "source": [
    "# IMPORTANT: first argument is true values, second argument is predicted probabilities\n",
    "print metrics.roc_auc_score(Y_test, Y_logPred)"
   ]
  },
  {
   "cell_type": "code",
   "execution_count": 34,
   "metadata": {
    "collapsed": false
   },
   "outputs": [
    {
     "data": {
      "text/plain": [
       "0.68773964767787688"
      ]
     },
     "execution_count": 34,
     "metadata": {},
     "output_type": "execute_result"
    }
   ],
   "source": [
    "# calculate cross-validated AUC\n",
    "from sklearn.cross_validation import cross_val_score\n",
    "cross_val_score(logReg, X_test, Y_test, cv=10, scoring='roc_auc').mean()"
   ]
  },
  {
   "cell_type": "markdown",
   "metadata": {},
   "source": [
    "# Deep Neural Network (Theano)"
   ]
  },
  {
   "cell_type": "code",
   "execution_count": 11,
   "metadata": {
    "collapsed": true
   },
   "outputs": [],
   "source": [
    "def load_data():\n",
    "    ''' Loads the dataset\n",
    "    '''\n",
    "\n",
    "    #############\n",
    "    # LOAD DATA #\n",
    "    #############\n",
    "\n",
    "    print '... loading data'\n",
    "\n",
    "    # Load the dataset\n",
    "    train_set = [np.asarray(X_train), np.asarray(Y_train)]\n",
    "    test_set = [np.asarray(X_test), np.asarray(Y_test)]\n",
    "    \n",
    "    #train_set, valid_set format: tuple(input, target)\n",
    "    #input is an numpy.ndarray of 2 dimensions (a matrix)\n",
    "    #witch row's correspond to an example. target is a\n",
    "    #numpy.ndarray of 1 dimensions (vector)) that have the same length as\n",
    "    #the number of rows in the input. It should give the target\n",
    "    #target to the example with the same index in the input.\n",
    "\n",
    "    def shared_dataset(data_xy, borrow=True):\n",
    "        \"\"\" Function that loads the dataset into shared variables\n",
    "\n",
    "        The reason we store our dataset in shared variables is to allow\n",
    "        Theano to copy it into the GPU memory (when code is run on GPU).\n",
    "        Since copying data into the GPU is slow, copying a minibatch everytime\n",
    "        is needed (the default behaviour if the data is not in a shared\n",
    "        variable) would lead to a large decrease in performance.\n",
    "        \"\"\"\n",
    "        data_x, data_y = data_xy\n",
    "        shared_x = theano.shared(np.asarray(data_x,\n",
    "                                               dtype=theano.config.floatX),\n",
    "                                 borrow=borrow)\n",
    "        shared_y = theano.shared(np.asarray(data_y,\n",
    "                                               dtype=theano.config.floatX),\n",
    "                                 borrow=borrow)\n",
    "        # When storing data on the GPU it has to be stored as floats\n",
    "        # therefore we will store the labels as ``floatX`` as well\n",
    "        # (``shared_y`` does exactly that). But during our computations\n",
    "        # we need them as ints (we use labels as index, and if they are\n",
    "        # floats it doesn't make sense) therefore instead of returning\n",
    "        # ``shared_y`` we will have to cast it to int. This little hack\n",
    "        # lets ous get around this issue\n",
    "        return shared_x, T.cast(shared_y, 'int32')\n",
    "\n",
    "    train_set_x, train_set_y = shared_dataset(train_set)\n",
    "    test_set_x, test_set_y   = shared_dataset(test_set)    \n",
    "\n",
    "    rval = [(train_set_x, train_set_y), (test_set_x, test_set_y)]\n",
    "    return rval"
   ]
  },
  {
   "cell_type": "code",
   "execution_count": 12,
   "metadata": {
    "collapsed": true
   },
   "outputs": [],
   "source": [
    "class LogisticRegression(object):\n",
    "    \"\"\"Multi-class Logistic Regression Class\n",
    "\n",
    "    The logistic regression is fully described by a weight matrix :math:`W`\n",
    "    and bias vector :math:`b`. Classification is done by projecting data\n",
    "    points onto a set of hyperplanes, the distance to which is used to\n",
    "    determine a class membership probability.\n",
    "    \"\"\"\n",
    "\n",
    "    def __init__(self, input, n_in, n_out):\n",
    "        \"\"\" Initialize the parameters of the logistic regression\n",
    "\n",
    "        :type input: theano.tensor.TensorType\n",
    "        :param input: symbolic variable that describes the input of the\n",
    "                      architecture (one minibatch)\n",
    "\n",
    "        :type n_in: int\n",
    "        :param n_in: number of input units, the dimension of the space in\n",
    "                     which the datapoints lie\n",
    "\n",
    "        :type n_out: int\n",
    "        :param n_out: number of output units, the dimension of the space in\n",
    "                      which the labels lie\n",
    "\n",
    "        \"\"\"\n",
    "        \n",
    "        # initialize with 0 the weights W as a matrix of shape (n_in, n_out)\n",
    "        self.W = theano.shared(value=np.zeros((n_in, n_out),\n",
    "                                                 dtype=theano.config.floatX),\n",
    "                                name='W', borrow=True)\n",
    "        # initialize the biases b as a vector of n_out 0s\n",
    "        self.b = theano.shared(value=np.zeros((n_out,),\n",
    "                                                 dtype=theano.config.floatX),\n",
    "                               name='b', borrow=True)\n",
    "\n",
    "        # compute vector of class-membership probabilities in symbolic form\n",
    "        self.p_y_given_x = T.nnet.softmax(T.dot(input, self.W) + self.b)\n",
    "\n",
    "        # compute prediction as class whose probability is maximal in\n",
    "        # symbolic form\n",
    "        self.y_pred = T.argmax(self.p_y_given_x, axis=1)\n",
    "\n",
    "        # parameters of the model\n",
    "        self.params = [self.W, self.b]\n",
    "\n",
    "    def negative_log_likelihood(self, y):\n",
    "        \"\"\"Return the mean of the negative log-likelihood of the prediction\n",
    "        of this model under a given target distribution.\n",
    "\n",
    "        .. math::\n",
    "\n",
    "            \\frac{1}{|\\mathcal{D}|} \\mathcal{L} (\\theta=\\{W,b\\}, \\mathcal{D}) =\n",
    "            \\frac{1}{|\\mathcal{D}|} \\sum_{i=0}^{|\\mathcal{D}|} \\log(P(Y=y^{(i)}|x^{(i)}, W,b)) \\\\\n",
    "                \\ell (\\theta=\\{W,b\\}, \\mathcal{D})\n",
    "\n",
    "        :type y: theano.tensor.TensorType\n",
    "        :param y: corresponds to a vector that gives for each example the\n",
    "                  correct label\n",
    "\n",
    "        Note: we use the mean instead of the sum so that\n",
    "              the learning rate is less dependent on the batch size\n",
    "        \"\"\"\n",
    "        # y.shape[0] is (symbolically) the number of rows in y, i.e.,\n",
    "        # number of examples (call it n) in the minibatch\n",
    "        # T.arange(y.shape[0]) is a symbolic vector which will contain\n",
    "        # [0,1,2,... n-1] T.log(self.p_y_given_x) is a matrix of\n",
    "        # Log-Probabilities (call it LP) with one row per example and\n",
    "        # one column per class LP[T.arange(y.shape[0]),y] is a vector\n",
    "        # v containing [LP[0,y[0]], LP[1,y[1]], LP[2,y[2]], ...,\n",
    "        # LP[n-1,y[n-1]]] and T.mean(LP[T.arange(y.shape[0]),y]) is\n",
    "        # the mean (across minibatch examples) of the elements in v,\n",
    "        # i.e., the mean log-likelihood across the minibatch.\n",
    "        return -T.mean(T.log(self.p_y_given_x)[T.arange(y.shape[0]), y])\n",
    "\n",
    "    def errors(self, y):\n",
    "        \"\"\"Return a float representing the number of errors in the minibatch\n",
    "        over the total number of examples of the minibatch ; zero one\n",
    "        loss over the size of the minibatch\n",
    "\n",
    "        :type y: theano.tensor.TensorType\n",
    "        :param y: corresponds to a vector that gives for each example the\n",
    "                  correct label\n",
    "        \"\"\"\n",
    "\n",
    "        # check if y has same dimension of y_pred\n",
    "        if y.ndim != self.y_pred.ndim:\n",
    "            raise TypeError('y should have the same shape as self.y_pred',\n",
    "                ('y', target.type, 'y_pred', self.y_pred.type))\n",
    "        # check if y is of the correct datatype\n",
    "        if y.dtype.startswith('int'):\n",
    "            # the T.neq operator returns a vector of 0s and 1s, where 1\n",
    "            # represents a mistake in prediction\n",
    "            return T.mean(T.neq(self.y_pred, y))\n",
    "        else:\n",
    "            raise NotImplementedError()\n",
    "            \n",
    "    def predict(self):\n",
    "        return self.y_pred\n"
   ]
  },
  {
   "cell_type": "code",
   "execution_count": 13,
   "metadata": {
    "collapsed": true
   },
   "outputs": [],
   "source": [
    "class HiddenLayer(object):\n",
    "    def __init__(self, rng, input, n_in, n_out, W=None, b=None,\n",
    "                 activation=T.tanh):\n",
    "        \"\"\"\n",
    "        Typical hidden layer of a MLP: units are fully-connected and have\n",
    "        sigmoidal activation function. Weight matrix W is of shape (n_in,n_out)\n",
    "        and the bias vector b is of shape (n_out,).\n",
    "\n",
    "        NOTE : The nonlinearity used here is tanh\n",
    "\n",
    "        Hidden unit activation is given by: tanh(dot(input,W) + b)\n",
    "\n",
    "        :type rng: numpy.random.RandomState\n",
    "        :param rng: a random number generator used to initialize weights\n",
    "\n",
    "        :type input: theano.tensor.dmatrix\n",
    "        :param input: a symbolic tensor of shape (n_examples, n_in)\n",
    "\n",
    "        :type n_in: int\n",
    "        :param n_in: dimensionality of input\n",
    "\n",
    "        :type n_out: int\n",
    "        :param n_out: number of hidden units\n",
    "\n",
    "        :type activation: theano.Op or function\n",
    "        :param activation: Non linearity to be applied in the hidden\n",
    "                           layer\n",
    "        \"\"\"\n",
    "        self.input = input\n",
    "\n",
    "        # `W` is initialized with `W_values` which is uniformely sampled\n",
    "        # from sqrt(-6./(n_in+n_hidden)) and sqrt(6./(n_in+n_hidden))\n",
    "        # for tanh activation function\n",
    "        # the output of uniform if converted using asarray to dtype\n",
    "        # theano.config.floatX so that the code is runable on GPU\n",
    "        # Note : optimal initialization of weights is dependent on the\n",
    "        #        activation function used (among other things).\n",
    "        #        For example, results presented in [Xavier10] suggest that you\n",
    "        #        should use 4 times larger initial weights for sigmoid\n",
    "        #        compared to tanh\n",
    "        #        We have no info for other function, so we use the same as\n",
    "        #        tanh.\n",
    "        if W is None:\n",
    "            W_values = np.asarray(rng.uniform(\n",
    "                    low=-np.sqrt(6. / (n_in + n_out)),\n",
    "                    high=np.sqrt(6. / (n_in + n_out)),\n",
    "                    size=(n_in, n_out)), dtype=theano.config.floatX)\n",
    "            if activation == theano.tensor.nnet.sigmoid:\n",
    "                W_values *= 4\n",
    "\n",
    "            W = theano.shared(value=W_values, name='W', borrow=True)\n",
    "\n",
    "        if b is None:\n",
    "            b_values = np.zeros((n_out,), dtype=theano.config.floatX)\n",
    "            b = theano.shared(value=b_values, name='b', borrow=True)\n",
    "\n",
    "        self.W = W\n",
    "        self.b = b\n",
    "\n",
    "        lin_output = T.dot(input, self.W) + self.b\n",
    "        self.output = (lin_output if activation is None\n",
    "                       else activation(lin_output))\n",
    "        # parameters of the model\n",
    "        self.params = [self.W, self.b]\n",
    "\n",
    "\n",
    "class MLP(object):\n",
    "    \"\"\"Multi-Layer Perceptron Class\n",
    "\n",
    "    A multilayer perceptron is a feedforward artificial neural network model\n",
    "    that has one layer or more of hidden units and nonlinear activations.\n",
    "    Intermediate layers usually have as activation function tanh or the\n",
    "    sigmoid function (defined here by a ``HiddenLayer`` class)  while the\n",
    "    top layer is a softamx layer (defined here by a ``LogisticRegression``\n",
    "    class).\n",
    "    \"\"\"\n",
    "\n",
    "    def __init__(self, rng, input, n_in, n_hidden, n_out):\n",
    "        \n",
    "        \"\"\"Initialize the parameters for the multilayer perceptron\n",
    "\n",
    "        :type rng: numpy.random.RandomState\n",
    "        :param rng: a random number generator used to initialize weights\n",
    "\n",
    "        :type input: theano.tensor.TensorType\n",
    "        :param input: symbolic variable that describes the input of the\n",
    "        architecture (one minibatch)\n",
    "\n",
    "        :type n_in: int\n",
    "        :param n_in: number of input units, the dimension of the space in\n",
    "        which the datapoints lie\n",
    "\n",
    "        :type n_hidden: int\n",
    "        :param n_hidden: number of hidden units\n",
    "\n",
    "        :type n_out: int\n",
    "        :param n_out: number of output units, the dimension of the space in\n",
    "        which the labels lie\n",
    "\n",
    "        \"\"\"\n",
    "\n",
    "        # Since we are dealing with a one hidden layer MLP, this will translate\n",
    "        # into a HiddenLayer with a tanh activation function connected to the\n",
    "        # LogisticRegression layer; the activation function can be replaced by\n",
    "        # sigmoid or any other nonlinear function\n",
    "        self.hiddenLayer = HiddenLayer(rng=rng, input=input,\n",
    "                                       n_in=n_in, n_out=n_hidden,\n",
    "                                       activation=T.tanh)\n",
    "        print n_in, n_hidden, n_out\n",
    "        # The logistic regression layer gets as input the hidden units\n",
    "        # of the hidden layer\n",
    "        \n",
    "        self.logRegressionLayer = LogisticRegression(input=self.hiddenLayer.output, n_in = n_hidden, n_out=n_out)\n",
    "        \n",
    "        print n_in, n_hidden, n_out\n",
    "        # L1 norm ; one regularization option is to enforce L1 norm to\n",
    "        # be small\n",
    "        self.L1 = abs(self.hiddenLayer.W).sum() \\\n",
    "                + abs(self.logRegressionLayer.W).sum()\n",
    "\n",
    "        # square of L2 norm ; one regularization option is to enforce\n",
    "        # square of L2 norm to be small\n",
    "        self.L2_sqr = (self.hiddenLayer.W ** 2).sum() \\\n",
    "                    + (self.logRegressionLayer.W ** 2).sum()\n",
    "\n",
    "        # negative log likelihood of the MLP is given by the negative\n",
    "        # log likelihood of the output of the model, computed in the\n",
    "        # logistic regression layer\n",
    "        self.negative_log_likelihood = self.logRegressionLayer.negative_log_likelihood\n",
    "        # same holds for the function computing the number of errors\n",
    "        self.errors = self.logRegressionLayer.errors\n",
    "\n",
    "        # the parameters of the model are the parameters of the two layer it is\n",
    "        # made out of\n",
    "        self.params = self.hiddenLayer.params + self.logRegressionLayer.params\n",
    "        self.predict = self.logRegressionLayer.predict"
   ]
  },
  {
   "cell_type": "code",
   "execution_count": 14,
   "metadata": {
    "collapsed": false
   },
   "outputs": [
    {
     "name": "stdout",
     "output_type": "stream",
     "text": [
      "... loading data\n",
      "... building the model\n",
      "15 100 2\n",
      "15 100 2\n",
      "... training\n",
      "epoch 1, test error 15.100000 %\n",
      "epoch 2, test error 15.100000 %\n",
      "epoch 3, test error 15.100000 %\n",
      "epoch 4, test error 15.100000 %\n",
      "epoch 5, test error 15.100000 %\n",
      "epoch 6, test error 15.100000 %\n",
      "epoch 7, test error 15.100000 %\n",
      "epoch 8, test error 15.100000 %\n",
      "epoch 9, test error 15.100000 %\n",
      "epoch 10, test error 15.100000 %\n",
      "epoch 11, test error 15.100000 %\n",
      "epoch 12, test error 15.200000 %\n",
      "epoch 13, test error 15.200000 %\n",
      "epoch 14, test error 15.300000 %\n",
      "epoch 15, test error 15.200000 %\n",
      "epoch 16, test error 15.200000 %\n",
      "epoch 17, test error 15.100000 %\n",
      "epoch 18, test error 15.200000 %\n",
      "epoch 19, test error 15.300000 %\n",
      "epoch 20, test error 15.200000 %\n",
      "epoch 21, test error 15.100000 %\n",
      "epoch 22, test error 15.200000 %\n",
      "epoch 23, test error 15.200000 %\n",
      "epoch 24, test error 15.200000 %\n",
      "epoch 25, test error 15.100000 %\n",
      "epoch 26, test error 15.100000 %\n",
      "epoch 27, test error 15.200000 %\n",
      "epoch 28, test error 15.200000 %\n",
      "epoch 29, test error 15.100000 %\n",
      "epoch 30, test error 15.300000 %\n",
      "epoch 31, test error 15.000000 %\n",
      "epoch 32, test error 15.100000 %\n",
      "epoch 33, test error 15.000000 %\n",
      "epoch 34, test error 15.100000 %\n",
      "epoch 35, test error 15.200000 %\n",
      "epoch 36, test error 15.100000 %\n",
      "epoch 37, test error 15.200000 %\n",
      "epoch 38, test error 15.200000 %\n",
      "epoch 39, test error 15.100000 %\n",
      "epoch 40, test error 15.200000 %\n",
      "epoch 41, test error 15.200000 %\n",
      "epoch 42, test error 15.200000 %\n",
      "epoch 43, test error 15.100000 %\n",
      "epoch 44, test error 15.200000 %\n",
      "epoch 45, test error 15.100000 %\n",
      "epoch 46, test error 15.200000 %\n",
      "epoch 47, test error 15.100000 %\n",
      "epoch 48, test error 15.200000 %\n",
      "epoch 49, test error 15.200000 %\n",
      "epoch 50, test error 15.100000 %\n",
      "epoch 51, test error 15.100000 %\n",
      "epoch 52, test error 15.100000 %\n",
      "epoch 53, test error 15.100000 %\n",
      "epoch 54, test error 15.100000 %\n",
      "epoch 55, test error 15.100000 %\n",
      "epoch 56, test error 15.100000 %\n",
      "epoch 57, test error 15.100000 %\n",
      "epoch 58, test error 15.100000 %\n",
      "epoch 59, test error 15.200000 %\n",
      "epoch 60, test error 15.200000 %\n",
      "epoch 61, test error 15.200000 %\n",
      "epoch 62, test error 15.200000 %\n",
      "epoch 63, test error 15.300000 %\n",
      "epoch 64, test error 15.200000 %\n",
      "epoch 65, test error 15.200000 %\n",
      "epoch 66, test error 15.100000 %\n",
      "epoch 67, test error 15.200000 %\n",
      "epoch 68, test error 15.200000 %\n",
      "epoch 69, test error 15.200000 %\n",
      "epoch 70, test error 15.300000 %\n",
      "epoch 71, test error 15.300000 %\n",
      "epoch 72, test error 15.200000 %\n",
      "epoch 73, test error 15.200000 %\n",
      "epoch 74, test error 15.200000 %\n",
      "epoch 75, test error 15.200000 %\n",
      "epoch 76, test error 15.200000 %\n",
      "epoch 77, test error 15.200000 %\n",
      "epoch 78, test error 15.200000 %\n",
      "epoch 79, test error 15.200000 %\n",
      "epoch 80, test error 15.200000 %\n",
      "epoch 81, test error 15.200000 %\n",
      "epoch 82, test error 15.300000 %\n",
      "epoch 83, test error 15.300000 %\n",
      "epoch 84, test error 15.300000 %\n",
      "epoch 85, test error 15.300000 %\n",
      "epoch 86, test error 15.300000 %\n",
      "epoch 87, test error 15.300000 %\n",
      "epoch 88, test error 15.200000 %\n",
      "epoch 89, test error 15.200000 %\n",
      "epoch 90, test error 15.300000 %\n",
      "epoch 91, test error 15.200000 %\n",
      "epoch 92, test error 15.300000 %\n",
      "epoch 93, test error 15.200000 %\n",
      "epoch 94, test error 15.100000 %\n",
      "epoch 95, test error 15.200000 %\n",
      "epoch 96, test error 15.100000 %\n",
      "epoch 97, test error 15.100000 %\n",
      "epoch 98, test error 15.100000 %\n",
      "epoch 99, test error 15.200000 %\n",
      "epoch 100, test error 15.100000 %\n"
     ]
    }
   ],
   "source": [
    "learning_rate=0.025\n",
    "L1_reg=0.001\n",
    "L2_reg=0.0001\n",
    "n_epochs= 100\n",
    "batch_size=100\n",
    "n_hidden=100\n",
    "\n",
    "datasets = load_data()\n",
    "\n",
    "train_set_x, train_set_y = datasets[0]\n",
    "test_set_x , test_set_y = datasets[1]\n",
    "\n",
    "# compute number of minibatches for training, validation and testing\n",
    "n_train_batches = train_set_x.get_value(borrow=True).shape[0] / batch_size\n",
    "n_test_batches = test_set_x.get_value(borrow=True).shape[0] / batch_size\n",
    "\n",
    "######################\n",
    "# BUILD ACTUAL MODEL #\n",
    "######################\n",
    "print '... building the model'\n",
    "\n",
    "# allocate symbolic variables for the data\n",
    "index = T.lscalar()  # index to a [mini]batch\n",
    "x = T.matrix('x')  # the data is presented as rasterized images\n",
    "y = T.ivector('y')  # the labels are presented as 1D vector of\n",
    "                        # [int] labels\n",
    "\n",
    "rng = np.random.RandomState(1234)\n",
    "\n",
    "# construct the MLP class\n",
    "classifier = MLP(rng=rng, input=x, n_in=15, n_hidden=n_hidden, n_out=2)\n",
    "\n",
    "# the cost we minimize during training is the negative log likelihood of\n",
    "# the model plus the regularization terms (L1 and L2); cost is expressed\n",
    "# here symbolically\n",
    "cost = classifier.negative_log_likelihood(y) \\\n",
    "        + L1_reg * classifier.L1 \\\n",
    "        + L2_reg * classifier.L2_sqr\n",
    "\n",
    "# compiling a Theano function that computes the mistakes that are made\n",
    "# by the model on a minibatch\n",
    "\n",
    "test_model = theano.function(inputs=[index],\n",
    "            outputs=classifier.errors(y),\n",
    "            givens={\n",
    "                x: test_set_x[index * batch_size:(index + 1) * batch_size],\n",
    "                y: test_set_y[index * batch_size:(index + 1) * batch_size]})\n",
    "\n",
    "    # compute the gradient of cost with respect to theta (sotred in params)\n",
    "    # the resulting gradients will be stored in a list gparams\n",
    "gparams = []\n",
    "for param in classifier.params:\n",
    "    gparam = T.grad(cost, param)\n",
    "    gparams.append(gparam)\n",
    "\n",
    "# specify how to update the parameters of the model as a list of\n",
    "# (variable, update expression) pairs\n",
    "updates = []\n",
    "# given two list the zip A = [a1, a2, a3, a4] and B = [b1, b2, b3, b4] of\n",
    "# same length, zip generates a list C of same size, where each element\n",
    "# is a pair formed from the two lists :\n",
    "#    C = [(a1, b1), (a2, b2), (a3, b3), (a4, b4)]\n",
    "for param, gparam in zip(classifier.params, gparams):\n",
    "    updates.append((param, param - learning_rate * gparam))\n",
    "\n",
    "# compiling a Theano function `train_model` that returns the cost, but\n",
    "# in the same time updates the parameter of the model based on the rules\n",
    "# defined in `updates`\n",
    "train_model = theano.function(inputs=[index], outputs=cost,\n",
    "            updates=updates,\n",
    "            givens={\n",
    "                x: train_set_x[index * batch_size:(index + 1) * batch_size],\n",
    "                y: train_set_y[index * batch_size:(index + 1) * batch_size]})\n",
    "\n",
    "###############\n",
    "# TRAIN MODEL #\n",
    "###############\n",
    "print '... training'\n",
    "\n",
    "# early-stopping parameters\n",
    "patience = 10000  # look as this many examples regardless\n",
    "patience_increase = 2  # wait this much longer when a new best is\n",
    "                        # found\n",
    "improvement_threshold = 0.995  # a relative improvement of this much is\n",
    "                                   # considered significant\n",
    "test_frequency = min(n_train_batches, patience / 2)\n",
    "                                  # go through this many\n",
    "                                  # minibatche before checking the network\n",
    "                                  # on the validation set; in this case we\n",
    "                                  # check every epoch\n",
    "\n",
    "best_test_loss = np.inf\n",
    "best_iter = 0\n",
    "\n",
    "epoch = 0\n",
    "done_looping = False\n",
    "\n",
    "while (epoch < n_epochs) and (not done_looping):\n",
    "    epoch = epoch + 1\n",
    "    for minibatch_index in xrange(n_train_batches):\n",
    "\n",
    "        minibatch_avg_cost = train_model(minibatch_index)\n",
    "        # iteration number\n",
    "        iter = (epoch - 1) * n_train_batches + minibatch_index\n",
    "\n",
    "        if (iter + 1) % test_frequency == 0:\n",
    "            # compute zero-one loss on validation set\n",
    "            test_losses = [test_model(i) for i\n",
    "                                     in xrange(n_test_batches)]\n",
    "            this_test_loss = np.mean(test_losses)\n",
    "\n",
    "            print('epoch %i, test error %f %%' %\n",
    "                     (epoch, this_test_loss * 100.))\n",
    "\n",
    "            # if we got the best validation score until now\n",
    "            if this_test_loss < best_test_loss:\n",
    "                #improve patience if loss improvement is good enough\n",
    "                if this_test_loss < best_test_loss *  \\\n",
    "                        improvement_threshold:\n",
    "                    patience = max(patience, iter * patience_increase)\n",
    "\n",
    "                best_test_loss = this_test_loss\n",
    "\n",
    "        if patience <= iter:\n",
    "            done_looping = True\n",
    "            break\n"
   ]
  },
  {
   "cell_type": "code",
   "execution_count": 15,
   "metadata": {
    "collapsed": false
   },
   "outputs": [
    {
     "data": {
      "text/plain": [
       "85.2"
      ]
     },
     "execution_count": 15,
     "metadata": {},
     "output_type": "execute_result"
    }
   ],
   "source": [
    "100-14.8"
   ]
  },
  {
   "cell_type": "code",
   "execution_count": null,
   "metadata": {
    "collapsed": true
   },
   "outputs": [],
   "source": []
  }
 ],
 "metadata": {
  "kernelspec": {
   "display_name": "Python 2",
   "language": "python",
   "name": "python2"
  },
  "language_info": {
   "codemirror_mode": {
    "name": "ipython",
    "version": 2
   },
   "file_extension": ".py",
   "mimetype": "text/x-python",
   "name": "python",
   "nbconvert_exporter": "python",
   "pygments_lexer": "ipython2",
   "version": "2.7.6"
  }
 },
 "nbformat": 4,
 "nbformat_minor": 0
}
