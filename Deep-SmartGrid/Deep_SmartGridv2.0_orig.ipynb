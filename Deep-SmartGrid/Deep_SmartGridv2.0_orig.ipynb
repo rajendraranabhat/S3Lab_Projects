{
 "cells": [
  {
   "cell_type": "markdown",
   "metadata": {},
   "source": [
    "# Deep SmartGrid"
   ]
  },
  {
   "cell_type": "code",
   "execution_count": 1,
   "metadata": {
    "collapsed": false
   },
   "outputs": [
    {
     "name": "stderr",
     "output_type": "stream",
     "text": [
      "WARNING (theano.sandbox.cuda): CUDA is installed, but device gpu is not available  (error: Unable to get the number of gpus available: no CUDA-capable device is detected)\n",
      "WARNING:theano.sandbox.cuda:CUDA is installed, but device gpu is not available  (error: Unable to get the number of gpus available: no CUDA-capable device is detected)\n",
      "/usr/local/lib/python2.7/dist-packages/theano/tensor/signal/downsample.py:6: UserWarning: downsample module has been moved to the theano.tensor.signal.pool module.\n",
      "  \"downsample module has been moved to the theano.tensor.signal.pool module.\")\n",
      "Using Theano backend.\n"
     ]
    }
   ],
   "source": [
    "import scipy.io as scpy\n",
    "import numpy as np\n",
    "import pandas as pd\n",
    "import matplotlib.pyplot as plt\n",
    "import pandas as pd\n",
    "from sklearn.neighbors import KNeighborsClassifier\n",
    "from sklearn.linear_model import LogisticRegression\n",
    "from sklearn.ensemble import RandomForestClassifier\n",
    "from sklearn.cross_validation import cross_val_score\n",
    "from sklearn import metrics\n",
    "from sklearn import tree\n",
    "from sklearn.cross_validation import train_test_split\n",
    "from sklearn.metrics import confusion_matrix, roc_curve, auc, classification_report\n",
    "from sklearn.grid_search import GridSearchCV\n",
    "from sklearn import svm\n",
    "from sklearn.manifold import TSNE\n",
    "import scipy.optimize as opt\n",
    "import glob\n",
    "import sys\n",
    "import os\n",
    "import theano.tensor as T\n",
    "from theano import function\n",
    "from theano import shared\n",
    "import theano\n",
    "from theano.tensor.signal import downsample\n",
    "from theano.tensor.nnet import conv\n",
    "\n",
    "#np.random.seed(1337)  # for reproducibility\n",
    "from keras.datasets import mnist\n",
    "from keras.models import Sequential\n",
    "from keras.layers.core import Dense, Dropout, Activation, Flatten, Layer, Reshape, AutoEncoder, Merge\n",
    "from keras.layers.convolutional import Convolution2D,MaxPooling2D,Convolution1D,MaxPooling1D,UpSampling2D, ZeroPadding2D\n",
    "from keras.optimizers import SGD, Adam, RMSprop, Adadelta\n",
    "from keras.layers.normalization import BatchNormalization\n",
    "from keras.utils import np_utils\n",
    "import keras.utils.visualize_util as vutil\n",
    "from keras.layers.recurrent import LSTM, GRU, SimpleRNN\n",
    "from keras.regularizers import l1, l2, l1l2, activity_l2, activity_l1\n",
    "import keras.layers.containers as containers\n",
    "from keras.layers.noise import GaussianNoise\n",
    "from keras.regularizers import ActivityRegularizer\n",
    "from keras import backend as K\n",
    "import keras.utils.visualize_util as vutil\n",
    "from keras.models import model_from_json\n",
    "from keras.utils.visualize_util import plot, to_graph\n",
    "\n",
    "from IPython.display import SVG\n",
    "\n",
    "np.set_printoptions(suppress=True)  #Supress exponent of the number 2e-2 == 0.02\n",
    "\n",
    "%matplotlib inline"
   ]
  },
  {
   "cell_type": "code",
   "execution_count": 2,
   "metadata": {
    "collapsed": false
   },
   "outputs": [
    {
     "name": "stdout",
     "output_type": "stream",
     "text": [
      "<type 'dict'>\n"
     ]
    }
   ],
   "source": [
    "#Ref: http://deeplearning.net/, https://www.kaggle.com/wiki/Tutorials etc..\n",
    "\n",
    "#caso_I.mat, caso_II.mat, caso_III.mat, caso_base.mat, consumer_data.xlsx\n",
    "\n",
    "#print(os.getcwd() + \"\\n\")\n",
    "#print os.listdir(os.getcwd())\n",
    "dataSmartGrid = scpy.loadmat('demcliMat.mat')\n",
    "print type(dataSmartGrid)"
   ]
  },
  {
   "cell_type": "code",
   "execution_count": 7,
   "metadata": {
    "collapsed": false
   },
   "outputs": [
    {
     "name": "stdout",
     "output_type": "stream",
     "text": [
      "(12180, 13)\n",
      "[[ 343.33881535  292.94608369  317.56346931 ...,    0.            0.            2.        ]\n",
      " [ 229.55690517  183.19172676    0.         ...,    0.            0.            2.        ]\n",
      " [ 106.98249046   79.89465389   60.93378272 ...,   50.91543646\n",
      "    44.87156581    1.        ]\n",
      " ..., \n",
      " [ 232.28249497  135.43054     200.91859872 ...,  187.78214091\n",
      "   191.41443704    0.        ]\n",
      " [ 239.19601078  206.37272444  174.6964434  ...,  297.67230497\n",
      "   202.62736538    0.        ]\n",
      " [ 277.38010202  209.01016123  277.00169283 ...,  146.70298371\n",
      "   309.63963308    0.        ]]\n"
     ]
    }
   ],
   "source": [
    "data = dataSmartGrid['demcliMat']\n",
    "print data.shape\n",
    "print data"
   ]
  },
  {
   "cell_type": "code",
   "execution_count": 8,
   "metadata": {
    "collapsed": false
   },
   "outputs": [
    {
     "data": {
      "text/plain": [
       "array([ 0.,  1.,  2.])"
      ]
     },
     "execution_count": 8,
     "metadata": {},
     "output_type": "execute_result"
    }
   ],
   "source": [
    "np.unique(data[:,-1:])"
   ]
  },
  {
   "cell_type": "code",
   "execution_count": 9,
   "metadata": {
    "collapsed": false
   },
   "outputs": [
    {
     "name": "stdout",
     "output_type": "stream",
     "text": [
      "(12180, 12) (12180,)\n"
     ]
    }
   ],
   "source": [
    "X = data[:,0:-1]\n",
    "Y = data[:,-1]\n",
    "\n",
    "print X.shape, Y.shape"
   ]
  },
  {
   "cell_type": "code",
   "execution_count": null,
   "metadata": {
    "collapsed": false
   },
   "outputs": [],
   "source": []
  },
  {
   "cell_type": "code",
   "execution_count": 17,
   "metadata": {
    "collapsed": false
   },
   "outputs": [
    {
     "name": "stdout",
     "output_type": "stream",
     "text": [
      "(12180,)\n"
     ]
    }
   ],
   "source": [
    "#print X.shape\n",
    "Y1 = Y\n",
    "Y1[Y1==2] = 1\n",
    "print Y1.shape"
   ]
  },
  {
   "cell_type": "code",
   "execution_count": 18,
   "metadata": {
    "collapsed": false
   },
   "outputs": [
    {
     "data": {
      "text/plain": [
       "array([ 0.,  1.])"
      ]
     },
     "execution_count": 18,
     "metadata": {},
     "output_type": "execute_result"
    }
   ],
   "source": [
    "np.unique(Y1)"
   ]
  },
  {
   "cell_type": "code",
   "execution_count": 19,
   "metadata": {
    "collapsed": false
   },
   "outputs": [],
   "source": [
    "#print data[0:5,:]\n",
    "#print data[0:5,0:-1]\n",
    "#print data[0:5,-1]\n",
    "\n",
    "\n",
    "#print X\n",
    "#print Y\n",
    "#Splitting data into train and testing. 70% Training and 30% Testing..\n",
    "X_train, X_test, y_train, y_test = train_test_split(X, Y1, test_size=0.3, random_state=4)"
   ]
  },
  {
   "cell_type": "code",
   "execution_count": 20,
   "metadata": {
    "collapsed": false
   },
   "outputs": [
    {
     "name": "stdout",
     "output_type": "stream",
     "text": [
      "(8526, 12) (8526,) (3654, 12) (3654,)\n"
     ]
    }
   ],
   "source": [
    "print X_train.shape, y_train.shape, X_test.shape, y_test.shape\n",
    "#print numpy.unique(Y_test)"
   ]
  },
  {
   "cell_type": "code",
   "execution_count": 21,
   "metadata": {
    "collapsed": false
   },
   "outputs": [
    {
     "name": "stdout",
     "output_type": "stream",
     "text": [
      "0.935960591133\n"
     ]
    }
   ],
   "source": [
    "#Random Forest Classification\n",
    "\n",
    "randForest = RandomForestClassifier(1)\n",
    "randForest.fit(X_train,y_train)\n",
    "Y_randForestPred = randForest.predict(X_test)\n",
    "print metrics.accuracy_score(y_test, Y_randForestPred)"
   ]
  },
  {
   "cell_type": "code",
   "execution_count": 22,
   "metadata": {
    "collapsed": false
   },
   "outputs": [
    {
     "name": "stdout",
     "output_type": "stream",
     "text": [
      "             precision    recall  f1-score   support\n",
      "\n",
      "    class 0       0.97      0.96      0.97      3402\n",
      "    class 1       0.53      0.61      0.57       252\n",
      "\n",
      "avg / total       0.94      0.94      0.94      3654\n",
      "\n"
     ]
    }
   ],
   "source": [
    "target_names = ['class 0', 'class 1']\n",
    "\n",
    "print(classification_report(y_test, Y_randForestPred, target_names=target_names))"
   ]
  },
  {
   "cell_type": "code",
   "execution_count": 23,
   "metadata": {
    "collapsed": false
   },
   "outputs": [
    {
     "name": "stdout",
     "output_type": "stream",
     "text": [
      "[[3267  135]\n",
      " [  99  153]]\n"
     ]
    }
   ],
   "source": [
    "#Confusion matrix\n",
    "conf = metrics.confusion_matrix(y_test,Y_randForestPred)\n",
    "print conf"
   ]
  },
  {
   "cell_type": "code",
   "execution_count": 25,
   "metadata": {
    "collapsed": false
   },
   "outputs": [
    {
     "name": "stdout",
     "output_type": "stream",
     "text": [
      "0.78373015873\n"
     ]
    }
   ],
   "source": [
    "print metrics.roc_auc_score(y_test, Y_randForestPred)"
   ]
  },
  {
   "cell_type": "code",
   "execution_count": null,
   "metadata": {
    "collapsed": true
   },
   "outputs": [],
   "source": []
  },
  {
   "cell_type": "code",
   "execution_count": 26,
   "metadata": {
    "collapsed": false
   },
   "outputs": [
    {
     "name": "stdout",
     "output_type": "stream",
     "text": [
      "0.943623426382\n"
     ]
    }
   ],
   "source": [
    "#Decision Tree\n",
    "\n",
    "clf = tree.DecisionTreeClassifier()\n",
    "clf = clf.fit(X_train,y_train)\n",
    "Y_treePred = clf.predict(X_test)\n",
    "print metrics.accuracy_score(y_test, Y_treePred)"
   ]
  },
  {
   "cell_type": "code",
   "execution_count": 27,
   "metadata": {
    "collapsed": false
   },
   "outputs": [
    {
     "name": "stdout",
     "output_type": "stream",
     "text": [
      "             precision    recall  f1-score   support\n",
      "\n",
      "    class 0       0.97      0.97      0.97      3402\n",
      "    class 1       0.59      0.61      0.60       252\n",
      "\n",
      "avg / total       0.94      0.94      0.94      3654\n",
      "\n"
     ]
    }
   ],
   "source": [
    "target_names = ['class 0', 'class 1']\n",
    "\n",
    "print(classification_report(y_test, Y_treePred, target_names=target_names))"
   ]
  },
  {
   "cell_type": "code",
   "execution_count": 28,
   "metadata": {
    "collapsed": false
   },
   "outputs": [
    {
     "name": "stdout",
     "output_type": "stream",
     "text": [
      "0.787845385068\n"
     ]
    }
   ],
   "source": [
    "print metrics.roc_auc_score(y_test, Y_treePred)"
   ]
  },
  {
   "cell_type": "code",
   "execution_count": null,
   "metadata": {
    "collapsed": false
   },
   "outputs": [],
   "source": []
  },
  {
   "cell_type": "code",
   "execution_count": 37,
   "metadata": {
    "collapsed": false
   },
   "outputs": [
    {
     "name": "stdout",
     "output_type": "stream",
     "text": [
      "(8526, 'train samples')\n",
      "(3654, 'test samples')\n",
      "Train on 8526 samples, validate on 3654 samples\n",
      "Epoch 1/300\n",
      "0s - loss: 6.2009 - acc: 0.5289 - val_loss: 7.0821 - val_acc: 0.6546\n",
      "Epoch 2/300\n",
      "0s - loss: 4.7870 - acc: 0.6293 - val_loss: 2.0156 - val_acc: 0.9368\n",
      "Epoch 3/300\n",
      "0s - loss: 3.6866 - acc: 0.7060 - val_loss: 0.8850 - val_acc: 0.9310\n",
      "Epoch 4/300\n",
      "0s - loss: 2.3065 - acc: 0.7912 - val_loss: 0.8241 - val_acc: 0.9310\n",
      "Epoch 5/300\n",
      "0s - loss: 1.3551 - acc: 0.8632 - val_loss: 0.7873 - val_acc: 0.9310\n",
      "Epoch 6/300\n",
      "0s - loss: 0.7412 - acc: 0.9192 - val_loss: 0.7817 - val_acc: 0.9310\n",
      "Epoch 7/300\n",
      "0s - loss: 0.5981 - acc: 0.9319 - val_loss: 0.7137 - val_acc: 0.9305\n",
      "Epoch 8/300\n",
      "0s - loss: 0.5527 - acc: 0.9326 - val_loss: 0.6382 - val_acc: 0.9310\n",
      "Epoch 9/300\n",
      "0s - loss: 0.5088 - acc: 0.9341 - val_loss: 0.5445 - val_acc: 0.9308\n",
      "Epoch 10/300\n",
      "0s - loss: 0.4755 - acc: 0.9329 - val_loss: 0.4590 - val_acc: 0.9313\n",
      "Epoch 11/300\n",
      "0s - loss: 0.4517 - acc: 0.9342 - val_loss: 0.3974 - val_acc: 0.9313\n",
      "Epoch 12/300\n",
      "0s - loss: 0.4274 - acc: 0.9334 - val_loss: 0.3544 - val_acc: 0.9313\n",
      "Epoch 13/300\n",
      "0s - loss: 0.4088 - acc: 0.9340 - val_loss: 0.3176 - val_acc: 0.9313\n",
      "Epoch 14/300\n",
      "0s - loss: 0.3895 - acc: 0.9336 - val_loss: 0.2911 - val_acc: 0.9313\n",
      "Epoch 15/300\n",
      "0s - loss: 0.3467 - acc: 0.9349 - val_loss: 0.2662 - val_acc: 0.9349\n",
      "Epoch 16/300\n",
      "0s - loss: 0.3436 - acc: 0.9344 - val_loss: 0.2493 - val_acc: 0.9362\n",
      "Epoch 17/300\n",
      "0s - loss: 0.3491 - acc: 0.9336 - val_loss: 0.2399 - val_acc: 0.9371\n",
      "Epoch 18/300\n",
      "0s - loss: 0.3248 - acc: 0.9344 - val_loss: 0.2340 - val_acc: 0.9384\n",
      "Epoch 19/300\n",
      "0s - loss: 0.3302 - acc: 0.9333 - val_loss: 0.2315 - val_acc: 0.9381\n",
      "Epoch 20/300\n",
      "0s - loss: 0.3239 - acc: 0.9340 - val_loss: 0.2282 - val_acc: 0.9387\n",
      "Epoch 21/300\n",
      "0s - loss: 0.3039 - acc: 0.9338 - val_loss: 0.2254 - val_acc: 0.9381\n",
      "Epoch 22/300\n",
      "0s - loss: 0.3125 - acc: 0.9343 - val_loss: 0.2243 - val_acc: 0.9381\n",
      "Epoch 23/300\n",
      "0s - loss: 0.2927 - acc: 0.9337 - val_loss: 0.2220 - val_acc: 0.9392\n",
      "Epoch 24/300\n",
      "0s - loss: 0.2976 - acc: 0.9334 - val_loss: 0.2208 - val_acc: 0.9395\n",
      "Epoch 25/300\n",
      "0s - loss: 0.3007 - acc: 0.9343 - val_loss: 0.2199 - val_acc: 0.9401\n",
      "Epoch 26/300\n",
      "0s - loss: 0.2807 - acc: 0.9347 - val_loss: 0.2192 - val_acc: 0.9395\n",
      "Epoch 27/300\n",
      "0s - loss: 0.2905 - acc: 0.9343 - val_loss: 0.2186 - val_acc: 0.9409\n",
      "Epoch 28/300\n",
      "0s - loss: 0.2698 - acc: 0.9353 - val_loss: 0.2171 - val_acc: 0.9406\n",
      "Epoch 29/300\n",
      "0s - loss: 0.2703 - acc: 0.9349 - val_loss: 0.2150 - val_acc: 0.9412\n",
      "Epoch 30/300\n",
      "0s - loss: 0.2675 - acc: 0.9350 - val_loss: 0.2141 - val_acc: 0.9420\n",
      "Epoch 31/300\n",
      "0s - loss: 0.2667 - acc: 0.9347 - val_loss: 0.2128 - val_acc: 0.9420\n",
      "Epoch 32/300\n",
      "0s - loss: 0.2641 - acc: 0.9356 - val_loss: 0.2114 - val_acc: 0.9431\n",
      "Epoch 33/300\n",
      "0s - loss: 0.2662 - acc: 0.9350 - val_loss: 0.2104 - val_acc: 0.9439\n",
      "Epoch 34/300\n",
      "0s - loss: 0.2608 - acc: 0.9350 - val_loss: 0.2080 - val_acc: 0.9444\n",
      "Epoch 35/300\n",
      "0s - loss: 0.2589 - acc: 0.9360 - val_loss: 0.2078 - val_acc: 0.9453\n",
      "Epoch 36/300\n",
      "0s - loss: 0.2605 - acc: 0.9353 - val_loss: 0.2055 - val_acc: 0.9472\n",
      "Epoch 37/300\n",
      "0s - loss: 0.2589 - acc: 0.9361 - val_loss: 0.2048 - val_acc: 0.9469\n",
      "Epoch 38/300\n",
      "0s - loss: 0.2516 - acc: 0.9363 - val_loss: 0.2033 - val_acc: 0.9475\n",
      "Epoch 39/300\n",
      "0s - loss: 0.2543 - acc: 0.9358 - val_loss: 0.1984 - val_acc: 0.9494\n",
      "Epoch 40/300\n",
      "0s - loss: 0.2475 - acc: 0.9368 - val_loss: 0.1966 - val_acc: 0.9499\n",
      "Epoch 41/300\n",
      "0s - loss: 0.2449 - acc: 0.9389 - val_loss: 0.1949 - val_acc: 0.9505\n",
      "Epoch 42/300\n",
      "0s - loss: 0.2407 - acc: 0.9378 - val_loss: 0.1904 - val_acc: 0.9516\n",
      "Epoch 43/300\n",
      "0s - loss: 0.2421 - acc: 0.9382 - val_loss: 0.1924 - val_acc: 0.9513\n",
      "Epoch 44/300\n",
      "0s - loss: 0.2456 - acc: 0.9390 - val_loss: 0.1880 - val_acc: 0.9527\n",
      "Epoch 45/300\n",
      "0s - loss: 0.2383 - acc: 0.9383 - val_loss: 0.1877 - val_acc: 0.9527\n",
      "Epoch 46/300\n",
      "0s - loss: 0.2399 - acc: 0.9375 - val_loss: 0.1861 - val_acc: 0.9532\n",
      "Epoch 47/300\n",
      "0s - loss: 0.2320 - acc: 0.9408 - val_loss: 0.1811 - val_acc: 0.9551\n",
      "Epoch 48/300\n",
      "0s - loss: 0.2353 - acc: 0.9401 - val_loss: 0.1792 - val_acc: 0.9554\n",
      "Epoch 49/300\n",
      "0s - loss: 0.2324 - acc: 0.9402 - val_loss: 0.1806 - val_acc: 0.9557\n",
      "Epoch 50/300\n",
      "0s - loss: 0.2272 - acc: 0.9410 - val_loss: 0.1778 - val_acc: 0.9565\n",
      "Epoch 51/300\n",
      "0s - loss: 0.2255 - acc: 0.9430 - val_loss: 0.1749 - val_acc: 0.9573\n",
      "Epoch 52/300\n",
      "0s - loss: 0.2260 - acc: 0.9426 - val_loss: 0.1773 - val_acc: 0.9559\n",
      "Epoch 53/300\n",
      "0s - loss: 0.2264 - acc: 0.9429 - val_loss: 0.1786 - val_acc: 0.9559\n",
      "Epoch 54/300\n",
      "0s - loss: 0.2247 - acc: 0.9419 - val_loss: 0.1789 - val_acc: 0.9562\n",
      "Epoch 55/300\n",
      "0s - loss: 0.2205 - acc: 0.9436 - val_loss: 0.1763 - val_acc: 0.9568\n",
      "Epoch 56/300\n",
      "0s - loss: 0.2166 - acc: 0.9441 - val_loss: 0.1752 - val_acc: 0.9573\n",
      "Epoch 57/300\n",
      "0s - loss: 0.2251 - acc: 0.9423 - val_loss: 0.1763 - val_acc: 0.9573\n",
      "Epoch 58/300\n",
      "0s - loss: 0.2205 - acc: 0.9445 - val_loss: 0.1739 - val_acc: 0.9573\n",
      "Epoch 59/300\n",
      "0s - loss: 0.2151 - acc: 0.9438 - val_loss: 0.1731 - val_acc: 0.9576\n",
      "Epoch 60/300\n",
      "0s - loss: 0.2212 - acc: 0.9441 - val_loss: 0.1692 - val_acc: 0.9581\n",
      "Epoch 61/300\n",
      "0s - loss: 0.2163 - acc: 0.9441 - val_loss: 0.1697 - val_acc: 0.9579\n",
      "Epoch 62/300\n",
      "0s - loss: 0.2138 - acc: 0.9445 - val_loss: 0.1676 - val_acc: 0.9592\n",
      "Epoch 63/300\n",
      "0s - loss: 0.2159 - acc: 0.9452 - val_loss: 0.1681 - val_acc: 0.9579\n",
      "Epoch 64/300\n",
      "0s - loss: 0.2136 - acc: 0.9449 - val_loss: 0.1692 - val_acc: 0.9581\n",
      "Epoch 65/300\n",
      "0s - loss: 0.2056 - acc: 0.9483 - val_loss: 0.1678 - val_acc: 0.9581\n",
      "Epoch 66/300\n",
      "0s - loss: 0.2126 - acc: 0.9449 - val_loss: 0.1680 - val_acc: 0.9587\n",
      "Epoch 67/300\n",
      "0s - loss: 0.2077 - acc: 0.9458 - val_loss: 0.1698 - val_acc: 0.9576\n",
      "Epoch 68/300\n",
      "0s - loss: 0.2092 - acc: 0.9469 - val_loss: 0.1673 - val_acc: 0.9581\n",
      "Epoch 69/300\n",
      "0s - loss: 0.2032 - acc: 0.9490 - val_loss: 0.1685 - val_acc: 0.9589\n",
      "Epoch 70/300\n",
      "0s - loss: 0.2088 - acc: 0.9466 - val_loss: 0.1688 - val_acc: 0.9589\n",
      "Epoch 71/300\n",
      "0s - loss: 0.2022 - acc: 0.9483 - val_loss: 0.1691 - val_acc: 0.9595\n",
      "Epoch 72/300\n",
      "0s - loss: 0.2109 - acc: 0.9468 - val_loss: 0.1695 - val_acc: 0.9595\n",
      "Epoch 73/300\n",
      "0s - loss: 0.2060 - acc: 0.9485 - val_loss: 0.1690 - val_acc: 0.9595\n",
      "Epoch 74/300\n",
      "0s - loss: 0.1973 - acc: 0.9493 - val_loss: 0.1684 - val_acc: 0.9600\n",
      "Epoch 75/300\n",
      "0s - loss: 0.2107 - acc: 0.9479 - val_loss: 0.1705 - val_acc: 0.9600\n",
      "Epoch 76/300\n",
      "0s - loss: 0.2048 - acc: 0.9482 - val_loss: 0.1726 - val_acc: 0.9598\n",
      "Epoch 77/300\n",
      "0s - loss: 0.2049 - acc: 0.9492 - val_loss: 0.1717 - val_acc: 0.9603\n",
      "Epoch 78/300\n",
      "0s - loss: 0.2099 - acc: 0.9469 - val_loss: 0.1676 - val_acc: 0.9603\n",
      "Epoch 79/300\n",
      "0s - loss: 0.2006 - acc: 0.9490 - val_loss: 0.1690 - val_acc: 0.9606\n",
      "Epoch 80/300\n",
      "0s - loss: 0.2105 - acc: 0.9478 - val_loss: 0.1682 - val_acc: 0.9647\n",
      "Epoch 81/300\n",
      "0s - loss: 0.1969 - acc: 0.9499 - val_loss: 0.1681 - val_acc: 0.9644\n",
      "Epoch 82/300\n",
      "0s - loss: 0.2055 - acc: 0.9484 - val_loss: 0.1674 - val_acc: 0.9647\n",
      "Epoch 83/300\n",
      "0s - loss: 0.2007 - acc: 0.9497 - val_loss: 0.1672 - val_acc: 0.9644\n",
      "Epoch 84/300\n",
      "0s - loss: 0.2068 - acc: 0.9491 - val_loss: 0.1696 - val_acc: 0.9644\n",
      "Epoch 85/300\n",
      "0s - loss: 0.2012 - acc: 0.9489 - val_loss: 0.1700 - val_acc: 0.9641\n",
      "Epoch 86/300\n",
      "0s - loss: 0.2057 - acc: 0.9487 - val_loss: 0.1670 - val_acc: 0.9650\n",
      "Epoch 87/300\n",
      "0s - loss: 0.2013 - acc: 0.9500 - val_loss: 0.1651 - val_acc: 0.9641\n",
      "Epoch 88/300\n",
      "0s - loss: 0.1971 - acc: 0.9519 - val_loss: 0.1657 - val_acc: 0.9644\n",
      "Epoch 89/300\n",
      "0s - loss: 0.1970 - acc: 0.9506 - val_loss: 0.1650 - val_acc: 0.9647\n",
      "Epoch 90/300\n",
      "0s - loss: 0.1962 - acc: 0.9518 - val_loss: 0.1677 - val_acc: 0.9644\n",
      "Epoch 91/300\n",
      "0s - loss: 0.2013 - acc: 0.9509 - val_loss: 0.1681 - val_acc: 0.9647\n",
      "Epoch 92/300\n",
      "0s - loss: 0.1918 - acc: 0.9524 - val_loss: 0.1709 - val_acc: 0.9644\n",
      "Epoch 93/300\n",
      "0s - loss: 0.2035 - acc: 0.9497 - val_loss: 0.1713 - val_acc: 0.9650\n",
      "Epoch 94/300\n",
      "0s - loss: 0.1989 - acc: 0.9504 - val_loss: 0.1707 - val_acc: 0.9644\n",
      "Epoch 95/300\n",
      "0s - loss: 0.2023 - acc: 0.9504 - val_loss: 0.1683 - val_acc: 0.9647\n",
      "Epoch 96/300\n",
      "0s - loss: 0.2007 - acc: 0.9502 - val_loss: 0.1723 - val_acc: 0.9647\n",
      "Epoch 97/300\n",
      "0s - loss: 0.2031 - acc: 0.9510 - val_loss: 0.1712 - val_acc: 0.9650\n",
      "Epoch 98/300\n",
      "0s - loss: 0.2050 - acc: 0.9507 - val_loss: 0.1697 - val_acc: 0.9647\n",
      "Epoch 99/300\n",
      "0s - loss: 0.1978 - acc: 0.9503 - val_loss: 0.1672 - val_acc: 0.9652\n",
      "Epoch 100/300\n",
      "0s - loss: 0.1953 - acc: 0.9509 - val_loss: 0.1758 - val_acc: 0.9647\n",
      "Epoch 101/300\n",
      "0s - loss: 0.1983 - acc: 0.9506 - val_loss: 0.1692 - val_acc: 0.9650\n",
      "Epoch 102/300\n",
      "0s - loss: 0.1940 - acc: 0.9529 - val_loss: 0.1682 - val_acc: 0.9644\n",
      "Epoch 103/300\n",
      "0s - loss: 0.1952 - acc: 0.9523 - val_loss: 0.1737 - val_acc: 0.9641\n",
      "Epoch 104/300\n",
      "0s - loss: 0.1963 - acc: 0.9518 - val_loss: 0.1729 - val_acc: 0.9647\n",
      "Epoch 105/300\n",
      "0s - loss: 0.2008 - acc: 0.9503 - val_loss: 0.1690 - val_acc: 0.9641\n",
      "Epoch 106/300\n",
      "0s - loss: 0.2012 - acc: 0.9505 - val_loss: 0.1716 - val_acc: 0.9644\n",
      "Epoch 107/300\n",
      "0s - loss: 0.2012 - acc: 0.9507 - val_loss: 0.1663 - val_acc: 0.9644\n",
      "Epoch 108/300\n",
      "0s - loss: 0.1964 - acc: 0.9505 - val_loss: 0.1642 - val_acc: 0.9655\n",
      "Epoch 109/300\n",
      "0s - loss: 0.2064 - acc: 0.9485 - val_loss: 0.1662 - val_acc: 0.9647\n",
      "Epoch 110/300\n",
      "0s - loss: 0.1914 - acc: 0.9525 - val_loss: 0.1680 - val_acc: 0.9650\n",
      "Epoch 111/300\n",
      "0s - loss: 0.1904 - acc: 0.9517 - val_loss: 0.1669 - val_acc: 0.9644\n",
      "Epoch 112/300\n",
      "0s - loss: 0.1982 - acc: 0.9507 - val_loss: 0.1662 - val_acc: 0.9650\n",
      "Epoch 113/300\n",
      "0s - loss: 0.1968 - acc: 0.9524 - val_loss: 0.1684 - val_acc: 0.9644\n",
      "Epoch 114/300\n",
      "0s - loss: 0.1914 - acc: 0.9516 - val_loss: 0.1664 - val_acc: 0.9652\n",
      "Epoch 115/300\n",
      "0s - loss: 0.1940 - acc: 0.9517 - val_loss: 0.1682 - val_acc: 0.9644\n",
      "Epoch 116/300\n",
      "0s - loss: 0.1969 - acc: 0.9507 - val_loss: 0.1748 - val_acc: 0.9644\n",
      "Epoch 117/300\n",
      "0s - loss: 0.1925 - acc: 0.9539 - val_loss: 0.1778 - val_acc: 0.9641\n",
      "Epoch 118/300\n",
      "0s - loss: 0.1957 - acc: 0.9529 - val_loss: 0.1655 - val_acc: 0.9647\n",
      "Epoch 119/300\n",
      "0s - loss: 0.1877 - acc: 0.9531 - val_loss: 0.1659 - val_acc: 0.9650\n",
      "Epoch 120/300\n",
      "0s - loss: 0.1944 - acc: 0.9521 - val_loss: 0.1660 - val_acc: 0.9647\n",
      "Epoch 121/300\n",
      "0s - loss: 0.1930 - acc: 0.9527 - val_loss: 0.1691 - val_acc: 0.9650\n",
      "Epoch 122/300\n",
      "0s - loss: 0.1884 - acc: 0.9541 - val_loss: 0.1742 - val_acc: 0.9644\n",
      "Epoch 123/300\n",
      "0s - loss: 0.2024 - acc: 0.9516 - val_loss: 0.1689 - val_acc: 0.9647\n",
      "Epoch 124/300\n",
      "0s - loss: 0.1953 - acc: 0.9529 - val_loss: 0.1721 - val_acc: 0.9647\n",
      "Epoch 125/300\n",
      "0s - loss: 0.1993 - acc: 0.9524 - val_loss: 0.1694 - val_acc: 0.9647\n",
      "Epoch 126/300\n",
      "0s - loss: 0.1960 - acc: 0.9527 - val_loss: 0.1744 - val_acc: 0.9650\n",
      "Epoch 127/300\n",
      "0s - loss: 0.1936 - acc: 0.9536 - val_loss: 0.1720 - val_acc: 0.9650\n",
      "Epoch 128/300\n",
      "0s - loss: 0.1881 - acc: 0.9541 - val_loss: 0.1642 - val_acc: 0.9655\n",
      "Epoch 129/300\n",
      "0s - loss: 0.1883 - acc: 0.9537 - val_loss: 0.1649 - val_acc: 0.9652\n",
      "Epoch 130/300\n",
      "0s - loss: 0.1844 - acc: 0.9537 - val_loss: 0.1633 - val_acc: 0.9652\n",
      "Epoch 131/300\n",
      "0s - loss: 0.1956 - acc: 0.9511 - val_loss: 0.1698 - val_acc: 0.9647\n",
      "Epoch 132/300\n",
      "0s - loss: 0.1948 - acc: 0.9532 - val_loss: 0.1702 - val_acc: 0.9661\n",
      "Epoch 133/300\n",
      "0s - loss: 0.2012 - acc: 0.9516 - val_loss: 0.1671 - val_acc: 0.9650\n",
      "Epoch 134/300\n",
      "0s - loss: 0.1925 - acc: 0.9527 - val_loss: 0.1647 - val_acc: 0.9655\n",
      "Epoch 135/300\n",
      "0s - loss: 0.1848 - acc: 0.9548 - val_loss: 0.1667 - val_acc: 0.9652\n",
      "Epoch 136/300\n",
      "0s - loss: 0.1882 - acc: 0.9539 - val_loss: 0.1685 - val_acc: 0.9650\n",
      "Epoch 137/300\n",
      "0s - loss: 0.1957 - acc: 0.9530 - val_loss: 0.1650 - val_acc: 0.9652\n",
      "Epoch 138/300\n",
      "0s - loss: 0.1888 - acc: 0.9537 - val_loss: 0.1720 - val_acc: 0.9652\n",
      "Epoch 139/300\n",
      "0s - loss: 0.1931 - acc: 0.9523 - val_loss: 0.1726 - val_acc: 0.9652\n",
      "Epoch 140/300\n",
      "0s - loss: 0.1939 - acc: 0.9514 - val_loss: 0.1657 - val_acc: 0.9647\n",
      "Epoch 141/300\n",
      "0s - loss: 0.1871 - acc: 0.9544 - val_loss: 0.1621 - val_acc: 0.9655\n",
      "Epoch 142/300\n",
      "0s - loss: 0.1929 - acc: 0.9520 - val_loss: 0.1677 - val_acc: 0.9652\n",
      "Epoch 143/300\n",
      "0s - loss: 0.1918 - acc: 0.9525 - val_loss: 0.1653 - val_acc: 0.9647\n",
      "Epoch 144/300\n",
      "0s - loss: 0.1901 - acc: 0.9529 - val_loss: 0.1659 - val_acc: 0.9644\n",
      "Epoch 145/300\n",
      "0s - loss: 0.1936 - acc: 0.9521 - val_loss: 0.1680 - val_acc: 0.9650\n",
      "Epoch 146/300\n",
      "0s - loss: 0.1930 - acc: 0.9529 - val_loss: 0.1705 - val_acc: 0.9652\n",
      "Epoch 147/300\n",
      "0s - loss: 0.1897 - acc: 0.9534 - val_loss: 0.1640 - val_acc: 0.9647\n",
      "Epoch 148/300\n",
      "0s - loss: 0.1822 - acc: 0.9560 - val_loss: 0.1661 - val_acc: 0.9658\n",
      "Epoch 149/300\n",
      "0s - loss: 0.1888 - acc: 0.9541 - val_loss: 0.1664 - val_acc: 0.9650\n",
      "Epoch 150/300\n",
      "0s - loss: 0.1872 - acc: 0.9540 - val_loss: 0.1671 - val_acc: 0.9658\n",
      "Epoch 151/300\n",
      "0s - loss: 0.1896 - acc: 0.9533 - val_loss: 0.1677 - val_acc: 0.9655\n",
      "Epoch 152/300\n",
      "0s - loss: 0.1921 - acc: 0.9541 - val_loss: 0.1703 - val_acc: 0.9655\n",
      "Epoch 153/300\n",
      "0s - loss: 0.1882 - acc: 0.9534 - val_loss: 0.1715 - val_acc: 0.9650\n",
      "Epoch 154/300\n",
      "0s - loss: 0.1851 - acc: 0.9539 - val_loss: 0.1684 - val_acc: 0.9666\n",
      "Epoch 155/300\n",
      "0s - loss: 0.1835 - acc: 0.9554 - val_loss: 0.1712 - val_acc: 0.9652\n",
      "Epoch 156/300\n",
      "0s - loss: 0.1843 - acc: 0.9546 - val_loss: 0.1715 - val_acc: 0.9655\n",
      "Epoch 157/300\n",
      "0s - loss: 0.1857 - acc: 0.9543 - val_loss: 0.1714 - val_acc: 0.9652\n",
      "Epoch 158/300\n",
      "0s - loss: 0.1901 - acc: 0.9527 - val_loss: 0.1679 - val_acc: 0.9647\n",
      "Epoch 159/300\n",
      "0s - loss: 0.1894 - acc: 0.9534 - val_loss: 0.1688 - val_acc: 0.9658\n",
      "Epoch 160/300\n",
      "0s - loss: 0.1912 - acc: 0.9534 - val_loss: 0.1698 - val_acc: 0.9661\n",
      "Epoch 161/300\n",
      "0s - loss: 0.1833 - acc: 0.9557 - val_loss: 0.1776 - val_acc: 0.9663\n",
      "Epoch 162/300\n",
      "0s - loss: 0.1891 - acc: 0.9541 - val_loss: 0.1784 - val_acc: 0.9661\n",
      "Epoch 163/300\n",
      "0s - loss: 0.1990 - acc: 0.9529 - val_loss: 0.1816 - val_acc: 0.9652\n",
      "Epoch 164/300\n",
      "0s - loss: 0.1947 - acc: 0.9531 - val_loss: 0.1706 - val_acc: 0.9652\n",
      "Epoch 165/300\n",
      "0s - loss: 0.1895 - acc: 0.9531 - val_loss: 0.1686 - val_acc: 0.9647\n",
      "Epoch 166/300\n",
      "0s - loss: 0.1888 - acc: 0.9534 - val_loss: 0.1700 - val_acc: 0.9652\n",
      "Epoch 167/300\n",
      "0s - loss: 0.1832 - acc: 0.9553 - val_loss: 0.1669 - val_acc: 0.9652\n",
      "Epoch 168/300\n",
      "0s - loss: 0.1851 - acc: 0.9555 - val_loss: 0.1702 - val_acc: 0.9655\n",
      "Epoch 169/300\n",
      "0s - loss: 0.1854 - acc: 0.9557 - val_loss: 0.1768 - val_acc: 0.9652\n",
      "Epoch 170/300\n",
      "0s - loss: 0.1951 - acc: 0.9532 - val_loss: 0.1747 - val_acc: 0.9650\n",
      "Epoch 171/300\n",
      "0s - loss: 0.1932 - acc: 0.9541 - val_loss: 0.1773 - val_acc: 0.9655\n",
      "Epoch 172/300\n",
      "0s - loss: 0.1874 - acc: 0.9551 - val_loss: 0.1729 - val_acc: 0.9663\n",
      "Epoch 173/300\n",
      "0s - loss: 0.1878 - acc: 0.9537 - val_loss: 0.1677 - val_acc: 0.9655\n",
      "Epoch 174/300\n",
      "0s - loss: 0.1888 - acc: 0.9550 - val_loss: 0.1671 - val_acc: 0.9666\n",
      "Epoch 175/300\n",
      "0s - loss: 0.1825 - acc: 0.9557 - val_loss: 0.1670 - val_acc: 0.9661\n",
      "Epoch 176/300\n",
      "0s - loss: 0.1787 - acc: 0.9565 - val_loss: 0.1624 - val_acc: 0.9669\n",
      "Epoch 177/300\n",
      "0s - loss: 0.1867 - acc: 0.9548 - val_loss: 0.1623 - val_acc: 0.9666\n",
      "Epoch 178/300\n",
      "0s - loss: 0.1872 - acc: 0.9548 - val_loss: 0.1761 - val_acc: 0.9661\n",
      "Epoch 179/300\n",
      "0s - loss: 0.1871 - acc: 0.9554 - val_loss: 0.1735 - val_acc: 0.9655\n",
      "Epoch 180/300\n",
      "0s - loss: 0.1825 - acc: 0.9557 - val_loss: 0.1702 - val_acc: 0.9661\n",
      "Epoch 181/300\n",
      "0s - loss: 0.1837 - acc: 0.9545 - val_loss: 0.1675 - val_acc: 0.9658\n",
      "Epoch 182/300\n",
      "0s - loss: 0.1888 - acc: 0.9546 - val_loss: 0.1680 - val_acc: 0.9658\n",
      "Epoch 183/300\n",
      "0s - loss: 0.1857 - acc: 0.9545 - val_loss: 0.1720 - val_acc: 0.9663\n",
      "Epoch 184/300\n",
      "0s - loss: 0.1802 - acc: 0.9561 - val_loss: 0.1682 - val_acc: 0.9661\n",
      "Epoch 185/300\n",
      "0s - loss: 0.1868 - acc: 0.9553 - val_loss: 0.1715 - val_acc: 0.9663\n",
      "Epoch 186/300\n",
      "0s - loss: 0.1881 - acc: 0.9553 - val_loss: 0.1692 - val_acc: 0.9658\n",
      "Epoch 187/300\n",
      "0s - loss: 0.1923 - acc: 0.9544 - val_loss: 0.1764 - val_acc: 0.9666\n",
      "Epoch 188/300\n",
      "0s - loss: 0.1886 - acc: 0.9552 - val_loss: 0.1784 - val_acc: 0.9655\n",
      "Epoch 189/300\n",
      "0s - loss: 0.1875 - acc: 0.9551 - val_loss: 0.1765 - val_acc: 0.9666\n",
      "Epoch 190/300\n",
      "0s - loss: 0.1898 - acc: 0.9541 - val_loss: 0.1755 - val_acc: 0.9663\n",
      "Epoch 191/300\n",
      "0s - loss: 0.1828 - acc: 0.9548 - val_loss: 0.1701 - val_acc: 0.9658\n",
      "Epoch 192/300\n",
      "0s - loss: 0.1855 - acc: 0.9552 - val_loss: 0.1755 - val_acc: 0.9655\n",
      "Epoch 193/300\n",
      "0s - loss: 0.1951 - acc: 0.9544 - val_loss: 0.1714 - val_acc: 0.9658\n",
      "Epoch 194/300\n",
      "0s - loss: 0.1878 - acc: 0.9545 - val_loss: 0.1695 - val_acc: 0.9655\n",
      "Epoch 195/300\n",
      "0s - loss: 0.1805 - acc: 0.9553 - val_loss: 0.1742 - val_acc: 0.9655\n",
      "Epoch 196/300\n",
      "0s - loss: 0.1925 - acc: 0.9538 - val_loss: 0.1642 - val_acc: 0.9661\n",
      "Epoch 197/300\n",
      "0s - loss: 0.1852 - acc: 0.9550 - val_loss: 0.1641 - val_acc: 0.9661\n",
      "Epoch 198/300\n",
      "0s - loss: 0.1841 - acc: 0.9546 - val_loss: 0.1667 - val_acc: 0.9658\n",
      "Epoch 199/300\n",
      "0s - loss: 0.1811 - acc: 0.9552 - val_loss: 0.1727 - val_acc: 0.9655\n",
      "Epoch 200/300\n",
      "0s - loss: 0.1861 - acc: 0.9551 - val_loss: 0.1753 - val_acc: 0.9658\n",
      "Epoch 201/300\n",
      "0s - loss: 0.1813 - acc: 0.9566 - val_loss: 0.1753 - val_acc: 0.9661\n",
      "Epoch 202/300\n",
      "0s - loss: 0.1840 - acc: 0.9555 - val_loss: 0.1766 - val_acc: 0.9655\n",
      "Epoch 203/300\n",
      "0s - loss: 0.1829 - acc: 0.9557 - val_loss: 0.1789 - val_acc: 0.9658\n",
      "Epoch 204/300\n",
      "0s - loss: 0.1899 - acc: 0.9552 - val_loss: 0.1724 - val_acc: 0.9658\n",
      "Epoch 205/300\n",
      "0s - loss: 0.1899 - acc: 0.9550 - val_loss: 0.1734 - val_acc: 0.9655\n",
      "Epoch 206/300\n",
      "0s - loss: 0.1799 - acc: 0.9561 - val_loss: 0.1693 - val_acc: 0.9666\n",
      "Epoch 207/300\n",
      "0s - loss: 0.1812 - acc: 0.9563 - val_loss: 0.1734 - val_acc: 0.9663\n",
      "Epoch 208/300\n",
      "0s - loss: 0.1863 - acc: 0.9552 - val_loss: 0.1697 - val_acc: 0.9661\n",
      "Epoch 209/300\n",
      "0s - loss: 0.1824 - acc: 0.9552 - val_loss: 0.1686 - val_acc: 0.9669\n",
      "Epoch 210/300\n",
      "0s - loss: 0.1821 - acc: 0.9553 - val_loss: 0.1726 - val_acc: 0.9658\n",
      "Epoch 211/300\n",
      "0s - loss: 0.1833 - acc: 0.9547 - val_loss: 0.1699 - val_acc: 0.9655\n",
      "Epoch 212/300\n",
      "0s - loss: 0.1815 - acc: 0.9557 - val_loss: 0.1716 - val_acc: 0.9658\n",
      "Epoch 213/300\n",
      "0s - loss: 0.1824 - acc: 0.9551 - val_loss: 0.1687 - val_acc: 0.9661\n",
      "Epoch 214/300\n",
      "0s - loss: 0.1845 - acc: 0.9552 - val_loss: 0.1695 - val_acc: 0.9663\n",
      "Epoch 215/300\n",
      "0s - loss: 0.1877 - acc: 0.9539 - val_loss: 0.1708 - val_acc: 0.9663\n",
      "Epoch 216/300\n",
      "0s - loss: 0.1854 - acc: 0.9557 - val_loss: 0.1703 - val_acc: 0.9663\n",
      "Epoch 217/300\n",
      "0s - loss: 0.1867 - acc: 0.9540 - val_loss: 0.1705 - val_acc: 0.9655\n",
      "Epoch 218/300\n",
      "0s - loss: 0.1832 - acc: 0.9550 - val_loss: 0.1704 - val_acc: 0.9655\n",
      "Epoch 219/300\n",
      "0s - loss: 0.1831 - acc: 0.9558 - val_loss: 0.1666 - val_acc: 0.9655\n",
      "Epoch 220/300\n",
      "0s - loss: 0.1843 - acc: 0.9555 - val_loss: 0.1647 - val_acc: 0.9658\n",
      "Epoch 221/300\n",
      "0s - loss: 0.1816 - acc: 0.9555 - val_loss: 0.1678 - val_acc: 0.9663\n",
      "Epoch 222/300\n",
      "0s - loss: 0.1825 - acc: 0.9558 - val_loss: 0.1696 - val_acc: 0.9666\n",
      "Epoch 223/300\n",
      "0s - loss: 0.1794 - acc: 0.9566 - val_loss: 0.1696 - val_acc: 0.9666\n",
      "Epoch 224/300\n",
      "0s - loss: 0.1811 - acc: 0.9559 - val_loss: 0.1694 - val_acc: 0.9669\n",
      "Epoch 225/300\n",
      "0s - loss: 0.1805 - acc: 0.9571 - val_loss: 0.1672 - val_acc: 0.9661\n",
      "Epoch 226/300\n",
      "0s - loss: 0.1777 - acc: 0.9573 - val_loss: 0.1656 - val_acc: 0.9663\n",
      "Epoch 227/300\n",
      "0s - loss: 0.1857 - acc: 0.9559 - val_loss: 0.1662 - val_acc: 0.9672\n",
      "Epoch 228/300\n",
      "0s - loss: 0.1848 - acc: 0.9555 - val_loss: 0.1652 - val_acc: 0.9669\n",
      "Epoch 229/300\n",
      "0s - loss: 0.1770 - acc: 0.9570 - val_loss: 0.1640 - val_acc: 0.9663\n",
      "Epoch 230/300\n",
      "0s - loss: 0.1819 - acc: 0.9565 - val_loss: 0.1666 - val_acc: 0.9661\n",
      "Epoch 231/300\n",
      "0s - loss: 0.1834 - acc: 0.9545 - val_loss: 0.1622 - val_acc: 0.9663\n",
      "Epoch 232/300\n",
      "0s - loss: 0.1795 - acc: 0.9571 - val_loss: 0.1646 - val_acc: 0.9663\n",
      "Epoch 233/300\n",
      "0s - loss: 0.1803 - acc: 0.9564 - val_loss: 0.1766 - val_acc: 0.9661\n",
      "Epoch 234/300\n",
      "0s - loss: 0.1799 - acc: 0.9563 - val_loss: 0.1733 - val_acc: 0.9666\n",
      "Epoch 235/300\n",
      "0s - loss: 0.1867 - acc: 0.9558 - val_loss: 0.1657 - val_acc: 0.9661\n",
      "Epoch 236/300\n",
      "0s - loss: 0.1813 - acc: 0.9559 - val_loss: 0.1638 - val_acc: 0.9661\n",
      "Epoch 237/300\n",
      "0s - loss: 0.1823 - acc: 0.9564 - val_loss: 0.1634 - val_acc: 0.9666\n",
      "Epoch 238/300\n",
      "0s - loss: 0.1819 - acc: 0.9559 - val_loss: 0.1664 - val_acc: 0.9658\n",
      "Epoch 239/300\n",
      "0s - loss: 0.1914 - acc: 0.9563 - val_loss: 0.1638 - val_acc: 0.9669\n",
      "Epoch 240/300\n",
      "0s - loss: 0.1828 - acc: 0.9552 - val_loss: 0.1678 - val_acc: 0.9658\n",
      "Epoch 241/300\n",
      "0s - loss: 0.1836 - acc: 0.9558 - val_loss: 0.1735 - val_acc: 0.9658\n",
      "Epoch 242/300\n",
      "0s - loss: 0.1899 - acc: 0.9551 - val_loss: 0.1679 - val_acc: 0.9658\n",
      "Epoch 243/300\n",
      "0s - loss: 0.1822 - acc: 0.9564 - val_loss: 0.1634 - val_acc: 0.9658\n",
      "Epoch 244/300\n",
      "0s - loss: 0.1822 - acc: 0.9567 - val_loss: 0.1651 - val_acc: 0.9661\n",
      "Epoch 245/300\n",
      "0s - loss: 0.1836 - acc: 0.9560 - val_loss: 0.1651 - val_acc: 0.9661\n",
      "Epoch 246/300\n",
      "0s - loss: 0.1857 - acc: 0.9552 - val_loss: 0.1650 - val_acc: 0.9666\n",
      "Epoch 247/300\n",
      "0s - loss: 0.1804 - acc: 0.9561 - val_loss: 0.1692 - val_acc: 0.9658\n",
      "Epoch 248/300\n",
      "0s - loss: 0.1835 - acc: 0.9561 - val_loss: 0.1716 - val_acc: 0.9658\n",
      "Epoch 249/300\n",
      "0s - loss: 0.1867 - acc: 0.9548 - val_loss: 0.1693 - val_acc: 0.9655\n",
      "Epoch 250/300\n",
      "0s - loss: 0.1815 - acc: 0.9563 - val_loss: 0.1718 - val_acc: 0.9655\n",
      "Epoch 251/300\n",
      "0s - loss: 0.1888 - acc: 0.9553 - val_loss: 0.1722 - val_acc: 0.9655\n",
      "Epoch 252/300\n",
      "0s - loss: 0.1845 - acc: 0.9565 - val_loss: 0.1731 - val_acc: 0.9658\n",
      "Epoch 253/300\n",
      "0s - loss: 0.1785 - acc: 0.9573 - val_loss: 0.1664 - val_acc: 0.9666\n",
      "Epoch 254/300\n",
      "0s - loss: 0.1797 - acc: 0.9565 - val_loss: 0.1668 - val_acc: 0.9666\n",
      "Epoch 255/300\n",
      "0s - loss: 0.1866 - acc: 0.9552 - val_loss: 0.1667 - val_acc: 0.9666\n",
      "Epoch 256/300\n",
      "0s - loss: 0.1803 - acc: 0.9570 - val_loss: 0.1660 - val_acc: 0.9666\n",
      "Epoch 257/300\n",
      "0s - loss: 0.1838 - acc: 0.9546 - val_loss: 0.1676 - val_acc: 0.9669\n",
      "Epoch 258/300\n",
      "0s - loss: 0.1803 - acc: 0.9565 - val_loss: 0.1676 - val_acc: 0.9672\n",
      "Epoch 259/300\n",
      "0s - loss: 0.1837 - acc: 0.9559 - val_loss: 0.1672 - val_acc: 0.9672\n",
      "Epoch 260/300\n",
      "0s - loss: 0.1847 - acc: 0.9567 - val_loss: 0.1679 - val_acc: 0.9674\n",
      "Epoch 261/300\n",
      "0s - loss: 0.1806 - acc: 0.9560 - val_loss: 0.1708 - val_acc: 0.9658\n",
      "Epoch 262/300\n",
      "0s - loss: 0.1839 - acc: 0.9550 - val_loss: 0.1659 - val_acc: 0.9663\n",
      "Epoch 263/300\n",
      "0s - loss: 0.1775 - acc: 0.9571 - val_loss: 0.1684 - val_acc: 0.9661\n",
      "Epoch 264/300\n",
      "0s - loss: 0.1831 - acc: 0.9567 - val_loss: 0.1716 - val_acc: 0.9666\n",
      "Epoch 265/300\n",
      "0s - loss: 0.1784 - acc: 0.9572 - val_loss: 0.1714 - val_acc: 0.9663\n",
      "Epoch 266/300\n",
      "0s - loss: 0.1739 - acc: 0.9582 - val_loss: 0.1693 - val_acc: 0.9663\n",
      "Epoch 267/300\n",
      "0s - loss: 0.1816 - acc: 0.9561 - val_loss: 0.1698 - val_acc: 0.9669\n",
      "Epoch 268/300\n",
      "0s - loss: 0.1833 - acc: 0.9559 - val_loss: 0.1672 - val_acc: 0.9666\n",
      "Epoch 269/300\n",
      "0s - loss: 0.1811 - acc: 0.9559 - val_loss: 0.1675 - val_acc: 0.9666\n",
      "Epoch 270/300\n",
      "0s - loss: 0.1858 - acc: 0.9547 - val_loss: 0.1675 - val_acc: 0.9666\n",
      "Epoch 271/300\n",
      "0s - loss: 0.1768 - acc: 0.9572 - val_loss: 0.1660 - val_acc: 0.9666\n",
      "Epoch 272/300\n",
      "0s - loss: 0.1772 - acc: 0.9567 - val_loss: 0.1649 - val_acc: 0.9661\n",
      "Epoch 273/300\n",
      "0s - loss: 0.1781 - acc: 0.9573 - val_loss: 0.1672 - val_acc: 0.9658\n",
      "Epoch 274/300\n",
      "0s - loss: 0.1832 - acc: 0.9560 - val_loss: 0.1684 - val_acc: 0.9658\n",
      "Epoch 275/300\n",
      "0s - loss: 0.1837 - acc: 0.9570 - val_loss: 0.1621 - val_acc: 0.9663\n",
      "Epoch 276/300\n",
      "0s - loss: 0.1822 - acc: 0.9561 - val_loss: 0.1629 - val_acc: 0.9663\n",
      "Epoch 277/300\n",
      "0s - loss: 0.1830 - acc: 0.9559 - val_loss: 0.1712 - val_acc: 0.9666\n",
      "Epoch 278/300\n",
      "0s - loss: 0.1825 - acc: 0.9568 - val_loss: 0.1715 - val_acc: 0.9666\n",
      "Epoch 279/300\n",
      "0s - loss: 0.1831 - acc: 0.9565 - val_loss: 0.1668 - val_acc: 0.9669\n",
      "Epoch 280/300\n",
      "0s - loss: 0.1824 - acc: 0.9563 - val_loss: 0.1687 - val_acc: 0.9669\n",
      "Epoch 281/300\n",
      "0s - loss: 0.1790 - acc: 0.9564 - val_loss: 0.1697 - val_acc: 0.9669\n",
      "Epoch 282/300\n",
      "0s - loss: 0.1833 - acc: 0.9564 - val_loss: 0.1671 - val_acc: 0.9663\n",
      "Epoch 283/300\n",
      "0s - loss: 0.1769 - acc: 0.9578 - val_loss: 0.1656 - val_acc: 0.9669\n",
      "Epoch 284/300\n",
      "0s - loss: 0.1808 - acc: 0.9557 - val_loss: 0.1696 - val_acc: 0.9669\n",
      "Epoch 285/300\n",
      "0s - loss: 0.1765 - acc: 0.9570 - val_loss: 0.1671 - val_acc: 0.9663\n",
      "Epoch 286/300\n",
      "0s - loss: 0.1894 - acc: 0.9555 - val_loss: 0.1668 - val_acc: 0.9666\n",
      "Epoch 287/300\n",
      "0s - loss: 0.1787 - acc: 0.9570 - val_loss: 0.1658 - val_acc: 0.9663\n",
      "Epoch 288/300\n",
      "0s - loss: 0.1834 - acc: 0.9551 - val_loss: 0.1657 - val_acc: 0.9661\n",
      "Epoch 289/300\n",
      "0s - loss: 0.1809 - acc: 0.9560 - val_loss: 0.1648 - val_acc: 0.9663\n",
      "Epoch 290/300\n",
      "0s - loss: 0.1840 - acc: 0.9560 - val_loss: 0.1690 - val_acc: 0.9672\n",
      "Epoch 291/300\n",
      "0s - loss: 0.1815 - acc: 0.9557 - val_loss: 0.1687 - val_acc: 0.9666\n",
      "Epoch 292/300\n",
      "0s - loss: 0.1756 - acc: 0.9580 - val_loss: 0.1696 - val_acc: 0.9669\n",
      "Epoch 293/300\n",
      "0s - loss: 0.1798 - acc: 0.9559 - val_loss: 0.1670 - val_acc: 0.9663\n",
      "Epoch 294/300\n",
      "0s - loss: 0.1742 - acc: 0.9580 - val_loss: 0.1681 - val_acc: 0.9674\n",
      "Epoch 295/300\n",
      "0s - loss: 0.1741 - acc: 0.9584 - val_loss: 0.1688 - val_acc: 0.9672\n",
      "Epoch 296/300\n",
      "0s - loss: 0.1867 - acc: 0.9553 - val_loss: 0.1683 - val_acc: 0.9674\n",
      "Epoch 297/300\n",
      "0s - loss: 0.1766 - acc: 0.9575 - val_loss: 0.1688 - val_acc: 0.9672\n",
      "Epoch 298/300\n",
      "0s - loss: 0.1751 - acc: 0.9578 - val_loss: 0.1689 - val_acc: 0.9672\n",
      "Epoch 299/300\n",
      "0s - loss: 0.1802 - acc: 0.9561 - val_loss: 0.1689 - val_acc: 0.9672\n",
      "Epoch 300/300\n",
      "0s - loss: 0.1815 - acc: 0.9563 - val_loss: 0.1652 - val_acc: 0.9672\n",
      "('Test accuracy:', 0.96715927694949155)\n",
      "('Test score:', 0.1652197832161113)\n"
     ]
    }
   ],
   "source": [
    "batch_size = 200\n",
    "nb_classes = 2\n",
    "nb_epoch = 300\n",
    "\n",
    "# the data, shuffled and split between train and test sets\n",
    "#(X_train, y_train), (X_test, y_test) = X_train, X_test, Y_train, Y_test\n",
    "\n",
    "X_train = X_train.astype('float32')\n",
    "X_test = X_test.astype('float32')\n",
    "print(X_train.shape[0], 'train samples')\n",
    "print(X_test.shape[0], 'test samples')\n",
    "\n",
    "# convert class vectors to binary class matrices\n",
    "Y_train = np_utils.to_categorical(y_train, nb_classes)\n",
    "Y_test = np_utils.to_categorical(y_test, nb_classes)\n",
    "\n",
    "model0 = Sequential()\n",
    "model0.add(Dense(10, input_dim=12))\n",
    "model0.add(Activation('relu'))\n",
    "model0.add(Dropout(0.5))\n",
    "\n",
    "model0.add(Dense(8))\n",
    "model0.add(Activation('relu'))\n",
    "model0.add(Dropout(0.5))\n",
    "\n",
    "model0.add(Dense(6))\n",
    "model0.add(Activation('relu'))\n",
    "model0.add(Dropout(0.5))\n",
    "\n",
    "model0.add(Dense(nb_classes))\n",
    "model0.add(Activation('sigmoid'))\n",
    "\n",
    "rms = RMSprop()\n",
    "model0.compile(loss='binary_crossentropy', optimizer=rms)\n",
    "\n",
    "hist  = model0.fit(X_train, Y_train,\n",
    "          batch_size=batch_size, nb_epoch=nb_epoch,\n",
    "          show_accuracy=True, verbose=2,\n",
    "          validation_data=(X_test, Y_test))\n",
    "score = model0.evaluate(X_test, Y_test,\n",
    "                       show_accuracy=True, verbose=0)\n",
    "\n",
    "print('Test accuracy:', score[1])\n",
    "print('Test score:', score[0])"
   ]
  },
  {
   "cell_type": "code",
   "execution_count": 121,
   "metadata": {
    "collapsed": false
   },
   "outputs": [
    {
     "data": {
      "image/png": "[encoded data removed]",
      "text/plain": [
       "<matplotlib.figure.Figure at 0x7feb308e40d0>"
      ]
     },
     "metadata": {},
     "output_type": "display_data"
    }
   ],
   "source": [
    "plt.figure()\n",
    "plt.title('Training performance',fontsize=14)\n",
    "plt.plot(hist.epoch, hist.history['loss'],'--', label='train_loss', lw=2)\n",
    "plt.plot(hist.epoch, hist.history['val_loss'], label='val_loss', lw=2)\n",
    "plt.legend()\n",
    "plt.xlabel('epoch', fontsize=14)\n",
    "plt.ylabel('loss', fontsize=14)\n",
    "\n",
    "plt.grid(True)\n",
    "plt.savefig('smartgrid_nn_loss.png')"
   ]
  },
  {
   "cell_type": "code",
   "execution_count": 92,
   "metadata": {
    "collapsed": false
   },
   "outputs": [
    {
     "name": "stdout",
     "output_type": "stream",
     "text": [
      "[[ 0.94578737  0.05444811]\n",
      " [ 0.97044486  0.02951063]\n",
      " [ 0.96501523  0.03498937]\n",
      " [ 0.9646076   0.03540104]\n",
      " [ 0.95387185  0.04625737]]\n"
     ]
    }
   ],
   "source": [
    "Y_preds_prob = model0.predict_proba(X_test, verbose=0)\n",
    "print(Y_preds_prob[:5])"
   ]
  },
  {
   "cell_type": "code",
   "execution_count": 93,
   "metadata": {
    "collapsed": false
   },
   "outputs": [
    {
     "name": "stdout",
     "output_type": "stream",
     "text": [
      "[0 0 0 0 0 0 0 0 0 0]\n"
     ]
    }
   ],
   "source": [
    "Y_preds_nn = model0.predict_classes(X_test, verbose=0)\n",
    "print(Y_preds_nn[:10])"
   ]
  },
  {
   "cell_type": "code",
   "execution_count": 94,
   "metadata": {
    "collapsed": false
   },
   "outputs": [
    {
     "name": "stdout",
     "output_type": "stream",
     "text": [
      "[[3402    0]\n",
      " [ 141  111]]\n"
     ]
    }
   ],
   "source": [
    "#Confusion matrix of logistic regression\n",
    "conf = metrics.confusion_matrix(y_test,Y_preds_nn)\n",
    "#plt.imshow(conf)\n",
    "print conf"
   ]
  },
  {
   "cell_type": "code",
   "execution_count": 128,
   "metadata": {
    "collapsed": false
   },
   "outputs": [
    {
     "name": "stdout",
     "output_type": "stream",
     "text": [
      "0.960203217612\n",
      "1\n",
      "0.960203217612\n"
     ]
    }
   ],
   "source": [
    "print 3402/(3402.+141) #sensitivity\n",
    "print 111/(0+111)      #specificity\n",
    "\n",
    "print 3402/(3402.+141)"
   ]
  },
  {
   "cell_type": "code",
   "execution_count": 122,
   "metadata": {
    "collapsed": false
   },
   "outputs": [
    {
     "name": "stdout",
     "output_type": "stream",
     "text": [
      "             precision    recall  f1-score   support\n",
      "\n",
      "    class 0       0.96      1.00      0.98      3402\n",
      "    class 1       1.00      0.44      0.61       252\n",
      "\n",
      "avg / total       0.96      0.96      0.95      3654\n",
      "\n"
     ]
    }
   ],
   "source": [
    "target_names = ['class 0', 'class 1']\n",
    "\n",
    "print(classification_report(y_test, Y_preds_nn, target_names=target_names))"
   ]
  },
  {
   "cell_type": "code",
   "execution_count": 124,
   "metadata": {
    "collapsed": false
   },
   "outputs": [
    {
     "data": {
      "image/png": "[encoded data removed]",
      "text/plain": [
       "<matplotlib.figure.Figure at 0x7feb33ecb850>"
      ]
     },
     "metadata": {},
     "output_type": "display_data"
    }
   ],
   "source": [
    "#ROC curve\n",
    "# IMPORTANT: first argument is true values, second argument is predicted probabilities\n",
    "fpr, tpr, thresholds = metrics.roc_curve(y_test, Y_preds_prob[:,1])\n",
    "plt.plot(fpr, tpr, lw=2)\n",
    "plt.xlim([0.0, 1.0])\n",
    "plt.ylim([0.0, 1.0])\n",
    "plt.title('ROC curve',fontsize=14)\n",
    "plt.xlabel('False Positive Rate (1 - Specificity)',fontsize=14) #fontweight='bold'\n",
    "plt.ylabel('True Positive Rate (Sensitivity)',fontsize=14)\n",
    "plt.grid(True)\n",
    "\n",
    "plt.savefig('smartgrid_nn_roc.png')\n"
   ]
  },
  {
   "cell_type": "code",
   "execution_count": 97,
   "metadata": {
    "collapsed": false
   },
   "outputs": [
    {
     "name": "stdout",
     "output_type": "stream",
     "text": [
      "0.891950813247\n"
     ]
    }
   ],
   "source": [
    "print metrics.roc_auc_score(y_test, Y_preds_prob[:,1])"
   ]
  },
  {
   "cell_type": "code",
   "execution_count": 38,
   "metadata": {
    "collapsed": true
   },
   "outputs": [],
   "source": [
    "#Will print layer shape..\n",
    "def print_layers_shapes(model):\n",
    "    for l in model.layers:\n",
    "        print(\"{} : {} : {}\".format(type(l), l.input_shape, l.output_shape))"
   ]
  },
  {
   "cell_type": "code",
   "execution_count": 39,
   "metadata": {
    "collapsed": false
   },
   "outputs": [
    {
     "name": "stdout",
     "output_type": "stream",
     "text": [
      "(8526, 12) (8526,) (3654, 12) (3654,)\n"
     ]
    }
   ],
   "source": [
    "print X_train.shape, y_train.shape, X_test.shape, y_test.shape"
   ]
  },
  {
   "cell_type": "code",
   "execution_count": 40,
   "metadata": {
    "collapsed": false
   },
   "outputs": [
    {
     "name": "stdout",
     "output_type": "stream",
     "text": [
      "(8526, 12, 1) (3654, 12, 1)\n"
     ]
    }
   ],
   "source": [
    "X_train_1 = X_train.reshape(8526,12,1)\n",
    "X_test_1 = X_test.reshape(3654,12,1)\n",
    "\n",
    "print X_train_1.shape, X_test_1.shape "
   ]
  },
  {
   "cell_type": "code",
   "execution_count": null,
   "metadata": {
    "collapsed": false
   },
   "outputs": [],
   "source": []
  },
  {
   "cell_type": "code",
   "execution_count": 41,
   "metadata": {
    "collapsed": false,
    "scrolled": true
   },
   "outputs": [
    {
     "name": "stdout",
     "output_type": "stream",
     "text": [
      "Build model...\n",
      "Train...\n",
      "Train on 8526 samples, validate on 3654 samples\n",
      "Epoch 1/200\n",
      "1s - loss: 0.2971 - acc: 0.9415 - val_loss: 0.1657 - val_acc: 0.9600\n",
      "Epoch 2/200\n",
      "1s - loss: 0.2164 - acc: 0.9592 - val_loss: 0.1705 - val_acc: 0.9666\n",
      "Epoch 3/200\n",
      "1s - loss: 0.1934 - acc: 0.9601 - val_loss: 0.1350 - val_acc: 0.9680\n",
      "Epoch 4/200\n",
      "1s - loss: 0.1826 - acc: 0.9615 - val_loss: 0.1346 - val_acc: 0.9685\n",
      "Epoch 5/200\n",
      "1s - loss: 0.1676 - acc: 0.9628 - val_loss: 0.1246 - val_acc: 0.9685\n",
      "Epoch 6/200\n",
      "1s - loss: 0.1607 - acc: 0.9652 - val_loss: 0.1307 - val_acc: 0.9691\n",
      "Epoch 7/200\n",
      "1s - loss: 0.1681 - acc: 0.9640 - val_loss: 0.1286 - val_acc: 0.9683\n",
      "Epoch 8/200\n",
      "1s - loss: 0.1546 - acc: 0.9639 - val_loss: 0.1180 - val_acc: 0.9699\n",
      "Epoch 9/200\n",
      "1s - loss: 0.1518 - acc: 0.9638 - val_loss: 0.1263 - val_acc: 0.9713\n",
      "Epoch 10/200\n",
      "1s - loss: 0.1473 - acc: 0.9654 - val_loss: 0.1221 - val_acc: 0.9693\n",
      "Epoch 11/200\n",
      "1s - loss: 0.1517 - acc: 0.9653 - val_loss: 0.1179 - val_acc: 0.9699\n",
      "Epoch 12/200\n",
      "1s - loss: 0.1556 - acc: 0.9642 - val_loss: 0.1308 - val_acc: 0.9718\n",
      "Epoch 13/200\n",
      "1s - loss: 0.1446 - acc: 0.9661 - val_loss: 0.1134 - val_acc: 0.9707\n",
      "Epoch 14/200\n",
      "1s - loss: 0.1420 - acc: 0.9665 - val_loss: 0.1444 - val_acc: 0.9633\n",
      "Epoch 15/200\n",
      "1s - loss: 0.1433 - acc: 0.9665 - val_loss: 0.1225 - val_acc: 0.9718\n",
      "Epoch 16/200\n",
      "1s - loss: 0.1379 - acc: 0.9674 - val_loss: 0.1176 - val_acc: 0.9707\n",
      "Epoch 17/200\n",
      "1s - loss: 0.1379 - acc: 0.9670 - val_loss: 0.1227 - val_acc: 0.9702\n",
      "Epoch 18/200\n",
      "1s - loss: 0.1377 - acc: 0.9670 - val_loss: 0.1202 - val_acc: 0.9710\n",
      "Epoch 19/200\n",
      "1s - loss: 0.1360 - acc: 0.9676 - val_loss: 0.1181 - val_acc: 0.9726\n",
      "Epoch 20/200\n",
      "1s - loss: 0.1411 - acc: 0.9669 - val_loss: 0.1229 - val_acc: 0.9707\n",
      "Epoch 21/200\n",
      "1s - loss: 0.1391 - acc: 0.9662 - val_loss: 0.1158 - val_acc: 0.9710\n",
      "Epoch 22/200\n",
      "1s - loss: 0.1410 - acc: 0.9663 - val_loss: 0.1342 - val_acc: 0.9674\n",
      "Epoch 23/200\n",
      "1s - loss: 0.1376 - acc: 0.9684 - val_loss: 0.1181 - val_acc: 0.9710\n",
      "Epoch 24/200\n",
      "1s - loss: 0.1375 - acc: 0.9670 - val_loss: 0.1136 - val_acc: 0.9724\n",
      "Epoch 25/200\n",
      "1s - loss: 0.1364 - acc: 0.9681 - val_loss: 0.1157 - val_acc: 0.9713\n",
      "Epoch 26/200\n",
      "1s - loss: 0.1352 - acc: 0.9677 - val_loss: 0.1196 - val_acc: 0.9713\n",
      "Epoch 27/200\n",
      "1s - loss: 0.1364 - acc: 0.9674 - val_loss: 0.1242 - val_acc: 0.9726\n",
      "Epoch 28/200\n",
      "1s - loss: 0.1382 - acc: 0.9667 - val_loss: 0.1123 - val_acc: 0.9724\n",
      "Epoch 29/200\n",
      "1s - loss: 0.1360 - acc: 0.9669 - val_loss: 0.1190 - val_acc: 0.9710\n",
      "Epoch 30/200\n",
      "1s - loss: 0.1395 - acc: 0.9674 - val_loss: 0.1195 - val_acc: 0.9707\n",
      "Epoch 31/200\n",
      "1s - loss: 0.1345 - acc: 0.9680 - val_loss: 0.1532 - val_acc: 0.9704\n",
      "Epoch 32/200\n",
      "1s - loss: 0.1423 - acc: 0.9665 - val_loss: 0.1178 - val_acc: 0.9710\n",
      "Epoch 33/200\n",
      "1s - loss: 0.1338 - acc: 0.9680 - val_loss: 0.1299 - val_acc: 0.9710\n",
      "Epoch 34/200\n",
      "1s - loss: 0.1399 - acc: 0.9672 - val_loss: 0.1178 - val_acc: 0.9710\n",
      "Epoch 35/200\n",
      "1s - loss: 0.1376 - acc: 0.9666 - val_loss: 0.1166 - val_acc: 0.9721\n",
      "Epoch 36/200\n",
      "1s - loss: 0.1362 - acc: 0.9683 - val_loss: 0.1178 - val_acc: 0.9715\n",
      "Epoch 37/200\n",
      "1s - loss: 0.1386 - acc: 0.9668 - val_loss: 0.1198 - val_acc: 0.9707\n",
      "Epoch 38/200\n",
      "1s - loss: 0.1416 - acc: 0.9676 - val_loss: 0.1256 - val_acc: 0.9710\n",
      "Epoch 39/200\n",
      "1s - loss: 0.1367 - acc: 0.9670 - val_loss: 0.1213 - val_acc: 0.9707\n",
      "Epoch 40/200\n",
      "1s - loss: 0.1391 - acc: 0.9670 - val_loss: 0.1203 - val_acc: 0.9710\n",
      "Epoch 41/200\n",
      "1s - loss: 0.1383 - acc: 0.9670 - val_loss: 0.1158 - val_acc: 0.9718\n",
      "Epoch 42/200\n",
      "1s - loss: 0.1349 - acc: 0.9682 - val_loss: 0.1152 - val_acc: 0.9721\n",
      "Epoch 43/200\n",
      "1s - loss: 0.1329 - acc: 0.9681 - val_loss: 0.1217 - val_acc: 0.9715\n",
      "Epoch 44/200\n",
      "1s - loss: 0.1346 - acc: 0.9683 - val_loss: 0.1177 - val_acc: 0.9724\n",
      "Epoch 45/200\n",
      "1s - loss: 0.1362 - acc: 0.9687 - val_loss: 0.1482 - val_acc: 0.9644\n",
      "Epoch 46/200\n",
      "1s - loss: 0.1374 - acc: 0.9686 - val_loss: 0.1194 - val_acc: 0.9724\n",
      "Epoch 47/200\n",
      "1s - loss: 0.1349 - acc: 0.9675 - val_loss: 0.1191 - val_acc: 0.9726\n",
      "Epoch 48/200\n",
      "1s - loss: 0.1366 - acc: 0.9680 - val_loss: 0.1264 - val_acc: 0.9729\n",
      "Epoch 49/200\n",
      "1s - loss: 0.1386 - acc: 0.9665 - val_loss: 0.1159 - val_acc: 0.9713\n",
      "Epoch 50/200\n",
      "1s - loss: 0.1351 - acc: 0.9676 - val_loss: 0.1160 - val_acc: 0.9715\n",
      "Epoch 51/200\n",
      "1s - loss: 0.1356 - acc: 0.9674 - val_loss: 0.2424 - val_acc: 0.9494\n",
      "Epoch 52/200\n",
      "1s - loss: 0.1330 - acc: 0.9680 - val_loss: 0.1179 - val_acc: 0.9718\n",
      "Epoch 53/200\n",
      "1s - loss: 0.1360 - acc: 0.9684 - val_loss: 0.4220 - val_acc: 0.9267\n",
      "Epoch 54/200\n",
      "1s - loss: 0.1407 - acc: 0.9677 - val_loss: 0.1152 - val_acc: 0.9721\n",
      "Epoch 55/200\n",
      "1s - loss: 0.1349 - acc: 0.9682 - val_loss: 0.1250 - val_acc: 0.9718\n",
      "Epoch 56/200\n",
      "1s - loss: 0.1340 - acc: 0.9693 - val_loss: 0.1397 - val_acc: 0.9710\n",
      "Epoch 57/200\n",
      "1s - loss: 0.1372 - acc: 0.9673 - val_loss: 0.1307 - val_acc: 0.9713\n",
      "Epoch 58/200\n",
      "1s - loss: 0.1390 - acc: 0.9677 - val_loss: 0.1231 - val_acc: 0.9713\n",
      "Epoch 59/200\n",
      "1s - loss: 0.1454 - acc: 0.9665 - val_loss: 0.1238 - val_acc: 0.9707\n",
      "Epoch 60/200\n",
      "1s - loss: 0.1376 - acc: 0.9677 - val_loss: 0.1244 - val_acc: 0.9721\n",
      "Epoch 61/200\n",
      "1s - loss: 0.1368 - acc: 0.9679 - val_loss: 0.1253 - val_acc: 0.9710\n",
      "Epoch 62/200\n",
      "1s - loss: 0.1399 - acc: 0.9684 - val_loss: 0.1185 - val_acc: 0.9713\n",
      "Epoch 63/200\n",
      "1s - loss: 0.1328 - acc: 0.9683 - val_loss: 0.1188 - val_acc: 0.9726\n",
      "Epoch 64/200\n",
      "1s - loss: 0.1324 - acc: 0.9692 - val_loss: 0.1270 - val_acc: 0.9721\n",
      "Epoch 65/200\n",
      "1s - loss: 0.1320 - acc: 0.9690 - val_loss: 0.1223 - val_acc: 0.9721\n",
      "Epoch 66/200\n",
      "1s - loss: 0.1371 - acc: 0.9684 - val_loss: 0.2326 - val_acc: 0.9576\n",
      "Epoch 67/200\n",
      "1s - loss: 0.1386 - acc: 0.9672 - val_loss: 0.1605 - val_acc: 0.9633\n",
      "Epoch 68/200\n",
      "1s - loss: 0.1336 - acc: 0.9682 - val_loss: 0.1212 - val_acc: 0.9737\n",
      "Epoch 69/200\n",
      "1s - loss: 0.1393 - acc: 0.9688 - val_loss: 0.1138 - val_acc: 0.9735\n",
      "Epoch 70/200\n",
      "1s - loss: 0.1426 - acc: 0.9679 - val_loss: 0.1238 - val_acc: 0.9715\n",
      "Epoch 71/200\n",
      "1s - loss: 0.1392 - acc: 0.9677 - val_loss: 0.1194 - val_acc: 0.9718\n",
      "Epoch 72/200\n",
      "1s - loss: 0.1354 - acc: 0.9686 - val_loss: 0.1199 - val_acc: 0.9729\n",
      "Epoch 73/200\n",
      "1s - loss: 0.1412 - acc: 0.9680 - val_loss: 0.1237 - val_acc: 0.9707\n",
      "Epoch 74/200\n",
      "1s - loss: 0.1388 - acc: 0.9668 - val_loss: 0.1306 - val_acc: 0.9710\n",
      "Epoch 75/200\n",
      "1s - loss: 0.1312 - acc: 0.9686 - val_loss: 0.1147 - val_acc: 0.9732\n",
      "Epoch 76/200\n",
      "1s - loss: 0.1367 - acc: 0.9681 - val_loss: 0.1179 - val_acc: 0.9729\n",
      "Epoch 77/200\n",
      "1s - loss: 0.1397 - acc: 0.9675 - val_loss: 0.1192 - val_acc: 0.9732\n",
      "Epoch 78/200\n",
      "1s - loss: 0.1343 - acc: 0.9676 - val_loss: 0.1168 - val_acc: 0.9721\n",
      "Epoch 79/200\n",
      "1s - loss: 0.1363 - acc: 0.9682 - val_loss: 0.1269 - val_acc: 0.9713\n",
      "Epoch 80/200\n",
      "1s - loss: 0.1373 - acc: 0.9675 - val_loss: 0.1112 - val_acc: 0.9737\n",
      "Epoch 81/200\n",
      "1s - loss: 0.1317 - acc: 0.9676 - val_loss: 0.1127 - val_acc: 0.9732\n",
      "Epoch 82/200\n",
      "1s - loss: 0.1345 - acc: 0.9681 - val_loss: 0.1305 - val_acc: 0.9713\n",
      "Epoch 83/200\n",
      "1s - loss: 0.1321 - acc: 0.9683 - val_loss: 0.1264 - val_acc: 0.9707\n",
      "Epoch 84/200\n",
      "1s - loss: 0.1392 - acc: 0.9676 - val_loss: 0.1255 - val_acc: 0.9710\n",
      "Epoch 85/200\n",
      "1s - loss: 0.1314 - acc: 0.9683 - val_loss: 0.1177 - val_acc: 0.9721\n",
      "Epoch 86/200\n",
      "1s - loss: 0.1297 - acc: 0.9690 - val_loss: 0.1172 - val_acc: 0.9726\n",
      "Epoch 87/200\n",
      "1s - loss: 0.1337 - acc: 0.9686 - val_loss: 0.1235 - val_acc: 0.9726\n",
      "Epoch 88/200\n",
      "1s - loss: 0.1324 - acc: 0.9697 - val_loss: 0.1194 - val_acc: 0.9735\n",
      "Epoch 89/200\n",
      "1s - loss: 0.1365 - acc: 0.9687 - val_loss: 0.1230 - val_acc: 0.9715\n",
      "Epoch 90/200\n",
      "1s - loss: 0.1380 - acc: 0.9680 - val_loss: 0.1291 - val_acc: 0.9710\n",
      "Epoch 91/200\n",
      "1s - loss: 0.1353 - acc: 0.9676 - val_loss: 0.1298 - val_acc: 0.9710\n",
      "Epoch 92/200\n",
      "1s - loss: 0.1359 - acc: 0.9684 - val_loss: 0.1253 - val_acc: 0.9718\n",
      "Epoch 93/200\n",
      "1s - loss: 0.1343 - acc: 0.9688 - val_loss: 0.1156 - val_acc: 0.9724\n",
      "Epoch 94/200\n",
      "1s - loss: 0.1407 - acc: 0.9682 - val_loss: 0.1268 - val_acc: 0.9707\n",
      "Epoch 95/200\n",
      "1s - loss: 0.1445 - acc: 0.9683 - val_loss: 0.1318 - val_acc: 0.9715\n",
      "Epoch 96/200\n",
      "1s - loss: 0.1472 - acc: 0.9669 - val_loss: 0.1210 - val_acc: 0.9715\n",
      "Epoch 97/200\n",
      "1s - loss: 0.1396 - acc: 0.9673 - val_loss: 0.1266 - val_acc: 0.9726\n",
      "Epoch 98/200\n",
      "1s - loss: 0.1412 - acc: 0.9683 - val_loss: 0.1585 - val_acc: 0.9666\n",
      "Epoch 99/200\n",
      "1s - loss: 0.1371 - acc: 0.9674 - val_loss: 0.1222 - val_acc: 0.9735\n",
      "Epoch 100/200\n",
      "1s - loss: 0.1363 - acc: 0.9686 - val_loss: 0.1289 - val_acc: 0.9718\n",
      "Epoch 101/200\n",
      "1s - loss: 0.1433 - acc: 0.9681 - val_loss: 0.1376 - val_acc: 0.9715\n",
      "Epoch 102/200\n",
      "1s - loss: 0.1411 - acc: 0.9679 - val_loss: 0.1215 - val_acc: 0.9710\n",
      "Epoch 103/200\n",
      "1s - loss: 0.1385 - acc: 0.9680 - val_loss: 0.1296 - val_acc: 0.9724\n",
      "Epoch 104/200\n",
      "1s - loss: 0.1495 - acc: 0.9668 - val_loss: 0.1278 - val_acc: 0.9718\n",
      "Epoch 105/200\n",
      "1s - loss: 0.1431 - acc: 0.9675 - val_loss: 0.1286 - val_acc: 0.9718\n",
      "Epoch 106/200\n",
      "1s - loss: 0.1469 - acc: 0.9668 - val_loss: 0.1231 - val_acc: 0.9715\n",
      "Epoch 107/200\n",
      "1s - loss: 0.1411 - acc: 0.9672 - val_loss: 0.1224 - val_acc: 0.9715\n",
      "Epoch 108/200\n",
      "1s - loss: 0.1394 - acc: 0.9682 - val_loss: 0.1222 - val_acc: 0.9721\n",
      "Epoch 109/200\n",
      "1s - loss: 0.1480 - acc: 0.9675 - val_loss: 0.1189 - val_acc: 0.9726\n",
      "Epoch 110/200\n",
      "1s - loss: 0.1421 - acc: 0.9665 - val_loss: 0.1365 - val_acc: 0.9704\n",
      "Epoch 111/200\n",
      "1s - loss: 0.1394 - acc: 0.9680 - val_loss: 0.1215 - val_acc: 0.9724\n",
      "Epoch 112/200\n",
      "1s - loss: 0.1481 - acc: 0.9669 - val_loss: 0.1203 - val_acc: 0.9724\n",
      "Epoch 113/200\n",
      "1s - loss: 0.1379 - acc: 0.9692 - val_loss: 0.1275 - val_acc: 0.9713\n",
      "Epoch 114/200\n",
      "1s - loss: 0.1470 - acc: 0.9674 - val_loss: 0.1290 - val_acc: 0.9707\n",
      "Epoch 115/200\n",
      "1s - loss: 0.1391 - acc: 0.9677 - val_loss: 0.1267 - val_acc: 0.9704\n",
      "Epoch 116/200\n",
      "1s - loss: 0.1430 - acc: 0.9681 - val_loss: 0.1296 - val_acc: 0.9704\n",
      "Epoch 117/200\n",
      "1s - loss: 0.1424 - acc: 0.9670 - val_loss: 0.1301 - val_acc: 0.9718\n",
      "Epoch 118/200\n",
      "1s - loss: 0.1412 - acc: 0.9677 - val_loss: 0.1268 - val_acc: 0.9718\n",
      "Epoch 119/200\n",
      "1s - loss: 0.1385 - acc: 0.9682 - val_loss: 0.1427 - val_acc: 0.9707\n",
      "Epoch 120/200\n",
      "1s - loss: 0.1436 - acc: 0.9672 - val_loss: 0.1207 - val_acc: 0.9715\n",
      "Epoch 121/200\n",
      "1s - loss: 0.1441 - acc: 0.9674 - val_loss: 0.2152 - val_acc: 0.9589\n",
      "Epoch 122/200\n",
      "1s - loss: 0.1423 - acc: 0.9677 - val_loss: 0.1336 - val_acc: 0.9704\n",
      "Epoch 123/200\n",
      "1s - loss: 0.1411 - acc: 0.9677 - val_loss: 0.1268 - val_acc: 0.9707\n",
      "Epoch 124/200\n",
      "1s - loss: 0.1467 - acc: 0.9672 - val_loss: 0.1195 - val_acc: 0.9718\n",
      "Epoch 125/200\n",
      "1s - loss: 0.1414 - acc: 0.9673 - val_loss: 0.1208 - val_acc: 0.9710\n",
      "Epoch 126/200\n",
      "1s - loss: 0.1436 - acc: 0.9674 - val_loss: 0.1206 - val_acc: 0.9724\n",
      "Epoch 127/200\n",
      "1s - loss: 0.1372 - acc: 0.9690 - val_loss: 0.1276 - val_acc: 0.9707\n",
      "Epoch 128/200\n",
      "1s - loss: 0.1381 - acc: 0.9683 - val_loss: 0.1199 - val_acc: 0.9713\n",
      "Epoch 129/200\n",
      "1s - loss: 0.1407 - acc: 0.9675 - val_loss: 0.1327 - val_acc: 0.9715\n",
      "Epoch 130/200\n",
      "1s - loss: 0.1448 - acc: 0.9676 - val_loss: 0.1223 - val_acc: 0.9721\n",
      "Epoch 131/200\n",
      "1s - loss: 0.1391 - acc: 0.9672 - val_loss: 0.1285 - val_acc: 0.9704\n",
      "Epoch 132/200\n",
      "1s - loss: 0.1364 - acc: 0.9690 - val_loss: 0.1209 - val_acc: 0.9721\n",
      "Epoch 133/200\n",
      "1s - loss: 0.1405 - acc: 0.9679 - val_loss: 0.1233 - val_acc: 0.9713\n",
      "Epoch 134/200\n",
      "1s - loss: 0.1387 - acc: 0.9682 - val_loss: 0.1345 - val_acc: 0.9702\n",
      "Epoch 135/200\n",
      "1s - loss: 0.1388 - acc: 0.9682 - val_loss: 0.1191 - val_acc: 0.9721\n",
      "Epoch 136/200\n",
      "1s - loss: 0.1408 - acc: 0.9684 - val_loss: 0.1280 - val_acc: 0.9710\n",
      "Epoch 137/200\n",
      "1s - loss: 0.1390 - acc: 0.9673 - val_loss: 0.1312 - val_acc: 0.9710\n",
      "Epoch 138/200\n",
      "1s - loss: 0.1364 - acc: 0.9683 - val_loss: 0.1226 - val_acc: 0.9710\n",
      "Epoch 139/200\n",
      "1s - loss: 0.1406 - acc: 0.9679 - val_loss: 0.1241 - val_acc: 0.9718\n",
      "Epoch 140/200\n",
      "1s - loss: 0.1426 - acc: 0.9670 - val_loss: 0.1194 - val_acc: 0.9729\n",
      "Epoch 141/200\n",
      "1s - loss: 0.1395 - acc: 0.9675 - val_loss: 0.1412 - val_acc: 0.9710\n",
      "Epoch 142/200\n",
      "1s - loss: 0.1485 - acc: 0.9680 - val_loss: 0.1466 - val_acc: 0.9696\n",
      "Epoch 143/200\n",
      "1s - loss: 0.1440 - acc: 0.9674 - val_loss: 0.1193 - val_acc: 0.9729\n",
      "Epoch 144/200\n",
      "1s - loss: 0.1464 - acc: 0.9672 - val_loss: 0.1233 - val_acc: 0.9718\n",
      "Epoch 145/200\n",
      "1s - loss: 0.1478 - acc: 0.9668 - val_loss: 0.1358 - val_acc: 0.9699\n",
      "Epoch 146/200\n",
      "1s - loss: 0.1437 - acc: 0.9668 - val_loss: 0.1307 - val_acc: 0.9710\n",
      "Epoch 147/200\n",
      "1s - loss: 0.1538 - acc: 0.9653 - val_loss: 0.1269 - val_acc: 0.9713\n",
      "Epoch 148/200\n",
      "1s - loss: 0.1531 - acc: 0.9670 - val_loss: 0.1301 - val_acc: 0.9713\n",
      "Epoch 149/200\n",
      "1s - loss: 0.1521 - acc: 0.9674 - val_loss: 0.1263 - val_acc: 0.9718\n",
      "Epoch 150/200\n",
      "1s - loss: 0.1599 - acc: 0.9660 - val_loss: 0.1409 - val_acc: 0.9724\n",
      "Epoch 151/200\n",
      "1s - loss: 0.1673 - acc: 0.9653 - val_loss: 0.1776 - val_acc: 0.9704\n",
      "Epoch 152/200\n",
      "1s - loss: 0.1642 - acc: 0.9650 - val_loss: 0.1327 - val_acc: 0.9715\n",
      "Epoch 153/200\n",
      "1s - loss: 0.1520 - acc: 0.9654 - val_loss: 0.1348 - val_acc: 0.9702\n",
      "Epoch 154/200\n",
      "1s - loss: 0.1502 - acc: 0.9663 - val_loss: 0.1330 - val_acc: 0.9713\n",
      "Epoch 155/200\n",
      "1s - loss: 0.1593 - acc: 0.9650 - val_loss: 0.1296 - val_acc: 0.9707\n",
      "Epoch 156/200\n",
      "1s - loss: 0.1555 - acc: 0.9661 - val_loss: 0.2389 - val_acc: 0.9677\n",
      "Epoch 157/200\n",
      "1s - loss: 0.1542 - acc: 0.9663 - val_loss: 0.1238 - val_acc: 0.9721\n",
      "Epoch 158/200\n",
      "1s - loss: 0.1526 - acc: 0.9668 - val_loss: 0.1384 - val_acc: 0.9721\n",
      "Epoch 159/200\n",
      "1s - loss: 0.1524 - acc: 0.9675 - val_loss: 0.1320 - val_acc: 0.9702\n",
      "Epoch 160/200\n",
      "1s - loss: 0.1496 - acc: 0.9660 - val_loss: 0.1340 - val_acc: 0.9715\n",
      "Epoch 161/200\n",
      "1s - loss: 0.1567 - acc: 0.9665 - val_loss: 0.1303 - val_acc: 0.9710\n",
      "Epoch 162/200\n",
      "1s - loss: 0.1449 - acc: 0.9667 - val_loss: 0.1253 - val_acc: 0.9721\n",
      "Epoch 163/200\n",
      "1s - loss: 0.1454 - acc: 0.9666 - val_loss: 0.1289 - val_acc: 0.9704\n",
      "Epoch 164/200\n",
      "1s - loss: 0.1488 - acc: 0.9659 - val_loss: 0.1284 - val_acc: 0.9704\n",
      "Epoch 165/200\n",
      "1s - loss: 0.1556 - acc: 0.9646 - val_loss: 0.1271 - val_acc: 0.9718\n",
      "Epoch 166/200\n",
      "1s - loss: 0.1589 - acc: 0.9658 - val_loss: 0.1405 - val_acc: 0.9691\n",
      "Epoch 167/200\n",
      "1s - loss: 0.1555 - acc: 0.9661 - val_loss: 0.1701 - val_acc: 0.9704\n",
      "Epoch 168/200\n",
      "1s - loss: 0.1798 - acc: 0.9652 - val_loss: 0.1476 - val_acc: 0.9702\n",
      "Epoch 169/200\n",
      "1s - loss: 0.1512 - acc: 0.9669 - val_loss: 0.1492 - val_acc: 0.9699\n",
      "Epoch 170/200\n",
      "1s - loss: 0.1594 - acc: 0.9658 - val_loss: 0.2233 - val_acc: 0.9702\n",
      "Epoch 171/200\n",
      "1s - loss: 0.1548 - acc: 0.9673 - val_loss: 0.1324 - val_acc: 0.9707\n",
      "Epoch 172/200\n",
      "1s - loss: 0.1520 - acc: 0.9662 - val_loss: 0.1254 - val_acc: 0.9724\n",
      "Epoch 173/200\n",
      "1s - loss: 0.1623 - acc: 0.9663 - val_loss: 0.1369 - val_acc: 0.9724\n",
      "Epoch 174/200\n",
      "1s - loss: 0.1787 - acc: 0.9638 - val_loss: 0.1477 - val_acc: 0.9704\n",
      "Epoch 175/200\n",
      "1s - loss: 0.1575 - acc: 0.9650 - val_loss: 0.1400 - val_acc: 0.9713\n",
      "Epoch 176/200\n",
      "1s - loss: 0.1602 - acc: 0.9647 - val_loss: 0.1494 - val_acc: 0.9704\n",
      "Epoch 177/200\n",
      "1s - loss: 0.1562 - acc: 0.9656 - val_loss: 0.1618 - val_acc: 0.9710\n",
      "Epoch 178/200\n",
      "1s - loss: 0.1528 - acc: 0.9662 - val_loss: 0.1201 - val_acc: 0.9732\n",
      "Epoch 179/200\n",
      "1s - loss: 0.1569 - acc: 0.9639 - val_loss: 0.1308 - val_acc: 0.9710\n",
      "Epoch 180/200\n",
      "1s - loss: 0.1573 - acc: 0.9633 - val_loss: 0.1320 - val_acc: 0.9699\n",
      "Epoch 181/200\n",
      "1s - loss: 0.1551 - acc: 0.9650 - val_loss: 0.1347 - val_acc: 0.9674\n",
      "Epoch 182/200\n",
      "1s - loss: 0.1463 - acc: 0.9661 - val_loss: 0.1213 - val_acc: 0.9743\n",
      "Epoch 183/200\n",
      "1s - loss: 0.1595 - acc: 0.9656 - val_loss: 0.1206 - val_acc: 0.9713\n",
      "Epoch 184/200\n",
      "1s - loss: 0.1528 - acc: 0.9653 - val_loss: 0.1217 - val_acc: 0.9713\n",
      "Epoch 185/200\n",
      "1s - loss: 0.1599 - acc: 0.9633 - val_loss: 0.1345 - val_acc: 0.9699\n",
      "Epoch 186/200\n",
      "1s - loss: 0.1585 - acc: 0.9641 - val_loss: 0.1258 - val_acc: 0.9726\n",
      "Epoch 187/200\n",
      "1s - loss: 0.1493 - acc: 0.9673 - val_loss: 0.1298 - val_acc: 0.9710\n",
      "Epoch 188/200\n",
      "1s - loss: 0.1471 - acc: 0.9663 - val_loss: 0.1344 - val_acc: 0.9710\n",
      "Epoch 189/200\n",
      "1s - loss: 0.1453 - acc: 0.9663 - val_loss: 0.1188 - val_acc: 0.9721\n",
      "Epoch 190/200\n",
      "1s - loss: 0.1517 - acc: 0.9663 - val_loss: 0.1263 - val_acc: 0.9713\n",
      "Epoch 191/200\n",
      "1s - loss: 0.1476 - acc: 0.9663 - val_loss: 0.1247 - val_acc: 0.9713\n",
      "Epoch 192/200\n",
      "1s - loss: 0.1590 - acc: 0.9636 - val_loss: 0.1217 - val_acc: 0.9724\n",
      "Epoch 193/200\n",
      "1s - loss: 0.1470 - acc: 0.9669 - val_loss: 0.1322 - val_acc: 0.9710\n",
      "Epoch 194/200\n",
      "1s - loss: 0.1524 - acc: 0.9645 - val_loss: 0.1706 - val_acc: 0.9557\n",
      "Epoch 195/200\n",
      "1s - loss: 0.1519 - acc: 0.9646 - val_loss: 0.1273 - val_acc: 0.9710\n",
      "Epoch 196/200\n",
      "1s - loss: 0.1593 - acc: 0.9646 - val_loss: 0.1197 - val_acc: 0.9724\n",
      "Epoch 197/200\n",
      "1s - loss: 0.1466 - acc: 0.9659 - val_loss: 0.1312 - val_acc: 0.9718\n",
      "Epoch 198/200\n",
      "1s - loss: 0.1599 - acc: 0.9632 - val_loss: 0.1240 - val_acc: 0.9718\n",
      "Epoch 199/200\n",
      "1s - loss: 0.1454 - acc: 0.9659 - val_loss: 0.1395 - val_acc: 0.9710\n",
      "Epoch 200/200\n",
      "1s - loss: 0.1431 - acc: 0.9670 - val_loss: 0.1291 - val_acc: 0.9699\n",
      "3654/3654 [==============================] - 0s     \n",
      "('Test accuracy:', 0.96989599883262745)\n",
      "('Test score:', 0.12906485446180779)\n"
     ]
    }
   ],
   "source": [
    "# 1D conv\n",
    "\n",
    "# set parameters:\n",
    "batch_size = 20\n",
    "input_length = X_train_1.shape[1]\n",
    "nb_epoch = 200\n",
    "nb_classes = 2\n",
    "\n",
    "print('Build model...')\n",
    "\n",
    "model = Sequential()\n",
    "\n",
    "model.add(Convolution1D(nb_filter=64,\n",
    "                        filter_length=3,\n",
    "                        border_mode='valid',\n",
    "                        activation='relu',\n",
    "                        input_dim=1, \n",
    "                        input_length=input_length)) \n",
    "                       \n",
    "model.add(Convolution1D(nb_filter=32,\n",
    "                        filter_length=3,\n",
    "                        border_mode='valid',\n",
    "                        activation='relu'))\n",
    "                        \n",
    "model.add(MaxPooling1D(pool_length=2))\n",
    "\n",
    "model.add(Convolution1D(nb_filter=16,\n",
    "                        filter_length=3,\n",
    "                        border_mode='valid',\n",
    "                        activation='relu'))\n",
    "\n",
    "model.add(Convolution1D(nb_filter=16,\n",
    "                        filter_length=3,\n",
    "                        border_mode='same',\n",
    "                        activation='relu'))\n",
    "\n",
    "model.add(MaxPooling1D(pool_length=2))\n",
    "\n",
    "# Adding GRU layer \n",
    "#model.add(GRU(output_dim=14))\n",
    "#model.add(Activation('relu'))\n",
    "\n",
    "#print_layers_shapes(model)\n",
    "\n",
    "model.add(Flatten())\n",
    "\n",
    "model.add(Dense(10))\n",
    "model.add(Dropout(0.25))\n",
    "model.add(Activation('relu'))\n",
    "\n",
    "# We project onto a single unit output layer, and squash it with a sigmoid:\n",
    "model.add(Dense(nb_classes)) \n",
    "model.add(Activation('sigmoid'))\n",
    "\n",
    "#print_layers_shapes(model)\n",
    "\n",
    "rms = RMSprop()\n",
    "model.compile(loss='binary_crossentropy', optimizer=rms)\n",
    "\n",
    "\n",
    "\n",
    "print('Train...')\n",
    "history = model.fit(X_train_1, Y_train, batch_size=batch_size,\n",
    "          nb_epoch=nb_epoch, show_accuracy=True,\n",
    "          validation_data=(X_test_1, Y_test),verbose=2)\n",
    "\n",
    "score, acc = model.evaluate(X_test_1, Y_test, batch_size=batch_size,\n",
    "                            show_accuracy=True)\n",
    "\n",
    "print('Test accuracy:', acc)\n",
    "print('Test score:', score)\n"
   ]
  },
  {
   "cell_type": "code",
   "execution_count": 42,
   "metadata": {
    "collapsed": false
   },
   "outputs": [
    {
     "data": {
      "text/plain": [
       "True"
      ]
     },
     "execution_count": 42,
     "metadata": {},
     "output_type": "execute_result"
    }
   ],
   "source": [
    "#vutil.plot(model, to_file='smartgrid_cnn1d.png')\n",
    "#vutil.plot(autoencoder, recursive=True, show_shape=True).create(prog='dot', format=\"png\")\n",
    "#SVG(vutil.to_graph(model, recursive=True, show_shape=True).create(prog='dot', format=\"svg\"))\n",
    "\n",
    "graph = to_graph(model, show_shape=True)\n",
    "graph.write_png(\"smartgrid_cnn1D.png\")"
   ]
  },
  {
   "cell_type": "code",
   "execution_count": null,
   "metadata": {
    "collapsed": false
   },
   "outputs": [],
   "source": []
  },
  {
   "cell_type": "code",
   "execution_count": 43,
   "metadata": {
    "collapsed": false
   },
   "outputs": [
    {
     "data": {
      "text/plain": [
       "<matplotlib.legend.Legend at 0x7f91063f57d0>"
      ]
     },
     "execution_count": 43,
     "metadata": {},
     "output_type": "execute_result"
    },
    {
     "data": {
      "image/png": "[encoded data removed]",
      "text/plain": [
       "<matplotlib.figure.Figure at 0x7f91063fe550>"
      ]
     },
     "metadata": {},
     "output_type": "display_data"
    }
   ],
   "source": [
    "plt.figure()\n",
    "plt.title('Training/Validation performance (CNN)')\n",
    "plt.plot(history.epoch, history.history['loss'],'--', label='train_loss')\n",
    "plt.plot(history.epoch, history.history['val_loss'], label='validation_loss')\n",
    "plt.legend()"
   ]
  },
  {
   "cell_type": "code",
   "execution_count": 144,
   "metadata": {
    "collapsed": false
   },
   "outputs": [
    {
     "name": "stdout",
     "output_type": "stream",
     "text": [
      "[[ 0.92793822  0.071464  ]\n",
      " [ 0.987046    0.0131061 ]\n",
      " [ 0.96406353  0.03540505]\n",
      " [ 0.97863036  0.02137077]\n",
      " [ 0.94966322  0.04960407]]\n"
     ]
    }
   ],
   "source": [
    "Y_preds_prob_cnn = model.predict_proba(X_test_1, verbose=0)\n",
    "print(Y_preds_prob_cnn[:5])"
   ]
  },
  {
   "cell_type": "code",
   "execution_count": 145,
   "metadata": {
    "collapsed": false
   },
   "outputs": [
    {
     "name": "stdout",
     "output_type": "stream",
     "text": [
      "[0 0 0 ..., 0 0 0]\n"
     ]
    }
   ],
   "source": [
    "Y_preds_cnn = model.predict_classes(X_test_1, verbose=0)\n",
    "print(Y_preds_cnn)"
   ]
  },
  {
   "cell_type": "code",
   "execution_count": 146,
   "metadata": {
    "collapsed": false
   },
   "outputs": [
    {
     "data": {
      "text/plain": [
       "array([0, 1])"
      ]
     },
     "execution_count": 146,
     "metadata": {},
     "output_type": "execute_result"
    }
   ],
   "source": [
    "np.unique(Y_preds_cnn) #[-550:]"
   ]
  },
  {
   "cell_type": "code",
   "execution_count": 147,
   "metadata": {
    "collapsed": false
   },
   "outputs": [
    {
     "data": {
      "text/plain": [
       "array([ 0.,  1.])"
      ]
     },
     "execution_count": 147,
     "metadata": {},
     "output_type": "execute_result"
    }
   ],
   "source": [
    "np.unique(y_test)"
   ]
  },
  {
   "cell_type": "code",
   "execution_count": 148,
   "metadata": {
    "collapsed": false
   },
   "outputs": [
    {
     "name": "stdout",
     "output_type": "stream",
     "text": [
      "151\n",
      "3475\n"
     ]
    }
   ],
   "source": [
    "print np.sum(Y_preds_cnn==1)\n",
    "print 3386+89"
   ]
  },
  {
   "cell_type": "code",
   "execution_count": 149,
   "metadata": {
    "collapsed": false
   },
   "outputs": [
    {
     "name": "stdout",
     "output_type": "stream",
     "text": [
      "[[3402    0]\n",
      " [ 101  151]]\n"
     ]
    }
   ],
   "source": [
    "#Confusion matrix of logistic regression\n",
    "conf = metrics.confusion_matrix(y_test,Y_preds_cnn)\n",
    "#plt.imshow(conf)\n",
    "print conf"
   ]
  },
  {
   "cell_type": "code",
   "execution_count": 150,
   "metadata": {
    "collapsed": false
   },
   "outputs": [
    {
     "name": "stdout",
     "output_type": "stream",
     "text": [
      "             precision    recall  f1-score   support\n",
      "\n",
      "    class 0       0.97      1.00      0.99      3402\n",
      "    class 1       1.00      0.60      0.75       252\n",
      "\n",
      "avg / total       0.97      0.97      0.97      3654\n",
      "\n"
     ]
    }
   ],
   "source": [
    "target_names = ['class 0', 'class 1']\n",
    "\n",
    "print(classification_report(y_test, Y_preds_cnn, target_names=target_names))"
   ]
  },
  {
   "cell_type": "code",
   "execution_count": 153,
   "metadata": {
    "collapsed": false
   },
   "outputs": [
    {
     "data": {
      "image/png": "[encoded data removed]",
      "text/plain": [
       "<matplotlib.figure.Figure at 0x7feb2c67c110>"
      ]
     },
     "metadata": {},
     "output_type": "display_data"
    }
   ],
   "source": [
    "#ROC curve\n",
    "# IMPORTANT: first argument is true values, second argument is predicted probabilities\n",
    "fpr1, tpr1, thresholds = metrics.roc_curve(y_test, Y_preds_prob_cnn[:,1])\n",
    "plt.plot(fpr1, tpr1, lw=2)\n",
    "plt.xlim([0.0, 1.0])\n",
    "plt.ylim([0.0, 1.0])\n",
    "plt.title('ROC curve',fontsize=14)\n",
    "plt.xlabel('False Positive Rate (1 - Specificity)',fontsize=14) #fontweight='bold'\n",
    "plt.ylabel('True Positive Rate (Sensitivity)',fontsize=14)\n",
    "plt.grid(True)\n",
    "\n",
    "plt.savefig('smartgrid_cnn1d_roc.png')\n",
    "\n",
    "#Y_logPred_prob = logReg.predict_proba(X_test)[:, 1]"
   ]
  },
  {
   "cell_type": "code",
   "execution_count": 154,
   "metadata": {
    "collapsed": false
   },
   "outputs": [
    {
     "name": "stdout",
     "output_type": "stream",
     "text": [
      "0.893839291547\n"
     ]
    }
   ],
   "source": [
    "print metrics.roc_auc_score(y_test, Y_preds_prob_cnn[:,1])"
   ]
  },
  {
   "cell_type": "code",
   "execution_count": 16,
   "metadata": {
    "collapsed": false
   },
   "outputs": [
    {
     "data": {
      "image/png": "[encoded data removed]",
      "text/plain": [
       "<matplotlib.figure.Figure at 0x7f1896849850>"
      ]
     },
     "metadata": {},
     "output_type": "display_data"
    }
   ],
   "source": [
    "X_tsne = TSNE(learning_rate=100).fit_transform(X)\n",
    "plt.scatter(X_tsne[:, 0], X_tsne[:, 1], c=Y1)\n",
    "\n",
    "plt.title('t-SNE embedding of the monthly loss',fontsize=14)\n",
    "plt.xlabel('Dimension 1',fontsize=14)\n",
    "plt.ylabel('Dimension 2',fontsize=14)\n",
    "plt.grid(True)\n",
    "plt.savefig('tsne_smartgrid.png')"
   ]
  },
  {
   "cell_type": "code",
   "execution_count": 51,
   "metadata": {
    "collapsed": false
   },
   "outputs": [],
   "source": [
    "#print X.shape, Y1.shape"
   ]
  },
  {
   "cell_type": "code",
   "execution_count": null,
   "metadata": {
    "collapsed": true
   },
   "outputs": [],
   "source": []
  },
  {
   "cell_type": "code",
   "execution_count": null,
   "metadata": {
    "collapsed": true
   },
   "outputs": [],
   "source": []
  },
  {
   "cell_type": "code",
   "execution_count": null,
   "metadata": {
    "collapsed": true
   },
   "outputs": [],
   "source": []
  },
  {
   "cell_type": "markdown",
   "metadata": {},
   "source": [
    "# Matlab scripts for reading the data(cell-array) and saving it into mat file.."
   ]
  },
  {
   "cell_type": "code",
   "execution_count": null,
   "metadata": {
    "collapsed": true
   },
   "outputs": [],
   "source": [
    "# %load mapPC2DemcliCol.m\n",
    "\n",
    "%Function mapping from Demcli Column to pc column.\n",
    "function pc_col = mapPC2DemcliCol(demcliCol)\n",
    "   \n",
    "   pc_col = 0;  \n",
    "   if(demcliCol == 1)\n",
    "      pc_col = 1;\n",
    "   end\n",
    "   if(demcliCol == 3)\n",
    "      pc_col = 2;\n",
    "   end\n",
    "   if(demcliCol == 5)\n",
    "      pc_col = 3;\n",
    "   end   \n",
    "end\n"
   ]
  },
  {
   "cell_type": "code",
   "execution_count": null,
   "metadata": {
    "collapsed": false
   },
   "outputs": [],
   "source": [
    "# %load smartgrid.m\n",
    "\n",
    "clear all;\n",
    "\n",
    "%files--> caso_I.mat, caso_II.mat, caso_III.mat, caso_base.mat\n",
    "%addpath ../data\n",
    "\n",
    "load data/caso_I.mat; %ccarga, demcli, pc\n",
    "\n",
    "nRows = size(demcli,1); %85\n",
    "nCols = size(demcli,2); %6\n",
    "\n",
    "isEmptyCell = cellfun(@isempty, demcli);%returns 0,1 matrix(85 by 6)\n",
    "\n",
    "[nCellRows, nCellCols] = cellfun(@size, demcli); %shape of individual cell\n",
    "totalRows = sum(cellfun(@length, demcli)(:)); %Total rows of cells\n",
    "totalCols = unique(nCellCols)(2);  %column of cell\n",
    "\n",
    "demcliMat =  []; %zeros(totalRows,totalCols); %Holder of the cell data.\n",
    "pc_col = 1;\n",
    "%iterate all the cell\n",
    "for i=1:nRows  %85\n",
    "  for j = 1:2:nCols %since 1,3,5 only contains data   \n",
    "    pc_col = mapPC2DemcliCol(j);  \n",
    "    %fprintf('%i\\n %i\\n %i\\n', i,j,pc_col);\n",
    "    if(!isEmptyCell(i,j))        \n",
    "        demcliMat = [demcliMat; demcli{i,j}, pc{i,pc_col}];\n",
    "    end       \n",
    "  end\n",
    "end\n",
    "\n",
    "%saves the file into demcliMat.mat in version 7. After version 7 file stored in hdf5\n",
    "%It can be open using h5py package in python.\n",
    "\n",
    "%save demcliMat.mat demcliMat -v7\n",
    "\n",
    "\n"
   ]
  },
  {
   "cell_type": "code",
   "execution_count": null,
   "metadata": {
    "collapsed": true
   },
   "outputs": [],
   "source": []
  }
 ],
 "metadata": {
  "kernelspec": {
   "display_name": "Python 2",
   "language": "python",
   "name": "python2"
  },
  "language_info": {
   "codemirror_mode": {
    "name": "ipython",
    "version": 2
   },
   "file_extension": ".py",
   "mimetype": "text/x-python",
   "name": "python",
   "nbconvert_exporter": "python",
   "pygments_lexer": "ipython2",
   "version": "2.7.11"
  }
 },
 "nbformat": 4,
 "nbformat_minor": 0
}
