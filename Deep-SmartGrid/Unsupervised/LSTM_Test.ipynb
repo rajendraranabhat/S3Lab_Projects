{
 "cells": [
  {
   "cell_type": "code",
   "execution_count": 1,
   "metadata": {
    "collapsed": false
   },
   "outputs": [
    {
     "name": "stderr",
     "output_type": "stream",
     "text": [
      "Using gpu device 0: GeForce GTX 650 Ti (CNMeM is disabled, cuDNN 4007)\n",
      "/home/rahul/anaconda2/lib/python2.7/site-packages/theano/tensor/signal/downsample.py:6: UserWarning: downsample module has been moved to the theano.tensor.signal.pool module.\n",
      "  \"downsample module has been moved to the theano.tensor.signal.pool module.\")\n",
      "Using Theano backend.\n"
     ]
    },
    {
     "name": "stdout",
     "output_type": "stream",
     "text": [
      "All imports done\n",
      "<type 'dict'>\n",
      "(12180, 13)\n",
      "[[ 343.33881535  292.94608369  317.56346931 ...,    0.            0.            2.        ]\n",
      " [ 229.55690517  183.19172676    0.         ...,    0.            0.            2.        ]\n",
      " [ 106.98249046   79.89465389   60.93378272 ...,   50.91543646\n",
      "    44.87156581    1.        ]\n",
      " ..., \n",
      " [ 232.28249497  135.43054     200.91859872 ...,  187.78214091\n",
      "   191.41443704    0.        ]\n",
      " [ 239.19601078  206.37272444  174.6964434  ...,  297.67230497\n",
      "   202.62736538    0.        ]\n",
      " [ 277.38010202  209.01016123  277.00169283 ...,  146.70298371\n",
      "   309.63963308    0.        ]]\n",
      "Example:\n",
      "[ 229.55690517  183.19172676    0.            0.            0.            0.\n",
      "    0.            0.            0.            0.            0.            0.\n",
      "    2.        ]\n",
      "(12180, 12) (12180,)\n",
      "(12180,)\n",
      "(8526, 12) (8526,) (3654, 12) (3654,)\n",
      "(8526, 12, 1) (3654, 12, 1)\n",
      "(8526, 'train samples')\n",
      "(3654, 'test samples')\n",
      "Sets made\n"
     ]
    },
    {
     "name": "stderr",
     "output_type": "stream",
     "text": [
      "/home/rahul/anaconda2/lib/python2.7/site-packages/keras/utils/np_utils.py:16: VisibleDeprecationWarning: using a non-integer number instead of an integer will result in an error in the future\n",
      "  Y[i, y[i]] = 1.\n"
     ]
    }
   ],
   "source": [
    "import scipy.io as scpy\n",
    "import numpy as np\n",
    "import pandas as pd\n",
    "import matplotlib.pyplot as plt\n",
    "import pandas as pd\n",
    "from sklearn.neighbors import KNeighborsClassifier\n",
    "from sklearn.linear_model import LogisticRegression\n",
    "from sklearn.ensemble import RandomForestClassifier\n",
    "from sklearn.cross_validation import cross_val_score\n",
    "from sklearn import metrics\n",
    "from sklearn import tree\n",
    "from sklearn.cross_validation import train_test_split\n",
    "from sklearn.metrics import confusion_matrix, roc_curve, auc, classification_report\n",
    "from sklearn.grid_search import GridSearchCV\n",
    "from sklearn import svm\n",
    "from sklearn.manifold import TSNE\n",
    "import scipy.optimize as opt\n",
    "import glob\n",
    "import sys\n",
    "import os\n",
    "import theano.tensor as T\n",
    "from theano import function\n",
    "from theano import shared\n",
    "import theano\n",
    "from theano.tensor.signal import downsample\n",
    "from theano.tensor.nnet import conv\n",
    "\n",
    "#np.random.seed(1337)  # for reproducibility\n",
    "from keras.datasets import mnist\n",
    "from keras.models import Sequential\n",
    "from keras.layers import Input, Dense\n",
    "from keras.models import Model\n",
    "from keras.layers.core import Dense, Dropout, Activation, Flatten, Layer, Reshape, Merge #,AutoEncoder\n",
    "from keras.layers.convolutional import Convolution2D,MaxPooling2D,Convolution1D,MaxPooling1D,UpSampling2D, ZeroPadding2D\n",
    "from keras.optimizers import SGD, Adam, RMSprop, Adadelta\n",
    "from keras.layers.normalization import BatchNormalization\n",
    "from keras.utils import np_utils\n",
    "#import keras.utils.visualize_util as vutil #Pydot issues\n",
    "from keras.layers.recurrent import LSTM, GRU, SimpleRNN\n",
    "from keras.regularizers import l1, l2, l1l2, activity_l2, activity_l1\n",
    "#import keras.layers.containers as containers  #No module named containers\n",
    "from keras.layers.noise import GaussianNoise\n",
    "from keras.regularizers import ActivityRegularizer\n",
    "from keras import backend as K\n",
    "#import keras.utils.visualize_util as vutil\n",
    "from keras.models import model_from_json\n",
    "#from keras.utils.visualize_util import plot, to_graph\n",
    "\n",
    "from IPython.display import SVG\n",
    "\n",
    "np.set_printoptions(suppress=True)  #Supress exponent of the number 2e-2 == 0.02\n",
    "\n",
    "%matplotlib inline\n",
    "print(\"All imports done\")\n",
    "\n",
    "\n",
    "#Ref: http://deeplearning.net/, https://www.kaggle.com/wiki/Tutorials etc..\n",
    "\n",
    "#caso_I.mat, caso_II.mat, caso_III.mat, caso_base.mat, consumer_data.xlsx\n",
    "\n",
    "#print(os.getcwd() + \"\\n\")\n",
    "#print os.listdir(os.getcwd())\n",
    "dataSmartGrid = scpy.loadmat('demcliMat.mat')\n",
    "print type(dataSmartGrid)\n",
    "\n",
    "data = dataSmartGrid['demcliMat']\n",
    "print data.shape\n",
    "print data\n",
    "print(\"Example:\")\n",
    "print data[1]\n",
    "\n",
    "np.unique(data[:,-1:])\n",
    "\n",
    "X = data[:,0:-1]\n",
    "Y = data[:,-1]\n",
    "\n",
    "print X.shape, Y.shape\n",
    "\n",
    "#print X.shape\n",
    "Y1 = Y\n",
    "Y1[Y1==2] = 1\n",
    "print Y1.shape\n",
    "\n",
    "np.unique(Y1)\n",
    "\n",
    "#print data[0:5,:]\n",
    "#print data[0:5,0:-1]\n",
    "#print data[0:5,-1]\n",
    "\n",
    "\n",
    "#print X\n",
    "#print Y\n",
    "#Splitting data into train and testing. 70% Training and 30% Testing..\n",
    "X_train, X_test, y_train, y_test = train_test_split(X, Y1, test_size=0.3, random_state=4)\n",
    "\n",
    "print X_train.shape, y_train.shape, X_test.shape, y_test.shape\n",
    "#print numpy.unique(Y_test)\n",
    "\n",
    "X_train_1 = X_train.reshape(8526,12,1)\n",
    "X_test_1 = X_test.reshape(3654,12,1)\n",
    "\n",
    "print X_train_1.shape, X_test_1.shape \n",
    "\n",
    "X_train = X_train.astype('float32')\n",
    "X_test = X_test.astype('float32')\n",
    "print(X_train.shape[0], 'train samples')\n",
    "print(X_test.shape[0], 'test samples')\n",
    "\n",
    "\n",
    "\n",
    "\n",
    "# convert class vectors to binary class matrices\n",
    "Y_train = np_utils.to_categorical(y_train, 2)\n",
    "Y_test = np_utils.to_categorical(y_test, 2)\n",
    "\n",
    "Y_train = Y_train.astype('int')\n",
    "Y_test = Y_test.astype('int')\n",
    "\n",
    "print(\"Sets made\")\n",
    "\n",
    "rms = RMSprop()"
   ]
  },
  {
   "cell_type": "code",
   "execution_count": 1,
   "metadata": {
    "collapsed": true
   },
   "outputs": [],
   "source": [
    "#################################################################"
   ]
  },
  {
   "cell_type": "code",
   "execution_count": null,
   "metadata": {
    "collapsed": false
   },
   "outputs": [],
   "source": []
  },
  {
   "cell_type": "code",
   "execution_count": null,
   "metadata": {
    "collapsed": true
   },
   "outputs": [],
   "source": []
  },
  {
   "cell_type": "code",
   "execution_count": null,
   "metadata": {
    "collapsed": true
   },
   "outputs": [],
   "source": []
  },
  {
   "cell_type": "code",
   "execution_count": 2,
   "metadata": {
    "collapsed": true
   },
   "outputs": [],
   "source": [
    "##################################################################"
   ]
  },
  {
   "cell_type": "code",
   "execution_count": 23,
   "metadata": {
    "collapsed": false
   },
   "outputs": [
    {
     "name": "stdout",
     "output_type": "stream",
     "text": [
      "Train on 8526 samples, validate on 3654 samples\n",
      "Epoch 1/100\n",
      "8526/8526 [==============================] - 8s - loss: 0.1751 - acc: 0.9543 - val_loss: 0.1419 - val_acc: 0.9661\n",
      "Epoch 2/100\n",
      "8526/8526 [==============================] - 8s - loss: 0.1509 - acc: 0.9645 - val_loss: 0.1322 - val_acc: 0.9699\n",
      "Epoch 3/100\n",
      "8526/8526 [==============================] - 8s - loss: 0.1473 - acc: 0.9656 - val_loss: 0.1297 - val_acc: 0.9699\n",
      "Epoch 4/100\n",
      "8526/8526 [==============================] - 8s - loss: 0.1469 - acc: 0.9654 - val_loss: 0.1303 - val_acc: 0.9699\n",
      "Epoch 5/100\n",
      "8526/8526 [==============================] - 9s - loss: 0.1431 - acc: 0.9656 - val_loss: 0.1285 - val_acc: 0.9699\n",
      "Epoch 6/100\n",
      "8526/8526 [==============================] - 9s - loss: 0.1407 - acc: 0.9658 - val_loss: 0.1255 - val_acc: 0.9699\n",
      "Epoch 7/100\n",
      "8526/8526 [==============================] - 9s - loss: 0.1436 - acc: 0.9658 - val_loss: 0.1280 - val_acc: 0.9699\n",
      "Epoch 8/100\n",
      "8526/8526 [==============================] - 9s - loss: 0.1390 - acc: 0.9660 - val_loss: 0.1263 - val_acc: 0.9699\n",
      "Epoch 9/100\n",
      "8526/8526 [==============================] - 9s - loss: 0.1392 - acc: 0.9659 - val_loss: 0.1279 - val_acc: 0.9702\n",
      "Epoch 10/100\n",
      "8526/8526 [==============================] - 9s - loss: 0.1397 - acc: 0.9663 - val_loss: 0.1207 - val_acc: 0.9707\n",
      "Epoch 11/100\n",
      "8526/8526 [==============================] - 9s - loss: 0.1366 - acc: 0.9669 - val_loss: 0.1279 - val_acc: 0.9699\n",
      "Epoch 12/100\n",
      "8526/8526 [==============================] - 9s - loss: 0.1355 - acc: 0.9667 - val_loss: 0.1206 - val_acc: 0.9707\n",
      "Epoch 13/100\n",
      "8526/8526 [==============================] - 9s - loss: 0.1357 - acc: 0.9668 - val_loss: 0.1236 - val_acc: 0.9702\n",
      "Epoch 14/100\n",
      "8526/8526 [==============================] - 8s - loss: 0.1361 - acc: 0.9669 - val_loss: 0.1252 - val_acc: 0.9699\n",
      "Epoch 15/100\n",
      "8526/8526 [==============================] - 8s - loss: 0.1370 - acc: 0.9670 - val_loss: 0.1208 - val_acc: 0.9704\n",
      "Epoch 16/100\n",
      "8526/8526 [==============================] - 8s - loss: 0.1352 - acc: 0.9667 - val_loss: 0.1210 - val_acc: 0.9702\n",
      "Epoch 17/100\n",
      "8526/8526 [==============================] - 9s - loss: 0.1340 - acc: 0.9674 - val_loss: 0.1253 - val_acc: 0.9702\n",
      "Epoch 18/100\n",
      "8526/8526 [==============================] - 9s - loss: 0.1332 - acc: 0.9672 - val_loss: 0.1271 - val_acc: 0.9699\n",
      "Epoch 19/100\n",
      "8526/8526 [==============================] - 9s - loss: 0.1348 - acc: 0.9670 - val_loss: 0.1202 - val_acc: 0.9696\n",
      "Epoch 20/100\n",
      "8526/8526 [==============================] - 9s - loss: 0.1358 - acc: 0.9661 - val_loss: 0.1211 - val_acc: 0.9713\n",
      "Epoch 21/100\n",
      "8526/8526 [==============================] - 9s - loss: 0.1333 - acc: 0.9665 - val_loss: 0.1257 - val_acc: 0.9699\n",
      "Epoch 22/100\n",
      "8526/8526 [==============================] - 9s - loss: 0.1334 - acc: 0.9665 - val_loss: 0.1201 - val_acc: 0.9699\n",
      "Epoch 23/100\n",
      "8526/8526 [==============================] - 9s - loss: 0.1355 - acc: 0.9658 - val_loss: 0.1204 - val_acc: 0.9699\n",
      "Epoch 24/100\n",
      "8526/8526 [==============================] - 9s - loss: 0.1352 - acc: 0.9660 - val_loss: 0.1250 - val_acc: 0.9707\n",
      "Epoch 25/100\n",
      "8526/8526 [==============================] - 9s - loss: 0.1330 - acc: 0.9672 - val_loss: 0.1180 - val_acc: 0.9707\n",
      "Epoch 26/100\n",
      "8526/8526 [==============================] - 9s - loss: 0.1334 - acc: 0.9672 - val_loss: 0.1212 - val_acc: 0.9696\n",
      "Epoch 27/100\n",
      "8526/8526 [==============================] - 9s - loss: 0.1303 - acc: 0.9669 - val_loss: 0.1263 - val_acc: 0.9699\n",
      "Epoch 28/100\n",
      "8526/8526 [==============================] - 9s - loss: 0.1338 - acc: 0.9661 - val_loss: 0.1220 - val_acc: 0.9704\n",
      "Epoch 29/100\n",
      "8526/8526 [==============================] - 9s - loss: 0.1334 - acc: 0.9676 - val_loss: 0.1204 - val_acc: 0.9704\n",
      "Epoch 30/100\n",
      "8526/8526 [==============================] - 9s - loss: 0.1335 - acc: 0.9677 - val_loss: 0.1191 - val_acc: 0.9710\n",
      "Epoch 31/100\n",
      "8526/8526 [==============================] - 9s - loss: 0.1319 - acc: 0.9667 - val_loss: 0.1213 - val_acc: 0.9696\n",
      "Epoch 32/100\n",
      "8526/8526 [==============================] - 9s - loss: 0.1301 - acc: 0.9675 - val_loss: 0.1300 - val_acc: 0.9699\n",
      "Epoch 33/100\n",
      "8526/8526 [==============================] - 9s - loss: 0.1318 - acc: 0.9677 - val_loss: 0.1233 - val_acc: 0.9699\n",
      "Epoch 34/100\n",
      "8526/8526 [==============================] - 9s - loss: 0.1336 - acc: 0.9674 - val_loss: 0.1227 - val_acc: 0.9693\n",
      "Epoch 35/100\n",
      "8526/8526 [==============================] - 9s - loss: 0.1322 - acc: 0.9668 - val_loss: 0.1208 - val_acc: 0.9710\n",
      "Epoch 36/100\n",
      "8526/8526 [==============================] - 9s - loss: 0.1323 - acc: 0.9674 - val_loss: 0.1218 - val_acc: 0.9696\n",
      "Epoch 37/100\n",
      "8526/8526 [==============================] - 9s - loss: 0.1322 - acc: 0.9674 - val_loss: 0.1457 - val_acc: 0.9584\n",
      "Epoch 38/100\n",
      "8526/8526 [==============================] - 9s - loss: 0.1322 - acc: 0.9668 - val_loss: 0.1173 - val_acc: 0.9721\n",
      "Epoch 39/100\n",
      "8526/8526 [==============================] - 9s - loss: 0.1320 - acc: 0.9669 - val_loss: 0.1206 - val_acc: 0.9702\n",
      "Epoch 40/100\n",
      "8526/8526 [==============================] - 9s - loss: 0.1302 - acc: 0.9677 - val_loss: 0.1259 - val_acc: 0.9677\n",
      "Epoch 41/100\n",
      "8526/8526 [==============================] - 9s - loss: 0.1296 - acc: 0.9675 - val_loss: 0.1196 - val_acc: 0.9696\n",
      "Epoch 42/100\n",
      "8526/8526 [==============================] - 9s - loss: 0.1306 - acc: 0.9667 - val_loss: 0.1197 - val_acc: 0.9710\n",
      "Epoch 43/100\n",
      "8526/8526 [==============================] - 9s - loss: 0.1300 - acc: 0.9675 - val_loss: 0.1207 - val_acc: 0.9707\n",
      "Epoch 44/100\n",
      "8526/8526 [==============================] - 9s - loss: 0.1309 - acc: 0.9669 - val_loss: 0.1176 - val_acc: 0.9710\n",
      "Epoch 45/100\n",
      "8526/8526 [==============================] - 9s - loss: 0.1294 - acc: 0.9675 - val_loss: 0.1214 - val_acc: 0.9699\n",
      "Epoch 46/100\n",
      "8526/8526 [==============================] - 9s - loss: 0.1288 - acc: 0.9676 - val_loss: 0.1266 - val_acc: 0.9680\n",
      "Epoch 47/100\n",
      "8526/8526 [==============================] - 9s - loss: 0.1288 - acc: 0.9682 - val_loss: 0.1181 - val_acc: 0.9710\n",
      "Epoch 48/100\n",
      "8526/8526 [==============================] - 8s - loss: 0.1272 - acc: 0.9679 - val_loss: 0.1163 - val_acc: 0.9710\n",
      "Epoch 49/100\n",
      "8526/8526 [==============================] - 8s - loss: 0.1302 - acc: 0.9676 - val_loss: 0.1186 - val_acc: 0.9713\n",
      "Epoch 50/100\n",
      "8526/8526 [==============================] - 8s - loss: 0.1288 - acc: 0.9680 - val_loss: 0.1152 - val_acc: 0.9713\n",
      "Epoch 51/100\n",
      "8526/8526 [==============================] - 8s - loss: 0.1292 - acc: 0.9676 - val_loss: 0.1199 - val_acc: 0.9704\n",
      "Epoch 52/100\n",
      "8526/8526 [==============================] - 8s - loss: 0.1283 - acc: 0.9673 - val_loss: 0.1196 - val_acc: 0.9702\n",
      "Epoch 53/100\n",
      "8526/8526 [==============================] - 8s - loss: 0.1274 - acc: 0.9665 - val_loss: 0.1256 - val_acc: 0.9672\n",
      "Epoch 54/100\n",
      "8526/8526 [==============================] - 8s - loss: 0.1286 - acc: 0.9679 - val_loss: 0.1165 - val_acc: 0.9713\n",
      "Epoch 55/100\n",
      "8526/8526 [==============================] - 8s - loss: 0.1265 - acc: 0.9682 - val_loss: 0.1343 - val_acc: 0.9650\n",
      "Epoch 56/100\n",
      "8526/8526 [==============================] - 8s - loss: 0.1278 - acc: 0.9670 - val_loss: 0.1190 - val_acc: 0.9707\n",
      "Epoch 57/100\n",
      "8526/8526 [==============================] - 8s - loss: 0.1294 - acc: 0.9675 - val_loss: 0.1141 - val_acc: 0.9713\n",
      "Epoch 58/100\n",
      "8526/8526 [==============================] - 8s - loss: 0.1283 - acc: 0.9680 - val_loss: 0.1187 - val_acc: 0.9710\n",
      "Epoch 59/100\n",
      "8526/8526 [==============================] - 8s - loss: 0.1285 - acc: 0.9675 - val_loss: 0.1172 - val_acc: 0.9715\n",
      "Epoch 60/100\n",
      "8526/8526 [==============================] - 8s - loss: 0.1263 - acc: 0.9686 - val_loss: 0.1213 - val_acc: 0.9704\n",
      "Epoch 61/100\n",
      "8526/8526 [==============================] - 8s - loss: 0.1254 - acc: 0.9683 - val_loss: 0.1201 - val_acc: 0.9707\n",
      "Epoch 62/100\n",
      "8526/8526 [==============================] - 8s - loss: 0.1282 - acc: 0.9669 - val_loss: 0.1177 - val_acc: 0.9704\n",
      "Epoch 63/100\n",
      "8526/8526 [==============================] - 8s - loss: 0.1257 - acc: 0.9677 - val_loss: 0.1193 - val_acc: 0.9707\n",
      "Epoch 64/100\n",
      "8526/8526 [==============================] - 8s - loss: 0.1271 - acc: 0.9682 - val_loss: 0.1171 - val_acc: 0.9710\n",
      "Epoch 65/100\n",
      "8526/8526 [==============================] - 8s - loss: 0.1265 - acc: 0.9672 - val_loss: 0.1182 - val_acc: 0.9702\n",
      "Epoch 66/100\n",
      "8526/8526 [==============================] - 8s - loss: 0.1251 - acc: 0.9686 - val_loss: 0.1136 - val_acc: 0.9721\n",
      "Epoch 67/100\n",
      "8526/8526 [==============================] - 9s - loss: 0.1281 - acc: 0.9683 - val_loss: 0.1170 - val_acc: 0.9713\n",
      "Epoch 68/100\n",
      "8526/8526 [==============================] - 9s - loss: 0.1245 - acc: 0.9682 - val_loss: 0.1192 - val_acc: 0.9710\n",
      "Epoch 69/100\n",
      "8526/8526 [==============================] - 9s - loss: 0.1264 - acc: 0.9688 - val_loss: 0.1195 - val_acc: 0.9704\n",
      "Epoch 70/100\n",
      "8526/8526 [==============================] - 9s - loss: 0.1269 - acc: 0.9686 - val_loss: 0.1184 - val_acc: 0.9718\n",
      "Epoch 71/100\n",
      "8526/8526 [==============================] - 8s - loss: 0.1263 - acc: 0.9683 - val_loss: 0.1216 - val_acc: 0.9699\n",
      "Epoch 72/100\n",
      "8526/8526 [==============================] - 9s - loss: 0.1258 - acc: 0.9688 - val_loss: 0.1176 - val_acc: 0.9713\n",
      "Epoch 73/100\n",
      "8526/8526 [==============================] - 9s - loss: 0.1256 - acc: 0.9690 - val_loss: 0.1186 - val_acc: 0.9715\n",
      "Epoch 74/100\n",
      "8526/8526 [==============================] - 9s - loss: 0.1255 - acc: 0.9686 - val_loss: 0.1214 - val_acc: 0.9710\n",
      "Epoch 75/100\n",
      "8526/8526 [==============================] - 9s - loss: 0.1252 - acc: 0.9686 - val_loss: 0.1187 - val_acc: 0.9699\n",
      "Epoch 76/100\n",
      "8526/8526 [==============================] - 9s - loss: 0.1249 - acc: 0.9687 - val_loss: 0.1178 - val_acc: 0.9715\n",
      "Epoch 77/100\n",
      "8526/8526 [==============================] - 9s - loss: 0.1238 - acc: 0.9688 - val_loss: 0.1155 - val_acc: 0.9715\n",
      "Epoch 78/100\n",
      "8526/8526 [==============================] - 9s - loss: 0.1264 - acc: 0.9675 - val_loss: 0.1147 - val_acc: 0.9713\n",
      "Epoch 79/100\n",
      "8526/8526 [==============================] - 9s - loss: 0.1252 - acc: 0.9694 - val_loss: 0.1194 - val_acc: 0.9713\n",
      "Epoch 80/100\n",
      "8526/8526 [==============================] - 9s - loss: 0.1241 - acc: 0.9688 - val_loss: 0.1172 - val_acc: 0.9718\n",
      "Epoch 81/100\n",
      "8526/8526 [==============================] - 9s - loss: 0.1262 - acc: 0.9680 - val_loss: 0.1183 - val_acc: 0.9715\n",
      "Epoch 82/100\n",
      "8526/8526 [==============================] - 9s - loss: 0.1253 - acc: 0.9679 - val_loss: 0.1232 - val_acc: 0.9707\n",
      "Epoch 83/100\n",
      "8526/8526 [==============================] - 9s - loss: 0.1248 - acc: 0.9683 - val_loss: 0.1204 - val_acc: 0.9710\n",
      "Epoch 84/100\n",
      "8526/8526 [==============================] - 9s - loss: 0.1258 - acc: 0.9682 - val_loss: 0.1193 - val_acc: 0.9715\n",
      "Epoch 85/100\n",
      "8526/8526 [==============================] - 9s - loss: 0.1240 - acc: 0.9686 - val_loss: 0.1167 - val_acc: 0.9718\n",
      "Epoch 86/100\n",
      "8526/8526 [==============================] - 9s - loss: 0.1236 - acc: 0.9689 - val_loss: 0.1218 - val_acc: 0.9710\n",
      "Epoch 87/100\n",
      "8526/8526 [==============================] - 9s - loss: 0.1246 - acc: 0.9694 - val_loss: 0.1187 - val_acc: 0.9715\n",
      "Epoch 88/100\n",
      "8526/8526 [==============================] - 9s - loss: 0.1233 - acc: 0.9682 - val_loss: 0.1218 - val_acc: 0.9718\n",
      "Epoch 89/100\n",
      "8526/8526 [==============================] - 9s - loss: 0.1223 - acc: 0.9702 - val_loss: 0.1212 - val_acc: 0.9704\n",
      "Epoch 90/100\n",
      "8526/8526 [==============================] - 9s - loss: 0.1234 - acc: 0.9693 - val_loss: 0.1184 - val_acc: 0.9715\n",
      "Epoch 91/100\n",
      "8526/8526 [==============================] - 9s - loss: 0.1248 - acc: 0.9690 - val_loss: 0.1180 - val_acc: 0.9715\n",
      "Epoch 92/100\n",
      "8526/8526 [==============================] - 9s - loss: 0.1237 - acc: 0.9688 - val_loss: 0.1164 - val_acc: 0.9718\n",
      "Epoch 93/100\n",
      "8526/8526 [==============================] - 9s - loss: 0.1225 - acc: 0.9693 - val_loss: 0.1190 - val_acc: 0.9710\n",
      "Epoch 94/100\n",
      "8526/8526 [==============================] - 9s - loss: 0.1232 - acc: 0.9692 - val_loss: 0.1167 - val_acc: 0.9721\n",
      "Epoch 95/100\n",
      "8526/8526 [==============================] - 8s - loss: 0.1239 - acc: 0.9687 - val_loss: 0.1177 - val_acc: 0.9715\n",
      "Epoch 96/100\n",
      "8526/8526 [==============================] - 8s - loss: 0.1229 - acc: 0.9694 - val_loss: 0.1174 - val_acc: 0.9713\n",
      "Epoch 97/100\n",
      "8526/8526 [==============================] - 8s - loss: 0.1242 - acc: 0.9684 - val_loss: 0.1201 - val_acc: 0.9710\n",
      "Epoch 98/100\n",
      "8526/8526 [==============================] - 8s - loss: 0.1235 - acc: 0.9695 - val_loss: 0.1151 - val_acc: 0.9724\n",
      "Epoch 99/100\n",
      "8526/8526 [==============================] - 8s - loss: 0.1252 - acc: 0.9686 - val_loss: 0.1199 - val_acc: 0.9715\n",
      "Epoch 100/100\n",
      "8526/8526 [==============================] - 8s - loss: 0.1243 - acc: 0.9687 - val_loss: 0.1243 - val_acc: 0.9677\n"
     ]
    },
    {
     "data": {
      "text/plain": [
       "<keras.callbacks.History at 0x7f08a44fffd0>"
      ]
     },
     "execution_count": 23,
     "metadata": {},
     "output_type": "execute_result"
    }
   ],
   "source": [
    "rms = RMSprop()\n",
    "\n",
    "\n",
    "model = Sequential()\n",
    "model.add(LSTM(64, return_sequences=True,\n",
    "               input_shape = (12 , 1) )  ) # returns a sequence of vectors of dimension 32\n",
    "model.add(Dropout(.25))\n",
    "model.add(LSTM(64, return_sequences=True))  # returns a sequence of vectors of dimension 32\n",
    "model.add(Dropout(.25))\n",
    "model.add(LSTM(64))  # return a single vector of dimension 32\n",
    "model.add(Dense(2, activation='softmax'))\n",
    "\n",
    "model.compile(loss='binary_crossentropy', optimizer=rms, metrics=[\"accuracy\"] )\n",
    "\n",
    "model.fit(X_train_1, Y_train,\n",
    "          batch_size=64, nb_epoch=100,\n",
    "          validation_data=(X_test_1, Y_test))"
   ]
  },
  {
   "cell_type": "code",
   "execution_count": null,
   "metadata": {
    "collapsed": true
   },
   "outputs": [],
   "source": [
    "#############################"
   ]
  },
  {
   "cell_type": "code",
   "execution_count": null,
   "metadata": {
    "collapsed": true
   },
   "outputs": [],
   "source": []
  },
  {
   "cell_type": "code",
   "execution_count": 29,
   "metadata": {
    "collapsed": false
   },
   "outputs": [
    {
     "name": "stdout",
     "output_type": "stream",
     "text": [
      "[0 0 0 ..., 0 0 0]\n"
     ]
    }
   ],
   "source": [
    "Y_preds_lstm = model.predict_classes(X_test_1, verbose=0)\n",
    "print(Y_preds_lstm)"
   ]
  },
  {
   "cell_type": "code",
   "execution_count": 30,
   "metadata": {
    "collapsed": false
   },
   "outputs": [
    {
     "name": "stdout",
     "output_type": "stream",
     "text": [
      "[[3378   24]\n",
      " [  94  158]]\n"
     ]
    }
   ],
   "source": [
    "#Confusion matrix of logistic regression\n",
    "conf = metrics.confusion_matrix(y_test,Y_preds_lstm)\n",
    "#plt.imshow(conf)\n",
    "print conf"
   ]
  },
  {
   "cell_type": "code",
   "execution_count": 31,
   "metadata": {
    "collapsed": false
   },
   "outputs": [
    {
     "name": "stdout",
     "output_type": "stream",
     "text": [
      "             precision    recall  f1-score   support\n",
      "\n",
      "    class 0       0.97      0.99      0.98      3402\n",
      "    class 1       0.87      0.63      0.73       252\n",
      "\n",
      "avg / total       0.97      0.97      0.97      3654\n",
      "\n"
     ]
    }
   ],
   "source": [
    "target_names = ['class 0', 'class 1']\n",
    "\n",
    "print(classification_report(y_test, Y_preds_lstm, target_names=target_names))"
   ]
  },
  {
   "cell_type": "code",
   "execution_count": null,
   "metadata": {
    "collapsed": true
   },
   "outputs": [],
   "source": []
  }
 ],
 "metadata": {
  "kernelspec": {
   "display_name": "Python 2",
   "language": "python",
   "name": "python2"
  },
  "language_info": {
   "codemirror_mode": {
    "name": "ipython",
    "version": 2
   },
   "file_extension": ".py",
   "mimetype": "text/x-python",
   "name": "python",
   "nbconvert_exporter": "python",
   "pygments_lexer": "ipython2",
   "version": "2.7.11"
  }
 },
 "nbformat": 4,
 "nbformat_minor": 0
}
