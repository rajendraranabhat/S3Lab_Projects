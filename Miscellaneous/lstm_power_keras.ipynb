{
 "cells": [
  {
   "cell_type": "code",
   "execution_count": 1,
   "metadata": {
    "collapsed": true
   },
   "outputs": [],
   "source": [
    "#Power System Lstm keras"
   ]
  },
  {
   "cell_type": "code",
   "execution_count": 3,
   "metadata": {
    "collapsed": false
   },
   "outputs": [],
   "source": [
    "import matplotlib.pyplot as plt\n",
    "import numpy as np\n",
    "import time\n",
    "import csv\n",
    "from keras.layers.core import Dense, Activation, Dropout\n",
    "from keras.layers.recurrent import LSTM\n",
    "from keras.models import Sequential\n",
    "%matplotlib inline\n",
    "np.random.seed(1234)"
   ]
  },
  {
   "cell_type": "code",
   "execution_count": 27,
   "metadata": {
    "collapsed": true
   },
   "outputs": [],
   "source": [
    "def data_power_consumption(path_to_dataset,\n",
    "                           sequence_length=50,\n",
    "                           ratio=1.0):\n",
    "\n",
    "    max_values = ratio * 2049280\n",
    "\n",
    "    with open(path_to_dataset) as f:\n",
    "        data = csv.reader(f, delimiter=\";\")\n",
    "        power = []\n",
    "        nb_of_values = 0\n",
    "        for line in data:\n",
    "            try:\n",
    "                power.append(float(line[2]))\n",
    "                nb_of_values += 1\n",
    "            except ValueError:\n",
    "                pass\n",
    "            # 2049280.0 is the total number of valid values, i.e. ratio = 1.0\n",
    "            if nb_of_values >= max_values:\n",
    "                break\n",
    "\n",
    "    print \"Data loaded from csv. Formatting...\"\n",
    "    #print power\n",
    "    \n",
    "    result = []\n",
    "    for index in range(len(power) - sequence_length):\n",
    "        result.append(power[index: index + sequence_length])\n",
    "    result = np.array(result)  # shape (2049230, 50)\n",
    "\n",
    "    #print result\n",
    "    \n",
    "    result_mean = result.mean()\n",
    "    result -= result_mean\n",
    "    print \"Shift : \", result_mean\n",
    "    print \"Data  : \", result.shape\n",
    "    \n",
    "    #print result\n",
    "    row = round(0.9 * result.shape[0])\n",
    "    #print row\n",
    "    train = result[:row, :]\n",
    "    np.random.shuffle(train)\n",
    "    X_train = train[:, :-1]\n",
    "    y_train = train[:, -1]\n",
    "    X_test = result[row:, :-1]\n",
    "    y_test = result[row:, -1]\n",
    "\n",
    "    X_train = np.reshape(X_train, (X_train.shape[0], X_train.shape[1], 1))\n",
    "    X_test = np.reshape(X_test, (X_test.shape[0], X_test.shape[1], 1))\n",
    "\n",
    "    return [X_train, y_train, X_test, y_test]\n"
   ]
  },
  {
   "cell_type": "code",
   "execution_count": 19,
   "metadata": {
    "collapsed": false
   },
   "outputs": [
    {
     "name": "stdout",
     "output_type": "stream",
     "text": [
      "Data loaded from csv. Formatting...\n",
      "[4.216, 5.36, 5.374, 5.388, 3.666, 3.52, 3.702, 3.7, 3.668]\n",
      "[[ 4.216  5.36   5.374  5.388  3.666]\n",
      " [ 5.36   5.374  5.388  3.666  3.52 ]\n",
      " [ 5.374  5.388  3.666  3.52   3.702]\n",
      " [ 5.388  3.666  3.52   3.702  3.7  ]]\n",
      "Shift :  4.4469\n",
      "Data  :  (4, 5)\n",
      "[[-0.2309  0.9131  0.9271  0.9411 -0.7809]\n",
      " [ 0.9131  0.9271  0.9411 -0.7809 -0.9269]\n",
      " [ 0.9271  0.9411 -0.7809 -0.9269 -0.7449]\n",
      " [ 0.9411 -0.7809 -0.9269 -0.7449 -0.7469]]\n",
      "4.0\n"
     ]
    },
    {
     "name": "stderr",
     "output_type": "stream",
     "text": [
      "/usr/local/lib/python2.7/dist-packages/ipykernel/__main__.py:39: DeprecationWarning: using a non-integer number instead of an integer will result in an error in the future\n",
      "/usr/local/lib/python2.7/dist-packages/ipykernel/__main__.py:43: DeprecationWarning: using a non-integer number instead of an integer will result in an error in the future\n",
      "/usr/local/lib/python2.7/dist-packages/ipykernel/__main__.py:44: DeprecationWarning: using a non-integer number instead of an integer will result in an error in the future\n"
     ]
    }
   ],
   "source": [
    "X_train, y_train, X_test, y_test = data_power_consumption(\n",
    "            path_to_dataset='household_power_consumption_short.txt', sequence_length=5, ratio=0.5)"
   ]
  },
  {
   "cell_type": "code",
   "execution_count": 22,
   "metadata": {
    "collapsed": false
   },
   "outputs": [
    {
     "name": "stdout",
     "output_type": "stream",
     "text": [
      "[[[-0.2309]\n",
      "  [ 0.9131]\n",
      "  [ 0.9271]\n",
      "  [ 0.9411]]\n",
      "\n",
      " [[ 0.9271]\n",
      "  [ 0.9411]\n",
      "  [-0.7809]\n",
      "  [-0.9269]]\n",
      "\n",
      " [[ 0.9411]\n",
      "  [-0.7809]\n",
      "  [-0.9269]\n",
      "  [-0.7449]]\n",
      "\n",
      " [[ 0.9131]\n",
      "  [ 0.9271]\n",
      "  [ 0.9411]\n",
      "  [-0.7809]]]\n",
      "[-0.7809 -0.7449 -0.7469 -0.9269]\n"
     ]
    }
   ],
   "source": [
    "print X_train\n",
    "print y_train"
   ]
  },
  {
   "cell_type": "markdown",
   "metadata": {},
   "source": [
    "Here keras LSTM model is used. First model uses input_dim of 1(as input is 1 dimension) and output of 50, with return_sequence=True. This return_sequence as True makes sure the sequence runs within itself and ouput the processed sequence to higher level. Whereas the next LSTM has 100 size with return_sequences=False, which act as many to one network. It takes prediction from below layer and instead output prediction(in this case pass to dense layer)"
   ]
  },
  {
   "cell_type": "code",
   "execution_count": 23,
   "metadata": {
    "collapsed": true
   },
   "outputs": [],
   "source": [
    "def build_model():\n",
    "    model = Sequential()\n",
    "    layers = [1, 50, 100, 1]\n",
    "\n",
    "    model.add(LSTM(\n",
    "        input_dim=layers[0],\n",
    "        output_dim=layers[1],\n",
    "        return_sequences=True))\n",
    "    model.add(Dropout(0.2))\n",
    "\n",
    "    model.add(LSTM(\n",
    "        layers[2],\n",
    "        return_sequences=False))\n",
    "    model.add(Dropout(0.2))\n",
    "\n",
    "    model.add(Dense(\n",
    "        output_dim=layers[3]))\n",
    "    model.add(Activation(\"linear\"))\n",
    "\n",
    "    start = time.time()\n",
    "    model.compile(loss=\"mse\", optimizer=\"rmsprop\")\n",
    "    print \"Compilation Time : \", time.time() - start\n",
    "    return model\n"
   ]
  },
  {
   "cell_type": "code",
   "execution_count": 51,
   "metadata": {
    "collapsed": false
   },
   "outputs": [
    {
     "name": "stdout",
     "output_type": "stream",
     "text": [
      "Loading data... \n",
      "Data loaded from csv. Formatting...\n",
      "Shift : "
     ]
    },
    {
     "name": "stderr",
     "output_type": "stream",
     "text": [
      "/usr/local/lib/python2.7/dist-packages/ipykernel/__main__.py:39: DeprecationWarning: using a non-integer number instead of an integer will result in an error in the future\n",
      "/usr/local/lib/python2.7/dist-packages/ipykernel/__main__.py:43: DeprecationWarning: using a non-integer number instead of an integer will result in an error in the future\n"
     ]
    },
    {
     "name": "stdout",
     "output_type": "stream",
     "text": [
      " 1.10309644344\n",
      "Data  :  (1024590, 50)\n",
      "\n",
      "Data Loaded. Compiling...\n",
      "\n",
      "Compilation Time :  39.5609240532\n",
      "Train on 876024 samples, validate on 46107 samples\n",
      "Epoch 1/1\n",
      "876024/876024 [==============================] - 294s - loss: 0.1045 - val_loss: 0.0801\n"
     ]
    },
    {
     "name": "stderr",
     "output_type": "stream",
     "text": [
      "/usr/local/lib/python2.7/dist-packages/ipykernel/__main__.py:44: DeprecationWarning: using a non-integer number instead of an integer will result in an error in the future\n"
     ]
    },
    {
     "data": {
      "image/png": "[encoded data removed]",
      "text/plain": [
       "<matplotlib.figure.Figure at 0x7fbb86c6f290>"
      ]
     },
     "metadata": {},
     "output_type": "display_data"
    },
    {
     "name": "stdout",
     "output_type": "stream",
     "text": [
      "Training duration (s) :  364.904089928\n"
     ]
    }
   ],
   "source": [
    "#def run_network(model=None, data=None):\n",
    "model=None\n",
    "data=None\n",
    "global_start_time = time.time()\n",
    "epochs = 1\n",
    "ratio = 0.5\n",
    "sequence_length = 50\n",
    "path_to_dataset = 'household_power_consumption.txt'\n",
    "\n",
    "if data is None:\n",
    "    print 'Loading data... '\n",
    "    X_train, y_train, X_test, y_test = data_power_consumption(\n",
    "            path_to_dataset, sequence_length, ratio)\n",
    "else:\n",
    "    X_train, y_train, X_test, y_test = data\n",
    "\n",
    "print '\\nData Loaded. Compiling...\\n'\n",
    "\n",
    "if model is None:\n",
    "    model = build_model()\n",
    "\n",
    "try:\n",
    "    model.fit(\n",
    "        X_train, y_train,\n",
    "        batch_size=512, nb_epoch=epochs, validation_split=0.05)\n",
    "    predicted = model.predict(X_test)\n",
    "    predicted = np.reshape(predicted, (predicted.size,))\n",
    "except KeyboardInterrupt:\n",
    "    print 'Training duration (s) : ', time.time() - global_start_time\n",
    "    #return model, y_test, 0\n",
    "\n",
    "try:\n",
    "    fig = plt.figure()\n",
    "    ax = fig.add_subplot(111)\n",
    "    ax.plot(y_test[:100],'r')\n",
    "    plt.plot(predicted[:100])\n",
    "    plt.show()\n",
    "except Exception as e:\n",
    "    print str(e)\n",
    "print 'Training duration (s) : ', time.time() - global_start_time\n",
    "\n",
    "#return model, y_test, predicted"
   ]
  },
  {
   "cell_type": "code",
   "execution_count": 52,
   "metadata": {
    "collapsed": false
   },
   "outputs": [
    {
     "name": "stdout",
     "output_type": "stream",
     "text": [
      "(922131, 49, 1)\n",
      "(922131,)\n",
      "(102459, 49, 1)\n",
      "(102459,)\n"
     ]
    }
   ],
   "source": [
    "print X_train.shape\n",
    "print y_train.shape\n",
    "print X_test.shape\n",
    "print y_test.shape"
   ]
  },
  {
   "cell_type": "code",
   "execution_count": 53,
   "metadata": {
    "collapsed": false
   },
   "outputs": [
    {
     "data": {
      "text/plain": [
       "(102459,)"
      ]
     },
     "execution_count": 53,
     "metadata": {},
     "output_type": "execute_result"
    }
   ],
   "source": [
    "y_test.shape"
   ]
  },
  {
   "cell_type": "code",
   "execution_count": 54,
   "metadata": {
    "collapsed": false
   },
   "outputs": [
    {
     "data": {
      "text/plain": [
       "array([ 1.29160738,  1.27021921,  1.25688684, ...,  0.21802703,\n",
       "        0.21408686,  0.20804794])"
      ]
     },
     "execution_count": 54,
     "metadata": {},
     "output_type": "execute_result"
    }
   ],
   "source": [
    "predicted"
   ]
  },
  {
   "cell_type": "code",
   "execution_count": 55,
   "metadata": {
    "collapsed": false
   },
   "outputs": [
    {
     "data": {
      "text/plain": [
       "array([ 1.33890356,  1.33090356,  1.33290356, ...,  0.22090356,\n",
       "        0.21690356,  0.20090356])"
      ]
     },
     "execution_count": 55,
     "metadata": {},
     "output_type": "execute_result"
    }
   ],
   "source": [
    "y_test"
   ]
  },
  {
   "cell_type": "code",
   "execution_count": 64,
   "metadata": {
    "collapsed": false
   },
   "outputs": [
    {
     "data": {
      "image/png": "[encoded data removed]",
      "text/plain": [
       "<matplotlib.figure.Figure at 0x7fbb4757e050>"
      ]
     },
     "metadata": {},
     "output_type": "display_data"
    }
   ],
   "source": [
    "try:\n",
    "    fig = plt.figure()\n",
    "    ax = fig.add_subplot(111)\n",
    "    ax.plot(y_test[:200],'r')\n",
    "    plt.plot(predicted[:200])\n",
    "    plt.show()\n",
    "except Exception as e:\n",
    "    print str(e)"
   ]
  },
  {
   "cell_type": "code",
   "execution_count": null,
   "metadata": {
    "collapsed": true
   },
   "outputs": [],
   "source": []
  },
  {
   "cell_type": "code",
   "execution_count": null,
   "metadata": {
    "collapsed": true
   },
   "outputs": [],
   "source": []
  }
 ],
 "metadata": {
  "kernelspec": {
   "display_name": "Python 2",
   "language": "python",
   "name": "python2"
  },
  "language_info": {
   "codemirror_mode": {
    "name": "ipython",
    "version": 2
   },
   "file_extension": ".py",
   "mimetype": "text/x-python",
   "name": "python",
   "nbconvert_exporter": "python",
   "pygments_lexer": "ipython2",
   "version": "2.7.6"
  }
 },
 "nbformat": 4,
 "nbformat_minor": 0
}
