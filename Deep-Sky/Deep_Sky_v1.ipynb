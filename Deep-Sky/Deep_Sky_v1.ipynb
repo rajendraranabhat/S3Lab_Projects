{
 "cells": [
  {
   "cell_type": "markdown",
   "metadata": {},
   "source": [
    "Doing simple classification for deepsky datasets."
   ]
  },
  {
   "cell_type": "code",
   "execution_count": 110,
   "metadata": {
    "collapsed": true
   },
   "outputs": [],
   "source": [
    "import numpy as np\n",
    "import pandas as pd\n",
    "import matplotlib.pyplot as plt\n",
    "import glob\n",
    "import os\n",
    "%matplotlib inline"
   ]
  },
  {
   "cell_type": "code",
   "execution_count": 88,
   "metadata": {
    "collapsed": false
   },
   "outputs": [],
   "source": [
    "#Function to read the files and put in the dataframe\n",
    "\n",
    "def readData(path):\n",
    "    allFiles = glob.glob(path)\n",
    "    frame = pd.DataFrame()\n",
    "    list_ = []\n",
    "    \n",
    "    for file_ in allFiles:\n",
    "        #print file_\n",
    "        df = pd.read_csv(file_,sep=r\"\\s+\",header=None) #delim_whitespace=True\n",
    "        list_.append(df)\n",
    "        \n",
    "    frame = pd.concat(list_)\n",
    "    return frame;"
   ]
  },
  {
   "cell_type": "code",
   "execution_count": 103,
   "metadata": {
    "collapsed": false
   },
   "outputs": [
    {
     "name": "stdout",
     "output_type": "stream",
     "text": [
      "          X1        X2\n",
      "0  3562.0499  5.359076\n",
      "1  3562.8702  1.828783\n",
      "2  3563.6907  4.003207\n",
      "3  3564.5113  3.690704\n",
      "4  3565.3322  3.568112\n",
      "\n",
      "[5 rows x 2 columns]\n"
     ]
    }
   ],
   "source": [
    "#path = os.getcwd() + '/data/ex1data1.txt'\n",
    "\n",
    "path1 = r'/home/rbhat/S3Lab Project/SubsetData/spectra_with_feature_*.txt'\n",
    "path2 = r'/home/rbhat/S3Lab Project/SubsetData/spectra_without_feature_*.txt'\n",
    "frame1 = readData(path1)\n",
    "frame2 = readData(path2)\n",
    "\n",
    "frame1.columns = ['X1', 'X2']\n",
    "frame2.columns = ['X1', 'X2']\n",
    "print frame1.head()"
   ]
  },
  {
   "cell_type": "code",
   "execution_count": 106,
   "metadata": {
    "collapsed": false
   },
   "outputs": [
    {
     "name": "stdout",
     "output_type": "stream",
     "text": [
      "(50695, 1)\n",
      "          X1        X2  y\n",
      "0  3562.0499  5.359076  1\n",
      "1  3562.8702  1.828783  1\n",
      "2  3563.6907  4.003207  1\n",
      "3  3564.5113  3.690704  1\n",
      "4  3565.3322  3.568112  1\n",
      "\n",
      "[5 rows x 3 columns]\n",
      "(50695, 3)\n"
     ]
    }
   ],
   "source": [
    "#print frame1.shape, frame2.shape\n",
    "y1 = np.ones((frame1.shape[0],1))\n",
    "frame1['y'] = y1\n",
    "\n",
    "y2 = np.zeros((frame2.shape[0],1))\n",
    "frame2['y'] = y2\n",
    "\n",
    "print y1.shape\n",
    "print frame1.head()\n",
    "print frame1.shape"
   ]
  },
  {
   "cell_type": "code",
   "execution_count": 107,
   "metadata": {
    "collapsed": false
   },
   "outputs": [
    {
     "name": "stdout",
     "output_type": "stream",
     "text": [
      "(50695, 1)\n",
      "          X1        X2  y\n",
      "0  3583.4389  5.368597  0\n",
      "1  3584.2641  5.437156  0\n",
      "2  3585.0895  9.573576  0\n",
      "3  3585.9151  5.819682  0\n",
      "4  3586.7409  7.228429  0\n",
      "\n",
      "[5 rows x 3 columns]\n",
      "(50695, 3)\n"
     ]
    }
   ],
   "source": [
    "#print frame1[9210:9229], frame2[9210:9229]\n",
    "print y2.shape\n",
    "print frame2.head()\n",
    "print frame2.shape"
   ]
  },
  {
   "cell_type": "code",
   "execution_count": 111,
   "metadata": {
    "collapsed": false
   },
   "outputs": [
    {
     "data": {
      "image/png": "[encoded data removed]",
      "text/plain": [
       "<matplotlib.figure.Figure at 0x7f0695ed1e90>"
      ]
     },
     "metadata": {},
     "output_type": "display_data"
    }
   ],
   "source": [
    "#frame1[0:5][0]\n",
    "#Plotting the figure..\n",
    "plt.plot(frame1['X1'],frame1['X2']);"
   ]
  },
  {
   "cell_type": "code",
   "execution_count": 112,
   "metadata": {
    "collapsed": false
   },
   "outputs": [
    {
     "data": {
      "image/png": "[encoded data removed]",
      "text/plain": [
       "<matplotlib.figure.Figure at 0x7f0692681950>"
      ]
     },
     "metadata": {},
     "output_type": "display_data"
    }
   ],
   "source": [
    "plt.plot(frame2['X1'],frame2['X2']);"
   ]
  },
  {
   "cell_type": "code",
   "execution_count": null,
   "metadata": {
    "collapsed": true
   },
   "outputs": [],
   "source": []
  }
 ],
 "metadata": {
  "kernelspec": {
   "display_name": "Python 2",
   "language": "python",
   "name": "python2"
  },
  "language_info": {
   "codemirror_mode": {
    "name": "ipython",
    "version": 2
   },
   "file_extension": ".py",
   "mimetype": "text/x-python",
   "name": "python",
   "nbconvert_exporter": "python",
   "pygments_lexer": "ipython2",
   "version": "2.7.6"
  }
 },
 "nbformat": 4,
 "nbformat_minor": 0
}
