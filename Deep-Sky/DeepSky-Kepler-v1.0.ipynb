{
 "cells": [
  {
   "cell_type": "markdown",
   "metadata": {},
   "source": [
    "# Doing MachineLearning classification for DeepSky Datasets(Kepler)"
   ]
  },
  {
   "cell_type": "code",
   "execution_count": 105,
   "metadata": {
    "collapsed": false
   },
   "outputs": [],
   "source": [
    "import numpy as np\n",
    "import pandas as pd\n",
    "from sklearn.neighbors import KNeighborsClassifier\n",
    "from sklearn.linear_model import LogisticRegression\n",
    "from sklearn.ensemble import RandomForestClassifier\n",
    "from sklearn.cross_validation import cross_val_score\n",
    "from sklearn import metrics\n",
    "from sklearn.cross_validation import train_test_split\n",
    "from sklearn.metrics import confusion_matrix, roc_curve, auc\n",
    "from sklearn.grid_search import GridSearchCV\n",
    "from sklearn import svm\n",
    "import matplotlib.pyplot as plt\n",
    "import scipy.optimize as opt\n",
    "import glob\n",
    "import os\n",
    "import sys\n",
    "from astropy.io import fits\n",
    "%matplotlib inline"
   ]
  },
  {
   "cell_type": "code",
   "execution_count": 190,
   "metadata": {
    "collapsed": false
   },
   "outputs": [],
   "source": [
    "#sys.modules[__name__].__dict__.clear()\n",
    "#Utility function to read the files and put in the pandas dataframe\n",
    "\n",
    "\n",
    "\n",
    "def readData(path):\n",
    "    allFiles = glob.glob(path)\n",
    "    list_ = []\n",
    "    \n",
    "    list_flux = []\n",
    "    list_time = []\n",
    "    \n",
    "    df_ = pd.DataFrame()\n",
    "    totalFile = 0\n",
    "    readFile = 0\n",
    "    \n",
    "    for file_ in allFiles:\n",
    "        #print file_\n",
    "        dataList = fits.open(file_)\n",
    "        \n",
    "        totalFile = totalFile+1\n",
    "        #flux = np.array(dataList[0].data[0],float) #wavelength\n",
    "        #wavelength = np.array(dataList[0].data[1],float) #flux\n",
    "        \n",
    "        df = pd.DataFrame(np.array(dataList[0].data,float)).transpose() #Making sure the data format is right.        \n",
    "        df = df.dropna(axis=0)\n",
    "        #print np.unique(df.isnull())\n",
    "        #print df.isnull().values.any()\n",
    "              \n",
    "        #If length of the file is greater than 3000, only include that\n",
    "        if(df.shape[0] > 3000):\n",
    "            print file_\n",
    "            readFile = readFile+1\n",
    "            #list_.append((df[0].values.flatten()[0:3000],df[1].values.flatten()[0:3000]))\n",
    "            \n",
    "            list_flux.append(df[1].values.flatten()[0:3000])\n",
    "            list_time.append(df[0].values.flatten()[0:3000])\n",
    "            #list_.append(df.values.flatten()[0:3000])\n",
    "        #df_ = df_.append(df.values.flatten())\n",
    "    \n",
    "    print 'Total File', totalFile\n",
    "    print 'Read File', readFile\n",
    "    #return pd.DataFrame(list_)\n",
    "    return pd.DataFrame(list_flux), pd.DataFrame(list_time)"
   ]
  },
  {
   "cell_type": "code",
   "execution_count": 191,
   "metadata": {
    "collapsed": false
   },
   "outputs": [
    {
     "name": "stdout",
     "output_type": "stream",
     "text": [
      "Read for frame1\n",
      "/home/rbhat/S3Lab Project/Kepler-Astronomy/SubsetData/kepler_simtran_3d4hr_nokoi-Signal/002140360_q05.fits\n",
      "/home/rbhat/S3Lab Project/Kepler-Astronomy/SubsetData/kepler_simtran_3d4hr_nokoi-Signal/002140360_q04.fits\n",
      "/home/rbhat/S3Lab Project/Kepler-Astronomy/SubsetData/kepler_simtran_3d4hr_nokoi-Signal/002140360_q09.fits\n",
      "/home/rbhat/S3Lab Project/Kepler-Astronomy/SubsetData/kepler_simtran_3d4hr_nokoi-Signal/002140360_q07.fits\n",
      "/home/rbhat/S3Lab Project/Kepler-Astronomy/SubsetData/kepler_simtran_3d4hr_nokoi-Signal/002140360_q06.fits\n",
      "/home/rbhat/S3Lab Project/Kepler-Astronomy/SubsetData/kepler_simtran_3d4hr_nokoi-Signal/002140360_q10.fits\n",
      "/home/rbhat/S3Lab Project/Kepler-Astronomy/SubsetData/kepler_simtran_3d4hr_nokoi-Signal/002140360_q08.fits\n",
      "/home/rbhat/S3Lab Project/Kepler-Astronomy/SubsetData/kepler_simtran_3d4hr_nokoi-Signal/002140360_q03.fits\n",
      "Total File 10\n",
      "Read File 8\n",
      "Read for frame2\n",
      "/home/rbhat/S3Lab Project/Kepler-Astronomy/SubsetData/kepler_0021_orig_noki-No-Signal/002140360_q05.fits\n",
      "/home/rbhat/S3Lab Project/Kepler-Astronomy/SubsetData/kepler_0021_orig_noki-No-Signal/002140360_q04.fits\n",
      "/home/rbhat/S3Lab Project/Kepler-Astronomy/SubsetData/kepler_0021_orig_noki-No-Signal/002140360_q09.fits\n",
      "/home/rbhat/S3Lab Project/Kepler-Astronomy/SubsetData/kepler_0021_orig_noki-No-Signal/002140360_q07.fits\n",
      "/home/rbhat/S3Lab Project/Kepler-Astronomy/SubsetData/kepler_0021_orig_noki-No-Signal/002140360_q06.fits\n",
      "/home/rbhat/S3Lab Project/Kepler-Astronomy/SubsetData/kepler_0021_orig_noki-No-Signal/002140360_q10.fits\n",
      "/home/rbhat/S3Lab Project/Kepler-Astronomy/SubsetData/kepler_0021_orig_noki-No-Signal/002140360_q08.fits\n",
      "/home/rbhat/S3Lab Project/Kepler-Astronomy/SubsetData/kepler_0021_orig_noki-No-Signal/002140360_q03.fits\n",
      "Total File 10\n",
      "Read File 8\n"
     ]
    }
   ],
   "source": [
    "#Give the path and it will read all the files with .fits extension in dataframe.\n",
    "\n",
    "\n",
    "\n",
    "\n",
    "#path1 = r'/home/shared/Kepler/kepler_simtran_3d4hr_nokoi/*.fits' #Signal\n",
    "#path2 = r'/home/shared/Kepler/kepler_0021_orig_nokoi/*.fits'#no signal\n",
    "\n",
    "path1 = r'/home/rbhat/S3Lab Project/Kepler-Astronomy/SubsetData/kepler_simtran_3d4hr_nokoi-Signal/*.fits' #Signal\n",
    "path2 = r'/home/rbhat/S3Lab Project/Kepler-Astronomy/SubsetData/kepler_0021_orig_noki-No-Signal/*.fits'   #No-Signal\n",
    "\n",
    "#path1 = r'/home/rbhat/S3Lab Project/Kepler-Astronomy/SubsetData/*.fits' #Signal\n",
    "\n",
    "\n",
    "print 'Read for frame1'\n",
    "frame1_flux, frame1_time = readData(path1) #Signal\n",
    "print 'Read for frame2'\n",
    "frame2_flux, frame2_time = readData(path2) #No-Signal"
   ]
  },
  {
   "cell_type": "code",
   "execution_count": 194,
   "metadata": {
    "collapsed": false
   },
   "outputs": [
    {
     "name": "stdout",
     "output_type": "stream",
     "text": [
      "(8, 3000) (8, 3000)\n",
      "(8, 3000) (8, 3000)\n",
      "<bound method DataFrame.head of              0             1             2             3             4   \\\n",
      "0  465486.53125  465466.78125  465417.31250  465337.50000  465183.53125   \n",
      "1  460485.56250  460504.37500  460583.93750  460553.71875  460553.18750   \n",
      "2  460013.75000  460038.06250  460003.75000  459823.59375  459658.34375   \n",
      "3  420950.81250  421098.71875  421253.50000  421309.00000  421298.15625   \n",
      "4  442940.78125  442893.62500  442799.12500  442750.62500  442647.96875   \n",
      "5  440303.78125  440315.09375  440222.75000  440222.34375  440118.15625   \n",
      "6  456950.62500  457004.78125  456951.06250  456968.78125  456900.62500   \n",
      "7  422447.93750  422387.43750  422363.65625  422331.12500  422427.21875   \n",
      "\n",
      "             5             6             7             8             9   \\\n",
      "0  464979.90625  464896.40625  464758.15625  464638.03125  464528.68750   \n",
      "1  460543.31250  460523.87500  460572.12500  460584.40625  460657.53125   \n",
      "2  459586.31250  459484.15625  459413.84375  459422.90625  459426.43750   \n",
      "3  421251.81250  421216.84375  421214.40625  421185.96875  421167.87500   \n",
      "4  442645.28125  442700.71875  442717.12500  442711.40625  442818.06250   \n",
      "5  440107.65625  440067.00000  439973.09375  439957.90625  439953.21875   \n",
      "6  456824.18750  456624.50000  456528.56250  456349.18750  456202.25000   \n",
      "7  422414.46875  422491.09375  422545.34375  422643.09375  422666.71875   \n",
      "\n",
      "             10            11            12            13            14  \\\n",
      "0  464430.78125  464351.15625  464367.09375  464358.31250  464321.09375   \n",
      "1  460643.34375  460774.12500  460713.62500  460810.31250  460707.15625   \n",
      "2  459412.59375  459393.65625  459394.18750  459511.78125  459580.09375   \n",
      "3  421000.06250  420963.28125  420955.87500  420908.28125  420857.65625   \n",
      "4  442804.40625  442864.06250  442933.15625  442971.28125  443080.40625   \n",
      "5  439916.90625  439804.43750  439758.40625  439680.40625  439608.71875   \n",
      "6  456094.81250  455890.62500  455777.62500  455806.18750  455734.34375   \n",
      "7  422675.59375  422732.78125  422731.28125  422717.15625  422706.78125   \n",
      "\n",
      "             15            16            17            18            19      \n",
      "0  464359.00000  464438.68750  464438.34375  464441.84375  464423.75000 ...  \n",
      "1  460651.28125  460508.84375  460370.09375  460175.37500  459930.53125 ...  \n",
      "2  459649.93750  459765.46875  459836.81250  459882.15625  459928.12500 ...  \n",
      "3  420871.90625  420815.93750  420805.71875  420789.46875  420743.40625 ...  \n",
      "4  443134.84375  443199.90625  443339.68750  443424.43750  443554.31250 ...  \n",
      "5  439547.15625  439499.68750  439443.56250  439427.53125  439422.53125 ...  \n",
      "6  455754.84375  455794.65625  455758.40625  455824.53125  455853.81250 ...  \n",
      "7  422674.09375  422635.59375  422537.18750  422470.06250  422352.21875 ...  \n",
      "\n",
      "[8 rows x 3000 columns]>\n",
      "<bound method DataFrame.head of            0           1           2           3           4           5   \\\n",
      "0  352.396485  352.437351  352.457784  352.478217  352.498650  352.519083   \n",
      "1  260.245120  260.265553  260.285985  260.306418  260.326851  260.347284   \n",
      "2  735.383167  735.403600  735.424033  735.444467  735.464900  735.485333   \n",
      "3  539.471161  539.491595  539.512029  539.532463  539.552897  539.573332   \n",
      "4  443.510864  443.531298  443.551733  443.572167  443.592602  443.613036   \n",
      "5  808.536392  808.556826  808.577260  808.597695  808.618129  808.638564   \n",
      "6  630.195475  630.215908  630.236341  630.256774  630.277207  630.297639   \n",
      "7  169.766083  169.786517  169.806951  169.827385  169.847819  169.868253   \n",
      "\n",
      "           6           7           8           9           10          11  \\\n",
      "0  352.539516  352.559949  352.580382  352.600815  352.621248  352.641681   \n",
      "1  260.367716  260.388149  260.408582  260.429015  260.449448  260.469880   \n",
      "2  735.505766  735.526200  735.546633  735.567066  735.587499  735.607933   \n",
      "3  539.593766  539.614200  539.634634  539.655068  539.675502  539.695936   \n",
      "4  443.633471  443.653905  443.674340  443.694774  443.715209  443.735643   \n",
      "5  808.658998  808.679433  808.699867  808.720301  808.740736  808.761170   \n",
      "6  630.318072  630.338505  630.358938  630.379370  630.399803  630.440669   \n",
      "7  169.888687  169.909121  169.929555  169.949989  169.970423  169.990858   \n",
      "\n",
      "           12          13          14          15          16          17  \\\n",
      "0  352.662114  352.682547  352.702980  352.723413  352.743846  352.764280   \n",
      "1  260.490313  260.510746  260.531178  260.551611  260.572044  260.592477   \n",
      "2  735.628366  735.648799  735.669232  735.689665  735.710099  735.730532   \n",
      "3  539.716370  539.736804  539.757239  539.777673  539.798107  539.818541   \n",
      "4  443.756078  443.776512  443.796947  443.817381  443.837816  443.858250   \n",
      "5  808.781605  808.802039  808.822474  808.842908  808.863342  808.883777   \n",
      "6  630.461101  630.481534  630.501967  630.522400  630.542832  630.563265   \n",
      "7  170.011292  170.031726  170.052160  170.072594  170.093028  170.113462   \n",
      "\n",
      "           18          19      \n",
      "0  352.784713  352.805145 ...  \n",
      "1  260.612909  260.633342 ...  \n",
      "2  735.750965  735.771398 ...  \n",
      "3  539.838975  539.859409 ...  \n",
      "4  443.878684  443.899119 ...  \n",
      "5  808.904211  808.924646 ...  \n",
      "6  630.583698  630.604131 ...  \n",
      "7  170.133896  170.154330 ...  \n",
      "\n",
      "[8 rows x 3000 columns]>\n"
     ]
    }
   ],
   "source": [
    "#Making sure the dataframe size match with the expected..\n",
    "#print frame1.shape, frame2.shape \n",
    "\n",
    "print frame1_flux.shape, frame1_time.shape\n",
    "print frame2_flux.shape, frame2_time.shape\n",
    "\n",
    "\n",
    "print frame1_flux.head\n",
    "print frame1_time.head"
   ]
  },
  {
   "cell_type": "markdown",
   "metadata": {},
   "source": [
    "Plot the figure. Since the arrays are flatten, I am taking individual flux and time accordingly to plot the figure."
   ]
  },
  {
   "cell_type": "code",
   "execution_count": 98,
   "metadata": {
    "collapsed": false
   },
   "outputs": [
    {
     "name": "stdout",
     "output_type": "stream",
     "text": [
      "(3000,) (3000,)\n",
      "1500 1500\n",
      "1500 1500\n"
     ]
    },
    {
     "data": {
      "image/png": "[encoded data removed]",
      "text/plain": [
       "<matplotlib.figure.Figure at 0x7f1edc6c3850>"
      ]
     },
     "metadata": {},
     "output_type": "display_data"
    },
    {
     "data": {
      "image/png": "[encoded data removed]",
      "text/plain": [
       "<matplotlib.figure.Figure at 0x7f1f0d8ee150>"
      ]
     },
     "metadata": {},
     "output_type": "display_data"
    }
   ],
   "source": [
    "#Plotting the figure\n",
    "n_start = 0\n",
    "n_end = 3000\n",
    "\n",
    "n = 0 #First row of the dataframe.\n",
    "\n",
    "frame1_tmp = frame1.loc[n,:]  #1st signal\n",
    "frame2_tmp = frame2.loc[n,:]  #1st signal\n",
    "\n",
    "print frame1_tmp.shape, frame2_tmp.shape\n",
    "\n",
    "frame1_tmp_x = [val for i,val in enumerate(frame1_tmp) if (i%2 == 0)]\n",
    "frame1_tmp_y = [val for i,val in enumerate(frame1_tmp) if (i%2 != 0)]\n",
    "\n",
    "frame2_tmp_x = [val for i,val in enumerate(frame2_tmp) if (i%2 == 0)]\n",
    "frame2_tmp_y = [val for i,val in enumerate(frame2_tmp) if (i%2 != 0)]\n",
    "\n",
    "#frame1_tmp_x = frame1_tmp_x\n",
    "print len(frame1_tmp_x), len(frame1_tmp_y)\n",
    "\n",
    "#frame2_tmp_x = frame2_tmp_x\n",
    "print len(frame2_tmp_x), len(frame2_tmp_y)\n",
    "\n",
    "#print frame2_tmp_y\n",
    "\n",
    "#print frame1_tmp\n",
    "\n",
    "for i in [0,1]:\n",
    "    fig, ax = plt.subplots(figsize=(10,6))\n",
    "    if i == 0:\n",
    "        ax.plot(frame1_tmp_x, frame1_tmp_y, label='With Signal')\n",
    "    else:\n",
    "        ax.plot(frame2_tmp_x, frame2_tmp_y, label='Without Signal')\n",
    "    #ax.scatter(frame1_tmp[0], frame1_tmp[1], s=30, marker='x', label='With Signal')\n",
    "    #ax.scatter(frame2_tmp[0], frame2_tmp[1], s=30, marker='o', label='Without Signal')\n",
    "    ax.legend()\n",
    "    ax.set_xlabel('X1')\n",
    "    ax.set_ylabel('X2')\n",
    "    #ax.set_ylim([458000,467000])\n",
    "    #fig.suptitle(i)\n"
   ]
  },
  {
   "cell_type": "code",
   "execution_count": 99,
   "metadata": {
    "collapsed": false
   },
   "outputs": [
    {
     "name": "stdout",
     "output_type": "stream",
     "text": [
      "(8, 3000) (8, 3000)\n",
      "(8, 3001) (8, 3001)\n"
     ]
    }
   ],
   "source": [
    "#Make both frame into one and assign signal and non-signal label as 1 & 0. \n",
    "print frame1.shape, frame2.shape\n",
    "\n",
    "frame1_Y1 = np.ones((frame1.shape[0],1))\n",
    "frame1['Y'] = frame1_Y1\n",
    "\n",
    "frame2_Y2 = np.zeros((frame2.shape[0],1))\n",
    "frame2['Y'] = frame2_Y2\n",
    "\n",
    "#print Y1.shape\n",
    "#print frame1.head()\n",
    "print frame1.shape, frame2.shape\n",
    "#print frame1_Y1\n",
    "#print frame2_Y2"
   ]
  },
  {
   "cell_type": "code",
   "execution_count": 100,
   "metadata": {
    "collapsed": false
   },
   "outputs": [
    {
     "name": "stdout",
     "output_type": "stream",
     "text": [
      "(16, 3001)\n",
      "4     1\n",
      "13    0\n",
      "15    0\n",
      "11    0\n",
      "12    0\n",
      "Name: Y, dtype: float64\n"
     ]
    }
   ],
   "source": [
    "#Combine 2 data frame and reshuffle the data randomly\n",
    "#ignore_index=True will make sure it will index serially.\n",
    "frame = pd.concat([frame1, frame2], ignore_index=True)\n",
    "\n",
    "#Reshuffle the data randomly\n",
    "frame = frame.reindex(np.random.permutation(frame.index))\n",
    "#frame.reset_index()\n",
    "\n",
    "print frame.shape\n",
    "#print frame.head()\n",
    "#print frame.loc[0:5,2990:] \n",
    "print frame['Y'][0:5] "
   ]
  },
  {
   "cell_type": "code",
   "execution_count": 101,
   "metadata": {
    "collapsed": false
   },
   "outputs": [
    {
     "name": "stdout",
     "output_type": "stream",
     "text": [
      "(16, 3000)\n",
      "(16,)\n"
     ]
    }
   ],
   "source": [
    "#Splitting the data for classification purpose..\n",
    "#Input dataframe consists of X1, X2\n",
    "#print frame.shape\n",
    "#print frame.iloc[:,9273:]\n",
    "X = frame.drop(['Y'],axis=1) \n",
    "#print X.iloc[:,9273:]\n",
    "\n",
    "print X.shape\n",
    "\n",
    "#Output vector(predictor/response) vector\n",
    "Y = frame['Y']\n",
    "\n",
    "print Y.shape\n",
    "#Splitting data into train and testing. 70% Training and 30% Testing..\n",
    "X_train, X_test, Y_train, Y_test = train_test_split(X, Y, test_size=0.3, random_state=4)"
   ]
  },
  {
   "cell_type": "code",
   "execution_count": 104,
   "metadata": {
    "collapsed": false
   },
   "outputs": [
    {
     "name": "stdout",
     "output_type": "stream",
     "text": [
      "(11, 3000) (11,) (5, 3000) (5,)\n",
      "            0             1           2             3           4   \\\n",
      "3   539.471161  420950.81250  539.491595  421098.71875  539.512029   \n",
      "5   808.536392  440303.78125  808.556826  440315.09375  808.577260   \n",
      "15  169.766083  422447.93750  169.786517  422387.43750  169.806951   \n",
      "9   260.245120  460485.56250  260.265553  460504.37500  260.285985   \n",
      "6   630.195475  456950.62500  630.215908  457004.78125  630.236341   \n",
      "8   352.396485  465486.53125  352.437351  465466.78125  352.457784   \n",
      "13  808.536392  440303.78125  808.556826  440315.09375  808.577260   \n",
      "10  735.383167  460013.75000  735.403600  460038.06250  735.424033   \n",
      "14  630.195475  456950.62500  630.215908  457004.78125  630.236341   \n",
      "2   735.383167  460013.75000  735.403600  460038.06250  735.424033   \n",
      "0   352.396485  465486.53125  352.437351  465466.78125  352.457784   \n",
      "\n",
      "              5           6             7           8             9   \\\n",
      "3   421253.50000  539.532463  421309.00000  539.552897  421298.15625   \n",
      "5   440222.75000  808.597695  440222.34375  808.618129  440118.15625   \n",
      "15  422363.65625  169.827385  422331.12500  169.847819  422427.21875   \n",
      "9   460583.93750  260.306418  460553.71875  260.326851  460553.18750   \n",
      "6   456951.06250  630.256774  456968.78125  630.277207  456900.62500   \n",
      "8   465417.31250  352.478217  465337.50000  352.498650  465183.53125   \n",
      "13  440222.75000  808.597695  440222.34375  808.618129  440118.15625   \n",
      "10  460003.75000  735.444467  459823.59375  735.464900  459658.34375   \n",
      "14  456951.06250  630.256774  456968.78125  630.277207  456900.62500   \n",
      "2   460003.75000  735.444467  459823.59375  735.464900  459658.34375   \n",
      "0   465417.31250  352.478217  465337.50000  352.498650  465183.53125   \n",
      "\n",
      "            10            11          12            13          14  \\\n",
      "3   539.573332  421251.81250  539.593766  421216.84375  539.614200   \n",
      "5   808.638564  440107.65625  808.658998  440067.00000  808.679433   \n",
      "15  169.868253  422414.46875  169.888687  422491.09375  169.909121   \n",
      "9   260.347284  460543.31250  260.367716  460523.87500  260.388149   \n",
      "6   630.297639  456824.18750  630.318072  456624.50000  630.338505   \n",
      "8   352.519083  464979.90625  352.539516  464896.40625  352.559949   \n",
      "13  808.638564  440107.65625  808.658998  440067.00000  808.679433   \n",
      "10  735.485333  459586.31250  735.505766  459484.15625  735.526200   \n",
      "14  630.297639  456824.18750  630.318072  456624.50000  630.338505   \n",
      "2   735.485333  459586.31250  735.505766  459484.15625  735.526200   \n",
      "0   352.519083  464979.90625  352.539516  464896.40625  352.559949   \n",
      "\n",
      "              15          16            17          18            19      \n",
      "3   421214.40625  539.634634  421185.96875  539.655068  421167.87500 ...  \n",
      "5   439973.09375  808.699867  439957.90625  808.720301  439953.21875 ...  \n",
      "15  422545.34375  169.929555  422643.09375  169.949989  422666.71875 ...  \n",
      "9   460572.12500  260.408582  460584.40625  260.429015  460657.53125 ...  \n",
      "6   456528.56250  630.358938  456349.18750  630.379370  456202.25000 ...  \n",
      "8   464758.15625  352.580382  464638.03125  352.600815  464528.68750 ...  \n",
      "13  439973.09375  808.699867  439957.90625  808.720301  439953.21875 ...  \n",
      "10  459413.84375  735.546633  459422.90625  735.567066  459426.43750 ...  \n",
      "14  456528.56250  630.358938  456349.18750  630.379370  456202.25000 ...  \n",
      "2   459413.84375  735.546633  459422.90625  735.567066  459426.43750 ...  \n",
      "0   464758.15625  352.580382  464638.03125  352.600815  464528.68750 ...  \n",
      "\n",
      "[11 rows x 3000 columns]\n"
     ]
    }
   ],
   "source": [
    "print X_train.shape, Y_train.shape, X_test.shape, Y_test.shape\n",
    "\n",
    "#Validating the number\n",
    "#print 101390*0.7, 101390*0.3 \n",
    "print X_train"
   ]
  },
  {
   "cell_type": "markdown",
   "metadata": {},
   "source": [
    "## Logistic Regression"
   ]
  },
  {
   "cell_type": "code",
   "execution_count": 33,
   "metadata": {
    "collapsed": false
   },
   "outputs": [
    {
     "name": "stdout",
     "output_type": "stream",
     "text": [
      "0.995573997234\n"
     ]
    }
   ],
   "source": [
    "#Logistic Regression-sklearn\n",
    "logReg = LogisticRegression()\n",
    "logReg.fit(X_train,Y_train)\n",
    "Y_logPred = logReg.predict(X_test)\n",
    "print metrics.accuracy_score(Y_test,Y_logPred)"
   ]
  },
  {
   "cell_type": "code",
   "execution_count": 34,
   "metadata": {
    "collapsed": false
   },
   "outputs": [
    {
     "name": "stdout",
     "output_type": "stream",
     "text": [
      "[[1771   12]\n",
      " [   4 1828]]\n"
     ]
    },
    {
     "data": {
      "image/png": "[encoded data removed]",
      "text/plain": [
       "<matplotlib.figure.Figure at 0x7f1fd70b8090>"
      ]
     },
     "metadata": {},
     "output_type": "display_data"
    }
   ],
   "source": [
    "#Confusion matrix of logistic regression\n",
    "conf = metrics.confusion_matrix(Y_test,Y_logPred)\n",
    "plt.imshow(conf)\n",
    "print conf"
   ]
  },
  {
   "cell_type": "markdown",
   "metadata": {},
   "source": [
    "## KNeighbours"
   ]
  },
  {
   "cell_type": "code",
   "execution_count": 35,
   "metadata": {
    "collapsed": false
   },
   "outputs": [
    {
     "name": "stdout",
     "output_type": "stream",
     "text": [
      "0.410235131397\n",
      "[[ 954  829]\n",
      " [1303  529]]\n"
     ]
    }
   ],
   "source": [
    "# KNeighbours classification\n",
    "knn = KNeighborsClassifier(n_neighbors=5)\n",
    "\n",
    "knn.fit(X_train,Y_train)\n",
    "Y_pred = knn.predict(X_test)\n",
    "print metrics.accuracy_score(Y_test, Y_pred)\n",
    "conf = metrics.confusion_matrix(Y_test, Y_pred)\n",
    "#plt.imshow(conf)\n",
    "print conf"
   ]
  },
  {
   "cell_type": "markdown",
   "metadata": {},
   "source": [
    "## Random Forest"
   ]
  },
  {
   "cell_type": "code",
   "execution_count": 36,
   "metadata": {
    "collapsed": false
   },
   "outputs": [
    {
     "name": "stdout",
     "output_type": "stream",
     "text": [
      "0.588105117566\n"
     ]
    }
   ],
   "source": [
    "#Random Forest Classification\n",
    "randForest = RandomForestClassifier(n_estimators=30)\n",
    "randForest.fit(X_train,Y_train)\n",
    "Y_randForestPred = randForest.predict(X_test)\n",
    "print metrics.accuracy_score(Y_test,Y_randForestPred)"
   ]
  },
  {
   "cell_type": "code",
   "execution_count": 37,
   "metadata": {
    "collapsed": false
   },
   "outputs": [
    {
     "name": "stdout",
     "output_type": "stream",
     "text": [
      "[[1147  636]\n",
      " [ 853  979]]\n"
     ]
    }
   ],
   "source": [
    "#Confusion matrix for randomforest\n",
    "conf2 = metrics.confusion_matrix(Y_test,Y_randForestPred)\n",
    "#plt.imshow(conf2)\n",
    "print conf2"
   ]
  },
  {
   "cell_type": "markdown",
   "metadata": {},
   "source": [
    "## Support Vector machine"
   ]
  },
  {
   "cell_type": "code",
   "execution_count": 38,
   "metadata": {
    "collapsed": false
   },
   "outputs": [
    {
     "data": {
      "text/plain": [
       "LinearSVC(C=10, class_weight=None, dual=True, fit_intercept=True,\n",
       "     intercept_scaling=1, loss='hinge', max_iter=1000, multi_class='ovr',\n",
       "     penalty='l2', random_state=None, tol=0.0001, verbose=0)"
      ]
     },
     "execution_count": 38,
     "metadata": {},
     "output_type": "execute_result"
    }
   ],
   "source": [
    "#Support Vector Machine\n",
    "svc = svm.LinearSVC(C=10, loss='hinge', max_iter=1000)\n",
    "svc"
   ]
  },
  {
   "cell_type": "code",
   "execution_count": 39,
   "metadata": {
    "collapsed": false
   },
   "outputs": [
    {
     "data": {
      "text/plain": [
       "0.96071922544951593"
      ]
     },
     "execution_count": 39,
     "metadata": {},
     "output_type": "execute_result"
    }
   ],
   "source": [
    "svc.fit(X_train,Y_train)\n",
    "svc.score(X_test, Y_test)"
   ]
  },
  {
   "cell_type": "code",
   "execution_count": null,
   "metadata": {
    "collapsed": true
   },
   "outputs": [],
   "source": []
  }
 ],
 "metadata": {
  "kernelspec": {
   "display_name": "Python 2",
   "language": "python",
   "name": "python2"
  },
  "language_info": {
   "codemirror_mode": {
    "name": "ipython",
    "version": 2
   },
   "file_extension": ".py",
   "mimetype": "text/x-python",
   "name": "python",
   "nbconvert_exporter": "python",
   "pygments_lexer": "ipython2",
   "version": "2.7.6"
  }
 },
 "nbformat": 4,
 "nbformat_minor": 0
}
