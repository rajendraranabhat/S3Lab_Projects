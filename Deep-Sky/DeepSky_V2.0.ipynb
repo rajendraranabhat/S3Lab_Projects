{
 "cells": [
  {
   "cell_type": "markdown",
   "metadata": {},
   "source": [
    "# Doing simple classification for DeepSky Datasets."
   ]
  },
  {
   "cell_type": "code",
   "execution_count": 351,
   "metadata": {
    "collapsed": false
   },
   "outputs": [],
   "source": [
    "import numpy as np\n",
    "import pandas as pd\n",
    "from sklearn.neighbors import KNeighborsClassifier\n",
    "from sklearn.linear_model import LogisticRegression\n",
    "from sklearn.ensemble import RandomForestClassifier\n",
    "from sklearn.cross_validation import cross_val_score\n",
    "from sklearn import metrics\n",
    "from sklearn.cross_validation import train_test_split\n",
    "from sklearn.metrics import confusion_matrix, roc_curve, auc\n",
    "from sklearn.grid_search import GridSearchCV\n",
    "from sklearn import svm\n",
    "import matplotlib.pyplot as plt\n",
    "import scipy.optimize as opt\n",
    "import glob\n",
    "import os\n",
    "import sys\n",
    "%matplotlib inline"
   ]
  },
  {
   "cell_type": "code",
   "execution_count": 328,
   "metadata": {
    "collapsed": false
   },
   "outputs": [],
   "source": [
    "#sys.modules[__name__].__dict__.clear()\n",
    "#Function to read the files and put in the dataframe\n",
    "\n",
    "def readData(path):\n",
    "    allFiles = glob.glob(path)\n",
    "    frame = pd.DataFrame()\n",
    "    list_ = []\n",
    "    \n",
    "    for file_ in allFiles:\n",
    "        print file_\n",
    "        df = pd.read_csv(file_,sep=r\"\\s+\",header=None) #delim_whitespace=True\n",
    "        #print df.shape\n",
    "        #list_.append(df)\n",
    "        #print df\n",
    "        #print df.values.flatten()\n",
    "        #print df.shape\n",
    "        list_.append(df.values.flatten()[0:4500]) #flatten the matrix to arrays. Take first 4500 items only.\n",
    "    #frame = pd.concat(list_)\n",
    "    return pd.DataFrame(list_) #frame;"
   ]
  },
  {
   "cell_type": "code",
   "execution_count": 329,
   "metadata": {
    "collapsed": false
   },
   "outputs": [
    {
     "name": "stdout",
     "output_type": "stream",
     "text": [
      "/home/rbhat/S3Lab Project/SubsetData/spectra_with_feature_0023.txt\n",
      "/home/rbhat/S3Lab Project/SubsetData/spectra_with_feature_0016.txt\n",
      "/home/rbhat/S3Lab Project/SubsetData/spectra_with_feature_0024.txt\n",
      "/home/rbhat/S3Lab Project/SubsetData/spectra_with_feature_0008.txt\n",
      "/home/rbhat/S3Lab Project/SubsetData/spectra_with_feature_0007.txt\n",
      "/home/rbhat/S3Lab Project/SubsetData/spectra_with_feature_0012.txt\n",
      "/home/rbhat/S3Lab Project/SubsetData/spectra_with_feature_0005.txt\n",
      "/home/rbhat/S3Lab Project/SubsetData/spectra_with_feature_0000.txt\n",
      "/home/rbhat/S3Lab Project/SubsetData/spectra_with_feature_0010.txt\n",
      "/home/rbhat/S3Lab Project/SubsetData/spectra_with_feature_0026.txt\n",
      "/home/rbhat/S3Lab Project/SubsetData/spectra_with_feature_0013.txt\n",
      "/home/rbhat/S3Lab Project/SubsetData/spectra_with_feature_0022.txt\n",
      "/home/rbhat/S3Lab Project/SubsetData/spectra_with_feature_0017.txt\n",
      "/home/rbhat/S3Lab Project/SubsetData/spectra_with_feature_0003.txt\n",
      "/home/rbhat/S3Lab Project/SubsetData/spectra_with_feature_0001.txt\n",
      "/home/rbhat/S3Lab Project/SubsetData/spectra_with_feature_0006.txt\n",
      "/home/rbhat/S3Lab Project/SubsetData/spectra_with_feature_0030.txt\n",
      "/home/rbhat/S3Lab Project/SubsetData/spectra_with_feature_0018.txt\n",
      "/home/rbhat/S3Lab Project/SubsetData/spectra_with_feature_0021.txt\n",
      "/home/rbhat/S3Lab Project/SubsetData/spectra_with_feature_0028.txt\n",
      "/home/rbhat/S3Lab Project/SubsetData/spectra_with_feature_0020.txt\n",
      "/home/rbhat/S3Lab Project/SubsetData/spectra_with_feature_0025.txt\n",
      "/home/rbhat/S3Lab Project/SubsetData/spectra_with_feature_0029.txt\n",
      "/home/rbhat/S3Lab Project/SubsetData/spectra_with_feature_0015.txt\n",
      "/home/rbhat/S3Lab Project/SubsetData/spectra_with_feature_0027.txt\n",
      "/home/rbhat/S3Lab Project/SubsetData/spectra_with_feature_0002.txt\n",
      "/home/rbhat/S3Lab Project/SubsetData/spectra_with_feature_0014.txt\n",
      "/home/rbhat/S3Lab Project/SubsetData/spectra_with_feature_0004.txt\n",
      "/home/rbhat/S3Lab Project/SubsetData/spectra_with_feature_0009.txt\n",
      "/home/rbhat/S3Lab Project/SubsetData/spectra_with_feature_0019.txt\n",
      "/home/rbhat/S3Lab Project/SubsetData/spectra_with_feature_0011.txt\n",
      "/home/rbhat/S3Lab Project/SubsetData/spectra_without_feature_0009.txt\n",
      "/home/rbhat/S3Lab Project/SubsetData/spectra_without_feature_0027.txt\n",
      "/home/rbhat/S3Lab Project/SubsetData/spectra_without_feature_0005.txt\n",
      "/home/rbhat/S3Lab Project/SubsetData/spectra_without_feature_0014.txt\n",
      "/home/rbhat/S3Lab Project/SubsetData/spectra_without_feature_0006.txt\n",
      "/home/rbhat/S3Lab Project/SubsetData/spectra_without_feature_0025.txt\n",
      "/home/rbhat/S3Lab Project/SubsetData/spectra_without_feature_0019.txt\n",
      "/home/rbhat/S3Lab Project/SubsetData/spectra_without_feature_0010.txt\n",
      "/home/rbhat/S3Lab Project/SubsetData/spectra_without_feature_0028.txt\n",
      "/home/rbhat/S3Lab Project/SubsetData/spectra_without_feature_0004.txt\n",
      "/home/rbhat/S3Lab Project/SubsetData/spectra_without_feature_0013.txt\n",
      "/home/rbhat/S3Lab Project/SubsetData/spectra_without_feature_0020.txt\n",
      "/home/rbhat/S3Lab Project/SubsetData/spectra_without_feature_0002.txt\n",
      "/home/rbhat/S3Lab Project/SubsetData/spectra_without_feature_0023.txt\n",
      "/home/rbhat/S3Lab Project/SubsetData/spectra_without_feature_0008.txt\n",
      "/home/rbhat/S3Lab Project/SubsetData/spectra_without_feature_0018.txt\n",
      "/home/rbhat/S3Lab Project/SubsetData/spectra_without_feature_0007.txt\n",
      "/home/rbhat/S3Lab Project/SubsetData/spectra_without_feature_0026.txt\n",
      "/home/rbhat/S3Lab Project/SubsetData/spectra_without_feature_0011.txt\n",
      "/home/rbhat/S3Lab Project/SubsetData/spectra_without_feature_0016.txt\n",
      "/home/rbhat/S3Lab Project/SubsetData/spectra_without_feature_0021.txt\n",
      "/home/rbhat/S3Lab Project/SubsetData/spectra_without_feature_0000.txt\n",
      "/home/rbhat/S3Lab Project/SubsetData/spectra_without_feature_0024.txt\n",
      "/home/rbhat/S3Lab Project/SubsetData/spectra_without_feature_0030.txt\n",
      "/home/rbhat/S3Lab Project/SubsetData/spectra_without_feature_0003.txt\n",
      "/home/rbhat/S3Lab Project/SubsetData/spectra_without_feature_0001.txt\n",
      "/home/rbhat/S3Lab Project/SubsetData/spectra_without_feature_0017.txt\n",
      "/home/rbhat/S3Lab Project/SubsetData/spectra_without_feature_0012.txt\n",
      "/home/rbhat/S3Lab Project/SubsetData/spectra_without_feature_0022.txt\n",
      "/home/rbhat/S3Lab Project/SubsetData/spectra_without_feature_0029.txt\n",
      "/home/rbhat/S3Lab Project/SubsetData/spectra_without_feature_0015.txt\n",
      "<class 'pandas.core.frame.DataFrame'> (31, 4500) (31, 4500)\n"
     ]
    }
   ],
   "source": [
    "#path = os.getcwd() + '/data/ex1data1.txt'\n",
    "\n",
    "#path1 = r'/home/rbhat/S3Lab Project/DL_spectra/spectra_with_feature_*.txt'\n",
    "#path2 = r'/home/rbhat/S3Lab Project/DL_spectra/spectra_without_feature_*.txt'\n",
    "\n",
    "path1 = r'/home/rbhat/S3Lab Project/SubsetData/spectra_with_feature_*.txt'\n",
    "path2 = r'/home/rbhat/S3Lab Project/SubsetData/spectra_without_feature_*.txt'\n",
    "frame1 = readData(path1)\n",
    "frame2 = readData(path2)\n",
    "\n",
    "#frame1.columns = ['X1', 'X2']\n",
    "#frame2.columns = ['X1', 'X2']\n",
    "#print frame1[4600:]\n",
    "print type(frame1), frame1.shape, frame2.shape\n",
    "#print frame1\n",
    "#print frame2\n",
    "#print np.array(frame1[4600:]).ravel()\n",
    "#print frame1.head()"
   ]
  },
  {
   "cell_type": "code",
   "execution_count": 330,
   "metadata": {
    "collapsed": false
   },
   "outputs": [
    {
     "name": "stdout",
     "output_type": "stream",
     "text": [
      "[[1 2]\n",
      " [3 4]\n",
      " [5 6]\n",
      " [7 8]]\n",
      "(4, 2)\n",
      "[2 4 6 8]\n"
     ]
    }
   ],
   "source": [
    "aa = np.array([[1,2], [3,4], [5,6], [7,8]])\n",
    "print aa\n",
    "print aa.shape\n",
    "print aa[:,-1]  #Extract last column\n",
    "#print np.array(aa).ravel()  #speed\n",
    "#print np.asarray(aa).ravel() #memory\n",
    "#print np.array(aa).flatten()\n",
    "\n",
    "#http://www.datacarpentry.org/python-ecology/02-index-slice-subset\n",
    "#a[start:end:step] # start through not past end, by step(default=1)"
   ]
  },
  {
   "cell_type": "code",
   "execution_count": 331,
   "metadata": {
    "collapsed": false
   },
   "outputs": [
    {
     "name": "stdout",
     "output_type": "stream",
     "text": [
      "(31, 4500) (31, 4500)\n",
      "(31, 4501) (31, 4501)\n",
      "[[ 1.]\n",
      " [ 1.]\n",
      " [ 1.]\n",
      " [ 1.]\n",
      " [ 1.]\n",
      " [ 1.]\n",
      " [ 1.]\n",
      " [ 1.]\n",
      " [ 1.]\n",
      " [ 1.]\n",
      " [ 1.]\n",
      " [ 1.]\n",
      " [ 1.]\n",
      " [ 1.]\n",
      " [ 1.]\n",
      " [ 1.]\n",
      " [ 1.]\n",
      " [ 1.]\n",
      " [ 1.]\n",
      " [ 1.]\n",
      " [ 1.]\n",
      " [ 1.]\n",
      " [ 1.]\n",
      " [ 1.]\n",
      " [ 1.]\n",
      " [ 1.]\n",
      " [ 1.]\n",
      " [ 1.]\n",
      " [ 1.]\n",
      " [ 1.]\n",
      " [ 1.]]\n",
      "[[ 0.]\n",
      " [ 0.]\n",
      " [ 0.]\n",
      " [ 0.]\n",
      " [ 0.]\n",
      " [ 0.]\n",
      " [ 0.]\n",
      " [ 0.]\n",
      " [ 0.]\n",
      " [ 0.]\n",
      " [ 0.]\n",
      " [ 0.]\n",
      " [ 0.]\n",
      " [ 0.]\n",
      " [ 0.]\n",
      " [ 0.]\n",
      " [ 0.]\n",
      " [ 0.]\n",
      " [ 0.]\n",
      " [ 0.]\n",
      " [ 0.]\n",
      " [ 0.]\n",
      " [ 0.]\n",
      " [ 0.]\n",
      " [ 0.]\n",
      " [ 0.]\n",
      " [ 0.]\n",
      " [ 0.]\n",
      " [ 0.]\n",
      " [ 0.]\n",
      " [ 0.]]\n"
     ]
    }
   ],
   "source": [
    "print frame1.shape, frame2.shape\n",
    "frame1_Y1 = np.ones((frame1.shape[0],1))\n",
    "frame1['Y'] = frame1_Y1\n",
    "\n",
    "frame2_Y2 = np.zeros((frame2.shape[0],1))\n",
    "frame2['Y'] = frame2_Y2\n",
    "\n",
    "#print Y1.shape\n",
    "#print frame1.head()\n",
    "print frame1.shape, frame2.shape\n",
    "print frame1_Y1\n",
    "print frame2_Y2"
   ]
  },
  {
   "cell_type": "code",
   "execution_count": 332,
   "metadata": {
    "collapsed": false
   },
   "outputs": [
    {
     "name": "stdout",
     "output_type": "stream",
     "text": [
      "(31, 4501) (31, 4501)\n",
      "           0         1          2         3          4         5\n",
      "0  3583.4389  5.368597  3584.2641  5.437156  3585.0895  9.573576\n",
      "1  3591.6995  3.656752  3592.5267  8.605778  3593.3540  7.480578\n",
      "\n",
      "[2 rows x 6 columns]\n",
      "            0          1          2          3          4          5\n",
      "0   3583.4389   5.368597  3584.2641   5.437156  3585.0895   9.573576\n",
      "1   3591.6995   3.656752  3592.5267   8.605778  3593.3540   7.480578\n",
      "2   3590.0459   7.291498  3590.8726   0.791032  3591.6995   3.656065\n",
      "3   3579.3157   6.317830  3580.1399   5.381432  3580.9644   5.473773\n",
      "4   3592.5267  10.691812  3593.3540   5.933395  3594.1815   3.755841\n",
      "5   3567.7959   4.231489  3568.6175   9.541583  3569.4393   7.733830\n",
      "6   3587.5668  13.007638  3588.3930  14.688279  3589.2193  16.766228\n",
      "7   3592.5267   4.687280  3593.3540   9.382336  3594.1815  12.744766\n",
      "8   3561.2298   4.709154  3562.0499   4.649445  3562.8702   7.008849\n",
      "9   3591.6995   3.620451  3592.5267   8.237982  3593.3540   8.290853\n",
      "10  3558.7706   4.917410  3560.4099   0.996215  3561.2298   5.545233\n",
      "11  3594.1815   8.412280  3595.0091   2.511486  3595.8370   4.204033\n",
      "12  3554.6758  12.956790  3556.3132  18.999506  3557.1322  10.178330\n",
      "13  3570.2613   5.128880  3571.9058  -0.094211  3572.7284   4.083781\n",
      "14  3562.0499   7.248580  3562.8702   2.474979  3563.6907   5.420814\n",
      "15  3600.8083   6.804502  3601.6375   5.762138  3602.4669   5.859263\n",
      "16  3609.1090   9.762197  3609.9401   5.117157  3610.7715   8.270446\n",
      "17  3563.6907   5.812135  3565.3322   3.188235  3566.1532   4.568157\n",
      "18  3560.4099   2.716148  3561.2298   4.540499  3562.0499   3.423616\n",
      "19  3571.0835   6.961442  3572.7284   9.866928  3573.5511   3.012418\n",
      "20  3600.8083   3.493208  3601.6375   3.281845  3602.4669   5.657454\n",
      "21  3595.0091   3.588205  3595.8370   5.409704  3596.6651   5.646266\n",
      "22  3591.6995  27.302895  3592.5267   6.118724  3593.3540  10.680866\n",
      "23  3570.2613   7.483804  3571.9058   0.577976  3572.7284   1.557182\n",
      "24  3612.4347 -20.972565  3613.2665   3.825174  3614.0986   6.726816\n",
      "25  3566.1532   7.339237  3566.9745  -9.298958  3567.7959  17.139837\n",
      "26  3595.0091   9.059138  3595.8370   4.772974  3596.6651   8.914468\n",
      "27  3572.7284   4.073937  3573.5511   5.095168  3574.3741   1.005284\n",
      "28  3556.3132   5.373560  3557.1322   1.853120  3557.9513   2.963449\n",
      "29  3565.3322   3.491877  3566.1532   7.908186  3566.9745   7.967417\n",
      "30  3602.4669   6.097158  3603.2965   0.707449  3604.1263   7.499330\n",
      "\n",
      "[31 rows x 6 columns]\n",
      "        4495       4496      4497       4498      4499  Y\n",
      "0   1.789835  5992.3890  1.396915  5993.7690  1.751350  1\n",
      "1   2.532240  5993.7690  2.746940  5995.1493  2.900522  1\n",
      "2   1.130147  6032.5371  1.022753  6033.9263  1.204900  1\n",
      "3   1.844046  5977.2304  2.228754  5978.6069  1.841189  1\n",
      "4   2.281845  6056.1971  2.288911  6057.5917  2.238019  1\n",
      "5   1.969303  5995.1493  1.814270  5996.5299  2.031947  1\n",
      "6   1.315087  6024.2086  1.774264  6025.5959  2.181245  1\n",
      "7   1.965809  6032.5371  1.749636  6033.9263  2.011908  1\n",
      "8   1.558396  6028.3714  1.421086  6029.7596  1.543452  1\n",
      "9   2.283176  5981.3608  1.531297  5982.7382  2.163633  1\n",
      "10  2.326793  5973.1029  2.739559  5974.4785  2.698639  1\n",
      "11  3.288161  5967.6040  3.260561  5968.9783  3.306467  1\n",
      "12  2.543181  6032.5371  2.300977  6033.9263  2.538724  1\n",
      "13  2.257436  6095.3690  2.480188  6096.7726  2.592726  1\n",
      "14  2.584278  5984.1160  2.504787  5985.4940  2.774172  1\n",
      "15  2.244550  6032.5371  1.895227  6033.9263  1.543124  1\n",
      "16  1.552475  5992.3890  1.758541  5993.7690  1.571809  1\n",
      "17  2.489185  6042.2682  2.726490  6043.6597  2.528499  1\n",
      "18  2.587532  6042.2682  2.275884  6043.6597  2.109176  1\n",
      "19  2.253238  5975.8543  2.387130  5977.2304  2.586827  1\n",
      "20  1.601795  6031.1482  1.732292  6032.5371  1.901367  1\n",
      "21  1.295914  5986.8724  1.370025  5988.2511  1.556599  1\n",
      "22  4.821305  5982.7382  4.907783  5984.1160  4.912477  1\n",
      "23  1.438526  6045.0514  1.378375  6046.4435  1.427700  1\n",
      "24  1.114163  6035.3158  1.166203  6036.7056  1.369474  1\n",
      "25  2.819245  5966.2301  2.584814  5967.6040  2.865190  1\n",
      "26  1.369658  6006.2029  1.251558  6007.5860  1.350858  1\n",
      "27  2.688461  6026.9835  2.733683  6028.3714  2.980876  1\n",
      "28  2.474540  6013.1218  2.838182  6014.5065  2.649392  1\n",
      "29  1.076927  6020.0486  1.068811  6021.4350  1.133252  1\n",
      "30  5.726223  5974.4785  6.328947  5975.8543  6.663022  1\n",
      "\n",
      "[31 rows x 6 columns]\n",
      "        4495       4496      4497       4498      4499  Y\n",
      "0   4.577446  6013.1218  5.243287  6014.5065  4.888163  0\n",
      "1   3.437027  6035.3158  3.600873  6036.7056  4.232377  0\n",
      "2   1.514573  6024.2086  2.042991  6025.5959  2.511105  0\n",
      "3   3.933330  6006.2029  3.598971  6007.5860  3.889701  0\n",
      "4   2.346030  6032.5371  1.980834  6033.9263  1.612760  0\n",
      "5   2.911399  5986.8724  3.082777  5988.2511  3.508150  0\n",
      "6   2.873919  6020.0486  2.856621  6021.4350  3.033488  0\n",
      "7   4.255928  6028.3714  3.875160  6029.7596  4.202580  0\n",
      "8   3.642091  5975.8543  3.862396  5977.2304  4.189729  0\n",
      "9   3.294044  6026.9835  3.348338  6028.3714  3.649897  0\n",
      "10  3.647954  5973.1029  4.299096  5974.4785  4.238842  0\n",
      "11  4.153787  6031.1482  4.499247  6032.5371  4.946138  0\n",
      "12  3.153824  5966.2301  2.891148  5967.6040  3.204282  0\n",
      "13  1.841151  5992.3890  1.436934  5993.7690  1.801483  0\n",
      "14  2.058536  5977.2304  2.487636  5978.6069  2.054761  0\n",
      "15  3.619584  6042.2682  3.961706  6043.6597  3.671286  0\n",
      "16  3.239435  6056.1971  3.247241  6057.5917  3.172870  0\n",
      "17  2.817224  5981.3608  1.888816  5982.7382  2.667859  0\n",
      "18  7.848429  5974.4785  8.669336  5975.8543  9.121507  0\n",
      "19  3.755584  5993.7690  4.077251  5995.1493  4.308645  0\n",
      "20  4.465232  6042.2682  3.922897  6043.6597  3.631361  0\n",
      "21  4.303336  6032.5371  3.836098  6033.9263  4.418036  0\n",
      "22  3.501227  6032.5371  3.171319  6033.9263  3.739370  0\n",
      "23  3.590780  5992.3890  4.060896  5993.7690  3.623885  0\n",
      "24  3.391566  6095.3690  3.729312  6096.7726  3.901765  0\n",
      "25  4.254930  5984.1160  4.128382  5985.4940  4.577194  0\n",
      "26  4.446120  6032.5371  4.017930  6033.9263  4.427845  0\n",
      "27  3.998562  5995.1493  3.678381  5996.5299  4.113691  0\n",
      "28  5.169670  5967.6040  5.121477  5968.9783  5.188735  0\n",
      "29  6.157768  5982.7382  6.265532  5984.1160  6.268847  0\n",
      "30  4.612376  6045.0514  4.417733  6046.4435  4.573964  0\n",
      "\n",
      "[31 rows x 6 columns]\n"
     ]
    }
   ],
   "source": [
    "#print frame1[9210:9229], frame2[9210:9229]\n",
    "#print frame2_Y2.shape\n",
    "#print frame2.head()\n",
    "print frame1.shape, frame2.shape\n",
    "#print frame2\n",
    "\n",
    "#print frame2.iloc[0:1,0:5]  #slicing using iloc and loc\n",
    "print frame2.loc[0:1,0:5]  #0th row, 0,1,2,3,4 th column\n",
    "print frame2.loc[:,0:5] # all row, 0,1,2,3,4,5 th column\n",
    "\n",
    "print frame1.loc[:,4495:] \n",
    "print frame2.loc[:,4495:] "
   ]
  },
  {
   "cell_type": "markdown",
   "metadata": {},
   "source": [
    "Since plotting all data, the kernel is dead. I am plotting subset of data. It is same"
   ]
  },
  {
   "cell_type": "code",
   "execution_count": 333,
   "metadata": {
    "collapsed": false
   },
   "outputs": [
    {
     "name": "stdout",
     "output_type": "stream",
     "text": [
      "2000 2000\n",
      "2000 2000\n"
     ]
    },
    {
     "data": {
      "text/plain": [
       "<matplotlib.text.Text at 0x7fd2fce73b90>"
      ]
     },
     "execution_count": 333,
     "metadata": {},
     "output_type": "execute_result"
    },
    {
     "data": {
      "image/png": "[encoded data removed]",
      "text/plain": [
       "<matplotlib.figure.Figure at 0x7fd2fcab4c90>"
      ]
     },
     "metadata": {},
     "output_type": "display_data"
    }
   ],
   "source": [
    "#frame1[0:5][0]\n",
    "#Scatter plot of the data..\n",
    "n = 4000 #[10, 100, 1000, 10000, 100000]\n",
    "frame1_tmp = frame1.loc[0,0:n] #0th row and 0 to 4000 column of frame1\n",
    "frame2_tmp = frame2.loc[0,0:n]\n",
    "\n",
    "frame1_tmp_x = [val for i,val in enumerate(frame1_tmp) if (i%2 == 0)]\n",
    "frame1_tmp_y = [val for i,val in enumerate(frame1_tmp) if (i%2 != 0)]\n",
    "\n",
    "frame2_tmp_x = [val for i,val in enumerate(frame2_tmp) if (i%2 == 0)]\n",
    "frame2_tmp_y = [val for i,val in enumerate(frame2_tmp) if (i%2 != 0)]\n",
    "\n",
    "#print frame1_tmp_y\n",
    "\n",
    "frame1_tmp_x = frame1_tmp_x[0:n/2]\n",
    "print len(frame1_tmp_x), len(frame1_tmp_y)\n",
    "\n",
    "frame2_tmp_x = frame2_tmp_x[0:n/2]\n",
    "print len(frame2_tmp_x), len(frame2_tmp_y)\n",
    "\n",
    "fig, ax = plt.subplots(figsize=(10,6))\n",
    "ax.scatter(frame1_tmp_x, frame1_tmp_y, s=30, marker='x', label='With Features')\n",
    "#ax.scatter(frame2_tmp_x, frame2_tmp_y, s=30, marker='o', label='Without Features')\n",
    "ax.legend()\n",
    "ax.set_xlabel('X1')\n",
    "ax.set_ylabel('X2')\n",
    "fig.suptitle(i)\n",
    "    "
   ]
  },
  {
   "cell_type": "code",
   "execution_count": 334,
   "metadata": {
    "collapsed": false
   },
   "outputs": [
    {
     "data": {
      "text/plain": [
       "'\\nprint frame1.shape[0]\\nn = int(frame1.shape[0]*0.3)\\nprint n\\n\\nframe11 = frame1[0:n]\\nframe22 = frame2[0:n]\\n'"
      ]
     },
     "execution_count": 334,
     "metadata": {},
     "output_type": "execute_result"
    }
   ],
   "source": [
    "#Looks like there is memory error on concanation and permutation because of data size. So I will take subset of \n",
    "#data. Probabily take some 60% of data.\n",
    "'''\n",
    "print frame1.shape[0]\n",
    "n = int(frame1.shape[0]*0.3)\n",
    "print n\n",
    "\n",
    "frame11 = frame1[0:n]\n",
    "frame22 = frame2[0:n]\n",
    "'''"
   ]
  },
  {
   "cell_type": "code",
   "execution_count": 335,
   "metadata": {
    "collapsed": false
   },
   "outputs": [
    {
     "name": "stdout",
     "output_type": "stream",
     "text": [
      "(62, 4501)\n",
      "           0         1          2         3          4          5          6   \\\n",
      "28  3583.4389  4.993551  3584.2641  5.056916  3585.0895   8.903349  3585.9151   \n",
      "39  3561.2298  4.709154  3562.0499  4.649445  3562.8702   7.008849  3563.6907   \n",
      "4   3609.1090  8.835992  3609.9401  4.631081  3610.7715   7.483905  3611.6030   \n",
      "56  3566.1532  7.339237  3566.9745 -9.298958  3567.7959  17.139837  3568.6175   \n",
      "52  3595.0091  3.588205  3595.8370  5.409704  3596.6651   5.646266  3597.4934   \n",
      "\n",
      "          7          8         9          10        11         12        13  \\\n",
      "28  5.411823  3586.7409  6.721302  3587.5668  8.424660  3588.3930 -0.360423   \n",
      "39  6.016525  3564.5113  5.115266  3565.3322  7.977494  3566.1532  3.564401   \n",
      "4   7.567561  3612.4347  7.588903  3613.2665  7.990626  3614.0986  7.850843   \n",
      "56  5.040870  3569.4393 -5.856838  3570.2613  4.400600  3571.0835  6.686936   \n",
      "52  5.175020  3598.3218  2.759103  3599.1504  8.308013  3599.9793  6.924621   \n",
      "\n",
      "           14        15         16         17         18         19      \n",
      "28  3589.2193  9.887598  3590.0459  10.522553  3590.8726  10.146369 ...  \n",
      "39  3566.9745  5.640679  3567.7959   4.844416  3568.6175   4.852925 ...  \n",
      "4   3614.9309  7.094014  3615.7634  11.723452  3616.5960   8.828520 ...  \n",
      "56  3571.9058 -4.280161  3572.7284   9.738959  3573.5511   6.225598 ...  \n",
      "52  3600.8083  8.082786  3601.6375  10.556305  3602.4669   8.524906 ...  \n",
      "\n",
      "[5 rows x 4501 columns]\n",
      "        4495       4496      4497       4498      4499  Y\n",
      "28  2.474540  6013.1218  2.838182  6014.5065  2.649392  1\n",
      "39  3.642091  5975.8543  3.862396  5977.2304  4.189729  0\n",
      "4   2.281845  6056.1971  2.288911  6057.5917  2.238019  1\n",
      "56  4.254930  5984.1160  4.128382  5985.4940  4.577194  0\n",
      "52  4.303336  6032.5371  3.836098  6033.9263  4.418036  0\n",
      "60  6.157768  5982.7382  6.265532  5984.1160  6.268847  0\n",
      "49  7.848429  5974.4785  8.669336  5975.8543  9.121507  0\n",
      "14  2.584278  5984.1160  2.504787  5985.4940  2.774172  1\n",
      "44  1.841151  5992.3890  1.436934  5993.7690  1.801483  0\n",
      "35  2.346030  6032.5371  1.980834  6033.9263  1.612760  0\n",
      "41  3.647954  5973.1029  4.299096  5974.4785  4.238842  0\n",
      "53  3.501227  6032.5371  3.171319  6033.9263  3.739370  0\n",
      "34  3.933330  6006.2029  3.598971  6007.5860  3.889701  0\n",
      "11  3.288161  5967.6040  3.260561  5968.9783  3.306467  1\n",
      "18  2.587532  6042.2682  2.275884  6043.6597  2.109176  1\n",
      "54  3.590780  5992.3890  4.060896  5993.7690  3.623885  0\n",
      "47  3.239435  6056.1971  3.247241  6057.5917  3.172870  0\n",
      "38  4.255928  6028.3714  3.875160  6029.7596  4.202580  0\n",
      "6   1.315087  6024.2086  1.774264  6025.5959  2.181245  1\n",
      "43  3.153824  5966.2301  2.891148  5967.6040  3.204282  0\n",
      "9   2.283176  5981.3608  1.531297  5982.7382  2.163633  1\n",
      "61  4.612376  6045.0514  4.417733  6046.4435  4.573964  0\n",
      "22  4.821305  5982.7382  4.907783  5984.1160  4.912477  1\n",
      "3   1.844046  5977.2304  2.228754  5978.6069  1.841189  1\n",
      "24  1.114163  6035.3158  1.166203  6036.7056  1.369474  1\n",
      "27  2.688461  6026.9835  2.733683  6028.3714  2.980876  1\n",
      "59  5.169670  5967.6040  5.121477  5968.9783  5.188735  0\n",
      "7   1.965809  6032.5371  1.749636  6033.9263  2.011908  1\n",
      "33  1.514573  6024.2086  2.042991  6025.5959  2.511105  0\n",
      "12  2.543181  6032.5371  2.300977  6033.9263  2.538724  1\n",
      "8   1.558396  6028.3714  1.421086  6029.7596  1.543452  1\n",
      "25  2.819245  5966.2301  2.584814  5967.6040  2.865190  1\n",
      "55  3.391566  6095.3690  3.729312  6096.7726  3.901765  0\n",
      "26  1.369658  6006.2029  1.251558  6007.5860  1.350858  1\n",
      "29  1.076927  6020.0486  1.068811  6021.4350  1.133252  1\n",
      "0   1.789835  5992.3890  1.396915  5993.7690  1.751350  1\n",
      "15  2.244550  6032.5371  1.895227  6033.9263  1.543124  1\n",
      "21  1.295914  5986.8724  1.370025  5988.2511  1.556599  1\n",
      "31  4.577446  6013.1218  5.243287  6014.5065  4.888163  0\n",
      "17  2.489185  6042.2682  2.726490  6043.6597  2.528499  1\n",
      "30  5.726223  5974.4785  6.328947  5975.8543  6.663022  1\n",
      "36  2.911399  5986.8724  3.082777  5988.2511  3.508150  0\n",
      "16  1.552475  5992.3890  1.758541  5993.7690  1.571809  1\n",
      "37  2.873919  6020.0486  2.856621  6021.4350  3.033488  0\n",
      "45  2.058536  5977.2304  2.487636  5978.6069  2.054761  0\n",
      "50  3.755584  5993.7690  4.077251  5995.1493  4.308645  0\n",
      "58  3.998562  5995.1493  3.678381  5996.5299  4.113691  0\n",
      "57  4.446120  6032.5371  4.017930  6033.9263  4.427845  0\n",
      "5   1.969303  5995.1493  1.814270  5996.5299  2.031947  1\n",
      "51  4.465232  6042.2682  3.922897  6043.6597  3.631361  0\n",
      "40  3.294044  6026.9835  3.348338  6028.3714  3.649897  0\n",
      "19  2.253238  5975.8543  2.387130  5977.2304  2.586827  1\n",
      "1   2.532240  5993.7690  2.746940  5995.1493  2.900522  1\n",
      "23  1.438526  6045.0514  1.378375  6046.4435  1.427700  1\n",
      "32  3.437027  6035.3158  3.600873  6036.7056  4.232377  0\n",
      "42  4.153787  6031.1482  4.499247  6032.5371  4.946138  0\n",
      "2   1.130147  6032.5371  1.022753  6033.9263  1.204900  1\n",
      "48  2.817224  5981.3608  1.888816  5982.7382  2.667859  0\n",
      "13  2.257436  6095.3690  2.480188  6096.7726  2.592726  1\n",
      "10  2.326793  5973.1029  2.739559  5974.4785  2.698639  1\n",
      "         ...        ...       ...        ...       ... ..\n",
      "\n",
      "[62 rows x 6 columns]\n"
     ]
    }
   ],
   "source": [
    "#Combine 2 data frame and reshuffle the data randomly\n",
    "#ignore_index=True will make sure it will index serially.\n",
    "frame = pd.concat([frame1, frame2], ignore_index=True)\n",
    "\n",
    "#Reshuffle the data randomly\n",
    "frame = frame.reindex(np.random.permutation(frame.index))\n",
    "#frame.reset_index()\n",
    "\n",
    "print frame.shape\n",
    "print frame.head()\n",
    "print frame.loc[:,4495:] \n",
    "#print frame['Y'] "
   ]
  },
  {
   "cell_type": "markdown",
   "metadata": {},
   "source": [
    "Now splitting data in training and testing for classification purpose. We split 70% for training set and 30% for testing set. After that we do classification on the given astronomy datasets."
   ]
  },
  {
   "cell_type": "code",
   "execution_count": 336,
   "metadata": {
    "collapsed": false
   },
   "outputs": [
    {
     "name": "stdout",
     "output_type": "stream",
     "text": [
      "(62, 4500)\n",
      "(62,)\n"
     ]
    }
   ],
   "source": [
    "#Splitting the data for classification purpose..\n",
    "#Input dataframe consists of X1, X2\n",
    "#print frame.shape\n",
    "#print frame.iloc[:,9273:]\n",
    "X = frame.drop(['Y'],axis=1) \n",
    "#print X.iloc[:,9273:]\n",
    "\n",
    "print X.shape\n",
    "\n",
    "#Output vector(predictor/response) vector\n",
    "Y = frame['Y']\n",
    "\n",
    "print Y.shape\n",
    "#Splitting data into train and testing. 70% Training and 30% Testing..\n",
    "X_train, X_test, Y_train, Y_test = train_test_split(X, Y, test_size=0.3, random_state=4)"
   ]
  },
  {
   "cell_type": "code",
   "execution_count": 337,
   "metadata": {
    "collapsed": false
   },
   "outputs": [
    {
     "name": "stdout",
     "output_type": "stream",
     "text": [
      "(43, 4500) (43,) (19, 4500) (19,)\n"
     ]
    }
   ],
   "source": [
    "print X_train.shape, Y_train.shape, X_test.shape, Y_test.shape\n",
    "\n",
    "#Validating the number\n",
    "#print 101390*0.7, 101390*0.3 "
   ]
  },
  {
   "cell_type": "markdown",
   "metadata": {},
   "source": [
    "Some of the algorithm for logistic regression. Algorithm from Andrew Ng machine learning class."
   ]
  },
  {
   "cell_type": "markdown",
   "metadata": {},
   "source": [
    "## Logistic Regression"
   ]
  },
  {
   "cell_type": "code",
   "execution_count": 316,
   "metadata": {
    "collapsed": false
   },
   "outputs": [],
   "source": [
    "#Logistic Regression algorithm\n",
    "\n",
    "#Sigmoid function\n",
    "def sigmoid(z):\n",
    "    return 1 / (1 + np.exp(-z))\n",
    "\n",
    "#Prediction\n",
    "def predict(theta, X):\n",
    "    probability = sigmoid(X * theta.T)\n",
    "    return [1.0 if x >= 0.5 else 0.0 for x in probability]\n",
    "\n",
    "#Cost calculation with regularization\n",
    "def costReg(theta, X, y, learningRate):\n",
    "    theta = np.matrix(theta)\n",
    "    X = np.matrix(X)\n",
    "    y = np.matrix(y)\n",
    "    \n",
    "    print X.shape, y.shape, theta.shape\n",
    "    \n",
    "    first = np.multiply(-y, np.log(sigmoid(X * theta.T)))\n",
    "    second = np.multiply((1 - y), np.log(1 - sigmoid(X * theta.T)))\n",
    "    reg = (learningRate / 2 * len(X)) * np.sum(np.power(theta[:,1:theta.shape[1]], 2))\n",
    "    return np.sum(first - second) / (len(X)) + reg\n",
    "    \n",
    "#Gradient calculation with regularization\n",
    "def gradientReg(theta, X, y, learningRate):\n",
    "    theta = np.matrix(theta)\n",
    "    X = np.matrix(X)\n",
    "    y = np.matrix(y)\n",
    "    \n",
    "    parameters = int(theta.ravel().shape[1])\n",
    "    grad = np.zeros(parameters)\n",
    "    \n",
    "    error = sigmoid(X * theta.T) - y\n",
    "    \n",
    "    for i in range(parameters):\n",
    "        term = np.multiply(error, X[:,i])\n",
    "        \n",
    "        if (i == 0):\n",
    "            grad[i] = np.sum(term) / len(X)\n",
    "        else:\n",
    "            grad[i] = (np.sum(term) / len(X)) + ((learningRate / len(X)) * theta[:,i])\n",
    "    \n",
    "    return grad\n",
    "\n"
   ]
  },
  {
   "cell_type": "code",
   "execution_count": 281,
   "metadata": {
    "collapsed": true
   },
   "outputs": [
    {
     "name": "stdout",
     "output_type": "stream",
     "text": [
      "           0          1          2         3          4          5   \\\n",
      "10  3612.4347 -20.972565  3613.2665  3.825174  3614.0986   6.726816   \n",
      "3   3566.1532   7.131698  3566.9745 -9.035796  3567.7959  16.654399   \n",
      "6   3590.0459   7.291498  3590.8726  0.791032  3591.6995   3.656065   \n",
      "7   3591.6995   3.620451  3592.5267  8.237982  3593.3540   8.290853   \n",
      "0   3590.0459   5.862934  3590.8726  0.635818  3591.6995   2.937599   \n",
      "\n",
      "           6          7          8          9          10        11  \\\n",
      "10  3614.9309  12.394925  3615.7634  10.458275  3616.5960  5.368757   \n",
      "3   3568.6175   4.897989  3569.4393  -5.690701  3570.2613  4.275673   \n",
      "6   3592.5267   7.430761  3593.3540   6.948455  3594.1815  4.295185   \n",
      "7   3594.1815   4.662978  3595.0091   3.852455  3595.8370  9.175366   \n",
      "0   3592.5267   5.968313  3593.3540   5.578865  3594.1815  3.447295   \n",
      "\n",
      "           12        13         14        15         16        17         18  \\\n",
      "10  3617.4289  5.691490  3618.2619  7.192939  3619.0951  4.682623  3619.9286   \n",
      "3   3571.0835  6.496954  3571.9058 -4.158463  3572.7284  9.461834  3573.5511   \n",
      "6   3595.0091  2.737242  3595.8370  8.760174  3596.6651  1.420789  3597.4934   \n",
      "7   3596.6651  6.631068  3597.4934  7.240814  3598.3218  7.097405  3599.1504   \n",
      "0   3595.0091  2.196081  3595.8370  7.025641  3596.6651  1.139045  3597.4934   \n",
      "\n",
      "           19      \n",
      "10  10.767469 ...  \n",
      "3    6.048308 ...  \n",
      "6    6.296593 ...  \n",
      "7    7.102774 ...  \n",
      "0    5.046080 ...  \n",
      "\n",
      "[5 rows x 4500 columns]\n",
      "    Ones          0          1          2         3          4          5  \\\n",
      "10     1  3612.4347 -20.972565  3613.2665  3.825174  3614.0986   6.726816   \n",
      "3      1  3566.1532   7.131698  3566.9745 -9.035796  3567.7959  16.654399   \n",
      "6      1  3590.0459   7.291498  3590.8726  0.791032  3591.6995   3.656065   \n",
      "7      1  3591.6995   3.620451  3592.5267  8.237982  3593.3540   8.290853   \n",
      "0      1  3590.0459   5.862934  3590.8726  0.635818  3591.6995   2.937599   \n",
      "\n",
      "            6          7          8          9         10        11  \\\n",
      "10  3614.9309  12.394925  3615.7634  10.458275  3616.5960  5.368757   \n",
      "3   3568.6175   4.897989  3569.4393  -5.690701  3570.2613  4.275673   \n",
      "6   3592.5267   7.430761  3593.3540   6.948455  3594.1815  4.295185   \n",
      "7   3594.1815   4.662978  3595.0091   3.852455  3595.8370  9.175366   \n",
      "0   3592.5267   5.968313  3593.3540   5.578865  3594.1815  3.447295   \n",
      "\n",
      "           12        13         14        15         16        17         18  \\\n",
      "10  3617.4289  5.691490  3618.2619  7.192939  3619.0951  4.682623  3619.9286   \n",
      "3   3571.0835  6.496954  3571.9058 -4.158463  3572.7284  9.461834  3573.5511   \n",
      "6   3595.0091  2.737242  3595.8370  8.760174  3596.6651  1.420789  3597.4934   \n",
      "7   3596.6651  6.631068  3597.4934  7.240814  3598.3218  7.097405  3599.1504   \n",
      "0   3595.0091  2.196081  3595.8370  7.025641  3596.6651  1.139045  3597.4934   \n",
      "\n",
      "        \n",
      "10 ...  \n",
      "3  ...  \n",
      "6  ...  \n",
      "7  ...  \n",
      "0  ...  \n",
      "\n",
      "[5 rows x 4501 columns]\n"
     ]
    }
   ],
   "source": [
    "# add a ones column - this makes the matrix multiplication work out easier\n",
    "#print X.head()\n",
    "#print Y.head()\n",
    "\n",
    "X_tmp = X\n",
    "Y_tmp = Y\n",
    "print X_tmp.head()\n",
    "X_tmp.insert(0,'Ones',1)\n",
    "print X_tmp.head()"
   ]
  },
  {
   "cell_type": "markdown",
   "metadata": {},
   "source": [
    "Since the optimization algorithm only uses ndarray type and no matrix type we need to change it to array. Also theta should be flatten other wise it gives wierd error."
   ]
  },
  {
   "cell_type": "code",
   "execution_count": 288,
   "metadata": {
    "collapsed": false
   },
   "outputs": [
    {
     "name": "stdout",
     "output_type": "stream",
     "text": [
      "(12, 4501) (1, 12) (4501,)\n",
      "<type 'numpy.ndarray'> <type 'numpy.ndarray'> <type 'numpy.ndarray'>\n"
     ]
    }
   ],
   "source": [
    "X_tmp = np.array(X_tmp)\n",
    "Y_tmp1 = np.matrix(Y_tmp)\n",
    "Y_tmp = np.array(Y_tmp1.T)\n",
    "theta_tmp = np.zeros(X_tmp.shape[1])\n",
    "\n",
    "print  X_tmp.shape, Y_tmp.shape, theta_tmp.shape\n",
    "print type(X_tmp), type(Y_tmp), type(theta_tmp)"
   ]
  },
  {
   "cell_type": "code",
   "execution_count": 292,
   "metadata": {
    "collapsed": false
   },
   "outputs": [
    {
     "name": "stdout",
     "output_type": "stream",
     "text": [
      "(12, 4501) (1, 12) (1, 4501)\n",
      "8.31776616672\n",
      "[  0.00000000e+00   7.57912251e-14   2.96059473e-16 ...,   1.11022302e-16\n",
      "   1.51582450e-13   1.11022302e-16]\n",
      "(12, 4501) (1, 12) (1, 4501)\n",
      "(12, 4501) (1, 12) (1, 4501)\n",
      "(array([ 0.,  0.,  0., ...,  0.,  0.,  0.]), 1, 0)\n"
     ]
    }
   ],
   "source": [
    "\n",
    "print costReg(theta_tmp, X_tmp, Y_tmp, 0)\n",
    "    \n",
    "print gradientReg(theta_tmp, X_tmp, Y_tmp, 0)\n",
    "\n",
    "#Looks like fmin_tnc only take ndarray type, no matrix or whatsoever...\n",
    "result = opt.fmin_tnc(func=costReg, x0=theta_tmp, fprime=gradientReg, args=(X_tmp,Y_tmp, 0) )\n",
    "                                                                            \n",
    "print result\n"
   ]
  },
  {
   "cell_type": "markdown",
   "metadata": {},
   "source": [
    "Now using the algorithm above, it calculates the accuracy. Accuracy seems bit low somehow."
   ]
  },
  {
   "cell_type": "code",
   "execution_count": 321,
   "metadata": {
    "collapsed": false
   },
   "outputs": [
    {
     "name": "stdout",
     "output_type": "stream",
     "text": [
      "<type 'list'> <type 'list'>\n",
      "[1.0, 1.0, 1.0, 1.0, 1.0, 1.0, 1.0, 1.0, 1.0, 1.0, 1.0, 1.0]\n",
      "[[0.0, 1.0, 0.0, 0.0, 1.0, 0.0, 1.0, 1.0, 1.0, 0.0, 1.0, 0.0]]\n",
      "[(1.0, array([ 0.,  1.,  0.,  0.,  1.,  0.,  1.,  1.,  1.,  0.,  1.,  0.]))]\n",
      "False\n"
     ]
    },
    {
     "ename": "TypeError",
     "evalue": "argument 2 to map() must support iteration",
     "output_type": "error",
     "traceback": [
      "\u001b[1;31m---------------------------------------------------------------------------\u001b[0m",
      "\u001b[1;31mTypeError\u001b[0m                                 Traceback (most recent call last)",
      "\u001b[1;32m<ipython-input-321-0e84cf6e2927>\u001b[0m in \u001b[0;36m<module>\u001b[1;34m()\u001b[0m\n\u001b[0;32m      8\u001b[0m \u001b[0mcorrect\u001b[0m \u001b[1;33m=\u001b[0m  \u001b[1;33m(\u001b[0m\u001b[0mpredictions\u001b[0m\u001b[1;33m==\u001b[0m\u001b[0mY_tmp\u001b[0m\u001b[1;33m.\u001b[0m\u001b[0mtolist\u001b[0m\u001b[1;33m(\u001b[0m\u001b[1;33m)\u001b[0m\u001b[1;33m)\u001b[0m\u001b[1;31m#[1 if ((a == 1 and b == 1) or (a == 0 and b == 0)) else 0 for (a, b) in zip(predictions, Y_tmp.tolist())]\u001b[0m\u001b[1;33m\u001b[0m\u001b[0m\n\u001b[0;32m      9\u001b[0m \u001b[1;32mprint\u001b[0m \u001b[0mcorrect\u001b[0m\u001b[1;33m\u001b[0m\u001b[0m\n\u001b[1;32m---> 10\u001b[1;33m \u001b[0maccuracy\u001b[0m \u001b[1;33m=\u001b[0m \u001b[1;33m(\u001b[0m\u001b[0msum\u001b[0m\u001b[1;33m(\u001b[0m\u001b[0mmap\u001b[0m\u001b[1;33m(\u001b[0m\u001b[0mint\u001b[0m\u001b[1;33m,\u001b[0m \u001b[0mcorrect\u001b[0m\u001b[1;33m)\u001b[0m\u001b[1;33m)\u001b[0m \u001b[1;33m/\u001b[0m \u001b[0mfloat\u001b[0m\u001b[1;33m(\u001b[0m\u001b[0mlen\u001b[0m\u001b[1;33m(\u001b[0m\u001b[0mcorrect\u001b[0m\u001b[1;33m)\u001b[0m\u001b[1;33m)\u001b[0m\u001b[1;33m)\u001b[0m\u001b[1;33m\u001b[0m\u001b[0m\n\u001b[0m\u001b[0;32m     11\u001b[0m \u001b[1;31m#print 'accuracy = {0}%'.format(accuracy)\u001b[0m\u001b[1;33m\u001b[0m\u001b[1;33m\u001b[0m\u001b[0m\n\u001b[0;32m     12\u001b[0m \u001b[1;32mprint\u001b[0m \u001b[1;34m'accuracy = {0}%'\u001b[0m\u001b[1;33m.\u001b[0m\u001b[0mformat\u001b[0m\u001b[1;33m(\u001b[0m\u001b[0maccuracy\u001b[0m\u001b[1;33m*\u001b[0m\u001b[1;36m100\u001b[0m\u001b[1;33m)\u001b[0m\u001b[1;33m\u001b[0m\u001b[0m\n",
      "\u001b[1;31mTypeError\u001b[0m: argument 2 to map() must support iteration"
     ]
    }
   ],
   "source": [
    "#Accuracy\n",
    "theta_min = np.matrix(result[0])\n",
    "predictions = predict(theta_min, X_tmp)\n",
    "print type(list(Y_tmp)), type(predictions)\n",
    "print predictions\n",
    "print Y_tmp.tolist()\n",
    "print zip(predictions, Y_tmp)\n",
    "correct =  (predictions==Y_tmp.tolist())#[1 if ((a == 1 and b == 1) or (a == 0 and b == 0)) else 0 for (a, b) in zip(predictions, Y_tmp.tolist())]\n",
    "print correct\n",
    "accuracy = (sum(map(int, correct)) / float(len(correct)))\n",
    "#print 'accuracy = {0}%'.format(accuracy)\n",
    "print 'accuracy = {0}%'.format(accuracy*100)"
   ]
  },
  {
   "cell_type": "markdown",
   "metadata": {},
   "source": [
    "Now in below code, the polynomial feature is added for classification. This is done by taking polynomial power of each original column X1 & X2 and removing the original columns."
   ]
  },
  {
   "cell_type": "code",
   "execution_count": 322,
   "metadata": {
    "collapsed": true
   },
   "outputs": [
    {
     "ename": "KeyError",
     "evalue": "u'no item named X1'",
     "output_type": "error",
     "traceback": [
      "\u001b[1;31m---------------------------------------------------------------------------\u001b[0m",
      "\u001b[1;31mKeyError\u001b[0m                                  Traceback (most recent call last)",
      "\u001b[1;32m<ipython-input-322-34b3c101cbd1>\u001b[0m in \u001b[0;36m<module>\u001b[1;34m()\u001b[0m\n\u001b[0;32m      7\u001b[0m \u001b[1;33m\u001b[0m\u001b[0m\n\u001b[0;32m      8\u001b[0m \u001b[0mframe_log\u001b[0m \u001b[1;33m=\u001b[0m \u001b[0mframe\u001b[0m\u001b[1;33m\u001b[0m\u001b[0m\n\u001b[1;32m----> 9\u001b[1;33m \u001b[0mx1\u001b[0m \u001b[1;33m=\u001b[0m \u001b[0mframe_log\u001b[0m\u001b[1;33m[\u001b[0m\u001b[1;34m'X1'\u001b[0m\u001b[1;33m]\u001b[0m\u001b[1;33m\u001b[0m\u001b[0m\n\u001b[0m\u001b[0;32m     10\u001b[0m \u001b[0mx2\u001b[0m \u001b[1;33m=\u001b[0m \u001b[0mframe_log\u001b[0m\u001b[1;33m[\u001b[0m\u001b[1;34m'X2'\u001b[0m\u001b[1;33m]\u001b[0m\u001b[1;33m\u001b[0m\u001b[0m\n\u001b[0;32m     11\u001b[0m \u001b[1;33m\u001b[0m\u001b[0m\n",
      "\u001b[1;32m/usr/lib/python2.7/dist-packages/pandas/core/frame.pyc\u001b[0m in \u001b[0;36m__getitem__\u001b[1;34m(self, key)\u001b[0m\n\u001b[0;32m   1656\u001b[0m             \u001b[1;32mreturn\u001b[0m \u001b[0mself\u001b[0m\u001b[1;33m.\u001b[0m\u001b[0m_getitem_multilevel\u001b[0m\u001b[1;33m(\u001b[0m\u001b[0mkey\u001b[0m\u001b[1;33m)\u001b[0m\u001b[1;33m\u001b[0m\u001b[0m\n\u001b[0;32m   1657\u001b[0m         \u001b[1;32melse\u001b[0m\u001b[1;33m:\u001b[0m\u001b[1;33m\u001b[0m\u001b[0m\n\u001b[1;32m-> 1658\u001b[1;33m             \u001b[1;32mreturn\u001b[0m \u001b[0mself\u001b[0m\u001b[1;33m.\u001b[0m\u001b[0m_getitem_column\u001b[0m\u001b[1;33m(\u001b[0m\u001b[0mkey\u001b[0m\u001b[1;33m)\u001b[0m\u001b[1;33m\u001b[0m\u001b[0m\n\u001b[0m\u001b[0;32m   1659\u001b[0m \u001b[1;33m\u001b[0m\u001b[0m\n\u001b[0;32m   1660\u001b[0m     \u001b[1;32mdef\u001b[0m \u001b[0m_getitem_column\u001b[0m\u001b[1;33m(\u001b[0m\u001b[0mself\u001b[0m\u001b[1;33m,\u001b[0m \u001b[0mkey\u001b[0m\u001b[1;33m)\u001b[0m\u001b[1;33m:\u001b[0m\u001b[1;33m\u001b[0m\u001b[0m\n",
      "\u001b[1;32m/usr/lib/python2.7/dist-packages/pandas/core/frame.pyc\u001b[0m in \u001b[0;36m_getitem_column\u001b[1;34m(self, key)\u001b[0m\n\u001b[0;32m   1663\u001b[0m         \u001b[1;31m# get column\u001b[0m\u001b[1;33m\u001b[0m\u001b[1;33m\u001b[0m\u001b[0m\n\u001b[0;32m   1664\u001b[0m         \u001b[1;32mif\u001b[0m \u001b[0mself\u001b[0m\u001b[1;33m.\u001b[0m\u001b[0mcolumns\u001b[0m\u001b[1;33m.\u001b[0m\u001b[0mis_unique\u001b[0m\u001b[1;33m:\u001b[0m\u001b[1;33m\u001b[0m\u001b[0m\n\u001b[1;32m-> 1665\u001b[1;33m             \u001b[1;32mreturn\u001b[0m \u001b[0mself\u001b[0m\u001b[1;33m.\u001b[0m\u001b[0m_get_item_cache\u001b[0m\u001b[1;33m(\u001b[0m\u001b[0mkey\u001b[0m\u001b[1;33m)\u001b[0m\u001b[1;33m\u001b[0m\u001b[0m\n\u001b[0m\u001b[0;32m   1666\u001b[0m \u001b[1;33m\u001b[0m\u001b[0m\n\u001b[0;32m   1667\u001b[0m         \u001b[1;31m# duplicate columns & possible reduce dimensionaility\u001b[0m\u001b[1;33m\u001b[0m\u001b[1;33m\u001b[0m\u001b[0m\n",
      "\u001b[1;32m/usr/lib/python2.7/dist-packages/pandas/core/generic.pyc\u001b[0m in \u001b[0;36m_get_item_cache\u001b[1;34m(self, item)\u001b[0m\n\u001b[0;32m   1003\u001b[0m         \u001b[0mres\u001b[0m \u001b[1;33m=\u001b[0m \u001b[0mcache\u001b[0m\u001b[1;33m.\u001b[0m\u001b[0mget\u001b[0m\u001b[1;33m(\u001b[0m\u001b[0mitem\u001b[0m\u001b[1;33m)\u001b[0m\u001b[1;33m\u001b[0m\u001b[0m\n\u001b[0;32m   1004\u001b[0m         \u001b[1;32mif\u001b[0m \u001b[0mres\u001b[0m \u001b[1;32mis\u001b[0m \u001b[0mNone\u001b[0m\u001b[1;33m:\u001b[0m\u001b[1;33m\u001b[0m\u001b[0m\n\u001b[1;32m-> 1005\u001b[1;33m             \u001b[0mvalues\u001b[0m \u001b[1;33m=\u001b[0m \u001b[0mself\u001b[0m\u001b[1;33m.\u001b[0m\u001b[0m_data\u001b[0m\u001b[1;33m.\u001b[0m\u001b[0mget\u001b[0m\u001b[1;33m(\u001b[0m\u001b[0mitem\u001b[0m\u001b[1;33m)\u001b[0m\u001b[1;33m\u001b[0m\u001b[0m\n\u001b[0m\u001b[0;32m   1006\u001b[0m             \u001b[0mres\u001b[0m \u001b[1;33m=\u001b[0m \u001b[0mself\u001b[0m\u001b[1;33m.\u001b[0m\u001b[0m_box_item_values\u001b[0m\u001b[1;33m(\u001b[0m\u001b[0mitem\u001b[0m\u001b[1;33m,\u001b[0m \u001b[0mvalues\u001b[0m\u001b[1;33m)\u001b[0m\u001b[1;33m\u001b[0m\u001b[0m\n\u001b[0;32m   1007\u001b[0m             \u001b[0mcache\u001b[0m\u001b[1;33m[\u001b[0m\u001b[0mitem\u001b[0m\u001b[1;33m]\u001b[0m \u001b[1;33m=\u001b[0m \u001b[0mres\u001b[0m\u001b[1;33m\u001b[0m\u001b[0m\n",
      "\u001b[1;32m/usr/lib/python2.7/dist-packages/pandas/core/internals.pyc\u001b[0m in \u001b[0;36mget\u001b[1;34m(self, item)\u001b[0m\n\u001b[0;32m   2872\u001b[0m                 \u001b[1;32mreturn\u001b[0m \u001b[0mself\u001b[0m\u001b[1;33m.\u001b[0m\u001b[0mget_for_nan_indexer\u001b[0m\u001b[1;33m(\u001b[0m\u001b[0mindexer\u001b[0m\u001b[1;33m)\u001b[0m\u001b[1;33m\u001b[0m\u001b[0m\n\u001b[0;32m   2873\u001b[0m \u001b[1;33m\u001b[0m\u001b[0m\n\u001b[1;32m-> 2874\u001b[1;33m             \u001b[0m_\u001b[0m\u001b[1;33m,\u001b[0m \u001b[0mblock\u001b[0m \u001b[1;33m=\u001b[0m \u001b[0mself\u001b[0m\u001b[1;33m.\u001b[0m\u001b[0m_find_block\u001b[0m\u001b[1;33m(\u001b[0m\u001b[0mitem\u001b[0m\u001b[1;33m)\u001b[0m\u001b[1;33m\u001b[0m\u001b[0m\n\u001b[0m\u001b[0;32m   2875\u001b[0m             \u001b[1;32mreturn\u001b[0m \u001b[0mblock\u001b[0m\u001b[1;33m.\u001b[0m\u001b[0mget\u001b[0m\u001b[1;33m(\u001b[0m\u001b[0mitem\u001b[0m\u001b[1;33m)\u001b[0m\u001b[1;33m\u001b[0m\u001b[0m\n\u001b[0;32m   2876\u001b[0m         \u001b[1;32melse\u001b[0m\u001b[1;33m:\u001b[0m\u001b[1;33m\u001b[0m\u001b[0m\n",
      "\u001b[1;32m/usr/lib/python2.7/dist-packages/pandas/core/internals.pyc\u001b[0m in \u001b[0;36m_find_block\u001b[1;34m(self, item)\u001b[0m\n\u001b[0;32m   3184\u001b[0m \u001b[1;33m\u001b[0m\u001b[0m\n\u001b[0;32m   3185\u001b[0m     \u001b[1;32mdef\u001b[0m \u001b[0m_find_block\u001b[0m\u001b[1;33m(\u001b[0m\u001b[0mself\u001b[0m\u001b[1;33m,\u001b[0m \u001b[0mitem\u001b[0m\u001b[1;33m)\u001b[0m\u001b[1;33m:\u001b[0m\u001b[1;33m\u001b[0m\u001b[0m\n\u001b[1;32m-> 3186\u001b[1;33m         \u001b[0mself\u001b[0m\u001b[1;33m.\u001b[0m\u001b[0m_check_have\u001b[0m\u001b[1;33m(\u001b[0m\u001b[0mitem\u001b[0m\u001b[1;33m)\u001b[0m\u001b[1;33m\u001b[0m\u001b[0m\n\u001b[0m\u001b[0;32m   3187\u001b[0m         \u001b[1;32mfor\u001b[0m \u001b[0mi\u001b[0m\u001b[1;33m,\u001b[0m \u001b[0mblock\u001b[0m \u001b[1;32min\u001b[0m \u001b[0menumerate\u001b[0m\u001b[1;33m(\u001b[0m\u001b[0mself\u001b[0m\u001b[1;33m.\u001b[0m\u001b[0mblocks\u001b[0m\u001b[1;33m)\u001b[0m\u001b[1;33m:\u001b[0m\u001b[1;33m\u001b[0m\u001b[0m\n\u001b[0;32m   3188\u001b[0m             \u001b[1;32mif\u001b[0m \u001b[0mitem\u001b[0m \u001b[1;32min\u001b[0m \u001b[0mblock\u001b[0m\u001b[1;33m:\u001b[0m\u001b[1;33m\u001b[0m\u001b[0m\n",
      "\u001b[1;32m/usr/lib/python2.7/dist-packages/pandas/core/internals.pyc\u001b[0m in \u001b[0;36m_check_have\u001b[1;34m(self, item)\u001b[0m\n\u001b[0;32m   3191\u001b[0m     \u001b[1;32mdef\u001b[0m \u001b[0m_check_have\u001b[0m\u001b[1;33m(\u001b[0m\u001b[0mself\u001b[0m\u001b[1;33m,\u001b[0m \u001b[0mitem\u001b[0m\u001b[1;33m)\u001b[0m\u001b[1;33m:\u001b[0m\u001b[1;33m\u001b[0m\u001b[0m\n\u001b[0;32m   3192\u001b[0m         \u001b[1;32mif\u001b[0m \u001b[0mitem\u001b[0m \u001b[1;32mnot\u001b[0m \u001b[1;32min\u001b[0m \u001b[0mself\u001b[0m\u001b[1;33m.\u001b[0m\u001b[0mitems\u001b[0m\u001b[1;33m:\u001b[0m\u001b[1;33m\u001b[0m\u001b[0m\n\u001b[1;32m-> 3193\u001b[1;33m             \u001b[1;32mraise\u001b[0m \u001b[0mKeyError\u001b[0m\u001b[1;33m(\u001b[0m\u001b[1;34m'no item named %s'\u001b[0m \u001b[1;33m%\u001b[0m \u001b[0mcom\u001b[0m\u001b[1;33m.\u001b[0m\u001b[0mpprint_thing\u001b[0m\u001b[1;33m(\u001b[0m\u001b[0mitem\u001b[0m\u001b[1;33m)\u001b[0m\u001b[1;33m)\u001b[0m\u001b[1;33m\u001b[0m\u001b[0m\n\u001b[0m\u001b[0;32m   3194\u001b[0m \u001b[1;33m\u001b[0m\u001b[0m\n\u001b[0;32m   3195\u001b[0m     def reindex_axis(self, new_axis, indexer=None, method=None, axis=0,\n",
      "\u001b[1;31mKeyError\u001b[0m: u'no item named X1'"
     ]
    }
   ],
   "source": [
    "#Increasing the features..adding more polynomials term\n",
    "degree = 5\n",
    "\n",
    "#Reseting this variable\n",
    "#%reset_selective frame_log\n",
    "#%reset frame_log\n",
    "\n",
    "frame_log = frame\n",
    "x1 = frame_log['X1']\n",
    "x2 = frame_log['X2']\n",
    "\n",
    "print frame_log.head()\n",
    "#print x1.head()\n",
    "#print x2.head()\n",
    "\n",
    "#Insert at 0th column, Ones column name and value as 1\n",
    "frame_log.insert(3, 'Ones', 1) \n",
    "print frame_log.head()\n",
    "\n"
   ]
  },
  {
   "cell_type": "code",
   "execution_count": 24,
   "metadata": {
    "collapsed": false
   },
   "outputs": [
    {
     "data": {
      "text/html": [
       "<div style=\"max-height:1000px;max-width:1500px;overflow:auto;\">\n",
       "<table border=\"1\" class=\"dataframe\">\n",
       "  <thead>\n",
       "    <tr style=\"text-align: right;\">\n",
       "      <th></th>\n",
       "      <th>Y</th>\n",
       "      <th>Ones</th>\n",
       "      <th>X_10</th>\n",
       "      <th>X_20</th>\n",
       "      <th>X_21</th>\n",
       "      <th>X_30</th>\n",
       "      <th>X_31</th>\n",
       "      <th>X_32</th>\n",
       "      <th>X_40</th>\n",
       "      <th>X_41</th>\n",
       "      <th>X_42</th>\n",
       "      <th>X_43</th>\n",
       "    </tr>\n",
       "  </thead>\n",
       "  <tbody>\n",
       "    <tr>\n",
       "      <th>228531</th>\n",
       "      <td> 0</td>\n",
       "      <td> 1</td>\n",
       "      <td>  6295.0618</td>\n",
       "      <td> 3.962780e+07</td>\n",
       "      <td> 32857.719050</td>\n",
       "      <td> 2.494595e+11</td>\n",
       "      <td> 2.068414e+08</td>\n",
       "      <td>  171504.225926</td>\n",
       "      <td> 1.570363e+15</td>\n",
       "      <td> 1.302079e+12</td>\n",
       "      <td> 1.079630e+09</td>\n",
       "      <td>   895183.852102</td>\n",
       "    </tr>\n",
       "    <tr>\n",
       "      <th>154117</th>\n",
       "      <td> 0</td>\n",
       "      <td> 1</td>\n",
       "      <td>  5578.2760</td>\n",
       "      <td> 3.111716e+07</td>\n",
       "      <td>  6279.887011</td>\n",
       "      <td> 1.735801e+11</td>\n",
       "      <td> 3.503094e+07</td>\n",
       "      <td>    7069.743568</td>\n",
       "      <td> 9.682778e+14</td>\n",
       "      <td> 1.954123e+11</td>\n",
       "      <td> 3.943698e+07</td>\n",
       "      <td>     7958.944807</td>\n",
       "    </tr>\n",
       "    <tr>\n",
       "      <th>161293</th>\n",
       "      <td> 0</td>\n",
       "      <td> 1</td>\n",
       "      <td> 10032.2880</td>\n",
       "      <td> 1.006468e+08</td>\n",
       "      <td> 10357.358209</td>\n",
       "      <td> 1.009718e+12</td>\n",
       "      <td> 1.039080e+08</td>\n",
       "      <td>   10692.961472</td>\n",
       "      <td> 1.012978e+16</td>\n",
       "      <td> 1.042435e+12</td>\n",
       "      <td> 1.072749e+08</td>\n",
       "      <td>    11039.439087</td>\n",
       "    </tr>\n",
       "    <tr>\n",
       "      <th>240697</th>\n",
       "      <td> 0</td>\n",
       "      <td> 1</td>\n",
       "      <td>  4325.1383</td>\n",
       "      <td> 1.870682e+07</td>\n",
       "      <td> 66073.502907</td>\n",
       "      <td> 8.090959e+10</td>\n",
       "      <td> 2.857770e+08</td>\n",
       "      <td> 1009379.928123</td>\n",
       "      <td> 3.499452e+14</td>\n",
       "      <td> 1.236025e+12</td>\n",
       "      <td> 4.365708e+09</td>\n",
       "      <td> 15419915.616329</td>\n",
       "    </tr>\n",
       "    <tr>\n",
       "      <th>255884</th>\n",
       "      <td> 0</td>\n",
       "      <td> 1</td>\n",
       "      <td>  5964.8565</td>\n",
       "      <td> 3.557951e+07</td>\n",
       "      <td> 24410.367585</td>\n",
       "      <td> 2.122267e+11</td>\n",
       "      <td> 1.456043e+08</td>\n",
       "      <td>   99896.124177</td>\n",
       "      <td> 1.265902e+15</td>\n",
       "      <td> 8.685090e+11</td>\n",
       "      <td> 5.958660e+08</td>\n",
       "      <td>   408811.362257</td>\n",
       "    </tr>\n",
       "  </tbody>\n",
       "</table>\n",
       "<p>5 rows × 12 columns</p>\n",
       "</div>"
      ],
      "text/plain": [
       "        Y  Ones        X_10          X_20          X_21          X_30  \\\n",
       "228531  0     1   6295.0618  3.962780e+07  32857.719050  2.494595e+11   \n",
       "154117  0     1   5578.2760  3.111716e+07   6279.887011  1.735801e+11   \n",
       "161293  0     1  10032.2880  1.006468e+08  10357.358209  1.009718e+12   \n",
       "240697  0     1   4325.1383  1.870682e+07  66073.502907  8.090959e+10   \n",
       "255884  0     1   5964.8565  3.557951e+07  24410.367585  2.122267e+11   \n",
       "\n",
       "                X_31            X_32          X_40          X_41  \\\n",
       "228531  2.068414e+08   171504.225926  1.570363e+15  1.302079e+12   \n",
       "154117  3.503094e+07     7069.743568  9.682778e+14  1.954123e+11   \n",
       "161293  1.039080e+08    10692.961472  1.012978e+16  1.042435e+12   \n",
       "240697  2.857770e+08  1009379.928123  3.499452e+14  1.236025e+12   \n",
       "255884  1.456043e+08    99896.124177  1.265902e+15  8.685090e+11   \n",
       "\n",
       "                X_42             X_43  \n",
       "228531  1.079630e+09    895183.852102  \n",
       "154117  3.943698e+07      7958.944807  \n",
       "161293  1.072749e+08     11039.439087  \n",
       "240697  4.365708e+09  15419915.616329  \n",
       "255884  5.958660e+08    408811.362257  \n",
       "\n",
       "[5 rows x 12 columns]"
      ]
     },
     "execution_count": 24,
     "metadata": {},
     "output_type": "execute_result"
    }
   ],
   "source": [
    "for i in range(1, degree):\n",
    "    for j in range(0, i):\n",
    "        frame_log['X_' + str(i) + str(j)] = np.power(x1, i-j) * np.power(x2, j)\n",
    "\n",
    "frame_log.drop('X1', axis=1, inplace=True)\n",
    "frame_log.drop('X2', axis=1, inplace=True)\n",
    "\n",
    "frame_log.head()"
   ]
  },
  {
   "cell_type": "code",
   "execution_count": 25,
   "metadata": {
    "collapsed": false
   },
   "outputs": [
    {
     "name": "stdout",
     "output_type": "stream",
     "text": [
      "        Ones        X_10          X_20          X_21          X_30  \\\n",
      "228531     1   6295.0618  3.962780e+07  32857.719050  2.494595e+11   \n",
      "154117     1   5578.2760  3.111716e+07   6279.887011  1.735801e+11   \n",
      "161293     1  10032.2880  1.006468e+08  10357.358209  1.009718e+12   \n",
      "240697     1   4325.1383  1.870682e+07  66073.502907  8.090959e+10   \n",
      "255884     1   5964.8565  3.557951e+07  24410.367585  2.122267e+11   \n",
      "\n",
      "                X_31            X_32          X_40          X_41  \\\n",
      "228531  2.068414e+08   171504.225926  1.570363e+15  1.302079e+12   \n",
      "154117  3.503094e+07     7069.743568  9.682778e+14  1.954123e+11   \n",
      "161293  1.039080e+08    10692.961472  1.012978e+16  1.042435e+12   \n",
      "240697  2.857770e+08  1009379.928123  3.499452e+14  1.236025e+12   \n",
      "255884  1.456043e+08    99896.124177  1.265902e+15  8.685090e+11   \n",
      "\n",
      "                X_42             X_43  \n",
      "228531  1.079630e+09    895183.852102  \n",
      "154117  3.943698e+07      7958.944807  \n",
      "161293  1.072749e+08     11039.439087  \n",
      "240697  4.365708e+09  15419915.616329  \n",
      "255884  5.958660e+08    408811.362257  \n",
      "\n",
      "[5 rows x 11 columns]\n",
      "        Y\n",
      "228531  0\n",
      "154117  0\n",
      "161293  0\n",
      "240697  0\n",
      "255884  0\n",
      "\n",
      "[5 rows x 1 columns]\n"
     ]
    }
   ],
   "source": [
    "# set X and y (remember from above that we moved the label to column 0)\n",
    "cols = frame_log.shape[1]\n",
    "X2 = frame_log.iloc[:,1:cols]\n",
    "y2 = frame_log.iloc[:,0:1]\n",
    "\n",
    "print X2.head()\n",
    "print y2.head()\n",
    "\n",
    "# convert to numpy arrays and initalize the parameter array theta\n",
    "X2 = np.array(X2.values)\n",
    "y2 = np.array(y2.values)\n",
    "theta2 = np.zeros(11)\n"
   ]
  },
  {
   "cell_type": "code",
   "execution_count": 26,
   "metadata": {
    "collapsed": false
   },
   "outputs": [
    {
     "name": "stdout",
     "output_type": "stream",
     "text": [
      "(285988, 11) (285988, 1) (11,)\n",
      "<type 'numpy.ndarray'> <type 'numpy.ndarray'> <type 'numpy.ndarray'>\n"
     ]
    }
   ],
   "source": [
    "print X2.shape, y2.shape, theta2.shape\n",
    "print type(X2), type(y2), type(theta2)"
   ]
  },
  {
   "cell_type": "code",
   "execution_count": 27,
   "metadata": {
    "collapsed": false
   },
   "outputs": [
    {
     "name": "stdout",
     "output_type": "stream",
     "text": [
      "0.693147180563\n",
      "[  0.00000000e+00   3.68297206e-14   9.11822597e-12   1.36991193e+03\n",
      "   4.78633876e-06   7.87212382e+06   1.09936057e+04  -3.51330301e-02\n",
      "   4.75060811e+10   5.90362937e+07   8.27758228e+04]\n"
     ]
    }
   ],
   "source": [
    "learningRate = 1 #0.000001\n",
    "print costReg(theta2, X2, y2, learningRate)\n",
    "print gradientReg(theta2, X2, y2, learningRate)"
   ]
  },
  {
   "cell_type": "code",
   "execution_count": 28,
   "metadata": {
    "collapsed": false
   },
   "outputs": [
    {
     "name": "stdout",
     "output_type": "stream",
     "text": [
      "(array([ 0.,  0.,  0.,  0.,  0.,  0.,  0.,  0.,  0.,  0.,  0.]), 68, 4)\n",
      "Linear search failed\n"
     ]
    }
   ],
   "source": [
    "#Not sure why all theta value is 0, search failed..????\n",
    "result2 = opt.fmin_tnc(func=costReg, x0=theta2, fprime=gradientReg, args=(X2, y2, learningRate))\n",
    "print result2\n",
    "print opt.tnc.RCSTRINGS[4]"
   ]
  },
  {
   "cell_type": "code",
   "execution_count": 29,
   "metadata": {
    "collapsed": false
   },
   "outputs": [
    {
     "name": "stdout",
     "output_type": "stream",
     "text": [
      "accuracy = 50.0%\n"
     ]
    }
   ],
   "source": [
    "theta_min = np.matrix(result2[0])\n",
    "predictions = predict(theta_min, X2)\n",
    "correct = [1 if ((a == 1 and b == 1) or (a == 0 and b == 0)) else 0 for (a, b) in zip(predictions, y2)]\n",
    "accuracy = (sum(map(int, correct)) / float(len(correct)))\n",
    "print 'accuracy = {0}%'.format(accuracy*100)"
   ]
  },
  {
   "cell_type": "markdown",
   "metadata": {},
   "source": [
    "## Logistic Regression (Sklearn)"
   ]
  },
  {
   "cell_type": "code",
   "execution_count": 338,
   "metadata": {
    "collapsed": false
   },
   "outputs": [
    {
     "name": "stdout",
     "output_type": "stream",
     "text": [
      "0.684210526316\n"
     ]
    }
   ],
   "source": [
    "#Logistic Regression-sklearn\n",
    "logReg = LogisticRegression()\n",
    "logReg.fit(X_train,Y_train)\n",
    "Y_logPred = logReg.predict(X_test)\n",
    "print metrics.accuracy_score(Y_test,Y_logPred)"
   ]
  },
  {
   "cell_type": "markdown",
   "metadata": {},
   "source": [
    "Confusion matrix of the model."
   ]
  },
  {
   "cell_type": "code",
   "execution_count": 339,
   "metadata": {
    "collapsed": false
   },
   "outputs": [
    {
     "name": "stdout",
     "output_type": "stream",
     "text": [
      "[[7 0]\n",
      " [6 6]]\n"
     ]
    }
   ],
   "source": [
    "#Confusion matrix of logistic regression\n",
    "conf = metrics.confusion_matrix(Y_test,Y_logPred)\n",
    "#plt.imshow(conf)\n",
    "print conf"
   ]
  },
  {
   "cell_type": "code",
   "execution_count": 340,
   "metadata": {
    "collapsed": false
   },
   "outputs": [
    {
     "data": {
      "text/plain": [
       "0.6362889173817273"
      ]
     },
     "execution_count": 340,
     "metadata": {},
     "output_type": "execute_result"
    }
   ],
   "source": [
    "#Accuracy calculation other way..\n",
    "(9453+9901)/float(9453+9901+5733+5330)"
   ]
  },
  {
   "cell_type": "markdown",
   "metadata": {},
   "source": [
    "## K-Neighbors "
   ]
  },
  {
   "cell_type": "code",
   "execution_count": 341,
   "metadata": {
    "collapsed": false
   },
   "outputs": [
    {
     "name": "stdout",
     "output_type": "stream",
     "text": [
      "0.368421052632\n",
      "[[ 5  2]\n",
      " [10  2]]\n"
     ]
    }
   ],
   "source": [
    "# KNeighbours classification\n",
    "knn = KNeighborsClassifier(n_neighbors=5)\n",
    "\n",
    "knn.fit(X_train,Y_train)\n",
    "Y_pred = knn.predict(X_test)\n",
    "print metrics.accuracy_score(Y_test, Y_pred)\n",
    "conf = metrics.confusion_matrix(Y_test, Y_pred)\n",
    "#plt.imshow(conf)\n",
    "print conf"
   ]
  },
  {
   "cell_type": "code",
   "execution_count": 342,
   "metadata": {
    "collapsed": false
   },
   "outputs": [
    {
     "data": {
      "text/plain": [
       "0.5317092415425584"
      ]
     },
     "execution_count": 342,
     "metadata": {},
     "output_type": "execute_result"
    }
   ],
   "source": [
    "(7776+8397)/float(7776+8397+7432+6812)"
   ]
  },
  {
   "cell_type": "markdown",
   "metadata": {},
   "source": [
    "## Random Forest"
   ]
  },
  {
   "cell_type": "code",
   "execution_count": 343,
   "metadata": {
    "collapsed": false
   },
   "outputs": [
    {
     "name": "stdout",
     "output_type": "stream",
     "text": [
      "0.842105263158\n"
     ]
    }
   ],
   "source": [
    "#Random Forest Classification\n",
    "randForest = RandomForestClassifier(n_estimators=30)\n",
    "randForest.fit(X_train,Y_train)\n",
    "Y_randForestPred = randForest.predict(X_test)\n",
    "print metrics.accuracy_score(Y_test,Y_randForestPred)"
   ]
  },
  {
   "cell_type": "code",
   "execution_count": 344,
   "metadata": {
    "collapsed": false
   },
   "outputs": [
    {
     "name": "stdout",
     "output_type": "stream",
     "text": [
      "[[7 0]\n",
      " [3 9]]\n"
     ]
    }
   ],
   "source": [
    "#Confusion matrix for randomforest\n",
    "conf2 = metrics.confusion_matrix(Y_test,Y_randForestPred)\n",
    "#plt.imshow(conf2)\n",
    "print conf2"
   ]
  },
  {
   "cell_type": "code",
   "execution_count": 345,
   "metadata": {
    "collapsed": false
   },
   "outputs": [
    {
     "data": {
      "text/plain": [
       "0.613308347305783"
      ]
     },
     "execution_count": 345,
     "metadata": {},
     "output_type": "execute_result"
    }
   ],
   "source": [
    "(9569+9086)/float(9569+9086+5639+6123)"
   ]
  },
  {
   "cell_type": "markdown",
   "metadata": {},
   "source": [
    "## Support vector machine"
   ]
  },
  {
   "cell_type": "code",
   "execution_count": 346,
   "metadata": {
    "collapsed": false
   },
   "outputs": [
    {
     "data": {
      "text/plain": [
       "LinearSVC(C=10, class_weight=None, dual=True, fit_intercept=True,\n",
       "     intercept_scaling=1, loss='hinge', max_iter=1000, multi_class='ovr',\n",
       "     penalty='l2', random_state=None, tol=0.0001, verbose=0)"
      ]
     },
     "execution_count": 346,
     "metadata": {},
     "output_type": "execute_result"
    }
   ],
   "source": [
    "#Support Vector Machine\n",
    "svc = svm.LinearSVC(C=10, loss='hinge', max_iter=1000)\n",
    "svc"
   ]
  },
  {
   "cell_type": "code",
   "execution_count": 347,
   "metadata": {
    "collapsed": false
   },
   "outputs": [
    {
     "data": {
      "text/plain": [
       "0.36842105263157893"
      ]
     },
     "execution_count": 347,
     "metadata": {},
     "output_type": "execute_result"
    }
   ],
   "source": [
    "svc.fit(X_train,Y_train)\n",
    "svc.score(X_test, Y_test)"
   ]
  },
  {
   "cell_type": "code",
   "execution_count": null,
   "metadata": {
    "collapsed": true
   },
   "outputs": [],
   "source": []
  }
 ],
 "metadata": {
  "kernelspec": {
   "display_name": "Python 2",
   "language": "python",
   "name": "python2"
  },
  "language_info": {
   "codemirror_mode": {
    "name": "ipython",
    "version": 2
   },
   "file_extension": ".py",
   "mimetype": "text/x-python",
   "name": "python",
   "nbconvert_exporter": "python",
   "pygments_lexer": "ipython2",
   "version": "2.7.6"
  }
 },
 "nbformat": 4,
 "nbformat_minor": 0
}
