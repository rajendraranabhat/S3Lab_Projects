{
 "cells": [
  {
   "cell_type": "markdown",
   "metadata": {},
   "source": [
    "# Doing simple classification for DeepSky Datasets."
   ]
  },
  {
   "cell_type": "code",
   "execution_count": 5,
   "metadata": {
    "collapsed": false
   },
   "outputs": [],
   "source": [
    "import numpy as np\n",
    "import pandas as pd\n",
    "from sklearn.neighbors import KNeighborsClassifier\n",
    "from sklearn.linear_model import LogisticRegression\n",
    "from sklearn.ensemble import RandomForestClassifier\n",
    "from sklearn.cross_validation import cross_val_score\n",
    "from sklearn import metrics\n",
    "from sklearn.cross_validation import train_test_split\n",
    "from sklearn.metrics import confusion_matrix, roc_curve, auc\n",
    "from sklearn.grid_search import GridSearchCV\n",
    "from sklearn import svm\n",
    "import matplotlib.pyplot as plt\n",
    "import scipy.optimize as opt\n",
    "import glob\n",
    "import os\n",
    "import sys\n",
    "%matplotlib inline"
   ]
  },
  {
   "cell_type": "code",
   "execution_count": 6,
   "metadata": {
    "collapsed": false
   },
   "outputs": [],
   "source": [
    "#sys.modules[__name__].__dict__.clear()\n",
    "#Function to read the files and put in the dataframe\n",
    "\n",
    "def readData(path):\n",
    "    allFiles = glob.glob(path)\n",
    "    frame = pd.DataFrame()\n",
    "    list_ = []\n",
    "    totalFile = 0\n",
    "    \n",
    "    for file_ in allFiles:\n",
    "        #print file_\n",
    "        df = pd.read_csv(file_,sep=r\"\\s+\",header=None) #delim_whitespace=True\n",
    "        list_.append(df.values.flatten()[0:4500]) #flatten the matrix to arrays. Take first 4500 items only.\n",
    "        totalFile = totalFile + 1\n",
    "    #frame = pd.concat(list_)\n",
    "    print 'totalFile=',totalFile\n",
    "    return pd.DataFrame(list_) #frame;"
   ]
  },
  {
   "cell_type": "code",
   "execution_count": 7,
   "metadata": {
    "collapsed": false
   },
   "outputs": [
    {
     "name": "stdout",
     "output_type": "stream",
     "text": [
      "Read spectra_with_feature\n",
      "totalFile= 5000\n",
      "totalFile= 5000\n",
      "Read spectra_without_feature\n",
      "<class 'pandas.core.frame.DataFrame'> (5000, 4500) (5000, 4500)\n"
     ]
    }
   ],
   "source": [
    "#path = os.getcwd() + '/data/ex1data1.txt'\n",
    "\n",
    "path1 = r'/home/shared/sudeep/DL_spectra/DL_spectra/spectra_with_feature_*.txt'\n",
    "path2 = r'/home/shared/sudeep/DL_spectra/DL_spectra/spectra_without_feature_*.txt'\n",
    "\n",
    "#path1 = r'/home/rbhat/S3Lab Project/SubsetData/spectra_with_feature_*.txt'\n",
    "#path2 = r'/home/rbhat/S3Lab Project/SubsetData/spectra_without_feature_*.txt'\n",
    "print 'Read spectra_with_feature'\n",
    "frame1 = readData(path1)\n",
    "frame2 = readData(path2)\n",
    "print 'Read spectra_without_feature'\n",
    "\n",
    "#frame1.columns = ['X1', 'X2']\n",
    "#frame2.columns = ['X1', 'X2']\n",
    "#print frame1[4600:]\n",
    "print type(frame1), frame1.shape, frame2.shape\n",
    "#print frame1\n",
    "#print frame2\n",
    "#print np.array(frame1[4600:]).ravel()\n",
    "#print frame1.head()"
   ]
  },
  {
   "cell_type": "code",
   "execution_count": 330,
   "metadata": {
    "collapsed": true
   },
   "outputs": [
    {
     "name": "stdout",
     "output_type": "stream",
     "text": [
      "[[1 2]\n",
      " [3 4]\n",
      " [5 6]\n",
      " [7 8]]\n",
      "(4, 2)\n",
      "[2 4 6 8]\n"
     ]
    }
   ],
   "source": [
    "#Discard this cell..i am just testing sth.\n",
    "\n",
    "aa = np.array([[1,2], [3,4], [5,6], [7,8]])\n",
    "print aa\n",
    "print aa.shape\n",
    "print aa[:,-1]  #Extract last column\n",
    "#print np.array(aa).ravel()  #speed\n",
    "#print np.asarray(aa).ravel() #memory\n",
    "#print np.array(aa).flatten()\n",
    "\n",
    "#http://www.datacarpentry.org/python-ecology/02-index-slice-subset\n",
    "#a[start:end:step] # start through not past end, by step(default=1)"
   ]
  },
  {
   "cell_type": "code",
   "execution_count": 8,
   "metadata": {
    "collapsed": false
   },
   "outputs": [
    {
     "name": "stdout",
     "output_type": "stream",
     "text": [
      "(5000, 4500) (5000, 4500)\n",
      "(5000, 4501) (5000, 4501)\n",
      "(5000, 1) (5000, 1)\n"
     ]
    }
   ],
   "source": [
    "print frame1.shape, frame2.shape\n",
    "frame1_Y1 = np.ones((frame1.shape[0],1))\n",
    "frame1['Y'] = frame1_Y1\n",
    "\n",
    "frame2_Y2 = np.zeros((frame2.shape[0],1))\n",
    "frame2['Y'] = frame2_Y2\n",
    "\n",
    "#print Y1.shape\n",
    "#print frame1.head()\n",
    "print frame1.shape, frame2.shape\n",
    "print frame1_Y1.shape, frame2_Y2.shape"
   ]
  },
  {
   "cell_type": "code",
   "execution_count": 9,
   "metadata": {
    "collapsed": false
   },
   "outputs": [
    {
     "name": "stdout",
     "output_type": "stream",
     "text": [
      "(5000, 4501) (5000, 4501)\n"
     ]
    }
   ],
   "source": [
    "#print frame1[9210:9229], frame2[9210:9229]\n",
    "#print frame2_Y2.shape\n",
    "#print frame2.head()\n",
    "print frame1.shape, frame2.shape\n",
    "#print frame2\n",
    "\n",
    "#print frame2.iloc[0:1,0:5]  #slicing using iloc and loc\n",
    "#print frame2.loc[0:1,0:5]  #0th row, 0,1,2,3,4 th column\n",
    "#print frame2.loc[:,0:5] # all row, 0,1,2,3,4,5 th column\n",
    "\n",
    "#print frame1.loc[:,4495:] \n",
    "#print frame2.loc[:,4495:] "
   ]
  },
  {
   "cell_type": "markdown",
   "metadata": {},
   "source": [
    "Plotting the data."
   ]
  },
  {
   "cell_type": "code",
   "execution_count": 15,
   "metadata": {
    "collapsed": false
   },
   "outputs": [
    {
     "name": "stdout",
     "output_type": "stream",
     "text": [
      "2000 2000\n",
      "2000 2000\n",
      "2000 2000\n",
      "2000 2000\n"
     ]
    },
    {
     "data": {
      "image/png": "[encoded data removed]",
      "text/plain": [
       "<matplotlib.figure.Figure at 0x7f385a5d0fd0>"
      ]
     },
     "metadata": {},
     "output_type": "display_data"
    },
    {
     "data": {
      "image/png": "[encoded data removed]",
      "text/plain": [
       "<matplotlib.figure.Figure at 0x7f382ef81690>"
      ]
     },
     "metadata": {},
     "output_type": "display_data"
    }
   ],
   "source": [
    "#frame1[0:5][0]\n",
    "#Scatter plot of the data..\n",
    "n = 4000 #[10, 100, 1000, 10000, 100000]\n",
    "frame1_tmp = frame1.loc[0,0:n] #0th row and 0 to 4000 column of frame1\n",
    "frame2_tmp = frame2.loc[0,0:n]\n",
    "\n",
    "frame1_tmp_x = [val for i,val in enumerate(frame1_tmp) if (i%2 == 0)]\n",
    "frame1_tmp_y = [val for i,val in enumerate(frame1_tmp) if (i%2 != 0)]\n",
    "\n",
    "frame2_tmp_x = [val for i,val in enumerate(frame2_tmp) if (i%2 == 0)]\n",
    "frame2_tmp_y = [val for i,val in enumerate(frame2_tmp) if (i%2 != 0)]\n",
    "\n",
    "#print frame1_tmp_y\n",
    "for i in [0,1]:\n",
    "    frame1_tmp_x = frame1_tmp_x[0:n/2]\n",
    "    print len(frame1_tmp_x), len(frame1_tmp_y)\n",
    "\n",
    "    frame2_tmp_x = frame2_tmp_x[0:n/2]\n",
    "    print len(frame2_tmp_x), len(frame2_tmp_y)\n",
    "\n",
    "    fig, ax = plt.subplots(figsize=(10,6))\n",
    "    if(i==0):\n",
    "        ax.plot(frame1_tmp_x, frame1_tmp_y, marker='x', label='With Features')\n",
    "        #ax.scatter(frame1_tmp_x, frame1_tmp_y, s=30, marker='x', label='With Features')\n",
    "    else:\n",
    "        ax.plot(frame2_tmp_x, frame2_tmp_y, marker='o', label='Without Features')\n",
    "        #ax.scatter(frame2_tmp_x, frame2_tmp_y, s=30, marker='o', label='Without Features')\n",
    "    ax.legend()\n",
    "    ax.set_xlabel('X1')\n",
    "    ax.set_ylabel('X2')\n",
    "    fig.suptitle(i)\n",
    "    "
   ]
  },
  {
   "cell_type": "code",
   "execution_count": 16,
   "metadata": {
    "collapsed": false
   },
   "outputs": [
    {
     "name": "stdout",
     "output_type": "stream",
     "text": [
      "(10000, 4501)\n",
      "             0         1          2         3          4         5   \\\n",
      "8384  3564.5113  4.801637  3566.1532  4.985587  3566.9745  8.887034   \n",
      "7783  3590.8726 -3.116259  3591.6995  1.947480  3592.5267  8.387730   \n",
      "9676  3566.1532  1.405650  3566.9745  4.320206  3567.7959  3.176210   \n",
      "6183  3597.4934 -3.316221  3598.3218 -3.688139  3599.1504  1.782563   \n",
      "5182  3580.9644  6.266900  3581.7890  4.165866  3582.6138  4.864282   \n",
      "\n",
      "             6         7          8         9          10         11  \\\n",
      "8384  3567.7959  7.166624  3568.6175  4.067401  3569.4393  11.850414   \n",
      "7783  3593.3540  7.057908  3594.1815  7.504230  3595.0091   6.088467   \n",
      "9676  3568.6175  2.644230  3569.4393  3.920428  3570.2613   5.780378   \n",
      "6183  3599.9793  5.268721  3600.8083  4.575819  3601.6375   3.511506   \n",
      "5182  3583.4389  3.983556  3584.2641  4.893656  3585.0895   1.727992   \n",
      "\n",
      "             12        13         14        15         16         17  \\\n",
      "8384  3570.2613  6.281330  3571.0835  2.479522  3571.9058  11.154526   \n",
      "7783  3595.8370  9.694127  3596.6651  9.405514  3597.4934   7.060094   \n",
      "9676  3571.0835  1.558104  3571.9058  2.480629  3572.7284   2.859695   \n",
      "6183  3602.4669  2.210523  3603.2965  3.892346  3604.1263   1.616151   \n",
      "5182  3585.9151  3.879900  3586.7409  1.565497  3587.5668   3.539327   \n",
      "\n",
      "             18         19      \n",
      "8384  3572.7284   5.522879 ...  \n",
      "7783  3598.3218  10.278893 ...  \n",
      "9676  3573.5511   3.298919 ...  \n",
      "6183  3604.9563  -0.789086 ...  \n",
      "5182  3588.3930   5.165630 ...  \n",
      "\n",
      "[5 rows x 4501 columns]\n"
     ]
    }
   ],
   "source": [
    "#Combine 2 data frame and reshuffle the data randomly\n",
    "#ignore_index=True will make sure it will index serially.\n",
    "frame = pd.concat([frame1, frame2], ignore_index=True)\n",
    "\n",
    "#Reshuffle the data randomly\n",
    "frame = frame.reindex(np.random.permutation(frame.index))\n",
    "#frame.reset_index()\n",
    "\n",
    "print frame.shape\n",
    "print frame.head()\n",
    "#print frame.loc[:,4495:] \n",
    "#print frame['Y'] "
   ]
  },
  {
   "cell_type": "markdown",
   "metadata": {},
   "source": [
    "Now splitting data in training and testing for classification purpose. We split 70% for training set and 30% for testing set. After that we do classification on the given astronomy datasets."
   ]
  },
  {
   "cell_type": "code",
   "execution_count": 17,
   "metadata": {
    "collapsed": false
   },
   "outputs": [
    {
     "name": "stdout",
     "output_type": "stream",
     "text": [
      "(10000, 4501)\n",
      "(10000, 4500)\n",
      "(10000,)\n"
     ]
    }
   ],
   "source": [
    "#Splitting the data for classification purpose..\n",
    "#Input dataframe consists of X1, X2\n",
    "print frame.shape\n",
    "#print frame.iloc[:,9273:]\n",
    "X = frame.drop(['Y'],axis=1) \n",
    "#print X.iloc[:,9273:]\n",
    "\n",
    "print X.shape\n",
    "\n",
    "#Output vector(predictor/response) vector\n",
    "Y = frame['Y']\n",
    "\n",
    "print Y.shape\n",
    "#Splitting data into train and testing. 70% Training and 30% Testing..\n",
    "X_train, X_test, Y_train, Y_test = train_test_split(X, Y, test_size=0.3, random_state=4)"
   ]
  },
  {
   "cell_type": "code",
   "execution_count": 21,
   "metadata": {
    "collapsed": false
   },
   "outputs": [
    {
     "name": "stdout",
     "output_type": "stream",
     "text": [
      "(7000, 4500) (7000,) (3000, 4500) (3000,)\n"
     ]
    }
   ],
   "source": [
    "print X_train.shape, Y_train.shape, X_test.shape, Y_test.shape\n"
   ]
  },
  {
   "cell_type": "markdown",
   "metadata": {},
   "source": [
    "## Logistic Regression (Sklearn)"
   ]
  },
  {
   "cell_type": "code",
   "execution_count": 22,
   "metadata": {
    "collapsed": false
   },
   "outputs": [
    {
     "name": "stdout",
     "output_type": "stream",
     "text": [
      "0.802333333333\n"
     ]
    }
   ],
   "source": [
    "#Logistic Regression-sklearn\n",
    "logReg = LogisticRegression()\n",
    "logReg.fit(X_train,Y_train)\n",
    "Y_logPred = logReg.predict(X_test)\n",
    "print metrics.accuracy_score(Y_test,Y_logPred)"
   ]
  },
  {
   "cell_type": "markdown",
   "metadata": {},
   "source": [
    "Confusion matrix of the model."
   ]
  },
  {
   "cell_type": "code",
   "execution_count": 24,
   "metadata": {
    "collapsed": false
   },
   "outputs": [
    {
     "name": "stdout",
     "output_type": "stream",
     "text": [
      "[[1158  326]\n",
      " [ 267 1249]]\n"
     ]
    },
    {
     "data": {
      "image/png": "[encoded data removed]",
      "text/plain": [
       "<matplotlib.figure.Figure at 0x7f385d292fd0>"
      ]
     },
     "metadata": {},
     "output_type": "display_data"
    }
   ],
   "source": [
    "#Confusion matrix of logistic regression\n",
    "conf = metrics.confusion_matrix(Y_test,Y_logPred)\n",
    "plt.imshow(conf)\n",
    "print conf"
   ]
  },
  {
   "cell_type": "code",
   "execution_count": 25,
   "metadata": {
    "collapsed": false
   },
   "outputs": [
    {
     "data": {
      "text/plain": [
       "0.8023333333333333"
      ]
     },
     "execution_count": 25,
     "metadata": {},
     "output_type": "execute_result"
    }
   ],
   "source": [
    "#Accuracy calculation other way..\n",
    "(1158+1249)/float(1158+1249+326+267)"
   ]
  },
  {
   "cell_type": "markdown",
   "metadata": {},
   "source": [
    "## K-Neighbors "
   ]
  },
  {
   "cell_type": "code",
   "execution_count": 26,
   "metadata": {
    "collapsed": false
   },
   "outputs": [
    {
     "name": "stdout",
     "output_type": "stream",
     "text": [
      "0.819333333333\n",
      "[[1337  147]\n",
      " [ 395 1121]]\n"
     ]
    }
   ],
   "source": [
    "# KNeighbours classification\n",
    "knn = KNeighborsClassifier(n_neighbors=5)\n",
    "\n",
    "knn.fit(X_train,Y_train)\n",
    "Y_pred = knn.predict(X_test)\n",
    "print metrics.accuracy_score(Y_test, Y_pred)\n",
    "conf = metrics.confusion_matrix(Y_test, Y_pred)\n",
    "#plt.imshow(conf)\n",
    "print conf"
   ]
  },
  {
   "cell_type": "markdown",
   "metadata": {},
   "source": [
    "## Random Forest"
   ]
  },
  {
   "cell_type": "code",
   "execution_count": 27,
   "metadata": {
    "collapsed": false
   },
   "outputs": [
    {
     "name": "stdout",
     "output_type": "stream",
     "text": [
      "0.983\n"
     ]
    }
   ],
   "source": [
    "#Random Forest Classification\n",
    "randForest = RandomForestClassifier(n_estimators=30)\n",
    "randForest.fit(X_train,Y_train)\n",
    "Y_randForestPred = randForest.predict(X_test)\n",
    "print metrics.accuracy_score(Y_test,Y_randForestPred)"
   ]
  },
  {
   "cell_type": "code",
   "execution_count": 28,
   "metadata": {
    "collapsed": false
   },
   "outputs": [
    {
     "name": "stdout",
     "output_type": "stream",
     "text": [
      "[[1467   17]\n",
      " [  34 1482]]\n"
     ]
    }
   ],
   "source": [
    "#Confusion matrix for randomforest\n",
    "conf2 = metrics.confusion_matrix(Y_test,Y_randForestPred)\n",
    "#plt.imshow(conf2)\n",
    "print conf2"
   ]
  },
  {
   "cell_type": "markdown",
   "metadata": {},
   "source": [
    "## Support vector machine"
   ]
  },
  {
   "cell_type": "code",
   "execution_count": 29,
   "metadata": {
    "collapsed": false
   },
   "outputs": [
    {
     "data": {
      "text/plain": [
       "LinearSVC(C=10, class_weight=None, dual=True, fit_intercept=True,\n",
       "     intercept_scaling=1, loss='hinge', max_iter=1000, multi_class='ovr',\n",
       "     penalty='l2', random_state=None, tol=0.0001, verbose=0)"
      ]
     },
     "execution_count": 29,
     "metadata": {},
     "output_type": "execute_result"
    }
   ],
   "source": [
    "#Support Vector Machine\n",
    "svc = svm.LinearSVC(C=10, loss='hinge', max_iter=1000)\n",
    "svc"
   ]
  },
  {
   "cell_type": "code",
   "execution_count": 30,
   "metadata": {
    "collapsed": false
   },
   "outputs": [
    {
     "data": {
      "text/plain": [
       "0.49399999999999999"
      ]
     },
     "execution_count": 30,
     "metadata": {},
     "output_type": "execute_result"
    }
   ],
   "source": [
    "svc.fit(X_train,Y_train)\n",
    "svc.score(X_test, Y_test)"
   ]
  },
  {
   "cell_type": "code",
   "execution_count": null,
   "metadata": {
    "collapsed": true
   },
   "outputs": [],
   "source": []
  }
 ],
 "metadata": {
  "kernelspec": {
   "display_name": "Python 2",
   "language": "python",
   "name": "python2"
  },
  "language_info": {
   "codemirror_mode": {
    "name": "ipython",
    "version": 2
   },
   "file_extension": ".py",
   "mimetype": "text/x-python",
   "name": "python",
   "nbconvert_exporter": "python",
   "pygments_lexer": "ipython2",
   "version": "2.7.6"
  }
 },
 "nbformat": 4,
 "nbformat_minor": 0
}
