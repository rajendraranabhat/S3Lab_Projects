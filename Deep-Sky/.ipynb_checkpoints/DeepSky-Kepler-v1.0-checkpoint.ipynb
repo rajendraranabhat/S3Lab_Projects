{
 "cells": [
  {
   "cell_type": "markdown",
   "metadata": {},
   "source": [
    "# Doing MachineLearning classification for DeepSky Datasets(Kepler)"
   ]
  },
  {
   "cell_type": "code",
   "execution_count": 108,
   "metadata": {
    "collapsed": false
   },
   "outputs": [],
   "source": [
    "import numpy as np\n",
    "import pandas as pd\n",
    "from sklearn.neighbors import KNeighborsClassifier\n",
    "from sklearn.linear_model import LogisticRegression\n",
    "from sklearn.ensemble import RandomForestClassifier\n",
    "from sklearn.cross_validation import cross_val_score\n",
    "from sklearn import metrics\n",
    "from sklearn.cross_validation import train_test_split\n",
    "from sklearn.metrics import confusion_matrix, roc_curve, auc\n",
    "from sklearn.grid_search import GridSearchCV\n",
    "from sklearn import svm\n",
    "import matplotlib.pyplot as plt\n",
    "import scipy.optimize as opt\n",
    "import glob\n",
    "import os\n",
    "import sys\n",
    "from astropy.io import fits\n",
    "%matplotlib inline"
   ]
  },
  {
   "cell_type": "code",
   "execution_count": 109,
   "metadata": {
    "collapsed": false
   },
   "outputs": [],
   "source": [
    "#sys.modules[__name__].__dict__.clear()\n",
    "#Utility function to read the files and put in the pandas dataframe\n",
    "\n",
    "\n",
    "\n",
    "def readData(path):\n",
    "    allFiles = glob.glob(path)\n",
    "    list_ = []\n",
    "    \n",
    "    list_flux = []\n",
    "    list_time = []\n",
    "    df_ = pd.DataFrame()\n",
    "    totalFile = 0\n",
    "    readFile = 0\n",
    "    \n",
    "    for file_ in allFiles:\n",
    "        #print file_\n",
    "        dataList = fits.open(file_)\n",
    "        \n",
    "        totalFile = totalFile+1\n",
    "        #flux = np.array(dataList[0].data[0],float) #flux\n",
    "        #wavelength = np.array(dataList[0].data[1],float) #wavelength\n",
    "        \n",
    "        df = pd.DataFrame(np.array(dataList[0].data,float)).transpose() #Making sure the data format is right.        \n",
    "        df = df.dropna(axis=0)\n",
    "        #print np.unique(df.isnull())\n",
    "        #print df.isnull().values.any()\n",
    "              \n",
    "        #If length of the file is greater than 3000, only include that\n",
    "        if(df.shape[0] > 3000):\n",
    "            #print file_\n",
    "            readFile = readFile+1\n",
    "            #list_.append((df[0].values.flatten()[0:3000],df[1].values.flatten()[0:3000]))\n",
    "            list_time.append(df[0].values.flatten()[0:3000])\n",
    "            list_flux.append(df[1].values.flatten()[0:3000])           \n",
    "            \n",
    "        #df_ = df_.append(df.values.flatten())\n",
    "    \n",
    "    print 'Total File', totalFile\n",
    "    print 'Read File', readFile\n",
    "    #return pd.DataFrame(list_)\n",
    "    return pd.DataFrame(list_time), pd.DataFrame(list_flux)"
   ]
  },
  {
   "cell_type": "code",
   "execution_count": 110,
   "metadata": {
    "collapsed": false
   },
   "outputs": [
    {
     "name": "stdout",
     "output_type": "stream",
     "text": [
      "Read for frame1\n",
      "Total File 6929\n",
      "Read File 6024\n",
      "Read for frame2\n",
      "Total File 6929\n",
      "Read File 6024\n"
     ]
    }
   ],
   "source": [
    "#Give the path and it will read all the files with .fits extension in dataframe.\n",
    "\n",
    "\n",
    "\n",
    "\n",
    "path1 = r'/home/shared/Kepler/kepler_simtran_3d4hr_nokoi/*.fits' #Signal\n",
    "path2 = r'/home/shared/Kepler/kepler_0021_orig_nokoi/*.fits'#no signal\n",
    "\n",
    "#path1 = r'/home/rbhat/S3Lab Project/Kepler-Astronomy/SubsetData/kepler_simtran_3d4hr_nokoi-Signal/*.fits' #Signal\n",
    "#path2 = r'/home/rbhat/S3Lab Project/Kepler-Astronomy/SubsetData/kepler_0021_orig_noki-No-Signal/*.fits'   #No-Signal\n",
    "\n",
    "print 'Read for frame1'\n",
    "frame1_time, frame1_flux = readData(path1) #Signal\n",
    "print 'Read for frame2'\n",
    "frame2_time, frame2_flux = readData(path2) #No-Signal"
   ]
  },
  {
   "cell_type": "code",
   "execution_count": 118,
   "metadata": {
    "collapsed": false
   },
   "outputs": [
    {
     "name": "stdout",
     "output_type": "stream",
     "text": [
      "(6024, 3000) (6024, 3000)\n",
      "(6024, 3000) (6024, 3000)\n",
      "0     808.535992\n",
      "1     808.556426\n",
      "2     808.576860\n",
      "3     808.597295\n",
      "4     808.617729\n",
      "5     808.638164\n",
      "6     808.658598\n",
      "7     808.679032\n",
      "8     808.699467\n",
      "9     808.719901\n",
      "10    808.740335\n",
      "11    808.760770\n",
      "12    808.781204\n",
      "13    808.801638\n",
      "14    808.822073\n",
      "...\n",
      "2985    870.861420\n",
      "2986    870.881854\n",
      "2987    870.902289\n",
      "2988    870.922724\n",
      "2989    870.943158\n",
      "2990    870.963593\n",
      "2991    870.984027\n",
      "2992    871.004462\n",
      "2993    871.024897\n",
      "2994    871.045331\n",
      "2995    871.065766\n",
      "2996    871.086200\n",
      "2997    871.106635\n",
      "2998    871.127070\n",
      "2999    871.147504\n",
      "Name: 0, Length: 3000, dtype: float64\n"
     ]
    }
   ],
   "source": [
    "#Making sure the dataframe size match with the expected..\n",
    "print frame1_time.shape, frame1_flux.shape \n",
    "print frame2_time.shape, frame2_flux.shape \n",
    "\n",
    "print frame1_time.loc[0,:]\n"
   ]
  },
  {
   "cell_type": "markdown",
   "metadata": {},
   "source": [
    "Plot the figure. Since the arrays are flatten, I am taking individual flux and time accordingly to plot the figure."
   ]
  },
  {
   "cell_type": "code",
   "execution_count": 49,
   "metadata": {
    "collapsed": false
   },
   "outputs": [
    {
     "data": {
      "image/png": "[encoded data removed]",
      "text/plain": [
       "<matplotlib.figure.Figure at 0x7f889baae050>"
      ]
     },
     "metadata": {},
     "output_type": "display_data"
    },
    {
     "data": {
      "image/png": "[encoded data removed]",
      "text/plain": [
       "<matplotlib.figure.Figure at 0x7f88a4085a90>"
      ]
     },
     "metadata": {},
     "output_type": "display_data"
    }
   ],
   "source": [
    "#Plotting the figure\n",
    "n_start = 0\n",
    "n_end = 3000\n",
    "\n",
    "n = 0 #First row of the dataframe.\n",
    "\n",
    "\"\"\"\n",
    "frame1_tmp = frame1.loc[n,:]  #1st signal\n",
    "frame2_tmp = frame2.loc[n,:]  #1st signal\n",
    "\n",
    "print frame1_tmp.shape, frame2_tmp.shape\n",
    "\n",
    "frame1_tmp_x = [val for i,val in enumerate(frame1_tmp) if (i%2 == 0)]\n",
    "frame1_tmp_y = [val for i,val in enumerate(frame1_tmp) if (i%2 != 0)]\n",
    "\n",
    "frame2_tmp_x = [val for i,val in enumerate(frame2_tmp) if (i%2 == 0)]\n",
    "frame2_tmp_y = [val for i,val in enumerate(frame2_tmp) if (i%2 != 0)]\n",
    "\n",
    "#frame1_tmp_x = frame1_tmp_x\n",
    "print len(frame1_tmp_x), len(frame1_tmp_y)\n",
    "\n",
    "#frame2_tmp_x = frame2_tmp_x\n",
    "print len(frame2_tmp_x), len(frame2_tmp_y)\n",
    "\n",
    "#print frame2_tmp_y\n",
    "\n",
    "#print frame1_tmp\n",
    "\"\"\"\n",
    "frame1_tmp_x = frame1_time.loc[0,:]\n",
    "frame1_tmp_y = frame1_flux.loc[0,:]\n",
    "\n",
    "frame2_tmp_x = frame2_ime.loc[0,:]\n",
    "frame2_tmp_y = frame2_lux.loc[0,:]\n",
    "\n",
    "\n",
    "for i in [0,1]:\n",
    "    fig, ax = plt.subplots(figsize=(10,6))\n",
    "    if i == 0:\n",
    "        ax.plot(frame1_tmp_x, frame1_tmp_y, label='With Signal')\n",
    "    else:\n",
    "        ax.plot(frame2_tmp_x, frame2_tmp_y, label='Without Signal')\n",
    "    #ax.scatter(frame1_tmp[0], frame1_tmp[1], s=30, marker='x', label='With Signal')\n",
    "    #ax.scatter(frame2_tmp[0], frame2_tmp[1], s=30, marker='o', label='Without Signal')\n",
    "    ax.legend()\n",
    "    ax.set_xlabel('X1')\n",
    "    ax.set_ylabel('X2')\n",
    "    ax.set_ylim([5260,5400])\n",
    "    fig.suptitle(i)\n"
   ]
  },
  {
   "cell_type": "code",
   "execution_count": 55,
   "metadata": {
    "collapsed": false
   },
   "outputs": [
    {
     "name": "stdout",
     "output_type": "stream",
     "text": [
      "(6025,) (6025,)\n",
      "(6025, 1) (6025, 1)\n",
      "<class 'pandas.core.frame.DataFrame'>\n"
     ]
    },
    {
     "data": {
      "text/plain": [
       "\"\\nframe1_Y1 = np.ones((frame1[1].shape[0],1))\\nframe1[1]['Y'] = frame1_Y1\\n\\nframe2_Y2 = np.zeros((frame2[1].shape[0],1))\\nframe2[1]['Y'] = frame2_Y2\\n\\n#print Y1.shape\\nprint frame1[1].head()\\nprint frame1[1].shape, frame2[1].shape\\n#print frame1_Y1\\n#print frame2_Y2\\n\""
      ]
     },
     "execution_count": 55,
     "metadata": {},
     "output_type": "execute_result"
    }
   ],
   "source": [
    "#Make both frame into one and assign signal and non-signal label as 1 & 0. \n",
    "print frame1[1].shape, frame2[1].shape\n",
    "\n",
    "frame1_flux = pd.DataFrame(frame1[1])\n",
    "frame2_flux = pd.DataFrame(frame2[1])\n",
    "\n",
    "print frame1_flux.shape, frame2_flux.shape\n",
    "print type(frame1_flux)\n",
    "\"\"\"\n",
    "frame1_Y1 = np.ones((frame1[1].shape[0],1))\n",
    "frame1[1]['Y'] = frame1_Y1\n",
    "\n",
    "frame2_Y2 = np.zeros((frame2[1].shape[0],1))\n",
    "frame2[1]['Y'] = frame2_Y2\n",
    "\n",
    "#print Y1.shape\n",
    "print frame1[1].head()\n",
    "print frame1[1].shape, frame2[1].shape\n",
    "#print frame1_Y1\n",
    "#print frame2_Y2\n",
    "\"\"\""
   ]
  },
  {
   "cell_type": "code",
   "execution_count": 56,
   "metadata": {
    "collapsed": false
   },
   "outputs": [
    {
     "name": "stdout",
     "output_type": "stream",
     "text": [
      "<class 'pandas.core.frame.DataFrame'>\n",
      "(6025, 2) (6025, 2)\n",
      "0     1\n",
      "1     1\n",
      "2     1\n",
      "3     1\n",
      "4     1\n",
      "5     1\n",
      "6     1\n",
      "7     1\n",
      "8     1\n",
      "9     1\n",
      "10    1\n",
      "11    1\n",
      "12    1\n",
      "13    1\n",
      "14    1\n",
      "...\n",
      "6010    1\n",
      "6011    1\n",
      "6012    1\n",
      "6013    1\n",
      "6014    1\n",
      "6015    1\n",
      "6016    1\n",
      "6017    1\n",
      "6018    1\n",
      "6019    1\n",
      "6020    1\n",
      "6021    1\n",
      "6022    1\n",
      "6023    1\n",
      "Y       1\n",
      "Name: Y, Length: 6025, dtype: float64\n"
     ]
    }
   ],
   "source": [
    "frame1_flux['Y'] = np.ones((frame1_flux.shape[0],1))\n",
    "frame2_flux['Y'] = np.zeros((frame2_flux.shape[0],1))\n",
    "\n",
    "print type(frame1_flux)\n",
    "\n",
    "print frame1_flux.shape, frame2_flux.shape\n",
    "\n",
    "print frame1_flux['Y']\n"
   ]
  },
  {
   "cell_type": "code",
   "execution_count": 59,
   "metadata": {
    "collapsed": false
   },
   "outputs": [
    {
     "name": "stdout",
     "output_type": "stream",
     "text": [
      "                                                    1  Y\n",
      "0   [5348.52734375, 5348.10546875, 5388.31787109, ...  1\n",
      "1   [19350.9628906, 19371.65625, 19387.5175781, 19...  1\n",
      "2   [13698.3408203, 13700.7324219, 13714.1132812, ...  1\n",
      "3   [42161.125, 42153.7617188, 42171.8984375, 4216...  1\n",
      "4   [22486.0273438, 22519.8613281, 22515.7558594, ...  1\n",
      "5   [111263.375, 111263.3125, 111259.804688, 11127...  1\n",
      "6   [19992.7148438, 19981.6796875, 19992.5, 19998....  1\n",
      "7   [14223.3242188, 14214.3798828, 14233.5039062, ...  1\n",
      "8   [77680.765625, 77713.3515625, 77695.6953125, 7...  1\n",
      "9   [8035.47705078, 8026.68847656, 8028.19091797, ...  1\n",
      "10  [58449.7148438, 58458.9648438, 58473.7109375, ...  1\n",
      "11  [8018.95996094, 8016.35253906, 8016.80566406, ...  1\n",
      "12  [17559.0253906, 17568.9257812, 17562.9824219, ...  1\n",
      "13  [7384.89404297, 7384.88818359, 7389.70507812, ...  1\n",
      "14  [6256.39453125, 6272.78027344, 6271.09472656, ...  1\n",
      "15  [37790.2304688, 37825.828125, 37851.9570312, 3...  1\n",
      "16  [5707.84179688, 5699.74658203, 5697.04589844, ...  1\n",
      "17  [431965.1875, 431987.90625, 432033.5625, 43195...  1\n",
      "18  [2320952.25, 2321248.25, 2321015.25, 2321797.0...  1\n",
      "19  [379204.15625, 379228.15625, 379246.4375, 3791...  1\n",
      "20  [104260.039062, 104229.984375, 104266.625, 104...  1\n",
      "21  [103696.195312, 103797.242188, 103825.914062, ...  1\n",
      "22  [10049.8027344, 10059.1230469, 10043.8349609, ...  1\n",
      "23  [5901.60742188, 5900.63574219, 5905.21240234, ...  1\n",
      "24  [30690.2890625, 30676.1523438, 30674.9179688, ...  1\n",
      "25  [10822.3574219, 10820.4912109, 10836.4960938, ...  1\n",
      "26  [7598.64941406, 7598.48730469, 7591.73242188, ...  1\n",
      "27  [9879.73632812, 9879.01464844, 9876.84570312, ...  1\n",
      "28  [262131.921875, 262279.09375, 262379.625, 2624...  1\n",
      "29  [11877.2548828, 11874.0087891, 11886.0859375, ...  1\n",
      "30  [8337.56640625, 8332.80859375, 8333.65820312, ...  1\n",
      "31  [28238.9492188, 28251.984375, 28281.2070312, 2...  1\n",
      "32  [70401.5390625, 70421.09375, 70452.671875, 704...  1\n",
      "33  [7552.40673828, 7564.54882812, 7554.85302734, ...  1\n",
      "34  [11542.7978516, 11551.5283203, 11540.3837891, ...  1\n",
      "35  [68569.8203125, 68620.4921875, 68629.484375, 6...  1\n",
      "36  [51948.8320312, 51952.4570312, 51961.1484375, ...  1\n",
      "37  [14524.5185547, 14554.5888672, 14556.1259766, ...  1\n",
      "38  [30847.3691406, 30837.3632812, 30824.1621094, ...  1\n",
      "39  [16360.390625, 16376.5703125, 16385.8339844, 1...  1\n",
      "40  [92367.203125, 92358.6875, 92372.8125, 92354.3...  1\n",
      "41  [208834.109375, 208841.671875, 208861.0, 20885...  1\n",
      "42  [61471.3359375, 61466.8320312, 61497.2460938, ...  1\n",
      "43  [18583.2949219, 18564.1875, 18550.4140625, 185...  1\n",
      "44  [6166204.0, 6167216.0, 6167139.5, 6167771.5, 6...  1\n",
      "45  [13706.8154297, 13701.9648438, 13701.2324219, ...  1\n",
      "46  [35951.2734375, 35976.40625, 35985.96875, 3594...  1\n",
      "47  [19609.3457031, 19614.4902344, 19611.0976562, ...  1\n",
      "48  [163126.78125, 163120.78125, 163135.5625, 1631...  1\n",
      "49  [33278.9960938, 33277.7421875, 33315.515625, 3...  1\n",
      "50  [44015.3398438, 44016.6132812, 44010.4140625, ...  1\n",
      "51  [29573.0703125, 29572.9726562, 29574.6484375, ...  1\n",
      "52  [196769.859375, 196644.109375, 196536.4375, 19...  1\n",
      "53  [6467.94384766, 6468.80419922, 6482.94042969, ...  1\n",
      "54  [12537.1816406, 12541.6953125, 12549.8964844, ...  1\n",
      "55  [10459.9003906, 10468.3740234, 10460.1152344, ...  1\n",
      "56  [17201.4589844, 17197.1503906, 17196.1152344, ...  1\n",
      "57  [18997.9960938, 19003.0136719, 19006.6191406, ...  1\n",
      "58  [17465.3964844, 17466.71875, 17453.3984375, 17...  1\n",
      "59  [82229.453125, 82284.4375, 82334.2265625, 8233...  1\n",
      "                                                  ... ..\n",
      "\n",
      "[6025 rows x 2 columns]\n",
      "                                                    1  Y\n",
      "0   [5348.52734375, 5348.10546875, 5388.31787109, ...  0\n",
      "1   [19350.9628906, 19371.65625, 19387.5175781, 19...  0\n",
      "2   [13698.3408203, 13700.7324219, 13714.1132812, ...  0\n",
      "3   [42161.125, 42153.7617188, 42171.8984375, 4216...  0\n",
      "4   [22486.0273438, 22519.8613281, 22515.7558594, ...  0\n",
      "5   [111263.375, 111263.3125, 111259.804688, 11127...  0\n",
      "6   [19992.7148438, 19981.6796875, 19992.5, 19998....  0\n",
      "7   [14223.3242188, 14214.3798828, 14233.5039062, ...  0\n",
      "8   [77680.765625, 77713.3515625, 77695.6953125, 7...  0\n",
      "9   [8035.47705078, 8026.68847656, 8028.19091797, ...  0\n",
      "10  [58449.7148438, 58458.9648438, 58473.7109375, ...  0\n",
      "11  [8018.95996094, 8016.35253906, 8016.80566406, ...  0\n",
      "12  [17559.0253906, 17568.9257812, 17562.9824219, ...  0\n",
      "13  [7384.89404297, 7384.88818359, 7389.70507812, ...  0\n",
      "14  [6256.39453125, 6272.78027344, 6271.09472656, ...  0\n",
      "15  [37790.2304688, 37825.828125, 37851.9570312, 3...  0\n",
      "16  [5707.84179688, 5699.74658203, 5697.04589844, ...  0\n",
      "17  [431965.1875, 431987.90625, 432033.5625, 43195...  0\n",
      "18  [2320952.25, 2321248.25, 2321015.25, 2321797.0...  0\n",
      "19  [379204.15625, 379228.15625, 379246.4375, 3791...  0\n",
      "20  [104260.039062, 104229.984375, 104266.625, 104...  0\n",
      "21  [103696.195312, 103797.242188, 103825.914062, ...  0\n",
      "22  [10049.8027344, 10059.1230469, 10043.8349609, ...  0\n",
      "23  [5901.60742188, 5900.63574219, 5905.21240234, ...  0\n",
      "24  [30690.2890625, 30676.1523438, 30674.9179688, ...  0\n",
      "25  [10822.3574219, 10820.4912109, 10836.4960938, ...  0\n",
      "26  [7598.64941406, 7598.48730469, 7591.73242188, ...  0\n",
      "27  [9879.73632812, 9879.01464844, 9876.84570312, ...  0\n",
      "28  [262131.921875, 262279.09375, 262379.625, 2624...  0\n",
      "29  [11877.2548828, 11874.0087891, 11886.0859375, ...  0\n",
      "30  [8337.56640625, 8332.80859375, 8333.65820312, ...  0\n",
      "31  [28238.9492188, 28251.984375, 28281.2070312, 2...  0\n",
      "32  [70401.5390625, 70421.09375, 70452.671875, 704...  0\n",
      "33  [7552.40673828, 7564.54882812, 7554.85302734, ...  0\n",
      "34  [11542.7978516, 11551.5283203, 11540.3837891, ...  0\n",
      "35  [68569.8203125, 68620.4921875, 68629.484375, 6...  0\n",
      "36  [51948.8320312, 51952.4570312, 51961.1484375, ...  0\n",
      "37  [14524.5185547, 14554.5888672, 14556.1259766, ...  0\n",
      "38  [30847.3691406, 30837.3632812, 30824.1621094, ...  0\n",
      "39  [16360.390625, 16376.5703125, 16385.8339844, 1...  0\n",
      "40  [92367.203125, 92358.6875, 92372.8125, 92354.3...  0\n",
      "41  [208834.109375, 208841.671875, 208861.0, 20885...  0\n",
      "42  [61471.3359375, 61466.8320312, 61497.2460938, ...  0\n",
      "43  [18583.2949219, 18564.1875, 18550.4140625, 185...  0\n",
      "44  [6166204.0, 6167216.0, 6167139.5, 6167771.5, 6...  0\n",
      "45  [13706.8154297, 13701.9648438, 13701.2324219, ...  0\n",
      "46  [35951.2734375, 35976.40625, 35985.96875, 3594...  0\n",
      "47  [19609.3457031, 19614.4902344, 19611.0976562, ...  0\n",
      "48  [163126.78125, 163120.78125, 163135.5625, 1631...  0\n",
      "49  [33278.9960938, 33277.7421875, 33315.515625, 3...  0\n",
      "50  [44015.3398438, 44016.6132812, 44010.4140625, ...  0\n",
      "51  [29573.0703125, 29572.9726562, 29574.6484375, ...  0\n",
      "52  [196769.859375, 196644.109375, 196536.4375, 19...  0\n",
      "53  [6467.94384766, 6468.80419922, 6482.94042969, ...  0\n",
      "54  [12537.1816406, 12541.6953125, 12549.8964844, ...  0\n",
      "55  [10459.9003906, 10468.3740234, 10460.1152344, ...  0\n",
      "56  [17201.4589844, 17197.1503906, 17196.1152344, ...  0\n",
      "57  [18997.9960938, 19003.0136719, 19006.6191406, ...  0\n",
      "58  [17465.3964844, 17466.71875, 17453.3984375, 17...  0\n",
      "59  [82229.453125, 82284.4375, 82334.2265625, 8233...  0\n",
      "                                                  ... ..\n",
      "\n",
      "[6025 rows x 2 columns]\n"
     ]
    }
   ],
   "source": [
    "print frame1_flux\n",
    "print frame2_flux"
   ]
  },
  {
   "cell_type": "code",
   "execution_count": 60,
   "metadata": {
    "collapsed": false
   },
   "outputs": [
    {
     "name": "stdout",
     "output_type": "stream",
     "text": [
      "(12050, 2)\n",
      "4379     1\n",
      "654      1\n",
      "298      1\n",
      "11515    0\n",
      "7146     0\n",
      "6479     0\n",
      "6950     0\n",
      "5357     1\n",
      "1223     1\n",
      "118      1\n",
      "10760    0\n",
      "3461     1\n",
      "7013     0\n",
      "8893     0\n",
      "5699     1\n",
      "...\n",
      "4374     1\n",
      "1532     1\n",
      "526      1\n",
      "3466     1\n",
      "8099     0\n",
      "4057     1\n",
      "9279     0\n",
      "2212     1\n",
      "10056    0\n",
      "3567     1\n",
      "1064     1\n",
      "2985     1\n",
      "9959     0\n",
      "1750     1\n",
      "1529     1\n",
      "Name: Y, Length: 12050, dtype: float64\n"
     ]
    }
   ],
   "source": [
    "#Combine 2 data frame and reshuffle the data randomly\n",
    "#ignore_index=True will make sure it will index serially.\n",
    "frame = pd.concat([frame1_flux, frame2_flux], ignore_index=True)\n",
    "\n",
    "#Reshuffle the data randomly\n",
    "frame = frame.reindex(np.random.permutation(frame.index))\n",
    "#frame.reset_index()\n",
    "\n",
    "print frame.shape\n",
    "#print frame.head()\n",
    "#print frame.loc[0:5,2990:] \n",
    "print frame['Y'] "
   ]
  },
  {
   "cell_type": "code",
   "execution_count": 61,
   "metadata": {
    "collapsed": false
   },
   "outputs": [
    {
     "name": "stdout",
     "output_type": "stream",
     "text": [
      "(12050, 1)\n",
      "(12050,)\n"
     ]
    }
   ],
   "source": [
    "#Splitting the data for classification purpose..\n",
    "#Input dataframe consists of X1, X2\n",
    "#print frame.shape\n",
    "#print frame.iloc[:,9273:]\n",
    "X = frame.drop(['Y'],axis=1) \n",
    "#print X.iloc[:,9273:]\n",
    "\n",
    "print X.shape\n",
    "\n",
    "#Output vector(predictor/response) vector\n",
    "Y = frame['Y']\n",
    "\n",
    "print Y.shape\n",
    "#Splitting data into train and testing. 70% Training and 30% Testing..\n",
    "X_train, X_test, Y_train, Y_test = train_test_split(X, Y, test_size=0.3, random_state=4)"
   ]
  },
  {
   "cell_type": "code",
   "execution_count": 107,
   "metadata": {
    "collapsed": false
   },
   "outputs": [
    {
     "name": "stdout",
     "output_type": "stream",
     "text": [
      "(8435, 1) (8435,) (3615, 1) (3615,)\n",
      "<class 'pandas.core.frame.DataFrame'>\n",
      "                                                       1\n",
      "5299   [45357.4648438, 45363.1601562, 45366.0585938, ...\n",
      "7697   [32213.1796875, 32223.4980469, 32216.390625, 3...\n",
      "11538  [30635.4433594, 30627.2402344, 30628.2675781, ...\n",
      "11458  [5597.23095703, 5589.02197266, 5598.23291016, ...\n",
      "813    [51141.609375, 51155.53125, 51161.3515625, 511...\n",
      "5454   [7583.42089844, 7580.40527344, 7587.46777344, ...\n",
      "6915   [69825.5703125, 69836.078125, 69837.6015625, 6...\n",
      "11285  [6101.78662109, 6097.12597656, 6096.93603516, ...\n",
      "9551   [13835.5380859, 13835.3945312, 13826.2373047, ...\n",
      "1889   [16886.4628906, 16879.2597656, 16888.8964844, ...\n",
      "2653   [12472.640625, 12483.4482422, 12501.2050781, 1...\n",
      "10083  [8866.18066406, 8862.58105469, 8847.08203125, ...\n",
      "10047  [37954.5976562, 37982.8828125, 38004.3828125, ...\n",
      "6124   [30792.1503906, 30778.4238281, 30769.2714844, ...\n",
      "3      [42161.125, 42153.7617188, 42171.8984375, 4216...\n",
      "9821   [10911.7509766, 10909.609375, 10902.1992188, 1...\n",
      "2165   [5978.25976562, 5977.31445312, 5979.97021484, ...\n",
      "7974   [6961.86669922, 6974.55273438, 6964.09082031, ...\n",
      "1833   [126222.890625, 126189.273438, 126192.351562, ...\n",
      "7189   [16508.5996094, 16495.9550781, 16490.421875, 1...\n",
      "3068   [15053.4091797, 15054.5517578, 15051.0009766, ...\n",
      "11499  [61511.0546875, 61586.1640625, 61620.8984375, ...\n",
      "5422   [42945.7734375, 42959.4570312, 42966.7578125, ...\n",
      "6995   [57100.8320312, 57104.8984375, 57124.5117188, ...\n",
      "4873   [1316539.75, 1318072.875, 1315718.75, 1320468....\n",
      "5710   [9987.95214844, 9980.08300781, 9979.98535156, ...\n",
      "5689   [7934.19873047, 7933.42285156, 7939.63427734, ...\n",
      "10895  [57636.625, 57648.5351562, 57674.8046875, 5766...\n",
      "1653   [8302.47460938, 8305.171875, 8315.4296875, 831...\n",
      "9184   [20171.9003906, 20174.3046875, 20162.5039062, ...\n",
      "6355   [34557.9765625, 34580.7304688, 34605.9609375, ...\n",
      "440    [16888.7265625, 16886.0371094, 16892.6777344, ...\n",
      "5594   [20838.1035156, 20846.1328125, 20878.0371094, ...\n",
      "5437   [36634.4648438, 36633.0820312, 36628.625, 3662...\n",
      "9259   [11948.3261719, 11958.9589844, 11956.1699219, ...\n",
      "11659  [10860.8183594, 10842.5263672, 10841.9892578, ...\n",
      "10483  [6414.31054688, 6414.01757812, 6412.83642578, ...\n",
      "11551  [42410.4609375, 42414.875, 42452.7929688, 4245...\n",
      "10315  [22369.7265625, 22373.5175781, 22382.7929688, ...\n",
      "7454   [20962.1933594, 20966.7480469, 20966.5800781, ...\n",
      "5123   [8816.23632812, 8837.51269531, 8819.40429688, ...\n",
      "2850   [19085.9511719, 19082.7070312, 19092.7519531, ...\n",
      "7679   [40698.7734375, 40718.9414062, 40746.0585938, ...\n",
      "1888   [15222.4238281, 15228.5849609, 15234.6074219, ...\n",
      "8051   [11071.6435547, 11081.4833984, 11075.1328125, ...\n",
      "933    [26526.0683594, 26522.0449219, 26517.7285156, ...\n",
      "1010   [67630.5234375, 67649.875, 67650.6875, 67643.9...\n",
      "8241   [4656.46240234, 4652.08398438, 4656.51904297, ...\n",
      "10115  [10590.1318359, 10608.6435547, 10621.7226562, ...\n",
      "11243  [15039.3779297, 15043.2177734, 15027.1601562, ...\n",
      "7842   [33355.359375, 33361.0859375, 33374.2109375, 3...\n",
      "1045   [12237.7783203, 12225.8095703, 12217.5371094, ...\n",
      "11115  [80400.7109375, 80385.9296875, 80376.5625, 804...\n",
      "4264   [43890.0898438, 43893.7265625, 43932.2617188, ...\n",
      "5982   [11486.7060547, 11492.2441406, 11487.0136719, ...\n",
      "1503   [9382.71191406, 9388.89941406, 9383.8671875, 9...\n",
      "2522   [185198.5, 185208.765625, 185175.65625, 185177...\n",
      "11439  [58256.390625, 58319.5976562, 58329.8476562, 5...\n",
      "9479   [12756.3759766, 12761.671875, 12780.8046875, 1...\n",
      "3617   [16283.3701172, 16292.9658203, 16287.6787109, ...\n",
      "                                                     ...\n",
      "\n",
      "[8435 rows x 1 columns]\n"
     ]
    }
   ],
   "source": [
    "print X_train.shape, Y_train.shape, X_test.shape, Y_test.shape\n",
    "\n",
    "#Validating the number\n",
    "#print 101390*0.7, 101390*0.3 \n",
    "#print X_train\n",
    "#print Y_train\n",
    "\n",
    "#X_train\n",
    "print type(X_train)\n",
    "print X_train[:]"
   ]
  },
  {
   "cell_type": "markdown",
   "metadata": {},
   "source": [
    "## Logistic Regression"
   ]
  },
  {
   "cell_type": "code",
   "execution_count": 69,
   "metadata": {
    "collapsed": false
   },
   "outputs": [
    {
     "ename": "ValueError",
     "evalue": "setting an array element with a sequence.",
     "output_type": "error",
     "traceback": [
      "\u001b[1;31m---------------------------------------------------------------------------\u001b[0m",
      "\u001b[1;31mValueError\u001b[0m                                Traceback (most recent call last)",
      "\u001b[1;32m<ipython-input-69-e16a0bc0cb57>\u001b[0m in \u001b[0;36m<module>\u001b[1;34m()\u001b[0m\n\u001b[0;32m      1\u001b[0m \u001b[1;31m#Logistic Regression-sklearn\u001b[0m\u001b[1;33m\u001b[0m\u001b[1;33m\u001b[0m\u001b[0m\n\u001b[0;32m      2\u001b[0m \u001b[0mlogReg\u001b[0m \u001b[1;33m=\u001b[0m \u001b[0mLogisticRegression\u001b[0m\u001b[1;33m(\u001b[0m\u001b[1;33m)\u001b[0m\u001b[1;33m\u001b[0m\u001b[0m\n\u001b[1;32m----> 3\u001b[1;33m \u001b[0mlogReg\u001b[0m\u001b[1;33m.\u001b[0m\u001b[0mfit\u001b[0m\u001b[1;33m(\u001b[0m\u001b[0mX_train\u001b[0m\u001b[1;33m,\u001b[0m\u001b[0mY_train\u001b[0m\u001b[1;33m)\u001b[0m\u001b[1;33m\u001b[0m\u001b[0m\n\u001b[0m\u001b[0;32m      4\u001b[0m \u001b[0mY_logPred\u001b[0m \u001b[1;33m=\u001b[0m \u001b[0mlogReg\u001b[0m\u001b[1;33m.\u001b[0m\u001b[0mpredict\u001b[0m\u001b[1;33m(\u001b[0m\u001b[0mX_test\u001b[0m\u001b[1;33m)\u001b[0m\u001b[1;33m\u001b[0m\u001b[0m\n\u001b[0;32m      5\u001b[0m \u001b[1;32mprint\u001b[0m \u001b[0mmetrics\u001b[0m\u001b[1;33m.\u001b[0m\u001b[0maccuracy_score\u001b[0m\u001b[1;33m(\u001b[0m\u001b[0mY_test\u001b[0m\u001b[1;33m,\u001b[0m\u001b[0mY_logPred\u001b[0m\u001b[1;33m)\u001b[0m\u001b[1;33m\u001b[0m\u001b[0m\n",
      "\u001b[1;32m/usr/local/lib/python2.7/dist-packages/sklearn/linear_model/logistic.pyc\u001b[0m in \u001b[0;36mfit\u001b[1;34m(self, X, y)\u001b[0m\n\u001b[0;32m   1015\u001b[0m                              % self.C)\n\u001b[0;32m   1016\u001b[0m \u001b[1;33m\u001b[0m\u001b[0m\n\u001b[1;32m-> 1017\u001b[1;33m         \u001b[0mX\u001b[0m\u001b[1;33m,\u001b[0m \u001b[0my\u001b[0m \u001b[1;33m=\u001b[0m \u001b[0mcheck_X_y\u001b[0m\u001b[1;33m(\u001b[0m\u001b[0mX\u001b[0m\u001b[1;33m,\u001b[0m \u001b[0my\u001b[0m\u001b[1;33m,\u001b[0m \u001b[0maccept_sparse\u001b[0m\u001b[1;33m=\u001b[0m\u001b[1;34m'csr'\u001b[0m\u001b[1;33m,\u001b[0m \u001b[0mdtype\u001b[0m\u001b[1;33m=\u001b[0m\u001b[0mnp\u001b[0m\u001b[1;33m.\u001b[0m\u001b[0mfloat64\u001b[0m\u001b[1;33m,\u001b[0m \u001b[0morder\u001b[0m\u001b[1;33m=\u001b[0m\u001b[1;34m\"C\"\u001b[0m\u001b[1;33m)\u001b[0m\u001b[1;33m\u001b[0m\u001b[0m\n\u001b[0m\u001b[0;32m   1018\u001b[0m         \u001b[0mself\u001b[0m\u001b[1;33m.\u001b[0m\u001b[0mclasses_\u001b[0m \u001b[1;33m=\u001b[0m \u001b[0mnp\u001b[0m\u001b[1;33m.\u001b[0m\u001b[0munique\u001b[0m\u001b[1;33m(\u001b[0m\u001b[0my\u001b[0m\u001b[1;33m)\u001b[0m\u001b[1;33m\u001b[0m\u001b[0m\n\u001b[0;32m   1019\u001b[0m         \u001b[1;32mif\u001b[0m \u001b[0mself\u001b[0m\u001b[1;33m.\u001b[0m\u001b[0msolver\u001b[0m \u001b[1;32mnot\u001b[0m \u001b[1;32min\u001b[0m \u001b[1;33m[\u001b[0m\u001b[1;34m'liblinear'\u001b[0m\u001b[1;33m,\u001b[0m \u001b[1;34m'newton-cg'\u001b[0m\u001b[1;33m,\u001b[0m \u001b[1;34m'lbfgs'\u001b[0m\u001b[1;33m]\u001b[0m\u001b[1;33m:\u001b[0m\u001b[1;33m\u001b[0m\u001b[0m\n",
      "\u001b[1;32m/usr/local/lib/python2.7/dist-packages/sklearn/utils/validation.pyc\u001b[0m in \u001b[0;36mcheck_X_y\u001b[1;34m(X, y, accept_sparse, dtype, order, copy, force_all_finite, ensure_2d, allow_nd, multi_output, ensure_min_samples, ensure_min_features, y_numeric)\u001b[0m\n\u001b[0;32m    442\u001b[0m     X = check_array(X, accept_sparse, dtype, order, copy, force_all_finite,\n\u001b[0;32m    443\u001b[0m                     \u001b[0mensure_2d\u001b[0m\u001b[1;33m,\u001b[0m \u001b[0mallow_nd\u001b[0m\u001b[1;33m,\u001b[0m \u001b[0mensure_min_samples\u001b[0m\u001b[1;33m,\u001b[0m\u001b[1;33m\u001b[0m\u001b[0m\n\u001b[1;32m--> 444\u001b[1;33m                     ensure_min_features)\n\u001b[0m\u001b[0;32m    445\u001b[0m     \u001b[1;32mif\u001b[0m \u001b[0mmulti_output\u001b[0m\u001b[1;33m:\u001b[0m\u001b[1;33m\u001b[0m\u001b[0m\n\u001b[0;32m    446\u001b[0m         y = check_array(y, 'csr', force_all_finite=True, ensure_2d=False,\n",
      "\u001b[1;32m/usr/local/lib/python2.7/dist-packages/sklearn/utils/validation.pyc\u001b[0m in \u001b[0;36mcheck_array\u001b[1;34m(array, accept_sparse, dtype, order, copy, force_all_finite, ensure_2d, allow_nd, ensure_min_samples, ensure_min_features)\u001b[0m\n\u001b[0;32m    342\u001b[0m             \u001b[1;32melse\u001b[0m\u001b[1;33m:\u001b[0m\u001b[1;33m\u001b[0m\u001b[0m\n\u001b[0;32m    343\u001b[0m                 \u001b[0mdtype\u001b[0m \u001b[1;33m=\u001b[0m \u001b[0mNone\u001b[0m\u001b[1;33m\u001b[0m\u001b[0m\n\u001b[1;32m--> 344\u001b[1;33m         \u001b[0marray\u001b[0m \u001b[1;33m=\u001b[0m \u001b[0mnp\u001b[0m\u001b[1;33m.\u001b[0m\u001b[0marray\u001b[0m\u001b[1;33m(\u001b[0m\u001b[0marray\u001b[0m\u001b[1;33m,\u001b[0m \u001b[0mdtype\u001b[0m\u001b[1;33m=\u001b[0m\u001b[0mdtype\u001b[0m\u001b[1;33m,\u001b[0m \u001b[0morder\u001b[0m\u001b[1;33m=\u001b[0m\u001b[0morder\u001b[0m\u001b[1;33m,\u001b[0m \u001b[0mcopy\u001b[0m\u001b[1;33m=\u001b[0m\u001b[0mcopy\u001b[0m\u001b[1;33m)\u001b[0m\u001b[1;33m\u001b[0m\u001b[0m\n\u001b[0m\u001b[0;32m    345\u001b[0m         \u001b[1;31m# make sure we actually converted to numeric:\u001b[0m\u001b[1;33m\u001b[0m\u001b[1;33m\u001b[0m\u001b[0m\n\u001b[0;32m    346\u001b[0m         \u001b[1;32mif\u001b[0m \u001b[0mdtype_numeric\u001b[0m \u001b[1;32mand\u001b[0m \u001b[0marray\u001b[0m\u001b[1;33m.\u001b[0m\u001b[0mdtype\u001b[0m\u001b[1;33m.\u001b[0m\u001b[0mkind\u001b[0m \u001b[1;33m==\u001b[0m \u001b[1;34m\"O\"\u001b[0m\u001b[1;33m:\u001b[0m\u001b[1;33m\u001b[0m\u001b[0m\n",
      "\u001b[1;31mValueError\u001b[0m: setting an array element with a sequence."
     ]
    }
   ],
   "source": [
    "#Logistic Regression-sklearn\n",
    "logReg = LogisticRegression()\n",
    "logReg.fit(X_train,Y_train)\n",
    "Y_logPred = logReg.predict(X_test)\n",
    "print metrics.accuracy_score(Y_test,Y_logPred)"
   ]
  },
  {
   "cell_type": "code",
   "execution_count": 11,
   "metadata": {
    "collapsed": false
   },
   "outputs": [
    {
     "name": "stdout",
     "output_type": "stream",
     "text": [
      "[[1786    9]\n",
      " [   9 1811]]\n"
     ]
    },
    {
     "name": "stderr",
     "output_type": "stream",
     "text": [
      "/usr/local/lib/python2.7/dist-packages/numpy/core/fromnumeric.py:2507: VisibleDeprecationWarning: `rank` is deprecated; use the `ndim` attribute or function instead. To find the rank of a matrix see `numpy.linalg.matrix_rank`.\n",
      "  VisibleDeprecationWarning)\n"
     ]
    },
    {
     "data": {
      "image/png": "[encoded data removed]",
      "text/plain": [
       "<matplotlib.figure.Figure at 0x7f88c7987910>"
      ]
     },
     "metadata": {},
     "output_type": "display_data"
    }
   ],
   "source": [
    "#Confusion matrix of logistic regression\n",
    "conf = metrics.confusion_matrix(Y_test,Y_logPred)\n",
    "plt.imshow(conf)\n",
    "print conf"
   ]
  },
  {
   "cell_type": "markdown",
   "metadata": {},
   "source": [
    "## KNeighbours"
   ]
  },
  {
   "cell_type": "code",
   "execution_count": 12,
   "metadata": {
    "collapsed": false
   },
   "outputs": [
    {
     "name": "stdout",
     "output_type": "stream",
     "text": [
      "0.492116182573\n",
      "[[1606  189]\n",
      " [1647  173]]\n"
     ]
    }
   ],
   "source": [
    "# KNeighbours classification\n",
    "knn = KNeighborsClassifier(n_neighbors=5)\n",
    "\n",
    "knn.fit(X_train,Y_train)\n",
    "Y_pred = knn.predict(X_test)\n",
    "print metrics.accuracy_score(Y_test, Y_pred)\n",
    "conf = metrics.confusion_matrix(Y_test, Y_pred)\n",
    "#plt.imshow(conf)\n",
    "print conf"
   ]
  },
  {
   "cell_type": "markdown",
   "metadata": {},
   "source": [
    "## Random Forest"
   ]
  },
  {
   "cell_type": "code",
   "execution_count": 13,
   "metadata": {
    "collapsed": false
   },
   "outputs": [
    {
     "name": "stdout",
     "output_type": "stream",
     "text": [
      "0.744398340249\n"
     ]
    }
   ],
   "source": [
    "#Random Forest Classification\n",
    "randForest = RandomForestClassifier(n_estimators=30)\n",
    "randForest.fit(X_train,Y_train)\n",
    "Y_randForestPred = randForest.predict(X_test)\n",
    "print metrics.accuracy_score(Y_test,Y_randForestPred)"
   ]
  },
  {
   "cell_type": "code",
   "execution_count": 14,
   "metadata": {
    "collapsed": false
   },
   "outputs": [
    {
     "name": "stdout",
     "output_type": "stream",
     "text": [
      "[[1515  280]\n",
      " [ 644 1176]]\n"
     ]
    }
   ],
   "source": [
    "#Confusion matrix for randomforest\n",
    "conf2 = metrics.confusion_matrix(Y_test,Y_randForestPred)\n",
    "#plt.imshow(conf2)\n",
    "print conf2"
   ]
  },
  {
   "cell_type": "markdown",
   "metadata": {},
   "source": [
    "## Support Vector machine"
   ]
  },
  {
   "cell_type": "code",
   "execution_count": 15,
   "metadata": {
    "collapsed": false
   },
   "outputs": [
    {
     "data": {
      "text/plain": [
       "LinearSVC(C=10, class_weight=None, dual=True, fit_intercept=True,\n",
       "     intercept_scaling=1, loss='hinge', max_iter=1000, multi_class='ovr',\n",
       "     penalty='l2', random_state=None, tol=0.0001, verbose=0)"
      ]
     },
     "execution_count": 15,
     "metadata": {},
     "output_type": "execute_result"
    }
   ],
   "source": [
    "#Support Vector Machine\n",
    "svc = svm.LinearSVC(C=10, loss='hinge', max_iter=1000)\n",
    "svc"
   ]
  },
  {
   "cell_type": "code",
   "execution_count": 16,
   "metadata": {
    "collapsed": false
   },
   "outputs": [
    {
     "data": {
      "text/plain": [
       "0.51479944674965417"
      ]
     },
     "execution_count": 16,
     "metadata": {},
     "output_type": "execute_result"
    }
   ],
   "source": [
    "svc.fit(X_train,Y_train)\n",
    "svc.score(X_test, Y_test)"
   ]
  },
  {
   "cell_type": "code",
   "execution_count": null,
   "metadata": {
    "collapsed": true
   },
   "outputs": [],
   "source": []
  }
 ],
 "metadata": {
  "kernelspec": {
   "display_name": "Python 2",
   "language": "python",
   "name": "python2"
  },
  "language_info": {
   "codemirror_mode": {
    "name": "ipython",
    "version": 2
   },
   "file_extension": ".py",
   "mimetype": "text/x-python",
   "name": "python",
   "nbconvert_exporter": "python",
   "pygments_lexer": "ipython2",
   "version": "2.7.6"
  }
 },
 "nbformat": 4,
 "nbformat_minor": 0
}
