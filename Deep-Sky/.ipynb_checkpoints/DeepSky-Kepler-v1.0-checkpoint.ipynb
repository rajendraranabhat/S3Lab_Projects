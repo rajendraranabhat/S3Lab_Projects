{
 "cells": [
  {
   "cell_type": "markdown",
   "metadata": {},
   "source": [
    "# Doing simple classification for DeepSky Datasets(Kepler)"
   ]
  },
  {
   "cell_type": "code",
   "execution_count": 274,
   "metadata": {
    "collapsed": false
   },
   "outputs": [],
   "source": [
    "import numpy as np\n",
    "import pandas as pd\n",
    "from sklearn.neighbors import KNeighborsClassifier\n",
    "from sklearn.linear_model import LogisticRegression\n",
    "from sklearn.ensemble import RandomForestClassifier\n",
    "from sklearn.cross_validation import cross_val_score\n",
    "from sklearn import metrics\n",
    "from sklearn.cross_validation import train_test_split\n",
    "from sklearn.metrics import confusion_matrix, roc_curve, auc\n",
    "from sklearn.grid_search import GridSearchCV\n",
    "from sklearn import svm\n",
    "import matplotlib.pyplot as plt\n",
    "import scipy.optimize as opt\n",
    "import glob\n",
    "import os\n",
    "import sys\n",
    "from astropy.io import fits\n",
    "%matplotlib inline"
   ]
  },
  {
   "cell_type": "code",
   "execution_count": 314,
   "metadata": {
    "collapsed": false
   },
   "outputs": [],
   "source": [
    "#sys.modules[__name__].__dict__.clear()\n",
    "#Function to read the files and put in the dataframe\n",
    "\n",
    "def readData(path):\n",
    "    allFiles = glob.glob(path)\n",
    "    list_ = []\n",
    "    df_ = pd.DataFrame()\n",
    "    \n",
    "    for file_ in allFiles:\n",
    "        #print file_\n",
    "        dataList = fits.open(file_)\n",
    "        \n",
    "        #flux = np.array(dataList[0].data[0],float) #flux\n",
    "        #wavelength = np.array(dataList[0].data[1],float) #wavelength\n",
    "        \n",
    "        df = pd.DataFrame(np.array(dataList[0].data,float)).transpose() #Making sure the data format is right.        \n",
    "        df = df.dropna(axis=0)\n",
    "        #print np.unique(df.isnull())\n",
    "        #print df.isnull().values.any()\n",
    "        #print df.head()       \n",
    "        \n",
    "        #print df[0:300].shape\n",
    "        #list_.append(df.values.flatten()[0:4500])\n",
    "        #list_.append(df) #flatten the matrix to arrays. Take first 4500 items only.\n",
    "        #df.values.flatten()[0:3000]\n",
    "        #df_ = df_.append(df)\n",
    "        \n",
    "        #If length of the file is greater than 3000, only include that\n",
    "        if(df.shape[0] > 3000):\n",
    "            print file_\n",
    "            list_.append(df.values.flatten()[0:3000])\n",
    "        #df_ = df_.append(df.values.flatten())\n",
    "    \n",
    "    return pd.DataFrame(list_)"
   ]
  },
  {
   "cell_type": "code",
   "execution_count": 315,
   "metadata": {
    "collapsed": true
   },
   "outputs": [
    {
     "name": "stdout",
     "output_type": "stream",
     "text": [
      "/home/rbhat/S3Lab Project/Kepler-Astronomy/SubsetData/002140424_q17.fits\n",
      "(1, 3000)\n",
      "          1000           1001         1002           1003        1004  \\\n",
      "0  1493.796423  147689.359375  1493.816857  147669.953125  1493.83729   \n",
      "\n",
      "            1005         1006        1007         1008          1009  \\\n",
      "0  147681.671875  1493.857724  147717.875  1493.878157  147756.28125   \n",
      "\n",
      "          1010          1011         1012         1013         1014  \\\n",
      "0  1493.898591  147735.84375  1493.919024  147680.9375  1493.939458   \n",
      "\n",
      "            1015         1016       1017         1018         1019      \n",
      "0  147700.578125  1493.959891  147718.75  1493.980324  147700.9375 ...  \n",
      "\n",
      "[1 rows x 501 columns]\n"
     ]
    }
   ],
   "source": [
    "path11 = r'/home/rbhat/S3Lab Project/Kepler-Astronomy/SubsetData/*.fits'\n",
    "frame11 = readData(path11)\n",
    "\n",
    "print frame11.shape\n",
    "#print frame11.head\n",
    "\n",
    "print frame11.loc[:,1000:1500]"
   ]
  },
  {
   "cell_type": "code",
   "execution_count": 316,
   "metadata": {
    "collapsed": false
   },
   "outputs": [
    {
     "name": "stdout",
     "output_type": "stream",
     "text": [
      "Read for frame1\n",
      "/home/rbhat/S3Lab Project/Kepler-Astronomy/SubsetData/kepler_simtran_3d4hr_nokoi-Signal/002140360_q05.fits\n",
      "/home/rbhat/S3Lab Project/Kepler-Astronomy/SubsetData/kepler_simtran_3d4hr_nokoi-Signal/002140360_q04.fits\n",
      "/home/rbhat/S3Lab Project/Kepler-Astronomy/SubsetData/kepler_simtran_3d4hr_nokoi-Signal/002140360_q09.fits\n",
      "/home/rbhat/S3Lab Project/Kepler-Astronomy/SubsetData/kepler_simtran_3d4hr_nokoi-Signal/002140360_q07.fits\n",
      "/home/rbhat/S3Lab Project/Kepler-Astronomy/SubsetData/kepler_simtran_3d4hr_nokoi-Signal/002140360_q06.fits\n",
      "/home/rbhat/S3Lab Project/Kepler-Astronomy/SubsetData/kepler_simtran_3d4hr_nokoi-Signal/002140360_q10.fits\n",
      "/home/rbhat/S3Lab Project/Kepler-Astronomy/SubsetData/kepler_simtran_3d4hr_nokoi-Signal/002140360_q08.fits\n",
      "/home/rbhat/S3Lab Project/Kepler-Astronomy/SubsetData/kepler_simtran_3d4hr_nokoi-Signal/002140360_q03.fits\n",
      "Read for frame2\n",
      "/home/rbhat/S3Lab Project/Kepler-Astronomy/SubsetData/kepler_0021_orig_noki-No-Signal/002140360_q05.fits\n",
      "/home/rbhat/S3Lab Project/Kepler-Astronomy/SubsetData/kepler_0021_orig_noki-No-Signal/002140360_q04.fits\n",
      "/home/rbhat/S3Lab Project/Kepler-Astronomy/SubsetData/kepler_0021_orig_noki-No-Signal/002140360_q09.fits\n",
      "/home/rbhat/S3Lab Project/Kepler-Astronomy/SubsetData/kepler_0021_orig_noki-No-Signal/002140360_q07.fits\n",
      "/home/rbhat/S3Lab Project/Kepler-Astronomy/SubsetData/kepler_0021_orig_noki-No-Signal/002140360_q06.fits\n",
      "/home/rbhat/S3Lab Project/Kepler-Astronomy/SubsetData/kepler_0021_orig_noki-No-Signal/002140360_q10.fits\n",
      "/home/rbhat/S3Lab Project/Kepler-Astronomy/SubsetData/kepler_0021_orig_noki-No-Signal/002140360_q08.fits\n",
      "/home/rbhat/S3Lab Project/Kepler-Astronomy/SubsetData/kepler_0021_orig_noki-No-Signal/002140360_q03.fits\n"
     ]
    }
   ],
   "source": [
    "path1 = r'/home/rbhat/S3Lab Project/Kepler-Astronomy/SubsetData/kepler_simtran_3d4hr_nokoi-Signal/*.fits' \n",
    "path2 = r'/home/rbhat/S3Lab Project/Kepler-Astronomy/SubsetData/kepler_0021_orig_noki-No-Signal/*.fits'\n",
    "\n",
    "print 'Read for frame1'\n",
    "frame1 = readData(path1) #Signal\n",
    "print 'Read for frame2'\n",
    "frame2 = readData(path2) #No-Signal"
   ]
  },
  {
   "cell_type": "code",
   "execution_count": 319,
   "metadata": {
    "collapsed": false
   },
   "outputs": [
    {
     "name": "stdout",
     "output_type": "stream",
     "text": [
      "(8, 3000) (8, 3000)\n",
      "<bound method DataFrame.head of            0             1           2             3           4   \\\n",
      "0  352.396485  465486.53125  352.437351  465466.78125  352.457784   \n",
      "1  260.245120  460485.56250  260.265553  460504.37500  260.285985   \n",
      "2  735.383167  460013.75000  735.403600  460038.06250  735.424033   \n",
      "3  539.471161  420950.81250  539.491595  421098.71875  539.512029   \n",
      "4  443.510864  442940.78125  443.531298  442893.62500  443.551733   \n",
      "5  808.536392  440303.78125  808.556826  440315.09375  808.577260   \n",
      "6  630.195475  456950.62500  630.215908  457004.78125  630.236341   \n",
      "7  169.766083  422447.93750  169.786517  422387.43750  169.806951   \n",
      "\n",
      "             5           6             7           8             9   \\\n",
      "0  465417.31250  352.478217  465337.50000  352.498650  465183.53125   \n",
      "1  460583.93750  260.306418  460553.71875  260.326851  460553.18750   \n",
      "2  460003.75000  735.444467  459823.59375  735.464900  459658.34375   \n",
      "3  421253.50000  539.532463  421309.00000  539.552897  421298.15625   \n",
      "4  442799.12500  443.572167  442750.62500  443.592602  442647.96875   \n",
      "5  440222.75000  808.597695  440222.34375  808.618129  440118.15625   \n",
      "6  456951.06250  630.256774  456968.78125  630.277207  456900.62500   \n",
      "7  422363.65625  169.827385  422331.12500  169.847819  422427.21875   \n",
      "\n",
      "           10            11          12            13          14  \\\n",
      "0  352.519083  464979.90625  352.539516  464896.40625  352.559949   \n",
      "1  260.347284  460543.31250  260.367716  460523.87500  260.388149   \n",
      "2  735.485333  459586.31250  735.505766  459484.15625  735.526200   \n",
      "3  539.573332  421251.81250  539.593766  421216.84375  539.614200   \n",
      "4  443.613036  442645.28125  443.633471  442700.71875  443.653905   \n",
      "5  808.638564  440107.65625  808.658998  440067.00000  808.679433   \n",
      "6  630.297639  456824.18750  630.318072  456624.50000  630.338505   \n",
      "7  169.868253  422414.46875  169.888687  422491.09375  169.909121   \n",
      "\n",
      "             15          16            17          18            19      \n",
      "0  464758.15625  352.580382  464638.03125  352.600815  464528.68750 ...  \n",
      "1  460572.12500  260.408582  460584.40625  260.429015  460657.53125 ...  \n",
      "2  459413.84375  735.546633  459422.90625  735.567066  459426.43750 ...  \n",
      "3  421214.40625  539.634634  421185.96875  539.655068  421167.87500 ...  \n",
      "4  442717.12500  443.674340  442711.40625  443.694774  442818.06250 ...  \n",
      "5  439973.09375  808.699867  439957.90625  808.720301  439953.21875 ...  \n",
      "6  456528.56250  630.358938  456349.18750  630.379370  456202.25000 ...  \n",
      "7  422545.34375  169.929555  422643.09375  169.949989  422666.71875 ...  \n",
      "\n",
      "[8 rows x 3000 columns]>\n"
     ]
    }
   ],
   "source": [
    "print frame1.shape, frame2.shape \n",
    "\n",
    "print frame1.head"
   ]
  },
  {
   "cell_type": "code",
   "execution_count": 333,
   "metadata": {
    "collapsed": false
   },
   "outputs": [
    {
     "name": "stdout",
     "output_type": "stream",
     "text": [
      "1500 1500\n",
      "1500 1500\n"
     ]
    },
    {
     "data": {
      "text/plain": [
       "<matplotlib.text.Text at 0x7f7bd17ce810>"
      ]
     },
     "execution_count": 333,
     "metadata": {},
     "output_type": "execute_result"
    },
    {
     "data": {
      "image/png": "[encoded data removed]",
      "text/plain": [
       "<matplotlib.figure.Figure at 0x7f7bd1abb910>"
      ]
     },
     "metadata": {},
     "output_type": "display_data"
    }
   ],
   "source": [
    "#Plotting the figure\n",
    "n_start = 0\n",
    "n_end = 3000\n",
    "\n",
    "frame1_tmp = frame1.loc[0,:]  #1st signal\n",
    "frame2_tmp = frame2.loc[0,:]  #1st signal\n",
    "\n",
    "frame1_tmp_x = [val for i,val in enumerate(frame1_tmp) if (i%2 == 0)]\n",
    "frame1_tmp_y = [val for i,val in enumerate(frame1_tmp) if (i%2 != 0)]\n",
    "\n",
    "frame2_tmp_x = [val for i,val in enumerate(frame2_tmp) if (i%2 == 0)]\n",
    "frame2_tmp_y = [val for i,val in enumerate(frame2_tmp) if (i%2 != 0)]\n",
    "\n",
    "frame1_tmp_x = frame1_tmp_x\n",
    "print len(frame1_tmp_x), len(frame1_tmp_y)\n",
    "\n",
    "frame2_tmp_x = frame2_tmp_x\n",
    "print len(frame2_tmp_x), len(frame2_tmp_y)\n",
    "\n",
    "#print frame1_tmp\n",
    "\n",
    "fig, ax = plt.subplots(figsize=(10,6))\n",
    "ax.plot(frame1_tmp_x, frame1_tmp_y, label='With Signal')\n",
    "#ax.plot(frame2_tmp_x, frame2_tmp_y, label='Without Signal')\n",
    "#ax.scatter(frame1_tmp[0], frame1_tmp[1], s=30, marker='x', label='With Signal')\n",
    "#ax.scatter(frame2_tmp[0], frame2_tmp[1], s=30, marker='o', label='Without Signal')\n",
    "ax.legend()\n",
    "ax.set_xlabel('X1')\n",
    "ax.set_ylabel('X2')\n",
    "#fig.suptitle(i)"
   ]
  },
  {
   "cell_type": "code",
   "execution_count": null,
   "metadata": {
    "collapsed": true
   },
   "outputs": [],
   "source": []
  }
 ],
 "metadata": {
  "kernelspec": {
   "display_name": "Python 2",
   "language": "python",
   "name": "python2"
  },
  "language_info": {
   "codemirror_mode": {
    "name": "ipython",
    "version": 2
   },
   "file_extension": ".py",
   "mimetype": "text/x-python",
   "name": "python",
   "nbconvert_exporter": "python",
   "pygments_lexer": "ipython2",
   "version": "2.7.6"
  }
 },
 "nbformat": 4,
 "nbformat_minor": 0
}
