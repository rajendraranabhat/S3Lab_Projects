{
 "cells": [
  {
   "cell_type": "markdown",
   "metadata": {},
   "source": [
    "# Doing MachineLearning classification for DeepSky Datasets(Kepler)"
   ]
  },
  {
   "cell_type": "code",
<<<<<<< HEAD
   "execution_count": 105,
=======
   "execution_count": 108,
>>>>>>> bde5c4339da363d65c84e0afd54a27eabdaca4e2
   "metadata": {
    "collapsed": false
   },
   "outputs": [],
   "source": [
    "import numpy as np\n",
    "import pandas as pd\n",
    "from sklearn.neighbors import KNeighborsClassifier\n",
    "from sklearn.linear_model import LogisticRegression\n",
    "from sklearn.ensemble import RandomForestClassifier\n",
    "from sklearn.cross_validation import cross_val_score\n",
    "from sklearn import metrics\n",
    "from sklearn.cross_validation import train_test_split\n",
    "from sklearn.metrics import confusion_matrix, roc_curve, auc\n",
    "from sklearn.grid_search import GridSearchCV\n",
    "from sklearn import svm\n",
    "import matplotlib.pyplot as plt\n",
    "import scipy.optimize as opt\n",
    "import glob\n",
    "import os\n",
    "import sys\n",
    "from astropy.io import fits\n",
    "%matplotlib inline"
   ]
  },
  {
   "cell_type": "code",
<<<<<<< HEAD
   "execution_count": 111,
=======
   "execution_count": 109,
>>>>>>> bde5c4339da363d65c84e0afd54a27eabdaca4e2
   "metadata": {
    "collapsed": false
   },
   "outputs": [],
   "source": [
    "#sys.modules[__name__].__dict__.clear()\n",
    "#Utility function to read the files and put in the pandas dataframe\n",
    "\n",
    "\n",
    "\n",
    "def readData(path):\n",
    "    allFiles = glob.glob(path)\n",
    "    list_ = []\n",
    "    \n",
    "    list_flux = []\n",
    "    list_time = []\n",
<<<<<<< HEAD
    "    \n",
=======
>>>>>>> bde5c4339da363d65c84e0afd54a27eabdaca4e2
    "    df_ = pd.DataFrame()\n",
    "    totalFile = 0\n",
    "    readFile = 0\n",
    "    \n",
    "    for file_ in allFiles:\n",
    "        #print file_\n",
    "        dataList = fits.open(file_)\n",
    "        \n",
    "        totalFile = totalFile+1\n",
<<<<<<< HEAD
    "        #flux = np.array(dataList[0].data[0],float) #wavelength\n",
    "        #wavelength = np.array(dataList[0].data[1],float) #flux\n",
=======
    "        #flux = np.array(dataList[0].data[0],float) #flux\n",
    "        #wavelength = np.array(dataList[0].data[1],float) #wavelength\n",
>>>>>>> bde5c4339da363d65c84e0afd54a27eabdaca4e2
    "        \n",
    "        df = pd.DataFrame(np.array(dataList[0].data,float)).transpose() #Making sure the data format is right.        \n",
    "        df = df.dropna(axis=0)\n",
    "        #print np.unique(df.isnull())\n",
    "        #print df.isnull().values.any()\n",
    "              \n",
    "        #If length of the file is greater than 3000, only include that\n",
    "        if(df.shape[0] > 3000):\n",
<<<<<<< HEAD
    "            print file_\n",
    "            readFile = readFile+1\n",
    "            #list_.append((df[0].values.flatten()[0:3000],df[1].values.flatten()[0:3000]))\n",
    "            \n",
    "            list_flux.append(df[1].values.flatten()[0:3000])\n",
    "            list_time.append(df[0].values.flatten()[0:3000])\n",
    "            #list_.append(df.values.flatten()[0:3000])\n",
=======
    "            #print file_\n",
    "            readFile = readFile+1\n",
    "            #list_.append((df[0].values.flatten()[0:3000],df[1].values.flatten()[0:3000]))\n",
    "            list_time.append(df[0].values.flatten()[0:3000])\n",
    "            list_flux.append(df[1].values.flatten()[0:3000])           \n",
    "            \n",
>>>>>>> bde5c4339da363d65c84e0afd54a27eabdaca4e2
    "        #df_ = df_.append(df.values.flatten())\n",
    "    \n",
    "    print 'Total File', totalFile\n",
    "    print 'Read File', readFile\n",
    "    #return pd.DataFrame(list_)\n",
<<<<<<< HEAD
    "    return pd.DataFrame(list_flux), pd.DataFrame(list_time)"
=======
    "    return pd.DataFrame(list_time), pd.DataFrame(list_flux)"
>>>>>>> bde5c4339da363d65c84e0afd54a27eabdaca4e2
   ]
  },
  {
   "cell_type": "code",
<<<<<<< HEAD
   "execution_count": 112,
=======
   "execution_count": 110,
>>>>>>> bde5c4339da363d65c84e0afd54a27eabdaca4e2
   "metadata": {
    "collapsed": false
   },
   "outputs": [
    {
     "name": "stdout",
     "output_type": "stream",
     "text": [
      "Read for frame1\n",
<<<<<<< HEAD
      "/home/rbhat/S3Lab Project/Kepler-Astronomy/SubsetData/kepler_simtran_3d4hr_nokoi-Signal/002140360_q05.fits\n",
      "/home/rbhat/S3Lab Project/Kepler-Astronomy/SubsetData/kepler_simtran_3d4hr_nokoi-Signal/002140360_q04.fits\n",
      "/home/rbhat/S3Lab Project/Kepler-Astronomy/SubsetData/kepler_simtran_3d4hr_nokoi-Signal/002140360_q09.fits\n",
      "/home/rbhat/S3Lab Project/Kepler-Astronomy/SubsetData/kepler_simtran_3d4hr_nokoi-Signal/002140360_q07.fits\n",
      "/home/rbhat/S3Lab Project/Kepler-Astronomy/SubsetData/kepler_simtran_3d4hr_nokoi-Signal/002140360_q06.fits\n",
      "/home/rbhat/S3Lab Project/Kepler-Astronomy/SubsetData/kepler_simtran_3d4hr_nokoi-Signal/002140360_q10.fits\n",
      "/home/rbhat/S3Lab Project/Kepler-Astronomy/SubsetData/kepler_simtran_3d4hr_nokoi-Signal/002140360_q08.fits\n",
      "/home/rbhat/S3Lab Project/Kepler-Astronomy/SubsetData/kepler_simtran_3d4hr_nokoi-Signal/002140360_q03.fits\n",
      "Total File 10\n",
      "Read File 8\n",
      "Read for frame2\n",
      "/home/rbhat/S3Lab Project/Kepler-Astronomy/SubsetData/kepler_0021_orig_noki-No-Signal/002140360_q05.fits\n",
      "/home/rbhat/S3Lab Project/Kepler-Astronomy/SubsetData/kepler_0021_orig_noki-No-Signal/002140360_q04.fits\n",
      "/home/rbhat/S3Lab Project/Kepler-Astronomy/SubsetData/kepler_0021_orig_noki-No-Signal/002140360_q09.fits\n",
      "/home/rbhat/S3Lab Project/Kepler-Astronomy/SubsetData/kepler_0021_orig_noki-No-Signal/002140360_q07.fits\n",
      "/home/rbhat/S3Lab Project/Kepler-Astronomy/SubsetData/kepler_0021_orig_noki-No-Signal/002140360_q06.fits\n",
      "/home/rbhat/S3Lab Project/Kepler-Astronomy/SubsetData/kepler_0021_orig_noki-No-Signal/002140360_q10.fits\n",
      "/home/rbhat/S3Lab Project/Kepler-Astronomy/SubsetData/kepler_0021_orig_noki-No-Signal/002140360_q08.fits\n",
      "/home/rbhat/S3Lab Project/Kepler-Astronomy/SubsetData/kepler_0021_orig_noki-No-Signal/002140360_q03.fits\n",
      "Total File 10\n",
      "Read File 8\n"
=======
      "Total File 6929\n",
      "Read File 6024\n",
      "Read for frame2\n",
      "Total File 6929\n",
      "Read File 6024\n"
>>>>>>> bde5c4339da363d65c84e0afd54a27eabdaca4e2
     ]
    }
   ],
   "source": [
    "#Give the path and it will read all the files with .fits extension in dataframe.\n",
    "\n",
    "\n",
    "\n",
    "\n",
<<<<<<< HEAD
    "#path1 = r'/home/shared/Kepler/kepler_simtran_3d4hr_nokoi/*.fits' #Signal\n",
    "#path2 = r'/home/shared/Kepler/kepler_0021_orig_nokoi/*.fits'#no signal\n",
    "\n",
    "path1 = r'/home/rbhat/S3Lab Project/Kepler-Astronomy/SubsetData/kepler_simtran_3d4hr_nokoi-Signal/*.fits' #Signal\n",
    "path2 = r'/home/rbhat/S3Lab Project/Kepler-Astronomy/SubsetData/kepler_0021_orig_noki-No-Signal/*.fits'   #No-Signal\n",
=======
    "path1 = r'/home/shared/Kepler/kepler_simtran_3d4hr_nokoi/*.fits' #Signal\n",
    "path2 = r'/home/shared/Kepler/kepler_0021_orig_nokoi/*.fits'#no signal\n",
    "\n",
    "#path1 = r'/home/rbhat/S3Lab Project/Kepler-Astronomy/SubsetData/kepler_simtran_3d4hr_nokoi-Signal/*.fits' #Signal\n",
    "#path2 = r'/home/rbhat/S3Lab Project/Kepler-Astronomy/SubsetData/kepler_0021_orig_noki-No-Signal/*.fits'   #No-Signal\n",
>>>>>>> bde5c4339da363d65c84e0afd54a27eabdaca4e2
    "\n",
    "#path1 = r'/home/rbhat/S3Lab Project/Kepler-Astronomy/SubsetData/*.fits' #Signal\n",
    "\n",
    "\n",
    "print 'Read for frame1'\n",
    "frame1_time, frame1_flux = readData(path1) #Signal\n",
    "print 'Read for frame2'\n",
    "frame2_time, frame2_flux = readData(path2) #No-Signal"
   ]
  },
  {
   "cell_type": "code",
<<<<<<< HEAD
   "execution_count": 189,
=======
   "execution_count": 118,
>>>>>>> bde5c4339da363d65c84e0afd54a27eabdaca4e2
   "metadata": {
    "collapsed": false
   },
   "outputs": [
    {
     "name": "stdout",
     "output_type": "stream",
     "text": [
<<<<<<< HEAD
      "(8, 2)\n",
      "<class 'pandas.core.series.Series'>\n",
      "(8,)\n",
      "0    [352.396484921, 352.437350983, 352.457784014, ...\n",
      "1    [260.245120053, 260.2655528, 260.285985446, 26...\n",
      "2    [735.383166943, 735.403600166, 735.424033389, ...\n",
      "3    [539.471161023, 539.491595128, 539.512029332, ...\n",
      "4    [443.51086394, 443.53129832, 443.551732799, 44...\n",
      "5    [808.536391572, 808.556825987, 808.577260402, ...\n",
      "6    [630.195475474, 630.215908234, 630.236341094, ...\n",
      "7    [169.76608253, 169.786516724, 169.806950717, 1...\n",
      "Name: 0, dtype: object\n",
      "[[ 1.  1.  1.  1.  1.]\n",
      " [ 1.  1.  1.  1.  1.]\n",
      " [ 1.  1.  1.  1.  1.]]\n"
=======
      "(6024, 3000) (6024, 3000)\n",
      "(6024, 3000) (6024, 3000)\n",
      "0     808.535992\n",
      "1     808.556426\n",
      "2     808.576860\n",
      "3     808.597295\n",
      "4     808.617729\n",
      "5     808.638164\n",
      "6     808.658598\n",
      "7     808.679032\n",
      "8     808.699467\n",
      "9     808.719901\n",
      "10    808.740335\n",
      "11    808.760770\n",
      "12    808.781204\n",
      "13    808.801638\n",
      "14    808.822073\n",
      "...\n",
      "2985    870.861420\n",
      "2986    870.881854\n",
      "2987    870.902289\n",
      "2988    870.922724\n",
      "2989    870.943158\n",
      "2990    870.963593\n",
      "2991    870.984027\n",
      "2992    871.004462\n",
      "2993    871.024897\n",
      "2994    871.045331\n",
      "2995    871.065766\n",
      "2996    871.086200\n",
      "2997    871.106635\n",
      "2998    871.127070\n",
      "2999    871.147504\n",
      "Name: 0, Length: 3000, dtype: float64\n"
>>>>>>> bde5c4339da363d65c84e0afd54a27eabdaca4e2
     ]
    }
   ],
   "source": [
    "#Making sure the dataframe size match with the expected..\n",
<<<<<<< HEAD
    "#print frame1.shape, frame2.shape \n",
    "\n",
    "print frame1.shape\n",
    "#print frame1.head\n",
    "\n",
    "print type(frame1[0])\n",
    "\n",
    "print frame1[0].shape\n",
    "\n",
    "print frame1[0]\n",
    "\n",
    "print np.ones((3, 5))\n",
    "#print type(frame1[0].values)\n",
    "\n",
    "#print frame1[0].values\n",
    "\n",
    "\n",
    "#print frame1[0].map(lambda v: v.squeeze())\n",
    "\n",
    "#print frame1[1]\n"
=======
    "print frame1_time.shape, frame1_flux.shape \n",
    "print frame2_time.shape, frame2_flux.shape \n",
    "\n",
    "print frame1_time.loc[0,:]\n"
>>>>>>> bde5c4339da363d65c84e0afd54a27eabdaca4e2
   ]
  },
  {
   "cell_type": "markdown",
   "metadata": {},
   "source": [
    "Plot the figure. Since the arrays are flatten, I am taking individual flux and time accordingly to plot the figure."
   ]
  },
  {
   "cell_type": "code",
<<<<<<< HEAD
   "execution_count": 98,
=======
   "execution_count": 49,
>>>>>>> bde5c4339da363d65c84e0afd54a27eabdaca4e2
   "metadata": {
    "collapsed": false
   },
   "outputs": [
    {
<<<<<<< HEAD
     "name": "stdout",
     "output_type": "stream",
     "text": [
      "(3000,) (3000,)\n",
      "1500 1500\n",
      "1500 1500\n"
     ]
    },
    {
=======
>>>>>>> bde5c4339da363d65c84e0afd54a27eabdaca4e2
     "data": {
      "image/png": "iVBORw0KGgoAAAANSUhEUgAAAnAAAAGcCAYAAABZfZ3HAAAABHNCSVQICAgIfAhkiAAAAAlwSFlz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\nbmkOk9PIGAAAAABJRU5ErkJggg==\n",
      "text/plain": [
<<<<<<< HEAD
       "<matplotlib.figure.Figure at 0x7f1edc6c3850>"
=======
       "<matplotlib.figure.Figure at 0x7f889baae050>"
>>>>>>> bde5c4339da363d65c84e0afd54a27eabdaca4e2
      ]
     },
     "metadata": {},
     "output_type": "display_data"
    },
    {
     "data": {
<<<<<<< HEAD
      "image/png": "iVBORw0KGgoAAAANSUhEUgAAAn0AAAF/CAYAAAA8U39bAAAABHNCSVQICAgIfAhkiAAAAAlwSFlz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\nZbBsrKEAAAAASUVORK5CYII=\n",
      "text/plain": [
       "<matplotlib.figure.Figure at 0x7f1f0d8ee150>"
=======
      "image/png": "iVBORw0KGgoAAAANSUhEUgAAAnAAAAGcCAYAAABZfZ3HAAAABHNCSVQICAgIfAhkiAAAAAlwSFlz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\nJEmSJEmSJEmSJEmSJElSP/H/Ab3UwlZZPSIzAAAAAElFTkSuQmCC\n",
      "text/plain": [
       "<matplotlib.figure.Figure at 0x7f88a4085a90>"
>>>>>>> bde5c4339da363d65c84e0afd54a27eabdaca4e2
      ]
     },
     "metadata": {},
     "output_type": "display_data"
    }
   ],
   "source": [
    "#Plotting the figure\n",
    "n_start = 0\n",
    "n_end = 3000\n",
    "\n",
    "n = 0 #First row of the dataframe.\n",
    "\n",
    "\"\"\"\n",
    "frame1_tmp = frame1.loc[n,:]  #1st signal\n",
    "frame2_tmp = frame2.loc[n,:]  #1st signal\n",
    "\n",
    "print frame1_tmp.shape, frame2_tmp.shape\n",
    "\n",
    "frame1_tmp_x = [val for i,val in enumerate(frame1_tmp) if (i%2 == 0)]\n",
    "frame1_tmp_y = [val for i,val in enumerate(frame1_tmp) if (i%2 != 0)]\n",
    "\n",
    "frame2_tmp_x = [val for i,val in enumerate(frame2_tmp) if (i%2 == 0)]\n",
    "frame2_tmp_y = [val for i,val in enumerate(frame2_tmp) if (i%2 != 0)]\n",
    "\n",
    "#frame1_tmp_x = frame1_tmp_x\n",
    "print len(frame1_tmp_x), len(frame1_tmp_y)\n",
    "\n",
    "#frame2_tmp_x = frame2_tmp_x\n",
    "print len(frame2_tmp_x), len(frame2_tmp_y)\n",
    "\n",
    "#print frame2_tmp_y\n",
    "\n",
    "#print frame1_tmp\n",
<<<<<<< HEAD
=======
    "\"\"\"\n",
    "frame1_tmp_x = frame1_time.loc[0,:]\n",
    "frame1_tmp_y = frame1_flux.loc[0,:]\n",
    "\n",
    "frame2_tmp_x = frame2_ime.loc[0,:]\n",
    "frame2_tmp_y = frame2_lux.loc[0,:]\n",
    "\n",
>>>>>>> bde5c4339da363d65c84e0afd54a27eabdaca4e2
    "\n",
    "for i in [0,1]:\n",
    "    fig, ax = plt.subplots(figsize=(10,6))\n",
    "    if i == 0:\n",
    "        ax.plot(frame1_tmp_x, frame1_tmp_y, label='With Signal')\n",
    "    else:\n",
    "        ax.plot(frame2_tmp_x, frame2_tmp_y, label='Without Signal')\n",
    "    #ax.scatter(frame1_tmp[0], frame1_tmp[1], s=30, marker='x', label='With Signal')\n",
    "    #ax.scatter(frame2_tmp[0], frame2_tmp[1], s=30, marker='o', label='Without Signal')\n",
    "    ax.legend()\n",
    "    ax.set_xlabel('X1')\n",
    "    ax.set_ylabel('X2')\n",
<<<<<<< HEAD
    "    #ax.set_ylim([458000,467000])\n",
    "    #fig.suptitle(i)\n"
=======
    "    ax.set_ylim([5260,5400])\n",
    "    fig.suptitle(i)\n"
>>>>>>> bde5c4339da363d65c84e0afd54a27eabdaca4e2
   ]
  },
  {
   "cell_type": "code",
<<<<<<< HEAD
   "execution_count": 99,
=======
   "execution_count": 55,
>>>>>>> bde5c4339da363d65c84e0afd54a27eabdaca4e2
   "metadata": {
    "collapsed": false
   },
   "outputs": [
    {
     "name": "stdout",
     "output_type": "stream",
     "text": [
      "(6025,) (6025,)\n",
      "(6025, 1) (6025, 1)\n",
      "<class 'pandas.core.frame.DataFrame'>\n"
     ]
    },
    {
     "data": {
      "text/plain": [
       "\"\\nframe1_Y1 = np.ones((frame1[1].shape[0],1))\\nframe1[1]['Y'] = frame1_Y1\\n\\nframe2_Y2 = np.zeros((frame2[1].shape[0],1))\\nframe2[1]['Y'] = frame2_Y2\\n\\n#print Y1.shape\\nprint frame1[1].head()\\nprint frame1[1].shape, frame2[1].shape\\n#print frame1_Y1\\n#print frame2_Y2\\n\""
      ]
     },
     "execution_count": 55,
     "metadata": {},
     "output_type": "execute_result"
    }
   ],
   "source": [
    "#Make both frame into one and assign signal and non-signal label as 1 & 0. \n",
    "print frame1[1].shape, frame2[1].shape\n",
    "\n",
    "frame1_flux = pd.DataFrame(frame1[1])\n",
    "frame2_flux = pd.DataFrame(frame2[1])\n",
    "\n",
    "print frame1_flux.shape, frame2_flux.shape\n",
    "print type(frame1_flux)\n",
    "\"\"\"\n",
    "frame1_Y1 = np.ones((frame1[1].shape[0],1))\n",
    "frame1[1]['Y'] = frame1_Y1\n",
    "\n",
    "frame2_Y2 = np.zeros((frame2[1].shape[0],1))\n",
    "frame2[1]['Y'] = frame2_Y2\n",
    "\n",
    "#print Y1.shape\n",
    "print frame1[1].head()\n",
    "print frame1[1].shape, frame2[1].shape\n",
    "#print frame1_Y1\n",
    "#print frame2_Y2\n",
    "\"\"\""
   ]
  },
  {
   "cell_type": "code",
<<<<<<< HEAD
   "execution_count": 100,
=======
   "execution_count": 56,
>>>>>>> bde5c4339da363d65c84e0afd54a27eabdaca4e2
   "metadata": {
    "collapsed": false
   },
   "outputs": [
    {
     "name": "stdout",
     "output_type": "stream",
     "text": [
<<<<<<< HEAD
      "(16, 3001)\n",
      "4     1\n",
      "13    0\n",
      "15    0\n",
      "11    0\n",
      "12    0\n",
      "Name: Y, dtype: float64\n"
=======
      "<class 'pandas.core.frame.DataFrame'>\n",
      "(6025, 2) (6025, 2)\n",
      "0     1\n",
      "1     1\n",
      "2     1\n",
      "3     1\n",
      "4     1\n",
      "5     1\n",
      "6     1\n",
      "7     1\n",
      "8     1\n",
      "9     1\n",
      "10    1\n",
      "11    1\n",
      "12    1\n",
      "13    1\n",
      "14    1\n",
      "...\n",
      "6010    1\n",
      "6011    1\n",
      "6012    1\n",
      "6013    1\n",
      "6014    1\n",
      "6015    1\n",
      "6016    1\n",
      "6017    1\n",
      "6018    1\n",
      "6019    1\n",
      "6020    1\n",
      "6021    1\n",
      "6022    1\n",
      "6023    1\n",
      "Y       1\n",
      "Name: Y, Length: 6025, dtype: float64\n"
     ]
    }
   ],
   "source": [
    "frame1_flux['Y'] = np.ones((frame1_flux.shape[0],1))\n",
    "frame2_flux['Y'] = np.zeros((frame2_flux.shape[0],1))\n",
    "\n",
    "print type(frame1_flux)\n",
    "\n",
    "print frame1_flux.shape, frame2_flux.shape\n",
    "\n",
    "print frame1_flux['Y']\n"
   ]
  },
  {
   "cell_type": "code",
   "execution_count": 59,
   "metadata": {
    "collapsed": false
   },
   "outputs": [
    {
     "name": "stdout",
     "output_type": "stream",
     "text": [
      "                                                    1  Y\n",
      "0   [5348.52734375, 5348.10546875, 5388.31787109, ...  1\n",
      "1   [19350.9628906, 19371.65625, 19387.5175781, 19...  1\n",
      "2   [13698.3408203, 13700.7324219, 13714.1132812, ...  1\n",
      "3   [42161.125, 42153.7617188, 42171.8984375, 4216...  1\n",
      "4   [22486.0273438, 22519.8613281, 22515.7558594, ...  1\n",
      "5   [111263.375, 111263.3125, 111259.804688, 11127...  1\n",
      "6   [19992.7148438, 19981.6796875, 19992.5, 19998....  1\n",
      "7   [14223.3242188, 14214.3798828, 14233.5039062, ...  1\n",
      "8   [77680.765625, 77713.3515625, 77695.6953125, 7...  1\n",
      "9   [8035.47705078, 8026.68847656, 8028.19091797, ...  1\n",
      "10  [58449.7148438, 58458.9648438, 58473.7109375, ...  1\n",
      "11  [8018.95996094, 8016.35253906, 8016.80566406, ...  1\n",
      "12  [17559.0253906, 17568.9257812, 17562.9824219, ...  1\n",
      "13  [7384.89404297, 7384.88818359, 7389.70507812, ...  1\n",
      "14  [6256.39453125, 6272.78027344, 6271.09472656, ...  1\n",
      "15  [37790.2304688, 37825.828125, 37851.9570312, 3...  1\n",
      "16  [5707.84179688, 5699.74658203, 5697.04589844, ...  1\n",
      "17  [431965.1875, 431987.90625, 432033.5625, 43195...  1\n",
      "18  [2320952.25, 2321248.25, 2321015.25, 2321797.0...  1\n",
      "19  [379204.15625, 379228.15625, 379246.4375, 3791...  1\n",
      "20  [104260.039062, 104229.984375, 104266.625, 104...  1\n",
      "21  [103696.195312, 103797.242188, 103825.914062, ...  1\n",
      "22  [10049.8027344, 10059.1230469, 10043.8349609, ...  1\n",
      "23  [5901.60742188, 5900.63574219, 5905.21240234, ...  1\n",
      "24  [30690.2890625, 30676.1523438, 30674.9179688, ...  1\n",
      "25  [10822.3574219, 10820.4912109, 10836.4960938, ...  1\n",
      "26  [7598.64941406, 7598.48730469, 7591.73242188, ...  1\n",
      "27  [9879.73632812, 9879.01464844, 9876.84570312, ...  1\n",
      "28  [262131.921875, 262279.09375, 262379.625, 2624...  1\n",
      "29  [11877.2548828, 11874.0087891, 11886.0859375, ...  1\n",
      "30  [8337.56640625, 8332.80859375, 8333.65820312, ...  1\n",
      "31  [28238.9492188, 28251.984375, 28281.2070312, 2...  1\n",
      "32  [70401.5390625, 70421.09375, 70452.671875, 704...  1\n",
      "33  [7552.40673828, 7564.54882812, 7554.85302734, ...  1\n",
      "34  [11542.7978516, 11551.5283203, 11540.3837891, ...  1\n",
      "35  [68569.8203125, 68620.4921875, 68629.484375, 6...  1\n",
      "36  [51948.8320312, 51952.4570312, 51961.1484375, ...  1\n",
      "37  [14524.5185547, 14554.5888672, 14556.1259766, ...  1\n",
      "38  [30847.3691406, 30837.3632812, 30824.1621094, ...  1\n",
      "39  [16360.390625, 16376.5703125, 16385.8339844, 1...  1\n",
      "40  [92367.203125, 92358.6875, 92372.8125, 92354.3...  1\n",
      "41  [208834.109375, 208841.671875, 208861.0, 20885...  1\n",
      "42  [61471.3359375, 61466.8320312, 61497.2460938, ...  1\n",
      "43  [18583.2949219, 18564.1875, 18550.4140625, 185...  1\n",
      "44  [6166204.0, 6167216.0, 6167139.5, 6167771.5, 6...  1\n",
      "45  [13706.8154297, 13701.9648438, 13701.2324219, ...  1\n",
      "46  [35951.2734375, 35976.40625, 35985.96875, 3594...  1\n",
      "47  [19609.3457031, 19614.4902344, 19611.0976562, ...  1\n",
      "48  [163126.78125, 163120.78125, 163135.5625, 1631...  1\n",
      "49  [33278.9960938, 33277.7421875, 33315.515625, 3...  1\n",
      "50  [44015.3398438, 44016.6132812, 44010.4140625, ...  1\n",
      "51  [29573.0703125, 29572.9726562, 29574.6484375, ...  1\n",
      "52  [196769.859375, 196644.109375, 196536.4375, 19...  1\n",
      "53  [6467.94384766, 6468.80419922, 6482.94042969, ...  1\n",
      "54  [12537.1816406, 12541.6953125, 12549.8964844, ...  1\n",
      "55  [10459.9003906, 10468.3740234, 10460.1152344, ...  1\n",
      "56  [17201.4589844, 17197.1503906, 17196.1152344, ...  1\n",
      "57  [18997.9960938, 19003.0136719, 19006.6191406, ...  1\n",
      "58  [17465.3964844, 17466.71875, 17453.3984375, 17...  1\n",
      "59  [82229.453125, 82284.4375, 82334.2265625, 8233...  1\n",
      "                                                  ... ..\n",
      "\n",
      "[6025 rows x 2 columns]\n",
      "                                                    1  Y\n",
      "0   [5348.52734375, 5348.10546875, 5388.31787109, ...  0\n",
      "1   [19350.9628906, 19371.65625, 19387.5175781, 19...  0\n",
      "2   [13698.3408203, 13700.7324219, 13714.1132812, ...  0\n",
      "3   [42161.125, 42153.7617188, 42171.8984375, 4216...  0\n",
      "4   [22486.0273438, 22519.8613281, 22515.7558594, ...  0\n",
      "5   [111263.375, 111263.3125, 111259.804688, 11127...  0\n",
      "6   [19992.7148438, 19981.6796875, 19992.5, 19998....  0\n",
      "7   [14223.3242188, 14214.3798828, 14233.5039062, ...  0\n",
      "8   [77680.765625, 77713.3515625, 77695.6953125, 7...  0\n",
      "9   [8035.47705078, 8026.68847656, 8028.19091797, ...  0\n",
      "10  [58449.7148438, 58458.9648438, 58473.7109375, ...  0\n",
      "11  [8018.95996094, 8016.35253906, 8016.80566406, ...  0\n",
      "12  [17559.0253906, 17568.9257812, 17562.9824219, ...  0\n",
      "13  [7384.89404297, 7384.88818359, 7389.70507812, ...  0\n",
      "14  [6256.39453125, 6272.78027344, 6271.09472656, ...  0\n",
      "15  [37790.2304688, 37825.828125, 37851.9570312, 3...  0\n",
      "16  [5707.84179688, 5699.74658203, 5697.04589844, ...  0\n",
      "17  [431965.1875, 431987.90625, 432033.5625, 43195...  0\n",
      "18  [2320952.25, 2321248.25, 2321015.25, 2321797.0...  0\n",
      "19  [379204.15625, 379228.15625, 379246.4375, 3791...  0\n",
      "20  [104260.039062, 104229.984375, 104266.625, 104...  0\n",
      "21  [103696.195312, 103797.242188, 103825.914062, ...  0\n",
      "22  [10049.8027344, 10059.1230469, 10043.8349609, ...  0\n",
      "23  [5901.60742188, 5900.63574219, 5905.21240234, ...  0\n",
      "24  [30690.2890625, 30676.1523438, 30674.9179688, ...  0\n",
      "25  [10822.3574219, 10820.4912109, 10836.4960938, ...  0\n",
      "26  [7598.64941406, 7598.48730469, 7591.73242188, ...  0\n",
      "27  [9879.73632812, 9879.01464844, 9876.84570312, ...  0\n",
      "28  [262131.921875, 262279.09375, 262379.625, 2624...  0\n",
      "29  [11877.2548828, 11874.0087891, 11886.0859375, ...  0\n",
      "30  [8337.56640625, 8332.80859375, 8333.65820312, ...  0\n",
      "31  [28238.9492188, 28251.984375, 28281.2070312, 2...  0\n",
      "32  [70401.5390625, 70421.09375, 70452.671875, 704...  0\n",
      "33  [7552.40673828, 7564.54882812, 7554.85302734, ...  0\n",
      "34  [11542.7978516, 11551.5283203, 11540.3837891, ...  0\n",
      "35  [68569.8203125, 68620.4921875, 68629.484375, 6...  0\n",
      "36  [51948.8320312, 51952.4570312, 51961.1484375, ...  0\n",
      "37  [14524.5185547, 14554.5888672, 14556.1259766, ...  0\n",
      "38  [30847.3691406, 30837.3632812, 30824.1621094, ...  0\n",
      "39  [16360.390625, 16376.5703125, 16385.8339844, 1...  0\n",
      "40  [92367.203125, 92358.6875, 92372.8125, 92354.3...  0\n",
      "41  [208834.109375, 208841.671875, 208861.0, 20885...  0\n",
      "42  [61471.3359375, 61466.8320312, 61497.2460938, ...  0\n",
      "43  [18583.2949219, 18564.1875, 18550.4140625, 185...  0\n",
      "44  [6166204.0, 6167216.0, 6167139.5, 6167771.5, 6...  0\n",
      "45  [13706.8154297, 13701.9648438, 13701.2324219, ...  0\n",
      "46  [35951.2734375, 35976.40625, 35985.96875, 3594...  0\n",
      "47  [19609.3457031, 19614.4902344, 19611.0976562, ...  0\n",
      "48  [163126.78125, 163120.78125, 163135.5625, 1631...  0\n",
      "49  [33278.9960938, 33277.7421875, 33315.515625, 3...  0\n",
      "50  [44015.3398438, 44016.6132812, 44010.4140625, ...  0\n",
      "51  [29573.0703125, 29572.9726562, 29574.6484375, ...  0\n",
      "52  [196769.859375, 196644.109375, 196536.4375, 19...  0\n",
      "53  [6467.94384766, 6468.80419922, 6482.94042969, ...  0\n",
      "54  [12537.1816406, 12541.6953125, 12549.8964844, ...  0\n",
      "55  [10459.9003906, 10468.3740234, 10460.1152344, ...  0\n",
      "56  [17201.4589844, 17197.1503906, 17196.1152344, ...  0\n",
      "57  [18997.9960938, 19003.0136719, 19006.6191406, ...  0\n",
      "58  [17465.3964844, 17466.71875, 17453.3984375, 17...  0\n",
      "59  [82229.453125, 82284.4375, 82334.2265625, 8233...  0\n",
      "                                                  ... ..\n",
      "\n",
      "[6025 rows x 2 columns]\n"
     ]
    }
   ],
   "source": [
    "print frame1_flux\n",
    "print frame2_flux"
   ]
  },
  {
   "cell_type": "code",
   "execution_count": 60,
   "metadata": {
    "collapsed": false
   },
   "outputs": [
    {
     "name": "stdout",
     "output_type": "stream",
     "text": [
      "(12050, 2)\n",
      "4379     1\n",
      "654      1\n",
      "298      1\n",
      "11515    0\n",
      "7146     0\n",
      "6479     0\n",
      "6950     0\n",
      "5357     1\n",
      "1223     1\n",
      "118      1\n",
      "10760    0\n",
      "3461     1\n",
      "7013     0\n",
      "8893     0\n",
      "5699     1\n",
      "...\n",
      "4374     1\n",
      "1532     1\n",
      "526      1\n",
      "3466     1\n",
      "8099     0\n",
      "4057     1\n",
      "9279     0\n",
      "2212     1\n",
      "10056    0\n",
      "3567     1\n",
      "1064     1\n",
      "2985     1\n",
      "9959     0\n",
      "1750     1\n",
      "1529     1\n",
      "Name: Y, Length: 12050, dtype: float64\n"
>>>>>>> bde5c4339da363d65c84e0afd54a27eabdaca4e2
     ]
    }
   ],
   "source": [
    "#Combine 2 data frame and reshuffle the data randomly\n",
    "#ignore_index=True will make sure it will index serially.\n",
    "frame = pd.concat([frame1_flux, frame2_flux], ignore_index=True)\n",
    "\n",
    "#Reshuffle the data randomly\n",
    "frame = frame.reindex(np.random.permutation(frame.index))\n",
    "#frame.reset_index()\n",
    "\n",
    "print frame.shape\n",
    "#print frame.head()\n",
    "#print frame.loc[0:5,2990:] \n",
    "print frame['Y'] "
   ]
  },
  {
   "cell_type": "code",
<<<<<<< HEAD
   "execution_count": 101,
=======
   "execution_count": 61,
>>>>>>> bde5c4339da363d65c84e0afd54a27eabdaca4e2
   "metadata": {
    "collapsed": false
   },
   "outputs": [
    {
     "name": "stdout",
     "output_type": "stream",
     "text": [
      "(12050, 1)\n",
      "(12050,)\n"
     ]
    }
   ],
   "source": [
    "#Splitting the data for classification purpose..\n",
    "#Input dataframe consists of X1, X2\n",
    "#print frame.shape\n",
    "#print frame.iloc[:,9273:]\n",
    "X = frame.drop(['Y'],axis=1) \n",
    "#print X.iloc[:,9273:]\n",
    "\n",
    "print X.shape\n",
    "\n",
    "#Output vector(predictor/response) vector\n",
    "Y = frame['Y']\n",
    "\n",
    "print Y.shape\n",
    "#Splitting data into train and testing. 70% Training and 30% Testing..\n",
    "X_train, X_test, Y_train, Y_test = train_test_split(X, Y, test_size=0.3, random_state=4)"
   ]
  },
  {
   "cell_type": "code",
<<<<<<< HEAD
   "execution_count": 104,
=======
   "execution_count": 107,
>>>>>>> bde5c4339da363d65c84e0afd54a27eabdaca4e2
   "metadata": {
    "collapsed": false
   },
   "outputs": [
    {
     "name": "stdout",
     "output_type": "stream",
     "text": [
<<<<<<< HEAD
      "(11, 3000) (11,) (5, 3000) (5,)\n",
      "            0             1           2             3           4   \\\n",
      "3   539.471161  420950.81250  539.491595  421098.71875  539.512029   \n",
      "5   808.536392  440303.78125  808.556826  440315.09375  808.577260   \n",
      "15  169.766083  422447.93750  169.786517  422387.43750  169.806951   \n",
      "9   260.245120  460485.56250  260.265553  460504.37500  260.285985   \n",
      "6   630.195475  456950.62500  630.215908  457004.78125  630.236341   \n",
      "8   352.396485  465486.53125  352.437351  465466.78125  352.457784   \n",
      "13  808.536392  440303.78125  808.556826  440315.09375  808.577260   \n",
      "10  735.383167  460013.75000  735.403600  460038.06250  735.424033   \n",
      "14  630.195475  456950.62500  630.215908  457004.78125  630.236341   \n",
      "2   735.383167  460013.75000  735.403600  460038.06250  735.424033   \n",
      "0   352.396485  465486.53125  352.437351  465466.78125  352.457784   \n",
      "\n",
      "              5           6             7           8             9   \\\n",
      "3   421253.50000  539.532463  421309.00000  539.552897  421298.15625   \n",
      "5   440222.75000  808.597695  440222.34375  808.618129  440118.15625   \n",
      "15  422363.65625  169.827385  422331.12500  169.847819  422427.21875   \n",
      "9   460583.93750  260.306418  460553.71875  260.326851  460553.18750   \n",
      "6   456951.06250  630.256774  456968.78125  630.277207  456900.62500   \n",
      "8   465417.31250  352.478217  465337.50000  352.498650  465183.53125   \n",
      "13  440222.75000  808.597695  440222.34375  808.618129  440118.15625   \n",
      "10  460003.75000  735.444467  459823.59375  735.464900  459658.34375   \n",
      "14  456951.06250  630.256774  456968.78125  630.277207  456900.62500   \n",
      "2   460003.75000  735.444467  459823.59375  735.464900  459658.34375   \n",
      "0   465417.31250  352.478217  465337.50000  352.498650  465183.53125   \n",
      "\n",
      "            10            11          12            13          14  \\\n",
      "3   539.573332  421251.81250  539.593766  421216.84375  539.614200   \n",
      "5   808.638564  440107.65625  808.658998  440067.00000  808.679433   \n",
      "15  169.868253  422414.46875  169.888687  422491.09375  169.909121   \n",
      "9   260.347284  460543.31250  260.367716  460523.87500  260.388149   \n",
      "6   630.297639  456824.18750  630.318072  456624.50000  630.338505   \n",
      "8   352.519083  464979.90625  352.539516  464896.40625  352.559949   \n",
      "13  808.638564  440107.65625  808.658998  440067.00000  808.679433   \n",
      "10  735.485333  459586.31250  735.505766  459484.15625  735.526200   \n",
      "14  630.297639  456824.18750  630.318072  456624.50000  630.338505   \n",
      "2   735.485333  459586.31250  735.505766  459484.15625  735.526200   \n",
      "0   352.519083  464979.90625  352.539516  464896.40625  352.559949   \n",
      "\n",
      "              15          16            17          18            19      \n",
      "3   421214.40625  539.634634  421185.96875  539.655068  421167.87500 ...  \n",
      "5   439973.09375  808.699867  439957.90625  808.720301  439953.21875 ...  \n",
      "15  422545.34375  169.929555  422643.09375  169.949989  422666.71875 ...  \n",
      "9   460572.12500  260.408582  460584.40625  260.429015  460657.53125 ...  \n",
      "6   456528.56250  630.358938  456349.18750  630.379370  456202.25000 ...  \n",
      "8   464758.15625  352.580382  464638.03125  352.600815  464528.68750 ...  \n",
      "13  439973.09375  808.699867  439957.90625  808.720301  439953.21875 ...  \n",
      "10  459413.84375  735.546633  459422.90625  735.567066  459426.43750 ...  \n",
      "14  456528.56250  630.358938  456349.18750  630.379370  456202.25000 ...  \n",
      "2   459413.84375  735.546633  459422.90625  735.567066  459426.43750 ...  \n",
      "0   464758.15625  352.580382  464638.03125  352.600815  464528.68750 ...  \n",
      "\n",
      "[11 rows x 3000 columns]\n"
=======
      "(8435, 1) (8435,) (3615, 1) (3615,)\n",
      "<class 'pandas.core.frame.DataFrame'>\n",
      "                                                       1\n",
      "5299   [45357.4648438, 45363.1601562, 45366.0585938, ...\n",
      "7697   [32213.1796875, 32223.4980469, 32216.390625, 3...\n",
      "11538  [30635.4433594, 30627.2402344, 30628.2675781, ...\n",
      "11458  [5597.23095703, 5589.02197266, 5598.23291016, ...\n",
      "813    [51141.609375, 51155.53125, 51161.3515625, 511...\n",
      "5454   [7583.42089844, 7580.40527344, 7587.46777344, ...\n",
      "6915   [69825.5703125, 69836.078125, 69837.6015625, 6...\n",
      "11285  [6101.78662109, 6097.12597656, 6096.93603516, ...\n",
      "9551   [13835.5380859, 13835.3945312, 13826.2373047, ...\n",
      "1889   [16886.4628906, 16879.2597656, 16888.8964844, ...\n",
      "2653   [12472.640625, 12483.4482422, 12501.2050781, 1...\n",
      "10083  [8866.18066406, 8862.58105469, 8847.08203125, ...\n",
      "10047  [37954.5976562, 37982.8828125, 38004.3828125, ...\n",
      "6124   [30792.1503906, 30778.4238281, 30769.2714844, ...\n",
      "3      [42161.125, 42153.7617188, 42171.8984375, 4216...\n",
      "9821   [10911.7509766, 10909.609375, 10902.1992188, 1...\n",
      "2165   [5978.25976562, 5977.31445312, 5979.97021484, ...\n",
      "7974   [6961.86669922, 6974.55273438, 6964.09082031, ...\n",
      "1833   [126222.890625, 126189.273438, 126192.351562, ...\n",
      "7189   [16508.5996094, 16495.9550781, 16490.421875, 1...\n",
      "3068   [15053.4091797, 15054.5517578, 15051.0009766, ...\n",
      "11499  [61511.0546875, 61586.1640625, 61620.8984375, ...\n",
      "5422   [42945.7734375, 42959.4570312, 42966.7578125, ...\n",
      "6995   [57100.8320312, 57104.8984375, 57124.5117188, ...\n",
      "4873   [1316539.75, 1318072.875, 1315718.75, 1320468....\n",
      "5710   [9987.95214844, 9980.08300781, 9979.98535156, ...\n",
      "5689   [7934.19873047, 7933.42285156, 7939.63427734, ...\n",
      "10895  [57636.625, 57648.5351562, 57674.8046875, 5766...\n",
      "1653   [8302.47460938, 8305.171875, 8315.4296875, 831...\n",
      "9184   [20171.9003906, 20174.3046875, 20162.5039062, ...\n",
      "6355   [34557.9765625, 34580.7304688, 34605.9609375, ...\n",
      "440    [16888.7265625, 16886.0371094, 16892.6777344, ...\n",
      "5594   [20838.1035156, 20846.1328125, 20878.0371094, ...\n",
      "5437   [36634.4648438, 36633.0820312, 36628.625, 3662...\n",
      "9259   [11948.3261719, 11958.9589844, 11956.1699219, ...\n",
      "11659  [10860.8183594, 10842.5263672, 10841.9892578, ...\n",
      "10483  [6414.31054688, 6414.01757812, 6412.83642578, ...\n",
      "11551  [42410.4609375, 42414.875, 42452.7929688, 4245...\n",
      "10315  [22369.7265625, 22373.5175781, 22382.7929688, ...\n",
      "7454   [20962.1933594, 20966.7480469, 20966.5800781, ...\n",
      "5123   [8816.23632812, 8837.51269531, 8819.40429688, ...\n",
      "2850   [19085.9511719, 19082.7070312, 19092.7519531, ...\n",
      "7679   [40698.7734375, 40718.9414062, 40746.0585938, ...\n",
      "1888   [15222.4238281, 15228.5849609, 15234.6074219, ...\n",
      "8051   [11071.6435547, 11081.4833984, 11075.1328125, ...\n",
      "933    [26526.0683594, 26522.0449219, 26517.7285156, ...\n",
      "1010   [67630.5234375, 67649.875, 67650.6875, 67643.9...\n",
      "8241   [4656.46240234, 4652.08398438, 4656.51904297, ...\n",
      "10115  [10590.1318359, 10608.6435547, 10621.7226562, ...\n",
      "11243  [15039.3779297, 15043.2177734, 15027.1601562, ...\n",
      "7842   [33355.359375, 33361.0859375, 33374.2109375, 3...\n",
      "1045   [12237.7783203, 12225.8095703, 12217.5371094, ...\n",
      "11115  [80400.7109375, 80385.9296875, 80376.5625, 804...\n",
      "4264   [43890.0898438, 43893.7265625, 43932.2617188, ...\n",
      "5982   [11486.7060547, 11492.2441406, 11487.0136719, ...\n",
      "1503   [9382.71191406, 9388.89941406, 9383.8671875, 9...\n",
      "2522   [185198.5, 185208.765625, 185175.65625, 185177...\n",
      "11439  [58256.390625, 58319.5976562, 58329.8476562, 5...\n",
      "9479   [12756.3759766, 12761.671875, 12780.8046875, 1...\n",
      "3617   [16283.3701172, 16292.9658203, 16287.6787109, ...\n",
      "                                                     ...\n",
      "\n",
      "[8435 rows x 1 columns]\n"
>>>>>>> bde5c4339da363d65c84e0afd54a27eabdaca4e2
     ]
    }
   ],
   "source": [
    "print X_train.shape, Y_train.shape, X_test.shape, Y_test.shape\n",
    "\n",
    "#Validating the number\n",
    "#print 101390*0.7, 101390*0.3 \n",
<<<<<<< HEAD
    "print X_train"
=======
    "#print X_train\n",
    "#print Y_train\n",
    "\n",
    "#X_train\n",
    "print type(X_train)\n",
    "print X_train[:]"
>>>>>>> bde5c4339da363d65c84e0afd54a27eabdaca4e2
   ]
  },
  {
   "cell_type": "markdown",
   "metadata": {},
   "source": [
    "## Logistic Regression"
   ]
  },
  {
   "cell_type": "code",
<<<<<<< HEAD
   "execution_count": 33,
=======
   "execution_count": 69,
>>>>>>> bde5c4339da363d65c84e0afd54a27eabdaca4e2
   "metadata": {
    "collapsed": false
   },
   "outputs": [
    {
<<<<<<< HEAD
     "name": "stdout",
     "output_type": "stream",
     "text": [
      "0.995573997234\n"
=======
     "ename": "ValueError",
     "evalue": "setting an array element with a sequence.",
     "output_type": "error",
     "traceback": [
      "\u001b[1;31m---------------------------------------------------------------------------\u001b[0m",
      "\u001b[1;31mValueError\u001b[0m                                Traceback (most recent call last)",
      "\u001b[1;32m<ipython-input-69-e16a0bc0cb57>\u001b[0m in \u001b[0;36m<module>\u001b[1;34m()\u001b[0m\n\u001b[0;32m      1\u001b[0m \u001b[1;31m#Logistic Regression-sklearn\u001b[0m\u001b[1;33m\u001b[0m\u001b[1;33m\u001b[0m\u001b[0m\n\u001b[0;32m      2\u001b[0m \u001b[0mlogReg\u001b[0m \u001b[1;33m=\u001b[0m \u001b[0mLogisticRegression\u001b[0m\u001b[1;33m(\u001b[0m\u001b[1;33m)\u001b[0m\u001b[1;33m\u001b[0m\u001b[0m\n\u001b[1;32m----> 3\u001b[1;33m \u001b[0mlogReg\u001b[0m\u001b[1;33m.\u001b[0m\u001b[0mfit\u001b[0m\u001b[1;33m(\u001b[0m\u001b[0mX_train\u001b[0m\u001b[1;33m,\u001b[0m\u001b[0mY_train\u001b[0m\u001b[1;33m)\u001b[0m\u001b[1;33m\u001b[0m\u001b[0m\n\u001b[0m\u001b[0;32m      4\u001b[0m \u001b[0mY_logPred\u001b[0m \u001b[1;33m=\u001b[0m \u001b[0mlogReg\u001b[0m\u001b[1;33m.\u001b[0m\u001b[0mpredict\u001b[0m\u001b[1;33m(\u001b[0m\u001b[0mX_test\u001b[0m\u001b[1;33m)\u001b[0m\u001b[1;33m\u001b[0m\u001b[0m\n\u001b[0;32m      5\u001b[0m \u001b[1;32mprint\u001b[0m \u001b[0mmetrics\u001b[0m\u001b[1;33m.\u001b[0m\u001b[0maccuracy_score\u001b[0m\u001b[1;33m(\u001b[0m\u001b[0mY_test\u001b[0m\u001b[1;33m,\u001b[0m\u001b[0mY_logPred\u001b[0m\u001b[1;33m)\u001b[0m\u001b[1;33m\u001b[0m\u001b[0m\n",
      "\u001b[1;32m/usr/local/lib/python2.7/dist-packages/sklearn/linear_model/logistic.pyc\u001b[0m in \u001b[0;36mfit\u001b[1;34m(self, X, y)\u001b[0m\n\u001b[0;32m   1015\u001b[0m                              % self.C)\n\u001b[0;32m   1016\u001b[0m \u001b[1;33m\u001b[0m\u001b[0m\n\u001b[1;32m-> 1017\u001b[1;33m         \u001b[0mX\u001b[0m\u001b[1;33m,\u001b[0m \u001b[0my\u001b[0m \u001b[1;33m=\u001b[0m \u001b[0mcheck_X_y\u001b[0m\u001b[1;33m(\u001b[0m\u001b[0mX\u001b[0m\u001b[1;33m,\u001b[0m \u001b[0my\u001b[0m\u001b[1;33m,\u001b[0m \u001b[0maccept_sparse\u001b[0m\u001b[1;33m=\u001b[0m\u001b[1;34m'csr'\u001b[0m\u001b[1;33m,\u001b[0m \u001b[0mdtype\u001b[0m\u001b[1;33m=\u001b[0m\u001b[0mnp\u001b[0m\u001b[1;33m.\u001b[0m\u001b[0mfloat64\u001b[0m\u001b[1;33m,\u001b[0m \u001b[0morder\u001b[0m\u001b[1;33m=\u001b[0m\u001b[1;34m\"C\"\u001b[0m\u001b[1;33m)\u001b[0m\u001b[1;33m\u001b[0m\u001b[0m\n\u001b[0m\u001b[0;32m   1018\u001b[0m         \u001b[0mself\u001b[0m\u001b[1;33m.\u001b[0m\u001b[0mclasses_\u001b[0m \u001b[1;33m=\u001b[0m \u001b[0mnp\u001b[0m\u001b[1;33m.\u001b[0m\u001b[0munique\u001b[0m\u001b[1;33m(\u001b[0m\u001b[0my\u001b[0m\u001b[1;33m)\u001b[0m\u001b[1;33m\u001b[0m\u001b[0m\n\u001b[0;32m   1019\u001b[0m         \u001b[1;32mif\u001b[0m \u001b[0mself\u001b[0m\u001b[1;33m.\u001b[0m\u001b[0msolver\u001b[0m \u001b[1;32mnot\u001b[0m \u001b[1;32min\u001b[0m \u001b[1;33m[\u001b[0m\u001b[1;34m'liblinear'\u001b[0m\u001b[1;33m,\u001b[0m \u001b[1;34m'newton-cg'\u001b[0m\u001b[1;33m,\u001b[0m \u001b[1;34m'lbfgs'\u001b[0m\u001b[1;33m]\u001b[0m\u001b[1;33m:\u001b[0m\u001b[1;33m\u001b[0m\u001b[0m\n",
      "\u001b[1;32m/usr/local/lib/python2.7/dist-packages/sklearn/utils/validation.pyc\u001b[0m in \u001b[0;36mcheck_X_y\u001b[1;34m(X, y, accept_sparse, dtype, order, copy, force_all_finite, ensure_2d, allow_nd, multi_output, ensure_min_samples, ensure_min_features, y_numeric)\u001b[0m\n\u001b[0;32m    442\u001b[0m     X = check_array(X, accept_sparse, dtype, order, copy, force_all_finite,\n\u001b[0;32m    443\u001b[0m                     \u001b[0mensure_2d\u001b[0m\u001b[1;33m,\u001b[0m \u001b[0mallow_nd\u001b[0m\u001b[1;33m,\u001b[0m \u001b[0mensure_min_samples\u001b[0m\u001b[1;33m,\u001b[0m\u001b[1;33m\u001b[0m\u001b[0m\n\u001b[1;32m--> 444\u001b[1;33m                     ensure_min_features)\n\u001b[0m\u001b[0;32m    445\u001b[0m     \u001b[1;32mif\u001b[0m \u001b[0mmulti_output\u001b[0m\u001b[1;33m:\u001b[0m\u001b[1;33m\u001b[0m\u001b[0m\n\u001b[0;32m    446\u001b[0m         y = check_array(y, 'csr', force_all_finite=True, ensure_2d=False,\n",
      "\u001b[1;32m/usr/local/lib/python2.7/dist-packages/sklearn/utils/validation.pyc\u001b[0m in \u001b[0;36mcheck_array\u001b[1;34m(array, accept_sparse, dtype, order, copy, force_all_finite, ensure_2d, allow_nd, ensure_min_samples, ensure_min_features)\u001b[0m\n\u001b[0;32m    342\u001b[0m             \u001b[1;32melse\u001b[0m\u001b[1;33m:\u001b[0m\u001b[1;33m\u001b[0m\u001b[0m\n\u001b[0;32m    343\u001b[0m                 \u001b[0mdtype\u001b[0m \u001b[1;33m=\u001b[0m \u001b[0mNone\u001b[0m\u001b[1;33m\u001b[0m\u001b[0m\n\u001b[1;32m--> 344\u001b[1;33m         \u001b[0marray\u001b[0m \u001b[1;33m=\u001b[0m \u001b[0mnp\u001b[0m\u001b[1;33m.\u001b[0m\u001b[0marray\u001b[0m\u001b[1;33m(\u001b[0m\u001b[0marray\u001b[0m\u001b[1;33m,\u001b[0m \u001b[0mdtype\u001b[0m\u001b[1;33m=\u001b[0m\u001b[0mdtype\u001b[0m\u001b[1;33m,\u001b[0m \u001b[0morder\u001b[0m\u001b[1;33m=\u001b[0m\u001b[0morder\u001b[0m\u001b[1;33m,\u001b[0m \u001b[0mcopy\u001b[0m\u001b[1;33m=\u001b[0m\u001b[0mcopy\u001b[0m\u001b[1;33m)\u001b[0m\u001b[1;33m\u001b[0m\u001b[0m\n\u001b[0m\u001b[0;32m    345\u001b[0m         \u001b[1;31m# make sure we actually converted to numeric:\u001b[0m\u001b[1;33m\u001b[0m\u001b[1;33m\u001b[0m\u001b[0m\n\u001b[0;32m    346\u001b[0m         \u001b[1;32mif\u001b[0m \u001b[0mdtype_numeric\u001b[0m \u001b[1;32mand\u001b[0m \u001b[0marray\u001b[0m\u001b[1;33m.\u001b[0m\u001b[0mdtype\u001b[0m\u001b[1;33m.\u001b[0m\u001b[0mkind\u001b[0m \u001b[1;33m==\u001b[0m \u001b[1;34m\"O\"\u001b[0m\u001b[1;33m:\u001b[0m\u001b[1;33m\u001b[0m\u001b[0m\n",
      "\u001b[1;31mValueError\u001b[0m: setting an array element with a sequence."
>>>>>>> bde5c4339da363d65c84e0afd54a27eabdaca4e2
     ]
    }
   ],
   "source": [
    "#Logistic Regression-sklearn\n",
    "logReg = LogisticRegression()\n",
    "logReg.fit(X_train,Y_train)\n",
    "Y_logPred = logReg.predict(X_test)\n",
    "print metrics.accuracy_score(Y_test,Y_logPred)"
   ]
  },
  {
   "cell_type": "code",
<<<<<<< HEAD
   "execution_count": 34,
=======
   "execution_count": 11,
>>>>>>> bde5c4339da363d65c84e0afd54a27eabdaca4e2
   "metadata": {
    "collapsed": false
   },
   "outputs": [
    {
     "name": "stdout",
     "output_type": "stream",
     "text": [
<<<<<<< HEAD
      "[[1771   12]\n",
      " [   4 1828]]\n"
=======
      "[[1786    9]\n",
      " [   9 1811]]\n"
     ]
    },
    {
     "name": "stderr",
     "output_type": "stream",
     "text": [
      "/usr/local/lib/python2.7/dist-packages/numpy/core/fromnumeric.py:2507: VisibleDeprecationWarning: `rank` is deprecated; use the `ndim` attribute or function instead. To find the rank of a matrix see `numpy.linalg.matrix_rank`.\n",
      "  VisibleDeprecationWarning)\n"
>>>>>>> bde5c4339da363d65c84e0afd54a27eabdaca4e2
     ]
    },
    {
     "data": {
<<<<<<< HEAD
      "image/png": "iVBORw0KGgoAAAANSUhEUgAAAQ4AAAEACAYAAABCu5jVAAAABHNCSVQICAgIfAhkiAAAAAlwSFlz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\nQgghpJX/B0WvSLi2TFTDAAAAAElFTkSuQmCC\n",
      "text/plain": [
       "<matplotlib.figure.Figure at 0x7f1fd70b8090>"
=======
      "image/png": "iVBORw0KGgoAAAANSUhEUgAAAQ4AAAEACAYAAABCu5jVAAAABHNCSVQICAgIfAhkiAAAAAlwSFlz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\nIYQQQgghhBBCCCGEEK38P3BmCCNpwKh7AAAAAElFTkSuQmCC\n",
      "text/plain": [
       "<matplotlib.figure.Figure at 0x7f88c7987910>"
>>>>>>> bde5c4339da363d65c84e0afd54a27eabdaca4e2
      ]
     },
     "metadata": {},
     "output_type": "display_data"
    }
   ],
   "source": [
    "#Confusion matrix of logistic regression\n",
    "conf = metrics.confusion_matrix(Y_test,Y_logPred)\n",
    "plt.imshow(conf)\n",
    "print conf"
   ]
  },
  {
   "cell_type": "markdown",
   "metadata": {},
   "source": [
    "## KNeighbours"
   ]
  },
  {
   "cell_type": "code",
<<<<<<< HEAD
   "execution_count": 35,
=======
   "execution_count": 12,
>>>>>>> bde5c4339da363d65c84e0afd54a27eabdaca4e2
   "metadata": {
    "collapsed": false
   },
   "outputs": [
    {
     "name": "stdout",
     "output_type": "stream",
     "text": [
<<<<<<< HEAD
      "0.410235131397\n",
      "[[ 954  829]\n",
      " [1303  529]]\n"
=======
      "0.492116182573\n",
      "[[1606  189]\n",
      " [1647  173]]\n"
>>>>>>> bde5c4339da363d65c84e0afd54a27eabdaca4e2
     ]
    }
   ],
   "source": [
    "# KNeighbours classification\n",
    "knn = KNeighborsClassifier(n_neighbors=5)\n",
    "\n",
    "knn.fit(X_train,Y_train)\n",
    "Y_pred = knn.predict(X_test)\n",
    "print metrics.accuracy_score(Y_test, Y_pred)\n",
    "conf = metrics.confusion_matrix(Y_test, Y_pred)\n",
    "#plt.imshow(conf)\n",
    "print conf"
   ]
  },
  {
   "cell_type": "markdown",
   "metadata": {},
   "source": [
    "## Random Forest"
   ]
  },
  {
   "cell_type": "code",
<<<<<<< HEAD
   "execution_count": 36,
=======
   "execution_count": 13,
>>>>>>> bde5c4339da363d65c84e0afd54a27eabdaca4e2
   "metadata": {
    "collapsed": false
   },
   "outputs": [
    {
     "name": "stdout",
     "output_type": "stream",
     "text": [
<<<<<<< HEAD
      "0.588105117566\n"
=======
      "0.744398340249\n"
>>>>>>> bde5c4339da363d65c84e0afd54a27eabdaca4e2
     ]
    }
   ],
   "source": [
    "#Random Forest Classification\n",
    "randForest = RandomForestClassifier(n_estimators=30)\n",
    "randForest.fit(X_train,Y_train)\n",
    "Y_randForestPred = randForest.predict(X_test)\n",
    "print metrics.accuracy_score(Y_test,Y_randForestPred)"
   ]
  },
  {
   "cell_type": "code",
<<<<<<< HEAD
   "execution_count": 37,
=======
   "execution_count": 14,
>>>>>>> bde5c4339da363d65c84e0afd54a27eabdaca4e2
   "metadata": {
    "collapsed": false
   },
   "outputs": [
    {
     "name": "stdout",
     "output_type": "stream",
     "text": [
<<<<<<< HEAD
      "[[1147  636]\n",
      " [ 853  979]]\n"
=======
      "[[1515  280]\n",
      " [ 644 1176]]\n"
>>>>>>> bde5c4339da363d65c84e0afd54a27eabdaca4e2
     ]
    }
   ],
   "source": [
    "#Confusion matrix for randomforest\n",
    "conf2 = metrics.confusion_matrix(Y_test,Y_randForestPred)\n",
    "#plt.imshow(conf2)\n",
    "print conf2"
   ]
  },
  {
   "cell_type": "markdown",
   "metadata": {},
   "source": [
    "## Support Vector machine"
   ]
  },
  {
   "cell_type": "code",
<<<<<<< HEAD
   "execution_count": 38,
=======
   "execution_count": 15,
>>>>>>> bde5c4339da363d65c84e0afd54a27eabdaca4e2
   "metadata": {
    "collapsed": false
   },
   "outputs": [
    {
     "data": {
      "text/plain": [
       "LinearSVC(C=10, class_weight=None, dual=True, fit_intercept=True,\n",
       "     intercept_scaling=1, loss='hinge', max_iter=1000, multi_class='ovr',\n",
       "     penalty='l2', random_state=None, tol=0.0001, verbose=0)"
      ]
     },
<<<<<<< HEAD
     "execution_count": 38,
=======
     "execution_count": 15,
>>>>>>> bde5c4339da363d65c84e0afd54a27eabdaca4e2
     "metadata": {},
     "output_type": "execute_result"
    }
   ],
   "source": [
    "#Support Vector Machine\n",
    "svc = svm.LinearSVC(C=10, loss='hinge', max_iter=1000)\n",
    "svc"
   ]
  },
  {
   "cell_type": "code",
<<<<<<< HEAD
   "execution_count": 39,
=======
   "execution_count": 16,
>>>>>>> bde5c4339da363d65c84e0afd54a27eabdaca4e2
   "metadata": {
    "collapsed": false
   },
   "outputs": [
    {
     "data": {
      "text/plain": [
<<<<<<< HEAD
       "0.96071922544951593"
      ]
     },
     "execution_count": 39,
=======
       "0.51479944674965417"
      ]
     },
     "execution_count": 16,
>>>>>>> bde5c4339da363d65c84e0afd54a27eabdaca4e2
     "metadata": {},
     "output_type": "execute_result"
    }
   ],
   "source": [
    "svc.fit(X_train,Y_train)\n",
    "svc.score(X_test, Y_test)"
   ]
  },
  {
   "cell_type": "code",
   "execution_count": null,
   "metadata": {
    "collapsed": true
   },
   "outputs": [],
   "source": []
  }
 ],
 "metadata": {
  "kernelspec": {
   "display_name": "Python 2",
   "language": "python",
   "name": "python2"
  },
  "language_info": {
   "codemirror_mode": {
    "name": "ipython",
    "version": 2
   },
   "file_extension": ".py",
   "mimetype": "text/x-python",
   "name": "python",
   "nbconvert_exporter": "python",
   "pygments_lexer": "ipython2",
   "version": "2.7.6"
  }
 },
 "nbformat": 4,
 "nbformat_minor": 0
}
