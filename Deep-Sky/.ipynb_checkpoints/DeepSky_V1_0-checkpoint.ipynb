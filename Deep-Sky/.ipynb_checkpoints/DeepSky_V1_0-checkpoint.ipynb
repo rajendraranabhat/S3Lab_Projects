{
 "cells": [
  {
   "cell_type": "markdown",
   "metadata": {},
   "source": [
    "# Doing simple classification for DeepSky Datasets."
   ]
  },
  {
   "cell_type": "code",
   "execution_count": 205,
   "metadata": {
    "collapsed": true
   },
   "outputs": [],
   "source": [
    "import numpy as np\n",
    "import pandas as pd\n",
    "from sklearn.neighbors import KNeighborsClassifier\n",
    "from sklearn.linear_model import LogisticRegression\n",
    "from sklearn.ensemble import RandomForestClassifier\n",
    "from sklearn.cross_validation import cross_val_score\n",
    "from sklearn import metrics\n",
    "from sklearn.cross_validation import train_test_split\n",
    "from sklearn.metrics import confusion_matrix, roc_curve, auc\n",
    "from sklearn.grid_search import GridSearchCV\n",
    "from sklearn import svm\n",
    "import matplotlib.pyplot as plt\n",
    "import scipy.optimize as opt\n",
    "import glob\n",
    "import os\n",
    "import sys\n",
    "%matplotlib inline"
   ]
  },
  {
   "cell_type": "code",
   "execution_count": 257,
   "metadata": {
    "collapsed": false
   },
   "outputs": [],
   "source": [
    "#sys.modules[__name__].__dict__.clear()\n",
    "#Function to read the files and put in the dataframe\n",
    "\n",
    "def readData(path):\n",
    "    allFiles = glob.glob(path)\n",
    "    frame = pd.DataFrame()\n",
    "    list_ = []\n",
    "    \n",
    "    for file_ in allFiles:\n",
    "        print file_\n",
    "        df = pd.read_csv(file_,sep=r\"\\s+\",header=None) #delim_whitespace=True\n",
    "        #print df.shape\n",
    "        #list_.append(df)\n",
    "        #print df\n",
    "        #print df.values.flatten()\n",
    "        #print df.shape\n",
    "        list_.append(df.values.flatten()[0:4500]) #flatten the matrix to arrays. Take first 4500 items only.\n",
    "    #frame = pd.concat(list_)\n",
    "    return pd.DataFrame(list_) #frame;"
   ]
  },
  {
   "cell_type": "code",
   "execution_count": 258,
   "metadata": {
    "collapsed": false
   },
   "outputs": [
    {
     "name": "stdout",
     "output_type": "stream",
     "text": [
      "/home/rbhat/S3Lab Project/SubsetData/spectra_with_feature_0005.txt\n",
      "/home/rbhat/S3Lab Project/SubsetData/spectra_with_feature_0000.txt\n",
      "/home/rbhat/S3Lab Project/SubsetData/spectra_with_feature_0003.txt\n",
      "/home/rbhat/S3Lab Project/SubsetData/spectra_with_feature_0001.txt\n",
      "/home/rbhat/S3Lab Project/SubsetData/spectra_with_feature_0002.txt\n",
      "/home/rbhat/S3Lab Project/SubsetData/spectra_with_feature_0004.txt\n",
      "/home/rbhat/S3Lab Project/SubsetData/spectra_without_feature_0005.txt\n",
      "/home/rbhat/S3Lab Project/SubsetData/spectra_without_feature_0004.txt\n",
      "/home/rbhat/S3Lab Project/SubsetData/spectra_without_feature_0002.txt\n",
      "/home/rbhat/S3Lab Project/SubsetData/spectra_without_feature_0000.txt\n",
      "/home/rbhat/S3Lab Project/SubsetData/spectra_without_feature_0003.txt\n",
      "/home/rbhat/S3Lab Project/SubsetData/spectra_without_feature_0001.txt\n",
      "<class 'pandas.core.frame.DataFrame'> (6, 4500) (6, 4500)\n"
     ]
    }
   ],
   "source": [
    "#path = os.getcwd() + '/data/ex1data1.txt'\n",
    "\n",
    "#path1 = r'/home/rbhat/S3Lab Project/DL_spectra/spectra_with_feature_*.txt'\n",
    "#path2 = r'/home/rbhat/S3Lab Project/DL_spectra/spectra_without_feature_*.txt'\n",
    "\n",
    "path1 = r'/home/rbhat/S3Lab Project/SubsetData/spectra_with_feature_*.txt'\n",
    "path2 = r'/home/rbhat/S3Lab Project/SubsetData/spectra_without_feature_*.txt'\n",
    "frame1 = readData(path1)\n",
    "frame2 = readData(path2)\n",
    "\n",
    "#frame1.columns = ['X1', 'X2']\n",
    "#frame2.columns = ['X1', 'X2']\n",
    "#print frame1[4600:]\n",
    "print type(frame1), frame1.shape, frame2.shape\n",
    "#print frame1\n",
    "#print frame2\n",
    "#print np.array(frame1[4600:]).ravel()\n",
    "#print frame1.head()"
   ]
  },
  {
   "cell_type": "code",
   "execution_count": 259,
   "metadata": {
    "collapsed": false
   },
   "outputs": [
    {
     "name": "stdout",
     "output_type": "stream",
     "text": [
      "[[1 2]\n",
      " [3 4]\n",
      " [5 6]\n",
      " [7 8]]\n",
      "(4, 2)\n",
      "[2 4 6 8]\n"
     ]
    }
   ],
   "source": [
    "aa = np.array([[1,2], [3,4], [5,6], [7,8]])\n",
    "print aa\n",
    "print aa.shape\n",
    "print aa[:,-1]  #Extract last column\n",
    "#print np.array(aa).ravel()  #speed\n",
    "#print np.asarray(aa).ravel() #memory\n",
    "#print np.array(aa).flatten()\n",
    "\n",
    "#http://www.datacarpentry.org/python-ecology/02-index-slice-subset\n",
    "#a[start:end:step] # start through not past end, by step(default=1)"
   ]
  },
  {
   "cell_type": "code",
   "execution_count": 260,
   "metadata": {
    "collapsed": false
   },
   "outputs": [
    {
     "name": "stdout",
     "output_type": "stream",
     "text": [
      "(6, 4500) (6, 4500)\n",
      "(6, 4501) (6, 4501)\n",
      "[[ 1.]\n",
      " [ 1.]\n",
      " [ 1.]\n",
      " [ 1.]\n",
      " [ 1.]\n",
      " [ 1.]]\n",
      "[[ 0.]\n",
      " [ 0.]\n",
      " [ 0.]\n",
      " [ 0.]\n",
      " [ 0.]\n",
      " [ 0.]]\n"
     ]
    }
   ],
   "source": [
    "print frame1.shape, frame2.shape\n",
    "frame1_Y1 = np.ones((frame1.shape[0],1))\n",
    "frame1['Y'] = frame1_Y1\n",
    "\n",
    "frame2_Y2 = np.zeros((frame2.shape[0],1))\n",
    "frame2['Y'] = frame2_Y2\n",
    "\n",
    "#print Y1.shape\n",
    "#print frame1.head()\n",
    "print frame1.shape, frame2.shape\n",
    "print frame1_Y1\n",
    "print frame2_Y2"
   ]
  },
  {
   "cell_type": "code",
   "execution_count": 262,
   "metadata": {
    "collapsed": false
   },
   "outputs": [
    {
     "name": "stdout",
     "output_type": "stream",
     "text": [
      "(6, 4501) (6, 4501)\n",
      "           0         1          2         3          4         5\n",
      "0  3590.0459  7.291498  3590.8726  0.791032  3591.6995  3.656065\n",
      "1  3591.6995  3.620451  3592.5267  8.237982  3593.3540  8.290853\n",
      "\n",
      "[2 rows x 6 columns]\n",
      "           0          1          2          3          4          5\n",
      "0  3590.0459   7.291498  3590.8726   0.791032  3591.6995   3.656065\n",
      "1  3591.6995   3.620451  3592.5267   8.237982  3593.3540   8.290853\n",
      "2  3554.6758  12.956790  3556.3132  18.999506  3557.1322  10.178330\n",
      "3  3595.0091   3.588205  3595.8370   5.409704  3596.6651   5.646266\n",
      "4  3612.4347 -20.972565  3613.2665   3.825174  3614.0986   6.726816\n",
      "5  3566.1532   7.339237  3566.9745  -9.298958  3567.7959  17.139837\n",
      "\n",
      "[6 rows x 6 columns]\n",
      "       4495       4496      4497       4498      4499  Y\n",
      "0  1.315087  6024.2086  1.774264  6025.5959  2.181245  1\n",
      "1  1.965809  6032.5371  1.749636  6033.9263  2.011908  1\n",
      "2  2.257436  6095.3690  2.480188  6096.7726  2.592726  1\n",
      "3  2.584278  5984.1160  2.504787  5985.4940  2.774172  1\n",
      "4  2.819245  5966.2301  2.584814  5967.6040  2.865190  1\n",
      "5  2.688461  6026.9835  2.733683  6028.3714  2.980876  1\n",
      "\n",
      "[6 rows x 6 columns]\n",
      "       4495       4496      4497       4498      4499  Y\n",
      "0  1.514573  6024.2086  2.042991  6025.5959  2.511105  0\n",
      "1  3.294044  6026.9835  3.348338  6028.3714  3.649897  0\n",
      "2  3.153824  5966.2301  2.891148  5967.6040  3.204282  0\n",
      "3  4.303336  6032.5371  3.836098  6033.9263  4.418036  0\n",
      "4  3.391566  6095.3690  3.729312  6096.7726  3.901765  0\n",
      "5  4.254930  5984.1160  4.128382  5985.4940  4.577194  0\n",
      "\n",
      "[6 rows x 6 columns]\n"
     ]
    }
   ],
   "source": [
    "#print frame1[9210:9229], frame2[9210:9229]\n",
    "#print frame2_Y2.shape\n",
    "#print frame2.head()\n",
    "print frame1.shape, frame2.shape\n",
    "#print frame2\n",
    "\n",
    "#print frame2.iloc[0:1,0:5]  #slicing using iloc and loc\n",
    "print frame2.loc[0:1,0:5]  #0th row, 0,1,2,3,4 th column\n",
    "print frame2.loc[:,0:5] # all row, 0,1,2,3,4,5 th column\n",
    "\n",
    "print frame1.loc[:,4495:] \n",
    "print frame2.loc[:,4495:] "
   ]
  },
  {
   "cell_type": "markdown",
   "metadata": {},
   "source": [
    "Since plotting all data, the kernel is dead. I am plotting subset of data. It is same"
   ]
  },
  {
   "cell_type": "code",
   "execution_count": 264,
   "metadata": {
    "collapsed": false
   },
   "outputs": [
    {
     "name": "stdout",
     "output_type": "stream",
     "text": [
      "2000 2000\n",
      "2000 2000\n"
     ]
    },
    {
     "data": {
      "text/plain": [
       "<matplotlib.text.Text at 0x7fd2fcfe1250>"
      ]
     },
     "execution_count": 264,
     "metadata": {},
     "output_type": "execute_result"
    },
    {
     "data": {
      "image/png": "[encoded data removed]",
      "text/plain": [
       "<matplotlib.figure.Figure at 0x7fd2fce90290>"
      ]
     },
     "metadata": {},
     "output_type": "display_data"
    }
   ],
   "source": [
    "#frame1[0:5][0]\n",
    "#Scatter plot of the data..\n",
    "n = 4000 #[10, 100, 1000, 10000, 100000]\n",
    "frame1_tmp = frame1.loc[0,0:n] #0th row and 0 to 4000 column of frame1\n",
    "frame2_tmp = frame2.loc[0,0:n]\n",
    "\n",
    "frame1_tmp_x = [val for i,val in enumerate(frame1_tmp) if (i%2 == 0)]\n",
    "frame1_tmp_y = [val for i,val in enumerate(frame1_tmp) if (i%2 != 0)]\n",
    "\n",
    "frame2_tmp_x = [val for i,val in enumerate(frame2_tmp) if (i%2 == 0)]\n",
    "frame2_tmp_y = [val for i,val in enumerate(frame2_tmp) if (i%2 != 0)]\n",
    "\n",
    "#print frame1_tmp_y\n",
    "\n",
    "frame1_tmp_x = frame1_tmp_x[0:n/2]\n",
    "print len(frame1_tmp_x), len(frame1_tmp_y)\n",
    "\n",
    "frame2_tmp_x = frame2_tmp_x[0:n/2]\n",
    "print len(frame2_tmp_x), len(frame2_tmp_y)\n",
    "\n",
    "fig, ax = plt.subplots(figsize=(10,6))\n",
    "ax.scatter(frame1_tmp_x, frame1_tmp_y, s=30, marker='x', label='With Features')\n",
    "#ax.scatter(frame2_tmp_x, frame2_tmp_y, s=30, marker='o', label='Without Features')\n",
    "ax.legend()\n",
    "ax.set_xlabel('X1')\n",
    "ax.set_ylabel('X2')\n",
    "fig.suptitle(i)\n",
    "    "
   ]
  },
  {
   "cell_type": "code",
   "execution_count": 265,
   "metadata": {
    "collapsed": false
   },
   "outputs": [
    {
     "data": {
      "text/plain": [
       "'\\nprint frame1.shape[0]\\nn = int(frame1.shape[0]*0.3)\\nprint n\\n\\nframe11 = frame1[0:n]\\nframe22 = frame2[0:n]\\n'"
      ]
     },
     "execution_count": 265,
     "metadata": {},
     "output_type": "execute_result"
    }
   ],
   "source": [
    "#Looks like there is memory error on concanation and permutation because of data size. So I will take subset of \n",
    "#data. Probabily take some 60% of data.\n",
    "'''\n",
    "print frame1.shape[0]\n",
    "n = int(frame1.shape[0]*0.3)\n",
    "print n\n",
    "\n",
    "frame11 = frame1[0:n]\n",
    "frame22 = frame2[0:n]\n",
    "'''"
   ]
  },
  {
   "cell_type": "code",
   "execution_count": 267,
   "metadata": {
    "collapsed": false
   },
   "outputs": [
    {
     "name": "stdout",
     "output_type": "stream",
     "text": [
      "(12, 4501)\n",
      "           0          1          2         3          4          5   \\\n",
      "10  3612.4347 -20.972565  3613.2665  3.825174  3614.0986   6.726816   \n",
      "3   3566.1532   7.131698  3566.9745 -9.035796  3567.7959  16.654399   \n",
      "6   3590.0459   7.291498  3590.8726  0.791032  3591.6995   3.656065   \n",
      "7   3591.6995   3.620451  3592.5267  8.237982  3593.3540   8.290853   \n",
      "0   3590.0459   5.862934  3590.8726  0.635818  3591.6995   2.937599   \n",
      "\n",
      "           6          7          8          9          10        11  \\\n",
      "10  3614.9309  12.394925  3615.7634  10.458275  3616.5960  5.368757   \n",
      "3   3568.6175   4.897989  3569.4393  -5.690701  3570.2613  4.275673   \n",
      "6   3592.5267   7.430761  3593.3540   6.948455  3594.1815  4.295185   \n",
      "7   3594.1815   4.662978  3595.0091   3.852455  3595.8370  9.175366   \n",
      "0   3592.5267   5.968313  3593.3540   5.578865  3594.1815  3.447295   \n",
      "\n",
      "           12        13         14        15         16        17         18  \\\n",
      "10  3617.4289  5.691490  3618.2619  7.192939  3619.0951  4.682623  3619.9286   \n",
      "3   3571.0835  6.496954  3571.9058 -4.158463  3572.7284  9.461834  3573.5511   \n",
      "6   3595.0091  2.737242  3595.8370  8.760174  3596.6651  1.420789  3597.4934   \n",
      "7   3596.6651  6.631068  3597.4934  7.240814  3598.3218  7.097405  3599.1504   \n",
      "0   3595.0091  2.196081  3595.8370  7.025641  3596.6651  1.139045  3597.4934   \n",
      "\n",
      "           19      \n",
      "10  10.767469 ...  \n",
      "3    6.048308 ...  \n",
      "6    6.296593 ...  \n",
      "7    7.102774 ...  \n",
      "0    5.046080 ...  \n",
      "\n",
      "[5 rows x 4501 columns]\n",
      "        4495       4496      4497       4498      4499  Y\n",
      "10  3.391566  6095.3690  3.729312  6096.7726  3.901765  0\n",
      "3   2.584278  5984.1160  2.504787  5985.4940  2.774172  1\n",
      "6   1.514573  6024.2086  2.042991  6025.5959  2.511105  0\n",
      "7   3.294044  6026.9835  3.348338  6028.3714  3.649897  0\n",
      "0   1.315087  6024.2086  1.774264  6025.5959  2.181245  1\n",
      "11  4.254930  5984.1160  4.128382  5985.4940  4.577194  0\n",
      "1   1.965809  6032.5371  1.749636  6033.9263  2.011908  1\n",
      "4   2.819245  5966.2301  2.584814  5967.6040  2.865190  1\n",
      "2   2.257436  6095.3690  2.480188  6096.7726  2.592726  1\n",
      "8   3.153824  5966.2301  2.891148  5967.6040  3.204282  0\n",
      "5   2.688461  6026.9835  2.733683  6028.3714  2.980876  1\n",
      "9   4.303336  6032.5371  3.836098  6033.9263  4.418036  0\n",
      "\n",
      "[12 rows x 6 columns]\n"
     ]
    }
   ],
   "source": [
    "#Combine 2 data frame and reshuffle the data randomly\n",
    "#ignore_index=True will make sure it will index serially.\n",
    "frame = pd.concat([frame1, frame2], ignore_index=True)\n",
    "\n",
    "#Reshuffle the data randomly\n",
    "frame = frame.reindex(np.random.permutation(frame.index))\n",
    "#frame.reset_index()\n",
    "\n",
    "print frame.shape\n",
    "print frame.head()\n",
    "print frame.loc[:,4495:] \n",
    "#print frame['Y'] "
   ]
  },
  {
   "cell_type": "markdown",
   "metadata": {},
   "source": [
    "Now splitting data in training and testing for classification purpose. We split 70% for training set and 30% for testing set. After that we do classification on the given astronomy datasets."
   ]
  },
  {
   "cell_type": "code",
   "execution_count": 268,
   "metadata": {
    "collapsed": false
   },
   "outputs": [
    {
     "name": "stdout",
     "output_type": "stream",
     "text": [
      "(12, 4500)\n",
      "(12,)\n"
     ]
    }
   ],
   "source": [
    "#Splitting the data for classification purpose..\n",
    "#Input dataframe consists of X1, X2\n",
    "#print frame.shape\n",
    "#print frame.iloc[:,9273:]\n",
    "X = frame.drop(['Y'],axis=1) \n",
    "#print X.iloc[:,9273:]\n",
    "\n",
    "print X.shape\n",
    "\n",
    "#Output vector(predictor/response) vector\n",
    "Y = frame['Y']\n",
    "\n",
    "print Y.shape\n",
    "#Splitting data into train and testing. 70% Training and 30% Testing..\n",
    "X_train, X_test, Y_train, Y_test = train_test_split(X, Y, test_size=0.3, random_state=4)"
   ]
  },
  {
   "cell_type": "code",
   "execution_count": 269,
   "metadata": {
    "collapsed": false
   },
   "outputs": [
    {
     "name": "stdout",
     "output_type": "stream",
     "text": [
      "(8, 4500) (8,) (4, 4500) (4,)\n"
     ]
    }
   ],
   "source": [
    "print X_train.shape, Y_train.shape, X_test.shape, Y_test.shape\n",
    "\n",
    "#Validating the number\n",
    "#print 101390*0.7, 101390*0.3 "
   ]
  },
  {
   "cell_type": "markdown",
   "metadata": {},
   "source": [
    "Some of the algorithm for logistic regression. Algorithm from Andrew Ng machine learning class."
   ]
  },
  {
   "cell_type": "markdown",
   "metadata": {},
   "source": [
    "## Logistic Regression"
   ]
  },
  {
   "cell_type": "code",
   "execution_count": 284,
   "metadata": {
    "collapsed": false
   },
   "outputs": [],
   "source": [
    "#Logistic Regression algorithm\n",
    "\n",
    "#Sigmoid function\n",
    "def sigmoid(z):\n",
    "    return 1 / (1 + np.exp(-z))\n",
    "\n",
    "#Prediction\n",
    "def predict(theta, X):\n",
    "    probability = sigmoid(X * theta.T)\n",
    "    return [1 if x >= 0.5 else 0 for x in probability]\n",
    "\n",
    "#Cost calculation with regularization\n",
    "def costReg(theta, X, y, learningRate):\n",
    "    theta = np.matrix(theta)\n",
    "    X = np.matrix(X)\n",
    "    y = np.matrix(y)\n",
    "    \n",
    "    print X.shape, y.shape, theta.shape\n",
    "    \n",
    "    first = np.multiply(-y, np.log(sigmoid(X * theta.T)))\n",
    "    second = np.multiply((1 - y), np.log(1 - sigmoid(X * theta.T)))\n",
    "    reg = (learningRate / 2 * len(X)) * np.sum(np.power(theta[:,1:theta.shape[1]], 2))\n",
    "    return np.sum(first - second) / (len(X)) + reg\n",
    "    \n",
    "#Gradient calculation with regularization\n",
    "def gradientReg(theta, X, y, learningRate):\n",
    "    theta = np.matrix(theta)\n",
    "    X = np.matrix(X)\n",
    "    y = np.matrix(y)\n",
    "    \n",
    "    parameters = int(theta.ravel().shape[1])\n",
    "    grad = np.zeros(parameters)\n",
    "    \n",
    "    error = sigmoid(X * theta.T) - y\n",
    "    \n",
    "    for i in range(parameters):\n",
    "        term = np.multiply(error, X[:,i])\n",
    "        \n",
    "        if (i == 0):\n",
    "            grad[i] = np.sum(term) / len(X)\n",
    "        else:\n",
    "            grad[i] = (np.sum(term) / len(X)) + ((learningRate / len(X)) * theta[:,i])\n",
    "    \n",
    "    return grad\n",
    "\n"
   ]
  },
  {
   "cell_type": "code",
   "execution_count": 281,
   "metadata": {
    "collapsed": true
   },
   "outputs": [
    {
     "name": "stdout",
     "output_type": "stream",
     "text": [
      "           0          1          2         3          4          5   \\\n",
      "10  3612.4347 -20.972565  3613.2665  3.825174  3614.0986   6.726816   \n",
      "3   3566.1532   7.131698  3566.9745 -9.035796  3567.7959  16.654399   \n",
      "6   3590.0459   7.291498  3590.8726  0.791032  3591.6995   3.656065   \n",
      "7   3591.6995   3.620451  3592.5267  8.237982  3593.3540   8.290853   \n",
      "0   3590.0459   5.862934  3590.8726  0.635818  3591.6995   2.937599   \n",
      "\n",
      "           6          7          8          9          10        11  \\\n",
      "10  3614.9309  12.394925  3615.7634  10.458275  3616.5960  5.368757   \n",
      "3   3568.6175   4.897989  3569.4393  -5.690701  3570.2613  4.275673   \n",
      "6   3592.5267   7.430761  3593.3540   6.948455  3594.1815  4.295185   \n",
      "7   3594.1815   4.662978  3595.0091   3.852455  3595.8370  9.175366   \n",
      "0   3592.5267   5.968313  3593.3540   5.578865  3594.1815  3.447295   \n",
      "\n",
      "           12        13         14        15         16        17         18  \\\n",
      "10  3617.4289  5.691490  3618.2619  7.192939  3619.0951  4.682623  3619.9286   \n",
      "3   3571.0835  6.496954  3571.9058 -4.158463  3572.7284  9.461834  3573.5511   \n",
      "6   3595.0091  2.737242  3595.8370  8.760174  3596.6651  1.420789  3597.4934   \n",
      "7   3596.6651  6.631068  3597.4934  7.240814  3598.3218  7.097405  3599.1504   \n",
      "0   3595.0091  2.196081  3595.8370  7.025641  3596.6651  1.139045  3597.4934   \n",
      "\n",
      "           19      \n",
      "10  10.767469 ...  \n",
      "3    6.048308 ...  \n",
      "6    6.296593 ...  \n",
      "7    7.102774 ...  \n",
      "0    5.046080 ...  \n",
      "\n",
      "[5 rows x 4500 columns]\n",
      "    Ones          0          1          2         3          4          5  \\\n",
      "10     1  3612.4347 -20.972565  3613.2665  3.825174  3614.0986   6.726816   \n",
      "3      1  3566.1532   7.131698  3566.9745 -9.035796  3567.7959  16.654399   \n",
      "6      1  3590.0459   7.291498  3590.8726  0.791032  3591.6995   3.656065   \n",
      "7      1  3591.6995   3.620451  3592.5267  8.237982  3593.3540   8.290853   \n",
      "0      1  3590.0459   5.862934  3590.8726  0.635818  3591.6995   2.937599   \n",
      "\n",
      "            6          7          8          9         10        11  \\\n",
      "10  3614.9309  12.394925  3615.7634  10.458275  3616.5960  5.368757   \n",
      "3   3568.6175   4.897989  3569.4393  -5.690701  3570.2613  4.275673   \n",
      "6   3592.5267   7.430761  3593.3540   6.948455  3594.1815  4.295185   \n",
      "7   3594.1815   4.662978  3595.0091   3.852455  3595.8370  9.175366   \n",
      "0   3592.5267   5.968313  3593.3540   5.578865  3594.1815  3.447295   \n",
      "\n",
      "           12        13         14        15         16        17         18  \\\n",
      "10  3617.4289  5.691490  3618.2619  7.192939  3619.0951  4.682623  3619.9286   \n",
      "3   3571.0835  6.496954  3571.9058 -4.158463  3572.7284  9.461834  3573.5511   \n",
      "6   3595.0091  2.737242  3595.8370  8.760174  3596.6651  1.420789  3597.4934   \n",
      "7   3596.6651  6.631068  3597.4934  7.240814  3598.3218  7.097405  3599.1504   \n",
      "0   3595.0091  2.196081  3595.8370  7.025641  3596.6651  1.139045  3597.4934   \n",
      "\n",
      "        \n",
      "10 ...  \n",
      "3  ...  \n",
      "6  ...  \n",
      "7  ...  \n",
      "0  ...  \n",
      "\n",
      "[5 rows x 4501 columns]\n"
     ]
    }
   ],
   "source": [
    "# add a ones column - this makes the matrix multiplication work out easier\n",
    "#print X.head()\n",
    "#print Y.head()\n",
    "\n",
    "X_tmp = X\n",
    "Y_tmp = Y\n",
    "print X_tmp.head()\n",
    "X_tmp.insert(0,'Ones',1)\n",
    "print X_tmp.head()"
   ]
  },
  {
   "cell_type": "markdown",
   "metadata": {},
   "source": [
    "Since the optimization algorithm only uses ndarray type and no matrix type we need to change it to array. Also theta should be flatten other wise it gives wierd error."
   ]
  },
  {
   "cell_type": "code",
   "execution_count": 288,
   "metadata": {
    "collapsed": false
   },
   "outputs": [
    {
     "name": "stdout",
     "output_type": "stream",
     "text": [
      "(12, 4501) (1, 12) (4501,)\n",
      "<type 'numpy.ndarray'> <type 'numpy.ndarray'> <type 'numpy.ndarray'>\n"
     ]
    }
   ],
   "source": [
    "X_tmp = np.array(X_tmp)\n",
    "Y_tmp1 = np.matrix(Y_tmp)\n",
    "Y_tmp = np.array(Y_tmp1.T)\n",
    "theta_tmp = np.zeros(X_tmp.shape[1])\n",
    "\n",
    "print  X_tmp.shape, Y_tmp.shape, theta_tmp.shape\n",
    "print type(X_tmp), type(Y_tmp), type(theta_tmp)"
   ]
  },
  {
   "cell_type": "code",
   "execution_count": 292,
   "metadata": {
    "collapsed": false
   },
   "outputs": [
    {
     "name": "stdout",
     "output_type": "stream",
     "text": [
      "(12, 4501) (1, 12) (1, 4501)\n",
      "8.31776616672\n",
      "[  0.00000000e+00   7.57912251e-14   2.96059473e-16 ...,   1.11022302e-16\n",
      "   1.51582450e-13   1.11022302e-16]\n",
      "(12, 4501) (1, 12) (1, 4501)\n",
      "(12, 4501) (1, 12) (1, 4501)\n",
      "(array([ 0.,  0.,  0., ...,  0.,  0.,  0.]), 1, 0)\n"
     ]
    }
   ],
   "source": [
    "\n",
    "print costReg(theta_tmp, X_tmp, Y_tmp, 0)\n",
    "    \n",
    "print gradientReg(theta_tmp, X_tmp, Y_tmp, 0)\n",
    "\n",
    "#Looks like fmin_tnc only take ndarray type, no matrix or whatsoever...\n",
    "result = opt.fmin_tnc(func=costReg, x0=theta_tmp, fprime=gradientReg, args=(X_tmp,Y_tmp, 0) )\n",
    "                                                                            \n",
    "print result\n"
   ]
  },
  {
   "cell_type": "markdown",
   "metadata": {},
   "source": [
    "Now using the algorithm above, it calculates the accuracy. Accuracy seems bit low somehow."
   ]
  },
  {
   "cell_type": "code",
   "execution_count": 314,
   "metadata": {
    "collapsed": false
   },
   "outputs": [
    {
     "name": "stdout",
     "output_type": "stream",
     "text": [
      "<type 'list'> <type 'list'>\n",
      "[1, 1, 1, 1, 1, 1, 1, 1, 1, 1, 1, 1]\n",
      "[[0.0, 1.0, 0.0, 0.0, 1.0, 0.0, 1.0, 1.0, 1.0, 0.0, 1.0, 0.0]]\n",
      "[(1, array([ 0.,  1.,  0.,  0.,  1.,  0.,  1.,  1.,  1.,  0.,  1.,  0.]))]\n"
     ]
    },
    {
     "ename": "TypeError",
     "evalue": "float() argument must be a string or a number",
     "output_type": "error",
     "traceback": [
      "\u001b[1;31m---------------------------------------------------------------------------\u001b[0m",
      "\u001b[1;31mTypeError\u001b[0m                                 Traceback (most recent call last)",
      "\u001b[1;32m<ipython-input-314-1ce116dce977>\u001b[0m in \u001b[0;36m<module>\u001b[1;34m()\u001b[0m\n\u001b[0;32m      6\u001b[0m \u001b[1;32mprint\u001b[0m \u001b[0mY_tmp\u001b[0m\u001b[1;33m.\u001b[0m\u001b[0mtolist\u001b[0m\u001b[1;33m(\u001b[0m\u001b[1;33m)\u001b[0m\u001b[1;33m\u001b[0m\u001b[0m\n\u001b[0;32m      7\u001b[0m \u001b[1;32mprint\u001b[0m \u001b[0mzip\u001b[0m\u001b[1;33m(\u001b[0m\u001b[0mpredictions\u001b[0m\u001b[1;33m,\u001b[0m \u001b[0mY_tmp\u001b[0m\u001b[1;33m)\u001b[0m\u001b[1;33m\u001b[0m\u001b[0m\n\u001b[1;32m----> 8\u001b[1;33m \u001b[0mcorrect\u001b[0m \u001b[1;33m=\u001b[0m \u001b[1;33m[\u001b[0m\u001b[1;36m1\u001b[0m \u001b[1;32mif\u001b[0m \u001b[1;33m(\u001b[0m\u001b[1;33m(\u001b[0m\u001b[0ma\u001b[0m \u001b[1;33m==\u001b[0m \u001b[1;36m1\u001b[0m \u001b[1;32mand\u001b[0m \u001b[0mb\u001b[0m \u001b[1;33m==\u001b[0m \u001b[1;36m1\u001b[0m\u001b[1;33m)\u001b[0m \u001b[1;32mor\u001b[0m \u001b[1;33m(\u001b[0m\u001b[0ma\u001b[0m \u001b[1;33m==\u001b[0m \u001b[1;36m0\u001b[0m \u001b[1;32mand\u001b[0m \u001b[0mb\u001b[0m \u001b[1;33m==\u001b[0m \u001b[1;36m0\u001b[0m\u001b[1;33m)\u001b[0m\u001b[1;33m)\u001b[0m \u001b[1;32melse\u001b[0m \u001b[1;36m0\u001b[0m \u001b[1;32mfor\u001b[0m \u001b[1;33m(\u001b[0m\u001b[0ma\u001b[0m\u001b[1;33m,\u001b[0m \u001b[0mb\u001b[0m\u001b[1;33m)\u001b[0m \u001b[1;32min\u001b[0m \u001b[0mzip\u001b[0m\u001b[1;33m(\u001b[0m\u001b[0mfloat\u001b[0m\u001b[1;33m(\u001b[0m\u001b[0mpredictions\u001b[0m\u001b[1;33m)\u001b[0m\u001b[1;33m,\u001b[0m \u001b[0mY_tmp\u001b[0m\u001b[1;33m.\u001b[0m\u001b[0mtolist\u001b[0m\u001b[1;33m(\u001b[0m\u001b[1;33m)\u001b[0m\u001b[1;33m)\u001b[0m\u001b[1;33m]\u001b[0m\u001b[1;33m\u001b[0m\u001b[0m\n\u001b[0m\u001b[0;32m      9\u001b[0m \u001b[0maccuracy\u001b[0m \u001b[1;33m=\u001b[0m \u001b[1;33m(\u001b[0m\u001b[0msum\u001b[0m\u001b[1;33m(\u001b[0m\u001b[0mmap\u001b[0m\u001b[1;33m(\u001b[0m\u001b[0mint\u001b[0m\u001b[1;33m,\u001b[0m \u001b[0mcorrect\u001b[0m\u001b[1;33m)\u001b[0m\u001b[1;33m)\u001b[0m \u001b[1;33m/\u001b[0m \u001b[0mfloat\u001b[0m\u001b[1;33m(\u001b[0m\u001b[0mlen\u001b[0m\u001b[1;33m(\u001b[0m\u001b[0mcorrect\u001b[0m\u001b[1;33m)\u001b[0m\u001b[1;33m)\u001b[0m\u001b[1;33m)\u001b[0m\u001b[1;33m\u001b[0m\u001b[0m\n\u001b[0;32m     10\u001b[0m \u001b[1;31m#print 'accuracy = {0}%'.format(accuracy)\u001b[0m\u001b[1;33m\u001b[0m\u001b[1;33m\u001b[0m\u001b[0m\n",
      "\u001b[1;31mTypeError\u001b[0m: float() argument must be a string or a number"
     ]
    }
   ],
   "source": [
    "#Accuracy\n",
    "theta_min = np.matrix(result[0])\n",
    "predictions = predict(theta_min, X_tmp)\n",
    "print type(list(Y_tmp)), type(predictions)\n",
    "print predictions\n",
    "print Y_tmp.tolist()\n",
    "print zip(predictions, Y_tmp)\n",
    "correct = [1 if ((a == 1 and b == 1) or (a == 0 and b == 0)) else 0 for (a, b) in zip(predictions, Y_tmp.tolist())]\n",
    "accuracy = (sum(map(int, correct)) / float(len(correct)))\n",
    "#print 'accuracy = {0}%'.format(accuracy)\n",
    "print 'accuracy = {0}%'.format(accuracy*100)"
   ]
  },
  {
   "cell_type": "markdown",
   "metadata": {},
   "source": [
    "Now in below code, the polynomial feature is added for classification. This is done by taking polynomial power of each original column X1 & X2 and removing the original columns."
   ]
  },
  {
   "cell_type": "code",
   "execution_count": 23,
   "metadata": {
    "collapsed": false
   },
   "outputs": [
    {
     "name": "stdout",
     "output_type": "stream",
     "text": [
      "                X1         X2  Y\n",
      "228531   6295.0618   5.219602  0\n",
      "154117   5578.2760   1.125776  0\n",
      "161293  10032.2880   1.032402  0\n",
      "240697   4325.1383  15.276622  0\n",
      "255884   5964.8565   4.092365  0\n",
      "\n",
      "[5 rows x 3 columns]\n",
      "                X1         X2  Y  Ones\n",
      "228531   6295.0618   5.219602  0     1\n",
      "154117   5578.2760   1.125776  0     1\n",
      "161293  10032.2880   1.032402  0     1\n",
      "240697   4325.1383  15.276622  0     1\n",
      "255884   5964.8565   4.092365  0     1\n",
      "\n",
      "[5 rows x 4 columns]\n"
     ]
    }
   ],
   "source": [
    "#Increasing the features..adding more polynomials term\n",
    "degree = 5\n",
    "\n",
    "#Reseting this variable\n",
    "#%reset_selective frame_log\n",
    "#%reset frame_log\n",
    "\n",
    "frame_log = frame\n",
    "x1 = frame_log['X1']\n",
    "x2 = frame_log['X2']\n",
    "\n",
    "print frame_log.head()\n",
    "#print x1.head()\n",
    "#print x2.head()\n",
    "\n",
    "#Insert at 0th column, Ones column name and value as 1\n",
    "frame_log.insert(3, 'Ones', 1) \n",
    "print frame_log.head()\n",
    "\n"
   ]
  },
  {
   "cell_type": "code",
   "execution_count": 24,
   "metadata": {
    "collapsed": false
   },
   "outputs": [
    {
     "data": {
      "text/html": [
       "<div style=\"max-height:1000px;max-width:1500px;overflow:auto;\">\n",
       "<table border=\"1\" class=\"dataframe\">\n",
       "  <thead>\n",
       "    <tr style=\"text-align: right;\">\n",
       "      <th></th>\n",
       "      <th>Y</th>\n",
       "      <th>Ones</th>\n",
       "      <th>X_10</th>\n",
       "      <th>X_20</th>\n",
       "      <th>X_21</th>\n",
       "      <th>X_30</th>\n",
       "      <th>X_31</th>\n",
       "      <th>X_32</th>\n",
       "      <th>X_40</th>\n",
       "      <th>X_41</th>\n",
       "      <th>X_42</th>\n",
       "      <th>X_43</th>\n",
       "    </tr>\n",
       "  </thead>\n",
       "  <tbody>\n",
       "    <tr>\n",
       "      <th>228531</th>\n",
       "      <td> 0</td>\n",
       "      <td> 1</td>\n",
       "      <td>  6295.0618</td>\n",
       "      <td> 3.962780e+07</td>\n",
       "      <td> 32857.719050</td>\n",
       "      <td> 2.494595e+11</td>\n",
       "      <td> 2.068414e+08</td>\n",
       "      <td>  171504.225926</td>\n",
       "      <td> 1.570363e+15</td>\n",
       "      <td> 1.302079e+12</td>\n",
       "      <td> 1.079630e+09</td>\n",
       "      <td>   895183.852102</td>\n",
       "    </tr>\n",
       "    <tr>\n",
       "      <th>154117</th>\n",
       "      <td> 0</td>\n",
       "      <td> 1</td>\n",
       "      <td>  5578.2760</td>\n",
       "      <td> 3.111716e+07</td>\n",
       "      <td>  6279.887011</td>\n",
       "      <td> 1.735801e+11</td>\n",
       "      <td> 3.503094e+07</td>\n",
       "      <td>    7069.743568</td>\n",
       "      <td> 9.682778e+14</td>\n",
       "      <td> 1.954123e+11</td>\n",
       "      <td> 3.943698e+07</td>\n",
       "      <td>     7958.944807</td>\n",
       "    </tr>\n",
       "    <tr>\n",
       "      <th>161293</th>\n",
       "      <td> 0</td>\n",
       "      <td> 1</td>\n",
       "      <td> 10032.2880</td>\n",
       "      <td> 1.006468e+08</td>\n",
       "      <td> 10357.358209</td>\n",
       "      <td> 1.009718e+12</td>\n",
       "      <td> 1.039080e+08</td>\n",
       "      <td>   10692.961472</td>\n",
       "      <td> 1.012978e+16</td>\n",
       "      <td> 1.042435e+12</td>\n",
       "      <td> 1.072749e+08</td>\n",
       "      <td>    11039.439087</td>\n",
       "    </tr>\n",
       "    <tr>\n",
       "      <th>240697</th>\n",
       "      <td> 0</td>\n",
       "      <td> 1</td>\n",
       "      <td>  4325.1383</td>\n",
       "      <td> 1.870682e+07</td>\n",
       "      <td> 66073.502907</td>\n",
       "      <td> 8.090959e+10</td>\n",
       "      <td> 2.857770e+08</td>\n",
       "      <td> 1009379.928123</td>\n",
       "      <td> 3.499452e+14</td>\n",
       "      <td> 1.236025e+12</td>\n",
       "      <td> 4.365708e+09</td>\n",
       "      <td> 15419915.616329</td>\n",
       "    </tr>\n",
       "    <tr>\n",
       "      <th>255884</th>\n",
       "      <td> 0</td>\n",
       "      <td> 1</td>\n",
       "      <td>  5964.8565</td>\n",
       "      <td> 3.557951e+07</td>\n",
       "      <td> 24410.367585</td>\n",
       "      <td> 2.122267e+11</td>\n",
       "      <td> 1.456043e+08</td>\n",
       "      <td>   99896.124177</td>\n",
       "      <td> 1.265902e+15</td>\n",
       "      <td> 8.685090e+11</td>\n",
       "      <td> 5.958660e+08</td>\n",
       "      <td>   408811.362257</td>\n",
       "    </tr>\n",
       "  </tbody>\n",
       "</table>\n",
       "<p>5 rows × 12 columns</p>\n",
       "</div>"
      ],
      "text/plain": [
       "        Y  Ones        X_10          X_20          X_21          X_30  \\\n",
       "228531  0     1   6295.0618  3.962780e+07  32857.719050  2.494595e+11   \n",
       "154117  0     1   5578.2760  3.111716e+07   6279.887011  1.735801e+11   \n",
       "161293  0     1  10032.2880  1.006468e+08  10357.358209  1.009718e+12   \n",
       "240697  0     1   4325.1383  1.870682e+07  66073.502907  8.090959e+10   \n",
       "255884  0     1   5964.8565  3.557951e+07  24410.367585  2.122267e+11   \n",
       "\n",
       "                X_31            X_32          X_40          X_41  \\\n",
       "228531  2.068414e+08   171504.225926  1.570363e+15  1.302079e+12   \n",
       "154117  3.503094e+07     7069.743568  9.682778e+14  1.954123e+11   \n",
       "161293  1.039080e+08    10692.961472  1.012978e+16  1.042435e+12   \n",
       "240697  2.857770e+08  1009379.928123  3.499452e+14  1.236025e+12   \n",
       "255884  1.456043e+08    99896.124177  1.265902e+15  8.685090e+11   \n",
       "\n",
       "                X_42             X_43  \n",
       "228531  1.079630e+09    895183.852102  \n",
       "154117  3.943698e+07      7958.944807  \n",
       "161293  1.072749e+08     11039.439087  \n",
       "240697  4.365708e+09  15419915.616329  \n",
       "255884  5.958660e+08    408811.362257  \n",
       "\n",
       "[5 rows x 12 columns]"
      ]
     },
     "execution_count": 24,
     "metadata": {},
     "output_type": "execute_result"
    }
   ],
   "source": [
    "for i in range(1, degree):\n",
    "    for j in range(0, i):\n",
    "        frame_log['X_' + str(i) + str(j)] = np.power(x1, i-j) * np.power(x2, j)\n",
    "\n",
    "frame_log.drop('X1', axis=1, inplace=True)\n",
    "frame_log.drop('X2', axis=1, inplace=True)\n",
    "\n",
    "frame_log.head()"
   ]
  },
  {
   "cell_type": "code",
   "execution_count": 25,
   "metadata": {
    "collapsed": false
   },
   "outputs": [
    {
     "name": "stdout",
     "output_type": "stream",
     "text": [
      "        Ones        X_10          X_20          X_21          X_30  \\\n",
      "228531     1   6295.0618  3.962780e+07  32857.719050  2.494595e+11   \n",
      "154117     1   5578.2760  3.111716e+07   6279.887011  1.735801e+11   \n",
      "161293     1  10032.2880  1.006468e+08  10357.358209  1.009718e+12   \n",
      "240697     1   4325.1383  1.870682e+07  66073.502907  8.090959e+10   \n",
      "255884     1   5964.8565  3.557951e+07  24410.367585  2.122267e+11   \n",
      "\n",
      "                X_31            X_32          X_40          X_41  \\\n",
      "228531  2.068414e+08   171504.225926  1.570363e+15  1.302079e+12   \n",
      "154117  3.503094e+07     7069.743568  9.682778e+14  1.954123e+11   \n",
      "161293  1.039080e+08    10692.961472  1.012978e+16  1.042435e+12   \n",
      "240697  2.857770e+08  1009379.928123  3.499452e+14  1.236025e+12   \n",
      "255884  1.456043e+08    99896.124177  1.265902e+15  8.685090e+11   \n",
      "\n",
      "                X_42             X_43  \n",
      "228531  1.079630e+09    895183.852102  \n",
      "154117  3.943698e+07      7958.944807  \n",
      "161293  1.072749e+08     11039.439087  \n",
      "240697  4.365708e+09  15419915.616329  \n",
      "255884  5.958660e+08    408811.362257  \n",
      "\n",
      "[5 rows x 11 columns]\n",
      "        Y\n",
      "228531  0\n",
      "154117  0\n",
      "161293  0\n",
      "240697  0\n",
      "255884  0\n",
      "\n",
      "[5 rows x 1 columns]\n"
     ]
    }
   ],
   "source": [
    "# set X and y (remember from above that we moved the label to column 0)\n",
    "cols = frame_log.shape[1]\n",
    "X2 = frame_log.iloc[:,1:cols]\n",
    "y2 = frame_log.iloc[:,0:1]\n",
    "\n",
    "print X2.head()\n",
    "print y2.head()\n",
    "\n",
    "# convert to numpy arrays and initalize the parameter array theta\n",
    "X2 = np.array(X2.values)\n",
    "y2 = np.array(y2.values)\n",
    "theta2 = np.zeros(11)\n"
   ]
  },
  {
   "cell_type": "code",
   "execution_count": 26,
   "metadata": {
    "collapsed": false
   },
   "outputs": [
    {
     "name": "stdout",
     "output_type": "stream",
     "text": [
      "(285988, 11) (285988, 1) (11,)\n",
      "<type 'numpy.ndarray'> <type 'numpy.ndarray'> <type 'numpy.ndarray'>\n"
     ]
    }
   ],
   "source": [
    "print X2.shape, y2.shape, theta2.shape\n",
    "print type(X2), type(y2), type(theta2)"
   ]
  },
  {
   "cell_type": "code",
   "execution_count": 27,
   "metadata": {
    "collapsed": false
   },
   "outputs": [
    {
     "name": "stdout",
     "output_type": "stream",
     "text": [
      "0.693147180563\n",
      "[  0.00000000e+00   3.68297206e-14   9.11822597e-12   1.36991193e+03\n",
      "   4.78633876e-06   7.87212382e+06   1.09936057e+04  -3.51330301e-02\n",
      "   4.75060811e+10   5.90362937e+07   8.27758228e+04]\n"
     ]
    }
   ],
   "source": [
    "learningRate = 1 #0.000001\n",
    "print costReg(theta2, X2, y2, learningRate)\n",
    "print gradientReg(theta2, X2, y2, learningRate)"
   ]
  },
  {
   "cell_type": "code",
   "execution_count": 28,
   "metadata": {
    "collapsed": false
   },
   "outputs": [
    {
     "name": "stdout",
     "output_type": "stream",
     "text": [
      "(array([ 0.,  0.,  0.,  0.,  0.,  0.,  0.,  0.,  0.,  0.,  0.]), 68, 4)\n",
      "Linear search failed\n"
     ]
    }
   ],
   "source": [
    "#Not sure why all theta value is 0, search failed..????\n",
    "result2 = opt.fmin_tnc(func=costReg, x0=theta2, fprime=gradientReg, args=(X2, y2, learningRate))\n",
    "print result2\n",
    "print opt.tnc.RCSTRINGS[4]"
   ]
  },
  {
   "cell_type": "code",
   "execution_count": 29,
   "metadata": {
    "collapsed": false
   },
   "outputs": [
    {
     "name": "stdout",
     "output_type": "stream",
     "text": [
      "accuracy = 50.0%\n"
     ]
    }
   ],
   "source": [
    "theta_min = np.matrix(result2[0])\n",
    "predictions = predict(theta_min, X2)\n",
    "correct = [1 if ((a == 1 and b == 1) or (a == 0 and b == 0)) else 0 for (a, b) in zip(predictions, y2)]\n",
    "accuracy = (sum(map(int, correct)) / float(len(correct)))\n",
    "print 'accuracy = {0}%'.format(accuracy*100)"
   ]
  },
  {
   "cell_type": "markdown",
   "metadata": {},
   "source": [
    "## Logistic Regression (Sklearn)"
   ]
  },
  {
   "cell_type": "code",
   "execution_count": 270,
   "metadata": {
    "collapsed": false
   },
   "outputs": [
    {
     "name": "stdout",
     "output_type": "stream",
     "text": [
      "0.75\n"
     ]
    }
   ],
   "source": [
    "#Logistic Regression-sklearn\n",
    "logReg = LogisticRegression()\n",
    "logReg.fit(X_train,Y_train)\n",
    "Y_logPred = logReg.predict(X_test)\n",
    "print metrics.accuracy_score(Y_test,Y_logPred)"
   ]
  },
  {
   "cell_type": "markdown",
   "metadata": {},
   "source": [
    "Confusion matrix of the model."
   ]
  },
  {
   "cell_type": "code",
   "execution_count": 271,
   "metadata": {
    "collapsed": false
   },
   "outputs": [
    {
     "name": "stdout",
     "output_type": "stream",
     "text": [
      "[[2 0]\n",
      " [1 1]]\n"
     ]
    },
    {
     "name": "stderr",
     "output_type": "stream",
     "text": [
      "/usr/local/lib/python2.7/dist-packages/numpy/core/fromnumeric.py:2507: VisibleDeprecationWarning: `rank` is deprecated; use the `ndim` attribute or function instead. To find the rank of a matrix see `numpy.linalg.matrix_rank`.\n",
      "  VisibleDeprecationWarning)\n"
     ]
    }
   ],
   "source": [
    "#Confusion matrix of logistic regression\n",
    "conf = metrics.confusion_matrix(Y_test,Y_logPred)\n",
    "#plt.imshow(conf)\n",
    "print conf"
   ]
  },
  {
   "cell_type": "code",
   "execution_count": 272,
   "metadata": {
    "collapsed": false
   },
   "outputs": [
    {
     "data": {
      "text/plain": [
       "0.6362889173817273"
      ]
     },
     "execution_count": 272,
     "metadata": {},
     "output_type": "execute_result"
    }
   ],
   "source": [
    "#Accuracy calculation other way..\n",
    "(9453+9901)/float(9453+9901+5733+5330)"
   ]
  },
  {
   "cell_type": "markdown",
   "metadata": {},
   "source": [
    "## K-Neighbors "
   ]
  },
  {
   "cell_type": "code",
   "execution_count": 273,
   "metadata": {
    "collapsed": false
   },
   "outputs": [
    {
     "name": "stdout",
     "output_type": "stream",
     "text": [
      "0.25\n",
      "[[1 1]\n",
      " [2 0]]\n"
     ]
    }
   ],
   "source": [
    "# KNeighbours classification\n",
    "knn = KNeighborsClassifier(n_neighbors=5)\n",
    "\n",
    "knn.fit(X_train,Y_train)\n",
    "Y_pred = knn.predict(X_test)\n",
    "print metrics.accuracy_score(Y_test, Y_pred)\n",
    "conf = metrics.confusion_matrix(Y_test, Y_pred)\n",
    "#plt.imshow(conf)\n",
    "print conf"
   ]
  },
  {
   "cell_type": "code",
   "execution_count": 274,
   "metadata": {
    "collapsed": false
   },
   "outputs": [
    {
     "data": {
      "text/plain": [
       "0.5317092415425584"
      ]
     },
     "execution_count": 274,
     "metadata": {},
     "output_type": "execute_result"
    }
   ],
   "source": [
    "(7776+8397)/float(7776+8397+7432+6812)"
   ]
  },
  {
   "cell_type": "markdown",
   "metadata": {},
   "source": [
    "## Random Forest"
   ]
  },
  {
   "cell_type": "code",
   "execution_count": 275,
   "metadata": {
    "collapsed": false
   },
   "outputs": [
    {
     "name": "stdout",
     "output_type": "stream",
     "text": [
      "0.5\n"
     ]
    }
   ],
   "source": [
    "#Random Forest Classification\n",
    "randForest = RandomForestClassifier(n_estimators=30)\n",
    "randForest.fit(X_train,Y_train)\n",
    "Y_randForestPred = randForest.predict(X_test)\n",
    "print metrics.accuracy_score(Y_test,Y_randForestPred)"
   ]
  },
  {
   "cell_type": "code",
   "execution_count": 276,
   "metadata": {
    "collapsed": false
   },
   "outputs": [
    {
     "name": "stdout",
     "output_type": "stream",
     "text": [
      "[[1 1]\n",
      " [1 1]]\n"
     ]
    }
   ],
   "source": [
    "#Confusion matrix for randomforest\n",
    "conf2 = metrics.confusion_matrix(Y_test,Y_randForestPred)\n",
    "#plt.imshow(conf2)\n",
    "print conf2"
   ]
  },
  {
   "cell_type": "code",
   "execution_count": 277,
   "metadata": {
    "collapsed": false
   },
   "outputs": [
    {
     "data": {
      "text/plain": [
       "0.613308347305783"
      ]
     },
     "execution_count": 277,
     "metadata": {},
     "output_type": "execute_result"
    }
   ],
   "source": [
    "(9569+9086)/float(9569+9086+5639+6123)"
   ]
  },
  {
   "cell_type": "markdown",
   "metadata": {},
   "source": [
    "## Support vector machine"
   ]
  },
  {
   "cell_type": "code",
   "execution_count": 278,
   "metadata": {
    "collapsed": false
   },
   "outputs": [
    {
     "data": {
      "text/plain": [
       "LinearSVC(C=10, class_weight=None, dual=True, fit_intercept=True,\n",
       "     intercept_scaling=1, loss='hinge', max_iter=1000, multi_class='ovr',\n",
       "     penalty='l2', random_state=None, tol=0.0001, verbose=0)"
      ]
     },
     "execution_count": 278,
     "metadata": {},
     "output_type": "execute_result"
    }
   ],
   "source": [
    "#Support Vector Machine\n",
    "svc = svm.LinearSVC(C=10, loss='hinge', max_iter=1000)\n",
    "svc"
   ]
  },
  {
   "cell_type": "code",
   "execution_count": 279,
   "metadata": {
    "collapsed": false
   },
   "outputs": [
    {
     "data": {
      "text/plain": [
       "0.5"
      ]
     },
     "execution_count": 279,
     "metadata": {},
     "output_type": "execute_result"
    }
   ],
   "source": [
    "svc.fit(X_train,Y_train)\n",
    "svc.score(X_test, Y_test)"
   ]
  },
  {
   "cell_type": "code",
   "execution_count": null,
   "metadata": {
    "collapsed": true
   },
   "outputs": [],
   "source": []
  }
 ],
 "metadata": {
  "kernelspec": {
   "display_name": "Python 2",
   "language": "python",
   "name": "python2"
  },
  "language_info": {
   "codemirror_mode": {
    "name": "ipython",
    "version": 2
   },
   "file_extension": ".py",
   "mimetype": "text/x-python",
   "name": "python",
   "nbconvert_exporter": "python",
   "pygments_lexer": "ipython2",
   "version": "2.7.6"
  }
 },
 "nbformat": 4,
 "nbformat_minor": 0
}
